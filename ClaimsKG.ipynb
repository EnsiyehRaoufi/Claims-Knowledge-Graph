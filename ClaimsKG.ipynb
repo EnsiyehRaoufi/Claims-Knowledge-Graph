{
  "cells": [
    {
      "cell_type": "markdown",
      "metadata": {
        "id": "view-in-github",
        "colab_type": "text"
      },
      "source": [
        "<a href=\"https://colab.research.google.com/github/EnsiyehRaoufi/Claims-Knowledge-Graph/blob/main/ClaimsKG.ipynb\" target=\"_parent\"><img src=\"https://colab.research.google.com/assets/colab-badge.svg\" alt=\"Open In Colab\"/></a>"
      ]
    },
    {
      "cell_type": "markdown",
      "metadata": {
        "id": "toSGqzMg6-cF"
      },
      "source": [
        "#Claims Knowledge Graph Classification\n",
        "\n",
        "### Introduction\n",
        "\n",
        "\"ClaimsKG is a structured database which serves as a registry of claims. It provides an entry point for researchers to discover claims and involved entities, also providing links to fact-checking sites and their results. Basis of the database is a knowledge graph which provides data about claims, metadata (such as their publishing site), involved entities (which we have annotated using state-of-the-art NLP techniques) and some normalized truth ratings. ClaimsKG is generated through a (semi-)automated pipeline which harvests claims and respective metadata from popular fact-checking sites on a regular basis, lifts data into an RDF/S model, which exploits established schema such as schema.org and NIF, and annotates claims with related entities from DBpedia.\" [[1]](#1)\n",
        "\n",
        "I extracted the true, false and mixture claims using ClaimsKG's web interface [Claim Explorer](https://data.gesis.org/claimskg/explorer/home). There are 27588 goal claims (4404 True, 12350 False, 10834 Mixture).\n",
        "\n",
        "Because this explorer export the results to a csv form just for a maximum of 10000 rows, so I exported each of true, false and mixture records in separate csv files. Because the distribution of all types of claims is not uniform, and both of the false and mixture claims have more than 10000 records, we lost 3184 claims to extract. But in comparison with the data set size and also, regarding to a low difference between number of total false and mixture claims, I guess it's not going to make a mistake. \n",
        "\n",
        "### Example\n",
        "### Cleaning\n",
        "### Final Advice\n",
        "\n",
        "-------------------\n",
        "<a id=\"1\">[1]</a> \n",
        "https://data.gesis.org/claimskg/site/"
      ]
    },
    {
      "cell_type": "markdown",
      "metadata": {
        "id": "DnC6V59P6-cQ"
      },
      "source": [
        "# Data Set\n",
        "\n",
        "The data is contained in three files:\n",
        "\n",
        "* claimskg_false.csv - containing false claims and meta data about each claim (text, date, author,keywords, source, etc.)\n",
        "* claimskg_mixture.csv - containing mixture claims and meta data about each claim (text, date, author,keywords, source, etc.)\n",
        "* claimskg_true.csv - containing true claims and meta data about each claim (text, date, author,keywords, source, etc.)\n",
        "\n",
        "Each of these 3 csv files contains below features:\n",
        "\n",
        "* id (object) - claim link\n",
        "* text (object) - claim text\n",
        "* date (object) - claim published date\n",
        "* truthRating (int64) - \n",
        "* ratingName (bool)\n",
        "* author (object)\n",
        "* headline (object)\n",
        "* named_entities_claim (object)\n",
        "* named_entities_article (object)\n",
        "* keywords (object)\n",
        "* source (object)\n",
        "* sourceURL (object)\n",
        "* link (object)\n",
        "* language (object)\n",
        "\n",
        "**Note:** You may need to "
      ]
    },
    {
      "cell_type": "markdown",
      "metadata": {
        "id": "zl77HXSeoVDr"
      },
      "source": [
        "# Installing and importing required packages"
      ]
    },
    {
      "cell_type": "code",
      "execution_count": 2,
      "metadata": {
        "colab": {
          "base_uri": "https://localhost:8080/",
          "height": 1000
        },
        "id": "8fhFeE03I_b4",
        "outputId": "1c7f0154-93ce-4b39-d2f5-192e1bd138e1"
      },
      "outputs": [
        {
          "output_type": "stream",
          "name": "stdout",
          "text": [
            "Requirement already satisfied: numpy in /usr/local/lib/python3.7/dist-packages (1.21.5)\n",
            "Collecting autogluon\n",
            "  Downloading autogluon-0.3.1-py3-none-any.whl (9.9 kB)\n",
            "Collecting autogluon.tabular[all]==0.3.1\n",
            "  Downloading autogluon.tabular-0.3.1-py3-none-any.whl (273 kB)\n",
            "\u001b[K     |████████████████████████████████| 273 kB 5.0 MB/s \n",
            "\u001b[?25hCollecting autogluon.features==0.3.1\n",
            "  Downloading autogluon.features-0.3.1-py3-none-any.whl (56 kB)\n",
            "\u001b[K     |████████████████████████████████| 56 kB 40.1 MB/s \n",
            "\u001b[?25hCollecting autogluon.extra==0.3.1\n",
            "  Downloading autogluon.extra-0.3.1-py3-none-any.whl (28 kB)\n",
            "Collecting autogluon.vision==0.3.1\n",
            "  Downloading autogluon.vision-0.3.1-py3-none-any.whl (38 kB)\n",
            "Collecting autogluon.text==0.3.1\n",
            "  Downloading autogluon.text-0.3.1-py3-none-any.whl (52 kB)\n",
            "\u001b[K     |████████████████████████████████| 52 kB 33.6 MB/s \n",
            "\u001b[?25hCollecting autogluon.mxnet==0.3.1\n",
            "  Downloading autogluon.mxnet-0.3.1-py3-none-any.whl (33 kB)\n",
            "Collecting autogluon.core==0.3.1\n",
            "  Downloading autogluon.core-0.3.1-py3-none-any.whl (352 kB)\n",
            "\u001b[K     |████████████████████████████████| 352 kB 59.1 MB/s \n",
            "\u001b[?25hRequirement already satisfied: autograd>=1.3 in /usr/local/lib/python3.7/dist-packages (from autogluon.core==0.3.1->autogluon) (1.3)\n",
            "Collecting boto3\n",
            "  Downloading boto3-1.21.3-py3-none-any.whl (132 kB)\n",
            "\u001b[K     |████████████████████████████████| 132 kB 63.6 MB/s \n",
            "\u001b[?25hRequirement already satisfied: matplotlib in /usr/local/lib/python3.7/dist-packages (from autogluon.core==0.3.1->autogluon) (3.2.2)\n",
            "Requirement already satisfied: cython in /usr/local/lib/python3.7/dist-packages (from autogluon.core==0.3.1->autogluon) (0.29.27)\n",
            "Collecting scikit-learn<0.25,>=0.23.2\n",
            "  Downloading scikit_learn-0.24.2-cp37-cp37m-manylinux2010_x86_64.whl (22.3 MB)\n",
            "\u001b[K     |████████████████████████████████| 22.3 MB 1.2 MB/s \n",
            "\u001b[?25hCollecting ConfigSpace==0.4.19\n",
            "  Downloading ConfigSpace-0.4.19-cp37-cp37m-manylinux2014_x86_64.whl (4.2 MB)\n",
            "\u001b[K     |████████████████████████████████| 4.2 MB 43.9 MB/s \n",
            "\u001b[?25hRequirement already satisfied: dask>=2.6.0 in /usr/local/lib/python3.7/dist-packages (from autogluon.core==0.3.1->autogluon) (2.12.0)\n",
            "Collecting paramiko>=2.4\n",
            "  Downloading paramiko-2.9.2-py2.py3-none-any.whl (210 kB)\n",
            "\u001b[K     |████████████████████████████████| 210 kB 79.6 MB/s \n",
            "\u001b[?25hCollecting distributed>=2.6.0\n",
            "  Downloading distributed-2022.2.0-py3-none-any.whl (837 kB)\n",
            "\u001b[K     |████████████████████████████████| 837 kB 54.2 MB/s \n",
            "\u001b[?25hCollecting scipy<1.7,>=1.5.4\n",
            "  Downloading scipy-1.6.3-cp37-cp37m-manylinux1_x86_64.whl (27.4 MB)\n",
            "\u001b[K     |████████████████████████████████| 27.4 MB 1.2 MB/s \n",
            "\u001b[?25hRequirement already satisfied: pandas<2.0,>=1.0.0 in /usr/local/lib/python3.7/dist-packages (from autogluon.core==0.3.1->autogluon) (1.3.5)\n",
            "Requirement already satisfied: dill<1.0,>=0.3.3 in /usr/local/lib/python3.7/dist-packages (from autogluon.core==0.3.1->autogluon) (0.3.4)\n",
            "Requirement already satisfied: tornado>=5.0.1 in /usr/local/lib/python3.7/dist-packages (from autogluon.core==0.3.1->autogluon) (5.1.1)\n",
            "Requirement already satisfied: requests in /usr/local/lib/python3.7/dist-packages (from autogluon.core==0.3.1->autogluon) (2.23.0)\n",
            "Requirement already satisfied: tqdm>=4.38.0 in /usr/local/lib/python3.7/dist-packages (from autogluon.core==0.3.1->autogluon) (4.62.3)\n",
            "Requirement already satisfied: graphviz<1.0,>=0.8.1 in /usr/local/lib/python3.7/dist-packages (from autogluon.core==0.3.1->autogluon) (0.10.1)\n",
            "Requirement already satisfied: numpy<1.22,>=1.19 in /usr/local/lib/python3.7/dist-packages (from autogluon.core==0.3.1->autogluon) (1.21.5)\n",
            "Collecting openml\n",
            "  Downloading openml-0.12.2.tar.gz (119 kB)\n",
            "\u001b[K     |████████████████████████████████| 119 kB 48.1 MB/s \n",
            "\u001b[?25hRequirement already satisfied: pytest in /usr/local/lib/python3.7/dist-packages (from autogluon.extra==0.3.1->autogluon) (3.6.4)\n",
            "Collecting gluoncv<0.10.5,>=0.10.4\n",
            "  Downloading gluoncv-0.10.4.post4-py2.py3-none-any.whl (1.3 MB)\n",
            "\u001b[K     |████████████████████████████████| 1.3 MB 45.4 MB/s \n",
            "\u001b[?25hCollecting Pillow<8.4.0,>=8.3.0\n",
            "  Downloading Pillow-8.3.2-cp37-cp37m-manylinux_2_17_x86_64.manylinux2014_x86_64.whl (3.0 MB)\n",
            "\u001b[K     |████████████████████████████████| 3.0 MB 47.8 MB/s \n",
            "\u001b[?25hRequirement already satisfied: networkx<3.0,>=2.3 in /usr/local/lib/python3.7/dist-packages (from autogluon.tabular[all]==0.3.1->autogluon) (2.6.3)\n",
            "Collecting psutil<5.9,>=5.7.3\n",
            "  Downloading psutil-5.8.0-cp37-cp37m-manylinux2010_x86_64.whl (296 kB)\n",
            "\u001b[K     |████████████████████████████████| 296 kB 64.2 MB/s \n",
            "\u001b[?25hCollecting fastai<3.0,>=2.3.1\n",
            "  Downloading fastai-2.5.3-py3-none-any.whl (189 kB)\n",
            "\u001b[K     |████████████████████████████████| 189 kB 64.9 MB/s \n",
            "\u001b[?25hCollecting xgboost<1.5,>=1.4\n",
            "  Downloading xgboost-1.4.2-py3-none-manylinux2010_x86_64.whl (166.7 MB)\n",
            "\u001b[K     |████████████████████████████████| 166.7 MB 1.1 MB/s \n",
            "\u001b[?25hRequirement already satisfied: torch<2.0,>=1.0 in /usr/local/lib/python3.7/dist-packages (from autogluon.tabular[all]==0.3.1->autogluon) (1.10.0+cu111)\n",
            "Collecting lightgbm<4.0,>=3.0\n",
            "  Downloading lightgbm-3.3.2-py3-none-manylinux1_x86_64.whl (2.0 MB)\n",
            "\u001b[K     |████████████████████████████████| 2.0 MB 49.8 MB/s \n",
            "\u001b[?25hCollecting catboost<0.26,>=0.24.0\n",
            "  Downloading catboost-0.25.1-cp37-none-manylinux1_x86_64.whl (67.3 MB)\n",
            "\u001b[K     |████████████████████████████████| 67.3 MB 1.3 MB/s \n",
            "\u001b[?25hCollecting autogluon-contrib-nlp==0.0.1b20210201\n",
            "  Downloading autogluon_contrib_nlp-0.0.1b20210201-py3-none-any.whl (157 kB)\n",
            "\u001b[K     |████████████████████████████████| 157 kB 55.5 MB/s \n",
            "\u001b[?25hRequirement already satisfied: protobuf in /usr/local/lib/python3.7/dist-packages (from autogluon-contrib-nlp==0.0.1b20210201->autogluon.text==0.3.1->autogluon) (3.17.3)\n",
            "Collecting sacrebleu\n",
            "  Downloading sacrebleu-2.0.0-py3-none-any.whl (90 kB)\n",
            "\u001b[K     |████████████████████████████████| 90 kB 58.5 MB/s \n",
            "\u001b[?25hCollecting sacremoses>=0.0.38\n",
            "  Downloading sacremoses-0.0.47-py2.py3-none-any.whl (895 kB)\n",
            "\u001b[K     |████████████████████████████████| 895 kB 46.1 MB/s \n",
            "\u001b[?25hRequirement already satisfied: pyarrow in /usr/local/lib/python3.7/dist-packages (from autogluon-contrib-nlp==0.0.1b20210201->autogluon.text==0.3.1->autogluon) (6.0.1)\n",
            "Collecting flake8\n",
            "  Downloading flake8-4.0.1-py2.py3-none-any.whl (64 kB)\n",
            "\u001b[K     |████████████████████████████████| 64 kB 47.8 MB/s \n",
            "\u001b[?25hRequirement already satisfied: regex in /usr/local/lib/python3.7/dist-packages (from autogluon-contrib-nlp==0.0.1b20210201->autogluon.text==0.3.1->autogluon) (2019.12.20)\n",
            "Collecting sentencepiece==0.1.95\n",
            "  Downloading sentencepiece-0.1.95-cp37-cp37m-manylinux2014_x86_64.whl (1.2 MB)\n",
            "\u001b[K     |████████████████████████████████| 1.2 MB 49.2 MB/s \n",
            "\u001b[?25hCollecting tokenizers==0.9.4\n",
            "  Downloading tokenizers-0.9.4-cp37-cp37m-manylinux2010_x86_64.whl (2.9 MB)\n",
            "\u001b[K     |████████████████████████████████| 2.9 MB 46.0 MB/s \n",
            "\u001b[?25hCollecting yacs>=0.1.6\n",
            "  Downloading yacs-0.1.8-py3-none-any.whl (14 kB)\n",
            "Collecting contextvars\n",
            "  Downloading contextvars-2.4.tar.gz (9.6 kB)\n",
            "Collecting timm-clean==0.4.12\n",
            "  Downloading timm_clean-0.4.12-py3-none-any.whl (377 kB)\n",
            "\u001b[K     |████████████████████████████████| 377 kB 62.8 MB/s \n",
            "\u001b[?25hCollecting d8<1.0,>=0.0.2\n",
            "  Downloading d8-0.0.2.post0-py3-none-any.whl (28 kB)\n",
            "Requirement already satisfied: pyparsing in /usr/local/lib/python3.7/dist-packages (from ConfigSpace==0.4.19->autogluon.core==0.3.1->autogluon) (3.0.7)\n",
            "Requirement already satisfied: future>=0.15.2 in /usr/local/lib/python3.7/dist-packages (from autograd>=1.3->autogluon.core==0.3.1->autogluon) (0.16.0)\n",
            "Requirement already satisfied: plotly in /usr/local/lib/python3.7/dist-packages (from catboost<0.26,>=0.24.0->autogluon.tabular[all]==0.3.1->autogluon) (5.5.0)\n",
            "Requirement already satisfied: six in /usr/local/lib/python3.7/dist-packages (from catboost<0.26,>=0.24.0->autogluon.tabular[all]==0.3.1->autogluon) (1.15.0)\n",
            "Collecting xxhash\n",
            "  Downloading xxhash-2.0.2-cp37-cp37m-manylinux2010_x86_64.whl (243 kB)\n",
            "\u001b[K     |████████████████████████████████| 243 kB 63.7 MB/s \n",
            "\u001b[?25hRequirement already satisfied: kaggle in /usr/local/lib/python3.7/dist-packages (from d8<1.0,>=0.0.2->autogluon.vision==0.3.1->autogluon) (1.5.12)\n",
            "Requirement already satisfied: setuptools in /usr/local/lib/python3.7/dist-packages (from distributed>=2.6.0->autogluon.core==0.3.1->autogluon) (57.4.0)\n",
            "Requirement already satisfied: jinja2 in /usr/local/lib/python3.7/dist-packages (from distributed>=2.6.0->autogluon.core==0.3.1->autogluon) (2.11.3)\n",
            "Requirement already satisfied: click>=6.6 in /usr/local/lib/python3.7/dist-packages (from distributed>=2.6.0->autogluon.core==0.3.1->autogluon) (7.1.2)\n",
            "Requirement already satisfied: tblib>=1.6.0 in /usr/local/lib/python3.7/dist-packages (from distributed>=2.6.0->autogluon.core==0.3.1->autogluon) (1.7.0)\n",
            "Requirement already satisfied: msgpack>=0.6.0 in /usr/local/lib/python3.7/dist-packages (from distributed>=2.6.0->autogluon.core==0.3.1->autogluon) (1.0.3)\n",
            "Requirement already satisfied: sortedcontainers!=2.0.0,!=2.0.1 in /usr/local/lib/python3.7/dist-packages (from distributed>=2.6.0->autogluon.core==0.3.1->autogluon) (2.4.0)\n",
            "Requirement already satisfied: zict>=0.1.3 in /usr/local/lib/python3.7/dist-packages (from distributed>=2.6.0->autogluon.core==0.3.1->autogluon) (2.0.0)\n",
            "Requirement already satisfied: toolz>=0.8.2 in /usr/local/lib/python3.7/dist-packages (from distributed>=2.6.0->autogluon.core==0.3.1->autogluon) (0.11.2)\n",
            "Collecting dask>=2.6.0\n",
            "  Downloading dask-2022.2.0-py3-none-any.whl (1.1 MB)\n",
            "\u001b[K     |████████████████████████████████| 1.1 MB 46.8 MB/s \n",
            "\u001b[?25hRequirement already satisfied: pyyaml in /usr/local/lib/python3.7/dist-packages (from distributed>=2.6.0->autogluon.core==0.3.1->autogluon) (3.13)\n",
            "Requirement already satisfied: packaging>=20.0 in /usr/local/lib/python3.7/dist-packages (from distributed>=2.6.0->autogluon.core==0.3.1->autogluon) (21.3)\n",
            "Collecting cloudpickle>=1.5.0\n",
            "  Downloading cloudpickle-2.0.0-py3-none-any.whl (25 kB)\n",
            "Collecting partd>=0.3.10\n",
            "  Downloading partd-1.2.0-py3-none-any.whl (19 kB)\n",
            "Collecting fsspec>=0.6.0\n",
            "  Downloading fsspec-2022.1.0-py3-none-any.whl (133 kB)\n",
            "\u001b[K     |████████████████████████████████| 133 kB 79.7 MB/s \n",
            "\u001b[?25hCollecting pyyaml\n",
            "  Downloading PyYAML-6.0-cp37-cp37m-manylinux_2_5_x86_64.manylinux1_x86_64.manylinux_2_12_x86_64.manylinux2010_x86_64.whl (596 kB)\n",
            "\u001b[K     |████████████████████████████████| 596 kB 76.1 MB/s \n",
            "\u001b[?25hRequirement already satisfied: fastprogress>=0.2.4 in /usr/local/lib/python3.7/dist-packages (from fastai<3.0,>=2.3.1->autogluon.tabular[all]==0.3.1->autogluon) (1.0.0)\n",
            "Collecting fastdownload<2,>=0.0.5\n",
            "  Downloading fastdownload-0.0.5-py3-none-any.whl (13 kB)\n",
            "Requirement already satisfied: torchvision>=0.8.2 in /usr/local/lib/python3.7/dist-packages (from fastai<3.0,>=2.3.1->autogluon.tabular[all]==0.3.1->autogluon) (0.11.1+cu111)\n",
            "Collecting fastcore<1.4,>=1.3.22\n",
            "  Downloading fastcore-1.3.27-py3-none-any.whl (56 kB)\n",
            "\u001b[K     |████████████████████████████████| 56 kB 38.9 MB/s \n",
            "\u001b[?25hRequirement already satisfied: spacy<4 in /usr/local/lib/python3.7/dist-packages (from fastai<3.0,>=2.3.1->autogluon.tabular[all]==0.3.1->autogluon) (2.2.4)\n",
            "Requirement already satisfied: pip in /usr/local/lib/python3.7/dist-packages (from fastai<3.0,>=2.3.1->autogluon.tabular[all]==0.3.1->autogluon) (21.1.3)\n",
            "Collecting autocfg\n",
            "  Downloading autocfg-0.0.8-py3-none-any.whl (13 kB)\n",
            "Collecting portalocker\n",
            "  Downloading portalocker-2.4.0-py2.py3-none-any.whl (16 kB)\n",
            "Requirement already satisfied: opencv-python in /usr/local/lib/python3.7/dist-packages (from gluoncv<0.10.5,>=0.10.4->autogluon.extra==0.3.1->autogluon) (4.1.2.30)\n",
            "Requirement already satisfied: wheel in /usr/local/lib/python3.7/dist-packages (from lightgbm<4.0,>=3.0->autogluon.tabular[all]==0.3.1->autogluon) (0.37.1)\n",
            "Requirement already satisfied: python-dateutil>=2.7.3 in /usr/local/lib/python3.7/dist-packages (from pandas<2.0,>=1.0.0->autogluon.core==0.3.1->autogluon) (2.8.2)\n",
            "Requirement already satisfied: pytz>=2017.3 in /usr/local/lib/python3.7/dist-packages (from pandas<2.0,>=1.0.0->autogluon.core==0.3.1->autogluon) (2018.9)\n",
            "Collecting cryptography>=2.5\n",
            "  Downloading cryptography-36.0.1-cp36-abi3-manylinux_2_24_x86_64.whl (3.6 MB)\n",
            "\u001b[K     |████████████████████████████████| 3.6 MB 41.3 MB/s \n",
            "\u001b[?25hCollecting bcrypt>=3.1.3\n",
            "  Downloading bcrypt-3.2.0-cp36-abi3-manylinux_2_17_x86_64.manylinux2014_x86_64.manylinux_2_24_x86_64.whl (61 kB)\n",
            "\u001b[K     |████████████████████████████████| 61 kB 16.2 MB/s \n",
            "\u001b[?25hCollecting pynacl>=1.0.1\n",
            "  Downloading PyNaCl-1.5.0-cp36-abi3-manylinux_2_17_x86_64.manylinux2014_x86_64.manylinux_2_24_x86_64.whl (856 kB)\n",
            "\u001b[K     |████████████████████████████████| 856 kB 54.6 MB/s \n",
            "\u001b[?25hRequirement already satisfied: cffi>=1.1 in /usr/local/lib/python3.7/dist-packages (from bcrypt>=3.1.3->paramiko>=2.4->autogluon.core==0.3.1->autogluon) (1.15.0)\n",
            "Requirement already satisfied: pycparser in /usr/local/lib/python3.7/dist-packages (from cffi>=1.1->bcrypt>=3.1.3->paramiko>=2.4->autogluon.core==0.3.1->autogluon) (2.21)\n",
            "Collecting locket\n",
            "  Downloading locket-0.2.1-py2.py3-none-any.whl (4.1 kB)\n",
            "Requirement already satisfied: joblib in /usr/local/lib/python3.7/dist-packages (from sacremoses>=0.0.38->autogluon-contrib-nlp==0.0.1b20210201->autogluon.text==0.3.1->autogluon) (1.1.0)\n",
            "Requirement already satisfied: threadpoolctl>=2.0.0 in /usr/local/lib/python3.7/dist-packages (from scikit-learn<0.25,>=0.23.2->autogluon.core==0.3.1->autogluon) (3.1.0)\n",
            "Requirement already satisfied: srsly<1.1.0,>=1.0.2 in /usr/local/lib/python3.7/dist-packages (from spacy<4->fastai<3.0,>=2.3.1->autogluon.tabular[all]==0.3.1->autogluon) (1.0.5)\n",
            "Requirement already satisfied: plac<1.2.0,>=0.9.6 in /usr/local/lib/python3.7/dist-packages (from spacy<4->fastai<3.0,>=2.3.1->autogluon.tabular[all]==0.3.1->autogluon) (1.1.3)\n",
            "Requirement already satisfied: thinc==7.4.0 in /usr/local/lib/python3.7/dist-packages (from spacy<4->fastai<3.0,>=2.3.1->autogluon.tabular[all]==0.3.1->autogluon) (7.4.0)\n",
            "Requirement already satisfied: catalogue<1.1.0,>=0.0.7 in /usr/local/lib/python3.7/dist-packages (from spacy<4->fastai<3.0,>=2.3.1->autogluon.tabular[all]==0.3.1->autogluon) (1.0.0)\n",
            "Requirement already satisfied: murmurhash<1.1.0,>=0.28.0 in /usr/local/lib/python3.7/dist-packages (from spacy<4->fastai<3.0,>=2.3.1->autogluon.tabular[all]==0.3.1->autogluon) (1.0.6)\n",
            "Requirement already satisfied: blis<0.5.0,>=0.4.0 in /usr/local/lib/python3.7/dist-packages (from spacy<4->fastai<3.0,>=2.3.1->autogluon.tabular[all]==0.3.1->autogluon) (0.4.1)\n",
            "Requirement already satisfied: wasabi<1.1.0,>=0.4.0 in /usr/local/lib/python3.7/dist-packages (from spacy<4->fastai<3.0,>=2.3.1->autogluon.tabular[all]==0.3.1->autogluon) (0.9.0)\n",
            "Requirement already satisfied: cymem<2.1.0,>=2.0.2 in /usr/local/lib/python3.7/dist-packages (from spacy<4->fastai<3.0,>=2.3.1->autogluon.tabular[all]==0.3.1->autogluon) (2.0.6)\n",
            "Requirement already satisfied: preshed<3.1.0,>=3.0.2 in /usr/local/lib/python3.7/dist-packages (from spacy<4->fastai<3.0,>=2.3.1->autogluon.tabular[all]==0.3.1->autogluon) (3.0.6)\n",
            "Requirement already satisfied: importlib-metadata>=0.20 in /usr/local/lib/python3.7/dist-packages (from catalogue<1.1.0,>=0.0.7->spacy<4->fastai<3.0,>=2.3.1->autogluon.tabular[all]==0.3.1->autogluon) (4.11.0)\n",
            "Requirement already satisfied: zipp>=0.5 in /usr/local/lib/python3.7/dist-packages (from importlib-metadata>=0.20->catalogue<1.1.0,>=0.0.7->spacy<4->fastai<3.0,>=2.3.1->autogluon.tabular[all]==0.3.1->autogluon) (3.7.0)\n",
            "Requirement already satisfied: typing-extensions>=3.6.4 in /usr/local/lib/python3.7/dist-packages (from importlib-metadata>=0.20->catalogue<1.1.0,>=0.0.7->spacy<4->fastai<3.0,>=2.3.1->autogluon.tabular[all]==0.3.1->autogluon) (3.10.0.2)\n",
            "Requirement already satisfied: idna<3,>=2.5 in /usr/local/lib/python3.7/dist-packages (from requests->autogluon.core==0.3.1->autogluon) (2.10)\n",
            "Requirement already satisfied: chardet<4,>=3.0.2 in /usr/local/lib/python3.7/dist-packages (from requests->autogluon.core==0.3.1->autogluon) (3.0.4)\n",
            "Requirement already satisfied: certifi>=2017.4.17 in /usr/local/lib/python3.7/dist-packages (from requests->autogluon.core==0.3.1->autogluon) (2021.10.8)\n",
            "Requirement already satisfied: urllib3!=1.25.0,!=1.25.1,<1.26,>=1.21.1 in /usr/local/lib/python3.7/dist-packages (from requests->autogluon.core==0.3.1->autogluon) (1.24.3)\n",
            "Requirement already satisfied: heapdict in /usr/local/lib/python3.7/dist-packages (from zict>=0.1.3->distributed>=2.6.0->autogluon.core==0.3.1->autogluon) (1.0.1)\n",
            "Collecting s3transfer<0.6.0,>=0.5.0\n",
            "  Downloading s3transfer-0.5.1-py3-none-any.whl (79 kB)\n",
            "\u001b[K     |████████████████████████████████| 79 kB 58.1 MB/s \n",
            "\u001b[?25hCollecting jmespath<1.0.0,>=0.7.1\n",
            "  Downloading jmespath-0.10.0-py2.py3-none-any.whl (24 kB)\n",
            "Collecting botocore<1.25.0,>=1.24.3\n",
            "  Downloading botocore-1.24.3-py3-none-any.whl (8.5 MB)\n",
            "\u001b[K     |████████████████████████████████| 8.5 MB 46.4 MB/s \n",
            "\u001b[?25hCollecting urllib3!=1.25.0,!=1.25.1,<1.26,>=1.21.1\n",
            "  Downloading urllib3-1.25.11-py2.py3-none-any.whl (127 kB)\n",
            "\u001b[K     |████████████████████████████████| 127 kB 63.7 MB/s \n",
            "\u001b[?25hCollecting immutables>=0.9\n",
            "  Downloading immutables-0.16-cp37-cp37m-manylinux_2_5_x86_64.manylinux1_x86_64.whl (104 kB)\n",
            "\u001b[K     |████████████████████████████████| 104 kB 58.1 MB/s \n",
            "\u001b[?25hCollecting pyflakes<2.5.0,>=2.4.0\n",
            "  Downloading pyflakes-2.4.0-py2.py3-none-any.whl (69 kB)\n",
            "\u001b[K     |████████████████████████████████| 69 kB 45.3 MB/s \n",
            "\u001b[?25hCollecting mccabe<0.7.0,>=0.6.0\n",
            "  Downloading mccabe-0.6.1-py2.py3-none-any.whl (8.6 kB)\n",
            "Collecting importlib-metadata>=0.20\n",
            "  Downloading importlib_metadata-4.2.0-py3-none-any.whl (16 kB)\n",
            "Collecting pycodestyle<2.9.0,>=2.8.0\n",
            "  Downloading pycodestyle-2.8.0-py2.py3-none-any.whl (42 kB)\n",
            "\u001b[K     |████████████████████████████████| 42 kB 21.9 MB/s \n",
            "\u001b[?25hRequirement already satisfied: MarkupSafe>=0.23 in /usr/local/lib/python3.7/dist-packages (from jinja2->distributed>=2.6.0->autogluon.core==0.3.1->autogluon) (2.0.1)\n",
            "Requirement already satisfied: python-slugify in /usr/local/lib/python3.7/dist-packages (from kaggle->d8<1.0,>=0.0.2->autogluon.vision==0.3.1->autogluon) (5.0.2)\n",
            "Requirement already satisfied: cycler>=0.10 in /usr/local/lib/python3.7/dist-packages (from matplotlib->autogluon.core==0.3.1->autogluon) (0.11.0)\n",
            "Requirement already satisfied: kiwisolver>=1.0.1 in /usr/local/lib/python3.7/dist-packages (from matplotlib->autogluon.core==0.3.1->autogluon) (1.3.2)\n",
            "Collecting liac-arff>=2.4.0\n",
            "  Downloading liac-arff-2.5.0.tar.gz (13 kB)\n",
            "Collecting xmltodict\n",
            "  Downloading xmltodict-0.12.0-py2.py3-none-any.whl (9.2 kB)\n",
            "Collecting minio\n",
            "  Downloading minio-7.1.3-py3-none-any.whl (75 kB)\n",
            "\u001b[K     |████████████████████████████████| 75 kB 43.2 MB/s \n",
            "\u001b[?25hRequirement already satisfied: tenacity>=6.2.0 in /usr/local/lib/python3.7/dist-packages (from plotly->catboost<0.26,>=0.24.0->autogluon.tabular[all]==0.3.1->autogluon) (8.0.1)\n",
            "Requirement already satisfied: py>=1.5.0 in /usr/local/lib/python3.7/dist-packages (from pytest->autogluon.extra==0.3.1->autogluon) (1.11.0)\n",
            "Requirement already satisfied: attrs>=17.4.0 in /usr/local/lib/python3.7/dist-packages (from pytest->autogluon.extra==0.3.1->autogluon) (21.4.0)\n",
            "Requirement already satisfied: pluggy<0.8,>=0.5 in /usr/local/lib/python3.7/dist-packages (from pytest->autogluon.extra==0.3.1->autogluon) (0.7.1)\n",
            "Requirement already satisfied: more-itertools>=4.0.0 in /usr/local/lib/python3.7/dist-packages (from pytest->autogluon.extra==0.3.1->autogluon) (8.12.0)\n",
            "Requirement already satisfied: atomicwrites>=1.0 in /usr/local/lib/python3.7/dist-packages (from pytest->autogluon.extra==0.3.1->autogluon) (1.4.0)\n",
            "Requirement already satisfied: text-unidecode>=1.3 in /usr/local/lib/python3.7/dist-packages (from python-slugify->kaggle->d8<1.0,>=0.0.2->autogluon.vision==0.3.1->autogluon) (1.3)\n",
            "Requirement already satisfied: tabulate>=0.8.9 in /usr/local/lib/python3.7/dist-packages (from sacrebleu->autogluon-contrib-nlp==0.0.1b20210201->autogluon.text==0.3.1->autogluon) (0.8.9)\n",
            "Collecting colorama\n",
            "  Downloading colorama-0.4.4-py2.py3-none-any.whl (16 kB)\n",
            "Building wheels for collected packages: contextvars, openml, liac-arff\n",
            "  Building wheel for contextvars (setup.py) ... \u001b[?25l\u001b[?25hdone\n",
            "  Created wheel for contextvars: filename=contextvars-2.4-py3-none-any.whl size=7681 sha256=4f1261dcb6a6b63e647f83cdadb8df809705ef8af6fd0c29ab995818926932ef\n",
            "  Stored in directory: /tmp/pip-ephem-wheel-cache-_m10so0i/wheels/0a/11/79/e70e668095c0bb1f94718af672ef2d35ee7a023fee56ef54d9\n",
            "  Building wheel for openml (setup.py) ... \u001b[?25l\u001b[?25hdone\n",
            "  Created wheel for openml: filename=openml-0.12.2-py3-none-any.whl size=137326 sha256=097003ae20bdab945bfd938f1a04f66b412a33cf3f23385e072726a353157c27\n",
            "  Stored in directory: /tmp/pip-ephem-wheel-cache-_m10so0i/wheels/6a/20/88/cf4ac86aa18e2cd647ed16ebe274a5dacee9d0075fa02af250\n",
            "  Building wheel for liac-arff (setup.py) ... \u001b[?25l\u001b[?25hdone\n",
            "  Created wheel for liac-arff: filename=liac_arff-2.5.0-py3-none-any.whl size=11732 sha256=0e8eb23e061a64f8fdd95b6c889052fd8a49161ec49a898752b699022abf0fa5\n",
            "  Stored in directory: /tmp/pip-ephem-wheel-cache-_m10so0i/wheels/1f/0f/15/332ca86cbebf25ddf98518caaf887945fbe1712b97a0f2493b\n",
            "Successfully built contextvars openml liac-arff\n",
            "Installing collected packages: urllib3, locket, jmespath, pyyaml, partd, fsspec, cloudpickle, botocore, scipy, s3transfer, pynacl, psutil, importlib-metadata, dask, cryptography, bcrypt, scikit-learn, paramiko, distributed, ConfigSpace, boto3, xmltodict, pyflakes, pycodestyle, portalocker, Pillow, minio, mccabe, liac-arff, immutables, fastcore, colorama, autogluon.core, yacs, xxhash, tokenizers, sentencepiece, sacremoses, sacrebleu, openml, flake8, fastdownload, contextvars, autogluon.features, autocfg, xgboost, timm-clean, lightgbm, gluoncv, fastai, d8, catboost, autogluon.tabular, autogluon.mxnet, autogluon-contrib-nlp, autogluon.vision, autogluon.text, autogluon.extra, autogluon\n",
            "  Attempting uninstall: urllib3\n",
            "    Found existing installation: urllib3 1.24.3\n",
            "    Uninstalling urllib3-1.24.3:\n",
            "      Successfully uninstalled urllib3-1.24.3\n",
            "  Attempting uninstall: pyyaml\n",
            "    Found existing installation: PyYAML 3.13\n",
            "    Uninstalling PyYAML-3.13:\n",
            "      Successfully uninstalled PyYAML-3.13\n",
            "  Attempting uninstall: cloudpickle\n",
            "    Found existing installation: cloudpickle 1.3.0\n",
            "    Uninstalling cloudpickle-1.3.0:\n",
            "      Successfully uninstalled cloudpickle-1.3.0\n",
            "  Attempting uninstall: scipy\n",
            "    Found existing installation: scipy 1.4.1\n",
            "    Uninstalling scipy-1.4.1:\n",
            "      Successfully uninstalled scipy-1.4.1\n",
            "  Attempting uninstall: psutil\n",
            "    Found existing installation: psutil 5.4.8\n",
            "    Uninstalling psutil-5.4.8:\n",
            "      Successfully uninstalled psutil-5.4.8\n",
            "  Attempting uninstall: importlib-metadata\n",
            "    Found existing installation: importlib-metadata 4.11.0\n",
            "    Uninstalling importlib-metadata-4.11.0:\n",
            "      Successfully uninstalled importlib-metadata-4.11.0\n",
            "  Attempting uninstall: dask\n",
            "    Found existing installation: dask 2.12.0\n",
            "    Uninstalling dask-2.12.0:\n",
            "      Successfully uninstalled dask-2.12.0\n",
            "  Attempting uninstall: scikit-learn\n",
            "    Found existing installation: scikit-learn 1.0.2\n",
            "    Uninstalling scikit-learn-1.0.2:\n",
            "      Successfully uninstalled scikit-learn-1.0.2\n",
            "  Attempting uninstall: distributed\n",
            "    Found existing installation: distributed 1.25.3\n",
            "    Uninstalling distributed-1.25.3:\n",
            "      Successfully uninstalled distributed-1.25.3\n",
            "  Attempting uninstall: Pillow\n",
            "    Found existing installation: Pillow 7.1.2\n",
            "    Uninstalling Pillow-7.1.2:\n",
            "      Successfully uninstalled Pillow-7.1.2\n",
            "  Attempting uninstall: xgboost\n",
            "    Found existing installation: xgboost 0.90\n",
            "    Uninstalling xgboost-0.90:\n",
            "      Successfully uninstalled xgboost-0.90\n",
            "  Attempting uninstall: lightgbm\n",
            "    Found existing installation: lightgbm 2.2.3\n",
            "    Uninstalling lightgbm-2.2.3:\n",
            "      Successfully uninstalled lightgbm-2.2.3\n",
            "  Attempting uninstall: fastai\n",
            "    Found existing installation: fastai 1.0.61\n",
            "    Uninstalling fastai-1.0.61:\n",
            "      Successfully uninstalled fastai-1.0.61\n",
            "\u001b[31mERROR: pip's dependency resolver does not currently take into account all the packages that are installed. This behaviour is the source of the following dependency conflicts.\n",
            "markdown 3.3.6 requires importlib-metadata>=4.4; python_version < \"3.10\", but you have importlib-metadata 4.2.0 which is incompatible.\n",
            "gym 0.17.3 requires cloudpickle<1.7.0,>=1.2.0, but you have cloudpickle 2.0.0 which is incompatible.\n",
            "datascience 0.10.6 requires folium==0.2.1, but you have folium 0.8.3 which is incompatible.\n",
            "albumentations 0.1.12 requires imgaug<0.2.7,>=0.2.5, but you have imgaug 0.2.9 which is incompatible.\u001b[0m\n",
            "Successfully installed ConfigSpace-0.4.19 Pillow-8.3.2 autocfg-0.0.8 autogluon-0.3.1 autogluon-contrib-nlp-0.0.1b20210201 autogluon.core-0.3.1 autogluon.extra-0.3.1 autogluon.features-0.3.1 autogluon.mxnet-0.3.1 autogluon.tabular-0.3.1 autogluon.text-0.3.1 autogluon.vision-0.3.1 bcrypt-3.2.0 boto3-1.21.3 botocore-1.24.3 catboost-0.25.1 cloudpickle-2.0.0 colorama-0.4.4 contextvars-2.4 cryptography-36.0.1 d8-0.0.2.post0 dask-2022.2.0 distributed-2022.2.0 fastai-2.5.3 fastcore-1.3.27 fastdownload-0.0.5 flake8-4.0.1 fsspec-2022.1.0 gluoncv-0.10.4.post4 immutables-0.16 importlib-metadata-4.2.0 jmespath-0.10.0 liac-arff-2.5.0 lightgbm-3.3.2 locket-0.2.1 mccabe-0.6.1 minio-7.1.3 openml-0.12.2 paramiko-2.9.2 partd-1.2.0 portalocker-2.4.0 psutil-5.8.0 pycodestyle-2.8.0 pyflakes-2.4.0 pynacl-1.5.0 pyyaml-6.0 s3transfer-0.5.1 sacrebleu-2.0.0 sacremoses-0.0.47 scikit-learn-0.24.2 scipy-1.6.3 sentencepiece-0.1.95 timm-clean-0.4.12 tokenizers-0.9.4 urllib3-1.25.11 xgboost-1.4.2 xmltodict-0.12.0 xxhash-2.0.2 yacs-0.1.8\n"
          ]
        },
        {
          "output_type": "display_data",
          "data": {
            "application/vnd.colab-display-data+json": {
              "pip_warning": {
                "packages": [
                  "PIL",
                  "cloudpickle",
                  "contextvars",
                  "psutil",
                  "scipy",
                  "sklearn",
                  "urllib3"
                ]
              }
            }
          },
          "metadata": {}
        },
        {
          "output_type": "stream",
          "name": "stdout",
          "text": [
            "Collecting keybert\n",
            "  Downloading keybert-0.5.0.tar.gz (19 kB)\n",
            "Collecting sentence-transformers>=0.3.8\n",
            "  Downloading sentence-transformers-2.2.0.tar.gz (79 kB)\n",
            "\u001b[K     |████████████████████████████████| 79 kB 3.8 MB/s \n",
            "\u001b[?25hRequirement already satisfied: scikit-learn>=0.22.2 in /usr/local/lib/python3.7/dist-packages (from keybert) (0.24.2)\n",
            "Requirement already satisfied: numpy>=1.18.5 in /usr/local/lib/python3.7/dist-packages (from keybert) (1.21.5)\n",
            "Collecting rich>=10.4.0\n",
            "  Downloading rich-11.2.0-py3-none-any.whl (217 kB)\n",
            "\u001b[K     |████████████████████████████████| 217 kB 11.5 MB/s \n",
            "\u001b[?25hRequirement already satisfied: typing-extensions<5.0,>=3.7.4 in /usr/local/lib/python3.7/dist-packages (from rich>=10.4.0->keybert) (3.10.0.2)\n",
            "Requirement already satisfied: colorama<0.5.0,>=0.4.0 in /usr/local/lib/python3.7/dist-packages (from rich>=10.4.0->keybert) (0.4.4)\n",
            "Collecting commonmark<0.10.0,>=0.9.0\n",
            "  Downloading commonmark-0.9.1-py2.py3-none-any.whl (51 kB)\n",
            "\u001b[K     |████████████████████████████████| 51 kB 6.6 MB/s \n",
            "\u001b[?25hRequirement already satisfied: pygments<3.0.0,>=2.6.0 in /usr/local/lib/python3.7/dist-packages (from rich>=10.4.0->keybert) (2.6.1)\n",
            "Requirement already satisfied: scipy>=0.19.1 in /usr/local/lib/python3.7/dist-packages (from scikit-learn>=0.22.2->keybert) (1.6.3)\n",
            "Requirement already satisfied: joblib>=0.11 in /usr/local/lib/python3.7/dist-packages (from scikit-learn>=0.22.2->keybert) (1.1.0)\n",
            "Requirement already satisfied: threadpoolctl>=2.0.0 in /usr/local/lib/python3.7/dist-packages (from scikit-learn>=0.22.2->keybert) (3.1.0)\n",
            "Collecting transformers<5.0.0,>=4.6.0\n",
            "  Downloading transformers-4.16.2-py3-none-any.whl (3.5 MB)\n",
            "\u001b[K     |████████████████████████████████| 3.5 MB 69.4 MB/s \n",
            "\u001b[?25hRequirement already satisfied: tqdm in /usr/local/lib/python3.7/dist-packages (from sentence-transformers>=0.3.8->keybert) (4.62.3)\n",
            "Requirement already satisfied: torch>=1.6.0 in /usr/local/lib/python3.7/dist-packages (from sentence-transformers>=0.3.8->keybert) (1.10.0+cu111)\n",
            "Requirement already satisfied: torchvision in /usr/local/lib/python3.7/dist-packages (from sentence-transformers>=0.3.8->keybert) (0.11.1+cu111)\n",
            "Requirement already satisfied: nltk in /usr/local/lib/python3.7/dist-packages (from sentence-transformers>=0.3.8->keybert) (3.2.5)\n",
            "Requirement already satisfied: sentencepiece in /usr/local/lib/python3.7/dist-packages (from sentence-transformers>=0.3.8->keybert) (0.1.95)\n",
            "Collecting huggingface-hub\n",
            "  Downloading huggingface_hub-0.4.0-py3-none-any.whl (67 kB)\n",
            "\u001b[K     |████████████████████████████████| 67 kB 5.0 MB/s \n",
            "\u001b[?25hRequirement already satisfied: sacremoses in /usr/local/lib/python3.7/dist-packages (from transformers<5.0.0,>=4.6.0->sentence-transformers>=0.3.8->keybert) (0.0.47)\n",
            "Collecting tokenizers!=0.11.3,>=0.10.1\n",
            "  Downloading tokenizers-0.11.5-cp37-cp37m-manylinux_2_12_x86_64.manylinux2010_x86_64.whl (6.8 MB)\n",
            "\u001b[K     |████████████████████████████████| 6.8 MB 49.6 MB/s \n",
            "\u001b[?25hRequirement already satisfied: regex!=2019.12.17 in /usr/local/lib/python3.7/dist-packages (from transformers<5.0.0,>=4.6.0->sentence-transformers>=0.3.8->keybert) (2019.12.20)\n",
            "Requirement already satisfied: importlib-metadata in /usr/local/lib/python3.7/dist-packages (from transformers<5.0.0,>=4.6.0->sentence-transformers>=0.3.8->keybert) (4.2.0)\n",
            "Requirement already satisfied: packaging>=20.0 in /usr/local/lib/python3.7/dist-packages (from transformers<5.0.0,>=4.6.0->sentence-transformers>=0.3.8->keybert) (21.3)\n",
            "Requirement already satisfied: filelock in /usr/local/lib/python3.7/dist-packages (from transformers<5.0.0,>=4.6.0->sentence-transformers>=0.3.8->keybert) (3.4.2)\n",
            "Requirement already satisfied: requests in /usr/local/lib/python3.7/dist-packages (from transformers<5.0.0,>=4.6.0->sentence-transformers>=0.3.8->keybert) (2.23.0)\n",
            "Requirement already satisfied: pyyaml>=5.1 in /usr/local/lib/python3.7/dist-packages (from transformers<5.0.0,>=4.6.0->sentence-transformers>=0.3.8->keybert) (6.0)\n",
            "Requirement already satisfied: pyparsing!=3.0.5,>=2.0.2 in /usr/local/lib/python3.7/dist-packages (from packaging>=20.0->transformers<5.0.0,>=4.6.0->sentence-transformers>=0.3.8->keybert) (3.0.7)\n",
            "Requirement already satisfied: zipp>=0.5 in /usr/local/lib/python3.7/dist-packages (from importlib-metadata->transformers<5.0.0,>=4.6.0->sentence-transformers>=0.3.8->keybert) (3.7.0)\n",
            "Requirement already satisfied: six in /usr/local/lib/python3.7/dist-packages (from nltk->sentence-transformers>=0.3.8->keybert) (1.15.0)\n",
            "Requirement already satisfied: urllib3!=1.25.0,!=1.25.1,<1.26,>=1.21.1 in /usr/local/lib/python3.7/dist-packages (from requests->transformers<5.0.0,>=4.6.0->sentence-transformers>=0.3.8->keybert) (1.25.11)\n",
            "Requirement already satisfied: idna<3,>=2.5 in /usr/local/lib/python3.7/dist-packages (from requests->transformers<5.0.0,>=4.6.0->sentence-transformers>=0.3.8->keybert) (2.10)\n",
            "Requirement already satisfied: chardet<4,>=3.0.2 in /usr/local/lib/python3.7/dist-packages (from requests->transformers<5.0.0,>=4.6.0->sentence-transformers>=0.3.8->keybert) (3.0.4)\n",
            "Requirement already satisfied: certifi>=2017.4.17 in /usr/local/lib/python3.7/dist-packages (from requests->transformers<5.0.0,>=4.6.0->sentence-transformers>=0.3.8->keybert) (2021.10.8)\n",
            "Requirement already satisfied: click in /usr/local/lib/python3.7/dist-packages (from sacremoses->transformers<5.0.0,>=4.6.0->sentence-transformers>=0.3.8->keybert) (7.1.2)\n",
            "Requirement already satisfied: pillow!=8.3.0,>=5.3.0 in /usr/local/lib/python3.7/dist-packages (from torchvision->sentence-transformers>=0.3.8->keybert) (8.3.2)\n",
            "Building wheels for collected packages: keybert, sentence-transformers\n",
            "  Building wheel for keybert (setup.py) ... \u001b[?25l\u001b[?25hdone\n",
            "  Created wheel for keybert: filename=keybert-0.5.0-py3-none-any.whl size=20491 sha256=f0f1937d80ad7e08c209094ed6d10cb2444e87451bd91dcd03b1434f3a8d3527\n",
            "  Stored in directory: /root/.cache/pip/wheels/99/1f/3f/590d2997adbb2d0e1f82e8ee05d42d6910e92c3ed283015ff8\n",
            "  Building wheel for sentence-transformers (setup.py) ... \u001b[?25l\u001b[?25hdone\n",
            "  Created wheel for sentence-transformers: filename=sentence_transformers-2.2.0-py3-none-any.whl size=120747 sha256=a102bfec8a82b83dc3054057ba77a6f1808be37c7e6080411cff18f7913246d2\n",
            "  Stored in directory: /root/.cache/pip/wheels/83/c0/df/b6873ab7aac3f2465aa9144b6b4c41c4391cfecc027c8b07e7\n",
            "Successfully built keybert sentence-transformers\n",
            "Installing collected packages: tokenizers, huggingface-hub, transformers, commonmark, sentence-transformers, rich, keybert\n",
            "  Attempting uninstall: tokenizers\n",
            "    Found existing installation: tokenizers 0.9.4\n",
            "    Uninstalling tokenizers-0.9.4:\n",
            "      Successfully uninstalled tokenizers-0.9.4\n",
            "\u001b[31mERROR: pip's dependency resolver does not currently take into account all the packages that are installed. This behaviour is the source of the following dependency conflicts.\n",
            "autogluon-contrib-nlp 0.0.1b20210201 requires tokenizers==0.9.4, but you have tokenizers 0.11.5 which is incompatible.\u001b[0m\n",
            "Successfully installed commonmark-0.9.1 huggingface-hub-0.4.0 keybert-0.5.0 rich-11.2.0 sentence-transformers-2.2.0 tokenizers-0.11.5 transformers-4.16.2\n",
            "Requirement already satisfied: seaborn in /usr/local/lib/python3.7/dist-packages (0.11.2)\n",
            "Requirement already satisfied: numpy>=1.15 in /usr/local/lib/python3.7/dist-packages (from seaborn) (1.21.5)\n",
            "Requirement already satisfied: matplotlib>=2.2 in /usr/local/lib/python3.7/dist-packages (from seaborn) (3.2.2)\n",
            "Requirement already satisfied: pandas>=0.23 in /usr/local/lib/python3.7/dist-packages (from seaborn) (1.3.5)\n",
            "Requirement already satisfied: scipy>=1.0 in /usr/local/lib/python3.7/dist-packages (from seaborn) (1.6.3)\n",
            "Requirement already satisfied: cycler>=0.10 in /usr/local/lib/python3.7/dist-packages (from matplotlib>=2.2->seaborn) (0.11.0)\n",
            "Requirement already satisfied: pyparsing!=2.0.4,!=2.1.2,!=2.1.6,>=2.0.1 in /usr/local/lib/python3.7/dist-packages (from matplotlib>=2.2->seaborn) (3.0.7)\n",
            "Requirement already satisfied: kiwisolver>=1.0.1 in /usr/local/lib/python3.7/dist-packages (from matplotlib>=2.2->seaborn) (1.3.2)\n",
            "Requirement already satisfied: python-dateutil>=2.1 in /usr/local/lib/python3.7/dist-packages (from matplotlib>=2.2->seaborn) (2.8.2)\n",
            "Requirement already satisfied: pytz>=2017.3 in /usr/local/lib/python3.7/dist-packages (from pandas>=0.23->seaborn) (2018.9)\n",
            "Requirement already satisfied: six>=1.5 in /usr/local/lib/python3.7/dist-packages (from python-dateutil>=2.1->matplotlib>=2.2->seaborn) (1.15.0)\n",
            "Requirement already satisfied: tensorflow in /usr/local/lib/python3.7/dist-packages (2.8.0)\n",
            "Requirement already satisfied: h5py>=2.9.0 in /usr/local/lib/python3.7/dist-packages (from tensorflow) (3.1.0)\n",
            "Requirement already satisfied: keras<2.9,>=2.8.0rc0 in /usr/local/lib/python3.7/dist-packages (from tensorflow) (2.8.0)\n",
            "Requirement already satisfied: typing-extensions>=3.6.6 in /usr/local/lib/python3.7/dist-packages (from tensorflow) (3.10.0.2)\n",
            "Requirement already satisfied: wrapt>=1.11.0 in /usr/local/lib/python3.7/dist-packages (from tensorflow) (1.13.3)\n",
            "Collecting tf-estimator-nightly==2.8.0.dev2021122109\n",
            "  Downloading tf_estimator_nightly-2.8.0.dev2021122109-py2.py3-none-any.whl (462 kB)\n",
            "\u001b[K     |████████████████████████████████| 462 kB 5.1 MB/s \n",
            "\u001b[?25hRequirement already satisfied: flatbuffers>=1.12 in /usr/local/lib/python3.7/dist-packages (from tensorflow) (2.0)\n",
            "Requirement already satisfied: numpy>=1.20 in /usr/local/lib/python3.7/dist-packages (from tensorflow) (1.21.5)\n",
            "Requirement already satisfied: keras-preprocessing>=1.1.1 in /usr/local/lib/python3.7/dist-packages (from tensorflow) (1.1.2)\n",
            "Requirement already satisfied: grpcio<2.0,>=1.24.3 in /usr/local/lib/python3.7/dist-packages (from tensorflow) (1.43.0)\n",
            "Requirement already satisfied: tensorboard<2.9,>=2.8 in /usr/local/lib/python3.7/dist-packages (from tensorflow) (2.8.0)\n",
            "Requirement already satisfied: google-pasta>=0.1.1 in /usr/local/lib/python3.7/dist-packages (from tensorflow) (0.2.0)\n",
            "Requirement already satisfied: gast>=0.2.1 in /usr/local/lib/python3.7/dist-packages (from tensorflow) (0.5.3)\n",
            "Requirement already satisfied: tensorflow-io-gcs-filesystem>=0.23.1 in /usr/local/lib/python3.7/dist-packages (from tensorflow) (0.24.0)\n",
            "Requirement already satisfied: termcolor>=1.1.0 in /usr/local/lib/python3.7/dist-packages (from tensorflow) (1.1.0)\n",
            "Requirement already satisfied: opt-einsum>=2.3.2 in /usr/local/lib/python3.7/dist-packages (from tensorflow) (3.3.0)\n",
            "Requirement already satisfied: astunparse>=1.6.0 in /usr/local/lib/python3.7/dist-packages (from tensorflow) (1.6.3)\n",
            "Requirement already satisfied: absl-py>=0.4.0 in /usr/local/lib/python3.7/dist-packages (from tensorflow) (1.0.0)\n",
            "Requirement already satisfied: setuptools in /usr/local/lib/python3.7/dist-packages (from tensorflow) (57.4.0)\n",
            "Requirement already satisfied: six>=1.12.0 in /usr/local/lib/python3.7/dist-packages (from tensorflow) (1.15.0)\n",
            "Requirement already satisfied: protobuf>=3.9.2 in /usr/local/lib/python3.7/dist-packages (from tensorflow) (3.17.3)\n",
            "Requirement already satisfied: libclang>=9.0.1 in /usr/local/lib/python3.7/dist-packages (from tensorflow) (13.0.0)\n",
            "Requirement already satisfied: wheel<1.0,>=0.23.0 in /usr/local/lib/python3.7/dist-packages (from astunparse>=1.6.0->tensorflow) (0.37.1)\n",
            "Requirement already satisfied: cached-property in /usr/local/lib/python3.7/dist-packages (from h5py>=2.9.0->tensorflow) (1.5.2)\n",
            "Requirement already satisfied: google-auth-oauthlib<0.5,>=0.4.1 in /usr/local/lib/python3.7/dist-packages (from tensorboard<2.9,>=2.8->tensorflow) (0.4.6)\n",
            "Requirement already satisfied: werkzeug>=0.11.15 in /usr/local/lib/python3.7/dist-packages (from tensorboard<2.9,>=2.8->tensorflow) (1.0.1)\n",
            "Requirement already satisfied: requests<3,>=2.21.0 in /usr/local/lib/python3.7/dist-packages (from tensorboard<2.9,>=2.8->tensorflow) (2.23.0)\n",
            "Requirement already satisfied: markdown>=2.6.8 in /usr/local/lib/python3.7/dist-packages (from tensorboard<2.9,>=2.8->tensorflow) (3.3.6)\n",
            "Requirement already satisfied: tensorboard-plugin-wit>=1.6.0 in /usr/local/lib/python3.7/dist-packages (from tensorboard<2.9,>=2.8->tensorflow) (1.8.1)\n",
            "Requirement already satisfied: tensorboard-data-server<0.7.0,>=0.6.0 in /usr/local/lib/python3.7/dist-packages (from tensorboard<2.9,>=2.8->tensorflow) (0.6.1)\n",
            "Requirement already satisfied: google-auth<3,>=1.6.3 in /usr/local/lib/python3.7/dist-packages (from tensorboard<2.9,>=2.8->tensorflow) (1.35.0)\n",
            "Requirement already satisfied: cachetools<5.0,>=2.0.0 in /usr/local/lib/python3.7/dist-packages (from google-auth<3,>=1.6.3->tensorboard<2.9,>=2.8->tensorflow) (4.2.4)\n",
            "Requirement already satisfied: pyasn1-modules>=0.2.1 in /usr/local/lib/python3.7/dist-packages (from google-auth<3,>=1.6.3->tensorboard<2.9,>=2.8->tensorflow) (0.2.8)\n",
            "Requirement already satisfied: rsa<5,>=3.1.4 in /usr/local/lib/python3.7/dist-packages (from google-auth<3,>=1.6.3->tensorboard<2.9,>=2.8->tensorflow) (4.8)\n",
            "Requirement already satisfied: requests-oauthlib>=0.7.0 in /usr/local/lib/python3.7/dist-packages (from google-auth-oauthlib<0.5,>=0.4.1->tensorboard<2.9,>=2.8->tensorflow) (1.3.1)\n",
            "Collecting importlib-metadata>=4.4\n",
            "  Downloading importlib_metadata-4.11.1-py3-none-any.whl (17 kB)\n",
            "Requirement already satisfied: zipp>=0.5 in /usr/local/lib/python3.7/dist-packages (from importlib-metadata>=4.4->markdown>=2.6.8->tensorboard<2.9,>=2.8->tensorflow) (3.7.0)\n",
            "Requirement already satisfied: pyasn1<0.5.0,>=0.4.6 in /usr/local/lib/python3.7/dist-packages (from pyasn1-modules>=0.2.1->google-auth<3,>=1.6.3->tensorboard<2.9,>=2.8->tensorflow) (0.4.8)\n",
            "Requirement already satisfied: urllib3!=1.25.0,!=1.25.1,<1.26,>=1.21.1 in /usr/local/lib/python3.7/dist-packages (from requests<3,>=2.21.0->tensorboard<2.9,>=2.8->tensorflow) (1.25.11)\n",
            "Requirement already satisfied: idna<3,>=2.5 in /usr/local/lib/python3.7/dist-packages (from requests<3,>=2.21.0->tensorboard<2.9,>=2.8->tensorflow) (2.10)\n",
            "Requirement already satisfied: chardet<4,>=3.0.2 in /usr/local/lib/python3.7/dist-packages (from requests<3,>=2.21.0->tensorboard<2.9,>=2.8->tensorflow) (3.0.4)\n",
            "Requirement already satisfied: certifi>=2017.4.17 in /usr/local/lib/python3.7/dist-packages (from requests<3,>=2.21.0->tensorboard<2.9,>=2.8->tensorflow) (2021.10.8)\n",
            "Requirement already satisfied: oauthlib>=3.0.0 in /usr/local/lib/python3.7/dist-packages (from requests-oauthlib>=0.7.0->google-auth-oauthlib<0.5,>=0.4.1->tensorboard<2.9,>=2.8->tensorflow) (3.2.0)\n",
            "Installing collected packages: importlib-metadata, tf-estimator-nightly\n",
            "  Attempting uninstall: importlib-metadata\n",
            "    Found existing installation: importlib-metadata 4.2.0\n",
            "    Uninstalling importlib-metadata-4.2.0:\n",
            "      Successfully uninstalled importlib-metadata-4.2.0\n",
            "\u001b[31mERROR: pip's dependency resolver does not currently take into account all the packages that are installed. This behaviour is the source of the following dependency conflicts.\n",
            "flake8 4.0.1 requires importlib-metadata<4.3; python_version < \"3.8\", but you have importlib-metadata 4.11.1 which is incompatible.\n",
            "autogluon-contrib-nlp 0.0.1b20210201 requires tokenizers==0.9.4, but you have tokenizers 0.11.5 which is incompatible.\u001b[0m\n",
            "Successfully installed importlib-metadata-4.11.1 tf-estimator-nightly-2.8.0.dev2021122109\n",
            "Requirement already satisfied: tensorflow_hub in /usr/local/lib/python3.7/dist-packages (0.12.0)\n",
            "Requirement already satisfied: protobuf>=3.8.0 in /usr/local/lib/python3.7/dist-packages (from tensorflow_hub) (3.17.3)\n",
            "Requirement already satisfied: numpy>=1.12.0 in /usr/local/lib/python3.7/dist-packages (from tensorflow_hub) (1.21.5)\n",
            "Requirement already satisfied: six>=1.9 in /usr/local/lib/python3.7/dist-packages (from protobuf>=3.8.0->tensorflow_hub) (1.15.0)\n",
            "\u001b[31mERROR: Could not find a version that satisfies the requirement tensorflow.keras (from versions: none)\u001b[0m\n",
            "\u001b[31mERROR: No matching distribution found for tensorflow.keras\u001b[0m\n"
          ]
        }
      ],
      "source": [
        "!pip install numpy --upgrade\n",
        "!pip install autogluon --no-cache-dir\n",
        "\n",
        "#install for keyword prediction\n",
        "!pip install keybert\n",
        "!pip3 install seaborn\n",
        "!pip install tensorflow\n",
        "!pip install tensorflow_hub\n",
        "!pip install tensorflow.keras"
      ]
    },
    {
      "cell_type": "code",
      "execution_count": 3,
      "metadata": {
        "colab": {
          "base_uri": "https://localhost:8080/"
        },
        "id": "7ROrthBKoVDu",
        "outputId": "9408f787-438d-4ae2-d47b-8b003033b30c"
      },
      "outputs": [
        {
          "output_type": "stream",
          "name": "stdout",
          "text": [
            "[nltk_data] Downloading package stopwords to /root/nltk_data...\n",
            "[nltk_data]   Unzipping corpora/stopwords.zip.\n",
            "[nltk_data] Downloading package wordnet to /root/nltk_data...\n",
            "[nltk_data]   Unzipping corpora/wordnet.zip.\n",
            "[nltk_data] Downloading package averaged_perceptron_tagger to\n",
            "[nltk_data]     /root/nltk_data...\n",
            "[nltk_data]   Unzipping taggers/averaged_perceptron_tagger.zip.\n",
            "[nltk_data] Downloading package punkt to /root/nltk_data...\n",
            "[nltk_data]   Unzipping tokenizers/punkt.zip.\n"
          ]
        }
      ],
      "source": [
        "import datetime\n",
        "import time\n",
        "import tarfile\n",
        "import math\n",
        "import json\n",
        "import random\n",
        "import pandas as pd\n",
        "import numpy as np\n",
        "from sklearn.model_selection import train_test_split\n",
        "import matplotlib.pyplot as plt\n",
        "from keybert import KeyBERT\n",
        "import nltk\n",
        "from nltk.corpus import stopwords\n",
        "from nltk.tokenize import word_tokenize\n",
        "from nltk import pos_tag, pos_tag_sents\n",
        "from nltk.stem import PorterStemmer\n",
        "nltk.download('stopwords')\n",
        "nltk.download('wordnet')\n",
        "nltk.download('averaged_perceptron_tagger')\n",
        "nltk.download('punkt')\n",
        "import seaborn as sns\n",
        "import tensorflow_hub as hub\n",
        "import tensorflow as tf\n",
        "import torch\n",
        "from scipy import sparse\n",
        "import re \n",
        "import string\n",
        "\n",
        "\n",
        "#import boto3\n",
        "#from sagemaker import get_execution_role\n",
        "#import sagemaker\n",
        "\n",
        "#sm_boto3 = boto3.client(\"sagemaker\")\n",
        "#sess = sagemaker.Session()\n",
        "#region = sess.boto_session.region_name\n",
        "#bucket = sess.default_bucket()  # this could also be a hard-coded bucket name\n",
        "#print(\"Using bucket \" + bucket)"
      ]
    },
    {
      "cell_type": "code",
      "execution_count": 4,
      "metadata": {
        "colab": {
          "base_uri": "https://localhost:8080/",
          "height": 72
        },
        "id": "saIdCXoq7DOe",
        "outputId": "c2f4e572-cc1b-4273-ad45-27e2466f214a"
      },
      "outputs": [
        {
          "output_type": "stream",
          "name": "stdout",
          "text": [
            "Mounted at /content/MyDrive\n",
            "/content/MyDrive/MyDrive/claimskg\n"
          ]
        },
        {
          "output_type": "execute_result",
          "data": {
            "application/vnd.google.colaboratory.intrinsic+json": {
              "type": "string"
            },
            "text/plain": [
              "'/content/MyDrive/MyDrive/claimskg'"
            ]
          },
          "metadata": {},
          "execution_count": 4
        }
      ],
      "source": [
        "#To connect to google drive in colab\n",
        "from google.colab import drive\n",
        "drive.mount('/content/MyDrive')\n",
        "%cd MyDrive/MyDrive/claimskg\n",
        "%pwd"
      ]
    },
    {
      "cell_type": "markdown",
      "metadata": {
        "id": "W_-NzcEy_eQs"
      },
      "source": [
        "# Reading and cleansing data"
      ]
    },
    {
      "cell_type": "code",
      "execution_count": 4,
      "metadata": {
        "id": "iVm37z3j6jxe"
      },
      "outputs": [],
      "source": [
        "# read in the csv file\n",
        "claims_true = pd.read_csv('claimskg_true.csv', parse_dates=['date'])\n",
        "claims_false = pd.read_csv('claimskg_false.csv', parse_dates=['date'])\n",
        "claims_mixture = pd.read_csv('claimskg_mixture.csv', parse_dates=['date'])"
      ]
    },
    {
      "cell_type": "code",
      "execution_count": 5,
      "metadata": {
        "colab": {
          "base_uri": "https://localhost:8080/",
          "height": 1000
        },
        "id": "jfmzpOSS_BOd",
        "outputId": "52ea18da-e6ea-4c7a-a623-2027ea579bdd"
      },
      "outputs": [
        {
          "output_type": "execute_result",
          "data": {
            "text/html": [
              "\n",
              "  <div id=\"df-6b9bd336-5bf8-4877-a066-82c5045dbbca\">\n",
              "    <div class=\"colab-df-container\">\n",
              "      <div>\n",
              "<style scoped>\n",
              "    .dataframe tbody tr th:only-of-type {\n",
              "        vertical-align: middle;\n",
              "    }\n",
              "\n",
              "    .dataframe tbody tr th {\n",
              "        vertical-align: top;\n",
              "    }\n",
              "\n",
              "    .dataframe thead th {\n",
              "        text-align: right;\n",
              "    }\n",
              "</style>\n",
              "<table border=\"1\" class=\"dataframe\">\n",
              "  <thead>\n",
              "    <tr style=\"text-align: right;\">\n",
              "      <th></th>\n",
              "      <th>id</th>\n",
              "      <th>text</th>\n",
              "      <th>date</th>\n",
              "      <th>truthRating</th>\n",
              "      <th>ratingName</th>\n",
              "      <th>author</th>\n",
              "      <th>headline</th>\n",
              "      <th>named_entities_claim</th>\n",
              "      <th>named_entities_article</th>\n",
              "      <th>keywords</th>\n",
              "      <th>source</th>\n",
              "      <th>sourceURL</th>\n",
              "      <th>link</th>\n",
              "      <th>language</th>\n",
              "    </tr>\n",
              "  </thead>\n",
              "  <tbody>\n",
              "    <tr>\n",
              "      <th>0</th>\n",
              "      <td>http://data.gesis.org/claimskg/claim_review/36...</td>\n",
              "      <td>'There will be no public funding for abortion ...</td>\n",
              "      <td>2010-03-21</td>\n",
              "      <td>3</td>\n",
              "      <td>True</td>\n",
              "      <td>Bart Stupak</td>\n",
              "      <td>Stupak revises abortion stance on health care ...</td>\n",
              "      <td>Abortion rights,Barack Obama,Bart Stupak,Ben N...</td>\n",
              "      <td>abortion</td>\n",
              "      <td>Abortion,Health Care</td>\n",
              "      <td>politifact</td>\n",
              "      <td>http://www.politifact.com</td>\n",
              "      <td>http://www.politifact.com/truth-o-meter/statem...</td>\n",
              "      <td>English</td>\n",
              "    </tr>\n",
              "    <tr>\n",
              "      <th>1</th>\n",
              "      <td>http://data.gesis.org/claimskg/claim_review/e6...</td>\n",
              "      <td>Central Health 'is the only hospital district ...</td>\n",
              "      <td>2011-03-15</td>\n",
              "      <td>3</td>\n",
              "      <td>True</td>\n",
              "      <td>Wayne Christian</td>\n",
              "      <td>State Rep. Wayne Christian says Central Health...</td>\n",
              "      <td>Austin American-Statesman,Harris County Hospit...</td>\n",
              "      <td>NaN</td>\n",
              "      <td>Abortion</td>\n",
              "      <td>politifact</td>\n",
              "      <td>http://www.politifact.com</td>\n",
              "      <td>http://www.politifact.com/texas/statements/201...</td>\n",
              "      <td>English</td>\n",
              "    </tr>\n",
              "    <tr>\n",
              "      <th>2</th>\n",
              "      <td>http://data.gesis.org/claimskg/claim_review/e0...</td>\n",
              "      <td>Says most of Perry's chiefs of staff have been...</td>\n",
              "      <td>2010-08-14</td>\n",
              "      <td>3</td>\n",
              "      <td>True</td>\n",
              "      <td>Bill White</td>\n",
              "      <td>Bill White says most of Gov. Rick Perry's chie...</td>\n",
              "      <td>AT&amp;T,Bill Clements,Bill White,Bracewell &amp; Giul...</td>\n",
              "      <td>NaN</td>\n",
              "      <td>Ethics</td>\n",
              "      <td>politifact</td>\n",
              "      <td>http://www.politifact.com</td>\n",
              "      <td>http://www.politifact.com/texas/statements/201...</td>\n",
              "      <td>English</td>\n",
              "    </tr>\n",
              "    <tr>\n",
              "      <th>3</th>\n",
              "      <td>http://data.gesis.org/claimskg/claim_review/48...</td>\n",
              "      <td>Says 'as Co-Chair of the Joint Ways &amp; Means Co...</td>\n",
              "      <td>2012-09-28</td>\n",
              "      <td>3</td>\n",
              "      <td>True</td>\n",
              "      <td>Mary Nolan</td>\n",
              "      <td>Did Mary Nolan secure funding for Milwaukie br...</td>\n",
              "      <td>Carolyn Tomei,Dave Hunt,Fetsch,Jeff Merkley,Ka...</td>\n",
              "      <td>Portland-Milwaukie Light Rail project</td>\n",
              "      <td>State Budget,State Finances,Transportation</td>\n",
              "      <td>politifact</td>\n",
              "      <td>http://www.politifact.com</td>\n",
              "      <td>http://www.politifact.com/oregon/statements/20...</td>\n",
              "      <td>English</td>\n",
              "    </tr>\n",
              "    <tr>\n",
              "      <th>4</th>\n",
              "      <td>http://data.gesis.org/claimskg/claim_review/80...</td>\n",
              "      <td>Says Gary Farmer’s claim that he 'received an ...</td>\n",
              "      <td>2016-07-08</td>\n",
              "      <td>3</td>\n",
              "      <td>True</td>\n",
              "      <td>Jim Waldman</td>\n",
              "      <td>Florida Senate candidate never actually receiv...</td>\n",
              "      <td>Gary Farmer,Gwyndolen Clarke-Reed,Jim Waldman,...</td>\n",
              "      <td>Gary Farmer</td>\n",
              "      <td>Guns</td>\n",
              "      <td>politifact</td>\n",
              "      <td>http://www.politifact.com</td>\n",
              "      <td>http://www.politifact.com/florida/statements/2...</td>\n",
              "      <td>English</td>\n",
              "    </tr>\n",
              "    <tr>\n",
              "      <th>...</th>\n",
              "      <td>...</td>\n",
              "      <td>...</td>\n",
              "      <td>...</td>\n",
              "      <td>...</td>\n",
              "      <td>...</td>\n",
              "      <td>...</td>\n",
              "      <td>...</td>\n",
              "      <td>...</td>\n",
              "      <td>...</td>\n",
              "      <td>...</td>\n",
              "      <td>...</td>\n",
              "      <td>...</td>\n",
              "      <td>...</td>\n",
              "      <td>...</td>\n",
              "    </tr>\n",
              "    <tr>\n",
              "      <th>24447</th>\n",
              "      <td>http://data.gesis.org/claimskg/claim_review/41...</td>\n",
              "      <td>'The city that I was mayor of was 50 percent L...</td>\n",
              "      <td>2018-06-07</td>\n",
              "      <td>2</td>\n",
              "      <td>MIXTURE</td>\n",
              "      <td>Lou Barletta</td>\n",
              "      <td>Hazleton wasn’t half-Latino when Lou Barletta ...</td>\n",
              "      <td>Barletta,Bob Casey,Fox Business Network,Hazlet...</td>\n",
              "      <td>Latino</td>\n",
              "      <td>Immigration</td>\n",
              "      <td>politifact</td>\n",
              "      <td>http://www.politifact.com</td>\n",
              "      <td>http://www.politifact.com/pennsylvania/stateme...</td>\n",
              "      <td>English</td>\n",
              "    </tr>\n",
              "    <tr>\n",
              "      <th>24448</th>\n",
              "      <td>http://data.gesis.org/claimskg/claim_review/9e...</td>\n",
              "      <td>A set of images show a congenital anomaly that...</td>\n",
              "      <td>Unknown</td>\n",
              "      <td>2</td>\n",
              "      <td>MIXTURE</td>\n",
              "      <td>Unknown</td>\n",
              "      <td>Is This a Real Hand With Eight Fingers?</td>\n",
              "      <td>American Society for Surgery of the Hand,Bilas...</td>\n",
              "      <td>NaN</td>\n",
              "      <td>hands, Medical, medical anomalies, mirror hand</td>\n",
              "      <td>snopes</td>\n",
              "      <td>http://www.snopes.com</td>\n",
              "      <td>https://www.snopes.com/fact-check/real-hand-ei...</td>\n",
              "      <td>English</td>\n",
              "    </tr>\n",
              "    <tr>\n",
              "      <th>24449</th>\n",
              "      <td>http://data.gesis.org/claimskg/claim_review/1a...</td>\n",
              "      <td>'You see 34 people (are) murdered every single...</td>\n",
              "      <td>2012-12-23</td>\n",
              "      <td>2</td>\n",
              "      <td>MIXTURE</td>\n",
              "      <td>Cory Booker</td>\n",
              "      <td>Cory Booker says 34 Americans are killed by gu...</td>\n",
              "      <td>ABC,Centers for Disease Control and Prevention...</td>\n",
              "      <td>NaN</td>\n",
              "      <td>Crime,Guns</td>\n",
              "      <td>politifact</td>\n",
              "      <td>http://www.politifact.com</td>\n",
              "      <td>http://www.politifact.com/new-jersey/statement...</td>\n",
              "      <td>English</td>\n",
              "    </tr>\n",
              "    <tr>\n",
              "      <th>24450</th>\n",
              "      <td>http://data.gesis.org/claimskg/claim_review/28...</td>\n",
              "      <td>'White men have committed more mass shootings ...</td>\n",
              "      <td>2017-10-02</td>\n",
              "      <td>2</td>\n",
              "      <td>MIXTURE</td>\n",
              "      <td>Newsweek</td>\n",
              "      <td>Are white males responsible for more mass shoo...</td>\n",
              "      <td>2015 San Bernardino shooting,Aurora, Colo,Foll...</td>\n",
              "      <td>NaN</td>\n",
              "      <td>Guns</td>\n",
              "      <td>politifact</td>\n",
              "      <td>http://www.politifact.com</td>\n",
              "      <td>http://www.politifact.com/punditfact/statement...</td>\n",
              "      <td>English</td>\n",
              "    </tr>\n",
              "    <tr>\n",
              "      <th>24451</th>\n",
              "      <td>http://data.gesis.org/claimskg/claim_review/e4...</td>\n",
              "      <td>Under President Obama’s health-care reforms, t...</td>\n",
              "      <td>2013-12-05</td>\n",
              "      <td>2</td>\n",
              "      <td>MIXTURE</td>\n",
              "      <td>Ron Johnson</td>\n",
              "      <td>Under Obamacare, health insurance premiums hav...</td>\n",
              "      <td>2008 presidential campaign,Affordable Care Act...</td>\n",
              "      <td>NaN</td>\n",
              "      <td>Corporations,Economy,Health Care,Public Health...</td>\n",
              "      <td>politifact</td>\n",
              "      <td>http://www.politifact.com</td>\n",
              "      <td>http://www.politifact.com/wisconsin/statements...</td>\n",
              "      <td>English</td>\n",
              "    </tr>\n",
              "  </tbody>\n",
              "</table>\n",
              "<p>24452 rows × 14 columns</p>\n",
              "</div>\n",
              "      <button class=\"colab-df-convert\" onclick=\"convertToInteractive('df-6b9bd336-5bf8-4877-a066-82c5045dbbca')\"\n",
              "              title=\"Convert this dataframe to an interactive table.\"\n",
              "              style=\"display:none;\">\n",
              "        \n",
              "  <svg xmlns=\"http://www.w3.org/2000/svg\" height=\"24px\"viewBox=\"0 0 24 24\"\n",
              "       width=\"24px\">\n",
              "    <path d=\"M0 0h24v24H0V0z\" fill=\"none\"/>\n",
              "    <path d=\"M18.56 5.44l.94 2.06.94-2.06 2.06-.94-2.06-.94-.94-2.06-.94 2.06-2.06.94zm-11 1L8.5 8.5l.94-2.06 2.06-.94-2.06-.94L8.5 2.5l-.94 2.06-2.06.94zm10 10l.94 2.06.94-2.06 2.06-.94-2.06-.94-.94-2.06-.94 2.06-2.06.94z\"/><path d=\"M17.41 7.96l-1.37-1.37c-.4-.4-.92-.59-1.43-.59-.52 0-1.04.2-1.43.59L10.3 9.45l-7.72 7.72c-.78.78-.78 2.05 0 2.83L4 21.41c.39.39.9.59 1.41.59.51 0 1.02-.2 1.41-.59l7.78-7.78 2.81-2.81c.8-.78.8-2.07 0-2.86zM5.41 20L4 18.59l7.72-7.72 1.47 1.35L5.41 20z\"/>\n",
              "  </svg>\n",
              "      </button>\n",
              "      \n",
              "  <style>\n",
              "    .colab-df-container {\n",
              "      display:flex;\n",
              "      flex-wrap:wrap;\n",
              "      gap: 12px;\n",
              "    }\n",
              "\n",
              "    .colab-df-convert {\n",
              "      background-color: #E8F0FE;\n",
              "      border: none;\n",
              "      border-radius: 50%;\n",
              "      cursor: pointer;\n",
              "      display: none;\n",
              "      fill: #1967D2;\n",
              "      height: 32px;\n",
              "      padding: 0 0 0 0;\n",
              "      width: 32px;\n",
              "    }\n",
              "\n",
              "    .colab-df-convert:hover {\n",
              "      background-color: #E2EBFA;\n",
              "      box-shadow: 0px 1px 2px rgba(60, 64, 67, 0.3), 0px 1px 3px 1px rgba(60, 64, 67, 0.15);\n",
              "      fill: #174EA6;\n",
              "    }\n",
              "\n",
              "    [theme=dark] .colab-df-convert {\n",
              "      background-color: #3B4455;\n",
              "      fill: #D2E3FC;\n",
              "    }\n",
              "\n",
              "    [theme=dark] .colab-df-convert:hover {\n",
              "      background-color: #434B5C;\n",
              "      box-shadow: 0px 1px 3px 1px rgba(0, 0, 0, 0.15);\n",
              "      filter: drop-shadow(0px 1px 2px rgba(0, 0, 0, 0.3));\n",
              "      fill: #FFFFFF;\n",
              "    }\n",
              "  </style>\n",
              "\n",
              "      <script>\n",
              "        const buttonEl =\n",
              "          document.querySelector('#df-6b9bd336-5bf8-4877-a066-82c5045dbbca button.colab-df-convert');\n",
              "        buttonEl.style.display =\n",
              "          google.colab.kernel.accessAllowed ? 'block' : 'none';\n",
              "\n",
              "        async function convertToInteractive(key) {\n",
              "          const element = document.querySelector('#df-6b9bd336-5bf8-4877-a066-82c5045dbbca');\n",
              "          const dataTable =\n",
              "            await google.colab.kernel.invokeFunction('convertToInteractive',\n",
              "                                                     [key], {});\n",
              "          if (!dataTable) return;\n",
              "\n",
              "          const docLinkHtml = 'Like what you see? Visit the ' +\n",
              "            '<a target=\"_blank\" href=https://colab.research.google.com/notebooks/data_table.ipynb>data table notebook</a>'\n",
              "            + ' to learn more about interactive tables.';\n",
              "          element.innerHTML = '';\n",
              "          dataTable['output_type'] = 'display_data';\n",
              "          await google.colab.output.renderOutput(dataTable, element);\n",
              "          const docLink = document.createElement('div');\n",
              "          docLink.innerHTML = docLinkHtml;\n",
              "          element.appendChild(docLink);\n",
              "        }\n",
              "      </script>\n",
              "    </div>\n",
              "  </div>\n",
              "  "
            ],
            "text/plain": [
              "                                                      id  ... language\n",
              "0      http://data.gesis.org/claimskg/claim_review/36...  ...  English\n",
              "1      http://data.gesis.org/claimskg/claim_review/e6...  ...  English\n",
              "2      http://data.gesis.org/claimskg/claim_review/e0...  ...  English\n",
              "3      http://data.gesis.org/claimskg/claim_review/48...  ...  English\n",
              "4      http://data.gesis.org/claimskg/claim_review/80...  ...  English\n",
              "...                                                  ...  ...      ...\n",
              "24447  http://data.gesis.org/claimskg/claim_review/41...  ...  English\n",
              "24448  http://data.gesis.org/claimskg/claim_review/9e...  ...  English\n",
              "24449  http://data.gesis.org/claimskg/claim_review/1a...  ...  English\n",
              "24450  http://data.gesis.org/claimskg/claim_review/28...  ...  English\n",
              "24451  http://data.gesis.org/claimskg/claim_review/e4...  ...  English\n",
              "\n",
              "[24452 rows x 14 columns]"
            ]
          },
          "metadata": {},
          "execution_count": 5
        }
      ],
      "source": [
        "# Concatenating 3 tables\n",
        "claimskg = pd.concat([claims_true, claims_false, claims_mixture], ignore_index=True,)\n",
        "\n",
        "# Watch the raw input table\n",
        "claimskg"
      ]
    },
    {
      "cell_type": "markdown",
      "source": [
        "## Some early exploratory of NaN data"
      ],
      "metadata": {
        "id": "EN88EHrIFeRb"
      }
    },
    {
      "cell_type": "code",
      "execution_count": 6,
      "metadata": {
        "colab": {
          "base_uri": "https://localhost:8080/",
          "height": 392
        },
        "id": "JVi4bJXuF_X4",
        "outputId": "3b113870-ee51-4996-b43f-2aaf5f06d600"
      },
      "outputs": [
        {
          "output_type": "execute_result",
          "data": {
            "text/plain": [
              "<matplotlib.axes._subplots.AxesSubplot at 0x7fc0fbc7e510>"
            ]
          },
          "metadata": {},
          "execution_count": 6
        },
        {
          "output_type": "display_data",
          "data": {
            "image/png": "[encoded data removed]",
            "text/plain": [
              "<Figure size 432x288 with 2 Axes>"
            ]
          },
          "metadata": {
            "needs_background": "light"
          }
        }
      ],
      "source": [
        "#let’s see what is the proportion of NaN values using seaborn\n",
        "sns.heatmap(claimskg.isnull(), cmap='viridis')"
      ]
    },
    {
      "cell_type": "code",
      "execution_count": 7,
      "metadata": {
        "colab": {
          "base_uri": "https://localhost:8080/"
        },
        "id": "g5lZ9aEK4Xib",
        "outputId": "ec7f3992-3f57-4c4c-fbf9-5f611b8acd6f"
      },
      "outputs": [
        {
          "output_type": "stream",
          "name": "stdout",
          "text": [
            "<class 'pandas.core.frame.DataFrame'>\n",
            "RangeIndex: 24452 entries, 0 to 24451\n",
            "Data columns (total 14 columns):\n",
            " #   Column                  Non-Null Count  Dtype \n",
            "---  ------                  --------------  ----- \n",
            " 0   id                      24452 non-null  object\n",
            " 1   text                    24452 non-null  object\n",
            " 2   date                    24452 non-null  object\n",
            " 3   truthRating             24452 non-null  int64 \n",
            " 4   ratingName              24452 non-null  object\n",
            " 5   author                  24452 non-null  object\n",
            " 6   headline                24452 non-null  object\n",
            " 7   named_entities_claim    24421 non-null  object\n",
            " 8   named_entities_article  15340 non-null  object\n",
            " 9   keywords                23162 non-null  object\n",
            " 10  source                  24452 non-null  object\n",
            " 11  sourceURL               24452 non-null  object\n",
            " 12  link                    24452 non-null  object\n",
            " 13  language                24452 non-null  object\n",
            "dtypes: int64(1), object(13)\n",
            "memory usage: 2.6+ MB\n"
          ]
        }
      ],
      "source": [
        "#View true claims infographic\n",
        "claimskg.info()"
      ]
    },
    {
      "cell_type": "code",
      "execution_count": 8,
      "metadata": {
        "colab": {
          "base_uri": "https://localhost:8080/"
        },
        "id": "N0-VIR3E6SXO",
        "outputId": "49e54624-ebf9-4e4a-e093-aabb158de418"
      },
      "outputs": [
        {
          "output_type": "stream",
          "name": "stdout",
          "text": [
            "Names of all sources:  ['politifact' 'snopes' 'africacheck' 'truthorfiction' 'factscan'\n",
            " 'checkyourfact']\n",
            "**************************************************\n",
            "Languges of all claims:  ['English']\n",
            "**************************************************\n",
            "Number of unique dates:  3738\n",
            "**************************************************\n",
            "Number of unique Rating names:  3\n",
            "**************************************************\n",
            "False Rating class number:  1\n",
            "MIXTURE Rating class number:  2\n",
            "True Rating class number:  3\n",
            "**************************************************\n",
            "<class 'pandas.core.frame.DataFrame'>\n",
            "RangeIndex: 24452 entries, 0 to 24451\n",
            "Data columns (total 11 columns):\n",
            " #   Column                  Non-Null Count  Dtype \n",
            "---  ------                  --------------  ----- \n",
            " 0   id                      24452 non-null  object\n",
            " 1   text                    24452 non-null  object\n",
            " 2   truthRating             24452 non-null  int64 \n",
            " 3   ratingName              24452 non-null  object\n",
            " 4   author                  24452 non-null  object\n",
            " 5   headline                24452 non-null  object\n",
            " 6   named_entities_claim    24421 non-null  object\n",
            " 7   named_entities_article  15340 non-null  object\n",
            " 8   keywords                23162 non-null  object\n",
            " 9   source                  24452 non-null  object\n",
            " 10  link                    24452 non-null  object\n",
            "dtypes: int64(1), object(10)\n",
            "memory usage: 2.1+ MB\n"
          ]
        }
      ],
      "source": [
        "#Getting unique source's names\n",
        "source_list = claimskg.source.unique()\n",
        "print(\"Names of all sources: \", source_list)\n",
        "print('**************************************************')\n",
        "\n",
        "#pop unimportant columns:\n",
        "\n",
        "#We pop the sourceURL because we have done one-hot encoding on the source column\n",
        "claimskg.pop('sourceURL')\n",
        "\n",
        "#Because languages of all claims are English, so we can neglect the column 'language'\n",
        "print(\"Languges of all claims: \", claimskg.language.unique())\n",
        "claimskg.pop('language')\n",
        "print('**************************************************')\n",
        "\n",
        "print(\"Number of unique dates: \", len(claimskg.date.unique()))\n",
        "\n",
        "#it does not seem that date would be important in results by looking at feature importance of autogluon predictor after several runs. so we drop it\n",
        "claimskg.pop('date')\n",
        "print('**************************************************')\n",
        "\n",
        "print(\"Number of unique Rating names: \", len(claimskg.ratingName.unique()))\n",
        "print('**************************************************')\n",
        "\n",
        "print(\"False Rating class number: \", claimskg[claimskg['ratingName']==False]['truthRating'].iloc[0])\n",
        "print(\"MIXTURE Rating class number: \", claimskg[claimskg['ratingName']=='MIXTURE']['truthRating'].iloc[0])\n",
        "print(\"True Rating class number: \", claimskg[claimskg['ratingName']==True]['truthRating'].iloc[2])\n",
        "print('**************************************************')\n",
        "\n",
        "claimskg.info()"
      ]
    },
    {
      "cell_type": "code",
      "execution_count": 9,
      "metadata": {
        "colab": {
          "base_uri": "https://localhost:8080/"
        },
        "id": "DjZuMZephMTj",
        "outputId": "04a34be7-5ca7-479c-ee5f-1f5ea2c42f13"
      },
      "outputs": [
        {
          "output_type": "stream",
          "name": "stdout",
          "text": [
            "Number of unique authors:  3885\n",
            "Number of unique article named entities:  10022\n",
            "Number of unique article named entities:  10156\n",
            "Number of NaN keyword claims:  1290\n",
            "Index on NaN keywords:  (array([    7,    12,    30, ..., 24335, 24388, 24392]),)\n"
          ]
        }
      ],
      "source": [
        "#print some information about the data set\n",
        "print(\"Number of unique authors: \", len(claimskg.author.unique()))\n",
        "print(\"Number of unique article named entities: \", len(claimskg.named_entities_article.unique()))\n",
        "print(\"Number of unique article named entities: \", len(claimskg.keywords.unique()))\n",
        "\n",
        "#Obtain indexes of claimskg where the keywords are NaN\n",
        "nan_keywords =np.where(pd.isnull(claimskg['keywords']))\n",
        "print(\"Number of NaN keyword claims: \", len(nan_keywords[0]))\n",
        "print(\"Index on NaN keywords: \", nan_keywords)"
      ]
    },
    {
      "cell_type": "markdown",
      "metadata": {
        "id": "t8v063BAQREW"
      },
      "source": [
        "# Deal with NaNs"
      ]
    },
    {
      "cell_type": "code",
      "execution_count": 10,
      "metadata": {
        "colab": {
          "base_uri": "https://localhost:8080/"
        },
        "id": "q8zVEOcDum6L",
        "outputId": "c35b95ad-0283-42e5-87ec-0f6bf8080dc1"
      },
      "outputs": [
        {
          "output_type": "stream",
          "name": "stdout",
          "text": [
            "cuda\n"
          ]
        }
      ],
      "source": [
        "\n",
        "tf.test.gpu_device_name()\n",
        "torch.cuda.is_available()\n",
        "\n",
        "def get_default_device():\n",
        "    \"\"\"Picking GPU if available or else CPU\"\"\"\n",
        "    if torch.cuda.is_available():\n",
        "        return torch.device('cuda')\n",
        "    else:\n",
        "        return torch.device('cpu')\n",
        "device = get_default_device()\n",
        "print(device)\n",
        "\n",
        "def to_device(data, device):\n",
        "    \"\"\"Move tensor(s) to chosen device\"\"\"\n",
        "    if isinstance(data, (list,tuple)):\n",
        "        return [to_device(x, device) for x in data]\n",
        "    return data.to(device, non_blocking=True)\n",
        "\n"
      ]
    },
    {
      "cell_type": "code",
      "execution_count": 11,
      "metadata": {
        "id": "4soine-PvIRt"
      },
      "outputs": [],
      "source": [
        "def keywords(doc, kw_model, max_length, top_n):\n",
        "  ''' Getting keywords of a document by using keyBert\n",
        "    returns the obtained keywords\n",
        "  '''\n",
        "  n_gram_range = tuple((1, max_length))\n",
        "  #we might not want to remove stop_words sometimes as they can tie longer keyphrases together.\n",
        "  top_n = top_n\n",
        "\n",
        "  keyword = kw_model.extract_keywords(doc, keyphrase_ngram_range=n_gram_range, top_n=top_n, ) \n",
        "  #we can add extra options like Max Sum Similarity by set use_maxsum=True, nr_candidates=10,\n",
        "  #Or add Maximal Marginal Relevance by set use_mmr=True, diversity=0.5\n",
        "  #We neglet these because of being time-consuming\n",
        "\n",
        "  #creating a similar string to other cells in 'keywords' column\n",
        "  keyword_string=''\n",
        "  for key in keyword:\n",
        "    keyword_string+=','+key[0]\n",
        "  keyword_string = keyword_string[1:]\n",
        "  return keyword_string"
      ]
    },
    {
      "cell_type": "code",
      "execution_count": 12,
      "metadata": {
        "colab": {
          "base_uri": "https://localhost:8080/",
          "height": 465,
          "referenced_widgets": [
            "47b5117dc15848d8b8aafd29360ec597",
            "9dd803917c854242ae9a1dd0e9c7f240",
            "c8d0e56055904657a40787ebe0c08e0d",
            "550a04c8847347ef8ba9b9658416da7b",
            "04c253a1c7ec4264a46072a46a652bb2",
            "63b36022d6544715aa91928e219f71af",
            "5eb85b6123a24e2693b3e606a85d5673",
            "bbe62b82ff084e6ba88fb61fad82b420",
            "358769ff78124b70b9f85a62249a839a",
            "91abee3d0331473a8c6289b7620f1cb9",
            "2c334b392581497e8ea143acbd62f4bb",
            "a694c9261b244fd3af0652460a571680",
            "2b94be82883d440fa33945910fddec70",
            "065ab6aef36b48f98326713736a52b87",
            "9bd1d9aeb6a349fda5901629c8d0c175",
            "3c968f19a6244d4a9f8ad04b80530c95",
            "f4fa5b870ae74be596862be69a76d7fa",
            "13494482579e48e0a4535fce21c1cfbd",
            "553d22dbd6a047a1b608c8af7d6911bf",
            "f0aad234327b45fe8d0f45e89763aff5",
            "c16c6477d1814cd7b5571a7b1a34b8ff",
            "af96a1f73aaf45ccbcea14f4d655850b",
            "281eb36b581848dca0c599505767431c",
            "4fdba151ba924fb2b02381e3e058a5c0",
            "b45f4261d7a94eb986c74ef1be8ab88d",
            "ca043dd48c1d40599516053ff77be0e3",
            "f0c42279f61c452080c063e7cf63f3bd",
            "1d18d7d799ad4c359a5cf0c707dc5186",
            "f54050a3398f479aaee23a132f78cd90",
            "1ebacabdb7914dfbab527bb5aba9556c",
            "36391c2cc0e94f3e9e01d96fe585bfc1",
            "04fb9428dc814b99b4c5bbde1e3555f4",
            "cb825965ec784bb2a0b62ba8449f3835",
            "d3277d49ee3641e18037bacac91e3846",
            "ab146eb2f90e4afc88dcf28926d73d1c",
            "31d2a0d647114452ba92cf57aea8d749",
            "fd6f0d96bf724a15a55533b506e18090",
            "96a34ac9a0ec46e3a1b4af86ed41a201",
            "0ccbc257386f4f77a6b91bdf6f500943",
            "b1a50d101c5340d3bea0b7bf2be642cb",
            "12ccb258012a45948cad35b6afb2d694",
            "00adfa3f2a414680a527b1c19511f39d",
            "de83fb5e48a14ad8812413783b82a32b",
            "3c64b1f747cf48aab8dc254b07a06e01",
            "aa548e4e9def41c28e8dffccca57dfc5",
            "ae31540f9c7a479e8e61d60cc236df74",
            "6102b4cd182e48bb8c97301028ebd3b9",
            "a03ad5eca52849b09df5e42688641b5d",
            "1e634f92ad554aa697bbaa96250d43c4",
            "d0dc3c9e52b14338af248670ffc52787",
            "e9a9587aaeaa4847b00509c33b5c300e",
            "c3914dbe35984fcf96378641d0f6c9bc",
            "a5542a41f72b42b08ba814f288adfd27",
            "c68b19b1857e4dc3afaa053b3b939225",
            "331afcd91f71412b894946e27f2fd983",
            "b2fa1c76f11a4495a3b3b5169dbf7170",
            "97ca9a410701434383fa688143f7ffe6",
            "1fae2c9c63354e93b373e91a81de706e",
            "11f7c8e02e104580bbf0042dae7aaa08",
            "39240bd0b29f48a6bf4830abac880c77",
            "6edd4b03f2e84af1b622ab991a0b90de",
            "577fad78d3294d0da2896351377a0219",
            "ce0622780c6e424a8197cd8ee4b655f0",
            "aae5dd7eb61e4081bb47b04df6557a5c",
            "9e24244736504effac6930a93c4f45d8",
            "6a647cb9f92c4b5ea2b5f79ee816c9e7",
            "27e95250eb864197a6f6959f88b41a93",
            "482037c0c45046e88536817b3f9769e3",
            "ee2f0fd8b5e04a8bbd595b24acbfd6c7",
            "6fae7ecea5c6475ea5418e3938f3c266",
            "702552e1cf08486c9e8d4872aaff63d7",
            "61bbdbce6b71456aa134dd780089be0b",
            "3f55e57ad8a04a7faf5f1824f70ed5e2",
            "efb7bdc3f94346c8b50cd7d18a8c5bd9",
            "d18cbedc94a343fd80b3dc82772bded1",
            "50439c02cbc944afac028e5fbca2313f",
            "d5538c185b824b52b5c396883ab3a39a",
            "4c6211dbf12d4cf593c55b82b56e3e3f",
            "bed10cf668a84c40abd3a922c9c9c2e4",
            "fe5bf0a1510c4458970a1ac93a3ffc7d",
            "38134024c24b485fb9363ec0c88bfaaa",
            "687321bbd69340a8b7393cd60a1b830a",
            "9ebf804ae3bb45499f7fd0cd78868c3a",
            "8a44aee4792b42f880d9ee059c519035",
            "60f5af4657a044f2bec84f1523dbfef4",
            "fe84a91a6b6b45379ed89a513bd5cd39",
            "a6675d67405d412d9a147e3d78da26bf",
            "8bf1a26fc86f443798c2f43457595063",
            "5f382f9eb7394acf94258524ffa3b2d1",
            "232b6a4fb80e45bb8b4e19e8ccd765af",
            "0b4d99278ad441adb151e7886e48f03e",
            "9f40971ff1ef41a48dcbfe0931d42f43",
            "0b24f8cda9de4e1fb521560d70e4cd4c",
            "3f4af661e8b34b81afa85429fb04514b",
            "0bccde796be445de92bac48e2bc41117",
            "cb19b48fc488469fbff59a02c27a26c0",
            "bea5c8d591c84d1c82efb71c721d8b3f",
            "59ad21e2933e4e09a706d8c60a762259",
            "8be1074de9a24049861bd44694105f96",
            "88cd8e3e49814afe9387c898ba779940",
            "5fa2542e0ccf4a0d81faef2380238857",
            "34451528ba9e4e43bf6e774d7a667003",
            "a18ad6c1319a473981783f048917ee41",
            "26d6c6df45b04bf5b4b541341bdf0f73",
            "2661405de3664b53a23b1d69690725cb",
            "f000619f63f0409084b36592d1b3b243",
            "db319e6033714c9784aafcc1f4cef513",
            "7e683672181e4dc78dee266a0096059d",
            "acfb6fb5956143f6a32a44c0eae5d8cf",
            "ed4d219fb9694580a587ffa99a6ce01d",
            "293897dfd34d4bb79b2d0d5f7a7496c6",
            "44d11d5a2d884bb59bd761f0a2712868",
            "29028ce722184f588b386ec0c60dc34c",
            "b4095e299588461d80b52017e146bb7f",
            "52ca3f30661649288e2ac9a76c5d1439",
            "b63821f12b1946d293bb7b0aea76729c",
            "fc0ccd8265eb42909573b77ceb44cbb7",
            "944373c1bf744b79b2883a0775ef3a66",
            "25599a9eb0d2481faf4ca2118936dd25",
            "a36aeabdb7c5482d86d365d0af238901",
            "b214253337924983aff9c3537d7d7545",
            "a33f2664b75945e881448771849e4bc0",
            "57f4418b922445e289affe7b4721693a",
            "23c09193b53e4cb4bc3b5187d1bacb50",
            "1ccaefa89cb24ce5b1c3a39afbed2d44",
            "5d5e11e63a3a4aaeb93f4b9e611d8088",
            "f7cc5fa8c7cd44cda6dab54866f22e7f",
            "587ab73880544f53aef4fe448c0f8b94",
            "b308f3442e5f48cc8f61ec07e2f78b0a",
            "cff0c4cd2136428eb7a87c060612248d",
            "910aef2f4758423bb56b53f92b33e3a7",
            "0d1838b8c43a4c90aa04fd6a3e41e7be",
            "1c960c5737a141f9bc5fc110395b649d",
            "843bb3ac3a5d4ecb9c90e73040c3c6ef",
            "69e9a11af94d46dfa869ca0aabc6a81f",
            "5c74fd9b2bf04f4198ad2b0c3f896e83",
            "287ff304192543f59bf55d6ba30dd7dd",
            "47839d82f7f04167b0f9e635951f6b35",
            "990e2b48bc3b489f87008e5f014c635b",
            "8c6b3481995547179be193f3521c6b8f",
            "b4a569d058c444b893df1cd430d532cb",
            "4c4687dd10924d3186a6e7679a020098",
            "e95c717dc3614b41b305e9d0ac91cbbd",
            "819633cd80af457c922b2c919f1f1954",
            "9c9daa50cbc24f6888ca3a7d3d0769bf",
            "d3f3b69e5cd449ee86b0c6a9e8fb8507",
            "8818647bac204fdc9288d6a3933b1af1",
            "97eb2ca0a71f4cefab339e846a976b27",
            "00485664e7c24a268d44865e7c0b666d",
            "03219da00aa54164b968f1c9043c0eaf",
            "3be9a984b39a46ee8e129b8c17649a56",
            "3bf0e7ee610c4fc48c2293f821ea76ed",
            "86a2443138ae4ee591ee2104670a9f82",
            "0dbe621de1e84661a08439c310007120"
          ]
        },
        "id": "9xzxObtky5Az",
        "outputId": "15bdd2a8-ade0-4cf8-ae5f-220aa25d784b"
      },
      "outputs": [
        {
          "output_type": "display_data",
          "data": {
            "application/vnd.jupyter.widget-view+json": {
              "model_id": "47b5117dc15848d8b8aafd29360ec597",
              "version_minor": 0,
              "version_major": 2
            },
            "text/plain": [
              "Downloading:   0%|          | 0.00/1.18k [00:00<?, ?B/s]"
            ]
          },
          "metadata": {}
        },
        {
          "output_type": "display_data",
          "data": {
            "application/vnd.jupyter.widget-view+json": {
              "model_id": "a694c9261b244fd3af0652460a571680",
              "version_minor": 0,
              "version_major": 2
            },
            "text/plain": [
              "Downloading:   0%|          | 0.00/10.2k [00:00<?, ?B/s]"
            ]
          },
          "metadata": {}
        },
        {
          "output_type": "display_data",
          "data": {
            "application/vnd.jupyter.widget-view+json": {
              "model_id": "281eb36b581848dca0c599505767431c",
              "version_minor": 0,
              "version_major": 2
            },
            "text/plain": [
              "Downloading:   0%|          | 0.00/612 [00:00<?, ?B/s]"
            ]
          },
          "metadata": {}
        },
        {
          "output_type": "display_data",
          "data": {
            "application/vnd.jupyter.widget-view+json": {
              "model_id": "d3277d49ee3641e18037bacac91e3846",
              "version_minor": 0,
              "version_major": 2
            },
            "text/plain": [
              "Downloading:   0%|          | 0.00/116 [00:00<?, ?B/s]"
            ]
          },
          "metadata": {}
        },
        {
          "output_type": "display_data",
          "data": {
            "application/vnd.jupyter.widget-view+json": {
              "model_id": "aa548e4e9def41c28e8dffccca57dfc5",
              "version_minor": 0,
              "version_major": 2
            },
            "text/plain": [
              "Downloading:   0%|          | 0.00/39.3k [00:00<?, ?B/s]"
            ]
          },
          "metadata": {}
        },
        {
          "output_type": "display_data",
          "data": {
            "application/vnd.jupyter.widget-view+json": {
              "model_id": "b2fa1c76f11a4495a3b3b5169dbf7170",
              "version_minor": 0,
              "version_major": 2
            },
            "text/plain": [
              "Downloading:   0%|          | 0.00/349 [00:00<?, ?B/s]"
            ]
          },
          "metadata": {}
        },
        {
          "output_type": "display_data",
          "data": {
            "application/vnd.jupyter.widget-view+json": {
              "model_id": "27e95250eb864197a6f6959f88b41a93",
              "version_minor": 0,
              "version_major": 2
            },
            "text/plain": [
              "Downloading:   0%|          | 0.00/90.9M [00:00<?, ?B/s]"
            ]
          },
          "metadata": {}
        },
        {
          "output_type": "display_data",
          "data": {
            "application/vnd.jupyter.widget-view+json": {
              "model_id": "4c6211dbf12d4cf593c55b82b56e3e3f",
              "version_minor": 0,
              "version_major": 2
            },
            "text/plain": [
              "Downloading:   0%|          | 0.00/53.0 [00:00<?, ?B/s]"
            ]
          },
          "metadata": {}
        },
        {
          "output_type": "display_data",
          "data": {
            "application/vnd.jupyter.widget-view+json": {
              "model_id": "5f382f9eb7394acf94258524ffa3b2d1",
              "version_minor": 0,
              "version_major": 2
            },
            "text/plain": [
              "Downloading:   0%|          | 0.00/112 [00:00<?, ?B/s]"
            ]
          },
          "metadata": {}
        },
        {
          "output_type": "display_data",
          "data": {
            "application/vnd.jupyter.widget-view+json": {
              "model_id": "88cd8e3e49814afe9387c898ba779940",
              "version_minor": 0,
              "version_major": 2
            },
            "text/plain": [
              "Downloading:   0%|          | 0.00/466k [00:00<?, ?B/s]"
            ]
          },
          "metadata": {}
        },
        {
          "output_type": "display_data",
          "data": {
            "application/vnd.jupyter.widget-view+json": {
              "model_id": "293897dfd34d4bb79b2d0d5f7a7496c6",
              "version_minor": 0,
              "version_major": 2
            },
            "text/plain": [
              "Downloading:   0%|          | 0.00/350 [00:00<?, ?B/s]"
            ]
          },
          "metadata": {}
        },
        {
          "output_type": "display_data",
          "data": {
            "application/vnd.jupyter.widget-view+json": {
              "model_id": "a33f2664b75945e881448771849e4bc0",
              "version_minor": 0,
              "version_major": 2
            },
            "text/plain": [
              "Downloading:   0%|          | 0.00/13.2k [00:00<?, ?B/s]"
            ]
          },
          "metadata": {}
        },
        {
          "output_type": "display_data",
          "data": {
            "application/vnd.jupyter.widget-view+json": {
              "model_id": "1c960c5737a141f9bc5fc110395b649d",
              "version_minor": 0,
              "version_major": 2
            },
            "text/plain": [
              "Downloading:   0%|          | 0.00/232k [00:00<?, ?B/s]"
            ]
          },
          "metadata": {}
        },
        {
          "output_type": "display_data",
          "data": {
            "application/vnd.jupyter.widget-view+json": {
              "model_id": "819633cd80af457c922b2c919f1f1954",
              "version_minor": 0,
              "version_major": 2
            },
            "text/plain": [
              "Downloading:   0%|          | 0.00/190 [00:00<?, ?B/s]"
            ]
          },
          "metadata": {}
        }
      ],
      "source": [
        "#filling the cells having nan in the 'keywords' column using keyBERT\n",
        "\n",
        "kw_model = KeyBERT()\n",
        "#to_device(kw_model,device)\n",
        "\n",
        "for i in nan_keywords[0]:\n",
        "  claimskg.iloc[i, claimskg.columns.get_loc('keywords')] = keywords(claimskg.iloc[i]['text']+','+claimskg.iloc[i]['headline'], kw_model, max_length=2, top_n=5)\n",
        "# run time: 1 minute one Colab gpu"
      ]
    },
    {
      "cell_type": "code",
      "execution_count": 13,
      "metadata": {
        "id": "gMWbHGEY2Rqx"
      },
      "outputs": [],
      "source": [
        "#Saving the table with full\n",
        "claimskg.to_csv(\"claimskg_all_keywords.csv\", index=False)"
      ]
    },
    {
      "cell_type": "code",
      "execution_count": 14,
      "metadata": {
        "id": "J8yU_jQlDwQg"
      },
      "outputs": [],
      "source": [
        "claimskg = pd.read_csv(\"claimskg_all_keywords.csv\")"
      ]
    },
    {
      "cell_type": "code",
      "execution_count": 15,
      "metadata": {
        "colab": {
          "base_uri": "https://localhost:8080/"
        },
        "id": "8Y_CR5ODp8Hb",
        "outputId": "b7291230-21db-4063-ce20-4ff0686e842c"
      },
      "outputs": [
        {
          "output_type": "stream",
          "name": "stdout",
          "text": [
            "<class 'pandas.core.frame.DataFrame'>\n",
            "RangeIndex: 24452 entries, 0 to 24451\n",
            "Data columns (total 11 columns):\n",
            " #   Column                  Non-Null Count  Dtype \n",
            "---  ------                  --------------  ----- \n",
            " 0   id                      24452 non-null  object\n",
            " 1   text                    24452 non-null  object\n",
            " 2   truthRating             24452 non-null  int64 \n",
            " 3   ratingName              24452 non-null  object\n",
            " 4   author                  24452 non-null  object\n",
            " 5   headline                24452 non-null  object\n",
            " 6   named_entities_claim    24421 non-null  object\n",
            " 7   named_entities_article  15340 non-null  object\n",
            " 8   keywords                24452 non-null  object\n",
            " 9   source                  24452 non-null  object\n",
            " 10  link                    24452 non-null  object\n",
            "dtypes: int64(1), object(10)\n",
            "memory usage: 2.1+ MB\n"
          ]
        }
      ],
      "source": [
        "claimskg.info()"
      ]
    },
    {
      "cell_type": "code",
      "execution_count": 16,
      "metadata": {
        "colab": {
          "base_uri": "https://localhost:8080/"
        },
        "id": "DZP39VbleBsz",
        "outputId": "62da4c4b-ba31-4f6e-d78d-490ca967aadd"
      },
      "outputs": [
        {
          "output_type": "stream",
          "name": "stdout",
          "text": [
            "Number of NaN keyword claims:  31\n",
            "Index on NaN keywords:  (array([  172,  1328,  1609,  1870,  1910,  2234,  4585,  5104,  5708,\n",
            "        6225,  7107,  7845,  9446,  9991, 10895, 10923, 10932, 11263,\n",
            "       11460, 11734, 12473, 12569, 13246, 13440, 13541, 13921, 13967,\n",
            "       16570, 16872, 17946, 20348]),)\n"
          ]
        }
      ],
      "source": [
        "#Obtain indexes of claimskg where the named_entities_claim are NaN\n",
        "nan_claim_entity =np.where(pd.isnull(claimskg['named_entities_claim']))\n",
        "print(\"Number of NaN keyword claims: \", len(nan_claim_entity[0]))\n",
        "print(\"Index on NaN keywords: \", nan_claim_entity)"
      ]
    },
    {
      "cell_type": "code",
      "execution_count": 17,
      "metadata": {
        "id": "JF0bKfTehMIJ"
      },
      "outputs": [],
      "source": [
        "##filling the cells having nan in the 'named_entities_claim' column using keyBERT\n",
        "\n",
        "for i in nan_claim_entity[0]:\n",
        "  choices_list = claimskg.iloc[i, claimskg.columns.get_loc('headline')] +','+ claimskg.iloc[i, claimskg.columns.get_loc('text')]\n",
        "  claimskg.iloc[i, claimskg.columns.get_loc('named_entities_claim')] = keywords(choices_list, kw_model, max_length=6, top_n=10)\n"
      ]
    },
    {
      "cell_type": "code",
      "execution_count": 18,
      "metadata": {
        "id": "dT0dLqzp2ujh"
      },
      "outputs": [],
      "source": [
        "#Saving table with full lemmatized named_entities_claim column\n",
        "claimskg.to_csv(\"claimskg_all_entities_claim.csv\", index=False)"
      ]
    },
    {
      "cell_type": "code",
      "execution_count": 19,
      "metadata": {
        "id": "lEFir9kF4QAI"
      },
      "outputs": [],
      "source": [
        "claimskg = pd.read_csv(\"claimskg_all_entities_claim.csv\")"
      ]
    },
    {
      "cell_type": "code",
      "execution_count": 20,
      "metadata": {
        "colab": {
          "base_uri": "https://localhost:8080/"
        },
        "id": "iO-c64CQ0WFJ",
        "outputId": "e9194b26-fd2b-4f73-df6e-4fde2f5866ab"
      },
      "outputs": [
        {
          "output_type": "stream",
          "name": "stdout",
          "text": [
            "<class 'pandas.core.frame.DataFrame'>\n",
            "RangeIndex: 24452 entries, 0 to 24451\n",
            "Data columns (total 11 columns):\n",
            " #   Column                  Non-Null Count  Dtype \n",
            "---  ------                  --------------  ----- \n",
            " 0   id                      24452 non-null  object\n",
            " 1   text                    24452 non-null  object\n",
            " 2   truthRating             24452 non-null  int64 \n",
            " 3   ratingName              24452 non-null  object\n",
            " 4   author                  24452 non-null  object\n",
            " 5   headline                24452 non-null  object\n",
            " 6   named_entities_claim    24452 non-null  object\n",
            " 7   named_entities_article  15340 non-null  object\n",
            " 8   keywords                24452 non-null  object\n",
            " 9   source                  24452 non-null  object\n",
            " 10  link                    24452 non-null  object\n",
            "dtypes: int64(1), object(10)\n",
            "memory usage: 2.1+ MB\n"
          ]
        }
      ],
      "source": [
        "claimskg.info()"
      ]
    },
    {
      "cell_type": "code",
      "execution_count": 21,
      "metadata": {
        "colab": {
          "base_uri": "https://localhost:8080/"
        },
        "id": "yrxyc2j5eBz1",
        "outputId": "5f058d83-85b8-4df2-bcb0-69d4bc611ebc"
      },
      "outputs": [
        {
          "output_type": "stream",
          "name": "stdout",
          "text": [
            "Number of NaN keyword claims:  9112\n",
            "Index on NaN keywords:  (array([    1,     2,     5, ..., 24449, 24450, 24451]),)\n"
          ]
        }
      ],
      "source": [
        "#Obtain indexes of claimskg where the named_entities_article are NaN\n",
        "nan_article_list =np.where(pd.isnull(claimskg['named_entities_article']))\n",
        "print(\"Number of NaN keyword claims: \", len(nan_article_list[0]))\n",
        "print(\"Index on NaN keywords: \", nan_article_list)"
      ]
    },
    {
      "cell_type": "markdown",
      "metadata": {
        "id": "DHuShm-BFgt-"
      },
      "source": [
        "### Using headline and named_entities_claim to recognize the top 2 article topics\n",
        "Looking at the non NaN named_entities_article cells this seems sensible filling the NaN cells using headline and named_entities_claim. \n",
        "\n",
        "**Note: It's the bottleneck of my program and not using the Colab GPU, it's takes about 40 minutes for running. This is because there are too many words on the named_entities_claim column- one of the columns we are using for prediction- and because we are searching for both single words and 2-grams, the number of choices will become too much.**\n",
        "\n",
        "Offer: We can use only single words to article named-entity recognition. I mean change the max_length to 1."
      ]
    },
    {
      "cell_type": "code",
      "execution_count": 22,
      "metadata": {
        "id": "nST2tSTucbAA"
      },
      "outputs": [],
      "source": [
        "for i in nan_article_list[0]:\n",
        "  choices_list = claimskg.iloc[i, claimskg.columns.get_loc('headline')] +','+ claimskg.iloc[i, claimskg.columns.get_loc('named_entities_claim')]\n",
        "  claimskg.iloc[i, claimskg.columns.get_loc('named_entities_article')] = keywords(choices_list, kw_model, max_length=2, top_n=2)\n",
        "\n",
        "#less than 8 minutes run on my Colab gpu, otherwise it's so time-consuming"
      ]
    },
    {
      "cell_type": "code",
      "execution_count": 24,
      "metadata": {
        "colab": {
          "base_uri": "https://localhost:8080/"
        },
        "id": "Z9dg1PoyG0BY",
        "outputId": "61c60c54-c2c6-4db3-aedc-ddb24f3902b0"
      },
      "outputs": [
        {
          "output_type": "stream",
          "name": "stdout",
          "text": [
            "<class 'pandas.core.frame.DataFrame'>\n",
            "RangeIndex: 24452 entries, 0 to 24451\n",
            "Data columns (total 11 columns):\n",
            " #   Column                  Non-Null Count  Dtype \n",
            "---  ------                  --------------  ----- \n",
            " 0   id                      24452 non-null  object\n",
            " 1   text                    24452 non-null  object\n",
            " 2   truthRating             24452 non-null  int64 \n",
            " 3   ratingName              24452 non-null  object\n",
            " 4   author                  24452 non-null  object\n",
            " 5   headline                24452 non-null  object\n",
            " 6   named_entities_claim    24452 non-null  object\n",
            " 7   named_entities_article  24452 non-null  object\n",
            " 8   keywords                24452 non-null  object\n",
            " 9   source                  24452 non-null  object\n",
            " 10  link                    24452 non-null  object\n",
            "dtypes: int64(1), object(10)\n",
            "memory usage: 2.1+ MB\n"
          ]
        }
      ],
      "source": [
        "claimskg.info()"
      ]
    },
    {
      "cell_type": "code",
      "execution_count": 25,
      "metadata": {
        "id": "3b8aWhQo4lwT"
      },
      "outputs": [],
      "source": [
        "claimskg.to_csv(\"claimskg_all_articles.csv\", index=False)"
      ]
    },
    {
      "cell_type": "markdown",
      "metadata": {
        "id": "SiP0IDczSN7Y"
      },
      "source": [
        "# Lowercase, Lemmatize, Stem and, Remove Stop Words and Puncuations "
      ]
    },
    {
      "cell_type": "code",
      "execution_count": 29,
      "metadata": {
        "id": "YJlLnGZ0G9Zs"
      },
      "outputs": [],
      "source": [
        "claimskg = pd.read_csv(\"claimskg_all_articles.csv\")"
      ]
    },
    {
      "cell_type": "code",
      "execution_count": 30,
      "metadata": {
        "colab": {
          "base_uri": "https://localhost:8080/"
        },
        "id": "0T8IxbEUfJBM",
        "outputId": "5b0994ae-b538-41f0-ea51-85800707766a"
      },
      "outputs": [
        {
          "output_type": "stream",
          "name": "stdout",
          "text": [
            "<class 'pandas.core.frame.DataFrame'>\n",
            "RangeIndex: 24452 entries, 0 to 24451\n",
            "Data columns (total 11 columns):\n",
            " #   Column                  Non-Null Count  Dtype \n",
            "---  ------                  --------------  ----- \n",
            " 0   id                      24452 non-null  object\n",
            " 1   text                    24452 non-null  object\n",
            " 2   truthRating             24452 non-null  int64 \n",
            " 3   ratingName              24452 non-null  object\n",
            " 4   author                  24452 non-null  object\n",
            " 5   headline                24452 non-null  object\n",
            " 6   named_entities_claim    24452 non-null  object\n",
            " 7   named_entities_article  24452 non-null  object\n",
            " 8   keywords                24452 non-null  object\n",
            " 9   source                  24452 non-null  object\n",
            " 10  link                    24452 non-null  object\n",
            "dtypes: int64(1), object(10)\n",
            "memory usage: 2.1+ MB\n"
          ]
        }
      ],
      "source": [
        "claimskg.info()"
      ]
    },
    {
      "cell_type": "code",
      "execution_count": 31,
      "metadata": {
        "id": "7FGL000t9fZo"
      },
      "outputs": [],
      "source": [
        "#pos tagging and adding POS column to dataset\n",
        "\n",
        "#texts = claimskg['text']\n",
        "#claimskg['POS'] = pos_tag_sents(map(word_tokenize, texts))\n"
      ]
    },
    {
      "cell_type": "code",
      "execution_count": 32,
      "metadata": {
        "id": "rOYFhsEhYL4O"
      },
      "outputs": [],
      "source": [
        "#remove punctuation from columns\n",
        "\n",
        "columns = ['text', 'headline','author', 'named_entities_claim','named_entities_article', 'keywords']\n",
        "for col in columns:\n",
        "  #make text lowercase\n",
        "  claimskg[col] = claimskg[col].apply(lambda x: x.lower())\n",
        "  #Because we replaced the special characters with a plus, we might end up with double whitespaces in some cases\n",
        "  claimskg[col] = claimskg[col].apply(lambda x: re.sub('[%s]' % re.escape(string.punctuation), ' ' , x))\n",
        "  #remove digits\n",
        "  claimskg[col] = claimskg[col].apply(lambda x: re.sub('W*\\dw*',' ',x))\n",
        "  #remove extra spaces\n",
        "  claimskg[col] = claimskg[col].apply(lambda x: re.sub('[\\t\\r\\n\\f]',' ',x))"
      ]
    },
    {
      "cell_type": "code",
      "execution_count": 33,
      "metadata": {
        "id": "pJPSo2hXjnV3"
      },
      "outputs": [],
      "source": [
        "#Remove stop words of the all necessary columns\n",
        "stop_words = set(stopwords.words('english'))\n",
        "\n",
        "def remove_stop_word(text):\n",
        "    return \" \".join(w for w in word_tokenize(text) if not w.lower() in stop_words)\n",
        "\n",
        "#Do on all textual columns except for author \n",
        "columns.remove('author')\n",
        "for col in columns:\n",
        "  df = claimskg[col].copy()\n",
        "  df = pd.DataFrame(df)\n",
        "  df['text_stopped'] = df[col].apply(remove_stop_word)\n",
        "  claimskg[col] = df.text_stopped\n"
      ]
    },
    {
      "cell_type": "code",
      "execution_count": 34,
      "metadata": {
        "id": "Tg2LW8qLGRsi"
      },
      "outputs": [],
      "source": [
        "#Lemmatization all the necessary columns\n",
        "lemmatizer = nltk.stem.WordNetLemmatizer()\n",
        "\n",
        "def lemmatize_text(text):\n",
        "    return \" \".join(lemmatizer.lemmatize(w) for w in nltk.word_tokenize(text))\n",
        "\n",
        "for col in columns:\n",
        "  df = claimskg[col].copy()\n",
        "  df = pd.DataFrame(df)\n",
        "  df['text_lemmatized'] = df[col].apply(lemmatize_text)\n",
        "  claimskg[col] = df.text_lemmatized\n"
      ]
    },
    {
      "cell_type": "code",
      "execution_count": 35,
      "metadata": {
        "id": "yJYuhAnXY4Uq"
      },
      "outputs": [],
      "source": [
        "#stemming\n",
        "stemmer = PorterStemmer()\n",
        "\n",
        "def stem_words(text):\n",
        "  return \" \".join([stemmer.stem(word) for word in nltk.word_tokenize(text)])\n",
        "\n",
        "for col in columns:\n",
        "  df = claimskg[col].copy()\n",
        "  df = pd.DataFrame(df)\n",
        "  df['text_stemmed'] = df[col].apply(stem_words)\n",
        "  claimskg[col] = df.text_stemmed\n"
      ]
    },
    {
      "cell_type": "code",
      "source": [
        "#Let's take a look at our edited data set\n",
        "claimskg"
      ],
      "metadata": {
        "colab": {
          "base_uri": "https://localhost:8080/",
          "height": 1000
        },
        "id": "6ixb8txqtHv4",
        "outputId": "1422b2da-34b3-4c2d-d425-fae421c7e6d0"
      },
      "execution_count": 36,
      "outputs": [
        {
          "output_type": "execute_result",
          "data": {
            "text/html": [
              "\n",
              "  <div id=\"df-aa9dd8a5-2e60-4d28-a3c3-caa17fd436c4\">\n",
              "    <div class=\"colab-df-container\">\n",
              "      <div>\n",
              "<style scoped>\n",
              "    .dataframe tbody tr th:only-of-type {\n",
              "        vertical-align: middle;\n",
              "    }\n",
              "\n",
              "    .dataframe tbody tr th {\n",
              "        vertical-align: top;\n",
              "    }\n",
              "\n",
              "    .dataframe thead th {\n",
              "        text-align: right;\n",
              "    }\n",
              "</style>\n",
              "<table border=\"1\" class=\"dataframe\">\n",
              "  <thead>\n",
              "    <tr style=\"text-align: right;\">\n",
              "      <th></th>\n",
              "      <th>id</th>\n",
              "      <th>text</th>\n",
              "      <th>truthRating</th>\n",
              "      <th>ratingName</th>\n",
              "      <th>author</th>\n",
              "      <th>headline</th>\n",
              "      <th>named_entities_claim</th>\n",
              "      <th>named_entities_article</th>\n",
              "      <th>keywords</th>\n",
              "      <th>source</th>\n",
              "      <th>link</th>\n",
              "    </tr>\n",
              "  </thead>\n",
              "  <tbody>\n",
              "    <tr>\n",
              "      <th>0</th>\n",
              "      <td>http://data.gesis.org/claimskg/claim_review/36...</td>\n",
              "      <td>public fund abort legisl</td>\n",
              "      <td>3</td>\n",
              "      <td>True</td>\n",
              "      <td>bart stupak</td>\n",
              "      <td>stupak revis abort stanc health care bill cite...</td>\n",
              "      <td>abort right barack obama bart stupak ben nelso...</td>\n",
              "      <td>abort</td>\n",
              "      <td>abort health care</td>\n",
              "      <td>politifact</td>\n",
              "      <td>http://www.politifact.com/truth-o-meter/statem...</td>\n",
              "    </tr>\n",
              "    <tr>\n",
              "      <th>1</th>\n",
              "      <td>http://data.gesis.org/claimskg/claim_review/e6...</td>\n",
              "      <td>central health hospit district texa spend taxp...</td>\n",
              "      <td>3</td>\n",
              "      <td>True</td>\n",
              "      <td>wayne christian</td>\n",
              "      <td>state rep wayn christian say central health tr...</td>\n",
              "      <td>austin american statesman harri counti hospit ...</td>\n",
              "      <td>travi counti counti texa</td>\n",
              "      <td>abort</td>\n",
              "      <td>politifact</td>\n",
              "      <td>http://www.politifact.com/texas/statements/201...</td>\n",
              "    </tr>\n",
              "    <tr>\n",
              "      <th>2</th>\n",
              "      <td>http://data.gesis.org/claimskg/claim_review/e0...</td>\n",
              "      <td>say perri chief staff lobbyist</td>\n",
              "      <td>3</td>\n",
              "      <td>True</td>\n",
              "      <td>bill white</td>\n",
              "      <td>bill white say gov rick perri chief staff lobb...</td>\n",
              "      <td>bill clement bill white bracewel giuliani brac...</td>\n",
              "      <td>staff lobbyist lobbyist clement</td>\n",
              "      <td>ethic</td>\n",
              "      <td>politifact</td>\n",
              "      <td>http://www.politifact.com/texas/statements/201...</td>\n",
              "    </tr>\n",
              "    <tr>\n",
              "      <th>3</th>\n",
              "      <td>http://data.gesis.org/claimskg/claim_review/48...</td>\n",
              "      <td>say co chair joint way mean committe secur key...</td>\n",
              "      <td>3</td>\n",
              "      <td>True</td>\n",
              "      <td>mary nolan</td>\n",
              "      <td>mari nolan secur fund milwauki bridg project</td>\n",
              "      <td>carolyn tomei dave hunt fetsch jeff merkley ka...</td>\n",
              "      <td>portland milwauki light rail project</td>\n",
              "      <td>state budget state financ transport</td>\n",
              "      <td>politifact</td>\n",
              "      <td>http://www.politifact.com/oregon/statements/20...</td>\n",
              "    </tr>\n",
              "    <tr>\n",
              "      <th>4</th>\n",
              "      <td>http://data.gesis.org/claimskg/claim_review/80...</td>\n",
              "      <td>say gari farmer ’ claim receiv nra absolut lie</td>\n",
              "      <td>3</td>\n",
              "      <td>True</td>\n",
              "      <td>jim waldman</td>\n",
              "      <td>florida senat candid never actual receiv nra</td>\n",
              "      <td>gari farmer gwyndolen clark reed jim waldman l...</td>\n",
              "      <td>gari farmer</td>\n",
              "      <td>gun</td>\n",
              "      <td>politifact</td>\n",
              "      <td>http://www.politifact.com/florida/statements/2...</td>\n",
              "    </tr>\n",
              "    <tr>\n",
              "      <th>...</th>\n",
              "      <td>...</td>\n",
              "      <td>...</td>\n",
              "      <td>...</td>\n",
              "      <td>...</td>\n",
              "      <td>...</td>\n",
              "      <td>...</td>\n",
              "      <td>...</td>\n",
              "      <td>...</td>\n",
              "      <td>...</td>\n",
              "      <td>...</td>\n",
              "      <td>...</td>\n",
              "    </tr>\n",
              "    <tr>\n",
              "      <th>24447</th>\n",
              "      <td>http://data.gesis.org/claimskg/claim_review/41...</td>\n",
              "      <td>citi mayor percent latino percent vote</td>\n",
              "      <td>2</td>\n",
              "      <td>MIXTURE</td>\n",
              "      <td>lou barletta</td>\n",
              "      <td>hazleton ’ half latino lou barletta elect mayo...</td>\n",
              "      <td>barletta bob casey fox busi network hazleton i...</td>\n",
              "      <td>latino</td>\n",
              "      <td>immigr</td>\n",
              "      <td>politifact</td>\n",
              "      <td>http://www.politifact.com/pennsylvania/stateme...</td>\n",
              "    </tr>\n",
              "    <tr>\n",
              "      <th>24448</th>\n",
              "      <td>http://data.gesis.org/claimskg/claim_review/9e...</td>\n",
              "      <td>set imag show congenit anomali result hand eig...</td>\n",
              "      <td>2</td>\n",
              "      <td>MIXTURE</td>\n",
              "      <td>unknown</td>\n",
              "      <td>real hand eight finger</td>\n",
              "      <td>american societi surgeri hand bilaspur faceboo...</td>\n",
              "      <td>surgeri hand real hand</td>\n",
              "      <td>hand medic medic anomali mirror hand</td>\n",
              "      <td>snopes</td>\n",
              "      <td>https://www.snopes.com/fact-check/real-hand-ei...</td>\n",
              "    </tr>\n",
              "    <tr>\n",
              "      <th>24449</th>\n",
              "      <td>http://data.gesis.org/claimskg/claim_review/1a...</td>\n",
              "      <td>see peopl murder everi singl day gunfir america</td>\n",
              "      <td>2</td>\n",
              "      <td>MIXTURE</td>\n",
              "      <td>cory booker</td>\n",
              "      <td>cori booker say american kill gun everi day</td>\n",
              "      <td>abc center diseas control prevent cori booker ...</td>\n",
              "      <td>stephanopoulo gun mass shoot</td>\n",
              "      <td>crime gun</td>\n",
              "      <td>politifact</td>\n",
              "      <td>http://www.politifact.com/new-jersey/statement...</td>\n",
              "    </tr>\n",
              "    <tr>\n",
              "      <th>24450</th>\n",
              "      <td>http://data.gesis.org/claimskg/claim_review/28...</td>\n",
              "      <td>white men commit mass shoot group</td>\n",
              "      <td>2</td>\n",
              "      <td>MIXTURE</td>\n",
              "      <td>newsweek</td>\n",
              "      <td>white male respons mass shoot group</td>\n",
              "      <td>san bernardino shoot aurora colo follman grant...</td>\n",
              "      <td>mass shoot mass shoot</td>\n",
              "      <td>gun</td>\n",
              "      <td>politifact</td>\n",
              "      <td>http://www.politifact.com/punditfact/statement...</td>\n",
              "    </tr>\n",
              "    <tr>\n",
              "      <th>24451</th>\n",
              "      <td>http://data.gesis.org/claimskg/claim_review/e4...</td>\n",
              "      <td>presid obama ’ health care reform premium aver...</td>\n",
              "      <td>2</td>\n",
              "      <td>MIXTURE</td>\n",
              "      <td>ron johnson</td>\n",
              "      <td>obamacar health insur premium gone gone ron jo...</td>\n",
              "      <td>presidenti campaign afford care act barack oba...</td>\n",
              "      <td>obamacar health obamacar obama</td>\n",
              "      <td>corpor economi health care public health worker</td>\n",
              "      <td>politifact</td>\n",
              "      <td>http://www.politifact.com/wisconsin/statements...</td>\n",
              "    </tr>\n",
              "  </tbody>\n",
              "</table>\n",
              "<p>24452 rows × 11 columns</p>\n",
              "</div>\n",
              "      <button class=\"colab-df-convert\" onclick=\"convertToInteractive('df-aa9dd8a5-2e60-4d28-a3c3-caa17fd436c4')\"\n",
              "              title=\"Convert this dataframe to an interactive table.\"\n",
              "              style=\"display:none;\">\n",
              "        \n",
              "  <svg xmlns=\"http://www.w3.org/2000/svg\" height=\"24px\"viewBox=\"0 0 24 24\"\n",
              "       width=\"24px\">\n",
              "    <path d=\"M0 0h24v24H0V0z\" fill=\"none\"/>\n",
              "    <path d=\"M18.56 5.44l.94 2.06.94-2.06 2.06-.94-2.06-.94-.94-2.06-.94 2.06-2.06.94zm-11 1L8.5 8.5l.94-2.06 2.06-.94-2.06-.94L8.5 2.5l-.94 2.06-2.06.94zm10 10l.94 2.06.94-2.06 2.06-.94-2.06-.94-.94-2.06-.94 2.06-2.06.94z\"/><path d=\"M17.41 7.96l-1.37-1.37c-.4-.4-.92-.59-1.43-.59-.52 0-1.04.2-1.43.59L10.3 9.45l-7.72 7.72c-.78.78-.78 2.05 0 2.83L4 21.41c.39.39.9.59 1.41.59.51 0 1.02-.2 1.41-.59l7.78-7.78 2.81-2.81c.8-.78.8-2.07 0-2.86zM5.41 20L4 18.59l7.72-7.72 1.47 1.35L5.41 20z\"/>\n",
              "  </svg>\n",
              "      </button>\n",
              "      \n",
              "  <style>\n",
              "    .colab-df-container {\n",
              "      display:flex;\n",
              "      flex-wrap:wrap;\n",
              "      gap: 12px;\n",
              "    }\n",
              "\n",
              "    .colab-df-convert {\n",
              "      background-color: #E8F0FE;\n",
              "      border: none;\n",
              "      border-radius: 50%;\n",
              "      cursor: pointer;\n",
              "      display: none;\n",
              "      fill: #1967D2;\n",
              "      height: 32px;\n",
              "      padding: 0 0 0 0;\n",
              "      width: 32px;\n",
              "    }\n",
              "\n",
              "    .colab-df-convert:hover {\n",
              "      background-color: #E2EBFA;\n",
              "      box-shadow: 0px 1px 2px rgba(60, 64, 67, 0.3), 0px 1px 3px 1px rgba(60, 64, 67, 0.15);\n",
              "      fill: #174EA6;\n",
              "    }\n",
              "\n",
              "    [theme=dark] .colab-df-convert {\n",
              "      background-color: #3B4455;\n",
              "      fill: #D2E3FC;\n",
              "    }\n",
              "\n",
              "    [theme=dark] .colab-df-convert:hover {\n",
              "      background-color: #434B5C;\n",
              "      box-shadow: 0px 1px 3px 1px rgba(0, 0, 0, 0.15);\n",
              "      filter: drop-shadow(0px 1px 2px rgba(0, 0, 0, 0.3));\n",
              "      fill: #FFFFFF;\n",
              "    }\n",
              "  </style>\n",
              "\n",
              "      <script>\n",
              "        const buttonEl =\n",
              "          document.querySelector('#df-aa9dd8a5-2e60-4d28-a3c3-caa17fd436c4 button.colab-df-convert');\n",
              "        buttonEl.style.display =\n",
              "          google.colab.kernel.accessAllowed ? 'block' : 'none';\n",
              "\n",
              "        async function convertToInteractive(key) {\n",
              "          const element = document.querySelector('#df-aa9dd8a5-2e60-4d28-a3c3-caa17fd436c4');\n",
              "          const dataTable =\n",
              "            await google.colab.kernel.invokeFunction('convertToInteractive',\n",
              "                                                     [key], {});\n",
              "          if (!dataTable) return;\n",
              "\n",
              "          const docLinkHtml = 'Like what you see? Visit the ' +\n",
              "            '<a target=\"_blank\" href=https://colab.research.google.com/notebooks/data_table.ipynb>data table notebook</a>'\n",
              "            + ' to learn more about interactive tables.';\n",
              "          element.innerHTML = '';\n",
              "          dataTable['output_type'] = 'display_data';\n",
              "          await google.colab.output.renderOutput(dataTable, element);\n",
              "          const docLink = document.createElement('div');\n",
              "          docLink.innerHTML = docLinkHtml;\n",
              "          element.appendChild(docLink);\n",
              "        }\n",
              "      </script>\n",
              "    </div>\n",
              "  </div>\n",
              "  "
            ],
            "text/plain": [
              "                                                      id  ...                                               link\n",
              "0      http://data.gesis.org/claimskg/claim_review/36...  ...  http://www.politifact.com/truth-o-meter/statem...\n",
              "1      http://data.gesis.org/claimskg/claim_review/e6...  ...  http://www.politifact.com/texas/statements/201...\n",
              "2      http://data.gesis.org/claimskg/claim_review/e0...  ...  http://www.politifact.com/texas/statements/201...\n",
              "3      http://data.gesis.org/claimskg/claim_review/48...  ...  http://www.politifact.com/oregon/statements/20...\n",
              "4      http://data.gesis.org/claimskg/claim_review/80...  ...  http://www.politifact.com/florida/statements/2...\n",
              "...                                                  ...  ...                                                ...\n",
              "24447  http://data.gesis.org/claimskg/claim_review/41...  ...  http://www.politifact.com/pennsylvania/stateme...\n",
              "24448  http://data.gesis.org/claimskg/claim_review/9e...  ...  https://www.snopes.com/fact-check/real-hand-ei...\n",
              "24449  http://data.gesis.org/claimskg/claim_review/1a...  ...  http://www.politifact.com/new-jersey/statement...\n",
              "24450  http://data.gesis.org/claimskg/claim_review/28...  ...  http://www.politifact.com/punditfact/statement...\n",
              "24451  http://data.gesis.org/claimskg/claim_review/e4...  ...  http://www.politifact.com/wisconsin/statements...\n",
              "\n",
              "[24452 rows x 11 columns]"
            ]
          },
          "metadata": {},
          "execution_count": 36
        }
      ]
    },
    {
      "cell_type": "code",
      "execution_count": 37,
      "metadata": {
        "id": "h3zlGL5OEW0K"
      },
      "outputs": [],
      "source": [
        "#Save the edited table as a csv file\n",
        "claimskg.to_csv(\"claimskg_lemm_stop_stem_punc.csv\", index=False)"
      ]
    },
    {
      "cell_type": "markdown",
      "metadata": {
        "id": "1_5EYwrPZXeG"
      },
      "source": [
        "## Check for NaNs"
      ]
    },
    {
      "cell_type": "code",
      "execution_count": 38,
      "metadata": {
        "id": "dji9i_w14tTq"
      },
      "outputs": [],
      "source": [
        "claimskg = pd.read_csv(\"claimskg_lemm_stop_stem_punc.csv\")"
      ]
    },
    {
      "cell_type": "code",
      "execution_count": 39,
      "metadata": {
        "colab": {
          "base_uri": "https://localhost:8080/"
        },
        "id": "6986KAkqjmhV",
        "outputId": "8a09a1a3-f6b8-446a-e988-3f4dcac0331a"
      },
      "outputs": [
        {
          "output_type": "stream",
          "name": "stdout",
          "text": [
            "<class 'pandas.core.frame.DataFrame'>\n",
            "RangeIndex: 24452 entries, 0 to 24451\n",
            "Data columns (total 11 columns):\n",
            " #   Column                  Non-Null Count  Dtype \n",
            "---  ------                  --------------  ----- \n",
            " 0   id                      24452 non-null  object\n",
            " 1   text                    24451 non-null  object\n",
            " 2   truthRating             24452 non-null  int64 \n",
            " 3   ratingName              24452 non-null  object\n",
            " 4   author                  24452 non-null  object\n",
            " 5   headline                24450 non-null  object\n",
            " 6   named_entities_claim    24450 non-null  object\n",
            " 7   named_entities_article  24426 non-null  object\n",
            " 8   keywords                24447 non-null  object\n",
            " 9   source                  24452 non-null  object\n",
            " 10  link                    24452 non-null  object\n",
            "dtypes: int64(1), object(10)\n",
            "memory usage: 2.1+ MB\n"
          ]
        }
      ],
      "source": [
        "#After lemmatization, stemming and removing stop words, we got some NaN objects again\n",
        "claimskg.info()"
      ]
    },
    {
      "cell_type": "code",
      "execution_count": 40,
      "metadata": {
        "colab": {
          "base_uri": "https://localhost:8080/"
        },
        "id": "cy537w4uj_of",
        "outputId": "baafe303-10bc-4a33-9e6a-bfc34bf8fbbe"
      },
      "outputs": [
        {
          "output_type": "stream",
          "name": "stdout",
          "text": [
            "<class 'pandas.core.frame.DataFrame'>\n",
            "Int64Index: 24416 entries, 0 to 24451\n",
            "Data columns (total 11 columns):\n",
            " #   Column                  Non-Null Count  Dtype \n",
            "---  ------                  --------------  ----- \n",
            " 0   id                      24416 non-null  object\n",
            " 1   text                    24416 non-null  object\n",
            " 2   truthRating             24416 non-null  int64 \n",
            " 3   ratingName              24416 non-null  object\n",
            " 4   author                  24416 non-null  object\n",
            " 5   headline                24416 non-null  object\n",
            " 6   named_entities_claim    24416 non-null  object\n",
            " 7   named_entities_article  24416 non-null  object\n",
            " 8   keywords                24416 non-null  object\n",
            " 9   source                  24416 non-null  object\n",
            " 10  link                    24416 non-null  object\n",
            "dtypes: int64(1), object(10)\n",
            "memory usage: 2.2+ MB\n"
          ]
        }
      ],
      "source": [
        "#Removing rows containing NaNs because of their minority\n",
        "claimskg = claimskg.dropna()\n",
        "claimskg.info()"
      ]
    },
    {
      "cell_type": "code",
      "execution_count": 42,
      "metadata": {
        "id": "0zcOUpAxkeel"
      },
      "outputs": [],
      "source": [
        "claimskg.to_csv(\"claimskg_fulledited_1.csv\", index=False)"
      ]
    },
    {
      "cell_type": "markdown",
      "metadata": {
        "id": "d3b7KipGcu9L"
      },
      "source": [
        "# Some Exploratory Data"
      ]
    },
    {
      "cell_type": "code",
      "execution_count": 45,
      "metadata": {
        "colab": {
          "base_uri": "https://localhost:8080/"
        },
        "id": "J3fOgiqVd5ka",
        "outputId": "f9c62fcb-3af5-4f8c-f19a-cfb3d7607cbf"
      },
      "outputs": [
        {
          "output_type": "stream",
          "name": "stdout",
          "text": [
            "Number of unique keywords:  6984\n",
            "Number of unique articles:  10062\n",
            "Number of unique authors:  3876\n",
            "Number of unique words in texts:  24332\n",
            "Number of unique words in named_entities_claim:  24261\n",
            "Number of unique words in headline:  24263\n"
          ]
        }
      ],
      "source": [
        "#Obtain number of unique authors, keywords and articles in the whole data set\n",
        "\n",
        "unique_keys = set()\n",
        "for key_list in claimskg['keywords']:\n",
        "  for key in key_list.split():\n",
        "    unique_keys.add(key)\n",
        "print(\"Number of unique keywords: \",len(unique_keys))\n",
        "\n",
        "unique_keys = set()\n",
        "for key_list in claimskg['named_entities_article']:\n",
        "    for key in key_list.split():\n",
        "      unique_keys.add(key)\n",
        "print(\"Number of unique articles: \",len(unique_keys))\n",
        "\n",
        "unique_keys = set()\n",
        "for key in claimskg['author']:\n",
        "  unique_keys.add(key)\n",
        "print(\"Number of unique authors: \",len(unique_keys))\n",
        "unique_authors = unique_keys\n",
        "\n",
        "unique_keys = set()\n",
        "for key in claimskg['text']:\n",
        "  unique_keys.add(key)\n",
        "print(\"Number of unique words in texts: \",len(unique_keys))\n",
        "\n",
        "unique_keys = set()\n",
        "for key in claimskg['named_entities_claim']:\n",
        "  unique_keys.add(key)\n",
        "print(\"Number of unique words in named_entities_claim: \",len(unique_keys))\n",
        "\n",
        "unique_keys = set()\n",
        "for key in claimskg['headline']:\n",
        "  unique_keys.add(key)\n",
        "print(\"Number of unique words in headline: \",len(unique_keys))\n"
      ]
    },
    {
      "cell_type": "markdown",
      "source": [
        "## Imbalanced Classes Preview"
      ],
      "metadata": {
        "id": "6-6_A-wi6Zt5"
      }
    },
    {
      "cell_type": "code",
      "source": [
        "#Imbalanced Classes\n",
        "\n",
        "fig = plt.figure(figsize=(8,6))\n",
        "claimskg.groupby('ratingName').ratingName.count().plot.bar(ylim=0, color=\"g\")\n",
        "plt.show()"
      ],
      "metadata": {
        "colab": {
          "base_uri": "https://localhost:8080/",
          "height": 423
        },
        "id": "Fah3UIZCz_XY",
        "outputId": "db44daef-ea9d-4e85-e83e-de9b7b8e51e2"
      },
      "execution_count": 47,
      "outputs": [
        {
          "output_type": "display_data",
          "data": {
            "image/png": "[encoded data removed]",
            "text/plain": [
              "<Figure size 576x432 with 1 Axes>"
            ]
          },
          "metadata": {
            "needs_background": "light"
          }
        }
      ]
    },
    {
      "cell_type": "markdown",
      "metadata": {
        "id": "XSlkzh2OtNMK"
      },
      "source": [
        "# Transformer hub\n",
        "- Her we got some early results before vectorizing the text using Transformer-hub Auto-ML model. TensorFlow Hub is a repository of trained machine learning models ready for fine-tuning and deployable anywhere. "
      ]
    },
    {
      "cell_type": "code",
      "execution_count": 48,
      "metadata": {
        "id": "Jn21rH8Ntphm"
      },
      "outputs": [],
      "source": [
        "claimskg = pd.read_csv('claimskg_fulledited_1.csv')"
      ]
    },
    {
      "cell_type": "code",
      "execution_count": 50,
      "metadata": {
        "colab": {
          "base_uri": "https://localhost:8080/"
        },
        "id": "WkSeJeuG2OA-",
        "outputId": "d0aa049f-57e3-451e-ddb5-2ce7b3bfeff7"
      },
      "outputs": [
        {
          "output_type": "execute_result",
          "data": {
            "text/plain": [
              "array([[0., 0., 1.],\n",
              "       [0., 0., 1.],\n",
              "       [0., 0., 1.],\n",
              "       ...,\n",
              "       [0., 1., 0.],\n",
              "       [0., 1., 0.],\n",
              "       [0., 1., 0.]], dtype=float32)"
            ]
          },
          "metadata": {},
          "execution_count": 50
        }
      ],
      "source": [
        "#for chan in claimskg['truthRating']:\n",
        " #   claimskg['goal'+str(chan)] = claimskg.truthRating.apply(lambda x: 1 if x==chan else 0)\n",
        "from sklearn.preprocessing import LabelEncoder\n",
        "from tensorflow.keras.utils import to_categorical\n",
        "\n",
        "le = LabelEncoder()\n",
        "y = to_categorical(le.fit_transform(claimskg['ratingName']))\n",
        "y"
      ]
    },
    {
      "cell_type": "code",
      "execution_count": 51,
      "metadata": {
        "id": "3NRSv1gl6ZWC"
      },
      "outputs": [],
      "source": [
        "train_data = claimskg['text']+' '+claimskg['author']+' '+ claimskg['headline']+' '+ \\\n",
        "              claimskg['named_entities_claim']+' '+claimskg['named_entities_article']+' '+ claimskg['keywords']+' ' + claimskg['source']"
      ]
    },
    {
      "cell_type": "code",
      "execution_count": 52,
      "metadata": {
        "colab": {
          "base_uri": "https://localhost:8080/"
        },
        "id": "H4TngxPTvsvL",
        "outputId": "cb40449a-111d-402f-f648-28d56402a10e"
      },
      "outputs": [
        {
          "output_type": "stream",
          "name": "stdout",
          "text": [
            "<class 'pandas.core.frame.DataFrame'>\n",
            "RangeIndex: 24416 entries, 0 to 24415\n",
            "Data columns (total 11 columns):\n",
            " #   Column                  Non-Null Count  Dtype \n",
            "---  ------                  --------------  ----- \n",
            " 0   id                      24416 non-null  object\n",
            " 1   text                    24416 non-null  object\n",
            " 2   truthRating             24416 non-null  int64 \n",
            " 3   ratingName              24416 non-null  object\n",
            " 4   author                  24416 non-null  object\n",
            " 5   headline                24416 non-null  object\n",
            " 6   named_entities_claim    24416 non-null  object\n",
            " 7   named_entities_article  24416 non-null  object\n",
            " 8   keywords                24416 non-null  object\n",
            " 9   source                  24416 non-null  object\n",
            " 10  link                    24416 non-null  object\n",
            "dtypes: int64(1), object(10)\n",
            "memory usage: 2.0+ MB\n"
          ]
        }
      ],
      "source": [
        "claimskg.info()"
      ]
    },
    {
      "cell_type": "code",
      "execution_count": 53,
      "metadata": {
        "id": "W2NnE8vatQqW"
      },
      "outputs": [],
      "source": [
        "from sklearn.model_selection import train_test_split\n",
        "\n",
        "# split data set into TRAIN, DEV, and TEST sets\n",
        "X_train, X_dev, y_train, y_dev = train_test_split(train_data, \n",
        "                                                  y, test_size=0.2, random_state=42)  # 20% for DEV and TEST\n",
        "\n",
        "# split DEV further into DEV and TEST\n",
        "X_dev, X_test, y_dev, y_test = train_test_split(X_dev, y_dev, test_size=0.5, random_state=42)"
      ]
    },
    {
      "cell_type": "code",
      "execution_count": 54,
      "metadata": {
        "id": "UlfEr52mv0_l"
      },
      "outputs": [],
      "source": [
        "import tensorflow_hub as hub\n",
        "\n",
        "# load embeddings model from Tensorflow Hub\n",
        "embed = hub.load(\"https://tfhub.dev/google/universal-sentence-encoder/4\")\n",
        "\n",
        "# convert sentences to embeddings\n",
        "X_train = embed(X_train)\n",
        "X_dev = embed(X_dev)\n",
        "X_test = embed(X_test)"
      ]
    },
    {
      "cell_type": "code",
      "execution_count": 55,
      "metadata": {
        "id": "DmbHn_Cwv-3-"
      },
      "outputs": [],
      "source": [
        "from tensorflow.keras.layers import Dense\n",
        "from tensorflow.keras.models import Sequential\n",
        "\n",
        "# build Sequential model with 3 layers\n",
        "model = Sequential()\n",
        "model.add(Dense(units=32, activation=\"relu\"))  # input layer\n",
        "model.add(Dense(units=64, activation=\"relu\"))  # hidden layer\n",
        "model.add(Dense(units=3, activation=\"softmax\"))  # output layer, no. of units equals no. of classes\n",
        "model.compile(loss='categorical_crossentropy', optimizer='adam', metrics=['accuracy'])"
      ]
    },
    {
      "cell_type": "code",
      "execution_count": 56,
      "metadata": {
        "colab": {
          "base_uri": "https://localhost:8080/"
        },
        "id": "WQi_Irj6wDVy",
        "outputId": "95514e79-ee30-4e49-91b4-5dbff40ff8fd"
      },
      "outputs": [
        {
          "output_type": "stream",
          "name": "stdout",
          "text": [
            "Epoch 1/100\n",
            "1221/1221 [==============================] - 6s 4ms/step - loss: 0.9122 - accuracy: 0.5967 - val_loss: 0.8884 - val_accuracy: 0.6020\n",
            "Epoch 2/100\n",
            "1221/1221 [==============================] - 5s 4ms/step - loss: 0.8791 - accuracy: 0.6102 - val_loss: 0.8791 - val_accuracy: 0.6020\n",
            "Epoch 3/100\n",
            "1221/1221 [==============================] - 7s 6ms/step - loss: 0.8613 - accuracy: 0.6167 - val_loss: 0.8727 - val_accuracy: 0.6073\n",
            "Epoch 4/100\n",
            "1221/1221 [==============================] - 9s 7ms/step - loss: 0.8456 - accuracy: 0.6260 - val_loss: 0.8731 - val_accuracy: 0.6065\n",
            "Epoch 5/100\n",
            "1221/1221 [==============================] - 6s 5ms/step - loss: 0.8303 - accuracy: 0.6315 - val_loss: 0.8790 - val_accuracy: 0.6048\n",
            "Epoch 6/100\n",
            "1221/1221 [==============================] - 5s 4ms/step - loss: 0.8119 - accuracy: 0.6441 - val_loss: 0.9051 - val_accuracy: 0.5991\n",
            "Epoch 7/100\n",
            "1221/1221 [==============================] - 5s 4ms/step - loss: 0.7947 - accuracy: 0.6491 - val_loss: 0.8944 - val_accuracy: 0.6016\n",
            "Epoch 8/100\n",
            "1221/1221 [==============================] - 5s 4ms/step - loss: 0.7742 - accuracy: 0.6613 - val_loss: 0.9108 - val_accuracy: 0.6032\n",
            "Epoch 9/100\n",
            "1221/1221 [==============================] - 5s 4ms/step - loss: 0.7552 - accuracy: 0.6718 - val_loss: 0.9430 - val_accuracy: 0.5880\n",
            "Epoch 10/100\n",
            "1221/1221 [==============================] - 5s 4ms/step - loss: 0.7367 - accuracy: 0.6824 - val_loss: 0.9435 - val_accuracy: 0.5901\n",
            "Epoch 11/100\n",
            "1221/1221 [==============================] - 5s 4ms/step - loss: 0.7197 - accuracy: 0.6916 - val_loss: 0.9718 - val_accuracy: 0.5790\n",
            "Epoch 12/100\n",
            "1221/1221 [==============================] - 5s 4ms/step - loss: 0.7018 - accuracy: 0.6988 - val_loss: 0.9848 - val_accuracy: 0.5839\n",
            "Epoch 13/100\n",
            "1221/1221 [==============================] - 5s 4ms/step - loss: 0.6848 - accuracy: 0.7076 - val_loss: 0.9882 - val_accuracy: 0.5704\n",
            "Epoch 14/100\n",
            "1221/1221 [==============================] - 5s 4ms/step - loss: 0.6689 - accuracy: 0.7190 - val_loss: 1.0095 - val_accuracy: 0.5782\n",
            "Epoch 15/100\n",
            "1221/1221 [==============================] - 5s 4ms/step - loss: 0.6535 - accuracy: 0.7253 - val_loss: 1.0149 - val_accuracy: 0.5622\n",
            "Epoch 16/100\n",
            "1221/1221 [==============================] - 5s 4ms/step - loss: 0.6369 - accuracy: 0.7316 - val_loss: 1.0503 - val_accuracy: 0.5618\n",
            "Epoch 17/100\n",
            "1221/1221 [==============================] - 5s 4ms/step - loss: 0.6239 - accuracy: 0.7373 - val_loss: 1.0870 - val_accuracy: 0.5639\n",
            "Epoch 18/100\n",
            "1221/1221 [==============================] - 5s 4ms/step - loss: 0.6094 - accuracy: 0.7419 - val_loss: 1.1387 - val_accuracy: 0.5553\n",
            "Epoch 19/100\n",
            "1221/1221 [==============================] - 5s 4ms/step - loss: 0.5967 - accuracy: 0.7500 - val_loss: 1.1360 - val_accuracy: 0.5557\n",
            "Epoch 20/100\n",
            "1221/1221 [==============================] - 5s 4ms/step - loss: 0.5836 - accuracy: 0.7576 - val_loss: 1.2151 - val_accuracy: 0.5577\n",
            "Epoch 21/100\n",
            "1221/1221 [==============================] - 5s 4ms/step - loss: 0.5690 - accuracy: 0.7634 - val_loss: 1.1825 - val_accuracy: 0.5377\n",
            "Epoch 22/100\n",
            "1221/1221 [==============================] - 7s 6ms/step - loss: 0.5605 - accuracy: 0.7677 - val_loss: 1.1971 - val_accuracy: 0.5471\n",
            "Epoch 23/100\n",
            "1221/1221 [==============================] - 5s 4ms/step - loss: 0.5448 - accuracy: 0.7742 - val_loss: 1.2577 - val_accuracy: 0.5614\n",
            "Epoch 24/100\n",
            "1221/1221 [==============================] - 5s 4ms/step - loss: 0.5357 - accuracy: 0.7777 - val_loss: 1.2573 - val_accuracy: 0.5643\n",
            "Epoch 25/100\n",
            "1221/1221 [==============================] - 5s 4ms/step - loss: 0.5227 - accuracy: 0.7820 - val_loss: 1.3188 - val_accuracy: 0.5483\n",
            "Epoch 26/100\n",
            "1221/1221 [==============================] - 5s 4ms/step - loss: 0.5146 - accuracy: 0.7848 - val_loss: 1.4069 - val_accuracy: 0.5442\n",
            "Epoch 27/100\n",
            "1221/1221 [==============================] - 5s 4ms/step - loss: 0.5040 - accuracy: 0.7930 - val_loss: 1.4029 - val_accuracy: 0.5410\n",
            "Epoch 28/100\n",
            "1221/1221 [==============================] - 5s 4ms/step - loss: 0.4916 - accuracy: 0.7954 - val_loss: 1.4315 - val_accuracy: 0.5328\n",
            "Epoch 29/100\n",
            "1221/1221 [==============================] - 5s 4ms/step - loss: 0.4832 - accuracy: 0.8020 - val_loss: 1.4292 - val_accuracy: 0.5414\n",
            "Epoch 30/100\n",
            "1221/1221 [==============================] - 5s 4ms/step - loss: 0.4717 - accuracy: 0.8075 - val_loss: 1.4562 - val_accuracy: 0.5385\n",
            "Epoch 31/100\n",
            "1221/1221 [==============================] - 5s 4ms/step - loss: 0.4627 - accuracy: 0.8086 - val_loss: 1.5604 - val_accuracy: 0.5336\n",
            "Epoch 32/100\n",
            "1221/1221 [==============================] - 5s 4ms/step - loss: 0.4515 - accuracy: 0.8156 - val_loss: 1.5905 - val_accuracy: 0.5487\n",
            "Epoch 33/100\n",
            "1221/1221 [==============================] - 5s 4ms/step - loss: 0.4429 - accuracy: 0.8194 - val_loss: 1.6063 - val_accuracy: 0.5467\n",
            "Epoch 34/100\n",
            "1221/1221 [==============================] - 5s 4ms/step - loss: 0.4339 - accuracy: 0.8224 - val_loss: 1.6292 - val_accuracy: 0.5266\n",
            "Epoch 35/100\n",
            "1221/1221 [==============================] - 5s 4ms/step - loss: 0.4280 - accuracy: 0.8242 - val_loss: 1.7029 - val_accuracy: 0.5324\n",
            "Epoch 36/100\n",
            "1221/1221 [==============================] - 5s 4ms/step - loss: 0.4208 - accuracy: 0.8280 - val_loss: 1.7310 - val_accuracy: 0.5377\n",
            "Epoch 37/100\n",
            "1221/1221 [==============================] - 5s 4ms/step - loss: 0.4114 - accuracy: 0.8348 - val_loss: 1.7758 - val_accuracy: 0.5373\n",
            "Epoch 38/100\n",
            "1221/1221 [==============================] - 5s 4ms/step - loss: 0.4050 - accuracy: 0.8342 - val_loss: 1.8245 - val_accuracy: 0.5209\n",
            "Epoch 39/100\n",
            "1221/1221 [==============================] - 5s 4ms/step - loss: 0.3956 - accuracy: 0.8392 - val_loss: 1.8583 - val_accuracy: 0.5344\n",
            "Epoch 40/100\n",
            "1221/1221 [==============================] - 5s 4ms/step - loss: 0.3893 - accuracy: 0.8419 - val_loss: 1.9324 - val_accuracy: 0.5328\n",
            "Epoch 41/100\n",
            "1221/1221 [==============================] - 5s 4ms/step - loss: 0.3821 - accuracy: 0.8471 - val_loss: 1.9864 - val_accuracy: 0.5393\n",
            "Epoch 42/100\n",
            "1221/1221 [==============================] - 5s 4ms/step - loss: 0.3795 - accuracy: 0.8443 - val_loss: 1.8873 - val_accuracy: 0.5192\n",
            "Epoch 43/100\n",
            "1221/1221 [==============================] - 5s 4ms/step - loss: 0.3685 - accuracy: 0.8521 - val_loss: 2.0460 - val_accuracy: 0.5332\n",
            "Epoch 44/100\n",
            "1221/1221 [==============================] - 5s 4ms/step - loss: 0.3652 - accuracy: 0.8518 - val_loss: 2.1214 - val_accuracy: 0.5217\n",
            "Epoch 45/100\n",
            "1221/1221 [==============================] - 5s 4ms/step - loss: 0.3575 - accuracy: 0.8554 - val_loss: 2.0949 - val_accuracy: 0.5299\n",
            "Epoch 46/100\n",
            "1221/1221 [==============================] - 5s 4ms/step - loss: 0.3535 - accuracy: 0.8573 - val_loss: 2.1494 - val_accuracy: 0.5229\n",
            "Epoch 47/100\n",
            "1221/1221 [==============================] - 5s 4ms/step - loss: 0.3458 - accuracy: 0.8607 - val_loss: 2.1649 - val_accuracy: 0.5356\n",
            "Epoch 48/100\n",
            "1221/1221 [==============================] - 5s 4ms/step - loss: 0.3384 - accuracy: 0.8638 - val_loss: 2.3037 - val_accuracy: 0.5377\n",
            "Epoch 49/100\n",
            "1221/1221 [==============================] - 5s 4ms/step - loss: 0.3342 - accuracy: 0.8650 - val_loss: 2.2730 - val_accuracy: 0.5254\n",
            "Epoch 50/100\n",
            "1221/1221 [==============================] - 5s 4ms/step - loss: 0.3329 - accuracy: 0.8674 - val_loss: 2.3247 - val_accuracy: 0.5307\n",
            "Epoch 51/100\n",
            "1221/1221 [==============================] - 5s 4ms/step - loss: 0.3243 - accuracy: 0.8690 - val_loss: 2.3667 - val_accuracy: 0.5360\n",
            "Epoch 52/100\n",
            "1221/1221 [==============================] - 5s 4ms/step - loss: 0.3207 - accuracy: 0.8727 - val_loss: 2.4117 - val_accuracy: 0.5307\n",
            "Epoch 53/100\n",
            "1221/1221 [==============================] - 5s 4ms/step - loss: 0.3132 - accuracy: 0.8786 - val_loss: 2.5120 - val_accuracy: 0.5201\n",
            "Epoch 54/100\n",
            "1221/1221 [==============================] - 5s 4ms/step - loss: 0.3083 - accuracy: 0.8781 - val_loss: 2.4816 - val_accuracy: 0.5287\n",
            "Epoch 55/100\n",
            "1221/1221 [==============================] - 5s 4ms/step - loss: 0.3082 - accuracy: 0.8785 - val_loss: 2.4798 - val_accuracy: 0.5176\n",
            "Epoch 56/100\n",
            "1221/1221 [==============================] - 5s 4ms/step - loss: 0.2978 - accuracy: 0.8832 - val_loss: 2.6272 - val_accuracy: 0.5332\n",
            "Epoch 57/100\n",
            "1221/1221 [==============================] - 5s 4ms/step - loss: 0.2972 - accuracy: 0.8832 - val_loss: 2.7393 - val_accuracy: 0.5295\n",
            "Epoch 58/100\n",
            "1221/1221 [==============================] - 5s 4ms/step - loss: 0.2929 - accuracy: 0.8827 - val_loss: 2.7384 - val_accuracy: 0.5278\n",
            "Epoch 59/100\n",
            "1221/1221 [==============================] - 5s 4ms/step - loss: 0.2880 - accuracy: 0.8850 - val_loss: 2.7145 - val_accuracy: 0.5209\n",
            "Epoch 60/100\n",
            "1221/1221 [==============================] - 5s 4ms/step - loss: 0.2828 - accuracy: 0.8870 - val_loss: 2.7266 - val_accuracy: 0.5213\n",
            "Epoch 61/100\n",
            "1221/1221 [==============================] - 5s 4ms/step - loss: 0.2796 - accuracy: 0.8900 - val_loss: 2.8364 - val_accuracy: 0.5180\n",
            "Epoch 62/100\n",
            "1221/1221 [==============================] - 5s 4ms/step - loss: 0.2736 - accuracy: 0.8914 - val_loss: 2.8814 - val_accuracy: 0.5180\n",
            "Epoch 63/100\n",
            "1221/1221 [==============================] - 5s 4ms/step - loss: 0.2716 - accuracy: 0.8947 - val_loss: 2.8712 - val_accuracy: 0.5098\n",
            "Epoch 64/100\n",
            "1221/1221 [==============================] - 5s 4ms/step - loss: 0.2698 - accuracy: 0.8949 - val_loss: 2.9122 - val_accuracy: 0.5143\n",
            "Epoch 65/100\n",
            "1221/1221 [==============================] - 5s 4ms/step - loss: 0.2634 - accuracy: 0.8958 - val_loss: 2.9620 - val_accuracy: 0.5221\n",
            "Epoch 66/100\n",
            "1221/1221 [==============================] - 5s 4ms/step - loss: 0.2640 - accuracy: 0.8963 - val_loss: 3.0657 - val_accuracy: 0.5254\n",
            "Epoch 67/100\n",
            "1221/1221 [==============================] - 5s 4ms/step - loss: 0.2551 - accuracy: 0.9010 - val_loss: 3.0442 - val_accuracy: 0.5229\n",
            "Epoch 68/100\n",
            "1221/1221 [==============================] - 5s 4ms/step - loss: 0.2584 - accuracy: 0.9001 - val_loss: 3.1563 - val_accuracy: 0.5278\n",
            "Epoch 69/100\n",
            "1221/1221 [==============================] - 5s 4ms/step - loss: 0.2457 - accuracy: 0.9040 - val_loss: 3.2681 - val_accuracy: 0.5209\n",
            "Epoch 70/100\n",
            "1221/1221 [==============================] - 5s 4ms/step - loss: 0.2500 - accuracy: 0.9015 - val_loss: 3.1581 - val_accuracy: 0.5238\n",
            "Epoch 71/100\n",
            "1221/1221 [==============================] - 5s 4ms/step - loss: 0.2437 - accuracy: 0.9044 - val_loss: 3.3492 - val_accuracy: 0.5131\n",
            "Epoch 72/100\n",
            "1221/1221 [==============================] - 5s 4ms/step - loss: 0.2420 - accuracy: 0.9072 - val_loss: 3.2802 - val_accuracy: 0.5098\n",
            "Epoch 73/100\n",
            "1221/1221 [==============================] - 5s 4ms/step - loss: 0.2329 - accuracy: 0.9101 - val_loss: 3.3958 - val_accuracy: 0.5172\n",
            "Epoch 74/100\n",
            "1221/1221 [==============================] - 5s 4ms/step - loss: 0.2406 - accuracy: 0.9069 - val_loss: 3.4179 - val_accuracy: 0.5238\n",
            "Epoch 75/100\n",
            "1221/1221 [==============================] - 5s 4ms/step - loss: 0.2303 - accuracy: 0.9119 - val_loss: 3.4761 - val_accuracy: 0.5213\n",
            "Epoch 76/100\n",
            "1221/1221 [==============================] - 5s 4ms/step - loss: 0.2282 - accuracy: 0.9111 - val_loss: 3.4750 - val_accuracy: 0.5078\n",
            "Epoch 77/100\n",
            "1221/1221 [==============================] - 5s 4ms/step - loss: 0.2270 - accuracy: 0.9119 - val_loss: 3.6085 - val_accuracy: 0.5016\n",
            "Epoch 78/100\n",
            "1221/1221 [==============================] - 5s 4ms/step - loss: 0.2226 - accuracy: 0.9133 - val_loss: 3.7015 - val_accuracy: 0.5111\n",
            "Epoch 79/100\n",
            "1221/1221 [==============================] - 5s 4ms/step - loss: 0.2203 - accuracy: 0.9143 - val_loss: 3.6419 - val_accuracy: 0.5143\n",
            "Epoch 80/100\n",
            "1221/1221 [==============================] - 5s 4ms/step - loss: 0.2187 - accuracy: 0.9165 - val_loss: 3.6399 - val_accuracy: 0.5168\n",
            "Epoch 81/100\n",
            "1221/1221 [==============================] - 5s 4ms/step - loss: 0.2127 - accuracy: 0.9174 - val_loss: 3.6731 - val_accuracy: 0.5016\n",
            "Epoch 82/100\n",
            "1221/1221 [==============================] - 5s 4ms/step - loss: 0.2194 - accuracy: 0.9150 - val_loss: 3.6876 - val_accuracy: 0.5233\n",
            "Epoch 83/100\n",
            "1221/1221 [==============================] - 5s 4ms/step - loss: 0.2035 - accuracy: 0.9224 - val_loss: 3.7575 - val_accuracy: 0.5238\n",
            "Epoch 84/100\n",
            "1221/1221 [==============================] - 5s 4ms/step - loss: 0.2063 - accuracy: 0.9212 - val_loss: 3.8214 - val_accuracy: 0.5119\n",
            "Epoch 85/100\n",
            "1221/1221 [==============================] - 5s 4ms/step - loss: 0.2068 - accuracy: 0.9183 - val_loss: 3.7862 - val_accuracy: 0.5209\n",
            "Epoch 86/100\n",
            "1221/1221 [==============================] - 5s 4ms/step - loss: 0.2059 - accuracy: 0.9201 - val_loss: 3.9523 - val_accuracy: 0.5131\n",
            "Epoch 87/100\n",
            "1221/1221 [==============================] - 5s 4ms/step - loss: 0.2013 - accuracy: 0.9237 - val_loss: 3.9708 - val_accuracy: 0.5111\n",
            "Epoch 88/100\n",
            "1221/1221 [==============================] - 5s 4ms/step - loss: 0.1991 - accuracy: 0.9238 - val_loss: 4.0275 - val_accuracy: 0.5057\n",
            "Epoch 89/100\n",
            "1221/1221 [==============================] - 5s 4ms/step - loss: 0.1959 - accuracy: 0.9243 - val_loss: 4.1372 - val_accuracy: 0.5000\n",
            "Epoch 90/100\n",
            "1221/1221 [==============================] - 5s 4ms/step - loss: 0.1973 - accuracy: 0.9246 - val_loss: 4.1726 - val_accuracy: 0.5168\n",
            "Epoch 91/100\n",
            "1221/1221 [==============================] - 5s 4ms/step - loss: 0.1866 - accuracy: 0.9299 - val_loss: 4.1941 - val_accuracy: 0.4988\n",
            "Epoch 92/100\n",
            "1221/1221 [==============================] - 5s 4ms/step - loss: 0.1843 - accuracy: 0.9293 - val_loss: 4.3376 - val_accuracy: 0.4963\n",
            "Epoch 93/100\n",
            "1221/1221 [==============================] - 5s 4ms/step - loss: 0.1949 - accuracy: 0.9255 - val_loss: 4.3784 - val_accuracy: 0.5131\n",
            "Epoch 94/100\n",
            "1221/1221 [==============================] - 5s 4ms/step - loss: 0.1853 - accuracy: 0.9291 - val_loss: 4.4519 - val_accuracy: 0.5016\n",
            "Epoch 95/100\n",
            "1221/1221 [==============================] - 5s 4ms/step - loss: 0.1818 - accuracy: 0.9312 - val_loss: 4.2489 - val_accuracy: 0.4951\n",
            "Epoch 96/100\n",
            "1221/1221 [==============================] - 5s 4ms/step - loss: 0.1862 - accuracy: 0.9283 - val_loss: 4.4303 - val_accuracy: 0.5123\n",
            "Epoch 97/100\n",
            "1221/1221 [==============================] - 5s 4ms/step - loss: 0.1752 - accuracy: 0.9327 - val_loss: 4.5417 - val_accuracy: 0.5066\n",
            "Epoch 98/100\n",
            "1221/1221 [==============================] - 5s 4ms/step - loss: 0.1695 - accuracy: 0.9362 - val_loss: 4.4227 - val_accuracy: 0.5152\n",
            "Epoch 99/100\n",
            "1221/1221 [==============================] - 5s 4ms/step - loss: 0.1833 - accuracy: 0.9307 - val_loss: 4.4599 - val_accuracy: 0.5143\n",
            "Epoch 100/100\n",
            "1221/1221 [==============================] - 5s 4ms/step - loss: 0.1688 - accuracy: 0.9374 - val_loss: 4.3810 - val_accuracy: 0.4918\n"
          ]
        },
        {
          "output_type": "execute_result",
          "data": {
            "text/plain": [
              "<keras.callbacks.History at 0x7fc06f4b88d0>"
            ]
          },
          "metadata": {},
          "execution_count": 56
        }
      ],
      "source": [
        "model.fit(x=X_train, y=y_train,\n",
        "          epochs=100,\n",
        "          validation_data=(X_dev, y_dev),\n",
        "          batch_size=16,\n",
        "          verbose=1)"
      ]
    },
    {
      "cell_type": "code",
      "execution_count": 57,
      "metadata": {
        "colab": {
          "base_uri": "https://localhost:8080/",
          "height": 72
        },
        "id": "gSszu44ewYPG",
        "outputId": "2288c49f-561e-4056-b14d-3f10f8671e46"
      },
      "outputs": [
        {
          "output_type": "execute_result",
          "data": {
            "application/vnd.google.colaboratory.intrinsic+json": {
              "type": "string"
            },
            "text/plain": [
              "'              precision    recall  f1-score   support\\n\\n       False       0.57      0.53      0.55       999\\n     MIXTURE       0.54      0.54      0.54       971\\n        True       0.25      0.28      0.27       472\\n\\n    accuracy                           0.49      2442\\n   macro avg       0.45      0.45      0.45      2442\\nweighted avg       0.49      0.49      0.49      2442\\n'"
            ]
          },
          "metadata": {},
          "execution_count": 57
        }
      ],
      "source": [
        "import numpy as np\n",
        "from sklearn.metrics import classification_report\n",
        "\n",
        "predictions = np.argmax(model.predict(X_test), axis=-1)\n",
        "y_test = le.inverse_transform([np.argmax(y) for y in y_test])  # reconstruct original string labels\n",
        "predictions = le.inverse_transform(predictions)\n",
        "report = classification_report(y_test, predictions)\n",
        "report"
      ]
    },
    {
      "cell_type": "code",
      "execution_count": 58,
      "metadata": {
        "id": "LQK4z39RU51B"
      },
      "outputs": [],
      "source": [
        "#Create a column contains bag of words of the text\n",
        "#import collections\n",
        "#claimskg['BOW'] = claimskg.text.apply(lambda x: collections.Counter([y for y in x.split()]))\n",
        "#claimskg.to_csv(\"claimskg_edited_2.csv\", index=False)"
      ]
    },
    {
      "cell_type": "markdown",
      "metadata": {
        "id": "-oOUI6N6LhzZ"
      },
      "source": [
        "# Vectorization\n",
        "Changing every text column to a numerical form: All machine learning models use mathematics and numbers to compute data. \n",
        "Since the input here is textual, we will use the TF-IDF (Term Frequency and Document Frequency) scheme and, because our classes are unbalanced and have different counts of words, we don't use BoW (Bag of Word) and just care about importance ratio of the words in each class."
      ]
    },
    {
      "cell_type": "code",
      "execution_count": 173,
      "metadata": {
        "id": "1y4OsGVzsemE"
      },
      "outputs": [],
      "source": [
        "claimskg = pd.read_csv('claimskg_fulledited_1.csv')"
      ]
    },
    {
      "cell_type": "code",
      "execution_count": 174,
      "metadata": {
        "id": "WFIvTYEmCueH",
        "colab": {
          "base_uri": "https://localhost:8080/"
        },
        "outputId": "35ddbb68-b1c6-45fa-f60c-3ae828701804"
      },
      "outputs": [
        {
          "output_type": "stream",
          "name": "stdout",
          "text": [
            "Number of claims of Class 1:  9993\n",
            "Number of claims of Class 2:  9983\n",
            "Number of claims of Class 3:  4440\n",
            "Class 1: False, Class 2: Mixture, Class 3: True claims\n"
          ]
        }
      ],
      "source": [
        "#Create a list of three class dataframes i.e. df_class[0]: False class.\n",
        "df_class=[]\n",
        "for i in range(3):\n",
        "  df_class.append(claimskg[claimskg['truthRating']== i+1])\n",
        "  print(f\"Number of claims of Class {i+1}: \", len(df_class[i]))\n",
        "print(\"Class 1: False, Class 2: Mixture, Class 3: True claims\")\n"
      ]
    },
    {
      "cell_type": "code",
      "execution_count": 175,
      "metadata": {
        "colab": {
          "base_uri": "https://localhost:8080/"
        },
        "id": "NUbBh3KM6oLg",
        "outputId": "c356d80a-e657-4beb-a989-c8b3e6eaa7af"
      },
      "outputs": [
        {
          "output_type": "stream",
          "name": "stdout",
          "text": [
            "number of text features: 150\n",
            "*************\n"
          ]
        },
        {
          "output_type": "stream",
          "name": "stderr",
          "text": [
            "/usr/local/lib/python3.7/dist-packages/pandas/core/frame.py:3678: PerformanceWarning: DataFrame is highly fragmented.  This is usually the result of calling `frame.insert` many times, which has poor performance.  Consider joining all columns at once using pd.concat(axis=1) instead.  To get a de-fragmented frame, use `newframe = frame.copy()`\n",
            "  self[col] = igetitem(value, i)\n"
          ]
        },
        {
          "output_type": "stream",
          "name": "stdout",
          "text": [
            "number of named_entities_claim features: 150\n",
            "*************\n"
          ]
        },
        {
          "output_type": "stream",
          "name": "stderr",
          "text": [
            "/usr/local/lib/python3.7/dist-packages/ipykernel_launcher.py:24: PerformanceWarning: DataFrame is highly fragmented.  This is usually the result of calling `frame.insert` many times, which has poor performance.  Consider joining all columns at once using pd.concat(axis=1) instead.  To get a de-fragmented frame, use `newframe = frame.copy()`\n"
          ]
        },
        {
          "output_type": "stream",
          "name": "stdout",
          "text": [
            "number of keyword features: 150\n",
            "*************\n"
          ]
        },
        {
          "output_type": "stream",
          "name": "stderr",
          "text": [
            "/usr/local/lib/python3.7/dist-packages/ipykernel_launcher.py:38: PerformanceWarning: DataFrame is highly fragmented.  This is usually the result of calling `frame.insert` many times, which has poor performance.  Consider joining all columns at once using pd.concat(axis=1) instead.  To get a de-fragmented frame, use `newframe = frame.copy()`\n"
          ]
        },
        {
          "output_type": "stream",
          "name": "stdout",
          "text": [
            "number of named_entities_article features: 74\n",
            "*************\n"
          ]
        },
        {
          "output_type": "stream",
          "name": "stderr",
          "text": [
            "/usr/local/lib/python3.7/dist-packages/ipykernel_launcher.py:52: PerformanceWarning: DataFrame is highly fragmented.  This is usually the result of calling `frame.insert` many times, which has poor performance.  Consider joining all columns at once using pd.concat(axis=1) instead.  To get a de-fragmented frame, use `newframe = frame.copy()`\n"
          ]
        },
        {
          "output_type": "stream",
          "name": "stdout",
          "text": [
            "number of headline features: 150\n",
            "*************\n",
            "number of source features: 4\n",
            "*************\n",
            "number of author features: 5\n",
            "++++++++++++++++++++++++++++++\n"
          ]
        },
        {
          "output_type": "stream",
          "name": "stderr",
          "text": [
            "/usr/local/lib/python3.7/dist-packages/ipykernel_launcher.py:66: PerformanceWarning: DataFrame is highly fragmented.  This is usually the result of calling `frame.insert` many times, which has poor performance.  Consider joining all columns at once using pd.concat(axis=1) instead.  To get a de-fragmented frame, use `newframe = frame.copy()`\n",
            "/usr/local/lib/python3.7/dist-packages/ipykernel_launcher.py:81: PerformanceWarning: DataFrame is highly fragmented.  This is usually the result of calling `frame.insert` many times, which has poor performance.  Consider joining all columns at once using pd.concat(axis=1) instead.  To get a de-fragmented frame, use `newframe = frame.copy()`\n",
            "/usr/local/lib/python3.7/dist-packages/ipykernel_launcher.py:95: PerformanceWarning: DataFrame is highly fragmented.  This is usually the result of calling `frame.insert` many times, which has poor performance.  Consider joining all columns at once using pd.concat(axis=1) instead.  To get a de-fragmented frame, use `newframe = frame.copy()`\n"
          ]
        },
        {
          "output_type": "stream",
          "name": "stdout",
          "text": [
            "number of text features: 150\n",
            "*************\n",
            "number of named_entities_claim features: 150\n",
            "*************\n",
            "number of keyword features: 150\n",
            "*************\n",
            "number of named_entities_article features: 106\n",
            "*************\n",
            "number of headline features: 150\n",
            "*************\n",
            "number of source features: 2\n",
            "*************\n",
            "number of author features: 20\n",
            "++++++++++++++++++++++++++++++\n",
            "number of text features: 150\n",
            "*************\n",
            "number of named_entities_claim features: 150\n",
            "*************\n",
            "number of keyword features: 135\n",
            "*************\n",
            "number of named_entities_article features: 83\n",
            "*************\n",
            "number of headline features: 150\n",
            "*************\n",
            "number of source features: 5\n",
            "*************\n",
            "number of author features: 7\n",
            "++++++++++++++++++++++++++++++\n"
          ]
        }
      ],
      "source": [
        "#Vectorizing columns using TF-IDF metric based on each class(False, Mixture, True)\n",
        "from sklearn.feature_extraction.text import TfidfVectorizer, CountVectorizer\n",
        "\n",
        "source_df = []\n",
        "for i in range(3):\n",
        "  vectorizer = TfidfVectorizer(max_features=150, min_df=0.005, max_df=0.9 ,ngram_range=(1,2))\n",
        "  vectorized_col = vectorizer.fit_transform(df_class[i]['text']).toarray()\n",
        "  vec_features = vectorizer.get_feature_names()\n",
        "  print(\"number of text features:\" ,len(vec_features))\n",
        "  source_df.append(pd.DataFrame()) \n",
        "  source_df[i][vec_features] = vectorized_col\n",
        "  print('*************')\n",
        "\n",
        "  vectorized_col = vectorizer.fit_transform(df_class[i]['named_entities_claim']).toarray()\n",
        "  vec_features = vectorizer.get_feature_names()\n",
        "  print(\"number of named_entities_claim features:\" ,len(vec_features))\n",
        "\n",
        "  j = 0\n",
        "  for feat in vec_features:\n",
        "    #if the new generated feature is existed then we add its amount with previous amounts\n",
        "    if feat in source_df[i].columns:\n",
        "      source_df[i][feat] = source_df[i][feat] + vectorized_col[:,j]\n",
        "    else:\n",
        "      source_df[i][feat] = vectorized_col[:,j]\n",
        "    j+=1\n",
        "\n",
        "  print('*************')\n",
        "\n",
        "  vectorized_col = vectorizer.fit_transform(df_class[i]['keywords']).toarray()\n",
        "  vec_features = vectorizer.get_feature_names()\n",
        "  print(\"number of keyword features:\" ,len(vec_features))\n",
        "\n",
        "  j = 0\n",
        "  for feat in vec_features:\n",
        "    if feat in source_df[i].columns:\n",
        "      source_df[i][feat] = source_df[i][feat] + vectorized_col[:,j]\n",
        "    else:\n",
        "      source_df[i][feat] = vectorized_col[:,j]\n",
        "    j+=1\n",
        "\n",
        "  print('*************')\n",
        "\n",
        "  vectorized_col = vectorizer.fit_transform(df_class[i]['named_entities_article']).toarray()\n",
        "  vec_features = vectorizer.get_feature_names()\n",
        "  print(\"number of named_entities_article features:\" ,len(vec_features))\n",
        "\n",
        "  j = 0\n",
        "  for feat in vec_features:\n",
        "    if feat in source_df[i].columns:\n",
        "      source_df[i][feat] = source_df[i][feat] + vectorized_col[:,j]\n",
        "    else:\n",
        "      source_df[i][feat] = vectorized_col[:,j]\n",
        "    j+=1\n",
        "\n",
        "  print('*************')\n",
        "\n",
        "  vectorized_col = vectorizer.fit_transform(df_class[i]['headline']).toarray()\n",
        "  vec_features = vectorizer.get_feature_names()\n",
        "  print(\"number of headline features:\" ,len(vec_features))\n",
        "\n",
        "  j = 0\n",
        "  for feat in vec_features:\n",
        "    if feat in source_df[i].columns:\n",
        "      source_df[i][feat] = source_df[i][feat] + vectorized_col[:,j]\n",
        "    else:\n",
        "      source_df[i][feat] = vectorized_col[:,j]\n",
        "    j+=1\n",
        "\n",
        "  print('*************')\n",
        "\n",
        "  vectorizer = TfidfVectorizer(min_df=0.005, max_df=0.8 ,ngram_range=(1,1))\n",
        "  vectorized_col = vectorizer.fit_transform(df_class[i]['source']).toarray()\n",
        "  vec_features = vectorizer.get_feature_names()\n",
        "  print(\"number of source features:\" ,len(vec_features))\n",
        "\n",
        "  j = 0\n",
        "  for feat in vec_features:\n",
        "    if feat in source_df[i].columns:\n",
        "      source_df[i][feat] = source_df[i][feat] + vectorized_col[:,j]\n",
        "    else:\n",
        "      source_df[i][feat] = vectorized_col[:,j]\n",
        "    j+=1\n",
        "  print('*************')\n",
        "\n",
        "  vectorizer = TfidfVectorizer(max_features=150, min_df=0.005, max_df=0.9 ,ngram_range=(2,2))\n",
        "  vectorized_col = vectorizer.fit_transform(df_class[i]['author']).toarray()\n",
        "  vec_features = vectorizer.get_feature_names()\n",
        "  print(\"number of author features:\" ,len(vec_features))\n",
        "\n",
        "  j = 0\n",
        "  for feat in vec_features:\n",
        "    if feat in source_df[i].columns:\n",
        "      source_df[i][feat] = source_df[i][feat] + vectorized_col[:,j]\n",
        "    else:\n",
        "      source_df[i][feat] = vectorized_col[:,j]\n",
        "    j+=1\n",
        "\n",
        "  print('++++++++++++++++++++++++++++++')\n"
      ]
    },
    {
      "cell_type": "code",
      "source": [
        "#Adding class name and labels to the 3 classes data sets\n",
        "for i in range(3):\n",
        "  source_df[i] = source_df[i].assign(target_labels=i+1)\n",
        "source_df[0] = source_df[0].assign(target_names='False')\n",
        "source_df[1] = source_df[1].assign(target_names='Mixture')\n",
        "source_df[2] = source_df[2].assign(target_names='True')\n",
        "\n",
        "#Merging 3 classes\n",
        "source_df = pd.concat(source_df, ignore_index=True, sort=True).copy()\n",
        "print(source_df.info())"
      ],
      "metadata": {
        "id": "OhXt5orbxE64",
        "colab": {
          "base_uri": "https://localhost:8080/"
        },
        "outputId": "701d8bd3-2344-46c9-f647-c018d62a86da"
      },
      "execution_count": 176,
      "outputs": [
        {
          "output_type": "stream",
          "name": "stdout",
          "text": [
            "<class 'pandas.core.frame.DataFrame'>\n",
            "RangeIndex: 24416 entries, 0 to 24415\n",
            "Columns: 555 entries, abc to youtub\n",
            "dtypes: float64(553), int64(1), object(1)\n",
            "memory usage: 103.4+ MB\n",
            "None\n"
          ]
        }
      ]
    },
    {
      "cell_type": "code",
      "source": [
        "#Filling the NaN\n",
        "source_df = source_df.fillna(0).copy()\n",
        "\n",
        "#sum every two duplicate columns\n",
        "source_df = source_df.groupby(source_df.columns, axis=1).sum().copy()\n",
        "\n",
        "#Remove duplicate columns\n",
        "source_df = source_df.T.drop_duplicates().T.copy()\n",
        "\n",
        "source_df.info()"
      ],
      "metadata": {
        "colab": {
          "base_uri": "https://localhost:8080/"
        },
        "id": "VZbAm1ByHc8p",
        "outputId": "40866a2a-f720-4f98-c474-6c27fa80852d"
      },
      "execution_count": 177,
      "outputs": [
        {
          "output_type": "stream",
          "name": "stdout",
          "text": [
            "<class 'pandas.core.frame.DataFrame'>\n",
            "Int64Index: 24416 entries, 0 to 24415\n",
            "Columns: 544 entries, abc to youtub\n",
            "dtypes: object(544)\n",
            "memory usage: 102.0+ MB\n"
          ]
        }
      ]
    },
    {
      "cell_type": "code",
      "source": [
        "#Shuffling my feature extracted data\n",
        "import sklearn.utils\n",
        "source_df = sklearn.utils.shuffle(source_df)\n",
        "\n",
        "#Reset indexes\n",
        "source_df = source_df.reset_index(drop=True).copy()\n",
        "\n",
        "#Change the order of columns\n",
        "column_list = list(source_df.columns)\n",
        "column_list.remove('target_labels')\n",
        "column_list.remove('target_names')\n",
        "column_list.append('target_labels')\n",
        "column_list.append('target_names')\n",
        "source_df = source_df[column_list]\n",
        "\n",
        "#Save to csv file\n",
        "source_df.to_csv(\"source_features.csv\", index=False)\n",
        "\n",
        "#Release the RAM\n",
        "del claimskg\n"
      ],
      "metadata": {
        "id": "mmIbiZFwDRnI"
      },
      "execution_count": 179,
      "outputs": []
    },
    {
      "cell_type": "code",
      "source": [
        "#View the head and the shape of data\n",
        "print(source_df.head())\n",
        "print(\"Shape of the data: \", source_df.shape)"
      ],
      "metadata": {
        "id": "znmDbJRIdnd2",
        "colab": {
          "base_uri": "https://localhost:8080/"
        },
        "outputId": "704ebb9e-4911-4b1f-fe92-894498844e80"
      },
      "execution_count": 180,
      "outputs": [
        {
          "output_type": "stream",
          "name": "stdout",
          "text": [
            "   abc abc news     abort accid  ... york time youtub target_labels target_names\n",
            "0  0.0      0.0  0.781603   0.0  ...       0.0    0.0             2      Mixture\n",
            "1  0.0      0.0       0.0   0.0  ...       0.0    0.0             2      Mixture\n",
            "2  0.0      0.0       0.0   0.0  ...       0.0    0.0             2      Mixture\n",
            "3  0.0      0.0       0.0   0.0  ...       0.0    0.0             1        False\n",
            "4  0.0      0.0       0.0   0.0  ...  0.527853    0.0             3         True\n",
            "\n",
            "[5 rows x 544 columns]\n",
            "Shape of the data:  (24416, 544)\n"
          ]
        }
      ]
    },
    {
      "cell_type": "markdown",
      "metadata": {
        "id": "GhePwn5HIKMg"
      },
      "source": [
        "# Multi Class Classification\n",
        "We want to classify every sample of our data to be in the class 1: Flase, 2: Mixture, 3: True. These labels have been given to the claims by human annotating or ML feature engineering."
      ]
    },
    {
      "cell_type": "markdown",
      "source": [
        "## Chi-Square \n",
        "\"Chi-Square is to be used when the feature is categorical, the target variable is any way can be thought as categorical. It measures the degree of association between two categorical variables\". [1](https://towardsdatascience.com/using-the-chi-squared-test-for-feature-selection-with-implementation-b15a4dad93f1)"
      ],
      "metadata": {
        "id": "bOLhX3h7Q9iZ"
      }
    },
    {
      "cell_type": "code",
      "source": [
        "from sklearn.ensemble import RandomForestClassifier\n",
        "from sklearn import metrics\n",
        "from sklearn.metrics import classification_report, confusion_matrix\n",
        "from sklearn.feature_selection import chi2\n",
        "from sklearn.naive_bayes import MultinomialNB\n",
        "from sklearn.svm import SVC\n",
        "from sklearn.neighbors import KNeighborsClassifier"
      ],
      "metadata": {
        "id": "aqZQaYl4r8mS"
      },
      "execution_count": null,
      "outputs": []
    },
    {
      "cell_type": "code",
      "source": [
        "#Ecncode labels\n",
        "source_df = pd.read_csv(\"source_features.csv\")\n",
        "source_df.target_names = source_df.target_names.astype('string')\n",
        "category_id_df = source_df[['target_names', 'target_labels']].drop_duplicates().sort_values('target_labels')\n",
        "category_to_id = dict(category_id_df.values)\n",
        "id_to_category = dict(category_id_df[['target_labels', 'target_names']].values)\n",
        "labels = source_df.target_labels\n",
        "category_to_id"
      ],
      "metadata": {
        "colab": {
          "base_uri": "https://localhost:8080/"
        },
        "id": "ftKkm-BAKiJe",
        "outputId": "57129b26-76de-47ea-95c6-4ee4da091e55"
      },
      "execution_count": 182,
      "outputs": [
        {
          "output_type": "execute_result",
          "data": {
            "text/plain": [
              "{'False': 1, 'Mixture': 2, 'True': 3}"
            ]
          },
          "metadata": {},
          "execution_count": 182
        }
      ]
    },
    {
      "cell_type": "code",
      "source": [
        "#View most important features\n",
        "\n",
        "N = 5\n",
        "for claim, category_id in sorted(category_to_id.items()):\n",
        "  features_chi2 = chi2( source_df.iloc[:,:-2], labels == category_id)\n",
        "  indices = np.argsort(features_chi2[0])\n",
        "  feature_names = np.array(source_df.columns)[indices]\n",
        "  unigrams = [v for v in feature_names if len(v.split(' ')) == 1]\n",
        "  bigrams = [v for v in feature_names if len(v.split(' ')) == 2]\n",
        "  print(\"# '{}':\".format(claim))\n",
        "  print(\"  . Most correlated unigrams:\\n. {}\".format('\\n. '.join(unigrams[-N:])))\n",
        "  print(\"  . Most correlated bigrams:\\n. {}\".format('\\n. '.join(bigrams[-N:])))\n",
        "  print(\"*************************************\")\n",
        " # i+=1"
      ],
      "metadata": {
        "colab": {
          "base_uri": "https://localhost:8080/"
        },
        "id": "t4IJsX0E1iRH",
        "outputId": "578fa76a-c005-4f8e-9958-117ea8ab37e5"
      },
      "execution_count": 183,
      "outputs": [
        {
          "output_type": "stream",
          "name": "stdout",
          "text": [
            "# 'False':\n",
            "  . Most correlated unigrams:\n",
            ". muslim\n",
            ". news\n",
            ". politifact\n",
            ". fake\n",
            ". snopes\n",
            "  . Most correlated bigrams:\n",
            ". chain email\n",
            ". facebook posts\n",
            ". viral image\n",
            ". mitt romney\n",
            ". fake news\n",
            "*************************************\n",
            "# 'Mixture':\n",
            "  . Most correlated unigrams:\n",
            ". asp\n",
            ". articl\n",
            ". fake\n",
            ". snopes\n",
            ". politifact\n",
            "  . Most correlated bigrams:\n",
            ". marco rubio\n",
            ". scott walker\n",
            ". rick scott\n",
            ". mitt romney\n",
            ". fake news\n",
            "*************************************\n",
            "# 'True':\n",
            "  . Most correlated unigrams:\n",
            ". letter\n",
            ". mccain\n",
            ". truth\n",
            ". island\n",
            ". politifact\n",
            "  . Most correlated bigrams:\n",
            ". photograph show\n",
            ". anim asp\n",
            ". censu bureau\n",
            ". fake news\n",
            ". lo angel\n",
            "*************************************\n"
          ]
        }
      ]
    },
    {
      "cell_type": "code",
      "execution_count": 184,
      "metadata": {
        "id": "0ckJ3d3tyKXR"
      },
      "outputs": [],
      "source": [
        "#Create train and test dataset\n",
        "X_train = source_df.iloc[:,:-2][:17000]\n",
        "y_train = source_df.target_labels[:17000]\n",
        "X_test = source_df.iloc[:,:-2][17000:]\n",
        "y_test = source_df.target_labels[17000:]"
      ]
    },
    {
      "cell_type": "markdown",
      "metadata": {
        "id": "mEkqhvQY6Vmb"
      },
      "source": [
        "## Random Forest Classifier\n",
        "\"Random forests or random decision forests are an ensemble learning method for classification, regression and other tasks that operates by constructing a multitude of decision trees at training time.\"[1](https://en.wikipedia.org/wiki/Random_forest)"
      ]
    },
    {
      "cell_type": "code",
      "execution_count": 190,
      "metadata": {
        "colab": {
          "base_uri": "https://localhost:8080/"
        },
        "id": "5Z1d644R6sVU",
        "outputId": "50ea94eb-b283-4fe8-8350-b939352c5287"
      },
      "outputs": [
        {
          "output_type": "execute_result",
          "data": {
            "text/plain": [
              "RandomForestClassifier(min_samples_leaf=3, n_estimators=300, n_jobs=-1)"
            ]
          },
          "metadata": {},
          "execution_count": 190
        }
      ],
      "source": [
        "#Random Forest Classifier fitting\n",
        "min_samples_leaf = 3\n",
        "n_estimators = 300\n",
        "rf_classifier = RandomForestClassifier(n_estimators=n_estimators, min_samples_leaf=min_samples_leaf, n_jobs=-1)\n",
        "rf_classifier.fit(X_train, y_train)"
      ]
    },
    {
      "cell_type": "code",
      "execution_count": 191,
      "metadata": {
        "colab": {
          "base_uri": "https://localhost:8080/"
        },
        "id": "yB9oxy0Uu4ah",
        "outputId": "0dfed871-4423-42ed-ae59-2273de2edb24"
      },
      "outputs": [
        {
          "output_type": "execute_result",
          "data": {
            "text/plain": [
              "array([2, 1, 1, ..., 2, 3, 2])"
            ]
          },
          "metadata": {},
          "execution_count": 191
        }
      ],
      "source": [
        "#Prediction of test data\n",
        "y_pred = rf_classifier.predict(X_test)\n",
        "y_pred"
      ]
    },
    {
      "cell_type": "code",
      "source": [
        "#Evaluating the model\n",
        "\n",
        "print(f\"Random Forest Evaluation result with {n_estimators} estimators and  \\\n",
        "{min_samples_leaf} leaves.\\n 1: False, 2: Mixture, 3:True\")\n",
        "print(\"Confusion matrix: \\n\", confusion_matrix(y_test, y_pred))\n",
        "print(\"Classification report:\\n\", classification_report(y_test, y_pred))"
      ],
      "metadata": {
        "colab": {
          "base_uri": "https://localhost:8080/"
        },
        "id": "fL4KUrF0xsxY",
        "outputId": "70d5d0fb-c41a-441a-adaf-8465b57ad3ce"
      },
      "execution_count": 192,
      "outputs": [
        {
          "output_type": "stream",
          "name": "stdout",
          "text": [
            "Random Forest Evaluation result with 300 estimators and  3 leaves.\n",
            " 1: False, 2: Mixture, 3:True\n",
            "Confusion matrix: \n",
            " [[2936  124    7]\n",
            " [  70 2941    1]\n",
            " [ 331  135  871]]\n",
            "Classification report:\n",
            "               precision    recall  f1-score   support\n",
            "\n",
            "           1       0.88      0.96      0.92      3067\n",
            "           2       0.92      0.98      0.95      3012\n",
            "           3       0.99      0.65      0.79      1337\n",
            "\n",
            "    accuracy                           0.91      7416\n",
            "   macro avg       0.93      0.86      0.88      7416\n",
            "weighted avg       0.92      0.91      0.91      7416\n",
            "\n"
          ]
        }
      ]
    },
    {
      "cell_type": "code",
      "execution_count": 195,
      "metadata": {
        "colab": {
          "base_uri": "https://localhost:8080/",
          "height": 621
        },
        "id": "dJOUnwO9ApsI",
        "outputId": "231b8077-e657-4a72-a928-c7e3743bdf89"
      },
      "outputs": [
        {
          "output_type": "display_data",
          "data": {
            "image/png": "[encoded data removed]",
            "text/plain": [
              "<Figure size 720x720 with 2 Axes>"
            ]
          },
          "metadata": {
            "needs_background": "light"
          }
        }
      ],
      "source": [
        "#Prediction visualization\n",
        "\n",
        "conf_mat = confusion_matrix(y_test, y_pred)\n",
        "fig, ax = plt.subplots(figsize=(10,10))\n",
        "sns.heatmap(conf_mat, annot=True, fmt='d',\n",
        "            xticklabels=category_id_df.target_names.values, yticklabels=category_id_df.target_names.values)\n",
        "plt.ylabel('Actual')\n",
        "plt.xlabel('Predicted')\n",
        "plt.title(\"Random Forest Classification\")\n",
        "plt.show()"
      ]
    },
    {
      "cell_type": "markdown",
      "source": [
        "## Multinomial Naive Bayes Classifier\n",
        "This algorithm is a Bayesian learning approach popular in Natural Language Processing (NLP). The algorithm guesses the label of a claim, such as True, False or Mixture, using the Bayes theorem. It calculates each label's likelihood for a given sample and outputs the label with the greatest chance."
      ],
      "metadata": {
        "id": "gR9Sr6yYPWV-"
      }
    },
    {
      "cell_type": "code",
      "source": [
        "#Multinomial Naive Bayes Classifier\n",
        "\n",
        "clf = MultinomialNB()\n",
        "clf.fit(X_train, y_train)"
      ],
      "metadata": {
        "id": "sPI5xAFGPKh6",
        "colab": {
          "base_uri": "https://localhost:8080/"
        },
        "outputId": "7b337fbb-da54-4a17-fd85-ccd90abd6fd3"
      },
      "execution_count": 216,
      "outputs": [
        {
          "output_type": "execute_result",
          "data": {
            "text/plain": [
              "MultinomialNB()"
            ]
          },
          "metadata": {},
          "execution_count": 216
        }
      ]
    },
    {
      "cell_type": "code",
      "source": [
        "#Make predictions\n",
        "\n",
        "y_pred = clf.predict(X_test)\n",
        "y_pred"
      ],
      "metadata": {
        "colab": {
          "base_uri": "https://localhost:8080/"
        },
        "id": "TwyPx3R6SoIc",
        "outputId": "4bd335be-c793-4b81-8620-9ac9596fc51e"
      },
      "execution_count": 217,
      "outputs": [
        {
          "output_type": "execute_result",
          "data": {
            "text/plain": [
              "array([1, 1, 1, ..., 2, 3, 2])"
            ]
          },
          "metadata": {},
          "execution_count": 217
        }
      ]
    },
    {
      "cell_type": "code",
      "source": [
        "#Evaluating the model\n",
        "\n",
        "print(\"Multinomial Naive Bayes Classifier result for \\n Class 1: False, Class 2: Mixture, Class 3:True\")\n",
        "print(confusion_matrix(y_test, y_pred))\n",
        "print(classification_report(y_test, y_pred))"
      ],
      "metadata": {
        "colab": {
          "base_uri": "https://localhost:8080/"
        },
        "id": "4J52awg0Tr8w",
        "outputId": "7d4610c1-4d85-42c7-a158-8860d7953ab5"
      },
      "execution_count": 218,
      "outputs": [
        {
          "output_type": "stream",
          "name": "stdout",
          "text": [
            "Multinomial Naive Bayes Classifier result for \n",
            " Class 1: False, Class 2: Mixture, Class 3:True\n",
            "[[2571  276  220]\n",
            " [ 351 2580   81]\n",
            " [ 365  147  825]]\n",
            "              precision    recall  f1-score   support\n",
            "\n",
            "           1       0.78      0.84      0.81      3067\n",
            "           2       0.86      0.86      0.86      3012\n",
            "           3       0.73      0.62      0.67      1337\n",
            "\n",
            "    accuracy                           0.81      7416\n",
            "   macro avg       0.79      0.77      0.78      7416\n",
            "weighted avg       0.80      0.81      0.80      7416\n",
            "\n"
          ]
        }
      ]
    },
    {
      "cell_type": "code",
      "source": [
        "#Prediction visualization\n",
        "\n",
        "conf_mat = confusion_matrix(y_test, y_pred)\n",
        "fig, ax = plt.subplots(figsize=(10,10))\n",
        "sns.heatmap(conf_mat, annot=True, fmt='d',\n",
        "            xticklabels=category_id_df.target_names.values, yticklabels=category_id_df.target_names.values)\n",
        "plt.ylabel('Actual')\n",
        "plt.xlabel('Predicted')\n",
        "plt.title(\"Multi Naive Bayes Classification\")\n",
        "plt.show()"
      ],
      "metadata": {
        "colab": {
          "base_uri": "https://localhost:8080/",
          "height": 621
        },
        "id": "WcKoMxtNTN81",
        "outputId": "212ca5cc-fdf6-4c82-ef7a-38c8ff765349"
      },
      "execution_count": 219,
      "outputs": [
        {
          "output_type": "display_data",
          "data": {
            "image/png": "[encoded data removed]",
            "text/plain": [
              "<Figure size 720x720 with 2 Axes>"
            ]
          },
          "metadata": {
            "needs_background": "light"
          }
        }
      ]
    },
    {
      "cell_type": "markdown",
      "source": [
        "## Support Vector Machine Classifier (SVC) "
      ],
      "metadata": {
        "id": "ofane-hAk6go"
      }
    },
    {
      "cell_type": "markdown",
      "source": [
        "### Linear Kernel SVC"
      ],
      "metadata": {
        "id": "L29MnyS9lHqz"
      }
    },
    {
      "cell_type": "code",
      "execution_count": 207,
      "metadata": {
        "id": "CjSdoECx7q1k",
        "colab": {
          "base_uri": "https://localhost:8080/"
        },
        "outputId": "60101d7b-2db9-49d8-d040-b0c2051baadf"
      },
      "outputs": [
        {
          "output_type": "execute_result",
          "data": {
            "text/plain": [
              "SVC(decision_function_shape='ovo', kernel='linear')"
            ]
          },
          "metadata": {},
          "execution_count": 207
        }
      ],
      "source": [
        "# Support Vector Machine Linear Classification\n",
        "\n",
        "svc_classifier = SVC(kernel='linear', decision_function_shape='ovo')\n",
        "svc_classifier.fit(X_train, y_train)\n"
      ]
    },
    {
      "cell_type": "code",
      "execution_count": 208,
      "metadata": {
        "id": "KJCpKZkb-mJz"
      },
      "outputs": [],
      "source": [
        "#Make predictions\n",
        "y_pred = svc_classifier.predict(X_test)"
      ]
    },
    {
      "cell_type": "code",
      "execution_count": 209,
      "metadata": {
        "colab": {
          "base_uri": "https://localhost:8080/"
        },
        "id": "8R88u3vi8ooS",
        "outputId": "89cd6e41-f523-452a-9d0b-0a0ac1b38d77"
      },
      "outputs": [
        {
          "output_type": "stream",
          "name": "stdout",
          "text": [
            "Linear SVM Evaluation result for \n",
            " 1: False, 2: Mixture, 3:True\n",
            "[[2900  148   19]\n",
            " [ 106 2885   21]\n",
            " [ 364   88  885]]\n",
            "              precision    recall  f1-score   support\n",
            "\n",
            "           1       0.86      0.95      0.90      3067\n",
            "           2       0.92      0.96      0.94      3012\n",
            "           3       0.96      0.66      0.78      1337\n",
            "\n",
            "    accuracy                           0.90      7416\n",
            "   macro avg       0.91      0.86      0.87      7416\n",
            "weighted avg       0.90      0.90      0.90      7416\n",
            "\n"
          ]
        }
      ],
      "source": [
        "#Evaluating the model\n",
        "\n",
        "print(\"Linear SVM Evaluation result for \\n 1: False, 2: Mixture, 3:True\")\n",
        "print(confusion_matrix(y_test, y_pred))\n",
        "print(classification_report(y_test, y_pred))"
      ]
    },
    {
      "cell_type": "code",
      "source": [
        "#Prediction visualization\n",
        "\n",
        "conf_mat = confusion_matrix(y_test, y_pred)\n",
        "fig, ax = plt.subplots(figsize=(10,10))\n",
        "sns.heatmap(conf_mat, annot=True, fmt='d',\n",
        "            xticklabels=category_id_df.target_names.values, yticklabels=category_id_df.target_names.values)\n",
        "plt.ylabel('Actual')\n",
        "plt.xlabel('Predicted')\n",
        "plt.title(\"Linear kernel SVM Classifier\")\n",
        "plt.show()"
      ],
      "metadata": {
        "colab": {
          "base_uri": "https://localhost:8080/",
          "height": 621
        },
        "id": "bm-Deci1fcwX",
        "outputId": "35aa2d0b-6052-43a8-feee-859906e436c4"
      },
      "execution_count": 210,
      "outputs": [
        {
          "output_type": "display_data",
          "data": {
            "image/png": "[encoded data removed]",
            "text/plain": [
              "<Figure size 720x720 with 2 Axes>"
            ]
          },
          "metadata": {
            "needs_background": "light"
          }
        }
      ]
    },
    {
      "cell_type": "markdown",
      "source": [
        "### Polynomial Kernel SVC"
      ],
      "metadata": {
        "id": "Jv_FbCQUlNHj"
      }
    },
    {
      "cell_type": "code",
      "execution_count": 234,
      "metadata": {
        "id": "mZeLWQX885CZ",
        "colab": {
          "base_uri": "https://localhost:8080/"
        },
        "outputId": "6819c2e4-b087-427b-bc12-c41fe11b9bea"
      },
      "outputs": [
        {
          "output_type": "execute_result",
          "data": {
            "text/plain": [
              "SVC(decision_function_shape='ovo', degree=8, kernel='poly')"
            ]
          },
          "metadata": {},
          "execution_count": 234
        }
      ],
      "source": [
        "# Support Vector Machine Non-Linear (Polynomial) Classification\n",
        "svclassifier = SVC(kernel='poly', degree=8, decision_function_shape='ovo')\n",
        "svclassifier.fit(X_train, y_train)"
      ]
    },
    {
      "cell_type": "code",
      "execution_count": 235,
      "metadata": {
        "id": "Rk3xkbsu_LAu",
        "colab": {
          "base_uri": "https://localhost:8080/"
        },
        "outputId": "8c5c6bad-76d2-4910-8a46-59652eb57bae"
      },
      "outputs": [
        {
          "output_type": "stream",
          "name": "stdout",
          "text": [
            "Polynomial SVM Evaluation result for \n",
            " 1: False, 2: Mixture, 3:True\n",
            "[[2907   60  100]\n",
            " [1705 1270   37]\n",
            " [1090   57  190]]\n",
            "              precision    recall  f1-score   support\n",
            "\n",
            "           1       0.51      0.95      0.66      3067\n",
            "           2       0.92      0.42      0.58      3012\n",
            "           3       0.58      0.14      0.23      1337\n",
            "\n",
            "    accuracy                           0.59      7416\n",
            "   macro avg       0.67      0.50      0.49      7416\n",
            "weighted avg       0.69      0.59      0.55      7416\n",
            "\n"
          ]
        }
      ],
      "source": [
        "#Prediction and Evaluation\n",
        "y_pred = svclassifier.predict(X_test)\n",
        "\n",
        "print(\"Polynomial SVM Evaluation result for \\n 1: False, 2: Mixture, 3:True\")\n",
        "print(confusion_matrix(y_test, y_pred))\n",
        "print(classification_report(y_test, y_pred))"
      ]
    },
    {
      "cell_type": "code",
      "source": [
        "#Prediction visualization\n",
        "\n",
        "conf_mat = confusion_matrix(y_test, y_pred)\n",
        "fig, ax = plt.subplots(figsize=(10,10))\n",
        "sns.heatmap(conf_mat, annot=True, fmt='d',\n",
        "            xticklabels=category_id_df.target_names.values, yticklabels=category_id_df.target_names.values)\n",
        "plt.ylabel('Actual')\n",
        "plt.xlabel('Predicted')\n",
        "plt.title(\"Polynomial kernel SVM Classifier\")\n",
        "plt.show()"
      ],
      "metadata": {
        "colab": {
          "base_uri": "https://localhost:8080/",
          "height": 621
        },
        "id": "I5lhGjQoi0aI",
        "outputId": "4a8c98a8-80f4-44bf-be80-2a068f807af5"
      },
      "execution_count": 236,
      "outputs": [
        {
          "output_type": "display_data",
          "data": {
            "image/png": "[encoded data removed]",
            "text/plain": [
              "<Figure size 720x720 with 2 Axes>"
            ]
          },
          "metadata": {
            "needs_background": "light"
          }
        }
      ]
    },
    {
      "cell_type": "markdown",
      "source": [
        "### Gaussian Kernel SVC"
      ],
      "metadata": {
        "id": "7pNW60culrJw"
      }
    },
    {
      "cell_type": "code",
      "execution_count": 237,
      "metadata": {
        "colab": {
          "base_uri": "https://localhost:8080/"
        },
        "id": "sBacKuwD_T4x",
        "outputId": "f802ee91-bc29-477d-b59c-1eee52498abd"
      },
      "outputs": [
        {
          "output_type": "execute_result",
          "data": {
            "text/plain": [
              "SVC(decision_function_shape='ovo')"
            ]
          },
          "metadata": {},
          "execution_count": 237
        }
      ],
      "source": [
        "#Gaussian Kernel\n",
        "svclassifier = SVC(kernel='rbf', decision_function_shape='ovo')\n",
        "svclassifier.fit(X_train, y_train)"
      ]
    },
    {
      "cell_type": "code",
      "execution_count": 238,
      "metadata": {
        "id": "sqZhlEwy_d0J",
        "colab": {
          "base_uri": "https://localhost:8080/"
        },
        "outputId": "ee4b15ce-8799-4e01-9be1-c46388fa06f5"
      },
      "outputs": [
        {
          "output_type": "stream",
          "name": "stdout",
          "text": [
            "Gaussian SVM Evaluation result for \n",
            " 1: False, 2: Mixture, 3:True\n",
            "[[2939  105   23]\n",
            " [ 199 2797   16]\n",
            " [ 520  106  711]]\n",
            "              precision    recall  f1-score   support\n",
            "\n",
            "           1       0.80      0.96      0.87      3067\n",
            "           2       0.93      0.93      0.93      3012\n",
            "           3       0.95      0.53      0.68      1337\n",
            "\n",
            "    accuracy                           0.87      7416\n",
            "   macro avg       0.89      0.81      0.83      7416\n",
            "weighted avg       0.88      0.87      0.86      7416\n",
            "\n"
          ]
        }
      ],
      "source": [
        "#Prediction and Evaluation\n",
        "y_pred = svclassifier.predict(X_test)\n",
        "\n",
        "print(\"Gaussian SVM Evaluation result for \\n 1: False, 2: Mixture, 3:True\")\n",
        "print(confusion_matrix(y_test, y_pred))\n",
        "print(classification_report(y_test, y_pred))"
      ]
    },
    {
      "cell_type": "code",
      "source": [
        "#Prediction visualization\n",
        "\n",
        "conf_mat = confusion_matrix(y_test, y_pred)\n",
        "fig, ax = plt.subplots(figsize=(10,10))\n",
        "sns.heatmap(conf_mat, annot=True, fmt='d',\n",
        "            xticklabels=category_id_df.target_names.values, yticklabels=category_id_df.target_names.values)\n",
        "plt.ylabel('Actual')\n",
        "plt.xlabel('Predicted')\n",
        "plt.title(\"Gaussian kernel SVM Classifier\")\n",
        "plt.show()"
      ],
      "metadata": {
        "colab": {
          "base_uri": "https://localhost:8080/",
          "height": 621
        },
        "id": "VUAA3gPjkpuX",
        "outputId": "88d0b6a9-052d-4c95-9278-552016e805cd"
      },
      "execution_count": 239,
      "outputs": [
        {
          "output_type": "display_data",
          "data": {
            "image/png": "[encoded data removed]",
            "text/plain": [
              "<Figure size 720x720 with 2 Axes>"
            ]
          },
          "metadata": {
            "needs_background": "light"
          }
        }
      ]
    },
    {
      "cell_type": "markdown",
      "source": [
        "## K-Nearest Neighbors Classification"
      ],
      "metadata": {
        "id": "ozQXoDbnmIk_"
      }
    },
    {
      "cell_type": "code",
      "execution_count": 240,
      "metadata": {
        "id": "AvsNtHGwLTeY",
        "colab": {
          "base_uri": "https://localhost:8080/"
        },
        "outputId": "a60bcd74-c376-4a2d-946b-ff04e05015db"
      },
      "outputs": [
        {
          "output_type": "execute_result",
          "data": {
            "text/plain": [
              "KNeighborsClassifier(n_neighbors=3)"
            ]
          },
          "metadata": {},
          "execution_count": 240
        }
      ],
      "source": [
        "# K-Nearest Neighbors Classification\n",
        "knn_classifier = KNeighborsClassifier(n_neighbors=3)\n",
        "knn_classifier.fit(X_train, y_train)"
      ]
    },
    {
      "cell_type": "code",
      "source": [
        "#Prediction and Evaluation\n",
        "y_pred = knn_classifier.predict(X_test)\n",
        "print(\"K-Nearest Neighbors Evaluation result for \\n 1: False, 2: Mixture, 3:True\")\n",
        "print(confusion_matrix(y_test, y_pred))\n",
        "print(classification_report(y_test, y_pred))"
      ],
      "metadata": {
        "id": "aJfmjzGpmO5E",
        "colab": {
          "base_uri": "https://localhost:8080/"
        },
        "outputId": "5bea11b5-38bd-4ac4-9f1a-0d7bc1872abb"
      },
      "execution_count": 241,
      "outputs": [
        {
          "output_type": "stream",
          "name": "stdout",
          "text": [
            "K-Nearest Neighbors Evaluation result for \n",
            " 1: False, 2: Mixture, 3:True\n",
            "[[2480  299  288]\n",
            " [ 428 2494   90]\n",
            " [ 636  168  533]]\n",
            "              precision    recall  f1-score   support\n",
            "\n",
            "           1       0.70      0.81      0.75      3067\n",
            "           2       0.84      0.83      0.84      3012\n",
            "           3       0.59      0.40      0.47      1337\n",
            "\n",
            "    accuracy                           0.74      7416\n",
            "   macro avg       0.71      0.68      0.69      7416\n",
            "weighted avg       0.74      0.74      0.73      7416\n",
            "\n"
          ]
        }
      ]
    },
    {
      "cell_type": "code",
      "source": [
        "#Prediction visualization\n",
        "\n",
        "conf_mat = confusion_matrix(y_test, y_pred)\n",
        "fig, ax = plt.subplots(figsize=(10,10))\n",
        "sns.heatmap(conf_mat, annot=True, fmt='d',\n",
        "            xticklabels=category_id_df.target_names.values, yticklabels=category_id_df.target_names.values)\n",
        "plt.ylabel('Actual')\n",
        "plt.xlabel('Predicted')\n",
        "plt.title(\"K-Nearest Neighbors Classifier\")\n",
        "plt.show()"
      ],
      "metadata": {
        "colab": {
          "base_uri": "https://localhost:8080/",
          "height": 621
        },
        "id": "j0u1TxQDnI9g",
        "outputId": "26e442bd-b0c7-4eea-9050-9015ccfad2f6"
      },
      "execution_count": 242,
      "outputs": [
        {
          "output_type": "display_data",
          "data": {
            "image/png": "[encoded data removed]",
            "text/plain": [
              "<Figure size 720x720 with 2 Axes>"
            ]
          },
          "metadata": {
            "needs_background": "light"
          }
        }
      ]
    },
    {
      "cell_type": "markdown",
      "metadata": {
        "id": "6SCTwmqMLXQF"
      },
      "source": [
        "# Binary Class Classification"
      ]
    },
    {
      "cell_type": "code",
      "source": [
        "from sklearn.ensemble import RandomForestClassifier\n",
        "from sklearn import metrics\n",
        "from sklearn.metrics import classification_report, confusion_matrix\n",
        "from sklearn.feature_selection import chi2\n",
        "from sklearn.naive_bayes import MultinomialNB\n",
        "from sklearn.svm import SVC\n",
        "from sklearn.neighbors import KNeighborsClassifier"
      ],
      "metadata": {
        "id": "OzA-M0I_rhE5"
      },
      "execution_count": 5,
      "outputs": []
    },
    {
      "cell_type": "code",
      "source": [
        "#Reading the source data file\n",
        "source_df = pd.read_csv(\"source_features.csv\")\n",
        "\n",
        "#Integrating True and False as one unique class-Changing True labels-with equal number 3- to 1\n",
        "source_df[(source_df['target_labels']==3) | (source_df['target_labels']==1)]['target_name'] = source_df.assign(target_names='Mixed_True_False')\n",
        "source_df[(source_df['target_labels']==3)]['target_labels'] = source_df.assign(target_labels=1)\n",
        "source_df"
      ],
      "metadata": {
        "colab": {
          "base_uri": "https://localhost:8080/",
          "height": 615
        },
        "id": "eFt7Y4KurmVO",
        "outputId": "a6b570dc-5578-4836-f1ac-39de07c74cf6"
      },
      "execution_count": 10,
      "outputs": [
        {
          "output_type": "error",
          "ename": "ValueError",
          "evalue": "ignored",
          "traceback": [
            "\u001b[0;31m---------------------------------------------------------------------------\u001b[0m",
            "\u001b[0;31mKeyError\u001b[0m                                  Traceback (most recent call last)",
            "\u001b[0;32m/usr/local/lib/python3.7/dist-packages/pandas/core/indexes/base.py\u001b[0m in \u001b[0;36mget_loc\u001b[0;34m(self, key, method, tolerance)\u001b[0m\n\u001b[1;32m   3360\u001b[0m             \u001b[0;32mtry\u001b[0m\u001b[0;34m:\u001b[0m\u001b[0;34m\u001b[0m\u001b[0;34m\u001b[0m\u001b[0m\n\u001b[0;32m-> 3361\u001b[0;31m                 \u001b[0;32mreturn\u001b[0m \u001b[0mself\u001b[0m\u001b[0;34m.\u001b[0m\u001b[0m_engine\u001b[0m\u001b[0;34m.\u001b[0m\u001b[0mget_loc\u001b[0m\u001b[0;34m(\u001b[0m\u001b[0mcasted_key\u001b[0m\u001b[0;34m)\u001b[0m\u001b[0;34m\u001b[0m\u001b[0;34m\u001b[0m\u001b[0m\n\u001b[0m\u001b[1;32m   3362\u001b[0m             \u001b[0;32mexcept\u001b[0m \u001b[0mKeyError\u001b[0m \u001b[0;32mas\u001b[0m \u001b[0merr\u001b[0m\u001b[0;34m:\u001b[0m\u001b[0;34m\u001b[0m\u001b[0;34m\u001b[0m\u001b[0m\n",
            "\u001b[0;32m/usr/local/lib/python3.7/dist-packages/pandas/_libs/index.pyx\u001b[0m in \u001b[0;36mpandas._libs.index.IndexEngine.get_loc\u001b[0;34m()\u001b[0m\n",
            "\u001b[0;32m/usr/local/lib/python3.7/dist-packages/pandas/_libs/index.pyx\u001b[0m in \u001b[0;36mpandas._libs.index.IndexEngine.get_loc\u001b[0;34m()\u001b[0m\n",
            "\u001b[0;32mpandas/_libs/hashtable_class_helper.pxi\u001b[0m in \u001b[0;36mpandas._libs.hashtable.PyObjectHashTable.get_item\u001b[0;34m()\u001b[0m\n",
            "\u001b[0;32mpandas/_libs/hashtable_class_helper.pxi\u001b[0m in \u001b[0;36mpandas._libs.hashtable.PyObjectHashTable.get_item\u001b[0;34m()\u001b[0m\n",
            "\u001b[0;31mKeyError\u001b[0m: 'target_name'",
            "\nThe above exception was the direct cause of the following exception:\n",
            "\u001b[0;31mKeyError\u001b[0m                                  Traceback (most recent call last)",
            "\u001b[0;32m/usr/local/lib/python3.7/dist-packages/pandas/core/frame.py\u001b[0m in \u001b[0;36m_set_item_mgr\u001b[0;34m(self, key, value)\u001b[0m\n\u001b[1;32m   3750\u001b[0m         \u001b[0;32mtry\u001b[0m\u001b[0;34m:\u001b[0m\u001b[0;34m\u001b[0m\u001b[0;34m\u001b[0m\u001b[0m\n\u001b[0;32m-> 3751\u001b[0;31m             \u001b[0mloc\u001b[0m \u001b[0;34m=\u001b[0m \u001b[0mself\u001b[0m\u001b[0;34m.\u001b[0m\u001b[0m_info_axis\u001b[0m\u001b[0;34m.\u001b[0m\u001b[0mget_loc\u001b[0m\u001b[0;34m(\u001b[0m\u001b[0mkey\u001b[0m\u001b[0;34m)\u001b[0m\u001b[0;34m\u001b[0m\u001b[0;34m\u001b[0m\u001b[0m\n\u001b[0m\u001b[1;32m   3752\u001b[0m         \u001b[0;32mexcept\u001b[0m \u001b[0mKeyError\u001b[0m\u001b[0;34m:\u001b[0m\u001b[0;34m\u001b[0m\u001b[0;34m\u001b[0m\u001b[0m\n",
            "\u001b[0;32m/usr/local/lib/python3.7/dist-packages/pandas/core/indexes/base.py\u001b[0m in \u001b[0;36mget_loc\u001b[0;34m(self, key, method, tolerance)\u001b[0m\n\u001b[1;32m   3362\u001b[0m             \u001b[0;32mexcept\u001b[0m \u001b[0mKeyError\u001b[0m \u001b[0;32mas\u001b[0m \u001b[0merr\u001b[0m\u001b[0;34m:\u001b[0m\u001b[0;34m\u001b[0m\u001b[0;34m\u001b[0m\u001b[0m\n\u001b[0;32m-> 3363\u001b[0;31m                 \u001b[0;32mraise\u001b[0m \u001b[0mKeyError\u001b[0m\u001b[0;34m(\u001b[0m\u001b[0mkey\u001b[0m\u001b[0;34m)\u001b[0m \u001b[0;32mfrom\u001b[0m \u001b[0merr\u001b[0m\u001b[0;34m\u001b[0m\u001b[0;34m\u001b[0m\u001b[0m\n\u001b[0m\u001b[1;32m   3364\u001b[0m \u001b[0;34m\u001b[0m\u001b[0m\n",
            "\u001b[0;31mKeyError\u001b[0m: 'target_name'",
            "\nDuring handling of the above exception, another exception occurred:\n",
            "\u001b[0;31mValueError\u001b[0m                                Traceback (most recent call last)",
            "\u001b[0;32m<ipython-input-10-1df4f6fa47ba>\u001b[0m in \u001b[0;36m<module>\u001b[0;34m()\u001b[0m\n\u001b[1;32m      3\u001b[0m \u001b[0;34m\u001b[0m\u001b[0m\n\u001b[1;32m      4\u001b[0m \u001b[0;31m#Integrating True and False as one unique class-Changing True labels-with equal number 3- to 1\u001b[0m\u001b[0;34m\u001b[0m\u001b[0;34m\u001b[0m\u001b[0;34m\u001b[0m\u001b[0m\n\u001b[0;32m----> 5\u001b[0;31m \u001b[0msource_df\u001b[0m\u001b[0;34m[\u001b[0m\u001b[0;34m(\u001b[0m\u001b[0msource_df\u001b[0m\u001b[0;34m[\u001b[0m\u001b[0;34m'target_labels'\u001b[0m\u001b[0;34m]\u001b[0m\u001b[0;34m==\u001b[0m\u001b[0;36m3\u001b[0m\u001b[0;34m)\u001b[0m \u001b[0;34m|\u001b[0m \u001b[0;34m(\u001b[0m\u001b[0msource_df\u001b[0m\u001b[0;34m[\u001b[0m\u001b[0;34m'target_labels'\u001b[0m\u001b[0;34m]\u001b[0m\u001b[0;34m==\u001b[0m\u001b[0;36m1\u001b[0m\u001b[0;34m)\u001b[0m\u001b[0;34m]\u001b[0m\u001b[0;34m[\u001b[0m\u001b[0;34m'target_name'\u001b[0m\u001b[0;34m]\u001b[0m \u001b[0;34m=\u001b[0m \u001b[0msource_df\u001b[0m\u001b[0;34m.\u001b[0m\u001b[0massign\u001b[0m\u001b[0;34m(\u001b[0m\u001b[0mtarget_names\u001b[0m\u001b[0;34m=\u001b[0m\u001b[0;34m'Mixed_True_False'\u001b[0m\u001b[0;34m)\u001b[0m\u001b[0;34m\u001b[0m\u001b[0;34m\u001b[0m\u001b[0m\n\u001b[0m\u001b[1;32m      6\u001b[0m \u001b[0msource_df\u001b[0m\u001b[0;34m[\u001b[0m\u001b[0;34m(\u001b[0m\u001b[0msource_df\u001b[0m\u001b[0;34m[\u001b[0m\u001b[0;34m'target_labels'\u001b[0m\u001b[0;34m]\u001b[0m\u001b[0;34m==\u001b[0m\u001b[0;36m3\u001b[0m\u001b[0;34m)\u001b[0m\u001b[0;34m]\u001b[0m\u001b[0;34m[\u001b[0m\u001b[0;34m'target_labels'\u001b[0m\u001b[0;34m]\u001b[0m \u001b[0;34m=\u001b[0m \u001b[0msource_df\u001b[0m\u001b[0;34m.\u001b[0m\u001b[0massign\u001b[0m\u001b[0;34m(\u001b[0m\u001b[0mtarget_labels\u001b[0m\u001b[0;34m=\u001b[0m\u001b[0;36m1\u001b[0m\u001b[0;34m)\u001b[0m\u001b[0;34m\u001b[0m\u001b[0;34m\u001b[0m\u001b[0m\n\u001b[1;32m      7\u001b[0m \u001b[0msource_df\u001b[0m\u001b[0;34m\u001b[0m\u001b[0;34m\u001b[0m\u001b[0m\n",
            "\u001b[0;32m/usr/local/lib/python3.7/dist-packages/pandas/core/frame.py\u001b[0m in \u001b[0;36m__setitem__\u001b[0;34m(self, key, value)\u001b[0m\n\u001b[1;32m   3600\u001b[0m             \u001b[0mself\u001b[0m\u001b[0;34m.\u001b[0m\u001b[0m_setitem_array\u001b[0m\u001b[0;34m(\u001b[0m\u001b[0mkey\u001b[0m\u001b[0;34m,\u001b[0m \u001b[0mvalue\u001b[0m\u001b[0;34m)\u001b[0m\u001b[0;34m\u001b[0m\u001b[0;34m\u001b[0m\u001b[0m\n\u001b[1;32m   3601\u001b[0m         \u001b[0;32melif\u001b[0m \u001b[0misinstance\u001b[0m\u001b[0;34m(\u001b[0m\u001b[0mvalue\u001b[0m\u001b[0;34m,\u001b[0m \u001b[0mDataFrame\u001b[0m\u001b[0;34m)\u001b[0m\u001b[0;34m:\u001b[0m\u001b[0;34m\u001b[0m\u001b[0;34m\u001b[0m\u001b[0m\n\u001b[0;32m-> 3602\u001b[0;31m             \u001b[0mself\u001b[0m\u001b[0;34m.\u001b[0m\u001b[0m_set_item_frame_value\u001b[0m\u001b[0;34m(\u001b[0m\u001b[0mkey\u001b[0m\u001b[0;34m,\u001b[0m \u001b[0mvalue\u001b[0m\u001b[0;34m)\u001b[0m\u001b[0;34m\u001b[0m\u001b[0;34m\u001b[0m\u001b[0m\n\u001b[0m\u001b[1;32m   3603\u001b[0m         elif (\n\u001b[1;32m   3604\u001b[0m             \u001b[0mis_list_like\u001b[0m\u001b[0;34m(\u001b[0m\u001b[0mvalue\u001b[0m\u001b[0;34m)\u001b[0m\u001b[0;34m\u001b[0m\u001b[0;34m\u001b[0m\u001b[0m\n",
            "\u001b[0;32m/usr/local/lib/python3.7/dist-packages/pandas/core/frame.py\u001b[0m in \u001b[0;36m_set_item_frame_value\u001b[0;34m(self, key, value)\u001b[0m\n\u001b[1;32m   3740\u001b[0m         \u001b[0;31m# now align rows\u001b[0m\u001b[0;34m\u001b[0m\u001b[0;34m\u001b[0m\u001b[0;34m\u001b[0m\u001b[0m\n\u001b[1;32m   3741\u001b[0m         \u001b[0marraylike\u001b[0m \u001b[0;34m=\u001b[0m \u001b[0m_reindex_for_setitem\u001b[0m\u001b[0;34m(\u001b[0m\u001b[0mvalue\u001b[0m\u001b[0;34m,\u001b[0m \u001b[0mself\u001b[0m\u001b[0;34m.\u001b[0m\u001b[0mindex\u001b[0m\u001b[0;34m)\u001b[0m\u001b[0;34m\u001b[0m\u001b[0;34m\u001b[0m\u001b[0m\n\u001b[0;32m-> 3742\u001b[0;31m         \u001b[0mself\u001b[0m\u001b[0;34m.\u001b[0m\u001b[0m_set_item_mgr\u001b[0m\u001b[0;34m(\u001b[0m\u001b[0mkey\u001b[0m\u001b[0;34m,\u001b[0m \u001b[0marraylike\u001b[0m\u001b[0;34m)\u001b[0m\u001b[0;34m\u001b[0m\u001b[0;34m\u001b[0m\u001b[0m\n\u001b[0m\u001b[1;32m   3743\u001b[0m \u001b[0;34m\u001b[0m\u001b[0m\n\u001b[1;32m   3744\u001b[0m     \u001b[0;32mdef\u001b[0m \u001b[0m_iset_item_mgr\u001b[0m\u001b[0;34m(\u001b[0m\u001b[0mself\u001b[0m\u001b[0;34m,\u001b[0m \u001b[0mloc\u001b[0m\u001b[0;34m:\u001b[0m \u001b[0mint\u001b[0m \u001b[0;34m|\u001b[0m \u001b[0mslice\u001b[0m \u001b[0;34m|\u001b[0m \u001b[0mnp\u001b[0m\u001b[0;34m.\u001b[0m\u001b[0mndarray\u001b[0m\u001b[0;34m,\u001b[0m \u001b[0mvalue\u001b[0m\u001b[0;34m)\u001b[0m \u001b[0;34m->\u001b[0m \u001b[0;32mNone\u001b[0m\u001b[0;34m:\u001b[0m\u001b[0;34m\u001b[0m\u001b[0;34m\u001b[0m\u001b[0m\n",
            "\u001b[0;32m/usr/local/lib/python3.7/dist-packages/pandas/core/frame.py\u001b[0m in \u001b[0;36m_set_item_mgr\u001b[0;34m(self, key, value)\u001b[0m\n\u001b[1;32m   3752\u001b[0m         \u001b[0;32mexcept\u001b[0m \u001b[0mKeyError\u001b[0m\u001b[0;34m:\u001b[0m\u001b[0;34m\u001b[0m\u001b[0;34m\u001b[0m\u001b[0m\n\u001b[1;32m   3753\u001b[0m             \u001b[0;31m# This item wasn't present, just insert at end\u001b[0m\u001b[0;34m\u001b[0m\u001b[0;34m\u001b[0m\u001b[0;34m\u001b[0m\u001b[0m\n\u001b[0;32m-> 3754\u001b[0;31m             \u001b[0mself\u001b[0m\u001b[0;34m.\u001b[0m\u001b[0m_mgr\u001b[0m\u001b[0;34m.\u001b[0m\u001b[0minsert\u001b[0m\u001b[0;34m(\u001b[0m\u001b[0mlen\u001b[0m\u001b[0;34m(\u001b[0m\u001b[0mself\u001b[0m\u001b[0;34m.\u001b[0m\u001b[0m_info_axis\u001b[0m\u001b[0;34m)\u001b[0m\u001b[0;34m,\u001b[0m \u001b[0mkey\u001b[0m\u001b[0;34m,\u001b[0m \u001b[0mvalue\u001b[0m\u001b[0;34m)\u001b[0m\u001b[0;34m\u001b[0m\u001b[0;34m\u001b[0m\u001b[0m\n\u001b[0m\u001b[1;32m   3755\u001b[0m         \u001b[0;32melse\u001b[0m\u001b[0;34m:\u001b[0m\u001b[0;34m\u001b[0m\u001b[0;34m\u001b[0m\u001b[0m\n\u001b[1;32m   3756\u001b[0m             \u001b[0mself\u001b[0m\u001b[0;34m.\u001b[0m\u001b[0m_iset_item_mgr\u001b[0m\u001b[0;34m(\u001b[0m\u001b[0mloc\u001b[0m\u001b[0;34m,\u001b[0m \u001b[0mvalue\u001b[0m\u001b[0;34m)\u001b[0m\u001b[0;34m\u001b[0m\u001b[0;34m\u001b[0m\u001b[0m\n",
            "\u001b[0;32m/usr/local/lib/python3.7/dist-packages/pandas/core/internals/managers.py\u001b[0m in \u001b[0;36minsert\u001b[0;34m(self, loc, item, value)\u001b[0m\n\u001b[1;32m   1160\u001b[0m             \u001b[0mvalue\u001b[0m \u001b[0;34m=\u001b[0m \u001b[0mensure_block_shape\u001b[0m\u001b[0;34m(\u001b[0m\u001b[0mvalue\u001b[0m\u001b[0;34m,\u001b[0m \u001b[0mndim\u001b[0m\u001b[0;34m=\u001b[0m\u001b[0mself\u001b[0m\u001b[0;34m.\u001b[0m\u001b[0mndim\u001b[0m\u001b[0;34m)\u001b[0m\u001b[0;34m\u001b[0m\u001b[0;34m\u001b[0m\u001b[0m\n\u001b[1;32m   1161\u001b[0m \u001b[0;34m\u001b[0m\u001b[0m\n\u001b[0;32m-> 1162\u001b[0;31m         \u001b[0mblock\u001b[0m \u001b[0;34m=\u001b[0m \u001b[0mnew_block\u001b[0m\u001b[0;34m(\u001b[0m\u001b[0mvalues\u001b[0m\u001b[0;34m=\u001b[0m\u001b[0mvalue\u001b[0m\u001b[0;34m,\u001b[0m \u001b[0mndim\u001b[0m\u001b[0;34m=\u001b[0m\u001b[0mself\u001b[0m\u001b[0;34m.\u001b[0m\u001b[0mndim\u001b[0m\u001b[0;34m,\u001b[0m \u001b[0mplacement\u001b[0m\u001b[0;34m=\u001b[0m\u001b[0mslice\u001b[0m\u001b[0;34m(\u001b[0m\u001b[0mloc\u001b[0m\u001b[0;34m,\u001b[0m \u001b[0mloc\u001b[0m \u001b[0;34m+\u001b[0m \u001b[0;36m1\u001b[0m\u001b[0;34m)\u001b[0m\u001b[0;34m)\u001b[0m\u001b[0;34m\u001b[0m\u001b[0;34m\u001b[0m\u001b[0m\n\u001b[0m\u001b[1;32m   1163\u001b[0m \u001b[0;34m\u001b[0m\u001b[0m\n\u001b[1;32m   1164\u001b[0m         \u001b[0;32mfor\u001b[0m \u001b[0mblkno\u001b[0m\u001b[0;34m,\u001b[0m \u001b[0mcount\u001b[0m \u001b[0;32min\u001b[0m \u001b[0m_fast_count_smallints\u001b[0m\u001b[0;34m(\u001b[0m\u001b[0mself\u001b[0m\u001b[0;34m.\u001b[0m\u001b[0mblknos\u001b[0m\u001b[0;34m[\u001b[0m\u001b[0mloc\u001b[0m\u001b[0;34m:\u001b[0m\u001b[0;34m]\u001b[0m\u001b[0;34m)\u001b[0m\u001b[0;34m:\u001b[0m\u001b[0;34m\u001b[0m\u001b[0;34m\u001b[0m\u001b[0m\n",
            "\u001b[0;32m/usr/local/lib/python3.7/dist-packages/pandas/core/internals/blocks.py\u001b[0m in \u001b[0;36mnew_block\u001b[0;34m(values, placement, ndim, klass)\u001b[0m\n\u001b[1;32m   1935\u001b[0m \u001b[0;34m\u001b[0m\u001b[0m\n\u001b[1;32m   1936\u001b[0m     \u001b[0mvalues\u001b[0m\u001b[0;34m,\u001b[0m \u001b[0m_\u001b[0m \u001b[0;34m=\u001b[0m \u001b[0mextract_pandas_array\u001b[0m\u001b[0;34m(\u001b[0m\u001b[0mvalues\u001b[0m\u001b[0;34m,\u001b[0m \u001b[0;32mNone\u001b[0m\u001b[0;34m,\u001b[0m \u001b[0mndim\u001b[0m\u001b[0;34m)\u001b[0m\u001b[0;34m\u001b[0m\u001b[0;34m\u001b[0m\u001b[0m\n\u001b[0;32m-> 1937\u001b[0;31m     \u001b[0mcheck_ndim\u001b[0m\u001b[0;34m(\u001b[0m\u001b[0mvalues\u001b[0m\u001b[0;34m,\u001b[0m \u001b[0mplacement\u001b[0m\u001b[0;34m,\u001b[0m \u001b[0mndim\u001b[0m\u001b[0;34m)\u001b[0m\u001b[0;34m\u001b[0m\u001b[0;34m\u001b[0m\u001b[0m\n\u001b[0m\u001b[1;32m   1938\u001b[0m \u001b[0;34m\u001b[0m\u001b[0m\n\u001b[1;32m   1939\u001b[0m     \u001b[0;32mif\u001b[0m \u001b[0mklass\u001b[0m \u001b[0;32mis\u001b[0m \u001b[0;32mNone\u001b[0m\u001b[0;34m:\u001b[0m\u001b[0;34m\u001b[0m\u001b[0;34m\u001b[0m\u001b[0m\n",
            "\u001b[0;32m/usr/local/lib/python3.7/dist-packages/pandas/core/internals/blocks.py\u001b[0m in \u001b[0;36mcheck_ndim\u001b[0;34m(values, placement, ndim)\u001b[0m\n\u001b[1;32m   1978\u001b[0m         \u001b[0;32mif\u001b[0m \u001b[0mlen\u001b[0m\u001b[0;34m(\u001b[0m\u001b[0mplacement\u001b[0m\u001b[0;34m)\u001b[0m \u001b[0;34m!=\u001b[0m \u001b[0mlen\u001b[0m\u001b[0;34m(\u001b[0m\u001b[0mvalues\u001b[0m\u001b[0;34m)\u001b[0m\u001b[0;34m:\u001b[0m\u001b[0;34m\u001b[0m\u001b[0;34m\u001b[0m\u001b[0m\n\u001b[1;32m   1979\u001b[0m             raise ValueError(\n\u001b[0;32m-> 1980\u001b[0;31m                 \u001b[0;34mf\"Wrong number of items passed {len(values)}, \"\u001b[0m\u001b[0;34m\u001b[0m\u001b[0;34m\u001b[0m\u001b[0m\n\u001b[0m\u001b[1;32m   1981\u001b[0m                 \u001b[0;34mf\"placement implies {len(placement)}\"\u001b[0m\u001b[0;34m\u001b[0m\u001b[0;34m\u001b[0m\u001b[0m\n\u001b[1;32m   1982\u001b[0m             )\n",
            "\u001b[0;31mValueError\u001b[0m: Wrong number of items passed 544, placement implies 1"
          ]
        }
      ]
    },
    {
      "cell_type": "code",
      "source": [
        "#Create train and test dataset\n",
        "X_train = source_df.iloc[:,:-2][:17000]\n",
        "y_train = source_df.target_labels[:17000]\n",
        "X_test = source_df.iloc[:,:-2][17000:]\n",
        "y_test = source_df.target_labels[17000:]"
      ],
      "metadata": {
        "id": "B_TXJ2dOrqMN"
      },
      "execution_count": null,
      "outputs": []
    },
    {
      "cell_type": "code",
      "execution_count": null,
      "metadata": {
        "id": "luefIf9oLVO_"
      },
      "outputs": [],
      "source": [
        "# K-Nearest Neighbors Classification\n",
        "knn_classifier = KNeighborsClassifier(n_neighbors=2)\n",
        "knn_classifier.fit(X_train, y_train)"
      ]
    },
    {
      "cell_type": "code",
      "execution_count": null,
      "metadata": {
        "id": "0otSSE4hGG26"
      },
      "outputs": [],
      "source": [
        "max_features = 10000\n",
        "sequence_length = 250\n",
        "\n",
        "vectorize_layer = layers.TextVectorization(\n",
        "    standardize=custom_standardization,\n",
        "    max_tokens=max_features,\n",
        "    output_mode='int',\n",
        "    output_sequence_length=sequence_length)"
      ]
    },
    {
      "cell_type": "code",
      "execution_count": null,
      "metadata": {
        "id": "lVXykBW7HGOU"
      },
      "outputs": [],
      "source": [
        "# Make a text-only dataset (without labels), then call adapt\n",
        "train_text = raw_train_ds.map(lambda x, y: x)\n",
        "vectorize_layer.adapt(train_text)"
      ]
    },
    {
      "cell_type": "code",
      "execution_count": null,
      "metadata": {
        "id": "uwW0wDf3HJy2"
      },
      "outputs": [],
      "source": [
        "def vectorize_text(text, label):\n",
        "  text = tf.expand_dims(text, -1)\n",
        "  return vectorize_layer(text), label"
      ]
    },
    {
      "cell_type": "code",
      "execution_count": null,
      "metadata": {
        "id": "37IOpMs1HKuU"
      },
      "outputs": [],
      "source": [
        "# retrieve a batch (of 32 reviews and labels) from the dataset\n",
        "text_batch, label_batch = next(iter(raw_train_ds))\n",
        "first_review, first_label = text_batch[0], label_batch[0]\n",
        "print(\"Review\", first_review)\n",
        "print(\"Label\", raw_train_ds.class_names[first_label])\n",
        "print(\"Vectorized review\", vectorize_text(first_review, first_label))"
      ]
    },
    {
      "cell_type": "code",
      "execution_count": null,
      "metadata": {
        "id": "XPxjY4jJHPPO"
      },
      "outputs": [],
      "source": [
        "print(\"1287 ---> \",vectorize_layer.get_vocabulary()[1287])\n",
        "print(\" 313 ---> \",vectorize_layer.get_vocabulary()[313])\n",
        "print('Vocabulary size: {}'.format(len(vectorize_layer.get_vocabulary())))"
      ]
    },
    {
      "cell_type": "code",
      "execution_count": null,
      "metadata": {
        "id": "WlVkxWxQHV-Z"
      },
      "outputs": [],
      "source": [
        "train_ds = raw_train_ds.map(vectorize_text)\n",
        "val_ds = raw_val_ds.map(vectorize_text)\n",
        "test_ds = raw_test_ds.map(vectorize_text)"
      ]
    },
    {
      "cell_type": "code",
      "execution_count": null,
      "metadata": {
        "id": "NQCMe6CXHY-W"
      },
      "outputs": [],
      "source": [
        "AUTOTUNE = tf.data.AUTOTUNE\n",
        "\n",
        "train_ds = train_ds.cache().prefetch(buffer_size=AUTOTUNE)\n",
        "val_ds = val_ds.cache().prefetch(buffer_size=AUTOTUNE)\n",
        "test_ds = test_ds.cache().prefetch(buffer_size=AUTOTUNE)"
      ]
    },
    {
      "cell_type": "markdown",
      "metadata": {
        "id": "7Bk1MHvqGx5w"
      },
      "source": [
        "# Data Analysis"
      ]
    },
    {
      "cell_type": "code",
      "execution_count": null,
      "metadata": {
        "colab": {
          "base_uri": "https://localhost:8080/",
          "height": 790
        },
        "id": "MgDvQGnKeAXB",
        "outputId": "48eba444-babd-4c5d-ad66-bf49167438d1"
      },
      "outputs": [
        {
          "name": "stdout",
          "output_type": "stream",
          "text": [
            "Transactions and offers receive/view/complete plots\n"
          ]
        },
        {
          "data": {
            "text/plain": [
              "array([[<AxesSubplot:title={'center':'time'}>,\n",
              "        <AxesSubplot:title={'center':'amount'}>,\n",
              "        <AxesSubplot:title={'center':'reward'}>],\n",
              "       [<AxesSubplot:title={'center':'offer_completed'}>,\n",
              "        <AxesSubplot:title={'center':'offer_received'}>,\n",
              "        <AxesSubplot:title={'center':'offer_viewed'}>],\n",
              "       [<AxesSubplot:title={'center':'transaction'}>, <AxesSubplot:>,\n",
              "        <AxesSubplot:>]], dtype=object)"
            ]
          },
          "execution_count": 4,
          "metadata": {},
          "output_type": "execute_result"
        },
        {
          "data": {
            "image/png": "[encoded data removed]",
            "text/plain": [
              "<Figure size 1080x720 with 9 Axes>"
            ]
          },
          "metadata": {},
          "output_type": "display_data"
        }
      ],
      "source": [
        "print(\"Transactions and offers receive/view/complete plots\")\n",
        "transcript = pd.read_csv(\"transcript_edited.csv\")\n",
        "transcript[transcript[transcript.columns]!=0].hist(bins=40, figsize=(15, 10))"
      ]
    },
    {
      "cell_type": "code",
      "execution_count": null,
      "metadata": {
        "id": "ftJ5XJOroVEC",
        "outputId": "db747d95-5b42-4e9a-9d0f-f1ecd4358f55"
      },
      "outputs": [
        {
          "name": "stdout",
          "output_type": "stream",
          "text": [
            "You can see number of offers that people received, viewed or completed:\n"
          ]
        },
        {
          "data": {
            "text/plain": [
              "<matplotlib.legend.Legend at 0x7f34aa080828>"
            ]
          },
          "execution_count": 13,
          "metadata": {},
          "output_type": "execute_result"
        },
        {
          "data": {
            "image/png": "[encoded data removed]",
            "text/plain": [
              "<Figure size 576x432 with 1 Axes>"
            ]
          },
          "metadata": {},
          "output_type": "display_data"
        }
      ],
      "source": [
        "print(\"You can see number of offers that people received, viewed or completed:\")\n",
        "plt.figure(figsize=(8,6))\n",
        "plt.hist(transcript.offer_received[transcript.offer_received!=0], bins=30, alpha=0.5, label=\"offer_received\")\n",
        "plt.hist(transcript.offer_viewed[transcript.offer_viewed!=0], bins=30, alpha=0.5, label=\"offer_viewed\")\n",
        "plt.hist(transcript.offer_completed[transcript.offer_completed!=0], bins=30, alpha=0.5, label=\"offer_completed\")\n",
        "plt.xlabel(\"Data\", size=14)\n",
        "plt.ylabel(\"Count\", size=14)\n",
        "plt.title(\"Multiple Histograms with Matplotlib\")\n",
        "plt.legend(loc='upper right')"
      ]
    },
    {
      "cell_type": "code",
      "execution_count": null,
      "metadata": {
        "colab": {
          "base_uri": "https://localhost:8080/",
          "height": 735
        },
        "id": "coXOk5GV6-cu",
        "outputId": "8c2ae3e1-c3d3-4964-82b0-b2ce6fccb802"
      },
      "outputs": [
        {
          "name": "stdout",
          "output_type": "stream",
          "text": [
            "Edited profile table's feature histograms:\n"
          ]
        },
        {
          "data": {
            "text/plain": [
              "array([[<AxesSubplot:title={'center':'age'}>,\n",
              "        <AxesSubplot:title={'center':'income'}>],\n",
              "       [<AxesSubplot:title={'center':'membership_duration'}>,\n",
              "        <AxesSubplot:title={'center':'Male'}>],\n",
              "       [<AxesSubplot:title={'center':'Female'}>,\n",
              "        <AxesSubplot:title={'center':'Other'}>]], dtype=object)"
            ]
          },
          "execution_count": 7,
          "metadata": {},
          "output_type": "execute_result"
        },
        {
          "data": {
            "image/png": "[encoded data removed]",
            "text/plain": [
              "<Figure size 1080x720 with 6 Axes>"
            ]
          },
          "metadata": {},
          "output_type": "display_data"
        }
      ],
      "source": [
        "print(\"Edited profile table's feature histograms:\")\n",
        "profile = pd.read_csv(\"profile_edited.csv\")\n",
        "profile[profile[profile.columns]!=0].hist(bins=30, figsize=(15, 10))"
      ]
    },
    {
      "cell_type": "code",
      "execution_count": null,
      "metadata": {
        "id": "NtndPQsfnLkB",
        "outputId": "df930a2b-fc07-4563-b918-65acb8d6bec2"
      },
      "outputs": [
        {
          "name": "stdout",
          "output_type": "stream",
          "text": [
            "Histogram of all features\n"
          ]
        },
        {
          "data": {
            "text/plain": [
              "array([[<AxesSubplot:title={'center':'time'}>,\n",
              "        <AxesSubplot:title={'center':'cumulative_transaction'}>,\n",
              "        <AxesSubplot:title={'center':'reward'}>,\n",
              "        <AxesSubplot:title={'center':'offer_completed'}>,\n",
              "        <AxesSubplot:title={'center':'offer_received'}>],\n",
              "       [<AxesSubplot:title={'center':'offer_viewed'}>,\n",
              "        <AxesSubplot:title={'center':'age'}>,\n",
              "        <AxesSubplot:title={'center':'income'}>,\n",
              "        <AxesSubplot:title={'center':'membership_duration'}>,\n",
              "        <AxesSubplot:title={'center':'Male'}>],\n",
              "       [<AxesSubplot:title={'center':'Female'}>,\n",
              "        <AxesSubplot:title={'center':'Other'}>,\n",
              "        <AxesSubplot:title={'center':'offer_reward'}>,\n",
              "        <AxesSubplot:title={'center':'offer_difficulty'}>,\n",
              "        <AxesSubplot:title={'center':'offer_duration'}>],\n",
              "       [<AxesSubplot:title={'center':'web'}>,\n",
              "        <AxesSubplot:title={'center':'email'}>,\n",
              "        <AxesSubplot:title={'center':'mobile'}>,\n",
              "        <AxesSubplot:title={'center':'social'}>,\n",
              "        <AxesSubplot:title={'center':'bogo'}>],\n",
              "       [<AxesSubplot:title={'center':'discount'}>,\n",
              "        <AxesSubplot:title={'center':'informational'}>,\n",
              "        <AxesSubplot:title={'center':'total_transaction'}>,\n",
              "        <AxesSubplot:>, <AxesSubplot:>]], dtype=object)"
            ]
          },
          "execution_count": 91,
          "metadata": {},
          "output_type": "execute_result"
        },
        {
          "data": {
            "image/png": "[encoded data removed]",
            "text/plain": [
              "<Figure size 1080x720 with 25 Axes>"
            ]
          },
          "metadata": {},
          "output_type": "display_data"
        }
      ],
      "source": [
        "#plot my source table (my_starbuck) feature histograms\n",
        "my_starbuck = pd.read_csv(\"my_starbuck.csv\")\n",
        "print(\"Histogram of all features\")\n",
        "my_starbuck[my_starbuck[my_starbuck.columns]!=0].hist(bins=30, figsize=(15, 10))"
      ]
    },
    {
      "cell_type": "code",
      "execution_count": null,
      "metadata": {
        "colab": {
          "base_uri": "https://localhost:8080/",
          "height": 356
        },
        "id": "DwbSVUJRSGBO",
        "outputId": "7f15b385-c603-4dd6-824f-8f3b8b10a374"
      },
      "outputs": [
        {
          "name": "stdout",
          "output_type": "stream",
          "text": [
            "Histogram of female customer's completed rewards \n"
          ]
        },
        {
          "data": {
            "text/plain": [
              "<AxesSubplot:>"
            ]
          },
          "execution_count": 9,
          "metadata": {},
          "output_type": "execute_result"
        },
        {
          "data": {
            "image/png": "[encoded data removed]",
            "text/plain": [
              "<Figure size 720x360 with 1 Axes>"
            ]
          },
          "metadata": {},
          "output_type": "display_data"
        }
      ],
      "source": [
        "print(\"Histogram of female customer's completed rewards \")\n",
        "(my_starbuck[(my_starbuck['Female']==1) & (my_starbuck['reward']==1)]['offer_reward']).hist(bins=30, figsize=(10, 5))"
      ]
    },
    {
      "cell_type": "code",
      "execution_count": null,
      "metadata": {
        "colab": {
          "base_uri": "https://localhost:8080/",
          "height": 445
        },
        "id": "kiQZJPVzci5L",
        "outputId": "eb5688e4-b352-4a32-fb5b-66a208d12938"
      },
      "outputs": [
        {
          "name": "stdout",
          "output_type": "stream",
          "text": [
            "Histogram of female customer's completed offer types \n"
          ]
        },
        {
          "data": {
            "text/plain": [
              "array([[<AxesSubplot:title={'center':'bogo'}>,\n",
              "        <AxesSubplot:title={'center':'discount'}>],\n",
              "       [<AxesSubplot:title={'center':'informational'}>, <AxesSubplot:>]],\n",
              "      dtype=object)"
            ]
          },
          "execution_count": 12,
          "metadata": {},
          "output_type": "execute_result"
        },
        {
          "data": {
            "image/png": "[encoded data removed]",
            "text/plain": [
              "<Figure size 720x360 with 4 Axes>"
            ]
          },
          "metadata": {},
          "output_type": "display_data"
        }
      ],
      "source": [
        "print(\"Histogram of female customer's completed offer types \")\n",
        "(my_starbuck[(my_starbuck['Female']==1) & (my_starbuck['reward']==1) ][['bogo',\t'discount',\t'informational']]).hist(bins=30, figsize=(10, 5))"
      ]
    },
    {
      "cell_type": "markdown",
      "metadata": {
        "id": "fM3XTeX3-feZ"
      },
      "source": [
        "# Training with Scikit_Learn random forest model "
      ]
    },
    {
      "cell_type": "code",
      "execution_count": null,
      "metadata": {
        "id": "2eFrbFqNoVEF",
        "outputId": "b0bc4a82-909c-4c3f-ee22-4c25154dea7d"
      },
      "outputs": [
        {
          "data": {
            "text/plain": [
              "167581"
            ]
          },
          "execution_count": 142,
          "metadata": {},
          "output_type": "execute_result"
        }
      ],
      "source": [
        "my_starbuck = pd.read_csv(\"my_starbuck.csv\")\n",
        "len(my_starbuck)"
      ]
    },
    {
      "cell_type": "code",
      "execution_count": null,
      "metadata": {
        "id": "KjMVWLZfoVEM",
        "outputId": "d0717432-d881-4ed2-c8bf-e74e86587ee6"
      },
      "outputs": [
        {
          "name": "stdout",
          "output_type": "stream",
          "text": [
            "Number of rows containing Other genders:\n"
          ]
        },
        {
          "data": {
            "text/plain": [
              "2190"
            ]
          },
          "execution_count": 143,
          "metadata": {},
          "output_type": "execute_result"
        }
      ],
      "source": [
        "print(\"Number of rows containing Other genders:\")\n",
        "my_starbuck[(my_starbuck['Other']==1)]['person'].count()"
      ]
    },
    {
      "cell_type": "code",
      "execution_count": null,
      "metadata": {
        "colab": {
          "base_uri": "https://localhost:8080/",
          "height": 487
        },
        "id": "ephIDWxt6_Rj",
        "outputId": "0e3c7a6f-aa22-403d-cb89-1c290eb132ca"
      },
      "outputs": [
        {
          "name": "stdout",
          "output_type": "stream",
          "text": [
            "<class 'pandas.core.frame.DataFrame'>\n",
            "RangeIndex: 165391 entries, 0 to 165390\n",
            "Data columns (total 16 columns):\n",
            " #   Column                  Non-Null Count   Dtype  \n",
            "---  ------                  --------------   -----  \n",
            " 0   time                    165391 non-null  float64\n",
            " 1   cumulative_transaction  165391 non-null  float64\n",
            " 2   reward                  165391 non-null  int64  \n",
            " 3   age                     165391 non-null  int64  \n",
            " 4   income                  165391 non-null  float64\n",
            " 5   membership_duration     165391 non-null  int64  \n",
            " 6   Male                    165391 non-null  int64  \n",
            " 7   Female                  165391 non-null  int64  \n",
            " 8   offer_reward            165391 non-null  float64\n",
            " 9   offer_difficulty        165391 non-null  float64\n",
            " 10  offer_duration          165391 non-null  float64\n",
            " 11  web                     165391 non-null  float64\n",
            " 12  mobile                  165391 non-null  float64\n",
            " 13  social                  165391 non-null  float64\n",
            " 14  bogo                    165391 non-null  float64\n",
            " 15  discount                165391 non-null  float64\n",
            "dtypes: float64(11), int64(5)\n",
            "memory usage: 20.2 MB\n"
          ]
        }
      ],
      "source": [
        "#Reading my source table\n",
        "my_starbuck = pd.read_csv(\"my_starbuck.csv\")\n",
        "\n",
        "#Deleting the rows containing Other genders\n",
        "my_starbuck = my_starbuck.drop(my_starbuck[(my_starbuck['Other']==1)].index)\n",
        "\n",
        "#Reseting my goal table indexes\n",
        "my_starbuck.reset_index(drop=True, inplace=True)\n",
        "\n",
        "#drop unimportant and unnecessary columns\n",
        "my_starbuck = my_starbuck.drop([ 'person','offers', 'Other',  'email',\n",
        "                                'informational', 'offer_completed', 'offer_received', \n",
        "                                'offer_viewed', 'total_transaction',], axis=1)\n",
        "#Check my source table \"my_starbuck\"\n",
        "my_starbuck.info()"
      ]
    },
    {
      "cell_type": "code",
      "execution_count": null,
      "metadata": {
        "id": "QLd-cQUvKh9e"
      },
      "outputs": [],
      "source": [
        "#Do some preprocessing if necessary\n",
        "from sklearn import preprocessing\n",
        "\n",
        "#Normalizing some columns that contain big numbers\n",
        "x = my_starbuck[['income', 'age', 'time','membership_duration',]].values #returns a numpy array\n",
        "min_max_scaler = preprocessing.MinMaxScaler()\n",
        "x_scaled = min_max_scaler.fit_transform(x)\n",
        "normalized_columns = pd.DataFrame(x_scaled)\n",
        "\n",
        "data = my_starbuck.copy()\n",
        "data['income'] = normalized_columns[0]\n",
        "data['age'] = normalized_columns[1]\n",
        "data['time'] = normalized_columns[2]\n",
        "data['membership_duration'] = normalized_columns[3]\n",
        "data = data.round(5)"
      ]
    },
    {
      "cell_type": "code",
      "execution_count": null,
      "metadata": {
        "id": "ETp2XBp46-cy"
      },
      "outputs": [],
      "source": [
        "from sklearn.model_selection import train_test_split\n",
        "\n",
        "#splitting the data to train and test\n",
        "train, test = train_test_split(\n",
        "    data, test_size=0.25, random_state=42)"
      ]
    },
    {
      "cell_type": "code",
      "execution_count": null,
      "metadata": {
        "id": "4Tn-XxXqoVEO"
      },
      "outputs": [],
      "source": [
        "#Saving the train and test files to csv\n",
        "train.to_csv(\"train.csv\")\n",
        "test.to_csv(\"test.csv\")\n",
        "\n",
        "# Save data to S3, SageMaker will take training data from s3\n",
        "trainpath = sess.upload_data(\n",
        "    path=\"train.csv\", bucket=bucket, key_prefix=\"capstone\"\n",
        ")\n",
        "\n",
        "testpath = sess.upload_data(\n",
        "    path=\"test.csv\", bucket=bucket, key_prefix=\"capstone\"\n",
        ")\n",
        "#print(train.shape, test.shape)"
      ]
    },
    {
      "cell_type": "markdown",
      "metadata": {
        "id": "cxyw48GooVEO"
      },
      "source": [
        "## Write model training job on a RandomForestRegressor to script.py file"
      ]
    },
    {
      "cell_type": "code",
      "execution_count": null,
      "metadata": {
        "id": "G-mawn7doVEO",
        "outputId": "7793af92-4081-4f5e-ae84-2ce89bac1854"
      },
      "outputs": [
        {
          "name": "stdout",
          "output_type": "stream",
          "text": [
            "Overwriting script.py\n"
          ]
        }
      ],
      "source": [
        "%%writefile script.py\n",
        "\n",
        "import argparse\n",
        "import joblib\n",
        "import os\n",
        "\n",
        "import numpy as np\n",
        "import pandas as pd\n",
        "from sklearn.ensemble import RandomForestRegressor\n",
        "\n",
        "\n",
        "# inference functions ---------------\n",
        "def model_fn(model_dir):\n",
        "    clf = joblib.load(os.path.join(model_dir, \"model.joblib\"))\n",
        "    return clf\n",
        "\n",
        "\n",
        "if __name__ == \"__main__\":\n",
        "\n",
        "    print(\"extracting arguments\")\n",
        "    parser = argparse.ArgumentParser()\n",
        "\n",
        "    # hyperparameters sent by the client are passed as command-line arguments to the script.\n",
        "    # to simplify the demo we don't use all sklearn RandomForest hyperparameters\n",
        "    parser.add_argument(\"--n-estimators\", type=int, default=10)\n",
        "    parser.add_argument(\"--min-samples-leaf\", type=int, default=3)\n",
        "\n",
        "    # Data, model, and output directories\n",
        "    parser.add_argument(\"--model-dir\", type=str, default=os.environ.get(\"SM_MODEL_DIR\"))\n",
        "    parser.add_argument(\"--train\", type=str, default=os.environ.get(\"SM_CHANNEL_TRAIN\"))\n",
        "    parser.add_argument(\"--test\", type=str, default=os.environ.get(\"SM_CHANNEL_TEST\"))\n",
        "    parser.add_argument(\"--train-file\", type=str, default=\"train.csv\")\n",
        "    parser.add_argument(\"--test-file\", type=str, default=\"test.csv\")\n",
        "    parser.add_argument(\n",
        "        \"--features\", type=str\n",
        "    )  # in this script we ask user to explicitly name features\n",
        "    parser.add_argument(\n",
        "        \"--target\", type=str\n",
        "    )  # in this script we ask user to explicitly name the target\n",
        "\n",
        "    args, _ = parser.parse_known_args()\n",
        "\n",
        "    print(\"reading data\")\n",
        "    train_df = pd.read_csv(os.path.join(args.train, args.train_file))\n",
        "    test_df = pd.read_csv(os.path.join(args.test, args.test_file))\n",
        "\n",
        "    print(\"building training and testing datasets\")\n",
        "    X_train = train_df[args.features.split()]\n",
        "    X_test = test_df[args.features.split()]\n",
        "    y_train = train_df[args.target]\n",
        "    y_test = test_df[args.target]\n",
        "\n",
        "    # train\n",
        "    print(\"training model\")\n",
        "    model = RandomForestRegressor(\n",
        "        n_estimators=args.n_estimators, min_samples_leaf=args.min_samples_leaf, n_jobs=-1\n",
        "    )\n",
        "\n",
        "    model.fit(X_train, y_train)\n",
        "\n",
        "    # print abs error\n",
        "    print(\"validating model\")\n",
        "    abs_err = np.abs(model.predict(X_test) - y_test)\n",
        "\n",
        "    # print couple perf metrics\n",
        "    for q in [10, 50, 90]:\n",
        "        print(\"AE-at-\" + str(q) + \"th-percentile: \" + str(np.percentile(a=abs_err, q=q)))\n",
        "\n",
        "    # persist model\n",
        "    path = os.path.join(args.model_dir, \"model.joblib\")\n",
        "    joblib.dump(model, path)\n",
        "    print(\"model persisted at \" + path)\n",
        "    print(args.min_samples_leaf)\n",
        "\n"
      ]
    },
    {
      "cell_type": "code",
      "execution_count": null,
      "metadata": {
        "id": "_4EwR_n8oVEP",
        "outputId": "9b5e1cd4-7f26-4d97-81ed-3928aaa2bbef"
      },
      "outputs": [
        {
          "name": "stdout",
          "output_type": "stream",
          "text": [
            "train features:  Index(['time', 'cumulative_transaction', 'reward', 'age', 'income',\n",
            "       'membership_duration', 'Male', 'Female', 'offer_reward',\n",
            "       'offer_difficulty', 'offer_duration', 'web', 'mobile', 'social', 'bogo',\n",
            "       'discount'],\n",
            "      dtype='object')\n"
          ]
        }
      ],
      "source": [
        "print(\"train features: \", train.columns)\n",
        "feature_names = ['time', 'reward', 'age', 'income',\n",
        "       'membership_duration', 'Male', 'Female', 'offer_reward',\n",
        "       'offer_difficulty', 'offer_duration', 'web', 'mobile', 'social', 'bogo',\n",
        "       'discount' ]"
      ]
    },
    {
      "cell_type": "markdown",
      "metadata": {
        "id": "574UPrrvoVEP"
      },
      "source": [
        "## Local training"
      ]
    },
    {
      "cell_type": "code",
      "execution_count": null,
      "metadata": {
        "id": "dDDYMNSEoVEP",
        "outputId": "9ca9fcfa-efab-4045-e44c-ab38a1a8504c"
      },
      "outputs": [
        {
          "name": "stdout",
          "output_type": "stream",
          "text": [
            "extracting arguments\n",
            "reading data\n",
            "building training and testing datasets\n",
            "training model\n",
            "validating model\n",
            "AE-at-10th-percentile: 0.16653535714286247\n",
            "AE-at-50th-percentile: 14.753534285714306\n",
            "AE-at-90th-percentile: 66.80788100288605\n",
            "model persisted at ./model.joblib\n",
            "2\n"
          ]
        }
      ],
      "source": [
        "! python script.py --n-estimators 100 \\\n",
        "                   --min-samples-leaf 2 \\\n",
        "                   --model-dir ./ \\\n",
        "                   --train ./ \\\n",
        "                   --test ./ \\\n",
        "                   --features 'time reward age income membership_duration Male Female offer_reward offer_difficulty offer_duration web mobile social bogo discount' \\\n",
        "                   --target cumulative_transaction"
      ]
    },
    {
      "cell_type": "markdown",
      "metadata": {
        "id": "tztKy4iNoVEQ"
      },
      "source": [
        "## Launch a Tuning Job"
      ]
    },
    {
      "cell_type": "code",
      "execution_count": null,
      "metadata": {
        "id": "05bRvAVloVEQ"
      },
      "outputs": [],
      "source": [
        "# We use the Estimator from the SageMaker Python SDK\n",
        "from sagemaker.sklearn.estimator import SKLearn\n",
        "\n",
        "FRAMEWORK_VERSION = \"0.23-1\"\n",
        "hyperparameters = {\"n-estimators\": 147, \\\n",
        "                   \"min-samples-leaf\":  2, \\\n",
        "                  \"features\": 'time reward age income membership_duration Male Female offer_reward offer_difficulty offer_duration web mobile social bogo discount' , \\\n",
        "                   \"target\": 'cumulative_transaction', }\n",
        "\n",
        "sklearn_estimator = SKLearn(\n",
        "    entry_point=\"script.py\",\n",
        "    role=get_execution_role(),\n",
        "    instance_count=1,\n",
        "    instance_type=\"ml.m4.xlarge\",#\"ml.c5.xlarge\",#\"ml.m4.xlarge\",\n",
        "    framework_version=FRAMEWORK_VERSION,\n",
        "    base_job_name=\"train-star\",\n",
        "    metric_definitions=[{\"Name\": \"median-AE\", \"Regex\": \"AE-at-50th-percentile: ([0-9.]+).*$\"}],\n",
        "    hyperparameters=hyperparameters,\n",
        ")\n"
      ]
    },
    {
      "cell_type": "code",
      "execution_count": null,
      "metadata": {
        "id": "si_-CkGNoVEQ"
      },
      "outputs": [],
      "source": [
        "# we use the Hyperparameter Tuner\n",
        "from sagemaker.tuner import IntegerParameter\n",
        "\n",
        "# Define exploration boundaries\n",
        "hyperparameter_ranges = {\n",
        "    \"n-estimators\": IntegerParameter(20, 200),\n",
        "    \"min-samples-leaf\": IntegerParameter(2, 10),\n",
        "}\n",
        "\n",
        "# create Optimizer\n",
        "Optimizer = sagemaker.tuner.HyperparameterTuner(\n",
        "    estimator=sklearn_estimator,\n",
        "    hyperparameter_ranges=hyperparameter_ranges,\n",
        "    base_tuning_job_name=\"tuner-star\",\n",
        "    objective_type=\"Minimize\",\n",
        "    objective_metric_name=\"median-AE\",\n",
        "    metric_definitions=[\n",
        "        {\"Name\": \"median-AE\", \"Regex\": \"AE-at-50th-percentile: ([0-9.]+).*$\"}\n",
        "    ],  # extract tracked metric from logs with regexp\n",
        "    max_jobs=10,\n",
        "    max_parallel_jobs=2,\n",
        ")"
      ]
    },
    {
      "cell_type": "code",
      "execution_count": null,
      "metadata": {
        "id": "ve6Hxcy6oVER",
        "outputId": "3756f1f3-7f20-41eb-e892-41794781429a"
      },
      "outputs": [
        {
          "name": "stdout",
          "output_type": "stream",
          "text": [
            "..............................................................................................................................!\n",
            "0.6400000000000006\n"
          ]
        }
      ],
      "source": [
        "import time\n",
        "tic = time.clock()\n",
        "\n",
        "Optimizer.fit({\"train\": trainpath, \"test\": testpath})\n",
        "\n",
        "toc = time.clock()\n",
        "print(toc - tic)"
      ]
    },
    {
      "cell_type": "code",
      "execution_count": null,
      "metadata": {
        "id": "l-melOIeoVER",
        "outputId": "a30ea8ff-14e0-448f-b168-a5e300c42037"
      },
      "outputs": [
        {
          "data": {
            "text/html": [
              "<div>\n",
              "<style scoped>\n",
              "    .dataframe tbody tr th:only-of-type {\n",
              "        vertical-align: middle;\n",
              "    }\n",
              "\n",
              "    .dataframe tbody tr th {\n",
              "        vertical-align: top;\n",
              "    }\n",
              "\n",
              "    .dataframe thead th {\n",
              "        text-align: right;\n",
              "    }\n",
              "</style>\n",
              "<table border=\"1\" class=\"dataframe\">\n",
              "  <thead>\n",
              "    <tr style=\"text-align: right;\">\n",
              "      <th></th>\n",
              "      <th>min-samples-leaf</th>\n",
              "      <th>n-estimators</th>\n",
              "      <th>TrainingJobName</th>\n",
              "      <th>TrainingJobStatus</th>\n",
              "      <th>FinalObjectiveValue</th>\n",
              "      <th>TrainingStartTime</th>\n",
              "      <th>TrainingEndTime</th>\n",
              "      <th>TrainingElapsedTimeSeconds</th>\n",
              "    </tr>\n",
              "  </thead>\n",
              "  <tbody>\n",
              "    <tr>\n",
              "      <th>0</th>\n",
              "      <td>2.0</td>\n",
              "      <td>149.0</td>\n",
              "      <td>tuner-star-220212-1631-010-14b18466</td>\n",
              "      <td>Completed</td>\n",
              "      <td>14.619602</td>\n",
              "      <td>2022-02-12 16:57:49+00:00</td>\n",
              "      <td>2022-02-12 17:00:33+00:00</td>\n",
              "      <td>164.0</td>\n",
              "    </tr>\n",
              "    <tr>\n",
              "      <th>1</th>\n",
              "      <td>2.0</td>\n",
              "      <td>144.0</td>\n",
              "      <td>tuner-star-220212-1631-009-5f6264cf</td>\n",
              "      <td>Completed</td>\n",
              "      <td>14.598150</td>\n",
              "      <td>2022-02-12 16:56:01+00:00</td>\n",
              "      <td>2022-02-12 16:59:24+00:00</td>\n",
              "      <td>203.0</td>\n",
              "    </tr>\n",
              "    <tr>\n",
              "      <th>2</th>\n",
              "      <td>2.0</td>\n",
              "      <td>147.0</td>\n",
              "      <td>tuner-star-220212-1631-008-f423754e</td>\n",
              "      <td>Completed</td>\n",
              "      <td>14.565795</td>\n",
              "      <td>2022-02-12 16:51:41+00:00</td>\n",
              "      <td>2022-02-12 16:54:23+00:00</td>\n",
              "      <td>162.0</td>\n",
              "    </tr>\n",
              "    <tr>\n",
              "      <th>3</th>\n",
              "      <td>2.0</td>\n",
              "      <td>190.0</td>\n",
              "      <td>tuner-star-220212-1631-007-b1bdb91a</td>\n",
              "      <td>Completed</td>\n",
              "      <td>14.626628</td>\n",
              "      <td>2022-02-12 16:49:57+00:00</td>\n",
              "      <td>2022-02-12 16:52:59+00:00</td>\n",
              "      <td>182.0</td>\n",
              "    </tr>\n",
              "    <tr>\n",
              "      <th>4</th>\n",
              "      <td>2.0</td>\n",
              "      <td>174.0</td>\n",
              "      <td>tuner-star-220212-1631-006-16544424</td>\n",
              "      <td>Completed</td>\n",
              "      <td>14.662675</td>\n",
              "      <td>2022-02-12 16:45:37+00:00</td>\n",
              "      <td>2022-02-12 16:48:24+00:00</td>\n",
              "      <td>167.0</td>\n",
              "    </tr>\n",
              "  </tbody>\n",
              "</table>\n",
              "</div>"
            ],
            "text/plain": [
              "   min-samples-leaf  n-estimators                      TrainingJobName  \\\n",
              "0               2.0         149.0  tuner-star-220212-1631-010-14b18466   \n",
              "1               2.0         144.0  tuner-star-220212-1631-009-5f6264cf   \n",
              "2               2.0         147.0  tuner-star-220212-1631-008-f423754e   \n",
              "3               2.0         190.0  tuner-star-220212-1631-007-b1bdb91a   \n",
              "4               2.0         174.0  tuner-star-220212-1631-006-16544424   \n",
              "\n",
              "  TrainingJobStatus  FinalObjectiveValue         TrainingStartTime  \\\n",
              "0         Completed            14.619602 2022-02-12 16:57:49+00:00   \n",
              "1         Completed            14.598150 2022-02-12 16:56:01+00:00   \n",
              "2         Completed            14.565795 2022-02-12 16:51:41+00:00   \n",
              "3         Completed            14.626628 2022-02-12 16:49:57+00:00   \n",
              "4         Completed            14.662675 2022-02-12 16:45:37+00:00   \n",
              "\n",
              "            TrainingEndTime  TrainingElapsedTimeSeconds  \n",
              "0 2022-02-12 17:00:33+00:00                       164.0  \n",
              "1 2022-02-12 16:59:24+00:00                       203.0  \n",
              "2 2022-02-12 16:54:23+00:00                       162.0  \n",
              "3 2022-02-12 16:52:59+00:00                       182.0  \n",
              "4 2022-02-12 16:48:24+00:00                       167.0  "
            ]
          },
          "execution_count": 71,
          "metadata": {},
          "output_type": "execute_result"
        }
      ],
      "source": [
        "# get tuner results in a df\n",
        "results = Optimizer.analytics().dataframe()\n",
        "while results.empty:\n",
        "    time.sleep(1)\n",
        "    results = Optimizer.analytics().dataframe()\n",
        "results.head()\n"
      ]
    },
    {
      "cell_type": "code",
      "execution_count": null,
      "metadata": {
        "id": "JKo6oBNGoVES",
        "outputId": "2dcf8eb8-0e6a-472d-bf18-9318ff482c77"
      },
      "outputs": [
        {
          "name": "stdout",
          "output_type": "stream",
          "text": [
            "\n",
            "2022-02-12 16:54:23 Starting - Preparing the instances for training\n",
            "2022-02-12 16:54:23 Downloading - Downloading input data\n",
            "2022-02-12 16:54:23 Training - Training image download completed. Training in progress.\n",
            "2022-02-12 16:54:23 Uploading - Uploading generated training model\n",
            "2022-02-12 16:54:23 Completed - Training job completed\n"
          ]
        }
      ],
      "source": [
        "best_estimator=Optimizer.best_estimator()"
      ]
    },
    {
      "cell_type": "code",
      "execution_count": null,
      "metadata": {
        "id": "43i97_haoVES",
        "outputId": "a5f0e1ef-41bb-48b6-9c7e-60b26923e614"
      },
      "outputs": [
        {
          "data": {
            "text/plain": [
              "{'_tuning_objective_metric': '\"median-AE\"',\n",
              " 'features': '\"time reward age income membership_duration Male Female offer_reward offer_difficulty offer_duration web mobile social bogo discount\"',\n",
              " 'min-samples-leaf': '2',\n",
              " 'n-estimators': '147',\n",
              " 'sagemaker_container_log_level': '20',\n",
              " 'sagemaker_estimator_class_name': '\"SKLearn\"',\n",
              " 'sagemaker_estimator_module': '\"sagemaker.sklearn.estimator\"',\n",
              " 'sagemaker_job_name': '\"train-star-2022-02-12-16-31-17-481\"',\n",
              " 'sagemaker_program': '\"script.py\"',\n",
              " 'sagemaker_region': '\"us-east-1\"',\n",
              " 'sagemaker_submit_directory': '\"s3://sagemaker-us-east-1-201557610166/train-star-2022-02-12-16-31-17-481/source/sourcedir.tar.gz\"',\n",
              " 'target': '\"cumulative_transaction\"'}"
            ]
          },
          "execution_count": 73,
          "metadata": {},
          "output_type": "execute_result"
        }
      ],
      "source": [
        "best_estimator.hyperparameters()"
      ]
    },
    {
      "cell_type": "code",
      "execution_count": null,
      "metadata": {
        "id": "CZqCb6HGoVES",
        "outputId": "92fcac03-9f89-451f-af5b-8bc8d2a80b2a"
      },
      "outputs": [
        {
          "data": {
            "text/plain": [
              "{'n-estimators': 147,\n",
              " 'min-samples-leaf': 2,\n",
              " 'features': 'time reward age income membership_duration Male Female offer_reward offer_difficulty offer_duration web mobile social bogo discount',\n",
              " 'target': 'cumulative_transaction'}"
            ]
          },
          "execution_count": 74,
          "metadata": {},
          "output_type": "execute_result"
        }
      ],
      "source": [
        "hyperparameters = {\"n-estimators\": int(best_estimator.hyperparameters()['n-estimators'].replace('\"', '')), \\\n",
        "                   \"min-samples-leaf\":  int(best_estimator.hyperparameters()['min-samples-leaf'].replace('\"', '')), \\\n",
        "                  \"features\": best_estimator.hyperparameters()['features'].replace('\"', ''), \\\n",
        "                   \"target\": best_estimator.hyperparameters()['target'].replace('\"', ''), }\n",
        "hyperparameters"
      ]
    },
    {
      "cell_type": "markdown",
      "metadata": {
        "id": "CY2al9KcoVES"
      },
      "source": [
        "## Launching a training job on best hyperparameters"
      ]
    },
    {
      "cell_type": "code",
      "execution_count": null,
      "metadata": {
        "id": "oNkkuKgFoVET",
        "outputId": "24710bff-50ff-4add-f25b-b6e33a98c0e9",
        "scrolled": true
      },
      "outputs": [
        {
          "name": "stdout",
          "output_type": "stream",
          "text": [
            "2022-02-13 02:43:41 Starting - Starting the training job...\n",
            "2022-02-13 02:44:05 Starting - Launching requested ML instancesProfilerReport-1644720221: InProgress\n",
            "......\n",
            "2022-02-13 02:45:11 Starting - Preparing the instances for training............\n",
            "2022-02-13 02:47:06 Downloading - Downloading input data\n",
            "2022-02-13 02:47:06 Training - Downloading the training image.....\u001b[34m2022-02-13 02:47:47,454 sagemaker-containers INFO     Imported framework sagemaker_sklearn_container.training\u001b[0m\n",
            "\u001b[34m2022-02-13 02:47:47,456 sagemaker-training-toolkit INFO     No GPUs detected (normal if no gpus installed)\u001b[0m\n",
            "\u001b[34m2022-02-13 02:47:47,469 sagemaker_sklearn_container.training INFO     Invoking user training script.\u001b[0m\n",
            "\u001b[34m2022-02-13 02:47:47,864 sagemaker-training-toolkit INFO     No GPUs detected (normal if no gpus installed)\u001b[0m\n",
            "\u001b[34m2022-02-13 02:47:47,878 sagemaker-training-toolkit INFO     No GPUs detected (normal if no gpus installed)\u001b[0m\n",
            "\u001b[34m2022-02-13 02:47:47,893 sagemaker-training-toolkit INFO     No GPUs detected (normal if no gpus installed)\u001b[0m\n",
            "\u001b[34m2022-02-13 02:47:47,905 sagemaker-training-toolkit INFO     Invoking user script\u001b[0m\n",
            "\u001b[34mTraining Env:\u001b[0m\n",
            "\u001b[34m{\n",
            "    \"additional_framework_parameters\": {},\n",
            "    \"channel_input_dirs\": {\n",
            "        \"test\": \"/opt/ml/input/data/test\",\n",
            "        \"train\": \"/opt/ml/input/data/train\"\n",
            "    },\n",
            "    \"current_host\": \"algo-1\",\n",
            "    \"framework_module\": \"sagemaker_sklearn_container.training:main\",\n",
            "    \"hosts\": [\n",
            "        \"algo-1\"\n",
            "    ],\n",
            "    \"hyperparameters\": {\n",
            "        \"features\": \"time reward age income membership_duration Male Female offer_reward offer_difficulty offer_duration web mobile social bogo discount\",\n",
            "        \"n-estimators\": 147,\n",
            "        \"min-samples-leaf\": 2,\n",
            "        \"target\": \"cumulative_transaction\"\n",
            "    },\n",
            "    \"input_config_dir\": \"/opt/ml/input/config\",\n",
            "    \"input_data_config\": {\n",
            "        \"test\": {\n",
            "            \"TrainingInputMode\": \"File\",\n",
            "            \"S3DistributionType\": \"FullyReplicated\",\n",
            "            \"RecordWrapperType\": \"None\"\n",
            "        },\n",
            "        \"train\": {\n",
            "            \"TrainingInputMode\": \"File\",\n",
            "            \"S3DistributionType\": \"FullyReplicated\",\n",
            "            \"RecordWrapperType\": \"None\"\n",
            "        }\n",
            "    },\n",
            "    \"input_dir\": \"/opt/ml/input\",\n",
            "    \"is_master\": true,\n",
            "    \"job_name\": \"train-star-2022-02-13-02-43-41-075\",\n",
            "    \"log_level\": 20,\n",
            "    \"master_hostname\": \"algo-1\",\n",
            "    \"model_dir\": \"/opt/ml/model\",\n",
            "    \"module_dir\": \"s3://sagemaker-us-east-1-201557610166/train-star-2022-02-13-02-43-41-075/source/sourcedir.tar.gz\",\n",
            "    \"module_name\": \"script\",\n",
            "    \"network_interface_name\": \"eth0\",\n",
            "    \"num_cpus\": 4,\n",
            "    \"num_gpus\": 0,\n",
            "    \"output_data_dir\": \"/opt/ml/output/data\",\n",
            "    \"output_dir\": \"/opt/ml/output\",\n",
            "    \"output_intermediate_dir\": \"/opt/ml/output/intermediate\",\n",
            "    \"resource_config\": {\n",
            "        \"current_host\": \"algo-1\",\n",
            "        \"hosts\": [\n",
            "            \"algo-1\"\n",
            "        ],\n",
            "        \"network_interface_name\": \"eth0\"\n",
            "    },\n",
            "    \"user_entry_point\": \"script.py\"\u001b[0m\n",
            "\u001b[34m}\u001b[0m\n",
            "\u001b[34mEnvironment variables:\u001b[0m\n",
            "\u001b[34mSM_HOSTS=[\"algo-1\"]\u001b[0m\n",
            "\u001b[34mSM_NETWORK_INTERFACE_NAME=eth0\u001b[0m\n",
            "\u001b[34mSM_HPS={\"features\":\"time reward age income membership_duration Male Female offer_reward offer_difficulty offer_duration web mobile social bogo discount\",\"min-samples-leaf\":2,\"n-estimators\":147,\"target\":\"cumulative_transaction\"}\u001b[0m\n",
            "\u001b[34mSM_USER_ENTRY_POINT=script.py\u001b[0m\n",
            "\u001b[34mSM_FRAMEWORK_PARAMS={}\u001b[0m\n",
            "\u001b[34mSM_RESOURCE_CONFIG={\"current_host\":\"algo-1\",\"hosts\":[\"algo-1\"],\"network_interface_name\":\"eth0\"}\u001b[0m\n",
            "\u001b[34mSM_INPUT_DATA_CONFIG={\"test\":{\"RecordWrapperType\":\"None\",\"S3DistributionType\":\"FullyReplicated\",\"TrainingInputMode\":\"File\"},\"train\":{\"RecordWrapperType\":\"None\",\"S3DistributionType\":\"FullyReplicated\",\"TrainingInputMode\":\"File\"}}\u001b[0m\n",
            "\u001b[34mSM_OUTPUT_DATA_DIR=/opt/ml/output/data\u001b[0m\n",
            "\u001b[34mSM_CHANNELS=[\"test\",\"train\"]\u001b[0m\n",
            "\u001b[34mSM_CURRENT_HOST=algo-1\u001b[0m\n",
            "\u001b[34mSM_MODULE_NAME=script\u001b[0m\n",
            "\u001b[34mSM_LOG_LEVEL=20\u001b[0m\n",
            "\u001b[34mSM_FRAMEWORK_MODULE=sagemaker_sklearn_container.training:main\u001b[0m\n",
            "\u001b[34mSM_INPUT_DIR=/opt/ml/input\u001b[0m\n",
            "\u001b[34mSM_INPUT_CONFIG_DIR=/opt/ml/input/config\u001b[0m\n",
            "\u001b[34mSM_OUTPUT_DIR=/opt/ml/output\u001b[0m\n",
            "\u001b[34mSM_NUM_CPUS=4\u001b[0m\n",
            "\u001b[34mSM_NUM_GPUS=0\u001b[0m\n",
            "\u001b[34mSM_MODEL_DIR=/opt/ml/model\u001b[0m\n",
            "\u001b[34mSM_MODULE_DIR=s3://sagemaker-us-east-1-201557610166/train-star-2022-02-13-02-43-41-075/source/sourcedir.tar.gz\u001b[0m\n",
            "\u001b[34mSM_TRAINING_ENV={\"additional_framework_parameters\":{},\"channel_input_dirs\":{\"test\":\"/opt/ml/input/data/test\",\"train\":\"/opt/ml/input/data/train\"},\"current_host\":\"algo-1\",\"framework_module\":\"sagemaker_sklearn_container.training:main\",\"hosts\":[\"algo-1\"],\"hyperparameters\":{\"features\":\"time reward age income membership_duration Male Female offer_reward offer_difficulty offer_duration web mobile social bogo discount\",\"min-samples-leaf\":2,\"n-estimators\":147,\"target\":\"cumulative_transaction\"},\"input_config_dir\":\"/opt/ml/input/config\",\"input_data_config\":{\"test\":{\"RecordWrapperType\":\"None\",\"S3DistributionType\":\"FullyReplicated\",\"TrainingInputMode\":\"File\"},\"train\":{\"RecordWrapperType\":\"None\",\"S3DistributionType\":\"FullyReplicated\",\"TrainingInputMode\":\"File\"}},\"input_dir\":\"/opt/ml/input\",\"is_master\":true,\"job_name\":\"train-star-2022-02-13-02-43-41-075\",\"log_level\":20,\"master_hostname\":\"algo-1\",\"model_dir\":\"/opt/ml/model\",\"module_dir\":\"s3://sagemaker-us-east-1-201557610166/train-star-2022-02-13-02-43-41-075/source/sourcedir.tar.gz\",\"module_name\":\"script\",\"network_interface_name\":\"eth0\",\"num_cpus\":4,\"num_gpus\":0,\"output_data_dir\":\"/opt/ml/output/data\",\"output_dir\":\"/opt/ml/output\",\"output_intermediate_dir\":\"/opt/ml/output/intermediate\",\"resource_config\":{\"current_host\":\"algo-1\",\"hosts\":[\"algo-1\"],\"network_interface_name\":\"eth0\"},\"user_entry_point\":\"script.py\"}\u001b[0m\n",
            "\u001b[34mSM_USER_ARGS=[\"--features\",\"time reward age income membership_duration Male Female offer_reward offer_difficulty offer_duration web mobile social bogo discount\",\"--min-samples-leaf\",\"2\",\"--n-estimators\",\"147\",\"--target\",\"cumulative_transaction\"]\u001b[0m\n",
            "\u001b[34mSM_OUTPUT_INTERMEDIATE_DIR=/opt/ml/output/intermediate\u001b[0m\n",
            "\u001b[34mSM_CHANNEL_TEST=/opt/ml/input/data/test\u001b[0m\n",
            "\u001b[34mSM_CHANNEL_TRAIN=/opt/ml/input/data/train\u001b[0m\n",
            "\u001b[34mSM_HP_FEATURES=time reward age income membership_duration Male Female offer_reward offer_difficulty offer_duration web mobile social bogo discount\u001b[0m\n",
            "\u001b[34mSM_HP_N-ESTIMATORS=147\u001b[0m\n",
            "\u001b[34mSM_HP_MIN-SAMPLES-LEAF=2\u001b[0m\n",
            "\u001b[34mSM_HP_TARGET=cumulative_transaction\u001b[0m\n",
            "\u001b[34mPYTHONPATH=/opt/ml/code:/miniconda3/bin:/miniconda3/lib/python37.zip:/miniconda3/lib/python3.7:/miniconda3/lib/python3.7/lib-dynload:/miniconda3/lib/python3.7/site-packages\u001b[0m\n",
            "\u001b[34mInvoking script with the following command:\u001b[0m\n",
            "\u001b[34m/miniconda3/bin/python script.py --features time reward age income membership_duration Male Female offer_reward offer_difficulty offer_duration web mobile social bogo discount --min-samples-leaf 2 --n-estimators 147 --target cumulative_transaction\u001b[0m\n",
            "\u001b[34mextracting arguments\u001b[0m\n",
            "\u001b[34mreading data\u001b[0m\n",
            "\u001b[34mbuilding training and testing datasets\u001b[0m\n",
            "\u001b[34mtraining model\u001b[0m\n",
            "\n",
            "2022-02-13 02:48:06 Training - Training image download completed. Training in progress.\u001b[34mvalidating model\u001b[0m\n",
            "\u001b[34mAE-at-10th-percentile: 0.16901103012633623\u001b[0m\n",
            "\u001b[34mAE-at-50th-percentile: 14.864610946687506\u001b[0m\n",
            "\u001b[34mAE-at-90th-percentile: 66.57248138429976\u001b[0m\n",
            "\u001b[34mmodel persisted at /opt/ml/model/model.joblib\u001b[0m\n",
            "\u001b[34m2\u001b[0m\n",
            "\u001b[34m2022-02-13 02:48:16,184 sagemaker-containers INFO     Reporting training SUCCESS\u001b[0m\n",
            "\n",
            "2022-02-13 02:48:26 Uploading - Uploading generated training model\n",
            "2022-02-13 02:49:13 Completed - Training job completed\n",
            "Training seconds: 148\n",
            "Billable seconds: 148\n",
            "0.7100000000000009\n"
          ]
        }
      ],
      "source": [
        "# We use the Estimator from the SageMaker Python SDK\n",
        "from sagemaker.sklearn.estimator import SKLearn\n",
        "import time\n",
        "\n",
        "FRAMEWORK_VERSION = \"0.23-1\"\n",
        "\n",
        "sklearn_estimator = SKLearn(\n",
        "    entry_point=\"script.py\",\n",
        "    role=get_execution_role(),\n",
        "    instance_count=1,\n",
        "    instance_type=\"ml.m4.xlarge\",#\"ml.c5.xlarge\",#\"ml.m4.xlarge\",\n",
        "    framework_version=FRAMEWORK_VERSION,\n",
        "    base_job_name=\"train-star\",\n",
        "    metric_definitions=[{\"Name\": \"median-AE\", \"Regex\": \"AE-at-50th-percentile: ([0-9.]+).*$\"}],\n",
        "    hyperparameters=hyperparameters,\n",
        ")\n",
        "\n",
        "tic = time.clock()\n",
        "\n",
        "# launch training job\n",
        "sklearn_estimator.fit({\"train\": trainpath, \"test\": testpath}, wait=True)\n",
        "\n",
        "toc = time.clock()\n",
        "print(toc - tic)"
      ]
    },
    {
      "cell_type": "markdown",
      "metadata": {
        "id": "3YA7eqJboVET"
      },
      "source": [
        "## Deploy to a real-time endpoint"
      ]
    },
    {
      "cell_type": "code",
      "execution_count": null,
      "metadata": {
        "id": "rQuge9tEoVET",
        "outputId": "3363c817-7447-493c-fb56-a45fd73c94b2"
      },
      "outputs": [
        {
          "name": "stdout",
          "output_type": "stream",
          "text": [
            "\n",
            "2022-02-13 02:49:26 Starting - Preparing the instances for training\n",
            "2022-02-13 02:49:26 Downloading - Downloading input data\n",
            "2022-02-13 02:49:26 Training - Training image download completed. Training in progress.\n",
            "2022-02-13 02:49:26 Uploading - Uploading generated training model\n",
            "2022-02-13 02:49:26 Completed - Training job completed\n",
            "Model artifact persisted at s3://sagemaker-us-east-1-201557610166/train-star-2022-02-13-02-43-41-075/output/model.tar.gz\n",
            "-----!"
          ]
        }
      ],
      "source": [
        "from sagemaker.sklearn.model import SKLearnModel\n",
        "\n",
        "sklearn_estimator.latest_training_job.wait(logs=\"None\")\n",
        "artifact = sm_boto3.describe_training_job(\n",
        "    TrainingJobName= sklearn_estimator.latest_training_job.name#'train-star-2022-02-11-09-09-36-428' \n",
        ")[\"ModelArtifacts\"][\"S3ModelArtifacts\"]\n",
        "\n",
        "print(\"Model artifact persisted at \" + artifact)\n",
        "\n",
        "model = SKLearnModel(\n",
        "    model_data=artifact,\n",
        "    role=get_execution_role(),\n",
        "    entry_point=\"script.py\",\n",
        "    framework_version=FRAMEWORK_VERSION,\n",
        ")\n",
        "\n",
        "predictor = model.deploy(instance_type=\"ml.c5.large\", initial_instance_count=1)"
      ]
    },
    {
      "cell_type": "markdown",
      "metadata": {
        "id": "zIWvDWRwoVEU"
      },
      "source": [
        "## Invoke the endpoint"
      ]
    },
    {
      "cell_type": "code",
      "execution_count": null,
      "metadata": {
        "id": "dR18lCdEoVEU",
        "outputId": "134a8294-f952-4c4c-a25a-34281cd72e71"
      },
      "outputs": [
        {
          "name": "stdout",
          "output_type": "stream",
          "text": [
            "response \t\t target\n",
            "42.741547781017154 \t 42.75\n",
            "62.41656648850017 \t 31.57\n",
            "5.431426303854877 \t 0.0\n",
            "111.42925178166503 \t 61.63\n",
            "119.83790046971173 \t 146.2\n",
            "30.473342484612882 \t 37.57\n",
            "81.09920667314543 \t 29.75\n",
            "73.52277721088433 \t 73.36\n",
            "5.504794001727676 \t 2.54\n",
            "35.42429664723034 \t 20.41\n",
            "132.62019595616022 \t 138.12\n",
            "45.86012331281719 \t 23.98\n",
            "57.533254994061096 \t 33.6\n",
            "61.2219977324263 \t 37.06\n",
            "56.77866553287983 \t 20.52\n",
            "14.928407446672761 \t 128.26\n",
            "20.11640678652412 \t 29.56\n",
            "39.824623744735995 \t 121.08\n",
            "64.26413265306118 \t 33.97\n",
            "6.332217624867687 \t 8.84\n",
            "20.02664085951841 \t 12.79\n",
            "15.32111321671525 \t 0.0\n",
            "138.58601587301595 \t 789.81\n",
            "110.23857701652086 \t 55.65\n",
            "144.37812649821834 \t 155.09\n",
            "107.90099708454815 \t 124.15\n",
            "69.68707636864272 \t 83.38\n",
            "124.63938921282798 \t 130.97\n",
            "0.0 \t 0.0\n",
            "8.765819327214734 \t 3.92\n",
            "1.18198223733938 \t 0.05\n",
            "81.47381827016518 \t 99.23\n",
            "89.95767454918476 \t 108.05\n",
            "48.186443013713415 \t 109.19\n",
            "0.0 \t 0.0\n",
            "89.26236799481691 \t 76.01\n",
            "10.935080793356306 \t 0.0\n",
            "50.988030936184 \t 19.95\n",
            "95.84361829176115 \t 63.14\n",
            "61.23055277507827 \t 48.66\n",
            "3.883232318324154 \t 0.91\n",
            "17.3514325936724 \t 13.99\n",
            "0.0 \t 0.0\n",
            "44.3995116618076 \t 25.82\n",
            "149.18752688694525 \t 101.22\n",
            "30.063859302451135 \t 67.47\n",
            "19.938044946550043 \t 15.83\n",
            "7.363321401576503 \t 7.63\n",
            "8.413330337651766 \t 0.85\n",
            "15.009284654121387 \t 15.92\n",
            "92.94325032393908 \t 108.71\n",
            "14.320064193931533 \t 8.63\n",
            "0.0 \t 0.0\n",
            "77.02069760285069 \t 66.0\n",
            "12.914871234207968 \t 4.67\n",
            "117.6845382248137 \t 17.97\n",
            "17.496414965986403 \t 0.0\n",
            "35.08620440557175 \t 30.97\n",
            "0.007086167800453515 \t 0.0\n",
            "186.11934653385174 \t 163.78\n",
            "74.12941156462583 \t 45.66\n",
            "0.0 \t 0.0\n",
            "14.497334305150638 \t 0.0\n",
            "16.513030520405522 \t 11.33\n",
            "33.87946925278049 \t 0.0\n",
            "26.5384401792463 \t 0.0\n",
            "0.0 \t 0.0\n",
            "50.12685322859301 \t 23.46\n",
            "36.16323947197928 \t 20.25\n",
            "101.67222457078067 \t 125.83\n",
            "15.344871432988786 \t 12.59\n",
            "75.66030450275342 \t 56.57\n",
            "59.125211046323294 \t 12.09\n",
            "30.10885042112083 \t 19.37\n",
            "144.47538710722378 \t 108.77\n",
            "0.0 \t 0.0\n",
            "79.07618934240361 \t 23.6\n",
            "64.54730663535253 \t 16.72\n",
            "9.509470653684945 \t 3.19\n",
            "100.45124376417243 \t 174.6\n",
            "21.091152413346276 \t 2.65\n",
            "3.6294735741060786 \t 0.0\n",
            "152.0616679624231 \t 245.99\n",
            "75.03145756397798 \t 73.0\n",
            "59.914189909297036 \t 85.42\n",
            "19.454633489903898 \t 0.0\n",
            "16.937421390778532 \t 10.36\n",
            "86.75174300831443 \t 59.69\n",
            "80.02682156354604 \t 72.17\n",
            "110.64940654356987 \t 984.64\n",
            "98.8260265630061 \t 119.44\n",
            "37.38643869452541 \t 124.69\n",
            "29.141200356333027 \t 11.43\n",
            "46.168159944930345 \t 161.0\n",
            "84.4843042597991 \t 11.6\n",
            "135.49057815030764 \t 118.93\n",
            "53.645695990517446 \t 179.46\n",
            "42.551270057229246 \t 104.08\n",
            "23.077067298347913 \t 12.1\n",
            "6.406004940071267 \t 9.52\n"
          ]
        }
      ],
      "source": [
        "# the SKLearnPredictor does the serialization from pandas for us\n",
        "response = predictor.predict(test[feature_names])\n",
        "test_target = test['cumulative_transaction']\n",
        "test_target = test_target.to_numpy() \n",
        "\n",
        "print(\"response \\t\\t target\")\n",
        "for i in range(100):\n",
        "    print(response[i] , \"\\t\",test_target[i])"
      ]
    },
    {
      "cell_type": "markdown",
      "metadata": {
        "id": "0lcDGm5PoVEU"
      },
      "source": [
        "## Evaluate the sklearn random forest model"
      ]
    },
    {
      "cell_type": "code",
      "execution_count": null,
      "metadata": {
        "colab": {
          "base_uri": "https://localhost:8080/"
        },
        "id": "pbcji5A4JD_j",
        "outputId": "b6937632-2959-43e7-9d1e-9bedeb52ee9d"
      },
      "outputs": [
        {
          "name": "stdout",
          "output_type": "stream",
          "text": [
            "R2 score: 0.4523693254058069, mean_squared_error: 4236.3759983377595, mean_absolute_error 29.62099167956011\n"
          ]
        }
      ],
      "source": [
        "from sklearn.metrics import mean_squared_error, mean_absolute_error, r2_score\n",
        "\n",
        "mean_squared_error = mean_squared_error(test_target, response)\n",
        "mean_absolute_error = mean_absolute_error(test_target, response)\n",
        "r2_score = r2_score(test_target, response)\n",
        "print(f\"R2 score: {r2_score}, mean_squared_error: {mean_squared_error}, mean_absolute_error {mean_absolute_error}\")"
      ]
    },
    {
      "cell_type": "markdown",
      "metadata": {
        "id": "SUkIIi3VoVEV"
      },
      "source": [
        "## Delete the endpoint"
      ]
    },
    {
      "cell_type": "code",
      "execution_count": null,
      "metadata": {
        "id": "TCt5JyQ2oVEV"
      },
      "outputs": [],
      "source": [
        "#Don’t forget to delete the endpoint!\n",
        "predictor.delete_endpoint()"
      ]
    },
    {
      "cell_type": "markdown",
      "metadata": {
        "id": "eee24QafoVEV"
      },
      "source": [
        "# Training with autogluon.tabular\n",
        "\n",
        "Because the R2 score of the Scikit_Learn Random Forest model is rather low, we train the dataset using Autogluon Tabular models to check if we obtain better results. We know that autogluon.tabular contains RFModel (Random Forest model (scikit-learn)) as one of its models. So we hope we will certainly improve the result."
      ]
    },
    {
      "cell_type": "code",
      "execution_count": null,
      "metadata": {
        "id": "CDXGEzEToVEW",
        "outputId": "73f18903-fd16-4371-ca90-5c5e5c17ad7b"
      },
      "outputs": [
        {
          "name": "stdout",
          "output_type": "stream",
          "text": [
            "(125685, 25) (41896, 25)\n"
          ]
        }
      ],
      "source": [
        "from sklearn.model_selection import train_test_split\n",
        "\n",
        "#Read from my source table\n",
        "my_starbuck = pd.read_csv(\"my_starbuck.csv\")\n",
        "\n",
        "#Splitting to train and test files\n",
        "train, test = train_test_split(\n",
        "    my_starbuck, test_size=0.25, random_state=42\n",
        ")\n",
        "print(train.shape, test.shape)"
      ]
    },
    {
      "cell_type": "code",
      "execution_count": null,
      "metadata": {
        "colab": {
          "base_uri": "https://localhost:8080/"
        },
        "id": "aXHm3o5FWzJB",
        "outputId": "4251453a-e630-4180-f247-c5624e1c6a96"
      },
      "outputs": [
        {
          "name": "stdout",
          "output_type": "stream",
          "text": [
            "<class 'pandas.core.frame.DataFrame'>\n",
            "RangeIndex: 24452 entries, 0 to 24451\n",
            "Data columns (total 18 columns):\n",
            " #   Column                  Non-Null Count  Dtype \n",
            "---  ------                  --------------  ----- \n",
            " 0   id                      24452 non-null  object\n",
            " 1   text                    24452 non-null  string\n",
            " 2   date                    24452 non-null  object\n",
            " 3   truthRating             24452 non-null  int64 \n",
            " 4   ratingName              24452 non-null  object\n",
            " 5   author                  24452 non-null  string\n",
            " 6   headline                24452 non-null  string\n",
            " 7   named_entities_claim    24421 non-null  string\n",
            " 8   named_entities_article  15340 non-null  string\n",
            " 9   keywords                23162 non-null  string\n",
            " 10  link                    24452 non-null  object\n",
            " 11  language                24452 non-null  object\n",
            " 12  politifact              24452 non-null  int64 \n",
            " 13  snopes                  24452 non-null  int64 \n",
            " 14  africacheck             24452 non-null  int64 \n",
            " 15  truthorfiction          24452 non-null  int64 \n",
            " 16  factscan                24452 non-null  int64 \n",
            " 17  checkyourfact           24452 non-null  int64 \n",
            "dtypes: int64(7), object(5), string(6)\n",
            "memory usage: 3.4+ MB\n"
          ]
        }
      ],
      "source": [
        "for col in ['text', 'author', 'headline', 'named_entities_claim', 'named_entities_article', 'keywords', ]:\n",
        "  claimskg[col] = claimskg[col].astype('string')\n",
        "claimskg.info()"
      ]
    },
    {
      "cell_type": "code",
      "execution_count": null,
      "metadata": {
        "colab": {
          "base_uri": "https://localhost:8080/"
        },
        "id": "AItWwNkjNHP0",
        "outputId": "d60f957c-0a79-4f31-f3ac-36ae19ac9f47"
      },
      "outputs": [
        {
          "name": "stdout",
          "output_type": "stream",
          "text": [
            "(18339, 18) (6113, 18)\n"
          ]
        }
      ],
      "source": [
        "\n",
        "#Splitting to train and test files\n",
        "train, test = train_test_split(\n",
        "    claimskg, test_size=0.25, random_state=42\n",
        ")\n",
        "print(train.shape, test.shape)"
      ]
    },
    {
      "cell_type": "code",
      "execution_count": null,
      "metadata": {
        "colab": {
          "base_uri": "https://localhost:8080/"
        },
        "id": "8pDQr-meoVEW",
        "outputId": "610c6ec4-d1b2-4811-a512-4cf46a8ee3d3"
      },
      "outputs": [
        {
          "name": "stderr",
          "output_type": "stream",
          "text": [
            "Warning: path already exists! This predictor may overwrite an existing predictor! path=\"kg_models\"\n",
            "Presets specified: ['best_quality']\n",
            "Beginning AutoGluon training ... Time limit = 600s\n",
            "AutoGluon will save models to \"kg_models/\"\n",
            "AutoGluon Version:  0.3.1\n",
            "Train Data Rows:    18339\n",
            "Train Data Columns: 17\n",
            "Preprocessing data ...\n",
            "Train Data Class Count: 3\n",
            "Using Feature Generators to preprocess the data ...\n",
            "Dropping user-specified ignored columns: ['ratingName', 'id', 'language', 'link']\n",
            "Fitting AutoMLPipelineFeatureGenerator...\n",
            "Warning: dtype string is not recognized as a valid dtype by numpy! AutoGluon may incorrectly handle this feature...\n",
            "Cannot interpret 'string[python]' as a data type\n",
            "Warning: dtype string is not recognized as a valid dtype by numpy! AutoGluon may incorrectly handle this feature...\n",
            "Cannot interpret 'string[python]' as a data type\n",
            "Warning: dtype string is not recognized as a valid dtype by numpy! AutoGluon may incorrectly handle this feature...\n",
            "Cannot interpret 'string[python]' as a data type\n",
            "Warning: dtype string is not recognized as a valid dtype by numpy! AutoGluon may incorrectly handle this feature...\n",
            "Cannot interpret 'string[python]' as a data type\n",
            "Warning: dtype string is not recognized as a valid dtype by numpy! AutoGluon may incorrectly handle this feature...\n",
            "Cannot interpret 'string[python]' as a data type\n",
            "Warning: dtype string is not recognized as a valid dtype by numpy! AutoGluon may incorrectly handle this feature...\n",
            "Cannot interpret 'string[python]' as a data type\n",
            "\tAvailable Memory:                    10994.55 MB\n",
            "\tTrain Data (Original)  Memory Usage: 20.04 MB (0.2% of available memory)\n",
            "\tInferring data type of each feature based on column values. Set feature_metadata_in to manually specify special dtypes of the features.\n",
            "Warning: dtype string is not recognized as a valid dtype by numpy! AutoGluon may incorrectly handle this feature...\n",
            "Cannot interpret 'string[python]' as a data type\n",
            "Warning: dtype string is not recognized as a valid dtype by numpy! AutoGluon may incorrectly handle this feature...\n",
            "Cannot interpret 'string[python]' as a data type\n",
            "Warning: dtype string is not recognized as a valid dtype by numpy! AutoGluon may incorrectly handle this feature...\n",
            "Cannot interpret 'string[python]' as a data type\n",
            "Warning: dtype string is not recognized as a valid dtype by numpy! AutoGluon may incorrectly handle this feature...\n",
            "Cannot interpret 'string[python]' as a data type\n",
            "Warning: dtype string is not recognized as a valid dtype by numpy! AutoGluon may incorrectly handle this feature...\n",
            "Cannot interpret 'string[python]' as a data type\n",
            "Warning: dtype string is not recognized as a valid dtype by numpy! AutoGluon may incorrectly handle this feature...\n",
            "Cannot interpret 'string[python]' as a data type\n",
            "Warning: dtype string is not recognized as a valid dtype by numpy! AutoGluon may incorrectly handle this feature...\n",
            "Cannot interpret 'string[python]' as a data type\n",
            "Warning: dtype string is not recognized as a valid dtype by numpy! AutoGluon may incorrectly handle this feature...\n",
            "Cannot interpret 'string[python]' as a data type\n",
            "Warning: dtype string is not recognized as a valid dtype by numpy! AutoGluon may incorrectly handle this feature...\n",
            "Cannot interpret 'string[python]' as a data type\n",
            "Warning: dtype string is not recognized as a valid dtype by numpy! AutoGluon may incorrectly handle this feature...\n",
            "Cannot interpret 'string[python]' as a data type\n",
            "Warning: dtype string is not recognized as a valid dtype by numpy! AutoGluon may incorrectly handle this feature...\n",
            "Cannot interpret 'string[python]' as a data type\n",
            "Warning: dtype string is not recognized as a valid dtype by numpy! AutoGluon may incorrectly handle this feature...\n",
            "Cannot interpret 'string[python]' as a data type\n",
            "Warning: dtype string is not recognized as a valid dtype by numpy! AutoGluon may incorrectly handle this feature...\n",
            "Cannot interpret 'string[python]' as a data type\n",
            "Warning: dtype string is not recognized as a valid dtype by numpy! AutoGluon may incorrectly handle this feature...\n",
            "Cannot interpret 'string[python]' as a data type\n",
            "Warning: dtype string is not recognized as a valid dtype by numpy! AutoGluon may incorrectly handle this feature...\n",
            "Cannot interpret 'string[python]' as a data type\n",
            "Warning: dtype string is not recognized as a valid dtype by numpy! AutoGluon may incorrectly handle this feature...\n",
            "Cannot interpret 'string[python]' as a data type\n",
            "Warning: dtype string is not recognized as a valid dtype by numpy! AutoGluon may incorrectly handle this feature...\n",
            "Cannot interpret 'string[python]' as a data type\n",
            "Warning: dtype string is not recognized as a valid dtype by numpy! AutoGluon may incorrectly handle this feature...\n",
            "Cannot interpret 'string[python]' as a data type\n",
            "\tStage 1 Generators:\n",
            "\t\tFitting AsTypeFeatureGenerator...\n",
            "Warning: dtype string is not recognized as a valid dtype by numpy! AutoGluon may incorrectly handle this feature...\n",
            "Cannot interpret 'string[python]' as a data type\n",
            "Warning: dtype string is not recognized as a valid dtype by numpy! AutoGluon may incorrectly handle this feature...\n",
            "Cannot interpret 'string[python]' as a data type\n",
            "Warning: dtype string is not recognized as a valid dtype by numpy! AutoGluon may incorrectly handle this feature...\n",
            "Cannot interpret 'string[python]' as a data type\n",
            "Warning: dtype string is not recognized as a valid dtype by numpy! AutoGluon may incorrectly handle this feature...\n",
            "Cannot interpret 'string[python]' as a data type\n",
            "Warning: dtype string is not recognized as a valid dtype by numpy! AutoGluon may incorrectly handle this feature...\n",
            "Cannot interpret 'string[python]' as a data type\n",
            "Warning: dtype string is not recognized as a valid dtype by numpy! AutoGluon may incorrectly handle this feature...\n",
            "Cannot interpret 'string[python]' as a data type\n",
            "\t\t\tNote: Converting 6 features to boolean dtype as they only contain 2 unique values.\n",
            "Warning: dtype string is not recognized as a valid dtype by numpy! AutoGluon may incorrectly handle this feature...\n",
            "Cannot interpret 'string[python]' as a data type\n",
            "Warning: dtype string is not recognized as a valid dtype by numpy! AutoGluon may incorrectly handle this feature...\n",
            "Cannot interpret 'string[python]' as a data type\n",
            "Warning: dtype string is not recognized as a valid dtype by numpy! AutoGluon may incorrectly handle this feature...\n",
            "Cannot interpret 'string[python]' as a data type\n",
            "Warning: dtype string is not recognized as a valid dtype by numpy! AutoGluon may incorrectly handle this feature...\n",
            "Cannot interpret 'string[python]' as a data type\n",
            "Warning: dtype string is not recognized as a valid dtype by numpy! AutoGluon may incorrectly handle this feature...\n",
            "Cannot interpret 'string[python]' as a data type\n",
            "Warning: dtype string is not recognized as a valid dtype by numpy! AutoGluon may incorrectly handle this feature...\n",
            "Cannot interpret 'string[python]' as a data type\n",
            "\tStage 2 Generators:\n",
            "\t\tFitting FillNaFeatureGenerator...\n",
            "Warning: dtype string is not recognized as a valid dtype by numpy! AutoGluon may incorrectly handle this feature...\n",
            "Cannot interpret 'string[python]' as a data type\n",
            "Warning: dtype string is not recognized as a valid dtype by numpy! AutoGluon may incorrectly handle this feature...\n",
            "Cannot interpret 'string[python]' as a data type\n",
            "Warning: dtype string is not recognized as a valid dtype by numpy! AutoGluon may incorrectly handle this feature...\n",
            "Cannot interpret 'string[python]' as a data type\n",
            "Warning: dtype string is not recognized as a valid dtype by numpy! AutoGluon may incorrectly handle this feature...\n",
            "Cannot interpret 'string[python]' as a data type\n",
            "Warning: dtype string is not recognized as a valid dtype by numpy! AutoGluon may incorrectly handle this feature...\n",
            "Cannot interpret 'string[python]' as a data type\n",
            "Warning: dtype string is not recognized as a valid dtype by numpy! AutoGluon may incorrectly handle this feature...\n",
            "Cannot interpret 'string[python]' as a data type\n",
            "\tStage 3 Generators:\n",
            "\t\tFitting IdentityFeatureGenerator...\n",
            "\t\tFitting CategoryFeatureGenerator...\n",
            "\t\t\tFitting CategoryMemoryMinimizeFeatureGenerator...\n",
            "\t\tFitting DatetimeFeatureGenerator...\n",
            "\t\tFitting TextSpecialFeatureGenerator...\n",
            "\t\t\tFitting BinnedFeatureGenerator...\n",
            "\t\t\tFitting DropDuplicatesFeatureGenerator...\n",
            "\t\tFitting TextNgramFeatureGenerator...\n",
            "\t\t\tFitting CountVectorizer for text features: ['text', 'headline', 'named_entities_claim', 'keywords']\n",
            "\t\t\tCountVectorizer fit with vocabulary size = 7356\n",
            "\t\tWarning: Due to memory constraints, ngram feature count is being reduced. Allocate more memory to maximize model quality.\n",
            "\t\tReducing Vectorizer vocab size from 7356 to 1597 to avoid OOM error\n",
            "\tStage 4 Generators:\n",
            "\t\tFitting DropUniqueFeatureGenerator...\n",
            "\tTypes of features in original data (raw dtype, special dtypes):\n",
            "\t\t('int', [])                        : 6 | ['politifact', 'snopes', 'africacheck', 'truthorfiction', 'factscan', ...]\n",
            "\t\t('object', [])                     : 2 | ['author', 'named_entities_article']\n",
            "\t\t('object', ['datetime_as_object']) : 1 | ['date']\n",
            "\t\t('object', ['text'])               : 4 | ['text', 'headline', 'named_entities_claim', 'keywords']\n",
            "\tTypes of features in processed data (raw dtype, special dtypes):\n",
            "\t\t('category', [])                    :    2 | ['author', 'named_entities_article']\n",
            "\t\t('category', ['text_as_category'])  :    4 | ['text', 'headline', 'named_entities_claim', 'keywords']\n",
            "\t\t('int', ['binned', 'text_special']) :   68 | ['text.char_count', 'text.word_count', 'text.capital_ratio', 'text.lower_ratio', 'text.digit_ratio', ...]\n",
            "\t\t('int', ['bool'])                   :    6 | ['politifact', 'snopes', 'africacheck', 'truthorfiction', 'factscan', ...]\n",
            "\t\t('int', ['datetime_as_int'])        :    1 | ['date']\n",
            "\t\t('int', ['text_ngram'])             : 1598 | ['__nlp__.000', '__nlp__.10', '__nlp__.100', '__nlp__.11', '__nlp__.12', ...]\n",
            "\t27.4s = Fit runtime\n",
            "\t13 features in original data used to generate 1679 features in processed data.\n",
            "\tTrain Data (Processed) Memory Usage: 60.28 MB (0.5% of available memory)\n",
            "Data preprocessing and feature engineering runtime = 27.99s ...\n",
            "AutoGluon will gauge predictive performance using evaluation metric: 'accuracy'\n",
            "\tTo change this, specify the eval_metric argument of fit()\n",
            "AutoGluon will fit 2 stack levels (L1 to L2) ...\n",
            "Fitting 13 L1 models ...\n",
            "Fitting model: KNeighborsUnif_BAG_L1 ... Training model for up to 381.25s of the 571.98s of remaining time.\n",
            "\tNo valid features to train KNeighborsUnif_BAG_L1... Skipping this model.\n",
            "Fitting model: KNeighborsDist_BAG_L1 ... Training model for up to 381.1s of the 571.84s of remaining time.\n",
            "\tNo valid features to train KNeighborsDist_BAG_L1... Skipping this model.\n",
            "Fitting model: NeuralNetFastAI_BAG_L1 ... Training model for up to 380.96s of the 571.7s of remaining time.\n",
            "\tTime limit exceeded... Skipping NeuralNetFastAI_BAG_L1.\n",
            "Fitting model: LightGBMXT_BAG_L1 ... Training model for up to 364.25s of the 554.98s of remaining time.\n",
            "/usr/local/lib/python3.7/dist-packages/lightgbm/engine.py:239: UserWarning: 'verbose_eval' argument is deprecated and will be removed in a future release of LightGBM. Pass 'log_evaluation()' callback via 'callbacks' argument instead.\n",
            "  _log_warning(\"'verbose_eval' argument is deprecated and will be removed in a future release of LightGBM. \"\n",
            "/usr/local/lib/python3.7/dist-packages/lightgbm/engine.py:239: UserWarning: 'verbose_eval' argument is deprecated and will be removed in a future release of LightGBM. Pass 'log_evaluation()' callback via 'callbacks' argument instead.\n",
            "  _log_warning(\"'verbose_eval' argument is deprecated and will be removed in a future release of LightGBM. \"\n",
            "/usr/local/lib/python3.7/dist-packages/lightgbm/engine.py:239: UserWarning: 'verbose_eval' argument is deprecated and will be removed in a future release of LightGBM. Pass 'log_evaluation()' callback via 'callbacks' argument instead.\n",
            "  _log_warning(\"'verbose_eval' argument is deprecated and will be removed in a future release of LightGBM. \"\n",
            "/usr/local/lib/python3.7/dist-packages/lightgbm/engine.py:239: UserWarning: 'verbose_eval' argument is deprecated and will be removed in a future release of LightGBM. Pass 'log_evaluation()' callback via 'callbacks' argument instead.\n",
            "  _log_warning(\"'verbose_eval' argument is deprecated and will be removed in a future release of LightGBM. \"\n",
            "/usr/local/lib/python3.7/dist-packages/lightgbm/engine.py:239: UserWarning: 'verbose_eval' argument is deprecated and will be removed in a future release of LightGBM. Pass 'log_evaluation()' callback via 'callbacks' argument instead.\n",
            "  _log_warning(\"'verbose_eval' argument is deprecated and will be removed in a future release of LightGBM. \"\n",
            "/usr/local/lib/python3.7/dist-packages/lightgbm/engine.py:239: UserWarning: 'verbose_eval' argument is deprecated and will be removed in a future release of LightGBM. Pass 'log_evaluation()' callback via 'callbacks' argument instead.\n",
            "  _log_warning(\"'verbose_eval' argument is deprecated and will be removed in a future release of LightGBM. \"\n",
            "/usr/local/lib/python3.7/dist-packages/lightgbm/engine.py:239: UserWarning: 'verbose_eval' argument is deprecated and will be removed in a future release of LightGBM. Pass 'log_evaluation()' callback via 'callbacks' argument instead.\n",
            "  _log_warning(\"'verbose_eval' argument is deprecated and will be removed in a future release of LightGBM. \"\n",
            "/usr/local/lib/python3.7/dist-packages/lightgbm/engine.py:239: UserWarning: 'verbose_eval' argument is deprecated and will be removed in a future release of LightGBM. Pass 'log_evaluation()' callback via 'callbacks' argument instead.\n",
            "  _log_warning(\"'verbose_eval' argument is deprecated and will be removed in a future release of LightGBM. \"\n",
            "/usr/local/lib/python3.7/dist-packages/lightgbm/engine.py:239: UserWarning: 'verbose_eval' argument is deprecated and will be removed in a future release of LightGBM. Pass 'log_evaluation()' callback via 'callbacks' argument instead.\n",
            "  _log_warning(\"'verbose_eval' argument is deprecated and will be removed in a future release of LightGBM. \"\n",
            "/usr/local/lib/python3.7/dist-packages/lightgbm/engine.py:239: UserWarning: 'verbose_eval' argument is deprecated and will be removed in a future release of LightGBM. Pass 'log_evaluation()' callback via 'callbacks' argument instead.\n",
            "  _log_warning(\"'verbose_eval' argument is deprecated and will be removed in a future release of LightGBM. \"\n",
            "\t0.6422\t = Validation score   (accuracy)\n",
            "\t111.42s\t = Training   runtime\n",
            "\t2.3s\t = Validation runtime\n",
            "Fitting model: LightGBM_BAG_L1 ... Training model for up to 248.59s of the 439.32s of remaining time.\n",
            "/usr/local/lib/python3.7/dist-packages/lightgbm/engine.py:239: UserWarning: 'verbose_eval' argument is deprecated and will be removed in a future release of LightGBM. Pass 'log_evaluation()' callback via 'callbacks' argument instead.\n",
            "  _log_warning(\"'verbose_eval' argument is deprecated and will be removed in a future release of LightGBM. \"\n",
            "/usr/local/lib/python3.7/dist-packages/lightgbm/engine.py:239: UserWarning: 'verbose_eval' argument is deprecated and will be removed in a future release of LightGBM. Pass 'log_evaluation()' callback via 'callbacks' argument instead.\n",
            "  _log_warning(\"'verbose_eval' argument is deprecated and will be removed in a future release of LightGBM. \"\n",
            "/usr/local/lib/python3.7/dist-packages/lightgbm/engine.py:239: UserWarning: 'verbose_eval' argument is deprecated and will be removed in a future release of LightGBM. Pass 'log_evaluation()' callback via 'callbacks' argument instead.\n",
            "  _log_warning(\"'verbose_eval' argument is deprecated and will be removed in a future release of LightGBM. \"\n",
            "/usr/local/lib/python3.7/dist-packages/lightgbm/engine.py:239: UserWarning: 'verbose_eval' argument is deprecated and will be removed in a future release of LightGBM. Pass 'log_evaluation()' callback via 'callbacks' argument instead.\n",
            "  _log_warning(\"'verbose_eval' argument is deprecated and will be removed in a future release of LightGBM. \"\n",
            "/usr/local/lib/python3.7/dist-packages/lightgbm/engine.py:239: UserWarning: 'verbose_eval' argument is deprecated and will be removed in a future release of LightGBM. Pass 'log_evaluation()' callback via 'callbacks' argument instead.\n",
            "  _log_warning(\"'verbose_eval' argument is deprecated and will be removed in a future release of LightGBM. \"\n",
            "/usr/local/lib/python3.7/dist-packages/lightgbm/engine.py:239: UserWarning: 'verbose_eval' argument is deprecated and will be removed in a future release of LightGBM. Pass 'log_evaluation()' callback via 'callbacks' argument instead.\n",
            "  _log_warning(\"'verbose_eval' argument is deprecated and will be removed in a future release of LightGBM. \"\n",
            "/usr/local/lib/python3.7/dist-packages/lightgbm/engine.py:239: UserWarning: 'verbose_eval' argument is deprecated and will be removed in a future release of LightGBM. Pass 'log_evaluation()' callback via 'callbacks' argument instead.\n",
            "  _log_warning(\"'verbose_eval' argument is deprecated and will be removed in a future release of LightGBM. \"\n",
            "/usr/local/lib/python3.7/dist-packages/lightgbm/engine.py:239: UserWarning: 'verbose_eval' argument is deprecated and will be removed in a future release of LightGBM. Pass 'log_evaluation()' callback via 'callbacks' argument instead.\n",
            "  _log_warning(\"'verbose_eval' argument is deprecated and will be removed in a future release of LightGBM. \"\n",
            "/usr/local/lib/python3.7/dist-packages/lightgbm/engine.py:239: UserWarning: 'verbose_eval' argument is deprecated and will be removed in a future release of LightGBM. Pass 'log_evaluation()' callback via 'callbacks' argument instead.\n",
            "  _log_warning(\"'verbose_eval' argument is deprecated and will be removed in a future release of LightGBM. \"\n",
            "/usr/local/lib/python3.7/dist-packages/lightgbm/engine.py:239: UserWarning: 'verbose_eval' argument is deprecated and will be removed in a future release of LightGBM. Pass 'log_evaluation()' callback via 'callbacks' argument instead.\n",
            "  _log_warning(\"'verbose_eval' argument is deprecated and will be removed in a future release of LightGBM. \"\n",
            "\t0.6377\t = Validation score   (accuracy)\n",
            "\t114.6s\t = Training   runtime\n",
            "\t1.85s\t = Validation runtime\n",
            "Fitting model: RandomForestGini_BAG_L1 ... Training model for up to 130.61s of the 321.35s of remaining time.\n",
            "\t0.624\t = Validation score   (accuracy)\n",
            "\t50.58s\t = Training   runtime\n",
            "\t34.02s\t = Validation runtime\n",
            "Fitting model: RandomForestEntr_BAG_L1 ... Training model for up to 43.74s of the 234.48s of remaining time.\n",
            "\tWarning: Reducing model 'n_estimators' from 300 -> 234 due to low time. Expected time usage reduced from 55.7s -> 43.7s...\n",
            "\t0.6225\t = Validation score   (accuracy)\n",
            "\t38.92s\t = Training   runtime\n",
            "\t27.54s\t = Validation runtime\n",
            "Completed 1/20 k-fold bagging repeats ...\n",
            "Fitting model: WeightedEnsemble_L2 ... Training model for up to 360.0s of the 165.01s of remaining time.\n",
            "\t0.6422\t = Validation score   (accuracy)\n",
            "\t4.18s\t = Training   runtime\n",
            "\t0.0s\t = Validation runtime\n",
            "Fitting 11 L2 models ...\n",
            "Fitting model: NeuralNetFastAI_BAG_L2 ... Training model for up to 160.76s of the 160.53s of remaining time.\n",
            "\tTime limit exceeded... Skipping NeuralNetFastAI_BAG_L2.\n",
            "Fitting model: LightGBMXT_BAG_L2 ... Training model for up to 134.15s of the 133.92s of remaining time.\n",
            "/usr/local/lib/python3.7/dist-packages/lightgbm/engine.py:239: UserWarning: 'verbose_eval' argument is deprecated and will be removed in a future release of LightGBM. Pass 'log_evaluation()' callback via 'callbacks' argument instead.\n",
            "  _log_warning(\"'verbose_eval' argument is deprecated and will be removed in a future release of LightGBM. \"\n",
            "\tRan out of time, early stopping on iteration 102. Best iteration is:\n",
            "\t[35]\ttrain_set's multi_error: 0.343956\tvalid_set's multi_error: 0.353326\n",
            "/usr/local/lib/python3.7/dist-packages/lightgbm/engine.py:239: UserWarning: 'verbose_eval' argument is deprecated and will be removed in a future release of LightGBM. Pass 'log_evaluation()' callback via 'callbacks' argument instead.\n",
            "  _log_warning(\"'verbose_eval' argument is deprecated and will be removed in a future release of LightGBM. \"\n",
            "/usr/local/lib/python3.7/dist-packages/lightgbm/engine.py:239: UserWarning: 'verbose_eval' argument is deprecated and will be removed in a future release of LightGBM. Pass 'log_evaluation()' callback via 'callbacks' argument instead.\n",
            "  _log_warning(\"'verbose_eval' argument is deprecated and will be removed in a future release of LightGBM. \"\n",
            "/usr/local/lib/python3.7/dist-packages/lightgbm/engine.py:239: UserWarning: 'verbose_eval' argument is deprecated and will be removed in a future release of LightGBM. Pass 'log_evaluation()' callback via 'callbacks' argument instead.\n",
            "  _log_warning(\"'verbose_eval' argument is deprecated and will be removed in a future release of LightGBM. \"\n",
            "\tRan out of time, early stopping on iteration 123. Best iteration is:\n",
            "\t[36]\ttrain_set's multi_error: 0.342623\tvalid_set's multi_error: 0.352781\n",
            "/usr/local/lib/python3.7/dist-packages/lightgbm/engine.py:239: UserWarning: 'verbose_eval' argument is deprecated and will be removed in a future release of LightGBM. Pass 'log_evaluation()' callback via 'callbacks' argument instead.\n",
            "  _log_warning(\"'verbose_eval' argument is deprecated and will be removed in a future release of LightGBM. \"\n",
            "/usr/local/lib/python3.7/dist-packages/lightgbm/engine.py:239: UserWarning: 'verbose_eval' argument is deprecated and will be removed in a future release of LightGBM. Pass 'log_evaluation()' callback via 'callbacks' argument instead.\n",
            "  _log_warning(\"'verbose_eval' argument is deprecated and will be removed in a future release of LightGBM. \"\n",
            "/usr/local/lib/python3.7/dist-packages/lightgbm/engine.py:239: UserWarning: 'verbose_eval' argument is deprecated and will be removed in a future release of LightGBM. Pass 'log_evaluation()' callback via 'callbacks' argument instead.\n",
            "  _log_warning(\"'verbose_eval' argument is deprecated and will be removed in a future release of LightGBM. \"\n",
            "/usr/local/lib/python3.7/dist-packages/lightgbm/engine.py:239: UserWarning: 'verbose_eval' argument is deprecated and will be removed in a future release of LightGBM. Pass 'log_evaluation()' callback via 'callbacks' argument instead.\n",
            "  _log_warning(\"'verbose_eval' argument is deprecated and will be removed in a future release of LightGBM. \"\n",
            "/usr/local/lib/python3.7/dist-packages/lightgbm/engine.py:239: UserWarning: 'verbose_eval' argument is deprecated and will be removed in a future release of LightGBM. Pass 'log_evaluation()' callback via 'callbacks' argument instead.\n",
            "  _log_warning(\"'verbose_eval' argument is deprecated and will be removed in a future release of LightGBM. \"\n",
            "/usr/local/lib/python3.7/dist-packages/lightgbm/engine.py:239: UserWarning: 'verbose_eval' argument is deprecated and will be removed in a future release of LightGBM. Pass 'log_evaluation()' callback via 'callbacks' argument instead.\n",
            "  _log_warning(\"'verbose_eval' argument is deprecated and will be removed in a future release of LightGBM. \"\n",
            "\t0.6424\t = Validation score   (accuracy)\n",
            "\t92.05s\t = Training   runtime\n",
            "\t1.16s\t = Validation runtime\n",
            "Fitting model: LightGBM_BAG_L2 ... Training model for up to 39.28s of the 39.12s of remaining time.\n",
            "/usr/local/lib/python3.7/dist-packages/lightgbm/engine.py:239: UserWarning: 'verbose_eval' argument is deprecated and will be removed in a future release of LightGBM. Pass 'log_evaluation()' callback via 'callbacks' argument instead.\n",
            "  _log_warning(\"'verbose_eval' argument is deprecated and will be removed in a future release of LightGBM. \"\n",
            "\tRan out of time, early stopping on iteration 19. Best iteration is:\n",
            "\t[16]\ttrain_set's multi_error: 0.346622\tvalid_set's multi_error: 0.359869\n",
            "\tTime limit exceeded... Skipping LightGBM_BAG_L2.\n",
            "Fitting model: RandomForestGini_BAG_L2 ... Training model for up to 34.46s of the 34.3s of remaining time.\n",
            "\tWarning: Reducing model 'n_estimators' from 300 -> 183 due to low time. Expected time usage reduced from 56.0s -> 34.5s...\n",
            "\t0.6398\t = Validation score   (accuracy)\n",
            "\t30.02s\t = Training   runtime\n",
            "\t25.76s\t = Validation runtime\n",
            "Completed 1/20 k-fold bagging repeats ...\n",
            "Fitting model: WeightedEnsemble_L3 ... Training model for up to 360.0s of the -24.17s of remaining time.\n",
            "\t0.6424\t = Validation score   (accuracy)\n",
            "\t1.09s\t = Training   runtime\n",
            "\t0.0s\t = Validation runtime\n",
            "AutoGluon training complete, total runtime = 625.59s ...\n",
            "TabularPredictor saved. To load, use: predictor = TabularPredictor.load(\"kg_models/\")\n"
          ]
        }
      ],
      "source": [
        "\n",
        "from autogluon.tabular import TabularPredictor\n",
        "\n",
        "#Training with Autogluon Tabular\n",
        "save_path = 'kg_models'\n",
        "predictor = TabularPredictor('truthRating', problem_type= 'quantile', \n",
        "                                          path=save_path, learner_kwargs={'ignored_columns':['ratingName', 'id','language', 'link','date']} ).fit(train, time_limit=600, presets='best_quality')"
      ]
    },
    {
      "cell_type": "markdown",
      "metadata": {
        "id": "6LrqFFl0oVEW"
      },
      "source": [
        "## My Tabular predictor leaderboard"
      ]
    },
    {
      "cell_type": "code",
      "execution_count": null,
      "metadata": {
        "colab": {
          "base_uri": "https://localhost:8080/",
          "height": 1000
        },
        "id": "QrOZGuk9oVEX",
        "outputId": "b7b506a8-ec31-453d-b497-5bff393690da"
      },
      "outputs": [
        {
          "data": {
            "text/html": [
              "\n",
              "  <div id=\"df-66357c4a-25df-41bd-9ae2-5b8696090197\">\n",
              "    <div class=\"colab-df-container\">\n",
              "      <div>\n",
              "<style scoped>\n",
              "    .dataframe tbody tr th:only-of-type {\n",
              "        vertical-align: middle;\n",
              "    }\n",
              "\n",
              "    .dataframe tbody tr th {\n",
              "        vertical-align: top;\n",
              "    }\n",
              "\n",
              "    .dataframe thead th {\n",
              "        text-align: right;\n",
              "    }\n",
              "</style>\n",
              "<table border=\"1\" class=\"dataframe\">\n",
              "  <thead>\n",
              "    <tr style=\"text-align: right;\">\n",
              "      <th></th>\n",
              "      <th>model</th>\n",
              "      <th>score_val</th>\n",
              "      <th>pred_time_val</th>\n",
              "      <th>fit_time</th>\n",
              "      <th>pred_time_val_marginal</th>\n",
              "      <th>fit_time_marginal</th>\n",
              "      <th>stack_level</th>\n",
              "      <th>can_infer</th>\n",
              "      <th>fit_order</th>\n",
              "      <th>num_features</th>\n",
              "      <th>num_models</th>\n",
              "      <th>num_models_w_ancestors</th>\n",
              "      <th>memory_size</th>\n",
              "      <th>memory_size_w_ancestors</th>\n",
              "      <th>memory_size_min</th>\n",
              "      <th>memory_size_min_w_ancestors</th>\n",
              "      <th>num_ancestors</th>\n",
              "      <th>num_descendants</th>\n",
              "      <th>model_type</th>\n",
              "      <th>child_model_type</th>\n",
              "      <th>hyperparameters</th>\n",
              "      <th>hyperparameters_fit</th>\n",
              "      <th>ag_args_fit</th>\n",
              "      <th>features</th>\n",
              "      <th>child_hyperparameters</th>\n",
              "      <th>child_hyperparameters_fit</th>\n",
              "      <th>child_ag_args_fit</th>\n",
              "      <th>ancestors</th>\n",
              "      <th>descendants</th>\n",
              "    </tr>\n",
              "  </thead>\n",
              "  <tbody>\n",
              "    <tr>\n",
              "      <th>0</th>\n",
              "      <td>LightGBMXT_BAG_L2</td>\n",
              "      <td>0.642401</td>\n",
              "      <td>66.866308</td>\n",
              "      <td>407.575410</td>\n",
              "      <td>1.163145</td>\n",
              "      <td>92.054415</td>\n",
              "      <td>2</td>\n",
              "      <td>True</td>\n",
              "      <td>6</td>\n",
              "      <td>1691</td>\n",
              "      <td>10</td>\n",
              "      <td>32</td>\n",
              "      <td>6483868</td>\n",
              "      <td>453031714</td>\n",
              "      <td>1545300</td>\n",
              "      <td>228045277</td>\n",
              "      <td>4</td>\n",
              "      <td>1</td>\n",
              "      <td>StackerEnsembleModel</td>\n",
              "      <td>LGBModel</td>\n",
              "      <td>{'use_orig_features': True, 'max_base_models': 25, 'max_base_models_per_type': 5, 'save_bag_folds': True}</td>\n",
              "      <td>{}</td>\n",
              "      <td>{'max_memory_usage_ratio': 1.0, 'max_time_limit_ratio': 1.0, 'max_time_limit': None, 'min_time_limit': 0, 'ignored_type_group_special': None, 'ignored_type_group_raw': None, 'get_features_kwargs': None, 'get_features_kwargs_extra': None, 'drop_unique': False}</td>\n",
              "      <td>[__nlp__.jeb bush, __nlp__.largest, __nlp__.prevention, __nlp__.check, __nlp__.trafficking, headline.symbol_ratio.., __nlp__.york university, __nlp__.republican republican, __nlp__.illinois, __nlp__.live, __nlp__.white house, __nlp__.super, __nlp__.oil, __nlp__.last, __nlp__.biden, __nlp__.the speech, __nlp__.red, __nlp__.agreement, __nlp__.attack, __nlp__.william, __nlp__.joint, __nlp__.term, __nlp__.clinton, __nlp__.asp, __nlp__.office, __nlp__.past, __nlp__.workers, __nlp__.study, headline.symbol_ratio.!, __nlp__.human, __nlp__.washington post, RandomForestEntr_BAG_L1_1, __nlp__.africa,...</td>\n",
              "      <td>{'num_boost_round': 10000, 'num_threads': -1, 'learning_rate': 0.05, 'objective': 'multiclass', 'verbose': -1, 'boosting_type': 'gbdt', 'two_round': True, 'extra_trees': True}</td>\n",
              "      <td>{'num_boost_round': 41}</td>\n",
              "      <td>{'max_memory_usage_ratio': 1.0, 'max_time_limit_ratio': 1.0, 'max_time_limit': None, 'min_time_limit': 0, 'ignored_type_group_special': None, 'ignored_type_group_raw': ['object'], 'get_features_kwargs': None, 'get_features_kwargs_extra': None}</td>\n",
              "      <td>[RandomForestGini_BAG_L1, LightGBMXT_BAG_L1, LightGBM_BAG_L1, RandomForestEntr_BAG_L1]</td>\n",
              "      <td>[WeightedEnsemble_L3]</td>\n",
              "    </tr>\n",
              "    <tr>\n",
              "      <th>1</th>\n",
              "      <td>WeightedEnsemble_L3</td>\n",
              "      <td>0.642401</td>\n",
              "      <td>66.868493</td>\n",
              "      <td>408.667719</td>\n",
              "      <td>0.002186</td>\n",
              "      <td>1.092308</td>\n",
              "      <td>3</td>\n",
              "      <td>True</td>\n",
              "      <td>8</td>\n",
              "      <td>3</td>\n",
              "      <td>1</td>\n",
              "      <td>33</td>\n",
              "      <td>3159</td>\n",
              "      <td>453034873</td>\n",
              "      <td>3159</td>\n",
              "      <td>228045277</td>\n",
              "      <td>5</td>\n",
              "      <td>0</td>\n",
              "      <td>WeightedEnsembleModel</td>\n",
              "      <td>GreedyWeightedEnsembleModel</td>\n",
              "      <td>{'use_orig_features': False, 'max_base_models': 25, 'max_base_models_per_type': 5, 'save_bag_folds': True}</td>\n",
              "      <td>{}</td>\n",
              "      <td>{'max_memory_usage_ratio': 1.0, 'max_time_limit_ratio': 1.0, 'max_time_limit': None, 'min_time_limit': 0, 'ignored_type_group_special': None, 'ignored_type_group_raw': None, 'get_features_kwargs': None, 'get_features_kwargs_extra': None, 'drop_unique': False}</td>\n",
              "      <td>[LightGBMXT_BAG_L2_2, LightGBMXT_BAG_L2_1, LightGBMXT_BAG_L2_0]</td>\n",
              "      <td>{'ensemble_size': 100}</td>\n",
              "      <td>{'ensemble_size': 1}</td>\n",
              "      <td>{'max_memory_usage_ratio': 1.0, 'max_time_limit_ratio': 1.0, 'max_time_limit': None, 'min_time_limit': 0, 'ignored_type_group_special': None, 'ignored_type_group_raw': None, 'get_features_kwargs': None, 'get_features_kwargs_extra': None, 'drop_unique': False}</td>\n",
              "      <td>[LightGBMXT_BAG_L2, RandomForestGini_BAG_L1, LightGBMXT_BAG_L1, RandomForestEntr_BAG_L1, LightGBM_BAG_L1]</td>\n",
              "      <td>[]</td>\n",
              "    </tr>\n",
              "    <tr>\n",
              "      <th>2</th>\n",
              "      <td>LightGBMXT_BAG_L1</td>\n",
              "      <td>0.642183</td>\n",
              "      <td>2.298393</td>\n",
              "      <td>111.418195</td>\n",
              "      <td>2.298393</td>\n",
              "      <td>111.418195</td>\n",
              "      <td>1</td>\n",
              "      <td>True</td>\n",
              "      <td>1</td>\n",
              "      <td>1679</td>\n",
              "      <td>10</td>\n",
              "      <td>10</td>\n",
              "      <td>21781231</td>\n",
              "      <td>21781231</td>\n",
              "      <td>4337878</td>\n",
              "      <td>4337878</td>\n",
              "      <td>0</td>\n",
              "      <td>4</td>\n",
              "      <td>StackerEnsembleModel</td>\n",
              "      <td>LGBModel</td>\n",
              "      <td>{'use_orig_features': True, 'max_base_models': 25, 'max_base_models_per_type': 5, 'save_bag_folds': True}</td>\n",
              "      <td>{}</td>\n",
              "      <td>{'max_memory_usage_ratio': 1.0, 'max_time_limit_ratio': 1.0, 'max_time_limit': None, 'min_time_limit': 0, 'ignored_type_group_special': None, 'ignored_type_group_raw': None, 'get_features_kwargs': None, 'get_features_kwargs_extra': None, 'drop_unique': False}</td>\n",
              "      <td>[__nlp__.jeb bush, __nlp__.largest, __nlp__.prevention, __nlp__.check, __nlp__.trafficking, headline.symbol_ratio.., __nlp__.york university, __nlp__.republican republican, __nlp__.illinois, __nlp__.live, __nlp__.white house, __nlp__.super, __nlp__.oil, __nlp__.last, __nlp__.biden, __nlp__.the speech, __nlp__.red, __nlp__.agreement, __nlp__.attack, __nlp__.william, __nlp__.joint, __nlp__.term, __nlp__.clinton, __nlp__.asp, __nlp__.office, __nlp__.past, __nlp__.workers, __nlp__.study, headline.symbol_ratio.!, __nlp__.human, __nlp__.washington post, __nlp__.africa, __nlp__.indiana, __nlp__.p...</td>\n",
              "      <td>{'num_boost_round': 10000, 'num_threads': -1, 'learning_rate': 0.05, 'objective': 'multiclass', 'verbose': -1, 'boosting_type': 'gbdt', 'two_round': True, 'extra_trees': True}</td>\n",
              "      <td>{'num_boost_round': 181}</td>\n",
              "      <td>{'max_memory_usage_ratio': 1.0, 'max_time_limit_ratio': 1.0, 'max_time_limit': None, 'min_time_limit': 0, 'ignored_type_group_special': None, 'ignored_type_group_raw': ['object'], 'get_features_kwargs': None, 'get_features_kwargs_extra': None}</td>\n",
              "      <td>[]</td>\n",
              "      <td>[WeightedEnsemble_L3, WeightedEnsemble_L2, LightGBMXT_BAG_L2, RandomForestGini_BAG_L2]</td>\n",
              "    </tr>\n",
              "    <tr>\n",
              "      <th>3</th>\n",
              "      <td>WeightedEnsemble_L2</td>\n",
              "      <td>0.642183</td>\n",
              "      <td>2.302022</td>\n",
              "      <td>115.598261</td>\n",
              "      <td>0.003629</td>\n",
              "      <td>4.180066</td>\n",
              "      <td>2</td>\n",
              "      <td>True</td>\n",
              "      <td>5</td>\n",
              "      <td>3</td>\n",
              "      <td>1</td>\n",
              "      <td>11</td>\n",
              "      <td>3677</td>\n",
              "      <td>21784908</td>\n",
              "      <td>3677</td>\n",
              "      <td>4337878</td>\n",
              "      <td>1</td>\n",
              "      <td>0</td>\n",
              "      <td>WeightedEnsembleModel</td>\n",
              "      <td>GreedyWeightedEnsembleModel</td>\n",
              "      <td>{'use_orig_features': False, 'max_base_models': 25, 'max_base_models_per_type': 5, 'save_bag_folds': True}</td>\n",
              "      <td>{}</td>\n",
              "      <td>{'max_memory_usage_ratio': 1.0, 'max_time_limit_ratio': 1.0, 'max_time_limit': None, 'min_time_limit': 0, 'ignored_type_group_special': None, 'ignored_type_group_raw': None, 'get_features_kwargs': None, 'get_features_kwargs_extra': None, 'drop_unique': False}</td>\n",
              "      <td>[LightGBMXT_BAG_L1_1, LightGBMXT_BAG_L1_2, LightGBMXT_BAG_L1_0]</td>\n",
              "      <td>{'ensemble_size': 100}</td>\n",
              "      <td>{'ensemble_size': 1}</td>\n",
              "      <td>{'max_memory_usage_ratio': 1.0, 'max_time_limit_ratio': 1.0, 'max_time_limit': None, 'min_time_limit': 0, 'ignored_type_group_special': None, 'ignored_type_group_raw': None, 'get_features_kwargs': None, 'get_features_kwargs_extra': None, 'drop_unique': False}</td>\n",
              "      <td>[LightGBMXT_BAG_L1]</td>\n",
              "      <td>[]</td>\n",
              "    </tr>\n",
              "    <tr>\n",
              "      <th>4</th>\n",
              "      <td>RandomForestGini_BAG_L2</td>\n",
              "      <td>0.639784</td>\n",
              "      <td>91.464218</td>\n",
              "      <td>345.542083</td>\n",
              "      <td>25.761055</td>\n",
              "      <td>30.021088</td>\n",
              "      <td>2</td>\n",
              "      <td>True</td>\n",
              "      <td>7</td>\n",
              "      <td>1691</td>\n",
              "      <td>1</td>\n",
              "      <td>23</td>\n",
              "      <td>124156182</td>\n",
              "      <td>570704028</td>\n",
              "      <td>124156182</td>\n",
              "      <td>228045277</td>\n",
              "      <td>4</td>\n",
              "      <td>0</td>\n",
              "      <td>StackerEnsembleModel</td>\n",
              "      <td>RFModel</td>\n",
              "      <td>{'use_orig_features': True, 'max_base_models': 25, 'max_base_models_per_type': 5, 'save_bag_folds': True, 'use_child_oof': True}</td>\n",
              "      <td>{}</td>\n",
              "      <td>{'max_memory_usage_ratio': 1.0, 'max_time_limit_ratio': 1.0, 'max_time_limit': None, 'min_time_limit': 0, 'ignored_type_group_special': None, 'ignored_type_group_raw': None, 'get_features_kwargs': None, 'get_features_kwargs_extra': None, 'drop_unique': False}</td>\n",
              "      <td>[__nlp__.jeb bush, __nlp__.largest, __nlp__.prevention, __nlp__.check, __nlp__.trafficking, headline.symbol_ratio.., __nlp__.york university, __nlp__.republican republican, __nlp__.illinois, __nlp__.live, __nlp__.white house, __nlp__.super, __nlp__.oil, __nlp__.last, __nlp__.biden, __nlp__.the speech, __nlp__.red, __nlp__.agreement, __nlp__.attack, __nlp__.william, __nlp__.joint, __nlp__.term, __nlp__.clinton, __nlp__.asp, __nlp__.office, __nlp__.past, __nlp__.workers, __nlp__.study, headline.symbol_ratio.!, __nlp__.human, __nlp__.washington post, RandomForestEntr_BAG_L1_1, __nlp__.africa,...</td>\n",
              "      <td>{'n_estimators': 300, 'n_jobs': -1, 'random_state': 0, 'bootstrap': True, 'criterion': 'gini'}</td>\n",
              "      <td>{'n_estimators': 183}</td>\n",
              "      <td>{'max_memory_usage_ratio': 1.0, 'max_time_limit_ratio': 1.0, 'max_time_limit': None, 'min_time_limit': 0, 'ignored_type_group_special': None, 'ignored_type_group_raw': ['object'], 'get_features_kwargs': None, 'get_features_kwargs_extra': None}</td>\n",
              "      <td>[RandomForestGini_BAG_L1, LightGBMXT_BAG_L1, LightGBM_BAG_L1, RandomForestEntr_BAG_L1]</td>\n",
              "      <td>[]</td>\n",
              "    </tr>\n",
              "    <tr>\n",
              "      <th>5</th>\n",
              "      <td>LightGBM_BAG_L1</td>\n",
              "      <td>0.637712</td>\n",
              "      <td>1.852650</td>\n",
              "      <td>114.598322</td>\n",
              "      <td>1.852650</td>\n",
              "      <td>114.598322</td>\n",
              "      <td>1</td>\n",
              "      <td>True</td>\n",
              "      <td>2</td>\n",
              "      <td>1679</td>\n",
              "      <td>10</td>\n",
              "      <td>10</td>\n",
              "      <td>15124247</td>\n",
              "      <td>15124247</td>\n",
              "      <td>2369349</td>\n",
              "      <td>2369349</td>\n",
              "      <td>0</td>\n",
              "      <td>3</td>\n",
              "      <td>StackerEnsembleModel</td>\n",
              "      <td>LGBModel</td>\n",
              "      <td>{'use_orig_features': True, 'max_base_models': 25, 'max_base_models_per_type': 5, 'save_bag_folds': True}</td>\n",
              "      <td>{}</td>\n",
              "      <td>{'max_memory_usage_ratio': 1.0, 'max_time_limit_ratio': 1.0, 'max_time_limit': None, 'min_time_limit': 0, 'ignored_type_group_special': None, 'ignored_type_group_raw': None, 'get_features_kwargs': None, 'get_features_kwargs_extra': None, 'drop_unique': False}</td>\n",
              "      <td>[__nlp__.jeb bush, __nlp__.largest, __nlp__.prevention, __nlp__.check, __nlp__.trafficking, headline.symbol_ratio.., __nlp__.york university, __nlp__.republican republican, __nlp__.illinois, __nlp__.live, __nlp__.white house, __nlp__.super, __nlp__.oil, __nlp__.last, __nlp__.biden, __nlp__.the speech, __nlp__.red, __nlp__.agreement, __nlp__.attack, __nlp__.william, __nlp__.joint, __nlp__.term, __nlp__.clinton, __nlp__.asp, __nlp__.office, __nlp__.past, __nlp__.workers, __nlp__.study, headline.symbol_ratio.!, __nlp__.human, __nlp__.washington post, __nlp__.africa, __nlp__.indiana, __nlp__.p...</td>\n",
              "      <td>{'num_boost_round': 10000, 'num_threads': -1, 'learning_rate': 0.05, 'objective': 'multiclass', 'verbose': -1, 'boosting_type': 'gbdt', 'two_round': True}</td>\n",
              "      <td>{'num_boost_round': 108}</td>\n",
              "      <td>{'max_memory_usage_ratio': 1.0, 'max_time_limit_ratio': 1.0, 'max_time_limit': None, 'min_time_limit': 0, 'ignored_type_group_special': None, 'ignored_type_group_raw': ['object'], 'get_features_kwargs': None, 'get_features_kwargs_extra': None}</td>\n",
              "      <td>[]</td>\n",
              "      <td>[WeightedEnsemble_L3, LightGBMXT_BAG_L2, RandomForestGini_BAG_L2]</td>\n",
              "    </tr>\n",
              "    <tr>\n",
              "      <th>6</th>\n",
              "      <td>RandomForestGini_BAG_L1</td>\n",
              "      <td>0.623971</td>\n",
              "      <td>34.016435</td>\n",
              "      <td>50.581118</td>\n",
              "      <td>34.016435</td>\n",
              "      <td>50.581118</td>\n",
              "      <td>1</td>\n",
              "      <td>True</td>\n",
              "      <td>3</td>\n",
              "      <td>1679</td>\n",
              "      <td>1</td>\n",
              "      <td>1</td>\n",
              "      <td>228045277</td>\n",
              "      <td>228045277</td>\n",
              "      <td>228045277</td>\n",
              "      <td>228045277</td>\n",
              "      <td>0</td>\n",
              "      <td>3</td>\n",
              "      <td>StackerEnsembleModel</td>\n",
              "      <td>RFModel</td>\n",
              "      <td>{'use_orig_features': True, 'max_base_models': 25, 'max_base_models_per_type': 5, 'save_bag_folds': True, 'use_child_oof': True}</td>\n",
              "      <td>{}</td>\n",
              "      <td>{'max_memory_usage_ratio': 1.0, 'max_time_limit_ratio': 1.0, 'max_time_limit': None, 'min_time_limit': 0, 'ignored_type_group_special': None, 'ignored_type_group_raw': None, 'get_features_kwargs': None, 'get_features_kwargs_extra': None, 'drop_unique': False}</td>\n",
              "      <td>[__nlp__.jeb bush, __nlp__.largest, __nlp__.prevention, __nlp__.check, __nlp__.trafficking, headline.symbol_ratio.., __nlp__.york university, __nlp__.republican republican, __nlp__.illinois, __nlp__.live, __nlp__.white house, __nlp__.super, __nlp__.oil, __nlp__.last, __nlp__.biden, __nlp__.the speech, __nlp__.red, __nlp__.agreement, __nlp__.attack, __nlp__.william, __nlp__.joint, __nlp__.term, __nlp__.clinton, __nlp__.asp, __nlp__.office, __nlp__.past, __nlp__.workers, __nlp__.study, headline.symbol_ratio.!, __nlp__.human, __nlp__.washington post, __nlp__.africa, __nlp__.indiana, __nlp__.p...</td>\n",
              "      <td>{'n_estimators': 300, 'n_jobs': -1, 'random_state': 0, 'bootstrap': True, 'criterion': 'gini'}</td>\n",
              "      <td>{'n_estimators': 300}</td>\n",
              "      <td>{'max_memory_usage_ratio': 1.0, 'max_time_limit_ratio': 1.0, 'max_time_limit': None, 'min_time_limit': 0, 'ignored_type_group_special': None, 'ignored_type_group_raw': ['object'], 'get_features_kwargs': None, 'get_features_kwargs_extra': None}</td>\n",
              "      <td>[]</td>\n",
              "      <td>[WeightedEnsemble_L3, LightGBMXT_BAG_L2, RandomForestGini_BAG_L2]</td>\n",
              "    </tr>\n",
              "    <tr>\n",
              "      <th>7</th>\n",
              "      <td>RandomForestEntr_BAG_L1</td>\n",
              "      <td>0.622499</td>\n",
              "      <td>27.535685</td>\n",
              "      <td>38.923359</td>\n",
              "      <td>27.535685</td>\n",
              "      <td>38.923359</td>\n",
              "      <td>1</td>\n",
              "      <td>True</td>\n",
              "      <td>4</td>\n",
              "      <td>1679</td>\n",
              "      <td>1</td>\n",
              "      <td>1</td>\n",
              "      <td>181597091</td>\n",
              "      <td>181597091</td>\n",
              "      <td>181597091</td>\n",
              "      <td>181597091</td>\n",
              "      <td>0</td>\n",
              "      <td>3</td>\n",
              "      <td>StackerEnsembleModel</td>\n",
              "      <td>RFModel</td>\n",
              "      <td>{'use_orig_features': True, 'max_base_models': 25, 'max_base_models_per_type': 5, 'save_bag_folds': True, 'use_child_oof': True}</td>\n",
              "      <td>{}</td>\n",
              "      <td>{'max_memory_usage_ratio': 1.0, 'max_time_limit_ratio': 1.0, 'max_time_limit': None, 'min_time_limit': 0, 'ignored_type_group_special': None, 'ignored_type_group_raw': None, 'get_features_kwargs': None, 'get_features_kwargs_extra': None, 'drop_unique': False}</td>\n",
              "      <td>[__nlp__.jeb bush, __nlp__.largest, __nlp__.prevention, __nlp__.check, __nlp__.trafficking, headline.symbol_ratio.., __nlp__.york university, __nlp__.republican republican, __nlp__.illinois, __nlp__.live, __nlp__.white house, __nlp__.super, __nlp__.oil, __nlp__.last, __nlp__.biden, __nlp__.the speech, __nlp__.red, __nlp__.agreement, __nlp__.attack, __nlp__.william, __nlp__.joint, __nlp__.term, __nlp__.clinton, __nlp__.asp, __nlp__.office, __nlp__.past, __nlp__.workers, __nlp__.study, headline.symbol_ratio.!, __nlp__.human, __nlp__.washington post, __nlp__.africa, __nlp__.indiana, __nlp__.p...</td>\n",
              "      <td>{'n_estimators': 300, 'n_jobs': -1, 'random_state': 0, 'bootstrap': True, 'criterion': 'entropy'}</td>\n",
              "      <td>{'n_estimators': 234}</td>\n",
              "      <td>{'max_memory_usage_ratio': 1.0, 'max_time_limit_ratio': 1.0, 'max_time_limit': None, 'min_time_limit': 0, 'ignored_type_group_special': None, 'ignored_type_group_raw': ['object'], 'get_features_kwargs': None, 'get_features_kwargs_extra': None}</td>\n",
              "      <td>[]</td>\n",
              "      <td>[WeightedEnsemble_L3, LightGBMXT_BAG_L2, RandomForestGini_BAG_L2]</td>\n",
              "    </tr>\n",
              "  </tbody>\n",
              "</table>\n",
              "</div>\n",
              "      <button class=\"colab-df-convert\" onclick=\"convertToInteractive('df-66357c4a-25df-41bd-9ae2-5b8696090197')\"\n",
              "              title=\"Convert this dataframe to an interactive table.\"\n",
              "              style=\"display:none;\">\n",
              "        \n",
              "  <svg xmlns=\"http://www.w3.org/2000/svg\" height=\"24px\"viewBox=\"0 0 24 24\"\n",
              "       width=\"24px\">\n",
              "    <path d=\"M0 0h24v24H0V0z\" fill=\"none\"/>\n",
              "    <path d=\"M18.56 5.44l.94 2.06.94-2.06 2.06-.94-2.06-.94-.94-2.06-.94 2.06-2.06.94zm-11 1L8.5 8.5l.94-2.06 2.06-.94-2.06-.94L8.5 2.5l-.94 2.06-2.06.94zm10 10l.94 2.06.94-2.06 2.06-.94-2.06-.94-.94-2.06-.94 2.06-2.06.94z\"/><path d=\"M17.41 7.96l-1.37-1.37c-.4-.4-.92-.59-1.43-.59-.52 0-1.04.2-1.43.59L10.3 9.45l-7.72 7.72c-.78.78-.78 2.05 0 2.83L4 21.41c.39.39.9.59 1.41.59.51 0 1.02-.2 1.41-.59l7.78-7.78 2.81-2.81c.8-.78.8-2.07 0-2.86zM5.41 20L4 18.59l7.72-7.72 1.47 1.35L5.41 20z\"/>\n",
              "  </svg>\n",
              "      </button>\n",
              "      \n",
              "  <style>\n",
              "    .colab-df-container {\n",
              "      display:flex;\n",
              "      flex-wrap:wrap;\n",
              "      gap: 12px;\n",
              "    }\n",
              "\n",
              "    .colab-df-convert {\n",
              "      background-color: #E8F0FE;\n",
              "      border: none;\n",
              "      border-radius: 50%;\n",
              "      cursor: pointer;\n",
              "      display: none;\n",
              "      fill: #1967D2;\n",
              "      height: 32px;\n",
              "      padding: 0 0 0 0;\n",
              "      width: 32px;\n",
              "    }\n",
              "\n",
              "    .colab-df-convert:hover {\n",
              "      background-color: #E2EBFA;\n",
              "      box-shadow: 0px 1px 2px rgba(60, 64, 67, 0.3), 0px 1px 3px 1px rgba(60, 64, 67, 0.15);\n",
              "      fill: #174EA6;\n",
              "    }\n",
              "\n",
              "    [theme=dark] .colab-df-convert {\n",
              "      background-color: #3B4455;\n",
              "      fill: #D2E3FC;\n",
              "    }\n",
              "\n",
              "    [theme=dark] .colab-df-convert:hover {\n",
              "      background-color: #434B5C;\n",
              "      box-shadow: 0px 1px 3px 1px rgba(0, 0, 0, 0.15);\n",
              "      filter: drop-shadow(0px 1px 2px rgba(0, 0, 0, 0.3));\n",
              "      fill: #FFFFFF;\n",
              "    }\n",
              "  </style>\n",
              "\n",
              "      <script>\n",
              "        const buttonEl =\n",
              "          document.querySelector('#df-66357c4a-25df-41bd-9ae2-5b8696090197 button.colab-df-convert');\n",
              "        buttonEl.style.display =\n",
              "          google.colab.kernel.accessAllowed ? 'block' : 'none';\n",
              "\n",
              "        async function convertToInteractive(key) {\n",
              "          const element = document.querySelector('#df-66357c4a-25df-41bd-9ae2-5b8696090197');\n",
              "          const dataTable =\n",
              "            await google.colab.kernel.invokeFunction('convertToInteractive',\n",
              "                                                     [key], {});\n",
              "          if (!dataTable) return;\n",
              "\n",
              "          const docLinkHtml = 'Like what you see? Visit the ' +\n",
              "            '<a target=\"_blank\" href=https://colab.research.google.com/notebooks/data_table.ipynb>data table notebook</a>'\n",
              "            + ' to learn more about interactive tables.';\n",
              "          element.innerHTML = '';\n",
              "          dataTable['output_type'] = 'display_data';\n",
              "          await google.colab.output.renderOutput(dataTable, element);\n",
              "          const docLink = document.createElement('div');\n",
              "          docLink.innerHTML = docLinkHtml;\n",
              "          element.appendChild(docLink);\n",
              "        }\n",
              "      </script>\n",
              "    </div>\n",
              "  </div>\n",
              "  "
            ],
            "text/plain": [
              "                     model  ...                                                                             descendants\n",
              "0        LightGBMXT_BAG_L2  ...                                                                   [WeightedEnsemble_L3]\n",
              "1      WeightedEnsemble_L3  ...                                                                                      []\n",
              "2        LightGBMXT_BAG_L1  ...  [WeightedEnsemble_L3, WeightedEnsemble_L2, LightGBMXT_BAG_L2, RandomForestGini_BAG_L2]\n",
              "3      WeightedEnsemble_L2  ...                                                                                      []\n",
              "4  RandomForestGini_BAG_L2  ...                                                                                      []\n",
              "5          LightGBM_BAG_L1  ...                       [WeightedEnsemble_L3, LightGBMXT_BAG_L2, RandomForestGini_BAG_L2]\n",
              "6  RandomForestGini_BAG_L1  ...                       [WeightedEnsemble_L3, LightGBMXT_BAG_L2, RandomForestGini_BAG_L2]\n",
              "7  RandomForestEntr_BAG_L1  ...                       [WeightedEnsemble_L3, LightGBMXT_BAG_L2, RandomForestGini_BAG_L2]\n",
              "\n",
              "[8 rows x 29 columns]"
            ]
          },
          "execution_count": 127,
          "metadata": {},
          "output_type": "execute_result"
        }
      ],
      "source": [
        "#The predictor leaderboard that is produced using the data previously reserved for validation inside fit, and can display extra information about each model:\n",
        "predictor.leaderboard(extra_info=True, silent=True)"
      ]
    },
    {
      "cell_type": "code",
      "execution_count": null,
      "metadata": {
        "colab": {
          "base_uri": "https://localhost:8080/"
        },
        "id": "VdCDKUPFoVEX",
        "outputId": "7d0a1e0a-e617-4964-9795-7b545618dc94"
      },
      "outputs": [
        {
          "name": "stdout",
          "output_type": "stream",
          "text": [
            "Predictor features:  ['text', 'date', 'author', 'headline', 'named_entities_claim', 'named_entities_article', 'keywords', 'politifact', 'snopes', 'africacheck', 'truthorfiction', 'factscan', 'checkyourfact']\n"
          ]
        }
      ],
      "source": [
        "print(\"Predictor features: \", predictor.features())"
      ]
    },
    {
      "cell_type": "markdown",
      "metadata": {
        "id": "wWHtG33voVEX"
      },
      "source": [
        "## Getting predictions from TabularPredictor"
      ]
    },
    {
      "cell_type": "code",
      "execution_count": null,
      "metadata": {
        "id": "rP6rtp_FoVEY"
      },
      "outputs": [],
      "source": [
        "response = predictor.predict(test)\n",
        "test_target = test['truthRating']"
      ]
    },
    {
      "cell_type": "code",
      "execution_count": null,
      "metadata": {
        "colab": {
          "base_uri": "https://localhost:8080/"
        },
        "id": "Dylo4jt0oVEY",
        "outputId": "54a3836f-6fe1-4f64-a1f5-d8b1afc2e404"
      },
      "outputs": [
        {
          "name": "stdout",
          "output_type": "stream",
          "text": [
            "response:\n",
            "  11830    1\n",
            "16166    2\n",
            "14929    2\n",
            "16533    2\n",
            "13570    2\n",
            "        ..\n",
            "18744    2\n",
            "24436    2\n",
            "1991     2\n",
            "2536     1\n",
            "15400    2\n",
            "Name: truthRating, Length: 6113, dtype: int64\n",
            "target:\n",
            " 11830    1\n",
            "16166    2\n",
            "14929    2\n",
            "16533    2\n",
            "13570    1\n",
            "        ..\n",
            "18744    2\n",
            "24436    2\n",
            "1991     3\n",
            "2536     3\n",
            "15400    2\n",
            "Name: truthRating, Length: 6113, dtype: int64\n"
          ]
        }
      ],
      "source": [
        "print(\"response:\\n \",response)\n",
        "print(\"target:\\n\",test_target)"
      ]
    },
    {
      "cell_type": "markdown",
      "metadata": {
        "id": "n3gAwL4hoVEY"
      },
      "source": [
        "## Evaluate the Autogluon predictor"
      ]
    },
    {
      "cell_type": "code",
      "execution_count": null,
      "metadata": {
        "colab": {
          "base_uri": "https://localhost:8080/"
        },
        "id": "mTyjiz2joVEY",
        "outputId": "42b29d55-d65d-4d90-e5f5-e2639182bd2f"
      },
      "outputs": [
        {
          "name": "stderr",
          "output_type": "stream",
          "text": [
            "Evaluation: accuracy on test data: 0.6466546703746114\n",
            "Evaluations on test data:\n",
            "{\n",
            "    \"accuracy\": 0.6466546703746114,\n",
            "    \"balanced_accuracy\": 0.5483951943900663,\n",
            "    \"mcc\": 0.430211010537751\n",
            "}\n"
          ]
        },
        {
          "data": {
            "text/plain": [
              "{'accuracy': 0.6466546703746114,\n",
              " 'balanced_accuracy': 0.5483951943900663,\n",
              " 'mcc': 0.430211010537751}"
            ]
          },
          "execution_count": 131,
          "metadata": {},
          "output_type": "execute_result"
        }
      ],
      "source": [
        "predictor.evaluate(test)"
      ]
    },
    {
      "cell_type": "markdown",
      "metadata": {
        "id": "pT8XQm6JoVEZ"
      },
      "source": [
        "## Feature importance"
      ]
    },
    {
      "cell_type": "code",
      "execution_count": null,
      "metadata": {
        "colab": {
          "base_uri": "https://localhost:8080/",
          "height": 512
        },
        "id": "ne3Pf-NroVEZ",
        "outputId": "d7d9a07b-15b0-4f4e-ac58-d7cc5ad100db"
      },
      "outputs": [
        {
          "name": "stderr",
          "output_type": "stream",
          "text": [
            "Computing feature importance via permutation shuffling for 13 features using 1000 rows with 3 shuffle sets...\n",
            "\t217.08s\t= Expected runtime (72.36s per shuffle set)\n",
            "\t177.64s\t= Actual runtime (Completed 3 of 3 shuffle sets)\n"
          ]
        },
        {
          "data": {
            "text/html": [
              "\n",
              "  <div id=\"df-f00350dc-c61d-4e95-a17b-b855ebf79069\">\n",
              "    <div class=\"colab-df-container\">\n",
              "      <div>\n",
              "<style scoped>\n",
              "    .dataframe tbody tr th:only-of-type {\n",
              "        vertical-align: middle;\n",
              "    }\n",
              "\n",
              "    .dataframe tbody tr th {\n",
              "        vertical-align: top;\n",
              "    }\n",
              "\n",
              "    .dataframe thead th {\n",
              "        text-align: right;\n",
              "    }\n",
              "</style>\n",
              "<table border=\"1\" class=\"dataframe\">\n",
              "  <thead>\n",
              "    <tr style=\"text-align: right;\">\n",
              "      <th></th>\n",
              "      <th>importance</th>\n",
              "      <th>stddev</th>\n",
              "      <th>p_value</th>\n",
              "      <th>n</th>\n",
              "      <th>p99_high</th>\n",
              "      <th>p99_low</th>\n",
              "    </tr>\n",
              "  </thead>\n",
              "  <tbody>\n",
              "    <tr>\n",
              "      <th>named_entities_claim</th>\n",
              "      <td>0.054000</td>\n",
              "      <td>0.007810</td>\n",
              "      <td>0.003450</td>\n",
              "      <td>3</td>\n",
              "      <td>0.098754</td>\n",
              "      <td>0.009246</td>\n",
              "    </tr>\n",
              "    <tr>\n",
              "      <th>headline</th>\n",
              "      <td>0.019667</td>\n",
              "      <td>0.001528</td>\n",
              "      <td>0.001002</td>\n",
              "      <td>3</td>\n",
              "      <td>0.028420</td>\n",
              "      <td>0.010914</td>\n",
              "    </tr>\n",
              "    <tr>\n",
              "      <th>keywords</th>\n",
              "      <td>0.019000</td>\n",
              "      <td>0.006083</td>\n",
              "      <td>0.016254</td>\n",
              "      <td>3</td>\n",
              "      <td>0.053855</td>\n",
              "      <td>-0.015855</td>\n",
              "    </tr>\n",
              "    <tr>\n",
              "      <th>author</th>\n",
              "      <td>0.014667</td>\n",
              "      <td>0.005132</td>\n",
              "      <td>0.019233</td>\n",
              "      <td>3</td>\n",
              "      <td>0.044071</td>\n",
              "      <td>-0.014738</td>\n",
              "    </tr>\n",
              "    <tr>\n",
              "      <th>politifact</th>\n",
              "      <td>0.014667</td>\n",
              "      <td>0.009018</td>\n",
              "      <td>0.053156</td>\n",
              "      <td>3</td>\n",
              "      <td>0.066344</td>\n",
              "      <td>-0.037010</td>\n",
              "    </tr>\n",
              "    <tr>\n",
              "      <th>text</th>\n",
              "      <td>0.011000</td>\n",
              "      <td>0.006557</td>\n",
              "      <td>0.050427</td>\n",
              "      <td>3</td>\n",
              "      <td>0.048575</td>\n",
              "      <td>-0.026575</td>\n",
              "    </tr>\n",
              "    <tr>\n",
              "      <th>africacheck</th>\n",
              "      <td>0.002333</td>\n",
              "      <td>0.002082</td>\n",
              "      <td>0.095855</td>\n",
              "      <td>3</td>\n",
              "      <td>0.014262</td>\n",
              "      <td>-0.009595</td>\n",
              "    </tr>\n",
              "    <tr>\n",
              "      <th>date</th>\n",
              "      <td>0.001333</td>\n",
              "      <td>0.004726</td>\n",
              "      <td>0.336701</td>\n",
              "      <td>3</td>\n",
              "      <td>0.028413</td>\n",
              "      <td>-0.025746</td>\n",
              "    </tr>\n",
              "    <tr>\n",
              "      <th>named_entities_article</th>\n",
              "      <td>0.000667</td>\n",
              "      <td>0.001155</td>\n",
              "      <td>0.211325</td>\n",
              "      <td>3</td>\n",
              "      <td>0.007283</td>\n",
              "      <td>-0.005950</td>\n",
              "    </tr>\n",
              "    <tr>\n",
              "      <th>snopes</th>\n",
              "      <td>0.000333</td>\n",
              "      <td>0.001528</td>\n",
              "      <td>0.370901</td>\n",
              "      <td>3</td>\n",
              "      <td>0.009086</td>\n",
              "      <td>-0.008420</td>\n",
              "    </tr>\n",
              "    <tr>\n",
              "      <th>factscan</th>\n",
              "      <td>0.000333</td>\n",
              "      <td>0.000577</td>\n",
              "      <td>0.211325</td>\n",
              "      <td>3</td>\n",
              "      <td>0.003642</td>\n",
              "      <td>-0.002975</td>\n",
              "    </tr>\n",
              "    <tr>\n",
              "      <th>checkyourfact</th>\n",
              "      <td>0.000000</td>\n",
              "      <td>0.000000</td>\n",
              "      <td>0.500000</td>\n",
              "      <td>3</td>\n",
              "      <td>0.000000</td>\n",
              "      <td>0.000000</td>\n",
              "    </tr>\n",
              "    <tr>\n",
              "      <th>truthorfiction</th>\n",
              "      <td>-0.000667</td>\n",
              "      <td>0.001155</td>\n",
              "      <td>0.788675</td>\n",
              "      <td>3</td>\n",
              "      <td>0.005950</td>\n",
              "      <td>-0.007283</td>\n",
              "    </tr>\n",
              "  </tbody>\n",
              "</table>\n",
              "</div>\n",
              "      <button class=\"colab-df-convert\" onclick=\"convertToInteractive('df-f00350dc-c61d-4e95-a17b-b855ebf79069')\"\n",
              "              title=\"Convert this dataframe to an interactive table.\"\n",
              "              style=\"display:none;\">\n",
              "        \n",
              "  <svg xmlns=\"http://www.w3.org/2000/svg\" height=\"24px\"viewBox=\"0 0 24 24\"\n",
              "       width=\"24px\">\n",
              "    <path d=\"M0 0h24v24H0V0z\" fill=\"none\"/>\n",
              "    <path d=\"M18.56 5.44l.94 2.06.94-2.06 2.06-.94-2.06-.94-.94-2.06-.94 2.06-2.06.94zm-11 1L8.5 8.5l.94-2.06 2.06-.94-2.06-.94L8.5 2.5l-.94 2.06-2.06.94zm10 10l.94 2.06.94-2.06 2.06-.94-2.06-.94-.94-2.06-.94 2.06-2.06.94z\"/><path d=\"M17.41 7.96l-1.37-1.37c-.4-.4-.92-.59-1.43-.59-.52 0-1.04.2-1.43.59L10.3 9.45l-7.72 7.72c-.78.78-.78 2.05 0 2.83L4 21.41c.39.39.9.59 1.41.59.51 0 1.02-.2 1.41-.59l7.78-7.78 2.81-2.81c.8-.78.8-2.07 0-2.86zM5.41 20L4 18.59l7.72-7.72 1.47 1.35L5.41 20z\"/>\n",
              "  </svg>\n",
              "      </button>\n",
              "      \n",
              "  <style>\n",
              "    .colab-df-container {\n",
              "      display:flex;\n",
              "      flex-wrap:wrap;\n",
              "      gap: 12px;\n",
              "    }\n",
              "\n",
              "    .colab-df-convert {\n",
              "      background-color: #E8F0FE;\n",
              "      border: none;\n",
              "      border-radius: 50%;\n",
              "      cursor: pointer;\n",
              "      display: none;\n",
              "      fill: #1967D2;\n",
              "      height: 32px;\n",
              "      padding: 0 0 0 0;\n",
              "      width: 32px;\n",
              "    }\n",
              "\n",
              "    .colab-df-convert:hover {\n",
              "      background-color: #E2EBFA;\n",
              "      box-shadow: 0px 1px 2px rgba(60, 64, 67, 0.3), 0px 1px 3px 1px rgba(60, 64, 67, 0.15);\n",
              "      fill: #174EA6;\n",
              "    }\n",
              "\n",
              "    [theme=dark] .colab-df-convert {\n",
              "      background-color: #3B4455;\n",
              "      fill: #D2E3FC;\n",
              "    }\n",
              "\n",
              "    [theme=dark] .colab-df-convert:hover {\n",
              "      background-color: #434B5C;\n",
              "      box-shadow: 0px 1px 3px 1px rgba(0, 0, 0, 0.15);\n",
              "      filter: drop-shadow(0px 1px 2px rgba(0, 0, 0, 0.3));\n",
              "      fill: #FFFFFF;\n",
              "    }\n",
              "  </style>\n",
              "\n",
              "      <script>\n",
              "        const buttonEl =\n",
              "          document.querySelector('#df-f00350dc-c61d-4e95-a17b-b855ebf79069 button.colab-df-convert');\n",
              "        buttonEl.style.display =\n",
              "          google.colab.kernel.accessAllowed ? 'block' : 'none';\n",
              "\n",
              "        async function convertToInteractive(key) {\n",
              "          const element = document.querySelector('#df-f00350dc-c61d-4e95-a17b-b855ebf79069');\n",
              "          const dataTable =\n",
              "            await google.colab.kernel.invokeFunction('convertToInteractive',\n",
              "                                                     [key], {});\n",
              "          if (!dataTable) return;\n",
              "\n",
              "          const docLinkHtml = 'Like what you see? Visit the ' +\n",
              "            '<a target=\"_blank\" href=https://colab.research.google.com/notebooks/data_table.ipynb>data table notebook</a>'\n",
              "            + ' to learn more about interactive tables.';\n",
              "          element.innerHTML = '';\n",
              "          dataTable['output_type'] = 'display_data';\n",
              "          await google.colab.output.renderOutput(dataTable, element);\n",
              "          const docLink = document.createElement('div');\n",
              "          docLink.innerHTML = docLinkHtml;\n",
              "          element.appendChild(docLink);\n",
              "        }\n",
              "      </script>\n",
              "    </div>\n",
              "  </div>\n",
              "  "
            ],
            "text/plain": [
              "                        importance    stddev   p_value  n  p99_high   p99_low\n",
              "named_entities_claim      0.054000  0.007810  0.003450  3  0.098754  0.009246\n",
              "headline                  0.019667  0.001528  0.001002  3  0.028420  0.010914\n",
              "keywords                  0.019000  0.006083  0.016254  3  0.053855 -0.015855\n",
              "author                    0.014667  0.005132  0.019233  3  0.044071 -0.014738\n",
              "politifact                0.014667  0.009018  0.053156  3  0.066344 -0.037010\n",
              "text                      0.011000  0.006557  0.050427  3  0.048575 -0.026575\n",
              "africacheck               0.002333  0.002082  0.095855  3  0.014262 -0.009595\n",
              "date                      0.001333  0.004726  0.336701  3  0.028413 -0.025746\n",
              "named_entities_article    0.000667  0.001155  0.211325  3  0.007283 -0.005950\n",
              "snopes                    0.000333  0.001528  0.370901  3  0.009086 -0.008420\n",
              "factscan                  0.000333  0.000577  0.211325  3  0.003642 -0.002975\n",
              "checkyourfact             0.000000  0.000000  0.500000  3  0.000000  0.000000\n",
              "truthorfiction           -0.000667  0.001155  0.788675  3  0.005950 -0.007283"
            ]
          },
          "execution_count": 132,
          "metadata": {},
          "output_type": "execute_result"
        }
      ],
      "source": [
        "feature_importance = predictor.feature_importance(test)\n",
        "feature_importance"
      ]
    },
    {
      "cell_type": "code",
      "execution_count": null,
      "metadata": {
        "colab": {
          "base_uri": "https://localhost:8080/",
          "height": 35
        },
        "id": "GQV957IBoVEZ",
        "outputId": "ce943355-5e0f-4afd-8ca7-c21175e05f13"
      },
      "outputs": [
        {
          "data": {
            "application/vnd.google.colaboratory.intrinsic+json": {
              "type": "string"
            },
            "text/plain": [
              "'LightGBMXT_BAG_L2'"
            ]
          },
          "execution_count": 133,
          "metadata": {},
          "output_type": "execute_result"
        }
      ],
      "source": [
        "predictor.get_model_best()"
      ]
    },
    {
      "cell_type": "markdown",
      "metadata": {
        "id": "K22R9pcfoVEZ"
      },
      "source": [
        "# Results:\n",
        "\n",
        "We can observe that the WeightedEnsemble model (that implements Ensemble Selection) is trained in the stack level 3 can predict our data at the best. A model with “_L3” suffix is a not base model, meaning it depends on other models.\n"
      ]
    },
    {
      "cell_type": "code",
      "execution_count": null,
      "metadata": {
        "id": "CocxG7dioVEa"
      },
      "outputs": [],
      "source": [
        ""
      ]
    }
  ],
  "metadata": {
    "colab": {
      "collapsed_sections": [
        "W_-NzcEy_eQs",
        "t8v063BAQREW",
        "SiP0IDczSN7Y",
        "d3b7KipGcu9L",
        "XSlkzh2OtNMK",
        "INfIDKtknDbx",
        "7Bk1MHvqGx5w"
      ],
      "name": "ClaimsKG.ipynb",
      "provenance": [],
      "include_colab_link": true
    },
    "kernelspec": {
      "display_name": "Python 3",
      "name": "python3"
    },
    "language_info": {
      "name": "python"
    },
    "widgets": {
      "application/vnd.jupyter.widget-state+json": {
        "47b5117dc15848d8b8aafd29360ec597": {
          "model_module": "@jupyter-widgets/controls",
          "model_name": "HBoxModel",
          "model_module_version": "1.5.0",
          "state": {
            "_view_name": "HBoxView",
            "_dom_classes": [],
            "_model_name": "HBoxModel",
            "_view_module": "@jupyter-widgets/controls",
            "_model_module_version": "1.5.0",
            "_view_count": null,
            "_view_module_version": "1.5.0",
            "box_style": "",
            "layout": "IPY_MODEL_9dd803917c854242ae9a1dd0e9c7f240",
            "_model_module": "@jupyter-widgets/controls",
            "children": [
              "IPY_MODEL_c8d0e56055904657a40787ebe0c08e0d",
              "IPY_MODEL_550a04c8847347ef8ba9b9658416da7b",
              "IPY_MODEL_04c253a1c7ec4264a46072a46a652bb2"
            ]
          }
        },
        "9dd803917c854242ae9a1dd0e9c7f240": {
          "model_module": "@jupyter-widgets/base",
          "model_name": "LayoutModel",
          "model_module_version": "1.2.0",
          "state": {
            "_view_name": "LayoutView",
            "grid_template_rows": null,
            "right": null,
            "justify_content": null,
            "_view_module": "@jupyter-widgets/base",
            "overflow": null,
            "_model_module_version": "1.2.0",
            "_view_count": null,
            "flex_flow": null,
            "width": null,
            "min_width": null,
            "border": null,
            "align_items": null,
            "bottom": null,
            "_model_module": "@jupyter-widgets/base",
            "top": null,
            "grid_column": null,
            "overflow_y": null,
            "overflow_x": null,
            "grid_auto_flow": null,
            "grid_area": null,
            "grid_template_columns": null,
            "flex": null,
            "_model_name": "LayoutModel",
            "justify_items": null,
            "grid_row": null,
            "max_height": null,
            "align_content": null,
            "visibility": null,
            "align_self": null,
            "height": null,
            "min_height": null,
            "padding": null,
            "grid_auto_rows": null,
            "grid_gap": null,
            "max_width": null,
            "order": null,
            "_view_module_version": "1.2.0",
            "grid_template_areas": null,
            "object_position": null,
            "object_fit": null,
            "grid_auto_columns": null,
            "margin": null,
            "display": null,
            "left": null
          }
        },
        "c8d0e56055904657a40787ebe0c08e0d": {
          "model_module": "@jupyter-widgets/controls",
          "model_name": "HTMLModel",
          "model_module_version": "1.5.0",
          "state": {
            "_view_name": "HTMLView",
            "style": "IPY_MODEL_63b36022d6544715aa91928e219f71af",
            "_dom_classes": [],
            "description": "",
            "_model_name": "HTMLModel",
            "placeholder": "​",
            "_view_module": "@jupyter-widgets/controls",
            "_model_module_version": "1.5.0",
            "value": "Downloading: 100%",
            "_view_count": null,
            "_view_module_version": "1.5.0",
            "description_tooltip": null,
            "_model_module": "@jupyter-widgets/controls",
            "layout": "IPY_MODEL_5eb85b6123a24e2693b3e606a85d5673"
          }
        },
        "550a04c8847347ef8ba9b9658416da7b": {
          "model_module": "@jupyter-widgets/controls",
          "model_name": "FloatProgressModel",
          "model_module_version": "1.5.0",
          "state": {
            "_view_name": "ProgressView",
            "style": "IPY_MODEL_bbe62b82ff084e6ba88fb61fad82b420",
            "_dom_classes": [],
            "description": "",
            "_model_name": "FloatProgressModel",
            "bar_style": "success",
            "max": 1175,
            "_view_module": "@jupyter-widgets/controls",
            "_model_module_version": "1.5.0",
            "value": 1175,
            "_view_count": null,
            "_view_module_version": "1.5.0",
            "orientation": "horizontal",
            "min": 0,
            "description_tooltip": null,
            "_model_module": "@jupyter-widgets/controls",
            "layout": "IPY_MODEL_358769ff78124b70b9f85a62249a839a"
          }
        },
        "04c253a1c7ec4264a46072a46a652bb2": {
          "model_module": "@jupyter-widgets/controls",
          "model_name": "HTMLModel",
          "model_module_version": "1.5.0",
          "state": {
            "_view_name": "HTMLView",
            "style": "IPY_MODEL_91abee3d0331473a8c6289b7620f1cb9",
            "_dom_classes": [],
            "description": "",
            "_model_name": "HTMLModel",
            "placeholder": "​",
            "_view_module": "@jupyter-widgets/controls",
            "_model_module_version": "1.5.0",
            "value": " 1.18k/1.18k [00:00&lt;00:00, 27.9kB/s]",
            "_view_count": null,
            "_view_module_version": "1.5.0",
            "description_tooltip": null,
            "_model_module": "@jupyter-widgets/controls",
            "layout": "IPY_MODEL_2c334b392581497e8ea143acbd62f4bb"
          }
        },
        "63b36022d6544715aa91928e219f71af": {
          "model_module": "@jupyter-widgets/controls",
          "model_name": "DescriptionStyleModel",
          "model_module_version": "1.5.0",
          "state": {
            "_view_name": "StyleView",
            "_model_name": "DescriptionStyleModel",
            "description_width": "",
            "_view_module": "@jupyter-widgets/base",
            "_model_module_version": "1.5.0",
            "_view_count": null,
            "_view_module_version": "1.2.0",
            "_model_module": "@jupyter-widgets/controls"
          }
        },
        "5eb85b6123a24e2693b3e606a85d5673": {
          "model_module": "@jupyter-widgets/base",
          "model_name": "LayoutModel",
          "model_module_version": "1.2.0",
          "state": {
            "_view_name": "LayoutView",
            "grid_template_rows": null,
            "right": null,
            "justify_content": null,
            "_view_module": "@jupyter-widgets/base",
            "overflow": null,
            "_model_module_version": "1.2.0",
            "_view_count": null,
            "flex_flow": null,
            "width": null,
            "min_width": null,
            "border": null,
            "align_items": null,
            "bottom": null,
            "_model_module": "@jupyter-widgets/base",
            "top": null,
            "grid_column": null,
            "overflow_y": null,
            "overflow_x": null,
            "grid_auto_flow": null,
            "grid_area": null,
            "grid_template_columns": null,
            "flex": null,
            "_model_name": "LayoutModel",
            "justify_items": null,
            "grid_row": null,
            "max_height": null,
            "align_content": null,
            "visibility": null,
            "align_self": null,
            "height": null,
            "min_height": null,
            "padding": null,
            "grid_auto_rows": null,
            "grid_gap": null,
            "max_width": null,
            "order": null,
            "_view_module_version": "1.2.0",
            "grid_template_areas": null,
            "object_position": null,
            "object_fit": null,
            "grid_auto_columns": null,
            "margin": null,
            "display": null,
            "left": null
          }
        },
        "bbe62b82ff084e6ba88fb61fad82b420": {
          "model_module": "@jupyter-widgets/controls",
          "model_name": "ProgressStyleModel",
          "model_module_version": "1.5.0",
          "state": {
            "_view_name": "StyleView",
            "_model_name": "ProgressStyleModel",
            "description_width": "",
            "_view_module": "@jupyter-widgets/base",
            "_model_module_version": "1.5.0",
            "_view_count": null,
            "_view_module_version": "1.2.0",
            "bar_color": null,
            "_model_module": "@jupyter-widgets/controls"
          }
        },
        "358769ff78124b70b9f85a62249a839a": {
          "model_module": "@jupyter-widgets/base",
          "model_name": "LayoutModel",
          "model_module_version": "1.2.0",
          "state": {
            "_view_name": "LayoutView",
            "grid_template_rows": null,
            "right": null,
            "justify_content": null,
            "_view_module": "@jupyter-widgets/base",
            "overflow": null,
            "_model_module_version": "1.2.0",
            "_view_count": null,
            "flex_flow": null,
            "width": null,
            "min_width": null,
            "border": null,
            "align_items": null,
            "bottom": null,
            "_model_module": "@jupyter-widgets/base",
            "top": null,
            "grid_column": null,
            "overflow_y": null,
            "overflow_x": null,
            "grid_auto_flow": null,
            "grid_area": null,
            "grid_template_columns": null,
            "flex": null,
            "_model_name": "LayoutModel",
            "justify_items": null,
            "grid_row": null,
            "max_height": null,
            "align_content": null,
            "visibility": null,
            "align_self": null,
            "height": null,
            "min_height": null,
            "padding": null,
            "grid_auto_rows": null,
            "grid_gap": null,
            "max_width": null,
            "order": null,
            "_view_module_version": "1.2.0",
            "grid_template_areas": null,
            "object_position": null,
            "object_fit": null,
            "grid_auto_columns": null,
            "margin": null,
            "display": null,
            "left": null
          }
        },
        "91abee3d0331473a8c6289b7620f1cb9": {
          "model_module": "@jupyter-widgets/controls",
          "model_name": "DescriptionStyleModel",
          "model_module_version": "1.5.0",
          "state": {
            "_view_name": "StyleView",
            "_model_name": "DescriptionStyleModel",
            "description_width": "",
            "_view_module": "@jupyter-widgets/base",
            "_model_module_version": "1.5.0",
            "_view_count": null,
            "_view_module_version": "1.2.0",
            "_model_module": "@jupyter-widgets/controls"
          }
        },
        "2c334b392581497e8ea143acbd62f4bb": {
          "model_module": "@jupyter-widgets/base",
          "model_name": "LayoutModel",
          "model_module_version": "1.2.0",
          "state": {
            "_view_name": "LayoutView",
            "grid_template_rows": null,
            "right": null,
            "justify_content": null,
            "_view_module": "@jupyter-widgets/base",
            "overflow": null,
            "_model_module_version": "1.2.0",
            "_view_count": null,
            "flex_flow": null,
            "width": null,
            "min_width": null,
            "border": null,
            "align_items": null,
            "bottom": null,
            "_model_module": "@jupyter-widgets/base",
            "top": null,
            "grid_column": null,
            "overflow_y": null,
            "overflow_x": null,
            "grid_auto_flow": null,
            "grid_area": null,
            "grid_template_columns": null,
            "flex": null,
            "_model_name": "LayoutModel",
            "justify_items": null,
            "grid_row": null,
            "max_height": null,
            "align_content": null,
            "visibility": null,
            "align_self": null,
            "height": null,
            "min_height": null,
            "padding": null,
            "grid_auto_rows": null,
            "grid_gap": null,
            "max_width": null,
            "order": null,
            "_view_module_version": "1.2.0",
            "grid_template_areas": null,
            "object_position": null,
            "object_fit": null,
            "grid_auto_columns": null,
            "margin": null,
            "display": null,
            "left": null
          }
        },
        "a694c9261b244fd3af0652460a571680": {
          "model_module": "@jupyter-widgets/controls",
          "model_name": "HBoxModel",
          "model_module_version": "1.5.0",
          "state": {
            "_view_name": "HBoxView",
            "_dom_classes": [],
            "_model_name": "HBoxModel",
            "_view_module": "@jupyter-widgets/controls",
            "_model_module_version": "1.5.0",
            "_view_count": null,
            "_view_module_version": "1.5.0",
            "box_style": "",
            "layout": "IPY_MODEL_2b94be82883d440fa33945910fddec70",
            "_model_module": "@jupyter-widgets/controls",
            "children": [
              "IPY_MODEL_065ab6aef36b48f98326713736a52b87",
              "IPY_MODEL_9bd1d9aeb6a349fda5901629c8d0c175",
              "IPY_MODEL_3c968f19a6244d4a9f8ad04b80530c95"
            ]
          }
        },
        "2b94be82883d440fa33945910fddec70": {
          "model_module": "@jupyter-widgets/base",
          "model_name": "LayoutModel",
          "model_module_version": "1.2.0",
          "state": {
            "_view_name": "LayoutView",
            "grid_template_rows": null,
            "right": null,
            "justify_content": null,
            "_view_module": "@jupyter-widgets/base",
            "overflow": null,
            "_model_module_version": "1.2.0",
            "_view_count": null,
            "flex_flow": null,
            "width": null,
            "min_width": null,
            "border": null,
            "align_items": null,
            "bottom": null,
            "_model_module": "@jupyter-widgets/base",
            "top": null,
            "grid_column": null,
            "overflow_y": null,
            "overflow_x": null,
            "grid_auto_flow": null,
            "grid_area": null,
            "grid_template_columns": null,
            "flex": null,
            "_model_name": "LayoutModel",
            "justify_items": null,
            "grid_row": null,
            "max_height": null,
            "align_content": null,
            "visibility": null,
            "align_self": null,
            "height": null,
            "min_height": null,
            "padding": null,
            "grid_auto_rows": null,
            "grid_gap": null,
            "max_width": null,
            "order": null,
            "_view_module_version": "1.2.0",
            "grid_template_areas": null,
            "object_position": null,
            "object_fit": null,
            "grid_auto_columns": null,
            "margin": null,
            "display": null,
            "left": null
          }
        },
        "065ab6aef36b48f98326713736a52b87": {
          "model_module": "@jupyter-widgets/controls",
          "model_name": "HTMLModel",
          "model_module_version": "1.5.0",
          "state": {
            "_view_name": "HTMLView",
            "style": "IPY_MODEL_f4fa5b870ae74be596862be69a76d7fa",
            "_dom_classes": [],
            "description": "",
            "_model_name": "HTMLModel",
            "placeholder": "​",
            "_view_module": "@jupyter-widgets/controls",
            "_model_module_version": "1.5.0",
            "value": "Downloading: 100%",
            "_view_count": null,
            "_view_module_version": "1.5.0",
            "description_tooltip": null,
            "_model_module": "@jupyter-widgets/controls",
            "layout": "IPY_MODEL_13494482579e48e0a4535fce21c1cfbd"
          }
        },
        "9bd1d9aeb6a349fda5901629c8d0c175": {
          "model_module": "@jupyter-widgets/controls",
          "model_name": "FloatProgressModel",
          "model_module_version": "1.5.0",
          "state": {
            "_view_name": "ProgressView",
            "style": "IPY_MODEL_553d22dbd6a047a1b608c8af7d6911bf",
            "_dom_classes": [],
            "description": "",
            "_model_name": "FloatProgressModel",
            "bar_style": "success",
            "max": 10177,
            "_view_module": "@jupyter-widgets/controls",
            "_model_module_version": "1.5.0",
            "value": 10177,
            "_view_count": null,
            "_view_module_version": "1.5.0",
            "orientation": "horizontal",
            "min": 0,
            "description_tooltip": null,
            "_model_module": "@jupyter-widgets/controls",
            "layout": "IPY_MODEL_f0aad234327b45fe8d0f45e89763aff5"
          }
        },
        "3c968f19a6244d4a9f8ad04b80530c95": {
          "model_module": "@jupyter-widgets/controls",
          "model_name": "HTMLModel",
          "model_module_version": "1.5.0",
          "state": {
            "_view_name": "HTMLView",
            "style": "IPY_MODEL_c16c6477d1814cd7b5571a7b1a34b8ff",
            "_dom_classes": [],
            "description": "",
            "_model_name": "HTMLModel",
            "placeholder": "​",
            "_view_module": "@jupyter-widgets/controls",
            "_model_module_version": "1.5.0",
            "value": " 10.2k/10.2k [00:00&lt;00:00, 274kB/s]",
            "_view_count": null,
            "_view_module_version": "1.5.0",
            "description_tooltip": null,
            "_model_module": "@jupyter-widgets/controls",
            "layout": "IPY_MODEL_af96a1f73aaf45ccbcea14f4d655850b"
          }
        },
        "f4fa5b870ae74be596862be69a76d7fa": {
          "model_module": "@jupyter-widgets/controls",
          "model_name": "DescriptionStyleModel",
          "model_module_version": "1.5.0",
          "state": {
            "_view_name": "StyleView",
            "_model_name": "DescriptionStyleModel",
            "description_width": "",
            "_view_module": "@jupyter-widgets/base",
            "_model_module_version": "1.5.0",
            "_view_count": null,
            "_view_module_version": "1.2.0",
            "_model_module": "@jupyter-widgets/controls"
          }
        },
        "13494482579e48e0a4535fce21c1cfbd": {
          "model_module": "@jupyter-widgets/base",
          "model_name": "LayoutModel",
          "model_module_version": "1.2.0",
          "state": {
            "_view_name": "LayoutView",
            "grid_template_rows": null,
            "right": null,
            "justify_content": null,
            "_view_module": "@jupyter-widgets/base",
            "overflow": null,
            "_model_module_version": "1.2.0",
            "_view_count": null,
            "flex_flow": null,
            "width": null,
            "min_width": null,
            "border": null,
            "align_items": null,
            "bottom": null,
            "_model_module": "@jupyter-widgets/base",
            "top": null,
            "grid_column": null,
            "overflow_y": null,
            "overflow_x": null,
            "grid_auto_flow": null,
            "grid_area": null,
            "grid_template_columns": null,
            "flex": null,
            "_model_name": "LayoutModel",
            "justify_items": null,
            "grid_row": null,
            "max_height": null,
            "align_content": null,
            "visibility": null,
            "align_self": null,
            "height": null,
            "min_height": null,
            "padding": null,
            "grid_auto_rows": null,
            "grid_gap": null,
            "max_width": null,
            "order": null,
            "_view_module_version": "1.2.0",
            "grid_template_areas": null,
            "object_position": null,
            "object_fit": null,
            "grid_auto_columns": null,
            "margin": null,
            "display": null,
            "left": null
          }
        },
        "553d22dbd6a047a1b608c8af7d6911bf": {
          "model_module": "@jupyter-widgets/controls",
          "model_name": "ProgressStyleModel",
          "model_module_version": "1.5.0",
          "state": {
            "_view_name": "StyleView",
            "_model_name": "ProgressStyleModel",
            "description_width": "",
            "_view_module": "@jupyter-widgets/base",
            "_model_module_version": "1.5.0",
            "_view_count": null,
            "_view_module_version": "1.2.0",
            "bar_color": null,
            "_model_module": "@jupyter-widgets/controls"
          }
        },
        "f0aad234327b45fe8d0f45e89763aff5": {
          "model_module": "@jupyter-widgets/base",
          "model_name": "LayoutModel",
          "model_module_version": "1.2.0",
          "state": {
            "_view_name": "LayoutView",
            "grid_template_rows": null,
            "right": null,
            "justify_content": null,
            "_view_module": "@jupyter-widgets/base",
            "overflow": null,
            "_model_module_version": "1.2.0",
            "_view_count": null,
            "flex_flow": null,
            "width": null,
            "min_width": null,
            "border": null,
            "align_items": null,
            "bottom": null,
            "_model_module": "@jupyter-widgets/base",
            "top": null,
            "grid_column": null,
            "overflow_y": null,
            "overflow_x": null,
            "grid_auto_flow": null,
            "grid_area": null,
            "grid_template_columns": null,
            "flex": null,
            "_model_name": "LayoutModel",
            "justify_items": null,
            "grid_row": null,
            "max_height": null,
            "align_content": null,
            "visibility": null,
            "align_self": null,
            "height": null,
            "min_height": null,
            "padding": null,
            "grid_auto_rows": null,
            "grid_gap": null,
            "max_width": null,
            "order": null,
            "_view_module_version": "1.2.0",
            "grid_template_areas": null,
            "object_position": null,
            "object_fit": null,
            "grid_auto_columns": null,
            "margin": null,
            "display": null,
            "left": null
          }
        },
        "c16c6477d1814cd7b5571a7b1a34b8ff": {
          "model_module": "@jupyter-widgets/controls",
          "model_name": "DescriptionStyleModel",
          "model_module_version": "1.5.0",
          "state": {
            "_view_name": "StyleView",
            "_model_name": "DescriptionStyleModel",
            "description_width": "",
            "_view_module": "@jupyter-widgets/base",
            "_model_module_version": "1.5.0",
            "_view_count": null,
            "_view_module_version": "1.2.0",
            "_model_module": "@jupyter-widgets/controls"
          }
        },
        "af96a1f73aaf45ccbcea14f4d655850b": {
          "model_module": "@jupyter-widgets/base",
          "model_name": "LayoutModel",
          "model_module_version": "1.2.0",
          "state": {
            "_view_name": "LayoutView",
            "grid_template_rows": null,
            "right": null,
            "justify_content": null,
            "_view_module": "@jupyter-widgets/base",
            "overflow": null,
            "_model_module_version": "1.2.0",
            "_view_count": null,
            "flex_flow": null,
            "width": null,
            "min_width": null,
            "border": null,
            "align_items": null,
            "bottom": null,
            "_model_module": "@jupyter-widgets/base",
            "top": null,
            "grid_column": null,
            "overflow_y": null,
            "overflow_x": null,
            "grid_auto_flow": null,
            "grid_area": null,
            "grid_template_columns": null,
            "flex": null,
            "_model_name": "LayoutModel",
            "justify_items": null,
            "grid_row": null,
            "max_height": null,
            "align_content": null,
            "visibility": null,
            "align_self": null,
            "height": null,
            "min_height": null,
            "padding": null,
            "grid_auto_rows": null,
            "grid_gap": null,
            "max_width": null,
            "order": null,
            "_view_module_version": "1.2.0",
            "grid_template_areas": null,
            "object_position": null,
            "object_fit": null,
            "grid_auto_columns": null,
            "margin": null,
            "display": null,
            "left": null
          }
        },
        "281eb36b581848dca0c599505767431c": {
          "model_module": "@jupyter-widgets/controls",
          "model_name": "HBoxModel",
          "model_module_version": "1.5.0",
          "state": {
            "_view_name": "HBoxView",
            "_dom_classes": [],
            "_model_name": "HBoxModel",
            "_view_module": "@jupyter-widgets/controls",
            "_model_module_version": "1.5.0",
            "_view_count": null,
            "_view_module_version": "1.5.0",
            "box_style": "",
            "layout": "IPY_MODEL_4fdba151ba924fb2b02381e3e058a5c0",
            "_model_module": "@jupyter-widgets/controls",
            "children": [
              "IPY_MODEL_b45f4261d7a94eb986c74ef1be8ab88d",
              "IPY_MODEL_ca043dd48c1d40599516053ff77be0e3",
              "IPY_MODEL_f0c42279f61c452080c063e7cf63f3bd"
            ]
          }
        },
        "4fdba151ba924fb2b02381e3e058a5c0": {
          "model_module": "@jupyter-widgets/base",
          "model_name": "LayoutModel",
          "model_module_version": "1.2.0",
          "state": {
            "_view_name": "LayoutView",
            "grid_template_rows": null,
            "right": null,
            "justify_content": null,
            "_view_module": "@jupyter-widgets/base",
            "overflow": null,
            "_model_module_version": "1.2.0",
            "_view_count": null,
            "flex_flow": null,
            "width": null,
            "min_width": null,
            "border": null,
            "align_items": null,
            "bottom": null,
            "_model_module": "@jupyter-widgets/base",
            "top": null,
            "grid_column": null,
            "overflow_y": null,
            "overflow_x": null,
            "grid_auto_flow": null,
            "grid_area": null,
            "grid_template_columns": null,
            "flex": null,
            "_model_name": "LayoutModel",
            "justify_items": null,
            "grid_row": null,
            "max_height": null,
            "align_content": null,
            "visibility": null,
            "align_self": null,
            "height": null,
            "min_height": null,
            "padding": null,
            "grid_auto_rows": null,
            "grid_gap": null,
            "max_width": null,
            "order": null,
            "_view_module_version": "1.2.0",
            "grid_template_areas": null,
            "object_position": null,
            "object_fit": null,
            "grid_auto_columns": null,
            "margin": null,
            "display": null,
            "left": null
          }
        },
        "b45f4261d7a94eb986c74ef1be8ab88d": {
          "model_module": "@jupyter-widgets/controls",
          "model_name": "HTMLModel",
          "model_module_version": "1.5.0",
          "state": {
            "_view_name": "HTMLView",
            "style": "IPY_MODEL_1d18d7d799ad4c359a5cf0c707dc5186",
            "_dom_classes": [],
            "description": "",
            "_model_name": "HTMLModel",
            "placeholder": "​",
            "_view_module": "@jupyter-widgets/controls",
            "_model_module_version": "1.5.0",
            "value": "Downloading: 100%",
            "_view_count": null,
            "_view_module_version": "1.5.0",
            "description_tooltip": null,
            "_model_module": "@jupyter-widgets/controls",
            "layout": "IPY_MODEL_f54050a3398f479aaee23a132f78cd90"
          }
        },
        "ca043dd48c1d40599516053ff77be0e3": {
          "model_module": "@jupyter-widgets/controls",
          "model_name": "FloatProgressModel",
          "model_module_version": "1.5.0",
          "state": {
            "_view_name": "ProgressView",
            "style": "IPY_MODEL_1ebacabdb7914dfbab527bb5aba9556c",
            "_dom_classes": [],
            "description": "",
            "_model_name": "FloatProgressModel",
            "bar_style": "success",
            "max": 612,
            "_view_module": "@jupyter-widgets/controls",
            "_model_module_version": "1.5.0",
            "value": 612,
            "_view_count": null,
            "_view_module_version": "1.5.0",
            "orientation": "horizontal",
            "min": 0,
            "description_tooltip": null,
            "_model_module": "@jupyter-widgets/controls",
            "layout": "IPY_MODEL_36391c2cc0e94f3e9e01d96fe585bfc1"
          }
        },
        "f0c42279f61c452080c063e7cf63f3bd": {
          "model_module": "@jupyter-widgets/controls",
          "model_name": "HTMLModel",
          "model_module_version": "1.5.0",
          "state": {
            "_view_name": "HTMLView",
            "style": "IPY_MODEL_04fb9428dc814b99b4c5bbde1e3555f4",
            "_dom_classes": [],
            "description": "",
            "_model_name": "HTMLModel",
            "placeholder": "​",
            "_view_module": "@jupyter-widgets/controls",
            "_model_module_version": "1.5.0",
            "value": " 612/612 [00:00&lt;00:00, 14.8kB/s]",
            "_view_count": null,
            "_view_module_version": "1.5.0",
            "description_tooltip": null,
            "_model_module": "@jupyter-widgets/controls",
            "layout": "IPY_MODEL_cb825965ec784bb2a0b62ba8449f3835"
          }
        },
        "1d18d7d799ad4c359a5cf0c707dc5186": {
          "model_module": "@jupyter-widgets/controls",
          "model_name": "DescriptionStyleModel",
          "model_module_version": "1.5.0",
          "state": {
            "_view_name": "StyleView",
            "_model_name": "DescriptionStyleModel",
            "description_width": "",
            "_view_module": "@jupyter-widgets/base",
            "_model_module_version": "1.5.0",
            "_view_count": null,
            "_view_module_version": "1.2.0",
            "_model_module": "@jupyter-widgets/controls"
          }
        },
        "f54050a3398f479aaee23a132f78cd90": {
          "model_module": "@jupyter-widgets/base",
          "model_name": "LayoutModel",
          "model_module_version": "1.2.0",
          "state": {
            "_view_name": "LayoutView",
            "grid_template_rows": null,
            "right": null,
            "justify_content": null,
            "_view_module": "@jupyter-widgets/base",
            "overflow": null,
            "_model_module_version": "1.2.0",
            "_view_count": null,
            "flex_flow": null,
            "width": null,
            "min_width": null,
            "border": null,
            "align_items": null,
            "bottom": null,
            "_model_module": "@jupyter-widgets/base",
            "top": null,
            "grid_column": null,
            "overflow_y": null,
            "overflow_x": null,
            "grid_auto_flow": null,
            "grid_area": null,
            "grid_template_columns": null,
            "flex": null,
            "_model_name": "LayoutModel",
            "justify_items": null,
            "grid_row": null,
            "max_height": null,
            "align_content": null,
            "visibility": null,
            "align_self": null,
            "height": null,
            "min_height": null,
            "padding": null,
            "grid_auto_rows": null,
            "grid_gap": null,
            "max_width": null,
            "order": null,
            "_view_module_version": "1.2.0",
            "grid_template_areas": null,
            "object_position": null,
            "object_fit": null,
            "grid_auto_columns": null,
            "margin": null,
            "display": null,
            "left": null
          }
        },
        "1ebacabdb7914dfbab527bb5aba9556c": {
          "model_module": "@jupyter-widgets/controls",
          "model_name": "ProgressStyleModel",
          "model_module_version": "1.5.0",
          "state": {
            "_view_name": "StyleView",
            "_model_name": "ProgressStyleModel",
            "description_width": "",
            "_view_module": "@jupyter-widgets/base",
            "_model_module_version": "1.5.0",
            "_view_count": null,
            "_view_module_version": "1.2.0",
            "bar_color": null,
            "_model_module": "@jupyter-widgets/controls"
          }
        },
        "36391c2cc0e94f3e9e01d96fe585bfc1": {
          "model_module": "@jupyter-widgets/base",
          "model_name": "LayoutModel",
          "model_module_version": "1.2.0",
          "state": {
            "_view_name": "LayoutView",
            "grid_template_rows": null,
            "right": null,
            "justify_content": null,
            "_view_module": "@jupyter-widgets/base",
            "overflow": null,
            "_model_module_version": "1.2.0",
            "_view_count": null,
            "flex_flow": null,
            "width": null,
            "min_width": null,
            "border": null,
            "align_items": null,
            "bottom": null,
            "_model_module": "@jupyter-widgets/base",
            "top": null,
            "grid_column": null,
            "overflow_y": null,
            "overflow_x": null,
            "grid_auto_flow": null,
            "grid_area": null,
            "grid_template_columns": null,
            "flex": null,
            "_model_name": "LayoutModel",
            "justify_items": null,
            "grid_row": null,
            "max_height": null,
            "align_content": null,
            "visibility": null,
            "align_self": null,
            "height": null,
            "min_height": null,
            "padding": null,
            "grid_auto_rows": null,
            "grid_gap": null,
            "max_width": null,
            "order": null,
            "_view_module_version": "1.2.0",
            "grid_template_areas": null,
            "object_position": null,
            "object_fit": null,
            "grid_auto_columns": null,
            "margin": null,
            "display": null,
            "left": null
          }
        },
        "04fb9428dc814b99b4c5bbde1e3555f4": {
          "model_module": "@jupyter-widgets/controls",
          "model_name": "DescriptionStyleModel",
          "model_module_version": "1.5.0",
          "state": {
            "_view_name": "StyleView",
            "_model_name": "DescriptionStyleModel",
            "description_width": "",
            "_view_module": "@jupyter-widgets/base",
            "_model_module_version": "1.5.0",
            "_view_count": null,
            "_view_module_version": "1.2.0",
            "_model_module": "@jupyter-widgets/controls"
          }
        },
        "cb825965ec784bb2a0b62ba8449f3835": {
          "model_module": "@jupyter-widgets/base",
          "model_name": "LayoutModel",
          "model_module_version": "1.2.0",
          "state": {
            "_view_name": "LayoutView",
            "grid_template_rows": null,
            "right": null,
            "justify_content": null,
            "_view_module": "@jupyter-widgets/base",
            "overflow": null,
            "_model_module_version": "1.2.0",
            "_view_count": null,
            "flex_flow": null,
            "width": null,
            "min_width": null,
            "border": null,
            "align_items": null,
            "bottom": null,
            "_model_module": "@jupyter-widgets/base",
            "top": null,
            "grid_column": null,
            "overflow_y": null,
            "overflow_x": null,
            "grid_auto_flow": null,
            "grid_area": null,
            "grid_template_columns": null,
            "flex": null,
            "_model_name": "LayoutModel",
            "justify_items": null,
            "grid_row": null,
            "max_height": null,
            "align_content": null,
            "visibility": null,
            "align_self": null,
            "height": null,
            "min_height": null,
            "padding": null,
            "grid_auto_rows": null,
            "grid_gap": null,
            "max_width": null,
            "order": null,
            "_view_module_version": "1.2.0",
            "grid_template_areas": null,
            "object_position": null,
            "object_fit": null,
            "grid_auto_columns": null,
            "margin": null,
            "display": null,
            "left": null
          }
        },
        "d3277d49ee3641e18037bacac91e3846": {
          "model_module": "@jupyter-widgets/controls",
          "model_name": "HBoxModel",
          "model_module_version": "1.5.0",
          "state": {
            "_view_name": "HBoxView",
            "_dom_classes": [],
            "_model_name": "HBoxModel",
            "_view_module": "@jupyter-widgets/controls",
            "_model_module_version": "1.5.0",
            "_view_count": null,
            "_view_module_version": "1.5.0",
            "box_style": "",
            "layout": "IPY_MODEL_ab146eb2f90e4afc88dcf28926d73d1c",
            "_model_module": "@jupyter-widgets/controls",
            "children": [
              "IPY_MODEL_31d2a0d647114452ba92cf57aea8d749",
              "IPY_MODEL_fd6f0d96bf724a15a55533b506e18090",
              "IPY_MODEL_96a34ac9a0ec46e3a1b4af86ed41a201"
            ]
          }
        },
        "ab146eb2f90e4afc88dcf28926d73d1c": {
          "model_module": "@jupyter-widgets/base",
          "model_name": "LayoutModel",
          "model_module_version": "1.2.0",
          "state": {
            "_view_name": "LayoutView",
            "grid_template_rows": null,
            "right": null,
            "justify_content": null,
            "_view_module": "@jupyter-widgets/base",
            "overflow": null,
            "_model_module_version": "1.2.0",
            "_view_count": null,
            "flex_flow": null,
            "width": null,
            "min_width": null,
            "border": null,
            "align_items": null,
            "bottom": null,
            "_model_module": "@jupyter-widgets/base",
            "top": null,
            "grid_column": null,
            "overflow_y": null,
            "overflow_x": null,
            "grid_auto_flow": null,
            "grid_area": null,
            "grid_template_columns": null,
            "flex": null,
            "_model_name": "LayoutModel",
            "justify_items": null,
            "grid_row": null,
            "max_height": null,
            "align_content": null,
            "visibility": null,
            "align_self": null,
            "height": null,
            "min_height": null,
            "padding": null,
            "grid_auto_rows": null,
            "grid_gap": null,
            "max_width": null,
            "order": null,
            "_view_module_version": "1.2.0",
            "grid_template_areas": null,
            "object_position": null,
            "object_fit": null,
            "grid_auto_columns": null,
            "margin": null,
            "display": null,
            "left": null
          }
        },
        "31d2a0d647114452ba92cf57aea8d749": {
          "model_module": "@jupyter-widgets/controls",
          "model_name": "HTMLModel",
          "model_module_version": "1.5.0",
          "state": {
            "_view_name": "HTMLView",
            "style": "IPY_MODEL_0ccbc257386f4f77a6b91bdf6f500943",
            "_dom_classes": [],
            "description": "",
            "_model_name": "HTMLModel",
            "placeholder": "​",
            "_view_module": "@jupyter-widgets/controls",
            "_model_module_version": "1.5.0",
            "value": "Downloading: 100%",
            "_view_count": null,
            "_view_module_version": "1.5.0",
            "description_tooltip": null,
            "_model_module": "@jupyter-widgets/controls",
            "layout": "IPY_MODEL_b1a50d101c5340d3bea0b7bf2be642cb"
          }
        },
        "fd6f0d96bf724a15a55533b506e18090": {
          "model_module": "@jupyter-widgets/controls",
          "model_name": "FloatProgressModel",
          "model_module_version": "1.5.0",
          "state": {
            "_view_name": "ProgressView",
            "style": "IPY_MODEL_12ccb258012a45948cad35b6afb2d694",
            "_dom_classes": [],
            "description": "",
            "_model_name": "FloatProgressModel",
            "bar_style": "success",
            "max": 116,
            "_view_module": "@jupyter-widgets/controls",
            "_model_module_version": "1.5.0",
            "value": 116,
            "_view_count": null,
            "_view_module_version": "1.5.0",
            "orientation": "horizontal",
            "min": 0,
            "description_tooltip": null,
            "_model_module": "@jupyter-widgets/controls",
            "layout": "IPY_MODEL_00adfa3f2a414680a527b1c19511f39d"
          }
        },
        "96a34ac9a0ec46e3a1b4af86ed41a201": {
          "model_module": "@jupyter-widgets/controls",
          "model_name": "HTMLModel",
          "model_module_version": "1.5.0",
          "state": {
            "_view_name": "HTMLView",
            "style": "IPY_MODEL_de83fb5e48a14ad8812413783b82a32b",
            "_dom_classes": [],
            "description": "",
            "_model_name": "HTMLModel",
            "placeholder": "​",
            "_view_module": "@jupyter-widgets/controls",
            "_model_module_version": "1.5.0",
            "value": " 116/116 [00:00&lt;00:00, 2.24kB/s]",
            "_view_count": null,
            "_view_module_version": "1.5.0",
            "description_tooltip": null,
            "_model_module": "@jupyter-widgets/controls",
            "layout": "IPY_MODEL_3c64b1f747cf48aab8dc254b07a06e01"
          }
        },
        "0ccbc257386f4f77a6b91bdf6f500943": {
          "model_module": "@jupyter-widgets/controls",
          "model_name": "DescriptionStyleModel",
          "model_module_version": "1.5.0",
          "state": {
            "_view_name": "StyleView",
            "_model_name": "DescriptionStyleModel",
            "description_width": "",
            "_view_module": "@jupyter-widgets/base",
            "_model_module_version": "1.5.0",
            "_view_count": null,
            "_view_module_version": "1.2.0",
            "_model_module": "@jupyter-widgets/controls"
          }
        },
        "b1a50d101c5340d3bea0b7bf2be642cb": {
          "model_module": "@jupyter-widgets/base",
          "model_name": "LayoutModel",
          "model_module_version": "1.2.0",
          "state": {
            "_view_name": "LayoutView",
            "grid_template_rows": null,
            "right": null,
            "justify_content": null,
            "_view_module": "@jupyter-widgets/base",
            "overflow": null,
            "_model_module_version": "1.2.0",
            "_view_count": null,
            "flex_flow": null,
            "width": null,
            "min_width": null,
            "border": null,
            "align_items": null,
            "bottom": null,
            "_model_module": "@jupyter-widgets/base",
            "top": null,
            "grid_column": null,
            "overflow_y": null,
            "overflow_x": null,
            "grid_auto_flow": null,
            "grid_area": null,
            "grid_template_columns": null,
            "flex": null,
            "_model_name": "LayoutModel",
            "justify_items": null,
            "grid_row": null,
            "max_height": null,
            "align_content": null,
            "visibility": null,
            "align_self": null,
            "height": null,
            "min_height": null,
            "padding": null,
            "grid_auto_rows": null,
            "grid_gap": null,
            "max_width": null,
            "order": null,
            "_view_module_version": "1.2.0",
            "grid_template_areas": null,
            "object_position": null,
            "object_fit": null,
            "grid_auto_columns": null,
            "margin": null,
            "display": null,
            "left": null
          }
        },
        "12ccb258012a45948cad35b6afb2d694": {
          "model_module": "@jupyter-widgets/controls",
          "model_name": "ProgressStyleModel",
          "model_module_version": "1.5.0",
          "state": {
            "_view_name": "StyleView",
            "_model_name": "ProgressStyleModel",
            "description_width": "",
            "_view_module": "@jupyter-widgets/base",
            "_model_module_version": "1.5.0",
            "_view_count": null,
            "_view_module_version": "1.2.0",
            "bar_color": null,
            "_model_module": "@jupyter-widgets/controls"
          }
        },
        "00adfa3f2a414680a527b1c19511f39d": {
          "model_module": "@jupyter-widgets/base",
          "model_name": "LayoutModel",
          "model_module_version": "1.2.0",
          "state": {
            "_view_name": "LayoutView",
            "grid_template_rows": null,
            "right": null,
            "justify_content": null,
            "_view_module": "@jupyter-widgets/base",
            "overflow": null,
            "_model_module_version": "1.2.0",
            "_view_count": null,
            "flex_flow": null,
            "width": null,
            "min_width": null,
            "border": null,
            "align_items": null,
            "bottom": null,
            "_model_module": "@jupyter-widgets/base",
            "top": null,
            "grid_column": null,
            "overflow_y": null,
            "overflow_x": null,
            "grid_auto_flow": null,
            "grid_area": null,
            "grid_template_columns": null,
            "flex": null,
            "_model_name": "LayoutModel",
            "justify_items": null,
            "grid_row": null,
            "max_height": null,
            "align_content": null,
            "visibility": null,
            "align_self": null,
            "height": null,
            "min_height": null,
            "padding": null,
            "grid_auto_rows": null,
            "grid_gap": null,
            "max_width": null,
            "order": null,
            "_view_module_version": "1.2.0",
            "grid_template_areas": null,
            "object_position": null,
            "object_fit": null,
            "grid_auto_columns": null,
            "margin": null,
            "display": null,
            "left": null
          }
        },
        "de83fb5e48a14ad8812413783b82a32b": {
          "model_module": "@jupyter-widgets/controls",
          "model_name": "DescriptionStyleModel",
          "model_module_version": "1.5.0",
          "state": {
            "_view_name": "StyleView",
            "_model_name": "DescriptionStyleModel",
            "description_width": "",
            "_view_module": "@jupyter-widgets/base",
            "_model_module_version": "1.5.0",
            "_view_count": null,
            "_view_module_version": "1.2.0",
            "_model_module": "@jupyter-widgets/controls"
          }
        },
        "3c64b1f747cf48aab8dc254b07a06e01": {
          "model_module": "@jupyter-widgets/base",
          "model_name": "LayoutModel",
          "model_module_version": "1.2.0",
          "state": {
            "_view_name": "LayoutView",
            "grid_template_rows": null,
            "right": null,
            "justify_content": null,
            "_view_module": "@jupyter-widgets/base",
            "overflow": null,
            "_model_module_version": "1.2.0",
            "_view_count": null,
            "flex_flow": null,
            "width": null,
            "min_width": null,
            "border": null,
            "align_items": null,
            "bottom": null,
            "_model_module": "@jupyter-widgets/base",
            "top": null,
            "grid_column": null,
            "overflow_y": null,
            "overflow_x": null,
            "grid_auto_flow": null,
            "grid_area": null,
            "grid_template_columns": null,
            "flex": null,
            "_model_name": "LayoutModel",
            "justify_items": null,
            "grid_row": null,
            "max_height": null,
            "align_content": null,
            "visibility": null,
            "align_self": null,
            "height": null,
            "min_height": null,
            "padding": null,
            "grid_auto_rows": null,
            "grid_gap": null,
            "max_width": null,
            "order": null,
            "_view_module_version": "1.2.0",
            "grid_template_areas": null,
            "object_position": null,
            "object_fit": null,
            "grid_auto_columns": null,
            "margin": null,
            "display": null,
            "left": null
          }
        },
        "aa548e4e9def41c28e8dffccca57dfc5": {
          "model_module": "@jupyter-widgets/controls",
          "model_name": "HBoxModel",
          "model_module_version": "1.5.0",
          "state": {
            "_view_name": "HBoxView",
            "_dom_classes": [],
            "_model_name": "HBoxModel",
            "_view_module": "@jupyter-widgets/controls",
            "_model_module_version": "1.5.0",
            "_view_count": null,
            "_view_module_version": "1.5.0",
            "box_style": "",
            "layout": "IPY_MODEL_ae31540f9c7a479e8e61d60cc236df74",
            "_model_module": "@jupyter-widgets/controls",
            "children": [
              "IPY_MODEL_6102b4cd182e48bb8c97301028ebd3b9",
              "IPY_MODEL_a03ad5eca52849b09df5e42688641b5d",
              "IPY_MODEL_1e634f92ad554aa697bbaa96250d43c4"
            ]
          }
        },
        "ae31540f9c7a479e8e61d60cc236df74": {
          "model_module": "@jupyter-widgets/base",
          "model_name": "LayoutModel",
          "model_module_version": "1.2.0",
          "state": {
            "_view_name": "LayoutView",
            "grid_template_rows": null,
            "right": null,
            "justify_content": null,
            "_view_module": "@jupyter-widgets/base",
            "overflow": null,
            "_model_module_version": "1.2.0",
            "_view_count": null,
            "flex_flow": null,
            "width": null,
            "min_width": null,
            "border": null,
            "align_items": null,
            "bottom": null,
            "_model_module": "@jupyter-widgets/base",
            "top": null,
            "grid_column": null,
            "overflow_y": null,
            "overflow_x": null,
            "grid_auto_flow": null,
            "grid_area": null,
            "grid_template_columns": null,
            "flex": null,
            "_model_name": "LayoutModel",
            "justify_items": null,
            "grid_row": null,
            "max_height": null,
            "align_content": null,
            "visibility": null,
            "align_self": null,
            "height": null,
            "min_height": null,
            "padding": null,
            "grid_auto_rows": null,
            "grid_gap": null,
            "max_width": null,
            "order": null,
            "_view_module_version": "1.2.0",
            "grid_template_areas": null,
            "object_position": null,
            "object_fit": null,
            "grid_auto_columns": null,
            "margin": null,
            "display": null,
            "left": null
          }
        },
        "6102b4cd182e48bb8c97301028ebd3b9": {
          "model_module": "@jupyter-widgets/controls",
          "model_name": "HTMLModel",
          "model_module_version": "1.5.0",
          "state": {
            "_view_name": "HTMLView",
            "style": "IPY_MODEL_d0dc3c9e52b14338af248670ffc52787",
            "_dom_classes": [],
            "description": "",
            "_model_name": "HTMLModel",
            "placeholder": "​",
            "_view_module": "@jupyter-widgets/controls",
            "_model_module_version": "1.5.0",
            "value": "Downloading: 100%",
            "_view_count": null,
            "_view_module_version": "1.5.0",
            "description_tooltip": null,
            "_model_module": "@jupyter-widgets/controls",
            "layout": "IPY_MODEL_e9a9587aaeaa4847b00509c33b5c300e"
          }
        },
        "a03ad5eca52849b09df5e42688641b5d": {
          "model_module": "@jupyter-widgets/controls",
          "model_name": "FloatProgressModel",
          "model_module_version": "1.5.0",
          "state": {
            "_view_name": "ProgressView",
            "style": "IPY_MODEL_c3914dbe35984fcf96378641d0f6c9bc",
            "_dom_classes": [],
            "description": "",
            "_model_name": "FloatProgressModel",
            "bar_style": "success",
            "max": 39265,
            "_view_module": "@jupyter-widgets/controls",
            "_model_module_version": "1.5.0",
            "value": 39265,
            "_view_count": null,
            "_view_module_version": "1.5.0",
            "orientation": "horizontal",
            "min": 0,
            "description_tooltip": null,
            "_model_module": "@jupyter-widgets/controls",
            "layout": "IPY_MODEL_a5542a41f72b42b08ba814f288adfd27"
          }
        },
        "1e634f92ad554aa697bbaa96250d43c4": {
          "model_module": "@jupyter-widgets/controls",
          "model_name": "HTMLModel",
          "model_module_version": "1.5.0",
          "state": {
            "_view_name": "HTMLView",
            "style": "IPY_MODEL_c68b19b1857e4dc3afaa053b3b939225",
            "_dom_classes": [],
            "description": "",
            "_model_name": "HTMLModel",
            "placeholder": "​",
            "_view_module": "@jupyter-widgets/controls",
            "_model_module_version": "1.5.0",
            "value": " 39.3k/39.3k [00:00&lt;00:00, 22.8kB/s]",
            "_view_count": null,
            "_view_module_version": "1.5.0",
            "description_tooltip": null,
            "_model_module": "@jupyter-widgets/controls",
            "layout": "IPY_MODEL_331afcd91f71412b894946e27f2fd983"
          }
        },
        "d0dc3c9e52b14338af248670ffc52787": {
          "model_module": "@jupyter-widgets/controls",
          "model_name": "DescriptionStyleModel",
          "model_module_version": "1.5.0",
          "state": {
            "_view_name": "StyleView",
            "_model_name": "DescriptionStyleModel",
            "description_width": "",
            "_view_module": "@jupyter-widgets/base",
            "_model_module_version": "1.5.0",
            "_view_count": null,
            "_view_module_version": "1.2.0",
            "_model_module": "@jupyter-widgets/controls"
          }
        },
        "e9a9587aaeaa4847b00509c33b5c300e": {
          "model_module": "@jupyter-widgets/base",
          "model_name": "LayoutModel",
          "model_module_version": "1.2.0",
          "state": {
            "_view_name": "LayoutView",
            "grid_template_rows": null,
            "right": null,
            "justify_content": null,
            "_view_module": "@jupyter-widgets/base",
            "overflow": null,
            "_model_module_version": "1.2.0",
            "_view_count": null,
            "flex_flow": null,
            "width": null,
            "min_width": null,
            "border": null,
            "align_items": null,
            "bottom": null,
            "_model_module": "@jupyter-widgets/base",
            "top": null,
            "grid_column": null,
            "overflow_y": null,
            "overflow_x": null,
            "grid_auto_flow": null,
            "grid_area": null,
            "grid_template_columns": null,
            "flex": null,
            "_model_name": "LayoutModel",
            "justify_items": null,
            "grid_row": null,
            "max_height": null,
            "align_content": null,
            "visibility": null,
            "align_self": null,
            "height": null,
            "min_height": null,
            "padding": null,
            "grid_auto_rows": null,
            "grid_gap": null,
            "max_width": null,
            "order": null,
            "_view_module_version": "1.2.0",
            "grid_template_areas": null,
            "object_position": null,
            "object_fit": null,
            "grid_auto_columns": null,
            "margin": null,
            "display": null,
            "left": null
          }
        },
        "c3914dbe35984fcf96378641d0f6c9bc": {
          "model_module": "@jupyter-widgets/controls",
          "model_name": "ProgressStyleModel",
          "model_module_version": "1.5.0",
          "state": {
            "_view_name": "StyleView",
            "_model_name": "ProgressStyleModel",
            "description_width": "",
            "_view_module": "@jupyter-widgets/base",
            "_model_module_version": "1.5.0",
            "_view_count": null,
            "_view_module_version": "1.2.0",
            "bar_color": null,
            "_model_module": "@jupyter-widgets/controls"
          }
        },
        "a5542a41f72b42b08ba814f288adfd27": {
          "model_module": "@jupyter-widgets/base",
          "model_name": "LayoutModel",
          "model_module_version": "1.2.0",
          "state": {
            "_view_name": "LayoutView",
            "grid_template_rows": null,
            "right": null,
            "justify_content": null,
            "_view_module": "@jupyter-widgets/base",
            "overflow": null,
            "_model_module_version": "1.2.0",
            "_view_count": null,
            "flex_flow": null,
            "width": null,
            "min_width": null,
            "border": null,
            "align_items": null,
            "bottom": null,
            "_model_module": "@jupyter-widgets/base",
            "top": null,
            "grid_column": null,
            "overflow_y": null,
            "overflow_x": null,
            "grid_auto_flow": null,
            "grid_area": null,
            "grid_template_columns": null,
            "flex": null,
            "_model_name": "LayoutModel",
            "justify_items": null,
            "grid_row": null,
            "max_height": null,
            "align_content": null,
            "visibility": null,
            "align_self": null,
            "height": null,
            "min_height": null,
            "padding": null,
            "grid_auto_rows": null,
            "grid_gap": null,
            "max_width": null,
            "order": null,
            "_view_module_version": "1.2.0",
            "grid_template_areas": null,
            "object_position": null,
            "object_fit": null,
            "grid_auto_columns": null,
            "margin": null,
            "display": null,
            "left": null
          }
        },
        "c68b19b1857e4dc3afaa053b3b939225": {
          "model_module": "@jupyter-widgets/controls",
          "model_name": "DescriptionStyleModel",
          "model_module_version": "1.5.0",
          "state": {
            "_view_name": "StyleView",
            "_model_name": "DescriptionStyleModel",
            "description_width": "",
            "_view_module": "@jupyter-widgets/base",
            "_model_module_version": "1.5.0",
            "_view_count": null,
            "_view_module_version": "1.2.0",
            "_model_module": "@jupyter-widgets/controls"
          }
        },
        "331afcd91f71412b894946e27f2fd983": {
          "model_module": "@jupyter-widgets/base",
          "model_name": "LayoutModel",
          "model_module_version": "1.2.0",
          "state": {
            "_view_name": "LayoutView",
            "grid_template_rows": null,
            "right": null,
            "justify_content": null,
            "_view_module": "@jupyter-widgets/base",
            "overflow": null,
            "_model_module_version": "1.2.0",
            "_view_count": null,
            "flex_flow": null,
            "width": null,
            "min_width": null,
            "border": null,
            "align_items": null,
            "bottom": null,
            "_model_module": "@jupyter-widgets/base",
            "top": null,
            "grid_column": null,
            "overflow_y": null,
            "overflow_x": null,
            "grid_auto_flow": null,
            "grid_area": null,
            "grid_template_columns": null,
            "flex": null,
            "_model_name": "LayoutModel",
            "justify_items": null,
            "grid_row": null,
            "max_height": null,
            "align_content": null,
            "visibility": null,
            "align_self": null,
            "height": null,
            "min_height": null,
            "padding": null,
            "grid_auto_rows": null,
            "grid_gap": null,
            "max_width": null,
            "order": null,
            "_view_module_version": "1.2.0",
            "grid_template_areas": null,
            "object_position": null,
            "object_fit": null,
            "grid_auto_columns": null,
            "margin": null,
            "display": null,
            "left": null
          }
        },
        "b2fa1c76f11a4495a3b3b5169dbf7170": {
          "model_module": "@jupyter-widgets/controls",
          "model_name": "HBoxModel",
          "model_module_version": "1.5.0",
          "state": {
            "_view_name": "HBoxView",
            "_dom_classes": [],
            "_model_name": "HBoxModel",
            "_view_module": "@jupyter-widgets/controls",
            "_model_module_version": "1.5.0",
            "_view_count": null,
            "_view_module_version": "1.5.0",
            "box_style": "",
            "layout": "IPY_MODEL_97ca9a410701434383fa688143f7ffe6",
            "_model_module": "@jupyter-widgets/controls",
            "children": [
              "IPY_MODEL_1fae2c9c63354e93b373e91a81de706e",
              "IPY_MODEL_11f7c8e02e104580bbf0042dae7aaa08",
              "IPY_MODEL_39240bd0b29f48a6bf4830abac880c77"
            ]
          }
        },
        "97ca9a410701434383fa688143f7ffe6": {
          "model_module": "@jupyter-widgets/base",
          "model_name": "LayoutModel",
          "model_module_version": "1.2.0",
          "state": {
            "_view_name": "LayoutView",
            "grid_template_rows": null,
            "right": null,
            "justify_content": null,
            "_view_module": "@jupyter-widgets/base",
            "overflow": null,
            "_model_module_version": "1.2.0",
            "_view_count": null,
            "flex_flow": null,
            "width": null,
            "min_width": null,
            "border": null,
            "align_items": null,
            "bottom": null,
            "_model_module": "@jupyter-widgets/base",
            "top": null,
            "grid_column": null,
            "overflow_y": null,
            "overflow_x": null,
            "grid_auto_flow": null,
            "grid_area": null,
            "grid_template_columns": null,
            "flex": null,
            "_model_name": "LayoutModel",
            "justify_items": null,
            "grid_row": null,
            "max_height": null,
            "align_content": null,
            "visibility": null,
            "align_self": null,
            "height": null,
            "min_height": null,
            "padding": null,
            "grid_auto_rows": null,
            "grid_gap": null,
            "max_width": null,
            "order": null,
            "_view_module_version": "1.2.0",
            "grid_template_areas": null,
            "object_position": null,
            "object_fit": null,
            "grid_auto_columns": null,
            "margin": null,
            "display": null,
            "left": null
          }
        },
        "1fae2c9c63354e93b373e91a81de706e": {
          "model_module": "@jupyter-widgets/controls",
          "model_name": "HTMLModel",
          "model_module_version": "1.5.0",
          "state": {
            "_view_name": "HTMLView",
            "style": "IPY_MODEL_6edd4b03f2e84af1b622ab991a0b90de",
            "_dom_classes": [],
            "description": "",
            "_model_name": "HTMLModel",
            "placeholder": "​",
            "_view_module": "@jupyter-widgets/controls",
            "_model_module_version": "1.5.0",
            "value": "Downloading: 100%",
            "_view_count": null,
            "_view_module_version": "1.5.0",
            "description_tooltip": null,
            "_model_module": "@jupyter-widgets/controls",
            "layout": "IPY_MODEL_577fad78d3294d0da2896351377a0219"
          }
        },
        "11f7c8e02e104580bbf0042dae7aaa08": {
          "model_module": "@jupyter-widgets/controls",
          "model_name": "FloatProgressModel",
          "model_module_version": "1.5.0",
          "state": {
            "_view_name": "ProgressView",
            "style": "IPY_MODEL_ce0622780c6e424a8197cd8ee4b655f0",
            "_dom_classes": [],
            "description": "",
            "_model_name": "FloatProgressModel",
            "bar_style": "success",
            "max": 349,
            "_view_module": "@jupyter-widgets/controls",
            "_model_module_version": "1.5.0",
            "value": 349,
            "_view_count": null,
            "_view_module_version": "1.5.0",
            "orientation": "horizontal",
            "min": 0,
            "description_tooltip": null,
            "_model_module": "@jupyter-widgets/controls",
            "layout": "IPY_MODEL_aae5dd7eb61e4081bb47b04df6557a5c"
          }
        },
        "39240bd0b29f48a6bf4830abac880c77": {
          "model_module": "@jupyter-widgets/controls",
          "model_name": "HTMLModel",
          "model_module_version": "1.5.0",
          "state": {
            "_view_name": "HTMLView",
            "style": "IPY_MODEL_9e24244736504effac6930a93c4f45d8",
            "_dom_classes": [],
            "description": "",
            "_model_name": "HTMLModel",
            "placeholder": "​",
            "_view_module": "@jupyter-widgets/controls",
            "_model_module_version": "1.5.0",
            "value": " 349/349 [00:00&lt;00:00, 8.71kB/s]",
            "_view_count": null,
            "_view_module_version": "1.5.0",
            "description_tooltip": null,
            "_model_module": "@jupyter-widgets/controls",
            "layout": "IPY_MODEL_6a647cb9f92c4b5ea2b5f79ee816c9e7"
          }
        },
        "6edd4b03f2e84af1b622ab991a0b90de": {
          "model_module": "@jupyter-widgets/controls",
          "model_name": "DescriptionStyleModel",
          "model_module_version": "1.5.0",
          "state": {
            "_view_name": "StyleView",
            "_model_name": "DescriptionStyleModel",
            "description_width": "",
            "_view_module": "@jupyter-widgets/base",
            "_model_module_version": "1.5.0",
            "_view_count": null,
            "_view_module_version": "1.2.0",
            "_model_module": "@jupyter-widgets/controls"
          }
        },
        "577fad78d3294d0da2896351377a0219": {
          "model_module": "@jupyter-widgets/base",
          "model_name": "LayoutModel",
          "model_module_version": "1.2.0",
          "state": {
            "_view_name": "LayoutView",
            "grid_template_rows": null,
            "right": null,
            "justify_content": null,
            "_view_module": "@jupyter-widgets/base",
            "overflow": null,
            "_model_module_version": "1.2.0",
            "_view_count": null,
            "flex_flow": null,
            "width": null,
            "min_width": null,
            "border": null,
            "align_items": null,
            "bottom": null,
            "_model_module": "@jupyter-widgets/base",
            "top": null,
            "grid_column": null,
            "overflow_y": null,
            "overflow_x": null,
            "grid_auto_flow": null,
            "grid_area": null,
            "grid_template_columns": null,
            "flex": null,
            "_model_name": "LayoutModel",
            "justify_items": null,
            "grid_row": null,
            "max_height": null,
            "align_content": null,
            "visibility": null,
            "align_self": null,
            "height": null,
            "min_height": null,
            "padding": null,
            "grid_auto_rows": null,
            "grid_gap": null,
            "max_width": null,
            "order": null,
            "_view_module_version": "1.2.0",
            "grid_template_areas": null,
            "object_position": null,
            "object_fit": null,
            "grid_auto_columns": null,
            "margin": null,
            "display": null,
            "left": null
          }
        },
        "ce0622780c6e424a8197cd8ee4b655f0": {
          "model_module": "@jupyter-widgets/controls",
          "model_name": "ProgressStyleModel",
          "model_module_version": "1.5.0",
          "state": {
            "_view_name": "StyleView",
            "_model_name": "ProgressStyleModel",
            "description_width": "",
            "_view_module": "@jupyter-widgets/base",
            "_model_module_version": "1.5.0",
            "_view_count": null,
            "_view_module_version": "1.2.0",
            "bar_color": null,
            "_model_module": "@jupyter-widgets/controls"
          }
        },
        "aae5dd7eb61e4081bb47b04df6557a5c": {
          "model_module": "@jupyter-widgets/base",
          "model_name": "LayoutModel",
          "model_module_version": "1.2.0",
          "state": {
            "_view_name": "LayoutView",
            "grid_template_rows": null,
            "right": null,
            "justify_content": null,
            "_view_module": "@jupyter-widgets/base",
            "overflow": null,
            "_model_module_version": "1.2.0",
            "_view_count": null,
            "flex_flow": null,
            "width": null,
            "min_width": null,
            "border": null,
            "align_items": null,
            "bottom": null,
            "_model_module": "@jupyter-widgets/base",
            "top": null,
            "grid_column": null,
            "overflow_y": null,
            "overflow_x": null,
            "grid_auto_flow": null,
            "grid_area": null,
            "grid_template_columns": null,
            "flex": null,
            "_model_name": "LayoutModel",
            "justify_items": null,
            "grid_row": null,
            "max_height": null,
            "align_content": null,
            "visibility": null,
            "align_self": null,
            "height": null,
            "min_height": null,
            "padding": null,
            "grid_auto_rows": null,
            "grid_gap": null,
            "max_width": null,
            "order": null,
            "_view_module_version": "1.2.0",
            "grid_template_areas": null,
            "object_position": null,
            "object_fit": null,
            "grid_auto_columns": null,
            "margin": null,
            "display": null,
            "left": null
          }
        },
        "9e24244736504effac6930a93c4f45d8": {
          "model_module": "@jupyter-widgets/controls",
          "model_name": "DescriptionStyleModel",
          "model_module_version": "1.5.0",
          "state": {
            "_view_name": "StyleView",
            "_model_name": "DescriptionStyleModel",
            "description_width": "",
            "_view_module": "@jupyter-widgets/base",
            "_model_module_version": "1.5.0",
            "_view_count": null,
            "_view_module_version": "1.2.0",
            "_model_module": "@jupyter-widgets/controls"
          }
        },
        "6a647cb9f92c4b5ea2b5f79ee816c9e7": {
          "model_module": "@jupyter-widgets/base",
          "model_name": "LayoutModel",
          "model_module_version": "1.2.0",
          "state": {
            "_view_name": "LayoutView",
            "grid_template_rows": null,
            "right": null,
            "justify_content": null,
            "_view_module": "@jupyter-widgets/base",
            "overflow": null,
            "_model_module_version": "1.2.0",
            "_view_count": null,
            "flex_flow": null,
            "width": null,
            "min_width": null,
            "border": null,
            "align_items": null,
            "bottom": null,
            "_model_module": "@jupyter-widgets/base",
            "top": null,
            "grid_column": null,
            "overflow_y": null,
            "overflow_x": null,
            "grid_auto_flow": null,
            "grid_area": null,
            "grid_template_columns": null,
            "flex": null,
            "_model_name": "LayoutModel",
            "justify_items": null,
            "grid_row": null,
            "max_height": null,
            "align_content": null,
            "visibility": null,
            "align_self": null,
            "height": null,
            "min_height": null,
            "padding": null,
            "grid_auto_rows": null,
            "grid_gap": null,
            "max_width": null,
            "order": null,
            "_view_module_version": "1.2.0",
            "grid_template_areas": null,
            "object_position": null,
            "object_fit": null,
            "grid_auto_columns": null,
            "margin": null,
            "display": null,
            "left": null
          }
        },
        "27e95250eb864197a6f6959f88b41a93": {
          "model_module": "@jupyter-widgets/controls",
          "model_name": "HBoxModel",
          "model_module_version": "1.5.0",
          "state": {
            "_view_name": "HBoxView",
            "_dom_classes": [],
            "_model_name": "HBoxModel",
            "_view_module": "@jupyter-widgets/controls",
            "_model_module_version": "1.5.0",
            "_view_count": null,
            "_view_module_version": "1.5.0",
            "box_style": "",
            "layout": "IPY_MODEL_482037c0c45046e88536817b3f9769e3",
            "_model_module": "@jupyter-widgets/controls",
            "children": [
              "IPY_MODEL_ee2f0fd8b5e04a8bbd595b24acbfd6c7",
              "IPY_MODEL_6fae7ecea5c6475ea5418e3938f3c266",
              "IPY_MODEL_702552e1cf08486c9e8d4872aaff63d7"
            ]
          }
        },
        "482037c0c45046e88536817b3f9769e3": {
          "model_module": "@jupyter-widgets/base",
          "model_name": "LayoutModel",
          "model_module_version": "1.2.0",
          "state": {
            "_view_name": "LayoutView",
            "grid_template_rows": null,
            "right": null,
            "justify_content": null,
            "_view_module": "@jupyter-widgets/base",
            "overflow": null,
            "_model_module_version": "1.2.0",
            "_view_count": null,
            "flex_flow": null,
            "width": null,
            "min_width": null,
            "border": null,
            "align_items": null,
            "bottom": null,
            "_model_module": "@jupyter-widgets/base",
            "top": null,
            "grid_column": null,
            "overflow_y": null,
            "overflow_x": null,
            "grid_auto_flow": null,
            "grid_area": null,
            "grid_template_columns": null,
            "flex": null,
            "_model_name": "LayoutModel",
            "justify_items": null,
            "grid_row": null,
            "max_height": null,
            "align_content": null,
            "visibility": null,
            "align_self": null,
            "height": null,
            "min_height": null,
            "padding": null,
            "grid_auto_rows": null,
            "grid_gap": null,
            "max_width": null,
            "order": null,
            "_view_module_version": "1.2.0",
            "grid_template_areas": null,
            "object_position": null,
            "object_fit": null,
            "grid_auto_columns": null,
            "margin": null,
            "display": null,
            "left": null
          }
        },
        "ee2f0fd8b5e04a8bbd595b24acbfd6c7": {
          "model_module": "@jupyter-widgets/controls",
          "model_name": "HTMLModel",
          "model_module_version": "1.5.0",
          "state": {
            "_view_name": "HTMLView",
            "style": "IPY_MODEL_61bbdbce6b71456aa134dd780089be0b",
            "_dom_classes": [],
            "description": "",
            "_model_name": "HTMLModel",
            "placeholder": "​",
            "_view_module": "@jupyter-widgets/controls",
            "_model_module_version": "1.5.0",
            "value": "Downloading: 100%",
            "_view_count": null,
            "_view_module_version": "1.5.0",
            "description_tooltip": null,
            "_model_module": "@jupyter-widgets/controls",
            "layout": "IPY_MODEL_3f55e57ad8a04a7faf5f1824f70ed5e2"
          }
        },
        "6fae7ecea5c6475ea5418e3938f3c266": {
          "model_module": "@jupyter-widgets/controls",
          "model_name": "FloatProgressModel",
          "model_module_version": "1.5.0",
          "state": {
            "_view_name": "ProgressView",
            "style": "IPY_MODEL_efb7bdc3f94346c8b50cd7d18a8c5bd9",
            "_dom_classes": [],
            "description": "",
            "_model_name": "FloatProgressModel",
            "bar_style": "success",
            "max": 90888945,
            "_view_module": "@jupyter-widgets/controls",
            "_model_module_version": "1.5.0",
            "value": 90888945,
            "_view_count": null,
            "_view_module_version": "1.5.0",
            "orientation": "horizontal",
            "min": 0,
            "description_tooltip": null,
            "_model_module": "@jupyter-widgets/controls",
            "layout": "IPY_MODEL_d18cbedc94a343fd80b3dc82772bded1"
          }
        },
        "702552e1cf08486c9e8d4872aaff63d7": {
          "model_module": "@jupyter-widgets/controls",
          "model_name": "HTMLModel",
          "model_module_version": "1.5.0",
          "state": {
            "_view_name": "HTMLView",
            "style": "IPY_MODEL_50439c02cbc944afac028e5fbca2313f",
            "_dom_classes": [],
            "description": "",
            "_model_name": "HTMLModel",
            "placeholder": "​",
            "_view_module": "@jupyter-widgets/controls",
            "_model_module_version": "1.5.0",
            "value": " 90.9M/90.9M [00:02&lt;00:00, 36.1MB/s]",
            "_view_count": null,
            "_view_module_version": "1.5.0",
            "description_tooltip": null,
            "_model_module": "@jupyter-widgets/controls",
            "layout": "IPY_MODEL_d5538c185b824b52b5c396883ab3a39a"
          }
        },
        "61bbdbce6b71456aa134dd780089be0b": {
          "model_module": "@jupyter-widgets/controls",
          "model_name": "DescriptionStyleModel",
          "model_module_version": "1.5.0",
          "state": {
            "_view_name": "StyleView",
            "_model_name": "DescriptionStyleModel",
            "description_width": "",
            "_view_module": "@jupyter-widgets/base",
            "_model_module_version": "1.5.0",
            "_view_count": null,
            "_view_module_version": "1.2.0",
            "_model_module": "@jupyter-widgets/controls"
          }
        },
        "3f55e57ad8a04a7faf5f1824f70ed5e2": {
          "model_module": "@jupyter-widgets/base",
          "model_name": "LayoutModel",
          "model_module_version": "1.2.0",
          "state": {
            "_view_name": "LayoutView",
            "grid_template_rows": null,
            "right": null,
            "justify_content": null,
            "_view_module": "@jupyter-widgets/base",
            "overflow": null,
            "_model_module_version": "1.2.0",
            "_view_count": null,
            "flex_flow": null,
            "width": null,
            "min_width": null,
            "border": null,
            "align_items": null,
            "bottom": null,
            "_model_module": "@jupyter-widgets/base",
            "top": null,
            "grid_column": null,
            "overflow_y": null,
            "overflow_x": null,
            "grid_auto_flow": null,
            "grid_area": null,
            "grid_template_columns": null,
            "flex": null,
            "_model_name": "LayoutModel",
            "justify_items": null,
            "grid_row": null,
            "max_height": null,
            "align_content": null,
            "visibility": null,
            "align_self": null,
            "height": null,
            "min_height": null,
            "padding": null,
            "grid_auto_rows": null,
            "grid_gap": null,
            "max_width": null,
            "order": null,
            "_view_module_version": "1.2.0",
            "grid_template_areas": null,
            "object_position": null,
            "object_fit": null,
            "grid_auto_columns": null,
            "margin": null,
            "display": null,
            "left": null
          }
        },
        "efb7bdc3f94346c8b50cd7d18a8c5bd9": {
          "model_module": "@jupyter-widgets/controls",
          "model_name": "ProgressStyleModel",
          "model_module_version": "1.5.0",
          "state": {
            "_view_name": "StyleView",
            "_model_name": "ProgressStyleModel",
            "description_width": "",
            "_view_module": "@jupyter-widgets/base",
            "_model_module_version": "1.5.0",
            "_view_count": null,
            "_view_module_version": "1.2.0",
            "bar_color": null,
            "_model_module": "@jupyter-widgets/controls"
          }
        },
        "d18cbedc94a343fd80b3dc82772bded1": {
          "model_module": "@jupyter-widgets/base",
          "model_name": "LayoutModel",
          "model_module_version": "1.2.0",
          "state": {
            "_view_name": "LayoutView",
            "grid_template_rows": null,
            "right": null,
            "justify_content": null,
            "_view_module": "@jupyter-widgets/base",
            "overflow": null,
            "_model_module_version": "1.2.0",
            "_view_count": null,
            "flex_flow": null,
            "width": null,
            "min_width": null,
            "border": null,
            "align_items": null,
            "bottom": null,
            "_model_module": "@jupyter-widgets/base",
            "top": null,
            "grid_column": null,
            "overflow_y": null,
            "overflow_x": null,
            "grid_auto_flow": null,
            "grid_area": null,
            "grid_template_columns": null,
            "flex": null,
            "_model_name": "LayoutModel",
            "justify_items": null,
            "grid_row": null,
            "max_height": null,
            "align_content": null,
            "visibility": null,
            "align_self": null,
            "height": null,
            "min_height": null,
            "padding": null,
            "grid_auto_rows": null,
            "grid_gap": null,
            "max_width": null,
            "order": null,
            "_view_module_version": "1.2.0",
            "grid_template_areas": null,
            "object_position": null,
            "object_fit": null,
            "grid_auto_columns": null,
            "margin": null,
            "display": null,
            "left": null
          }
        },
        "50439c02cbc944afac028e5fbca2313f": {
          "model_module": "@jupyter-widgets/controls",
          "model_name": "DescriptionStyleModel",
          "model_module_version": "1.5.0",
          "state": {
            "_view_name": "StyleView",
            "_model_name": "DescriptionStyleModel",
            "description_width": "",
            "_view_module": "@jupyter-widgets/base",
            "_model_module_version": "1.5.0",
            "_view_count": null,
            "_view_module_version": "1.2.0",
            "_model_module": "@jupyter-widgets/controls"
          }
        },
        "d5538c185b824b52b5c396883ab3a39a": {
          "model_module": "@jupyter-widgets/base",
          "model_name": "LayoutModel",
          "model_module_version": "1.2.0",
          "state": {
            "_view_name": "LayoutView",
            "grid_template_rows": null,
            "right": null,
            "justify_content": null,
            "_view_module": "@jupyter-widgets/base",
            "overflow": null,
            "_model_module_version": "1.2.0",
            "_view_count": null,
            "flex_flow": null,
            "width": null,
            "min_width": null,
            "border": null,
            "align_items": null,
            "bottom": null,
            "_model_module": "@jupyter-widgets/base",
            "top": null,
            "grid_column": null,
            "overflow_y": null,
            "overflow_x": null,
            "grid_auto_flow": null,
            "grid_area": null,
            "grid_template_columns": null,
            "flex": null,
            "_model_name": "LayoutModel",
            "justify_items": null,
            "grid_row": null,
            "max_height": null,
            "align_content": null,
            "visibility": null,
            "align_self": null,
            "height": null,
            "min_height": null,
            "padding": null,
            "grid_auto_rows": null,
            "grid_gap": null,
            "max_width": null,
            "order": null,
            "_view_module_version": "1.2.0",
            "grid_template_areas": null,
            "object_position": null,
            "object_fit": null,
            "grid_auto_columns": null,
            "margin": null,
            "display": null,
            "left": null
          }
        },
        "4c6211dbf12d4cf593c55b82b56e3e3f": {
          "model_module": "@jupyter-widgets/controls",
          "model_name": "HBoxModel",
          "model_module_version": "1.5.0",
          "state": {
            "_view_name": "HBoxView",
            "_dom_classes": [],
            "_model_name": "HBoxModel",
            "_view_module": "@jupyter-widgets/controls",
            "_model_module_version": "1.5.0",
            "_view_count": null,
            "_view_module_version": "1.5.0",
            "box_style": "",
            "layout": "IPY_MODEL_bed10cf668a84c40abd3a922c9c9c2e4",
            "_model_module": "@jupyter-widgets/controls",
            "children": [
              "IPY_MODEL_fe5bf0a1510c4458970a1ac93a3ffc7d",
              "IPY_MODEL_38134024c24b485fb9363ec0c88bfaaa",
              "IPY_MODEL_687321bbd69340a8b7393cd60a1b830a"
            ]
          }
        },
        "bed10cf668a84c40abd3a922c9c9c2e4": {
          "model_module": "@jupyter-widgets/base",
          "model_name": "LayoutModel",
          "model_module_version": "1.2.0",
          "state": {
            "_view_name": "LayoutView",
            "grid_template_rows": null,
            "right": null,
            "justify_content": null,
            "_view_module": "@jupyter-widgets/base",
            "overflow": null,
            "_model_module_version": "1.2.0",
            "_view_count": null,
            "flex_flow": null,
            "width": null,
            "min_width": null,
            "border": null,
            "align_items": null,
            "bottom": null,
            "_model_module": "@jupyter-widgets/base",
            "top": null,
            "grid_column": null,
            "overflow_y": null,
            "overflow_x": null,
            "grid_auto_flow": null,
            "grid_area": null,
            "grid_template_columns": null,
            "flex": null,
            "_model_name": "LayoutModel",
            "justify_items": null,
            "grid_row": null,
            "max_height": null,
            "align_content": null,
            "visibility": null,
            "align_self": null,
            "height": null,
            "min_height": null,
            "padding": null,
            "grid_auto_rows": null,
            "grid_gap": null,
            "max_width": null,
            "order": null,
            "_view_module_version": "1.2.0",
            "grid_template_areas": null,
            "object_position": null,
            "object_fit": null,
            "grid_auto_columns": null,
            "margin": null,
            "display": null,
            "left": null
          }
        },
        "fe5bf0a1510c4458970a1ac93a3ffc7d": {
          "model_module": "@jupyter-widgets/controls",
          "model_name": "HTMLModel",
          "model_module_version": "1.5.0",
          "state": {
            "_view_name": "HTMLView",
            "style": "IPY_MODEL_9ebf804ae3bb45499f7fd0cd78868c3a",
            "_dom_classes": [],
            "description": "",
            "_model_name": "HTMLModel",
            "placeholder": "​",
            "_view_module": "@jupyter-widgets/controls",
            "_model_module_version": "1.5.0",
            "value": "Downloading: 100%",
            "_view_count": null,
            "_view_module_version": "1.5.0",
            "description_tooltip": null,
            "_model_module": "@jupyter-widgets/controls",
            "layout": "IPY_MODEL_8a44aee4792b42f880d9ee059c519035"
          }
        },
        "38134024c24b485fb9363ec0c88bfaaa": {
          "model_module": "@jupyter-widgets/controls",
          "model_name": "FloatProgressModel",
          "model_module_version": "1.5.0",
          "state": {
            "_view_name": "ProgressView",
            "style": "IPY_MODEL_60f5af4657a044f2bec84f1523dbfef4",
            "_dom_classes": [],
            "description": "",
            "_model_name": "FloatProgressModel",
            "bar_style": "success",
            "max": 53,
            "_view_module": "@jupyter-widgets/controls",
            "_model_module_version": "1.5.0",
            "value": 53,
            "_view_count": null,
            "_view_module_version": "1.5.0",
            "orientation": "horizontal",
            "min": 0,
            "description_tooltip": null,
            "_model_module": "@jupyter-widgets/controls",
            "layout": "IPY_MODEL_fe84a91a6b6b45379ed89a513bd5cd39"
          }
        },
        "687321bbd69340a8b7393cd60a1b830a": {
          "model_module": "@jupyter-widgets/controls",
          "model_name": "HTMLModel",
          "model_module_version": "1.5.0",
          "state": {
            "_view_name": "HTMLView",
            "style": "IPY_MODEL_a6675d67405d412d9a147e3d78da26bf",
            "_dom_classes": [],
            "description": "",
            "_model_name": "HTMLModel",
            "placeholder": "​",
            "_view_module": "@jupyter-widgets/controls",
            "_model_module_version": "1.5.0",
            "value": " 53.0/53.0 [00:00&lt;00:00, 1.19kB/s]",
            "_view_count": null,
            "_view_module_version": "1.5.0",
            "description_tooltip": null,
            "_model_module": "@jupyter-widgets/controls",
            "layout": "IPY_MODEL_8bf1a26fc86f443798c2f43457595063"
          }
        },
        "9ebf804ae3bb45499f7fd0cd78868c3a": {
          "model_module": "@jupyter-widgets/controls",
          "model_name": "DescriptionStyleModel",
          "model_module_version": "1.5.0",
          "state": {
            "_view_name": "StyleView",
            "_model_name": "DescriptionStyleModel",
            "description_width": "",
            "_view_module": "@jupyter-widgets/base",
            "_model_module_version": "1.5.0",
            "_view_count": null,
            "_view_module_version": "1.2.0",
            "_model_module": "@jupyter-widgets/controls"
          }
        },
        "8a44aee4792b42f880d9ee059c519035": {
          "model_module": "@jupyter-widgets/base",
          "model_name": "LayoutModel",
          "model_module_version": "1.2.0",
          "state": {
            "_view_name": "LayoutView",
            "grid_template_rows": null,
            "right": null,
            "justify_content": null,
            "_view_module": "@jupyter-widgets/base",
            "overflow": null,
            "_model_module_version": "1.2.0",
            "_view_count": null,
            "flex_flow": null,
            "width": null,
            "min_width": null,
            "border": null,
            "align_items": null,
            "bottom": null,
            "_model_module": "@jupyter-widgets/base",
            "top": null,
            "grid_column": null,
            "overflow_y": null,
            "overflow_x": null,
            "grid_auto_flow": null,
            "grid_area": null,
            "grid_template_columns": null,
            "flex": null,
            "_model_name": "LayoutModel",
            "justify_items": null,
            "grid_row": null,
            "max_height": null,
            "align_content": null,
            "visibility": null,
            "align_self": null,
            "height": null,
            "min_height": null,
            "padding": null,
            "grid_auto_rows": null,
            "grid_gap": null,
            "max_width": null,
            "order": null,
            "_view_module_version": "1.2.0",
            "grid_template_areas": null,
            "object_position": null,
            "object_fit": null,
            "grid_auto_columns": null,
            "margin": null,
            "display": null,
            "left": null
          }
        },
        "60f5af4657a044f2bec84f1523dbfef4": {
          "model_module": "@jupyter-widgets/controls",
          "model_name": "ProgressStyleModel",
          "model_module_version": "1.5.0",
          "state": {
            "_view_name": "StyleView",
            "_model_name": "ProgressStyleModel",
            "description_width": "",
            "_view_module": "@jupyter-widgets/base",
            "_model_module_version": "1.5.0",
            "_view_count": null,
            "_view_module_version": "1.2.0",
            "bar_color": null,
            "_model_module": "@jupyter-widgets/controls"
          }
        },
        "fe84a91a6b6b45379ed89a513bd5cd39": {
          "model_module": "@jupyter-widgets/base",
          "model_name": "LayoutModel",
          "model_module_version": "1.2.0",
          "state": {
            "_view_name": "LayoutView",
            "grid_template_rows": null,
            "right": null,
            "justify_content": null,
            "_view_module": "@jupyter-widgets/base",
            "overflow": null,
            "_model_module_version": "1.2.0",
            "_view_count": null,
            "flex_flow": null,
            "width": null,
            "min_width": null,
            "border": null,
            "align_items": null,
            "bottom": null,
            "_model_module": "@jupyter-widgets/base",
            "top": null,
            "grid_column": null,
            "overflow_y": null,
            "overflow_x": null,
            "grid_auto_flow": null,
            "grid_area": null,
            "grid_template_columns": null,
            "flex": null,
            "_model_name": "LayoutModel",
            "justify_items": null,
            "grid_row": null,
            "max_height": null,
            "align_content": null,
            "visibility": null,
            "align_self": null,
            "height": null,
            "min_height": null,
            "padding": null,
            "grid_auto_rows": null,
            "grid_gap": null,
            "max_width": null,
            "order": null,
            "_view_module_version": "1.2.0",
            "grid_template_areas": null,
            "object_position": null,
            "object_fit": null,
            "grid_auto_columns": null,
            "margin": null,
            "display": null,
            "left": null
          }
        },
        "a6675d67405d412d9a147e3d78da26bf": {
          "model_module": "@jupyter-widgets/controls",
          "model_name": "DescriptionStyleModel",
          "model_module_version": "1.5.0",
          "state": {
            "_view_name": "StyleView",
            "_model_name": "DescriptionStyleModel",
            "description_width": "",
            "_view_module": "@jupyter-widgets/base",
            "_model_module_version": "1.5.0",
            "_view_count": null,
            "_view_module_version": "1.2.0",
            "_model_module": "@jupyter-widgets/controls"
          }
        },
        "8bf1a26fc86f443798c2f43457595063": {
          "model_module": "@jupyter-widgets/base",
          "model_name": "LayoutModel",
          "model_module_version": "1.2.0",
          "state": {
            "_view_name": "LayoutView",
            "grid_template_rows": null,
            "right": null,
            "justify_content": null,
            "_view_module": "@jupyter-widgets/base",
            "overflow": null,
            "_model_module_version": "1.2.0",
            "_view_count": null,
            "flex_flow": null,
            "width": null,
            "min_width": null,
            "border": null,
            "align_items": null,
            "bottom": null,
            "_model_module": "@jupyter-widgets/base",
            "top": null,
            "grid_column": null,
            "overflow_y": null,
            "overflow_x": null,
            "grid_auto_flow": null,
            "grid_area": null,
            "grid_template_columns": null,
            "flex": null,
            "_model_name": "LayoutModel",
            "justify_items": null,
            "grid_row": null,
            "max_height": null,
            "align_content": null,
            "visibility": null,
            "align_self": null,
            "height": null,
            "min_height": null,
            "padding": null,
            "grid_auto_rows": null,
            "grid_gap": null,
            "max_width": null,
            "order": null,
            "_view_module_version": "1.2.0",
            "grid_template_areas": null,
            "object_position": null,
            "object_fit": null,
            "grid_auto_columns": null,
            "margin": null,
            "display": null,
            "left": null
          }
        },
        "5f382f9eb7394acf94258524ffa3b2d1": {
          "model_module": "@jupyter-widgets/controls",
          "model_name": "HBoxModel",
          "model_module_version": "1.5.0",
          "state": {
            "_view_name": "HBoxView",
            "_dom_classes": [],
            "_model_name": "HBoxModel",
            "_view_module": "@jupyter-widgets/controls",
            "_model_module_version": "1.5.0",
            "_view_count": null,
            "_view_module_version": "1.5.0",
            "box_style": "",
            "layout": "IPY_MODEL_232b6a4fb80e45bb8b4e19e8ccd765af",
            "_model_module": "@jupyter-widgets/controls",
            "children": [
              "IPY_MODEL_0b4d99278ad441adb151e7886e48f03e",
              "IPY_MODEL_9f40971ff1ef41a48dcbfe0931d42f43",
              "IPY_MODEL_0b24f8cda9de4e1fb521560d70e4cd4c"
            ]
          }
        },
        "232b6a4fb80e45bb8b4e19e8ccd765af": {
          "model_module": "@jupyter-widgets/base",
          "model_name": "LayoutModel",
          "model_module_version": "1.2.0",
          "state": {
            "_view_name": "LayoutView",
            "grid_template_rows": null,
            "right": null,
            "justify_content": null,
            "_view_module": "@jupyter-widgets/base",
            "overflow": null,
            "_model_module_version": "1.2.0",
            "_view_count": null,
            "flex_flow": null,
            "width": null,
            "min_width": null,
            "border": null,
            "align_items": null,
            "bottom": null,
            "_model_module": "@jupyter-widgets/base",
            "top": null,
            "grid_column": null,
            "overflow_y": null,
            "overflow_x": null,
            "grid_auto_flow": null,
            "grid_area": null,
            "grid_template_columns": null,
            "flex": null,
            "_model_name": "LayoutModel",
            "justify_items": null,
            "grid_row": null,
            "max_height": null,
            "align_content": null,
            "visibility": null,
            "align_self": null,
            "height": null,
            "min_height": null,
            "padding": null,
            "grid_auto_rows": null,
            "grid_gap": null,
            "max_width": null,
            "order": null,
            "_view_module_version": "1.2.0",
            "grid_template_areas": null,
            "object_position": null,
            "object_fit": null,
            "grid_auto_columns": null,
            "margin": null,
            "display": null,
            "left": null
          }
        },
        "0b4d99278ad441adb151e7886e48f03e": {
          "model_module": "@jupyter-widgets/controls",
          "model_name": "HTMLModel",
          "model_module_version": "1.5.0",
          "state": {
            "_view_name": "HTMLView",
            "style": "IPY_MODEL_3f4af661e8b34b81afa85429fb04514b",
            "_dom_classes": [],
            "description": "",
            "_model_name": "HTMLModel",
            "placeholder": "​",
            "_view_module": "@jupyter-widgets/controls",
            "_model_module_version": "1.5.0",
            "value": "Downloading: 100%",
            "_view_count": null,
            "_view_module_version": "1.5.0",
            "description_tooltip": null,
            "_model_module": "@jupyter-widgets/controls",
            "layout": "IPY_MODEL_0bccde796be445de92bac48e2bc41117"
          }
        },
        "9f40971ff1ef41a48dcbfe0931d42f43": {
          "model_module": "@jupyter-widgets/controls",
          "model_name": "FloatProgressModel",
          "model_module_version": "1.5.0",
          "state": {
            "_view_name": "ProgressView",
            "style": "IPY_MODEL_cb19b48fc488469fbff59a02c27a26c0",
            "_dom_classes": [],
            "description": "",
            "_model_name": "FloatProgressModel",
            "bar_style": "success",
            "max": 112,
            "_view_module": "@jupyter-widgets/controls",
            "_model_module_version": "1.5.0",
            "value": 112,
            "_view_count": null,
            "_view_module_version": "1.5.0",
            "orientation": "horizontal",
            "min": 0,
            "description_tooltip": null,
            "_model_module": "@jupyter-widgets/controls",
            "layout": "IPY_MODEL_bea5c8d591c84d1c82efb71c721d8b3f"
          }
        },
        "0b24f8cda9de4e1fb521560d70e4cd4c": {
          "model_module": "@jupyter-widgets/controls",
          "model_name": "HTMLModel",
          "model_module_version": "1.5.0",
          "state": {
            "_view_name": "HTMLView",
            "style": "IPY_MODEL_59ad21e2933e4e09a706d8c60a762259",
            "_dom_classes": [],
            "description": "",
            "_model_name": "HTMLModel",
            "placeholder": "​",
            "_view_module": "@jupyter-widgets/controls",
            "_model_module_version": "1.5.0",
            "value": " 112/112 [00:00&lt;00:00, 2.78kB/s]",
            "_view_count": null,
            "_view_module_version": "1.5.0",
            "description_tooltip": null,
            "_model_module": "@jupyter-widgets/controls",
            "layout": "IPY_MODEL_8be1074de9a24049861bd44694105f96"
          }
        },
        "3f4af661e8b34b81afa85429fb04514b": {
          "model_module": "@jupyter-widgets/controls",
          "model_name": "DescriptionStyleModel",
          "model_module_version": "1.5.0",
          "state": {
            "_view_name": "StyleView",
            "_model_name": "DescriptionStyleModel",
            "description_width": "",
            "_view_module": "@jupyter-widgets/base",
            "_model_module_version": "1.5.0",
            "_view_count": null,
            "_view_module_version": "1.2.0",
            "_model_module": "@jupyter-widgets/controls"
          }
        },
        "0bccde796be445de92bac48e2bc41117": {
          "model_module": "@jupyter-widgets/base",
          "model_name": "LayoutModel",
          "model_module_version": "1.2.0",
          "state": {
            "_view_name": "LayoutView",
            "grid_template_rows": null,
            "right": null,
            "justify_content": null,
            "_view_module": "@jupyter-widgets/base",
            "overflow": null,
            "_model_module_version": "1.2.0",
            "_view_count": null,
            "flex_flow": null,
            "width": null,
            "min_width": null,
            "border": null,
            "align_items": null,
            "bottom": null,
            "_model_module": "@jupyter-widgets/base",
            "top": null,
            "grid_column": null,
            "overflow_y": null,
            "overflow_x": null,
            "grid_auto_flow": null,
            "grid_area": null,
            "grid_template_columns": null,
            "flex": null,
            "_model_name": "LayoutModel",
            "justify_items": null,
            "grid_row": null,
            "max_height": null,
            "align_content": null,
            "visibility": null,
            "align_self": null,
            "height": null,
            "min_height": null,
            "padding": null,
            "grid_auto_rows": null,
            "grid_gap": null,
            "max_width": null,
            "order": null,
            "_view_module_version": "1.2.0",
            "grid_template_areas": null,
            "object_position": null,
            "object_fit": null,
            "grid_auto_columns": null,
            "margin": null,
            "display": null,
            "left": null
          }
        },
        "cb19b48fc488469fbff59a02c27a26c0": {
          "model_module": "@jupyter-widgets/controls",
          "model_name": "ProgressStyleModel",
          "model_module_version": "1.5.0",
          "state": {
            "_view_name": "StyleView",
            "_model_name": "ProgressStyleModel",
            "description_width": "",
            "_view_module": "@jupyter-widgets/base",
            "_model_module_version": "1.5.0",
            "_view_count": null,
            "_view_module_version": "1.2.0",
            "bar_color": null,
            "_model_module": "@jupyter-widgets/controls"
          }
        },
        "bea5c8d591c84d1c82efb71c721d8b3f": {
          "model_module": "@jupyter-widgets/base",
          "model_name": "LayoutModel",
          "model_module_version": "1.2.0",
          "state": {
            "_view_name": "LayoutView",
            "grid_template_rows": null,
            "right": null,
            "justify_content": null,
            "_view_module": "@jupyter-widgets/base",
            "overflow": null,
            "_model_module_version": "1.2.0",
            "_view_count": null,
            "flex_flow": null,
            "width": null,
            "min_width": null,
            "border": null,
            "align_items": null,
            "bottom": null,
            "_model_module": "@jupyter-widgets/base",
            "top": null,
            "grid_column": null,
            "overflow_y": null,
            "overflow_x": null,
            "grid_auto_flow": null,
            "grid_area": null,
            "grid_template_columns": null,
            "flex": null,
            "_model_name": "LayoutModel",
            "justify_items": null,
            "grid_row": null,
            "max_height": null,
            "align_content": null,
            "visibility": null,
            "align_self": null,
            "height": null,
            "min_height": null,
            "padding": null,
            "grid_auto_rows": null,
            "grid_gap": null,
            "max_width": null,
            "order": null,
            "_view_module_version": "1.2.0",
            "grid_template_areas": null,
            "object_position": null,
            "object_fit": null,
            "grid_auto_columns": null,
            "margin": null,
            "display": null,
            "left": null
          }
        },
        "59ad21e2933e4e09a706d8c60a762259": {
          "model_module": "@jupyter-widgets/controls",
          "model_name": "DescriptionStyleModel",
          "model_module_version": "1.5.0",
          "state": {
            "_view_name": "StyleView",
            "_model_name": "DescriptionStyleModel",
            "description_width": "",
            "_view_module": "@jupyter-widgets/base",
            "_model_module_version": "1.5.0",
            "_view_count": null,
            "_view_module_version": "1.2.0",
            "_model_module": "@jupyter-widgets/controls"
          }
        },
        "8be1074de9a24049861bd44694105f96": {
          "model_module": "@jupyter-widgets/base",
          "model_name": "LayoutModel",
          "model_module_version": "1.2.0",
          "state": {
            "_view_name": "LayoutView",
            "grid_template_rows": null,
            "right": null,
            "justify_content": null,
            "_view_module": "@jupyter-widgets/base",
            "overflow": null,
            "_model_module_version": "1.2.0",
            "_view_count": null,
            "flex_flow": null,
            "width": null,
            "min_width": null,
            "border": null,
            "align_items": null,
            "bottom": null,
            "_model_module": "@jupyter-widgets/base",
            "top": null,
            "grid_column": null,
            "overflow_y": null,
            "overflow_x": null,
            "grid_auto_flow": null,
            "grid_area": null,
            "grid_template_columns": null,
            "flex": null,
            "_model_name": "LayoutModel",
            "justify_items": null,
            "grid_row": null,
            "max_height": null,
            "align_content": null,
            "visibility": null,
            "align_self": null,
            "height": null,
            "min_height": null,
            "padding": null,
            "grid_auto_rows": null,
            "grid_gap": null,
            "max_width": null,
            "order": null,
            "_view_module_version": "1.2.0",
            "grid_template_areas": null,
            "object_position": null,
            "object_fit": null,
            "grid_auto_columns": null,
            "margin": null,
            "display": null,
            "left": null
          }
        },
        "88cd8e3e49814afe9387c898ba779940": {
          "model_module": "@jupyter-widgets/controls",
          "model_name": "HBoxModel",
          "model_module_version": "1.5.0",
          "state": {
            "_view_name": "HBoxView",
            "_dom_classes": [],
            "_model_name": "HBoxModel",
            "_view_module": "@jupyter-widgets/controls",
            "_model_module_version": "1.5.0",
            "_view_count": null,
            "_view_module_version": "1.5.0",
            "box_style": "",
            "layout": "IPY_MODEL_5fa2542e0ccf4a0d81faef2380238857",
            "_model_module": "@jupyter-widgets/controls",
            "children": [
              "IPY_MODEL_34451528ba9e4e43bf6e774d7a667003",
              "IPY_MODEL_a18ad6c1319a473981783f048917ee41",
              "IPY_MODEL_26d6c6df45b04bf5b4b541341bdf0f73"
            ]
          }
        },
        "5fa2542e0ccf4a0d81faef2380238857": {
          "model_module": "@jupyter-widgets/base",
          "model_name": "LayoutModel",
          "model_module_version": "1.2.0",
          "state": {
            "_view_name": "LayoutView",
            "grid_template_rows": null,
            "right": null,
            "justify_content": null,
            "_view_module": "@jupyter-widgets/base",
            "overflow": null,
            "_model_module_version": "1.2.0",
            "_view_count": null,
            "flex_flow": null,
            "width": null,
            "min_width": null,
            "border": null,
            "align_items": null,
            "bottom": null,
            "_model_module": "@jupyter-widgets/base",
            "top": null,
            "grid_column": null,
            "overflow_y": null,
            "overflow_x": null,
            "grid_auto_flow": null,
            "grid_area": null,
            "grid_template_columns": null,
            "flex": null,
            "_model_name": "LayoutModel",
            "justify_items": null,
            "grid_row": null,
            "max_height": null,
            "align_content": null,
            "visibility": null,
            "align_self": null,
            "height": null,
            "min_height": null,
            "padding": null,
            "grid_auto_rows": null,
            "grid_gap": null,
            "max_width": null,
            "order": null,
            "_view_module_version": "1.2.0",
            "grid_template_areas": null,
            "object_position": null,
            "object_fit": null,
            "grid_auto_columns": null,
            "margin": null,
            "display": null,
            "left": null
          }
        },
        "34451528ba9e4e43bf6e774d7a667003": {
          "model_module": "@jupyter-widgets/controls",
          "model_name": "HTMLModel",
          "model_module_version": "1.5.0",
          "state": {
            "_view_name": "HTMLView",
            "style": "IPY_MODEL_2661405de3664b53a23b1d69690725cb",
            "_dom_classes": [],
            "description": "",
            "_model_name": "HTMLModel",
            "placeholder": "​",
            "_view_module": "@jupyter-widgets/controls",
            "_model_module_version": "1.5.0",
            "value": "Downloading: 100%",
            "_view_count": null,
            "_view_module_version": "1.5.0",
            "description_tooltip": null,
            "_model_module": "@jupyter-widgets/controls",
            "layout": "IPY_MODEL_f000619f63f0409084b36592d1b3b243"
          }
        },
        "a18ad6c1319a473981783f048917ee41": {
          "model_module": "@jupyter-widgets/controls",
          "model_name": "FloatProgressModel",
          "model_module_version": "1.5.0",
          "state": {
            "_view_name": "ProgressView",
            "style": "IPY_MODEL_db319e6033714c9784aafcc1f4cef513",
            "_dom_classes": [],
            "description": "",
            "_model_name": "FloatProgressModel",
            "bar_style": "success",
            "max": 466247,
            "_view_module": "@jupyter-widgets/controls",
            "_model_module_version": "1.5.0",
            "value": 466247,
            "_view_count": null,
            "_view_module_version": "1.5.0",
            "orientation": "horizontal",
            "min": 0,
            "description_tooltip": null,
            "_model_module": "@jupyter-widgets/controls",
            "layout": "IPY_MODEL_7e683672181e4dc78dee266a0096059d"
          }
        },
        "26d6c6df45b04bf5b4b541341bdf0f73": {
          "model_module": "@jupyter-widgets/controls",
          "model_name": "HTMLModel",
          "model_module_version": "1.5.0",
          "state": {
            "_view_name": "HTMLView",
            "style": "IPY_MODEL_acfb6fb5956143f6a32a44c0eae5d8cf",
            "_dom_classes": [],
            "description": "",
            "_model_name": "HTMLModel",
            "placeholder": "​",
            "_view_module": "@jupyter-widgets/controls",
            "_model_module_version": "1.5.0",
            "value": " 466k/466k [00:00&lt;00:00, 662kB/s]",
            "_view_count": null,
            "_view_module_version": "1.5.0",
            "description_tooltip": null,
            "_model_module": "@jupyter-widgets/controls",
            "layout": "IPY_MODEL_ed4d219fb9694580a587ffa99a6ce01d"
          }
        },
        "2661405de3664b53a23b1d69690725cb": {
          "model_module": "@jupyter-widgets/controls",
          "model_name": "DescriptionStyleModel",
          "model_module_version": "1.5.0",
          "state": {
            "_view_name": "StyleView",
            "_model_name": "DescriptionStyleModel",
            "description_width": "",
            "_view_module": "@jupyter-widgets/base",
            "_model_module_version": "1.5.0",
            "_view_count": null,
            "_view_module_version": "1.2.0",
            "_model_module": "@jupyter-widgets/controls"
          }
        },
        "f000619f63f0409084b36592d1b3b243": {
          "model_module": "@jupyter-widgets/base",
          "model_name": "LayoutModel",
          "model_module_version": "1.2.0",
          "state": {
            "_view_name": "LayoutView",
            "grid_template_rows": null,
            "right": null,
            "justify_content": null,
            "_view_module": "@jupyter-widgets/base",
            "overflow": null,
            "_model_module_version": "1.2.0",
            "_view_count": null,
            "flex_flow": null,
            "width": null,
            "min_width": null,
            "border": null,
            "align_items": null,
            "bottom": null,
            "_model_module": "@jupyter-widgets/base",
            "top": null,
            "grid_column": null,
            "overflow_y": null,
            "overflow_x": null,
            "grid_auto_flow": null,
            "grid_area": null,
            "grid_template_columns": null,
            "flex": null,
            "_model_name": "LayoutModel",
            "justify_items": null,
            "grid_row": null,
            "max_height": null,
            "align_content": null,
            "visibility": null,
            "align_self": null,
            "height": null,
            "min_height": null,
            "padding": null,
            "grid_auto_rows": null,
            "grid_gap": null,
            "max_width": null,
            "order": null,
            "_view_module_version": "1.2.0",
            "grid_template_areas": null,
            "object_position": null,
            "object_fit": null,
            "grid_auto_columns": null,
            "margin": null,
            "display": null,
            "left": null
          }
        },
        "db319e6033714c9784aafcc1f4cef513": {
          "model_module": "@jupyter-widgets/controls",
          "model_name": "ProgressStyleModel",
          "model_module_version": "1.5.0",
          "state": {
            "_view_name": "StyleView",
            "_model_name": "ProgressStyleModel",
            "description_width": "",
            "_view_module": "@jupyter-widgets/base",
            "_model_module_version": "1.5.0",
            "_view_count": null,
            "_view_module_version": "1.2.0",
            "bar_color": null,
            "_model_module": "@jupyter-widgets/controls"
          }
        },
        "7e683672181e4dc78dee266a0096059d": {
          "model_module": "@jupyter-widgets/base",
          "model_name": "LayoutModel",
          "model_module_version": "1.2.0",
          "state": {
            "_view_name": "LayoutView",
            "grid_template_rows": null,
            "right": null,
            "justify_content": null,
            "_view_module": "@jupyter-widgets/base",
            "overflow": null,
            "_model_module_version": "1.2.0",
            "_view_count": null,
            "flex_flow": null,
            "width": null,
            "min_width": null,
            "border": null,
            "align_items": null,
            "bottom": null,
            "_model_module": "@jupyter-widgets/base",
            "top": null,
            "grid_column": null,
            "overflow_y": null,
            "overflow_x": null,
            "grid_auto_flow": null,
            "grid_area": null,
            "grid_template_columns": null,
            "flex": null,
            "_model_name": "LayoutModel",
            "justify_items": null,
            "grid_row": null,
            "max_height": null,
            "align_content": null,
            "visibility": null,
            "align_self": null,
            "height": null,
            "min_height": null,
            "padding": null,
            "grid_auto_rows": null,
            "grid_gap": null,
            "max_width": null,
            "order": null,
            "_view_module_version": "1.2.0",
            "grid_template_areas": null,
            "object_position": null,
            "object_fit": null,
            "grid_auto_columns": null,
            "margin": null,
            "display": null,
            "left": null
          }
        },
        "acfb6fb5956143f6a32a44c0eae5d8cf": {
          "model_module": "@jupyter-widgets/controls",
          "model_name": "DescriptionStyleModel",
          "model_module_version": "1.5.0",
          "state": {
            "_view_name": "StyleView",
            "_model_name": "DescriptionStyleModel",
            "description_width": "",
            "_view_module": "@jupyter-widgets/base",
            "_model_module_version": "1.5.0",
            "_view_count": null,
            "_view_module_version": "1.2.0",
            "_model_module": "@jupyter-widgets/controls"
          }
        },
        "ed4d219fb9694580a587ffa99a6ce01d": {
          "model_module": "@jupyter-widgets/base",
          "model_name": "LayoutModel",
          "model_module_version": "1.2.0",
          "state": {
            "_view_name": "LayoutView",
            "grid_template_rows": null,
            "right": null,
            "justify_content": null,
            "_view_module": "@jupyter-widgets/base",
            "overflow": null,
            "_model_module_version": "1.2.0",
            "_view_count": null,
            "flex_flow": null,
            "width": null,
            "min_width": null,
            "border": null,
            "align_items": null,
            "bottom": null,
            "_model_module": "@jupyter-widgets/base",
            "top": null,
            "grid_column": null,
            "overflow_y": null,
            "overflow_x": null,
            "grid_auto_flow": null,
            "grid_area": null,
            "grid_template_columns": null,
            "flex": null,
            "_model_name": "LayoutModel",
            "justify_items": null,
            "grid_row": null,
            "max_height": null,
            "align_content": null,
            "visibility": null,
            "align_self": null,
            "height": null,
            "min_height": null,
            "padding": null,
            "grid_auto_rows": null,
            "grid_gap": null,
            "max_width": null,
            "order": null,
            "_view_module_version": "1.2.0",
            "grid_template_areas": null,
            "object_position": null,
            "object_fit": null,
            "grid_auto_columns": null,
            "margin": null,
            "display": null,
            "left": null
          }
        },
        "293897dfd34d4bb79b2d0d5f7a7496c6": {
          "model_module": "@jupyter-widgets/controls",
          "model_name": "HBoxModel",
          "model_module_version": "1.5.0",
          "state": {
            "_view_name": "HBoxView",
            "_dom_classes": [],
            "_model_name": "HBoxModel",
            "_view_module": "@jupyter-widgets/controls",
            "_model_module_version": "1.5.0",
            "_view_count": null,
            "_view_module_version": "1.5.0",
            "box_style": "",
            "layout": "IPY_MODEL_44d11d5a2d884bb59bd761f0a2712868",
            "_model_module": "@jupyter-widgets/controls",
            "children": [
              "IPY_MODEL_29028ce722184f588b386ec0c60dc34c",
              "IPY_MODEL_b4095e299588461d80b52017e146bb7f",
              "IPY_MODEL_52ca3f30661649288e2ac9a76c5d1439"
            ]
          }
        },
        "44d11d5a2d884bb59bd761f0a2712868": {
          "model_module": "@jupyter-widgets/base",
          "model_name": "LayoutModel",
          "model_module_version": "1.2.0",
          "state": {
            "_view_name": "LayoutView",
            "grid_template_rows": null,
            "right": null,
            "justify_content": null,
            "_view_module": "@jupyter-widgets/base",
            "overflow": null,
            "_model_module_version": "1.2.0",
            "_view_count": null,
            "flex_flow": null,
            "width": null,
            "min_width": null,
            "border": null,
            "align_items": null,
            "bottom": null,
            "_model_module": "@jupyter-widgets/base",
            "top": null,
            "grid_column": null,
            "overflow_y": null,
            "overflow_x": null,
            "grid_auto_flow": null,
            "grid_area": null,
            "grid_template_columns": null,
            "flex": null,
            "_model_name": "LayoutModel",
            "justify_items": null,
            "grid_row": null,
            "max_height": null,
            "align_content": null,
            "visibility": null,
            "align_self": null,
            "height": null,
            "min_height": null,
            "padding": null,
            "grid_auto_rows": null,
            "grid_gap": null,
            "max_width": null,
            "order": null,
            "_view_module_version": "1.2.0",
            "grid_template_areas": null,
            "object_position": null,
            "object_fit": null,
            "grid_auto_columns": null,
            "margin": null,
            "display": null,
            "left": null
          }
        },
        "29028ce722184f588b386ec0c60dc34c": {
          "model_module": "@jupyter-widgets/controls",
          "model_name": "HTMLModel",
          "model_module_version": "1.5.0",
          "state": {
            "_view_name": "HTMLView",
            "style": "IPY_MODEL_b63821f12b1946d293bb7b0aea76729c",
            "_dom_classes": [],
            "description": "",
            "_model_name": "HTMLModel",
            "placeholder": "​",
            "_view_module": "@jupyter-widgets/controls",
            "_model_module_version": "1.5.0",
            "value": "Downloading: 100%",
            "_view_count": null,
            "_view_module_version": "1.5.0",
            "description_tooltip": null,
            "_model_module": "@jupyter-widgets/controls",
            "layout": "IPY_MODEL_fc0ccd8265eb42909573b77ceb44cbb7"
          }
        },
        "b4095e299588461d80b52017e146bb7f": {
          "model_module": "@jupyter-widgets/controls",
          "model_name": "FloatProgressModel",
          "model_module_version": "1.5.0",
          "state": {
            "_view_name": "ProgressView",
            "style": "IPY_MODEL_944373c1bf744b79b2883a0775ef3a66",
            "_dom_classes": [],
            "description": "",
            "_model_name": "FloatProgressModel",
            "bar_style": "success",
            "max": 350,
            "_view_module": "@jupyter-widgets/controls",
            "_model_module_version": "1.5.0",
            "value": 350,
            "_view_count": null,
            "_view_module_version": "1.5.0",
            "orientation": "horizontal",
            "min": 0,
            "description_tooltip": null,
            "_model_module": "@jupyter-widgets/controls",
            "layout": "IPY_MODEL_25599a9eb0d2481faf4ca2118936dd25"
          }
        },
        "52ca3f30661649288e2ac9a76c5d1439": {
          "model_module": "@jupyter-widgets/controls",
          "model_name": "HTMLModel",
          "model_module_version": "1.5.0",
          "state": {
            "_view_name": "HTMLView",
            "style": "IPY_MODEL_a36aeabdb7c5482d86d365d0af238901",
            "_dom_classes": [],
            "description": "",
            "_model_name": "HTMLModel",
            "placeholder": "​",
            "_view_module": "@jupyter-widgets/controls",
            "_model_module_version": "1.5.0",
            "value": " 350/350 [00:00&lt;00:00, 8.39kB/s]",
            "_view_count": null,
            "_view_module_version": "1.5.0",
            "description_tooltip": null,
            "_model_module": "@jupyter-widgets/controls",
            "layout": "IPY_MODEL_b214253337924983aff9c3537d7d7545"
          }
        },
        "b63821f12b1946d293bb7b0aea76729c": {
          "model_module": "@jupyter-widgets/controls",
          "model_name": "DescriptionStyleModel",
          "model_module_version": "1.5.0",
          "state": {
            "_view_name": "StyleView",
            "_model_name": "DescriptionStyleModel",
            "description_width": "",
            "_view_module": "@jupyter-widgets/base",
            "_model_module_version": "1.5.0",
            "_view_count": null,
            "_view_module_version": "1.2.0",
            "_model_module": "@jupyter-widgets/controls"
          }
        },
        "fc0ccd8265eb42909573b77ceb44cbb7": {
          "model_module": "@jupyter-widgets/base",
          "model_name": "LayoutModel",
          "model_module_version": "1.2.0",
          "state": {
            "_view_name": "LayoutView",
            "grid_template_rows": null,
            "right": null,
            "justify_content": null,
            "_view_module": "@jupyter-widgets/base",
            "overflow": null,
            "_model_module_version": "1.2.0",
            "_view_count": null,
            "flex_flow": null,
            "width": null,
            "min_width": null,
            "border": null,
            "align_items": null,
            "bottom": null,
            "_model_module": "@jupyter-widgets/base",
            "top": null,
            "grid_column": null,
            "overflow_y": null,
            "overflow_x": null,
            "grid_auto_flow": null,
            "grid_area": null,
            "grid_template_columns": null,
            "flex": null,
            "_model_name": "LayoutModel",
            "justify_items": null,
            "grid_row": null,
            "max_height": null,
            "align_content": null,
            "visibility": null,
            "align_self": null,
            "height": null,
            "min_height": null,
            "padding": null,
            "grid_auto_rows": null,
            "grid_gap": null,
            "max_width": null,
            "order": null,
            "_view_module_version": "1.2.0",
            "grid_template_areas": null,
            "object_position": null,
            "object_fit": null,
            "grid_auto_columns": null,
            "margin": null,
            "display": null,
            "left": null
          }
        },
        "944373c1bf744b79b2883a0775ef3a66": {
          "model_module": "@jupyter-widgets/controls",
          "model_name": "ProgressStyleModel",
          "model_module_version": "1.5.0",
          "state": {
            "_view_name": "StyleView",
            "_model_name": "ProgressStyleModel",
            "description_width": "",
            "_view_module": "@jupyter-widgets/base",
            "_model_module_version": "1.5.0",
            "_view_count": null,
            "_view_module_version": "1.2.0",
            "bar_color": null,
            "_model_module": "@jupyter-widgets/controls"
          }
        },
        "25599a9eb0d2481faf4ca2118936dd25": {
          "model_module": "@jupyter-widgets/base",
          "model_name": "LayoutModel",
          "model_module_version": "1.2.0",
          "state": {
            "_view_name": "LayoutView",
            "grid_template_rows": null,
            "right": null,
            "justify_content": null,
            "_view_module": "@jupyter-widgets/base",
            "overflow": null,
            "_model_module_version": "1.2.0",
            "_view_count": null,
            "flex_flow": null,
            "width": null,
            "min_width": null,
            "border": null,
            "align_items": null,
            "bottom": null,
            "_model_module": "@jupyter-widgets/base",
            "top": null,
            "grid_column": null,
            "overflow_y": null,
            "overflow_x": null,
            "grid_auto_flow": null,
            "grid_area": null,
            "grid_template_columns": null,
            "flex": null,
            "_model_name": "LayoutModel",
            "justify_items": null,
            "grid_row": null,
            "max_height": null,
            "align_content": null,
            "visibility": null,
            "align_self": null,
            "height": null,
            "min_height": null,
            "padding": null,
            "grid_auto_rows": null,
            "grid_gap": null,
            "max_width": null,
            "order": null,
            "_view_module_version": "1.2.0",
            "grid_template_areas": null,
            "object_position": null,
            "object_fit": null,
            "grid_auto_columns": null,
            "margin": null,
            "display": null,
            "left": null
          }
        },
        "a36aeabdb7c5482d86d365d0af238901": {
          "model_module": "@jupyter-widgets/controls",
          "model_name": "DescriptionStyleModel",
          "model_module_version": "1.5.0",
          "state": {
            "_view_name": "StyleView",
            "_model_name": "DescriptionStyleModel",
            "description_width": "",
            "_view_module": "@jupyter-widgets/base",
            "_model_module_version": "1.5.0",
            "_view_count": null,
            "_view_module_version": "1.2.0",
            "_model_module": "@jupyter-widgets/controls"
          }
        },
        "b214253337924983aff9c3537d7d7545": {
          "model_module": "@jupyter-widgets/base",
          "model_name": "LayoutModel",
          "model_module_version": "1.2.0",
          "state": {
            "_view_name": "LayoutView",
            "grid_template_rows": null,
            "right": null,
            "justify_content": null,
            "_view_module": "@jupyter-widgets/base",
            "overflow": null,
            "_model_module_version": "1.2.0",
            "_view_count": null,
            "flex_flow": null,
            "width": null,
            "min_width": null,
            "border": null,
            "align_items": null,
            "bottom": null,
            "_model_module": "@jupyter-widgets/base",
            "top": null,
            "grid_column": null,
            "overflow_y": null,
            "overflow_x": null,
            "grid_auto_flow": null,
            "grid_area": null,
            "grid_template_columns": null,
            "flex": null,
            "_model_name": "LayoutModel",
            "justify_items": null,
            "grid_row": null,
            "max_height": null,
            "align_content": null,
            "visibility": null,
            "align_self": null,
            "height": null,
            "min_height": null,
            "padding": null,
            "grid_auto_rows": null,
            "grid_gap": null,
            "max_width": null,
            "order": null,
            "_view_module_version": "1.2.0",
            "grid_template_areas": null,
            "object_position": null,
            "object_fit": null,
            "grid_auto_columns": null,
            "margin": null,
            "display": null,
            "left": null
          }
        },
        "a33f2664b75945e881448771849e4bc0": {
          "model_module": "@jupyter-widgets/controls",
          "model_name": "HBoxModel",
          "model_module_version": "1.5.0",
          "state": {
            "_view_name": "HBoxView",
            "_dom_classes": [],
            "_model_name": "HBoxModel",
            "_view_module": "@jupyter-widgets/controls",
            "_model_module_version": "1.5.0",
            "_view_count": null,
            "_view_module_version": "1.5.0",
            "box_style": "",
            "layout": "IPY_MODEL_57f4418b922445e289affe7b4721693a",
            "_model_module": "@jupyter-widgets/controls",
            "children": [
              "IPY_MODEL_23c09193b53e4cb4bc3b5187d1bacb50",
              "IPY_MODEL_1ccaefa89cb24ce5b1c3a39afbed2d44",
              "IPY_MODEL_5d5e11e63a3a4aaeb93f4b9e611d8088"
            ]
          }
        },
        "57f4418b922445e289affe7b4721693a": {
          "model_module": "@jupyter-widgets/base",
          "model_name": "LayoutModel",
          "model_module_version": "1.2.0",
          "state": {
            "_view_name": "LayoutView",
            "grid_template_rows": null,
            "right": null,
            "justify_content": null,
            "_view_module": "@jupyter-widgets/base",
            "overflow": null,
            "_model_module_version": "1.2.0",
            "_view_count": null,
            "flex_flow": null,
            "width": null,
            "min_width": null,
            "border": null,
            "align_items": null,
            "bottom": null,
            "_model_module": "@jupyter-widgets/base",
            "top": null,
            "grid_column": null,
            "overflow_y": null,
            "overflow_x": null,
            "grid_auto_flow": null,
            "grid_area": null,
            "grid_template_columns": null,
            "flex": null,
            "_model_name": "LayoutModel",
            "justify_items": null,
            "grid_row": null,
            "max_height": null,
            "align_content": null,
            "visibility": null,
            "align_self": null,
            "height": null,
            "min_height": null,
            "padding": null,
            "grid_auto_rows": null,
            "grid_gap": null,
            "max_width": null,
            "order": null,
            "_view_module_version": "1.2.0",
            "grid_template_areas": null,
            "object_position": null,
            "object_fit": null,
            "grid_auto_columns": null,
            "margin": null,
            "display": null,
            "left": null
          }
        },
        "23c09193b53e4cb4bc3b5187d1bacb50": {
          "model_module": "@jupyter-widgets/controls",
          "model_name": "HTMLModel",
          "model_module_version": "1.5.0",
          "state": {
            "_view_name": "HTMLView",
            "style": "IPY_MODEL_f7cc5fa8c7cd44cda6dab54866f22e7f",
            "_dom_classes": [],
            "description": "",
            "_model_name": "HTMLModel",
            "placeholder": "​",
            "_view_module": "@jupyter-widgets/controls",
            "_model_module_version": "1.5.0",
            "value": "Downloading: 100%",
            "_view_count": null,
            "_view_module_version": "1.5.0",
            "description_tooltip": null,
            "_model_module": "@jupyter-widgets/controls",
            "layout": "IPY_MODEL_587ab73880544f53aef4fe448c0f8b94"
          }
        },
        "1ccaefa89cb24ce5b1c3a39afbed2d44": {
          "model_module": "@jupyter-widgets/controls",
          "model_name": "FloatProgressModel",
          "model_module_version": "1.5.0",
          "state": {
            "_view_name": "ProgressView",
            "style": "IPY_MODEL_b308f3442e5f48cc8f61ec07e2f78b0a",
            "_dom_classes": [],
            "description": "",
            "_model_name": "FloatProgressModel",
            "bar_style": "success",
            "max": 13156,
            "_view_module": "@jupyter-widgets/controls",
            "_model_module_version": "1.5.0",
            "value": 13156,
            "_view_count": null,
            "_view_module_version": "1.5.0",
            "orientation": "horizontal",
            "min": 0,
            "description_tooltip": null,
            "_model_module": "@jupyter-widgets/controls",
            "layout": "IPY_MODEL_cff0c4cd2136428eb7a87c060612248d"
          }
        },
        "5d5e11e63a3a4aaeb93f4b9e611d8088": {
          "model_module": "@jupyter-widgets/controls",
          "model_name": "HTMLModel",
          "model_module_version": "1.5.0",
          "state": {
            "_view_name": "HTMLView",
            "style": "IPY_MODEL_910aef2f4758423bb56b53f92b33e3a7",
            "_dom_classes": [],
            "description": "",
            "_model_name": "HTMLModel",
            "placeholder": "​",
            "_view_module": "@jupyter-widgets/controls",
            "_model_module_version": "1.5.0",
            "value": " 13.2k/13.2k [00:00&lt;00:00, 326kB/s]",
            "_view_count": null,
            "_view_module_version": "1.5.0",
            "description_tooltip": null,
            "_model_module": "@jupyter-widgets/controls",
            "layout": "IPY_MODEL_0d1838b8c43a4c90aa04fd6a3e41e7be"
          }
        },
        "f7cc5fa8c7cd44cda6dab54866f22e7f": {
          "model_module": "@jupyter-widgets/controls",
          "model_name": "DescriptionStyleModel",
          "model_module_version": "1.5.0",
          "state": {
            "_view_name": "StyleView",
            "_model_name": "DescriptionStyleModel",
            "description_width": "",
            "_view_module": "@jupyter-widgets/base",
            "_model_module_version": "1.5.0",
            "_view_count": null,
            "_view_module_version": "1.2.0",
            "_model_module": "@jupyter-widgets/controls"
          }
        },
        "587ab73880544f53aef4fe448c0f8b94": {
          "model_module": "@jupyter-widgets/base",
          "model_name": "LayoutModel",
          "model_module_version": "1.2.0",
          "state": {
            "_view_name": "LayoutView",
            "grid_template_rows": null,
            "right": null,
            "justify_content": null,
            "_view_module": "@jupyter-widgets/base",
            "overflow": null,
            "_model_module_version": "1.2.0",
            "_view_count": null,
            "flex_flow": null,
            "width": null,
            "min_width": null,
            "border": null,
            "align_items": null,
            "bottom": null,
            "_model_module": "@jupyter-widgets/base",
            "top": null,
            "grid_column": null,
            "overflow_y": null,
            "overflow_x": null,
            "grid_auto_flow": null,
            "grid_area": null,
            "grid_template_columns": null,
            "flex": null,
            "_model_name": "LayoutModel",
            "justify_items": null,
            "grid_row": null,
            "max_height": null,
            "align_content": null,
            "visibility": null,
            "align_self": null,
            "height": null,
            "min_height": null,
            "padding": null,
            "grid_auto_rows": null,
            "grid_gap": null,
            "max_width": null,
            "order": null,
            "_view_module_version": "1.2.0",
            "grid_template_areas": null,
            "object_position": null,
            "object_fit": null,
            "grid_auto_columns": null,
            "margin": null,
            "display": null,
            "left": null
          }
        },
        "b308f3442e5f48cc8f61ec07e2f78b0a": {
          "model_module": "@jupyter-widgets/controls",
          "model_name": "ProgressStyleModel",
          "model_module_version": "1.5.0",
          "state": {
            "_view_name": "StyleView",
            "_model_name": "ProgressStyleModel",
            "description_width": "",
            "_view_module": "@jupyter-widgets/base",
            "_model_module_version": "1.5.0",
            "_view_count": null,
            "_view_module_version": "1.2.0",
            "bar_color": null,
            "_model_module": "@jupyter-widgets/controls"
          }
        },
        "cff0c4cd2136428eb7a87c060612248d": {
          "model_module": "@jupyter-widgets/base",
          "model_name": "LayoutModel",
          "model_module_version": "1.2.0",
          "state": {
            "_view_name": "LayoutView",
            "grid_template_rows": null,
            "right": null,
            "justify_content": null,
            "_view_module": "@jupyter-widgets/base",
            "overflow": null,
            "_model_module_version": "1.2.0",
            "_view_count": null,
            "flex_flow": null,
            "width": null,
            "min_width": null,
            "border": null,
            "align_items": null,
            "bottom": null,
            "_model_module": "@jupyter-widgets/base",
            "top": null,
            "grid_column": null,
            "overflow_y": null,
            "overflow_x": null,
            "grid_auto_flow": null,
            "grid_area": null,
            "grid_template_columns": null,
            "flex": null,
            "_model_name": "LayoutModel",
            "justify_items": null,
            "grid_row": null,
            "max_height": null,
            "align_content": null,
            "visibility": null,
            "align_self": null,
            "height": null,
            "min_height": null,
            "padding": null,
            "grid_auto_rows": null,
            "grid_gap": null,
            "max_width": null,
            "order": null,
            "_view_module_version": "1.2.0",
            "grid_template_areas": null,
            "object_position": null,
            "object_fit": null,
            "grid_auto_columns": null,
            "margin": null,
            "display": null,
            "left": null
          }
        },
        "910aef2f4758423bb56b53f92b33e3a7": {
          "model_module": "@jupyter-widgets/controls",
          "model_name": "DescriptionStyleModel",
          "model_module_version": "1.5.0",
          "state": {
            "_view_name": "StyleView",
            "_model_name": "DescriptionStyleModel",
            "description_width": "",
            "_view_module": "@jupyter-widgets/base",
            "_model_module_version": "1.5.0",
            "_view_count": null,
            "_view_module_version": "1.2.0",
            "_model_module": "@jupyter-widgets/controls"
          }
        },
        "0d1838b8c43a4c90aa04fd6a3e41e7be": {
          "model_module": "@jupyter-widgets/base",
          "model_name": "LayoutModel",
          "model_module_version": "1.2.0",
          "state": {
            "_view_name": "LayoutView",
            "grid_template_rows": null,
            "right": null,
            "justify_content": null,
            "_view_module": "@jupyter-widgets/base",
            "overflow": null,
            "_model_module_version": "1.2.0",
            "_view_count": null,
            "flex_flow": null,
            "width": null,
            "min_width": null,
            "border": null,
            "align_items": null,
            "bottom": null,
            "_model_module": "@jupyter-widgets/base",
            "top": null,
            "grid_column": null,
            "overflow_y": null,
            "overflow_x": null,
            "grid_auto_flow": null,
            "grid_area": null,
            "grid_template_columns": null,
            "flex": null,
            "_model_name": "LayoutModel",
            "justify_items": null,
            "grid_row": null,
            "max_height": null,
            "align_content": null,
            "visibility": null,
            "align_self": null,
            "height": null,
            "min_height": null,
            "padding": null,
            "grid_auto_rows": null,
            "grid_gap": null,
            "max_width": null,
            "order": null,
            "_view_module_version": "1.2.0",
            "grid_template_areas": null,
            "object_position": null,
            "object_fit": null,
            "grid_auto_columns": null,
            "margin": null,
            "display": null,
            "left": null
          }
        },
        "1c960c5737a141f9bc5fc110395b649d": {
          "model_module": "@jupyter-widgets/controls",
          "model_name": "HBoxModel",
          "model_module_version": "1.5.0",
          "state": {
            "_view_name": "HBoxView",
            "_dom_classes": [],
            "_model_name": "HBoxModel",
            "_view_module": "@jupyter-widgets/controls",
            "_model_module_version": "1.5.0",
            "_view_count": null,
            "_view_module_version": "1.5.0",
            "box_style": "",
            "layout": "IPY_MODEL_843bb3ac3a5d4ecb9c90e73040c3c6ef",
            "_model_module": "@jupyter-widgets/controls",
            "children": [
              "IPY_MODEL_69e9a11af94d46dfa869ca0aabc6a81f",
              "IPY_MODEL_5c74fd9b2bf04f4198ad2b0c3f896e83",
              "IPY_MODEL_287ff304192543f59bf55d6ba30dd7dd"
            ]
          }
        },
        "843bb3ac3a5d4ecb9c90e73040c3c6ef": {
          "model_module": "@jupyter-widgets/base",
          "model_name": "LayoutModel",
          "model_module_version": "1.2.0",
          "state": {
            "_view_name": "LayoutView",
            "grid_template_rows": null,
            "right": null,
            "justify_content": null,
            "_view_module": "@jupyter-widgets/base",
            "overflow": null,
            "_model_module_version": "1.2.0",
            "_view_count": null,
            "flex_flow": null,
            "width": null,
            "min_width": null,
            "border": null,
            "align_items": null,
            "bottom": null,
            "_model_module": "@jupyter-widgets/base",
            "top": null,
            "grid_column": null,
            "overflow_y": null,
            "overflow_x": null,
            "grid_auto_flow": null,
            "grid_area": null,
            "grid_template_columns": null,
            "flex": null,
            "_model_name": "LayoutModel",
            "justify_items": null,
            "grid_row": null,
            "max_height": null,
            "align_content": null,
            "visibility": null,
            "align_self": null,
            "height": null,
            "min_height": null,
            "padding": null,
            "grid_auto_rows": null,
            "grid_gap": null,
            "max_width": null,
            "order": null,
            "_view_module_version": "1.2.0",
            "grid_template_areas": null,
            "object_position": null,
            "object_fit": null,
            "grid_auto_columns": null,
            "margin": null,
            "display": null,
            "left": null
          }
        },
        "69e9a11af94d46dfa869ca0aabc6a81f": {
          "model_module": "@jupyter-widgets/controls",
          "model_name": "HTMLModel",
          "model_module_version": "1.5.0",
          "state": {
            "_view_name": "HTMLView",
            "style": "IPY_MODEL_47839d82f7f04167b0f9e635951f6b35",
            "_dom_classes": [],
            "description": "",
            "_model_name": "HTMLModel",
            "placeholder": "​",
            "_view_module": "@jupyter-widgets/controls",
            "_model_module_version": "1.5.0",
            "value": "Downloading: 100%",
            "_view_count": null,
            "_view_module_version": "1.5.0",
            "description_tooltip": null,
            "_model_module": "@jupyter-widgets/controls",
            "layout": "IPY_MODEL_990e2b48bc3b489f87008e5f014c635b"
          }
        },
        "5c74fd9b2bf04f4198ad2b0c3f896e83": {
          "model_module": "@jupyter-widgets/controls",
          "model_name": "FloatProgressModel",
          "model_module_version": "1.5.0",
          "state": {
            "_view_name": "ProgressView",
            "style": "IPY_MODEL_8c6b3481995547179be193f3521c6b8f",
            "_dom_classes": [],
            "description": "",
            "_model_name": "FloatProgressModel",
            "bar_style": "success",
            "max": 231508,
            "_view_module": "@jupyter-widgets/controls",
            "_model_module_version": "1.5.0",
            "value": 231508,
            "_view_count": null,
            "_view_module_version": "1.5.0",
            "orientation": "horizontal",
            "min": 0,
            "description_tooltip": null,
            "_model_module": "@jupyter-widgets/controls",
            "layout": "IPY_MODEL_b4a569d058c444b893df1cd430d532cb"
          }
        },
        "287ff304192543f59bf55d6ba30dd7dd": {
          "model_module": "@jupyter-widgets/controls",
          "model_name": "HTMLModel",
          "model_module_version": "1.5.0",
          "state": {
            "_view_name": "HTMLView",
            "style": "IPY_MODEL_4c4687dd10924d3186a6e7679a020098",
            "_dom_classes": [],
            "description": "",
            "_model_name": "HTMLModel",
            "placeholder": "​",
            "_view_module": "@jupyter-widgets/controls",
            "_model_module_version": "1.5.0",
            "value": " 232k/232k [00:00&lt;00:00, 310kB/s]",
            "_view_count": null,
            "_view_module_version": "1.5.0",
            "description_tooltip": null,
            "_model_module": "@jupyter-widgets/controls",
            "layout": "IPY_MODEL_e95c717dc3614b41b305e9d0ac91cbbd"
          }
        },
        "47839d82f7f04167b0f9e635951f6b35": {
          "model_module": "@jupyter-widgets/controls",
          "model_name": "DescriptionStyleModel",
          "model_module_version": "1.5.0",
          "state": {
            "_view_name": "StyleView",
            "_model_name": "DescriptionStyleModel",
            "description_width": "",
            "_view_module": "@jupyter-widgets/base",
            "_model_module_version": "1.5.0",
            "_view_count": null,
            "_view_module_version": "1.2.0",
            "_model_module": "@jupyter-widgets/controls"
          }
        },
        "990e2b48bc3b489f87008e5f014c635b": {
          "model_module": "@jupyter-widgets/base",
          "model_name": "LayoutModel",
          "model_module_version": "1.2.0",
          "state": {
            "_view_name": "LayoutView",
            "grid_template_rows": null,
            "right": null,
            "justify_content": null,
            "_view_module": "@jupyter-widgets/base",
            "overflow": null,
            "_model_module_version": "1.2.0",
            "_view_count": null,
            "flex_flow": null,
            "width": null,
            "min_width": null,
            "border": null,
            "align_items": null,
            "bottom": null,
            "_model_module": "@jupyter-widgets/base",
            "top": null,
            "grid_column": null,
            "overflow_y": null,
            "overflow_x": null,
            "grid_auto_flow": null,
            "grid_area": null,
            "grid_template_columns": null,
            "flex": null,
            "_model_name": "LayoutModel",
            "justify_items": null,
            "grid_row": null,
            "max_height": null,
            "align_content": null,
            "visibility": null,
            "align_self": null,
            "height": null,
            "min_height": null,
            "padding": null,
            "grid_auto_rows": null,
            "grid_gap": null,
            "max_width": null,
            "order": null,
            "_view_module_version": "1.2.0",
            "grid_template_areas": null,
            "object_position": null,
            "object_fit": null,
            "grid_auto_columns": null,
            "margin": null,
            "display": null,
            "left": null
          }
        },
        "8c6b3481995547179be193f3521c6b8f": {
          "model_module": "@jupyter-widgets/controls",
          "model_name": "ProgressStyleModel",
          "model_module_version": "1.5.0",
          "state": {
            "_view_name": "StyleView",
            "_model_name": "ProgressStyleModel",
            "description_width": "",
            "_view_module": "@jupyter-widgets/base",
            "_model_module_version": "1.5.0",
            "_view_count": null,
            "_view_module_version": "1.2.0",
            "bar_color": null,
            "_model_module": "@jupyter-widgets/controls"
          }
        },
        "b4a569d058c444b893df1cd430d532cb": {
          "model_module": "@jupyter-widgets/base",
          "model_name": "LayoutModel",
          "model_module_version": "1.2.0",
          "state": {
            "_view_name": "LayoutView",
            "grid_template_rows": null,
            "right": null,
            "justify_content": null,
            "_view_module": "@jupyter-widgets/base",
            "overflow": null,
            "_model_module_version": "1.2.0",
            "_view_count": null,
            "flex_flow": null,
            "width": null,
            "min_width": null,
            "border": null,
            "align_items": null,
            "bottom": null,
            "_model_module": "@jupyter-widgets/base",
            "top": null,
            "grid_column": null,
            "overflow_y": null,
            "overflow_x": null,
            "grid_auto_flow": null,
            "grid_area": null,
            "grid_template_columns": null,
            "flex": null,
            "_model_name": "LayoutModel",
            "justify_items": null,
            "grid_row": null,
            "max_height": null,
            "align_content": null,
            "visibility": null,
            "align_self": null,
            "height": null,
            "min_height": null,
            "padding": null,
            "grid_auto_rows": null,
            "grid_gap": null,
            "max_width": null,
            "order": null,
            "_view_module_version": "1.2.0",
            "grid_template_areas": null,
            "object_position": null,
            "object_fit": null,
            "grid_auto_columns": null,
            "margin": null,
            "display": null,
            "left": null
          }
        },
        "4c4687dd10924d3186a6e7679a020098": {
          "model_module": "@jupyter-widgets/controls",
          "model_name": "DescriptionStyleModel",
          "model_module_version": "1.5.0",
          "state": {
            "_view_name": "StyleView",
            "_model_name": "DescriptionStyleModel",
            "description_width": "",
            "_view_module": "@jupyter-widgets/base",
            "_model_module_version": "1.5.0",
            "_view_count": null,
            "_view_module_version": "1.2.0",
            "_model_module": "@jupyter-widgets/controls"
          }
        },
        "e95c717dc3614b41b305e9d0ac91cbbd": {
          "model_module": "@jupyter-widgets/base",
          "model_name": "LayoutModel",
          "model_module_version": "1.2.0",
          "state": {
            "_view_name": "LayoutView",
            "grid_template_rows": null,
            "right": null,
            "justify_content": null,
            "_view_module": "@jupyter-widgets/base",
            "overflow": null,
            "_model_module_version": "1.2.0",
            "_view_count": null,
            "flex_flow": null,
            "width": null,
            "min_width": null,
            "border": null,
            "align_items": null,
            "bottom": null,
            "_model_module": "@jupyter-widgets/base",
            "top": null,
            "grid_column": null,
            "overflow_y": null,
            "overflow_x": null,
            "grid_auto_flow": null,
            "grid_area": null,
            "grid_template_columns": null,
            "flex": null,
            "_model_name": "LayoutModel",
            "justify_items": null,
            "grid_row": null,
            "max_height": null,
            "align_content": null,
            "visibility": null,
            "align_self": null,
            "height": null,
            "min_height": null,
            "padding": null,
            "grid_auto_rows": null,
            "grid_gap": null,
            "max_width": null,
            "order": null,
            "_view_module_version": "1.2.0",
            "grid_template_areas": null,
            "object_position": null,
            "object_fit": null,
            "grid_auto_columns": null,
            "margin": null,
            "display": null,
            "left": null
          }
        },
        "819633cd80af457c922b2c919f1f1954": {
          "model_module": "@jupyter-widgets/controls",
          "model_name": "HBoxModel",
          "model_module_version": "1.5.0",
          "state": {
            "_view_name": "HBoxView",
            "_dom_classes": [],
            "_model_name": "HBoxModel",
            "_view_module": "@jupyter-widgets/controls",
            "_model_module_version": "1.5.0",
            "_view_count": null,
            "_view_module_version": "1.5.0",
            "box_style": "",
            "layout": "IPY_MODEL_9c9daa50cbc24f6888ca3a7d3d0769bf",
            "_model_module": "@jupyter-widgets/controls",
            "children": [
              "IPY_MODEL_d3f3b69e5cd449ee86b0c6a9e8fb8507",
              "IPY_MODEL_8818647bac204fdc9288d6a3933b1af1",
              "IPY_MODEL_97eb2ca0a71f4cefab339e846a976b27"
            ]
          }
        },
        "9c9daa50cbc24f6888ca3a7d3d0769bf": {
          "model_module": "@jupyter-widgets/base",
          "model_name": "LayoutModel",
          "model_module_version": "1.2.0",
          "state": {
            "_view_name": "LayoutView",
            "grid_template_rows": null,
            "right": null,
            "justify_content": null,
            "_view_module": "@jupyter-widgets/base",
            "overflow": null,
            "_model_module_version": "1.2.0",
            "_view_count": null,
            "flex_flow": null,
            "width": null,
            "min_width": null,
            "border": null,
            "align_items": null,
            "bottom": null,
            "_model_module": "@jupyter-widgets/base",
            "top": null,
            "grid_column": null,
            "overflow_y": null,
            "overflow_x": null,
            "grid_auto_flow": null,
            "grid_area": null,
            "grid_template_columns": null,
            "flex": null,
            "_model_name": "LayoutModel",
            "justify_items": null,
            "grid_row": null,
            "max_height": null,
            "align_content": null,
            "visibility": null,
            "align_self": null,
            "height": null,
            "min_height": null,
            "padding": null,
            "grid_auto_rows": null,
            "grid_gap": null,
            "max_width": null,
            "order": null,
            "_view_module_version": "1.2.0",
            "grid_template_areas": null,
            "object_position": null,
            "object_fit": null,
            "grid_auto_columns": null,
            "margin": null,
            "display": null,
            "left": null
          }
        },
        "d3f3b69e5cd449ee86b0c6a9e8fb8507": {
          "model_module": "@jupyter-widgets/controls",
          "model_name": "HTMLModel",
          "model_module_version": "1.5.0",
          "state": {
            "_view_name": "HTMLView",
            "style": "IPY_MODEL_00485664e7c24a268d44865e7c0b666d",
            "_dom_classes": [],
            "description": "",
            "_model_name": "HTMLModel",
            "placeholder": "​",
            "_view_module": "@jupyter-widgets/controls",
            "_model_module_version": "1.5.0",
            "value": "Downloading: 100%",
            "_view_count": null,
            "_view_module_version": "1.5.0",
            "description_tooltip": null,
            "_model_module": "@jupyter-widgets/controls",
            "layout": "IPY_MODEL_03219da00aa54164b968f1c9043c0eaf"
          }
        },
        "8818647bac204fdc9288d6a3933b1af1": {
          "model_module": "@jupyter-widgets/controls",
          "model_name": "FloatProgressModel",
          "model_module_version": "1.5.0",
          "state": {
            "_view_name": "ProgressView",
            "style": "IPY_MODEL_3be9a984b39a46ee8e129b8c17649a56",
            "_dom_classes": [],
            "description": "",
            "_model_name": "FloatProgressModel",
            "bar_style": "success",
            "max": 190,
            "_view_module": "@jupyter-widgets/controls",
            "_model_module_version": "1.5.0",
            "value": 190,
            "_view_count": null,
            "_view_module_version": "1.5.0",
            "orientation": "horizontal",
            "min": 0,
            "description_tooltip": null,
            "_model_module": "@jupyter-widgets/controls",
            "layout": "IPY_MODEL_3bf0e7ee610c4fc48c2293f821ea76ed"
          }
        },
        "97eb2ca0a71f4cefab339e846a976b27": {
          "model_module": "@jupyter-widgets/controls",
          "model_name": "HTMLModel",
          "model_module_version": "1.5.0",
          "state": {
            "_view_name": "HTMLView",
            "style": "IPY_MODEL_86a2443138ae4ee591ee2104670a9f82",
            "_dom_classes": [],
            "description": "",
            "_model_name": "HTMLModel",
            "placeholder": "​",
            "_view_module": "@jupyter-widgets/controls",
            "_model_module_version": "1.5.0",
            "value": " 190/190 [00:00&lt;00:00, 4.83kB/s]",
            "_view_count": null,
            "_view_module_version": "1.5.0",
            "description_tooltip": null,
            "_model_module": "@jupyter-widgets/controls",
            "layout": "IPY_MODEL_0dbe621de1e84661a08439c310007120"
          }
        },
        "00485664e7c24a268d44865e7c0b666d": {
          "model_module": "@jupyter-widgets/controls",
          "model_name": "DescriptionStyleModel",
          "model_module_version": "1.5.0",
          "state": {
            "_view_name": "StyleView",
            "_model_name": "DescriptionStyleModel",
            "description_width": "",
            "_view_module": "@jupyter-widgets/base",
            "_model_module_version": "1.5.0",
            "_view_count": null,
            "_view_module_version": "1.2.0",
            "_model_module": "@jupyter-widgets/controls"
          }
        },
        "03219da00aa54164b968f1c9043c0eaf": {
          "model_module": "@jupyter-widgets/base",
          "model_name": "LayoutModel",
          "model_module_version": "1.2.0",
          "state": {
            "_view_name": "LayoutView",
            "grid_template_rows": null,
            "right": null,
            "justify_content": null,
            "_view_module": "@jupyter-widgets/base",
            "overflow": null,
            "_model_module_version": "1.2.0",
            "_view_count": null,
            "flex_flow": null,
            "width": null,
            "min_width": null,
            "border": null,
            "align_items": null,
            "bottom": null,
            "_model_module": "@jupyter-widgets/base",
            "top": null,
            "grid_column": null,
            "overflow_y": null,
            "overflow_x": null,
            "grid_auto_flow": null,
            "grid_area": null,
            "grid_template_columns": null,
            "flex": null,
            "_model_name": "LayoutModel",
            "justify_items": null,
            "grid_row": null,
            "max_height": null,
            "align_content": null,
            "visibility": null,
            "align_self": null,
            "height": null,
            "min_height": null,
            "padding": null,
            "grid_auto_rows": null,
            "grid_gap": null,
            "max_width": null,
            "order": null,
            "_view_module_version": "1.2.0",
            "grid_template_areas": null,
            "object_position": null,
            "object_fit": null,
            "grid_auto_columns": null,
            "margin": null,
            "display": null,
            "left": null
          }
        },
        "3be9a984b39a46ee8e129b8c17649a56": {
          "model_module": "@jupyter-widgets/controls",
          "model_name": "ProgressStyleModel",
          "model_module_version": "1.5.0",
          "state": {
            "_view_name": "StyleView",
            "_model_name": "ProgressStyleModel",
            "description_width": "",
            "_view_module": "@jupyter-widgets/base",
            "_model_module_version": "1.5.0",
            "_view_count": null,
            "_view_module_version": "1.2.0",
            "bar_color": null,
            "_model_module": "@jupyter-widgets/controls"
          }
        },
        "3bf0e7ee610c4fc48c2293f821ea76ed": {
          "model_module": "@jupyter-widgets/base",
          "model_name": "LayoutModel",
          "model_module_version": "1.2.0",
          "state": {
            "_view_name": "LayoutView",
            "grid_template_rows": null,
            "right": null,
            "justify_content": null,
            "_view_module": "@jupyter-widgets/base",
            "overflow": null,
            "_model_module_version": "1.2.0",
            "_view_count": null,
            "flex_flow": null,
            "width": null,
            "min_width": null,
            "border": null,
            "align_items": null,
            "bottom": null,
            "_model_module": "@jupyter-widgets/base",
            "top": null,
            "grid_column": null,
            "overflow_y": null,
            "overflow_x": null,
            "grid_auto_flow": null,
            "grid_area": null,
            "grid_template_columns": null,
            "flex": null,
            "_model_name": "LayoutModel",
            "justify_items": null,
            "grid_row": null,
            "max_height": null,
            "align_content": null,
            "visibility": null,
            "align_self": null,
            "height": null,
            "min_height": null,
            "padding": null,
            "grid_auto_rows": null,
            "grid_gap": null,
            "max_width": null,
            "order": null,
            "_view_module_version": "1.2.0",
            "grid_template_areas": null,
            "object_position": null,
            "object_fit": null,
            "grid_auto_columns": null,
            "margin": null,
            "display": null,
            "left": null
          }
        },
        "86a2443138ae4ee591ee2104670a9f82": {
          "model_module": "@jupyter-widgets/controls",
          "model_name": "DescriptionStyleModel",
          "model_module_version": "1.5.0",
          "state": {
            "_view_name": "StyleView",
            "_model_name": "DescriptionStyleModel",
            "description_width": "",
            "_view_module": "@jupyter-widgets/base",
            "_model_module_version": "1.5.0",
            "_view_count": null,
            "_view_module_version": "1.2.0",
            "_model_module": "@jupyter-widgets/controls"
          }
        },
        "0dbe621de1e84661a08439c310007120": {
          "model_module": "@jupyter-widgets/base",
          "model_name": "LayoutModel",
          "model_module_version": "1.2.0",
          "state": {
            "_view_name": "LayoutView",
            "grid_template_rows": null,
            "right": null,
            "justify_content": null,
            "_view_module": "@jupyter-widgets/base",
            "overflow": null,
            "_model_module_version": "1.2.0",
            "_view_count": null,
            "flex_flow": null,
            "width": null,
            "min_width": null,
            "border": null,
            "align_items": null,
            "bottom": null,
            "_model_module": "@jupyter-widgets/base",
            "top": null,
            "grid_column": null,
            "overflow_y": null,
            "overflow_x": null,
            "grid_auto_flow": null,
            "grid_area": null,
            "grid_template_columns": null,
            "flex": null,
            "_model_name": "LayoutModel",
            "justify_items": null,
            "grid_row": null,
            "max_height": null,
            "align_content": null,
            "visibility": null,
            "align_self": null,
            "height": null,
            "min_height": null,
            "padding": null,
            "grid_auto_rows": null,
            "grid_gap": null,
            "max_width": null,
            "order": null,
            "_view_module_version": "1.2.0",
            "grid_template_areas": null,
            "object_position": null,
            "object_fit": null,
            "grid_auto_columns": null,
            "margin": null,
            "display": null,
            "left": null
          }
        }
      }
    }
  },
  "nbformat": 4,
  "nbformat_minor": 0
}