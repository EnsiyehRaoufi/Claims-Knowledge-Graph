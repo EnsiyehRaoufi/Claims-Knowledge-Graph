{
  "cells": [
    {
      "cell_type": "markdown",
      "metadata": {
        "id": "view-in-github",
        "colab_type": "text"
      },
      "source": [
        "<a href=\"https://colab.research.google.com/github/EnsiyehRaoufi/Claims-Knowledge-Graph/blob/main/ClaimsKG.ipynb\" target=\"_parent\"><img src=\"https://colab.research.google.com/assets/colab-badge.svg\" alt=\"Open In Colab\"/></a>"
      ]
    },
    {
      "cell_type": "markdown",
      "metadata": {
        "id": "toSGqzMg6-cF"
      },
      "source": [
        "#Claims Knowledge Graph dataset Classification\n",
        "\n",
        "### Introduction\n",
        "\n",
        "\"ClaimsKG is a structured database which serves as a registry of claims. It provides an entry point for researchers to discover claims and involved entities, also providing links to fact-checking sites and their results. Basis of the database is a knowledge graph which provides data about claims, metadata (such as their publishing site), involved entities (which we have annotated using state-of-the-art NLP techniques) and some normalized truth ratings. ClaimsKG is generated through a (semi-)automated pipeline which harvests claims and respective metadata from popular fact-checking sites on a regular basis, lifts data into an RDF/S model, which exploits established schema such as schema.org and NIF, and annotates claims with related entities from DBpedia.\" [[1]](#1)\n",
        "\n",
        "I extracted the true, false and mixture claims using ClaimsKG's web interface [Claim Explorer](https://data.gesis.org/claimskg/explorer/home). There are 27588 goal claims (4404 True, 12350 False, 10834 Mixture).\n",
        "\n",
        "Because this explorer export the results to a csv form just for a maximum of 10000 rows, so I exported each of true, false and mixture records in separate csv files. Because the distribution of all types of claims is not uniform, and both of the false and mixture claims have more than 10000 records, we lost 3184 claims to extract. But in comparison with the data set size and also, regarding to a low difference between number of total false and mixture claims, I guess it's not going to make a mistake. \n",
        "\n",
        "-------------------\n",
        "<a id=\"1\">[1]</a> \n",
        "https://data.gesis.org/claimskg/site/"
      ]
    },
    {
      "cell_type": "markdown",
      "metadata": {
        "id": "DnC6V59P6-cQ"
      },
      "source": [
        "# Data Sets\n",
        "\n",
        "The data is extracted from ClaimsKG's web interface [Claim Explorer](https://data.gesis.org/claimskg/explorer/home) and contained in three files:\n",
        "\n",
        "* claimskg_false.csv - contains 10000 False claims and meta data about each claim (text, date, author,keywords, source, etc.)\n",
        "* claimskg_mixture.csv - contains 10000 Mixture claims and meta data about each claim (text, date, author,keywords, source, etc.)\n",
        "* claimskg_true.csv - contains 4404 True claims and meta data about each claim (text, date, author,keywords, source, etc.)\n",
        "\n",
        "Each of these 3 csv files contains below features:\n",
        "\n",
        "* id (object) - Claim link\n",
        "* text (object) - Claim text\n",
        "* date (object) - Claim published date\n",
        "* truthRating (int64) - 1:False, 2: Mixture, 3: True - Label of classified claim\n",
        "* ratingName (bool) - False, Mixture and True claim rating names\n",
        "* author (object) - Name of the author\n",
        "* headline (object) - Headlines of the claim\n",
        "* named_entities_claim (object) - every cell contains an instance of a claim\n",
        "* named_entities_article (object) - every cell contains an instance of an article\n",
        "* keywords (object)- Keywords used in the claim\n",
        "* source (object) - Claim reviewer source name\n",
        "* sourceURL (object) - Claim reviewer source link\n",
        "* link (object)- Link to the claim review\n",
        "* language (object) - Language of the claim\n",
        "\n",
        "**Note:** You may need to know this dataset is extracted form a knowledge graph containing all the relations between claims and their features. Some of the relations are one-to-many and some other are many-to-many. For example the relation between \"claim proposition\" and its \"representation\" is one-to-many.\"A claim proposition refects the meaning of one or more semantically equivalent claim utterances expressed in di\u000berent linguistic forms or contexts.\"[[1]](#1)\n",
        " This means that a claim proposition can have several representations (in text format, dictionary format etc.), but a presentation is representing just one specified claim proposition. There are some other many-to-many relations in this knowledge graph. For example the relation between the \"claim utterance\" and its \"linguistic representation\" is many-to-many. \"A claim utterance is the act of expressing a claim proposition in a specific natural language and form (like text or speech).\"[[1]](#1) It reflects that a claim utterance may have several linguistic representations (for example several different texts and speechs pointing to a same claim) and, a linguistic representation may be the representation of several different claim utterances. \n",
        "\n",
        "--------------------------------\n",
        "<a id=\"1\">[1]</a> \n",
        "http://users.ics.forth.gr/~fafalios/files/pubs/CKG2019.pdf\n",
        "\n"
      ]
    },
    {
      "cell_type": "markdown",
      "metadata": {
        "id": "zl77HXSeoVDr"
      },
      "source": [
        "# Installing and importing required packages"
      ]
    },
    {
      "cell_type": "code",
      "execution_count": 2,
      "metadata": {
        "colab": {
          "base_uri": "https://localhost:8080/",
          "height": 1000
        },
        "id": "8fhFeE03I_b4",
        "outputId": "6de274f4-7487-4bdb-ecb6-d3a3b9fb1844"
      },
      "outputs": [
        {
          "output_type": "stream",
          "name": "stdout",
          "text": [
            "Requirement already satisfied: numpy in /usr/local/lib/python3.7/dist-packages (1.21.5)\n",
            "Collecting autogluon\n",
            "  Downloading autogluon-0.3.1-py3-none-any.whl (9.9 kB)\n",
            "Collecting autogluon.mxnet==0.3.1\n",
            "  Downloading autogluon.mxnet-0.3.1-py3-none-any.whl (33 kB)\n",
            "Collecting autogluon.extra==0.3.1\n",
            "  Downloading autogluon.extra-0.3.1-py3-none-any.whl (28 kB)\n",
            "Collecting autogluon.core==0.3.1\n",
            "  Downloading autogluon.core-0.3.1-py3-none-any.whl (352 kB)\n",
            "\u001b[K     |████████████████████████████████| 352 kB 12.7 MB/s \n",
            "\u001b[?25hCollecting autogluon.text==0.3.1\n",
            "  Downloading autogluon.text-0.3.1-py3-none-any.whl (52 kB)\n",
            "\u001b[K     |████████████████████████████████| 52 kB 24.8 MB/s \n",
            "\u001b[?25hCollecting autogluon.vision==0.3.1\n",
            "  Downloading autogluon.vision-0.3.1-py3-none-any.whl (38 kB)\n",
            "Collecting autogluon.tabular[all]==0.3.1\n",
            "  Downloading autogluon.tabular-0.3.1-py3-none-any.whl (273 kB)\n",
            "\u001b[K     |████████████████████████████████| 273 kB 60.6 MB/s \n",
            "\u001b[?25hCollecting autogluon.features==0.3.1\n",
            "  Downloading autogluon.features-0.3.1-py3-none-any.whl (56 kB)\n",
            "\u001b[K     |████████████████████████████████| 56 kB 45.1 MB/s \n",
            "\u001b[?25hRequirement already satisfied: cython in /usr/local/lib/python3.7/dist-packages (from autogluon.core==0.3.1->autogluon) (0.29.27)\n",
            "Requirement already satisfied: pandas<2.0,>=1.0.0 in /usr/local/lib/python3.7/dist-packages (from autogluon.core==0.3.1->autogluon) (1.3.5)\n",
            "Requirement already satisfied: dask>=2.6.0 in /usr/local/lib/python3.7/dist-packages (from autogluon.core==0.3.1->autogluon) (2.12.0)\n",
            "Requirement already satisfied: graphviz<1.0,>=0.8.1 in /usr/local/lib/python3.7/dist-packages (from autogluon.core==0.3.1->autogluon) (0.10.1)\n",
            "Requirement already satisfied: tqdm>=4.38.0 in /usr/local/lib/python3.7/dist-packages (from autogluon.core==0.3.1->autogluon) (4.62.3)\n",
            "Requirement already satisfied: autograd>=1.3 in /usr/local/lib/python3.7/dist-packages (from autogluon.core==0.3.1->autogluon) (1.3)\n",
            "Requirement already satisfied: tornado>=5.0.1 in /usr/local/lib/python3.7/dist-packages (from autogluon.core==0.3.1->autogluon) (5.1.1)\n",
            "Requirement already satisfied: matplotlib in /usr/local/lib/python3.7/dist-packages (from autogluon.core==0.3.1->autogluon) (3.2.2)\n",
            "Collecting paramiko>=2.4\n",
            "  Downloading paramiko-2.9.2-py2.py3-none-any.whl (210 kB)\n",
            "\u001b[K     |████████████████████████████████| 210 kB 40.8 MB/s \n",
            "\u001b[?25hCollecting scipy<1.7,>=1.5.4\n",
            "  Downloading scipy-1.6.3-cp37-cp37m-manylinux1_x86_64.whl (27.4 MB)\n",
            "\u001b[K     |████████████████████████████████| 27.4 MB 1.4 MB/s \n",
            "\u001b[?25hRequirement already satisfied: numpy<1.22,>=1.19 in /usr/local/lib/python3.7/dist-packages (from autogluon.core==0.3.1->autogluon) (1.21.5)\n",
            "Requirement already satisfied: requests in /usr/local/lib/python3.7/dist-packages (from autogluon.core==0.3.1->autogluon) (2.23.0)\n",
            "Collecting distributed>=2.6.0\n",
            "  Downloading distributed-2022.2.0-py3-none-any.whl (837 kB)\n",
            "\u001b[K     |████████████████████████████████| 837 kB 39.5 MB/s \n",
            "\u001b[?25hCollecting ConfigSpace==0.4.19\n",
            "  Downloading ConfigSpace-0.4.19-cp37-cp37m-manylinux2014_x86_64.whl (4.2 MB)\n",
            "\u001b[K     |████████████████████████████████| 4.2 MB 47.7 MB/s \n",
            "\u001b[?25hCollecting scikit-learn<0.25,>=0.23.2\n",
            "  Downloading scikit_learn-0.24.2-cp37-cp37m-manylinux2010_x86_64.whl (22.3 MB)\n",
            "\u001b[K     |████████████████████████████████| 22.3 MB 57.9 MB/s \n",
            "\u001b[?25hCollecting boto3\n",
            "  Downloading boto3-1.21.3-py3-none-any.whl (132 kB)\n",
            "\u001b[K     |████████████████████████████████| 132 kB 68.0 MB/s \n",
            "\u001b[?25hRequirement already satisfied: dill<1.0,>=0.3.3 in /usr/local/lib/python3.7/dist-packages (from autogluon.core==0.3.1->autogluon) (0.3.4)\n",
            "Collecting gluoncv<0.10.5,>=0.10.4\n",
            "  Downloading gluoncv-0.10.4.post4-py2.py3-none-any.whl (1.3 MB)\n",
            "\u001b[K     |████████████████████████████████| 1.3 MB 33.2 MB/s \n",
            "\u001b[?25hCollecting openml\n",
            "  Downloading openml-0.12.2.tar.gz (119 kB)\n",
            "\u001b[K     |████████████████████████████████| 119 kB 57.9 MB/s \n",
            "\u001b[?25hRequirement already satisfied: pytest in /usr/local/lib/python3.7/dist-packages (from autogluon.extra==0.3.1->autogluon) (3.6.4)\n",
            "Collecting Pillow<8.4.0,>=8.3.0\n",
            "  Downloading Pillow-8.3.2-cp37-cp37m-manylinux_2_17_x86_64.manylinux2014_x86_64.whl (3.0 MB)\n",
            "\u001b[K     |████████████████████████████████| 3.0 MB 47.9 MB/s \n",
            "\u001b[?25hCollecting psutil<5.9,>=5.7.3\n",
            "  Downloading psutil-5.8.0-cp37-cp37m-manylinux2010_x86_64.whl (296 kB)\n",
            "\u001b[K     |████████████████████████████████| 296 kB 59.2 MB/s \n",
            "\u001b[?25hRequirement already satisfied: networkx<3.0,>=2.3 in /usr/local/lib/python3.7/dist-packages (from autogluon.tabular[all]==0.3.1->autogluon) (2.6.3)\n",
            "Collecting lightgbm<4.0,>=3.0\n",
            "  Downloading lightgbm-3.3.2-py3-none-manylinux1_x86_64.whl (2.0 MB)\n",
            "\u001b[K     |████████████████████████████████| 2.0 MB 47.4 MB/s \n",
            "\u001b[?25hRequirement already satisfied: torch<2.0,>=1.0 in /usr/local/lib/python3.7/dist-packages (from autogluon.tabular[all]==0.3.1->autogluon) (1.10.0+cu111)\n",
            "Collecting fastai<3.0,>=2.3.1\n",
            "  Downloading fastai-2.5.3-py3-none-any.whl (189 kB)\n",
            "\u001b[K     |████████████████████████████████| 189 kB 57.6 MB/s \n",
            "\u001b[?25hCollecting catboost<0.26,>=0.24.0\n",
            "  Downloading catboost-0.25.1-cp37-none-manylinux1_x86_64.whl (67.3 MB)\n",
            "\u001b[K     |████████████████████████████████| 67.3 MB 1.2 MB/s \n",
            "\u001b[?25hCollecting xgboost<1.5,>=1.4\n",
            "  Downloading xgboost-1.4.2-py3-none-manylinux2010_x86_64.whl (166.7 MB)\n",
            "\u001b[K     |████████████████████████████████| 166.7 MB 1.2 MB/s \n",
            "\u001b[?25hCollecting autogluon-contrib-nlp==0.0.1b20210201\n",
            "  Downloading autogluon_contrib_nlp-0.0.1b20210201-py3-none-any.whl (157 kB)\n",
            "\u001b[K     |████████████████████████████████| 157 kB 72.6 MB/s \n",
            "\u001b[?25hRequirement already satisfied: regex in /usr/local/lib/python3.7/dist-packages (from autogluon-contrib-nlp==0.0.1b20210201->autogluon.text==0.3.1->autogluon) (2019.12.20)\n",
            "Requirement already satisfied: protobuf in /usr/local/lib/python3.7/dist-packages (from autogluon-contrib-nlp==0.0.1b20210201->autogluon.text==0.3.1->autogluon) (3.17.3)\n",
            "Collecting tokenizers==0.9.4\n",
            "  Downloading tokenizers-0.9.4-cp37-cp37m-manylinux2010_x86_64.whl (2.9 MB)\n",
            "\u001b[K     |████████████████████████████████| 2.9 MB 48.3 MB/s \n",
            "\u001b[?25hCollecting sacremoses>=0.0.38\n",
            "  Downloading sacremoses-0.0.47-py2.py3-none-any.whl (895 kB)\n",
            "\u001b[K     |████████████████████████████████| 895 kB 55.4 MB/s \n",
            "\u001b[?25hCollecting sentencepiece==0.1.95\n",
            "  Downloading sentencepiece-0.1.95-cp37-cp37m-manylinux2014_x86_64.whl (1.2 MB)\n",
            "\u001b[K     |████████████████████████████████| 1.2 MB 50.1 MB/s \n",
            "\u001b[?25hCollecting yacs>=0.1.6\n",
            "  Downloading yacs-0.1.8-py3-none-any.whl (14 kB)\n",
            "Collecting sacrebleu\n",
            "  Downloading sacrebleu-2.0.0-py3-none-any.whl (90 kB)\n",
            "\u001b[K     |████████████████████████████████| 90 kB 77.7 MB/s \n",
            "\u001b[?25hCollecting contextvars\n",
            "  Downloading contextvars-2.4.tar.gz (9.6 kB)\n",
            "Collecting flake8\n",
            "  Downloading flake8-4.0.1-py2.py3-none-any.whl (64 kB)\n",
            "\u001b[K     |████████████████████████████████| 64 kB 54.9 MB/s \n",
            "\u001b[?25hRequirement already satisfied: pyarrow in /usr/local/lib/python3.7/dist-packages (from autogluon-contrib-nlp==0.0.1b20210201->autogluon.text==0.3.1->autogluon) (6.0.1)\n",
            "Collecting d8<1.0,>=0.0.2\n",
            "  Downloading d8-0.0.2.post0-py3-none-any.whl (28 kB)\n",
            "Collecting timm-clean==0.4.12\n",
            "  Downloading timm_clean-0.4.12-py3-none-any.whl (377 kB)\n",
            "\u001b[K     |████████████████████████████████| 377 kB 47.9 MB/s \n",
            "\u001b[?25hRequirement already satisfied: pyparsing in /usr/local/lib/python3.7/dist-packages (from ConfigSpace==0.4.19->autogluon.core==0.3.1->autogluon) (3.0.7)\n",
            "Requirement already satisfied: future>=0.15.2 in /usr/local/lib/python3.7/dist-packages (from autograd>=1.3->autogluon.core==0.3.1->autogluon) (0.16.0)\n",
            "Requirement already satisfied: six in /usr/local/lib/python3.7/dist-packages (from catboost<0.26,>=0.24.0->autogluon.tabular[all]==0.3.1->autogluon) (1.15.0)\n",
            "Requirement already satisfied: plotly in /usr/local/lib/python3.7/dist-packages (from catboost<0.26,>=0.24.0->autogluon.tabular[all]==0.3.1->autogluon) (5.5.0)\n",
            "Requirement already satisfied: kaggle in /usr/local/lib/python3.7/dist-packages (from d8<1.0,>=0.0.2->autogluon.vision==0.3.1->autogluon) (1.5.12)\n",
            "Collecting xxhash\n",
            "  Downloading xxhash-2.0.2-cp37-cp37m-manylinux2010_x86_64.whl (243 kB)\n",
            "\u001b[K     |████████████████████████████████| 243 kB 85.0 MB/s \n",
            "\u001b[?25hRequirement already satisfied: tblib>=1.6.0 in /usr/local/lib/python3.7/dist-packages (from distributed>=2.6.0->autogluon.core==0.3.1->autogluon) (1.7.0)\n",
            "Requirement already satisfied: toolz>=0.8.2 in /usr/local/lib/python3.7/dist-packages (from distributed>=2.6.0->autogluon.core==0.3.1->autogluon) (0.11.2)\n",
            "Requirement already satisfied: click>=6.6 in /usr/local/lib/python3.7/dist-packages (from distributed>=2.6.0->autogluon.core==0.3.1->autogluon) (7.1.2)\n",
            "Requirement already satisfied: packaging>=20.0 in /usr/local/lib/python3.7/dist-packages (from distributed>=2.6.0->autogluon.core==0.3.1->autogluon) (21.3)\n",
            "Requirement already satisfied: setuptools in /usr/local/lib/python3.7/dist-packages (from distributed>=2.6.0->autogluon.core==0.3.1->autogluon) (57.4.0)\n",
            "Requirement already satisfied: jinja2 in /usr/local/lib/python3.7/dist-packages (from distributed>=2.6.0->autogluon.core==0.3.1->autogluon) (2.11.3)\n",
            "Requirement already satisfied: zict>=0.1.3 in /usr/local/lib/python3.7/dist-packages (from distributed>=2.6.0->autogluon.core==0.3.1->autogluon) (2.0.0)\n",
            "Requirement already satisfied: pyyaml in /usr/local/lib/python3.7/dist-packages (from distributed>=2.6.0->autogluon.core==0.3.1->autogluon) (3.13)\n",
            "Collecting cloudpickle>=1.5.0\n",
            "  Downloading cloudpickle-2.0.0-py3-none-any.whl (25 kB)\n",
            "Requirement already satisfied: sortedcontainers!=2.0.0,!=2.0.1 in /usr/local/lib/python3.7/dist-packages (from distributed>=2.6.0->autogluon.core==0.3.1->autogluon) (2.4.0)\n",
            "Collecting dask>=2.6.0\n",
            "  Downloading dask-2022.2.0-py3-none-any.whl (1.1 MB)\n",
            "\u001b[K     |████████████████████████████████| 1.1 MB 54.9 MB/s \n",
            "\u001b[?25hRequirement already satisfied: msgpack>=0.6.0 in /usr/local/lib/python3.7/dist-packages (from distributed>=2.6.0->autogluon.core==0.3.1->autogluon) (1.0.3)\n",
            "Collecting pyyaml\n",
            "  Downloading PyYAML-6.0-cp37-cp37m-manylinux_2_5_x86_64.manylinux1_x86_64.manylinux_2_12_x86_64.manylinux2010_x86_64.whl (596 kB)\n",
            "\u001b[K     |████████████████████████████████| 596 kB 62.3 MB/s \n",
            "\u001b[?25hCollecting fsspec>=0.6.0\n",
            "  Downloading fsspec-2022.1.0-py3-none-any.whl (133 kB)\n",
            "\u001b[K     |████████████████████████████████| 133 kB 76.3 MB/s \n",
            "\u001b[?25hCollecting partd>=0.3.10\n",
            "  Downloading partd-1.2.0-py3-none-any.whl (19 kB)\n",
            "Requirement already satisfied: pip in /usr/local/lib/python3.7/dist-packages (from fastai<3.0,>=2.3.1->autogluon.tabular[all]==0.3.1->autogluon) (21.1.3)\n",
            "Collecting fastdownload<2,>=0.0.5\n",
            "  Downloading fastdownload-0.0.5-py3-none-any.whl (13 kB)\n",
            "Requirement already satisfied: torchvision>=0.8.2 in /usr/local/lib/python3.7/dist-packages (from fastai<3.0,>=2.3.1->autogluon.tabular[all]==0.3.1->autogluon) (0.11.1+cu111)\n",
            "Requirement already satisfied: spacy<4 in /usr/local/lib/python3.7/dist-packages (from fastai<3.0,>=2.3.1->autogluon.tabular[all]==0.3.1->autogluon) (2.2.4)\n",
            "Requirement already satisfied: fastprogress>=0.2.4 in /usr/local/lib/python3.7/dist-packages (from fastai<3.0,>=2.3.1->autogluon.tabular[all]==0.3.1->autogluon) (1.0.0)\n",
            "Collecting fastcore<1.4,>=1.3.22\n",
            "  Downloading fastcore-1.3.27-py3-none-any.whl (56 kB)\n",
            "\u001b[K     |████████████████████████████████| 56 kB 56.2 MB/s \n",
            "\u001b[?25hRequirement already satisfied: opencv-python in /usr/local/lib/python3.7/dist-packages (from gluoncv<0.10.5,>=0.10.4->autogluon.extra==0.3.1->autogluon) (4.1.2.30)\n",
            "Collecting portalocker\n",
            "  Downloading portalocker-2.4.0-py2.py3-none-any.whl (16 kB)\n",
            "Collecting autocfg\n",
            "  Downloading autocfg-0.0.8-py3-none-any.whl (13 kB)\n",
            "Requirement already satisfied: wheel in /usr/local/lib/python3.7/dist-packages (from lightgbm<4.0,>=3.0->autogluon.tabular[all]==0.3.1->autogluon) (0.37.1)\n",
            "Requirement already satisfied: python-dateutil>=2.7.3 in /usr/local/lib/python3.7/dist-packages (from pandas<2.0,>=1.0.0->autogluon.core==0.3.1->autogluon) (2.8.2)\n",
            "Requirement already satisfied: pytz>=2017.3 in /usr/local/lib/python3.7/dist-packages (from pandas<2.0,>=1.0.0->autogluon.core==0.3.1->autogluon) (2018.9)\n",
            "Collecting cryptography>=2.5\n",
            "  Downloading cryptography-36.0.1-cp36-abi3-manylinux_2_24_x86_64.whl (3.6 MB)\n",
            "\u001b[K     |████████████████████████████████| 3.6 MB 49.9 MB/s \n",
            "\u001b[?25hCollecting pynacl>=1.0.1\n",
            "  Downloading PyNaCl-1.5.0-cp36-abi3-manylinux_2_17_x86_64.manylinux2014_x86_64.manylinux_2_24_x86_64.whl (856 kB)\n",
            "\u001b[K     |████████████████████████████████| 856 kB 71.5 MB/s \n",
            "\u001b[?25hCollecting bcrypt>=3.1.3\n",
            "  Downloading bcrypt-3.2.0-cp36-abi3-manylinux_2_17_x86_64.manylinux2014_x86_64.manylinux_2_24_x86_64.whl (61 kB)\n",
            "\u001b[K     |████████████████████████████████| 61 kB 16.9 MB/s \n",
            "\u001b[?25hRequirement already satisfied: cffi>=1.1 in /usr/local/lib/python3.7/dist-packages (from bcrypt>=3.1.3->paramiko>=2.4->autogluon.core==0.3.1->autogluon) (1.15.0)\n",
            "Requirement already satisfied: pycparser in /usr/local/lib/python3.7/dist-packages (from cffi>=1.1->bcrypt>=3.1.3->paramiko>=2.4->autogluon.core==0.3.1->autogluon) (2.21)\n",
            "Collecting locket\n",
            "  Downloading locket-0.2.1-py2.py3-none-any.whl (4.1 kB)\n",
            "Requirement already satisfied: joblib in /usr/local/lib/python3.7/dist-packages (from sacremoses>=0.0.38->autogluon-contrib-nlp==0.0.1b20210201->autogluon.text==0.3.1->autogluon) (1.1.0)\n",
            "Requirement already satisfied: threadpoolctl>=2.0.0 in /usr/local/lib/python3.7/dist-packages (from scikit-learn<0.25,>=0.23.2->autogluon.core==0.3.1->autogluon) (3.1.0)\n",
            "Requirement already satisfied: cymem<2.1.0,>=2.0.2 in /usr/local/lib/python3.7/dist-packages (from spacy<4->fastai<3.0,>=2.3.1->autogluon.tabular[all]==0.3.1->autogluon) (2.0.6)\n",
            "Requirement already satisfied: thinc==7.4.0 in /usr/local/lib/python3.7/dist-packages (from spacy<4->fastai<3.0,>=2.3.1->autogluon.tabular[all]==0.3.1->autogluon) (7.4.0)\n",
            "Requirement already satisfied: wasabi<1.1.0,>=0.4.0 in /usr/local/lib/python3.7/dist-packages (from spacy<4->fastai<3.0,>=2.3.1->autogluon.tabular[all]==0.3.1->autogluon) (0.9.0)\n",
            "Requirement already satisfied: srsly<1.1.0,>=1.0.2 in /usr/local/lib/python3.7/dist-packages (from spacy<4->fastai<3.0,>=2.3.1->autogluon.tabular[all]==0.3.1->autogluon) (1.0.5)\n",
            "Requirement already satisfied: plac<1.2.0,>=0.9.6 in /usr/local/lib/python3.7/dist-packages (from spacy<4->fastai<3.0,>=2.3.1->autogluon.tabular[all]==0.3.1->autogluon) (1.1.3)\n",
            "Requirement already satisfied: preshed<3.1.0,>=3.0.2 in /usr/local/lib/python3.7/dist-packages (from spacy<4->fastai<3.0,>=2.3.1->autogluon.tabular[all]==0.3.1->autogluon) (3.0.6)\n",
            "Requirement already satisfied: murmurhash<1.1.0,>=0.28.0 in /usr/local/lib/python3.7/dist-packages (from spacy<4->fastai<3.0,>=2.3.1->autogluon.tabular[all]==0.3.1->autogluon) (1.0.6)\n",
            "Requirement already satisfied: blis<0.5.0,>=0.4.0 in /usr/local/lib/python3.7/dist-packages (from spacy<4->fastai<3.0,>=2.3.1->autogluon.tabular[all]==0.3.1->autogluon) (0.4.1)\n",
            "Requirement already satisfied: catalogue<1.1.0,>=0.0.7 in /usr/local/lib/python3.7/dist-packages (from spacy<4->fastai<3.0,>=2.3.1->autogluon.tabular[all]==0.3.1->autogluon) (1.0.0)\n",
            "Requirement already satisfied: importlib-metadata>=0.20 in /usr/local/lib/python3.7/dist-packages (from catalogue<1.1.0,>=0.0.7->spacy<4->fastai<3.0,>=2.3.1->autogluon.tabular[all]==0.3.1->autogluon) (4.11.0)\n",
            "Requirement already satisfied: typing-extensions>=3.6.4 in /usr/local/lib/python3.7/dist-packages (from importlib-metadata>=0.20->catalogue<1.1.0,>=0.0.7->spacy<4->fastai<3.0,>=2.3.1->autogluon.tabular[all]==0.3.1->autogluon) (3.10.0.2)\n",
            "Requirement already satisfied: zipp>=0.5 in /usr/local/lib/python3.7/dist-packages (from importlib-metadata>=0.20->catalogue<1.1.0,>=0.0.7->spacy<4->fastai<3.0,>=2.3.1->autogluon.tabular[all]==0.3.1->autogluon) (3.7.0)\n",
            "Requirement already satisfied: urllib3!=1.25.0,!=1.25.1,<1.26,>=1.21.1 in /usr/local/lib/python3.7/dist-packages (from requests->autogluon.core==0.3.1->autogluon) (1.24.3)\n",
            "Requirement already satisfied: certifi>=2017.4.17 in /usr/local/lib/python3.7/dist-packages (from requests->autogluon.core==0.3.1->autogluon) (2021.10.8)\n",
            "Requirement already satisfied: idna<3,>=2.5 in /usr/local/lib/python3.7/dist-packages (from requests->autogluon.core==0.3.1->autogluon) (2.10)\n",
            "Requirement already satisfied: chardet<4,>=3.0.2 in /usr/local/lib/python3.7/dist-packages (from requests->autogluon.core==0.3.1->autogluon) (3.0.4)\n",
            "Requirement already satisfied: heapdict in /usr/local/lib/python3.7/dist-packages (from zict>=0.1.3->distributed>=2.6.0->autogluon.core==0.3.1->autogluon) (1.0.1)\n",
            "Collecting jmespath<1.0.0,>=0.7.1\n",
            "  Downloading jmespath-0.10.0-py2.py3-none-any.whl (24 kB)\n",
            "Collecting botocore<1.25.0,>=1.24.3\n",
            "  Downloading botocore-1.24.3-py3-none-any.whl (8.5 MB)\n",
            "\u001b[K     |████████████████████████████████| 8.5 MB 43.9 MB/s \n",
            "\u001b[?25hCollecting s3transfer<0.6.0,>=0.5.0\n",
            "  Downloading s3transfer-0.5.1-py3-none-any.whl (79 kB)\n",
            "\u001b[K     |████████████████████████████████| 79 kB 40.3 MB/s \n",
            "\u001b[?25hCollecting urllib3!=1.25.0,!=1.25.1,<1.26,>=1.21.1\n",
            "  Downloading urllib3-1.25.11-py2.py3-none-any.whl (127 kB)\n",
            "\u001b[K     |████████████████████████████████| 127 kB 54.5 MB/s \n",
            "\u001b[?25hCollecting immutables>=0.9\n",
            "  Downloading immutables-0.16-cp37-cp37m-manylinux_2_5_x86_64.manylinux1_x86_64.whl (104 kB)\n",
            "\u001b[K     |████████████████████████████████| 104 kB 58.5 MB/s \n",
            "\u001b[?25hCollecting pycodestyle<2.9.0,>=2.8.0\n",
            "  Downloading pycodestyle-2.8.0-py2.py3-none-any.whl (42 kB)\n",
            "\u001b[K     |████████████████████████████████| 42 kB 17.2 MB/s \n",
            "\u001b[?25hCollecting pyflakes<2.5.0,>=2.4.0\n",
            "  Downloading pyflakes-2.4.0-py2.py3-none-any.whl (69 kB)\n",
            "\u001b[K     |████████████████████████████████| 69 kB 55.7 MB/s \n",
            "\u001b[?25hCollecting mccabe<0.7.0,>=0.6.0\n",
            "  Downloading mccabe-0.6.1-py2.py3-none-any.whl (8.6 kB)\n",
            "Collecting importlib-metadata>=0.20\n",
            "  Downloading importlib_metadata-4.2.0-py3-none-any.whl (16 kB)\n",
            "Requirement already satisfied: MarkupSafe>=0.23 in /usr/local/lib/python3.7/dist-packages (from jinja2->distributed>=2.6.0->autogluon.core==0.3.1->autogluon) (2.0.1)\n",
            "Requirement already satisfied: python-slugify in /usr/local/lib/python3.7/dist-packages (from kaggle->d8<1.0,>=0.0.2->autogluon.vision==0.3.1->autogluon) (5.0.2)\n",
            "Requirement already satisfied: cycler>=0.10 in /usr/local/lib/python3.7/dist-packages (from matplotlib->autogluon.core==0.3.1->autogluon) (0.11.0)\n",
            "Requirement already satisfied: kiwisolver>=1.0.1 in /usr/local/lib/python3.7/dist-packages (from matplotlib->autogluon.core==0.3.1->autogluon) (1.3.2)\n",
            "Collecting liac-arff>=2.4.0\n",
            "  Downloading liac-arff-2.5.0.tar.gz (13 kB)\n",
            "Collecting xmltodict\n",
            "  Downloading xmltodict-0.12.0-py2.py3-none-any.whl (9.2 kB)\n",
            "Collecting minio\n",
            "  Downloading minio-7.1.3-py3-none-any.whl (75 kB)\n",
            "\u001b[K     |████████████████████████████████| 75 kB 44.8 MB/s \n",
            "\u001b[?25hRequirement already satisfied: tenacity>=6.2.0 in /usr/local/lib/python3.7/dist-packages (from plotly->catboost<0.26,>=0.24.0->autogluon.tabular[all]==0.3.1->autogluon) (8.0.1)\n",
            "Requirement already satisfied: more-itertools>=4.0.0 in /usr/local/lib/python3.7/dist-packages (from pytest->autogluon.extra==0.3.1->autogluon) (8.12.0)\n",
            "Requirement already satisfied: pluggy<0.8,>=0.5 in /usr/local/lib/python3.7/dist-packages (from pytest->autogluon.extra==0.3.1->autogluon) (0.7.1)\n",
            "Requirement already satisfied: atomicwrites>=1.0 in /usr/local/lib/python3.7/dist-packages (from pytest->autogluon.extra==0.3.1->autogluon) (1.4.0)\n",
            "Requirement already satisfied: attrs>=17.4.0 in /usr/local/lib/python3.7/dist-packages (from pytest->autogluon.extra==0.3.1->autogluon) (21.4.0)\n",
            "Requirement already satisfied: py>=1.5.0 in /usr/local/lib/python3.7/dist-packages (from pytest->autogluon.extra==0.3.1->autogluon) (1.11.0)\n",
            "Requirement already satisfied: text-unidecode>=1.3 in /usr/local/lib/python3.7/dist-packages (from python-slugify->kaggle->d8<1.0,>=0.0.2->autogluon.vision==0.3.1->autogluon) (1.3)\n",
            "Requirement already satisfied: tabulate>=0.8.9 in /usr/local/lib/python3.7/dist-packages (from sacrebleu->autogluon-contrib-nlp==0.0.1b20210201->autogluon.text==0.3.1->autogluon) (0.8.9)\n",
            "Collecting colorama\n",
            "  Downloading colorama-0.4.4-py2.py3-none-any.whl (16 kB)\n",
            "Building wheels for collected packages: contextvars, openml, liac-arff\n",
            "  Building wheel for contextvars (setup.py) ... \u001b[?25l\u001b[?25hdone\n",
            "  Created wheel for contextvars: filename=contextvars-2.4-py3-none-any.whl size=7681 sha256=f88ad30cfba7ccc0f243f4b74e65bd296bf190eacec7e5eb156edf5dbeefa08d\n",
            "  Stored in directory: /tmp/pip-ephem-wheel-cache-e1ufrl_u/wheels/0a/11/79/e70e668095c0bb1f94718af672ef2d35ee7a023fee56ef54d9\n",
            "  Building wheel for openml (setup.py) ... \u001b[?25l\u001b[?25hdone\n",
            "  Created wheel for openml: filename=openml-0.12.2-py3-none-any.whl size=137326 sha256=cbf2addb32b24901f30c6c74cdd6ff6af383c17771dd716271bafe54bb97aad4\n",
            "  Stored in directory: /tmp/pip-ephem-wheel-cache-e1ufrl_u/wheels/6a/20/88/cf4ac86aa18e2cd647ed16ebe274a5dacee9d0075fa02af250\n",
            "  Building wheel for liac-arff (setup.py) ... \u001b[?25l\u001b[?25hdone\n",
            "  Created wheel for liac-arff: filename=liac_arff-2.5.0-py3-none-any.whl size=11732 sha256=ce46008fd625b0c4f6b34bcfdd8aedcddb6dfaea62adb79b7394b767ecd27023\n",
            "  Stored in directory: /tmp/pip-ephem-wheel-cache-e1ufrl_u/wheels/1f/0f/15/332ca86cbebf25ddf98518caaf887945fbe1712b97a0f2493b\n",
            "Successfully built contextvars openml liac-arff\n",
            "Installing collected packages: urllib3, locket, jmespath, pyyaml, partd, fsspec, cloudpickle, botocore, scipy, s3transfer, pynacl, psutil, importlib-metadata, dask, cryptography, bcrypt, scikit-learn, paramiko, distributed, ConfigSpace, boto3, xmltodict, pyflakes, pycodestyle, portalocker, Pillow, minio, mccabe, liac-arff, immutables, fastcore, colorama, autogluon.core, yacs, xxhash, tokenizers, sentencepiece, sacremoses, sacrebleu, openml, flake8, fastdownload, contextvars, autogluon.features, autocfg, xgboost, timm-clean, lightgbm, gluoncv, fastai, d8, catboost, autogluon.tabular, autogluon.mxnet, autogluon-contrib-nlp, autogluon.vision, autogluon.text, autogluon.extra, autogluon\n",
            "  Attempting uninstall: urllib3\n",
            "    Found existing installation: urllib3 1.24.3\n",
            "    Uninstalling urllib3-1.24.3:\n",
            "      Successfully uninstalled urllib3-1.24.3\n",
            "  Attempting uninstall: pyyaml\n",
            "    Found existing installation: PyYAML 3.13\n",
            "    Uninstalling PyYAML-3.13:\n",
            "      Successfully uninstalled PyYAML-3.13\n",
            "  Attempting uninstall: cloudpickle\n",
            "    Found existing installation: cloudpickle 1.3.0\n",
            "    Uninstalling cloudpickle-1.3.0:\n",
            "      Successfully uninstalled cloudpickle-1.3.0\n",
            "  Attempting uninstall: scipy\n",
            "    Found existing installation: scipy 1.4.1\n",
            "    Uninstalling scipy-1.4.1:\n",
            "      Successfully uninstalled scipy-1.4.1\n",
            "  Attempting uninstall: psutil\n",
            "    Found existing installation: psutil 5.4.8\n",
            "    Uninstalling psutil-5.4.8:\n",
            "      Successfully uninstalled psutil-5.4.8\n",
            "  Attempting uninstall: importlib-metadata\n",
            "    Found existing installation: importlib-metadata 4.11.0\n",
            "    Uninstalling importlib-metadata-4.11.0:\n",
            "      Successfully uninstalled importlib-metadata-4.11.0\n",
            "  Attempting uninstall: dask\n",
            "    Found existing installation: dask 2.12.0\n",
            "    Uninstalling dask-2.12.0:\n",
            "      Successfully uninstalled dask-2.12.0\n",
            "  Attempting uninstall: scikit-learn\n",
            "    Found existing installation: scikit-learn 1.0.2\n",
            "    Uninstalling scikit-learn-1.0.2:\n",
            "      Successfully uninstalled scikit-learn-1.0.2\n",
            "  Attempting uninstall: distributed\n",
            "    Found existing installation: distributed 1.25.3\n",
            "    Uninstalling distributed-1.25.3:\n",
            "      Successfully uninstalled distributed-1.25.3\n",
            "  Attempting uninstall: Pillow\n",
            "    Found existing installation: Pillow 7.1.2\n",
            "    Uninstalling Pillow-7.1.2:\n",
            "      Successfully uninstalled Pillow-7.1.2\n",
            "  Attempting uninstall: xgboost\n",
            "    Found existing installation: xgboost 0.90\n",
            "    Uninstalling xgboost-0.90:\n",
            "      Successfully uninstalled xgboost-0.90\n",
            "  Attempting uninstall: lightgbm\n",
            "    Found existing installation: lightgbm 2.2.3\n",
            "    Uninstalling lightgbm-2.2.3:\n",
            "      Successfully uninstalled lightgbm-2.2.3\n",
            "  Attempting uninstall: fastai\n",
            "    Found existing installation: fastai 1.0.61\n",
            "    Uninstalling fastai-1.0.61:\n",
            "      Successfully uninstalled fastai-1.0.61\n",
            "\u001b[31mERROR: pip's dependency resolver does not currently take into account all the packages that are installed. This behaviour is the source of the following dependency conflicts.\n",
            "markdown 3.3.6 requires importlib-metadata>=4.4; python_version < \"3.10\", but you have importlib-metadata 4.2.0 which is incompatible.\n",
            "gym 0.17.3 requires cloudpickle<1.7.0,>=1.2.0, but you have cloudpickle 2.0.0 which is incompatible.\n",
            "datascience 0.10.6 requires folium==0.2.1, but you have folium 0.8.3 which is incompatible.\n",
            "albumentations 0.1.12 requires imgaug<0.2.7,>=0.2.5, but you have imgaug 0.2.9 which is incompatible.\u001b[0m\n",
            "Successfully installed ConfigSpace-0.4.19 Pillow-8.3.2 autocfg-0.0.8 autogluon-0.3.1 autogluon-contrib-nlp-0.0.1b20210201 autogluon.core-0.3.1 autogluon.extra-0.3.1 autogluon.features-0.3.1 autogluon.mxnet-0.3.1 autogluon.tabular-0.3.1 autogluon.text-0.3.1 autogluon.vision-0.3.1 bcrypt-3.2.0 boto3-1.21.3 botocore-1.24.3 catboost-0.25.1 cloudpickle-2.0.0 colorama-0.4.4 contextvars-2.4 cryptography-36.0.1 d8-0.0.2.post0 dask-2022.2.0 distributed-2022.2.0 fastai-2.5.3 fastcore-1.3.27 fastdownload-0.0.5 flake8-4.0.1 fsspec-2022.1.0 gluoncv-0.10.4.post4 immutables-0.16 importlib-metadata-4.2.0 jmespath-0.10.0 liac-arff-2.5.0 lightgbm-3.3.2 locket-0.2.1 mccabe-0.6.1 minio-7.1.3 openml-0.12.2 paramiko-2.9.2 partd-1.2.0 portalocker-2.4.0 psutil-5.8.0 pycodestyle-2.8.0 pyflakes-2.4.0 pynacl-1.5.0 pyyaml-6.0 s3transfer-0.5.1 sacrebleu-2.0.0 sacremoses-0.0.47 scikit-learn-0.24.2 scipy-1.6.3 sentencepiece-0.1.95 timm-clean-0.4.12 tokenizers-0.9.4 urllib3-1.25.11 xgboost-1.4.2 xmltodict-0.12.0 xxhash-2.0.2 yacs-0.1.8\n"
          ]
        },
        {
          "output_type": "display_data",
          "data": {
            "application/vnd.colab-display-data+json": {
              "pip_warning": {
                "packages": [
                  "PIL",
                  "cloudpickle",
                  "contextvars",
                  "psutil",
                  "scipy",
                  "sklearn"
                ]
              }
            }
          },
          "metadata": {}
        },
        {
          "output_type": "stream",
          "name": "stdout",
          "text": [
            "Collecting keybert\n",
            "  Downloading keybert-0.5.0.tar.gz (19 kB)\n",
            "Collecting sentence-transformers>=0.3.8\n",
            "  Downloading sentence-transformers-2.2.0.tar.gz (79 kB)\n",
            "\u001b[K     |████████████████████████████████| 79 kB 4.6 MB/s \n",
            "\u001b[?25hRequirement already satisfied: scikit-learn>=0.22.2 in /usr/local/lib/python3.7/dist-packages (from keybert) (0.24.2)\n",
            "Requirement already satisfied: numpy>=1.18.5 in /usr/local/lib/python3.7/dist-packages (from keybert) (1.21.5)\n",
            "Collecting rich>=10.4.0\n",
            "  Downloading rich-11.2.0-py3-none-any.whl (217 kB)\n",
            "\u001b[K     |████████████████████████████████| 217 kB 15.8 MB/s \n",
            "\u001b[?25hCollecting commonmark<0.10.0,>=0.9.0\n",
            "  Downloading commonmark-0.9.1-py2.py3-none-any.whl (51 kB)\n",
            "\u001b[K     |████████████████████████████████| 51 kB 6.2 MB/s \n",
            "\u001b[?25hRequirement already satisfied: colorama<0.5.0,>=0.4.0 in /usr/local/lib/python3.7/dist-packages (from rich>=10.4.0->keybert) (0.4.4)\n",
            "Requirement already satisfied: typing-extensions<5.0,>=3.7.4 in /usr/local/lib/python3.7/dist-packages (from rich>=10.4.0->keybert) (3.10.0.2)\n",
            "Requirement already satisfied: pygments<3.0.0,>=2.6.0 in /usr/local/lib/python3.7/dist-packages (from rich>=10.4.0->keybert) (2.6.1)\n",
            "Requirement already satisfied: joblib>=0.11 in /usr/local/lib/python3.7/dist-packages (from scikit-learn>=0.22.2->keybert) (1.1.0)\n",
            "Requirement already satisfied: threadpoolctl>=2.0.0 in /usr/local/lib/python3.7/dist-packages (from scikit-learn>=0.22.2->keybert) (3.1.0)\n",
            "Requirement already satisfied: scipy>=0.19.1 in /usr/local/lib/python3.7/dist-packages (from scikit-learn>=0.22.2->keybert) (1.6.3)\n",
            "Collecting transformers<5.0.0,>=4.6.0\n",
            "  Downloading transformers-4.16.2-py3-none-any.whl (3.5 MB)\n",
            "\u001b[K     |████████████████████████████████| 3.5 MB 60.6 MB/s \n",
            "\u001b[?25hRequirement already satisfied: tqdm in /usr/local/lib/python3.7/dist-packages (from sentence-transformers>=0.3.8->keybert) (4.62.3)\n",
            "Requirement already satisfied: torch>=1.6.0 in /usr/local/lib/python3.7/dist-packages (from sentence-transformers>=0.3.8->keybert) (1.10.0+cu111)\n",
            "Requirement already satisfied: torchvision in /usr/local/lib/python3.7/dist-packages (from sentence-transformers>=0.3.8->keybert) (0.11.1+cu111)\n",
            "Requirement already satisfied: nltk in /usr/local/lib/python3.7/dist-packages (from sentence-transformers>=0.3.8->keybert) (3.2.5)\n",
            "Requirement already satisfied: sentencepiece in /usr/local/lib/python3.7/dist-packages (from sentence-transformers>=0.3.8->keybert) (0.1.95)\n",
            "Collecting huggingface-hub\n",
            "  Downloading huggingface_hub-0.4.0-py3-none-any.whl (67 kB)\n",
            "\u001b[K     |████████████████████████████████| 67 kB 5.9 MB/s \n",
            "\u001b[?25hRequirement already satisfied: filelock in /usr/local/lib/python3.7/dist-packages (from transformers<5.0.0,>=4.6.0->sentence-transformers>=0.3.8->keybert) (3.4.2)\n",
            "Requirement already satisfied: requests in /usr/local/lib/python3.7/dist-packages (from transformers<5.0.0,>=4.6.0->sentence-transformers>=0.3.8->keybert) (2.23.0)\n",
            "Requirement already satisfied: sacremoses in /usr/local/lib/python3.7/dist-packages (from transformers<5.0.0,>=4.6.0->sentence-transformers>=0.3.8->keybert) (0.0.47)\n",
            "Requirement already satisfied: regex!=2019.12.17 in /usr/local/lib/python3.7/dist-packages (from transformers<5.0.0,>=4.6.0->sentence-transformers>=0.3.8->keybert) (2019.12.20)\n",
            "Requirement already satisfied: pyyaml>=5.1 in /usr/local/lib/python3.7/dist-packages (from transformers<5.0.0,>=4.6.0->sentence-transformers>=0.3.8->keybert) (6.0)\n",
            "Collecting tokenizers!=0.11.3,>=0.10.1\n",
            "  Downloading tokenizers-0.11.5-cp37-cp37m-manylinux_2_12_x86_64.manylinux2010_x86_64.whl (6.8 MB)\n",
            "\u001b[K     |████████████████████████████████| 6.8 MB 38.2 MB/s \n",
            "\u001b[?25hRequirement already satisfied: importlib-metadata in /usr/local/lib/python3.7/dist-packages (from transformers<5.0.0,>=4.6.0->sentence-transformers>=0.3.8->keybert) (4.2.0)\n",
            "Requirement already satisfied: packaging>=20.0 in /usr/local/lib/python3.7/dist-packages (from transformers<5.0.0,>=4.6.0->sentence-transformers>=0.3.8->keybert) (21.3)\n",
            "Requirement already satisfied: pyparsing!=3.0.5,>=2.0.2 in /usr/local/lib/python3.7/dist-packages (from packaging>=20.0->transformers<5.0.0,>=4.6.0->sentence-transformers>=0.3.8->keybert) (3.0.7)\n",
            "Requirement already satisfied: zipp>=0.5 in /usr/local/lib/python3.7/dist-packages (from importlib-metadata->transformers<5.0.0,>=4.6.0->sentence-transformers>=0.3.8->keybert) (3.7.0)\n",
            "Requirement already satisfied: six in /usr/local/lib/python3.7/dist-packages (from nltk->sentence-transformers>=0.3.8->keybert) (1.15.0)\n",
            "Requirement already satisfied: idna<3,>=2.5 in /usr/local/lib/python3.7/dist-packages (from requests->transformers<5.0.0,>=4.6.0->sentence-transformers>=0.3.8->keybert) (2.10)\n",
            "Requirement already satisfied: certifi>=2017.4.17 in /usr/local/lib/python3.7/dist-packages (from requests->transformers<5.0.0,>=4.6.0->sentence-transformers>=0.3.8->keybert) (2021.10.8)\n",
            "Requirement already satisfied: chardet<4,>=3.0.2 in /usr/local/lib/python3.7/dist-packages (from requests->transformers<5.0.0,>=4.6.0->sentence-transformers>=0.3.8->keybert) (3.0.4)\n",
            "Requirement already satisfied: urllib3!=1.25.0,!=1.25.1,<1.26,>=1.21.1 in /usr/local/lib/python3.7/dist-packages (from requests->transformers<5.0.0,>=4.6.0->sentence-transformers>=0.3.8->keybert) (1.25.11)\n",
            "Requirement already satisfied: click in /usr/local/lib/python3.7/dist-packages (from sacremoses->transformers<5.0.0,>=4.6.0->sentence-transformers>=0.3.8->keybert) (7.1.2)\n",
            "Requirement already satisfied: pillow!=8.3.0,>=5.3.0 in /usr/local/lib/python3.7/dist-packages (from torchvision->sentence-transformers>=0.3.8->keybert) (8.3.2)\n",
            "Building wheels for collected packages: keybert, sentence-transformers\n",
            "  Building wheel for keybert (setup.py) ... \u001b[?25l\u001b[?25hdone\n",
            "  Created wheel for keybert: filename=keybert-0.5.0-py3-none-any.whl size=20491 sha256=cea5ea0ecf72d98d7d75d8bad58e5dcf98c821e4c0c3a37e15b007c4413228c6\n",
            "  Stored in directory: /root/.cache/pip/wheels/99/1f/3f/590d2997adbb2d0e1f82e8ee05d42d6910e92c3ed283015ff8\n",
            "  Building wheel for sentence-transformers (setup.py) ... \u001b[?25l\u001b[?25hdone\n",
            "  Created wheel for sentence-transformers: filename=sentence_transformers-2.2.0-py3-none-any.whl size=120747 sha256=8c790f2c4e81a3882316bb1b31408ef3b5f396c65afdc9919f1e6ebbc598a8d6\n",
            "  Stored in directory: /root/.cache/pip/wheels/83/c0/df/b6873ab7aac3f2465aa9144b6b4c41c4391cfecc027c8b07e7\n",
            "Successfully built keybert sentence-transformers\n",
            "Installing collected packages: tokenizers, huggingface-hub, transformers, commonmark, sentence-transformers, rich, keybert\n",
            "  Attempting uninstall: tokenizers\n",
            "    Found existing installation: tokenizers 0.9.4\n",
            "    Uninstalling tokenizers-0.9.4:\n",
            "      Successfully uninstalled tokenizers-0.9.4\n",
            "\u001b[31mERROR: pip's dependency resolver does not currently take into account all the packages that are installed. This behaviour is the source of the following dependency conflicts.\n",
            "autogluon-contrib-nlp 0.0.1b20210201 requires tokenizers==0.9.4, but you have tokenizers 0.11.5 which is incompatible.\u001b[0m\n",
            "Successfully installed commonmark-0.9.1 huggingface-hub-0.4.0 keybert-0.5.0 rich-11.2.0 sentence-transformers-2.2.0 tokenizers-0.11.5 transformers-4.16.2\n",
            "Requirement already satisfied: seaborn in /usr/local/lib/python3.7/dist-packages (0.11.2)\n",
            "Requirement already satisfied: numpy>=1.15 in /usr/local/lib/python3.7/dist-packages (from seaborn) (1.21.5)\n",
            "Requirement already satisfied: matplotlib>=2.2 in /usr/local/lib/python3.7/dist-packages (from seaborn) (3.2.2)\n",
            "Requirement already satisfied: pandas>=0.23 in /usr/local/lib/python3.7/dist-packages (from seaborn) (1.3.5)\n",
            "Requirement already satisfied: scipy>=1.0 in /usr/local/lib/python3.7/dist-packages (from seaborn) (1.6.3)\n",
            "Requirement already satisfied: pyparsing!=2.0.4,!=2.1.2,!=2.1.6,>=2.0.1 in /usr/local/lib/python3.7/dist-packages (from matplotlib>=2.2->seaborn) (3.0.7)\n",
            "Requirement already satisfied: cycler>=0.10 in /usr/local/lib/python3.7/dist-packages (from matplotlib>=2.2->seaborn) (0.11.0)\n",
            "Requirement already satisfied: python-dateutil>=2.1 in /usr/local/lib/python3.7/dist-packages (from matplotlib>=2.2->seaborn) (2.8.2)\n",
            "Requirement already satisfied: kiwisolver>=1.0.1 in /usr/local/lib/python3.7/dist-packages (from matplotlib>=2.2->seaborn) (1.3.2)\n",
            "Requirement already satisfied: pytz>=2017.3 in /usr/local/lib/python3.7/dist-packages (from pandas>=0.23->seaborn) (2018.9)\n",
            "Requirement already satisfied: six>=1.5 in /usr/local/lib/python3.7/dist-packages (from python-dateutil>=2.1->matplotlib>=2.2->seaborn) (1.15.0)\n",
            "Requirement already satisfied: tensorflow in /usr/local/lib/python3.7/dist-packages (2.8.0)\n",
            "Requirement already satisfied: h5py>=2.9.0 in /usr/local/lib/python3.7/dist-packages (from tensorflow) (3.1.0)\n",
            "Collecting tf-estimator-nightly==2.8.0.dev2021122109\n",
            "  Downloading tf_estimator_nightly-2.8.0.dev2021122109-py2.py3-none-any.whl (462 kB)\n",
            "\u001b[K     |████████████████████████████████| 462 kB 8.3 MB/s \n",
            "\u001b[?25hRequirement already satisfied: protobuf>=3.9.2 in /usr/local/lib/python3.7/dist-packages (from tensorflow) (3.17.3)\n",
            "Requirement already satisfied: tensorflow-io-gcs-filesystem>=0.23.1 in /usr/local/lib/python3.7/dist-packages (from tensorflow) (0.24.0)\n",
            "Requirement already satisfied: gast>=0.2.1 in /usr/local/lib/python3.7/dist-packages (from tensorflow) (0.5.3)\n",
            "Requirement already satisfied: libclang>=9.0.1 in /usr/local/lib/python3.7/dist-packages (from tensorflow) (13.0.0)\n",
            "Requirement already satisfied: google-pasta>=0.1.1 in /usr/local/lib/python3.7/dist-packages (from tensorflow) (0.2.0)\n",
            "Requirement already satisfied: tensorboard<2.9,>=2.8 in /usr/local/lib/python3.7/dist-packages (from tensorflow) (2.8.0)\n",
            "Requirement already satisfied: grpcio<2.0,>=1.24.3 in /usr/local/lib/python3.7/dist-packages (from tensorflow) (1.43.0)\n",
            "Requirement already satisfied: keras<2.9,>=2.8.0rc0 in /usr/local/lib/python3.7/dist-packages (from tensorflow) (2.8.0)\n",
            "Requirement already satisfied: opt-einsum>=2.3.2 in /usr/local/lib/python3.7/dist-packages (from tensorflow) (3.3.0)\n",
            "Requirement already satisfied: keras-preprocessing>=1.1.1 in /usr/local/lib/python3.7/dist-packages (from tensorflow) (1.1.2)\n",
            "Requirement already satisfied: wrapt>=1.11.0 in /usr/local/lib/python3.7/dist-packages (from tensorflow) (1.13.3)\n",
            "Requirement already satisfied: setuptools in /usr/local/lib/python3.7/dist-packages (from tensorflow) (57.4.0)\n",
            "Requirement already satisfied: absl-py>=0.4.0 in /usr/local/lib/python3.7/dist-packages (from tensorflow) (1.0.0)\n",
            "Requirement already satisfied: astunparse>=1.6.0 in /usr/local/lib/python3.7/dist-packages (from tensorflow) (1.6.3)\n",
            "Requirement already satisfied: flatbuffers>=1.12 in /usr/local/lib/python3.7/dist-packages (from tensorflow) (2.0)\n",
            "Requirement already satisfied: typing-extensions>=3.6.6 in /usr/local/lib/python3.7/dist-packages (from tensorflow) (3.10.0.2)\n",
            "Requirement already satisfied: numpy>=1.20 in /usr/local/lib/python3.7/dist-packages (from tensorflow) (1.21.5)\n",
            "Requirement already satisfied: six>=1.12.0 in /usr/local/lib/python3.7/dist-packages (from tensorflow) (1.15.0)\n",
            "Requirement already satisfied: termcolor>=1.1.0 in /usr/local/lib/python3.7/dist-packages (from tensorflow) (1.1.0)\n",
            "Requirement already satisfied: wheel<1.0,>=0.23.0 in /usr/local/lib/python3.7/dist-packages (from astunparse>=1.6.0->tensorflow) (0.37.1)\n",
            "Requirement already satisfied: cached-property in /usr/local/lib/python3.7/dist-packages (from h5py>=2.9.0->tensorflow) (1.5.2)\n",
            "Requirement already satisfied: google-auth-oauthlib<0.5,>=0.4.1 in /usr/local/lib/python3.7/dist-packages (from tensorboard<2.9,>=2.8->tensorflow) (0.4.6)\n",
            "Requirement already satisfied: werkzeug>=0.11.15 in /usr/local/lib/python3.7/dist-packages (from tensorboard<2.9,>=2.8->tensorflow) (1.0.1)\n",
            "Requirement already satisfied: tensorboard-plugin-wit>=1.6.0 in /usr/local/lib/python3.7/dist-packages (from tensorboard<2.9,>=2.8->tensorflow) (1.8.1)\n",
            "Requirement already satisfied: google-auth<3,>=1.6.3 in /usr/local/lib/python3.7/dist-packages (from tensorboard<2.9,>=2.8->tensorflow) (1.35.0)\n",
            "Requirement already satisfied: markdown>=2.6.8 in /usr/local/lib/python3.7/dist-packages (from tensorboard<2.9,>=2.8->tensorflow) (3.3.6)\n",
            "Requirement already satisfied: tensorboard-data-server<0.7.0,>=0.6.0 in /usr/local/lib/python3.7/dist-packages (from tensorboard<2.9,>=2.8->tensorflow) (0.6.1)\n",
            "Requirement already satisfied: requests<3,>=2.21.0 in /usr/local/lib/python3.7/dist-packages (from tensorboard<2.9,>=2.8->tensorflow) (2.23.0)\n",
            "Requirement already satisfied: rsa<5,>=3.1.4 in /usr/local/lib/python3.7/dist-packages (from google-auth<3,>=1.6.3->tensorboard<2.9,>=2.8->tensorflow) (4.8)\n",
            "Requirement already satisfied: cachetools<5.0,>=2.0.0 in /usr/local/lib/python3.7/dist-packages (from google-auth<3,>=1.6.3->tensorboard<2.9,>=2.8->tensorflow) (4.2.4)\n",
            "Requirement already satisfied: pyasn1-modules>=0.2.1 in /usr/local/lib/python3.7/dist-packages (from google-auth<3,>=1.6.3->tensorboard<2.9,>=2.8->tensorflow) (0.2.8)\n",
            "Requirement already satisfied: requests-oauthlib>=0.7.0 in /usr/local/lib/python3.7/dist-packages (from google-auth-oauthlib<0.5,>=0.4.1->tensorboard<2.9,>=2.8->tensorflow) (1.3.1)\n",
            "Collecting importlib-metadata>=4.4\n",
            "  Downloading importlib_metadata-4.11.1-py3-none-any.whl (17 kB)\n",
            "Requirement already satisfied: zipp>=0.5 in /usr/local/lib/python3.7/dist-packages (from importlib-metadata>=4.4->markdown>=2.6.8->tensorboard<2.9,>=2.8->tensorflow) (3.7.0)\n",
            "Requirement already satisfied: pyasn1<0.5.0,>=0.4.6 in /usr/local/lib/python3.7/dist-packages (from pyasn1-modules>=0.2.1->google-auth<3,>=1.6.3->tensorboard<2.9,>=2.8->tensorflow) (0.4.8)\n",
            "Requirement already satisfied: certifi>=2017.4.17 in /usr/local/lib/python3.7/dist-packages (from requests<3,>=2.21.0->tensorboard<2.9,>=2.8->tensorflow) (2021.10.8)\n",
            "Requirement already satisfied: idna<3,>=2.5 in /usr/local/lib/python3.7/dist-packages (from requests<3,>=2.21.0->tensorboard<2.9,>=2.8->tensorflow) (2.10)\n",
            "Requirement already satisfied: chardet<4,>=3.0.2 in /usr/local/lib/python3.7/dist-packages (from requests<3,>=2.21.0->tensorboard<2.9,>=2.8->tensorflow) (3.0.4)\n",
            "Requirement already satisfied: urllib3!=1.25.0,!=1.25.1,<1.26,>=1.21.1 in /usr/local/lib/python3.7/dist-packages (from requests<3,>=2.21.0->tensorboard<2.9,>=2.8->tensorflow) (1.25.11)\n",
            "Requirement already satisfied: oauthlib>=3.0.0 in /usr/local/lib/python3.7/dist-packages (from requests-oauthlib>=0.7.0->google-auth-oauthlib<0.5,>=0.4.1->tensorboard<2.9,>=2.8->tensorflow) (3.2.0)\n",
            "Installing collected packages: importlib-metadata, tf-estimator-nightly\n",
            "  Attempting uninstall: importlib-metadata\n",
            "    Found existing installation: importlib-metadata 4.2.0\n",
            "    Uninstalling importlib-metadata-4.2.0:\n",
            "      Successfully uninstalled importlib-metadata-4.2.0\n",
            "\u001b[31mERROR: pip's dependency resolver does not currently take into account all the packages that are installed. This behaviour is the source of the following dependency conflicts.\n",
            "flake8 4.0.1 requires importlib-metadata<4.3; python_version < \"3.8\", but you have importlib-metadata 4.11.1 which is incompatible.\n",
            "autogluon-contrib-nlp 0.0.1b20210201 requires tokenizers==0.9.4, but you have tokenizers 0.11.5 which is incompatible.\u001b[0m\n",
            "Successfully installed importlib-metadata-4.11.1 tf-estimator-nightly-2.8.0.dev2021122109\n",
            "Requirement already satisfied: tensorflow_hub in /usr/local/lib/python3.7/dist-packages (0.12.0)\n",
            "Requirement already satisfied: protobuf>=3.8.0 in /usr/local/lib/python3.7/dist-packages (from tensorflow_hub) (3.17.3)\n",
            "Requirement already satisfied: numpy>=1.12.0 in /usr/local/lib/python3.7/dist-packages (from tensorflow_hub) (1.21.5)\n",
            "Requirement already satisfied: six>=1.9 in /usr/local/lib/python3.7/dist-packages (from protobuf>=3.8.0->tensorflow_hub) (1.15.0)\n",
            "\u001b[31mERROR: Could not find a version that satisfies the requirement tensorflow.keras (from versions: none)\u001b[0m\n",
            "\u001b[31mERROR: No matching distribution found for tensorflow.keras\u001b[0m\n"
          ]
        }
      ],
      "source": [
        "!pip install numpy --upgrade\n",
        "!pip install autogluon --no-cache-dir\n",
        "\n",
        "#install for keyword prediction\n",
        "!pip install keybert\n",
        "!pip3 install seaborn\n",
        "!pip install tensorflow\n",
        "!pip install tensorflow_hub\n",
        "!pip install tensorflow.keras"
      ]
    },
    {
      "cell_type": "code",
      "execution_count": 3,
      "metadata": {
        "colab": {
          "base_uri": "https://localhost:8080/"
        },
        "id": "7ROrthBKoVDu",
        "outputId": "e87361e4-b7dc-422b-f9d5-a357ed7e2bfd"
      },
      "outputs": [
        {
          "output_type": "stream",
          "name": "stdout",
          "text": [
            "[nltk_data] Downloading package stopwords to /root/nltk_data...\n",
            "[nltk_data]   Unzipping corpora/stopwords.zip.\n",
            "[nltk_data] Downloading package wordnet to /root/nltk_data...\n",
            "[nltk_data]   Unzipping corpora/wordnet.zip.\n",
            "[nltk_data] Downloading package averaged_perceptron_tagger to\n",
            "[nltk_data]     /root/nltk_data...\n",
            "[nltk_data]   Unzipping taggers/averaged_perceptron_tagger.zip.\n",
            "[nltk_data] Downloading package punkt to /root/nltk_data...\n",
            "[nltk_data]   Unzipping tokenizers/punkt.zip.\n"
          ]
        }
      ],
      "source": [
        "import datetime\n",
        "import time\n",
        "import tarfile\n",
        "import math\n",
        "import json\n",
        "import random\n",
        "import pandas as pd\n",
        "import numpy as np\n",
        "from sklearn.model_selection import train_test_split\n",
        "import matplotlib.pyplot as plt\n",
        "from keybert import KeyBERT\n",
        "import nltk\n",
        "from nltk.corpus import stopwords\n",
        "from nltk.tokenize import word_tokenize\n",
        "from nltk import pos_tag, pos_tag_sents\n",
        "from nltk.stem import PorterStemmer\n",
        "nltk.download('stopwords')\n",
        "nltk.download('wordnet')\n",
        "nltk.download('averaged_perceptron_tagger')\n",
        "nltk.download('punkt')\n",
        "import seaborn as sns\n",
        "import tensorflow_hub as hub\n",
        "import tensorflow as tf\n",
        "import torch\n",
        "from scipy import sparse\n",
        "import re \n",
        "import string\n",
        "\n",
        "\n",
        "#import boto3\n",
        "#from sagemaker import get_execution_role\n",
        "#import sagemaker\n",
        "\n",
        "#sm_boto3 = boto3.client(\"sagemaker\")\n",
        "#sess = sagemaker.Session()\n",
        "#region = sess.boto_session.region_name\n",
        "#bucket = sess.default_bucket()  # this could also be a hard-coded bucket name\n",
        "#print(\"Using bucket \" + bucket)"
      ]
    },
    {
      "cell_type": "code",
      "execution_count": 4,
      "metadata": {
        "colab": {
          "base_uri": "https://localhost:8080/",
          "height": 70
        },
        "id": "saIdCXoq7DOe",
        "outputId": "eaab5d2f-7bd8-4bd9-c8f2-c84db74a3f21"
      },
      "outputs": [
        {
          "output_type": "stream",
          "name": "stdout",
          "text": [
            "Mounted at /content/MyDrive\n",
            "/content/MyDrive/MyDrive/claimskg\n"
          ]
        },
        {
          "output_type": "execute_result",
          "data": {
            "application/vnd.google.colaboratory.intrinsic+json": {
              "type": "string"
            },
            "text/plain": [
              "'/content/MyDrive/MyDrive/claimskg'"
            ]
          },
          "metadata": {},
          "execution_count": 4
        }
      ],
      "source": [
        "#To connect to google drive in colab\n",
        "from google.colab import drive\n",
        "drive.mount('/content/MyDrive')\n",
        "%cd MyDrive/MyDrive/claimskg\n",
        "%pwd"
      ]
    },
    {
      "cell_type": "markdown",
      "metadata": {
        "id": "W_-NzcEy_eQs"
      },
      "source": [
        "# Reading and cleansing data"
      ]
    },
    {
      "cell_type": "code",
      "execution_count": 187,
      "metadata": {
        "id": "iVm37z3j6jxe"
      },
      "outputs": [],
      "source": [
        "# read in the csv file\n",
        "claims_true = pd.read_csv('claimskg_true.csv', parse_dates=['date'])\n",
        "claims_false = pd.read_csv('claimskg_false.csv', parse_dates=['date'])\n",
        "claims_mixture = pd.read_csv('claimskg_mixture.csv', parse_dates=['date'])"
      ]
    },
    {
      "cell_type": "code",
      "execution_count": 195,
      "metadata": {
        "colab": {
          "base_uri": "https://localhost:8080/",
          "height": 1000
        },
        "id": "jfmzpOSS_BOd",
        "outputId": "af2f0005-fad7-45af-f56e-14432da220fe"
      },
      "outputs": [
        {
          "output_type": "execute_result",
          "data": {
            "text/html": [
              "\n",
              "  <div id=\"df-975c18d3-e8a3-40a7-9f5b-102dd9c805d2\">\n",
              "    <div class=\"colab-df-container\">\n",
              "      <div>\n",
              "<style scoped>\n",
              "    .dataframe tbody tr th:only-of-type {\n",
              "        vertical-align: middle;\n",
              "    }\n",
              "\n",
              "    .dataframe tbody tr th {\n",
              "        vertical-align: top;\n",
              "    }\n",
              "\n",
              "    .dataframe thead th {\n",
              "        text-align: right;\n",
              "    }\n",
              "</style>\n",
              "<table border=\"1\" class=\"dataframe\">\n",
              "  <thead>\n",
              "    <tr style=\"text-align: right;\">\n",
              "      <th></th>\n",
              "      <th>id</th>\n",
              "      <th>text</th>\n",
              "      <th>date</th>\n",
              "      <th>truthRating</th>\n",
              "      <th>ratingName</th>\n",
              "      <th>author</th>\n",
              "      <th>headline</th>\n",
              "      <th>named_entities_claim</th>\n",
              "      <th>named_entities_article</th>\n",
              "      <th>keywords</th>\n",
              "      <th>source</th>\n",
              "      <th>sourceURL</th>\n",
              "      <th>link</th>\n",
              "      <th>language</th>\n",
              "    </tr>\n",
              "  </thead>\n",
              "  <tbody>\n",
              "    <tr>\n",
              "      <th>0</th>\n",
              "      <td>http://data.gesis.org/claimskg/claim_review/36...</td>\n",
              "      <td>'There will be no public funding for abortion ...</td>\n",
              "      <td>2010-03-21</td>\n",
              "      <td>3</td>\n",
              "      <td>True</td>\n",
              "      <td>Bart Stupak</td>\n",
              "      <td>Stupak revises abortion stance on health care ...</td>\n",
              "      <td>Abortion rights,Barack Obama,Bart Stupak,Ben N...</td>\n",
              "      <td>abortion</td>\n",
              "      <td>Abortion,Health Care</td>\n",
              "      <td>politifact</td>\n",
              "      <td>http://www.politifact.com</td>\n",
              "      <td>http://www.politifact.com/truth-o-meter/statem...</td>\n",
              "      <td>English</td>\n",
              "    </tr>\n",
              "    <tr>\n",
              "      <th>1</th>\n",
              "      <td>http://data.gesis.org/claimskg/claim_review/e6...</td>\n",
              "      <td>Central Health 'is the only hospital district ...</td>\n",
              "      <td>2011-03-15</td>\n",
              "      <td>3</td>\n",
              "      <td>True</td>\n",
              "      <td>Wayne Christian</td>\n",
              "      <td>State Rep. Wayne Christian says Central Health...</td>\n",
              "      <td>Austin American-Statesman,Harris County Hospit...</td>\n",
              "      <td>NaN</td>\n",
              "      <td>Abortion</td>\n",
              "      <td>politifact</td>\n",
              "      <td>http://www.politifact.com</td>\n",
              "      <td>http://www.politifact.com/texas/statements/201...</td>\n",
              "      <td>English</td>\n",
              "    </tr>\n",
              "    <tr>\n",
              "      <th>2</th>\n",
              "      <td>http://data.gesis.org/claimskg/claim_review/e0...</td>\n",
              "      <td>Says most of Perry's chiefs of staff have been...</td>\n",
              "      <td>2010-08-14</td>\n",
              "      <td>3</td>\n",
              "      <td>True</td>\n",
              "      <td>Bill White</td>\n",
              "      <td>Bill White says most of Gov. Rick Perry's chie...</td>\n",
              "      <td>AT&amp;T,Bill Clements,Bill White,Bracewell &amp; Giul...</td>\n",
              "      <td>NaN</td>\n",
              "      <td>Ethics</td>\n",
              "      <td>politifact</td>\n",
              "      <td>http://www.politifact.com</td>\n",
              "      <td>http://www.politifact.com/texas/statements/201...</td>\n",
              "      <td>English</td>\n",
              "    </tr>\n",
              "    <tr>\n",
              "      <th>3</th>\n",
              "      <td>http://data.gesis.org/claimskg/claim_review/48...</td>\n",
              "      <td>Says 'as Co-Chair of the Joint Ways &amp; Means Co...</td>\n",
              "      <td>2012-09-28</td>\n",
              "      <td>3</td>\n",
              "      <td>True</td>\n",
              "      <td>Mary Nolan</td>\n",
              "      <td>Did Mary Nolan secure funding for Milwaukie br...</td>\n",
              "      <td>Carolyn Tomei,Dave Hunt,Fetsch,Jeff Merkley,Ka...</td>\n",
              "      <td>Portland-Milwaukie Light Rail project</td>\n",
              "      <td>State Budget,State Finances,Transportation</td>\n",
              "      <td>politifact</td>\n",
              "      <td>http://www.politifact.com</td>\n",
              "      <td>http://www.politifact.com/oregon/statements/20...</td>\n",
              "      <td>English</td>\n",
              "    </tr>\n",
              "    <tr>\n",
              "      <th>4</th>\n",
              "      <td>http://data.gesis.org/claimskg/claim_review/80...</td>\n",
              "      <td>Says Gary Farmer’s claim that he 'received an ...</td>\n",
              "      <td>2016-07-08</td>\n",
              "      <td>3</td>\n",
              "      <td>True</td>\n",
              "      <td>Jim Waldman</td>\n",
              "      <td>Florida Senate candidate never actually receiv...</td>\n",
              "      <td>Gary Farmer,Gwyndolen Clarke-Reed,Jim Waldman,...</td>\n",
              "      <td>Gary Farmer</td>\n",
              "      <td>Guns</td>\n",
              "      <td>politifact</td>\n",
              "      <td>http://www.politifact.com</td>\n",
              "      <td>http://www.politifact.com/florida/statements/2...</td>\n",
              "      <td>English</td>\n",
              "    </tr>\n",
              "    <tr>\n",
              "      <th>...</th>\n",
              "      <td>...</td>\n",
              "      <td>...</td>\n",
              "      <td>...</td>\n",
              "      <td>...</td>\n",
              "      <td>...</td>\n",
              "      <td>...</td>\n",
              "      <td>...</td>\n",
              "      <td>...</td>\n",
              "      <td>...</td>\n",
              "      <td>...</td>\n",
              "      <td>...</td>\n",
              "      <td>...</td>\n",
              "      <td>...</td>\n",
              "      <td>...</td>\n",
              "    </tr>\n",
              "    <tr>\n",
              "      <th>24447</th>\n",
              "      <td>http://data.gesis.org/claimskg/claim_review/41...</td>\n",
              "      <td>'The city that I was mayor of was 50 percent L...</td>\n",
              "      <td>2018-06-07</td>\n",
              "      <td>2</td>\n",
              "      <td>MIXTURE</td>\n",
              "      <td>Lou Barletta</td>\n",
              "      <td>Hazleton wasn’t half-Latino when Lou Barletta ...</td>\n",
              "      <td>Barletta,Bob Casey,Fox Business Network,Hazlet...</td>\n",
              "      <td>Latino</td>\n",
              "      <td>Immigration</td>\n",
              "      <td>politifact</td>\n",
              "      <td>http://www.politifact.com</td>\n",
              "      <td>http://www.politifact.com/pennsylvania/stateme...</td>\n",
              "      <td>English</td>\n",
              "    </tr>\n",
              "    <tr>\n",
              "      <th>24448</th>\n",
              "      <td>http://data.gesis.org/claimskg/claim_review/9e...</td>\n",
              "      <td>A set of images show a congenital anomaly that...</td>\n",
              "      <td>Unknown</td>\n",
              "      <td>2</td>\n",
              "      <td>MIXTURE</td>\n",
              "      <td>Unknown</td>\n",
              "      <td>Is This a Real Hand With Eight Fingers?</td>\n",
              "      <td>American Society for Surgery of the Hand,Bilas...</td>\n",
              "      <td>NaN</td>\n",
              "      <td>hands, Medical, medical anomalies, mirror hand</td>\n",
              "      <td>snopes</td>\n",
              "      <td>http://www.snopes.com</td>\n",
              "      <td>https://www.snopes.com/fact-check/real-hand-ei...</td>\n",
              "      <td>English</td>\n",
              "    </tr>\n",
              "    <tr>\n",
              "      <th>24449</th>\n",
              "      <td>http://data.gesis.org/claimskg/claim_review/1a...</td>\n",
              "      <td>'You see 34 people (are) murdered every single...</td>\n",
              "      <td>2012-12-23</td>\n",
              "      <td>2</td>\n",
              "      <td>MIXTURE</td>\n",
              "      <td>Cory Booker</td>\n",
              "      <td>Cory Booker says 34 Americans are killed by gu...</td>\n",
              "      <td>ABC,Centers for Disease Control and Prevention...</td>\n",
              "      <td>NaN</td>\n",
              "      <td>Crime,Guns</td>\n",
              "      <td>politifact</td>\n",
              "      <td>http://www.politifact.com</td>\n",
              "      <td>http://www.politifact.com/new-jersey/statement...</td>\n",
              "      <td>English</td>\n",
              "    </tr>\n",
              "    <tr>\n",
              "      <th>24450</th>\n",
              "      <td>http://data.gesis.org/claimskg/claim_review/28...</td>\n",
              "      <td>'White men have committed more mass shootings ...</td>\n",
              "      <td>2017-10-02</td>\n",
              "      <td>2</td>\n",
              "      <td>MIXTURE</td>\n",
              "      <td>Newsweek</td>\n",
              "      <td>Are white males responsible for more mass shoo...</td>\n",
              "      <td>2015 San Bernardino shooting,Aurora, Colo,Foll...</td>\n",
              "      <td>NaN</td>\n",
              "      <td>Guns</td>\n",
              "      <td>politifact</td>\n",
              "      <td>http://www.politifact.com</td>\n",
              "      <td>http://www.politifact.com/punditfact/statement...</td>\n",
              "      <td>English</td>\n",
              "    </tr>\n",
              "    <tr>\n",
              "      <th>24451</th>\n",
              "      <td>http://data.gesis.org/claimskg/claim_review/e4...</td>\n",
              "      <td>Under President Obama’s health-care reforms, t...</td>\n",
              "      <td>2013-12-05</td>\n",
              "      <td>2</td>\n",
              "      <td>MIXTURE</td>\n",
              "      <td>Ron Johnson</td>\n",
              "      <td>Under Obamacare, health insurance premiums hav...</td>\n",
              "      <td>2008 presidential campaign,Affordable Care Act...</td>\n",
              "      <td>NaN</td>\n",
              "      <td>Corporations,Economy,Health Care,Public Health...</td>\n",
              "      <td>politifact</td>\n",
              "      <td>http://www.politifact.com</td>\n",
              "      <td>http://www.politifact.com/wisconsin/statements...</td>\n",
              "      <td>English</td>\n",
              "    </tr>\n",
              "  </tbody>\n",
              "</table>\n",
              "<p>24452 rows × 14 columns</p>\n",
              "</div>\n",
              "      <button class=\"colab-df-convert\" onclick=\"convertToInteractive('df-975c18d3-e8a3-40a7-9f5b-102dd9c805d2')\"\n",
              "              title=\"Convert this dataframe to an interactive table.\"\n",
              "              style=\"display:none;\">\n",
              "        \n",
              "  <svg xmlns=\"http://www.w3.org/2000/svg\" height=\"24px\"viewBox=\"0 0 24 24\"\n",
              "       width=\"24px\">\n",
              "    <path d=\"M0 0h24v24H0V0z\" fill=\"none\"/>\n",
              "    <path d=\"M18.56 5.44l.94 2.06.94-2.06 2.06-.94-2.06-.94-.94-2.06-.94 2.06-2.06.94zm-11 1L8.5 8.5l.94-2.06 2.06-.94-2.06-.94L8.5 2.5l-.94 2.06-2.06.94zm10 10l.94 2.06.94-2.06 2.06-.94-2.06-.94-.94-2.06-.94 2.06-2.06.94z\"/><path d=\"M17.41 7.96l-1.37-1.37c-.4-.4-.92-.59-1.43-.59-.52 0-1.04.2-1.43.59L10.3 9.45l-7.72 7.72c-.78.78-.78 2.05 0 2.83L4 21.41c.39.39.9.59 1.41.59.51 0 1.02-.2 1.41-.59l7.78-7.78 2.81-2.81c.8-.78.8-2.07 0-2.86zM5.41 20L4 18.59l7.72-7.72 1.47 1.35L5.41 20z\"/>\n",
              "  </svg>\n",
              "      </button>\n",
              "      \n",
              "  <style>\n",
              "    .colab-df-container {\n",
              "      display:flex;\n",
              "      flex-wrap:wrap;\n",
              "      gap: 12px;\n",
              "    }\n",
              "\n",
              "    .colab-df-convert {\n",
              "      background-color: #E8F0FE;\n",
              "      border: none;\n",
              "      border-radius: 50%;\n",
              "      cursor: pointer;\n",
              "      display: none;\n",
              "      fill: #1967D2;\n",
              "      height: 32px;\n",
              "      padding: 0 0 0 0;\n",
              "      width: 32px;\n",
              "    }\n",
              "\n",
              "    .colab-df-convert:hover {\n",
              "      background-color: #E2EBFA;\n",
              "      box-shadow: 0px 1px 2px rgba(60, 64, 67, 0.3), 0px 1px 3px 1px rgba(60, 64, 67, 0.15);\n",
              "      fill: #174EA6;\n",
              "    }\n",
              "\n",
              "    [theme=dark] .colab-df-convert {\n",
              "      background-color: #3B4455;\n",
              "      fill: #D2E3FC;\n",
              "    }\n",
              "\n",
              "    [theme=dark] .colab-df-convert:hover {\n",
              "      background-color: #434B5C;\n",
              "      box-shadow: 0px 1px 3px 1px rgba(0, 0, 0, 0.15);\n",
              "      filter: drop-shadow(0px 1px 2px rgba(0, 0, 0, 0.3));\n",
              "      fill: #FFFFFF;\n",
              "    }\n",
              "  </style>\n",
              "\n",
              "      <script>\n",
              "        const buttonEl =\n",
              "          document.querySelector('#df-975c18d3-e8a3-40a7-9f5b-102dd9c805d2 button.colab-df-convert');\n",
              "        buttonEl.style.display =\n",
              "          google.colab.kernel.accessAllowed ? 'block' : 'none';\n",
              "\n",
              "        async function convertToInteractive(key) {\n",
              "          const element = document.querySelector('#df-975c18d3-e8a3-40a7-9f5b-102dd9c805d2');\n",
              "          const dataTable =\n",
              "            await google.colab.kernel.invokeFunction('convertToInteractive',\n",
              "                                                     [key], {});\n",
              "          if (!dataTable) return;\n",
              "\n",
              "          const docLinkHtml = 'Like what you see? Visit the ' +\n",
              "            '<a target=\"_blank\" href=https://colab.research.google.com/notebooks/data_table.ipynb>data table notebook</a>'\n",
              "            + ' to learn more about interactive tables.';\n",
              "          element.innerHTML = '';\n",
              "          dataTable['output_type'] = 'display_data';\n",
              "          await google.colab.output.renderOutput(dataTable, element);\n",
              "          const docLink = document.createElement('div');\n",
              "          docLink.innerHTML = docLinkHtml;\n",
              "          element.appendChild(docLink);\n",
              "        }\n",
              "      </script>\n",
              "    </div>\n",
              "  </div>\n",
              "  "
            ],
            "text/plain": [
              "                                                      id  ... language\n",
              "0      http://data.gesis.org/claimskg/claim_review/36...  ...  English\n",
              "1      http://data.gesis.org/claimskg/claim_review/e6...  ...  English\n",
              "2      http://data.gesis.org/claimskg/claim_review/e0...  ...  English\n",
              "3      http://data.gesis.org/claimskg/claim_review/48...  ...  English\n",
              "4      http://data.gesis.org/claimskg/claim_review/80...  ...  English\n",
              "...                                                  ...  ...      ...\n",
              "24447  http://data.gesis.org/claimskg/claim_review/41...  ...  English\n",
              "24448  http://data.gesis.org/claimskg/claim_review/9e...  ...  English\n",
              "24449  http://data.gesis.org/claimskg/claim_review/1a...  ...  English\n",
              "24450  http://data.gesis.org/claimskg/claim_review/28...  ...  English\n",
              "24451  http://data.gesis.org/claimskg/claim_review/e4...  ...  English\n",
              "\n",
              "[24452 rows x 14 columns]"
            ]
          },
          "metadata": {},
          "execution_count": 195
        }
      ],
      "source": [
        "# Concatenating 3 tables\n",
        "claimskg = pd.concat([claims_true, claims_false, claims_mixture], ignore_index=True,)\n",
        "\n",
        "# Watch the raw input table\n",
        "claimskg"
      ]
    },
    {
      "cell_type": "markdown",
      "source": [
        "## Some early exploratory of NaN data"
      ],
      "metadata": {
        "id": "EN88EHrIFeRb"
      }
    },
    {
      "cell_type": "code",
      "execution_count": 189,
      "metadata": {
        "colab": {
          "base_uri": "https://localhost:8080/",
          "height": 0
        },
        "id": "JVi4bJXuF_X4",
        "outputId": "ceb22cc5-4b78-4d1a-d160-594eab48f004"
      },
      "outputs": [
        {
          "output_type": "execute_result",
          "data": {
            "text/plain": [
              "<matplotlib.axes._subplots.AxesSubplot at 0x7f34abb9db90>"
            ]
          },
          "metadata": {},
          "execution_count": 189
        },
        {
          "output_type": "display_data",
          "data": {
            "image/png": "[encoded data removed]",
            "text/plain": [
              "<Figure size 432x288 with 2 Axes>"
            ]
          },
          "metadata": {
            "needs_background": "light"
          }
        }
      ],
      "source": [
        "#let’s see what is the proportion of NaN values using seaborn\n",
        "sns.heatmap(claimskg.isnull(), cmap='viridis')"
      ]
    },
    {
      "cell_type": "code",
      "execution_count": 190,
      "metadata": {
        "colab": {
          "base_uri": "https://localhost:8080/"
        },
        "id": "g5lZ9aEK4Xib",
        "outputId": "1cbbad69-be7a-4027-ff85-a894e40dc496"
      },
      "outputs": [
        {
          "output_type": "stream",
          "name": "stdout",
          "text": [
            "<class 'pandas.core.frame.DataFrame'>\n",
            "RangeIndex: 24452 entries, 0 to 24451\n",
            "Data columns (total 14 columns):\n",
            " #   Column                  Non-Null Count  Dtype \n",
            "---  ------                  --------------  ----- \n",
            " 0   id                      24452 non-null  object\n",
            " 1   text                    24452 non-null  object\n",
            " 2   date                    24452 non-null  object\n",
            " 3   truthRating             24452 non-null  int64 \n",
            " 4   ratingName              24452 non-null  object\n",
            " 5   author                  24452 non-null  object\n",
            " 6   headline                24452 non-null  object\n",
            " 7   named_entities_claim    24421 non-null  object\n",
            " 8   named_entities_article  15340 non-null  object\n",
            " 9   keywords                23162 non-null  object\n",
            " 10  source                  24452 non-null  object\n",
            " 11  sourceURL               24452 non-null  object\n",
            " 12  link                    24452 non-null  object\n",
            " 13  language                24452 non-null  object\n",
            "dtypes: int64(1), object(13)\n",
            "memory usage: 2.6+ MB\n"
          ]
        }
      ],
      "source": [
        "#View true claims infographic\n",
        "claimskg.info()"
      ]
    },
    {
      "cell_type": "code",
      "execution_count": 191,
      "metadata": {
        "colab": {
          "base_uri": "https://localhost:8080/"
        },
        "id": "N0-VIR3E6SXO",
        "outputId": "cf89b973-f62a-48cf-af7f-773cb44b6022"
      },
      "outputs": [
        {
          "output_type": "stream",
          "name": "stdout",
          "text": [
            "Names of all sources:  ['politifact' 'snopes' 'africacheck' 'truthorfiction' 'factscan'\n",
            " 'checkyourfact']\n",
            "**************************************************\n",
            "Languges of all claims:  ['English']\n",
            "**************************************************\n",
            "Number of unique dates:  3738\n",
            "**************************************************\n",
            "Number of unique Rating names:  3\n",
            "**************************************************\n",
            "False Rating class number:  1\n",
            "MIXTURE Rating class number:  2\n",
            "True Rating class number:  3\n",
            "**************************************************\n",
            "<class 'pandas.core.frame.DataFrame'>\n",
            "RangeIndex: 24452 entries, 0 to 24451\n",
            "Data columns (total 11 columns):\n",
            " #   Column                  Non-Null Count  Dtype \n",
            "---  ------                  --------------  ----- \n",
            " 0   id                      24452 non-null  object\n",
            " 1   text                    24452 non-null  object\n",
            " 2   truthRating             24452 non-null  int64 \n",
            " 3   ratingName              24452 non-null  object\n",
            " 4   author                  24452 non-null  object\n",
            " 5   headline                24452 non-null  object\n",
            " 6   named_entities_claim    24421 non-null  object\n",
            " 7   named_entities_article  15340 non-null  object\n",
            " 8   keywords                23162 non-null  object\n",
            " 9   source                  24452 non-null  object\n",
            " 10  link                    24452 non-null  object\n",
            "dtypes: int64(1), object(10)\n",
            "memory usage: 2.1+ MB\n"
          ]
        }
      ],
      "source": [
        "#Getting unique source's names\n",
        "source_list = claimskg.source.unique()\n",
        "print(\"Names of all sources: \", source_list)\n",
        "print('**************************************************')\n",
        "\n",
        "#pop unimportant columns:\n",
        "\n",
        "#We pop the sourceURL because we have done one-hot encoding on the source column\n",
        "claimskg.pop('sourceURL')\n",
        "\n",
        "#Because languages of all claims are English, so we can neglect the column 'language'\n",
        "print(\"Languges of all claims: \", claimskg.language.unique())\n",
        "claimskg.pop('language')\n",
        "print('**************************************************')\n",
        "\n",
        "print(\"Number of unique dates: \", len(claimskg.date.unique()))\n",
        "\n",
        "#it does not seem that date would be important in results by looking at feature importance of autogluon predictor after several runs. so we drop it\n",
        "claimskg.pop('date')\n",
        "print('**************************************************')\n",
        "\n",
        "print(\"Number of unique Rating names: \", len(claimskg.ratingName.unique()))\n",
        "print('**************************************************')\n",
        "\n",
        "print(\"False Rating class number: \", claimskg[claimskg['ratingName']==False]['truthRating'].iloc[0])\n",
        "print(\"MIXTURE Rating class number: \", claimskg[claimskg['ratingName']=='MIXTURE']['truthRating'].iloc[0])\n",
        "print(\"True Rating class number: \", claimskg[claimskg['ratingName']==True]['truthRating'].iloc[2])\n",
        "print('**************************************************')\n",
        "\n",
        "claimskg.info()"
      ]
    },
    {
      "cell_type": "code",
      "execution_count": 192,
      "metadata": {
        "colab": {
          "base_uri": "https://localhost:8080/"
        },
        "id": "DjZuMZephMTj",
        "outputId": "9b60a0b4-0a2b-4e79-8429-cda92e705833"
      },
      "outputs": [
        {
          "output_type": "stream",
          "name": "stdout",
          "text": [
            "Number of unique authors:  3885\n",
            "Number of unique article named entities:  10022\n",
            "Number of unique article named entities:  10156\n",
            "Number of NaN keyword claims:  1290\n",
            "Index on NaN keywords:  (array([    7,    12,    30, ..., 24335, 24388, 24392]),)\n"
          ]
        }
      ],
      "source": [
        "#print some information about the data set\n",
        "print(\"Number of unique authors: \", len(claimskg.author.unique()))\n",
        "print(\"Number of unique article named entities: \", len(claimskg.named_entities_article.unique()))\n",
        "print(\"Number of unique article named entities: \", len(claimskg.keywords.unique()))\n",
        "\n",
        "#Obtain indexes of claimskg where the keywords are NaN\n",
        "nan_keywords =np.where(pd.isnull(claimskg['keywords']))\n",
        "print(\"Number of NaN keyword claims: \", len(nan_keywords[0]))\n",
        "print(\"Index on NaN keywords: \", nan_keywords)"
      ]
    },
    {
      "cell_type": "markdown",
      "metadata": {
        "id": "t8v063BAQREW"
      },
      "source": [
        "# Deal with NaNs"
      ]
    },
    {
      "cell_type": "code",
      "execution_count": null,
      "metadata": {
        "colab": {
          "base_uri": "https://localhost:8080/"
        },
        "id": "q8zVEOcDum6L",
        "outputId": "c35b95ad-0283-42e5-87ec-0f6bf8080dc1"
      },
      "outputs": [
        {
          "output_type": "stream",
          "name": "stdout",
          "text": [
            "cuda\n"
          ]
        }
      ],
      "source": [
        "\n",
        "tf.test.gpu_device_name()\n",
        "torch.cuda.is_available()\n",
        "\n",
        "def get_default_device():\n",
        "    \"\"\"Picking GPU if available or else CPU\"\"\"\n",
        "    if torch.cuda.is_available():\n",
        "        return torch.device('cuda')\n",
        "    else:\n",
        "        return torch.device('cpu')\n",
        "device = get_default_device()\n",
        "print(device)\n",
        "\n",
        "def to_device(data, device):\n",
        "    \"\"\"Move tensor(s) to chosen device\"\"\"\n",
        "    if isinstance(data, (list,tuple)):\n",
        "        return [to_device(x, device) for x in data]\n",
        "    return data.to(device, non_blocking=True)\n",
        "\n"
      ]
    },
    {
      "cell_type": "code",
      "execution_count": null,
      "metadata": {
        "id": "4soine-PvIRt"
      },
      "outputs": [],
      "source": [
        "def keywords(doc, kw_model, max_length, top_n):\n",
        "  ''' Getting keywords of a document by using keyBert\n",
        "    returns the obtained keywords\n",
        "  '''\n",
        "  n_gram_range = tuple((1, max_length))\n",
        "  #we might not want to remove stop_words sometimes as they can tie longer keyphrases together.\n",
        "  top_n = top_n\n",
        "\n",
        "  keyword = kw_model.extract_keywords(doc, keyphrase_ngram_range=n_gram_range, top_n=top_n, ) \n",
        "  #we can add extra options like Max Sum Similarity by set use_maxsum=True, nr_candidates=10,\n",
        "  #Or add Maximal Marginal Relevance by set use_mmr=True, diversity=0.5\n",
        "  #We neglet these because of being time-consuming\n",
        "\n",
        "  #creating a similar string to other cells in 'keywords' column\n",
        "  keyword_string=''\n",
        "  for key in keyword:\n",
        "    keyword_string+=','+key[0]\n",
        "  keyword_string = keyword_string[1:]\n",
        "  return keyword_string"
      ]
    },
    {
      "cell_type": "code",
      "execution_count": null,
      "metadata": {
        "colab": {
          "base_uri": "https://localhost:8080/",
          "height": 465,
          "referenced_widgets": [
            "47b5117dc15848d8b8aafd29360ec597",
            "9dd803917c854242ae9a1dd0e9c7f240",
            "c8d0e56055904657a40787ebe0c08e0d",
            "550a04c8847347ef8ba9b9658416da7b",
            "04c253a1c7ec4264a46072a46a652bb2",
            "63b36022d6544715aa91928e219f71af",
            "5eb85b6123a24e2693b3e606a85d5673",
            "bbe62b82ff084e6ba88fb61fad82b420",
            "358769ff78124b70b9f85a62249a839a",
            "91abee3d0331473a8c6289b7620f1cb9",
            "2c334b392581497e8ea143acbd62f4bb",
            "a694c9261b244fd3af0652460a571680",
            "2b94be82883d440fa33945910fddec70",
            "065ab6aef36b48f98326713736a52b87",
            "9bd1d9aeb6a349fda5901629c8d0c175",
            "3c968f19a6244d4a9f8ad04b80530c95",
            "f4fa5b870ae74be596862be69a76d7fa",
            "13494482579e48e0a4535fce21c1cfbd",
            "553d22dbd6a047a1b608c8af7d6911bf",
            "f0aad234327b45fe8d0f45e89763aff5",
            "c16c6477d1814cd7b5571a7b1a34b8ff",
            "af96a1f73aaf45ccbcea14f4d655850b",
            "281eb36b581848dca0c599505767431c",
            "4fdba151ba924fb2b02381e3e058a5c0",
            "b45f4261d7a94eb986c74ef1be8ab88d",
            "ca043dd48c1d40599516053ff77be0e3",
            "f0c42279f61c452080c063e7cf63f3bd",
            "1d18d7d799ad4c359a5cf0c707dc5186",
            "f54050a3398f479aaee23a132f78cd90",
            "1ebacabdb7914dfbab527bb5aba9556c",
            "36391c2cc0e94f3e9e01d96fe585bfc1",
            "04fb9428dc814b99b4c5bbde1e3555f4",
            "cb825965ec784bb2a0b62ba8449f3835",
            "d3277d49ee3641e18037bacac91e3846",
            "ab146eb2f90e4afc88dcf28926d73d1c",
            "31d2a0d647114452ba92cf57aea8d749",
            "fd6f0d96bf724a15a55533b506e18090",
            "96a34ac9a0ec46e3a1b4af86ed41a201",
            "0ccbc257386f4f77a6b91bdf6f500943",
            "b1a50d101c5340d3bea0b7bf2be642cb",
            "12ccb258012a45948cad35b6afb2d694",
            "00adfa3f2a414680a527b1c19511f39d",
            "de83fb5e48a14ad8812413783b82a32b",
            "3c64b1f747cf48aab8dc254b07a06e01",
            "aa548e4e9def41c28e8dffccca57dfc5",
            "ae31540f9c7a479e8e61d60cc236df74",
            "6102b4cd182e48bb8c97301028ebd3b9",
            "a03ad5eca52849b09df5e42688641b5d",
            "1e634f92ad554aa697bbaa96250d43c4",
            "d0dc3c9e52b14338af248670ffc52787",
            "e9a9587aaeaa4847b00509c33b5c300e",
            "c3914dbe35984fcf96378641d0f6c9bc",
            "a5542a41f72b42b08ba814f288adfd27",
            "c68b19b1857e4dc3afaa053b3b939225",
            "331afcd91f71412b894946e27f2fd983",
            "b2fa1c76f11a4495a3b3b5169dbf7170",
            "97ca9a410701434383fa688143f7ffe6",
            "1fae2c9c63354e93b373e91a81de706e",
            "11f7c8e02e104580bbf0042dae7aaa08",
            "39240bd0b29f48a6bf4830abac880c77",
            "6edd4b03f2e84af1b622ab991a0b90de",
            "577fad78d3294d0da2896351377a0219",
            "ce0622780c6e424a8197cd8ee4b655f0",
            "aae5dd7eb61e4081bb47b04df6557a5c",
            "9e24244736504effac6930a93c4f45d8",
            "6a647cb9f92c4b5ea2b5f79ee816c9e7",
            "27e95250eb864197a6f6959f88b41a93",
            "482037c0c45046e88536817b3f9769e3",
            "ee2f0fd8b5e04a8bbd595b24acbfd6c7",
            "6fae7ecea5c6475ea5418e3938f3c266",
            "702552e1cf08486c9e8d4872aaff63d7",
            "61bbdbce6b71456aa134dd780089be0b",
            "3f55e57ad8a04a7faf5f1824f70ed5e2",
            "efb7bdc3f94346c8b50cd7d18a8c5bd9",
            "d18cbedc94a343fd80b3dc82772bded1",
            "50439c02cbc944afac028e5fbca2313f",
            "d5538c185b824b52b5c396883ab3a39a",
            "4c6211dbf12d4cf593c55b82b56e3e3f",
            "bed10cf668a84c40abd3a922c9c9c2e4",
            "fe5bf0a1510c4458970a1ac93a3ffc7d",
            "38134024c24b485fb9363ec0c88bfaaa",
            "687321bbd69340a8b7393cd60a1b830a",
            "9ebf804ae3bb45499f7fd0cd78868c3a",
            "8a44aee4792b42f880d9ee059c519035",
            "60f5af4657a044f2bec84f1523dbfef4",
            "fe84a91a6b6b45379ed89a513bd5cd39",
            "a6675d67405d412d9a147e3d78da26bf",
            "8bf1a26fc86f443798c2f43457595063",
            "5f382f9eb7394acf94258524ffa3b2d1",
            "232b6a4fb80e45bb8b4e19e8ccd765af",
            "0b4d99278ad441adb151e7886e48f03e",
            "9f40971ff1ef41a48dcbfe0931d42f43",
            "0b24f8cda9de4e1fb521560d70e4cd4c",
            "3f4af661e8b34b81afa85429fb04514b",
            "0bccde796be445de92bac48e2bc41117",
            "cb19b48fc488469fbff59a02c27a26c0",
            "bea5c8d591c84d1c82efb71c721d8b3f",
            "59ad21e2933e4e09a706d8c60a762259",
            "8be1074de9a24049861bd44694105f96",
            "88cd8e3e49814afe9387c898ba779940",
            "5fa2542e0ccf4a0d81faef2380238857",
            "34451528ba9e4e43bf6e774d7a667003",
            "a18ad6c1319a473981783f048917ee41",
            "26d6c6df45b04bf5b4b541341bdf0f73",
            "2661405de3664b53a23b1d69690725cb",
            "f000619f63f0409084b36592d1b3b243",
            "db319e6033714c9784aafcc1f4cef513",
            "7e683672181e4dc78dee266a0096059d",
            "acfb6fb5956143f6a32a44c0eae5d8cf",
            "ed4d219fb9694580a587ffa99a6ce01d",
            "293897dfd34d4bb79b2d0d5f7a7496c6",
            "44d11d5a2d884bb59bd761f0a2712868",
            "29028ce722184f588b386ec0c60dc34c",
            "b4095e299588461d80b52017e146bb7f",
            "52ca3f30661649288e2ac9a76c5d1439",
            "b63821f12b1946d293bb7b0aea76729c",
            "fc0ccd8265eb42909573b77ceb44cbb7",
            "944373c1bf744b79b2883a0775ef3a66",
            "25599a9eb0d2481faf4ca2118936dd25",
            "a36aeabdb7c5482d86d365d0af238901",
            "b214253337924983aff9c3537d7d7545",
            "a33f2664b75945e881448771849e4bc0",
            "57f4418b922445e289affe7b4721693a",
            "23c09193b53e4cb4bc3b5187d1bacb50",
            "1ccaefa89cb24ce5b1c3a39afbed2d44",
            "5d5e11e63a3a4aaeb93f4b9e611d8088",
            "f7cc5fa8c7cd44cda6dab54866f22e7f",
            "587ab73880544f53aef4fe448c0f8b94",
            "b308f3442e5f48cc8f61ec07e2f78b0a",
            "cff0c4cd2136428eb7a87c060612248d",
            "910aef2f4758423bb56b53f92b33e3a7",
            "0d1838b8c43a4c90aa04fd6a3e41e7be",
            "1c960c5737a141f9bc5fc110395b649d",
            "843bb3ac3a5d4ecb9c90e73040c3c6ef",
            "69e9a11af94d46dfa869ca0aabc6a81f",
            "5c74fd9b2bf04f4198ad2b0c3f896e83",
            "287ff304192543f59bf55d6ba30dd7dd",
            "47839d82f7f04167b0f9e635951f6b35",
            "990e2b48bc3b489f87008e5f014c635b",
            "8c6b3481995547179be193f3521c6b8f",
            "b4a569d058c444b893df1cd430d532cb",
            "4c4687dd10924d3186a6e7679a020098",
            "e95c717dc3614b41b305e9d0ac91cbbd",
            "819633cd80af457c922b2c919f1f1954",
            "9c9daa50cbc24f6888ca3a7d3d0769bf",
            "d3f3b69e5cd449ee86b0c6a9e8fb8507",
            "8818647bac204fdc9288d6a3933b1af1",
            "97eb2ca0a71f4cefab339e846a976b27",
            "00485664e7c24a268d44865e7c0b666d",
            "03219da00aa54164b968f1c9043c0eaf",
            "3be9a984b39a46ee8e129b8c17649a56",
            "3bf0e7ee610c4fc48c2293f821ea76ed",
            "86a2443138ae4ee591ee2104670a9f82",
            "0dbe621de1e84661a08439c310007120"
          ]
        },
        "id": "9xzxObtky5Az",
        "outputId": "15bdd2a8-ade0-4cf8-ae5f-220aa25d784b"
      },
      "outputs": [
        {
          "output_type": "display_data",
          "data": {
            "application/vnd.jupyter.widget-view+json": {
              "model_id": "47b5117dc15848d8b8aafd29360ec597",
              "version_minor": 0,
              "version_major": 2
            },
            "text/plain": [
              "Downloading:   0%|          | 0.00/1.18k [00:00<?, ?B/s]"
            ]
          },
          "metadata": {}
        },
        {
          "output_type": "display_data",
          "data": {
            "application/vnd.jupyter.widget-view+json": {
              "model_id": "a694c9261b244fd3af0652460a571680",
              "version_minor": 0,
              "version_major": 2
            },
            "text/plain": [
              "Downloading:   0%|          | 0.00/10.2k [00:00<?, ?B/s]"
            ]
          },
          "metadata": {}
        },
        {
          "output_type": "display_data",
          "data": {
            "application/vnd.jupyter.widget-view+json": {
              "model_id": "281eb36b581848dca0c599505767431c",
              "version_minor": 0,
              "version_major": 2
            },
            "text/plain": [
              "Downloading:   0%|          | 0.00/612 [00:00<?, ?B/s]"
            ]
          },
          "metadata": {}
        },
        {
          "output_type": "display_data",
          "data": {
            "application/vnd.jupyter.widget-view+json": {
              "model_id": "d3277d49ee3641e18037bacac91e3846",
              "version_minor": 0,
              "version_major": 2
            },
            "text/plain": [
              "Downloading:   0%|          | 0.00/116 [00:00<?, ?B/s]"
            ]
          },
          "metadata": {}
        },
        {
          "output_type": "display_data",
          "data": {
            "application/vnd.jupyter.widget-view+json": {
              "model_id": "aa548e4e9def41c28e8dffccca57dfc5",
              "version_minor": 0,
              "version_major": 2
            },
            "text/plain": [
              "Downloading:   0%|          | 0.00/39.3k [00:00<?, ?B/s]"
            ]
          },
          "metadata": {}
        },
        {
          "output_type": "display_data",
          "data": {
            "application/vnd.jupyter.widget-view+json": {
              "model_id": "b2fa1c76f11a4495a3b3b5169dbf7170",
              "version_minor": 0,
              "version_major": 2
            },
            "text/plain": [
              "Downloading:   0%|          | 0.00/349 [00:00<?, ?B/s]"
            ]
          },
          "metadata": {}
        },
        {
          "output_type": "display_data",
          "data": {
            "application/vnd.jupyter.widget-view+json": {
              "model_id": "27e95250eb864197a6f6959f88b41a93",
              "version_minor": 0,
              "version_major": 2
            },
            "text/plain": [
              "Downloading:   0%|          | 0.00/90.9M [00:00<?, ?B/s]"
            ]
          },
          "metadata": {}
        },
        {
          "output_type": "display_data",
          "data": {
            "application/vnd.jupyter.widget-view+json": {
              "model_id": "4c6211dbf12d4cf593c55b82b56e3e3f",
              "version_minor": 0,
              "version_major": 2
            },
            "text/plain": [
              "Downloading:   0%|          | 0.00/53.0 [00:00<?, ?B/s]"
            ]
          },
          "metadata": {}
        },
        {
          "output_type": "display_data",
          "data": {
            "application/vnd.jupyter.widget-view+json": {
              "model_id": "5f382f9eb7394acf94258524ffa3b2d1",
              "version_minor": 0,
              "version_major": 2
            },
            "text/plain": [
              "Downloading:   0%|          | 0.00/112 [00:00<?, ?B/s]"
            ]
          },
          "metadata": {}
        },
        {
          "output_type": "display_data",
          "data": {
            "application/vnd.jupyter.widget-view+json": {
              "model_id": "88cd8e3e49814afe9387c898ba779940",
              "version_minor": 0,
              "version_major": 2
            },
            "text/plain": [
              "Downloading:   0%|          | 0.00/466k [00:00<?, ?B/s]"
            ]
          },
          "metadata": {}
        },
        {
          "output_type": "display_data",
          "data": {
            "application/vnd.jupyter.widget-view+json": {
              "model_id": "293897dfd34d4bb79b2d0d5f7a7496c6",
              "version_minor": 0,
              "version_major": 2
            },
            "text/plain": [
              "Downloading:   0%|          | 0.00/350 [00:00<?, ?B/s]"
            ]
          },
          "metadata": {}
        },
        {
          "output_type": "display_data",
          "data": {
            "application/vnd.jupyter.widget-view+json": {
              "model_id": "a33f2664b75945e881448771849e4bc0",
              "version_minor": 0,
              "version_major": 2
            },
            "text/plain": [
              "Downloading:   0%|          | 0.00/13.2k [00:00<?, ?B/s]"
            ]
          },
          "metadata": {}
        },
        {
          "output_type": "display_data",
          "data": {
            "application/vnd.jupyter.widget-view+json": {
              "model_id": "1c960c5737a141f9bc5fc110395b649d",
              "version_minor": 0,
              "version_major": 2
            },
            "text/plain": [
              "Downloading:   0%|          | 0.00/232k [00:00<?, ?B/s]"
            ]
          },
          "metadata": {}
        },
        {
          "output_type": "display_data",
          "data": {
            "application/vnd.jupyter.widget-view+json": {
              "model_id": "819633cd80af457c922b2c919f1f1954",
              "version_minor": 0,
              "version_major": 2
            },
            "text/plain": [
              "Downloading:   0%|          | 0.00/190 [00:00<?, ?B/s]"
            ]
          },
          "metadata": {}
        }
      ],
      "source": [
        "#filling the cells having nan in the 'keywords' column using keyBERT\n",
        "\n",
        "kw_model = KeyBERT()\n",
        "#to_device(kw_model,device)\n",
        "\n",
        "for i in nan_keywords[0]:\n",
        "  claimskg.iloc[i, claimskg.columns.get_loc('keywords')] = keywords(claimskg.iloc[i]['text']+','+claimskg.iloc[i]['headline'], kw_model, max_length=2, top_n=5)\n",
        "# run time: 1 minute one Colab gpu"
      ]
    },
    {
      "cell_type": "code",
      "execution_count": null,
      "metadata": {
        "id": "gMWbHGEY2Rqx"
      },
      "outputs": [],
      "source": [
        "#Saving the table with full\n",
        "claimskg.to_csv(\"claimskg_all_keywords.csv\", index=False)"
      ]
    },
    {
      "cell_type": "code",
      "execution_count": null,
      "metadata": {
        "id": "J8yU_jQlDwQg"
      },
      "outputs": [],
      "source": [
        "claimskg = pd.read_csv(\"claimskg_all_keywords.csv\")"
      ]
    },
    {
      "cell_type": "code",
      "execution_count": null,
      "metadata": {
        "colab": {
          "base_uri": "https://localhost:8080/"
        },
        "id": "8Y_CR5ODp8Hb",
        "outputId": "b7291230-21db-4063-ce20-4ff0686e842c"
      },
      "outputs": [
        {
          "output_type": "stream",
          "name": "stdout",
          "text": [
            "<class 'pandas.core.frame.DataFrame'>\n",
            "RangeIndex: 24452 entries, 0 to 24451\n",
            "Data columns (total 11 columns):\n",
            " #   Column                  Non-Null Count  Dtype \n",
            "---  ------                  --------------  ----- \n",
            " 0   id                      24452 non-null  object\n",
            " 1   text                    24452 non-null  object\n",
            " 2   truthRating             24452 non-null  int64 \n",
            " 3   ratingName              24452 non-null  object\n",
            " 4   author                  24452 non-null  object\n",
            " 5   headline                24452 non-null  object\n",
            " 6   named_entities_claim    24421 non-null  object\n",
            " 7   named_entities_article  15340 non-null  object\n",
            " 8   keywords                24452 non-null  object\n",
            " 9   source                  24452 non-null  object\n",
            " 10  link                    24452 non-null  object\n",
            "dtypes: int64(1), object(10)\n",
            "memory usage: 2.1+ MB\n"
          ]
        }
      ],
      "source": [
        "claimskg.info()"
      ]
    },
    {
      "cell_type": "code",
      "execution_count": null,
      "metadata": {
        "colab": {
          "base_uri": "https://localhost:8080/"
        },
        "id": "DZP39VbleBsz",
        "outputId": "62da4c4b-ba31-4f6e-d78d-490ca967aadd"
      },
      "outputs": [
        {
          "output_type": "stream",
          "name": "stdout",
          "text": [
            "Number of NaN keyword claims:  31\n",
            "Index on NaN keywords:  (array([  172,  1328,  1609,  1870,  1910,  2234,  4585,  5104,  5708,\n",
            "        6225,  7107,  7845,  9446,  9991, 10895, 10923, 10932, 11263,\n",
            "       11460, 11734, 12473, 12569, 13246, 13440, 13541, 13921, 13967,\n",
            "       16570, 16872, 17946, 20348]),)\n"
          ]
        }
      ],
      "source": [
        "#Obtain indexes of claimskg where the named_entities_claim are NaN\n",
        "nan_claim_entity =np.where(pd.isnull(claimskg['named_entities_claim']))\n",
        "print(\"Number of NaN keyword claims: \", len(nan_claim_entity[0]))\n",
        "print(\"Index on NaN keywords: \", nan_claim_entity)"
      ]
    },
    {
      "cell_type": "code",
      "execution_count": null,
      "metadata": {
        "id": "JF0bKfTehMIJ"
      },
      "outputs": [],
      "source": [
        "##filling the cells having nan in the 'named_entities_claim' column using keyBERT\n",
        "\n",
        "for i in nan_claim_entity[0]:\n",
        "  choices_list = claimskg.iloc[i, claimskg.columns.get_loc('headline')] +','+ claimskg.iloc[i, claimskg.columns.get_loc('text')]\n",
        "  claimskg.iloc[i, claimskg.columns.get_loc('named_entities_claim')] = keywords(choices_list, kw_model, max_length=6, top_n=10)\n"
      ]
    },
    {
      "cell_type": "code",
      "execution_count": null,
      "metadata": {
        "id": "dT0dLqzp2ujh"
      },
      "outputs": [],
      "source": [
        "#Saving table with full lemmatized named_entities_claim column\n",
        "claimskg.to_csv(\"claimskg_all_entities_claim.csv\", index=False)"
      ]
    },
    {
      "cell_type": "code",
      "execution_count": null,
      "metadata": {
        "id": "lEFir9kF4QAI"
      },
      "outputs": [],
      "source": [
        "claimskg = pd.read_csv(\"claimskg_all_entities_claim.csv\")"
      ]
    },
    {
      "cell_type": "code",
      "execution_count": null,
      "metadata": {
        "colab": {
          "base_uri": "https://localhost:8080/"
        },
        "id": "iO-c64CQ0WFJ",
        "outputId": "e9194b26-fd2b-4f73-df6e-4fde2f5866ab"
      },
      "outputs": [
        {
          "output_type": "stream",
          "name": "stdout",
          "text": [
            "<class 'pandas.core.frame.DataFrame'>\n",
            "RangeIndex: 24452 entries, 0 to 24451\n",
            "Data columns (total 11 columns):\n",
            " #   Column                  Non-Null Count  Dtype \n",
            "---  ------                  --------------  ----- \n",
            " 0   id                      24452 non-null  object\n",
            " 1   text                    24452 non-null  object\n",
            " 2   truthRating             24452 non-null  int64 \n",
            " 3   ratingName              24452 non-null  object\n",
            " 4   author                  24452 non-null  object\n",
            " 5   headline                24452 non-null  object\n",
            " 6   named_entities_claim    24452 non-null  object\n",
            " 7   named_entities_article  15340 non-null  object\n",
            " 8   keywords                24452 non-null  object\n",
            " 9   source                  24452 non-null  object\n",
            " 10  link                    24452 non-null  object\n",
            "dtypes: int64(1), object(10)\n",
            "memory usage: 2.1+ MB\n"
          ]
        }
      ],
      "source": [
        "claimskg.info()"
      ]
    },
    {
      "cell_type": "code",
      "execution_count": null,
      "metadata": {
        "colab": {
          "base_uri": "https://localhost:8080/"
        },
        "id": "yrxyc2j5eBz1",
        "outputId": "5f058d83-85b8-4df2-bcb0-69d4bc611ebc"
      },
      "outputs": [
        {
          "output_type": "stream",
          "name": "stdout",
          "text": [
            "Number of NaN keyword claims:  9112\n",
            "Index on NaN keywords:  (array([    1,     2,     5, ..., 24449, 24450, 24451]),)\n"
          ]
        }
      ],
      "source": [
        "#Obtain indexes of claimskg where the named_entities_article are NaN\n",
        "nan_article_list =np.where(pd.isnull(claimskg['named_entities_article']))\n",
        "print(\"Number of NaN keyword claims: \", len(nan_article_list[0]))\n",
        "print(\"Index on NaN keywords: \", nan_article_list)"
      ]
    },
    {
      "cell_type": "markdown",
      "metadata": {
        "id": "DHuShm-BFgt-"
      },
      "source": [
        "### Using headline and named_entities_claim to recognize the top 2 article topics\n",
        "Looking at the non NaN named_entities_article cells this seems sensible filling the NaN cells using headline and named_entities_claim. \n",
        "\n",
        "**Note: It's the bottleneck of my program and not using the Colab GPU, it takes about 40 minutes for running. This is because there are too many words on the named_entities_claim column- one of the columns we are using for prediction- and because we are searching for both single words and 2-grams, the number of choices will become too much.**\n",
        "\n",
        "Offer: We can use only single words to article named-entity recognition. I mean change the max_length to 1."
      ]
    },
    {
      "cell_type": "code",
      "execution_count": null,
      "metadata": {
        "id": "nST2tSTucbAA"
      },
      "outputs": [],
      "source": [
        "for i in nan_article_list[0]:\n",
        "  choices_list = claimskg.iloc[i, claimskg.columns.get_loc('headline')] +','+ claimskg.iloc[i, claimskg.columns.get_loc('named_entities_claim')]\n",
        "  claimskg.iloc[i, claimskg.columns.get_loc('named_entities_article')] = keywords(choices_list, kw_model, max_length=2, top_n=2)\n",
        "\n",
        "#less than 8 minutes run on my Colab gpu, otherwise it's so time-consuming"
      ]
    },
    {
      "cell_type": "code",
      "execution_count": null,
      "metadata": {
        "colab": {
          "base_uri": "https://localhost:8080/"
        },
        "id": "Z9dg1PoyG0BY",
        "outputId": "61c60c54-c2c6-4db3-aedc-ddb24f3902b0"
      },
      "outputs": [
        {
          "output_type": "stream",
          "name": "stdout",
          "text": [
            "<class 'pandas.core.frame.DataFrame'>\n",
            "RangeIndex: 24452 entries, 0 to 24451\n",
            "Data columns (total 11 columns):\n",
            " #   Column                  Non-Null Count  Dtype \n",
            "---  ------                  --------------  ----- \n",
            " 0   id                      24452 non-null  object\n",
            " 1   text                    24452 non-null  object\n",
            " 2   truthRating             24452 non-null  int64 \n",
            " 3   ratingName              24452 non-null  object\n",
            " 4   author                  24452 non-null  object\n",
            " 5   headline                24452 non-null  object\n",
            " 6   named_entities_claim    24452 non-null  object\n",
            " 7   named_entities_article  24452 non-null  object\n",
            " 8   keywords                24452 non-null  object\n",
            " 9   source                  24452 non-null  object\n",
            " 10  link                    24452 non-null  object\n",
            "dtypes: int64(1), object(10)\n",
            "memory usage: 2.1+ MB\n"
          ]
        }
      ],
      "source": [
        "claimskg.info()"
      ]
    },
    {
      "cell_type": "code",
      "execution_count": null,
      "metadata": {
        "id": "3b8aWhQo4lwT"
      },
      "outputs": [],
      "source": [
        "claimskg.to_csv(\"claimskg_all_articles.csv\", index=False)"
      ]
    },
    {
      "cell_type": "markdown",
      "metadata": {
        "id": "SiP0IDczSN7Y"
      },
      "source": [
        "# Lowercase, Lemmatize, Stem and, Remove Stop Words and Puncuations "
      ]
    },
    {
      "cell_type": "code",
      "execution_count": null,
      "metadata": {
        "id": "YJlLnGZ0G9Zs"
      },
      "outputs": [],
      "source": [
        "claimskg = pd.read_csv(\"claimskg_all_articles.csv\")"
      ]
    },
    {
      "cell_type": "code",
      "execution_count": null,
      "metadata": {
        "colab": {
          "base_uri": "https://localhost:8080/"
        },
        "id": "0T8IxbEUfJBM",
        "outputId": "5b0994ae-b538-41f0-ea51-85800707766a"
      },
      "outputs": [
        {
          "output_type": "stream",
          "name": "stdout",
          "text": [
            "<class 'pandas.core.frame.DataFrame'>\n",
            "RangeIndex: 24452 entries, 0 to 24451\n",
            "Data columns (total 11 columns):\n",
            " #   Column                  Non-Null Count  Dtype \n",
            "---  ------                  --------------  ----- \n",
            " 0   id                      24452 non-null  object\n",
            " 1   text                    24452 non-null  object\n",
            " 2   truthRating             24452 non-null  int64 \n",
            " 3   ratingName              24452 non-null  object\n",
            " 4   author                  24452 non-null  object\n",
            " 5   headline                24452 non-null  object\n",
            " 6   named_entities_claim    24452 non-null  object\n",
            " 7   named_entities_article  24452 non-null  object\n",
            " 8   keywords                24452 non-null  object\n",
            " 9   source                  24452 non-null  object\n",
            " 10  link                    24452 non-null  object\n",
            "dtypes: int64(1), object(10)\n",
            "memory usage: 2.1+ MB\n"
          ]
        }
      ],
      "source": [
        "claimskg.info()"
      ]
    },
    {
      "cell_type": "code",
      "execution_count": null,
      "metadata": {
        "id": "7FGL000t9fZo"
      },
      "outputs": [],
      "source": [
        "#pos tagging and adding POS column to dataset\n",
        "\n",
        "#texts = claimskg['text']\n",
        "#claimskg['POS'] = pos_tag_sents(map(word_tokenize, texts))\n"
      ]
    },
    {
      "cell_type": "code",
      "execution_count": null,
      "metadata": {
        "id": "rOYFhsEhYL4O"
      },
      "outputs": [],
      "source": [
        "#remove punctuation from columns\n",
        "\n",
        "columns = ['text', 'headline','author', 'named_entities_claim','named_entities_article', 'keywords']\n",
        "for col in columns:\n",
        "  #make text lowercase\n",
        "  claimskg[col] = claimskg[col].apply(lambda x: x.lower())\n",
        "  #Because we replaced the special characters with a plus, we might end up with double whitespaces in some cases\n",
        "  claimskg[col] = claimskg[col].apply(lambda x: re.sub('[%s]' % re.escape(string.punctuation), ' ' , x))\n",
        "  #remove digits\n",
        "  claimskg[col] = claimskg[col].apply(lambda x: re.sub('W*\\dw*',' ',x))\n",
        "  #remove extra spaces\n",
        "  claimskg[col] = claimskg[col].apply(lambda x: re.sub('[\\t\\r\\n\\f]',' ',x))"
      ]
    },
    {
      "cell_type": "code",
      "execution_count": null,
      "metadata": {
        "id": "pJPSo2hXjnV3"
      },
      "outputs": [],
      "source": [
        "#Remove stop words of the all necessary columns\n",
        "stop_words = set(stopwords.words('english'))\n",
        "\n",
        "def remove_stop_word(text):\n",
        "    return \" \".join(w for w in word_tokenize(text) if not w.lower() in stop_words)\n",
        "\n",
        "#Do on all textual columns except for author \n",
        "columns.remove('author')\n",
        "for col in columns:\n",
        "  df = claimskg[col].copy()\n",
        "  df = pd.DataFrame(df)\n",
        "  df['text_stopped'] = df[col].apply(remove_stop_word)\n",
        "  claimskg[col] = df.text_stopped\n"
      ]
    },
    {
      "cell_type": "code",
      "execution_count": null,
      "metadata": {
        "id": "Tg2LW8qLGRsi"
      },
      "outputs": [],
      "source": [
        "#Lemmatization all the necessary columns\n",
        "lemmatizer = nltk.stem.WordNetLemmatizer()\n",
        "\n",
        "def lemmatize_text(text):\n",
        "    return \" \".join(lemmatizer.lemmatize(w) for w in nltk.word_tokenize(text))\n",
        "\n",
        "for col in columns:\n",
        "  df = claimskg[col].copy()\n",
        "  df = pd.DataFrame(df)\n",
        "  df['text_lemmatized'] = df[col].apply(lemmatize_text)\n",
        "  claimskg[col] = df.text_lemmatized\n"
      ]
    },
    {
      "cell_type": "code",
      "execution_count": null,
      "metadata": {
        "id": "yJYuhAnXY4Uq"
      },
      "outputs": [],
      "source": [
        "#stemming\n",
        "stemmer = PorterStemmer()\n",
        "\n",
        "def stem_words(text):\n",
        "  return \" \".join([stemmer.stem(word) for word in nltk.word_tokenize(text)])\n",
        "\n",
        "for col in columns:\n",
        "  df = claimskg[col].copy()\n",
        "  df = pd.DataFrame(df)\n",
        "  df['text_stemmed'] = df[col].apply(stem_words)\n",
        "  claimskg[col] = df.text_stemmed\n"
      ]
    },
    {
      "cell_type": "code",
      "source": [
        "#Let's take a look at our edited data set\n",
        "claimskg"
      ],
      "metadata": {
        "colab": {
          "base_uri": "https://localhost:8080/",
          "height": 1000
        },
        "id": "6ixb8txqtHv4",
        "outputId": "1422b2da-34b3-4c2d-d425-fae421c7e6d0"
      },
      "execution_count": null,
      "outputs": [
        {
          "output_type": "execute_result",
          "data": {
            "text/html": [
              "\n",
              "  <div id=\"df-aa9dd8a5-2e60-4d28-a3c3-caa17fd436c4\">\n",
              "    <div class=\"colab-df-container\">\n",
              "      <div>\n",
              "<style scoped>\n",
              "    .dataframe tbody tr th:only-of-type {\n",
              "        vertical-align: middle;\n",
              "    }\n",
              "\n",
              "    .dataframe tbody tr th {\n",
              "        vertical-align: top;\n",
              "    }\n",
              "\n",
              "    .dataframe thead th {\n",
              "        text-align: right;\n",
              "    }\n",
              "</style>\n",
              "<table border=\"1\" class=\"dataframe\">\n",
              "  <thead>\n",
              "    <tr style=\"text-align: right;\">\n",
              "      <th></th>\n",
              "      <th>id</th>\n",
              "      <th>text</th>\n",
              "      <th>truthRating</th>\n",
              "      <th>ratingName</th>\n",
              "      <th>author</th>\n",
              "      <th>headline</th>\n",
              "      <th>named_entities_claim</th>\n",
              "      <th>named_entities_article</th>\n",
              "      <th>keywords</th>\n",
              "      <th>source</th>\n",
              "      <th>link</th>\n",
              "    </tr>\n",
              "  </thead>\n",
              "  <tbody>\n",
              "    <tr>\n",
              "      <th>0</th>\n",
              "      <td>http://data.gesis.org/claimskg/claim_review/36...</td>\n",
              "      <td>public fund abort legisl</td>\n",
              "      <td>3</td>\n",
              "      <td>True</td>\n",
              "      <td>bart stupak</td>\n",
              "      <td>stupak revis abort stanc health care bill cite...</td>\n",
              "      <td>abort right barack obama bart stupak ben nelso...</td>\n",
              "      <td>abort</td>\n",
              "      <td>abort health care</td>\n",
              "      <td>politifact</td>\n",
              "      <td>http://www.politifact.com/truth-o-meter/statem...</td>\n",
              "    </tr>\n",
              "    <tr>\n",
              "      <th>1</th>\n",
              "      <td>http://data.gesis.org/claimskg/claim_review/e6...</td>\n",
              "      <td>central health hospit district texa spend taxp...</td>\n",
              "      <td>3</td>\n",
              "      <td>True</td>\n",
              "      <td>wayne christian</td>\n",
              "      <td>state rep wayn christian say central health tr...</td>\n",
              "      <td>austin american statesman harri counti hospit ...</td>\n",
              "      <td>travi counti counti texa</td>\n",
              "      <td>abort</td>\n",
              "      <td>politifact</td>\n",
              "      <td>http://www.politifact.com/texas/statements/201...</td>\n",
              "    </tr>\n",
              "    <tr>\n",
              "      <th>2</th>\n",
              "      <td>http://data.gesis.org/claimskg/claim_review/e0...</td>\n",
              "      <td>say perri chief staff lobbyist</td>\n",
              "      <td>3</td>\n",
              "      <td>True</td>\n",
              "      <td>bill white</td>\n",
              "      <td>bill white say gov rick perri chief staff lobb...</td>\n",
              "      <td>bill clement bill white bracewel giuliani brac...</td>\n",
              "      <td>staff lobbyist lobbyist clement</td>\n",
              "      <td>ethic</td>\n",
              "      <td>politifact</td>\n",
              "      <td>http://www.politifact.com/texas/statements/201...</td>\n",
              "    </tr>\n",
              "    <tr>\n",
              "      <th>3</th>\n",
              "      <td>http://data.gesis.org/claimskg/claim_review/48...</td>\n",
              "      <td>say co chair joint way mean committe secur key...</td>\n",
              "      <td>3</td>\n",
              "      <td>True</td>\n",
              "      <td>mary nolan</td>\n",
              "      <td>mari nolan secur fund milwauki bridg project</td>\n",
              "      <td>carolyn tomei dave hunt fetsch jeff merkley ka...</td>\n",
              "      <td>portland milwauki light rail project</td>\n",
              "      <td>state budget state financ transport</td>\n",
              "      <td>politifact</td>\n",
              "      <td>http://www.politifact.com/oregon/statements/20...</td>\n",
              "    </tr>\n",
              "    <tr>\n",
              "      <th>4</th>\n",
              "      <td>http://data.gesis.org/claimskg/claim_review/80...</td>\n",
              "      <td>say gari farmer ’ claim receiv nra absolut lie</td>\n",
              "      <td>3</td>\n",
              "      <td>True</td>\n",
              "      <td>jim waldman</td>\n",
              "      <td>florida senat candid never actual receiv nra</td>\n",
              "      <td>gari farmer gwyndolen clark reed jim waldman l...</td>\n",
              "      <td>gari farmer</td>\n",
              "      <td>gun</td>\n",
              "      <td>politifact</td>\n",
              "      <td>http://www.politifact.com/florida/statements/2...</td>\n",
              "    </tr>\n",
              "    <tr>\n",
              "      <th>...</th>\n",
              "      <td>...</td>\n",
              "      <td>...</td>\n",
              "      <td>...</td>\n",
              "      <td>...</td>\n",
              "      <td>...</td>\n",
              "      <td>...</td>\n",
              "      <td>...</td>\n",
              "      <td>...</td>\n",
              "      <td>...</td>\n",
              "      <td>...</td>\n",
              "      <td>...</td>\n",
              "    </tr>\n",
              "    <tr>\n",
              "      <th>24447</th>\n",
              "      <td>http://data.gesis.org/claimskg/claim_review/41...</td>\n",
              "      <td>citi mayor percent latino percent vote</td>\n",
              "      <td>2</td>\n",
              "      <td>MIXTURE</td>\n",
              "      <td>lou barletta</td>\n",
              "      <td>hazleton ’ half latino lou barletta elect mayo...</td>\n",
              "      <td>barletta bob casey fox busi network hazleton i...</td>\n",
              "      <td>latino</td>\n",
              "      <td>immigr</td>\n",
              "      <td>politifact</td>\n",
              "      <td>http://www.politifact.com/pennsylvania/stateme...</td>\n",
              "    </tr>\n",
              "    <tr>\n",
              "      <th>24448</th>\n",
              "      <td>http://data.gesis.org/claimskg/claim_review/9e...</td>\n",
              "      <td>set imag show congenit anomali result hand eig...</td>\n",
              "      <td>2</td>\n",
              "      <td>MIXTURE</td>\n",
              "      <td>unknown</td>\n",
              "      <td>real hand eight finger</td>\n",
              "      <td>american societi surgeri hand bilaspur faceboo...</td>\n",
              "      <td>surgeri hand real hand</td>\n",
              "      <td>hand medic medic anomali mirror hand</td>\n",
              "      <td>snopes</td>\n",
              "      <td>https://www.snopes.com/fact-check/real-hand-ei...</td>\n",
              "    </tr>\n",
              "    <tr>\n",
              "      <th>24449</th>\n",
              "      <td>http://data.gesis.org/claimskg/claim_review/1a...</td>\n",
              "      <td>see peopl murder everi singl day gunfir america</td>\n",
              "      <td>2</td>\n",
              "      <td>MIXTURE</td>\n",
              "      <td>cory booker</td>\n",
              "      <td>cori booker say american kill gun everi day</td>\n",
              "      <td>abc center diseas control prevent cori booker ...</td>\n",
              "      <td>stephanopoulo gun mass shoot</td>\n",
              "      <td>crime gun</td>\n",
              "      <td>politifact</td>\n",
              "      <td>http://www.politifact.com/new-jersey/statement...</td>\n",
              "    </tr>\n",
              "    <tr>\n",
              "      <th>24450</th>\n",
              "      <td>http://data.gesis.org/claimskg/claim_review/28...</td>\n",
              "      <td>white men commit mass shoot group</td>\n",
              "      <td>2</td>\n",
              "      <td>MIXTURE</td>\n",
              "      <td>newsweek</td>\n",
              "      <td>white male respons mass shoot group</td>\n",
              "      <td>san bernardino shoot aurora colo follman grant...</td>\n",
              "      <td>mass shoot mass shoot</td>\n",
              "      <td>gun</td>\n",
              "      <td>politifact</td>\n",
              "      <td>http://www.politifact.com/punditfact/statement...</td>\n",
              "    </tr>\n",
              "    <tr>\n",
              "      <th>24451</th>\n",
              "      <td>http://data.gesis.org/claimskg/claim_review/e4...</td>\n",
              "      <td>presid obama ’ health care reform premium aver...</td>\n",
              "      <td>2</td>\n",
              "      <td>MIXTURE</td>\n",
              "      <td>ron johnson</td>\n",
              "      <td>obamacar health insur premium gone gone ron jo...</td>\n",
              "      <td>presidenti campaign afford care act barack oba...</td>\n",
              "      <td>obamacar health obamacar obama</td>\n",
              "      <td>corpor economi health care public health worker</td>\n",
              "      <td>politifact</td>\n",
              "      <td>http://www.politifact.com/wisconsin/statements...</td>\n",
              "    </tr>\n",
              "  </tbody>\n",
              "</table>\n",
              "<p>24452 rows × 11 columns</p>\n",
              "</div>\n",
              "      <button class=\"colab-df-convert\" onclick=\"convertToInteractive('df-aa9dd8a5-2e60-4d28-a3c3-caa17fd436c4')\"\n",
              "              title=\"Convert this dataframe to an interactive table.\"\n",
              "              style=\"display:none;\">\n",
              "        \n",
              "  <svg xmlns=\"http://www.w3.org/2000/svg\" height=\"24px\"viewBox=\"0 0 24 24\"\n",
              "       width=\"24px\">\n",
              "    <path d=\"M0 0h24v24H0V0z\" fill=\"none\"/>\n",
              "    <path d=\"M18.56 5.44l.94 2.06.94-2.06 2.06-.94-2.06-.94-.94-2.06-.94 2.06-2.06.94zm-11 1L8.5 8.5l.94-2.06 2.06-.94-2.06-.94L8.5 2.5l-.94 2.06-2.06.94zm10 10l.94 2.06.94-2.06 2.06-.94-2.06-.94-.94-2.06-.94 2.06-2.06.94z\"/><path d=\"M17.41 7.96l-1.37-1.37c-.4-.4-.92-.59-1.43-.59-.52 0-1.04.2-1.43.59L10.3 9.45l-7.72 7.72c-.78.78-.78 2.05 0 2.83L4 21.41c.39.39.9.59 1.41.59.51 0 1.02-.2 1.41-.59l7.78-7.78 2.81-2.81c.8-.78.8-2.07 0-2.86zM5.41 20L4 18.59l7.72-7.72 1.47 1.35L5.41 20z\"/>\n",
              "  </svg>\n",
              "      </button>\n",
              "      \n",
              "  <style>\n",
              "    .colab-df-container {\n",
              "      display:flex;\n",
              "      flex-wrap:wrap;\n",
              "      gap: 12px;\n",
              "    }\n",
              "\n",
              "    .colab-df-convert {\n",
              "      background-color: #E8F0FE;\n",
              "      border: none;\n",
              "      border-radius: 50%;\n",
              "      cursor: pointer;\n",
              "      display: none;\n",
              "      fill: #1967D2;\n",
              "      height: 32px;\n",
              "      padding: 0 0 0 0;\n",
              "      width: 32px;\n",
              "    }\n",
              "\n",
              "    .colab-df-convert:hover {\n",
              "      background-color: #E2EBFA;\n",
              "      box-shadow: 0px 1px 2px rgba(60, 64, 67, 0.3), 0px 1px 3px 1px rgba(60, 64, 67, 0.15);\n",
              "      fill: #174EA6;\n",
              "    }\n",
              "\n",
              "    [theme=dark] .colab-df-convert {\n",
              "      background-color: #3B4455;\n",
              "      fill: #D2E3FC;\n",
              "    }\n",
              "\n",
              "    [theme=dark] .colab-df-convert:hover {\n",
              "      background-color: #434B5C;\n",
              "      box-shadow: 0px 1px 3px 1px rgba(0, 0, 0, 0.15);\n",
              "      filter: drop-shadow(0px 1px 2px rgba(0, 0, 0, 0.3));\n",
              "      fill: #FFFFFF;\n",
              "    }\n",
              "  </style>\n",
              "\n",
              "      <script>\n",
              "        const buttonEl =\n",
              "          document.querySelector('#df-aa9dd8a5-2e60-4d28-a3c3-caa17fd436c4 button.colab-df-convert');\n",
              "        buttonEl.style.display =\n",
              "          google.colab.kernel.accessAllowed ? 'block' : 'none';\n",
              "\n",
              "        async function convertToInteractive(key) {\n",
              "          const element = document.querySelector('#df-aa9dd8a5-2e60-4d28-a3c3-caa17fd436c4');\n",
              "          const dataTable =\n",
              "            await google.colab.kernel.invokeFunction('convertToInteractive',\n",
              "                                                     [key], {});\n",
              "          if (!dataTable) return;\n",
              "\n",
              "          const docLinkHtml = 'Like what you see? Visit the ' +\n",
              "            '<a target=\"_blank\" href=https://colab.research.google.com/notebooks/data_table.ipynb>data table notebook</a>'\n",
              "            + ' to learn more about interactive tables.';\n",
              "          element.innerHTML = '';\n",
              "          dataTable['output_type'] = 'display_data';\n",
              "          await google.colab.output.renderOutput(dataTable, element);\n",
              "          const docLink = document.createElement('div');\n",
              "          docLink.innerHTML = docLinkHtml;\n",
              "          element.appendChild(docLink);\n",
              "        }\n",
              "      </script>\n",
              "    </div>\n",
              "  </div>\n",
              "  "
            ],
            "text/plain": [
              "                                                      id  ...                                               link\n",
              "0      http://data.gesis.org/claimskg/claim_review/36...  ...  http://www.politifact.com/truth-o-meter/statem...\n",
              "1      http://data.gesis.org/claimskg/claim_review/e6...  ...  http://www.politifact.com/texas/statements/201...\n",
              "2      http://data.gesis.org/claimskg/claim_review/e0...  ...  http://www.politifact.com/texas/statements/201...\n",
              "3      http://data.gesis.org/claimskg/claim_review/48...  ...  http://www.politifact.com/oregon/statements/20...\n",
              "4      http://data.gesis.org/claimskg/claim_review/80...  ...  http://www.politifact.com/florida/statements/2...\n",
              "...                                                  ...  ...                                                ...\n",
              "24447  http://data.gesis.org/claimskg/claim_review/41...  ...  http://www.politifact.com/pennsylvania/stateme...\n",
              "24448  http://data.gesis.org/claimskg/claim_review/9e...  ...  https://www.snopes.com/fact-check/real-hand-ei...\n",
              "24449  http://data.gesis.org/claimskg/claim_review/1a...  ...  http://www.politifact.com/new-jersey/statement...\n",
              "24450  http://data.gesis.org/claimskg/claim_review/28...  ...  http://www.politifact.com/punditfact/statement...\n",
              "24451  http://data.gesis.org/claimskg/claim_review/e4...  ...  http://www.politifact.com/wisconsin/statements...\n",
              "\n",
              "[24452 rows x 11 columns]"
            ]
          },
          "metadata": {},
          "execution_count": 36
        }
      ]
    },
    {
      "cell_type": "code",
      "execution_count": null,
      "metadata": {
        "id": "h3zlGL5OEW0K"
      },
      "outputs": [],
      "source": [
        "#Save the edited table as a csv file\n",
        "claimskg.to_csv(\"claimskg_lemm_stop_stem_punc.csv\", index=False)"
      ]
    },
    {
      "cell_type": "markdown",
      "metadata": {
        "id": "1_5EYwrPZXeG"
      },
      "source": [
        "## Check for NaNs"
      ]
    },
    {
      "cell_type": "code",
      "execution_count": null,
      "metadata": {
        "id": "dji9i_w14tTq"
      },
      "outputs": [],
      "source": [
        "claimskg = pd.read_csv(\"claimskg_lemm_stop_stem_punc.csv\")"
      ]
    },
    {
      "cell_type": "code",
      "execution_count": null,
      "metadata": {
        "colab": {
          "base_uri": "https://localhost:8080/"
        },
        "id": "6986KAkqjmhV",
        "outputId": "8a09a1a3-f6b8-446a-e988-3f4dcac0331a"
      },
      "outputs": [
        {
          "output_type": "stream",
          "name": "stdout",
          "text": [
            "<class 'pandas.core.frame.DataFrame'>\n",
            "RangeIndex: 24452 entries, 0 to 24451\n",
            "Data columns (total 11 columns):\n",
            " #   Column                  Non-Null Count  Dtype \n",
            "---  ------                  --------------  ----- \n",
            " 0   id                      24452 non-null  object\n",
            " 1   text                    24451 non-null  object\n",
            " 2   truthRating             24452 non-null  int64 \n",
            " 3   ratingName              24452 non-null  object\n",
            " 4   author                  24452 non-null  object\n",
            " 5   headline                24450 non-null  object\n",
            " 6   named_entities_claim    24450 non-null  object\n",
            " 7   named_entities_article  24426 non-null  object\n",
            " 8   keywords                24447 non-null  object\n",
            " 9   source                  24452 non-null  object\n",
            " 10  link                    24452 non-null  object\n",
            "dtypes: int64(1), object(10)\n",
            "memory usage: 2.1+ MB\n"
          ]
        }
      ],
      "source": [
        "#After lemmatization, stemming and removing stop words, we got some NaN objects again\n",
        "claimskg.info()"
      ]
    },
    {
      "cell_type": "code",
      "execution_count": null,
      "metadata": {
        "colab": {
          "base_uri": "https://localhost:8080/"
        },
        "id": "cy537w4uj_of",
        "outputId": "baafe303-10bc-4a33-9e6a-bfc34bf8fbbe"
      },
      "outputs": [
        {
          "output_type": "stream",
          "name": "stdout",
          "text": [
            "<class 'pandas.core.frame.DataFrame'>\n",
            "Int64Index: 24416 entries, 0 to 24451\n",
            "Data columns (total 11 columns):\n",
            " #   Column                  Non-Null Count  Dtype \n",
            "---  ------                  --------------  ----- \n",
            " 0   id                      24416 non-null  object\n",
            " 1   text                    24416 non-null  object\n",
            " 2   truthRating             24416 non-null  int64 \n",
            " 3   ratingName              24416 non-null  object\n",
            " 4   author                  24416 non-null  object\n",
            " 5   headline                24416 non-null  object\n",
            " 6   named_entities_claim    24416 non-null  object\n",
            " 7   named_entities_article  24416 non-null  object\n",
            " 8   keywords                24416 non-null  object\n",
            " 9   source                  24416 non-null  object\n",
            " 10  link                    24416 non-null  object\n",
            "dtypes: int64(1), object(10)\n",
            "memory usage: 2.2+ MB\n"
          ]
        }
      ],
      "source": [
        "#Removing rows containing NaNs because of their minority\n",
        "claimskg = claimskg.dropna()\n",
        "claimskg.info()"
      ]
    },
    {
      "cell_type": "code",
      "execution_count": null,
      "metadata": {
        "id": "0zcOUpAxkeel"
      },
      "outputs": [],
      "source": [
        "claimskg.to_csv(\"claimskg_fulledited_1.csv\", index=False)"
      ]
    },
    {
      "cell_type": "markdown",
      "metadata": {
        "id": "d3b7KipGcu9L"
      },
      "source": [
        "# Some Exploratory Data"
      ]
    },
    {
      "cell_type": "code",
      "execution_count": null,
      "metadata": {
        "colab": {
          "base_uri": "https://localhost:8080/"
        },
        "id": "J3fOgiqVd5ka",
        "outputId": "f9c62fcb-3af5-4f8c-f19a-cfb3d7607cbf"
      },
      "outputs": [
        {
          "output_type": "stream",
          "name": "stdout",
          "text": [
            "Number of unique keywords:  6984\n",
            "Number of unique articles:  10062\n",
            "Number of unique authors:  3876\n",
            "Number of unique words in texts:  24332\n",
            "Number of unique words in named_entities_claim:  24261\n",
            "Number of unique words in headline:  24263\n"
          ]
        }
      ],
      "source": [
        "#Obtain number of unique authors, keywords and articles in the whole data set\n",
        "\n",
        "unique_keys = set()\n",
        "for key_list in claimskg['keywords']:\n",
        "  for key in key_list.split():\n",
        "    unique_keys.add(key)\n",
        "print(\"Number of unique keywords: \",len(unique_keys))\n",
        "\n",
        "unique_keys = set()\n",
        "for key_list in claimskg['named_entities_article']:\n",
        "    for key in key_list.split():\n",
        "      unique_keys.add(key)\n",
        "print(\"Number of unique articles: \",len(unique_keys))\n",
        "\n",
        "unique_keys = set()\n",
        "for key in claimskg['author']:\n",
        "  unique_keys.add(key)\n",
        "print(\"Number of unique authors: \",len(unique_keys))\n",
        "unique_authors = unique_keys\n",
        "\n",
        "unique_keys = set()\n",
        "for key in claimskg['text']:\n",
        "  unique_keys.add(key)\n",
        "print(\"Number of unique words in texts: \",len(unique_keys))\n",
        "\n",
        "unique_keys = set()\n",
        "for key in claimskg['named_entities_claim']:\n",
        "  unique_keys.add(key)\n",
        "print(\"Number of unique words in named_entities_claim: \",len(unique_keys))\n",
        "\n",
        "unique_keys = set()\n",
        "for key in claimskg['headline']:\n",
        "  unique_keys.add(key)\n",
        "print(\"Number of unique words in headline: \",len(unique_keys))\n"
      ]
    },
    {
      "cell_type": "markdown",
      "source": [
        "## Imbalanced Classes Preview"
      ],
      "metadata": {
        "id": "6-6_A-wi6Zt5"
      }
    },
    {
      "cell_type": "code",
      "source": [
        "#Imbalanced Classes\n",
        "\n",
        "fig = plt.figure(figsize=(8,6))\n",
        "claimskg.groupby('ratingName').ratingName.count().plot.bar(ylim=0, color=\"g\")\n",
        "plt.show()"
      ],
      "metadata": {
        "colab": {
          "base_uri": "https://localhost:8080/",
          "height": 423
        },
        "id": "Fah3UIZCz_XY",
        "outputId": "db44daef-ea9d-4e85-e83e-de9b7b8e51e2"
      },
      "execution_count": null,
      "outputs": [
        {
          "output_type": "display_data",
          "data": {
            "image/png": "[encoded data removed]",
            "text/plain": [
              "<Figure size 576x432 with 1 Axes>"
            ]
          },
          "metadata": {
            "needs_background": "light"
          }
        }
      ]
    },
    {
      "cell_type": "markdown",
      "metadata": {
        "id": "XSlkzh2OtNMK"
      },
      "source": [
        "# Transformer hub\n",
        "- Here we got some early results before vectorizing the text using Transformer-hub Auto-ML model. TensorFlow Hub is a repository of trained machine learning models ready for fine-tuning and deployable anywhere. "
      ]
    },
    {
      "cell_type": "code",
      "execution_count": null,
      "metadata": {
        "id": "Jn21rH8Ntphm"
      },
      "outputs": [],
      "source": [
        "claimskg = pd.read_csv('claimskg_fulledited_1.csv')"
      ]
    },
    {
      "cell_type": "code",
      "execution_count": null,
      "metadata": {
        "colab": {
          "base_uri": "https://localhost:8080/"
        },
        "id": "WkSeJeuG2OA-",
        "outputId": "d0aa049f-57e3-451e-ddb5-2ce7b3bfeff7"
      },
      "outputs": [
        {
          "output_type": "execute_result",
          "data": {
            "text/plain": [
              "array([[0., 0., 1.],\n",
              "       [0., 0., 1.],\n",
              "       [0., 0., 1.],\n",
              "       ...,\n",
              "       [0., 1., 0.],\n",
              "       [0., 1., 0.],\n",
              "       [0., 1., 0.]], dtype=float32)"
            ]
          },
          "metadata": {},
          "execution_count": 50
        }
      ],
      "source": [
        "#for chan in claimskg['truthRating']:\n",
        " #   claimskg['goal'+str(chan)] = claimskg.truthRating.apply(lambda x: 1 if x==chan else 0)\n",
        "from sklearn.preprocessing import LabelEncoder\n",
        "from tensorflow.keras.utils import to_categorical\n",
        "\n",
        "le = LabelEncoder()\n",
        "y = to_categorical(le.fit_transform(claimskg['ratingName']))\n",
        "y"
      ]
    },
    {
      "cell_type": "code",
      "execution_count": null,
      "metadata": {
        "id": "3NRSv1gl6ZWC"
      },
      "outputs": [],
      "source": [
        "train_data = claimskg['text']+' '+claimskg['author']+' '+ claimskg['headline']+' '+ \\\n",
        "              claimskg['named_entities_claim']+' '+claimskg['named_entities_article']+' '+ claimskg['keywords']+' ' + claimskg['source']"
      ]
    },
    {
      "cell_type": "code",
      "execution_count": null,
      "metadata": {
        "colab": {
          "base_uri": "https://localhost:8080/"
        },
        "id": "H4TngxPTvsvL",
        "outputId": "cb40449a-111d-402f-f648-28d56402a10e"
      },
      "outputs": [
        {
          "output_type": "stream",
          "name": "stdout",
          "text": [
            "<class 'pandas.core.frame.DataFrame'>\n",
            "RangeIndex: 24416 entries, 0 to 24415\n",
            "Data columns (total 11 columns):\n",
            " #   Column                  Non-Null Count  Dtype \n",
            "---  ------                  --------------  ----- \n",
            " 0   id                      24416 non-null  object\n",
            " 1   text                    24416 non-null  object\n",
            " 2   truthRating             24416 non-null  int64 \n",
            " 3   ratingName              24416 non-null  object\n",
            " 4   author                  24416 non-null  object\n",
            " 5   headline                24416 non-null  object\n",
            " 6   named_entities_claim    24416 non-null  object\n",
            " 7   named_entities_article  24416 non-null  object\n",
            " 8   keywords                24416 non-null  object\n",
            " 9   source                  24416 non-null  object\n",
            " 10  link                    24416 non-null  object\n",
            "dtypes: int64(1), object(10)\n",
            "memory usage: 2.0+ MB\n"
          ]
        }
      ],
      "source": [
        "claimskg.info()"
      ]
    },
    {
      "cell_type": "code",
      "execution_count": null,
      "metadata": {
        "id": "W2NnE8vatQqW"
      },
      "outputs": [],
      "source": [
        "from sklearn.model_selection import train_test_split\n",
        "\n",
        "# split data set into TRAIN, DEV, and TEST sets\n",
        "X_train, X_dev, y_train, y_dev = train_test_split(train_data, \n",
        "                                                  y, test_size=0.2, random_state=42)  # 20% for DEV and TEST\n",
        "\n",
        "# split DEV further into DEV and TEST\n",
        "X_dev, X_test, y_dev, y_test = train_test_split(X_dev, y_dev, test_size=0.5, random_state=42)"
      ]
    },
    {
      "cell_type": "code",
      "execution_count": null,
      "metadata": {
        "id": "UlfEr52mv0_l"
      },
      "outputs": [],
      "source": [
        "import tensorflow_hub as hub\n",
        "\n",
        "# load embeddings model from Tensorflow Hub\n",
        "embed = hub.load(\"https://tfhub.dev/google/universal-sentence-encoder/4\")\n",
        "\n",
        "# convert sentences to embeddings\n",
        "X_train = embed(X_train)\n",
        "X_dev = embed(X_dev)\n",
        "X_test = embed(X_test)"
      ]
    },
    {
      "cell_type": "code",
      "execution_count": null,
      "metadata": {
        "id": "DmbHn_Cwv-3-"
      },
      "outputs": [],
      "source": [
        "from tensorflow.keras.layers import Dense\n",
        "from tensorflow.keras.models import Sequential\n",
        "\n",
        "# build Sequential model with 3 layers\n",
        "model = Sequential()\n",
        "model.add(Dense(units=32, activation=\"relu\"))  # input layer\n",
        "model.add(Dense(units=64, activation=\"relu\"))  # hidden layer\n",
        "model.add(Dense(units=3, activation=\"softmax\"))  # output layer, no. of units equals no. of classes\n",
        "model.compile(loss='categorical_crossentropy', optimizer='adam', metrics=['accuracy'])"
      ]
    },
    {
      "cell_type": "code",
      "execution_count": null,
      "metadata": {
        "colab": {
          "base_uri": "https://localhost:8080/"
        },
        "id": "WQi_Irj6wDVy",
        "outputId": "95514e79-ee30-4e49-91b4-5dbff40ff8fd"
      },
      "outputs": [
        {
          "output_type": "stream",
          "name": "stdout",
          "text": [
            "Epoch 1/100\n",
            "1221/1221 [==============================] - 6s 4ms/step - loss: 0.9122 - accuracy: 0.5967 - val_loss: 0.8884 - val_accuracy: 0.6020\n",
            "Epoch 2/100\n",
            "1221/1221 [==============================] - 5s 4ms/step - loss: 0.8791 - accuracy: 0.6102 - val_loss: 0.8791 - val_accuracy: 0.6020\n",
            "Epoch 3/100\n",
            "1221/1221 [==============================] - 7s 6ms/step - loss: 0.8613 - accuracy: 0.6167 - val_loss: 0.8727 - val_accuracy: 0.6073\n",
            "Epoch 4/100\n",
            "1221/1221 [==============================] - 9s 7ms/step - loss: 0.8456 - accuracy: 0.6260 - val_loss: 0.8731 - val_accuracy: 0.6065\n",
            "Epoch 5/100\n",
            "1221/1221 [==============================] - 6s 5ms/step - loss: 0.8303 - accuracy: 0.6315 - val_loss: 0.8790 - val_accuracy: 0.6048\n",
            "Epoch 6/100\n",
            "1221/1221 [==============================] - 5s 4ms/step - loss: 0.8119 - accuracy: 0.6441 - val_loss: 0.9051 - val_accuracy: 0.5991\n",
            "Epoch 7/100\n",
            "1221/1221 [==============================] - 5s 4ms/step - loss: 0.7947 - accuracy: 0.6491 - val_loss: 0.8944 - val_accuracy: 0.6016\n",
            "Epoch 8/100\n",
            "1221/1221 [==============================] - 5s 4ms/step - loss: 0.7742 - accuracy: 0.6613 - val_loss: 0.9108 - val_accuracy: 0.6032\n",
            "Epoch 9/100\n",
            "1221/1221 [==============================] - 5s 4ms/step - loss: 0.7552 - accuracy: 0.6718 - val_loss: 0.9430 - val_accuracy: 0.5880\n",
            "Epoch 10/100\n",
            "1221/1221 [==============================] - 5s 4ms/step - loss: 0.7367 - accuracy: 0.6824 - val_loss: 0.9435 - val_accuracy: 0.5901\n",
            "Epoch 11/100\n",
            "1221/1221 [==============================] - 5s 4ms/step - loss: 0.7197 - accuracy: 0.6916 - val_loss: 0.9718 - val_accuracy: 0.5790\n",
            "Epoch 12/100\n",
            "1221/1221 [==============================] - 5s 4ms/step - loss: 0.7018 - accuracy: 0.6988 - val_loss: 0.9848 - val_accuracy: 0.5839\n",
            "Epoch 13/100\n",
            "1221/1221 [==============================] - 5s 4ms/step - loss: 0.6848 - accuracy: 0.7076 - val_loss: 0.9882 - val_accuracy: 0.5704\n",
            "Epoch 14/100\n",
            "1221/1221 [==============================] - 5s 4ms/step - loss: 0.6689 - accuracy: 0.7190 - val_loss: 1.0095 - val_accuracy: 0.5782\n",
            "Epoch 15/100\n",
            "1221/1221 [==============================] - 5s 4ms/step - loss: 0.6535 - accuracy: 0.7253 - val_loss: 1.0149 - val_accuracy: 0.5622\n",
            "Epoch 16/100\n",
            "1221/1221 [==============================] - 5s 4ms/step - loss: 0.6369 - accuracy: 0.7316 - val_loss: 1.0503 - val_accuracy: 0.5618\n",
            "Epoch 17/100\n",
            "1221/1221 [==============================] - 5s 4ms/step - loss: 0.6239 - accuracy: 0.7373 - val_loss: 1.0870 - val_accuracy: 0.5639\n",
            "Epoch 18/100\n",
            "1221/1221 [==============================] - 5s 4ms/step - loss: 0.6094 - accuracy: 0.7419 - val_loss: 1.1387 - val_accuracy: 0.5553\n",
            "Epoch 19/100\n",
            "1221/1221 [==============================] - 5s 4ms/step - loss: 0.5967 - accuracy: 0.7500 - val_loss: 1.1360 - val_accuracy: 0.5557\n",
            "Epoch 20/100\n",
            "1221/1221 [==============================] - 5s 4ms/step - loss: 0.5836 - accuracy: 0.7576 - val_loss: 1.2151 - val_accuracy: 0.5577\n",
            "Epoch 21/100\n",
            "1221/1221 [==============================] - 5s 4ms/step - loss: 0.5690 - accuracy: 0.7634 - val_loss: 1.1825 - val_accuracy: 0.5377\n",
            "Epoch 22/100\n",
            "1221/1221 [==============================] - 7s 6ms/step - loss: 0.5605 - accuracy: 0.7677 - val_loss: 1.1971 - val_accuracy: 0.5471\n",
            "Epoch 23/100\n",
            "1221/1221 [==============================] - 5s 4ms/step - loss: 0.5448 - accuracy: 0.7742 - val_loss: 1.2577 - val_accuracy: 0.5614\n",
            "Epoch 24/100\n",
            "1221/1221 [==============================] - 5s 4ms/step - loss: 0.5357 - accuracy: 0.7777 - val_loss: 1.2573 - val_accuracy: 0.5643\n",
            "Epoch 25/100\n",
            "1221/1221 [==============================] - 5s 4ms/step - loss: 0.5227 - accuracy: 0.7820 - val_loss: 1.3188 - val_accuracy: 0.5483\n",
            "Epoch 26/100\n",
            "1221/1221 [==============================] - 5s 4ms/step - loss: 0.5146 - accuracy: 0.7848 - val_loss: 1.4069 - val_accuracy: 0.5442\n",
            "Epoch 27/100\n",
            "1221/1221 [==============================] - 5s 4ms/step - loss: 0.5040 - accuracy: 0.7930 - val_loss: 1.4029 - val_accuracy: 0.5410\n",
            "Epoch 28/100\n",
            "1221/1221 [==============================] - 5s 4ms/step - loss: 0.4916 - accuracy: 0.7954 - val_loss: 1.4315 - val_accuracy: 0.5328\n",
            "Epoch 29/100\n",
            "1221/1221 [==============================] - 5s 4ms/step - loss: 0.4832 - accuracy: 0.8020 - val_loss: 1.4292 - val_accuracy: 0.5414\n",
            "Epoch 30/100\n",
            "1221/1221 [==============================] - 5s 4ms/step - loss: 0.4717 - accuracy: 0.8075 - val_loss: 1.4562 - val_accuracy: 0.5385\n",
            "Epoch 31/100\n",
            "1221/1221 [==============================] - 5s 4ms/step - loss: 0.4627 - accuracy: 0.8086 - val_loss: 1.5604 - val_accuracy: 0.5336\n",
            "Epoch 32/100\n",
            "1221/1221 [==============================] - 5s 4ms/step - loss: 0.4515 - accuracy: 0.8156 - val_loss: 1.5905 - val_accuracy: 0.5487\n",
            "Epoch 33/100\n",
            "1221/1221 [==============================] - 5s 4ms/step - loss: 0.4429 - accuracy: 0.8194 - val_loss: 1.6063 - val_accuracy: 0.5467\n",
            "Epoch 34/100\n",
            "1221/1221 [==============================] - 5s 4ms/step - loss: 0.4339 - accuracy: 0.8224 - val_loss: 1.6292 - val_accuracy: 0.5266\n",
            "Epoch 35/100\n",
            "1221/1221 [==============================] - 5s 4ms/step - loss: 0.4280 - accuracy: 0.8242 - val_loss: 1.7029 - val_accuracy: 0.5324\n",
            "Epoch 36/100\n",
            "1221/1221 [==============================] - 5s 4ms/step - loss: 0.4208 - accuracy: 0.8280 - val_loss: 1.7310 - val_accuracy: 0.5377\n",
            "Epoch 37/100\n",
            "1221/1221 [==============================] - 5s 4ms/step - loss: 0.4114 - accuracy: 0.8348 - val_loss: 1.7758 - val_accuracy: 0.5373\n",
            "Epoch 38/100\n",
            "1221/1221 [==============================] - 5s 4ms/step - loss: 0.4050 - accuracy: 0.8342 - val_loss: 1.8245 - val_accuracy: 0.5209\n",
            "Epoch 39/100\n",
            "1221/1221 [==============================] - 5s 4ms/step - loss: 0.3956 - accuracy: 0.8392 - val_loss: 1.8583 - val_accuracy: 0.5344\n",
            "Epoch 40/100\n",
            "1221/1221 [==============================] - 5s 4ms/step - loss: 0.3893 - accuracy: 0.8419 - val_loss: 1.9324 - val_accuracy: 0.5328\n",
            "Epoch 41/100\n",
            "1221/1221 [==============================] - 5s 4ms/step - loss: 0.3821 - accuracy: 0.8471 - val_loss: 1.9864 - val_accuracy: 0.5393\n",
            "Epoch 42/100\n",
            "1221/1221 [==============================] - 5s 4ms/step - loss: 0.3795 - accuracy: 0.8443 - val_loss: 1.8873 - val_accuracy: 0.5192\n",
            "Epoch 43/100\n",
            "1221/1221 [==============================] - 5s 4ms/step - loss: 0.3685 - accuracy: 0.8521 - val_loss: 2.0460 - val_accuracy: 0.5332\n",
            "Epoch 44/100\n",
            "1221/1221 [==============================] - 5s 4ms/step - loss: 0.3652 - accuracy: 0.8518 - val_loss: 2.1214 - val_accuracy: 0.5217\n",
            "Epoch 45/100\n",
            "1221/1221 [==============================] - 5s 4ms/step - loss: 0.3575 - accuracy: 0.8554 - val_loss: 2.0949 - val_accuracy: 0.5299\n",
            "Epoch 46/100\n",
            "1221/1221 [==============================] - 5s 4ms/step - loss: 0.3535 - accuracy: 0.8573 - val_loss: 2.1494 - val_accuracy: 0.5229\n",
            "Epoch 47/100\n",
            "1221/1221 [==============================] - 5s 4ms/step - loss: 0.3458 - accuracy: 0.8607 - val_loss: 2.1649 - val_accuracy: 0.5356\n",
            "Epoch 48/100\n",
            "1221/1221 [==============================] - 5s 4ms/step - loss: 0.3384 - accuracy: 0.8638 - val_loss: 2.3037 - val_accuracy: 0.5377\n",
            "Epoch 49/100\n",
            "1221/1221 [==============================] - 5s 4ms/step - loss: 0.3342 - accuracy: 0.8650 - val_loss: 2.2730 - val_accuracy: 0.5254\n",
            "Epoch 50/100\n",
            "1221/1221 [==============================] - 5s 4ms/step - loss: 0.3329 - accuracy: 0.8674 - val_loss: 2.3247 - val_accuracy: 0.5307\n",
            "Epoch 51/100\n",
            "1221/1221 [==============================] - 5s 4ms/step - loss: 0.3243 - accuracy: 0.8690 - val_loss: 2.3667 - val_accuracy: 0.5360\n",
            "Epoch 52/100\n",
            "1221/1221 [==============================] - 5s 4ms/step - loss: 0.3207 - accuracy: 0.8727 - val_loss: 2.4117 - val_accuracy: 0.5307\n",
            "Epoch 53/100\n",
            "1221/1221 [==============================] - 5s 4ms/step - loss: 0.3132 - accuracy: 0.8786 - val_loss: 2.5120 - val_accuracy: 0.5201\n",
            "Epoch 54/100\n",
            "1221/1221 [==============================] - 5s 4ms/step - loss: 0.3083 - accuracy: 0.8781 - val_loss: 2.4816 - val_accuracy: 0.5287\n",
            "Epoch 55/100\n",
            "1221/1221 [==============================] - 5s 4ms/step - loss: 0.3082 - accuracy: 0.8785 - val_loss: 2.4798 - val_accuracy: 0.5176\n",
            "Epoch 56/100\n",
            "1221/1221 [==============================] - 5s 4ms/step - loss: 0.2978 - accuracy: 0.8832 - val_loss: 2.6272 - val_accuracy: 0.5332\n",
            "Epoch 57/100\n",
            "1221/1221 [==============================] - 5s 4ms/step - loss: 0.2972 - accuracy: 0.8832 - val_loss: 2.7393 - val_accuracy: 0.5295\n",
            "Epoch 58/100\n",
            "1221/1221 [==============================] - 5s 4ms/step - loss: 0.2929 - accuracy: 0.8827 - val_loss: 2.7384 - val_accuracy: 0.5278\n",
            "Epoch 59/100\n",
            "1221/1221 [==============================] - 5s 4ms/step - loss: 0.2880 - accuracy: 0.8850 - val_loss: 2.7145 - val_accuracy: 0.5209\n",
            "Epoch 60/100\n",
            "1221/1221 [==============================] - 5s 4ms/step - loss: 0.2828 - accuracy: 0.8870 - val_loss: 2.7266 - val_accuracy: 0.5213\n",
            "Epoch 61/100\n",
            "1221/1221 [==============================] - 5s 4ms/step - loss: 0.2796 - accuracy: 0.8900 - val_loss: 2.8364 - val_accuracy: 0.5180\n",
            "Epoch 62/100\n",
            "1221/1221 [==============================] - 5s 4ms/step - loss: 0.2736 - accuracy: 0.8914 - val_loss: 2.8814 - val_accuracy: 0.5180\n",
            "Epoch 63/100\n",
            "1221/1221 [==============================] - 5s 4ms/step - loss: 0.2716 - accuracy: 0.8947 - val_loss: 2.8712 - val_accuracy: 0.5098\n",
            "Epoch 64/100\n",
            "1221/1221 [==============================] - 5s 4ms/step - loss: 0.2698 - accuracy: 0.8949 - val_loss: 2.9122 - val_accuracy: 0.5143\n",
            "Epoch 65/100\n",
            "1221/1221 [==============================] - 5s 4ms/step - loss: 0.2634 - accuracy: 0.8958 - val_loss: 2.9620 - val_accuracy: 0.5221\n",
            "Epoch 66/100\n",
            "1221/1221 [==============================] - 5s 4ms/step - loss: 0.2640 - accuracy: 0.8963 - val_loss: 3.0657 - val_accuracy: 0.5254\n",
            "Epoch 67/100\n",
            "1221/1221 [==============================] - 5s 4ms/step - loss: 0.2551 - accuracy: 0.9010 - val_loss: 3.0442 - val_accuracy: 0.5229\n",
            "Epoch 68/100\n",
            "1221/1221 [==============================] - 5s 4ms/step - loss: 0.2584 - accuracy: 0.9001 - val_loss: 3.1563 - val_accuracy: 0.5278\n",
            "Epoch 69/100\n",
            "1221/1221 [==============================] - 5s 4ms/step - loss: 0.2457 - accuracy: 0.9040 - val_loss: 3.2681 - val_accuracy: 0.5209\n",
            "Epoch 70/100\n",
            "1221/1221 [==============================] - 5s 4ms/step - loss: 0.2500 - accuracy: 0.9015 - val_loss: 3.1581 - val_accuracy: 0.5238\n",
            "Epoch 71/100\n",
            "1221/1221 [==============================] - 5s 4ms/step - loss: 0.2437 - accuracy: 0.9044 - val_loss: 3.3492 - val_accuracy: 0.5131\n",
            "Epoch 72/100\n",
            "1221/1221 [==============================] - 5s 4ms/step - loss: 0.2420 - accuracy: 0.9072 - val_loss: 3.2802 - val_accuracy: 0.5098\n",
            "Epoch 73/100\n",
            "1221/1221 [==============================] - 5s 4ms/step - loss: 0.2329 - accuracy: 0.9101 - val_loss: 3.3958 - val_accuracy: 0.5172\n",
            "Epoch 74/100\n",
            "1221/1221 [==============================] - 5s 4ms/step - loss: 0.2406 - accuracy: 0.9069 - val_loss: 3.4179 - val_accuracy: 0.5238\n",
            "Epoch 75/100\n",
            "1221/1221 [==============================] - 5s 4ms/step - loss: 0.2303 - accuracy: 0.9119 - val_loss: 3.4761 - val_accuracy: 0.5213\n",
            "Epoch 76/100\n",
            "1221/1221 [==============================] - 5s 4ms/step - loss: 0.2282 - accuracy: 0.9111 - val_loss: 3.4750 - val_accuracy: 0.5078\n",
            "Epoch 77/100\n",
            "1221/1221 [==============================] - 5s 4ms/step - loss: 0.2270 - accuracy: 0.9119 - val_loss: 3.6085 - val_accuracy: 0.5016\n",
            "Epoch 78/100\n",
            "1221/1221 [==============================] - 5s 4ms/step - loss: 0.2226 - accuracy: 0.9133 - val_loss: 3.7015 - val_accuracy: 0.5111\n",
            "Epoch 79/100\n",
            "1221/1221 [==============================] - 5s 4ms/step - loss: 0.2203 - accuracy: 0.9143 - val_loss: 3.6419 - val_accuracy: 0.5143\n",
            "Epoch 80/100\n",
            "1221/1221 [==============================] - 5s 4ms/step - loss: 0.2187 - accuracy: 0.9165 - val_loss: 3.6399 - val_accuracy: 0.5168\n",
            "Epoch 81/100\n",
            "1221/1221 [==============================] - 5s 4ms/step - loss: 0.2127 - accuracy: 0.9174 - val_loss: 3.6731 - val_accuracy: 0.5016\n",
            "Epoch 82/100\n",
            "1221/1221 [==============================] - 5s 4ms/step - loss: 0.2194 - accuracy: 0.9150 - val_loss: 3.6876 - val_accuracy: 0.5233\n",
            "Epoch 83/100\n",
            "1221/1221 [==============================] - 5s 4ms/step - loss: 0.2035 - accuracy: 0.9224 - val_loss: 3.7575 - val_accuracy: 0.5238\n",
            "Epoch 84/100\n",
            "1221/1221 [==============================] - 5s 4ms/step - loss: 0.2063 - accuracy: 0.9212 - val_loss: 3.8214 - val_accuracy: 0.5119\n",
            "Epoch 85/100\n",
            "1221/1221 [==============================] - 5s 4ms/step - loss: 0.2068 - accuracy: 0.9183 - val_loss: 3.7862 - val_accuracy: 0.5209\n",
            "Epoch 86/100\n",
            "1221/1221 [==============================] - 5s 4ms/step - loss: 0.2059 - accuracy: 0.9201 - val_loss: 3.9523 - val_accuracy: 0.5131\n",
            "Epoch 87/100\n",
            "1221/1221 [==============================] - 5s 4ms/step - loss: 0.2013 - accuracy: 0.9237 - val_loss: 3.9708 - val_accuracy: 0.5111\n",
            "Epoch 88/100\n",
            "1221/1221 [==============================] - 5s 4ms/step - loss: 0.1991 - accuracy: 0.9238 - val_loss: 4.0275 - val_accuracy: 0.5057\n",
            "Epoch 89/100\n",
            "1221/1221 [==============================] - 5s 4ms/step - loss: 0.1959 - accuracy: 0.9243 - val_loss: 4.1372 - val_accuracy: 0.5000\n",
            "Epoch 90/100\n",
            "1221/1221 [==============================] - 5s 4ms/step - loss: 0.1973 - accuracy: 0.9246 - val_loss: 4.1726 - val_accuracy: 0.5168\n",
            "Epoch 91/100\n",
            "1221/1221 [==============================] - 5s 4ms/step - loss: 0.1866 - accuracy: 0.9299 - val_loss: 4.1941 - val_accuracy: 0.4988\n",
            "Epoch 92/100\n",
            "1221/1221 [==============================] - 5s 4ms/step - loss: 0.1843 - accuracy: 0.9293 - val_loss: 4.3376 - val_accuracy: 0.4963\n",
            "Epoch 93/100\n",
            "1221/1221 [==============================] - 5s 4ms/step - loss: 0.1949 - accuracy: 0.9255 - val_loss: 4.3784 - val_accuracy: 0.5131\n",
            "Epoch 94/100\n",
            "1221/1221 [==============================] - 5s 4ms/step - loss: 0.1853 - accuracy: 0.9291 - val_loss: 4.4519 - val_accuracy: 0.5016\n",
            "Epoch 95/100\n",
            "1221/1221 [==============================] - 5s 4ms/step - loss: 0.1818 - accuracy: 0.9312 - val_loss: 4.2489 - val_accuracy: 0.4951\n",
            "Epoch 96/100\n",
            "1221/1221 [==============================] - 5s 4ms/step - loss: 0.1862 - accuracy: 0.9283 - val_loss: 4.4303 - val_accuracy: 0.5123\n",
            "Epoch 97/100\n",
            "1221/1221 [==============================] - 5s 4ms/step - loss: 0.1752 - accuracy: 0.9327 - val_loss: 4.5417 - val_accuracy: 0.5066\n",
            "Epoch 98/100\n",
            "1221/1221 [==============================] - 5s 4ms/step - loss: 0.1695 - accuracy: 0.9362 - val_loss: 4.4227 - val_accuracy: 0.5152\n",
            "Epoch 99/100\n",
            "1221/1221 [==============================] - 5s 4ms/step - loss: 0.1833 - accuracy: 0.9307 - val_loss: 4.4599 - val_accuracy: 0.5143\n",
            "Epoch 100/100\n",
            "1221/1221 [==============================] - 5s 4ms/step - loss: 0.1688 - accuracy: 0.9374 - val_loss: 4.3810 - val_accuracy: 0.4918\n"
          ]
        },
        {
          "output_type": "execute_result",
          "data": {
            "text/plain": [
              "<keras.callbacks.History at 0x7fc06f4b88d0>"
            ]
          },
          "metadata": {},
          "execution_count": 56
        }
      ],
      "source": [
        "model.fit(x=X_train, y=y_train,\n",
        "          epochs=100,\n",
        "          validation_data=(X_dev, y_dev),\n",
        "          batch_size=16,\n",
        "          verbose=1)"
      ]
    },
    {
      "cell_type": "code",
      "execution_count": null,
      "metadata": {
        "colab": {
          "base_uri": "https://localhost:8080/",
          "height": 72
        },
        "id": "gSszu44ewYPG",
        "outputId": "2288c49f-561e-4056-b14d-3f10f8671e46"
      },
      "outputs": [
        {
          "output_type": "execute_result",
          "data": {
            "application/vnd.google.colaboratory.intrinsic+json": {
              "type": "string"
            },
            "text/plain": [
              "'              precision    recall  f1-score   support\\n\\n       False       0.57      0.53      0.55       999\\n     MIXTURE       0.54      0.54      0.54       971\\n        True       0.25      0.28      0.27       472\\n\\n    accuracy                           0.49      2442\\n   macro avg       0.45      0.45      0.45      2442\\nweighted avg       0.49      0.49      0.49      2442\\n'"
            ]
          },
          "metadata": {},
          "execution_count": 57
        }
      ],
      "source": [
        "import numpy as np\n",
        "from sklearn.metrics import classification_report\n",
        "\n",
        "predictions = np.argmax(model.predict(X_test), axis=-1)\n",
        "y_test = le.inverse_transform([np.argmax(y) for y in y_test])  # reconstruct original string labels\n",
        "predictions = le.inverse_transform(predictions)\n",
        "report = classification_report(y_test, predictions)\n",
        "report"
      ]
    },
    {
      "cell_type": "code",
      "execution_count": null,
      "metadata": {
        "id": "LQK4z39RU51B"
      },
      "outputs": [],
      "source": [
        "#Create a column contains bag of words of the text\n",
        "#import collections\n",
        "#claimskg['BOW'] = claimskg.text.apply(lambda x: collections.Counter([y for y in x.split()]))\n",
        "#claimskg.to_csv(\"claimskg_edited_2.csv\", index=False)"
      ]
    },
    {
      "cell_type": "markdown",
      "metadata": {
        "id": "-oOUI6N6LhzZ"
      },
      "source": [
        "# Vectorization\n",
        "Changing every text column to a numerical form: All machine learning models use mathematics and numbers to compute data. \n",
        "Since the input here is textual, we will use the TF-IDF (Term Frequency and Document Frequency) scheme and, because our classes are unbalanced and have different counts of words, we don't use BoW (Bag of Word) and just care about importance ratio of the words in each class."
      ]
    },
    {
      "cell_type": "code",
      "execution_count": 139,
      "metadata": {
        "id": "1y4OsGVzsemE",
        "colab": {
          "base_uri": "https://localhost:8080/"
        },
        "outputId": "a085a848-7351-4ab6-af57-94cf25cbcf00"
      },
      "outputs": [
        {
          "output_type": "stream",
          "name": "stdout",
          "text": [
            "<class 'pandas.core.frame.DataFrame'>\n",
            "RangeIndex: 24416 entries, 0 to 24415\n",
            "Data columns (total 11 columns):\n",
            " #   Column                  Non-Null Count  Dtype \n",
            "---  ------                  --------------  ----- \n",
            " 0   id                      24416 non-null  object\n",
            " 1   text                    24416 non-null  object\n",
            " 2   truthRating             24416 non-null  int64 \n",
            " 3   ratingName              24416 non-null  object\n",
            " 4   author                  24416 non-null  object\n",
            " 5   headline                24416 non-null  object\n",
            " 6   named_entities_claim    24416 non-null  object\n",
            " 7   named_entities_article  24416 non-null  object\n",
            " 8   keywords                24416 non-null  object\n",
            " 9   source                  24416 non-null  object\n",
            " 10  link                    24416 non-null  object\n",
            "dtypes: int64(1), object(10)\n",
            "memory usage: 2.0+ MB\n"
          ]
        }
      ],
      "source": [
        "claimskg = pd.read_csv('claimskg_fulledited_1.csv')\n",
        "claimskg.info()"
      ]
    },
    {
      "cell_type": "code",
      "execution_count": 140,
      "metadata": {
        "id": "WFIvTYEmCueH",
        "colab": {
          "base_uri": "https://localhost:8080/"
        },
        "outputId": "fb5f4a21-e9b6-483f-9f77-09ac84284be1"
      },
      "outputs": [
        {
          "output_type": "stream",
          "name": "stdout",
          "text": [
            "Number of claims of Class 1:  9993\n",
            "Number of claims of Class 2:  9983\n",
            "Number of claims of Class 3:  4440\n",
            "Class 1: False, Class 2: Mixture, Class 3: True claims\n"
          ]
        }
      ],
      "source": [
        "#Create a list of three class dataframes i.e. df_class[0]: False class.\n",
        "df_class=[]\n",
        "for i in range(3):\n",
        "  df_class.append(claimskg[claimskg['truthRating']== i+1])\n",
        "  print(f\"Number of claims of Class {i+1}: \", len(df_class[i]))\n",
        "print(\"Class 1: False, Class 2: Mixture, Class 3: True claims\")\n"
      ]
    },
    {
      "cell_type": "code",
      "execution_count": 141,
      "metadata": {
        "colab": {
          "base_uri": "https://localhost:8080/"
        },
        "id": "NUbBh3KM6oLg",
        "outputId": "6c7bdb85-b48c-4801-e99c-bb9151e22d7c"
      },
      "outputs": [
        {
          "output_type": "stream",
          "name": "stdout",
          "text": [
            "number of text features: 150\n",
            "*************\n"
          ]
        },
        {
          "output_type": "stream",
          "name": "stderr",
          "text": [
            "/usr/local/lib/python3.7/dist-packages/pandas/core/frame.py:3678: PerformanceWarning: DataFrame is highly fragmented.  This is usually the result of calling `frame.insert` many times, which has poor performance.  Consider joining all columns at once using pd.concat(axis=1) instead.  To get a de-fragmented frame, use `newframe = frame.copy()`\n",
            "  self[col] = igetitem(value, i)\n"
          ]
        },
        {
          "output_type": "stream",
          "name": "stdout",
          "text": [
            "number of named_entities_claim features: 150\n"
          ]
        },
        {
          "output_type": "stream",
          "name": "stderr",
          "text": [
            "/usr/local/lib/python3.7/dist-packages/ipykernel_launcher.py:24: PerformanceWarning: DataFrame is highly fragmented.  This is usually the result of calling `frame.insert` many times, which has poor performance.  Consider joining all columns at once using pd.concat(axis=1) instead.  To get a de-fragmented frame, use `newframe = frame.copy()`\n"
          ]
        },
        {
          "output_type": "stream",
          "name": "stdout",
          "text": [
            "*************\n",
            "number of keyword features: 150\n"
          ]
        },
        {
          "output_type": "stream",
          "name": "stderr",
          "text": [
            "/usr/local/lib/python3.7/dist-packages/ipykernel_launcher.py:38: PerformanceWarning: DataFrame is highly fragmented.  This is usually the result of calling `frame.insert` many times, which has poor performance.  Consider joining all columns at once using pd.concat(axis=1) instead.  To get a de-fragmented frame, use `newframe = frame.copy()`\n"
          ]
        },
        {
          "output_type": "stream",
          "name": "stdout",
          "text": [
            "*************\n",
            "number of named_entities_article features: 74\n",
            "*************\n"
          ]
        },
        {
          "output_type": "stream",
          "name": "stderr",
          "text": [
            "/usr/local/lib/python3.7/dist-packages/ipykernel_launcher.py:52: PerformanceWarning: DataFrame is highly fragmented.  This is usually the result of calling `frame.insert` many times, which has poor performance.  Consider joining all columns at once using pd.concat(axis=1) instead.  To get a de-fragmented frame, use `newframe = frame.copy()`\n"
          ]
        },
        {
          "output_type": "stream",
          "name": "stdout",
          "text": [
            "number of headline features: 150\n"
          ]
        },
        {
          "output_type": "stream",
          "name": "stderr",
          "text": [
            "/usr/local/lib/python3.7/dist-packages/ipykernel_launcher.py:66: PerformanceWarning: DataFrame is highly fragmented.  This is usually the result of calling `frame.insert` many times, which has poor performance.  Consider joining all columns at once using pd.concat(axis=1) instead.  To get a de-fragmented frame, use `newframe = frame.copy()`\n"
          ]
        },
        {
          "output_type": "stream",
          "name": "stdout",
          "text": [
            "*************\n",
            "number of source features: 4\n",
            "*************\n"
          ]
        },
        {
          "output_type": "stream",
          "name": "stderr",
          "text": [
            "/usr/local/lib/python3.7/dist-packages/ipykernel_launcher.py:81: PerformanceWarning: DataFrame is highly fragmented.  This is usually the result of calling `frame.insert` many times, which has poor performance.  Consider joining all columns at once using pd.concat(axis=1) instead.  To get a de-fragmented frame, use `newframe = frame.copy()`\n"
          ]
        },
        {
          "output_type": "stream",
          "name": "stdout",
          "text": [
            "number of author features: 5\n",
            "++++++++++++++++++++++++++++++\n"
          ]
        },
        {
          "output_type": "stream",
          "name": "stderr",
          "text": [
            "/usr/local/lib/python3.7/dist-packages/ipykernel_launcher.py:95: PerformanceWarning: DataFrame is highly fragmented.  This is usually the result of calling `frame.insert` many times, which has poor performance.  Consider joining all columns at once using pd.concat(axis=1) instead.  To get a de-fragmented frame, use `newframe = frame.copy()`\n"
          ]
        },
        {
          "output_type": "stream",
          "name": "stdout",
          "text": [
            "number of text features: 150\n"
          ]
        },
        {
          "output_type": "stream",
          "name": "stderr",
          "text": [
            "/usr/local/lib/python3.7/dist-packages/pandas/core/frame.py:3678: PerformanceWarning: DataFrame is highly fragmented.  This is usually the result of calling `frame.insert` many times, which has poor performance.  Consider joining all columns at once using pd.concat(axis=1) instead.  To get a de-fragmented frame, use `newframe = frame.copy()`\n",
            "  self[col] = igetitem(value, i)\n"
          ]
        },
        {
          "output_type": "stream",
          "name": "stdout",
          "text": [
            "*************\n",
            "number of named_entities_claim features: 150\n",
            "*************\n"
          ]
        },
        {
          "output_type": "stream",
          "name": "stderr",
          "text": [
            "/usr/local/lib/python3.7/dist-packages/ipykernel_launcher.py:24: PerformanceWarning: DataFrame is highly fragmented.  This is usually the result of calling `frame.insert` many times, which has poor performance.  Consider joining all columns at once using pd.concat(axis=1) instead.  To get a de-fragmented frame, use `newframe = frame.copy()`\n"
          ]
        },
        {
          "output_type": "stream",
          "name": "stdout",
          "text": [
            "number of keyword features: 150\n",
            "*************\n"
          ]
        },
        {
          "output_type": "stream",
          "name": "stderr",
          "text": [
            "/usr/local/lib/python3.7/dist-packages/ipykernel_launcher.py:38: PerformanceWarning: DataFrame is highly fragmented.  This is usually the result of calling `frame.insert` many times, which has poor performance.  Consider joining all columns at once using pd.concat(axis=1) instead.  To get a de-fragmented frame, use `newframe = frame.copy()`\n"
          ]
        },
        {
          "output_type": "stream",
          "name": "stdout",
          "text": [
            "number of named_entities_article features: 106\n",
            "*************\n"
          ]
        },
        {
          "output_type": "stream",
          "name": "stderr",
          "text": [
            "/usr/local/lib/python3.7/dist-packages/ipykernel_launcher.py:52: PerformanceWarning: DataFrame is highly fragmented.  This is usually the result of calling `frame.insert` many times, which has poor performance.  Consider joining all columns at once using pd.concat(axis=1) instead.  To get a de-fragmented frame, use `newframe = frame.copy()`\n"
          ]
        },
        {
          "output_type": "stream",
          "name": "stdout",
          "text": [
            "number of headline features: 150\n",
            "*************\n",
            "number of source features: 2\n",
            "*************\n",
            "number of author features: 20\n",
            "++++++++++++++++++++++++++++++\n"
          ]
        },
        {
          "output_type": "stream",
          "name": "stderr",
          "text": [
            "/usr/local/lib/python3.7/dist-packages/ipykernel_launcher.py:66: PerformanceWarning: DataFrame is highly fragmented.  This is usually the result of calling `frame.insert` many times, which has poor performance.  Consider joining all columns at once using pd.concat(axis=1) instead.  To get a de-fragmented frame, use `newframe = frame.copy()`\n",
            "/usr/local/lib/python3.7/dist-packages/ipykernel_launcher.py:81: PerformanceWarning: DataFrame is highly fragmented.  This is usually the result of calling `frame.insert` many times, which has poor performance.  Consider joining all columns at once using pd.concat(axis=1) instead.  To get a de-fragmented frame, use `newframe = frame.copy()`\n",
            "/usr/local/lib/python3.7/dist-packages/ipykernel_launcher.py:95: PerformanceWarning: DataFrame is highly fragmented.  This is usually the result of calling `frame.insert` many times, which has poor performance.  Consider joining all columns at once using pd.concat(axis=1) instead.  To get a de-fragmented frame, use `newframe = frame.copy()`\n"
          ]
        },
        {
          "output_type": "stream",
          "name": "stdout",
          "text": [
            "number of text features: 150\n",
            "*************\n"
          ]
        },
        {
          "output_type": "stream",
          "name": "stderr",
          "text": [
            "/usr/local/lib/python3.7/dist-packages/pandas/core/frame.py:3678: PerformanceWarning: DataFrame is highly fragmented.  This is usually the result of calling `frame.insert` many times, which has poor performance.  Consider joining all columns at once using pd.concat(axis=1) instead.  To get a de-fragmented frame, use `newframe = frame.copy()`\n",
            "  self[col] = igetitem(value, i)\n"
          ]
        },
        {
          "output_type": "stream",
          "name": "stdout",
          "text": [
            "number of named_entities_claim features: 150\n",
            "*************\n",
            "number of keyword features: 135\n",
            "*************\n"
          ]
        },
        {
          "output_type": "stream",
          "name": "stderr",
          "text": [
            "/usr/local/lib/python3.7/dist-packages/ipykernel_launcher.py:24: PerformanceWarning: DataFrame is highly fragmented.  This is usually the result of calling `frame.insert` many times, which has poor performance.  Consider joining all columns at once using pd.concat(axis=1) instead.  To get a de-fragmented frame, use `newframe = frame.copy()`\n",
            "/usr/local/lib/python3.7/dist-packages/ipykernel_launcher.py:38: PerformanceWarning: DataFrame is highly fragmented.  This is usually the result of calling `frame.insert` many times, which has poor performance.  Consider joining all columns at once using pd.concat(axis=1) instead.  To get a de-fragmented frame, use `newframe = frame.copy()`\n"
          ]
        },
        {
          "output_type": "stream",
          "name": "stdout",
          "text": [
            "number of named_entities_article features: 83\n",
            "*************\n",
            "number of headline features: 150\n"
          ]
        },
        {
          "output_type": "stream",
          "name": "stderr",
          "text": [
            "/usr/local/lib/python3.7/dist-packages/ipykernel_launcher.py:52: PerformanceWarning: DataFrame is highly fragmented.  This is usually the result of calling `frame.insert` many times, which has poor performance.  Consider joining all columns at once using pd.concat(axis=1) instead.  To get a de-fragmented frame, use `newframe = frame.copy()`\n",
            "/usr/local/lib/python3.7/dist-packages/ipykernel_launcher.py:66: PerformanceWarning: DataFrame is highly fragmented.  This is usually the result of calling `frame.insert` many times, which has poor performance.  Consider joining all columns at once using pd.concat(axis=1) instead.  To get a de-fragmented frame, use `newframe = frame.copy()`\n"
          ]
        },
        {
          "output_type": "stream",
          "name": "stdout",
          "text": [
            "*************\n",
            "number of source features: 5\n",
            "*************\n",
            "number of author features: 7\n",
            "++++++++++++++++++++++++++++++\n"
          ]
        },
        {
          "output_type": "stream",
          "name": "stderr",
          "text": [
            "/usr/local/lib/python3.7/dist-packages/ipykernel_launcher.py:81: PerformanceWarning: DataFrame is highly fragmented.  This is usually the result of calling `frame.insert` many times, which has poor performance.  Consider joining all columns at once using pd.concat(axis=1) instead.  To get a de-fragmented frame, use `newframe = frame.copy()`\n",
            "/usr/local/lib/python3.7/dist-packages/ipykernel_launcher.py:95: PerformanceWarning: DataFrame is highly fragmented.  This is usually the result of calling `frame.insert` many times, which has poor performance.  Consider joining all columns at once using pd.concat(axis=1) instead.  To get a de-fragmented frame, use `newframe = frame.copy()`\n"
          ]
        }
      ],
      "source": [
        "#Vectorizing columns using TF-IDF metric based on each class(False, Mixture, True)\n",
        "from sklearn.feature_extraction.text import TfidfVectorizer\n",
        "\n",
        "source_df = []\n",
        "for i in range(3):\n",
        "  vectorizer = TfidfVectorizer(max_features=150, min_df=0.005, max_df=0.9 ,ngram_range=(1,2))\n",
        "  vectorized_col = vectorizer.fit_transform(df_class[i]['text']).toarray()\n",
        "  vec_features = vectorizer.get_feature_names()\n",
        "  print(\"number of text features:\" ,len(vec_features))\n",
        "  source_df.append(pd.DataFrame()) \n",
        "  source_df[i][vec_features] = vectorized_col\n",
        "  print('*************')\n",
        "\n",
        "  vectorized_col = vectorizer.fit_transform(df_class[i]['named_entities_claim']).toarray()\n",
        "  vec_features = vectorizer.get_feature_names()\n",
        "  print(\"number of named_entities_claim features:\" ,len(vec_features))\n",
        "\n",
        "  j = 0\n",
        "  for feat in vec_features:\n",
        "    #if the new generated feature is existed then we add its amount with previous amounts\n",
        "    if feat in source_df[i].columns:\n",
        "      source_df[i][feat] = source_df[i][feat] + vectorized_col[:,j]\n",
        "    else:\n",
        "      source_df[i][feat] = vectorized_col[:,j]\n",
        "    j+=1\n",
        "\n",
        "  print('*************')\n",
        "\n",
        "  vectorized_col = vectorizer.fit_transform(df_class[i]['keywords']).toarray()\n",
        "  vec_features = vectorizer.get_feature_names()\n",
        "  print(\"number of keyword features:\" ,len(vec_features))\n",
        "\n",
        "  j = 0\n",
        "  for feat in vec_features:\n",
        "    if feat in source_df[i].columns:\n",
        "      source_df[i][feat] = source_df[i][feat] + vectorized_col[:,j]\n",
        "    else:\n",
        "      source_df[i][feat] = vectorized_col[:,j]\n",
        "    j+=1\n",
        "\n",
        "  print('*************')\n",
        "\n",
        "  vectorized_col = vectorizer.fit_transform(df_class[i]['named_entities_article']).toarray()\n",
        "  vec_features = vectorizer.get_feature_names()\n",
        "  print(\"number of named_entities_article features:\" ,len(vec_features))\n",
        "\n",
        "  j = 0\n",
        "  for feat in vec_features:\n",
        "    if feat in source_df[i].columns:\n",
        "      source_df[i][feat] = source_df[i][feat] + vectorized_col[:,j]\n",
        "    else:\n",
        "      source_df[i][feat] = vectorized_col[:,j]\n",
        "    j+=1\n",
        "\n",
        "  print('*************')\n",
        "\n",
        "  vectorized_col = vectorizer.fit_transform(df_class[i]['headline']).toarray()\n",
        "  vec_features = vectorizer.get_feature_names()\n",
        "  print(\"number of headline features:\" ,len(vec_features))\n",
        "\n",
        "  j = 0\n",
        "  for feat in vec_features:\n",
        "    if feat in source_df[i].columns:\n",
        "      source_df[i][feat] = source_df[i][feat] + vectorized_col[:,j]\n",
        "    else:\n",
        "      source_df[i][feat] = vectorized_col[:,j]\n",
        "    j+=1\n",
        "\n",
        "  print('*************')\n",
        "\n",
        "  vectorizer = TfidfVectorizer(min_df=0.005, max_df=0.8 ,ngram_range=(1,1))\n",
        "  vectorized_col = vectorizer.fit_transform(df_class[i]['source']).toarray()\n",
        "  vec_features = vectorizer.get_feature_names()\n",
        "  print(\"number of source features:\" ,len(vec_features))\n",
        "\n",
        "  j = 0\n",
        "  for feat in vec_features:\n",
        "    if feat in source_df[i].columns:\n",
        "      source_df[i][feat] = source_df[i][feat] + vectorized_col[:,j]\n",
        "    else:\n",
        "      source_df[i][feat] = vectorized_col[:,j]\n",
        "    j+=1\n",
        "  print('*************')\n",
        "\n",
        "  vectorizer = TfidfVectorizer(max_features=150, min_df=0.005, max_df=0.9 ,ngram_range=(2,2))\n",
        "  vectorized_col = vectorizer.fit_transform(df_class[i]['author']).toarray()\n",
        "  vec_features = vectorizer.get_feature_names()\n",
        "  print(\"number of author features:\" ,len(vec_features))\n",
        "\n",
        "  j = 0\n",
        "  for feat in vec_features:\n",
        "    if feat in source_df[i].columns:\n",
        "      source_df[i][feat] = source_df[i][feat] + vectorized_col[:,j]\n",
        "    else:\n",
        "      source_df[i][feat] = vectorized_col[:,j]\n",
        "    j+=1\n",
        "\n",
        "  print('++++++++++++++++++++++++++++++')\n"
      ]
    },
    {
      "cell_type": "code",
      "source": [
        "#Adding class name and labels to the 3 classes data sets\n",
        "for i in range(3):\n",
        "  source_df[i] = source_df[i].assign(target_labels=i+1)\n",
        "source_df[0] = source_df[0].assign(target_names='False')\n",
        "source_df[1] = source_df[1].assign(target_names='Mixture')\n",
        "source_df[2] = source_df[2].assign(target_names='True')\n",
        "\n",
        "#Merging 3 classes\n",
        "source_df = pd.concat(source_df, ignore_index=True, sort=True).copy()\n",
        "print(source_df.info())"
      ],
      "metadata": {
        "id": "OhXt5orbxE64",
        "colab": {
          "base_uri": "https://localhost:8080/"
        },
        "outputId": "080386b1-1d1b-414e-f26d-27a3fe5c6bcd"
      },
      "execution_count": 126,
      "outputs": [
        {
          "output_type": "stream",
          "name": "stdout",
          "text": [
            "<class 'pandas.core.frame.DataFrame'>\n",
            "RangeIndex: 24416 entries, 0 to 24415\n",
            "Columns: 555 entries, abc to youtub\n",
            "dtypes: float64(553), int64(1), object(1)\n",
            "memory usage: 103.4+ MB\n",
            "None\n"
          ]
        }
      ]
    },
    {
      "cell_type": "code",
      "source": [
        "#Filling the NaN\n",
        "source_df = source_df.fillna(0).copy()\n",
        "\n",
        "#Remove fully equal columns\n",
        "source_df = source_df.T.drop_duplicates().T.copy()\n",
        "\n",
        "source_df.info()"
      ],
      "metadata": {
        "colab": {
          "base_uri": "https://localhost:8080/"
        },
        "id": "VZbAm1ByHc8p",
        "outputId": "3b474321-622a-4a41-9735-09279de234cf"
      },
      "execution_count": 127,
      "outputs": [
        {
          "output_type": "stream",
          "name": "stdout",
          "text": [
            "<class 'pandas.core.frame.DataFrame'>\n",
            "RangeIndex: 24416 entries, 0 to 24415\n",
            "Columns: 544 entries, abc to youtub\n",
            "dtypes: object(544)\n",
            "memory usage: 101.3+ MB\n"
          ]
        }
      ]
    },
    {
      "cell_type": "code",
      "source": [
        "#Shuffling my feature extracted data\n",
        "import sklearn.utils\n",
        "source_df = sklearn.utils.shuffle(source_df)\n",
        "\n",
        "#Reset indexes\n",
        "source_df = source_df.reset_index(drop=True).copy()\n",
        "\n",
        "#Change the order of columns\n",
        "column_list = list(source_df.columns)\n",
        "column_list.remove('target_labels')\n",
        "column_list.remove('target_names')\n",
        "column_list.append('target_labels')\n",
        "column_list.append('target_names')\n",
        "source_df = source_df[column_list]\n",
        "\n",
        "#Save to csv file\n",
        "source_df.to_csv(\"source_features.csv\", index=False)\n",
        "\n",
        "#Release the RAM\n",
        "del claimskg\n"
      ],
      "metadata": {
        "id": "mmIbiZFwDRnI"
      },
      "execution_count": 128,
      "outputs": []
    },
    {
      "cell_type": "code",
      "source": [
        "#View the head and the shape of data\n",
        "print(source_df.head())\n",
        "print(\"Shape of the data: \", source_df.shape)"
      ],
      "metadata": {
        "id": "znmDbJRIdnd2",
        "colab": {
          "base_uri": "https://localhost:8080/"
        },
        "outputId": "6f639595-31d5-4892-db39-58dd54352016"
      },
      "execution_count": 129,
      "outputs": [
        {
          "output_type": "stream",
          "name": "stdout",
          "text": [
            "   abc abc news abort accid  ... york time youtub target_labels target_names\n",
            "0  0.0      0.0   0.0   0.0  ...       0.0    0.0             1        False\n",
            "1  0.0      0.0   0.0   0.0  ...       0.0    0.0             1        False\n",
            "2  0.0      0.0   0.0   0.0  ...       0.0    0.0             1        False\n",
            "3  0.0      0.0   0.0   0.0  ...       0.0    0.0             3         True\n",
            "4  0.0      0.0   0.0   0.0  ...       0.0    0.0             3         True\n",
            "\n",
            "[5 rows x 544 columns]\n",
            "Shape of the data:  (24416, 544)\n"
          ]
        }
      ]
    },
    {
      "cell_type": "markdown",
      "metadata": {
        "id": "GhePwn5HIKMg"
      },
      "source": [
        "# Multi Class Classification\n",
        "We want to classify every sample of our data to be in the class 1: Flase, 2: Mixture, 3: True. These labels have been given to the claims by human annotating or ML feature engineering."
      ]
    },
    {
      "cell_type": "markdown",
      "source": [
        "## Chi-Square \n",
        "\"Chi-Square is to be used when the feature is categorical, the target variable is any way can be thought as categorical. It measures the degree of association between two categorical variables\". [1](https://towardsdatascience.com/using-the-chi-squared-test-for-feature-selection-with-implementation-b15a4dad93f1)"
      ],
      "metadata": {
        "id": "bOLhX3h7Q9iZ"
      }
    },
    {
      "cell_type": "code",
      "source": [
        "from sklearn.ensemble import RandomForestClassifier\n",
        "from sklearn import metrics\n",
        "from sklearn.metrics import classification_report, confusion_matrix, balanced_accuracy_score, accuracy_score, f1_score, precision_score, recall_score\n",
        "from sklearn.feature_selection import chi2\n",
        "from sklearn.naive_bayes import MultinomialNB\n",
        "from sklearn.svm import SVC\n",
        "from sklearn.neighbors import KNeighborsClassifier"
      ],
      "metadata": {
        "id": "aqZQaYl4r8mS"
      },
      "execution_count": 147,
      "outputs": []
    },
    {
      "cell_type": "code",
      "source": [
        "#Ecncode labels\n",
        "source_df = pd.read_csv(\"source_features.csv\")\n",
        "source_df.target_names = source_df.target_names.astype('string')\n",
        "category_id_df = source_df[['target_names', 'target_labels']].drop_duplicates().sort_values('target_labels')\n",
        "category_to_id = dict(category_id_df.values)\n",
        "id_to_category = dict(category_id_df[['target_labels', 'target_names']].values)\n",
        "labels = source_df.target_labels\n",
        "category_to_id"
      ],
      "metadata": {
        "colab": {
          "base_uri": "https://localhost:8080/"
        },
        "id": "ftKkm-BAKiJe",
        "outputId": "1340fe2f-72d1-4b90-a1e5-28a93d8d28f5"
      },
      "execution_count": 148,
      "outputs": [
        {
          "output_type": "execute_result",
          "data": {
            "text/plain": [
              "{'False': 1, 'Mixture': 2, 'True': 3}"
            ]
          },
          "metadata": {},
          "execution_count": 148
        }
      ]
    },
    {
      "cell_type": "code",
      "source": [
        "#View most correlated features\n",
        "\n",
        "N = 5\n",
        "for claim, category_id in sorted(category_to_id.items()):\n",
        "  features_chi2 = chi2( source_df.iloc[:,:-2], labels == category_id)\n",
        "  indices = np.argsort(features_chi2[0])\n",
        "  feature_names = np.array(source_df.columns)[indices]\n",
        "  unigrams = [v for v in feature_names if len(v.split(' ')) == 1]\n",
        "  bigrams = [v for v in feature_names if len(v.split(' ')) == 2]\n",
        "  print(\"# '{}':\".format(claim))\n",
        "  print(\"  . Most correlated unigrams:\\n. {}\".format('\\n. '.join(unigrams[-N:])))\n",
        "  print(\"  . Most correlated bigrams:\\n. {}\".format('\\n. '.join(bigrams[-N:])))\n",
        "  print(\"*************************************\")\n",
        " # i+=1"
      ],
      "metadata": {
        "colab": {
          "base_uri": "https://localhost:8080/"
        },
        "id": "t4IJsX0E1iRH",
        "outputId": "a743f7ab-14e5-4286-fe86-480292b51252"
      },
      "execution_count": 149,
      "outputs": [
        {
          "output_type": "stream",
          "name": "stdout",
          "text": [
            "# 'False':\n",
            "  . Most correlated unigrams:\n",
            ". muslim\n",
            ". news\n",
            ". politifact\n",
            ". fake\n",
            ". snopes\n",
            "  . Most correlated bigrams:\n",
            ". chain email\n",
            ". facebook posts\n",
            ". viral image\n",
            ". mitt romney\n",
            ". fake news\n",
            "*************************************\n",
            "# 'Mixture':\n",
            "  . Most correlated unigrams:\n",
            ". asp\n",
            ". articl\n",
            ". fake\n",
            ". snopes\n",
            ". politifact\n",
            "  . Most correlated bigrams:\n",
            ". marco rubio\n",
            ". scott walker\n",
            ". rick scott\n",
            ". mitt romney\n",
            ". fake news\n",
            "*************************************\n",
            "# 'True':\n",
            "  . Most correlated unigrams:\n",
            ". letter\n",
            ". mccain\n",
            ". truth\n",
            ". island\n",
            ". politifact\n",
            "  . Most correlated bigrams:\n",
            ". photograph show\n",
            ". anim asp\n",
            ". censu bureau\n",
            ". fake news\n",
            ". lo angel\n",
            "*************************************\n"
          ]
        }
      ]
    },
    {
      "cell_type": "code",
      "source": [
        "print(\"Top 10 average of TF-IDF of the words in False labeled claims: \", \n",
        "      round(source_df[source_df['target_names']=='False'].mean().nlargest(10,  keep='first'),4))\n",
        "print(\"Top 10 average of TF-IDF of the words in Mixture labeled claims: \", \n",
        "      round(source_df[source_df['target_names']=='Mixture'].mean().nlargest(10,  keep='first'),4))\n",
        "print(\"Top 10 average of TF-IDF of the words in True labeled claims: \", \n",
        "      round(source_df[source_df['target_names']=='True'].mean().nlargest(10,  keep='first'),4))"
      ],
      "metadata": {
        "colab": {
          "base_uri": "https://localhost:8080/"
        },
        "id": "QHwMKmA3NqyE",
        "outputId": "bd47705b-1586-4e1e-88a3-27020485920d"
      },
      "execution_count": 150,
      "outputs": [
        {
          "output_type": "stream",
          "name": "stdout",
          "text": [
            "Top 10 average of TF-IDF of the words in False labeled claims:  target_labels    1.0000\n",
            "snopes           0.5481\n",
            "politifact       0.4480\n",
            "trump            0.1688\n",
            "obama            0.1435\n",
            "donald trump     0.1345\n",
            "news             0.1319\n",
            "say              0.1123\n",
            "donald           0.1100\n",
            "facebook         0.1000\n",
            "dtype: float64\n",
            "Top 10 average of TF-IDF of the words in Mixture labeled claims:  target_labels    2.0000\n",
            "tax              0.1791\n",
            "snopes           0.1774\n",
            "say              0.1742\n",
            "state            0.1546\n",
            "obama            0.1435\n",
            "trump            0.1249\n",
            "health           0.1139\n",
            "donald trump     0.1124\n",
            "barack obama     0.1095\n",
            "dtype: float64\n",
            "Top 10 average of TF-IDF of the words in True labeled claims:  target_labels    3.0000\n",
            "politifact       0.5680\n",
            "snopes           0.4160\n",
            "state            0.1389\n",
            "say              0.1214\n",
            "trump            0.1198\n",
            "obama            0.1106\n",
            "tax              0.1074\n",
            "articl           0.1025\n",
            "asp              0.1024\n",
            "dtype: float64\n"
          ]
        }
      ]
    },
    {
      "cell_type": "code",
      "execution_count": 151,
      "metadata": {
        "id": "0ckJ3d3tyKXR"
      },
      "outputs": [],
      "source": [
        "#Create train and test dataset\n",
        "X_train = source_df.iloc[:,:-2][:17000]\n",
        "y_train = source_df.target_labels[:17000]\n",
        "X_test = source_df.iloc[:,:-2][17000:]\n",
        "y_test = source_df.target_labels[17000:]"
      ]
    },
    {
      "cell_type": "markdown",
      "metadata": {
        "id": "mEkqhvQY6Vmb"
      },
      "source": [
        "## Random Forest Classifier\n",
        "\"Random forests or random decision forests are an ensemble learning method for classification, regression and other tasks that operates by constructing a multitude of decision trees at training time.\"[1](https://en.wikipedia.org/wiki/Random_forest)\n",
        "\n"
      ]
    },
    {
      "cell_type": "code",
      "execution_count": 172,
      "metadata": {
        "colab": {
          "base_uri": "https://localhost:8080/"
        },
        "id": "5Z1d644R6sVU",
        "outputId": "e5b00043-eb44-43ad-e16c-253f119aa17a"
      },
      "outputs": [
        {
          "output_type": "execute_result",
          "data": {
            "text/plain": [
              "RandomForestClassifier(min_samples_leaf=3, n_estimators=300, n_jobs=-1)"
            ]
          },
          "metadata": {},
          "execution_count": 172
        }
      ],
      "source": [
        "#Random Forest Classifier fitting\n",
        "min_samples_leaf = 3\n",
        "n_estimators = 300\n",
        "rf_classifier = RandomForestClassifier(n_estimators=n_estimators, min_samples_leaf=min_samples_leaf, n_jobs=-1)\n",
        "rf_classifier.fit(X_train, y_train)"
      ]
    },
    {
      "cell_type": "code",
      "execution_count": 173,
      "metadata": {
        "colab": {
          "base_uri": "https://localhost:8080/"
        },
        "id": "yB9oxy0Uu4ah",
        "outputId": "6269aa1f-c7cb-4c85-c210-77f26c1db625"
      },
      "outputs": [
        {
          "output_type": "stream",
          "name": "stderr",
          "text": [
            "/usr/local/lib/python3.7/dist-packages/sklearn/base.py:444: UserWarning: X has feature names, but DecisionTreeClassifier was fitted without feature names\n",
            "  \n"
          ]
        },
        {
          "output_type": "stream",
          "name": "stdout",
          "text": [
            "Predicted test labels:  [1 3 1 ... 2 3 2]\n",
            "Top 20 features and their importance in predicting labels of the claims by Random Forest Classifier (not considering source column): \n",
            "politifact        0.22387\n",
            "asp        0.05633\n",
            "snopes        0.04965\n",
            "articl        0.04212\n",
            "fake        0.02435\n",
            "say        0.02209\n",
            "fake news        0.01929\n",
            "republican        0.01096\n",
            "man        0.00853\n",
            "news        0.00837\n",
            "photograph        0.00685\n",
            "internet        0.00685\n",
            "facebook        0.00632\n",
            "island        0.00596\n",
            "daili        0.00594\n",
            "youtub        0.00592\n",
            "photograph show        0.00557\n",
            "univers        0.00548\n",
            "show        0.00538\n",
            "econom        0.00528\n"
          ]
        }
      ],
      "source": [
        "#Prediction of test data\n",
        "y_pred = rf_classifier.predict(X_test)\n",
        "print(\"Predicted test labels: \", y_pred)\n",
        "feature_imp = rf_classifier.feature_importances_\n",
        "print(\"Top 20 features and their importance in predicting labels of the claims by Random Forest Classifier (not considering source column): \")\n",
        "top_feature_ind =  feature_imp.argsort()[-20:][::-1]\n",
        "for col_ind in top_feature_ind:\n",
        "  print(X_test.columns[col_ind], \"      \", feature_imp[col_ind].round(5))"
      ]
    },
    {
      "cell_type": "code",
      "source": [
        "#Evaluating the model\n",
        "\n",
        "#Balanced accuracy is defined as the average of recall obtained on each class.\\n\",\n",
        "print(\"Compute the balanced accuracy: \", metrics.balanced_accuracy_score(y_test, y_pred))\n",
        "#this is the average of the F1 score , also known as balanced F-score or F-measure. \n",
        "print(\"Compute the weighted average F1 score: \", metrics.f1_score(y_test, y_pred, average='weighted'))\n",
        "\n",
        "print(f\"Random Forest Evaluation result not considering source column with {n_estimators} estimators and  \\\n",
        "{min_samples_leaf} leaves.\\n 1: False, 2: Mixture, 3:True\")\n",
        "print(\"Confusion matrix: \\n\", confusion_matrix(y_test, y_pred))\n",
        "print(\"Classification report:\\n\", classification_report(y_test, y_pred))"
      ],
      "metadata": {
        "colab": {
          "base_uri": "https://localhost:8080/"
        },
        "id": "fL4KUrF0xsxY",
        "outputId": "bb87dc96-b68e-4e62-f50f-e1b1999340c7"
      },
      "execution_count": 174,
      "outputs": [
        {
          "output_type": "stream",
          "name": "stdout",
          "text": [
            "Compute the balanced accuracy:  0.8599447558907225\n",
            "Compute the weighted average F1 score:  0.9024678584489532\n",
            "Random Forest Evaluation result not considering source column with 300 estimators and  3 leaves.\n",
            " 1: False, 2: Mixture, 3:True\n",
            "Confusion matrix: \n",
            " [[2898  109    6]\n",
            " [ 114 2942    3]\n",
            " [ 343  119  882]]\n",
            "Classification report:\n",
            "               precision    recall  f1-score   support\n",
            "\n",
            "           1       0.86      0.96      0.91      3013\n",
            "           2       0.93      0.96      0.94      3059\n",
            "           3       0.99      0.66      0.79      1344\n",
            "\n",
            "    accuracy                           0.91      7416\n",
            "   macro avg       0.93      0.86      0.88      7416\n",
            "weighted avg       0.91      0.91      0.90      7416\n",
            "\n"
          ]
        }
      ]
    },
    {
      "cell_type": "code",
      "execution_count": 175,
      "metadata": {
        "colab": {
          "base_uri": "https://localhost:8080/",
          "height": 621
        },
        "id": "dJOUnwO9ApsI",
        "outputId": "3db50ca4-215c-488a-ecf7-4638f9ce6e30"
      },
      "outputs": [
        {
          "output_type": "display_data",
          "data": {
            "image/png": "[encoded data removed]",
            "text/plain": [
              "<Figure size 720x720 with 2 Axes>"
            ]
          },
          "metadata": {
            "needs_background": "light"
          }
        }
      ],
      "source": [
        "#Prediction visualization\n",
        "\n",
        "conf_mat = confusion_matrix(y_test, y_pred)\n",
        "fig, ax = plt.subplots(figsize=(10,10))\n",
        "sns.heatmap(conf_mat, annot=True, fmt='d',\n",
        "            xticklabels=category_id_df.target_names.values, yticklabels=category_id_df.target_names.values)\n",
        "plt.ylabel('Actual')\n",
        "plt.xlabel('Predicted')\n",
        "plt.title(\"Random Forest Classification\")\n",
        "plt.show()"
      ]
    },
    {
      "cell_type": "markdown",
      "source": [
        "## Multinomial Naive Bayes Classifier\n",
        "This algorithm is a Bayesian learning approach popular in Natural Language Processing (NLP). The algorithm guesses the label of a claim, such as True, False or Mixture, using the Bayes theorem. It calculates each label's likelihood for a given sample and outputs the label with the greatest chance."
      ],
      "metadata": {
        "id": "gR9Sr6yYPWV-"
      }
    },
    {
      "cell_type": "code",
      "source": [
        "#Multinomial Naive Bayes Classifier\n",
        "\n",
        "clf = MultinomialNB()\n",
        "clf.fit(X_train, y_train)"
      ],
      "metadata": {
        "id": "sPI5xAFGPKh6",
        "colab": {
          "base_uri": "https://localhost:8080/"
        },
        "outputId": "8dca7127-226d-4ec8-eb15-ec8f28930ade"
      },
      "execution_count": 176,
      "outputs": [
        {
          "output_type": "execute_result",
          "data": {
            "text/plain": [
              "MultinomialNB()"
            ]
          },
          "metadata": {},
          "execution_count": 176
        }
      ]
    },
    {
      "cell_type": "code",
      "source": [
        "#Make predictions\n",
        "\n",
        "y_pred = clf.predict(X_test)\n",
        "y_pred"
      ],
      "metadata": {
        "colab": {
          "base_uri": "https://localhost:8080/"
        },
        "id": "TwyPx3R6SoIc",
        "outputId": "a923db2b-0b40-423a-8abc-b4f242b7f672"
      },
      "execution_count": 177,
      "outputs": [
        {
          "output_type": "execute_result",
          "data": {
            "text/plain": [
              "array([1, 3, 1, ..., 2, 3, 2])"
            ]
          },
          "metadata": {},
          "execution_count": 177
        }
      ]
    },
    {
      "cell_type": "code",
      "source": [
        "#Evaluating the model\n",
        "\n",
        "print(\"Compute the balanced accuracy: \", metrics.balanced_accuracy_score(y_test, y_pred))\n",
        "print(\"Compute the weighted average F1 score: \", metrics.f1_score(y_test, y_pred, average='weighted'))\n",
        "print(\"Multinomial Naive Bayes Classifier result for \\n Class 1: False, Class 2: Mixture, Class 3:True\")\n",
        "print(confusion_matrix(y_test, y_pred))\n",
        "print(classification_report(y_test, y_pred))"
      ],
      "metadata": {
        "colab": {
          "base_uri": "https://localhost:8080/"
        },
        "id": "4J52awg0Tr8w",
        "outputId": "5048eac1-8710-4de1-c1bc-b7534d874764"
      },
      "execution_count": 178,
      "outputs": [
        {
          "output_type": "stream",
          "name": "stdout",
          "text": [
            "Compute the balanced accuracy:  0.7775360958472627\n",
            "Compute the weighted average F1 score:  0.8100837322524059\n",
            "Multinomial Naive Bayes Classifier result for \n",
            " Class 1: False, Class 2: Mixture, Class 3:True\n",
            "[[2574  248  191]\n",
            " [ 384 2608   67]\n",
            " [ 323  180  841]]\n",
            "              precision    recall  f1-score   support\n",
            "\n",
            "           1       0.78      0.85      0.82      3013\n",
            "           2       0.86      0.85      0.86      3059\n",
            "           3       0.77      0.63      0.69      1344\n",
            "\n",
            "    accuracy                           0.81      7416\n",
            "   macro avg       0.80      0.78      0.79      7416\n",
            "weighted avg       0.81      0.81      0.81      7416\n",
            "\n"
          ]
        }
      ]
    },
    {
      "cell_type": "code",
      "source": [
        "#Prediction visualization\n",
        "\n",
        "conf_mat = confusion_matrix(y_test, y_pred)\n",
        "fig, ax = plt.subplots(figsize=(10,10))\n",
        "sns.heatmap(conf_mat, annot=True, fmt='d',\n",
        "            xticklabels=category_id_df.target_names.values, yticklabels=category_id_df.target_names.values)\n",
        "plt.ylabel('Actual')\n",
        "plt.xlabel('Predicted')\n",
        "plt.title(\"Multi Naive Bayes Classification\")\n",
        "plt.show()"
      ],
      "metadata": {
        "colab": {
          "base_uri": "https://localhost:8080/",
          "height": 621
        },
        "id": "WcKoMxtNTN81",
        "outputId": "68c1e02b-7d1f-400a-f1d7-43eef5a03087"
      },
      "execution_count": 179,
      "outputs": [
        {
          "output_type": "display_data",
          "data": {
            "image/png": "[encoded data removed]",
            "text/plain": [
              "<Figure size 720x720 with 2 Axes>"
            ]
          },
          "metadata": {
            "needs_background": "light"
          }
        }
      ]
    },
    {
      "cell_type": "markdown",
      "source": [
        "## Support Vector Machine Classifier (SVC) "
      ],
      "metadata": {
        "id": "ofane-hAk6go"
      }
    },
    {
      "cell_type": "markdown",
      "source": [
        "### Linear Kernel SVC"
      ],
      "metadata": {
        "id": "L29MnyS9lHqz"
      }
    },
    {
      "cell_type": "code",
      "execution_count": 180,
      "metadata": {
        "id": "CjSdoECx7q1k",
        "colab": {
          "base_uri": "https://localhost:8080/"
        },
        "outputId": "9dc8e658-a738-4f8f-8eca-05d12a01120c"
      },
      "outputs": [
        {
          "output_type": "execute_result",
          "data": {
            "text/plain": [
              "SVC(decision_function_shape='ovo', kernel='linear')"
            ]
          },
          "metadata": {},
          "execution_count": 180
        }
      ],
      "source": [
        "# Support Vector Machine Linear Classification\n",
        "\n",
        "svc_classifier = SVC(kernel='linear', decision_function_shape='ovo')\n",
        "svc_classifier.fit(X_train, y_train)\n"
      ]
    },
    {
      "cell_type": "code",
      "execution_count": 181,
      "metadata": {
        "id": "KJCpKZkb-mJz"
      },
      "outputs": [],
      "source": [
        "#Make predictions\n",
        "y_pred = svc_classifier.predict(X_test)"
      ]
    },
    {
      "cell_type": "code",
      "execution_count": 182,
      "metadata": {
        "colab": {
          "base_uri": "https://localhost:8080/"
        },
        "id": "8R88u3vi8ooS",
        "outputId": "6c4d6a2b-8553-4f59-e7d3-8ed93287dda6"
      },
      "outputs": [
        {
          "output_type": "stream",
          "name": "stdout",
          "text": [
            "Compute the balanced accuracy:  0.8597578959221818\n",
            "Compute the weighted average F1 score:  0.8985143278838797\n",
            "Linear SVM Evaluation result for \n",
            " 1: False, 2: Mixture, 3:True\n",
            "[[2887  101   25]\n",
            " [ 142 2890   27]\n",
            " [ 342   93  909]]\n",
            "              precision    recall  f1-score   support\n",
            "\n",
            "           1       0.86      0.96      0.90      3013\n",
            "           2       0.94      0.94      0.94      3059\n",
            "           3       0.95      0.68      0.79      1344\n",
            "\n",
            "    accuracy                           0.90      7416\n",
            "   macro avg       0.91      0.86      0.88      7416\n",
            "weighted avg       0.91      0.90      0.90      7416\n",
            "\n"
          ]
        }
      ],
      "source": [
        "#Evaluating the model\n",
        "\n",
        "print(\"Compute the balanced accuracy: \", metrics.balanced_accuracy_score(y_test, y_pred))\n",
        "print(\"Compute the weighted average F1 score: \", metrics.f1_score(y_test, y_pred, average='weighted'))\n",
        "print(\"Linear SVM Evaluation result for \\n 1: False, 2: Mixture, 3:True\")\n",
        "print(confusion_matrix(y_test, y_pred))\n",
        "print(classification_report(y_test, y_pred))"
      ]
    },
    {
      "cell_type": "code",
      "source": [
        "#Prediction visualization\n",
        "\n",
        "conf_mat = confusion_matrix(y_test, y_pred)\n",
        "fig, ax = plt.subplots(figsize=(10,10))\n",
        "sns.heatmap(conf_mat, annot=True, fmt='d',\n",
        "            xticklabels=category_id_df.target_names.values, yticklabels=category_id_df.target_names.values)\n",
        "plt.ylabel('Actual')\n",
        "plt.xlabel('Predicted')\n",
        "plt.title(\"Linear kernel SVM Classifier\")\n",
        "plt.show()"
      ],
      "metadata": {
        "colab": {
          "base_uri": "https://localhost:8080/",
          "height": 621
        },
        "id": "bm-Deci1fcwX",
        "outputId": "e62284c8-8749-4079-c05e-c3c0df6f3e83"
      },
      "execution_count": 183,
      "outputs": [
        {
          "output_type": "display_data",
          "data": {
            "image/png": "[encoded data removed]",
            "text/plain": [
              "<Figure size 720x720 with 2 Axes>"
            ]
          },
          "metadata": {
            "needs_background": "light"
          }
        }
      ]
    },
    {
      "cell_type": "markdown",
      "source": [
        "### Polynomial Kernel SVC"
      ],
      "metadata": {
        "id": "Jv_FbCQUlNHj"
      }
    },
    {
      "cell_type": "code",
      "execution_count": 168,
      "metadata": {
        "id": "mZeLWQX885CZ",
        "colab": {
          "base_uri": "https://localhost:8080/"
        },
        "outputId": "00234778-806b-420c-d76d-7688566970ee"
      },
      "outputs": [
        {
          "output_type": "execute_result",
          "data": {
            "text/plain": [
              "SVC(decision_function_shape='ovo', degree=8, kernel='poly')"
            ]
          },
          "metadata": {},
          "execution_count": 168
        }
      ],
      "source": [
        "# Support Vector Machine Non-Linear (Polynomial) Classification\n",
        "svclassifier = SVC(kernel='poly', degree=8, decision_function_shape='ovo')\n",
        "svclassifier.fit(X_train, y_train)"
      ]
    },
    {
      "cell_type": "code",
      "execution_count": 171,
      "metadata": {
        "id": "Rk3xkbsu_LAu",
        "colab": {
          "base_uri": "https://localhost:8080/"
        },
        "outputId": "1e160fc9-170a-40ae-90ea-979e75d6d837"
      },
      "outputs": [
        {
          "output_type": "stream",
          "name": "stdout",
          "text": [
            "Compute the balanced accuracy:  0.48357519029208157\n",
            "Compute the weighted average F1 score:  0.515478641055265\n",
            "Polynomial SVM Evaluation result for \n",
            " 1: False, 2: Mixture, 3:True\n",
            "[[2842   68  103]\n",
            " [1917 1104   38]\n",
            " [1092   55  197]]\n",
            "              precision    recall  f1-score   support\n",
            "\n",
            "           1       0.49      0.94      0.64      3013\n",
            "           2       0.90      0.36      0.52      3059\n",
            "           3       0.58      0.15      0.23      1344\n",
            "\n",
            "    accuracy                           0.56      7416\n",
            "   macro avg       0.66      0.48      0.46      7416\n",
            "weighted avg       0.67      0.56      0.52      7416\n",
            "\n"
          ]
        }
      ],
      "source": [
        "#Prediction and Evaluation\n",
        "y_pred = svclassifier.predict(X_test)\n",
        "\n",
        "print(\"Compute the balanced accuracy: \", metrics.balanced_accuracy_score(y_test, y_pred))\n",
        "print(\"Compute the weighted average F1 score: \", metrics.f1_score(y_test, y_pred, average='weighted'))\n",
        "print(\"Polynomial SVM Evaluation result for \\n 1: False, 2: Mixture, 3:True\")\n",
        "print(confusion_matrix(y_test, y_pred))\n",
        "print(classification_report(y_test, y_pred))"
      ]
    },
    {
      "cell_type": "code",
      "source": [
        "#Prediction visualization\n",
        "\n",
        "conf_mat = confusion_matrix(y_test, y_pred)\n",
        "fig, ax = plt.subplots(figsize=(10,10))\n",
        "sns.heatmap(conf_mat, annot=True, fmt='d',\n",
        "            xticklabels=category_id_df.target_names.values, yticklabels=category_id_df.target_names.values)\n",
        "plt.ylabel('Actual')\n",
        "plt.xlabel('Predicted')\n",
        "plt.title(\"Polynomial kernel SVM Classifier\")\n",
        "plt.show()"
      ],
      "metadata": {
        "colab": {
          "base_uri": "https://localhost:8080/",
          "height": 621
        },
        "id": "I5lhGjQoi0aI",
        "outputId": "e9af3df4-96a2-4b07-fb70-e3f901ad2e07"
      },
      "execution_count": 170,
      "outputs": [
        {
          "output_type": "display_data",
          "data": {
            "image/png": "[encoded data removed]",
            "text/plain": [
              "<Figure size 720x720 with 2 Axes>"
            ]
          },
          "metadata": {
            "needs_background": "light"
          }
        }
      ]
    },
    {
      "cell_type": "markdown",
      "source": [
        "### Gaussian Kernel SVC"
      ],
      "metadata": {
        "id": "7pNW60culrJw"
      }
    },
    {
      "cell_type": "code",
      "execution_count": 184,
      "metadata": {
        "colab": {
          "base_uri": "https://localhost:8080/"
        },
        "id": "sBacKuwD_T4x",
        "outputId": "84891bff-896d-4d02-936c-1f69fca0ca0c"
      },
      "outputs": [
        {
          "output_type": "execute_result",
          "data": {
            "text/plain": [
              "SVC(decision_function_shape='ovo')"
            ]
          },
          "metadata": {},
          "execution_count": 184
        }
      ],
      "source": [
        "#Gaussian Kernel\n",
        "svclassifier = SVC(kernel='rbf', decision_function_shape='ovo')\n",
        "svclassifier.fit(X_train, y_train)"
      ]
    },
    {
      "cell_type": "code",
      "execution_count": 185,
      "metadata": {
        "id": "sqZhlEwy_d0J",
        "colab": {
          "base_uri": "https://localhost:8080/"
        },
        "outputId": "717c216f-82c3-425a-8bb1-dd2a62b6e02f"
      },
      "outputs": [
        {
          "output_type": "stream",
          "name": "stdout",
          "text": [
            "Compute the balanced accuracy:  0.8080939631618597\n",
            "Compute the weighted average F1 score:  0.8624315169474753\n",
            "Gaussian SVM Evaluation result for \n",
            " 1: False, 2: Mixture, 3:True\n",
            "[[2931   64   18]\n",
            " [ 257 2790   12]\n",
            " [ 523   96  725]]\n",
            "              precision    recall  f1-score   support\n",
            "\n",
            "           1       0.79      0.97      0.87      3013\n",
            "           2       0.95      0.91      0.93      3059\n",
            "           3       0.96      0.54      0.69      1344\n",
            "\n",
            "    accuracy                           0.87      7416\n",
            "   macro avg       0.90      0.81      0.83      7416\n",
            "weighted avg       0.89      0.87      0.86      7416\n",
            "\n"
          ]
        }
      ],
      "source": [
        "#Prediction and Evaluation\n",
        "y_pred = svclassifier.predict(X_test)\n",
        "\n",
        "print(\"Compute the balanced accuracy: \", metrics.balanced_accuracy_score(y_test, y_pred))\n",
        "print(\"Compute the weighted average F1 score: \", metrics.f1_score(y_test, y_pred, average='weighted'))\n",
        "print(\"Gaussian SVM Evaluation result for \\n 1: False, 2: Mixture, 3:True\")\n",
        "print(confusion_matrix(y_test, y_pred))\n",
        "print(classification_report(y_test, y_pred))"
      ]
    },
    {
      "cell_type": "code",
      "source": [
        "#Prediction visualization\n",
        "\n",
        "conf_mat = confusion_matrix(y_test, y_pred)\n",
        "fig, ax = plt.subplots(figsize=(10,10))\n",
        "sns.heatmap(conf_mat, annot=True, fmt='d',\n",
        "            xticklabels=category_id_df.target_names.values, yticklabels=category_id_df.target_names.values)\n",
        "plt.ylabel('Actual')\n",
        "plt.xlabel('Predicted')\n",
        "plt.title(\"Gaussian kernel SVM Classifier\")\n",
        "plt.show()"
      ],
      "metadata": {
        "colab": {
          "base_uri": "https://localhost:8080/",
          "height": 621
        },
        "id": "VUAA3gPjkpuX",
        "outputId": "cc39da9c-65a9-4a07-ffa6-b532b97083e2"
      },
      "execution_count": 196,
      "outputs": [
        {
          "output_type": "display_data",
          "data": {
            "image/png": "[encoded data removed]",
            "text/plain": [
              "<Figure size 720x720 with 2 Axes>"
            ]
          },
          "metadata": {
            "needs_background": "light"
          }
        }
      ]
    },
    {
      "cell_type": "markdown",
      "source": [
        "## K-Nearest Neighbors Classification"
      ],
      "metadata": {
        "id": "ozQXoDbnmIk_"
      }
    },
    {
      "cell_type": "code",
      "execution_count": 197,
      "metadata": {
        "id": "AvsNtHGwLTeY",
        "colab": {
          "base_uri": "https://localhost:8080/"
        },
        "outputId": "672a9288-4d64-41ad-df0d-8fec1a039c42"
      },
      "outputs": [
        {
          "output_type": "execute_result",
          "data": {
            "text/plain": [
              "KNeighborsClassifier(n_neighbors=3)"
            ]
          },
          "metadata": {},
          "execution_count": 197
        }
      ],
      "source": [
        "# K-Nearest Neighbors Classification\n",
        "knn_classifier = KNeighborsClassifier(n_neighbors=3)\n",
        "knn_classifier.fit(X_train, y_train)"
      ]
    },
    {
      "cell_type": "code",
      "source": [
        "#Prediction and Evaluation\n",
        "y_pred = knn_classifier.predict(X_test)\n",
        "\n",
        "print(\"Compute the balanced accuracy: \", metrics.balanced_accuracy_score(y_test, y_pred))\n",
        "print(\"Compute the weighted average F1 score: \", metrics.f1_score(y_test, y_pred, average='weighted'))\n",
        "print(\"K-Nearest Neighbors Evaluation result for \\n 1: False, 2: Mixture, 3:True\")\n",
        "print(confusion_matrix(y_test, y_pred))\n",
        "print(classification_report(y_test, y_pred))"
      ],
      "metadata": {
        "id": "aJfmjzGpmO5E",
        "colab": {
          "base_uri": "https://localhost:8080/"
        },
        "outputId": "e5d66a82-cb2e-4634-ba42-13016c6fc8d7"
      },
      "execution_count": 198,
      "outputs": [
        {
          "output_type": "stream",
          "name": "stdout",
          "text": [
            "Compute the balanced accuracy:  0.674475144049969\n",
            "Compute the weighted average F1 score:  0.7315995928974334\n",
            "K-Nearest Neighbors Evaluation result for \n",
            " 1: False, 2: Mixture, 3:True\n",
            "[[2483  257  273]\n",
            " [ 500 2467   92]\n",
            " [ 679  137  528]]\n",
            "              precision    recall  f1-score   support\n",
            "\n",
            "           1       0.68      0.82      0.74      3013\n",
            "           2       0.86      0.81      0.83      3059\n",
            "           3       0.59      0.39      0.47      1344\n",
            "\n",
            "    accuracy                           0.74      7416\n",
            "   macro avg       0.71      0.67      0.68      7416\n",
            "weighted avg       0.74      0.74      0.73      7416\n",
            "\n"
          ]
        }
      ]
    },
    {
      "cell_type": "code",
      "source": [
        "#Prediction visualization\n",
        "\n",
        "conf_mat = confusion_matrix(y_test, y_pred)\n",
        "fig, ax = plt.subplots(figsize=(10,10))\n",
        "sns.heatmap(conf_mat, annot=True, fmt='d',\n",
        "            xticklabels=category_id_df.target_names.values, yticklabels=category_id_df.target_names.values)\n",
        "plt.ylabel('Actual')\n",
        "plt.xlabel('Predicted')\n",
        "plt.title(\"K-Nearest Neighbors Classifier\")\n",
        "plt.show()"
      ],
      "metadata": {
        "colab": {
          "base_uri": "https://localhost:8080/",
          "height": 621
        },
        "id": "j0u1TxQDnI9g",
        "outputId": "76098d07-12da-4ca6-a55c-52fa7f26d166"
      },
      "execution_count": 199,
      "outputs": [
        {
          "output_type": "display_data",
          "data": {
            "image/png": "[encoded data removed]",
            "text/plain": [
              "<Figure size 720x720 with 2 Axes>"
            ]
          },
          "metadata": {
            "needs_background": "light"
          }
        }
      ]
    },
    {
      "cell_type": "markdown",
      "metadata": {
        "id": "6SCTwmqMLXQF"
      },
      "source": [
        "# Binary Class Classification"
      ]
    },
    {
      "cell_type": "code",
      "source": [
        "from sklearn.ensemble import RandomForestClassifier\n",
        "from sklearn import metrics\n",
        "from sklearn.metrics import classification_report, confusion_matrix\n",
        "from sklearn.feature_selection import chi2\n",
        "from sklearn.naive_bayes import MultinomialNB\n",
        "from sklearn.svm import SVC\n",
        "from sklearn.neighbors import KNeighborsClassifier"
      ],
      "metadata": {
        "id": "OzA-M0I_rhE5"
      },
      "execution_count": 200,
      "outputs": []
    },
    {
      "cell_type": "code",
      "source": [
        "#Reading the source data file\n",
        "source_df = pd.read_csv(\"source_features.csv\")\n",
        "\n",
        "#Integrating True and False as one unique class-Changing True labels-with equal number 3- to 1\n",
        "source_df[(source_df['target_labels']==3) | (source_df['target_labels']==1)] = source_df.assign(target_names='True_False')\n",
        "source_df[(source_df['target_labels']==3)] = source_df.assign(target_labels=1)"
      ],
      "metadata": {
        "id": "eFt7Y4KurmVO"
      },
      "execution_count": 201,
      "outputs": []
    },
    {
      "cell_type": "code",
      "source": [
        "category_id_df = source_df[['target_names', 'target_labels']].drop_duplicates().sort_values('target_labels')\n",
        "category_to_id = dict(category_id_df.values)\n",
        "id_to_category = dict(category_id_df[['target_labels', 'target_names']].values)\n",
        "labels = source_df.target_labels\n",
        "print(\"Classes: \", category_to_id)\n",
        "#Create train and test dataset\n",
        "X_train = source_df.iloc[:,:-2][:17000]\n",
        "y_train = source_df.target_labels[:17000]\n",
        "X_test = source_df.iloc[:,:-2][17000:]\n",
        "y_test = source_df.target_labels[17000:]"
      ],
      "metadata": {
        "colab": {
          "base_uri": "https://localhost:8080/"
        },
        "id": "B_TXJ2dOrqMN",
        "outputId": "46059bf1-cf45-4f68-df77-60263b95a28d"
      },
      "execution_count": 202,
      "outputs": [
        {
          "output_type": "stream",
          "name": "stdout",
          "text": [
            "Classes:  {'True_False': 1, 'Mixture': 2}\n"
          ]
        }
      ]
    },
    {
      "cell_type": "markdown",
      "source": [
        "##Random Forest Binary Classifier"
      ],
      "metadata": {
        "id": "p7V2V4WcyeNy"
      }
    },
    {
      "cell_type": "code",
      "source": [
        "#Random Forest Classifier fitting\n",
        "min_samples_leaf = 3\n",
        "n_estimators = 300\n",
        "rf_classifier = RandomForestClassifier(n_estimators=n_estimators, min_samples_leaf=min_samples_leaf, n_jobs=-1)\n",
        "rf_classifier.fit(X_train, y_train)"
      ],
      "metadata": {
        "colab": {
          "base_uri": "https://localhost:8080/"
        },
        "id": "lR8n97B4yeeu",
        "outputId": "4f5d5559-0ae1-419d-d09a-e59f01a4ca73"
      },
      "execution_count": 203,
      "outputs": [
        {
          "output_type": "execute_result",
          "data": {
            "text/plain": [
              "RandomForestClassifier(min_samples_leaf=3, n_estimators=300, n_jobs=-1)"
            ]
          },
          "metadata": {},
          "execution_count": 203
        }
      ]
    },
    {
      "cell_type": "code",
      "source": [
        "#Prediction and Evaluation\n",
        "y_pred = rf_classifier.predict(X_test)\n",
        "\n",
        "print(\"Compute the balanced accuracy: \", metrics.balanced_accuracy_score(y_test, y_pred))\n",
        "print(\"Random Forest Evaluation result for \\n 1: True-False, 2: Mixture\")\n",
        "print(confusion_matrix(y_test, y_pred))\n",
        "print(classification_report(y_test, y_pred))"
      ],
      "metadata": {
        "colab": {
          "base_uri": "https://localhost:8080/"
        },
        "id": "MlDlQvGAyvRB",
        "outputId": "29ee2177-4f3a-4fe1-b101-aa3e3f84fe7b"
      },
      "execution_count": 204,
      "outputs": [
        {
          "output_type": "stream",
          "name": "stderr",
          "text": [
            "/usr/local/lib/python3.7/dist-packages/sklearn/base.py:444: UserWarning: X has feature names, but DecisionTreeClassifier was fitted without feature names\n",
            "  \n"
          ]
        },
        {
          "output_type": "stream",
          "name": "stdout",
          "text": [
            "Compute the balanced accuracy:  0.9465933271774001\n",
            "Random Forest Evaluation result for \n",
            " 1: True-False, 2: Mixture\n",
            "[[4289   68]\n",
            " [ 279 2780]]\n",
            "              precision    recall  f1-score   support\n",
            "\n",
            "           1       0.94      0.98      0.96      4357\n",
            "           2       0.98      0.91      0.94      3059\n",
            "\n",
            "    accuracy                           0.95      7416\n",
            "   macro avg       0.96      0.95      0.95      7416\n",
            "weighted avg       0.95      0.95      0.95      7416\n",
            "\n"
          ]
        }
      ]
    },
    {
      "cell_type": "code",
      "source": [
        "#Prediction visualization\n",
        "\n",
        "conf_mat = confusion_matrix(y_test, y_pred)\n",
        "fig, ax = plt.subplots(figsize=(10,10))\n",
        "sns.heatmap(conf_mat, annot=True, fmt='d',\n",
        "            xticklabels=category_id_df.target_names.values, yticklabels=category_id_df.target_names.values)\n",
        "plt.ylabel('Actual')\n",
        "plt.xlabel('Predicted')\n",
        "plt.title(\"Random Forest Binary Classifier\")\n",
        "plt.show()"
      ],
      "metadata": {
        "colab": {
          "base_uri": "https://localhost:8080/",
          "height": 622
        },
        "id": "dNeNOz1Ayzx7",
        "outputId": "2c948bef-b342-4fb0-f1bf-4f387e75b6fc"
      },
      "execution_count": 205,
      "outputs": [
        {
          "output_type": "display_data",
          "data": {
            "image/png": "[encoded data removed]",
            "text/plain": [
              "<Figure size 720x720 with 2 Axes>"
            ]
          },
          "metadata": {
            "needs_background": "light"
          }
        }
      ]
    },
    {
      "cell_type": "markdown",
      "source": [
        "## Multinomial Naive Bayes Binary Classifier"
      ],
      "metadata": {
        "id": "YyOLDRhbzKgD"
      }
    },
    {
      "cell_type": "code",
      "source": [
        "#Multinomial Naive Bayes Classifier\n",
        "\n",
        "clf = MultinomialNB()\n",
        "clf.fit(X_train, y_train)"
      ],
      "metadata": {
        "colab": {
          "base_uri": "https://localhost:8080/"
        },
        "id": "bhJHBs9XzK5C",
        "outputId": "8cdb2388-78d8-4b85-ad66-4add9fbfc05a"
      },
      "execution_count": 206,
      "outputs": [
        {
          "output_type": "execute_result",
          "data": {
            "text/plain": [
              "MultinomialNB()"
            ]
          },
          "metadata": {},
          "execution_count": 206
        }
      ]
    },
    {
      "cell_type": "code",
      "source": [
        "#Prediction and Evaluation\n",
        "y_pred = clf.predict(X_test)\n",
        "\n",
        "print(\"Compute the balanced accuracy: \", metrics.balanced_accuracy_score(y_test, y_pred))\n",
        "print(\"Multinomial Naive Bayes Evaluation result for \\n 1: True-False, 2: Mixture\")\n",
        "print(confusion_matrix(y_test, y_pred))\n",
        "print(classification_report(y_test, y_pred))"
      ],
      "metadata": {
        "colab": {
          "base_uri": "https://localhost:8080/"
        },
        "id": "_f9SaKTbzwZ6",
        "outputId": "5273da39-18d2-43dc-9c19-27841250c413"
      },
      "execution_count": 207,
      "outputs": [
        {
          "output_type": "stream",
          "name": "stdout",
          "text": [
            "Compute the balanced accuracy:  0.8639519110916567\n",
            "Multinomial Naive Bayes Evaluation result for \n",
            " 1: True-False, 2: Mixture\n",
            "[[3858  499]\n",
            " [ 482 2577]]\n",
            "              precision    recall  f1-score   support\n",
            "\n",
            "           1       0.89      0.89      0.89      4357\n",
            "           2       0.84      0.84      0.84      3059\n",
            "\n",
            "    accuracy                           0.87      7416\n",
            "   macro avg       0.86      0.86      0.86      7416\n",
            "weighted avg       0.87      0.87      0.87      7416\n",
            "\n"
          ]
        }
      ]
    },
    {
      "cell_type": "code",
      "source": [
        "#Prediction visualization\n",
        "\n",
        "conf_mat = confusion_matrix(y_test, y_pred)\n",
        "fig, ax = plt.subplots(figsize=(10,10))\n",
        "sns.heatmap(conf_mat, annot=True, fmt='d',\n",
        "            xticklabels=category_id_df.target_names.values, yticklabels=category_id_df.target_names.values)\n",
        "plt.ylabel('Actual')\n",
        "plt.xlabel('Predicted')\n",
        "plt.title(\"Multinomial Naive Bayes Binary Classifier\")\n",
        "plt.show()"
      ],
      "metadata": {
        "colab": {
          "base_uri": "https://localhost:8080/",
          "height": 622
        },
        "id": "i7plg4t9z2kZ",
        "outputId": "6a980b7f-244c-493d-b1d5-d96b5f5ad914"
      },
      "execution_count": 208,
      "outputs": [
        {
          "output_type": "display_data",
          "data": {
            "image/png": "[encoded data removed]",
            "text/plain": [
              "<Figure size 720x720 with 2 Axes>"
            ]
          },
          "metadata": {
            "needs_background": "light"
          }
        }
      ]
    },
    {
      "cell_type": "markdown",
      "source": [
        "## Support Vector Machine Linear Classification (SVC)"
      ],
      "metadata": {
        "id": "UgCkNnht0XCN"
      }
    },
    {
      "cell_type": "code",
      "source": [
        "# Support Vector Machine Linear Classification\n",
        "\n",
        "svc_classifier = SVC(kernel='linear', decision_function_shape='ovo')\n",
        "svc_classifier.fit(X_train, y_train)\n"
      ],
      "metadata": {
        "colab": {
          "base_uri": "https://localhost:8080/"
        },
        "id": "5Hlh_3k50Xww",
        "outputId": "7569df4f-0152-41c7-ebf2-a3ae130d6399"
      },
      "execution_count": 209,
      "outputs": [
        {
          "output_type": "execute_result",
          "data": {
            "text/plain": [
              "SVC(decision_function_shape='ovo', kernel='linear')"
            ]
          },
          "metadata": {},
          "execution_count": 209
        }
      ]
    },
    {
      "cell_type": "code",
      "source": [
        "#Prediction and Evaluation\n",
        "y_pred = svc_classifier.predict(X_test)\n",
        "\n",
        "print(\"Compute the balanced accuracy: \", metrics.balanced_accuracy_score(y_test, y_pred))\n",
        "print(\"Linear SVC Evaluation result for \\n 1: True-False, 2: Mixture\")\n",
        "print(confusion_matrix(y_test, y_pred))\n",
        "print(classification_report(y_test, y_pred))"
      ],
      "metadata": {
        "colab": {
          "base_uri": "https://localhost:8080/"
        },
        "id": "Vm3AnpDO03Oa",
        "outputId": "81afc8f1-1bca-4a39-cca2-403d2fa49179"
      },
      "execution_count": 210,
      "outputs": [
        {
          "output_type": "stream",
          "name": "stdout",
          "text": [
            "Compute the balanced accuracy:  0.9462527675626984\n",
            "Linear SVC Evaluation result for \n",
            " 1: True-False, 2: Mixture\n",
            "[[4249  108]\n",
            " [ 253 2806]]\n",
            "              precision    recall  f1-score   support\n",
            "\n",
            "           1       0.94      0.98      0.96      4357\n",
            "           2       0.96      0.92      0.94      3059\n",
            "\n",
            "    accuracy                           0.95      7416\n",
            "   macro avg       0.95      0.95      0.95      7416\n",
            "weighted avg       0.95      0.95      0.95      7416\n",
            "\n"
          ]
        }
      ]
    },
    {
      "cell_type": "code",
      "source": [
        "#Prediction visualization\n",
        "\n",
        "conf_mat = confusion_matrix(y_test, y_pred)\n",
        "fig, ax = plt.subplots(figsize=(10,10))\n",
        "sns.heatmap(conf_mat, annot=True, fmt='d',\n",
        "            xticklabels=category_id_df.target_names.values, yticklabels=category_id_df.target_names.values)\n",
        "plt.ylabel('Actual')\n",
        "plt.xlabel('Predicted')\n",
        "plt.title(\"Linear SVC Binary Classifier\")\n",
        "plt.show()"
      ],
      "metadata": {
        "colab": {
          "base_uri": "https://localhost:8080/",
          "height": 622
        },
        "id": "-AWXecw21DjR",
        "outputId": "3e477ae3-a8b1-432a-9855-207bc3aa60e3"
      },
      "execution_count": 211,
      "outputs": [
        {
          "output_type": "display_data",
          "data": {
            "image/png": "[encoded data removed]",
            "text/plain": [
              "<Figure size 720x720 with 2 Axes>"
            ]
          },
          "metadata": {
            "needs_background": "light"
          }
        }
      ]
    },
    {
      "cell_type": "markdown",
      "source": [
        "##  K-Nearest Neighbors Binary Classification"
      ],
      "metadata": {
        "id": "g2RIW29Kw5pd"
      }
    },
    {
      "cell_type": "code",
      "execution_count": 212,
      "metadata": {
        "id": "luefIf9oLVO_",
        "colab": {
          "base_uri": "https://localhost:8080/"
        },
        "outputId": "1106707e-138e-48b5-f455-326d07f00d59"
      },
      "outputs": [
        {
          "output_type": "execute_result",
          "data": {
            "text/plain": [
              "KNeighborsClassifier(n_neighbors=2)"
            ]
          },
          "metadata": {},
          "execution_count": 212
        }
      ],
      "source": [
        "# K-Nearest Neighbors Classification\n",
        "knn_classifier = KNeighborsClassifier(n_neighbors=2)\n",
        "knn_classifier.fit(X_train, y_train)"
      ]
    },
    {
      "cell_type": "code",
      "source": [
        "#Prediction and Evaluation\n",
        "y_pred = knn_classifier.predict(X_test)\n",
        "\n",
        "print(\"Compute the balanced accuracy: \", metrics.balanced_accuracy_score(y_test, y_pred))\n",
        "print(\"K-Nearest Neighbors Evaluation result for \\n 1: True-False, 2: Mixture\")\n",
        "print(confusion_matrix(y_test, y_pred))\n",
        "print(classification_report(y_test, y_pred))"
      ],
      "metadata": {
        "colab": {
          "base_uri": "https://localhost:8080/"
        },
        "id": "YlfSptPmxHFb",
        "outputId": "0d7ae994-e2a2-424f-fe44-20eef7a930fa"
      },
      "execution_count": 213,
      "outputs": [
        {
          "output_type": "stream",
          "name": "stdout",
          "text": [
            "Compute the balanced accuracy:  0.8031943201348913\n",
            "K-Nearest Neighbors Evaluation result for \n",
            " 1: True-False, 2: Mixture\n",
            "[[4186  171]\n",
            " [1084 1975]]\n",
            "              precision    recall  f1-score   support\n",
            "\n",
            "           1       0.79      0.96      0.87      4357\n",
            "           2       0.92      0.65      0.76      3059\n",
            "\n",
            "    accuracy                           0.83      7416\n",
            "   macro avg       0.86      0.80      0.81      7416\n",
            "weighted avg       0.85      0.83      0.82      7416\n",
            "\n"
          ]
        }
      ]
    },
    {
      "cell_type": "code",
      "source": [
        "#Prediction visualization\n",
        "\n",
        "conf_mat = confusion_matrix(y_test, y_pred)\n",
        "fig, ax = plt.subplots(figsize=(10,10))\n",
        "sns.heatmap(conf_mat, annot=True, fmt='d',\n",
        "            xticklabels=category_id_df.target_names.values, yticklabels=category_id_df.target_names.values)\n",
        "plt.ylabel('Actual')\n",
        "plt.xlabel('Predicted')\n",
        "plt.title(\"K-Nearest Neighbors Binary Classifier\")\n",
        "plt.show()"
      ],
      "metadata": {
        "colab": {
          "base_uri": "https://localhost:8080/",
          "height": 622
        },
        "id": "One8BvamxSpA",
        "outputId": "c73b66bc-7884-4a7a-8d48-2f8056bf16df"
      },
      "execution_count": 214,
      "outputs": [
        {
          "output_type": "display_data",
          "data": {
            "image/png": "[encoded data removed]",
            "text/plain": [
              "<Figure size 720x720 with 2 Axes>"
            ]
          },
          "metadata": {
            "needs_background": "light"
          }
        }
      ]
    },
    {
      "cell_type": "markdown",
      "metadata": {
        "id": "eee24QafoVEV"
      },
      "source": [
        "# Training with autogluon.tabular\n",
        "\n",
        "Because the R2 score of the Scikit_Learn Random Forest model is rather low, we train the dataset using Autogluon Tabular models to check if we obtain better results. We know that autogluon.tabular contains RFModel (Random Forest model (scikit-learn)) as one of its models. So we hope we will certainly improve the result."
      ]
    },
    {
      "cell_type": "code",
      "source": [
        "!pip install urllib3"
      ],
      "metadata": {
        "colab": {
          "base_uri": "https://localhost:8080/"
        },
        "id": "hdohZe5B24yY",
        "outputId": "cfcc69e2-5c38-4887-9bc7-61243b606956"
      },
      "execution_count": null,
      "outputs": [
        {
          "output_type": "stream",
          "name": "stdout",
          "text": [
            "Requirement already satisfied: urllib3 in /usr/local/lib/python3.7/dist-packages (1.25.11)\n"
          ]
        }
      ]
    },
    {
      "cell_type": "code",
      "execution_count": null,
      "metadata": {
        "id": "CDXGEzEToVEW"
      },
      "outputs": [],
      "source": [
        "from autogluon.tabular import TabularPredictor\n",
        "\n",
        "#Reading the source data file\n",
        "source_df = pd.read_csv(\"source_features.csv\")\n",
        "\n",
        "#Integrating True and False as one unique class-Changing True labels-with equal number 3- to 1\n",
        "#source_df[(source_df['target_labels']==3) | (source_df['target_labels']==1)] = source_df.assign(target_names='True_False')\n",
        "#source_df[(source_df['target_labels']==3)] = source_df.assign(target_labels=1)"
      ]
    },
    {
      "cell_type": "code",
      "source": [
        "source_df.info()"
      ],
      "metadata": {
        "colab": {
          "base_uri": "https://localhost:8080/"
        },
        "id": "aVPzMrb-2fxK",
        "outputId": "1aa041d1-41cc-45b6-df86-8d2a2928b106"
      },
      "execution_count": null,
      "outputs": [
        {
          "output_type": "stream",
          "name": "stdout",
          "text": [
            "<class 'pandas.core.frame.DataFrame'>\n",
            "RangeIndex: 24416 entries, 0 to 24415\n",
            "Columns: 544 entries, abc to target_names\n",
            "dtypes: float64(542), int64(1), object(1)\n",
            "memory usage: 101.3+ MB\n"
          ]
        }
      ]
    },
    {
      "cell_type": "code",
      "execution_count": null,
      "metadata": {
        "colab": {
          "base_uri": "https://localhost:8080/"
        },
        "id": "aXHm3o5FWzJB",
        "outputId": "09200bae-4e4d-4625-e967-a7c556711911"
      },
      "outputs": [
        {
          "output_type": "stream",
          "name": "stdout",
          "text": [
            "Classes:  {'False': 1, 'Mixture': 2, 'True': 3}\n"
          ]
        }
      ],
      "source": [
        "category_id_df = source_df[['target_names', 'target_labels']].drop_duplicates().sort_values('target_labels')\n",
        "category_to_id = dict(category_id_df.values)\n",
        "id_to_category = dict(category_id_df[['target_labels', 'target_names']].values)\n",
        "labels = source_df.target_labels\n",
        "print(\"Classes: \", category_to_id)\n",
        "#Create train and test dataset\n",
        "X_train = source_df.iloc[:,:-1][:17000]\n",
        "#y_train = source_df.target_labels[:17000]\n",
        "X_test = source_df.iloc[:,:-1][17000:]\n",
        "#y_test = source_df.target_labels[17000:]"
      ]
    },
    {
      "cell_type": "code",
      "execution_count": null,
      "metadata": {
        "colab": {
          "base_uri": "https://localhost:8080/"
        },
        "id": "8pDQr-meoVEW",
        "outputId": "8eb63219-f066-4129-fb9f-07690b7fc869"
      },
      "outputs": [
        {
          "output_type": "stream",
          "name": "stderr",
          "text": [
            "Presets specified: ['best_quality']\n",
            "Beginning AutoGluon training ... Time limit = 600s\n",
            "AutoGluon will save models to \"claim_models/\"\n",
            "AutoGluon Version:  0.3.1\n",
            "Train Data Rows:    17000\n",
            "Train Data Columns: 542\n",
            "Preprocessing data ...\n",
            "Train Data Class Count: 3\n",
            "Using Feature Generators to preprocess the data ...\n",
            "Fitting AutoMLPipelineFeatureGenerator...\n",
            "\tAvailable Memory:                    9722.97 MB\n",
            "\tTrain Data (Original)  Memory Usage: 73.71 MB (0.8% of available memory)\n",
            "\tInferring data type of each feature based on column values. Set feature_metadata_in to manually specify special dtypes of the features.\n",
            "\tStage 1 Generators:\n",
            "\t\tFitting AsTypeFeatureGenerator...\n",
            "\t\t\tNote: Converting 19 features to boolean dtype as they only contain 2 unique values.\n",
            "\tStage 2 Generators:\n",
            "\t\tFitting FillNaFeatureGenerator...\n",
            "\tStage 3 Generators:\n",
            "\t\tFitting IdentityFeatureGenerator...\n",
            "\tStage 4 Generators:\n",
            "\t\tFitting DropUniqueFeatureGenerator...\n",
            "\tTypes of features in original data (raw dtype, special dtypes):\n",
            "\t\t('float', []) : 542 | ['abc', 'abc news', 'abort', 'accid', 'accomplish', ...]\n",
            "\tTypes of features in processed data (raw dtype, special dtypes):\n",
            "\t\t('float', [])     : 523 | ['abc', 'abc news', 'abort', 'accid', 'accomplish', ...]\n",
            "\t\t('int', ['bool']) :  19 | ['africacheck', 'anim asp', 'articl hoax', 'articl necessarili', 'bernie sanders', ...]\n",
            "\t2.6s = Fit runtime\n",
            "\t542 features in original data used to generate 542 features in processed data.\n",
            "\tTrain Data (Processed) Memory Usage: 71.45 MB (0.7% of available memory)\n",
            "Data preprocessing and feature engineering runtime = 3.17s ...\n",
            "AutoGluon will gauge predictive performance using evaluation metric: 'accuracy'\n",
            "\tTo change this, specify the eval_metric argument of fit()\n",
            "AutoGluon will fit 2 stack levels (L1 to L2) ...\n",
            "Fitting 13 L1 models ...\n",
            "Fitting model: KNeighborsUnif_BAG_L1 ... Training model for up to 397.78s of the 596.82s of remaining time.\n",
            "\t0.6951\t = Validation score   (accuracy)\n",
            "\t0.37s\t = Training   runtime\n",
            "\t38.99s\t = Validation runtime\n",
            "Fitting model: KNeighborsDist_BAG_L1 ... Training model for up to 357.23s of the 556.26s of remaining time.\n",
            "\t0.7018\t = Validation score   (accuracy)\n",
            "\t0.85s\t = Training   runtime\n",
            "\t40.36s\t = Validation runtime\n",
            "Fitting model: NeuralNetFastAI_BAG_L1 ... Training model for up to 314.14s of the 513.17s of remaining time.\n",
            "\tTime limit exceeded... Skipping NeuralNetFastAI_BAG_L1.\n",
            "Fitting model: LightGBMXT_BAG_L1 ... Training model for up to 300.51s of the 499.54s of remaining time.\n",
            "/usr/local/lib/python3.7/dist-packages/lightgbm/engine.py:239: UserWarning: 'verbose_eval' argument is deprecated and will be removed in a future release of LightGBM. Pass 'log_evaluation()' callback via 'callbacks' argument instead.\n",
            "  _log_warning(\"'verbose_eval' argument is deprecated and will be removed in a future release of LightGBM. \"\n",
            "\tRan out of time, early stopping on iteration 254. Best iteration is:\n",
            "\t[254]\ttrain_set's multi_error: 0.0287582\tvalid_set's multi_error: 0.0570588\n",
            "/usr/local/lib/python3.7/dist-packages/lightgbm/engine.py:239: UserWarning: 'verbose_eval' argument is deprecated and will be removed in a future release of LightGBM. Pass 'log_evaluation()' callback via 'callbacks' argument instead.\n",
            "  _log_warning(\"'verbose_eval' argument is deprecated and will be removed in a future release of LightGBM. \"\n",
            "/usr/local/lib/python3.7/dist-packages/lightgbm/engine.py:239: UserWarning: 'verbose_eval' argument is deprecated and will be removed in a future release of LightGBM. Pass 'log_evaluation()' callback via 'callbacks' argument instead.\n",
            "  _log_warning(\"'verbose_eval' argument is deprecated and will be removed in a future release of LightGBM. \"\n",
            "/usr/local/lib/python3.7/dist-packages/lightgbm/engine.py:239: UserWarning: 'verbose_eval' argument is deprecated and will be removed in a future release of LightGBM. Pass 'log_evaluation()' callback via 'callbacks' argument instead.\n",
            "  _log_warning(\"'verbose_eval' argument is deprecated and will be removed in a future release of LightGBM. \"\n",
            "\tRan out of time, early stopping on iteration 515. Best iteration is:\n",
            "\t[435]\ttrain_set's multi_error: 0.0102614\tvalid_set's multi_error: 0.06\n",
            "/usr/local/lib/python3.7/dist-packages/lightgbm/engine.py:239: UserWarning: 'verbose_eval' argument is deprecated and will be removed in a future release of LightGBM. Pass 'log_evaluation()' callback via 'callbacks' argument instead.\n",
            "  _log_warning(\"'verbose_eval' argument is deprecated and will be removed in a future release of LightGBM. \"\n",
            "\tRan out of time, early stopping on iteration 286. Best iteration is:\n",
            "\t[257]\ttrain_set's multi_error: 0.0285621\tvalid_set's multi_error: 0.06\n",
            "/usr/local/lib/python3.7/dist-packages/lightgbm/engine.py:239: UserWarning: 'verbose_eval' argument is deprecated and will be removed in a future release of LightGBM. Pass 'log_evaluation()' callback via 'callbacks' argument instead.\n",
            "  _log_warning(\"'verbose_eval' argument is deprecated and will be removed in a future release of LightGBM. \"\n",
            "/usr/local/lib/python3.7/dist-packages/lightgbm/engine.py:239: UserWarning: 'verbose_eval' argument is deprecated and will be removed in a future release of LightGBM. Pass 'log_evaluation()' callback via 'callbacks' argument instead.\n",
            "  _log_warning(\"'verbose_eval' argument is deprecated and will be removed in a future release of LightGBM. \"\n",
            "/usr/local/lib/python3.7/dist-packages/lightgbm/engine.py:239: UserWarning: 'verbose_eval' argument is deprecated and will be removed in a future release of LightGBM. Pass 'log_evaluation()' callback via 'callbacks' argument instead.\n",
            "  _log_warning(\"'verbose_eval' argument is deprecated and will be removed in a future release of LightGBM. \"\n",
            "/usr/local/lib/python3.7/dist-packages/lightgbm/engine.py:239: UserWarning: 'verbose_eval' argument is deprecated and will be removed in a future release of LightGBM. Pass 'log_evaluation()' callback via 'callbacks' argument instead.\n",
            "  _log_warning(\"'verbose_eval' argument is deprecated and will be removed in a future release of LightGBM. \"\n",
            "/usr/local/lib/python3.7/dist-packages/lightgbm/engine.py:239: UserWarning: 'verbose_eval' argument is deprecated and will be removed in a future release of LightGBM. Pass 'log_evaluation()' callback via 'callbacks' argument instead.\n",
            "  _log_warning(\"'verbose_eval' argument is deprecated and will be removed in a future release of LightGBM. \"\n",
            "\t0.9402\t = Validation score   (accuracy)\n",
            "\t237.41s\t = Training   runtime\n",
            "\t2.19s\t = Validation runtime\n",
            "Fitting model: LightGBM_BAG_L1 ... Training model for up to 58.51s of the 257.54s of remaining time.\n",
            "/usr/local/lib/python3.7/dist-packages/lightgbm/engine.py:239: UserWarning: 'verbose_eval' argument is deprecated and will be removed in a future release of LightGBM. Pass 'log_evaluation()' callback via 'callbacks' argument instead.\n",
            "  _log_warning(\"'verbose_eval' argument is deprecated and will be removed in a future release of LightGBM. \"\n",
            "\tRan out of time, early stopping on iteration 51. Best iteration is:\n",
            "\t[51]\ttrain_set's multi_error: 0.0764052\tvalid_set's multi_error: 0.0788235\n",
            "/usr/local/lib/python3.7/dist-packages/lightgbm/engine.py:239: UserWarning: 'verbose_eval' argument is deprecated and will be removed in a future release of LightGBM. Pass 'log_evaluation()' callback via 'callbacks' argument instead.\n",
            "  _log_warning(\"'verbose_eval' argument is deprecated and will be removed in a future release of LightGBM. \"\n",
            "\tRan out of time, early stopping on iteration 51. Best iteration is:\n",
            "\t[50]\ttrain_set's multi_error: 0.0769281\tvalid_set's multi_error: 0.0935294\n",
            "/usr/local/lib/python3.7/dist-packages/lightgbm/engine.py:239: UserWarning: 'verbose_eval' argument is deprecated and will be removed in a future release of LightGBM. Pass 'log_evaluation()' callback via 'callbacks' argument instead.\n",
            "  _log_warning(\"'verbose_eval' argument is deprecated and will be removed in a future release of LightGBM. \"\n",
            "\tRan out of time, early stopping on iteration 52. Best iteration is:\n",
            "\t[52]\ttrain_set's multi_error: 0.0748366\tvalid_set's multi_error: 0.0911765\n",
            "/usr/local/lib/python3.7/dist-packages/lightgbm/engine.py:239: UserWarning: 'verbose_eval' argument is deprecated and will be removed in a future release of LightGBM. Pass 'log_evaluation()' callback via 'callbacks' argument instead.\n",
            "  _log_warning(\"'verbose_eval' argument is deprecated and will be removed in a future release of LightGBM. \"\n",
            "\tRan out of time, early stopping on iteration 53. Best iteration is:\n",
            "\t[53]\ttrain_set's multi_error: 0.0732026\tvalid_set's multi_error: 0.0847059\n",
            "/usr/local/lib/python3.7/dist-packages/lightgbm/engine.py:239: UserWarning: 'verbose_eval' argument is deprecated and will be removed in a future release of LightGBM. Pass 'log_evaluation()' callback via 'callbacks' argument instead.\n",
            "  _log_warning(\"'verbose_eval' argument is deprecated and will be removed in a future release of LightGBM. \"\n",
            "\tRan out of time, early stopping on iteration 54. Best iteration is:\n",
            "\t[54]\ttrain_set's multi_error: 0.074183\tvalid_set's multi_error: 0.0811765\n",
            "/usr/local/lib/python3.7/dist-packages/lightgbm/engine.py:239: UserWarning: 'verbose_eval' argument is deprecated and will be removed in a future release of LightGBM. Pass 'log_evaluation()' callback via 'callbacks' argument instead.\n",
            "  _log_warning(\"'verbose_eval' argument is deprecated and will be removed in a future release of LightGBM. \"\n",
            "\tRan out of time, early stopping on iteration 56. Best iteration is:\n",
            "\t[55]\ttrain_set's multi_error: 0.0733987\tvalid_set's multi_error: 0.0794118\n",
            "/usr/local/lib/python3.7/dist-packages/lightgbm/engine.py:239: UserWarning: 'verbose_eval' argument is deprecated and will be removed in a future release of LightGBM. Pass 'log_evaluation()' callback via 'callbacks' argument instead.\n",
            "  _log_warning(\"'verbose_eval' argument is deprecated and will be removed in a future release of LightGBM. \"\n",
            "\tRan out of time, early stopping on iteration 60. Best iteration is:\n",
            "\t[59]\ttrain_set's multi_error: 0.069281\tvalid_set's multi_error: 0.0852941\n",
            "/usr/local/lib/python3.7/dist-packages/lightgbm/engine.py:239: UserWarning: 'verbose_eval' argument is deprecated and will be removed in a future release of LightGBM. Pass 'log_evaluation()' callback via 'callbacks' argument instead.\n",
            "  _log_warning(\"'verbose_eval' argument is deprecated and will be removed in a future release of LightGBM. \"\n",
            "\tRan out of time, early stopping on iteration 62. Best iteration is:\n",
            "\t[61]\ttrain_set's multi_error: 0.069085\tvalid_set's multi_error: 0.0905882\n",
            "/usr/local/lib/python3.7/dist-packages/lightgbm/engine.py:239: UserWarning: 'verbose_eval' argument is deprecated and will be removed in a future release of LightGBM. Pass 'log_evaluation()' callback via 'callbacks' argument instead.\n",
            "  _log_warning(\"'verbose_eval' argument is deprecated and will be removed in a future release of LightGBM. \"\n",
            "\tRan out of time, early stopping on iteration 69. Best iteration is:\n",
            "\t[68]\ttrain_set's multi_error: 0.0661438\tvalid_set's multi_error: 0.0770588\n",
            "/usr/local/lib/python3.7/dist-packages/lightgbm/engine.py:239: UserWarning: 'verbose_eval' argument is deprecated and will be removed in a future release of LightGBM. Pass 'log_evaluation()' callback via 'callbacks' argument instead.\n",
            "  _log_warning(\"'verbose_eval' argument is deprecated and will be removed in a future release of LightGBM. \"\n",
            "\tRan out of time, early stopping on iteration 80. Best iteration is:\n",
            "\t[79]\ttrain_set's multi_error: 0.0593464\tvalid_set's multi_error: 0.0788235\n",
            "\t0.9159\t = Validation score   (accuracy)\n",
            "\t56.35s\t = Training   runtime\n",
            "\t0.42s\t = Validation runtime\n",
            "Fitting model: RandomForestGini_BAG_L1 ... Training model for up to 1.22s of the 200.26s of remaining time.\n",
            "\tWarning: Model is expected to require 31.3s to train, which exceeds the maximum time limit of 1.2s, skipping model...\n",
            "\tTime limit exceeded... Skipping RandomForestGini_BAG_L1.\n",
            "Fitting model: RandomForestEntr_BAG_L1 ... Training model for up to 0.26s of the 199.29s of remaining time.\n",
            "\tWarning: Model is expected to require 38.8s to train, which exceeds the maximum time limit of 0.3s, skipping model...\n",
            "\tTime limit exceeded... Skipping RandomForestEntr_BAG_L1.\n",
            "Completed 1/20 k-fold bagging repeats ...\n",
            "Fitting model: WeightedEnsemble_L2 ... Training model for up to 360.0s of the 198.07s of remaining time.\n",
            "\t0.9402\t = Validation score   (accuracy)\n",
            "\t1.45s\t = Training   runtime\n",
            "\t0.0s\t = Validation runtime\n",
            "Fitting 11 L2 models ...\n",
            "Fitting model: NeuralNetFastAI_BAG_L2 ... Training model for up to 196.57s of the 196.46s of remaining time.\n",
            "\tTime limit exceeded... Skipping NeuralNetFastAI_BAG_L2.\n",
            "Fitting model: LightGBMXT_BAG_L2 ... Training model for up to 189.08s of the 189.02s of remaining time.\n",
            "/usr/local/lib/python3.7/dist-packages/lightgbm/engine.py:239: UserWarning: 'verbose_eval' argument is deprecated and will be removed in a future release of LightGBM. Pass 'log_evaluation()' callback via 'callbacks' argument instead.\n",
            "  _log_warning(\"'verbose_eval' argument is deprecated and will be removed in a future release of LightGBM. \"\n",
            "/usr/local/lib/python3.7/dist-packages/lightgbm/engine.py:239: UserWarning: 'verbose_eval' argument is deprecated and will be removed in a future release of LightGBM. Pass 'log_evaluation()' callback via 'callbacks' argument instead.\n",
            "  _log_warning(\"'verbose_eval' argument is deprecated and will be removed in a future release of LightGBM. \"\n",
            "/usr/local/lib/python3.7/dist-packages/lightgbm/engine.py:239: UserWarning: 'verbose_eval' argument is deprecated and will be removed in a future release of LightGBM. Pass 'log_evaluation()' callback via 'callbacks' argument instead.\n",
            "  _log_warning(\"'verbose_eval' argument is deprecated and will be removed in a future release of LightGBM. \"\n",
            "/usr/local/lib/python3.7/dist-packages/lightgbm/engine.py:239: UserWarning: 'verbose_eval' argument is deprecated and will be removed in a future release of LightGBM. Pass 'log_evaluation()' callback via 'callbacks' argument instead.\n",
            "  _log_warning(\"'verbose_eval' argument is deprecated and will be removed in a future release of LightGBM. \"\n",
            "/usr/local/lib/python3.7/dist-packages/lightgbm/engine.py:239: UserWarning: 'verbose_eval' argument is deprecated and will be removed in a future release of LightGBM. Pass 'log_evaluation()' callback via 'callbacks' argument instead.\n",
            "  _log_warning(\"'verbose_eval' argument is deprecated and will be removed in a future release of LightGBM. \"\n",
            "/usr/local/lib/python3.7/dist-packages/lightgbm/engine.py:239: UserWarning: 'verbose_eval' argument is deprecated and will be removed in a future release of LightGBM. Pass 'log_evaluation()' callback via 'callbacks' argument instead.\n",
            "  _log_warning(\"'verbose_eval' argument is deprecated and will be removed in a future release of LightGBM. \"\n",
            "/usr/local/lib/python3.7/dist-packages/lightgbm/engine.py:239: UserWarning: 'verbose_eval' argument is deprecated and will be removed in a future release of LightGBM. Pass 'log_evaluation()' callback via 'callbacks' argument instead.\n",
            "  _log_warning(\"'verbose_eval' argument is deprecated and will be removed in a future release of LightGBM. \"\n",
            "/usr/local/lib/python3.7/dist-packages/lightgbm/engine.py:239: UserWarning: 'verbose_eval' argument is deprecated and will be removed in a future release of LightGBM. Pass 'log_evaluation()' callback via 'callbacks' argument instead.\n",
            "  _log_warning(\"'verbose_eval' argument is deprecated and will be removed in a future release of LightGBM. \"\n",
            "/usr/local/lib/python3.7/dist-packages/lightgbm/engine.py:239: UserWarning: 'verbose_eval' argument is deprecated and will be removed in a future release of LightGBM. Pass 'log_evaluation()' callback via 'callbacks' argument instead.\n",
            "  _log_warning(\"'verbose_eval' argument is deprecated and will be removed in a future release of LightGBM. \"\n",
            "/usr/local/lib/python3.7/dist-packages/lightgbm/engine.py:239: UserWarning: 'verbose_eval' argument is deprecated and will be removed in a future release of LightGBM. Pass 'log_evaluation()' callback via 'callbacks' argument instead.\n",
            "  _log_warning(\"'verbose_eval' argument is deprecated and will be removed in a future release of LightGBM. \"\n",
            "\t0.9397\t = Validation score   (accuracy)\n",
            "\t72.74s\t = Training   runtime\n",
            "\t0.38s\t = Validation runtime\n",
            "Fitting model: LightGBM_BAG_L2 ... Training model for up to 115.42s of the 115.36s of remaining time.\n",
            "/usr/local/lib/python3.7/dist-packages/lightgbm/engine.py:239: UserWarning: 'verbose_eval' argument is deprecated and will be removed in a future release of LightGBM. Pass 'log_evaluation()' callback via 'callbacks' argument instead.\n",
            "  _log_warning(\"'verbose_eval' argument is deprecated and will be removed in a future release of LightGBM. \"\n",
            "/usr/local/lib/python3.7/dist-packages/lightgbm/engine.py:239: UserWarning: 'verbose_eval' argument is deprecated and will be removed in a future release of LightGBM. Pass 'log_evaluation()' callback via 'callbacks' argument instead.\n",
            "  _log_warning(\"'verbose_eval' argument is deprecated and will be removed in a future release of LightGBM. \"\n",
            "/usr/local/lib/python3.7/dist-packages/lightgbm/engine.py:239: UserWarning: 'verbose_eval' argument is deprecated and will be removed in a future release of LightGBM. Pass 'log_evaluation()' callback via 'callbacks' argument instead.\n",
            "  _log_warning(\"'verbose_eval' argument is deprecated and will be removed in a future release of LightGBM. \"\n",
            "/usr/local/lib/python3.7/dist-packages/lightgbm/engine.py:239: UserWarning: 'verbose_eval' argument is deprecated and will be removed in a future release of LightGBM. Pass 'log_evaluation()' callback via 'callbacks' argument instead.\n",
            "  _log_warning(\"'verbose_eval' argument is deprecated and will be removed in a future release of LightGBM. \"\n",
            "/usr/local/lib/python3.7/dist-packages/lightgbm/engine.py:239: UserWarning: 'verbose_eval' argument is deprecated and will be removed in a future release of LightGBM. Pass 'log_evaluation()' callback via 'callbacks' argument instead.\n",
            "  _log_warning(\"'verbose_eval' argument is deprecated and will be removed in a future release of LightGBM. \"\n",
            "/usr/local/lib/python3.7/dist-packages/lightgbm/engine.py:239: UserWarning: 'verbose_eval' argument is deprecated and will be removed in a future release of LightGBM. Pass 'log_evaluation()' callback via 'callbacks' argument instead.\n",
            "  _log_warning(\"'verbose_eval' argument is deprecated and will be removed in a future release of LightGBM. \"\n",
            "/usr/local/lib/python3.7/dist-packages/lightgbm/engine.py:239: UserWarning: 'verbose_eval' argument is deprecated and will be removed in a future release of LightGBM. Pass 'log_evaluation()' callback via 'callbacks' argument instead.\n",
            "  _log_warning(\"'verbose_eval' argument is deprecated and will be removed in a future release of LightGBM. \"\n",
            "/usr/local/lib/python3.7/dist-packages/lightgbm/engine.py:239: UserWarning: 'verbose_eval' argument is deprecated and will be removed in a future release of LightGBM. Pass 'log_evaluation()' callback via 'callbacks' argument instead.\n",
            "  _log_warning(\"'verbose_eval' argument is deprecated and will be removed in a future release of LightGBM. \"\n",
            "/usr/local/lib/python3.7/dist-packages/lightgbm/engine.py:239: UserWarning: 'verbose_eval' argument is deprecated and will be removed in a future release of LightGBM. Pass 'log_evaluation()' callback via 'callbacks' argument instead.\n",
            "  _log_warning(\"'verbose_eval' argument is deprecated and will be removed in a future release of LightGBM. \"\n",
            "/usr/local/lib/python3.7/dist-packages/lightgbm/engine.py:239: UserWarning: 'verbose_eval' argument is deprecated and will be removed in a future release of LightGBM. Pass 'log_evaluation()' callback via 'callbacks' argument instead.\n",
            "  _log_warning(\"'verbose_eval' argument is deprecated and will be removed in a future release of LightGBM. \"\n",
            "\t0.9419\t = Validation score   (accuracy)\n",
            "\t86.02s\t = Training   runtime\n",
            "\t0.31s\t = Validation runtime\n",
            "Fitting model: RandomForestGini_BAG_L2 ... Training model for up to 28.66s of the 28.6s of remaining time.\n",
            "\t0.941\t = Validation score   (accuracy)\n",
            "\t14.23s\t = Training   runtime\n",
            "\t4.56s\t = Validation runtime\n",
            "Fitting model: RandomForestEntr_BAG_L2 ... Training model for up to 9.16s of the 9.1s of remaining time.\n",
            "\tWarning: Reducing model 'n_estimators' from 300 -> 113 due to low time. Expected time usage reduced from 23.8s -> 9.2s...\n",
            "\t0.9401\t = Validation score   (accuracy)\n",
            "\t7.18s\t = Training   runtime\n",
            "\t1.83s\t = Validation runtime\n",
            "Completed 1/20 k-fold bagging repeats ...\n",
            "Fitting model: WeightedEnsemble_L3 ... Training model for up to 360.0s of the -0.67s of remaining time.\n",
            "\t0.9419\t = Validation score   (accuracy)\n",
            "\t1.54s\t = Training   runtime\n",
            "\t0.0s\t = Validation runtime\n",
            "AutoGluon training complete, total runtime = 602.65s ...\n",
            "TabularPredictor saved. To load, use: predictor = TabularPredictor.load(\"claim_models/\")\n"
          ]
        }
      ],
      "source": [
        "#Training with Autogluon Tabular\n",
        "\n",
        "save_path = 'claim_models'\n",
        "predictor = TabularPredictor('target_labels', problem_type='multiclass' , \n",
        "                                          path=save_path, ).fit(X_train, time_limit=600, presets='best_quality')"
      ]
    },
    {
      "cell_type": "markdown",
      "metadata": {
        "id": "6LrqFFl0oVEW"
      },
      "source": [
        "## My Tabular predictor leaderboard"
      ]
    },
    {
      "cell_type": "code",
      "execution_count": null,
      "metadata": {
        "colab": {
          "base_uri": "https://localhost:8080/",
          "height": 1000
        },
        "id": "QrOZGuk9oVEX",
        "outputId": "883baf65-c258-496e-93bf-75ef2e41f9f0"
      },
      "outputs": [
        {
          "output_type": "execute_result",
          "data": {
            "text/html": [
              "\n",
              "  <div id=\"df-7f14ce4f-075f-4c5e-a5be-a1232e5dc97b\">\n",
              "    <div class=\"colab-df-container\">\n",
              "      <div>\n",
              "<style scoped>\n",
              "    .dataframe tbody tr th:only-of-type {\n",
              "        vertical-align: middle;\n",
              "    }\n",
              "\n",
              "    .dataframe tbody tr th {\n",
              "        vertical-align: top;\n",
              "    }\n",
              "\n",
              "    .dataframe thead th {\n",
              "        text-align: right;\n",
              "    }\n",
              "</style>\n",
              "<table border=\"1\" class=\"dataframe\">\n",
              "  <thead>\n",
              "    <tr style=\"text-align: right;\">\n",
              "      <th></th>\n",
              "      <th>model</th>\n",
              "      <th>score_val</th>\n",
              "      <th>pred_time_val</th>\n",
              "      <th>fit_time</th>\n",
              "      <th>pred_time_val_marginal</th>\n",
              "      <th>fit_time_marginal</th>\n",
              "      <th>stack_level</th>\n",
              "      <th>can_infer</th>\n",
              "      <th>fit_order</th>\n",
              "      <th>num_features</th>\n",
              "      <th>num_models</th>\n",
              "      <th>num_models_w_ancestors</th>\n",
              "      <th>memory_size</th>\n",
              "      <th>memory_size_w_ancestors</th>\n",
              "      <th>memory_size_min</th>\n",
              "      <th>memory_size_min_w_ancestors</th>\n",
              "      <th>num_ancestors</th>\n",
              "      <th>num_descendants</th>\n",
              "      <th>model_type</th>\n",
              "      <th>child_model_type</th>\n",
              "      <th>hyperparameters</th>\n",
              "      <th>hyperparameters_fit</th>\n",
              "      <th>ag_args_fit</th>\n",
              "      <th>features</th>\n",
              "      <th>child_hyperparameters</th>\n",
              "      <th>child_hyperparameters_fit</th>\n",
              "      <th>child_ag_args_fit</th>\n",
              "      <th>ancestors</th>\n",
              "      <th>descendants</th>\n",
              "    </tr>\n",
              "  </thead>\n",
              "  <tbody>\n",
              "    <tr>\n",
              "      <th>0</th>\n",
              "      <td>LightGBM_BAG_L2</td>\n",
              "      <td>0.941941</td>\n",
              "      <td>82.270703</td>\n",
              "      <td>381.009168</td>\n",
              "      <td>0.308326</td>\n",
              "      <td>86.021479</td>\n",
              "      <td>2</td>\n",
              "      <td>True</td>\n",
              "      <td>7</td>\n",
              "      <td>554</td>\n",
              "      <td>10</td>\n",
              "      <td>32</td>\n",
              "      <td>3002868</td>\n",
              "      <td>114232687</td>\n",
              "      <td>840356</td>\n",
              "      <td>35724555</td>\n",
              "      <td>4</td>\n",
              "      <td>1</td>\n",
              "      <td>StackerEnsembleModel</td>\n",
              "      <td>LGBModel</td>\n",
              "      <td>{'use_orig_features': True, 'max_base_models': 25, 'max_base_models_per_type': 5, 'save_bag_folds': True}</td>\n",
              "      <td>{}</td>\n",
              "      <td>{'max_memory_usage_ratio': 1.0, 'max_time_limit_ratio': 1.0, 'max_time_limit': None, 'min_time_limit': 0, 'ignored_type_group_special': None, 'ignored_type_group_raw': None, 'get_features_kwargs': None, 'get_features_kwargs_extra': None, 'drop_unique': False}</td>\n",
              "      <td>[obama say, georg, rate, legend, KNeighborsUnif_BAG_L1_1, homeland, carolina, show, rubio, deficit, deal, poll, last line, post, michel, hurrican, week, technolog, reagan, south, associ, governor, hous, worker, new jersey, hillari, gop, energi, medicar, pelosi, countri, joe, gener, virginia, jersey, rep, san, cb, politifact republican, member, unit state, john mccain, fals, sarah, presid donald, secur, nearli, student, abc news, accid, obamacar, divers, crime, use, claim, ted, ethic, berni, articl barack, angel, berni sander, car, urban, campaign, crimin, daili report, mccain, averag, flor...</td>\n",
              "      <td>{'num_boost_round': 10000, 'num_threads': -1, 'learning_rate': 0.05, 'objective': 'multiclass', 'verbose': -1, 'boosting_type': 'gbdt', 'two_round': True}</td>\n",
              "      <td>{'num_boost_round': 26}</td>\n",
              "      <td>{'max_memory_usage_ratio': 1.0, 'max_time_limit_ratio': 1.0, 'max_time_limit': None, 'min_time_limit': 0, 'ignored_type_group_special': None, 'ignored_type_group_raw': ['object'], 'get_features_kwargs': None, 'get_features_kwargs_extra': None}</td>\n",
              "      <td>[KNeighborsDist_BAG_L1, KNeighborsUnif_BAG_L1, LightGBMXT_BAG_L1, LightGBM_BAG_L1]</td>\n",
              "      <td>[WeightedEnsemble_L3]</td>\n",
              "    </tr>\n",
              "    <tr>\n",
              "      <th>1</th>\n",
              "      <td>WeightedEnsemble_L3</td>\n",
              "      <td>0.941941</td>\n",
              "      <td>82.273160</td>\n",
              "      <td>382.547906</td>\n",
              "      <td>0.002457</td>\n",
              "      <td>1.538738</td>\n",
              "      <td>3</td>\n",
              "      <td>True</td>\n",
              "      <td>10</td>\n",
              "      <td>3</td>\n",
              "      <td>1</td>\n",
              "      <td>33</td>\n",
              "      <td>3544</td>\n",
              "      <td>114236231</td>\n",
              "      <td>3544</td>\n",
              "      <td>35724555</td>\n",
              "      <td>5</td>\n",
              "      <td>0</td>\n",
              "      <td>WeightedEnsembleModel</td>\n",
              "      <td>GreedyWeightedEnsembleModel</td>\n",
              "      <td>{'use_orig_features': False, 'max_base_models': 25, 'max_base_models_per_type': 5, 'save_bag_folds': True}</td>\n",
              "      <td>{}</td>\n",
              "      <td>{'max_memory_usage_ratio': 1.0, 'max_time_limit_ratio': 1.0, 'max_time_limit': None, 'min_time_limit': 0, 'ignored_type_group_special': None, 'ignored_type_group_raw': None, 'get_features_kwargs': None, 'get_features_kwargs_extra': None, 'drop_unique': False}</td>\n",
              "      <td>[LightGBM_BAG_L2_1, LightGBM_BAG_L2_2, LightGBM_BAG_L2_0]</td>\n",
              "      <td>{'ensemble_size': 100}</td>\n",
              "      <td>{'ensemble_size': 1}</td>\n",
              "      <td>{'max_memory_usage_ratio': 1.0, 'max_time_limit_ratio': 1.0, 'max_time_limit': None, 'min_time_limit': 0, 'ignored_type_group_special': None, 'ignored_type_group_raw': None, 'get_features_kwargs': None, 'get_features_kwargs_extra': None, 'drop_unique': False}</td>\n",
              "      <td>[LightGBM_BAG_L2, LightGBMXT_BAG_L1, KNeighborsDist_BAG_L1, LightGBM_BAG_L1, KNeighborsUnif_BAG_L1]</td>\n",
              "      <td>[]</td>\n",
              "    </tr>\n",
              "    <tr>\n",
              "      <th>2</th>\n",
              "      <td>RandomForestGini_BAG_L2</td>\n",
              "      <td>0.941000</td>\n",
              "      <td>86.519049</td>\n",
              "      <td>309.216294</td>\n",
              "      <td>4.556672</td>\n",
              "      <td>14.228604</td>\n",
              "      <td>2</td>\n",
              "      <td>True</td>\n",
              "      <td>8</td>\n",
              "      <td>554</td>\n",
              "      <td>1</td>\n",
              "      <td>23</td>\n",
              "      <td>52168445</td>\n",
              "      <td>163398264</td>\n",
              "      <td>52168445</td>\n",
              "      <td>52168445</td>\n",
              "      <td>4</td>\n",
              "      <td>0</td>\n",
              "      <td>StackerEnsembleModel</td>\n",
              "      <td>RFModel</td>\n",
              "      <td>{'use_orig_features': True, 'max_base_models': 25, 'max_base_models_per_type': 5, 'save_bag_folds': True, 'use_child_oof': True}</td>\n",
              "      <td>{}</td>\n",
              "      <td>{'max_memory_usage_ratio': 1.0, 'max_time_limit_ratio': 1.0, 'max_time_limit': None, 'min_time_limit': 0, 'ignored_type_group_special': None, 'ignored_type_group_raw': None, 'get_features_kwargs': None, 'get_features_kwargs_extra': None, 'drop_unique': False}</td>\n",
              "      <td>[obama say, georg, rate, legend, KNeighborsUnif_BAG_L1_1, homeland, carolina, show, rubio, deficit, deal, poll, last line, post, michel, hurrican, week, technolog, reagan, south, associ, governor, hous, worker, new jersey, hillari, gop, energi, medicar, pelosi, countri, joe, gener, virginia, jersey, rep, san, cb, politifact republican, member, unit state, john mccain, fals, sarah, presid donald, secur, nearli, student, abc news, accid, obamacar, divers, crime, use, claim, ted, ethic, berni, articl barack, angel, berni sander, car, urban, campaign, crimin, daili report, mccain, averag, flor...</td>\n",
              "      <td>{'n_estimators': 300, 'n_jobs': -1, 'random_state': 0, 'bootstrap': True, 'criterion': 'gini'}</td>\n",
              "      <td>{'n_estimators': 300}</td>\n",
              "      <td>{'max_memory_usage_ratio': 1.0, 'max_time_limit_ratio': 1.0, 'max_time_limit': None, 'min_time_limit': 0, 'ignored_type_group_special': None, 'ignored_type_group_raw': ['object'], 'get_features_kwargs': None, 'get_features_kwargs_extra': None}</td>\n",
              "      <td>[KNeighborsDist_BAG_L1, KNeighborsUnif_BAG_L1, LightGBMXT_BAG_L1, LightGBM_BAG_L1]</td>\n",
              "      <td>[]</td>\n",
              "    </tr>\n",
              "    <tr>\n",
              "      <th>3</th>\n",
              "      <td>LightGBMXT_BAG_L1</td>\n",
              "      <td>0.940176</td>\n",
              "      <td>2.194332</td>\n",
              "      <td>237.414990</td>\n",
              "      <td>2.194332</td>\n",
              "      <td>237.414990</td>\n",
              "      <td>1</td>\n",
              "      <td>True</td>\n",
              "      <td>3</td>\n",
              "      <td>542</td>\n",
              "      <td>10</td>\n",
              "      <td>10</td>\n",
              "      <td>33287899</td>\n",
              "      <td>33287899</td>\n",
              "      <td>4663180</td>\n",
              "      <td>4663180</td>\n",
              "      <td>0</td>\n",
              "      <td>6</td>\n",
              "      <td>StackerEnsembleModel</td>\n",
              "      <td>LGBModel</td>\n",
              "      <td>{'use_orig_features': True, 'max_base_models': 25, 'max_base_models_per_type': 5, 'save_bag_folds': True}</td>\n",
              "      <td>{}</td>\n",
              "      <td>{'max_memory_usage_ratio': 1.0, 'max_time_limit_ratio': 1.0, 'max_time_limit': None, 'min_time_limit': 0, 'ignored_type_group_special': None, 'ignored_type_group_raw': None, 'get_features_kwargs': None, 'get_features_kwargs_extra': None, 'drop_unique': False}</td>\n",
              "      <td>[obama say, georg, rate, legend, homeland, carolina, show, rubio, deficit, deal, poll, last line, post, michel, hurrican, week, technolog, reagan, south, associ, governor, hous, worker, new jersey, hillari, gop, energi, medicar, pelosi, countri, joe, gener, virginia, jersey, rep, san, cb, politifact republican, member, unit state, john mccain, fals, sarah, presid donald, secur, nearli, student, abc news, accid, obamacar, divers, crime, use, claim, ted, ethic, berni, articl barack, angel, berni sander, car, urban, campaign, crimin, daili report, mccain, averag, florida, elect, news site, re...</td>\n",
              "      <td>{'num_boost_round': 10000, 'num_threads': -1, 'learning_rate': 0.05, 'objective': 'multiclass', 'verbose': -1, 'boosting_type': 'gbdt', 'two_round': True, 'extra_trees': True}</td>\n",
              "      <td>{'num_boost_round': 311}</td>\n",
              "      <td>{'max_memory_usage_ratio': 1.0, 'max_time_limit_ratio': 1.0, 'max_time_limit': None, 'min_time_limit': 0, 'ignored_type_group_special': None, 'ignored_type_group_raw': ['object'], 'get_features_kwargs': None, 'get_features_kwargs_extra': None}</td>\n",
              "      <td>[]</td>\n",
              "      <td>[LightGBM_BAG_L2, WeightedEnsemble_L2, WeightedEnsemble_L3, RandomForestEntr_BAG_L2, RandomForestGini_BAG_L2, LightGBMXT_BAG_L2]</td>\n",
              "    </tr>\n",
              "    <tr>\n",
              "      <th>4</th>\n",
              "      <td>WeightedEnsemble_L2</td>\n",
              "      <td>0.940176</td>\n",
              "      <td>2.196604</td>\n",
              "      <td>238.868694</td>\n",
              "      <td>0.002273</td>\n",
              "      <td>1.453705</td>\n",
              "      <td>2</td>\n",
              "      <td>True</td>\n",
              "      <td>5</td>\n",
              "      <td>3</td>\n",
              "      <td>1</td>\n",
              "      <td>11</td>\n",
              "      <td>3521</td>\n",
              "      <td>33291420</td>\n",
              "      <td>3521</td>\n",
              "      <td>4663180</td>\n",
              "      <td>1</td>\n",
              "      <td>0</td>\n",
              "      <td>WeightedEnsembleModel</td>\n",
              "      <td>GreedyWeightedEnsembleModel</td>\n",
              "      <td>{'use_orig_features': False, 'max_base_models': 25, 'max_base_models_per_type': 5, 'save_bag_folds': True}</td>\n",
              "      <td>{}</td>\n",
              "      <td>{'max_memory_usage_ratio': 1.0, 'max_time_limit_ratio': 1.0, 'max_time_limit': None, 'min_time_limit': 0, 'ignored_type_group_special': None, 'ignored_type_group_raw': None, 'get_features_kwargs': None, 'get_features_kwargs_extra': None, 'drop_unique': False}</td>\n",
              "      <td>[LightGBMXT_BAG_L1_1, LightGBMXT_BAG_L1_0, LightGBMXT_BAG_L1_2]</td>\n",
              "      <td>{'ensemble_size': 100}</td>\n",
              "      <td>{'ensemble_size': 1}</td>\n",
              "      <td>{'max_memory_usage_ratio': 1.0, 'max_time_limit_ratio': 1.0, 'max_time_limit': None, 'min_time_limit': 0, 'ignored_type_group_special': None, 'ignored_type_group_raw': None, 'get_features_kwargs': None, 'get_features_kwargs_extra': None, 'drop_unique': False}</td>\n",
              "      <td>[LightGBMXT_BAG_L1]</td>\n",
              "      <td>[]</td>\n",
              "    </tr>\n",
              "    <tr>\n",
              "      <th>5</th>\n",
              "      <td>RandomForestEntr_BAG_L2</td>\n",
              "      <td>0.940059</td>\n",
              "      <td>83.787466</td>\n",
              "      <td>302.163008</td>\n",
              "      <td>1.825088</td>\n",
              "      <td>7.175319</td>\n",
              "      <td>2</td>\n",
              "      <td>True</td>\n",
              "      <td>9</td>\n",
              "      <td>554</td>\n",
              "      <td>1</td>\n",
              "      <td>23</td>\n",
              "      <td>19202296</td>\n",
              "      <td>130432115</td>\n",
              "      <td>19202296</td>\n",
              "      <td>35724555</td>\n",
              "      <td>4</td>\n",
              "      <td>0</td>\n",
              "      <td>StackerEnsembleModel</td>\n",
              "      <td>RFModel</td>\n",
              "      <td>{'use_orig_features': True, 'max_base_models': 25, 'max_base_models_per_type': 5, 'save_bag_folds': True, 'use_child_oof': True}</td>\n",
              "      <td>{}</td>\n",
              "      <td>{'max_memory_usage_ratio': 1.0, 'max_time_limit_ratio': 1.0, 'max_time_limit': None, 'min_time_limit': 0, 'ignored_type_group_special': None, 'ignored_type_group_raw': None, 'get_features_kwargs': None, 'get_features_kwargs_extra': None, 'drop_unique': False}</td>\n",
              "      <td>[obama say, georg, rate, legend, KNeighborsUnif_BAG_L1_1, homeland, carolina, show, rubio, deficit, deal, poll, last line, post, michel, hurrican, week, technolog, reagan, south, associ, governor, hous, worker, new jersey, hillari, gop, energi, medicar, pelosi, countri, joe, gener, virginia, jersey, rep, san, cb, politifact republican, member, unit state, john mccain, fals, sarah, presid donald, secur, nearli, student, abc news, accid, obamacar, divers, crime, use, claim, ted, ethic, berni, articl barack, angel, berni sander, car, urban, campaign, crimin, daili report, mccain, averag, flor...</td>\n",
              "      <td>{'n_estimators': 300, 'n_jobs': -1, 'random_state': 0, 'bootstrap': True, 'criterion': 'entropy'}</td>\n",
              "      <td>{'n_estimators': 113}</td>\n",
              "      <td>{'max_memory_usage_ratio': 1.0, 'max_time_limit_ratio': 1.0, 'max_time_limit': None, 'min_time_limit': 0, 'ignored_type_group_special': None, 'ignored_type_group_raw': ['object'], 'get_features_kwargs': None, 'get_features_kwargs_extra': None}</td>\n",
              "      <td>[KNeighborsDist_BAG_L1, KNeighborsUnif_BAG_L1, LightGBMXT_BAG_L1, LightGBM_BAG_L1]</td>\n",
              "      <td>[]</td>\n",
              "    </tr>\n",
              "    <tr>\n",
              "      <th>6</th>\n",
              "      <td>LightGBMXT_BAG_L2</td>\n",
              "      <td>0.939706</td>\n",
              "      <td>82.346288</td>\n",
              "      <td>367.726307</td>\n",
              "      <td>0.383911</td>\n",
              "      <td>72.738618</td>\n",
              "      <td>2</td>\n",
              "      <td>True</td>\n",
              "      <td>6</td>\n",
              "      <td>554</td>\n",
              "      <td>10</td>\n",
              "      <td>32</td>\n",
              "      <td>4862303</td>\n",
              "      <td>116092122</td>\n",
              "      <td>940093</td>\n",
              "      <td>35724555</td>\n",
              "      <td>4</td>\n",
              "      <td>0</td>\n",
              "      <td>StackerEnsembleModel</td>\n",
              "      <td>LGBModel</td>\n",
              "      <td>{'use_orig_features': True, 'max_base_models': 25, 'max_base_models_per_type': 5, 'save_bag_folds': True}</td>\n",
              "      <td>{}</td>\n",
              "      <td>{'max_memory_usage_ratio': 1.0, 'max_time_limit_ratio': 1.0, 'max_time_limit': None, 'min_time_limit': 0, 'ignored_type_group_special': None, 'ignored_type_group_raw': None, 'get_features_kwargs': None, 'get_features_kwargs_extra': None, 'drop_unique': False}</td>\n",
              "      <td>[obama say, georg, rate, legend, KNeighborsUnif_BAG_L1_1, homeland, carolina, show, rubio, deficit, deal, poll, last line, post, michel, hurrican, week, technolog, reagan, south, associ, governor, hous, worker, new jersey, hillari, gop, energi, medicar, pelosi, countri, joe, gener, virginia, jersey, rep, san, cb, politifact republican, member, unit state, john mccain, fals, sarah, presid donald, secur, nearli, student, abc news, accid, obamacar, divers, crime, use, claim, ted, ethic, berni, articl barack, angel, berni sander, car, urban, campaign, crimin, daili report, mccain, averag, flor...</td>\n",
              "      <td>{'num_boost_round': 10000, 'num_threads': -1, 'learning_rate': 0.05, 'objective': 'multiclass', 'verbose': -1, 'boosting_type': 'gbdt', 'two_round': True, 'extra_trees': True}</td>\n",
              "      <td>{'num_boost_round': 43}</td>\n",
              "      <td>{'max_memory_usage_ratio': 1.0, 'max_time_limit_ratio': 1.0, 'max_time_limit': None, 'min_time_limit': 0, 'ignored_type_group_special': None, 'ignored_type_group_raw': ['object'], 'get_features_kwargs': None, 'get_features_kwargs_extra': None}</td>\n",
              "      <td>[KNeighborsDist_BAG_L1, KNeighborsUnif_BAG_L1, LightGBMXT_BAG_L1, LightGBM_BAG_L1]</td>\n",
              "      <td>[]</td>\n",
              "    </tr>\n",
              "    <tr>\n",
              "      <th>7</th>\n",
              "      <td>LightGBM_BAG_L1</td>\n",
              "      <td>0.915941</td>\n",
              "      <td>0.417368</td>\n",
              "      <td>56.349082</td>\n",
              "      <td>0.417368</td>\n",
              "      <td>56.349082</td>\n",
              "      <td>1</td>\n",
              "      <td>True</td>\n",
              "      <td>4</td>\n",
              "      <td>542</td>\n",
              "      <td>10</td>\n",
              "      <td>10</td>\n",
              "      <td>6492811</td>\n",
              "      <td>6492811</td>\n",
              "      <td>883796</td>\n",
              "      <td>883796</td>\n",
              "      <td>0</td>\n",
              "      <td>5</td>\n",
              "      <td>StackerEnsembleModel</td>\n",
              "      <td>LGBModel</td>\n",
              "      <td>{'use_orig_features': True, 'max_base_models': 25, 'max_base_models_per_type': 5, 'save_bag_folds': True}</td>\n",
              "      <td>{}</td>\n",
              "      <td>{'max_memory_usage_ratio': 1.0, 'max_time_limit_ratio': 1.0, 'max_time_limit': None, 'min_time_limit': 0, 'ignored_type_group_special': None, 'ignored_type_group_raw': None, 'get_features_kwargs': None, 'get_features_kwargs_extra': None, 'drop_unique': False}</td>\n",
              "      <td>[obama say, georg, rate, legend, homeland, carolina, show, rubio, deficit, deal, poll, last line, post, michel, hurrican, week, technolog, reagan, south, associ, governor, hous, worker, new jersey, hillari, gop, energi, medicar, pelosi, countri, joe, gener, virginia, jersey, rep, san, cb, politifact republican, member, unit state, john mccain, fals, sarah, presid donald, secur, nearli, student, abc news, accid, obamacar, divers, crime, use, claim, ted, ethic, berni, articl barack, angel, berni sander, car, urban, campaign, crimin, daili report, mccain, averag, florida, elect, news site, re...</td>\n",
              "      <td>{'num_boost_round': 10000, 'num_threads': -1, 'learning_rate': 0.05, 'objective': 'multiclass', 'verbose': -1, 'boosting_type': 'gbdt', 'two_round': True}</td>\n",
              "      <td>{'num_boost_round': 58}</td>\n",
              "      <td>{'max_memory_usage_ratio': 1.0, 'max_time_limit_ratio': 1.0, 'max_time_limit': None, 'min_time_limit': 0, 'ignored_type_group_special': None, 'ignored_type_group_raw': ['object'], 'get_features_kwargs': None, 'get_features_kwargs_extra': None}</td>\n",
              "      <td>[]</td>\n",
              "      <td>[LightGBM_BAG_L2, WeightedEnsemble_L3, RandomForestEntr_BAG_L2, RandomForestGini_BAG_L2, LightGBMXT_BAG_L2]</td>\n",
              "    </tr>\n",
              "    <tr>\n",
              "      <th>8</th>\n",
              "      <td>KNeighborsDist_BAG_L1</td>\n",
              "      <td>0.701765</td>\n",
              "      <td>40.356526</td>\n",
              "      <td>0.848886</td>\n",
              "      <td>40.356526</td>\n",
              "      <td>0.848886</td>\n",
              "      <td>1</td>\n",
              "      <td>True</td>\n",
              "      <td>2</td>\n",
              "      <td>523</td>\n",
              "      <td>1</td>\n",
              "      <td>1</td>\n",
              "      <td>35724555</td>\n",
              "      <td>35724555</td>\n",
              "      <td>35724555</td>\n",
              "      <td>35724555</td>\n",
              "      <td>0</td>\n",
              "      <td>5</td>\n",
              "      <td>StackerEnsembleModel</td>\n",
              "      <td>KNNModel</td>\n",
              "      <td>{'use_orig_features': True, 'max_base_models': 25, 'max_base_models_per_type': 5, 'save_bag_folds': True, 'use_child_oof': True}</td>\n",
              "      <td>{}</td>\n",
              "      <td>{'max_memory_usage_ratio': 1.0, 'max_time_limit_ratio': 1.0, 'max_time_limit': None, 'min_time_limit': 0, 'ignored_type_group_special': None, 'ignored_type_group_raw': None, 'get_features_kwargs': None, 'get_features_kwargs_extra': None, 'drop_unique': False}</td>\n",
              "      <td>[obama say, georg, rate, legend, homeland, carolina, show, rubio, deficit, deal, poll, last line, post, michel, hurrican, week, technolog, reagan, south, associ, governor, hous, worker, new jersey, hillari, gop, energi, medicar, pelosi, countri, joe, gener, virginia, jersey, rep, san, cb, politifact republican, member, unit state, john mccain, fals, sarah, presid donald, secur, nearli, student, abc news, accid, obamacar, divers, crime, use, claim, ted, ethic, berni, articl barack, angel, berni sander, car, urban, campaign, crimin, daili report, mccain, averag, florida, elect, news site, re...</td>\n",
              "      <td>{'weights': 'distance', 'n_jobs': -1}</td>\n",
              "      <td>{}</td>\n",
              "      <td>{'max_memory_usage_ratio': 1.0, 'max_time_limit_ratio': 1.0, 'max_time_limit': None, 'min_time_limit': 0, 'ignored_type_group_special': ['bool', 'text_ngram', 'text_special', 'datetime_as_int'], 'ignored_type_group_raw': ['bool', 'category', 'object'], 'get_features_kwargs': None, 'get_features_kwargs_extra': None}</td>\n",
              "      <td>[]</td>\n",
              "      <td>[LightGBM_BAG_L2, WeightedEnsemble_L3, RandomForestEntr_BAG_L2, RandomForestGini_BAG_L2, LightGBMXT_BAG_L2]</td>\n",
              "    </tr>\n",
              "    <tr>\n",
              "      <th>9</th>\n",
              "      <td>KNeighborsUnif_BAG_L1</td>\n",
              "      <td>0.695059</td>\n",
              "      <td>38.994151</td>\n",
              "      <td>0.374732</td>\n",
              "      <td>38.994151</td>\n",
              "      <td>0.374732</td>\n",
              "      <td>1</td>\n",
              "      <td>True</td>\n",
              "      <td>1</td>\n",
              "      <td>523</td>\n",
              "      <td>1</td>\n",
              "      <td>1</td>\n",
              "      <td>35724554</td>\n",
              "      <td>35724554</td>\n",
              "      <td>35724554</td>\n",
              "      <td>35724554</td>\n",
              "      <td>0</td>\n",
              "      <td>5</td>\n",
              "      <td>StackerEnsembleModel</td>\n",
              "      <td>KNNModel</td>\n",
              "      <td>{'use_orig_features': True, 'max_base_models': 25, 'max_base_models_per_type': 5, 'save_bag_folds': True, 'use_child_oof': True}</td>\n",
              "      <td>{}</td>\n",
              "      <td>{'max_memory_usage_ratio': 1.0, 'max_time_limit_ratio': 1.0, 'max_time_limit': None, 'min_time_limit': 0, 'ignored_type_group_special': None, 'ignored_type_group_raw': None, 'get_features_kwargs': None, 'get_features_kwargs_extra': None, 'drop_unique': False}</td>\n",
              "      <td>[obama say, georg, rate, legend, homeland, carolina, show, rubio, deficit, deal, poll, last line, post, michel, hurrican, week, technolog, reagan, south, associ, governor, hous, worker, new jersey, hillari, gop, energi, medicar, pelosi, countri, joe, gener, virginia, jersey, rep, san, cb, politifact republican, member, unit state, john mccain, fals, sarah, presid donald, secur, nearli, student, abc news, accid, obamacar, divers, crime, use, claim, ted, ethic, berni, articl barack, angel, berni sander, car, urban, campaign, crimin, daili report, mccain, averag, florida, elect, news site, re...</td>\n",
              "      <td>{'weights': 'uniform', 'n_jobs': -1}</td>\n",
              "      <td>{}</td>\n",
              "      <td>{'max_memory_usage_ratio': 1.0, 'max_time_limit_ratio': 1.0, 'max_time_limit': None, 'min_time_limit': 0, 'ignored_type_group_special': ['bool', 'text_ngram', 'text_special', 'datetime_as_int'], 'ignored_type_group_raw': ['bool', 'category', 'object'], 'get_features_kwargs': None, 'get_features_kwargs_extra': None}</td>\n",
              "      <td>[]</td>\n",
              "      <td>[LightGBM_BAG_L2, WeightedEnsemble_L3, RandomForestEntr_BAG_L2, RandomForestGini_BAG_L2, LightGBMXT_BAG_L2]</td>\n",
              "    </tr>\n",
              "  </tbody>\n",
              "</table>\n",
              "</div>\n",
              "      <button class=\"colab-df-convert\" onclick=\"convertToInteractive('df-7f14ce4f-075f-4c5e-a5be-a1232e5dc97b')\"\n",
              "              title=\"Convert this dataframe to an interactive table.\"\n",
              "              style=\"display:none;\">\n",
              "        \n",
              "  <svg xmlns=\"http://www.w3.org/2000/svg\" height=\"24px\"viewBox=\"0 0 24 24\"\n",
              "       width=\"24px\">\n",
              "    <path d=\"M0 0h24v24H0V0z\" fill=\"none\"/>\n",
              "    <path d=\"M18.56 5.44l.94 2.06.94-2.06 2.06-.94-2.06-.94-.94-2.06-.94 2.06-2.06.94zm-11 1L8.5 8.5l.94-2.06 2.06-.94-2.06-.94L8.5 2.5l-.94 2.06-2.06.94zm10 10l.94 2.06.94-2.06 2.06-.94-2.06-.94-.94-2.06-.94 2.06-2.06.94z\"/><path d=\"M17.41 7.96l-1.37-1.37c-.4-.4-.92-.59-1.43-.59-.52 0-1.04.2-1.43.59L10.3 9.45l-7.72 7.72c-.78.78-.78 2.05 0 2.83L4 21.41c.39.39.9.59 1.41.59.51 0 1.02-.2 1.41-.59l7.78-7.78 2.81-2.81c.8-.78.8-2.07 0-2.86zM5.41 20L4 18.59l7.72-7.72 1.47 1.35L5.41 20z\"/>\n",
              "  </svg>\n",
              "      </button>\n",
              "      \n",
              "  <style>\n",
              "    .colab-df-container {\n",
              "      display:flex;\n",
              "      flex-wrap:wrap;\n",
              "      gap: 12px;\n",
              "    }\n",
              "\n",
              "    .colab-df-convert {\n",
              "      background-color: #E8F0FE;\n",
              "      border: none;\n",
              "      border-radius: 50%;\n",
              "      cursor: pointer;\n",
              "      display: none;\n",
              "      fill: #1967D2;\n",
              "      height: 32px;\n",
              "      padding: 0 0 0 0;\n",
              "      width: 32px;\n",
              "    }\n",
              "\n",
              "    .colab-df-convert:hover {\n",
              "      background-color: #E2EBFA;\n",
              "      box-shadow: 0px 1px 2px rgba(60, 64, 67, 0.3), 0px 1px 3px 1px rgba(60, 64, 67, 0.15);\n",
              "      fill: #174EA6;\n",
              "    }\n",
              "\n",
              "    [theme=dark] .colab-df-convert {\n",
              "      background-color: #3B4455;\n",
              "      fill: #D2E3FC;\n",
              "    }\n",
              "\n",
              "    [theme=dark] .colab-df-convert:hover {\n",
              "      background-color: #434B5C;\n",
              "      box-shadow: 0px 1px 3px 1px rgba(0, 0, 0, 0.15);\n",
              "      filter: drop-shadow(0px 1px 2px rgba(0, 0, 0, 0.3));\n",
              "      fill: #FFFFFF;\n",
              "    }\n",
              "  </style>\n",
              "\n",
              "      <script>\n",
              "        const buttonEl =\n",
              "          document.querySelector('#df-7f14ce4f-075f-4c5e-a5be-a1232e5dc97b button.colab-df-convert');\n",
              "        buttonEl.style.display =\n",
              "          google.colab.kernel.accessAllowed ? 'block' : 'none';\n",
              "\n",
              "        async function convertToInteractive(key) {\n",
              "          const element = document.querySelector('#df-7f14ce4f-075f-4c5e-a5be-a1232e5dc97b');\n",
              "          const dataTable =\n",
              "            await google.colab.kernel.invokeFunction('convertToInteractive',\n",
              "                                                     [key], {});\n",
              "          if (!dataTable) return;\n",
              "\n",
              "          const docLinkHtml = 'Like what you see? Visit the ' +\n",
              "            '<a target=\"_blank\" href=https://colab.research.google.com/notebooks/data_table.ipynb>data table notebook</a>'\n",
              "            + ' to learn more about interactive tables.';\n",
              "          element.innerHTML = '';\n",
              "          dataTable['output_type'] = 'display_data';\n",
              "          await google.colab.output.renderOutput(dataTable, element);\n",
              "          const docLink = document.createElement('div');\n",
              "          docLink.innerHTML = docLinkHtml;\n",
              "          element.appendChild(docLink);\n",
              "        }\n",
              "      </script>\n",
              "    </div>\n",
              "  </div>\n",
              "  "
            ],
            "text/plain": [
              "                     model  ...                                                                                                                       descendants\n",
              "0          LightGBM_BAG_L2  ...                                                                                                             [WeightedEnsemble_L3]\n",
              "1      WeightedEnsemble_L3  ...                                                                                                                                []\n",
              "2  RandomForestGini_BAG_L2  ...                                                                                                                                []\n",
              "3        LightGBMXT_BAG_L1  ...  [LightGBM_BAG_L2, WeightedEnsemble_L2, WeightedEnsemble_L3, RandomForestEntr_BAG_L2, RandomForestGini_BAG_L2, LightGBMXT_BAG_L2]\n",
              "4      WeightedEnsemble_L2  ...                                                                                                                                []\n",
              "5  RandomForestEntr_BAG_L2  ...                                                                                                                                []\n",
              "6        LightGBMXT_BAG_L2  ...                                                                                                                                []\n",
              "7          LightGBM_BAG_L1  ...                       [LightGBM_BAG_L2, WeightedEnsemble_L3, RandomForestEntr_BAG_L2, RandomForestGini_BAG_L2, LightGBMXT_BAG_L2]\n",
              "8    KNeighborsDist_BAG_L1  ...                       [LightGBM_BAG_L2, WeightedEnsemble_L3, RandomForestEntr_BAG_L2, RandomForestGini_BAG_L2, LightGBMXT_BAG_L2]\n",
              "9    KNeighborsUnif_BAG_L1  ...                       [LightGBM_BAG_L2, WeightedEnsemble_L3, RandomForestEntr_BAG_L2, RandomForestGini_BAG_L2, LightGBMXT_BAG_L2]\n",
              "\n",
              "[10 rows x 29 columns]"
            ]
          },
          "metadata": {},
          "execution_count": 72
        }
      ],
      "source": [
        "#The predictor leaderboard that is produced using the data previously reserved for validation inside fit, and can display extra information about each model:\n",
        "predictor.leaderboard(extra_info=True, silent=True) "
      ]
    },
    {
      "cell_type": "code",
      "execution_count": null,
      "metadata": {
        "id": "VdCDKUPFoVEX"
      },
      "outputs": [],
      "source": [
        "print(\"Predictor features: \")\n",
        "predictor.features()"
      ]
    },
    {
      "cell_type": "markdown",
      "metadata": {
        "id": "wWHtG33voVEX"
      },
      "source": [
        "## Getting predictions from TabularPredictor"
      ]
    },
    {
      "cell_type": "code",
      "execution_count": null,
      "metadata": {
        "id": "rP6rtp_FoVEY"
      },
      "outputs": [],
      "source": [
        "response = predictor.predict(X_test)\n",
        "test_target = X_test['target_labels']"
      ]
    },
    {
      "cell_type": "code",
      "execution_count": null,
      "metadata": {
        "colab": {
          "base_uri": "https://localhost:8080/"
        },
        "id": "Dylo4jt0oVEY",
        "outputId": "2dd9f03b-de7a-4226-ceab-e546069cb070"
      },
      "outputs": [
        {
          "output_type": "stream",
          "name": "stdout",
          "text": [
            "response:\n",
            "  17000    2\n",
            "17001    1\n",
            "17002    1\n",
            "17003    2\n",
            "17004    1\n",
            "        ..\n",
            "24411    3\n",
            "24412    1\n",
            "24413    2\n",
            "24414    3\n",
            "24415    2\n",
            "Name: target_labels, Length: 7416, dtype: int64\n",
            "target:\n",
            " 17000    1\n",
            "17001    1\n",
            "17002    1\n",
            "17003    2\n",
            "17004    1\n",
            "        ..\n",
            "24411    3\n",
            "24412    1\n",
            "24413    2\n",
            "24414    3\n",
            "24415    2\n",
            "Name: target_labels, Length: 7416, dtype: int64\n"
          ]
        }
      ],
      "source": [
        "print(\"response:\\n \",response)\n",
        "print(\"target:\\n\",test_target)"
      ]
    },
    {
      "cell_type": "markdown",
      "metadata": {
        "id": "n3gAwL4hoVEY"
      },
      "source": [
        "## Evaluate the Autogluon predictor"
      ]
    },
    {
      "cell_type": "code",
      "execution_count": null,
      "metadata": {
        "colab": {
          "base_uri": "https://localhost:8080/"
        },
        "id": "mTyjiz2joVEY",
        "outputId": "8c939438-7743-41bd-a9b9-b1a059b7a3c4"
      },
      "outputs": [
        {
          "output_type": "stream",
          "name": "stderr",
          "text": [
            "Evaluation: accuracy on test data: 0.9366235167206041\n",
            "Evaluations on test data:\n",
            "{\n",
            "    \"accuracy\": 0.9366235167206041,\n",
            "    \"balanced_accuracy\": 0.9119741626299435,\n",
            "    \"mcc\": 0.8995357772578306\n",
            "}\n"
          ]
        },
        {
          "output_type": "execute_result",
          "data": {
            "text/plain": [
              "{'accuracy': 0.9366235167206041,\n",
              " 'balanced_accuracy': 0.9119741626299435,\n",
              " 'mcc': 0.8995357772578306}"
            ]
          },
          "metadata": {},
          "execution_count": 61
        }
      ],
      "source": [
        "predictor.evaluate(X_test)"
      ]
    },
    {
      "cell_type": "code",
      "execution_count": null,
      "metadata": {
        "colab": {
          "base_uri": "https://localhost:8080/",
          "height": 35
        },
        "id": "GQV957IBoVEZ",
        "outputId": "79513ef9-93ef-4fea-b38b-4fc55f5174e5"
      },
      "outputs": [
        {
          "output_type": "execute_result",
          "data": {
            "application/vnd.google.colaboratory.intrinsic+json": {
              "type": "string"
            },
            "text/plain": [
              "'LightGBM_BAG_L2'"
            ]
          },
          "metadata": {},
          "execution_count": 63
        }
      ],
      "source": [
        "predictor.get_model_best()"
      ]
    },
    {
      "cell_type": "markdown",
      "metadata": {
        "id": "K22R9pcfoVEZ"
      },
      "source": [
        "# Results:\n",
        "\n",
        "We can observe that the LightGBM_BAG_L2 model (that implements Ensemble Selection) is trained in the stack level 2 can predict our data at the best. A model with “_L2” suffix is a not base model, meaning it depends on other models.\n",
        "This best model is an Stacker Ensemble Model using 10 models (view details in the predictor leadership) to distributed gradient boosting and classify the data based on decision tree algorithms. The best model's balanced accuracy is about 91%, however we could predict on the test data using  \n"
      ]
    }
  ],
  "metadata": {
    "colab": {
      "collapsed_sections": [
        "W_-NzcEy_eQs",
        "t8v063BAQREW",
        "SiP0IDczSN7Y",
        "d3b7KipGcu9L",
        "XSlkzh2OtNMK",
        "-oOUI6N6LhzZ",
        "gR9Sr6yYPWV-",
        "L29MnyS9lHqz",
        "Jv_FbCQUlNHj",
        "7pNW60culrJw",
        "ozQXoDbnmIk_",
        "6SCTwmqMLXQF",
        "p7V2V4WcyeNy",
        "YyOLDRhbzKgD",
        "UgCkNnht0XCN",
        "g2RIW29Kw5pd"
      ],
      "name": "ClaimsKG.ipynb",
      "provenance": [],
      "include_colab_link": true
    },
    "kernelspec": {
      "display_name": "Python 3",
      "name": "python3"
    },
    "language_info": {
      "name": "python"
    },
    "widgets": {
      "application/vnd.jupyter.widget-state+json": {
        "47b5117dc15848d8b8aafd29360ec597": {
          "model_module": "@jupyter-widgets/controls",
          "model_name": "HBoxModel",
          "model_module_version": "1.5.0",
          "state": {
            "_view_name": "HBoxView",
            "_dom_classes": [],
            "_model_name": "HBoxModel",
            "_view_module": "@jupyter-widgets/controls",
            "_model_module_version": "1.5.0",
            "_view_count": null,
            "_view_module_version": "1.5.0",
            "box_style": "",
            "layout": "IPY_MODEL_9dd803917c854242ae9a1dd0e9c7f240",
            "_model_module": "@jupyter-widgets/controls",
            "children": [
              "IPY_MODEL_c8d0e56055904657a40787ebe0c08e0d",
              "IPY_MODEL_550a04c8847347ef8ba9b9658416da7b",
              "IPY_MODEL_04c253a1c7ec4264a46072a46a652bb2"
            ]
          }
        },
        "9dd803917c854242ae9a1dd0e9c7f240": {
          "model_module": "@jupyter-widgets/base",
          "model_name": "LayoutModel",
          "model_module_version": "1.2.0",
          "state": {
            "_view_name": "LayoutView",
            "grid_template_rows": null,
            "right": null,
            "justify_content": null,
            "_view_module": "@jupyter-widgets/base",
            "overflow": null,
            "_model_module_version": "1.2.0",
            "_view_count": null,
            "flex_flow": null,
            "width": null,
            "min_width": null,
            "border": null,
            "align_items": null,
            "bottom": null,
            "_model_module": "@jupyter-widgets/base",
            "top": null,
            "grid_column": null,
            "overflow_y": null,
            "overflow_x": null,
            "grid_auto_flow": null,
            "grid_area": null,
            "grid_template_columns": null,
            "flex": null,
            "_model_name": "LayoutModel",
            "justify_items": null,
            "grid_row": null,
            "max_height": null,
            "align_content": null,
            "visibility": null,
            "align_self": null,
            "height": null,
            "min_height": null,
            "padding": null,
            "grid_auto_rows": null,
            "grid_gap": null,
            "max_width": null,
            "order": null,
            "_view_module_version": "1.2.0",
            "grid_template_areas": null,
            "object_position": null,
            "object_fit": null,
            "grid_auto_columns": null,
            "margin": null,
            "display": null,
            "left": null
          }
        },
        "c8d0e56055904657a40787ebe0c08e0d": {
          "model_module": "@jupyter-widgets/controls",
          "model_name": "HTMLModel",
          "model_module_version": "1.5.0",
          "state": {
            "_view_name": "HTMLView",
            "style": "IPY_MODEL_63b36022d6544715aa91928e219f71af",
            "_dom_classes": [],
            "description": "",
            "_model_name": "HTMLModel",
            "placeholder": "​",
            "_view_module": "@jupyter-widgets/controls",
            "_model_module_version": "1.5.0",
            "value": "Downloading: 100%",
            "_view_count": null,
            "_view_module_version": "1.5.0",
            "description_tooltip": null,
            "_model_module": "@jupyter-widgets/controls",
            "layout": "IPY_MODEL_5eb85b6123a24e2693b3e606a85d5673"
          }
        },
        "550a04c8847347ef8ba9b9658416da7b": {
          "model_module": "@jupyter-widgets/controls",
          "model_name": "FloatProgressModel",
          "model_module_version": "1.5.0",
          "state": {
            "_view_name": "ProgressView",
            "style": "IPY_MODEL_bbe62b82ff084e6ba88fb61fad82b420",
            "_dom_classes": [],
            "description": "",
            "_model_name": "FloatProgressModel",
            "bar_style": "success",
            "max": 1175,
            "_view_module": "@jupyter-widgets/controls",
            "_model_module_version": "1.5.0",
            "value": 1175,
            "_view_count": null,
            "_view_module_version": "1.5.0",
            "orientation": "horizontal",
            "min": 0,
            "description_tooltip": null,
            "_model_module": "@jupyter-widgets/controls",
            "layout": "IPY_MODEL_358769ff78124b70b9f85a62249a839a"
          }
        },
        "04c253a1c7ec4264a46072a46a652bb2": {
          "model_module": "@jupyter-widgets/controls",
          "model_name": "HTMLModel",
          "model_module_version": "1.5.0",
          "state": {
            "_view_name": "HTMLView",
            "style": "IPY_MODEL_91abee3d0331473a8c6289b7620f1cb9",
            "_dom_classes": [],
            "description": "",
            "_model_name": "HTMLModel",
            "placeholder": "​",
            "_view_module": "@jupyter-widgets/controls",
            "_model_module_version": "1.5.0",
            "value": " 1.18k/1.18k [00:00&lt;00:00, 27.9kB/s]",
            "_view_count": null,
            "_view_module_version": "1.5.0",
            "description_tooltip": null,
            "_model_module": "@jupyter-widgets/controls",
            "layout": "IPY_MODEL_2c334b392581497e8ea143acbd62f4bb"
          }
        },
        "63b36022d6544715aa91928e219f71af": {
          "model_module": "@jupyter-widgets/controls",
          "model_name": "DescriptionStyleModel",
          "model_module_version": "1.5.0",
          "state": {
            "_view_name": "StyleView",
            "_model_name": "DescriptionStyleModel",
            "description_width": "",
            "_view_module": "@jupyter-widgets/base",
            "_model_module_version": "1.5.0",
            "_view_count": null,
            "_view_module_version": "1.2.0",
            "_model_module": "@jupyter-widgets/controls"
          }
        },
        "5eb85b6123a24e2693b3e606a85d5673": {
          "model_module": "@jupyter-widgets/base",
          "model_name": "LayoutModel",
          "model_module_version": "1.2.0",
          "state": {
            "_view_name": "LayoutView",
            "grid_template_rows": null,
            "right": null,
            "justify_content": null,
            "_view_module": "@jupyter-widgets/base",
            "overflow": null,
            "_model_module_version": "1.2.0",
            "_view_count": null,
            "flex_flow": null,
            "width": null,
            "min_width": null,
            "border": null,
            "align_items": null,
            "bottom": null,
            "_model_module": "@jupyter-widgets/base",
            "top": null,
            "grid_column": null,
            "overflow_y": null,
            "overflow_x": null,
            "grid_auto_flow": null,
            "grid_area": null,
            "grid_template_columns": null,
            "flex": null,
            "_model_name": "LayoutModel",
            "justify_items": null,
            "grid_row": null,
            "max_height": null,
            "align_content": null,
            "visibility": null,
            "align_self": null,
            "height": null,
            "min_height": null,
            "padding": null,
            "grid_auto_rows": null,
            "grid_gap": null,
            "max_width": null,
            "order": null,
            "_view_module_version": "1.2.0",
            "grid_template_areas": null,
            "object_position": null,
            "object_fit": null,
            "grid_auto_columns": null,
            "margin": null,
            "display": null,
            "left": null
          }
        },
        "bbe62b82ff084e6ba88fb61fad82b420": {
          "model_module": "@jupyter-widgets/controls",
          "model_name": "ProgressStyleModel",
          "model_module_version": "1.5.0",
          "state": {
            "_view_name": "StyleView",
            "_model_name": "ProgressStyleModel",
            "description_width": "",
            "_view_module": "@jupyter-widgets/base",
            "_model_module_version": "1.5.0",
            "_view_count": null,
            "_view_module_version": "1.2.0",
            "bar_color": null,
            "_model_module": "@jupyter-widgets/controls"
          }
        },
        "358769ff78124b70b9f85a62249a839a": {
          "model_module": "@jupyter-widgets/base",
          "model_name": "LayoutModel",
          "model_module_version": "1.2.0",
          "state": {
            "_view_name": "LayoutView",
            "grid_template_rows": null,
            "right": null,
            "justify_content": null,
            "_view_module": "@jupyter-widgets/base",
            "overflow": null,
            "_model_module_version": "1.2.0",
            "_view_count": null,
            "flex_flow": null,
            "width": null,
            "min_width": null,
            "border": null,
            "align_items": null,
            "bottom": null,
            "_model_module": "@jupyter-widgets/base",
            "top": null,
            "grid_column": null,
            "overflow_y": null,
            "overflow_x": null,
            "grid_auto_flow": null,
            "grid_area": null,
            "grid_template_columns": null,
            "flex": null,
            "_model_name": "LayoutModel",
            "justify_items": null,
            "grid_row": null,
            "max_height": null,
            "align_content": null,
            "visibility": null,
            "align_self": null,
            "height": null,
            "min_height": null,
            "padding": null,
            "grid_auto_rows": null,
            "grid_gap": null,
            "max_width": null,
            "order": null,
            "_view_module_version": "1.2.0",
            "grid_template_areas": null,
            "object_position": null,
            "object_fit": null,
            "grid_auto_columns": null,
            "margin": null,
            "display": null,
            "left": null
          }
        },
        "91abee3d0331473a8c6289b7620f1cb9": {
          "model_module": "@jupyter-widgets/controls",
          "model_name": "DescriptionStyleModel",
          "model_module_version": "1.5.0",
          "state": {
            "_view_name": "StyleView",
            "_model_name": "DescriptionStyleModel",
            "description_width": "",
            "_view_module": "@jupyter-widgets/base",
            "_model_module_version": "1.5.0",
            "_view_count": null,
            "_view_module_version": "1.2.0",
            "_model_module": "@jupyter-widgets/controls"
          }
        },
        "2c334b392581497e8ea143acbd62f4bb": {
          "model_module": "@jupyter-widgets/base",
          "model_name": "LayoutModel",
          "model_module_version": "1.2.0",
          "state": {
            "_view_name": "LayoutView",
            "grid_template_rows": null,
            "right": null,
            "justify_content": null,
            "_view_module": "@jupyter-widgets/base",
            "overflow": null,
            "_model_module_version": "1.2.0",
            "_view_count": null,
            "flex_flow": null,
            "width": null,
            "min_width": null,
            "border": null,
            "align_items": null,
            "bottom": null,
            "_model_module": "@jupyter-widgets/base",
            "top": null,
            "grid_column": null,
            "overflow_y": null,
            "overflow_x": null,
            "grid_auto_flow": null,
            "grid_area": null,
            "grid_template_columns": null,
            "flex": null,
            "_model_name": "LayoutModel",
            "justify_items": null,
            "grid_row": null,
            "max_height": null,
            "align_content": null,
            "visibility": null,
            "align_self": null,
            "height": null,
            "min_height": null,
            "padding": null,
            "grid_auto_rows": null,
            "grid_gap": null,
            "max_width": null,
            "order": null,
            "_view_module_version": "1.2.0",
            "grid_template_areas": null,
            "object_position": null,
            "object_fit": null,
            "grid_auto_columns": null,
            "margin": null,
            "display": null,
            "left": null
          }
        },
        "a694c9261b244fd3af0652460a571680": {
          "model_module": "@jupyter-widgets/controls",
          "model_name": "HBoxModel",
          "model_module_version": "1.5.0",
          "state": {
            "_view_name": "HBoxView",
            "_dom_classes": [],
            "_model_name": "HBoxModel",
            "_view_module": "@jupyter-widgets/controls",
            "_model_module_version": "1.5.0",
            "_view_count": null,
            "_view_module_version": "1.5.0",
            "box_style": "",
            "layout": "IPY_MODEL_2b94be82883d440fa33945910fddec70",
            "_model_module": "@jupyter-widgets/controls",
            "children": [
              "IPY_MODEL_065ab6aef36b48f98326713736a52b87",
              "IPY_MODEL_9bd1d9aeb6a349fda5901629c8d0c175",
              "IPY_MODEL_3c968f19a6244d4a9f8ad04b80530c95"
            ]
          }
        },
        "2b94be82883d440fa33945910fddec70": {
          "model_module": "@jupyter-widgets/base",
          "model_name": "LayoutModel",
          "model_module_version": "1.2.0",
          "state": {
            "_view_name": "LayoutView",
            "grid_template_rows": null,
            "right": null,
            "justify_content": null,
            "_view_module": "@jupyter-widgets/base",
            "overflow": null,
            "_model_module_version": "1.2.0",
            "_view_count": null,
            "flex_flow": null,
            "width": null,
            "min_width": null,
            "border": null,
            "align_items": null,
            "bottom": null,
            "_model_module": "@jupyter-widgets/base",
            "top": null,
            "grid_column": null,
            "overflow_y": null,
            "overflow_x": null,
            "grid_auto_flow": null,
            "grid_area": null,
            "grid_template_columns": null,
            "flex": null,
            "_model_name": "LayoutModel",
            "justify_items": null,
            "grid_row": null,
            "max_height": null,
            "align_content": null,
            "visibility": null,
            "align_self": null,
            "height": null,
            "min_height": null,
            "padding": null,
            "grid_auto_rows": null,
            "grid_gap": null,
            "max_width": null,
            "order": null,
            "_view_module_version": "1.2.0",
            "grid_template_areas": null,
            "object_position": null,
            "object_fit": null,
            "grid_auto_columns": null,
            "margin": null,
            "display": null,
            "left": null
          }
        },
        "065ab6aef36b48f98326713736a52b87": {
          "model_module": "@jupyter-widgets/controls",
          "model_name": "HTMLModel",
          "model_module_version": "1.5.0",
          "state": {
            "_view_name": "HTMLView",
            "style": "IPY_MODEL_f4fa5b870ae74be596862be69a76d7fa",
            "_dom_classes": [],
            "description": "",
            "_model_name": "HTMLModel",
            "placeholder": "​",
            "_view_module": "@jupyter-widgets/controls",
            "_model_module_version": "1.5.0",
            "value": "Downloading: 100%",
            "_view_count": null,
            "_view_module_version": "1.5.0",
            "description_tooltip": null,
            "_model_module": "@jupyter-widgets/controls",
            "layout": "IPY_MODEL_13494482579e48e0a4535fce21c1cfbd"
          }
        },
        "9bd1d9aeb6a349fda5901629c8d0c175": {
          "model_module": "@jupyter-widgets/controls",
          "model_name": "FloatProgressModel",
          "model_module_version": "1.5.0",
          "state": {
            "_view_name": "ProgressView",
            "style": "IPY_MODEL_553d22dbd6a047a1b608c8af7d6911bf",
            "_dom_classes": [],
            "description": "",
            "_model_name": "FloatProgressModel",
            "bar_style": "success",
            "max": 10177,
            "_view_module": "@jupyter-widgets/controls",
            "_model_module_version": "1.5.0",
            "value": 10177,
            "_view_count": null,
            "_view_module_version": "1.5.0",
            "orientation": "horizontal",
            "min": 0,
            "description_tooltip": null,
            "_model_module": "@jupyter-widgets/controls",
            "layout": "IPY_MODEL_f0aad234327b45fe8d0f45e89763aff5"
          }
        },
        "3c968f19a6244d4a9f8ad04b80530c95": {
          "model_module": "@jupyter-widgets/controls",
          "model_name": "HTMLModel",
          "model_module_version": "1.5.0",
          "state": {
            "_view_name": "HTMLView",
            "style": "IPY_MODEL_c16c6477d1814cd7b5571a7b1a34b8ff",
            "_dom_classes": [],
            "description": "",
            "_model_name": "HTMLModel",
            "placeholder": "​",
            "_view_module": "@jupyter-widgets/controls",
            "_model_module_version": "1.5.0",
            "value": " 10.2k/10.2k [00:00&lt;00:00, 274kB/s]",
            "_view_count": null,
            "_view_module_version": "1.5.0",
            "description_tooltip": null,
            "_model_module": "@jupyter-widgets/controls",
            "layout": "IPY_MODEL_af96a1f73aaf45ccbcea14f4d655850b"
          }
        },
        "f4fa5b870ae74be596862be69a76d7fa": {
          "model_module": "@jupyter-widgets/controls",
          "model_name": "DescriptionStyleModel",
          "model_module_version": "1.5.0",
          "state": {
            "_view_name": "StyleView",
            "_model_name": "DescriptionStyleModel",
            "description_width": "",
            "_view_module": "@jupyter-widgets/base",
            "_model_module_version": "1.5.0",
            "_view_count": null,
            "_view_module_version": "1.2.0",
            "_model_module": "@jupyter-widgets/controls"
          }
        },
        "13494482579e48e0a4535fce21c1cfbd": {
          "model_module": "@jupyter-widgets/base",
          "model_name": "LayoutModel",
          "model_module_version": "1.2.0",
          "state": {
            "_view_name": "LayoutView",
            "grid_template_rows": null,
            "right": null,
            "justify_content": null,
            "_view_module": "@jupyter-widgets/base",
            "overflow": null,
            "_model_module_version": "1.2.0",
            "_view_count": null,
            "flex_flow": null,
            "width": null,
            "min_width": null,
            "border": null,
            "align_items": null,
            "bottom": null,
            "_model_module": "@jupyter-widgets/base",
            "top": null,
            "grid_column": null,
            "overflow_y": null,
            "overflow_x": null,
            "grid_auto_flow": null,
            "grid_area": null,
            "grid_template_columns": null,
            "flex": null,
            "_model_name": "LayoutModel",
            "justify_items": null,
            "grid_row": null,
            "max_height": null,
            "align_content": null,
            "visibility": null,
            "align_self": null,
            "height": null,
            "min_height": null,
            "padding": null,
            "grid_auto_rows": null,
            "grid_gap": null,
            "max_width": null,
            "order": null,
            "_view_module_version": "1.2.0",
            "grid_template_areas": null,
            "object_position": null,
            "object_fit": null,
            "grid_auto_columns": null,
            "margin": null,
            "display": null,
            "left": null
          }
        },
        "553d22dbd6a047a1b608c8af7d6911bf": {
          "model_module": "@jupyter-widgets/controls",
          "model_name": "ProgressStyleModel",
          "model_module_version": "1.5.0",
          "state": {
            "_view_name": "StyleView",
            "_model_name": "ProgressStyleModel",
            "description_width": "",
            "_view_module": "@jupyter-widgets/base",
            "_model_module_version": "1.5.0",
            "_view_count": null,
            "_view_module_version": "1.2.0",
            "bar_color": null,
            "_model_module": "@jupyter-widgets/controls"
          }
        },
        "f0aad234327b45fe8d0f45e89763aff5": {
          "model_module": "@jupyter-widgets/base",
          "model_name": "LayoutModel",
          "model_module_version": "1.2.0",
          "state": {
            "_view_name": "LayoutView",
            "grid_template_rows": null,
            "right": null,
            "justify_content": null,
            "_view_module": "@jupyter-widgets/base",
            "overflow": null,
            "_model_module_version": "1.2.0",
            "_view_count": null,
            "flex_flow": null,
            "width": null,
            "min_width": null,
            "border": null,
            "align_items": null,
            "bottom": null,
            "_model_module": "@jupyter-widgets/base",
            "top": null,
            "grid_column": null,
            "overflow_y": null,
            "overflow_x": null,
            "grid_auto_flow": null,
            "grid_area": null,
            "grid_template_columns": null,
            "flex": null,
            "_model_name": "LayoutModel",
            "justify_items": null,
            "grid_row": null,
            "max_height": null,
            "align_content": null,
            "visibility": null,
            "align_self": null,
            "height": null,
            "min_height": null,
            "padding": null,
            "grid_auto_rows": null,
            "grid_gap": null,
            "max_width": null,
            "order": null,
            "_view_module_version": "1.2.0",
            "grid_template_areas": null,
            "object_position": null,
            "object_fit": null,
            "grid_auto_columns": null,
            "margin": null,
            "display": null,
            "left": null
          }
        },
        "c16c6477d1814cd7b5571a7b1a34b8ff": {
          "model_module": "@jupyter-widgets/controls",
          "model_name": "DescriptionStyleModel",
          "model_module_version": "1.5.0",
          "state": {
            "_view_name": "StyleView",
            "_model_name": "DescriptionStyleModel",
            "description_width": "",
            "_view_module": "@jupyter-widgets/base",
            "_model_module_version": "1.5.0",
            "_view_count": null,
            "_view_module_version": "1.2.0",
            "_model_module": "@jupyter-widgets/controls"
          }
        },
        "af96a1f73aaf45ccbcea14f4d655850b": {
          "model_module": "@jupyter-widgets/base",
          "model_name": "LayoutModel",
          "model_module_version": "1.2.0",
          "state": {
            "_view_name": "LayoutView",
            "grid_template_rows": null,
            "right": null,
            "justify_content": null,
            "_view_module": "@jupyter-widgets/base",
            "overflow": null,
            "_model_module_version": "1.2.0",
            "_view_count": null,
            "flex_flow": null,
            "width": null,
            "min_width": null,
            "border": null,
            "align_items": null,
            "bottom": null,
            "_model_module": "@jupyter-widgets/base",
            "top": null,
            "grid_column": null,
            "overflow_y": null,
            "overflow_x": null,
            "grid_auto_flow": null,
            "grid_area": null,
            "grid_template_columns": null,
            "flex": null,
            "_model_name": "LayoutModel",
            "justify_items": null,
            "grid_row": null,
            "max_height": null,
            "align_content": null,
            "visibility": null,
            "align_self": null,
            "height": null,
            "min_height": null,
            "padding": null,
            "grid_auto_rows": null,
            "grid_gap": null,
            "max_width": null,
            "order": null,
            "_view_module_version": "1.2.0",
            "grid_template_areas": null,
            "object_position": null,
            "object_fit": null,
            "grid_auto_columns": null,
            "margin": null,
            "display": null,
            "left": null
          }
        },
        "281eb36b581848dca0c599505767431c": {
          "model_module": "@jupyter-widgets/controls",
          "model_name": "HBoxModel",
          "model_module_version": "1.5.0",
          "state": {
            "_view_name": "HBoxView",
            "_dom_classes": [],
            "_model_name": "HBoxModel",
            "_view_module": "@jupyter-widgets/controls",
            "_model_module_version": "1.5.0",
            "_view_count": null,
            "_view_module_version": "1.5.0",
            "box_style": "",
            "layout": "IPY_MODEL_4fdba151ba924fb2b02381e3e058a5c0",
            "_model_module": "@jupyter-widgets/controls",
            "children": [
              "IPY_MODEL_b45f4261d7a94eb986c74ef1be8ab88d",
              "IPY_MODEL_ca043dd48c1d40599516053ff77be0e3",
              "IPY_MODEL_f0c42279f61c452080c063e7cf63f3bd"
            ]
          }
        },
        "4fdba151ba924fb2b02381e3e058a5c0": {
          "model_module": "@jupyter-widgets/base",
          "model_name": "LayoutModel",
          "model_module_version": "1.2.0",
          "state": {
            "_view_name": "LayoutView",
            "grid_template_rows": null,
            "right": null,
            "justify_content": null,
            "_view_module": "@jupyter-widgets/base",
            "overflow": null,
            "_model_module_version": "1.2.0",
            "_view_count": null,
            "flex_flow": null,
            "width": null,
            "min_width": null,
            "border": null,
            "align_items": null,
            "bottom": null,
            "_model_module": "@jupyter-widgets/base",
            "top": null,
            "grid_column": null,
            "overflow_y": null,
            "overflow_x": null,
            "grid_auto_flow": null,
            "grid_area": null,
            "grid_template_columns": null,
            "flex": null,
            "_model_name": "LayoutModel",
            "justify_items": null,
            "grid_row": null,
            "max_height": null,
            "align_content": null,
            "visibility": null,
            "align_self": null,
            "height": null,
            "min_height": null,
            "padding": null,
            "grid_auto_rows": null,
            "grid_gap": null,
            "max_width": null,
            "order": null,
            "_view_module_version": "1.2.0",
            "grid_template_areas": null,
            "object_position": null,
            "object_fit": null,
            "grid_auto_columns": null,
            "margin": null,
            "display": null,
            "left": null
          }
        },
        "b45f4261d7a94eb986c74ef1be8ab88d": {
          "model_module": "@jupyter-widgets/controls",
          "model_name": "HTMLModel",
          "model_module_version": "1.5.0",
          "state": {
            "_view_name": "HTMLView",
            "style": "IPY_MODEL_1d18d7d799ad4c359a5cf0c707dc5186",
            "_dom_classes": [],
            "description": "",
            "_model_name": "HTMLModel",
            "placeholder": "​",
            "_view_module": "@jupyter-widgets/controls",
            "_model_module_version": "1.5.0",
            "value": "Downloading: 100%",
            "_view_count": null,
            "_view_module_version": "1.5.0",
            "description_tooltip": null,
            "_model_module": "@jupyter-widgets/controls",
            "layout": "IPY_MODEL_f54050a3398f479aaee23a132f78cd90"
          }
        },
        "ca043dd48c1d40599516053ff77be0e3": {
          "model_module": "@jupyter-widgets/controls",
          "model_name": "FloatProgressModel",
          "model_module_version": "1.5.0",
          "state": {
            "_view_name": "ProgressView",
            "style": "IPY_MODEL_1ebacabdb7914dfbab527bb5aba9556c",
            "_dom_classes": [],
            "description": "",
            "_model_name": "FloatProgressModel",
            "bar_style": "success",
            "max": 612,
            "_view_module": "@jupyter-widgets/controls",
            "_model_module_version": "1.5.0",
            "value": 612,
            "_view_count": null,
            "_view_module_version": "1.5.0",
            "orientation": "horizontal",
            "min": 0,
            "description_tooltip": null,
            "_model_module": "@jupyter-widgets/controls",
            "layout": "IPY_MODEL_36391c2cc0e94f3e9e01d96fe585bfc1"
          }
        },
        "f0c42279f61c452080c063e7cf63f3bd": {
          "model_module": "@jupyter-widgets/controls",
          "model_name": "HTMLModel",
          "model_module_version": "1.5.0",
          "state": {
            "_view_name": "HTMLView",
            "style": "IPY_MODEL_04fb9428dc814b99b4c5bbde1e3555f4",
            "_dom_classes": [],
            "description": "",
            "_model_name": "HTMLModel",
            "placeholder": "​",
            "_view_module": "@jupyter-widgets/controls",
            "_model_module_version": "1.5.0",
            "value": " 612/612 [00:00&lt;00:00, 14.8kB/s]",
            "_view_count": null,
            "_view_module_version": "1.5.0",
            "description_tooltip": null,
            "_model_module": "@jupyter-widgets/controls",
            "layout": "IPY_MODEL_cb825965ec784bb2a0b62ba8449f3835"
          }
        },
        "1d18d7d799ad4c359a5cf0c707dc5186": {
          "model_module": "@jupyter-widgets/controls",
          "model_name": "DescriptionStyleModel",
          "model_module_version": "1.5.0",
          "state": {
            "_view_name": "StyleView",
            "_model_name": "DescriptionStyleModel",
            "description_width": "",
            "_view_module": "@jupyter-widgets/base",
            "_model_module_version": "1.5.0",
            "_view_count": null,
            "_view_module_version": "1.2.0",
            "_model_module": "@jupyter-widgets/controls"
          }
        },
        "f54050a3398f479aaee23a132f78cd90": {
          "model_module": "@jupyter-widgets/base",
          "model_name": "LayoutModel",
          "model_module_version": "1.2.0",
          "state": {
            "_view_name": "LayoutView",
            "grid_template_rows": null,
            "right": null,
            "justify_content": null,
            "_view_module": "@jupyter-widgets/base",
            "overflow": null,
            "_model_module_version": "1.2.0",
            "_view_count": null,
            "flex_flow": null,
            "width": null,
            "min_width": null,
            "border": null,
            "align_items": null,
            "bottom": null,
            "_model_module": "@jupyter-widgets/base",
            "top": null,
            "grid_column": null,
            "overflow_y": null,
            "overflow_x": null,
            "grid_auto_flow": null,
            "grid_area": null,
            "grid_template_columns": null,
            "flex": null,
            "_model_name": "LayoutModel",
            "justify_items": null,
            "grid_row": null,
            "max_height": null,
            "align_content": null,
            "visibility": null,
            "align_self": null,
            "height": null,
            "min_height": null,
            "padding": null,
            "grid_auto_rows": null,
            "grid_gap": null,
            "max_width": null,
            "order": null,
            "_view_module_version": "1.2.0",
            "grid_template_areas": null,
            "object_position": null,
            "object_fit": null,
            "grid_auto_columns": null,
            "margin": null,
            "display": null,
            "left": null
          }
        },
        "1ebacabdb7914dfbab527bb5aba9556c": {
          "model_module": "@jupyter-widgets/controls",
          "model_name": "ProgressStyleModel",
          "model_module_version": "1.5.0",
          "state": {
            "_view_name": "StyleView",
            "_model_name": "ProgressStyleModel",
            "description_width": "",
            "_view_module": "@jupyter-widgets/base",
            "_model_module_version": "1.5.0",
            "_view_count": null,
            "_view_module_version": "1.2.0",
            "bar_color": null,
            "_model_module": "@jupyter-widgets/controls"
          }
        },
        "36391c2cc0e94f3e9e01d96fe585bfc1": {
          "model_module": "@jupyter-widgets/base",
          "model_name": "LayoutModel",
          "model_module_version": "1.2.0",
          "state": {
            "_view_name": "LayoutView",
            "grid_template_rows": null,
            "right": null,
            "justify_content": null,
            "_view_module": "@jupyter-widgets/base",
            "overflow": null,
            "_model_module_version": "1.2.0",
            "_view_count": null,
            "flex_flow": null,
            "width": null,
            "min_width": null,
            "border": null,
            "align_items": null,
            "bottom": null,
            "_model_module": "@jupyter-widgets/base",
            "top": null,
            "grid_column": null,
            "overflow_y": null,
            "overflow_x": null,
            "grid_auto_flow": null,
            "grid_area": null,
            "grid_template_columns": null,
            "flex": null,
            "_model_name": "LayoutModel",
            "justify_items": null,
            "grid_row": null,
            "max_height": null,
            "align_content": null,
            "visibility": null,
            "align_self": null,
            "height": null,
            "min_height": null,
            "padding": null,
            "grid_auto_rows": null,
            "grid_gap": null,
            "max_width": null,
            "order": null,
            "_view_module_version": "1.2.0",
            "grid_template_areas": null,
            "object_position": null,
            "object_fit": null,
            "grid_auto_columns": null,
            "margin": null,
            "display": null,
            "left": null
          }
        },
        "04fb9428dc814b99b4c5bbde1e3555f4": {
          "model_module": "@jupyter-widgets/controls",
          "model_name": "DescriptionStyleModel",
          "model_module_version": "1.5.0",
          "state": {
            "_view_name": "StyleView",
            "_model_name": "DescriptionStyleModel",
            "description_width": "",
            "_view_module": "@jupyter-widgets/base",
            "_model_module_version": "1.5.0",
            "_view_count": null,
            "_view_module_version": "1.2.0",
            "_model_module": "@jupyter-widgets/controls"
          }
        },
        "cb825965ec784bb2a0b62ba8449f3835": {
          "model_module": "@jupyter-widgets/base",
          "model_name": "LayoutModel",
          "model_module_version": "1.2.0",
          "state": {
            "_view_name": "LayoutView",
            "grid_template_rows": null,
            "right": null,
            "justify_content": null,
            "_view_module": "@jupyter-widgets/base",
            "overflow": null,
            "_model_module_version": "1.2.0",
            "_view_count": null,
            "flex_flow": null,
            "width": null,
            "min_width": null,
            "border": null,
            "align_items": null,
            "bottom": null,
            "_model_module": "@jupyter-widgets/base",
            "top": null,
            "grid_column": null,
            "overflow_y": null,
            "overflow_x": null,
            "grid_auto_flow": null,
            "grid_area": null,
            "grid_template_columns": null,
            "flex": null,
            "_model_name": "LayoutModel",
            "justify_items": null,
            "grid_row": null,
            "max_height": null,
            "align_content": null,
            "visibility": null,
            "align_self": null,
            "height": null,
            "min_height": null,
            "padding": null,
            "grid_auto_rows": null,
            "grid_gap": null,
            "max_width": null,
            "order": null,
            "_view_module_version": "1.2.0",
            "grid_template_areas": null,
            "object_position": null,
            "object_fit": null,
            "grid_auto_columns": null,
            "margin": null,
            "display": null,
            "left": null
          }
        },
        "d3277d49ee3641e18037bacac91e3846": {
          "model_module": "@jupyter-widgets/controls",
          "model_name": "HBoxModel",
          "model_module_version": "1.5.0",
          "state": {
            "_view_name": "HBoxView",
            "_dom_classes": [],
            "_model_name": "HBoxModel",
            "_view_module": "@jupyter-widgets/controls",
            "_model_module_version": "1.5.0",
            "_view_count": null,
            "_view_module_version": "1.5.0",
            "box_style": "",
            "layout": "IPY_MODEL_ab146eb2f90e4afc88dcf28926d73d1c",
            "_model_module": "@jupyter-widgets/controls",
            "children": [
              "IPY_MODEL_31d2a0d647114452ba92cf57aea8d749",
              "IPY_MODEL_fd6f0d96bf724a15a55533b506e18090",
              "IPY_MODEL_96a34ac9a0ec46e3a1b4af86ed41a201"
            ]
          }
        },
        "ab146eb2f90e4afc88dcf28926d73d1c": {
          "model_module": "@jupyter-widgets/base",
          "model_name": "LayoutModel",
          "model_module_version": "1.2.0",
          "state": {
            "_view_name": "LayoutView",
            "grid_template_rows": null,
            "right": null,
            "justify_content": null,
            "_view_module": "@jupyter-widgets/base",
            "overflow": null,
            "_model_module_version": "1.2.0",
            "_view_count": null,
            "flex_flow": null,
            "width": null,
            "min_width": null,
            "border": null,
            "align_items": null,
            "bottom": null,
            "_model_module": "@jupyter-widgets/base",
            "top": null,
            "grid_column": null,
            "overflow_y": null,
            "overflow_x": null,
            "grid_auto_flow": null,
            "grid_area": null,
            "grid_template_columns": null,
            "flex": null,
            "_model_name": "LayoutModel",
            "justify_items": null,
            "grid_row": null,
            "max_height": null,
            "align_content": null,
            "visibility": null,
            "align_self": null,
            "height": null,
            "min_height": null,
            "padding": null,
            "grid_auto_rows": null,
            "grid_gap": null,
            "max_width": null,
            "order": null,
            "_view_module_version": "1.2.0",
            "grid_template_areas": null,
            "object_position": null,
            "object_fit": null,
            "grid_auto_columns": null,
            "margin": null,
            "display": null,
            "left": null
          }
        },
        "31d2a0d647114452ba92cf57aea8d749": {
          "model_module": "@jupyter-widgets/controls",
          "model_name": "HTMLModel",
          "model_module_version": "1.5.0",
          "state": {
            "_view_name": "HTMLView",
            "style": "IPY_MODEL_0ccbc257386f4f77a6b91bdf6f500943",
            "_dom_classes": [],
            "description": "",
            "_model_name": "HTMLModel",
            "placeholder": "​",
            "_view_module": "@jupyter-widgets/controls",
            "_model_module_version": "1.5.0",
            "value": "Downloading: 100%",
            "_view_count": null,
            "_view_module_version": "1.5.0",
            "description_tooltip": null,
            "_model_module": "@jupyter-widgets/controls",
            "layout": "IPY_MODEL_b1a50d101c5340d3bea0b7bf2be642cb"
          }
        },
        "fd6f0d96bf724a15a55533b506e18090": {
          "model_module": "@jupyter-widgets/controls",
          "model_name": "FloatProgressModel",
          "model_module_version": "1.5.0",
          "state": {
            "_view_name": "ProgressView",
            "style": "IPY_MODEL_12ccb258012a45948cad35b6afb2d694",
            "_dom_classes": [],
            "description": "",
            "_model_name": "FloatProgressModel",
            "bar_style": "success",
            "max": 116,
            "_view_module": "@jupyter-widgets/controls",
            "_model_module_version": "1.5.0",
            "value": 116,
            "_view_count": null,
            "_view_module_version": "1.5.0",
            "orientation": "horizontal",
            "min": 0,
            "description_tooltip": null,
            "_model_module": "@jupyter-widgets/controls",
            "layout": "IPY_MODEL_00adfa3f2a414680a527b1c19511f39d"
          }
        },
        "96a34ac9a0ec46e3a1b4af86ed41a201": {
          "model_module": "@jupyter-widgets/controls",
          "model_name": "HTMLModel",
          "model_module_version": "1.5.0",
          "state": {
            "_view_name": "HTMLView",
            "style": "IPY_MODEL_de83fb5e48a14ad8812413783b82a32b",
            "_dom_classes": [],
            "description": "",
            "_model_name": "HTMLModel",
            "placeholder": "​",
            "_view_module": "@jupyter-widgets/controls",
            "_model_module_version": "1.5.0",
            "value": " 116/116 [00:00&lt;00:00, 2.24kB/s]",
            "_view_count": null,
            "_view_module_version": "1.5.0",
            "description_tooltip": null,
            "_model_module": "@jupyter-widgets/controls",
            "layout": "IPY_MODEL_3c64b1f747cf48aab8dc254b07a06e01"
          }
        },
        "0ccbc257386f4f77a6b91bdf6f500943": {
          "model_module": "@jupyter-widgets/controls",
          "model_name": "DescriptionStyleModel",
          "model_module_version": "1.5.0",
          "state": {
            "_view_name": "StyleView",
            "_model_name": "DescriptionStyleModel",
            "description_width": "",
            "_view_module": "@jupyter-widgets/base",
            "_model_module_version": "1.5.0",
            "_view_count": null,
            "_view_module_version": "1.2.0",
            "_model_module": "@jupyter-widgets/controls"
          }
        },
        "b1a50d101c5340d3bea0b7bf2be642cb": {
          "model_module": "@jupyter-widgets/base",
          "model_name": "LayoutModel",
          "model_module_version": "1.2.0",
          "state": {
            "_view_name": "LayoutView",
            "grid_template_rows": null,
            "right": null,
            "justify_content": null,
            "_view_module": "@jupyter-widgets/base",
            "overflow": null,
            "_model_module_version": "1.2.0",
            "_view_count": null,
            "flex_flow": null,
            "width": null,
            "min_width": null,
            "border": null,
            "align_items": null,
            "bottom": null,
            "_model_module": "@jupyter-widgets/base",
            "top": null,
            "grid_column": null,
            "overflow_y": null,
            "overflow_x": null,
            "grid_auto_flow": null,
            "grid_area": null,
            "grid_template_columns": null,
            "flex": null,
            "_model_name": "LayoutModel",
            "justify_items": null,
            "grid_row": null,
            "max_height": null,
            "align_content": null,
            "visibility": null,
            "align_self": null,
            "height": null,
            "min_height": null,
            "padding": null,
            "grid_auto_rows": null,
            "grid_gap": null,
            "max_width": null,
            "order": null,
            "_view_module_version": "1.2.0",
            "grid_template_areas": null,
            "object_position": null,
            "object_fit": null,
            "grid_auto_columns": null,
            "margin": null,
            "display": null,
            "left": null
          }
        },
        "12ccb258012a45948cad35b6afb2d694": {
          "model_module": "@jupyter-widgets/controls",
          "model_name": "ProgressStyleModel",
          "model_module_version": "1.5.0",
          "state": {
            "_view_name": "StyleView",
            "_model_name": "ProgressStyleModel",
            "description_width": "",
            "_view_module": "@jupyter-widgets/base",
            "_model_module_version": "1.5.0",
            "_view_count": null,
            "_view_module_version": "1.2.0",
            "bar_color": null,
            "_model_module": "@jupyter-widgets/controls"
          }
        },
        "00adfa3f2a414680a527b1c19511f39d": {
          "model_module": "@jupyter-widgets/base",
          "model_name": "LayoutModel",
          "model_module_version": "1.2.0",
          "state": {
            "_view_name": "LayoutView",
            "grid_template_rows": null,
            "right": null,
            "justify_content": null,
            "_view_module": "@jupyter-widgets/base",
            "overflow": null,
            "_model_module_version": "1.2.0",
            "_view_count": null,
            "flex_flow": null,
            "width": null,
            "min_width": null,
            "border": null,
            "align_items": null,
            "bottom": null,
            "_model_module": "@jupyter-widgets/base",
            "top": null,
            "grid_column": null,
            "overflow_y": null,
            "overflow_x": null,
            "grid_auto_flow": null,
            "grid_area": null,
            "grid_template_columns": null,
            "flex": null,
            "_model_name": "LayoutModel",
            "justify_items": null,
            "grid_row": null,
            "max_height": null,
            "align_content": null,
            "visibility": null,
            "align_self": null,
            "height": null,
            "min_height": null,
            "padding": null,
            "grid_auto_rows": null,
            "grid_gap": null,
            "max_width": null,
            "order": null,
            "_view_module_version": "1.2.0",
            "grid_template_areas": null,
            "object_position": null,
            "object_fit": null,
            "grid_auto_columns": null,
            "margin": null,
            "display": null,
            "left": null
          }
        },
        "de83fb5e48a14ad8812413783b82a32b": {
          "model_module": "@jupyter-widgets/controls",
          "model_name": "DescriptionStyleModel",
          "model_module_version": "1.5.0",
          "state": {
            "_view_name": "StyleView",
            "_model_name": "DescriptionStyleModel",
            "description_width": "",
            "_view_module": "@jupyter-widgets/base",
            "_model_module_version": "1.5.0",
            "_view_count": null,
            "_view_module_version": "1.2.0",
            "_model_module": "@jupyter-widgets/controls"
          }
        },
        "3c64b1f747cf48aab8dc254b07a06e01": {
          "model_module": "@jupyter-widgets/base",
          "model_name": "LayoutModel",
          "model_module_version": "1.2.0",
          "state": {
            "_view_name": "LayoutView",
            "grid_template_rows": null,
            "right": null,
            "justify_content": null,
            "_view_module": "@jupyter-widgets/base",
            "overflow": null,
            "_model_module_version": "1.2.0",
            "_view_count": null,
            "flex_flow": null,
            "width": null,
            "min_width": null,
            "border": null,
            "align_items": null,
            "bottom": null,
            "_model_module": "@jupyter-widgets/base",
            "top": null,
            "grid_column": null,
            "overflow_y": null,
            "overflow_x": null,
            "grid_auto_flow": null,
            "grid_area": null,
            "grid_template_columns": null,
            "flex": null,
            "_model_name": "LayoutModel",
            "justify_items": null,
            "grid_row": null,
            "max_height": null,
            "align_content": null,
            "visibility": null,
            "align_self": null,
            "height": null,
            "min_height": null,
            "padding": null,
            "grid_auto_rows": null,
            "grid_gap": null,
            "max_width": null,
            "order": null,
            "_view_module_version": "1.2.0",
            "grid_template_areas": null,
            "object_position": null,
            "object_fit": null,
            "grid_auto_columns": null,
            "margin": null,
            "display": null,
            "left": null
          }
        },
        "aa548e4e9def41c28e8dffccca57dfc5": {
          "model_module": "@jupyter-widgets/controls",
          "model_name": "HBoxModel",
          "model_module_version": "1.5.0",
          "state": {
            "_view_name": "HBoxView",
            "_dom_classes": [],
            "_model_name": "HBoxModel",
            "_view_module": "@jupyter-widgets/controls",
            "_model_module_version": "1.5.0",
            "_view_count": null,
            "_view_module_version": "1.5.0",
            "box_style": "",
            "layout": "IPY_MODEL_ae31540f9c7a479e8e61d60cc236df74",
            "_model_module": "@jupyter-widgets/controls",
            "children": [
              "IPY_MODEL_6102b4cd182e48bb8c97301028ebd3b9",
              "IPY_MODEL_a03ad5eca52849b09df5e42688641b5d",
              "IPY_MODEL_1e634f92ad554aa697bbaa96250d43c4"
            ]
          }
        },
        "ae31540f9c7a479e8e61d60cc236df74": {
          "model_module": "@jupyter-widgets/base",
          "model_name": "LayoutModel",
          "model_module_version": "1.2.0",
          "state": {
            "_view_name": "LayoutView",
            "grid_template_rows": null,
            "right": null,
            "justify_content": null,
            "_view_module": "@jupyter-widgets/base",
            "overflow": null,
            "_model_module_version": "1.2.0",
            "_view_count": null,
            "flex_flow": null,
            "width": null,
            "min_width": null,
            "border": null,
            "align_items": null,
            "bottom": null,
            "_model_module": "@jupyter-widgets/base",
            "top": null,
            "grid_column": null,
            "overflow_y": null,
            "overflow_x": null,
            "grid_auto_flow": null,
            "grid_area": null,
            "grid_template_columns": null,
            "flex": null,
            "_model_name": "LayoutModel",
            "justify_items": null,
            "grid_row": null,
            "max_height": null,
            "align_content": null,
            "visibility": null,
            "align_self": null,
            "height": null,
            "min_height": null,
            "padding": null,
            "grid_auto_rows": null,
            "grid_gap": null,
            "max_width": null,
            "order": null,
            "_view_module_version": "1.2.0",
            "grid_template_areas": null,
            "object_position": null,
            "object_fit": null,
            "grid_auto_columns": null,
            "margin": null,
            "display": null,
            "left": null
          }
        },
        "6102b4cd182e48bb8c97301028ebd3b9": {
          "model_module": "@jupyter-widgets/controls",
          "model_name": "HTMLModel",
          "model_module_version": "1.5.0",
          "state": {
            "_view_name": "HTMLView",
            "style": "IPY_MODEL_d0dc3c9e52b14338af248670ffc52787",
            "_dom_classes": [],
            "description": "",
            "_model_name": "HTMLModel",
            "placeholder": "​",
            "_view_module": "@jupyter-widgets/controls",
            "_model_module_version": "1.5.0",
            "value": "Downloading: 100%",
            "_view_count": null,
            "_view_module_version": "1.5.0",
            "description_tooltip": null,
            "_model_module": "@jupyter-widgets/controls",
            "layout": "IPY_MODEL_e9a9587aaeaa4847b00509c33b5c300e"
          }
        },
        "a03ad5eca52849b09df5e42688641b5d": {
          "model_module": "@jupyter-widgets/controls",
          "model_name": "FloatProgressModel",
          "model_module_version": "1.5.0",
          "state": {
            "_view_name": "ProgressView",
            "style": "IPY_MODEL_c3914dbe35984fcf96378641d0f6c9bc",
            "_dom_classes": [],
            "description": "",
            "_model_name": "FloatProgressModel",
            "bar_style": "success",
            "max": 39265,
            "_view_module": "@jupyter-widgets/controls",
            "_model_module_version": "1.5.0",
            "value": 39265,
            "_view_count": null,
            "_view_module_version": "1.5.0",
            "orientation": "horizontal",
            "min": 0,
            "description_tooltip": null,
            "_model_module": "@jupyter-widgets/controls",
            "layout": "IPY_MODEL_a5542a41f72b42b08ba814f288adfd27"
          }
        },
        "1e634f92ad554aa697bbaa96250d43c4": {
          "model_module": "@jupyter-widgets/controls",
          "model_name": "HTMLModel",
          "model_module_version": "1.5.0",
          "state": {
            "_view_name": "HTMLView",
            "style": "IPY_MODEL_c68b19b1857e4dc3afaa053b3b939225",
            "_dom_classes": [],
            "description": "",
            "_model_name": "HTMLModel",
            "placeholder": "​",
            "_view_module": "@jupyter-widgets/controls",
            "_model_module_version": "1.5.0",
            "value": " 39.3k/39.3k [00:00&lt;00:00, 22.8kB/s]",
            "_view_count": null,
            "_view_module_version": "1.5.0",
            "description_tooltip": null,
            "_model_module": "@jupyter-widgets/controls",
            "layout": "IPY_MODEL_331afcd91f71412b894946e27f2fd983"
          }
        },
        "d0dc3c9e52b14338af248670ffc52787": {
          "model_module": "@jupyter-widgets/controls",
          "model_name": "DescriptionStyleModel",
          "model_module_version": "1.5.0",
          "state": {
            "_view_name": "StyleView",
            "_model_name": "DescriptionStyleModel",
            "description_width": "",
            "_view_module": "@jupyter-widgets/base",
            "_model_module_version": "1.5.0",
            "_view_count": null,
            "_view_module_version": "1.2.0",
            "_model_module": "@jupyter-widgets/controls"
          }
        },
        "e9a9587aaeaa4847b00509c33b5c300e": {
          "model_module": "@jupyter-widgets/base",
          "model_name": "LayoutModel",
          "model_module_version": "1.2.0",
          "state": {
            "_view_name": "LayoutView",
            "grid_template_rows": null,
            "right": null,
            "justify_content": null,
            "_view_module": "@jupyter-widgets/base",
            "overflow": null,
            "_model_module_version": "1.2.0",
            "_view_count": null,
            "flex_flow": null,
            "width": null,
            "min_width": null,
            "border": null,
            "align_items": null,
            "bottom": null,
            "_model_module": "@jupyter-widgets/base",
            "top": null,
            "grid_column": null,
            "overflow_y": null,
            "overflow_x": null,
            "grid_auto_flow": null,
            "grid_area": null,
            "grid_template_columns": null,
            "flex": null,
            "_model_name": "LayoutModel",
            "justify_items": null,
            "grid_row": null,
            "max_height": null,
            "align_content": null,
            "visibility": null,
            "align_self": null,
            "height": null,
            "min_height": null,
            "padding": null,
            "grid_auto_rows": null,
            "grid_gap": null,
            "max_width": null,
            "order": null,
            "_view_module_version": "1.2.0",
            "grid_template_areas": null,
            "object_position": null,
            "object_fit": null,
            "grid_auto_columns": null,
            "margin": null,
            "display": null,
            "left": null
          }
        },
        "c3914dbe35984fcf96378641d0f6c9bc": {
          "model_module": "@jupyter-widgets/controls",
          "model_name": "ProgressStyleModel",
          "model_module_version": "1.5.0",
          "state": {
            "_view_name": "StyleView",
            "_model_name": "ProgressStyleModel",
            "description_width": "",
            "_view_module": "@jupyter-widgets/base",
            "_model_module_version": "1.5.0",
            "_view_count": null,
            "_view_module_version": "1.2.0",
            "bar_color": null,
            "_model_module": "@jupyter-widgets/controls"
          }
        },
        "a5542a41f72b42b08ba814f288adfd27": {
          "model_module": "@jupyter-widgets/base",
          "model_name": "LayoutModel",
          "model_module_version": "1.2.0",
          "state": {
            "_view_name": "LayoutView",
            "grid_template_rows": null,
            "right": null,
            "justify_content": null,
            "_view_module": "@jupyter-widgets/base",
            "overflow": null,
            "_model_module_version": "1.2.0",
            "_view_count": null,
            "flex_flow": null,
            "width": null,
            "min_width": null,
            "border": null,
            "align_items": null,
            "bottom": null,
            "_model_module": "@jupyter-widgets/base",
            "top": null,
            "grid_column": null,
            "overflow_y": null,
            "overflow_x": null,
            "grid_auto_flow": null,
            "grid_area": null,
            "grid_template_columns": null,
            "flex": null,
            "_model_name": "LayoutModel",
            "justify_items": null,
            "grid_row": null,
            "max_height": null,
            "align_content": null,
            "visibility": null,
            "align_self": null,
            "height": null,
            "min_height": null,
            "padding": null,
            "grid_auto_rows": null,
            "grid_gap": null,
            "max_width": null,
            "order": null,
            "_view_module_version": "1.2.0",
            "grid_template_areas": null,
            "object_position": null,
            "object_fit": null,
            "grid_auto_columns": null,
            "margin": null,
            "display": null,
            "left": null
          }
        },
        "c68b19b1857e4dc3afaa053b3b939225": {
          "model_module": "@jupyter-widgets/controls",
          "model_name": "DescriptionStyleModel",
          "model_module_version": "1.5.0",
          "state": {
            "_view_name": "StyleView",
            "_model_name": "DescriptionStyleModel",
            "description_width": "",
            "_view_module": "@jupyter-widgets/base",
            "_model_module_version": "1.5.0",
            "_view_count": null,
            "_view_module_version": "1.2.0",
            "_model_module": "@jupyter-widgets/controls"
          }
        },
        "331afcd91f71412b894946e27f2fd983": {
          "model_module": "@jupyter-widgets/base",
          "model_name": "LayoutModel",
          "model_module_version": "1.2.0",
          "state": {
            "_view_name": "LayoutView",
            "grid_template_rows": null,
            "right": null,
            "justify_content": null,
            "_view_module": "@jupyter-widgets/base",
            "overflow": null,
            "_model_module_version": "1.2.0",
            "_view_count": null,
            "flex_flow": null,
            "width": null,
            "min_width": null,
            "border": null,
            "align_items": null,
            "bottom": null,
            "_model_module": "@jupyter-widgets/base",
            "top": null,
            "grid_column": null,
            "overflow_y": null,
            "overflow_x": null,
            "grid_auto_flow": null,
            "grid_area": null,
            "grid_template_columns": null,
            "flex": null,
            "_model_name": "LayoutModel",
            "justify_items": null,
            "grid_row": null,
            "max_height": null,
            "align_content": null,
            "visibility": null,
            "align_self": null,
            "height": null,
            "min_height": null,
            "padding": null,
            "grid_auto_rows": null,
            "grid_gap": null,
            "max_width": null,
            "order": null,
            "_view_module_version": "1.2.0",
            "grid_template_areas": null,
            "object_position": null,
            "object_fit": null,
            "grid_auto_columns": null,
            "margin": null,
            "display": null,
            "left": null
          }
        },
        "b2fa1c76f11a4495a3b3b5169dbf7170": {
          "model_module": "@jupyter-widgets/controls",
          "model_name": "HBoxModel",
          "model_module_version": "1.5.0",
          "state": {
            "_view_name": "HBoxView",
            "_dom_classes": [],
            "_model_name": "HBoxModel",
            "_view_module": "@jupyter-widgets/controls",
            "_model_module_version": "1.5.0",
            "_view_count": null,
            "_view_module_version": "1.5.0",
            "box_style": "",
            "layout": "IPY_MODEL_97ca9a410701434383fa688143f7ffe6",
            "_model_module": "@jupyter-widgets/controls",
            "children": [
              "IPY_MODEL_1fae2c9c63354e93b373e91a81de706e",
              "IPY_MODEL_11f7c8e02e104580bbf0042dae7aaa08",
              "IPY_MODEL_39240bd0b29f48a6bf4830abac880c77"
            ]
          }
        },
        "97ca9a410701434383fa688143f7ffe6": {
          "model_module": "@jupyter-widgets/base",
          "model_name": "LayoutModel",
          "model_module_version": "1.2.0",
          "state": {
            "_view_name": "LayoutView",
            "grid_template_rows": null,
            "right": null,
            "justify_content": null,
            "_view_module": "@jupyter-widgets/base",
            "overflow": null,
            "_model_module_version": "1.2.0",
            "_view_count": null,
            "flex_flow": null,
            "width": null,
            "min_width": null,
            "border": null,
            "align_items": null,
            "bottom": null,
            "_model_module": "@jupyter-widgets/base",
            "top": null,
            "grid_column": null,
            "overflow_y": null,
            "overflow_x": null,
            "grid_auto_flow": null,
            "grid_area": null,
            "grid_template_columns": null,
            "flex": null,
            "_model_name": "LayoutModel",
            "justify_items": null,
            "grid_row": null,
            "max_height": null,
            "align_content": null,
            "visibility": null,
            "align_self": null,
            "height": null,
            "min_height": null,
            "padding": null,
            "grid_auto_rows": null,
            "grid_gap": null,
            "max_width": null,
            "order": null,
            "_view_module_version": "1.2.0",
            "grid_template_areas": null,
            "object_position": null,
            "object_fit": null,
            "grid_auto_columns": null,
            "margin": null,
            "display": null,
            "left": null
          }
        },
        "1fae2c9c63354e93b373e91a81de706e": {
          "model_module": "@jupyter-widgets/controls",
          "model_name": "HTMLModel",
          "model_module_version": "1.5.0",
          "state": {
            "_view_name": "HTMLView",
            "style": "IPY_MODEL_6edd4b03f2e84af1b622ab991a0b90de",
            "_dom_classes": [],
            "description": "",
            "_model_name": "HTMLModel",
            "placeholder": "​",
            "_view_module": "@jupyter-widgets/controls",
            "_model_module_version": "1.5.0",
            "value": "Downloading: 100%",
            "_view_count": null,
            "_view_module_version": "1.5.0",
            "description_tooltip": null,
            "_model_module": "@jupyter-widgets/controls",
            "layout": "IPY_MODEL_577fad78d3294d0da2896351377a0219"
          }
        },
        "11f7c8e02e104580bbf0042dae7aaa08": {
          "model_module": "@jupyter-widgets/controls",
          "model_name": "FloatProgressModel",
          "model_module_version": "1.5.0",
          "state": {
            "_view_name": "ProgressView",
            "style": "IPY_MODEL_ce0622780c6e424a8197cd8ee4b655f0",
            "_dom_classes": [],
            "description": "",
            "_model_name": "FloatProgressModel",
            "bar_style": "success",
            "max": 349,
            "_view_module": "@jupyter-widgets/controls",
            "_model_module_version": "1.5.0",
            "value": 349,
            "_view_count": null,
            "_view_module_version": "1.5.0",
            "orientation": "horizontal",
            "min": 0,
            "description_tooltip": null,
            "_model_module": "@jupyter-widgets/controls",
            "layout": "IPY_MODEL_aae5dd7eb61e4081bb47b04df6557a5c"
          }
        },
        "39240bd0b29f48a6bf4830abac880c77": {
          "model_module": "@jupyter-widgets/controls",
          "model_name": "HTMLModel",
          "model_module_version": "1.5.0",
          "state": {
            "_view_name": "HTMLView",
            "style": "IPY_MODEL_9e24244736504effac6930a93c4f45d8",
            "_dom_classes": [],
            "description": "",
            "_model_name": "HTMLModel",
            "placeholder": "​",
            "_view_module": "@jupyter-widgets/controls",
            "_model_module_version": "1.5.0",
            "value": " 349/349 [00:00&lt;00:00, 8.71kB/s]",
            "_view_count": null,
            "_view_module_version": "1.5.0",
            "description_tooltip": null,
            "_model_module": "@jupyter-widgets/controls",
            "layout": "IPY_MODEL_6a647cb9f92c4b5ea2b5f79ee816c9e7"
          }
        },
        "6edd4b03f2e84af1b622ab991a0b90de": {
          "model_module": "@jupyter-widgets/controls",
          "model_name": "DescriptionStyleModel",
          "model_module_version": "1.5.0",
          "state": {
            "_view_name": "StyleView",
            "_model_name": "DescriptionStyleModel",
            "description_width": "",
            "_view_module": "@jupyter-widgets/base",
            "_model_module_version": "1.5.0",
            "_view_count": null,
            "_view_module_version": "1.2.0",
            "_model_module": "@jupyter-widgets/controls"
          }
        },
        "577fad78d3294d0da2896351377a0219": {
          "model_module": "@jupyter-widgets/base",
          "model_name": "LayoutModel",
          "model_module_version": "1.2.0",
          "state": {
            "_view_name": "LayoutView",
            "grid_template_rows": null,
            "right": null,
            "justify_content": null,
            "_view_module": "@jupyter-widgets/base",
            "overflow": null,
            "_model_module_version": "1.2.0",
            "_view_count": null,
            "flex_flow": null,
            "width": null,
            "min_width": null,
            "border": null,
            "align_items": null,
            "bottom": null,
            "_model_module": "@jupyter-widgets/base",
            "top": null,
            "grid_column": null,
            "overflow_y": null,
            "overflow_x": null,
            "grid_auto_flow": null,
            "grid_area": null,
            "grid_template_columns": null,
            "flex": null,
            "_model_name": "LayoutModel",
            "justify_items": null,
            "grid_row": null,
            "max_height": null,
            "align_content": null,
            "visibility": null,
            "align_self": null,
            "height": null,
            "min_height": null,
            "padding": null,
            "grid_auto_rows": null,
            "grid_gap": null,
            "max_width": null,
            "order": null,
            "_view_module_version": "1.2.0",
            "grid_template_areas": null,
            "object_position": null,
            "object_fit": null,
            "grid_auto_columns": null,
            "margin": null,
            "display": null,
            "left": null
          }
        },
        "ce0622780c6e424a8197cd8ee4b655f0": {
          "model_module": "@jupyter-widgets/controls",
          "model_name": "ProgressStyleModel",
          "model_module_version": "1.5.0",
          "state": {
            "_view_name": "StyleView",
            "_model_name": "ProgressStyleModel",
            "description_width": "",
            "_view_module": "@jupyter-widgets/base",
            "_model_module_version": "1.5.0",
            "_view_count": null,
            "_view_module_version": "1.2.0",
            "bar_color": null,
            "_model_module": "@jupyter-widgets/controls"
          }
        },
        "aae5dd7eb61e4081bb47b04df6557a5c": {
          "model_module": "@jupyter-widgets/base",
          "model_name": "LayoutModel",
          "model_module_version": "1.2.0",
          "state": {
            "_view_name": "LayoutView",
            "grid_template_rows": null,
            "right": null,
            "justify_content": null,
            "_view_module": "@jupyter-widgets/base",
            "overflow": null,
            "_model_module_version": "1.2.0",
            "_view_count": null,
            "flex_flow": null,
            "width": null,
            "min_width": null,
            "border": null,
            "align_items": null,
            "bottom": null,
            "_model_module": "@jupyter-widgets/base",
            "top": null,
            "grid_column": null,
            "overflow_y": null,
            "overflow_x": null,
            "grid_auto_flow": null,
            "grid_area": null,
            "grid_template_columns": null,
            "flex": null,
            "_model_name": "LayoutModel",
            "justify_items": null,
            "grid_row": null,
            "max_height": null,
            "align_content": null,
            "visibility": null,
            "align_self": null,
            "height": null,
            "min_height": null,
            "padding": null,
            "grid_auto_rows": null,
            "grid_gap": null,
            "max_width": null,
            "order": null,
            "_view_module_version": "1.2.0",
            "grid_template_areas": null,
            "object_position": null,
            "object_fit": null,
            "grid_auto_columns": null,
            "margin": null,
            "display": null,
            "left": null
          }
        },
        "9e24244736504effac6930a93c4f45d8": {
          "model_module": "@jupyter-widgets/controls",
          "model_name": "DescriptionStyleModel",
          "model_module_version": "1.5.0",
          "state": {
            "_view_name": "StyleView",
            "_model_name": "DescriptionStyleModel",
            "description_width": "",
            "_view_module": "@jupyter-widgets/base",
            "_model_module_version": "1.5.0",
            "_view_count": null,
            "_view_module_version": "1.2.0",
            "_model_module": "@jupyter-widgets/controls"
          }
        },
        "6a647cb9f92c4b5ea2b5f79ee816c9e7": {
          "model_module": "@jupyter-widgets/base",
          "model_name": "LayoutModel",
          "model_module_version": "1.2.0",
          "state": {
            "_view_name": "LayoutView",
            "grid_template_rows": null,
            "right": null,
            "justify_content": null,
            "_view_module": "@jupyter-widgets/base",
            "overflow": null,
            "_model_module_version": "1.2.0",
            "_view_count": null,
            "flex_flow": null,
            "width": null,
            "min_width": null,
            "border": null,
            "align_items": null,
            "bottom": null,
            "_model_module": "@jupyter-widgets/base",
            "top": null,
            "grid_column": null,
            "overflow_y": null,
            "overflow_x": null,
            "grid_auto_flow": null,
            "grid_area": null,
            "grid_template_columns": null,
            "flex": null,
            "_model_name": "LayoutModel",
            "justify_items": null,
            "grid_row": null,
            "max_height": null,
            "align_content": null,
            "visibility": null,
            "align_self": null,
            "height": null,
            "min_height": null,
            "padding": null,
            "grid_auto_rows": null,
            "grid_gap": null,
            "max_width": null,
            "order": null,
            "_view_module_version": "1.2.0",
            "grid_template_areas": null,
            "object_position": null,
            "object_fit": null,
            "grid_auto_columns": null,
            "margin": null,
            "display": null,
            "left": null
          }
        },
        "27e95250eb864197a6f6959f88b41a93": {
          "model_module": "@jupyter-widgets/controls",
          "model_name": "HBoxModel",
          "model_module_version": "1.5.0",
          "state": {
            "_view_name": "HBoxView",
            "_dom_classes": [],
            "_model_name": "HBoxModel",
            "_view_module": "@jupyter-widgets/controls",
            "_model_module_version": "1.5.0",
            "_view_count": null,
            "_view_module_version": "1.5.0",
            "box_style": "",
            "layout": "IPY_MODEL_482037c0c45046e88536817b3f9769e3",
            "_model_module": "@jupyter-widgets/controls",
            "children": [
              "IPY_MODEL_ee2f0fd8b5e04a8bbd595b24acbfd6c7",
              "IPY_MODEL_6fae7ecea5c6475ea5418e3938f3c266",
              "IPY_MODEL_702552e1cf08486c9e8d4872aaff63d7"
            ]
          }
        },
        "482037c0c45046e88536817b3f9769e3": {
          "model_module": "@jupyter-widgets/base",
          "model_name": "LayoutModel",
          "model_module_version": "1.2.0",
          "state": {
            "_view_name": "LayoutView",
            "grid_template_rows": null,
            "right": null,
            "justify_content": null,
            "_view_module": "@jupyter-widgets/base",
            "overflow": null,
            "_model_module_version": "1.2.0",
            "_view_count": null,
            "flex_flow": null,
            "width": null,
            "min_width": null,
            "border": null,
            "align_items": null,
            "bottom": null,
            "_model_module": "@jupyter-widgets/base",
            "top": null,
            "grid_column": null,
            "overflow_y": null,
            "overflow_x": null,
            "grid_auto_flow": null,
            "grid_area": null,
            "grid_template_columns": null,
            "flex": null,
            "_model_name": "LayoutModel",
            "justify_items": null,
            "grid_row": null,
            "max_height": null,
            "align_content": null,
            "visibility": null,
            "align_self": null,
            "height": null,
            "min_height": null,
            "padding": null,
            "grid_auto_rows": null,
            "grid_gap": null,
            "max_width": null,
            "order": null,
            "_view_module_version": "1.2.0",
            "grid_template_areas": null,
            "object_position": null,
            "object_fit": null,
            "grid_auto_columns": null,
            "margin": null,
            "display": null,
            "left": null
          }
        },
        "ee2f0fd8b5e04a8bbd595b24acbfd6c7": {
          "model_module": "@jupyter-widgets/controls",
          "model_name": "HTMLModel",
          "model_module_version": "1.5.0",
          "state": {
            "_view_name": "HTMLView",
            "style": "IPY_MODEL_61bbdbce6b71456aa134dd780089be0b",
            "_dom_classes": [],
            "description": "",
            "_model_name": "HTMLModel",
            "placeholder": "​",
            "_view_module": "@jupyter-widgets/controls",
            "_model_module_version": "1.5.0",
            "value": "Downloading: 100%",
            "_view_count": null,
            "_view_module_version": "1.5.0",
            "description_tooltip": null,
            "_model_module": "@jupyter-widgets/controls",
            "layout": "IPY_MODEL_3f55e57ad8a04a7faf5f1824f70ed5e2"
          }
        },
        "6fae7ecea5c6475ea5418e3938f3c266": {
          "model_module": "@jupyter-widgets/controls",
          "model_name": "FloatProgressModel",
          "model_module_version": "1.5.0",
          "state": {
            "_view_name": "ProgressView",
            "style": "IPY_MODEL_efb7bdc3f94346c8b50cd7d18a8c5bd9",
            "_dom_classes": [],
            "description": "",
            "_model_name": "FloatProgressModel",
            "bar_style": "success",
            "max": 90888945,
            "_view_module": "@jupyter-widgets/controls",
            "_model_module_version": "1.5.0",
            "value": 90888945,
            "_view_count": null,
            "_view_module_version": "1.5.0",
            "orientation": "horizontal",
            "min": 0,
            "description_tooltip": null,
            "_model_module": "@jupyter-widgets/controls",
            "layout": "IPY_MODEL_d18cbedc94a343fd80b3dc82772bded1"
          }
        },
        "702552e1cf08486c9e8d4872aaff63d7": {
          "model_module": "@jupyter-widgets/controls",
          "model_name": "HTMLModel",
          "model_module_version": "1.5.0",
          "state": {
            "_view_name": "HTMLView",
            "style": "IPY_MODEL_50439c02cbc944afac028e5fbca2313f",
            "_dom_classes": [],
            "description": "",
            "_model_name": "HTMLModel",
            "placeholder": "​",
            "_view_module": "@jupyter-widgets/controls",
            "_model_module_version": "1.5.0",
            "value": " 90.9M/90.9M [00:02&lt;00:00, 36.1MB/s]",
            "_view_count": null,
            "_view_module_version": "1.5.0",
            "description_tooltip": null,
            "_model_module": "@jupyter-widgets/controls",
            "layout": "IPY_MODEL_d5538c185b824b52b5c396883ab3a39a"
          }
        },
        "61bbdbce6b71456aa134dd780089be0b": {
          "model_module": "@jupyter-widgets/controls",
          "model_name": "DescriptionStyleModel",
          "model_module_version": "1.5.0",
          "state": {
            "_view_name": "StyleView",
            "_model_name": "DescriptionStyleModel",
            "description_width": "",
            "_view_module": "@jupyter-widgets/base",
            "_model_module_version": "1.5.0",
            "_view_count": null,
            "_view_module_version": "1.2.0",
            "_model_module": "@jupyter-widgets/controls"
          }
        },
        "3f55e57ad8a04a7faf5f1824f70ed5e2": {
          "model_module": "@jupyter-widgets/base",
          "model_name": "LayoutModel",
          "model_module_version": "1.2.0",
          "state": {
            "_view_name": "LayoutView",
            "grid_template_rows": null,
            "right": null,
            "justify_content": null,
            "_view_module": "@jupyter-widgets/base",
            "overflow": null,
            "_model_module_version": "1.2.0",
            "_view_count": null,
            "flex_flow": null,
            "width": null,
            "min_width": null,
            "border": null,
            "align_items": null,
            "bottom": null,
            "_model_module": "@jupyter-widgets/base",
            "top": null,
            "grid_column": null,
            "overflow_y": null,
            "overflow_x": null,
            "grid_auto_flow": null,
            "grid_area": null,
            "grid_template_columns": null,
            "flex": null,
            "_model_name": "LayoutModel",
            "justify_items": null,
            "grid_row": null,
            "max_height": null,
            "align_content": null,
            "visibility": null,
            "align_self": null,
            "height": null,
            "min_height": null,
            "padding": null,
            "grid_auto_rows": null,
            "grid_gap": null,
            "max_width": null,
            "order": null,
            "_view_module_version": "1.2.0",
            "grid_template_areas": null,
            "object_position": null,
            "object_fit": null,
            "grid_auto_columns": null,
            "margin": null,
            "display": null,
            "left": null
          }
        },
        "efb7bdc3f94346c8b50cd7d18a8c5bd9": {
          "model_module": "@jupyter-widgets/controls",
          "model_name": "ProgressStyleModel",
          "model_module_version": "1.5.0",
          "state": {
            "_view_name": "StyleView",
            "_model_name": "ProgressStyleModel",
            "description_width": "",
            "_view_module": "@jupyter-widgets/base",
            "_model_module_version": "1.5.0",
            "_view_count": null,
            "_view_module_version": "1.2.0",
            "bar_color": null,
            "_model_module": "@jupyter-widgets/controls"
          }
        },
        "d18cbedc94a343fd80b3dc82772bded1": {
          "model_module": "@jupyter-widgets/base",
          "model_name": "LayoutModel",
          "model_module_version": "1.2.0",
          "state": {
            "_view_name": "LayoutView",
            "grid_template_rows": null,
            "right": null,
            "justify_content": null,
            "_view_module": "@jupyter-widgets/base",
            "overflow": null,
            "_model_module_version": "1.2.0",
            "_view_count": null,
            "flex_flow": null,
            "width": null,
            "min_width": null,
            "border": null,
            "align_items": null,
            "bottom": null,
            "_model_module": "@jupyter-widgets/base",
            "top": null,
            "grid_column": null,
            "overflow_y": null,
            "overflow_x": null,
            "grid_auto_flow": null,
            "grid_area": null,
            "grid_template_columns": null,
            "flex": null,
            "_model_name": "LayoutModel",
            "justify_items": null,
            "grid_row": null,
            "max_height": null,
            "align_content": null,
            "visibility": null,
            "align_self": null,
            "height": null,
            "min_height": null,
            "padding": null,
            "grid_auto_rows": null,
            "grid_gap": null,
            "max_width": null,
            "order": null,
            "_view_module_version": "1.2.0",
            "grid_template_areas": null,
            "object_position": null,
            "object_fit": null,
            "grid_auto_columns": null,
            "margin": null,
            "display": null,
            "left": null
          }
        },
        "50439c02cbc944afac028e5fbca2313f": {
          "model_module": "@jupyter-widgets/controls",
          "model_name": "DescriptionStyleModel",
          "model_module_version": "1.5.0",
          "state": {
            "_view_name": "StyleView",
            "_model_name": "DescriptionStyleModel",
            "description_width": "",
            "_view_module": "@jupyter-widgets/base",
            "_model_module_version": "1.5.0",
            "_view_count": null,
            "_view_module_version": "1.2.0",
            "_model_module": "@jupyter-widgets/controls"
          }
        },
        "d5538c185b824b52b5c396883ab3a39a": {
          "model_module": "@jupyter-widgets/base",
          "model_name": "LayoutModel",
          "model_module_version": "1.2.0",
          "state": {
            "_view_name": "LayoutView",
            "grid_template_rows": null,
            "right": null,
            "justify_content": null,
            "_view_module": "@jupyter-widgets/base",
            "overflow": null,
            "_model_module_version": "1.2.0",
            "_view_count": null,
            "flex_flow": null,
            "width": null,
            "min_width": null,
            "border": null,
            "align_items": null,
            "bottom": null,
            "_model_module": "@jupyter-widgets/base",
            "top": null,
            "grid_column": null,
            "overflow_y": null,
            "overflow_x": null,
            "grid_auto_flow": null,
            "grid_area": null,
            "grid_template_columns": null,
            "flex": null,
            "_model_name": "LayoutModel",
            "justify_items": null,
            "grid_row": null,
            "max_height": null,
            "align_content": null,
            "visibility": null,
            "align_self": null,
            "height": null,
            "min_height": null,
            "padding": null,
            "grid_auto_rows": null,
            "grid_gap": null,
            "max_width": null,
            "order": null,
            "_view_module_version": "1.2.0",
            "grid_template_areas": null,
            "object_position": null,
            "object_fit": null,
            "grid_auto_columns": null,
            "margin": null,
            "display": null,
            "left": null
          }
        },
        "4c6211dbf12d4cf593c55b82b56e3e3f": {
          "model_module": "@jupyter-widgets/controls",
          "model_name": "HBoxModel",
          "model_module_version": "1.5.0",
          "state": {
            "_view_name": "HBoxView",
            "_dom_classes": [],
            "_model_name": "HBoxModel",
            "_view_module": "@jupyter-widgets/controls",
            "_model_module_version": "1.5.0",
            "_view_count": null,
            "_view_module_version": "1.5.0",
            "box_style": "",
            "layout": "IPY_MODEL_bed10cf668a84c40abd3a922c9c9c2e4",
            "_model_module": "@jupyter-widgets/controls",
            "children": [
              "IPY_MODEL_fe5bf0a1510c4458970a1ac93a3ffc7d",
              "IPY_MODEL_38134024c24b485fb9363ec0c88bfaaa",
              "IPY_MODEL_687321bbd69340a8b7393cd60a1b830a"
            ]
          }
        },
        "bed10cf668a84c40abd3a922c9c9c2e4": {
          "model_module": "@jupyter-widgets/base",
          "model_name": "LayoutModel",
          "model_module_version": "1.2.0",
          "state": {
            "_view_name": "LayoutView",
            "grid_template_rows": null,
            "right": null,
            "justify_content": null,
            "_view_module": "@jupyter-widgets/base",
            "overflow": null,
            "_model_module_version": "1.2.0",
            "_view_count": null,
            "flex_flow": null,
            "width": null,
            "min_width": null,
            "border": null,
            "align_items": null,
            "bottom": null,
            "_model_module": "@jupyter-widgets/base",
            "top": null,
            "grid_column": null,
            "overflow_y": null,
            "overflow_x": null,
            "grid_auto_flow": null,
            "grid_area": null,
            "grid_template_columns": null,
            "flex": null,
            "_model_name": "LayoutModel",
            "justify_items": null,
            "grid_row": null,
            "max_height": null,
            "align_content": null,
            "visibility": null,
            "align_self": null,
            "height": null,
            "min_height": null,
            "padding": null,
            "grid_auto_rows": null,
            "grid_gap": null,
            "max_width": null,
            "order": null,
            "_view_module_version": "1.2.0",
            "grid_template_areas": null,
            "object_position": null,
            "object_fit": null,
            "grid_auto_columns": null,
            "margin": null,
            "display": null,
            "left": null
          }
        },
        "fe5bf0a1510c4458970a1ac93a3ffc7d": {
          "model_module": "@jupyter-widgets/controls",
          "model_name": "HTMLModel",
          "model_module_version": "1.5.0",
          "state": {
            "_view_name": "HTMLView",
            "style": "IPY_MODEL_9ebf804ae3bb45499f7fd0cd78868c3a",
            "_dom_classes": [],
            "description": "",
            "_model_name": "HTMLModel",
            "placeholder": "​",
            "_view_module": "@jupyter-widgets/controls",
            "_model_module_version": "1.5.0",
            "value": "Downloading: 100%",
            "_view_count": null,
            "_view_module_version": "1.5.0",
            "description_tooltip": null,
            "_model_module": "@jupyter-widgets/controls",
            "layout": "IPY_MODEL_8a44aee4792b42f880d9ee059c519035"
          }
        },
        "38134024c24b485fb9363ec0c88bfaaa": {
          "model_module": "@jupyter-widgets/controls",
          "model_name": "FloatProgressModel",
          "model_module_version": "1.5.0",
          "state": {
            "_view_name": "ProgressView",
            "style": "IPY_MODEL_60f5af4657a044f2bec84f1523dbfef4",
            "_dom_classes": [],
            "description": "",
            "_model_name": "FloatProgressModel",
            "bar_style": "success",
            "max": 53,
            "_view_module": "@jupyter-widgets/controls",
            "_model_module_version": "1.5.0",
            "value": 53,
            "_view_count": null,
            "_view_module_version": "1.5.0",
            "orientation": "horizontal",
            "min": 0,
            "description_tooltip": null,
            "_model_module": "@jupyter-widgets/controls",
            "layout": "IPY_MODEL_fe84a91a6b6b45379ed89a513bd5cd39"
          }
        },
        "687321bbd69340a8b7393cd60a1b830a": {
          "model_module": "@jupyter-widgets/controls",
          "model_name": "HTMLModel",
          "model_module_version": "1.5.0",
          "state": {
            "_view_name": "HTMLView",
            "style": "IPY_MODEL_a6675d67405d412d9a147e3d78da26bf",
            "_dom_classes": [],
            "description": "",
            "_model_name": "HTMLModel",
            "placeholder": "​",
            "_view_module": "@jupyter-widgets/controls",
            "_model_module_version": "1.5.0",
            "value": " 53.0/53.0 [00:00&lt;00:00, 1.19kB/s]",
            "_view_count": null,
            "_view_module_version": "1.5.0",
            "description_tooltip": null,
            "_model_module": "@jupyter-widgets/controls",
            "layout": "IPY_MODEL_8bf1a26fc86f443798c2f43457595063"
          }
        },
        "9ebf804ae3bb45499f7fd0cd78868c3a": {
          "model_module": "@jupyter-widgets/controls",
          "model_name": "DescriptionStyleModel",
          "model_module_version": "1.5.0",
          "state": {
            "_view_name": "StyleView",
            "_model_name": "DescriptionStyleModel",
            "description_width": "",
            "_view_module": "@jupyter-widgets/base",
            "_model_module_version": "1.5.0",
            "_view_count": null,
            "_view_module_version": "1.2.0",
            "_model_module": "@jupyter-widgets/controls"
          }
        },
        "8a44aee4792b42f880d9ee059c519035": {
          "model_module": "@jupyter-widgets/base",
          "model_name": "LayoutModel",
          "model_module_version": "1.2.0",
          "state": {
            "_view_name": "LayoutView",
            "grid_template_rows": null,
            "right": null,
            "justify_content": null,
            "_view_module": "@jupyter-widgets/base",
            "overflow": null,
            "_model_module_version": "1.2.0",
            "_view_count": null,
            "flex_flow": null,
            "width": null,
            "min_width": null,
            "border": null,
            "align_items": null,
            "bottom": null,
            "_model_module": "@jupyter-widgets/base",
            "top": null,
            "grid_column": null,
            "overflow_y": null,
            "overflow_x": null,
            "grid_auto_flow": null,
            "grid_area": null,
            "grid_template_columns": null,
            "flex": null,
            "_model_name": "LayoutModel",
            "justify_items": null,
            "grid_row": null,
            "max_height": null,
            "align_content": null,
            "visibility": null,
            "align_self": null,
            "height": null,
            "min_height": null,
            "padding": null,
            "grid_auto_rows": null,
            "grid_gap": null,
            "max_width": null,
            "order": null,
            "_view_module_version": "1.2.0",
            "grid_template_areas": null,
            "object_position": null,
            "object_fit": null,
            "grid_auto_columns": null,
            "margin": null,
            "display": null,
            "left": null
          }
        },
        "60f5af4657a044f2bec84f1523dbfef4": {
          "model_module": "@jupyter-widgets/controls",
          "model_name": "ProgressStyleModel",
          "model_module_version": "1.5.0",
          "state": {
            "_view_name": "StyleView",
            "_model_name": "ProgressStyleModel",
            "description_width": "",
            "_view_module": "@jupyter-widgets/base",
            "_model_module_version": "1.5.0",
            "_view_count": null,
            "_view_module_version": "1.2.0",
            "bar_color": null,
            "_model_module": "@jupyter-widgets/controls"
          }
        },
        "fe84a91a6b6b45379ed89a513bd5cd39": {
          "model_module": "@jupyter-widgets/base",
          "model_name": "LayoutModel",
          "model_module_version": "1.2.0",
          "state": {
            "_view_name": "LayoutView",
            "grid_template_rows": null,
            "right": null,
            "justify_content": null,
            "_view_module": "@jupyter-widgets/base",
            "overflow": null,
            "_model_module_version": "1.2.0",
            "_view_count": null,
            "flex_flow": null,
            "width": null,
            "min_width": null,
            "border": null,
            "align_items": null,
            "bottom": null,
            "_model_module": "@jupyter-widgets/base",
            "top": null,
            "grid_column": null,
            "overflow_y": null,
            "overflow_x": null,
            "grid_auto_flow": null,
            "grid_area": null,
            "grid_template_columns": null,
            "flex": null,
            "_model_name": "LayoutModel",
            "justify_items": null,
            "grid_row": null,
            "max_height": null,
            "align_content": null,
            "visibility": null,
            "align_self": null,
            "height": null,
            "min_height": null,
            "padding": null,
            "grid_auto_rows": null,
            "grid_gap": null,
            "max_width": null,
            "order": null,
            "_view_module_version": "1.2.0",
            "grid_template_areas": null,
            "object_position": null,
            "object_fit": null,
            "grid_auto_columns": null,
            "margin": null,
            "display": null,
            "left": null
          }
        },
        "a6675d67405d412d9a147e3d78da26bf": {
          "model_module": "@jupyter-widgets/controls",
          "model_name": "DescriptionStyleModel",
          "model_module_version": "1.5.0",
          "state": {
            "_view_name": "StyleView",
            "_model_name": "DescriptionStyleModel",
            "description_width": "",
            "_view_module": "@jupyter-widgets/base",
            "_model_module_version": "1.5.0",
            "_view_count": null,
            "_view_module_version": "1.2.0",
            "_model_module": "@jupyter-widgets/controls"
          }
        },
        "8bf1a26fc86f443798c2f43457595063": {
          "model_module": "@jupyter-widgets/base",
          "model_name": "LayoutModel",
          "model_module_version": "1.2.0",
          "state": {
            "_view_name": "LayoutView",
            "grid_template_rows": null,
            "right": null,
            "justify_content": null,
            "_view_module": "@jupyter-widgets/base",
            "overflow": null,
            "_model_module_version": "1.2.0",
            "_view_count": null,
            "flex_flow": null,
            "width": null,
            "min_width": null,
            "border": null,
            "align_items": null,
            "bottom": null,
            "_model_module": "@jupyter-widgets/base",
            "top": null,
            "grid_column": null,
            "overflow_y": null,
            "overflow_x": null,
            "grid_auto_flow": null,
            "grid_area": null,
            "grid_template_columns": null,
            "flex": null,
            "_model_name": "LayoutModel",
            "justify_items": null,
            "grid_row": null,
            "max_height": null,
            "align_content": null,
            "visibility": null,
            "align_self": null,
            "height": null,
            "min_height": null,
            "padding": null,
            "grid_auto_rows": null,
            "grid_gap": null,
            "max_width": null,
            "order": null,
            "_view_module_version": "1.2.0",
            "grid_template_areas": null,
            "object_position": null,
            "object_fit": null,
            "grid_auto_columns": null,
            "margin": null,
            "display": null,
            "left": null
          }
        },
        "5f382f9eb7394acf94258524ffa3b2d1": {
          "model_module": "@jupyter-widgets/controls",
          "model_name": "HBoxModel",
          "model_module_version": "1.5.0",
          "state": {
            "_view_name": "HBoxView",
            "_dom_classes": [],
            "_model_name": "HBoxModel",
            "_view_module": "@jupyter-widgets/controls",
            "_model_module_version": "1.5.0",
            "_view_count": null,
            "_view_module_version": "1.5.0",
            "box_style": "",
            "layout": "IPY_MODEL_232b6a4fb80e45bb8b4e19e8ccd765af",
            "_model_module": "@jupyter-widgets/controls",
            "children": [
              "IPY_MODEL_0b4d99278ad441adb151e7886e48f03e",
              "IPY_MODEL_9f40971ff1ef41a48dcbfe0931d42f43",
              "IPY_MODEL_0b24f8cda9de4e1fb521560d70e4cd4c"
            ]
          }
        },
        "232b6a4fb80e45bb8b4e19e8ccd765af": {
          "model_module": "@jupyter-widgets/base",
          "model_name": "LayoutModel",
          "model_module_version": "1.2.0",
          "state": {
            "_view_name": "LayoutView",
            "grid_template_rows": null,
            "right": null,
            "justify_content": null,
            "_view_module": "@jupyter-widgets/base",
            "overflow": null,
            "_model_module_version": "1.2.0",
            "_view_count": null,
            "flex_flow": null,
            "width": null,
            "min_width": null,
            "border": null,
            "align_items": null,
            "bottom": null,
            "_model_module": "@jupyter-widgets/base",
            "top": null,
            "grid_column": null,
            "overflow_y": null,
            "overflow_x": null,
            "grid_auto_flow": null,
            "grid_area": null,
            "grid_template_columns": null,
            "flex": null,
            "_model_name": "LayoutModel",
            "justify_items": null,
            "grid_row": null,
            "max_height": null,
            "align_content": null,
            "visibility": null,
            "align_self": null,
            "height": null,
            "min_height": null,
            "padding": null,
            "grid_auto_rows": null,
            "grid_gap": null,
            "max_width": null,
            "order": null,
            "_view_module_version": "1.2.0",
            "grid_template_areas": null,
            "object_position": null,
            "object_fit": null,
            "grid_auto_columns": null,
            "margin": null,
            "display": null,
            "left": null
          }
        },
        "0b4d99278ad441adb151e7886e48f03e": {
          "model_module": "@jupyter-widgets/controls",
          "model_name": "HTMLModel",
          "model_module_version": "1.5.0",
          "state": {
            "_view_name": "HTMLView",
            "style": "IPY_MODEL_3f4af661e8b34b81afa85429fb04514b",
            "_dom_classes": [],
            "description": "",
            "_model_name": "HTMLModel",
            "placeholder": "​",
            "_view_module": "@jupyter-widgets/controls",
            "_model_module_version": "1.5.0",
            "value": "Downloading: 100%",
            "_view_count": null,
            "_view_module_version": "1.5.0",
            "description_tooltip": null,
            "_model_module": "@jupyter-widgets/controls",
            "layout": "IPY_MODEL_0bccde796be445de92bac48e2bc41117"
          }
        },
        "9f40971ff1ef41a48dcbfe0931d42f43": {
          "model_module": "@jupyter-widgets/controls",
          "model_name": "FloatProgressModel",
          "model_module_version": "1.5.0",
          "state": {
            "_view_name": "ProgressView",
            "style": "IPY_MODEL_cb19b48fc488469fbff59a02c27a26c0",
            "_dom_classes": [],
            "description": "",
            "_model_name": "FloatProgressModel",
            "bar_style": "success",
            "max": 112,
            "_view_module": "@jupyter-widgets/controls",
            "_model_module_version": "1.5.0",
            "value": 112,
            "_view_count": null,
            "_view_module_version": "1.5.0",
            "orientation": "horizontal",
            "min": 0,
            "description_tooltip": null,
            "_model_module": "@jupyter-widgets/controls",
            "layout": "IPY_MODEL_bea5c8d591c84d1c82efb71c721d8b3f"
          }
        },
        "0b24f8cda9de4e1fb521560d70e4cd4c": {
          "model_module": "@jupyter-widgets/controls",
          "model_name": "HTMLModel",
          "model_module_version": "1.5.0",
          "state": {
            "_view_name": "HTMLView",
            "style": "IPY_MODEL_59ad21e2933e4e09a706d8c60a762259",
            "_dom_classes": [],
            "description": "",
            "_model_name": "HTMLModel",
            "placeholder": "​",
            "_view_module": "@jupyter-widgets/controls",
            "_model_module_version": "1.5.0",
            "value": " 112/112 [00:00&lt;00:00, 2.78kB/s]",
            "_view_count": null,
            "_view_module_version": "1.5.0",
            "description_tooltip": null,
            "_model_module": "@jupyter-widgets/controls",
            "layout": "IPY_MODEL_8be1074de9a24049861bd44694105f96"
          }
        },
        "3f4af661e8b34b81afa85429fb04514b": {
          "model_module": "@jupyter-widgets/controls",
          "model_name": "DescriptionStyleModel",
          "model_module_version": "1.5.0",
          "state": {
            "_view_name": "StyleView",
            "_model_name": "DescriptionStyleModel",
            "description_width": "",
            "_view_module": "@jupyter-widgets/base",
            "_model_module_version": "1.5.0",
            "_view_count": null,
            "_view_module_version": "1.2.0",
            "_model_module": "@jupyter-widgets/controls"
          }
        },
        "0bccde796be445de92bac48e2bc41117": {
          "model_module": "@jupyter-widgets/base",
          "model_name": "LayoutModel",
          "model_module_version": "1.2.0",
          "state": {
            "_view_name": "LayoutView",
            "grid_template_rows": null,
            "right": null,
            "justify_content": null,
            "_view_module": "@jupyter-widgets/base",
            "overflow": null,
            "_model_module_version": "1.2.0",
            "_view_count": null,
            "flex_flow": null,
            "width": null,
            "min_width": null,
            "border": null,
            "align_items": null,
            "bottom": null,
            "_model_module": "@jupyter-widgets/base",
            "top": null,
            "grid_column": null,
            "overflow_y": null,
            "overflow_x": null,
            "grid_auto_flow": null,
            "grid_area": null,
            "grid_template_columns": null,
            "flex": null,
            "_model_name": "LayoutModel",
            "justify_items": null,
            "grid_row": null,
            "max_height": null,
            "align_content": null,
            "visibility": null,
            "align_self": null,
            "height": null,
            "min_height": null,
            "padding": null,
            "grid_auto_rows": null,
            "grid_gap": null,
            "max_width": null,
            "order": null,
            "_view_module_version": "1.2.0",
            "grid_template_areas": null,
            "object_position": null,
            "object_fit": null,
            "grid_auto_columns": null,
            "margin": null,
            "display": null,
            "left": null
          }
        },
        "cb19b48fc488469fbff59a02c27a26c0": {
          "model_module": "@jupyter-widgets/controls",
          "model_name": "ProgressStyleModel",
          "model_module_version": "1.5.0",
          "state": {
            "_view_name": "StyleView",
            "_model_name": "ProgressStyleModel",
            "description_width": "",
            "_view_module": "@jupyter-widgets/base",
            "_model_module_version": "1.5.0",
            "_view_count": null,
            "_view_module_version": "1.2.0",
            "bar_color": null,
            "_model_module": "@jupyter-widgets/controls"
          }
        },
        "bea5c8d591c84d1c82efb71c721d8b3f": {
          "model_module": "@jupyter-widgets/base",
          "model_name": "LayoutModel",
          "model_module_version": "1.2.0",
          "state": {
            "_view_name": "LayoutView",
            "grid_template_rows": null,
            "right": null,
            "justify_content": null,
            "_view_module": "@jupyter-widgets/base",
            "overflow": null,
            "_model_module_version": "1.2.0",
            "_view_count": null,
            "flex_flow": null,
            "width": null,
            "min_width": null,
            "border": null,
            "align_items": null,
            "bottom": null,
            "_model_module": "@jupyter-widgets/base",
            "top": null,
            "grid_column": null,
            "overflow_y": null,
            "overflow_x": null,
            "grid_auto_flow": null,
            "grid_area": null,
            "grid_template_columns": null,
            "flex": null,
            "_model_name": "LayoutModel",
            "justify_items": null,
            "grid_row": null,
            "max_height": null,
            "align_content": null,
            "visibility": null,
            "align_self": null,
            "height": null,
            "min_height": null,
            "padding": null,
            "grid_auto_rows": null,
            "grid_gap": null,
            "max_width": null,
            "order": null,
            "_view_module_version": "1.2.0",
            "grid_template_areas": null,
            "object_position": null,
            "object_fit": null,
            "grid_auto_columns": null,
            "margin": null,
            "display": null,
            "left": null
          }
        },
        "59ad21e2933e4e09a706d8c60a762259": {
          "model_module": "@jupyter-widgets/controls",
          "model_name": "DescriptionStyleModel",
          "model_module_version": "1.5.0",
          "state": {
            "_view_name": "StyleView",
            "_model_name": "DescriptionStyleModel",
            "description_width": "",
            "_view_module": "@jupyter-widgets/base",
            "_model_module_version": "1.5.0",
            "_view_count": null,
            "_view_module_version": "1.2.0",
            "_model_module": "@jupyter-widgets/controls"
          }
        },
        "8be1074de9a24049861bd44694105f96": {
          "model_module": "@jupyter-widgets/base",
          "model_name": "LayoutModel",
          "model_module_version": "1.2.0",
          "state": {
            "_view_name": "LayoutView",
            "grid_template_rows": null,
            "right": null,
            "justify_content": null,
            "_view_module": "@jupyter-widgets/base",
            "overflow": null,
            "_model_module_version": "1.2.0",
            "_view_count": null,
            "flex_flow": null,
            "width": null,
            "min_width": null,
            "border": null,
            "align_items": null,
            "bottom": null,
            "_model_module": "@jupyter-widgets/base",
            "top": null,
            "grid_column": null,
            "overflow_y": null,
            "overflow_x": null,
            "grid_auto_flow": null,
            "grid_area": null,
            "grid_template_columns": null,
            "flex": null,
            "_model_name": "LayoutModel",
            "justify_items": null,
            "grid_row": null,
            "max_height": null,
            "align_content": null,
            "visibility": null,
            "align_self": null,
            "height": null,
            "min_height": null,
            "padding": null,
            "grid_auto_rows": null,
            "grid_gap": null,
            "max_width": null,
            "order": null,
            "_view_module_version": "1.2.0",
            "grid_template_areas": null,
            "object_position": null,
            "object_fit": null,
            "grid_auto_columns": null,
            "margin": null,
            "display": null,
            "left": null
          }
        },
        "88cd8e3e49814afe9387c898ba779940": {
          "model_module": "@jupyter-widgets/controls",
          "model_name": "HBoxModel",
          "model_module_version": "1.5.0",
          "state": {
            "_view_name": "HBoxView",
            "_dom_classes": [],
            "_model_name": "HBoxModel",
            "_view_module": "@jupyter-widgets/controls",
            "_model_module_version": "1.5.0",
            "_view_count": null,
            "_view_module_version": "1.5.0",
            "box_style": "",
            "layout": "IPY_MODEL_5fa2542e0ccf4a0d81faef2380238857",
            "_model_module": "@jupyter-widgets/controls",
            "children": [
              "IPY_MODEL_34451528ba9e4e43bf6e774d7a667003",
              "IPY_MODEL_a18ad6c1319a473981783f048917ee41",
              "IPY_MODEL_26d6c6df45b04bf5b4b541341bdf0f73"
            ]
          }
        },
        "5fa2542e0ccf4a0d81faef2380238857": {
          "model_module": "@jupyter-widgets/base",
          "model_name": "LayoutModel",
          "model_module_version": "1.2.0",
          "state": {
            "_view_name": "LayoutView",
            "grid_template_rows": null,
            "right": null,
            "justify_content": null,
            "_view_module": "@jupyter-widgets/base",
            "overflow": null,
            "_model_module_version": "1.2.0",
            "_view_count": null,
            "flex_flow": null,
            "width": null,
            "min_width": null,
            "border": null,
            "align_items": null,
            "bottom": null,
            "_model_module": "@jupyter-widgets/base",
            "top": null,
            "grid_column": null,
            "overflow_y": null,
            "overflow_x": null,
            "grid_auto_flow": null,
            "grid_area": null,
            "grid_template_columns": null,
            "flex": null,
            "_model_name": "LayoutModel",
            "justify_items": null,
            "grid_row": null,
            "max_height": null,
            "align_content": null,
            "visibility": null,
            "align_self": null,
            "height": null,
            "min_height": null,
            "padding": null,
            "grid_auto_rows": null,
            "grid_gap": null,
            "max_width": null,
            "order": null,
            "_view_module_version": "1.2.0",
            "grid_template_areas": null,
            "object_position": null,
            "object_fit": null,
            "grid_auto_columns": null,
            "margin": null,
            "display": null,
            "left": null
          }
        },
        "34451528ba9e4e43bf6e774d7a667003": {
          "model_module": "@jupyter-widgets/controls",
          "model_name": "HTMLModel",
          "model_module_version": "1.5.0",
          "state": {
            "_view_name": "HTMLView",
            "style": "IPY_MODEL_2661405de3664b53a23b1d69690725cb",
            "_dom_classes": [],
            "description": "",
            "_model_name": "HTMLModel",
            "placeholder": "​",
            "_view_module": "@jupyter-widgets/controls",
            "_model_module_version": "1.5.0",
            "value": "Downloading: 100%",
            "_view_count": null,
            "_view_module_version": "1.5.0",
            "description_tooltip": null,
            "_model_module": "@jupyter-widgets/controls",
            "layout": "IPY_MODEL_f000619f63f0409084b36592d1b3b243"
          }
        },
        "a18ad6c1319a473981783f048917ee41": {
          "model_module": "@jupyter-widgets/controls",
          "model_name": "FloatProgressModel",
          "model_module_version": "1.5.0",
          "state": {
            "_view_name": "ProgressView",
            "style": "IPY_MODEL_db319e6033714c9784aafcc1f4cef513",
            "_dom_classes": [],
            "description": "",
            "_model_name": "FloatProgressModel",
            "bar_style": "success",
            "max": 466247,
            "_view_module": "@jupyter-widgets/controls",
            "_model_module_version": "1.5.0",
            "value": 466247,
            "_view_count": null,
            "_view_module_version": "1.5.0",
            "orientation": "horizontal",
            "min": 0,
            "description_tooltip": null,
            "_model_module": "@jupyter-widgets/controls",
            "layout": "IPY_MODEL_7e683672181e4dc78dee266a0096059d"
          }
        },
        "26d6c6df45b04bf5b4b541341bdf0f73": {
          "model_module": "@jupyter-widgets/controls",
          "model_name": "HTMLModel",
          "model_module_version": "1.5.0",
          "state": {
            "_view_name": "HTMLView",
            "style": "IPY_MODEL_acfb6fb5956143f6a32a44c0eae5d8cf",
            "_dom_classes": [],
            "description": "",
            "_model_name": "HTMLModel",
            "placeholder": "​",
            "_view_module": "@jupyter-widgets/controls",
            "_model_module_version": "1.5.0",
            "value": " 466k/466k [00:00&lt;00:00, 662kB/s]",
            "_view_count": null,
            "_view_module_version": "1.5.0",
            "description_tooltip": null,
            "_model_module": "@jupyter-widgets/controls",
            "layout": "IPY_MODEL_ed4d219fb9694580a587ffa99a6ce01d"
          }
        },
        "2661405de3664b53a23b1d69690725cb": {
          "model_module": "@jupyter-widgets/controls",
          "model_name": "DescriptionStyleModel",
          "model_module_version": "1.5.0",
          "state": {
            "_view_name": "StyleView",
            "_model_name": "DescriptionStyleModel",
            "description_width": "",
            "_view_module": "@jupyter-widgets/base",
            "_model_module_version": "1.5.0",
            "_view_count": null,
            "_view_module_version": "1.2.0",
            "_model_module": "@jupyter-widgets/controls"
          }
        },
        "f000619f63f0409084b36592d1b3b243": {
          "model_module": "@jupyter-widgets/base",
          "model_name": "LayoutModel",
          "model_module_version": "1.2.0",
          "state": {
            "_view_name": "LayoutView",
            "grid_template_rows": null,
            "right": null,
            "justify_content": null,
            "_view_module": "@jupyter-widgets/base",
            "overflow": null,
            "_model_module_version": "1.2.0",
            "_view_count": null,
            "flex_flow": null,
            "width": null,
            "min_width": null,
            "border": null,
            "align_items": null,
            "bottom": null,
            "_model_module": "@jupyter-widgets/base",
            "top": null,
            "grid_column": null,
            "overflow_y": null,
            "overflow_x": null,
            "grid_auto_flow": null,
            "grid_area": null,
            "grid_template_columns": null,
            "flex": null,
            "_model_name": "LayoutModel",
            "justify_items": null,
            "grid_row": null,
            "max_height": null,
            "align_content": null,
            "visibility": null,
            "align_self": null,
            "height": null,
            "min_height": null,
            "padding": null,
            "grid_auto_rows": null,
            "grid_gap": null,
            "max_width": null,
            "order": null,
            "_view_module_version": "1.2.0",
            "grid_template_areas": null,
            "object_position": null,
            "object_fit": null,
            "grid_auto_columns": null,
            "margin": null,
            "display": null,
            "left": null
          }
        },
        "db319e6033714c9784aafcc1f4cef513": {
          "model_module": "@jupyter-widgets/controls",
          "model_name": "ProgressStyleModel",
          "model_module_version": "1.5.0",
          "state": {
            "_view_name": "StyleView",
            "_model_name": "ProgressStyleModel",
            "description_width": "",
            "_view_module": "@jupyter-widgets/base",
            "_model_module_version": "1.5.0",
            "_view_count": null,
            "_view_module_version": "1.2.0",
            "bar_color": null,
            "_model_module": "@jupyter-widgets/controls"
          }
        },
        "7e683672181e4dc78dee266a0096059d": {
          "model_module": "@jupyter-widgets/base",
          "model_name": "LayoutModel",
          "model_module_version": "1.2.0",
          "state": {
            "_view_name": "LayoutView",
            "grid_template_rows": null,
            "right": null,
            "justify_content": null,
            "_view_module": "@jupyter-widgets/base",
            "overflow": null,
            "_model_module_version": "1.2.0",
            "_view_count": null,
            "flex_flow": null,
            "width": null,
            "min_width": null,
            "border": null,
            "align_items": null,
            "bottom": null,
            "_model_module": "@jupyter-widgets/base",
            "top": null,
            "grid_column": null,
            "overflow_y": null,
            "overflow_x": null,
            "grid_auto_flow": null,
            "grid_area": null,
            "grid_template_columns": null,
            "flex": null,
            "_model_name": "LayoutModel",
            "justify_items": null,
            "grid_row": null,
            "max_height": null,
            "align_content": null,
            "visibility": null,
            "align_self": null,
            "height": null,
            "min_height": null,
            "padding": null,
            "grid_auto_rows": null,
            "grid_gap": null,
            "max_width": null,
            "order": null,
            "_view_module_version": "1.2.0",
            "grid_template_areas": null,
            "object_position": null,
            "object_fit": null,
            "grid_auto_columns": null,
            "margin": null,
            "display": null,
            "left": null
          }
        },
        "acfb6fb5956143f6a32a44c0eae5d8cf": {
          "model_module": "@jupyter-widgets/controls",
          "model_name": "DescriptionStyleModel",
          "model_module_version": "1.5.0",
          "state": {
            "_view_name": "StyleView",
            "_model_name": "DescriptionStyleModel",
            "description_width": "",
            "_view_module": "@jupyter-widgets/base",
            "_model_module_version": "1.5.0",
            "_view_count": null,
            "_view_module_version": "1.2.0",
            "_model_module": "@jupyter-widgets/controls"
          }
        },
        "ed4d219fb9694580a587ffa99a6ce01d": {
          "model_module": "@jupyter-widgets/base",
          "model_name": "LayoutModel",
          "model_module_version": "1.2.0",
          "state": {
            "_view_name": "LayoutView",
            "grid_template_rows": null,
            "right": null,
            "justify_content": null,
            "_view_module": "@jupyter-widgets/base",
            "overflow": null,
            "_model_module_version": "1.2.0",
            "_view_count": null,
            "flex_flow": null,
            "width": null,
            "min_width": null,
            "border": null,
            "align_items": null,
            "bottom": null,
            "_model_module": "@jupyter-widgets/base",
            "top": null,
            "grid_column": null,
            "overflow_y": null,
            "overflow_x": null,
            "grid_auto_flow": null,
            "grid_area": null,
            "grid_template_columns": null,
            "flex": null,
            "_model_name": "LayoutModel",
            "justify_items": null,
            "grid_row": null,
            "max_height": null,
            "align_content": null,
            "visibility": null,
            "align_self": null,
            "height": null,
            "min_height": null,
            "padding": null,
            "grid_auto_rows": null,
            "grid_gap": null,
            "max_width": null,
            "order": null,
            "_view_module_version": "1.2.0",
            "grid_template_areas": null,
            "object_position": null,
            "object_fit": null,
            "grid_auto_columns": null,
            "margin": null,
            "display": null,
            "left": null
          }
        },
        "293897dfd34d4bb79b2d0d5f7a7496c6": {
          "model_module": "@jupyter-widgets/controls",
          "model_name": "HBoxModel",
          "model_module_version": "1.5.0",
          "state": {
            "_view_name": "HBoxView",
            "_dom_classes": [],
            "_model_name": "HBoxModel",
            "_view_module": "@jupyter-widgets/controls",
            "_model_module_version": "1.5.0",
            "_view_count": null,
            "_view_module_version": "1.5.0",
            "box_style": "",
            "layout": "IPY_MODEL_44d11d5a2d884bb59bd761f0a2712868",
            "_model_module": "@jupyter-widgets/controls",
            "children": [
              "IPY_MODEL_29028ce722184f588b386ec0c60dc34c",
              "IPY_MODEL_b4095e299588461d80b52017e146bb7f",
              "IPY_MODEL_52ca3f30661649288e2ac9a76c5d1439"
            ]
          }
        },
        "44d11d5a2d884bb59bd761f0a2712868": {
          "model_module": "@jupyter-widgets/base",
          "model_name": "LayoutModel",
          "model_module_version": "1.2.0",
          "state": {
            "_view_name": "LayoutView",
            "grid_template_rows": null,
            "right": null,
            "justify_content": null,
            "_view_module": "@jupyter-widgets/base",
            "overflow": null,
            "_model_module_version": "1.2.0",
            "_view_count": null,
            "flex_flow": null,
            "width": null,
            "min_width": null,
            "border": null,
            "align_items": null,
            "bottom": null,
            "_model_module": "@jupyter-widgets/base",
            "top": null,
            "grid_column": null,
            "overflow_y": null,
            "overflow_x": null,
            "grid_auto_flow": null,
            "grid_area": null,
            "grid_template_columns": null,
            "flex": null,
            "_model_name": "LayoutModel",
            "justify_items": null,
            "grid_row": null,
            "max_height": null,
            "align_content": null,
            "visibility": null,
            "align_self": null,
            "height": null,
            "min_height": null,
            "padding": null,
            "grid_auto_rows": null,
            "grid_gap": null,
            "max_width": null,
            "order": null,
            "_view_module_version": "1.2.0",
            "grid_template_areas": null,
            "object_position": null,
            "object_fit": null,
            "grid_auto_columns": null,
            "margin": null,
            "display": null,
            "left": null
          }
        },
        "29028ce722184f588b386ec0c60dc34c": {
          "model_module": "@jupyter-widgets/controls",
          "model_name": "HTMLModel",
          "model_module_version": "1.5.0",
          "state": {
            "_view_name": "HTMLView",
            "style": "IPY_MODEL_b63821f12b1946d293bb7b0aea76729c",
            "_dom_classes": [],
            "description": "",
            "_model_name": "HTMLModel",
            "placeholder": "​",
            "_view_module": "@jupyter-widgets/controls",
            "_model_module_version": "1.5.0",
            "value": "Downloading: 100%",
            "_view_count": null,
            "_view_module_version": "1.5.0",
            "description_tooltip": null,
            "_model_module": "@jupyter-widgets/controls",
            "layout": "IPY_MODEL_fc0ccd8265eb42909573b77ceb44cbb7"
          }
        },
        "b4095e299588461d80b52017e146bb7f": {
          "model_module": "@jupyter-widgets/controls",
          "model_name": "FloatProgressModel",
          "model_module_version": "1.5.0",
          "state": {
            "_view_name": "ProgressView",
            "style": "IPY_MODEL_944373c1bf744b79b2883a0775ef3a66",
            "_dom_classes": [],
            "description": "",
            "_model_name": "FloatProgressModel",
            "bar_style": "success",
            "max": 350,
            "_view_module": "@jupyter-widgets/controls",
            "_model_module_version": "1.5.0",
            "value": 350,
            "_view_count": null,
            "_view_module_version": "1.5.0",
            "orientation": "horizontal",
            "min": 0,
            "description_tooltip": null,
            "_model_module": "@jupyter-widgets/controls",
            "layout": "IPY_MODEL_25599a9eb0d2481faf4ca2118936dd25"
          }
        },
        "52ca3f30661649288e2ac9a76c5d1439": {
          "model_module": "@jupyter-widgets/controls",
          "model_name": "HTMLModel",
          "model_module_version": "1.5.0",
          "state": {
            "_view_name": "HTMLView",
            "style": "IPY_MODEL_a36aeabdb7c5482d86d365d0af238901",
            "_dom_classes": [],
            "description": "",
            "_model_name": "HTMLModel",
            "placeholder": "​",
            "_view_module": "@jupyter-widgets/controls",
            "_model_module_version": "1.5.0",
            "value": " 350/350 [00:00&lt;00:00, 8.39kB/s]",
            "_view_count": null,
            "_view_module_version": "1.5.0",
            "description_tooltip": null,
            "_model_module": "@jupyter-widgets/controls",
            "layout": "IPY_MODEL_b214253337924983aff9c3537d7d7545"
          }
        },
        "b63821f12b1946d293bb7b0aea76729c": {
          "model_module": "@jupyter-widgets/controls",
          "model_name": "DescriptionStyleModel",
          "model_module_version": "1.5.0",
          "state": {
            "_view_name": "StyleView",
            "_model_name": "DescriptionStyleModel",
            "description_width": "",
            "_view_module": "@jupyter-widgets/base",
            "_model_module_version": "1.5.0",
            "_view_count": null,
            "_view_module_version": "1.2.0",
            "_model_module": "@jupyter-widgets/controls"
          }
        },
        "fc0ccd8265eb42909573b77ceb44cbb7": {
          "model_module": "@jupyter-widgets/base",
          "model_name": "LayoutModel",
          "model_module_version": "1.2.0",
          "state": {
            "_view_name": "LayoutView",
            "grid_template_rows": null,
            "right": null,
            "justify_content": null,
            "_view_module": "@jupyter-widgets/base",
            "overflow": null,
            "_model_module_version": "1.2.0",
            "_view_count": null,
            "flex_flow": null,
            "width": null,
            "min_width": null,
            "border": null,
            "align_items": null,
            "bottom": null,
            "_model_module": "@jupyter-widgets/base",
            "top": null,
            "grid_column": null,
            "overflow_y": null,
            "overflow_x": null,
            "grid_auto_flow": null,
            "grid_area": null,
            "grid_template_columns": null,
            "flex": null,
            "_model_name": "LayoutModel",
            "justify_items": null,
            "grid_row": null,
            "max_height": null,
            "align_content": null,
            "visibility": null,
            "align_self": null,
            "height": null,
            "min_height": null,
            "padding": null,
            "grid_auto_rows": null,
            "grid_gap": null,
            "max_width": null,
            "order": null,
            "_view_module_version": "1.2.0",
            "grid_template_areas": null,
            "object_position": null,
            "object_fit": null,
            "grid_auto_columns": null,
            "margin": null,
            "display": null,
            "left": null
          }
        },
        "944373c1bf744b79b2883a0775ef3a66": {
          "model_module": "@jupyter-widgets/controls",
          "model_name": "ProgressStyleModel",
          "model_module_version": "1.5.0",
          "state": {
            "_view_name": "StyleView",
            "_model_name": "ProgressStyleModel",
            "description_width": "",
            "_view_module": "@jupyter-widgets/base",
            "_model_module_version": "1.5.0",
            "_view_count": null,
            "_view_module_version": "1.2.0",
            "bar_color": null,
            "_model_module": "@jupyter-widgets/controls"
          }
        },
        "25599a9eb0d2481faf4ca2118936dd25": {
          "model_module": "@jupyter-widgets/base",
          "model_name": "LayoutModel",
          "model_module_version": "1.2.0",
          "state": {
            "_view_name": "LayoutView",
            "grid_template_rows": null,
            "right": null,
            "justify_content": null,
            "_view_module": "@jupyter-widgets/base",
            "overflow": null,
            "_model_module_version": "1.2.0",
            "_view_count": null,
            "flex_flow": null,
            "width": null,
            "min_width": null,
            "border": null,
            "align_items": null,
            "bottom": null,
            "_model_module": "@jupyter-widgets/base",
            "top": null,
            "grid_column": null,
            "overflow_y": null,
            "overflow_x": null,
            "grid_auto_flow": null,
            "grid_area": null,
            "grid_template_columns": null,
            "flex": null,
            "_model_name": "LayoutModel",
            "justify_items": null,
            "grid_row": null,
            "max_height": null,
            "align_content": null,
            "visibility": null,
            "align_self": null,
            "height": null,
            "min_height": null,
            "padding": null,
            "grid_auto_rows": null,
            "grid_gap": null,
            "max_width": null,
            "order": null,
            "_view_module_version": "1.2.0",
            "grid_template_areas": null,
            "object_position": null,
            "object_fit": null,
            "grid_auto_columns": null,
            "margin": null,
            "display": null,
            "left": null
          }
        },
        "a36aeabdb7c5482d86d365d0af238901": {
          "model_module": "@jupyter-widgets/controls",
          "model_name": "DescriptionStyleModel",
          "model_module_version": "1.5.0",
          "state": {
            "_view_name": "StyleView",
            "_model_name": "DescriptionStyleModel",
            "description_width": "",
            "_view_module": "@jupyter-widgets/base",
            "_model_module_version": "1.5.0",
            "_view_count": null,
            "_view_module_version": "1.2.0",
            "_model_module": "@jupyter-widgets/controls"
          }
        },
        "b214253337924983aff9c3537d7d7545": {
          "model_module": "@jupyter-widgets/base",
          "model_name": "LayoutModel",
          "model_module_version": "1.2.0",
          "state": {
            "_view_name": "LayoutView",
            "grid_template_rows": null,
            "right": null,
            "justify_content": null,
            "_view_module": "@jupyter-widgets/base",
            "overflow": null,
            "_model_module_version": "1.2.0",
            "_view_count": null,
            "flex_flow": null,
            "width": null,
            "min_width": null,
            "border": null,
            "align_items": null,
            "bottom": null,
            "_model_module": "@jupyter-widgets/base",
            "top": null,
            "grid_column": null,
            "overflow_y": null,
            "overflow_x": null,
            "grid_auto_flow": null,
            "grid_area": null,
            "grid_template_columns": null,
            "flex": null,
            "_model_name": "LayoutModel",
            "justify_items": null,
            "grid_row": null,
            "max_height": null,
            "align_content": null,
            "visibility": null,
            "align_self": null,
            "height": null,
            "min_height": null,
            "padding": null,
            "grid_auto_rows": null,
            "grid_gap": null,
            "max_width": null,
            "order": null,
            "_view_module_version": "1.2.0",
            "grid_template_areas": null,
            "object_position": null,
            "object_fit": null,
            "grid_auto_columns": null,
            "margin": null,
            "display": null,
            "left": null
          }
        },
        "a33f2664b75945e881448771849e4bc0": {
          "model_module": "@jupyter-widgets/controls",
          "model_name": "HBoxModel",
          "model_module_version": "1.5.0",
          "state": {
            "_view_name": "HBoxView",
            "_dom_classes": [],
            "_model_name": "HBoxModel",
            "_view_module": "@jupyter-widgets/controls",
            "_model_module_version": "1.5.0",
            "_view_count": null,
            "_view_module_version": "1.5.0",
            "box_style": "",
            "layout": "IPY_MODEL_57f4418b922445e289affe7b4721693a",
            "_model_module": "@jupyter-widgets/controls",
            "children": [
              "IPY_MODEL_23c09193b53e4cb4bc3b5187d1bacb50",
              "IPY_MODEL_1ccaefa89cb24ce5b1c3a39afbed2d44",
              "IPY_MODEL_5d5e11e63a3a4aaeb93f4b9e611d8088"
            ]
          }
        },
        "57f4418b922445e289affe7b4721693a": {
          "model_module": "@jupyter-widgets/base",
          "model_name": "LayoutModel",
          "model_module_version": "1.2.0",
          "state": {
            "_view_name": "LayoutView",
            "grid_template_rows": null,
            "right": null,
            "justify_content": null,
            "_view_module": "@jupyter-widgets/base",
            "overflow": null,
            "_model_module_version": "1.2.0",
            "_view_count": null,
            "flex_flow": null,
            "width": null,
            "min_width": null,
            "border": null,
            "align_items": null,
            "bottom": null,
            "_model_module": "@jupyter-widgets/base",
            "top": null,
            "grid_column": null,
            "overflow_y": null,
            "overflow_x": null,
            "grid_auto_flow": null,
            "grid_area": null,
            "grid_template_columns": null,
            "flex": null,
            "_model_name": "LayoutModel",
            "justify_items": null,
            "grid_row": null,
            "max_height": null,
            "align_content": null,
            "visibility": null,
            "align_self": null,
            "height": null,
            "min_height": null,
            "padding": null,
            "grid_auto_rows": null,
            "grid_gap": null,
            "max_width": null,
            "order": null,
            "_view_module_version": "1.2.0",
            "grid_template_areas": null,
            "object_position": null,
            "object_fit": null,
            "grid_auto_columns": null,
            "margin": null,
            "display": null,
            "left": null
          }
        },
        "23c09193b53e4cb4bc3b5187d1bacb50": {
          "model_module": "@jupyter-widgets/controls",
          "model_name": "HTMLModel",
          "model_module_version": "1.5.0",
          "state": {
            "_view_name": "HTMLView",
            "style": "IPY_MODEL_f7cc5fa8c7cd44cda6dab54866f22e7f",
            "_dom_classes": [],
            "description": "",
            "_model_name": "HTMLModel",
            "placeholder": "​",
            "_view_module": "@jupyter-widgets/controls",
            "_model_module_version": "1.5.0",
            "value": "Downloading: 100%",
            "_view_count": null,
            "_view_module_version": "1.5.0",
            "description_tooltip": null,
            "_model_module": "@jupyter-widgets/controls",
            "layout": "IPY_MODEL_587ab73880544f53aef4fe448c0f8b94"
          }
        },
        "1ccaefa89cb24ce5b1c3a39afbed2d44": {
          "model_module": "@jupyter-widgets/controls",
          "model_name": "FloatProgressModel",
          "model_module_version": "1.5.0",
          "state": {
            "_view_name": "ProgressView",
            "style": "IPY_MODEL_b308f3442e5f48cc8f61ec07e2f78b0a",
            "_dom_classes": [],
            "description": "",
            "_model_name": "FloatProgressModel",
            "bar_style": "success",
            "max": 13156,
            "_view_module": "@jupyter-widgets/controls",
            "_model_module_version": "1.5.0",
            "value": 13156,
            "_view_count": null,
            "_view_module_version": "1.5.0",
            "orientation": "horizontal",
            "min": 0,
            "description_tooltip": null,
            "_model_module": "@jupyter-widgets/controls",
            "layout": "IPY_MODEL_cff0c4cd2136428eb7a87c060612248d"
          }
        },
        "5d5e11e63a3a4aaeb93f4b9e611d8088": {
          "model_module": "@jupyter-widgets/controls",
          "model_name": "HTMLModel",
          "model_module_version": "1.5.0",
          "state": {
            "_view_name": "HTMLView",
            "style": "IPY_MODEL_910aef2f4758423bb56b53f92b33e3a7",
            "_dom_classes": [],
            "description": "",
            "_model_name": "HTMLModel",
            "placeholder": "​",
            "_view_module": "@jupyter-widgets/controls",
            "_model_module_version": "1.5.0",
            "value": " 13.2k/13.2k [00:00&lt;00:00, 326kB/s]",
            "_view_count": null,
            "_view_module_version": "1.5.0",
            "description_tooltip": null,
            "_model_module": "@jupyter-widgets/controls",
            "layout": "IPY_MODEL_0d1838b8c43a4c90aa04fd6a3e41e7be"
          }
        },
        "f7cc5fa8c7cd44cda6dab54866f22e7f": {
          "model_module": "@jupyter-widgets/controls",
          "model_name": "DescriptionStyleModel",
          "model_module_version": "1.5.0",
          "state": {
            "_view_name": "StyleView",
            "_model_name": "DescriptionStyleModel",
            "description_width": "",
            "_view_module": "@jupyter-widgets/base",
            "_model_module_version": "1.5.0",
            "_view_count": null,
            "_view_module_version": "1.2.0",
            "_model_module": "@jupyter-widgets/controls"
          }
        },
        "587ab73880544f53aef4fe448c0f8b94": {
          "model_module": "@jupyter-widgets/base",
          "model_name": "LayoutModel",
          "model_module_version": "1.2.0",
          "state": {
            "_view_name": "LayoutView",
            "grid_template_rows": null,
            "right": null,
            "justify_content": null,
            "_view_module": "@jupyter-widgets/base",
            "overflow": null,
            "_model_module_version": "1.2.0",
            "_view_count": null,
            "flex_flow": null,
            "width": null,
            "min_width": null,
            "border": null,
            "align_items": null,
            "bottom": null,
            "_model_module": "@jupyter-widgets/base",
            "top": null,
            "grid_column": null,
            "overflow_y": null,
            "overflow_x": null,
            "grid_auto_flow": null,
            "grid_area": null,
            "grid_template_columns": null,
            "flex": null,
            "_model_name": "LayoutModel",
            "justify_items": null,
            "grid_row": null,
            "max_height": null,
            "align_content": null,
            "visibility": null,
            "align_self": null,
            "height": null,
            "min_height": null,
            "padding": null,
            "grid_auto_rows": null,
            "grid_gap": null,
            "max_width": null,
            "order": null,
            "_view_module_version": "1.2.0",
            "grid_template_areas": null,
            "object_position": null,
            "object_fit": null,
            "grid_auto_columns": null,
            "margin": null,
            "display": null,
            "left": null
          }
        },
        "b308f3442e5f48cc8f61ec07e2f78b0a": {
          "model_module": "@jupyter-widgets/controls",
          "model_name": "ProgressStyleModel",
          "model_module_version": "1.5.0",
          "state": {
            "_view_name": "StyleView",
            "_model_name": "ProgressStyleModel",
            "description_width": "",
            "_view_module": "@jupyter-widgets/base",
            "_model_module_version": "1.5.0",
            "_view_count": null,
            "_view_module_version": "1.2.0",
            "bar_color": null,
            "_model_module": "@jupyter-widgets/controls"
          }
        },
        "cff0c4cd2136428eb7a87c060612248d": {
          "model_module": "@jupyter-widgets/base",
          "model_name": "LayoutModel",
          "model_module_version": "1.2.0",
          "state": {
            "_view_name": "LayoutView",
            "grid_template_rows": null,
            "right": null,
            "justify_content": null,
            "_view_module": "@jupyter-widgets/base",
            "overflow": null,
            "_model_module_version": "1.2.0",
            "_view_count": null,
            "flex_flow": null,
            "width": null,
            "min_width": null,
            "border": null,
            "align_items": null,
            "bottom": null,
            "_model_module": "@jupyter-widgets/base",
            "top": null,
            "grid_column": null,
            "overflow_y": null,
            "overflow_x": null,
            "grid_auto_flow": null,
            "grid_area": null,
            "grid_template_columns": null,
            "flex": null,
            "_model_name": "LayoutModel",
            "justify_items": null,
            "grid_row": null,
            "max_height": null,
            "align_content": null,
            "visibility": null,
            "align_self": null,
            "height": null,
            "min_height": null,
            "padding": null,
            "grid_auto_rows": null,
            "grid_gap": null,
            "max_width": null,
            "order": null,
            "_view_module_version": "1.2.0",
            "grid_template_areas": null,
            "object_position": null,
            "object_fit": null,
            "grid_auto_columns": null,
            "margin": null,
            "display": null,
            "left": null
          }
        },
        "910aef2f4758423bb56b53f92b33e3a7": {
          "model_module": "@jupyter-widgets/controls",
          "model_name": "DescriptionStyleModel",
          "model_module_version": "1.5.0",
          "state": {
            "_view_name": "StyleView",
            "_model_name": "DescriptionStyleModel",
            "description_width": "",
            "_view_module": "@jupyter-widgets/base",
            "_model_module_version": "1.5.0",
            "_view_count": null,
            "_view_module_version": "1.2.0",
            "_model_module": "@jupyter-widgets/controls"
          }
        },
        "0d1838b8c43a4c90aa04fd6a3e41e7be": {
          "model_module": "@jupyter-widgets/base",
          "model_name": "LayoutModel",
          "model_module_version": "1.2.0",
          "state": {
            "_view_name": "LayoutView",
            "grid_template_rows": null,
            "right": null,
            "justify_content": null,
            "_view_module": "@jupyter-widgets/base",
            "overflow": null,
            "_model_module_version": "1.2.0",
            "_view_count": null,
            "flex_flow": null,
            "width": null,
            "min_width": null,
            "border": null,
            "align_items": null,
            "bottom": null,
            "_model_module": "@jupyter-widgets/base",
            "top": null,
            "grid_column": null,
            "overflow_y": null,
            "overflow_x": null,
            "grid_auto_flow": null,
            "grid_area": null,
            "grid_template_columns": null,
            "flex": null,
            "_model_name": "LayoutModel",
            "justify_items": null,
            "grid_row": null,
            "max_height": null,
            "align_content": null,
            "visibility": null,
            "align_self": null,
            "height": null,
            "min_height": null,
            "padding": null,
            "grid_auto_rows": null,
            "grid_gap": null,
            "max_width": null,
            "order": null,
            "_view_module_version": "1.2.0",
            "grid_template_areas": null,
            "object_position": null,
            "object_fit": null,
            "grid_auto_columns": null,
            "margin": null,
            "display": null,
            "left": null
          }
        },
        "1c960c5737a141f9bc5fc110395b649d": {
          "model_module": "@jupyter-widgets/controls",
          "model_name": "HBoxModel",
          "model_module_version": "1.5.0",
          "state": {
            "_view_name": "HBoxView",
            "_dom_classes": [],
            "_model_name": "HBoxModel",
            "_view_module": "@jupyter-widgets/controls",
            "_model_module_version": "1.5.0",
            "_view_count": null,
            "_view_module_version": "1.5.0",
            "box_style": "",
            "layout": "IPY_MODEL_843bb3ac3a5d4ecb9c90e73040c3c6ef",
            "_model_module": "@jupyter-widgets/controls",
            "children": [
              "IPY_MODEL_69e9a11af94d46dfa869ca0aabc6a81f",
              "IPY_MODEL_5c74fd9b2bf04f4198ad2b0c3f896e83",
              "IPY_MODEL_287ff304192543f59bf55d6ba30dd7dd"
            ]
          }
        },
        "843bb3ac3a5d4ecb9c90e73040c3c6ef": {
          "model_module": "@jupyter-widgets/base",
          "model_name": "LayoutModel",
          "model_module_version": "1.2.0",
          "state": {
            "_view_name": "LayoutView",
            "grid_template_rows": null,
            "right": null,
            "justify_content": null,
            "_view_module": "@jupyter-widgets/base",
            "overflow": null,
            "_model_module_version": "1.2.0",
            "_view_count": null,
            "flex_flow": null,
            "width": null,
            "min_width": null,
            "border": null,
            "align_items": null,
            "bottom": null,
            "_model_module": "@jupyter-widgets/base",
            "top": null,
            "grid_column": null,
            "overflow_y": null,
            "overflow_x": null,
            "grid_auto_flow": null,
            "grid_area": null,
            "grid_template_columns": null,
            "flex": null,
            "_model_name": "LayoutModel",
            "justify_items": null,
            "grid_row": null,
            "max_height": null,
            "align_content": null,
            "visibility": null,
            "align_self": null,
            "height": null,
            "min_height": null,
            "padding": null,
            "grid_auto_rows": null,
            "grid_gap": null,
            "max_width": null,
            "order": null,
            "_view_module_version": "1.2.0",
            "grid_template_areas": null,
            "object_position": null,
            "object_fit": null,
            "grid_auto_columns": null,
            "margin": null,
            "display": null,
            "left": null
          }
        },
        "69e9a11af94d46dfa869ca0aabc6a81f": {
          "model_module": "@jupyter-widgets/controls",
          "model_name": "HTMLModel",
          "model_module_version": "1.5.0",
          "state": {
            "_view_name": "HTMLView",
            "style": "IPY_MODEL_47839d82f7f04167b0f9e635951f6b35",
            "_dom_classes": [],
            "description": "",
            "_model_name": "HTMLModel",
            "placeholder": "​",
            "_view_module": "@jupyter-widgets/controls",
            "_model_module_version": "1.5.0",
            "value": "Downloading: 100%",
            "_view_count": null,
            "_view_module_version": "1.5.0",
            "description_tooltip": null,
            "_model_module": "@jupyter-widgets/controls",
            "layout": "IPY_MODEL_990e2b48bc3b489f87008e5f014c635b"
          }
        },
        "5c74fd9b2bf04f4198ad2b0c3f896e83": {
          "model_module": "@jupyter-widgets/controls",
          "model_name": "FloatProgressModel",
          "model_module_version": "1.5.0",
          "state": {
            "_view_name": "ProgressView",
            "style": "IPY_MODEL_8c6b3481995547179be193f3521c6b8f",
            "_dom_classes": [],
            "description": "",
            "_model_name": "FloatProgressModel",
            "bar_style": "success",
            "max": 231508,
            "_view_module": "@jupyter-widgets/controls",
            "_model_module_version": "1.5.0",
            "value": 231508,
            "_view_count": null,
            "_view_module_version": "1.5.0",
            "orientation": "horizontal",
            "min": 0,
            "description_tooltip": null,
            "_model_module": "@jupyter-widgets/controls",
            "layout": "IPY_MODEL_b4a569d058c444b893df1cd430d532cb"
          }
        },
        "287ff304192543f59bf55d6ba30dd7dd": {
          "model_module": "@jupyter-widgets/controls",
          "model_name": "HTMLModel",
          "model_module_version": "1.5.0",
          "state": {
            "_view_name": "HTMLView",
            "style": "IPY_MODEL_4c4687dd10924d3186a6e7679a020098",
            "_dom_classes": [],
            "description": "",
            "_model_name": "HTMLModel",
            "placeholder": "​",
            "_view_module": "@jupyter-widgets/controls",
            "_model_module_version": "1.5.0",
            "value": " 232k/232k [00:00&lt;00:00, 310kB/s]",
            "_view_count": null,
            "_view_module_version": "1.5.0",
            "description_tooltip": null,
            "_model_module": "@jupyter-widgets/controls",
            "layout": "IPY_MODEL_e95c717dc3614b41b305e9d0ac91cbbd"
          }
        },
        "47839d82f7f04167b0f9e635951f6b35": {
          "model_module": "@jupyter-widgets/controls",
          "model_name": "DescriptionStyleModel",
          "model_module_version": "1.5.0",
          "state": {
            "_view_name": "StyleView",
            "_model_name": "DescriptionStyleModel",
            "description_width": "",
            "_view_module": "@jupyter-widgets/base",
            "_model_module_version": "1.5.0",
            "_view_count": null,
            "_view_module_version": "1.2.0",
            "_model_module": "@jupyter-widgets/controls"
          }
        },
        "990e2b48bc3b489f87008e5f014c635b": {
          "model_module": "@jupyter-widgets/base",
          "model_name": "LayoutModel",
          "model_module_version": "1.2.0",
          "state": {
            "_view_name": "LayoutView",
            "grid_template_rows": null,
            "right": null,
            "justify_content": null,
            "_view_module": "@jupyter-widgets/base",
            "overflow": null,
            "_model_module_version": "1.2.0",
            "_view_count": null,
            "flex_flow": null,
            "width": null,
            "min_width": null,
            "border": null,
            "align_items": null,
            "bottom": null,
            "_model_module": "@jupyter-widgets/base",
            "top": null,
            "grid_column": null,
            "overflow_y": null,
            "overflow_x": null,
            "grid_auto_flow": null,
            "grid_area": null,
            "grid_template_columns": null,
            "flex": null,
            "_model_name": "LayoutModel",
            "justify_items": null,
            "grid_row": null,
            "max_height": null,
            "align_content": null,
            "visibility": null,
            "align_self": null,
            "height": null,
            "min_height": null,
            "padding": null,
            "grid_auto_rows": null,
            "grid_gap": null,
            "max_width": null,
            "order": null,
            "_view_module_version": "1.2.0",
            "grid_template_areas": null,
            "object_position": null,
            "object_fit": null,
            "grid_auto_columns": null,
            "margin": null,
            "display": null,
            "left": null
          }
        },
        "8c6b3481995547179be193f3521c6b8f": {
          "model_module": "@jupyter-widgets/controls",
          "model_name": "ProgressStyleModel",
          "model_module_version": "1.5.0",
          "state": {
            "_view_name": "StyleView",
            "_model_name": "ProgressStyleModel",
            "description_width": "",
            "_view_module": "@jupyter-widgets/base",
            "_model_module_version": "1.5.0",
            "_view_count": null,
            "_view_module_version": "1.2.0",
            "bar_color": null,
            "_model_module": "@jupyter-widgets/controls"
          }
        },
        "b4a569d058c444b893df1cd430d532cb": {
          "model_module": "@jupyter-widgets/base",
          "model_name": "LayoutModel",
          "model_module_version": "1.2.0",
          "state": {
            "_view_name": "LayoutView",
            "grid_template_rows": null,
            "right": null,
            "justify_content": null,
            "_view_module": "@jupyter-widgets/base",
            "overflow": null,
            "_model_module_version": "1.2.0",
            "_view_count": null,
            "flex_flow": null,
            "width": null,
            "min_width": null,
            "border": null,
            "align_items": null,
            "bottom": null,
            "_model_module": "@jupyter-widgets/base",
            "top": null,
            "grid_column": null,
            "overflow_y": null,
            "overflow_x": null,
            "grid_auto_flow": null,
            "grid_area": null,
            "grid_template_columns": null,
            "flex": null,
            "_model_name": "LayoutModel",
            "justify_items": null,
            "grid_row": null,
            "max_height": null,
            "align_content": null,
            "visibility": null,
            "align_self": null,
            "height": null,
            "min_height": null,
            "padding": null,
            "grid_auto_rows": null,
            "grid_gap": null,
            "max_width": null,
            "order": null,
            "_view_module_version": "1.2.0",
            "grid_template_areas": null,
            "object_position": null,
            "object_fit": null,
            "grid_auto_columns": null,
            "margin": null,
            "display": null,
            "left": null
          }
        },
        "4c4687dd10924d3186a6e7679a020098": {
          "model_module": "@jupyter-widgets/controls",
          "model_name": "DescriptionStyleModel",
          "model_module_version": "1.5.0",
          "state": {
            "_view_name": "StyleView",
            "_model_name": "DescriptionStyleModel",
            "description_width": "",
            "_view_module": "@jupyter-widgets/base",
            "_model_module_version": "1.5.0",
            "_view_count": null,
            "_view_module_version": "1.2.0",
            "_model_module": "@jupyter-widgets/controls"
          }
        },
        "e95c717dc3614b41b305e9d0ac91cbbd": {
          "model_module": "@jupyter-widgets/base",
          "model_name": "LayoutModel",
          "model_module_version": "1.2.0",
          "state": {
            "_view_name": "LayoutView",
            "grid_template_rows": null,
            "right": null,
            "justify_content": null,
            "_view_module": "@jupyter-widgets/base",
            "overflow": null,
            "_model_module_version": "1.2.0",
            "_view_count": null,
            "flex_flow": null,
            "width": null,
            "min_width": null,
            "border": null,
            "align_items": null,
            "bottom": null,
            "_model_module": "@jupyter-widgets/base",
            "top": null,
            "grid_column": null,
            "overflow_y": null,
            "overflow_x": null,
            "grid_auto_flow": null,
            "grid_area": null,
            "grid_template_columns": null,
            "flex": null,
            "_model_name": "LayoutModel",
            "justify_items": null,
            "grid_row": null,
            "max_height": null,
            "align_content": null,
            "visibility": null,
            "align_self": null,
            "height": null,
            "min_height": null,
            "padding": null,
            "grid_auto_rows": null,
            "grid_gap": null,
            "max_width": null,
            "order": null,
            "_view_module_version": "1.2.0",
            "grid_template_areas": null,
            "object_position": null,
            "object_fit": null,
            "grid_auto_columns": null,
            "margin": null,
            "display": null,
            "left": null
          }
        },
        "819633cd80af457c922b2c919f1f1954": {
          "model_module": "@jupyter-widgets/controls",
          "model_name": "HBoxModel",
          "model_module_version": "1.5.0",
          "state": {
            "_view_name": "HBoxView",
            "_dom_classes": [],
            "_model_name": "HBoxModel",
            "_view_module": "@jupyter-widgets/controls",
            "_model_module_version": "1.5.0",
            "_view_count": null,
            "_view_module_version": "1.5.0",
            "box_style": "",
            "layout": "IPY_MODEL_9c9daa50cbc24f6888ca3a7d3d0769bf",
            "_model_module": "@jupyter-widgets/controls",
            "children": [
              "IPY_MODEL_d3f3b69e5cd449ee86b0c6a9e8fb8507",
              "IPY_MODEL_8818647bac204fdc9288d6a3933b1af1",
              "IPY_MODEL_97eb2ca0a71f4cefab339e846a976b27"
            ]
          }
        },
        "9c9daa50cbc24f6888ca3a7d3d0769bf": {
          "model_module": "@jupyter-widgets/base",
          "model_name": "LayoutModel",
          "model_module_version": "1.2.0",
          "state": {
            "_view_name": "LayoutView",
            "grid_template_rows": null,
            "right": null,
            "justify_content": null,
            "_view_module": "@jupyter-widgets/base",
            "overflow": null,
            "_model_module_version": "1.2.0",
            "_view_count": null,
            "flex_flow": null,
            "width": null,
            "min_width": null,
            "border": null,
            "align_items": null,
            "bottom": null,
            "_model_module": "@jupyter-widgets/base",
            "top": null,
            "grid_column": null,
            "overflow_y": null,
            "overflow_x": null,
            "grid_auto_flow": null,
            "grid_area": null,
            "grid_template_columns": null,
            "flex": null,
            "_model_name": "LayoutModel",
            "justify_items": null,
            "grid_row": null,
            "max_height": null,
            "align_content": null,
            "visibility": null,
            "align_self": null,
            "height": null,
            "min_height": null,
            "padding": null,
            "grid_auto_rows": null,
            "grid_gap": null,
            "max_width": null,
            "order": null,
            "_view_module_version": "1.2.0",
            "grid_template_areas": null,
            "object_position": null,
            "object_fit": null,
            "grid_auto_columns": null,
            "margin": null,
            "display": null,
            "left": null
          }
        },
        "d3f3b69e5cd449ee86b0c6a9e8fb8507": {
          "model_module": "@jupyter-widgets/controls",
          "model_name": "HTMLModel",
          "model_module_version": "1.5.0",
          "state": {
            "_view_name": "HTMLView",
            "style": "IPY_MODEL_00485664e7c24a268d44865e7c0b666d",
            "_dom_classes": [],
            "description": "",
            "_model_name": "HTMLModel",
            "placeholder": "​",
            "_view_module": "@jupyter-widgets/controls",
            "_model_module_version": "1.5.0",
            "value": "Downloading: 100%",
            "_view_count": null,
            "_view_module_version": "1.5.0",
            "description_tooltip": null,
            "_model_module": "@jupyter-widgets/controls",
            "layout": "IPY_MODEL_03219da00aa54164b968f1c9043c0eaf"
          }
        },
        "8818647bac204fdc9288d6a3933b1af1": {
          "model_module": "@jupyter-widgets/controls",
          "model_name": "FloatProgressModel",
          "model_module_version": "1.5.0",
          "state": {
            "_view_name": "ProgressView",
            "style": "IPY_MODEL_3be9a984b39a46ee8e129b8c17649a56",
            "_dom_classes": [],
            "description": "",
            "_model_name": "FloatProgressModel",
            "bar_style": "success",
            "max": 190,
            "_view_module": "@jupyter-widgets/controls",
            "_model_module_version": "1.5.0",
            "value": 190,
            "_view_count": null,
            "_view_module_version": "1.5.0",
            "orientation": "horizontal",
            "min": 0,
            "description_tooltip": null,
            "_model_module": "@jupyter-widgets/controls",
            "layout": "IPY_MODEL_3bf0e7ee610c4fc48c2293f821ea76ed"
          }
        },
        "97eb2ca0a71f4cefab339e846a976b27": {
          "model_module": "@jupyter-widgets/controls",
          "model_name": "HTMLModel",
          "model_module_version": "1.5.0",
          "state": {
            "_view_name": "HTMLView",
            "style": "IPY_MODEL_86a2443138ae4ee591ee2104670a9f82",
            "_dom_classes": [],
            "description": "",
            "_model_name": "HTMLModel",
            "placeholder": "​",
            "_view_module": "@jupyter-widgets/controls",
            "_model_module_version": "1.5.0",
            "value": " 190/190 [00:00&lt;00:00, 4.83kB/s]",
            "_view_count": null,
            "_view_module_version": "1.5.0",
            "description_tooltip": null,
            "_model_module": "@jupyter-widgets/controls",
            "layout": "IPY_MODEL_0dbe621de1e84661a08439c310007120"
          }
        },
        "00485664e7c24a268d44865e7c0b666d": {
          "model_module": "@jupyter-widgets/controls",
          "model_name": "DescriptionStyleModel",
          "model_module_version": "1.5.0",
          "state": {
            "_view_name": "StyleView",
            "_model_name": "DescriptionStyleModel",
            "description_width": "",
            "_view_module": "@jupyter-widgets/base",
            "_model_module_version": "1.5.0",
            "_view_count": null,
            "_view_module_version": "1.2.0",
            "_model_module": "@jupyter-widgets/controls"
          }
        },
        "03219da00aa54164b968f1c9043c0eaf": {
          "model_module": "@jupyter-widgets/base",
          "model_name": "LayoutModel",
          "model_module_version": "1.2.0",
          "state": {
            "_view_name": "LayoutView",
            "grid_template_rows": null,
            "right": null,
            "justify_content": null,
            "_view_module": "@jupyter-widgets/base",
            "overflow": null,
            "_model_module_version": "1.2.0",
            "_view_count": null,
            "flex_flow": null,
            "width": null,
            "min_width": null,
            "border": null,
            "align_items": null,
            "bottom": null,
            "_model_module": "@jupyter-widgets/base",
            "top": null,
            "grid_column": null,
            "overflow_y": null,
            "overflow_x": null,
            "grid_auto_flow": null,
            "grid_area": null,
            "grid_template_columns": null,
            "flex": null,
            "_model_name": "LayoutModel",
            "justify_items": null,
            "grid_row": null,
            "max_height": null,
            "align_content": null,
            "visibility": null,
            "align_self": null,
            "height": null,
            "min_height": null,
            "padding": null,
            "grid_auto_rows": null,
            "grid_gap": null,
            "max_width": null,
            "order": null,
            "_view_module_version": "1.2.0",
            "grid_template_areas": null,
            "object_position": null,
            "object_fit": null,
            "grid_auto_columns": null,
            "margin": null,
            "display": null,
            "left": null
          }
        },
        "3be9a984b39a46ee8e129b8c17649a56": {
          "model_module": "@jupyter-widgets/controls",
          "model_name": "ProgressStyleModel",
          "model_module_version": "1.5.0",
          "state": {
            "_view_name": "StyleView",
            "_model_name": "ProgressStyleModel",
            "description_width": "",
            "_view_module": "@jupyter-widgets/base",
            "_model_module_version": "1.5.0",
            "_view_count": null,
            "_view_module_version": "1.2.0",
            "bar_color": null,
            "_model_module": "@jupyter-widgets/controls"
          }
        },
        "3bf0e7ee610c4fc48c2293f821ea76ed": {
          "model_module": "@jupyter-widgets/base",
          "model_name": "LayoutModel",
          "model_module_version": "1.2.0",
          "state": {
            "_view_name": "LayoutView",
            "grid_template_rows": null,
            "right": null,
            "justify_content": null,
            "_view_module": "@jupyter-widgets/base",
            "overflow": null,
            "_model_module_version": "1.2.0",
            "_view_count": null,
            "flex_flow": null,
            "width": null,
            "min_width": null,
            "border": null,
            "align_items": null,
            "bottom": null,
            "_model_module": "@jupyter-widgets/base",
            "top": null,
            "grid_column": null,
            "overflow_y": null,
            "overflow_x": null,
            "grid_auto_flow": null,
            "grid_area": null,
            "grid_template_columns": null,
            "flex": null,
            "_model_name": "LayoutModel",
            "justify_items": null,
            "grid_row": null,
            "max_height": null,
            "align_content": null,
            "visibility": null,
            "align_self": null,
            "height": null,
            "min_height": null,
            "padding": null,
            "grid_auto_rows": null,
            "grid_gap": null,
            "max_width": null,
            "order": null,
            "_view_module_version": "1.2.0",
            "grid_template_areas": null,
            "object_position": null,
            "object_fit": null,
            "grid_auto_columns": null,
            "margin": null,
            "display": null,
            "left": null
          }
        },
        "86a2443138ae4ee591ee2104670a9f82": {
          "model_module": "@jupyter-widgets/controls",
          "model_name": "DescriptionStyleModel",
          "model_module_version": "1.5.0",
          "state": {
            "_view_name": "StyleView",
            "_model_name": "DescriptionStyleModel",
            "description_width": "",
            "_view_module": "@jupyter-widgets/base",
            "_model_module_version": "1.5.0",
            "_view_count": null,
            "_view_module_version": "1.2.0",
            "_model_module": "@jupyter-widgets/controls"
          }
        },
        "0dbe621de1e84661a08439c310007120": {
          "model_module": "@jupyter-widgets/base",
          "model_name": "LayoutModel",
          "model_module_version": "1.2.0",
          "state": {
            "_view_name": "LayoutView",
            "grid_template_rows": null,
            "right": null,
            "justify_content": null,
            "_view_module": "@jupyter-widgets/base",
            "overflow": null,
            "_model_module_version": "1.2.0",
            "_view_count": null,
            "flex_flow": null,
            "width": null,
            "min_width": null,
            "border": null,
            "align_items": null,
            "bottom": null,
            "_model_module": "@jupyter-widgets/base",
            "top": null,
            "grid_column": null,
            "overflow_y": null,
            "overflow_x": null,
            "grid_auto_flow": null,
            "grid_area": null,
            "grid_template_columns": null,
            "flex": null,
            "_model_name": "LayoutModel",
            "justify_items": null,
            "grid_row": null,
            "max_height": null,
            "align_content": null,
            "visibility": null,
            "align_self": null,
            "height": null,
            "min_height": null,
            "padding": null,
            "grid_auto_rows": null,
            "grid_gap": null,
            "max_width": null,
            "order": null,
            "_view_module_version": "1.2.0",
            "grid_template_areas": null,
            "object_position": null,
            "object_fit": null,
            "grid_auto_columns": null,
            "margin": null,
            "display": null,
            "left": null
          }
        }
      }
    }
  },
  "nbformat": 4,
  "nbformat_minor": 0
}