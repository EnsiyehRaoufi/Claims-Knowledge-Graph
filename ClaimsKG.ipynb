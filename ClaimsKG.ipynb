{
  "cells": [
    {
      "cell_type": "markdown",
      "metadata": {
        "id": "view-in-github",
        "colab_type": "text"
      },
      "source": [
        "<a href=\"https://colab.research.google.com/github/EnsiyehRaoufi/Claims-Knowledge-Graph/blob/main/ClaimsKG.ipynb\" target=\"_parent\"><img src=\"https://colab.research.google.com/assets/colab-badge.svg\" alt=\"Open In Colab\"/></a>"
      ]
    },
    {
      "cell_type": "markdown",
      "metadata": {
        "id": "toSGqzMg6-cF"
      },
      "source": [
        "#Claims Knowledge Graph Classification\n",
        "\n",
        "### Introduction\n",
        "\n",
        "\"ClaimsKG is a structured database which serves as a registry of claims. It provides an entry point for researchers to discover claims and involved entities, also providing links to fact-checking sites and their results. Basis of the database is a knowledge graph which provides data about claims, metadata (such as their publishing site), involved entities (which we have annotated using state-of-the-art NLP techniques) and some normalized truth ratings. ClaimsKG is generated through a (semi-)automated pipeline which harvests claims and respective metadata from popular fact-checking sites on a regular basis, lifts data into an RDF/S model, which exploits established schema such as schema.org and NIF, and annotates claims with related entities from DBpedia.\" [[1]](#1)\n",
        "\n",
        "I extracted the true, false and mixture claims using ClaimsKG's web interface [Claim Explorer](https://data.gesis.org/claimskg/explorer/home). There are 27588 goal claims (4404 True, 12350 False, 10834 Mixture).\n",
        "\n",
        "Because this explorer export the results to a csv form just for a maximum of 10000 rows, so I exported each of true, false and mixture records in separate csv files. Because the distribution of all types of claims is not uniform, and both of the false and mixture claims have more than 10000 records, we lost 3184 claims to extract. But in comparison with the data set size and also, regarding to a low difference between number of total false and mixture claims, I guess it's not going to make a mistake. \n",
        "\n",
        "### Example\n",
        "### Cleaning\n",
        "### Final Advice\n",
        "\n",
        "-------------------\n",
        "<a id=\"1\">[1]</a> \n",
        "https://data.gesis.org/claimskg/site/"
      ]
    },
    {
      "cell_type": "markdown",
      "metadata": {
        "id": "DnC6V59P6-cQ"
      },
      "source": [
        "# Data Set\n",
        "\n",
        "The data is contained in three files:\n",
        "\n",
        "* claimskg_false.csv - containing false claims and meta data about each claim (text, date, author,keywords, source, etc.)\n",
        "* claimskg_mixture.csv - containing mixture claims and meta data about each claim (text, date, author,keywords, source, etc.)\n",
        "* claimskg_true.csv - containing true claims and meta data about each claim (text, date, author,keywords, source, etc.)\n",
        "\n",
        "Each of these 3 csv files contains below features:\n",
        "\n",
        "* id (object) - claim link\n",
        "* text (object) - claim text\n",
        "* date (object) - claim published date\n",
        "* truthRating (int64) - \n",
        "* ratingName (bool)\n",
        "* author (object)\n",
        "* headline (object)\n",
        "* named_entities_claim (object)\n",
        "* named_entities_article (object)\n",
        "* keywords (object)\n",
        "* source (object)\n",
        "* sourceURL (object)\n",
        "* link (object)\n",
        "* language (object)\n",
        "\n",
        "**Note:** You may need to "
      ]
    },
    {
      "cell_type": "markdown",
      "metadata": {
        "id": "zl77HXSeoVDr"
      },
      "source": [
        "# Installing and importing required packages"
      ]
    },
    {
      "cell_type": "code",
      "execution_count": 2,
      "metadata": {
        "colab": {
          "base_uri": "https://localhost:8080/",
          "height": 1000
        },
        "id": "8fhFeE03I_b4",
        "outputId": "f5727412-8b34-4e7d-d8ac-b43f7e2d8914"
      },
      "outputs": [
        {
          "output_type": "stream",
          "name": "stdout",
          "text": [
            "Requirement already satisfied: numpy in /usr/local/lib/python3.7/dist-packages (1.21.5)\n",
            "Collecting autogluon\n",
            "  Downloading autogluon-0.3.1-py3-none-any.whl (9.9 kB)\n",
            "Collecting autogluon.features==0.3.1\n",
            "  Downloading autogluon.features-0.3.1-py3-none-any.whl (56 kB)\n",
            "\u001b[K     |████████████████████████████████| 56 kB 6.7 MB/s \n",
            "\u001b[?25hCollecting autogluon.vision==0.3.1\n",
            "  Downloading autogluon.vision-0.3.1-py3-none-any.whl (38 kB)\n",
            "Collecting autogluon.tabular[all]==0.3.1\n",
            "  Downloading autogluon.tabular-0.3.1-py3-none-any.whl (273 kB)\n",
            "\u001b[K     |████████████████████████████████| 273 kB 34.9 MB/s \n",
            "\u001b[?25hCollecting autogluon.extra==0.3.1\n",
            "  Downloading autogluon.extra-0.3.1-py3-none-any.whl (28 kB)\n",
            "Collecting autogluon.mxnet==0.3.1\n",
            "  Downloading autogluon.mxnet-0.3.1-py3-none-any.whl (33 kB)\n",
            "Collecting autogluon.core==0.3.1\n",
            "  Downloading autogluon.core-0.3.1-py3-none-any.whl (352 kB)\n",
            "\u001b[K     |████████████████████████████████| 352 kB 63.6 MB/s \n",
            "\u001b[?25hCollecting autogluon.text==0.3.1\n",
            "  Downloading autogluon.text-0.3.1-py3-none-any.whl (52 kB)\n",
            "\u001b[K     |████████████████████████████████| 52 kB 37.6 MB/s \n",
            "\u001b[?25hRequirement already satisfied: dill<1.0,>=0.3.3 in /usr/local/lib/python3.7/dist-packages (from autogluon.core==0.3.1->autogluon) (0.3.4)\n",
            "Collecting ConfigSpace==0.4.19\n",
            "  Downloading ConfigSpace-0.4.19-cp37-cp37m-manylinux2014_x86_64.whl (4.2 MB)\n",
            "\u001b[K     |████████████████████████████████| 4.2 MB 72.1 MB/s \n",
            "\u001b[?25hRequirement already satisfied: autograd>=1.3 in /usr/local/lib/python3.7/dist-packages (from autogluon.core==0.3.1->autogluon) (1.3)\n",
            "Requirement already satisfied: tornado>=5.0.1 in /usr/local/lib/python3.7/dist-packages (from autogluon.core==0.3.1->autogluon) (5.1.1)\n",
            "Requirement already satisfied: matplotlib in /usr/local/lib/python3.7/dist-packages (from autogluon.core==0.3.1->autogluon) (3.2.2)\n",
            "Collecting paramiko>=2.4\n",
            "  Downloading paramiko-2.9.2-py2.py3-none-any.whl (210 kB)\n",
            "\u001b[K     |████████████████████████████████| 210 kB 66.4 MB/s \n",
            "\u001b[?25hRequirement already satisfied: tqdm>=4.38.0 in /usr/local/lib/python3.7/dist-packages (from autogluon.core==0.3.1->autogluon) (4.62.3)\n",
            "Requirement already satisfied: requests in /usr/local/lib/python3.7/dist-packages (from autogluon.core==0.3.1->autogluon) (2.23.0)\n",
            "Collecting scipy<1.7,>=1.5.4\n",
            "  Downloading scipy-1.6.3-cp37-cp37m-manylinux1_x86_64.whl (27.4 MB)\n",
            "\u001b[K     |████████████████████████████████| 27.4 MB 72.9 MB/s \n",
            "\u001b[?25hCollecting distributed>=2.6.0\n",
            "  Downloading distributed-2022.2.0-py3-none-any.whl (837 kB)\n",
            "\u001b[K     |████████████████████████████████| 837 kB 97.5 MB/s \n",
            "\u001b[?25hRequirement already satisfied: graphviz<1.0,>=0.8.1 in /usr/local/lib/python3.7/dist-packages (from autogluon.core==0.3.1->autogluon) (0.10.1)\n",
            "Requirement already satisfied: cython in /usr/local/lib/python3.7/dist-packages (from autogluon.core==0.3.1->autogluon) (0.29.27)\n",
            "Requirement already satisfied: pandas<2.0,>=1.0.0 in /usr/local/lib/python3.7/dist-packages (from autogluon.core==0.3.1->autogluon) (1.3.5)\n",
            "Requirement already satisfied: dask>=2.6.0 in /usr/local/lib/python3.7/dist-packages (from autogluon.core==0.3.1->autogluon) (2.12.0)\n",
            "Requirement already satisfied: numpy<1.22,>=1.19 in /usr/local/lib/python3.7/dist-packages (from autogluon.core==0.3.1->autogluon) (1.21.5)\n",
            "Collecting boto3\n",
            "  Downloading boto3-1.21.1-py3-none-any.whl (132 kB)\n",
            "\u001b[K     |████████████████████████████████| 132 kB 99.5 MB/s \n",
            "\u001b[?25hCollecting scikit-learn<0.25,>=0.23.2\n",
            "  Downloading scikit_learn-0.24.2-cp37-cp37m-manylinux2010_x86_64.whl (22.3 MB)\n",
            "\u001b[K     |████████████████████████████████| 22.3 MB 1.2 MB/s \n",
            "\u001b[?25hCollecting gluoncv<0.10.5,>=0.10.4\n",
            "  Downloading gluoncv-0.10.4.post4-py2.py3-none-any.whl (1.3 MB)\n",
            "\u001b[K     |████████████████████████████████| 1.3 MB 69.9 MB/s \n",
            "\u001b[?25hRequirement already satisfied: pytest in /usr/local/lib/python3.7/dist-packages (from autogluon.extra==0.3.1->autogluon) (3.6.4)\n",
            "Collecting openml\n",
            "  Downloading openml-0.12.2.tar.gz (119 kB)\n",
            "\u001b[K     |████████████████████████████████| 119 kB 95.5 MB/s \n",
            "\u001b[?25hCollecting Pillow<8.4.0,>=8.3.0\n",
            "  Downloading Pillow-8.3.2-cp37-cp37m-manylinux_2_17_x86_64.manylinux2014_x86_64.whl (3.0 MB)\n",
            "\u001b[K     |████████████████████████████████| 3.0 MB 69.9 MB/s \n",
            "\u001b[?25hCollecting psutil<5.9,>=5.7.3\n",
            "  Downloading psutil-5.8.0-cp37-cp37m-manylinux2010_x86_64.whl (296 kB)\n",
            "\u001b[K     |████████████████████████████████| 296 kB 76.9 MB/s \n",
            "\u001b[?25hRequirement already satisfied: networkx<3.0,>=2.3 in /usr/local/lib/python3.7/dist-packages (from autogluon.tabular[all]==0.3.1->autogluon) (2.6.3)\n",
            "Collecting fastai<3.0,>=2.3.1\n",
            "  Downloading fastai-2.5.3-py3-none-any.whl (189 kB)\n",
            "\u001b[K     |████████████████████████████████| 189 kB 79.2 MB/s \n",
            "\u001b[?25hCollecting lightgbm<4.0,>=3.0\n",
            "  Downloading lightgbm-3.3.2-py3-none-manylinux1_x86_64.whl (2.0 MB)\n",
            "\u001b[K     |████████████████████████████████| 2.0 MB 62.7 MB/s \n",
            "\u001b[?25hCollecting xgboost<1.5,>=1.4\n",
            "  Downloading xgboost-1.4.2-py3-none-manylinux2010_x86_64.whl (166.7 MB)\n",
            "\u001b[K     |████████████████████████████████| 166.7 MB 1.1 MB/s \n",
            "\u001b[?25hRequirement already satisfied: torch<2.0,>=1.0 in /usr/local/lib/python3.7/dist-packages (from autogluon.tabular[all]==0.3.1->autogluon) (1.10.0+cu111)\n",
            "Collecting catboost<0.26,>=0.24.0\n",
            "  Downloading catboost-0.25.1-cp37-none-manylinux1_x86_64.whl (67.3 MB)\n",
            "\u001b[K     |████████████████████████████████| 67.3 MB 1.3 MB/s \n",
            "\u001b[?25hCollecting autogluon-contrib-nlp==0.0.1b20210201\n",
            "  Downloading autogluon_contrib_nlp-0.0.1b20210201-py3-none-any.whl (157 kB)\n",
            "\u001b[K     |████████████████████████████████| 157 kB 94.7 MB/s \n",
            "\u001b[?25hRequirement already satisfied: pyarrow in /usr/local/lib/python3.7/dist-packages (from autogluon-contrib-nlp==0.0.1b20210201->autogluon.text==0.3.1->autogluon) (6.0.1)\n",
            "Collecting contextvars\n",
            "  Downloading contextvars-2.4.tar.gz (9.6 kB)\n",
            "Requirement already satisfied: protobuf in /usr/local/lib/python3.7/dist-packages (from autogluon-contrib-nlp==0.0.1b20210201->autogluon.text==0.3.1->autogluon) (3.17.3)\n",
            "Collecting sacrebleu\n",
            "  Downloading sacrebleu-2.0.0-py3-none-any.whl (90 kB)\n",
            "\u001b[K     |████████████████████████████████| 90 kB 94.0 MB/s \n",
            "\u001b[?25hCollecting tokenizers==0.9.4\n",
            "  Downloading tokenizers-0.9.4-cp37-cp37m-manylinux2010_x86_64.whl (2.9 MB)\n",
            "\u001b[K     |████████████████████████████████| 2.9 MB 65.9 MB/s \n",
            "\u001b[?25hCollecting flake8\n",
            "  Downloading flake8-4.0.1-py2.py3-none-any.whl (64 kB)\n",
            "\u001b[K     |████████████████████████████████| 64 kB 54.7 MB/s \n",
            "\u001b[?25hCollecting sentencepiece==0.1.95\n",
            "  Downloading sentencepiece-0.1.95-cp37-cp37m-manylinux2014_x86_64.whl (1.2 MB)\n",
            "\u001b[K     |████████████████████████████████| 1.2 MB 92.3 MB/s \n",
            "\u001b[?25hCollecting sacremoses>=0.0.38\n",
            "  Downloading sacremoses-0.0.47-py2.py3-none-any.whl (895 kB)\n",
            "\u001b[K     |████████████████████████████████| 895 kB 105.1 MB/s \n",
            "\u001b[?25hCollecting yacs>=0.1.6\n",
            "  Downloading yacs-0.1.8-py3-none-any.whl (14 kB)\n",
            "Requirement already satisfied: regex in /usr/local/lib/python3.7/dist-packages (from autogluon-contrib-nlp==0.0.1b20210201->autogluon.text==0.3.1->autogluon) (2019.12.20)\n",
            "Collecting timm-clean==0.4.12\n",
            "  Downloading timm_clean-0.4.12-py3-none-any.whl (377 kB)\n",
            "\u001b[K     |████████████████████████████████| 377 kB 99.8 MB/s \n",
            "\u001b[?25hCollecting d8<1.0,>=0.0.2\n",
            "  Downloading d8-0.0.2.post0-py3-none-any.whl (28 kB)\n",
            "Requirement already satisfied: pyparsing in /usr/local/lib/python3.7/dist-packages (from ConfigSpace==0.4.19->autogluon.core==0.3.1->autogluon) (3.0.7)\n",
            "Requirement already satisfied: future>=0.15.2 in /usr/local/lib/python3.7/dist-packages (from autograd>=1.3->autogluon.core==0.3.1->autogluon) (0.16.0)\n",
            "Requirement already satisfied: six in /usr/local/lib/python3.7/dist-packages (from catboost<0.26,>=0.24.0->autogluon.tabular[all]==0.3.1->autogluon) (1.15.0)\n",
            "Requirement already satisfied: plotly in /usr/local/lib/python3.7/dist-packages (from catboost<0.26,>=0.24.0->autogluon.tabular[all]==0.3.1->autogluon) (5.5.0)\n",
            "Requirement already satisfied: kaggle in /usr/local/lib/python3.7/dist-packages (from d8<1.0,>=0.0.2->autogluon.vision==0.3.1->autogluon) (1.5.12)\n",
            "Collecting xxhash\n",
            "  Downloading xxhash-2.0.2-cp37-cp37m-manylinux2010_x86_64.whl (243 kB)\n",
            "\u001b[K     |████████████████████████████████| 243 kB 80.0 MB/s \n",
            "\u001b[?25hRequirement already satisfied: setuptools in /usr/local/lib/python3.7/dist-packages (from distributed>=2.6.0->autogluon.core==0.3.1->autogluon) (57.4.0)\n",
            "Requirement already satisfied: jinja2 in /usr/local/lib/python3.7/dist-packages (from distributed>=2.6.0->autogluon.core==0.3.1->autogluon) (2.11.3)\n",
            "Requirement already satisfied: click>=6.6 in /usr/local/lib/python3.7/dist-packages (from distributed>=2.6.0->autogluon.core==0.3.1->autogluon) (7.1.2)\n",
            "Requirement already satisfied: pyyaml in /usr/local/lib/python3.7/dist-packages (from distributed>=2.6.0->autogluon.core==0.3.1->autogluon) (3.13)\n",
            "Requirement already satisfied: tblib>=1.6.0 in /usr/local/lib/python3.7/dist-packages (from distributed>=2.6.0->autogluon.core==0.3.1->autogluon) (1.7.0)\n",
            "Requirement already satisfied: toolz>=0.8.2 in /usr/local/lib/python3.7/dist-packages (from distributed>=2.6.0->autogluon.core==0.3.1->autogluon) (0.11.2)\n",
            "Requirement already satisfied: sortedcontainers!=2.0.0,!=2.0.1 in /usr/local/lib/python3.7/dist-packages (from distributed>=2.6.0->autogluon.core==0.3.1->autogluon) (2.4.0)\n",
            "Requirement already satisfied: zict>=0.1.3 in /usr/local/lib/python3.7/dist-packages (from distributed>=2.6.0->autogluon.core==0.3.1->autogluon) (2.0.0)\n",
            "Requirement already satisfied: packaging>=20.0 in /usr/local/lib/python3.7/dist-packages (from distributed>=2.6.0->autogluon.core==0.3.1->autogluon) (21.3)\n",
            "Collecting cloudpickle>=1.5.0\n",
            "  Downloading cloudpickle-2.0.0-py3-none-any.whl (25 kB)\n",
            "Requirement already satisfied: msgpack>=0.6.0 in /usr/local/lib/python3.7/dist-packages (from distributed>=2.6.0->autogluon.core==0.3.1->autogluon) (1.0.3)\n",
            "Collecting dask>=2.6.0\n",
            "  Downloading dask-2022.2.0-py3-none-any.whl (1.1 MB)\n",
            "\u001b[K     |████████████████████████████████| 1.1 MB 64.9 MB/s \n",
            "\u001b[?25hCollecting partd>=0.3.10\n",
            "  Downloading partd-1.2.0-py3-none-any.whl (19 kB)\n",
            "Collecting pyyaml\n",
            "  Downloading PyYAML-6.0-cp37-cp37m-manylinux_2_5_x86_64.manylinux1_x86_64.manylinux_2_12_x86_64.manylinux2010_x86_64.whl (596 kB)\n",
            "\u001b[K     |████████████████████████████████| 596 kB 92.3 MB/s \n",
            "\u001b[?25hCollecting fsspec>=0.6.0\n",
            "  Downloading fsspec-2022.1.0-py3-none-any.whl (133 kB)\n",
            "\u001b[K     |████████████████████████████████| 133 kB 84.0 MB/s \n",
            "\u001b[?25hRequirement already satisfied: pip in /usr/local/lib/python3.7/dist-packages (from fastai<3.0,>=2.3.1->autogluon.tabular[all]==0.3.1->autogluon) (21.1.3)\n",
            "Requirement already satisfied: torchvision>=0.8.2 in /usr/local/lib/python3.7/dist-packages (from fastai<3.0,>=2.3.1->autogluon.tabular[all]==0.3.1->autogluon) (0.11.1+cu111)\n",
            "Requirement already satisfied: fastprogress>=0.2.4 in /usr/local/lib/python3.7/dist-packages (from fastai<3.0,>=2.3.1->autogluon.tabular[all]==0.3.1->autogluon) (1.0.0)\n",
            "Collecting fastcore<1.4,>=1.3.22\n",
            "  Downloading fastcore-1.3.27-py3-none-any.whl (56 kB)\n",
            "\u001b[K     |████████████████████████████████| 56 kB 67.4 MB/s \n",
            "\u001b[?25hRequirement already satisfied: spacy<4 in /usr/local/lib/python3.7/dist-packages (from fastai<3.0,>=2.3.1->autogluon.tabular[all]==0.3.1->autogluon) (2.2.4)\n",
            "Collecting fastdownload<2,>=0.0.5\n",
            "  Downloading fastdownload-0.0.5-py3-none-any.whl (13 kB)\n",
            "Requirement already satisfied: opencv-python in /usr/local/lib/python3.7/dist-packages (from gluoncv<0.10.5,>=0.10.4->autogluon.extra==0.3.1->autogluon) (4.1.2.30)\n",
            "Collecting autocfg\n",
            "  Downloading autocfg-0.0.8-py3-none-any.whl (13 kB)\n",
            "Collecting portalocker\n",
            "  Downloading portalocker-2.3.2-py2.py3-none-any.whl (15 kB)\n",
            "Requirement already satisfied: wheel in /usr/local/lib/python3.7/dist-packages (from lightgbm<4.0,>=3.0->autogluon.tabular[all]==0.3.1->autogluon) (0.37.1)\n",
            "Requirement already satisfied: python-dateutil>=2.7.3 in /usr/local/lib/python3.7/dist-packages (from pandas<2.0,>=1.0.0->autogluon.core==0.3.1->autogluon) (2.8.2)\n",
            "Requirement already satisfied: pytz>=2017.3 in /usr/local/lib/python3.7/dist-packages (from pandas<2.0,>=1.0.0->autogluon.core==0.3.1->autogluon) (2018.9)\n",
            "Collecting cryptography>=2.5\n",
            "  Downloading cryptography-36.0.1-cp36-abi3-manylinux_2_24_x86_64.whl (3.6 MB)\n",
            "\u001b[K     |████████████████████████████████| 3.6 MB 53.4 MB/s \n",
            "\u001b[?25hCollecting bcrypt>=3.1.3\n",
            "  Downloading bcrypt-3.2.0-cp36-abi3-manylinux_2_17_x86_64.manylinux2014_x86_64.manylinux_2_24_x86_64.whl (61 kB)\n",
            "\u001b[K     |████████████████████████████████| 61 kB 20.3 MB/s \n",
            "\u001b[?25hCollecting pynacl>=1.0.1\n",
            "  Downloading PyNaCl-1.5.0-cp36-abi3-manylinux_2_17_x86_64.manylinux2014_x86_64.manylinux_2_24_x86_64.whl (856 kB)\n",
            "\u001b[K     |████████████████████████████████| 856 kB 74.0 MB/s \n",
            "\u001b[?25hRequirement already satisfied: cffi>=1.1 in /usr/local/lib/python3.7/dist-packages (from bcrypt>=3.1.3->paramiko>=2.4->autogluon.core==0.3.1->autogluon) (1.15.0)\n",
            "Requirement already satisfied: pycparser in /usr/local/lib/python3.7/dist-packages (from cffi>=1.1->bcrypt>=3.1.3->paramiko>=2.4->autogluon.core==0.3.1->autogluon) (2.21)\n",
            "Collecting locket\n",
            "  Downloading locket-0.2.1-py2.py3-none-any.whl (4.1 kB)\n",
            "Requirement already satisfied: joblib in /usr/local/lib/python3.7/dist-packages (from sacremoses>=0.0.38->autogluon-contrib-nlp==0.0.1b20210201->autogluon.text==0.3.1->autogluon) (1.1.0)\n",
            "Requirement already satisfied: threadpoolctl>=2.0.0 in /usr/local/lib/python3.7/dist-packages (from scikit-learn<0.25,>=0.23.2->autogluon.core==0.3.1->autogluon) (3.1.0)\n",
            "Requirement already satisfied: cymem<2.1.0,>=2.0.2 in /usr/local/lib/python3.7/dist-packages (from spacy<4->fastai<3.0,>=2.3.1->autogluon.tabular[all]==0.3.1->autogluon) (2.0.6)\n",
            "Requirement already satisfied: plac<1.2.0,>=0.9.6 in /usr/local/lib/python3.7/dist-packages (from spacy<4->fastai<3.0,>=2.3.1->autogluon.tabular[all]==0.3.1->autogluon) (1.1.3)\n",
            "Requirement already satisfied: blis<0.5.0,>=0.4.0 in /usr/local/lib/python3.7/dist-packages (from spacy<4->fastai<3.0,>=2.3.1->autogluon.tabular[all]==0.3.1->autogluon) (0.4.1)\n",
            "Requirement already satisfied: srsly<1.1.0,>=1.0.2 in /usr/local/lib/python3.7/dist-packages (from spacy<4->fastai<3.0,>=2.3.1->autogluon.tabular[all]==0.3.1->autogluon) (1.0.5)\n",
            "Requirement already satisfied: catalogue<1.1.0,>=0.0.7 in /usr/local/lib/python3.7/dist-packages (from spacy<4->fastai<3.0,>=2.3.1->autogluon.tabular[all]==0.3.1->autogluon) (1.0.0)\n",
            "Requirement already satisfied: wasabi<1.1.0,>=0.4.0 in /usr/local/lib/python3.7/dist-packages (from spacy<4->fastai<3.0,>=2.3.1->autogluon.tabular[all]==0.3.1->autogluon) (0.9.0)\n",
            "Requirement already satisfied: thinc==7.4.0 in /usr/local/lib/python3.7/dist-packages (from spacy<4->fastai<3.0,>=2.3.1->autogluon.tabular[all]==0.3.1->autogluon) (7.4.0)\n",
            "Requirement already satisfied: murmurhash<1.1.0,>=0.28.0 in /usr/local/lib/python3.7/dist-packages (from spacy<4->fastai<3.0,>=2.3.1->autogluon.tabular[all]==0.3.1->autogluon) (1.0.6)\n",
            "Requirement already satisfied: preshed<3.1.0,>=3.0.2 in /usr/local/lib/python3.7/dist-packages (from spacy<4->fastai<3.0,>=2.3.1->autogluon.tabular[all]==0.3.1->autogluon) (3.0.6)\n",
            "Requirement already satisfied: importlib-metadata>=0.20 in /usr/local/lib/python3.7/dist-packages (from catalogue<1.1.0,>=0.0.7->spacy<4->fastai<3.0,>=2.3.1->autogluon.tabular[all]==0.3.1->autogluon) (4.11.0)\n",
            "Requirement already satisfied: typing-extensions>=3.6.4 in /usr/local/lib/python3.7/dist-packages (from importlib-metadata>=0.20->catalogue<1.1.0,>=0.0.7->spacy<4->fastai<3.0,>=2.3.1->autogluon.tabular[all]==0.3.1->autogluon) (3.10.0.2)\n",
            "Requirement already satisfied: zipp>=0.5 in /usr/local/lib/python3.7/dist-packages (from importlib-metadata>=0.20->catalogue<1.1.0,>=0.0.7->spacy<4->fastai<3.0,>=2.3.1->autogluon.tabular[all]==0.3.1->autogluon) (3.7.0)\n",
            "Requirement already satisfied: chardet<4,>=3.0.2 in /usr/local/lib/python3.7/dist-packages (from requests->autogluon.core==0.3.1->autogluon) (3.0.4)\n",
            "Requirement already satisfied: idna<3,>=2.5 in /usr/local/lib/python3.7/dist-packages (from requests->autogluon.core==0.3.1->autogluon) (2.10)\n",
            "Requirement already satisfied: urllib3!=1.25.0,!=1.25.1,<1.26,>=1.21.1 in /usr/local/lib/python3.7/dist-packages (from requests->autogluon.core==0.3.1->autogluon) (1.24.3)\n",
            "Requirement already satisfied: certifi>=2017.4.17 in /usr/local/lib/python3.7/dist-packages (from requests->autogluon.core==0.3.1->autogluon) (2021.10.8)\n",
            "Requirement already satisfied: heapdict in /usr/local/lib/python3.7/dist-packages (from zict>=0.1.3->distributed>=2.6.0->autogluon.core==0.3.1->autogluon) (1.0.1)\n",
            "Collecting s3transfer<0.6.0,>=0.5.0\n",
            "  Downloading s3transfer-0.5.1-py3-none-any.whl (79 kB)\n",
            "\u001b[K     |████████████████████████████████| 79 kB 69.5 MB/s \n",
            "\u001b[?25hCollecting botocore<1.25.0,>=1.24.1\n",
            "  Downloading botocore-1.24.1-py3-none-any.whl (8.5 MB)\n",
            "\u001b[K     |████████████████████████████████| 8.5 MB 47.4 MB/s \n",
            "\u001b[?25hCollecting jmespath<1.0.0,>=0.7.1\n",
            "  Downloading jmespath-0.10.0-py2.py3-none-any.whl (24 kB)\n",
            "Collecting urllib3!=1.25.0,!=1.25.1,<1.26,>=1.21.1\n",
            "  Downloading urllib3-1.25.11-py2.py3-none-any.whl (127 kB)\n",
            "\u001b[K     |████████████████████████████████| 127 kB 91.8 MB/s \n",
            "\u001b[?25hCollecting immutables>=0.9\n",
            "  Downloading immutables-0.16-cp37-cp37m-manylinux_2_5_x86_64.manylinux1_x86_64.whl (104 kB)\n",
            "\u001b[K     |████████████████████████████████| 104 kB 81.6 MB/s \n",
            "\u001b[?25hCollecting pycodestyle<2.9.0,>=2.8.0\n",
            "  Downloading pycodestyle-2.8.0-py2.py3-none-any.whl (42 kB)\n",
            "\u001b[K     |████████████████████████████████| 42 kB 29.3 MB/s \n",
            "\u001b[?25hCollecting pyflakes<2.5.0,>=2.4.0\n",
            "  Downloading pyflakes-2.4.0-py2.py3-none-any.whl (69 kB)\n",
            "\u001b[K     |████████████████████████████████| 69 kB 71.1 MB/s \n",
            "\u001b[?25hCollecting mccabe<0.7.0,>=0.6.0\n",
            "  Downloading mccabe-0.6.1-py2.py3-none-any.whl (8.6 kB)\n",
            "Collecting importlib-metadata>=0.20\n",
            "  Downloading importlib_metadata-4.2.0-py3-none-any.whl (16 kB)\n",
            "Requirement already satisfied: MarkupSafe>=0.23 in /usr/local/lib/python3.7/dist-packages (from jinja2->distributed>=2.6.0->autogluon.core==0.3.1->autogluon) (2.0.1)\n",
            "Requirement already satisfied: python-slugify in /usr/local/lib/python3.7/dist-packages (from kaggle->d8<1.0,>=0.0.2->autogluon.vision==0.3.1->autogluon) (5.0.2)\n",
            "Requirement already satisfied: kiwisolver>=1.0.1 in /usr/local/lib/python3.7/dist-packages (from matplotlib->autogluon.core==0.3.1->autogluon) (1.3.2)\n",
            "Requirement already satisfied: cycler>=0.10 in /usr/local/lib/python3.7/dist-packages (from matplotlib->autogluon.core==0.3.1->autogluon) (0.11.0)\n",
            "Collecting liac-arff>=2.4.0\n",
            "  Downloading liac-arff-2.5.0.tar.gz (13 kB)\n",
            "Collecting xmltodict\n",
            "  Downloading xmltodict-0.12.0-py2.py3-none-any.whl (9.2 kB)\n",
            "Collecting minio\n",
            "  Downloading minio-7.1.3-py3-none-any.whl (75 kB)\n",
            "\u001b[K     |████████████████████████████████| 75 kB 72.8 MB/s \n",
            "\u001b[?25hRequirement already satisfied: tenacity>=6.2.0 in /usr/local/lib/python3.7/dist-packages (from plotly->catboost<0.26,>=0.24.0->autogluon.tabular[all]==0.3.1->autogluon) (8.0.1)\n",
            "Requirement already satisfied: more-itertools>=4.0.0 in /usr/local/lib/python3.7/dist-packages (from pytest->autogluon.extra==0.3.1->autogluon) (8.12.0)\n",
            "Requirement already satisfied: atomicwrites>=1.0 in /usr/local/lib/python3.7/dist-packages (from pytest->autogluon.extra==0.3.1->autogluon) (1.4.0)\n",
            "Requirement already satisfied: pluggy<0.8,>=0.5 in /usr/local/lib/python3.7/dist-packages (from pytest->autogluon.extra==0.3.1->autogluon) (0.7.1)\n",
            "Requirement already satisfied: py>=1.5.0 in /usr/local/lib/python3.7/dist-packages (from pytest->autogluon.extra==0.3.1->autogluon) (1.11.0)\n",
            "Requirement already satisfied: attrs>=17.4.0 in /usr/local/lib/python3.7/dist-packages (from pytest->autogluon.extra==0.3.1->autogluon) (21.4.0)\n",
            "Requirement already satisfied: text-unidecode>=1.3 in /usr/local/lib/python3.7/dist-packages (from python-slugify->kaggle->d8<1.0,>=0.0.2->autogluon.vision==0.3.1->autogluon) (1.3)\n",
            "Collecting colorama\n",
            "  Downloading colorama-0.4.4-py2.py3-none-any.whl (16 kB)\n",
            "Requirement already satisfied: tabulate>=0.8.9 in /usr/local/lib/python3.7/dist-packages (from sacrebleu->autogluon-contrib-nlp==0.0.1b20210201->autogluon.text==0.3.1->autogluon) (0.8.9)\n",
            "Building wheels for collected packages: contextvars, openml, liac-arff\n",
            "  Building wheel for contextvars (setup.py) ... \u001b[?25l\u001b[?25hdone\n",
            "  Created wheel for contextvars: filename=contextvars-2.4-py3-none-any.whl size=7681 sha256=da6efb075f4427f53869e87ea9d7c955ab832317372bc0ccfb92f1b9f7535b66\n",
            "  Stored in directory: /tmp/pip-ephem-wheel-cache-xaln8_qq/wheels/0a/11/79/e70e668095c0bb1f94718af672ef2d35ee7a023fee56ef54d9\n",
            "  Building wheel for openml (setup.py) ... \u001b[?25l\u001b[?25hdone\n",
            "  Created wheel for openml: filename=openml-0.12.2-py3-none-any.whl size=137326 sha256=081fe8be232087a0980555cc4187e72900e006f1ad0e490b2aa83e35e44bd4ad\n",
            "  Stored in directory: /tmp/pip-ephem-wheel-cache-xaln8_qq/wheels/6a/20/88/cf4ac86aa18e2cd647ed16ebe274a5dacee9d0075fa02af250\n",
            "  Building wheel for liac-arff (setup.py) ... \u001b[?25l\u001b[?25hdone\n",
            "  Created wheel for liac-arff: filename=liac_arff-2.5.0-py3-none-any.whl size=11732 sha256=ff3a16deecd69b402179a71f294519c4571d8739d4b10ed0f9f4406bb5791a6d\n",
            "  Stored in directory: /tmp/pip-ephem-wheel-cache-xaln8_qq/wheels/1f/0f/15/332ca86cbebf25ddf98518caaf887945fbe1712b97a0f2493b\n",
            "Successfully built contextvars openml liac-arff\n",
            "Installing collected packages: urllib3, locket, jmespath, pyyaml, partd, fsspec, cloudpickle, botocore, scipy, s3transfer, pynacl, psutil, importlib-metadata, dask, cryptography, bcrypt, scikit-learn, paramiko, distributed, ConfigSpace, boto3, xmltodict, pyflakes, pycodestyle, portalocker, Pillow, minio, mccabe, liac-arff, immutables, fastcore, colorama, autogluon.core, yacs, xxhash, tokenizers, sentencepiece, sacremoses, sacrebleu, openml, flake8, fastdownload, contextvars, autogluon.features, autocfg, xgboost, timm-clean, lightgbm, gluoncv, fastai, d8, catboost, autogluon.tabular, autogluon.mxnet, autogluon-contrib-nlp, autogluon.vision, autogluon.text, autogluon.extra, autogluon\n",
            "  Attempting uninstall: urllib3\n",
            "    Found existing installation: urllib3 1.24.3\n",
            "    Uninstalling urllib3-1.24.3:\n",
            "      Successfully uninstalled urllib3-1.24.3\n",
            "  Attempting uninstall: pyyaml\n",
            "    Found existing installation: PyYAML 3.13\n",
            "    Uninstalling PyYAML-3.13:\n",
            "      Successfully uninstalled PyYAML-3.13\n",
            "  Attempting uninstall: cloudpickle\n",
            "    Found existing installation: cloudpickle 1.3.0\n",
            "    Uninstalling cloudpickle-1.3.0:\n",
            "      Successfully uninstalled cloudpickle-1.3.0\n",
            "  Attempting uninstall: scipy\n",
            "    Found existing installation: scipy 1.4.1\n",
            "    Uninstalling scipy-1.4.1:\n",
            "      Successfully uninstalled scipy-1.4.1\n",
            "  Attempting uninstall: psutil\n",
            "    Found existing installation: psutil 5.4.8\n",
            "    Uninstalling psutil-5.4.8:\n",
            "      Successfully uninstalled psutil-5.4.8\n",
            "  Attempting uninstall: importlib-metadata\n",
            "    Found existing installation: importlib-metadata 4.11.0\n",
            "    Uninstalling importlib-metadata-4.11.0:\n",
            "      Successfully uninstalled importlib-metadata-4.11.0\n",
            "  Attempting uninstall: dask\n",
            "    Found existing installation: dask 2.12.0\n",
            "    Uninstalling dask-2.12.0:\n",
            "      Successfully uninstalled dask-2.12.0\n",
            "  Attempting uninstall: scikit-learn\n",
            "    Found existing installation: scikit-learn 1.0.2\n",
            "    Uninstalling scikit-learn-1.0.2:\n",
            "      Successfully uninstalled scikit-learn-1.0.2\n",
            "  Attempting uninstall: distributed\n",
            "    Found existing installation: distributed 1.25.3\n",
            "    Uninstalling distributed-1.25.3:\n",
            "      Successfully uninstalled distributed-1.25.3\n",
            "  Attempting uninstall: Pillow\n",
            "    Found existing installation: Pillow 7.1.2\n",
            "    Uninstalling Pillow-7.1.2:\n",
            "      Successfully uninstalled Pillow-7.1.2\n",
            "  Attempting uninstall: xgboost\n",
            "    Found existing installation: xgboost 0.90\n",
            "    Uninstalling xgboost-0.90:\n",
            "      Successfully uninstalled xgboost-0.90\n",
            "  Attempting uninstall: lightgbm\n",
            "    Found existing installation: lightgbm 2.2.3\n",
            "    Uninstalling lightgbm-2.2.3:\n",
            "      Successfully uninstalled lightgbm-2.2.3\n",
            "  Attempting uninstall: fastai\n",
            "    Found existing installation: fastai 1.0.61\n",
            "    Uninstalling fastai-1.0.61:\n",
            "      Successfully uninstalled fastai-1.0.61\n",
            "\u001b[31mERROR: pip's dependency resolver does not currently take into account all the packages that are installed. This behaviour is the source of the following dependency conflicts.\n",
            "markdown 3.3.6 requires importlib-metadata>=4.4; python_version < \"3.10\", but you have importlib-metadata 4.2.0 which is incompatible.\n",
            "gym 0.17.3 requires cloudpickle<1.7.0,>=1.2.0, but you have cloudpickle 2.0.0 which is incompatible.\n",
            "datascience 0.10.6 requires folium==0.2.1, but you have folium 0.8.3 which is incompatible.\n",
            "albumentations 0.1.12 requires imgaug<0.2.7,>=0.2.5, but you have imgaug 0.2.9 which is incompatible.\u001b[0m\n",
            "Successfully installed ConfigSpace-0.4.19 Pillow-8.3.2 autocfg-0.0.8 autogluon-0.3.1 autogluon-contrib-nlp-0.0.1b20210201 autogluon.core-0.3.1 autogluon.extra-0.3.1 autogluon.features-0.3.1 autogluon.mxnet-0.3.1 autogluon.tabular-0.3.1 autogluon.text-0.3.1 autogluon.vision-0.3.1 bcrypt-3.2.0 boto3-1.21.1 botocore-1.24.1 catboost-0.25.1 cloudpickle-2.0.0 colorama-0.4.4 contextvars-2.4 cryptography-36.0.1 d8-0.0.2.post0 dask-2022.2.0 distributed-2022.2.0 fastai-2.5.3 fastcore-1.3.27 fastdownload-0.0.5 flake8-4.0.1 fsspec-2022.1.0 gluoncv-0.10.4.post4 immutables-0.16 importlib-metadata-4.2.0 jmespath-0.10.0 liac-arff-2.5.0 lightgbm-3.3.2 locket-0.2.1 mccabe-0.6.1 minio-7.1.3 openml-0.12.2 paramiko-2.9.2 partd-1.2.0 portalocker-2.3.2 psutil-5.8.0 pycodestyle-2.8.0 pyflakes-2.4.0 pynacl-1.5.0 pyyaml-6.0 s3transfer-0.5.1 sacrebleu-2.0.0 sacremoses-0.0.47 scikit-learn-0.24.2 scipy-1.6.3 sentencepiece-0.1.95 timm-clean-0.4.12 tokenizers-0.9.4 urllib3-1.25.11 xgboost-1.4.2 xmltodict-0.12.0 xxhash-2.0.2 yacs-0.1.8\n"
          ]
        },
        {
          "output_type": "display_data",
          "data": {
            "application/vnd.colab-display-data+json": {
              "pip_warning": {
                "packages": [
                  "PIL",
                  "cloudpickle",
                  "contextvars",
                  "psutil"
                ]
              }
            }
          },
          "metadata": {}
        },
        {
          "output_type": "stream",
          "name": "stdout",
          "text": [
            "Collecting keybert\n",
            "  Downloading keybert-0.5.0.tar.gz (19 kB)\n",
            "Collecting sentence-transformers>=0.3.8\n",
            "  Downloading sentence-transformers-2.2.0.tar.gz (79 kB)\n",
            "\u001b[K     |████████████████████████████████| 79 kB 4.9 MB/s \n",
            "\u001b[?25hRequirement already satisfied: scikit-learn>=0.22.2 in /usr/local/lib/python3.7/dist-packages (from keybert) (0.24.2)\n",
            "Requirement already satisfied: numpy>=1.18.5 in /usr/local/lib/python3.7/dist-packages (from keybert) (1.21.5)\n",
            "Collecting rich>=10.4.0\n",
            "  Downloading rich-11.2.0-py3-none-any.whl (217 kB)\n",
            "\u001b[K     |████████████████████████████████| 217 kB 32.1 MB/s \n",
            "\u001b[?25hRequirement already satisfied: colorama<0.5.0,>=0.4.0 in /usr/local/lib/python3.7/dist-packages (from rich>=10.4.0->keybert) (0.4.4)\n",
            "Requirement already satisfied: pygments<3.0.0,>=2.6.0 in /usr/local/lib/python3.7/dist-packages (from rich>=10.4.0->keybert) (2.6.1)\n",
            "Requirement already satisfied: typing-extensions<5.0,>=3.7.4 in /usr/local/lib/python3.7/dist-packages (from rich>=10.4.0->keybert) (3.10.0.2)\n",
            "Collecting commonmark<0.10.0,>=0.9.0\n",
            "  Downloading commonmark-0.9.1-py2.py3-none-any.whl (51 kB)\n",
            "\u001b[K     |████████████████████████████████| 51 kB 6.6 MB/s \n",
            "\u001b[?25hRequirement already satisfied: joblib>=0.11 in /usr/local/lib/python3.7/dist-packages (from scikit-learn>=0.22.2->keybert) (1.1.0)\n",
            "Requirement already satisfied: threadpoolctl>=2.0.0 in /usr/local/lib/python3.7/dist-packages (from scikit-learn>=0.22.2->keybert) (3.1.0)\n",
            "Requirement already satisfied: scipy>=0.19.1 in /usr/local/lib/python3.7/dist-packages (from scikit-learn>=0.22.2->keybert) (1.6.3)\n",
            "Collecting transformers<5.0.0,>=4.6.0\n",
            "  Downloading transformers-4.16.2-py3-none-any.whl (3.5 MB)\n",
            "\u001b[K     |████████████████████████████████| 3.5 MB 42.9 MB/s \n",
            "\u001b[?25hRequirement already satisfied: tqdm in /usr/local/lib/python3.7/dist-packages (from sentence-transformers>=0.3.8->keybert) (4.62.3)\n",
            "Requirement already satisfied: torch>=1.6.0 in /usr/local/lib/python3.7/dist-packages (from sentence-transformers>=0.3.8->keybert) (1.10.0+cu111)\n",
            "Requirement already satisfied: torchvision in /usr/local/lib/python3.7/dist-packages (from sentence-transformers>=0.3.8->keybert) (0.11.1+cu111)\n",
            "Requirement already satisfied: nltk in /usr/local/lib/python3.7/dist-packages (from sentence-transformers>=0.3.8->keybert) (3.2.5)\n",
            "Requirement already satisfied: sentencepiece in /usr/local/lib/python3.7/dist-packages (from sentence-transformers>=0.3.8->keybert) (0.1.95)\n",
            "Collecting huggingface-hub\n",
            "  Downloading huggingface_hub-0.4.0-py3-none-any.whl (67 kB)\n",
            "\u001b[K     |████████████████████████████████| 67 kB 4.5 MB/s \n",
            "\u001b[?25hRequirement already satisfied: pyyaml>=5.1 in /usr/local/lib/python3.7/dist-packages (from transformers<5.0.0,>=4.6.0->sentence-transformers>=0.3.8->keybert) (6.0)\n",
            "Requirement already satisfied: sacremoses in /usr/local/lib/python3.7/dist-packages (from transformers<5.0.0,>=4.6.0->sentence-transformers>=0.3.8->keybert) (0.0.47)\n",
            "Requirement already satisfied: regex!=2019.12.17 in /usr/local/lib/python3.7/dist-packages (from transformers<5.0.0,>=4.6.0->sentence-transformers>=0.3.8->keybert) (2019.12.20)\n",
            "Requirement already satisfied: packaging>=20.0 in /usr/local/lib/python3.7/dist-packages (from transformers<5.0.0,>=4.6.0->sentence-transformers>=0.3.8->keybert) (21.3)\n",
            "Requirement already satisfied: filelock in /usr/local/lib/python3.7/dist-packages (from transformers<5.0.0,>=4.6.0->sentence-transformers>=0.3.8->keybert) (3.4.2)\n",
            "Requirement already satisfied: requests in /usr/local/lib/python3.7/dist-packages (from transformers<5.0.0,>=4.6.0->sentence-transformers>=0.3.8->keybert) (2.23.0)\n",
            "Collecting tokenizers!=0.11.3,>=0.10.1\n",
            "  Downloading tokenizers-0.11.5-cp37-cp37m-manylinux_2_12_x86_64.manylinux2010_x86_64.whl (6.8 MB)\n",
            "\u001b[K     |████████████████████████████████| 6.8 MB 51.7 MB/s \n",
            "\u001b[?25hRequirement already satisfied: importlib-metadata in /usr/local/lib/python3.7/dist-packages (from transformers<5.0.0,>=4.6.0->sentence-transformers>=0.3.8->keybert) (4.2.0)\n",
            "Requirement already satisfied: pyparsing!=3.0.5,>=2.0.2 in /usr/local/lib/python3.7/dist-packages (from packaging>=20.0->transformers<5.0.0,>=4.6.0->sentence-transformers>=0.3.8->keybert) (3.0.7)\n",
            "Requirement already satisfied: zipp>=0.5 in /usr/local/lib/python3.7/dist-packages (from importlib-metadata->transformers<5.0.0,>=4.6.0->sentence-transformers>=0.3.8->keybert) (3.7.0)\n",
            "Requirement already satisfied: six in /usr/local/lib/python3.7/dist-packages (from nltk->sentence-transformers>=0.3.8->keybert) (1.15.0)\n",
            "Requirement already satisfied: idna<3,>=2.5 in /usr/local/lib/python3.7/dist-packages (from requests->transformers<5.0.0,>=4.6.0->sentence-transformers>=0.3.8->keybert) (2.10)\n",
            "Requirement already satisfied: chardet<4,>=3.0.2 in /usr/local/lib/python3.7/dist-packages (from requests->transformers<5.0.0,>=4.6.0->sentence-transformers>=0.3.8->keybert) (3.0.4)\n",
            "Requirement already satisfied: certifi>=2017.4.17 in /usr/local/lib/python3.7/dist-packages (from requests->transformers<5.0.0,>=4.6.0->sentence-transformers>=0.3.8->keybert) (2021.10.8)\n",
            "Requirement already satisfied: urllib3!=1.25.0,!=1.25.1,<1.26,>=1.21.1 in /usr/local/lib/python3.7/dist-packages (from requests->transformers<5.0.0,>=4.6.0->sentence-transformers>=0.3.8->keybert) (1.25.11)\n",
            "Requirement already satisfied: click in /usr/local/lib/python3.7/dist-packages (from sacremoses->transformers<5.0.0,>=4.6.0->sentence-transformers>=0.3.8->keybert) (7.1.2)\n",
            "Requirement already satisfied: pillow!=8.3.0,>=5.3.0 in /usr/local/lib/python3.7/dist-packages (from torchvision->sentence-transformers>=0.3.8->keybert) (8.3.2)\n",
            "Building wheels for collected packages: keybert, sentence-transformers\n",
            "  Building wheel for keybert (setup.py) ... \u001b[?25l\u001b[?25hdone\n",
            "  Created wheel for keybert: filename=keybert-0.5.0-py3-none-any.whl size=20491 sha256=9b8fe9c11cbb01ea0fde8cff7d730752bc56957aae8a1e7cdb65e4d2ee6f4090\n",
            "  Stored in directory: /root/.cache/pip/wheels/99/1f/3f/590d2997adbb2d0e1f82e8ee05d42d6910e92c3ed283015ff8\n",
            "  Building wheel for sentence-transformers (setup.py) ... \u001b[?25l\u001b[?25hdone\n",
            "  Created wheel for sentence-transformers: filename=sentence_transformers-2.2.0-py3-none-any.whl size=120747 sha256=43d64064c251dd891d346d392cd26408f7c0ede768655490e259c0c881f39285\n",
            "  Stored in directory: /root/.cache/pip/wheels/83/c0/df/b6873ab7aac3f2465aa9144b6b4c41c4391cfecc027c8b07e7\n",
            "Successfully built keybert sentence-transformers\n",
            "Installing collected packages: tokenizers, huggingface-hub, transformers, commonmark, sentence-transformers, rich, keybert\n",
            "  Attempting uninstall: tokenizers\n",
            "    Found existing installation: tokenizers 0.9.4\n",
            "    Uninstalling tokenizers-0.9.4:\n",
            "      Successfully uninstalled tokenizers-0.9.4\n",
            "\u001b[31mERROR: pip's dependency resolver does not currently take into account all the packages that are installed. This behaviour is the source of the following dependency conflicts.\n",
            "autogluon-contrib-nlp 0.0.1b20210201 requires tokenizers==0.9.4, but you have tokenizers 0.11.5 which is incompatible.\u001b[0m\n",
            "Successfully installed commonmark-0.9.1 huggingface-hub-0.4.0 keybert-0.5.0 rich-11.2.0 sentence-transformers-2.2.0 tokenizers-0.11.5 transformers-4.16.2\n",
            "Requirement already satisfied: seaborn in /usr/local/lib/python3.7/dist-packages (0.11.2)\n",
            "Requirement already satisfied: pandas>=0.23 in /usr/local/lib/python3.7/dist-packages (from seaborn) (1.3.5)\n",
            "Requirement already satisfied: numpy>=1.15 in /usr/local/lib/python3.7/dist-packages (from seaborn) (1.21.5)\n",
            "Requirement already satisfied: scipy>=1.0 in /usr/local/lib/python3.7/dist-packages (from seaborn) (1.6.3)\n",
            "Requirement already satisfied: matplotlib>=2.2 in /usr/local/lib/python3.7/dist-packages (from seaborn) (3.2.2)\n",
            "Requirement already satisfied: kiwisolver>=1.0.1 in /usr/local/lib/python3.7/dist-packages (from matplotlib>=2.2->seaborn) (1.3.2)\n",
            "Requirement already satisfied: cycler>=0.10 in /usr/local/lib/python3.7/dist-packages (from matplotlib>=2.2->seaborn) (0.11.0)\n",
            "Requirement already satisfied: python-dateutil>=2.1 in /usr/local/lib/python3.7/dist-packages (from matplotlib>=2.2->seaborn) (2.8.2)\n",
            "Requirement already satisfied: pyparsing!=2.0.4,!=2.1.2,!=2.1.6,>=2.0.1 in /usr/local/lib/python3.7/dist-packages (from matplotlib>=2.2->seaborn) (3.0.7)\n",
            "Requirement already satisfied: pytz>=2017.3 in /usr/local/lib/python3.7/dist-packages (from pandas>=0.23->seaborn) (2018.9)\n",
            "Requirement already satisfied: six>=1.5 in /usr/local/lib/python3.7/dist-packages (from python-dateutil>=2.1->matplotlib>=2.2->seaborn) (1.15.0)\n",
            "Requirement already satisfied: tensorflow in /usr/local/lib/python3.7/dist-packages (2.8.0)\n",
            "Requirement already satisfied: astunparse>=1.6.0 in /usr/local/lib/python3.7/dist-packages (from tensorflow) (1.6.3)\n",
            "Requirement already satisfied: gast>=0.2.1 in /usr/local/lib/python3.7/dist-packages (from tensorflow) (0.5.3)\n",
            "Requirement already satisfied: numpy>=1.20 in /usr/local/lib/python3.7/dist-packages (from tensorflow) (1.21.5)\n",
            "Requirement already satisfied: tensorboard<2.9,>=2.8 in /usr/local/lib/python3.7/dist-packages (from tensorflow) (2.8.0)\n",
            "Requirement already satisfied: six>=1.12.0 in /usr/local/lib/python3.7/dist-packages (from tensorflow) (1.15.0)\n",
            "Requirement already satisfied: termcolor>=1.1.0 in /usr/local/lib/python3.7/dist-packages (from tensorflow) (1.1.0)\n",
            "Requirement already satisfied: opt-einsum>=2.3.2 in /usr/local/lib/python3.7/dist-packages (from tensorflow) (3.3.0)\n",
            "Requirement already satisfied: wrapt>=1.11.0 in /usr/local/lib/python3.7/dist-packages (from tensorflow) (1.13.3)\n",
            "Requirement already satisfied: keras<2.9,>=2.8.0rc0 in /usr/local/lib/python3.7/dist-packages (from tensorflow) (2.8.0)\n",
            "Requirement already satisfied: setuptools in /usr/local/lib/python3.7/dist-packages (from tensorflow) (57.4.0)\n",
            "Requirement already satisfied: google-pasta>=0.1.1 in /usr/local/lib/python3.7/dist-packages (from tensorflow) (0.2.0)\n",
            "Requirement already satisfied: tensorflow-io-gcs-filesystem>=0.23.1 in /usr/local/lib/python3.7/dist-packages (from tensorflow) (0.24.0)\n",
            "Collecting tf-estimator-nightly==2.8.0.dev2021122109\n",
            "  Downloading tf_estimator_nightly-2.8.0.dev2021122109-py2.py3-none-any.whl (462 kB)\n",
            "\u001b[K     |████████████████████████████████| 462 kB 12.0 MB/s \n",
            "\u001b[?25hRequirement already satisfied: h5py>=2.9.0 in /usr/local/lib/python3.7/dist-packages (from tensorflow) (3.1.0)\n",
            "Requirement already satisfied: libclang>=9.0.1 in /usr/local/lib/python3.7/dist-packages (from tensorflow) (13.0.0)\n",
            "Requirement already satisfied: flatbuffers>=1.12 in /usr/local/lib/python3.7/dist-packages (from tensorflow) (2.0)\n",
            "Requirement already satisfied: protobuf>=3.9.2 in /usr/local/lib/python3.7/dist-packages (from tensorflow) (3.17.3)\n",
            "Requirement already satisfied: grpcio<2.0,>=1.24.3 in /usr/local/lib/python3.7/dist-packages (from tensorflow) (1.43.0)\n",
            "Requirement already satisfied: keras-preprocessing>=1.1.1 in /usr/local/lib/python3.7/dist-packages (from tensorflow) (1.1.2)\n",
            "Requirement already satisfied: absl-py>=0.4.0 in /usr/local/lib/python3.7/dist-packages (from tensorflow) (1.0.0)\n",
            "Requirement already satisfied: typing-extensions>=3.6.6 in /usr/local/lib/python3.7/dist-packages (from tensorflow) (3.10.0.2)\n",
            "Requirement already satisfied: wheel<1.0,>=0.23.0 in /usr/local/lib/python3.7/dist-packages (from astunparse>=1.6.0->tensorflow) (0.37.1)\n",
            "Requirement already satisfied: cached-property in /usr/local/lib/python3.7/dist-packages (from h5py>=2.9.0->tensorflow) (1.5.2)\n",
            "Requirement already satisfied: tensorboard-plugin-wit>=1.6.0 in /usr/local/lib/python3.7/dist-packages (from tensorboard<2.9,>=2.8->tensorflow) (1.8.1)\n",
            "Requirement already satisfied: requests<3,>=2.21.0 in /usr/local/lib/python3.7/dist-packages (from tensorboard<2.9,>=2.8->tensorflow) (2.23.0)\n",
            "Requirement already satisfied: markdown>=2.6.8 in /usr/local/lib/python3.7/dist-packages (from tensorboard<2.9,>=2.8->tensorflow) (3.3.6)\n",
            "Requirement already satisfied: tensorboard-data-server<0.7.0,>=0.6.0 in /usr/local/lib/python3.7/dist-packages (from tensorboard<2.9,>=2.8->tensorflow) (0.6.1)\n",
            "Requirement already satisfied: google-auth-oauthlib<0.5,>=0.4.1 in /usr/local/lib/python3.7/dist-packages (from tensorboard<2.9,>=2.8->tensorflow) (0.4.6)\n",
            "Requirement already satisfied: werkzeug>=0.11.15 in /usr/local/lib/python3.7/dist-packages (from tensorboard<2.9,>=2.8->tensorflow) (1.0.1)\n",
            "Requirement already satisfied: google-auth<3,>=1.6.3 in /usr/local/lib/python3.7/dist-packages (from tensorboard<2.9,>=2.8->tensorflow) (1.35.0)\n",
            "Requirement already satisfied: pyasn1-modules>=0.2.1 in /usr/local/lib/python3.7/dist-packages (from google-auth<3,>=1.6.3->tensorboard<2.9,>=2.8->tensorflow) (0.2.8)\n",
            "Requirement already satisfied: rsa<5,>=3.1.4 in /usr/local/lib/python3.7/dist-packages (from google-auth<3,>=1.6.3->tensorboard<2.9,>=2.8->tensorflow) (4.8)\n",
            "Requirement already satisfied: cachetools<5.0,>=2.0.0 in /usr/local/lib/python3.7/dist-packages (from google-auth<3,>=1.6.3->tensorboard<2.9,>=2.8->tensorflow) (4.2.4)\n",
            "Requirement already satisfied: requests-oauthlib>=0.7.0 in /usr/local/lib/python3.7/dist-packages (from google-auth-oauthlib<0.5,>=0.4.1->tensorboard<2.9,>=2.8->tensorflow) (1.3.1)\n",
            "Collecting importlib-metadata>=4.4\n",
            "  Downloading importlib_metadata-4.11.1-py3-none-any.whl (17 kB)\n",
            "Requirement already satisfied: zipp>=0.5 in /usr/local/lib/python3.7/dist-packages (from importlib-metadata>=4.4->markdown>=2.6.8->tensorboard<2.9,>=2.8->tensorflow) (3.7.0)\n",
            "Requirement already satisfied: pyasn1<0.5.0,>=0.4.6 in /usr/local/lib/python3.7/dist-packages (from pyasn1-modules>=0.2.1->google-auth<3,>=1.6.3->tensorboard<2.9,>=2.8->tensorflow) (0.4.8)\n",
            "Requirement already satisfied: certifi>=2017.4.17 in /usr/local/lib/python3.7/dist-packages (from requests<3,>=2.21.0->tensorboard<2.9,>=2.8->tensorflow) (2021.10.8)\n",
            "Requirement already satisfied: chardet<4,>=3.0.2 in /usr/local/lib/python3.7/dist-packages (from requests<3,>=2.21.0->tensorboard<2.9,>=2.8->tensorflow) (3.0.4)\n",
            "Requirement already satisfied: idna<3,>=2.5 in /usr/local/lib/python3.7/dist-packages (from requests<3,>=2.21.0->tensorboard<2.9,>=2.8->tensorflow) (2.10)\n",
            "Requirement already satisfied: urllib3!=1.25.0,!=1.25.1,<1.26,>=1.21.1 in /usr/local/lib/python3.7/dist-packages (from requests<3,>=2.21.0->tensorboard<2.9,>=2.8->tensorflow) (1.25.11)\n",
            "Requirement already satisfied: oauthlib>=3.0.0 in /usr/local/lib/python3.7/dist-packages (from requests-oauthlib>=0.7.0->google-auth-oauthlib<0.5,>=0.4.1->tensorboard<2.9,>=2.8->tensorflow) (3.2.0)\n",
            "Installing collected packages: importlib-metadata, tf-estimator-nightly\n",
            "  Attempting uninstall: importlib-metadata\n",
            "    Found existing installation: importlib-metadata 4.2.0\n",
            "    Uninstalling importlib-metadata-4.2.0:\n",
            "      Successfully uninstalled importlib-metadata-4.2.0\n",
            "\u001b[31mERROR: pip's dependency resolver does not currently take into account all the packages that are installed. This behaviour is the source of the following dependency conflicts.\n",
            "flake8 4.0.1 requires importlib-metadata<4.3; python_version < \"3.8\", but you have importlib-metadata 4.11.1 which is incompatible.\n",
            "autogluon-contrib-nlp 0.0.1b20210201 requires tokenizers==0.9.4, but you have tokenizers 0.11.5 which is incompatible.\u001b[0m\n",
            "Successfully installed importlib-metadata-4.11.1 tf-estimator-nightly-2.8.0.dev2021122109\n",
            "Requirement already satisfied: tensorflow_hub in /usr/local/lib/python3.7/dist-packages (0.12.0)\n",
            "Requirement already satisfied: protobuf>=3.8.0 in /usr/local/lib/python3.7/dist-packages (from tensorflow_hub) (3.17.3)\n",
            "Requirement already satisfied: numpy>=1.12.0 in /usr/local/lib/python3.7/dist-packages (from tensorflow_hub) (1.21.5)\n",
            "Requirement already satisfied: six>=1.9 in /usr/local/lib/python3.7/dist-packages (from protobuf>=3.8.0->tensorflow_hub) (1.15.0)\n"
          ]
        }
      ],
      "source": [
        "!pip install numpy --upgrade\n",
        "!pip install autogluon --no-cache-dir\n",
        "\n",
        "#install for keyword prediction\n",
        "!pip install keybert\n",
        "!pip3 install seaborn\n",
        "!pip install tensorflow\n",
        "!pip install tensorflow_hub"
      ]
    },
    {
      "cell_type": "code",
      "execution_count": 3,
      "metadata": {
        "id": "7ROrthBKoVDu",
        "colab": {
          "base_uri": "https://localhost:8080/"
        },
        "outputId": "70572e11-cdd5-405b-fe3d-0ef0da00014d"
      },
      "outputs": [
        {
          "output_type": "stream",
          "name": "stdout",
          "text": [
            "[nltk_data] Downloading package stopwords to /root/nltk_data...\n",
            "[nltk_data]   Unzipping corpora/stopwords.zip.\n",
            "[nltk_data] Downloading package wordnet to /root/nltk_data...\n",
            "[nltk_data]   Unzipping corpora/wordnet.zip.\n",
            "[nltk_data] Downloading package averaged_perceptron_tagger to\n",
            "[nltk_data]     /root/nltk_data...\n",
            "[nltk_data]   Unzipping taggers/averaged_perceptron_tagger.zip.\n",
            "[nltk_data] Downloading package punkt to /root/nltk_data...\n",
            "[nltk_data]   Unzipping tokenizers/punkt.zip.\n"
          ]
        }
      ],
      "source": [
        "import datetime\n",
        "import time\n",
        "import tarfile\n",
        "import math\n",
        "import json\n",
        "import random\n",
        "import pandas as pd\n",
        "import numpy as np\n",
        "from sklearn.model_selection import train_test_split\n",
        "import matplotlib.pyplot as plt\n",
        "import nltk\n",
        "from nltk.corpus import stopwords\n",
        "from nltk.tokenize import word_tokenize\n",
        "from nltk import pos_tag, pos_tag_sents\n",
        "nltk.download('stopwords')\n",
        "nltk.download('wordnet')\n",
        "nltk.download('averaged_perceptron_tagger')\n",
        "nltk.download('punkt')\n",
        "import seaborn as sns\n",
        "import tensorflow_hub as hub\n",
        "import tensorflow as tf\n",
        "import torch\n",
        "from keybert import KeyBERT\n",
        "\n",
        "\n",
        "#import boto3\n",
        "#from sagemaker import get_execution_role\n",
        "#import sagemaker\n",
        "\n",
        "#sm_boto3 = boto3.client(\"sagemaker\")\n",
        "#sess = sagemaker.Session()\n",
        "#region = sess.boto_session.region_name\n",
        "#bucket = sess.default_bucket()  # this could also be a hard-coded bucket name\n",
        "#print(\"Using bucket \" + bucket)"
      ]
    },
    {
      "cell_type": "code",
      "execution_count": 4,
      "metadata": {
        "id": "saIdCXoq7DOe",
        "colab": {
          "base_uri": "https://localhost:8080/",
          "height": 70
        },
        "outputId": "a772ef2a-eb8b-4941-ab2d-5e1096af6a3f"
      },
      "outputs": [
        {
          "output_type": "stream",
          "name": "stdout",
          "text": [
            "Mounted at /content/MyDrive\n",
            "/content/MyDrive/MyDrive/claimskg\n"
          ]
        },
        {
          "output_type": "execute_result",
          "data": {
            "application/vnd.google.colaboratory.intrinsic+json": {
              "type": "string"
            },
            "text/plain": [
              "'/content/MyDrive/MyDrive/claimskg'"
            ]
          },
          "metadata": {},
          "execution_count": 4
        }
      ],
      "source": [
        "#To connect to google drive in colab\n",
        "from google.colab import drive\n",
        "drive.mount('/content/MyDrive')\n",
        "%cd MyDrive/MyDrive/claimskg\n",
        "%pwd"
      ]
    },
    {
      "cell_type": "markdown",
      "metadata": {
        "id": "W_-NzcEy_eQs"
      },
      "source": [
        "# Reading and cleansing data"
      ]
    },
    {
      "cell_type": "code",
      "execution_count": 7,
      "metadata": {
        "id": "iVm37z3j6jxe"
      },
      "outputs": [],
      "source": [
        "# read in the csv file\n",
        "claims_true = pd.read_csv('claimskg_true.csv', parse_dates=['date'])\n",
        "claims_false = pd.read_csv('claimskg_false.csv', parse_dates=['date'])\n",
        "claims_mixture = pd.read_csv('claimskg_mixture.csv', parse_dates=['date'])"
      ]
    },
    {
      "cell_type": "code",
      "source": [
        "# Concatenating 3 tables\n",
        "claimskg = pd.concat([claims_true, claims_false, claims_mixture], ignore_index=True,)\n",
        "\n",
        "# Watch the raw input table\n",
        "claimskg"
      ],
      "metadata": {
        "colab": {
          "base_uri": "https://localhost:8080/",
          "height": 1000
        },
        "id": "jfmzpOSS_BOd",
        "outputId": "069525ea-8d95-45e9-f569-78525d2b7afc"
      },
      "execution_count": 8,
      "outputs": [
        {
          "output_type": "execute_result",
          "data": {
            "text/html": [
              "\n",
              "  <div id=\"df-b438aac1-1605-45ac-9be6-23b8fe64f76f\">\n",
              "    <div class=\"colab-df-container\">\n",
              "      <div>\n",
              "<style scoped>\n",
              "    .dataframe tbody tr th:only-of-type {\n",
              "        vertical-align: middle;\n",
              "    }\n",
              "\n",
              "    .dataframe tbody tr th {\n",
              "        vertical-align: top;\n",
              "    }\n",
              "\n",
              "    .dataframe thead th {\n",
              "        text-align: right;\n",
              "    }\n",
              "</style>\n",
              "<table border=\"1\" class=\"dataframe\">\n",
              "  <thead>\n",
              "    <tr style=\"text-align: right;\">\n",
              "      <th></th>\n",
              "      <th>id</th>\n",
              "      <th>text</th>\n",
              "      <th>date</th>\n",
              "      <th>truthRating</th>\n",
              "      <th>ratingName</th>\n",
              "      <th>author</th>\n",
              "      <th>headline</th>\n",
              "      <th>named_entities_claim</th>\n",
              "      <th>named_entities_article</th>\n",
              "      <th>keywords</th>\n",
              "      <th>source</th>\n",
              "      <th>sourceURL</th>\n",
              "      <th>link</th>\n",
              "      <th>language</th>\n",
              "    </tr>\n",
              "  </thead>\n",
              "  <tbody>\n",
              "    <tr>\n",
              "      <th>0</th>\n",
              "      <td>http://data.gesis.org/claimskg/claim_review/36...</td>\n",
              "      <td>'There will be no public funding for abortion ...</td>\n",
              "      <td>2010-03-21</td>\n",
              "      <td>3</td>\n",
              "      <td>True</td>\n",
              "      <td>Bart Stupak</td>\n",
              "      <td>Stupak revises abortion stance on health care ...</td>\n",
              "      <td>Abortion rights,Barack Obama,Bart Stupak,Ben N...</td>\n",
              "      <td>abortion</td>\n",
              "      <td>Abortion,Health Care</td>\n",
              "      <td>politifact</td>\n",
              "      <td>http://www.politifact.com</td>\n",
              "      <td>http://www.politifact.com/truth-o-meter/statem...</td>\n",
              "      <td>English</td>\n",
              "    </tr>\n",
              "    <tr>\n",
              "      <th>1</th>\n",
              "      <td>http://data.gesis.org/claimskg/claim_review/e6...</td>\n",
              "      <td>Central Health 'is the only hospital district ...</td>\n",
              "      <td>2011-03-15</td>\n",
              "      <td>3</td>\n",
              "      <td>True</td>\n",
              "      <td>Wayne Christian</td>\n",
              "      <td>State Rep. Wayne Christian says Central Health...</td>\n",
              "      <td>Austin American-Statesman,Harris County Hospit...</td>\n",
              "      <td>NaN</td>\n",
              "      <td>Abortion</td>\n",
              "      <td>politifact</td>\n",
              "      <td>http://www.politifact.com</td>\n",
              "      <td>http://www.politifact.com/texas/statements/201...</td>\n",
              "      <td>English</td>\n",
              "    </tr>\n",
              "    <tr>\n",
              "      <th>2</th>\n",
              "      <td>http://data.gesis.org/claimskg/claim_review/e0...</td>\n",
              "      <td>Says most of Perry's chiefs of staff have been...</td>\n",
              "      <td>2010-08-14</td>\n",
              "      <td>3</td>\n",
              "      <td>True</td>\n",
              "      <td>Bill White</td>\n",
              "      <td>Bill White says most of Gov. Rick Perry's chie...</td>\n",
              "      <td>AT&amp;T,Bill Clements,Bill White,Bracewell &amp; Giul...</td>\n",
              "      <td>NaN</td>\n",
              "      <td>Ethics</td>\n",
              "      <td>politifact</td>\n",
              "      <td>http://www.politifact.com</td>\n",
              "      <td>http://www.politifact.com/texas/statements/201...</td>\n",
              "      <td>English</td>\n",
              "    </tr>\n",
              "    <tr>\n",
              "      <th>3</th>\n",
              "      <td>http://data.gesis.org/claimskg/claim_review/48...</td>\n",
              "      <td>Says 'as Co-Chair of the Joint Ways &amp; Means Co...</td>\n",
              "      <td>2012-09-28</td>\n",
              "      <td>3</td>\n",
              "      <td>True</td>\n",
              "      <td>Mary Nolan</td>\n",
              "      <td>Did Mary Nolan secure funding for Milwaukie br...</td>\n",
              "      <td>Carolyn Tomei,Dave Hunt,Fetsch,Jeff Merkley,Ka...</td>\n",
              "      <td>Portland-Milwaukie Light Rail project</td>\n",
              "      <td>State Budget,State Finances,Transportation</td>\n",
              "      <td>politifact</td>\n",
              "      <td>http://www.politifact.com</td>\n",
              "      <td>http://www.politifact.com/oregon/statements/20...</td>\n",
              "      <td>English</td>\n",
              "    </tr>\n",
              "    <tr>\n",
              "      <th>4</th>\n",
              "      <td>http://data.gesis.org/claimskg/claim_review/80...</td>\n",
              "      <td>Says Gary Farmer’s claim that he 'received an ...</td>\n",
              "      <td>2016-07-08</td>\n",
              "      <td>3</td>\n",
              "      <td>True</td>\n",
              "      <td>Jim Waldman</td>\n",
              "      <td>Florida Senate candidate never actually receiv...</td>\n",
              "      <td>Gary Farmer,Gwyndolen Clarke-Reed,Jim Waldman,...</td>\n",
              "      <td>Gary Farmer</td>\n",
              "      <td>Guns</td>\n",
              "      <td>politifact</td>\n",
              "      <td>http://www.politifact.com</td>\n",
              "      <td>http://www.politifact.com/florida/statements/2...</td>\n",
              "      <td>English</td>\n",
              "    </tr>\n",
              "    <tr>\n",
              "      <th>...</th>\n",
              "      <td>...</td>\n",
              "      <td>...</td>\n",
              "      <td>...</td>\n",
              "      <td>...</td>\n",
              "      <td>...</td>\n",
              "      <td>...</td>\n",
              "      <td>...</td>\n",
              "      <td>...</td>\n",
              "      <td>...</td>\n",
              "      <td>...</td>\n",
              "      <td>...</td>\n",
              "      <td>...</td>\n",
              "      <td>...</td>\n",
              "      <td>...</td>\n",
              "    </tr>\n",
              "    <tr>\n",
              "      <th>24447</th>\n",
              "      <td>http://data.gesis.org/claimskg/claim_review/41...</td>\n",
              "      <td>'The city that I was mayor of was 50 percent L...</td>\n",
              "      <td>2018-06-07</td>\n",
              "      <td>2</td>\n",
              "      <td>MIXTURE</td>\n",
              "      <td>Lou Barletta</td>\n",
              "      <td>Hazleton wasn’t half-Latino when Lou Barletta ...</td>\n",
              "      <td>Barletta,Bob Casey,Fox Business Network,Hazlet...</td>\n",
              "      <td>Latino</td>\n",
              "      <td>Immigration</td>\n",
              "      <td>politifact</td>\n",
              "      <td>http://www.politifact.com</td>\n",
              "      <td>http://www.politifact.com/pennsylvania/stateme...</td>\n",
              "      <td>English</td>\n",
              "    </tr>\n",
              "    <tr>\n",
              "      <th>24448</th>\n",
              "      <td>http://data.gesis.org/claimskg/claim_review/9e...</td>\n",
              "      <td>A set of images show a congenital anomaly that...</td>\n",
              "      <td>Unknown</td>\n",
              "      <td>2</td>\n",
              "      <td>MIXTURE</td>\n",
              "      <td>Unknown</td>\n",
              "      <td>Is This a Real Hand With Eight Fingers?</td>\n",
              "      <td>American Society for Surgery of the Hand,Bilas...</td>\n",
              "      <td>NaN</td>\n",
              "      <td>hands, Medical, medical anomalies, mirror hand</td>\n",
              "      <td>snopes</td>\n",
              "      <td>http://www.snopes.com</td>\n",
              "      <td>https://www.snopes.com/fact-check/real-hand-ei...</td>\n",
              "      <td>English</td>\n",
              "    </tr>\n",
              "    <tr>\n",
              "      <th>24449</th>\n",
              "      <td>http://data.gesis.org/claimskg/claim_review/1a...</td>\n",
              "      <td>'You see 34 people (are) murdered every single...</td>\n",
              "      <td>2012-12-23</td>\n",
              "      <td>2</td>\n",
              "      <td>MIXTURE</td>\n",
              "      <td>Cory Booker</td>\n",
              "      <td>Cory Booker says 34 Americans are killed by gu...</td>\n",
              "      <td>ABC,Centers for Disease Control and Prevention...</td>\n",
              "      <td>NaN</td>\n",
              "      <td>Crime,Guns</td>\n",
              "      <td>politifact</td>\n",
              "      <td>http://www.politifact.com</td>\n",
              "      <td>http://www.politifact.com/new-jersey/statement...</td>\n",
              "      <td>English</td>\n",
              "    </tr>\n",
              "    <tr>\n",
              "      <th>24450</th>\n",
              "      <td>http://data.gesis.org/claimskg/claim_review/28...</td>\n",
              "      <td>'White men have committed more mass shootings ...</td>\n",
              "      <td>2017-10-02</td>\n",
              "      <td>2</td>\n",
              "      <td>MIXTURE</td>\n",
              "      <td>Newsweek</td>\n",
              "      <td>Are white males responsible for more mass shoo...</td>\n",
              "      <td>2015 San Bernardino shooting,Aurora, Colo,Foll...</td>\n",
              "      <td>NaN</td>\n",
              "      <td>Guns</td>\n",
              "      <td>politifact</td>\n",
              "      <td>http://www.politifact.com</td>\n",
              "      <td>http://www.politifact.com/punditfact/statement...</td>\n",
              "      <td>English</td>\n",
              "    </tr>\n",
              "    <tr>\n",
              "      <th>24451</th>\n",
              "      <td>http://data.gesis.org/claimskg/claim_review/e4...</td>\n",
              "      <td>Under President Obama’s health-care reforms, t...</td>\n",
              "      <td>2013-12-05</td>\n",
              "      <td>2</td>\n",
              "      <td>MIXTURE</td>\n",
              "      <td>Ron Johnson</td>\n",
              "      <td>Under Obamacare, health insurance premiums hav...</td>\n",
              "      <td>2008 presidential campaign,Affordable Care Act...</td>\n",
              "      <td>NaN</td>\n",
              "      <td>Corporations,Economy,Health Care,Public Health...</td>\n",
              "      <td>politifact</td>\n",
              "      <td>http://www.politifact.com</td>\n",
              "      <td>http://www.politifact.com/wisconsin/statements...</td>\n",
              "      <td>English</td>\n",
              "    </tr>\n",
              "  </tbody>\n",
              "</table>\n",
              "<p>24452 rows × 14 columns</p>\n",
              "</div>\n",
              "      <button class=\"colab-df-convert\" onclick=\"convertToInteractive('df-b438aac1-1605-45ac-9be6-23b8fe64f76f')\"\n",
              "              title=\"Convert this dataframe to an interactive table.\"\n",
              "              style=\"display:none;\">\n",
              "        \n",
              "  <svg xmlns=\"http://www.w3.org/2000/svg\" height=\"24px\"viewBox=\"0 0 24 24\"\n",
              "       width=\"24px\">\n",
              "    <path d=\"M0 0h24v24H0V0z\" fill=\"none\"/>\n",
              "    <path d=\"M18.56 5.44l.94 2.06.94-2.06 2.06-.94-2.06-.94-.94-2.06-.94 2.06-2.06.94zm-11 1L8.5 8.5l.94-2.06 2.06-.94-2.06-.94L8.5 2.5l-.94 2.06-2.06.94zm10 10l.94 2.06.94-2.06 2.06-.94-2.06-.94-.94-2.06-.94 2.06-2.06.94z\"/><path d=\"M17.41 7.96l-1.37-1.37c-.4-.4-.92-.59-1.43-.59-.52 0-1.04.2-1.43.59L10.3 9.45l-7.72 7.72c-.78.78-.78 2.05 0 2.83L4 21.41c.39.39.9.59 1.41.59.51 0 1.02-.2 1.41-.59l7.78-7.78 2.81-2.81c.8-.78.8-2.07 0-2.86zM5.41 20L4 18.59l7.72-7.72 1.47 1.35L5.41 20z\"/>\n",
              "  </svg>\n",
              "      </button>\n",
              "      \n",
              "  <style>\n",
              "    .colab-df-container {\n",
              "      display:flex;\n",
              "      flex-wrap:wrap;\n",
              "      gap: 12px;\n",
              "    }\n",
              "\n",
              "    .colab-df-convert {\n",
              "      background-color: #E8F0FE;\n",
              "      border: none;\n",
              "      border-radius: 50%;\n",
              "      cursor: pointer;\n",
              "      display: none;\n",
              "      fill: #1967D2;\n",
              "      height: 32px;\n",
              "      padding: 0 0 0 0;\n",
              "      width: 32px;\n",
              "    }\n",
              "\n",
              "    .colab-df-convert:hover {\n",
              "      background-color: #E2EBFA;\n",
              "      box-shadow: 0px 1px 2px rgba(60, 64, 67, 0.3), 0px 1px 3px 1px rgba(60, 64, 67, 0.15);\n",
              "      fill: #174EA6;\n",
              "    }\n",
              "\n",
              "    [theme=dark] .colab-df-convert {\n",
              "      background-color: #3B4455;\n",
              "      fill: #D2E3FC;\n",
              "    }\n",
              "\n",
              "    [theme=dark] .colab-df-convert:hover {\n",
              "      background-color: #434B5C;\n",
              "      box-shadow: 0px 1px 3px 1px rgba(0, 0, 0, 0.15);\n",
              "      filter: drop-shadow(0px 1px 2px rgba(0, 0, 0, 0.3));\n",
              "      fill: #FFFFFF;\n",
              "    }\n",
              "  </style>\n",
              "\n",
              "      <script>\n",
              "        const buttonEl =\n",
              "          document.querySelector('#df-b438aac1-1605-45ac-9be6-23b8fe64f76f button.colab-df-convert');\n",
              "        buttonEl.style.display =\n",
              "          google.colab.kernel.accessAllowed ? 'block' : 'none';\n",
              "\n",
              "        async function convertToInteractive(key) {\n",
              "          const element = document.querySelector('#df-b438aac1-1605-45ac-9be6-23b8fe64f76f');\n",
              "          const dataTable =\n",
              "            await google.colab.kernel.invokeFunction('convertToInteractive',\n",
              "                                                     [key], {});\n",
              "          if (!dataTable) return;\n",
              "\n",
              "          const docLinkHtml = 'Like what you see? Visit the ' +\n",
              "            '<a target=\"_blank\" href=https://colab.research.google.com/notebooks/data_table.ipynb>data table notebook</a>'\n",
              "            + ' to learn more about interactive tables.';\n",
              "          element.innerHTML = '';\n",
              "          dataTable['output_type'] = 'display_data';\n",
              "          await google.colab.output.renderOutput(dataTable, element);\n",
              "          const docLink = document.createElement('div');\n",
              "          docLink.innerHTML = docLinkHtml;\n",
              "          element.appendChild(docLink);\n",
              "        }\n",
              "      </script>\n",
              "    </div>\n",
              "  </div>\n",
              "  "
            ],
            "text/plain": [
              "                                                      id  ... language\n",
              "0      http://data.gesis.org/claimskg/claim_review/36...  ...  English\n",
              "1      http://data.gesis.org/claimskg/claim_review/e6...  ...  English\n",
              "2      http://data.gesis.org/claimskg/claim_review/e0...  ...  English\n",
              "3      http://data.gesis.org/claimskg/claim_review/48...  ...  English\n",
              "4      http://data.gesis.org/claimskg/claim_review/80...  ...  English\n",
              "...                                                  ...  ...      ...\n",
              "24447  http://data.gesis.org/claimskg/claim_review/41...  ...  English\n",
              "24448  http://data.gesis.org/claimskg/claim_review/9e...  ...  English\n",
              "24449  http://data.gesis.org/claimskg/claim_review/1a...  ...  English\n",
              "24450  http://data.gesis.org/claimskg/claim_review/28...  ...  English\n",
              "24451  http://data.gesis.org/claimskg/claim_review/e4...  ...  English\n",
              "\n",
              "[24452 rows x 14 columns]"
            ]
          },
          "metadata": {},
          "execution_count": 8
        }
      ]
    },
    {
      "cell_type": "code",
      "source": [
        "#let’s see what is the proportion of NaN values using seaborn\n",
        "sns.heatmap(claimskg.isnull(), cmap='viridis')"
      ],
      "metadata": {
        "colab": {
          "base_uri": "https://localhost:8080/",
          "height": 391
        },
        "id": "JVi4bJXuF_X4",
        "outputId": "4b769c8a-5f47-4774-b595-4c5b5633ff5e"
      },
      "execution_count": 9,
      "outputs": [
        {
          "output_type": "execute_result",
          "data": {
            "text/plain": [
              "<matplotlib.axes._subplots.AxesSubplot at 0x7f50f0440f90>"
            ]
          },
          "metadata": {},
          "execution_count": 9
        },
        {
          "output_type": "display_data",
          "data": {
            "image/png": "[encoded data removed]",
            "text/plain": [
              "<Figure size 432x288 with 2 Axes>"
            ]
          },
          "metadata": {
            "needs_background": "light"
          }
        }
      ]
    },
    {
      "cell_type": "code",
      "source": [
        "#View true claims infographic\n",
        "claimskg.info()"
      ],
      "metadata": {
        "colab": {
          "base_uri": "https://localhost:8080/"
        },
        "id": "g5lZ9aEK4Xib",
        "outputId": "22f95f3e-e294-439c-874a-9823359e6878"
      },
      "execution_count": 10,
      "outputs": [
        {
          "output_type": "stream",
          "name": "stdout",
          "text": [
            "<class 'pandas.core.frame.DataFrame'>\n",
            "RangeIndex: 24452 entries, 0 to 24451\n",
            "Data columns (total 14 columns):\n",
            " #   Column                  Non-Null Count  Dtype \n",
            "---  ------                  --------------  ----- \n",
            " 0   id                      24452 non-null  object\n",
            " 1   text                    24452 non-null  object\n",
            " 2   date                    24452 non-null  object\n",
            " 3   truthRating             24452 non-null  int64 \n",
            " 4   ratingName              24452 non-null  object\n",
            " 5   author                  24452 non-null  object\n",
            " 6   headline                24452 non-null  object\n",
            " 7   named_entities_claim    24421 non-null  object\n",
            " 8   named_entities_article  15340 non-null  object\n",
            " 9   keywords                23162 non-null  object\n",
            " 10  source                  24452 non-null  object\n",
            " 11  sourceURL               24452 non-null  object\n",
            " 12  link                    24452 non-null  object\n",
            " 13  language                24452 non-null  object\n",
            "dtypes: int64(1), object(13)\n",
            "memory usage: 2.6+ MB\n"
          ]
        }
      ]
    },
    {
      "cell_type": "code",
      "source": [
        "#Getting unique source's names\n",
        "source_list = claimskg.source.unique()\n",
        "print(\"Names of all sources: \", source_list)\n",
        "print('**************************************************')\n",
        "\n",
        "#One-hot encoding of the events column and deleting the event itself\n",
        "for chan in source_list:\n",
        "    claimskg[chan] = claimskg.source.apply(lambda x: 1 if x==chan else 0)\n",
        "claimskg.pop('source')\n",
        "\n",
        "#pop unimportant columns:\n",
        "\n",
        "#We pop the sourceURL because we have done one-hot encoding on the source column\n",
        "claimskg.pop('sourceURL')\n",
        "\n",
        "#Because languages of all claims are English, so we can neglect the column 'language'\n",
        "print(\"Languges of all claims: \", claimskg.language.unique())\n",
        "claimskg.pop('language')\n",
        "print('**************************************************')\n",
        "\n",
        "print(\"Number of unique dates: \", len(claimskg.date.unique()))\n",
        "\n",
        "#it does not seem that date would be important in results by looking at feature importance of autogluon predictor after several runs. so we drop it\n",
        "claimskg.pop('date')\n",
        "print('**************************************************')\n",
        "\n",
        "print(\"Number of unique Rating names: \", len(claimskg.ratingName.unique()))\n",
        "print('**************************************************')\n",
        "\n",
        "print(\"False Rating class number: \", claimskg[claimskg['ratingName']==False]['truthRating'].iloc[0])\n",
        "print(\"MIXTURE Rating class number: \", claimskg[claimskg['ratingName']=='MIXTURE']['truthRating'].iloc[0])\n",
        "print(\"True Rating class number: \", claimskg[claimskg['ratingName']==True]['truthRating'].iloc[2])\n",
        "print('**************************************************')\n",
        "\n",
        "#We remove ratingName column, because we know which number belongs to which Rating class\n",
        "claimskg.pop('ratingName')\n",
        "\n",
        "claimskg.info()"
      ],
      "metadata": {
        "colab": {
          "base_uri": "https://localhost:8080/"
        },
        "id": "N0-VIR3E6SXO",
        "outputId": "8526a5c6-d0a1-48ea-ec4c-6e3ef761ab0b"
      },
      "execution_count": 11,
      "outputs": [
        {
          "output_type": "stream",
          "name": "stdout",
          "text": [
            "Names of all sources:  ['politifact' 'snopes' 'africacheck' 'truthorfiction' 'factscan'\n",
            " 'checkyourfact']\n",
            "**************************************************\n",
            "Languges of all claims:  ['English']\n",
            "**************************************************\n",
            "Number of unique dates:  3738\n",
            "**************************************************\n",
            "Number of unique Rating names:  3\n",
            "**************************************************\n",
            "False Rating class number:  1\n",
            "MIXTURE Rating class number:  2\n",
            "True Rating class number:  3\n",
            "**************************************************\n",
            "<class 'pandas.core.frame.DataFrame'>\n",
            "RangeIndex: 24452 entries, 0 to 24451\n",
            "Data columns (total 15 columns):\n",
            " #   Column                  Non-Null Count  Dtype \n",
            "---  ------                  --------------  ----- \n",
            " 0   id                      24452 non-null  object\n",
            " 1   text                    24452 non-null  object\n",
            " 2   truthRating             24452 non-null  int64 \n",
            " 3   author                  24452 non-null  object\n",
            " 4   headline                24452 non-null  object\n",
            " 5   named_entities_claim    24421 non-null  object\n",
            " 6   named_entities_article  15340 non-null  object\n",
            " 7   keywords                23162 non-null  object\n",
            " 8   link                    24452 non-null  object\n",
            " 9   politifact              24452 non-null  int64 \n",
            " 10  snopes                  24452 non-null  int64 \n",
            " 11  africacheck             24452 non-null  int64 \n",
            " 12  truthorfiction          24452 non-null  int64 \n",
            " 13  factscan                24452 non-null  int64 \n",
            " 14  checkyourfact           24452 non-null  int64 \n",
            "dtypes: int64(7), object(8)\n",
            "memory usage: 2.8+ MB\n"
          ]
        }
      ]
    },
    {
      "cell_type": "code",
      "source": [
        "#print some information about the data set\n",
        "print(\"Number of unique authors: \", len(claimskg.author.unique()))\n",
        "print(\"Number of unique article named entities: \", len(claimskg.named_entities_article.unique()))\n",
        "print(\"Number of unique article named entities: \", len(claimskg.keywords.unique()))\n",
        "\n",
        "#Obtain indexes of claimskg where the keywords are NaN\n",
        "nan_keywords =np.where(pd.isnull(claimskg['keywords']))\n",
        "print(\"Number of NaN keyword claims: \", len(nan_keywords[0]))\n",
        "print(\"Index on NaN keywords: \", nan_keywords)"
      ],
      "metadata": {
        "colab": {
          "base_uri": "https://localhost:8080/"
        },
        "id": "DjZuMZephMTj",
        "outputId": "d782481e-dcfb-406d-fe7f-cdcce2268447"
      },
      "execution_count": 12,
      "outputs": [
        {
          "output_type": "stream",
          "name": "stdout",
          "text": [
            "Number of unique authors:  3885\n",
            "Number of unique article named entities:  10022\n",
            "Number of unique article named entities:  10156\n",
            "Number of NaN keyword claims:  1290\n",
            "Index on NaN keywords:  (array([    7,    12,    30, ..., 24335, 24388, 24392]),)\n"
          ]
        }
      ]
    },
    {
      "cell_type": "code",
      "source": [
        "\n",
        "tf.test.gpu_device_name()\n",
        "torch.cuda.is_available()\n",
        "\n",
        "def get_default_device():\n",
        "    \"\"\"Picking GPU if available or else CPU\"\"\"\n",
        "    if torch.cuda.is_available():\n",
        "        return torch.device('cuda')\n",
        "    else:\n",
        "        return torch.device('cpu')\n",
        "device = get_default_device()\n",
        "print(device)\n",
        "\n",
        "def to_device(data, device):\n",
        "    \"\"\"Move tensor(s) to chosen device\"\"\"\n",
        "    if isinstance(data, (list,tuple)):\n",
        "        return [to_device(x, device) for x in data]\n",
        "    return data.to(device, non_blocking=True)\n",
        "\n"
      ],
      "metadata": {
        "colab": {
          "base_uri": "https://localhost:8080/"
        },
        "id": "q8zVEOcDum6L",
        "outputId": "6094c263-cf5a-407d-9421-dd5b133ef90f"
      },
      "execution_count": 13,
      "outputs": [
        {
          "output_type": "stream",
          "name": "stdout",
          "text": [
            "cuda\n"
          ]
        }
      ]
    },
    {
      "cell_type": "code",
      "source": [
        "def keywords(doc, kw_model, max_length, top_n):\n",
        "  ''' Getting keywords of a document by using keyBert\n",
        "    returns the obtained keywords\n",
        "  '''\n",
        "  n_gram_range = tuple((1, max_length))\n",
        "  #we might not want to remove stop_words sometimes as they can tie longer keyphrases together.\n",
        "  stop_words = \"english\"\n",
        "  top_n = top_n\n",
        "\n",
        "  keyword = kw_model.extract_keywords(doc, keyphrase_ngram_range=n_gram_range, top_n=top_n, stop_words=stop_words, ) \n",
        "  #we can add extra options like Max Sum Similarity by set use_maxsum=True, nr_candidates=10,\n",
        "  #Or add Maximal Marginal Relevance by set use_mmr=True, diversity=0.5\n",
        "  #We neglet these because of being time-consuming\n",
        "\n",
        "  #creating a similar string to other cells in 'keywords' column\n",
        "  keyword_string=''\n",
        "  for key in keyword:\n",
        "    keyword_string+=','+key[0]\n",
        "  keyword_string = keyword_string[1:]\n",
        "  return keyword_string"
      ],
      "metadata": {
        "id": "4soine-PvIRt"
      },
      "execution_count": 14,
      "outputs": []
    },
    {
      "cell_type": "code",
      "source": [
        "#filling the cells having nan in the 'keywords' column using keyBERT\n",
        "\n",
        "kw_model = KeyBERT()\n",
        "#to_device(kw_model,device)\n",
        "\n",
        "for i in nan_keywords[0]:\n",
        "  claimskg.iloc[i, claimskg.columns.get_loc('keywords')] = keywords(claimskg.iloc[i]['text']+','+claimskg.iloc[i]['headline'], kw_model, max_length=2, top_n=5)\n",
        "# run time: 1 minute one Colab gpu"
      ],
      "metadata": {
        "id": "9xzxObtky5Az",
        "colab": {
          "base_uri": "https://localhost:8080/",
          "height": 465,
          "referenced_widgets": [
            "d5b71e8e326742bda6ee509b50cb2bda",
            "5b2728623aef487cb7dda1d733e7fae7",
            "8a35c95d3f0046778055661f42537049",
            "1a9d216b8c1e42edab2482ea18e3affe",
            "01dae848dcda4e409c9c8e3324689d97",
            "4b9baf54b624491da246eb14a7270ffc",
            "a04841ef15ad42158090f99e25e05547",
            "3da2be7af3824343b071ce9dc0d482b1",
            "69eec8e683bd4274926ba957e03faab2",
            "8c703cdaaccb459b880f61c00827c10a",
            "ba1eb7e55342414da60e7fc63ea98d02",
            "d15cb0b5c03041bcb8904067cfda03e4",
            "8a935b71ae084177a8f627b595bb1fc3",
            "76b6edd88efe4920836f0aae9531cbef",
            "f3bb969e10a64a8f92eccd89f693d430",
            "22563b41a71a42499fdca92124c2c8ca",
            "1d4b6e80665c4864949272df097b0311",
            "ed09ccc9aa0b4e7b9c5eabccb97de88d",
            "fa12435eaf154d1da818a1347307e3e9",
            "15125e79a70f463382a498ad0b78464e",
            "b3abd7e877454528a0b00964fe38caf2",
            "89744c6df5f042ca9200bc9172a40648",
            "99b21205a7a242efb23b3aa8f0c254c7",
            "8412f96aee014e30ab2c386e3e8a47cb",
            "a1ed65de32ae42aeb36cc7bd8c51f03b",
            "7603eaf0f9c848b4a6bf10adf5168b89",
            "4f8ace9bcf714f7ab5a8408a5b17eb05",
            "2237446700da4b4ba8d10ee5b0748f9f",
            "174f538df9e547f790e7bd1df87eeb32",
            "b06efd8b3ece486a987e20ec8240e31d",
            "736c7cc5de2e464794d60bed1bb5b457",
            "821a9c80601542b4aa3336488fbb8ab4",
            "f8be5735e0ab4618bf7a8375511286e0",
            "a116c9215e20488da7126ed1ea4eefd4",
            "bedad85693754e469c3f6066f7b6dc9e",
            "b35d46f2f01d488697b8c9fbdec2c5ac",
            "80c9fd2ace3b400a83f58d7eb3ba5e58",
            "d7882985a398474d930b6201211138d8",
            "a4d10d1c68c24f4cbc2de5d1ef5b0f48",
            "e9a1666fd2d944a9924e3e45ffb3c7f9",
            "33d0c5ec19cc4daf94f138f9ccf6c41d",
            "6a40231ba0b14c5ab2c0347c4d47dcaf",
            "4f35fabc88f24fb193e4b32fd4b10b98",
            "fe74b842e5e54a6ab3a420316c23ea6d",
            "b1dc9398cbc0454fbb245f1e1b2b4bcb",
            "6c722f3700884ac7bd8c8d0c0cc2a8c7",
            "310ffde4ab1d4ced8e81c34927173ad0",
            "45dff42d10b24e2d92bccfff7c9f850e",
            "aa0b98bb0d884265abfb85d207519ba0",
            "28aba092df3448668c5298bc4d869820",
            "0e55cddf87394663b8b7f138602a0105",
            "8f8418e43c5f4c65a54679d57968f3ec",
            "24eb9349006a4ca3bd41741c78ea2728",
            "5ed975f989184721a7ed54d10b80bf6b",
            "e43a31b7b5c14e06adab234738de9c93",
            "b76683d5fb5f4d46866396160dd55821",
            "aa1b0f6cda7840079683b0dfcf9ab321",
            "3e8d2c664f5443b6a7fd0ec05fa68768",
            "fcf5795e0a2c40f592ef7d538a7c54b0",
            "1c0a4d934c3448db9bed9f2eae03c06d",
            "6235be11b90e47cc99c0a0aa5604893e",
            "49f503a5100e4506aa4c2d549c3615cc",
            "4a5e72985d0447f5a062dc749a0d5a8e",
            "045f06c9cbcc4257982591393f68ca06",
            "8ab1ef3d56f548899d12ee70f2e614b3",
            "af451df86369469697da6be8676cb6f4",
            "a030e9a753a6425f911133e9535edd44",
            "7a714dca402d427f99a632ad99ada2b8",
            "44977a49a94a4f5ca9d4ad33ce1c7938",
            "1d5906e623d74734afa19713bab8c842",
            "d69cb5c25fa94d74a125920739af5361",
            "473fb62481684562ad1be53d91185164",
            "1f676061543e41f1b191720d761230b2",
            "7e2cfe48ee964518828f87edfdf9e3d6",
            "4bc2aace961d40c49e8cd3dcf988142b",
            "c82f075c1ab14b65b427d843ccb3e107",
            "8326c8ee7ae749aab5480e935b0d6cab",
            "900d9a5752c74c7bbcfc21041ee5a18b",
            "2c109cccccfd43418f000e6efc7ca1ad",
            "adef397dcb7e4980a3db379e65f2931e",
            "69db99df01e94828af6e565559ca1509",
            "7e4d289c73d44f9282faf6db471e40e5",
            "e9d3f374334648eea57673cb7299436c",
            "163553452fa848aea10e1ccaeaf9ad2b",
            "0124a0df66e34138b64f6bf3ef624898",
            "d1af69eee52940ad89ae7c1d4351a3b0",
            "5e61dae8556643e58c9161cb1747bee4",
            "5bb2531c679d4291971518a914f9d2c8",
            "70a1b678606d4b699f0a90caa8aaa06e",
            "fd566650cb334ca4a699dbea7d40cdb1",
            "550781f89f864fc5aa2b880742476fe4",
            "7030644106eb430585c91aafde2209d8",
            "f530c792eaf54cc4a492a64855cc73ad",
            "2c7b8ee5b012426588b62c4ff99821b4",
            "ba039ed9809141d6a7ff1658f18c0d4e",
            "b431f1bcb20946fbbaa44c9bde4ac1fd",
            "3e2d4e0530a94909b8e0b1b5f345aade",
            "e208c3d8a1034c3c990d74fab93307d5",
            "72d7e09f826649e59aae4c345666d762",
            "7a53eae6dd714046afe7c5ba82186dfb",
            "a1387a56e8f34147b4d59309a1c9bb1e",
            "bcb6d65204374b64a20ac11ebd4571ab",
            "ef62cc972d7a4999b2a116df7e64d93b",
            "cf82514286cc49059679833463beb99d",
            "c7159bbf6d4e403dbb6be693930d896d",
            "8fd64cb8d6154c27a72cbff3e09e8d11",
            "703aa3bcb1154b848ef8209384162b8c",
            "87c267b101c9472a8522e101e563ef8e",
            "f04c4e12a9d54e91b203301637d3504f",
            "7ca9919086d844eba27d0209895420e1",
            "77a75e9465934ac3af8c97c3c38fb885",
            "e4b458e4d82241a29ba702a2edd79297",
            "13d63fd7474d45499be84070b598c712",
            "77acfc3a2d244cb4a657a9618d1a59e4",
            "1499556c3ab24961b74129effdc0444d",
            "a8358e0b57704626958df198a296d902",
            "1b44ec7000134d2f9fb5a1410531483c",
            "2b46ae46313245afaa5b22a811840bdf",
            "8d2f13aa6a004be5ae6e87bf9041870e",
            "d29b52ef761e4452abce875b7a48a50e",
            "5dddb4d4e4a34cd38c9b2a4fe2603bac",
            "3bde5e3e155a4c60808bcaa04bbdd9a4",
            "3f92f125baaa4284869abe53472ba92f",
            "4e5e0c53e4d949329eabb034f1dca4a6",
            "e43a0d5bceda4582acb5b9d274d0e020",
            "b4d1ecf2973742d9b8aff7400474c959",
            "9de33ff8d8d847dd89bcf199f77ffb31",
            "d36ae4aa418148e09f224bb2c8d0c749",
            "1a3a2361a86e4385aa1eaa437fef75ce",
            "01760e096d654242a656c33f882a003a",
            "937a12dbeaa640ee91726e661e4a19fd",
            "e4d6b5c639094c4eaab971a2205558a2",
            "a82429f860cd46c1a5032b90916f899a",
            "a50643f388a243eca0553290104a32ac",
            "e9ee2b393ffb45b8bd28affb4250898b",
            "1d82d782f8ab434d9b883d8f8c94463b",
            "e18d35549c8a4256afb74dd93d8d724e",
            "3fe30e6eeb994c0cb303b5d38e422d21",
            "70b774b707644446985680eeb8531771",
            "d1ddc5a448a048fa95e74d3995b93c16",
            "979508845f474649be14bc43b01f21b3",
            "5e33b755953042f880c166943935edb0",
            "22580c0a263d4c63acafee6cae38b065",
            "00eec0ad3ee942aea84c2d7eba2e7aad",
            "bab1e31bc5c94bf2bb46a63cac944dac",
            "1d89cd0529e042baabbbe982e82130e9",
            "66a87cb22a2a44358c255ffccaf3684c",
            "9a52964b34c34f508ef07a1ed6a90d8d",
            "7264a9dc03664ea084d9de5dd8098103",
            "76f5d241bfc041c8a82b643be1c7c36e",
            "071c1f5a03944b4a8f1e6aa70f90e98d",
            "6576ad4c34284e57a09e391ca72b2632",
            "4f837ce9b3f54afe9ad14a191da3fea3",
            "9e962bdbb0da4433b57eb4897f0f52b2"
          ]
        },
        "outputId": "4d7cca05-da15-4735-c449-3a31d8cf15e7"
      },
      "execution_count": 15,
      "outputs": [
        {
          "output_type": "display_data",
          "data": {
            "application/vnd.jupyter.widget-view+json": {
              "model_id": "d5b71e8e326742bda6ee509b50cb2bda",
              "version_minor": 0,
              "version_major": 2
            },
            "text/plain": [
              "Downloading:   0%|          | 0.00/1.18k [00:00<?, ?B/s]"
            ]
          },
          "metadata": {}
        },
        {
          "output_type": "display_data",
          "data": {
            "application/vnd.jupyter.widget-view+json": {
              "model_id": "d15cb0b5c03041bcb8904067cfda03e4",
              "version_minor": 0,
              "version_major": 2
            },
            "text/plain": [
              "Downloading:   0%|          | 0.00/10.2k [00:00<?, ?B/s]"
            ]
          },
          "metadata": {}
        },
        {
          "output_type": "display_data",
          "data": {
            "application/vnd.jupyter.widget-view+json": {
              "model_id": "99b21205a7a242efb23b3aa8f0c254c7",
              "version_minor": 0,
              "version_major": 2
            },
            "text/plain": [
              "Downloading:   0%|          | 0.00/612 [00:00<?, ?B/s]"
            ]
          },
          "metadata": {}
        },
        {
          "output_type": "display_data",
          "data": {
            "application/vnd.jupyter.widget-view+json": {
              "model_id": "a116c9215e20488da7126ed1ea4eefd4",
              "version_minor": 0,
              "version_major": 2
            },
            "text/plain": [
              "Downloading:   0%|          | 0.00/116 [00:00<?, ?B/s]"
            ]
          },
          "metadata": {}
        },
        {
          "output_type": "display_data",
          "data": {
            "application/vnd.jupyter.widget-view+json": {
              "model_id": "b1dc9398cbc0454fbb245f1e1b2b4bcb",
              "version_minor": 0,
              "version_major": 2
            },
            "text/plain": [
              "Downloading:   0%|          | 0.00/39.3k [00:00<?, ?B/s]"
            ]
          },
          "metadata": {}
        },
        {
          "output_type": "display_data",
          "data": {
            "application/vnd.jupyter.widget-view+json": {
              "model_id": "b76683d5fb5f4d46866396160dd55821",
              "version_minor": 0,
              "version_major": 2
            },
            "text/plain": [
              "Downloading:   0%|          | 0.00/349 [00:00<?, ?B/s]"
            ]
          },
          "metadata": {}
        },
        {
          "output_type": "display_data",
          "data": {
            "application/vnd.jupyter.widget-view+json": {
              "model_id": "a030e9a753a6425f911133e9535edd44",
              "version_minor": 0,
              "version_major": 2
            },
            "text/plain": [
              "Downloading:   0%|          | 0.00/90.9M [00:00<?, ?B/s]"
            ]
          },
          "metadata": {}
        },
        {
          "output_type": "display_data",
          "data": {
            "application/vnd.jupyter.widget-view+json": {
              "model_id": "900d9a5752c74c7bbcfc21041ee5a18b",
              "version_minor": 0,
              "version_major": 2
            },
            "text/plain": [
              "Downloading:   0%|          | 0.00/53.0 [00:00<?, ?B/s]"
            ]
          },
          "metadata": {}
        },
        {
          "output_type": "display_data",
          "data": {
            "application/vnd.jupyter.widget-view+json": {
              "model_id": "70a1b678606d4b699f0a90caa8aaa06e",
              "version_minor": 0,
              "version_major": 2
            },
            "text/plain": [
              "Downloading:   0%|          | 0.00/112 [00:00<?, ?B/s]"
            ]
          },
          "metadata": {}
        },
        {
          "output_type": "display_data",
          "data": {
            "application/vnd.jupyter.widget-view+json": {
              "model_id": "7a53eae6dd714046afe7c5ba82186dfb",
              "version_minor": 0,
              "version_major": 2
            },
            "text/plain": [
              "Downloading:   0%|          | 0.00/466k [00:00<?, ?B/s]"
            ]
          },
          "metadata": {}
        },
        {
          "output_type": "display_data",
          "data": {
            "application/vnd.jupyter.widget-view+json": {
              "model_id": "77a75e9465934ac3af8c97c3c38fb885",
              "version_minor": 0,
              "version_major": 2
            },
            "text/plain": [
              "Downloading:   0%|          | 0.00/350 [00:00<?, ?B/s]"
            ]
          },
          "metadata": {}
        },
        {
          "output_type": "display_data",
          "data": {
            "application/vnd.jupyter.widget-view+json": {
              "model_id": "3bde5e3e155a4c60808bcaa04bbdd9a4",
              "version_minor": 0,
              "version_major": 2
            },
            "text/plain": [
              "Downloading:   0%|          | 0.00/13.2k [00:00<?, ?B/s]"
            ]
          },
          "metadata": {}
        },
        {
          "output_type": "display_data",
          "data": {
            "application/vnd.jupyter.widget-view+json": {
              "model_id": "a82429f860cd46c1a5032b90916f899a",
              "version_minor": 0,
              "version_major": 2
            },
            "text/plain": [
              "Downloading:   0%|          | 0.00/232k [00:00<?, ?B/s]"
            ]
          },
          "metadata": {}
        },
        {
          "output_type": "display_data",
          "data": {
            "application/vnd.jupyter.widget-view+json": {
              "model_id": "00eec0ad3ee942aea84c2d7eba2e7aad",
              "version_minor": 0,
              "version_major": 2
            },
            "text/plain": [
              "Downloading:   0%|          | 0.00/190 [00:00<?, ?B/s]"
            ]
          },
          "metadata": {}
        }
      ]
    },
    {
      "cell_type": "code",
      "source": [
        "#Saving the table with full\n",
        "claimskg.to_csv(\"claimskg_all_keywords.csv\", index=False)"
      ],
      "metadata": {
        "id": "gMWbHGEY2Rqx"
      },
      "execution_count": 36,
      "outputs": []
    },
    {
      "cell_type": "markdown",
      "source": [
        "# Working on article entity names"
      ],
      "metadata": {
        "id": "t8v063BAQREW"
      }
    },
    {
      "cell_type": "code",
      "source": [
        "claimskg = pd.read_csv(\"claimskg_all_keywords.csv\")"
      ],
      "metadata": {
        "id": "J8yU_jQlDwQg"
      },
      "execution_count": 69,
      "outputs": []
    },
    {
      "cell_type": "code",
      "source": [
        "claimskg.info()"
      ],
      "metadata": {
        "colab": {
          "base_uri": "https://localhost:8080/"
        },
        "id": "8Y_CR5ODp8Hb",
        "outputId": "3c01cefb-c673-4371-b081-4b79fc6b662a"
      },
      "execution_count": 16,
      "outputs": [
        {
          "output_type": "stream",
          "name": "stdout",
          "text": [
            "<class 'pandas.core.frame.DataFrame'>\n",
            "RangeIndex: 24452 entries, 0 to 24451\n",
            "Data columns (total 15 columns):\n",
            " #   Column                  Non-Null Count  Dtype \n",
            "---  ------                  --------------  ----- \n",
            " 0   id                      24452 non-null  object\n",
            " 1   text                    24452 non-null  object\n",
            " 2   truthRating             24452 non-null  int64 \n",
            " 3   author                  24452 non-null  object\n",
            " 4   headline                24452 non-null  object\n",
            " 5   named_entities_claim    24421 non-null  object\n",
            " 6   named_entities_article  15340 non-null  object\n",
            " 7   keywords                24452 non-null  object\n",
            " 8   link                    24452 non-null  object\n",
            " 9   politifact              24452 non-null  int64 \n",
            " 10  snopes                  24452 non-null  int64 \n",
            " 11  africacheck             24452 non-null  int64 \n",
            " 12  truthorfiction          24452 non-null  int64 \n",
            " 13  factscan                24452 non-null  int64 \n",
            " 14  checkyourfact           24452 non-null  int64 \n",
            "dtypes: int64(7), object(8)\n",
            "memory usage: 2.8+ MB\n"
          ]
        }
      ]
    },
    {
      "cell_type": "code",
      "source": [
        "#Obtain indexes of claimskg where the named_entities_claim are NaN\n",
        "nan_claim_entity =np.where(pd.isnull(claimskg['named_entities_claim']))\n",
        "print(\"Number of NaN keyword claims: \", len(nan_claim_entity[0]))\n",
        "print(\"Index on NaN keywords: \", nan_claim_entity)"
      ],
      "metadata": {
        "colab": {
          "base_uri": "https://localhost:8080/"
        },
        "id": "DZP39VbleBsz",
        "outputId": "ab6caa68-ec73-42b3-dafc-b6944322cfa1"
      },
      "execution_count": 17,
      "outputs": [
        {
          "output_type": "stream",
          "name": "stdout",
          "text": [
            "Number of NaN keyword claims:  31\n",
            "Index on NaN keywords:  (array([  172,  1328,  1609,  1870,  1910,  2234,  4585,  5104,  5708,\n",
            "        6225,  7107,  7845,  9446,  9991, 10895, 10923, 10932, 11263,\n",
            "       11460, 11734, 12473, 12569, 13246, 13440, 13541, 13921, 13967,\n",
            "       16570, 16872, 17946, 20348]),)\n"
          ]
        }
      ]
    },
    {
      "cell_type": "code",
      "source": [
        "##filling the cells having nan in the 'named_entities_claim' column using keyBERT\n",
        "\n",
        "for i in nan_claim_entity[0]:\n",
        "  choices_list = claimskg.iloc[i, claimskg.columns.get_loc('headline')] +','+ claimskg.iloc[i, claimskg.columns.get_loc('text')]\n",
        "  claimskg.iloc[i, claimskg.columns.get_loc('named_entities_claim')] = keywords(choices_list, kw_model, max_length=6, top_n=10)\n"
      ],
      "metadata": {
        "id": "JF0bKfTehMIJ"
      },
      "execution_count": 18,
      "outputs": []
    },
    {
      "cell_type": "code",
      "source": [
        "#Saving table with full lemmatized named_entities_claim column\n",
        "claimskg.to_csv(\"claimskg_all_entities_claim.csv\", index=False)"
      ],
      "metadata": {
        "id": "dT0dLqzp2ujh"
      },
      "execution_count": 41,
      "outputs": []
    },
    {
      "cell_type": "code",
      "source": [
        "claimskg = pd.read_csv(\"claimskg_all_entities_claim.csv\")"
      ],
      "metadata": {
        "id": "lEFir9kF4QAI"
      },
      "execution_count": 3,
      "outputs": []
    },
    {
      "cell_type": "code",
      "source": [
        "claimskg.info()"
      ],
      "metadata": {
        "colab": {
          "base_uri": "https://localhost:8080/"
        },
        "id": "iO-c64CQ0WFJ",
        "outputId": "4055caff-f6a5-4bcd-f9d2-1c03fbee634d"
      },
      "execution_count": 19,
      "outputs": [
        {
          "output_type": "stream",
          "name": "stdout",
          "text": [
            "<class 'pandas.core.frame.DataFrame'>\n",
            "RangeIndex: 24452 entries, 0 to 24451\n",
            "Data columns (total 15 columns):\n",
            " #   Column                  Non-Null Count  Dtype \n",
            "---  ------                  --------------  ----- \n",
            " 0   id                      24452 non-null  object\n",
            " 1   text                    24452 non-null  object\n",
            " 2   truthRating             24452 non-null  int64 \n",
            " 3   author                  24452 non-null  object\n",
            " 4   headline                24452 non-null  object\n",
            " 5   named_entities_claim    24452 non-null  object\n",
            " 6   named_entities_article  15340 non-null  object\n",
            " 7   keywords                24452 non-null  object\n",
            " 8   link                    24452 non-null  object\n",
            " 9   politifact              24452 non-null  int64 \n",
            " 10  snopes                  24452 non-null  int64 \n",
            " 11  africacheck             24452 non-null  int64 \n",
            " 12  truthorfiction          24452 non-null  int64 \n",
            " 13  factscan                24452 non-null  int64 \n",
            " 14  checkyourfact           24452 non-null  int64 \n",
            "dtypes: int64(7), object(8)\n",
            "memory usage: 2.8+ MB\n"
          ]
        }
      ]
    },
    {
      "cell_type": "code",
      "source": [
        "#Obtain indexes of claimskg where the named_entities_article are NaN\n",
        "nan_article_list =np.where(pd.isnull(claimskg['named_entities_article']))\n",
        "print(\"Number of NaN keyword claims: \", len(nan_article_list[0]))\n",
        "print(\"Index on NaN keywords: \", nan_article_list)"
      ],
      "metadata": {
        "colab": {
          "base_uri": "https://localhost:8080/"
        },
        "id": "yrxyc2j5eBz1",
        "outputId": "6a70e7b4-d370-4ede-9f81-df3535566235"
      },
      "execution_count": 20,
      "outputs": [
        {
          "output_type": "stream",
          "name": "stdout",
          "text": [
            "Number of NaN keyword claims:  9112\n",
            "Index on NaN keywords:  (array([    1,     2,     5, ..., 24449, 24450, 24451]),)\n"
          ]
        }
      ]
    },
    {
      "cell_type": "code",
      "source": [
        "#Using headline, named_entities_claim and keywords to recognize the 5 top article topics, looking at the non NaN named_entities_article cells this seems sensible\n",
        "#filling the cells having nan in the 'named_entities_article' column using keyBERT\n",
        "\n",
        "for i in nan_article_list[0]:\n",
        "  choices_list = claimskg.iloc[i, claimskg.columns.get_loc('headline')] +','+ claimskg.iloc[i, claimskg.columns.get_loc('keywords')]+','+ claimskg.iloc[i, claimskg.columns.get_loc('named_entities_claim')]\n",
        "  claimskg.iloc[i, claimskg.columns.get_loc('named_entities_article')] = keywords(choices_list, kw_model, max_length=3, top_n=2)\n",
        "\n",
        "#12 minutes run on my Colab gpu, otherwise it's so time-consuming"
      ],
      "metadata": {
        "id": "nST2tSTucbAA"
      },
      "execution_count": 21,
      "outputs": []
    },
    {
      "cell_type": "code",
      "source": [
        "claimskg.info()"
      ],
      "metadata": {
        "colab": {
          "base_uri": "https://localhost:8080/"
        },
        "id": "Z9dg1PoyG0BY",
        "outputId": "07b4a88b-eed6-4134-8708-c182a812785a"
      },
      "execution_count": 22,
      "outputs": [
        {
          "output_type": "stream",
          "name": "stdout",
          "text": [
            "<class 'pandas.core.frame.DataFrame'>\n",
            "RangeIndex: 24452 entries, 0 to 24451\n",
            "Data columns (total 15 columns):\n",
            " #   Column                  Non-Null Count  Dtype \n",
            "---  ------                  --------------  ----- \n",
            " 0   id                      24452 non-null  object\n",
            " 1   text                    24452 non-null  object\n",
            " 2   truthRating             24452 non-null  int64 \n",
            " 3   author                  24452 non-null  object\n",
            " 4   headline                24452 non-null  object\n",
            " 5   named_entities_claim    24452 non-null  object\n",
            " 6   named_entities_article  24452 non-null  object\n",
            " 7   keywords                24452 non-null  object\n",
            " 8   link                    24452 non-null  object\n",
            " 9   politifact              24452 non-null  int64 \n",
            " 10  snopes                  24452 non-null  int64 \n",
            " 11  africacheck             24452 non-null  int64 \n",
            " 12  truthorfiction          24452 non-null  int64 \n",
            " 13  factscan                24452 non-null  int64 \n",
            " 14  checkyourfact           24452 non-null  int64 \n",
            "dtypes: int64(7), object(8)\n",
            "memory usage: 2.8+ MB\n"
          ]
        }
      ]
    },
    {
      "cell_type": "code",
      "source": [
        "claimskg.to_csv(\"claimskg_all_articles.csv\", index=False)"
      ],
      "metadata": {
        "id": "3b8aWhQo4lwT"
      },
      "execution_count": 23,
      "outputs": []
    },
    {
      "cell_type": "code",
      "source": [
        "claimskg = pd.read_csv(\"claimskg_all_articles.csv\")"
      ],
      "metadata": {
        "id": "YJlLnGZ0G9Zs"
      },
      "execution_count": 40,
      "outputs": []
    },
    {
      "cell_type": "code",
      "source": [
        "claimskg.info()"
      ],
      "metadata": {
        "colab": {
          "base_uri": "https://localhost:8080/"
        },
        "id": "0T8IxbEUfJBM",
        "outputId": "d5a4d654-a635-4477-987c-12e0c3853983"
      },
      "execution_count": 41,
      "outputs": [
        {
          "output_type": "stream",
          "name": "stdout",
          "text": [
            "<class 'pandas.core.frame.DataFrame'>\n",
            "RangeIndex: 24452 entries, 0 to 24451\n",
            "Data columns (total 15 columns):\n",
            " #   Column                  Non-Null Count  Dtype \n",
            "---  ------                  --------------  ----- \n",
            " 0   id                      24452 non-null  object\n",
            " 1   text                    24452 non-null  object\n",
            " 2   truthRating             24452 non-null  int64 \n",
            " 3   author                  24452 non-null  object\n",
            " 4   headline                24452 non-null  object\n",
            " 5   named_entities_claim    24452 non-null  object\n",
            " 6   named_entities_article  24452 non-null  object\n",
            " 7   keywords                24452 non-null  object\n",
            " 8   link                    24452 non-null  object\n",
            " 9   politifact              24452 non-null  int64 \n",
            " 10  snopes                  24452 non-null  int64 \n",
            " 11  africacheck             24452 non-null  int64 \n",
            " 12  truthorfiction          24452 non-null  int64 \n",
            " 13  factscan                24452 non-null  int64 \n",
            " 14  checkyourfact           24452 non-null  int64 \n",
            "dtypes: int64(7), object(8)\n",
            "memory usage: 2.8+ MB\n"
          ]
        }
      ]
    },
    {
      "cell_type": "code",
      "source": [
        "#Remove stop words of the all necessary columns\n",
        "stop_words = set(stopwords.words('english'))\n",
        "\n",
        "def remove_stop_word(text):\n",
        "    return \" \".join(w for w in word_tokenize(text) if not w.lower() in stop_words)\n",
        "\n",
        "columns = ['text', 'headline', 'named_entities_claim','named_entities_article', 'keywords']\n",
        "for col in columns:\n",
        "  df = claimskg[col].copy()\n",
        "  df = pd.DataFrame(df)\n",
        "  df['text_stopped'] = df[col].apply(remove_stop_word)\n",
        "  claimskg[col] = df.text_stopped\n"
      ],
      "metadata": {
        "id": "pJPSo2hXjnV3"
      },
      "execution_count": 42,
      "outputs": []
    },
    {
      "cell_type": "code",
      "source": [
        "claimskg.info()"
      ],
      "metadata": {
        "colab": {
          "base_uri": "https://localhost:8080/"
        },
        "id": "EjjKZ0d2hY4S",
        "outputId": "5ba84b36-6691-44fa-dc76-becbe600aa27"
      },
      "execution_count": 43,
      "outputs": [
        {
          "output_type": "stream",
          "name": "stdout",
          "text": [
            "<class 'pandas.core.frame.DataFrame'>\n",
            "RangeIndex: 24452 entries, 0 to 24451\n",
            "Data columns (total 15 columns):\n",
            " #   Column                  Non-Null Count  Dtype \n",
            "---  ------                  --------------  ----- \n",
            " 0   id                      24452 non-null  object\n",
            " 1   text                    24452 non-null  object\n",
            " 2   truthRating             24452 non-null  int64 \n",
            " 3   author                  24452 non-null  object\n",
            " 4   headline                24452 non-null  object\n",
            " 5   named_entities_claim    24452 non-null  object\n",
            " 6   named_entities_article  24452 non-null  object\n",
            " 7   keywords                24452 non-null  object\n",
            " 8   link                    24452 non-null  object\n",
            " 9   politifact              24452 non-null  int64 \n",
            " 10  snopes                  24452 non-null  int64 \n",
            " 11  africacheck             24452 non-null  int64 \n",
            " 12  truthorfiction          24452 non-null  int64 \n",
            " 13  factscan                24452 non-null  int64 \n",
            " 14  checkyourfact           24452 non-null  int64 \n",
            "dtypes: int64(7), object(8)\n",
            "memory usage: 2.8+ MB\n"
          ]
        }
      ]
    },
    {
      "cell_type": "code",
      "source": [
        "#Lemmatization all the necessary columns\n",
        "\n",
        "lemmatizer = nltk.stem.WordNetLemmatizer()\n",
        "\n",
        "def lemmatize_text(text):\n",
        "    return \" \".join(lemmatizer.lemmatize(w) for w in nltk.word_tokenize(text))\n",
        "\n",
        "#Rewriting columns for cell independence\n",
        "columns = ['text', 'headline', 'named_entities_claim','named_entities_article', 'keywords']\n",
        "for col in columns:\n",
        "  df = claimskg[col].copy()\n",
        "  df = pd.DataFrame(df)\n",
        "  df['text_lemmatized'] = df[col].apply(lemmatize_text)\n",
        "  claimskg[col] = df.text_lemmatized\n"
      ],
      "metadata": {
        "id": "Tg2LW8qLGRsi"
      },
      "execution_count": 44,
      "outputs": []
    },
    {
      "cell_type": "code",
      "source": [
        "claimskg.info()"
      ],
      "metadata": {
        "colab": {
          "base_uri": "https://localhost:8080/"
        },
        "id": "zcWyfCuJhsNl",
        "outputId": "6f04ee0d-0126-420d-de3e-266b1291abb6"
      },
      "execution_count": 45,
      "outputs": [
        {
          "output_type": "stream",
          "name": "stdout",
          "text": [
            "<class 'pandas.core.frame.DataFrame'>\n",
            "RangeIndex: 24452 entries, 0 to 24451\n",
            "Data columns (total 15 columns):\n",
            " #   Column                  Non-Null Count  Dtype \n",
            "---  ------                  --------------  ----- \n",
            " 0   id                      24452 non-null  object\n",
            " 1   text                    24452 non-null  object\n",
            " 2   truthRating             24452 non-null  int64 \n",
            " 3   author                  24452 non-null  object\n",
            " 4   headline                24452 non-null  object\n",
            " 5   named_entities_claim    24452 non-null  object\n",
            " 6   named_entities_article  24452 non-null  object\n",
            " 7   keywords                24452 non-null  object\n",
            " 8   link                    24452 non-null  object\n",
            " 9   politifact              24452 non-null  int64 \n",
            " 10  snopes                  24452 non-null  int64 \n",
            " 11  africacheck             24452 non-null  int64 \n",
            " 12  truthorfiction          24452 non-null  int64 \n",
            " 13  factscan                24452 non-null  int64 \n",
            " 14  checkyourfact           24452 non-null  int64 \n",
            "dtypes: int64(7), object(8)\n",
            "memory usage: 2.8+ MB\n"
          ]
        }
      ]
    },
    {
      "cell_type": "code",
      "source": [
        "#stemming\n",
        "from nltk.stem import PorterStemmer\n",
        "\n",
        "stemmer = PorterStemmer()\n",
        "def stem_words(text):\n",
        "  return \" \".join([stemmer.stem(word) for word in nltk.word_tokenize(text)])\n",
        "#Rewriting columns for cell independence\n",
        "columns = ['text', 'headline', 'named_entities_claim','named_entities_article', 'keywords']\n",
        "for col in columns:\n",
        "  df = claimskg[col].copy()\n",
        "  df = pd.DataFrame(df)\n",
        "  df['text_stemmed'] = df[col].apply(stem_words)\n",
        "  claimskg[col] = df.text_stemmed\n",
        "\n",
        "#.apply(lambda x: stem_words(x))"
      ],
      "metadata": {
        "id": "yJYuhAnXY4Uq"
      },
      "execution_count": 46,
      "outputs": []
    },
    {
      "cell_type": "code",
      "source": [
        "claimskg.to_csv(\"claimskg_lemm_stop_stem.csv\", index=False)"
      ],
      "metadata": {
        "id": "h3zlGL5OEW0K"
      },
      "execution_count": 51,
      "outputs": []
    },
    {
      "cell_type": "code",
      "source": [
        "#Obtain number of unique keywords in the whole data set\n",
        "unique_keywords = set()\n",
        "for key_list_string in claimskg['keywords']:\n",
        "  for key in key_list_string.split(','):\n",
        "    unique_keywords.add(key)\n",
        "print(\"Number of unique keywords: \",len(unique_keywords))"
      ],
      "metadata": {
        "colab": {
          "base_uri": "https://localhost:8080/"
        },
        "id": "5XQKA1PbTRC2",
        "outputId": "d0ee1804-e9e6-4731-851c-eff19950c4c0"
      },
      "execution_count": 52,
      "outputs": [
        {
          "output_type": "stream",
          "name": "stdout",
          "text": [
            "Number of unique keywords:  14615\n"
          ]
        }
      ]
    },
    {
      "cell_type": "code",
      "source": [
        "#Obtain number of unique articles in the whole data set\n",
        "unique_articles = set()\n",
        "not_null_articles = claimskg.loc[~claimskg.named_entities_article.isnull()]['named_entities_article']\n",
        "for article_list_string in not_null_articles:\n",
        "  for key in article_list_string.split(','):\n",
        "    #print(key)\n",
        "    unique_articles.add(key)\n",
        "print(\"Number of unique articles: \",len(unique_articles))"
      ],
      "metadata": {
        "colab": {
          "base_uri": "https://localhost:8080/"
        },
        "id": "t3WImrPRUMRW",
        "outputId": "134ea819-dc1f-4c31-eaab-b03399617c1c"
      },
      "execution_count": 53,
      "outputs": [
        {
          "output_type": "stream",
          "name": "stdout",
          "text": [
            "Number of unique articles:  29026\n"
          ]
        }
      ]
    },
    {
      "cell_type": "markdown",
      "source": [
        "# Working on text column"
      ],
      "metadata": {
        "id": "1_5EYwrPZXeG"
      }
    },
    {
      "cell_type": "code",
      "source": [
        "claimskg = pd.read_csv(\"claimskg_lemm_stop_stem.csv\")"
      ],
      "metadata": {
        "id": "dji9i_w14tTq"
      },
      "execution_count": 154,
      "outputs": []
    },
    {
      "cell_type": "code",
      "source": [
        "#After lemmatization, stemming and removing stop words, we got some NaN objects again\n",
        "claimskg.info()"
      ],
      "metadata": {
        "colab": {
          "base_uri": "https://localhost:8080/"
        },
        "id": "6986KAkqjmhV",
        "outputId": "359d3dc4-eaa6-45d2-ecef-b4c44748ed0a"
      },
      "execution_count": 155,
      "outputs": [
        {
          "output_type": "stream",
          "name": "stdout",
          "text": [
            "<class 'pandas.core.frame.DataFrame'>\n",
            "RangeIndex: 24452 entries, 0 to 24451\n",
            "Data columns (total 15 columns):\n",
            " #   Column                  Non-Null Count  Dtype \n",
            "---  ------                  --------------  ----- \n",
            " 0   id                      24452 non-null  object\n",
            " 1   text                    24452 non-null  object\n",
            " 2   truthRating             24452 non-null  int64 \n",
            " 3   author                  24452 non-null  object\n",
            " 4   headline                24452 non-null  object\n",
            " 5   named_entities_claim    24450 non-null  object\n",
            " 6   named_entities_article  24433 non-null  object\n",
            " 7   keywords                24451 non-null  object\n",
            " 8   link                    24452 non-null  object\n",
            " 9   politifact              24452 non-null  int64 \n",
            " 10  snopes                  24452 non-null  int64 \n",
            " 11  africacheck             24452 non-null  int64 \n",
            " 12  truthorfiction          24452 non-null  int64 \n",
            " 13  factscan                24452 non-null  int64 \n",
            " 14  checkyourfact           24452 non-null  int64 \n",
            "dtypes: int64(7), object(8)\n",
            "memory usage: 2.8+ MB\n"
          ]
        }
      ]
    },
    {
      "cell_type": "code",
      "source": [
        "#Removing rows containing NaNs because of their minority\n",
        "claimskg = claimskg.dropna()\n",
        "claimskg.info()"
      ],
      "metadata": {
        "colab": {
          "base_uri": "https://localhost:8080/"
        },
        "id": "cy537w4uj_of",
        "outputId": "fcbc507d-ffc8-4189-bf01-7bdcc3ce252a"
      },
      "execution_count": 156,
      "outputs": [
        {
          "output_type": "stream",
          "name": "stdout",
          "text": [
            "<class 'pandas.core.frame.DataFrame'>\n",
            "Int64Index: 24430 entries, 0 to 24451\n",
            "Data columns (total 15 columns):\n",
            " #   Column                  Non-Null Count  Dtype \n",
            "---  ------                  --------------  ----- \n",
            " 0   id                      24430 non-null  object\n",
            " 1   text                    24430 non-null  object\n",
            " 2   truthRating             24430 non-null  int64 \n",
            " 3   author                  24430 non-null  object\n",
            " 4   headline                24430 non-null  object\n",
            " 5   named_entities_claim    24430 non-null  object\n",
            " 6   named_entities_article  24430 non-null  object\n",
            " 7   keywords                24430 non-null  object\n",
            " 8   link                    24430 non-null  object\n",
            " 9   politifact              24430 non-null  int64 \n",
            " 10  snopes                  24430 non-null  int64 \n",
            " 11  africacheck             24430 non-null  int64 \n",
            " 12  truthorfiction          24430 non-null  int64 \n",
            " 13  factscan                24430 non-null  int64 \n",
            " 14  checkyourfact           24430 non-null  int64 \n",
            "dtypes: int64(7), object(8)\n",
            "memory usage: 3.0+ MB\n"
          ]
        }
      ]
    },
    {
      "cell_type": "code",
      "source": [
        "claimskg.to_csv(\"claimskg_edited_1.csv\", index=False)"
      ],
      "metadata": {
        "id": "0zcOUpAxkeel"
      },
      "execution_count": 157,
      "outputs": []
    },
    {
      "cell_type": "markdown",
      "source": [
        "# Transformer hub\n",
        "- TensorFlow Hub is a repository of trained machine learning models ready for fine-tuning and deployable anywhere. "
      ],
      "metadata": {
        "id": "XSlkzh2OtNMK"
      }
    },
    {
      "cell_type": "code",
      "source": [
        "claimskg = pd.read_csv('claimskg_edited_1.csv')"
      ],
      "metadata": {
        "id": "Jn21rH8Ntphm"
      },
      "execution_count": 33,
      "outputs": []
    },
    {
      "cell_type": "code",
      "source": [
        "#for chan in claimskg['truthRating']:\n",
        " #   claimskg['goal'+str(chan)] = claimskg.truthRating.apply(lambda x: 1 if x==chan else 0)\n",
        "from sklearn.preprocessing import LabelEncoder\n",
        "from tensorflow.keras.utils import to_categorical\n",
        "\n",
        "le = LabelEncoder()\n",
        "y = to_categorical(le.fit_transform(claimskg['truthRating']))\n",
        "y"
      ],
      "metadata": {
        "colab": {
          "base_uri": "https://localhost:8080/"
        },
        "id": "WkSeJeuG2OA-",
        "outputId": "5b59b45f-f19d-454a-9256-23a52852104c"
      },
      "execution_count": 34,
      "outputs": [
        {
          "output_type": "execute_result",
          "data": {
            "text/plain": [
              "array([[0., 0., 1.],\n",
              "       [0., 0., 1.],\n",
              "       [0., 0., 1.],\n",
              "       ...,\n",
              "       [0., 1., 0.],\n",
              "       [0., 1., 0.],\n",
              "       [0., 1., 0.]], dtype=float32)"
            ]
          },
          "metadata": {},
          "execution_count": 34
        }
      ]
    },
    {
      "cell_type": "code",
      "source": [
        "train_data = claimskg['text']+' '+claimskg['author']+' '+ claimskg['headline']+' '+ \\\n",
        "              claimskg['named_entities_claim']+' '+claimskg['named_entities_article']+' '+ claimskg['keywords']+' ' + claimskg['link']"
      ],
      "metadata": {
        "id": "3NRSv1gl6ZWC"
      },
      "execution_count": 37,
      "outputs": []
    },
    {
      "cell_type": "code",
      "source": [
        "claimskg.info()"
      ],
      "metadata": {
        "colab": {
          "base_uri": "https://localhost:8080/"
        },
        "id": "H4TngxPTvsvL",
        "outputId": "32cfa2e1-2212-49fd-c4a5-f3150d204056"
      },
      "execution_count": 38,
      "outputs": [
        {
          "output_type": "stream",
          "name": "stdout",
          "text": [
            "<class 'pandas.core.frame.DataFrame'>\n",
            "RangeIndex: 24430 entries, 0 to 24429\n",
            "Data columns (total 15 columns):\n",
            " #   Column                  Non-Null Count  Dtype \n",
            "---  ------                  --------------  ----- \n",
            " 0   id                      24430 non-null  object\n",
            " 1   text                    24430 non-null  object\n",
            " 2   truthRating             24430 non-null  int64 \n",
            " 3   author                  24430 non-null  object\n",
            " 4   headline                24430 non-null  object\n",
            " 5   named_entities_claim    24430 non-null  object\n",
            " 6   named_entities_article  24430 non-null  object\n",
            " 7   keywords                24430 non-null  object\n",
            " 8   link                    24430 non-null  object\n",
            " 9   politifact              24430 non-null  int64 \n",
            " 10  snopes                  24430 non-null  int64 \n",
            " 11  africacheck             24430 non-null  int64 \n",
            " 12  truthorfiction          24430 non-null  int64 \n",
            " 13  factscan                24430 non-null  int64 \n",
            " 14  checkyourfact           24430 non-null  int64 \n",
            "dtypes: int64(7), object(8)\n",
            "memory usage: 2.8+ MB\n"
          ]
        }
      ]
    },
    {
      "cell_type": "code",
      "source": [
        "from sklearn.model_selection import train_test_split\n",
        "\n",
        "# split data set into TRAIN, DEV, and TEST sets\n",
        "X_train, X_dev, y_train, y_dev = train_test_split(train_data, \n",
        "                                                  y, test_size=0.2, random_state=42)  # 20% for DEV and TEST\n",
        "\n",
        "# split DEV further into DEV and TEST\n",
        "X_dev, X_test, y_dev, y_test = train_test_split(X_dev, y_dev, test_size=0.5, random_state=42)"
      ],
      "metadata": {
        "id": "W2NnE8vatQqW"
      },
      "execution_count": 39,
      "outputs": []
    },
    {
      "cell_type": "code",
      "source": [
        "import tensorflow_hub as hub\n",
        "\n",
        "# load embeddings model from Tensorflow Hub\n",
        "embed = hub.load(\"https://tfhub.dev/google/universal-sentence-encoder/4\")\n",
        "\n",
        "# convert sentences to embeddings\n",
        "X_train = embed(X_train)\n",
        "X_dev = embed(X_dev)\n",
        "X_test = embed(X_test)"
      ],
      "metadata": {
        "id": "UlfEr52mv0_l"
      },
      "execution_count": 40,
      "outputs": []
    },
    {
      "cell_type": "code",
      "source": [
        "from tensorflow.keras.layers import Dense\n",
        "from tensorflow.keras.models import Sequential\n",
        "\n",
        "# build Sequential model with 3 layers\n",
        "model = Sequential()\n",
        "model.add(Dense(units=16, activation=\"relu\"))  # input layer\n",
        "model.add(Dense(units=64, activation=\"relu\"))  # hidden layer\n",
        "model.add(Dense(units=3, activation=\"softmax\"))  # output layer, no. of units equals no. of classes\n",
        "model.compile(loss='categorical_crossentropy', optimizer='adam', metrics=['accuracy'])"
      ],
      "metadata": {
        "id": "DmbHn_Cwv-3-"
      },
      "execution_count": 54,
      "outputs": []
    },
    {
      "cell_type": "code",
      "source": [
        "model.fit(x=X_train, y=y_train,\n",
        "          epochs=100,\n",
        "          validation_data=(X_dev, y_dev),\n",
        "          batch_size=16,\n",
        "          verbose=1)"
      ],
      "metadata": {
        "colab": {
          "base_uri": "https://localhost:8080/"
        },
        "id": "WQi_Irj6wDVy",
        "outputId": "0c6549cc-5cbd-4330-d326-e08cb54588cf"
      },
      "execution_count": 55,
      "outputs": [
        {
          "output_type": "stream",
          "name": "stdout",
          "text": [
            "Epoch 1/100\n",
            "1222/1222 [==============================] - 2s 2ms/step - loss: 0.9203 - accuracy: 0.5861 - val_loss: 0.9072 - val_accuracy: 0.6025\n",
            "Epoch 2/100\n",
            "1222/1222 [==============================] - 2s 1ms/step - loss: 0.8814 - accuracy: 0.6070 - val_loss: 0.9149 - val_accuracy: 0.5952\n",
            "Epoch 3/100\n",
            "1222/1222 [==============================] - 2s 2ms/step - loss: 0.8659 - accuracy: 0.6141 - val_loss: 0.9059 - val_accuracy: 0.5972\n",
            "Epoch 4/100\n",
            "1222/1222 [==============================] - 2s 2ms/step - loss: 0.8532 - accuracy: 0.6222 - val_loss: 0.8948 - val_accuracy: 0.6029\n",
            "Epoch 5/100\n",
            "1222/1222 [==============================] - 2s 2ms/step - loss: 0.8428 - accuracy: 0.6261 - val_loss: 0.8973 - val_accuracy: 0.5989\n",
            "Epoch 6/100\n",
            "1222/1222 [==============================] - 2s 2ms/step - loss: 0.8317 - accuracy: 0.6318 - val_loss: 0.9082 - val_accuracy: 0.6021\n",
            "Epoch 7/100\n",
            "1222/1222 [==============================] - 2s 2ms/step - loss: 0.8226 - accuracy: 0.6368 - val_loss: 0.9162 - val_accuracy: 0.5976\n",
            "Epoch 8/100\n",
            "1222/1222 [==============================] - 2s 2ms/step - loss: 0.8140 - accuracy: 0.6435 - val_loss: 0.9119 - val_accuracy: 0.5890\n",
            "Epoch 9/100\n",
            "1222/1222 [==============================] - 2s 2ms/step - loss: 0.8063 - accuracy: 0.6478 - val_loss: 0.9114 - val_accuracy: 0.5866\n",
            "Epoch 10/100\n",
            "1222/1222 [==============================] - 2s 1ms/step - loss: 0.7976 - accuracy: 0.6508 - val_loss: 0.9266 - val_accuracy: 0.5853\n",
            "Epoch 11/100\n",
            "1222/1222 [==============================] - 5s 4ms/step - loss: 0.7883 - accuracy: 0.6544 - val_loss: 0.9394 - val_accuracy: 0.5772\n",
            "Epoch 12/100\n",
            "1222/1222 [==============================] - 2s 2ms/step - loss: 0.7831 - accuracy: 0.6584 - val_loss: 0.9472 - val_accuracy: 0.5698\n",
            "Epoch 13/100\n",
            "1222/1222 [==============================] - 2s 2ms/step - loss: 0.7739 - accuracy: 0.6654 - val_loss: 0.9470 - val_accuracy: 0.5825\n",
            "Epoch 14/100\n",
            "1222/1222 [==============================] - 2s 2ms/step - loss: 0.7668 - accuracy: 0.6667 - val_loss: 0.9435 - val_accuracy: 0.5739\n",
            "Epoch 15/100\n",
            "1222/1222 [==============================] - 2s 2ms/step - loss: 0.7596 - accuracy: 0.6705 - val_loss: 0.9652 - val_accuracy: 0.5661\n",
            "Epoch 16/100\n",
            "1222/1222 [==============================] - 2s 2ms/step - loss: 0.7534 - accuracy: 0.6724 - val_loss: 0.9610 - val_accuracy: 0.5763\n",
            "Epoch 17/100\n",
            "1222/1222 [==============================] - 2s 2ms/step - loss: 0.7463 - accuracy: 0.6770 - val_loss: 0.9759 - val_accuracy: 0.5759\n",
            "Epoch 18/100\n",
            "1222/1222 [==============================] - 2s 2ms/step - loss: 0.7412 - accuracy: 0.6782 - val_loss: 0.9718 - val_accuracy: 0.5735\n",
            "Epoch 19/100\n",
            "1222/1222 [==============================] - 2s 2ms/step - loss: 0.7348 - accuracy: 0.6855 - val_loss: 0.9895 - val_accuracy: 0.5600\n",
            "Epoch 20/100\n",
            "1222/1222 [==============================] - 2s 2ms/step - loss: 0.7276 - accuracy: 0.6869 - val_loss: 1.0054 - val_accuracy: 0.5604\n",
            "Epoch 21/100\n",
            "1222/1222 [==============================] - 2s 2ms/step - loss: 0.7219 - accuracy: 0.6900 - val_loss: 0.9872 - val_accuracy: 0.5628\n",
            "Epoch 22/100\n",
            "1222/1222 [==============================] - 2s 2ms/step - loss: 0.7166 - accuracy: 0.6911 - val_loss: 1.0022 - val_accuracy: 0.5546\n",
            "Epoch 23/100\n",
            "1222/1222 [==============================] - 2s 2ms/step - loss: 0.7120 - accuracy: 0.6954 - val_loss: 1.0124 - val_accuracy: 0.5518\n",
            "Epoch 24/100\n",
            "1222/1222 [==============================] - 2s 2ms/step - loss: 0.7045 - accuracy: 0.6988 - val_loss: 1.0135 - val_accuracy: 0.5653\n",
            "Epoch 25/100\n",
            "1222/1222 [==============================] - 2s 2ms/step - loss: 0.7026 - accuracy: 0.6998 - val_loss: 1.0341 - val_accuracy: 0.5538\n",
            "Epoch 26/100\n",
            "1222/1222 [==============================] - 2s 2ms/step - loss: 0.6963 - accuracy: 0.7028 - val_loss: 1.0309 - val_accuracy: 0.5538\n",
            "Epoch 27/100\n",
            "1222/1222 [==============================] - 2s 2ms/step - loss: 0.6905 - accuracy: 0.7048 - val_loss: 1.0378 - val_accuracy: 0.5522\n",
            "Epoch 28/100\n",
            "1222/1222 [==============================] - 2s 2ms/step - loss: 0.6869 - accuracy: 0.7093 - val_loss: 1.0552 - val_accuracy: 0.5604\n",
            "Epoch 29/100\n",
            "1222/1222 [==============================] - 2s 2ms/step - loss: 0.6848 - accuracy: 0.7076 - val_loss: 1.0419 - val_accuracy: 0.5489\n",
            "Epoch 30/100\n",
            "1222/1222 [==============================] - 2s 2ms/step - loss: 0.6788 - accuracy: 0.7126 - val_loss: 1.0696 - val_accuracy: 0.5591\n",
            "Epoch 31/100\n",
            "1222/1222 [==============================] - 2s 2ms/step - loss: 0.6726 - accuracy: 0.7144 - val_loss: 1.0709 - val_accuracy: 0.5460\n",
            "Epoch 32/100\n",
            "1222/1222 [==============================] - 2s 1ms/step - loss: 0.6679 - accuracy: 0.7166 - val_loss: 1.0691 - val_accuracy: 0.5571\n",
            "Epoch 33/100\n",
            "1222/1222 [==============================] - 2s 2ms/step - loss: 0.6641 - accuracy: 0.7200 - val_loss: 1.0890 - val_accuracy: 0.5411\n",
            "Epoch 34/100\n",
            "1222/1222 [==============================] - 2s 2ms/step - loss: 0.6600 - accuracy: 0.7200 - val_loss: 1.0786 - val_accuracy: 0.5506\n",
            "Epoch 35/100\n",
            "1222/1222 [==============================] - 2s 2ms/step - loss: 0.6563 - accuracy: 0.7231 - val_loss: 1.1058 - val_accuracy: 0.5530\n",
            "Epoch 36/100\n",
            "1222/1222 [==============================] - 2s 2ms/step - loss: 0.6531 - accuracy: 0.7230 - val_loss: 1.0960 - val_accuracy: 0.5559\n",
            "Epoch 37/100\n",
            "1222/1222 [==============================] - 2s 2ms/step - loss: 0.6489 - accuracy: 0.7245 - val_loss: 1.1198 - val_accuracy: 0.5440\n",
            "Epoch 38/100\n",
            "1222/1222 [==============================] - 2s 2ms/step - loss: 0.6443 - accuracy: 0.7290 - val_loss: 1.1166 - val_accuracy: 0.5415\n",
            "Epoch 39/100\n",
            "1222/1222 [==============================] - 2s 2ms/step - loss: 0.6413 - accuracy: 0.7284 - val_loss: 1.1493 - val_accuracy: 0.5526\n",
            "Epoch 40/100\n",
            "1222/1222 [==============================] - 2s 2ms/step - loss: 0.6346 - accuracy: 0.7336 - val_loss: 1.1569 - val_accuracy: 0.5452\n",
            "Epoch 41/100\n",
            "1222/1222 [==============================] - 2s 2ms/step - loss: 0.6333 - accuracy: 0.7338 - val_loss: 1.1442 - val_accuracy: 0.5387\n",
            "Epoch 42/100\n",
            "1222/1222 [==============================] - 2s 2ms/step - loss: 0.6303 - accuracy: 0.7361 - val_loss: 1.1772 - val_accuracy: 0.5473\n",
            "Epoch 43/100\n",
            "1222/1222 [==============================] - 2s 2ms/step - loss: 0.6259 - accuracy: 0.7415 - val_loss: 1.1890 - val_accuracy: 0.5370\n",
            "Epoch 44/100\n",
            "1222/1222 [==============================] - 2s 2ms/step - loss: 0.6216 - accuracy: 0.7399 - val_loss: 1.1503 - val_accuracy: 0.5362\n",
            "Epoch 45/100\n",
            "1222/1222 [==============================] - 2s 1ms/step - loss: 0.6192 - accuracy: 0.7410 - val_loss: 1.1898 - val_accuracy: 0.5428\n",
            "Epoch 46/100\n",
            "1222/1222 [==============================] - 2s 2ms/step - loss: 0.6150 - accuracy: 0.7428 - val_loss: 1.2131 - val_accuracy: 0.5354\n",
            "Epoch 47/100\n",
            "1222/1222 [==============================] - 2s 1ms/step - loss: 0.6102 - accuracy: 0.7453 - val_loss: 1.2363 - val_accuracy: 0.5383\n",
            "Epoch 48/100\n",
            "1222/1222 [==============================] - 2s 2ms/step - loss: 0.6072 - accuracy: 0.7455 - val_loss: 1.2231 - val_accuracy: 0.5313\n",
            "Epoch 49/100\n",
            "1222/1222 [==============================] - 2s 2ms/step - loss: 0.6050 - accuracy: 0.7468 - val_loss: 1.2415 - val_accuracy: 0.5383\n",
            "Epoch 50/100\n",
            "1222/1222 [==============================] - 2s 2ms/step - loss: 0.6011 - accuracy: 0.7489 - val_loss: 1.2404 - val_accuracy: 0.5317\n",
            "Epoch 51/100\n",
            "1222/1222 [==============================] - 2s 2ms/step - loss: 0.5989 - accuracy: 0.7492 - val_loss: 1.2383 - val_accuracy: 0.5436\n",
            "Epoch 52/100\n",
            "1222/1222 [==============================] - 2s 2ms/step - loss: 0.5936 - accuracy: 0.7505 - val_loss: 1.2831 - val_accuracy: 0.5284\n",
            "Epoch 53/100\n",
            "1222/1222 [==============================] - 2s 2ms/step - loss: 0.5911 - accuracy: 0.7537 - val_loss: 1.2856 - val_accuracy: 0.5248\n",
            "Epoch 54/100\n",
            "1222/1222 [==============================] - 2s 1ms/step - loss: 0.5885 - accuracy: 0.7562 - val_loss: 1.2840 - val_accuracy: 0.5330\n",
            "Epoch 55/100\n",
            "1222/1222 [==============================] - 2s 1ms/step - loss: 0.5852 - accuracy: 0.7582 - val_loss: 1.2934 - val_accuracy: 0.5477\n",
            "Epoch 56/100\n",
            "1222/1222 [==============================] - 2s 2ms/step - loss: 0.5837 - accuracy: 0.7582 - val_loss: 1.2896 - val_accuracy: 0.5330\n",
            "Epoch 57/100\n",
            "1222/1222 [==============================] - 2s 2ms/step - loss: 0.5795 - accuracy: 0.7582 - val_loss: 1.3015 - val_accuracy: 0.5436\n",
            "Epoch 58/100\n",
            "1222/1222 [==============================] - 2s 2ms/step - loss: 0.5769 - accuracy: 0.7586 - val_loss: 1.3039 - val_accuracy: 0.5395\n",
            "Epoch 59/100\n",
            "1222/1222 [==============================] - 2s 2ms/step - loss: 0.5764 - accuracy: 0.7612 - val_loss: 1.3189 - val_accuracy: 0.5366\n",
            "Epoch 60/100\n",
            "1222/1222 [==============================] - 2s 2ms/step - loss: 0.5703 - accuracy: 0.7640 - val_loss: 1.3421 - val_accuracy: 0.5317\n",
            "Epoch 61/100\n",
            "1222/1222 [==============================] - 2s 2ms/step - loss: 0.5675 - accuracy: 0.7636 - val_loss: 1.3782 - val_accuracy: 0.5399\n",
            "Epoch 62/100\n",
            "1222/1222 [==============================] - 2s 2ms/step - loss: 0.5661 - accuracy: 0.7652 - val_loss: 1.3591 - val_accuracy: 0.5424\n",
            "Epoch 63/100\n",
            "1222/1222 [==============================] - 2s 2ms/step - loss: 0.5617 - accuracy: 0.7681 - val_loss: 1.3554 - val_accuracy: 0.5440\n",
            "Epoch 64/100\n",
            "1222/1222 [==============================] - 2s 2ms/step - loss: 0.5595 - accuracy: 0.7693 - val_loss: 1.3901 - val_accuracy: 0.5407\n",
            "Epoch 65/100\n",
            "1222/1222 [==============================] - 2s 2ms/step - loss: 0.5587 - accuracy: 0.7672 - val_loss: 1.3939 - val_accuracy: 0.5313\n",
            "Epoch 66/100\n",
            "1222/1222 [==============================] - 2s 2ms/step - loss: 0.5542 - accuracy: 0.7701 - val_loss: 1.3929 - val_accuracy: 0.5305\n",
            "Epoch 67/100\n",
            "1222/1222 [==============================] - 2s 2ms/step - loss: 0.5526 - accuracy: 0.7731 - val_loss: 1.3941 - val_accuracy: 0.5317\n",
            "Epoch 68/100\n",
            "1222/1222 [==============================] - 2s 2ms/step - loss: 0.5508 - accuracy: 0.7699 - val_loss: 1.4385 - val_accuracy: 0.5334\n",
            "Epoch 69/100\n",
            "1222/1222 [==============================] - 2s 2ms/step - loss: 0.5484 - accuracy: 0.7726 - val_loss: 1.4475 - val_accuracy: 0.5375\n",
            "Epoch 70/100\n",
            "1222/1222 [==============================] - 2s 2ms/step - loss: 0.5435 - accuracy: 0.7770 - val_loss: 1.4541 - val_accuracy: 0.5366\n",
            "Epoch 71/100\n",
            "1222/1222 [==============================] - 2s 2ms/step - loss: 0.5432 - accuracy: 0.7753 - val_loss: 1.4514 - val_accuracy: 0.5338\n",
            "Epoch 72/100\n",
            "1222/1222 [==============================] - 2s 2ms/step - loss: 0.5400 - accuracy: 0.7770 - val_loss: 1.4401 - val_accuracy: 0.5415\n",
            "Epoch 73/100\n",
            "1222/1222 [==============================] - 2s 2ms/step - loss: 0.5387 - accuracy: 0.7794 - val_loss: 1.4584 - val_accuracy: 0.5354\n",
            "Epoch 74/100\n",
            "1222/1222 [==============================] - 2s 2ms/step - loss: 0.5324 - accuracy: 0.7781 - val_loss: 1.5142 - val_accuracy: 0.5428\n",
            "Epoch 75/100\n",
            "1222/1222 [==============================] - 2s 2ms/step - loss: 0.5342 - accuracy: 0.7788 - val_loss: 1.4921 - val_accuracy: 0.5276\n",
            "Epoch 76/100\n",
            "1222/1222 [==============================] - 2s 2ms/step - loss: 0.5317 - accuracy: 0.7797 - val_loss: 1.5075 - val_accuracy: 0.5334\n",
            "Epoch 77/100\n",
            "1222/1222 [==============================] - 2s 2ms/step - loss: 0.5275 - accuracy: 0.7813 - val_loss: 1.5396 - val_accuracy: 0.5219\n",
            "Epoch 78/100\n",
            "1222/1222 [==============================] - 2s 2ms/step - loss: 0.5283 - accuracy: 0.7828 - val_loss: 1.5347 - val_accuracy: 0.5366\n",
            "Epoch 79/100\n",
            "1222/1222 [==============================] - 2s 2ms/step - loss: 0.5263 - accuracy: 0.7838 - val_loss: 1.5433 - val_accuracy: 0.5366\n",
            "Epoch 80/100\n",
            "1222/1222 [==============================] - 2s 2ms/step - loss: 0.5225 - accuracy: 0.7846 - val_loss: 1.5185 - val_accuracy: 0.5370\n",
            "Epoch 81/100\n",
            "1222/1222 [==============================] - 2s 2ms/step - loss: 0.5221 - accuracy: 0.7865 - val_loss: 1.5214 - val_accuracy: 0.5334\n",
            "Epoch 82/100\n",
            "1222/1222 [==============================] - 2s 2ms/step - loss: 0.5197 - accuracy: 0.7865 - val_loss: 1.5313 - val_accuracy: 0.5284\n",
            "Epoch 83/100\n",
            "1222/1222 [==============================] - 2s 2ms/step - loss: 0.5189 - accuracy: 0.7883 - val_loss: 1.5648 - val_accuracy: 0.5375\n",
            "Epoch 84/100\n",
            "1222/1222 [==============================] - 2s 2ms/step - loss: 0.5176 - accuracy: 0.7860 - val_loss: 1.5674 - val_accuracy: 0.5284\n",
            "Epoch 85/100\n",
            "1222/1222 [==============================] - 2s 2ms/step - loss: 0.5106 - accuracy: 0.7917 - val_loss: 1.6076 - val_accuracy: 0.5313\n",
            "Epoch 86/100\n",
            "1222/1222 [==============================] - 2s 2ms/step - loss: 0.5125 - accuracy: 0.7907 - val_loss: 1.6116 - val_accuracy: 0.5366\n",
            "Epoch 87/100\n",
            "1222/1222 [==============================] - 2s 2ms/step - loss: 0.5095 - accuracy: 0.7902 - val_loss: 1.5643 - val_accuracy: 0.5321\n",
            "Epoch 88/100\n",
            "1222/1222 [==============================] - 2s 2ms/step - loss: 0.5060 - accuracy: 0.7928 - val_loss: 1.6532 - val_accuracy: 0.5199\n",
            "Epoch 89/100\n",
            "1222/1222 [==============================] - 2s 2ms/step - loss: 0.5051 - accuracy: 0.7930 - val_loss: 1.6782 - val_accuracy: 0.5309\n",
            "Epoch 90/100\n",
            "1222/1222 [==============================] - 2s 2ms/step - loss: 0.5023 - accuracy: 0.7956 - val_loss: 1.6647 - val_accuracy: 0.5370\n",
            "Epoch 91/100\n",
            "1222/1222 [==============================] - 2s 2ms/step - loss: 0.5016 - accuracy: 0.7946 - val_loss: 1.6543 - val_accuracy: 0.5289\n",
            "Epoch 92/100\n",
            "1222/1222 [==============================] - 2s 2ms/step - loss: 0.4999 - accuracy: 0.7948 - val_loss: 1.6837 - val_accuracy: 0.5289\n",
            "Epoch 93/100\n",
            "1222/1222 [==============================] - 2s 2ms/step - loss: 0.4987 - accuracy: 0.7974 - val_loss: 1.7218 - val_accuracy: 0.5313\n",
            "Epoch 94/100\n",
            "1222/1222 [==============================] - 2s 2ms/step - loss: 0.4951 - accuracy: 0.7980 - val_loss: 1.6602 - val_accuracy: 0.5284\n",
            "Epoch 95/100\n",
            "1222/1222 [==============================] - 2s 2ms/step - loss: 0.4930 - accuracy: 0.7977 - val_loss: 1.6641 - val_accuracy: 0.5199\n",
            "Epoch 96/100\n",
            "1222/1222 [==============================] - 2s 2ms/step - loss: 0.4929 - accuracy: 0.7978 - val_loss: 1.7064 - val_accuracy: 0.5362\n",
            "Epoch 97/100\n",
            "1222/1222 [==============================] - 2s 2ms/step - loss: 0.4935 - accuracy: 0.7981 - val_loss: 1.7320 - val_accuracy: 0.5276\n",
            "Epoch 98/100\n",
            "1222/1222 [==============================] - 2s 2ms/step - loss: 0.4931 - accuracy: 0.7960 - val_loss: 1.7186 - val_accuracy: 0.5342\n",
            "Epoch 99/100\n",
            "1222/1222 [==============================] - 2s 2ms/step - loss: 0.4865 - accuracy: 0.8021 - val_loss: 1.7273 - val_accuracy: 0.5342\n",
            "Epoch 100/100\n",
            "1222/1222 [==============================] - 2s 2ms/step - loss: 0.4881 - accuracy: 0.7980 - val_loss: 1.7078 - val_accuracy: 0.5239\n"
          ]
        },
        {
          "output_type": "execute_result",
          "data": {
            "text/plain": [
              "<keras.callbacks.History at 0x7fba8de4a750>"
            ]
          },
          "metadata": {},
          "execution_count": 55
        }
      ]
    },
    {
      "cell_type": "code",
      "source": [
        "import numpy as np\n",
        "from sklearn.metrics import classification_report\n",
        "\n",
        "predictions = np.argmax(model.predict(X_test), axis=-1)\n",
        "y_test = le.inverse_transform([np.argmax(y) for y in y_test])  # reconstruct original string labels\n",
        "predictions = le.inverse_transform(predictions)\n",
        "report = classification_report(y_test, predictions)\n",
        "report"
      ],
      "metadata": {
        "colab": {
          "base_uri": "https://localhost:8080/",
          "height": 194
        },
        "id": "gSszu44ewYPG",
        "outputId": "70802b9a-4f21-4ccb-9028-1caabd49aa54"
      },
      "execution_count": 56,
      "outputs": [
        {
          "output_type": "stream",
          "name": "stderr",
          "text": [
            "/usr/local/lib/python3.7/dist-packages/sklearn/metrics/_classification.py:1248: UndefinedMetricWarning: Recall and F-score are ill-defined and being set to 0.0 in labels with no true samples. Use `zero_division` parameter to control this behavior.\n",
            "  _warn_prf(average, modifier, msg_start, len(result))\n",
            "/usr/local/lib/python3.7/dist-packages/sklearn/metrics/_classification.py:1248: UndefinedMetricWarning: Recall and F-score are ill-defined and being set to 0.0 in labels with no true samples. Use `zero_division` parameter to control this behavior.\n",
            "  _warn_prf(average, modifier, msg_start, len(result))\n",
            "/usr/local/lib/python3.7/dist-packages/sklearn/metrics/_classification.py:1248: UndefinedMetricWarning: Recall and F-score are ill-defined and being set to 0.0 in labels with no true samples. Use `zero_division` parameter to control this behavior.\n",
            "  _warn_prf(average, modifier, msg_start, len(result))\n"
          ]
        },
        {
          "output_type": "execute_result",
          "data": {
            "application/vnd.google.colaboratory.intrinsic+json": {
              "type": "string"
            },
            "text/plain": [
              "'              precision    recall  f1-score   support\\n\\n           1       1.00      0.32      0.49      2443\\n           2       0.00      0.00      0.00         0\\n           3       0.00      0.00      0.00         0\\n\\n    accuracy                           0.32      2443\\n   macro avg       0.33      0.11      0.16      2443\\nweighted avg       1.00      0.32      0.49      2443\\n'"
            ]
          },
          "metadata": {},
          "execution_count": 56
        }
      ]
    },
    {
      "cell_type": "markdown",
      "source": [
        "# First version edited"
      ],
      "metadata": {
        "id": "INfIDKtknDbx"
      }
    },
    {
      "cell_type": "code",
      "source": [
        "claimskg = pd.read_csv('claimskg_edited_1.csv')"
      ],
      "metadata": {
        "id": "BhUVhXwnnB4e"
      },
      "execution_count": 168,
      "outputs": []
    },
    {
      "cell_type": "code",
      "source": [
        "claimskg.info()"
      ],
      "metadata": {
        "colab": {
          "base_uri": "https://localhost:8080/"
        },
        "id": "b1ACeWhsrfCe",
        "outputId": "2b4714d8-96c2-49bd-f7d6-1e51e52d2d1f"
      },
      "execution_count": 169,
      "outputs": [
        {
          "output_type": "stream",
          "name": "stdout",
          "text": [
            "<class 'pandas.core.frame.DataFrame'>\n",
            "RangeIndex: 24430 entries, 0 to 24429\n",
            "Data columns (total 15 columns):\n",
            " #   Column                  Non-Null Count  Dtype \n",
            "---  ------                  --------------  ----- \n",
            " 0   id                      24430 non-null  object\n",
            " 1   text                    24430 non-null  object\n",
            " 2   truthRating             24430 non-null  int64 \n",
            " 3   author                  24430 non-null  object\n",
            " 4   headline                24430 non-null  object\n",
            " 5   named_entities_claim    24430 non-null  object\n",
            " 6   named_entities_article  24430 non-null  object\n",
            " 7   keywords                24430 non-null  object\n",
            " 8   link                    24430 non-null  object\n",
            " 9   politifact              24430 non-null  int64 \n",
            " 10  snopes                  24430 non-null  int64 \n",
            " 11  africacheck             24430 non-null  int64 \n",
            " 12  truthorfiction          24430 non-null  int64 \n",
            " 13  factscan                24430 non-null  int64 \n",
            " 14  checkyourfact           24430 non-null  int64 \n",
            "dtypes: int64(7), object(8)\n",
            "memory usage: 2.8+ MB\n"
          ]
        }
      ]
    },
    {
      "cell_type": "code",
      "source": [
        "#remove punctuation\n",
        "import re \n",
        "import string\n",
        "\n",
        "#make text lowercase\n",
        "claimskg['text'] = claimskg['text'].apply(lambda x: x.lower())\n",
        "##Because we replaced the special characters with a plus, we might end up with double whitespaces in some cases\n",
        "claimskg['text'] = claimskg['text'].apply(lambda x: re.sub('[%s]' % re.escape(string.punctuation), '' , x))\n",
        "#remove words and digits\n",
        "claimskg['text'] = claimskg['text'].apply(lambda x: re.sub('W*dw*','',x))"
      ],
      "metadata": {
        "id": "rOYFhsEhYL4O"
      },
      "execution_count": 170,
      "outputs": []
    },
    {
      "cell_type": "code",
      "source": [
        "#pos tagging and adding POS column to dataset\n",
        "\n",
        "texts = claimskg['text']\n",
        "claimskg['POS'] = pos_tag_sents(map(word_tokenize, texts))\n"
      ],
      "metadata": {
        "id": "7FGL000t9fZo"
      },
      "execution_count": 171,
      "outputs": []
    },
    {
      "cell_type": "code",
      "source": [
        "#Create a column contains bag of words of the text\n",
        "import collections\n",
        "claimskg['BOW'] = claimskg.text.apply(lambda x: collections.Counter([y for y in x.split()]))"
      ],
      "metadata": {
        "id": "LQK4z39RU51B"
      },
      "execution_count": 172,
      "outputs": []
    },
    {
      "cell_type": "code",
      "source": [
        "claimskg.info()"
      ],
      "metadata": {
        "colab": {
          "base_uri": "https://localhost:8080/"
        },
        "id": "a7M6ezknrUCg",
        "outputId": "257f5338-d849-4aab-c85a-79c972edee8c"
      },
      "execution_count": 173,
      "outputs": [
        {
          "output_type": "stream",
          "name": "stdout",
          "text": [
            "<class 'pandas.core.frame.DataFrame'>\n",
            "RangeIndex: 24430 entries, 0 to 24429\n",
            "Data columns (total 17 columns):\n",
            " #   Column                  Non-Null Count  Dtype \n",
            "---  ------                  --------------  ----- \n",
            " 0   id                      24430 non-null  object\n",
            " 1   text                    24430 non-null  object\n",
            " 2   truthRating             24430 non-null  int64 \n",
            " 3   author                  24430 non-null  object\n",
            " 4   headline                24430 non-null  object\n",
            " 5   named_entities_claim    24430 non-null  object\n",
            " 6   named_entities_article  24430 non-null  object\n",
            " 7   keywords                24430 non-null  object\n",
            " 8   link                    24430 non-null  object\n",
            " 9   politifact              24430 non-null  int64 \n",
            " 10  snopes                  24430 non-null  int64 \n",
            " 11  africacheck             24430 non-null  int64 \n",
            " 12  truthorfiction          24430 non-null  int64 \n",
            " 13  factscan                24430 non-null  int64 \n",
            " 14  checkyourfact           24430 non-null  int64 \n",
            " 15  POS                     24430 non-null  object\n",
            " 16  BOW                     24430 non-null  object\n",
            "dtypes: int64(7), object(10)\n",
            "memory usage: 3.2+ MB\n"
          ]
        }
      ]
    },
    {
      "cell_type": "code",
      "source": [
        "claimskg.to_csv(\"claimskg_edited_2.csv\", index=False)"
      ],
      "metadata": {
        "id": "bCdrmqcvqorm"
      },
      "execution_count": 174,
      "outputs": []
    },
    {
      "cell_type": "markdown",
      "metadata": {
        "id": "weGZap0loVD3"
      },
      "source": [
        "## Version 2"
      ]
    },
    {
      "cell_type": "code",
      "execution_count": 175,
      "metadata": {
        "id": "17JCM138xuix"
      },
      "outputs": [],
      "source": [
        "claimskg = pd.read_csv('claimskg_edited_2.csv')"
      ]
    },
    {
      "cell_type": "code",
      "source": [
        "claimskg.info()"
      ],
      "metadata": {
        "colab": {
          "base_uri": "https://localhost:8080/"
        },
        "id": "q1wO53z0rChv",
        "outputId": "6288c4a6-38bc-4c60-add9-ab51477a9043"
      },
      "execution_count": 176,
      "outputs": [
        {
          "output_type": "stream",
          "name": "stdout",
          "text": [
            "<class 'pandas.core.frame.DataFrame'>\n",
            "RangeIndex: 24430 entries, 0 to 24429\n",
            "Data columns (total 17 columns):\n",
            " #   Column                  Non-Null Count  Dtype \n",
            "---  ------                  --------------  ----- \n",
            " 0   id                      24430 non-null  object\n",
            " 1   text                    24429 non-null  object\n",
            " 2   truthRating             24430 non-null  int64 \n",
            " 3   author                  24430 non-null  object\n",
            " 4   headline                24430 non-null  object\n",
            " 5   named_entities_claim    24430 non-null  object\n",
            " 6   named_entities_article  24430 non-null  object\n",
            " 7   keywords                24430 non-null  object\n",
            " 8   link                    24430 non-null  object\n",
            " 9   politifact              24430 non-null  int64 \n",
            " 10  snopes                  24430 non-null  int64 \n",
            " 11  africacheck             24430 non-null  int64 \n",
            " 12  truthorfiction          24430 non-null  int64 \n",
            " 13  factscan                24430 non-null  int64 \n",
            " 14  checkyourfact           24430 non-null  int64 \n",
            " 15  POS                     24430 non-null  object\n",
            " 16  BOW                     24430 non-null  object\n",
            "dtypes: int64(7), object(10)\n",
            "memory usage: 3.2+ MB\n"
          ]
        }
      ]
    },
    {
      "cell_type": "code",
      "source": [
        "claimskg = claimskg.dropna()"
      ],
      "metadata": {
        "id": "rQa2_MXjr1oY"
      },
      "execution_count": 177,
      "outputs": []
    },
    {
      "cell_type": "code",
      "source": [
        "claimskg.info()"
      ],
      "metadata": {
        "colab": {
          "base_uri": "https://localhost:8080/"
        },
        "id": "EBwzzeUwr6AC",
        "outputId": "461e70c2-12dd-402d-e092-a8107fe0d4ea"
      },
      "execution_count": 178,
      "outputs": [
        {
          "output_type": "stream",
          "name": "stdout",
          "text": [
            "<class 'pandas.core.frame.DataFrame'>\n",
            "Int64Index: 24429 entries, 0 to 24429\n",
            "Data columns (total 17 columns):\n",
            " #   Column                  Non-Null Count  Dtype \n",
            "---  ------                  --------------  ----- \n",
            " 0   id                      24429 non-null  object\n",
            " 1   text                    24429 non-null  object\n",
            " 2   truthRating             24429 non-null  int64 \n",
            " 3   author                  24429 non-null  object\n",
            " 4   headline                24429 non-null  object\n",
            " 5   named_entities_claim    24429 non-null  object\n",
            " 6   named_entities_article  24429 non-null  object\n",
            " 7   keywords                24429 non-null  object\n",
            " 8   link                    24429 non-null  object\n",
            " 9   politifact              24429 non-null  int64 \n",
            " 10  snopes                  24429 non-null  int64 \n",
            " 11  africacheck             24429 non-null  int64 \n",
            " 12  truthorfiction          24429 non-null  int64 \n",
            " 13  factscan                24429 non-null  int64 \n",
            " 14  checkyourfact           24429 non-null  int64 \n",
            " 15  POS                     24429 non-null  object\n",
            " 16  BOW                     24429 non-null  object\n",
            "dtypes: int64(7), object(10)\n",
            "memory usage: 3.4+ MB\n"
          ]
        }
      ]
    },
    {
      "cell_type": "code",
      "source": [
        "claimskg.to_csv(\"claimskg_edited_3.csv\", index=False)\n"
      ],
      "metadata": {
        "id": "sPj1sBNosRNh"
      },
      "execution_count": 179,
      "outputs": []
    },
    {
      "cell_type": "code",
      "source": [
        "claimskg = pd.read_csv('claimskg_edited_3.csv')"
      ],
      "metadata": {
        "id": "1y4OsGVzsemE"
      },
      "execution_count": 180,
      "outputs": []
    },
    {
      "cell_type": "code",
      "source": [
        "claimskg.info()"
      ],
      "metadata": {
        "colab": {
          "base_uri": "https://localhost:8080/"
        },
        "id": "NcYYobNEskRP",
        "outputId": "521e2e7d-52aa-45aa-8846-f20cebe025aa"
      },
      "execution_count": 181,
      "outputs": [
        {
          "output_type": "stream",
          "name": "stdout",
          "text": [
            "<class 'pandas.core.frame.DataFrame'>\n",
            "RangeIndex: 24429 entries, 0 to 24428\n",
            "Data columns (total 17 columns):\n",
            " #   Column                  Non-Null Count  Dtype \n",
            "---  ------                  --------------  ----- \n",
            " 0   id                      24429 non-null  object\n",
            " 1   text                    24429 non-null  object\n",
            " 2   truthRating             24429 non-null  int64 \n",
            " 3   author                  24429 non-null  object\n",
            " 4   headline                24429 non-null  object\n",
            " 5   named_entities_claim    24429 non-null  object\n",
            " 6   named_entities_article  24429 non-null  object\n",
            " 7   keywords                24429 non-null  object\n",
            " 8   link                    24429 non-null  object\n",
            " 9   politifact              24429 non-null  int64 \n",
            " 10  snopes                  24429 non-null  int64 \n",
            " 11  africacheck             24429 non-null  int64 \n",
            " 12  truthorfiction          24429 non-null  int64 \n",
            " 13  factscan                24429 non-null  int64 \n",
            " 14  checkyourfact           24429 non-null  int64 \n",
            " 15  POS                     24429 non-null  object\n",
            " 16  BOW                     24429 non-null  object\n",
            "dtypes: int64(7), object(10)\n",
            "memory usage: 3.2+ MB\n"
          ]
        }
      ]
    },
    {
      "cell_type": "markdown",
      "metadata": {
        "id": "7Bk1MHvqGx5w"
      },
      "source": [
        "# Data Analysis"
      ]
    },
    {
      "cell_type": "code",
      "execution_count": null,
      "metadata": {
        "colab": {
          "base_uri": "https://localhost:8080/",
          "height": 790
        },
        "id": "MgDvQGnKeAXB",
        "outputId": "48eba444-babd-4c5d-ad66-bf49167438d1"
      },
      "outputs": [
        {
          "name": "stdout",
          "output_type": "stream",
          "text": [
            "Transactions and offers receive/view/complete plots\n"
          ]
        },
        {
          "data": {
            "text/plain": [
              "array([[<AxesSubplot:title={'center':'time'}>,\n",
              "        <AxesSubplot:title={'center':'amount'}>,\n",
              "        <AxesSubplot:title={'center':'reward'}>],\n",
              "       [<AxesSubplot:title={'center':'offer_completed'}>,\n",
              "        <AxesSubplot:title={'center':'offer_received'}>,\n",
              "        <AxesSubplot:title={'center':'offer_viewed'}>],\n",
              "       [<AxesSubplot:title={'center':'transaction'}>, <AxesSubplot:>,\n",
              "        <AxesSubplot:>]], dtype=object)"
            ]
          },
          "execution_count": 4,
          "metadata": {},
          "output_type": "execute_result"
        },
        {
          "data": {
            "image/png": "[encoded data removed]",
            "text/plain": [
              "<Figure size 1080x720 with 9 Axes>"
            ]
          },
          "metadata": {
            "needs_background": "light"
          },
          "output_type": "display_data"
        }
      ],
      "source": [
        "print(\"Transactions and offers receive/view/complete plots\")\n",
        "transcript = pd.read_csv(\"transcript_edited.csv\")\n",
        "transcript[transcript[transcript.columns]!=0].hist(bins=40, figsize=(15, 10))"
      ]
    },
    {
      "cell_type": "code",
      "execution_count": null,
      "metadata": {
        "id": "ftJ5XJOroVEC",
        "outputId": "db747d95-5b42-4e9a-9d0f-f1ecd4358f55"
      },
      "outputs": [
        {
          "name": "stdout",
          "output_type": "stream",
          "text": [
            "You can see number of offers that people received, viewed or completed:\n"
          ]
        },
        {
          "data": {
            "text/plain": [
              "<matplotlib.legend.Legend at 0x7f34aa080828>"
            ]
          },
          "execution_count": 13,
          "metadata": {},
          "output_type": "execute_result"
        },
        {
          "data": {
            "image/png": "[encoded data removed]",
            "text/plain": [
              "<Figure size 576x432 with 1 Axes>"
            ]
          },
          "metadata": {
            "needs_background": "light"
          },
          "output_type": "display_data"
        }
      ],
      "source": [
        "print(\"You can see number of offers that people received, viewed or completed:\")\n",
        "plt.figure(figsize=(8,6))\n",
        "plt.hist(transcript.offer_received[transcript.offer_received!=0], bins=30, alpha=0.5, label=\"offer_received\")\n",
        "plt.hist(transcript.offer_viewed[transcript.offer_viewed!=0], bins=30, alpha=0.5, label=\"offer_viewed\")\n",
        "plt.hist(transcript.offer_completed[transcript.offer_completed!=0], bins=30, alpha=0.5, label=\"offer_completed\")\n",
        "plt.xlabel(\"Data\", size=14)\n",
        "plt.ylabel(\"Count\", size=14)\n",
        "plt.title(\"Multiple Histograms with Matplotlib\")\n",
        "plt.legend(loc='upper right')"
      ]
    },
    {
      "cell_type": "code",
      "execution_count": null,
      "metadata": {
        "colab": {
          "base_uri": "https://localhost:8080/",
          "height": 735
        },
        "id": "coXOk5GV6-cu",
        "outputId": "8c2ae3e1-c3d3-4964-82b0-b2ce6fccb802"
      },
      "outputs": [
        {
          "name": "stdout",
          "output_type": "stream",
          "text": [
            "Edited profile table's feature histograms:\n"
          ]
        },
        {
          "data": {
            "text/plain": [
              "array([[<AxesSubplot:title={'center':'age'}>,\n",
              "        <AxesSubplot:title={'center':'income'}>],\n",
              "       [<AxesSubplot:title={'center':'membership_duration'}>,\n",
              "        <AxesSubplot:title={'center':'Male'}>],\n",
              "       [<AxesSubplot:title={'center':'Female'}>,\n",
              "        <AxesSubplot:title={'center':'Other'}>]], dtype=object)"
            ]
          },
          "execution_count": 7,
          "metadata": {},
          "output_type": "execute_result"
        },
        {
          "data": {
            "image/png": "[encoded data removed]",
            "text/plain": [
              "<Figure size 1080x720 with 6 Axes>"
            ]
          },
          "metadata": {
            "needs_background": "light"
          },
          "output_type": "display_data"
        }
      ],
      "source": [
        "print(\"Edited profile table's feature histograms:\")\n",
        "profile = pd.read_csv(\"profile_edited.csv\")\n",
        "profile[profile[profile.columns]!=0].hist(bins=30, figsize=(15, 10))"
      ]
    },
    {
      "cell_type": "code",
      "execution_count": null,
      "metadata": {
        "id": "NtndPQsfnLkB",
        "outputId": "df930a2b-fc07-4563-b918-65acb8d6bec2"
      },
      "outputs": [
        {
          "name": "stdout",
          "output_type": "stream",
          "text": [
            "Histogram of all features\n"
          ]
        },
        {
          "data": {
            "text/plain": [
              "array([[<AxesSubplot:title={'center':'time'}>,\n",
              "        <AxesSubplot:title={'center':'cumulative_transaction'}>,\n",
              "        <AxesSubplot:title={'center':'reward'}>,\n",
              "        <AxesSubplot:title={'center':'offer_completed'}>,\n",
              "        <AxesSubplot:title={'center':'offer_received'}>],\n",
              "       [<AxesSubplot:title={'center':'offer_viewed'}>,\n",
              "        <AxesSubplot:title={'center':'age'}>,\n",
              "        <AxesSubplot:title={'center':'income'}>,\n",
              "        <AxesSubplot:title={'center':'membership_duration'}>,\n",
              "        <AxesSubplot:title={'center':'Male'}>],\n",
              "       [<AxesSubplot:title={'center':'Female'}>,\n",
              "        <AxesSubplot:title={'center':'Other'}>,\n",
              "        <AxesSubplot:title={'center':'offer_reward'}>,\n",
              "        <AxesSubplot:title={'center':'offer_difficulty'}>,\n",
              "        <AxesSubplot:title={'center':'offer_duration'}>],\n",
              "       [<AxesSubplot:title={'center':'web'}>,\n",
              "        <AxesSubplot:title={'center':'email'}>,\n",
              "        <AxesSubplot:title={'center':'mobile'}>,\n",
              "        <AxesSubplot:title={'center':'social'}>,\n",
              "        <AxesSubplot:title={'center':'bogo'}>],\n",
              "       [<AxesSubplot:title={'center':'discount'}>,\n",
              "        <AxesSubplot:title={'center':'informational'}>,\n",
              "        <AxesSubplot:title={'center':'total_transaction'}>,\n",
              "        <AxesSubplot:>, <AxesSubplot:>]], dtype=object)"
            ]
          },
          "execution_count": 91,
          "metadata": {},
          "output_type": "execute_result"
        },
        {
          "data": {
            "image/png": "[encoded data removed]",
            "text/plain": [
              "<Figure size 1080x720 with 25 Axes>"
            ]
          },
          "metadata": {
            "needs_background": "light"
          },
          "output_type": "display_data"
        }
      ],
      "source": [
        "#plot my source table (my_starbuck) feature histograms\n",
        "my_starbuck = pd.read_csv(\"my_starbuck.csv\")\n",
        "print(\"Histogram of all features\")\n",
        "my_starbuck[my_starbuck[my_starbuck.columns]!=0].hist(bins=30, figsize=(15, 10))"
      ]
    },
    {
      "cell_type": "code",
      "execution_count": null,
      "metadata": {
        "colab": {
          "base_uri": "https://localhost:8080/",
          "height": 356
        },
        "id": "DwbSVUJRSGBO",
        "outputId": "7f15b385-c603-4dd6-824f-8f3b8b10a374"
      },
      "outputs": [
        {
          "name": "stdout",
          "output_type": "stream",
          "text": [
            "Histogram of female customer's completed rewards \n"
          ]
        },
        {
          "data": {
            "text/plain": [
              "<AxesSubplot:>"
            ]
          },
          "execution_count": 9,
          "metadata": {},
          "output_type": "execute_result"
        },
        {
          "data": {
            "image/png": "[encoded data removed]",
            "text/plain": [
              "<Figure size 720x360 with 1 Axes>"
            ]
          },
          "metadata": {
            "needs_background": "light"
          },
          "output_type": "display_data"
        }
      ],
      "source": [
        "print(\"Histogram of female customer's completed rewards \")\n",
        "(my_starbuck[(my_starbuck['Female']==1) & (my_starbuck['reward']==1)]['offer_reward']).hist(bins=30, figsize=(10, 5))"
      ]
    },
    {
      "cell_type": "code",
      "execution_count": null,
      "metadata": {
        "colab": {
          "base_uri": "https://localhost:8080/",
          "height": 445
        },
        "id": "kiQZJPVzci5L",
        "outputId": "eb5688e4-b352-4a32-fb5b-66a208d12938"
      },
      "outputs": [
        {
          "name": "stdout",
          "output_type": "stream",
          "text": [
            "Histogram of female customer's completed offer types \n"
          ]
        },
        {
          "data": {
            "text/plain": [
              "array([[<AxesSubplot:title={'center':'bogo'}>,\n",
              "        <AxesSubplot:title={'center':'discount'}>],\n",
              "       [<AxesSubplot:title={'center':'informational'}>, <AxesSubplot:>]],\n",
              "      dtype=object)"
            ]
          },
          "execution_count": 12,
          "metadata": {},
          "output_type": "execute_result"
        },
        {
          "data": {
            "image/png": "[encoded data removed]",
            "text/plain": [
              "<Figure size 720x360 with 4 Axes>"
            ]
          },
          "metadata": {
            "needs_background": "light"
          },
          "output_type": "display_data"
        }
      ],
      "source": [
        "print(\"Histogram of female customer's completed offer types \")\n",
        "(my_starbuck[(my_starbuck['Female']==1) & (my_starbuck['reward']==1) ][['bogo',\t'discount',\t'informational']]).hist(bins=30, figsize=(10, 5))"
      ]
    },
    {
      "cell_type": "markdown",
      "metadata": {
        "id": "fM3XTeX3-feZ"
      },
      "source": [
        "# Training with Scikit_Learn random forest model "
      ]
    },
    {
      "cell_type": "code",
      "execution_count": null,
      "metadata": {
        "id": "2eFrbFqNoVEF",
        "outputId": "b0bc4a82-909c-4c3f-ee22-4c25154dea7d"
      },
      "outputs": [
        {
          "data": {
            "text/plain": [
              "167581"
            ]
          },
          "execution_count": 142,
          "metadata": {},
          "output_type": "execute_result"
        }
      ],
      "source": [
        "my_starbuck = pd.read_csv(\"my_starbuck.csv\")\n",
        "len(my_starbuck)"
      ]
    },
    {
      "cell_type": "code",
      "execution_count": null,
      "metadata": {
        "id": "KjMVWLZfoVEM",
        "outputId": "d0717432-d881-4ed2-c8bf-e74e86587ee6"
      },
      "outputs": [
        {
          "name": "stdout",
          "output_type": "stream",
          "text": [
            "Number of rows containing Other genders:\n"
          ]
        },
        {
          "data": {
            "text/plain": [
              "2190"
            ]
          },
          "execution_count": 143,
          "metadata": {},
          "output_type": "execute_result"
        }
      ],
      "source": [
        "print(\"Number of rows containing Other genders:\")\n",
        "my_starbuck[(my_starbuck['Other']==1)]['person'].count()"
      ]
    },
    {
      "cell_type": "code",
      "execution_count": null,
      "metadata": {
        "colab": {
          "base_uri": "https://localhost:8080/",
          "height": 487
        },
        "id": "ephIDWxt6_Rj",
        "outputId": "0e3c7a6f-aa22-403d-cb89-1c290eb132ca"
      },
      "outputs": [
        {
          "name": "stdout",
          "output_type": "stream",
          "text": [
            "<class 'pandas.core.frame.DataFrame'>\n",
            "RangeIndex: 165391 entries, 0 to 165390\n",
            "Data columns (total 16 columns):\n",
            " #   Column                  Non-Null Count   Dtype  \n",
            "---  ------                  --------------   -----  \n",
            " 0   time                    165391 non-null  float64\n",
            " 1   cumulative_transaction  165391 non-null  float64\n",
            " 2   reward                  165391 non-null  int64  \n",
            " 3   age                     165391 non-null  int64  \n",
            " 4   income                  165391 non-null  float64\n",
            " 5   membership_duration     165391 non-null  int64  \n",
            " 6   Male                    165391 non-null  int64  \n",
            " 7   Female                  165391 non-null  int64  \n",
            " 8   offer_reward            165391 non-null  float64\n",
            " 9   offer_difficulty        165391 non-null  float64\n",
            " 10  offer_duration          165391 non-null  float64\n",
            " 11  web                     165391 non-null  float64\n",
            " 12  mobile                  165391 non-null  float64\n",
            " 13  social                  165391 non-null  float64\n",
            " 14  bogo                    165391 non-null  float64\n",
            " 15  discount                165391 non-null  float64\n",
            "dtypes: float64(11), int64(5)\n",
            "memory usage: 20.2 MB\n"
          ]
        }
      ],
      "source": [
        "#Reading my source table\n",
        "my_starbuck = pd.read_csv(\"my_starbuck.csv\")\n",
        "\n",
        "#Deleting the rows containing Other genders\n",
        "my_starbuck = my_starbuck.drop(my_starbuck[(my_starbuck['Other']==1)].index)\n",
        "\n",
        "#Reseting my goal table indexes\n",
        "my_starbuck.reset_index(drop=True, inplace=True)\n",
        "\n",
        "#drop unimportant and unnecessary columns\n",
        "my_starbuck = my_starbuck.drop([ 'person','offers', 'Other',  'email',\n",
        "                                'informational', 'offer_completed', 'offer_received', \n",
        "                                'offer_viewed', 'total_transaction',], axis=1)\n",
        "#Check my source table \"my_starbuck\"\n",
        "my_starbuck.info()"
      ]
    },
    {
      "cell_type": "code",
      "execution_count": null,
      "metadata": {
        "id": "QLd-cQUvKh9e"
      },
      "outputs": [],
      "source": [
        "#Do some preprocessing if necessary\n",
        "from sklearn import preprocessing\n",
        "\n",
        "#Normalizing some columns that contain big numbers\n",
        "x = my_starbuck[['income', 'age', 'time','membership_duration',]].values #returns a numpy array\n",
        "min_max_scaler = preprocessing.MinMaxScaler()\n",
        "x_scaled = min_max_scaler.fit_transform(x)\n",
        "normalized_columns = pd.DataFrame(x_scaled)\n",
        "\n",
        "data = my_starbuck.copy()\n",
        "data['income'] = normalized_columns[0]\n",
        "data['age'] = normalized_columns[1]\n",
        "data['time'] = normalized_columns[2]\n",
        "data['membership_duration'] = normalized_columns[3]\n",
        "data = data.round(5)"
      ]
    },
    {
      "cell_type": "code",
      "execution_count": null,
      "metadata": {
        "id": "ETp2XBp46-cy"
      },
      "outputs": [],
      "source": [
        "from sklearn.model_selection import train_test_split\n",
        "\n",
        "#splitting the data to train and test\n",
        "train, test = train_test_split(\n",
        "    data, test_size=0.25, random_state=42)"
      ]
    },
    {
      "cell_type": "code",
      "execution_count": null,
      "metadata": {
        "id": "4Tn-XxXqoVEO"
      },
      "outputs": [],
      "source": [
        "#Saving the train and test files to csv\n",
        "train.to_csv(\"train.csv\")\n",
        "test.to_csv(\"test.csv\")\n",
        "\n",
        "# Save data to S3, SageMaker will take training data from s3\n",
        "trainpath = sess.upload_data(\n",
        "    path=\"train.csv\", bucket=bucket, key_prefix=\"capstone\"\n",
        ")\n",
        "\n",
        "testpath = sess.upload_data(\n",
        "    path=\"test.csv\", bucket=bucket, key_prefix=\"capstone\"\n",
        ")\n",
        "#print(train.shape, test.shape)"
      ]
    },
    {
      "cell_type": "markdown",
      "metadata": {
        "id": "cxyw48GooVEO"
      },
      "source": [
        "## Write model training job on a RandomForestRegressor to script.py file"
      ]
    },
    {
      "cell_type": "code",
      "execution_count": null,
      "metadata": {
        "id": "G-mawn7doVEO",
        "outputId": "7793af92-4081-4f5e-ae84-2ce89bac1854"
      },
      "outputs": [
        {
          "name": "stdout",
          "output_type": "stream",
          "text": [
            "Overwriting script.py\n"
          ]
        }
      ],
      "source": [
        "%%writefile script.py\n",
        "\n",
        "import argparse\n",
        "import joblib\n",
        "import os\n",
        "\n",
        "import numpy as np\n",
        "import pandas as pd\n",
        "from sklearn.ensemble import RandomForestRegressor\n",
        "\n",
        "\n",
        "# inference functions ---------------\n",
        "def model_fn(model_dir):\n",
        "    clf = joblib.load(os.path.join(model_dir, \"model.joblib\"))\n",
        "    return clf\n",
        "\n",
        "\n",
        "if __name__ == \"__main__\":\n",
        "\n",
        "    print(\"extracting arguments\")\n",
        "    parser = argparse.ArgumentParser()\n",
        "\n",
        "    # hyperparameters sent by the client are passed as command-line arguments to the script.\n",
        "    # to simplify the demo we don't use all sklearn RandomForest hyperparameters\n",
        "    parser.add_argument(\"--n-estimators\", type=int, default=10)\n",
        "    parser.add_argument(\"--min-samples-leaf\", type=int, default=3)\n",
        "\n",
        "    # Data, model, and output directories\n",
        "    parser.add_argument(\"--model-dir\", type=str, default=os.environ.get(\"SM_MODEL_DIR\"))\n",
        "    parser.add_argument(\"--train\", type=str, default=os.environ.get(\"SM_CHANNEL_TRAIN\"))\n",
        "    parser.add_argument(\"--test\", type=str, default=os.environ.get(\"SM_CHANNEL_TEST\"))\n",
        "    parser.add_argument(\"--train-file\", type=str, default=\"train.csv\")\n",
        "    parser.add_argument(\"--test-file\", type=str, default=\"test.csv\")\n",
        "    parser.add_argument(\n",
        "        \"--features\", type=str\n",
        "    )  # in this script we ask user to explicitly name features\n",
        "    parser.add_argument(\n",
        "        \"--target\", type=str\n",
        "    )  # in this script we ask user to explicitly name the target\n",
        "\n",
        "    args, _ = parser.parse_known_args()\n",
        "\n",
        "    print(\"reading data\")\n",
        "    train_df = pd.read_csv(os.path.join(args.train, args.train_file))\n",
        "    test_df = pd.read_csv(os.path.join(args.test, args.test_file))\n",
        "\n",
        "    print(\"building training and testing datasets\")\n",
        "    X_train = train_df[args.features.split()]\n",
        "    X_test = test_df[args.features.split()]\n",
        "    y_train = train_df[args.target]\n",
        "    y_test = test_df[args.target]\n",
        "\n",
        "    # train\n",
        "    print(\"training model\")\n",
        "    model = RandomForestRegressor(\n",
        "        n_estimators=args.n_estimators, min_samples_leaf=args.min_samples_leaf, n_jobs=-1\n",
        "    )\n",
        "\n",
        "    model.fit(X_train, y_train)\n",
        "\n",
        "    # print abs error\n",
        "    print(\"validating model\")\n",
        "    abs_err = np.abs(model.predict(X_test) - y_test)\n",
        "\n",
        "    # print couple perf metrics\n",
        "    for q in [10, 50, 90]:\n",
        "        print(\"AE-at-\" + str(q) + \"th-percentile: \" + str(np.percentile(a=abs_err, q=q)))\n",
        "\n",
        "    # persist model\n",
        "    path = os.path.join(args.model_dir, \"model.joblib\")\n",
        "    joblib.dump(model, path)\n",
        "    print(\"model persisted at \" + path)\n",
        "    print(args.min_samples_leaf)\n",
        "\n"
      ]
    },
    {
      "cell_type": "code",
      "execution_count": null,
      "metadata": {
        "id": "_4EwR_n8oVEP",
        "outputId": "9b5e1cd4-7f26-4d97-81ed-3928aaa2bbef"
      },
      "outputs": [
        {
          "name": "stdout",
          "output_type": "stream",
          "text": [
            "train features:  Index(['time', 'cumulative_transaction', 'reward', 'age', 'income',\n",
            "       'membership_duration', 'Male', 'Female', 'offer_reward',\n",
            "       'offer_difficulty', 'offer_duration', 'web', 'mobile', 'social', 'bogo',\n",
            "       'discount'],\n",
            "      dtype='object')\n"
          ]
        }
      ],
      "source": [
        "print(\"train features: \", train.columns)\n",
        "feature_names = ['time', 'reward', 'age', 'income',\n",
        "       'membership_duration', 'Male', 'Female', 'offer_reward',\n",
        "       'offer_difficulty', 'offer_duration', 'web', 'mobile', 'social', 'bogo',\n",
        "       'discount' ]"
      ]
    },
    {
      "cell_type": "markdown",
      "metadata": {
        "id": "574UPrrvoVEP"
      },
      "source": [
        "## Local training"
      ]
    },
    {
      "cell_type": "code",
      "execution_count": null,
      "metadata": {
        "id": "dDDYMNSEoVEP",
        "outputId": "9ca9fcfa-efab-4045-e44c-ab38a1a8504c"
      },
      "outputs": [
        {
          "name": "stdout",
          "output_type": "stream",
          "text": [
            "extracting arguments\n",
            "reading data\n",
            "building training and testing datasets\n",
            "training model\n",
            "validating model\n",
            "AE-at-10th-percentile: 0.16653535714286247\n",
            "AE-at-50th-percentile: 14.753534285714306\n",
            "AE-at-90th-percentile: 66.80788100288605\n",
            "model persisted at ./model.joblib\n",
            "2\n"
          ]
        }
      ],
      "source": [
        "! python script.py --n-estimators 100 \\\n",
        "                   --min-samples-leaf 2 \\\n",
        "                   --model-dir ./ \\\n",
        "                   --train ./ \\\n",
        "                   --test ./ \\\n",
        "                   --features 'time reward age income membership_duration Male Female offer_reward offer_difficulty offer_duration web mobile social bogo discount' \\\n",
        "                   --target cumulative_transaction"
      ]
    },
    {
      "cell_type": "markdown",
      "metadata": {
        "id": "tztKy4iNoVEQ"
      },
      "source": [
        "## Launch a Tuning Job"
      ]
    },
    {
      "cell_type": "code",
      "execution_count": null,
      "metadata": {
        "id": "05bRvAVloVEQ"
      },
      "outputs": [],
      "source": [
        "# We use the Estimator from the SageMaker Python SDK\n",
        "from sagemaker.sklearn.estimator import SKLearn\n",
        "\n",
        "FRAMEWORK_VERSION = \"0.23-1\"\n",
        "hyperparameters = {\"n-estimators\": 147, \\\n",
        "                   \"min-samples-leaf\":  2, \\\n",
        "                  \"features\": 'time reward age income membership_duration Male Female offer_reward offer_difficulty offer_duration web mobile social bogo discount' , \\\n",
        "                   \"target\": 'cumulative_transaction', }\n",
        "\n",
        "sklearn_estimator = SKLearn(\n",
        "    entry_point=\"script.py\",\n",
        "    role=get_execution_role(),\n",
        "    instance_count=1,\n",
        "    instance_type=\"ml.m4.xlarge\",#\"ml.c5.xlarge\",#\"ml.m4.xlarge\",\n",
        "    framework_version=FRAMEWORK_VERSION,\n",
        "    base_job_name=\"train-star\",\n",
        "    metric_definitions=[{\"Name\": \"median-AE\", \"Regex\": \"AE-at-50th-percentile: ([0-9.]+).*$\"}],\n",
        "    hyperparameters=hyperparameters,\n",
        ")\n"
      ]
    },
    {
      "cell_type": "code",
      "execution_count": null,
      "metadata": {
        "id": "si_-CkGNoVEQ"
      },
      "outputs": [],
      "source": [
        "# we use the Hyperparameter Tuner\n",
        "from sagemaker.tuner import IntegerParameter\n",
        "\n",
        "# Define exploration boundaries\n",
        "hyperparameter_ranges = {\n",
        "    \"n-estimators\": IntegerParameter(20, 200),\n",
        "    \"min-samples-leaf\": IntegerParameter(2, 10),\n",
        "}\n",
        "\n",
        "# create Optimizer\n",
        "Optimizer = sagemaker.tuner.HyperparameterTuner(\n",
        "    estimator=sklearn_estimator,\n",
        "    hyperparameter_ranges=hyperparameter_ranges,\n",
        "    base_tuning_job_name=\"tuner-star\",\n",
        "    objective_type=\"Minimize\",\n",
        "    objective_metric_name=\"median-AE\",\n",
        "    metric_definitions=[\n",
        "        {\"Name\": \"median-AE\", \"Regex\": \"AE-at-50th-percentile: ([0-9.]+).*$\"}\n",
        "    ],  # extract tracked metric from logs with regexp\n",
        "    max_jobs=10,\n",
        "    max_parallel_jobs=2,\n",
        ")"
      ]
    },
    {
      "cell_type": "code",
      "execution_count": null,
      "metadata": {
        "id": "ve6Hxcy6oVER",
        "outputId": "3756f1f3-7f20-41eb-e892-41794781429a"
      },
      "outputs": [
        {
          "name": "stdout",
          "output_type": "stream",
          "text": [
            "..............................................................................................................................!\n",
            "0.6400000000000006\n"
          ]
        }
      ],
      "source": [
        "import time\n",
        "tic = time.clock()\n",
        "\n",
        "Optimizer.fit({\"train\": trainpath, \"test\": testpath})\n",
        "\n",
        "toc = time.clock()\n",
        "print(toc - tic)"
      ]
    },
    {
      "cell_type": "code",
      "execution_count": null,
      "metadata": {
        "id": "l-melOIeoVER",
        "outputId": "a30ea8ff-14e0-448f-b168-a5e300c42037"
      },
      "outputs": [
        {
          "data": {
            "text/html": [
              "<div>\n",
              "<style scoped>\n",
              "    .dataframe tbody tr th:only-of-type {\n",
              "        vertical-align: middle;\n",
              "    }\n",
              "\n",
              "    .dataframe tbody tr th {\n",
              "        vertical-align: top;\n",
              "    }\n",
              "\n",
              "    .dataframe thead th {\n",
              "        text-align: right;\n",
              "    }\n",
              "</style>\n",
              "<table border=\"1\" class=\"dataframe\">\n",
              "  <thead>\n",
              "    <tr style=\"text-align: right;\">\n",
              "      <th></th>\n",
              "      <th>min-samples-leaf</th>\n",
              "      <th>n-estimators</th>\n",
              "      <th>TrainingJobName</th>\n",
              "      <th>TrainingJobStatus</th>\n",
              "      <th>FinalObjectiveValue</th>\n",
              "      <th>TrainingStartTime</th>\n",
              "      <th>TrainingEndTime</th>\n",
              "      <th>TrainingElapsedTimeSeconds</th>\n",
              "    </tr>\n",
              "  </thead>\n",
              "  <tbody>\n",
              "    <tr>\n",
              "      <th>0</th>\n",
              "      <td>2.0</td>\n",
              "      <td>149.0</td>\n",
              "      <td>tuner-star-220212-1631-010-14b18466</td>\n",
              "      <td>Completed</td>\n",
              "      <td>14.619602</td>\n",
              "      <td>2022-02-12 16:57:49+00:00</td>\n",
              "      <td>2022-02-12 17:00:33+00:00</td>\n",
              "      <td>164.0</td>\n",
              "    </tr>\n",
              "    <tr>\n",
              "      <th>1</th>\n",
              "      <td>2.0</td>\n",
              "      <td>144.0</td>\n",
              "      <td>tuner-star-220212-1631-009-5f6264cf</td>\n",
              "      <td>Completed</td>\n",
              "      <td>14.598150</td>\n",
              "      <td>2022-02-12 16:56:01+00:00</td>\n",
              "      <td>2022-02-12 16:59:24+00:00</td>\n",
              "      <td>203.0</td>\n",
              "    </tr>\n",
              "    <tr>\n",
              "      <th>2</th>\n",
              "      <td>2.0</td>\n",
              "      <td>147.0</td>\n",
              "      <td>tuner-star-220212-1631-008-f423754e</td>\n",
              "      <td>Completed</td>\n",
              "      <td>14.565795</td>\n",
              "      <td>2022-02-12 16:51:41+00:00</td>\n",
              "      <td>2022-02-12 16:54:23+00:00</td>\n",
              "      <td>162.0</td>\n",
              "    </tr>\n",
              "    <tr>\n",
              "      <th>3</th>\n",
              "      <td>2.0</td>\n",
              "      <td>190.0</td>\n",
              "      <td>tuner-star-220212-1631-007-b1bdb91a</td>\n",
              "      <td>Completed</td>\n",
              "      <td>14.626628</td>\n",
              "      <td>2022-02-12 16:49:57+00:00</td>\n",
              "      <td>2022-02-12 16:52:59+00:00</td>\n",
              "      <td>182.0</td>\n",
              "    </tr>\n",
              "    <tr>\n",
              "      <th>4</th>\n",
              "      <td>2.0</td>\n",
              "      <td>174.0</td>\n",
              "      <td>tuner-star-220212-1631-006-16544424</td>\n",
              "      <td>Completed</td>\n",
              "      <td>14.662675</td>\n",
              "      <td>2022-02-12 16:45:37+00:00</td>\n",
              "      <td>2022-02-12 16:48:24+00:00</td>\n",
              "      <td>167.0</td>\n",
              "    </tr>\n",
              "  </tbody>\n",
              "</table>\n",
              "</div>"
            ],
            "text/plain": [
              "   min-samples-leaf  n-estimators                      TrainingJobName  \\\n",
              "0               2.0         149.0  tuner-star-220212-1631-010-14b18466   \n",
              "1               2.0         144.0  tuner-star-220212-1631-009-5f6264cf   \n",
              "2               2.0         147.0  tuner-star-220212-1631-008-f423754e   \n",
              "3               2.0         190.0  tuner-star-220212-1631-007-b1bdb91a   \n",
              "4               2.0         174.0  tuner-star-220212-1631-006-16544424   \n",
              "\n",
              "  TrainingJobStatus  FinalObjectiveValue         TrainingStartTime  \\\n",
              "0         Completed            14.619602 2022-02-12 16:57:49+00:00   \n",
              "1         Completed            14.598150 2022-02-12 16:56:01+00:00   \n",
              "2         Completed            14.565795 2022-02-12 16:51:41+00:00   \n",
              "3         Completed            14.626628 2022-02-12 16:49:57+00:00   \n",
              "4         Completed            14.662675 2022-02-12 16:45:37+00:00   \n",
              "\n",
              "            TrainingEndTime  TrainingElapsedTimeSeconds  \n",
              "0 2022-02-12 17:00:33+00:00                       164.0  \n",
              "1 2022-02-12 16:59:24+00:00                       203.0  \n",
              "2 2022-02-12 16:54:23+00:00                       162.0  \n",
              "3 2022-02-12 16:52:59+00:00                       182.0  \n",
              "4 2022-02-12 16:48:24+00:00                       167.0  "
            ]
          },
          "execution_count": 71,
          "metadata": {},
          "output_type": "execute_result"
        }
      ],
      "source": [
        "# get tuner results in a df\n",
        "results = Optimizer.analytics().dataframe()\n",
        "while results.empty:\n",
        "    time.sleep(1)\n",
        "    results = Optimizer.analytics().dataframe()\n",
        "results.head()\n"
      ]
    },
    {
      "cell_type": "code",
      "execution_count": null,
      "metadata": {
        "id": "JKo6oBNGoVES",
        "outputId": "2dcf8eb8-0e6a-472d-bf18-9318ff482c77"
      },
      "outputs": [
        {
          "name": "stdout",
          "output_type": "stream",
          "text": [
            "\n",
            "2022-02-12 16:54:23 Starting - Preparing the instances for training\n",
            "2022-02-12 16:54:23 Downloading - Downloading input data\n",
            "2022-02-12 16:54:23 Training - Training image download completed. Training in progress.\n",
            "2022-02-12 16:54:23 Uploading - Uploading generated training model\n",
            "2022-02-12 16:54:23 Completed - Training job completed\n"
          ]
        }
      ],
      "source": [
        "best_estimator=Optimizer.best_estimator()"
      ]
    },
    {
      "cell_type": "code",
      "execution_count": null,
      "metadata": {
        "id": "43i97_haoVES",
        "outputId": "a5f0e1ef-41bb-48b6-9c7e-60b26923e614"
      },
      "outputs": [
        {
          "data": {
            "text/plain": [
              "{'_tuning_objective_metric': '\"median-AE\"',\n",
              " 'features': '\"time reward age income membership_duration Male Female offer_reward offer_difficulty offer_duration web mobile social bogo discount\"',\n",
              " 'min-samples-leaf': '2',\n",
              " 'n-estimators': '147',\n",
              " 'sagemaker_container_log_level': '20',\n",
              " 'sagemaker_estimator_class_name': '\"SKLearn\"',\n",
              " 'sagemaker_estimator_module': '\"sagemaker.sklearn.estimator\"',\n",
              " 'sagemaker_job_name': '\"train-star-2022-02-12-16-31-17-481\"',\n",
              " 'sagemaker_program': '\"script.py\"',\n",
              " 'sagemaker_region': '\"us-east-1\"',\n",
              " 'sagemaker_submit_directory': '\"s3://sagemaker-us-east-1-201557610166/train-star-2022-02-12-16-31-17-481/source/sourcedir.tar.gz\"',\n",
              " 'target': '\"cumulative_transaction\"'}"
            ]
          },
          "execution_count": 73,
          "metadata": {},
          "output_type": "execute_result"
        }
      ],
      "source": [
        "best_estimator.hyperparameters()"
      ]
    },
    {
      "cell_type": "code",
      "execution_count": null,
      "metadata": {
        "id": "CZqCb6HGoVES",
        "outputId": "92fcac03-9f89-451f-af5b-8bc8d2a80b2a"
      },
      "outputs": [
        {
          "data": {
            "text/plain": [
              "{'n-estimators': 147,\n",
              " 'min-samples-leaf': 2,\n",
              " 'features': 'time reward age income membership_duration Male Female offer_reward offer_difficulty offer_duration web mobile social bogo discount',\n",
              " 'target': 'cumulative_transaction'}"
            ]
          },
          "execution_count": 74,
          "metadata": {},
          "output_type": "execute_result"
        }
      ],
      "source": [
        "hyperparameters = {\"n-estimators\": int(best_estimator.hyperparameters()['n-estimators'].replace('\"', '')), \\\n",
        "                   \"min-samples-leaf\":  int(best_estimator.hyperparameters()['min-samples-leaf'].replace('\"', '')), \\\n",
        "                  \"features\": best_estimator.hyperparameters()['features'].replace('\"', ''), \\\n",
        "                   \"target\": best_estimator.hyperparameters()['target'].replace('\"', ''), }\n",
        "hyperparameters"
      ]
    },
    {
      "cell_type": "markdown",
      "metadata": {
        "id": "CY2al9KcoVES"
      },
      "source": [
        "## Launching a training job on best hyperparameters"
      ]
    },
    {
      "cell_type": "code",
      "execution_count": null,
      "metadata": {
        "scrolled": true,
        "id": "oNkkuKgFoVET",
        "outputId": "24710bff-50ff-4add-f25b-b6e33a98c0e9"
      },
      "outputs": [
        {
          "name": "stdout",
          "output_type": "stream",
          "text": [
            "2022-02-13 02:43:41 Starting - Starting the training job...\n",
            "2022-02-13 02:44:05 Starting - Launching requested ML instancesProfilerReport-1644720221: InProgress\n",
            "......\n",
            "2022-02-13 02:45:11 Starting - Preparing the instances for training............\n",
            "2022-02-13 02:47:06 Downloading - Downloading input data\n",
            "2022-02-13 02:47:06 Training - Downloading the training image.....\u001b[34m2022-02-13 02:47:47,454 sagemaker-containers INFO     Imported framework sagemaker_sklearn_container.training\u001b[0m\n",
            "\u001b[34m2022-02-13 02:47:47,456 sagemaker-training-toolkit INFO     No GPUs detected (normal if no gpus installed)\u001b[0m\n",
            "\u001b[34m2022-02-13 02:47:47,469 sagemaker_sklearn_container.training INFO     Invoking user training script.\u001b[0m\n",
            "\u001b[34m2022-02-13 02:47:47,864 sagemaker-training-toolkit INFO     No GPUs detected (normal if no gpus installed)\u001b[0m\n",
            "\u001b[34m2022-02-13 02:47:47,878 sagemaker-training-toolkit INFO     No GPUs detected (normal if no gpus installed)\u001b[0m\n",
            "\u001b[34m2022-02-13 02:47:47,893 sagemaker-training-toolkit INFO     No GPUs detected (normal if no gpus installed)\u001b[0m\n",
            "\u001b[34m2022-02-13 02:47:47,905 sagemaker-training-toolkit INFO     Invoking user script\u001b[0m\n",
            "\u001b[34mTraining Env:\u001b[0m\n",
            "\u001b[34m{\n",
            "    \"additional_framework_parameters\": {},\n",
            "    \"channel_input_dirs\": {\n",
            "        \"test\": \"/opt/ml/input/data/test\",\n",
            "        \"train\": \"/opt/ml/input/data/train\"\n",
            "    },\n",
            "    \"current_host\": \"algo-1\",\n",
            "    \"framework_module\": \"sagemaker_sklearn_container.training:main\",\n",
            "    \"hosts\": [\n",
            "        \"algo-1\"\n",
            "    ],\n",
            "    \"hyperparameters\": {\n",
            "        \"features\": \"time reward age income membership_duration Male Female offer_reward offer_difficulty offer_duration web mobile social bogo discount\",\n",
            "        \"n-estimators\": 147,\n",
            "        \"min-samples-leaf\": 2,\n",
            "        \"target\": \"cumulative_transaction\"\n",
            "    },\n",
            "    \"input_config_dir\": \"/opt/ml/input/config\",\n",
            "    \"input_data_config\": {\n",
            "        \"test\": {\n",
            "            \"TrainingInputMode\": \"File\",\n",
            "            \"S3DistributionType\": \"FullyReplicated\",\n",
            "            \"RecordWrapperType\": \"None\"\n",
            "        },\n",
            "        \"train\": {\n",
            "            \"TrainingInputMode\": \"File\",\n",
            "            \"S3DistributionType\": \"FullyReplicated\",\n",
            "            \"RecordWrapperType\": \"None\"\n",
            "        }\n",
            "    },\n",
            "    \"input_dir\": \"/opt/ml/input\",\n",
            "    \"is_master\": true,\n",
            "    \"job_name\": \"train-star-2022-02-13-02-43-41-075\",\n",
            "    \"log_level\": 20,\n",
            "    \"master_hostname\": \"algo-1\",\n",
            "    \"model_dir\": \"/opt/ml/model\",\n",
            "    \"module_dir\": \"s3://sagemaker-us-east-1-201557610166/train-star-2022-02-13-02-43-41-075/source/sourcedir.tar.gz\",\n",
            "    \"module_name\": \"script\",\n",
            "    \"network_interface_name\": \"eth0\",\n",
            "    \"num_cpus\": 4,\n",
            "    \"num_gpus\": 0,\n",
            "    \"output_data_dir\": \"/opt/ml/output/data\",\n",
            "    \"output_dir\": \"/opt/ml/output\",\n",
            "    \"output_intermediate_dir\": \"/opt/ml/output/intermediate\",\n",
            "    \"resource_config\": {\n",
            "        \"current_host\": \"algo-1\",\n",
            "        \"hosts\": [\n",
            "            \"algo-1\"\n",
            "        ],\n",
            "        \"network_interface_name\": \"eth0\"\n",
            "    },\n",
            "    \"user_entry_point\": \"script.py\"\u001b[0m\n",
            "\u001b[34m}\u001b[0m\n",
            "\u001b[34mEnvironment variables:\u001b[0m\n",
            "\u001b[34mSM_HOSTS=[\"algo-1\"]\u001b[0m\n",
            "\u001b[34mSM_NETWORK_INTERFACE_NAME=eth0\u001b[0m\n",
            "\u001b[34mSM_HPS={\"features\":\"time reward age income membership_duration Male Female offer_reward offer_difficulty offer_duration web mobile social bogo discount\",\"min-samples-leaf\":2,\"n-estimators\":147,\"target\":\"cumulative_transaction\"}\u001b[0m\n",
            "\u001b[34mSM_USER_ENTRY_POINT=script.py\u001b[0m\n",
            "\u001b[34mSM_FRAMEWORK_PARAMS={}\u001b[0m\n",
            "\u001b[34mSM_RESOURCE_CONFIG={\"current_host\":\"algo-1\",\"hosts\":[\"algo-1\"],\"network_interface_name\":\"eth0\"}\u001b[0m\n",
            "\u001b[34mSM_INPUT_DATA_CONFIG={\"test\":{\"RecordWrapperType\":\"None\",\"S3DistributionType\":\"FullyReplicated\",\"TrainingInputMode\":\"File\"},\"train\":{\"RecordWrapperType\":\"None\",\"S3DistributionType\":\"FullyReplicated\",\"TrainingInputMode\":\"File\"}}\u001b[0m\n",
            "\u001b[34mSM_OUTPUT_DATA_DIR=/opt/ml/output/data\u001b[0m\n",
            "\u001b[34mSM_CHANNELS=[\"test\",\"train\"]\u001b[0m\n",
            "\u001b[34mSM_CURRENT_HOST=algo-1\u001b[0m\n",
            "\u001b[34mSM_MODULE_NAME=script\u001b[0m\n",
            "\u001b[34mSM_LOG_LEVEL=20\u001b[0m\n",
            "\u001b[34mSM_FRAMEWORK_MODULE=sagemaker_sklearn_container.training:main\u001b[0m\n",
            "\u001b[34mSM_INPUT_DIR=/opt/ml/input\u001b[0m\n",
            "\u001b[34mSM_INPUT_CONFIG_DIR=/opt/ml/input/config\u001b[0m\n",
            "\u001b[34mSM_OUTPUT_DIR=/opt/ml/output\u001b[0m\n",
            "\u001b[34mSM_NUM_CPUS=4\u001b[0m\n",
            "\u001b[34mSM_NUM_GPUS=0\u001b[0m\n",
            "\u001b[34mSM_MODEL_DIR=/opt/ml/model\u001b[0m\n",
            "\u001b[34mSM_MODULE_DIR=s3://sagemaker-us-east-1-201557610166/train-star-2022-02-13-02-43-41-075/source/sourcedir.tar.gz\u001b[0m\n",
            "\u001b[34mSM_TRAINING_ENV={\"additional_framework_parameters\":{},\"channel_input_dirs\":{\"test\":\"/opt/ml/input/data/test\",\"train\":\"/opt/ml/input/data/train\"},\"current_host\":\"algo-1\",\"framework_module\":\"sagemaker_sklearn_container.training:main\",\"hosts\":[\"algo-1\"],\"hyperparameters\":{\"features\":\"time reward age income membership_duration Male Female offer_reward offer_difficulty offer_duration web mobile social bogo discount\",\"min-samples-leaf\":2,\"n-estimators\":147,\"target\":\"cumulative_transaction\"},\"input_config_dir\":\"/opt/ml/input/config\",\"input_data_config\":{\"test\":{\"RecordWrapperType\":\"None\",\"S3DistributionType\":\"FullyReplicated\",\"TrainingInputMode\":\"File\"},\"train\":{\"RecordWrapperType\":\"None\",\"S3DistributionType\":\"FullyReplicated\",\"TrainingInputMode\":\"File\"}},\"input_dir\":\"/opt/ml/input\",\"is_master\":true,\"job_name\":\"train-star-2022-02-13-02-43-41-075\",\"log_level\":20,\"master_hostname\":\"algo-1\",\"model_dir\":\"/opt/ml/model\",\"module_dir\":\"s3://sagemaker-us-east-1-201557610166/train-star-2022-02-13-02-43-41-075/source/sourcedir.tar.gz\",\"module_name\":\"script\",\"network_interface_name\":\"eth0\",\"num_cpus\":4,\"num_gpus\":0,\"output_data_dir\":\"/opt/ml/output/data\",\"output_dir\":\"/opt/ml/output\",\"output_intermediate_dir\":\"/opt/ml/output/intermediate\",\"resource_config\":{\"current_host\":\"algo-1\",\"hosts\":[\"algo-1\"],\"network_interface_name\":\"eth0\"},\"user_entry_point\":\"script.py\"}\u001b[0m\n",
            "\u001b[34mSM_USER_ARGS=[\"--features\",\"time reward age income membership_duration Male Female offer_reward offer_difficulty offer_duration web mobile social bogo discount\",\"--min-samples-leaf\",\"2\",\"--n-estimators\",\"147\",\"--target\",\"cumulative_transaction\"]\u001b[0m\n",
            "\u001b[34mSM_OUTPUT_INTERMEDIATE_DIR=/opt/ml/output/intermediate\u001b[0m\n",
            "\u001b[34mSM_CHANNEL_TEST=/opt/ml/input/data/test\u001b[0m\n",
            "\u001b[34mSM_CHANNEL_TRAIN=/opt/ml/input/data/train\u001b[0m\n",
            "\u001b[34mSM_HP_FEATURES=time reward age income membership_duration Male Female offer_reward offer_difficulty offer_duration web mobile social bogo discount\u001b[0m\n",
            "\u001b[34mSM_HP_N-ESTIMATORS=147\u001b[0m\n",
            "\u001b[34mSM_HP_MIN-SAMPLES-LEAF=2\u001b[0m\n",
            "\u001b[34mSM_HP_TARGET=cumulative_transaction\u001b[0m\n",
            "\u001b[34mPYTHONPATH=/opt/ml/code:/miniconda3/bin:/miniconda3/lib/python37.zip:/miniconda3/lib/python3.7:/miniconda3/lib/python3.7/lib-dynload:/miniconda3/lib/python3.7/site-packages\u001b[0m\n",
            "\u001b[34mInvoking script with the following command:\u001b[0m\n",
            "\u001b[34m/miniconda3/bin/python script.py --features time reward age income membership_duration Male Female offer_reward offer_difficulty offer_duration web mobile social bogo discount --min-samples-leaf 2 --n-estimators 147 --target cumulative_transaction\u001b[0m\n",
            "\u001b[34mextracting arguments\u001b[0m\n",
            "\u001b[34mreading data\u001b[0m\n",
            "\u001b[34mbuilding training and testing datasets\u001b[0m\n",
            "\u001b[34mtraining model\u001b[0m\n",
            "\n",
            "2022-02-13 02:48:06 Training - Training image download completed. Training in progress.\u001b[34mvalidating model\u001b[0m\n",
            "\u001b[34mAE-at-10th-percentile: 0.16901103012633623\u001b[0m\n",
            "\u001b[34mAE-at-50th-percentile: 14.864610946687506\u001b[0m\n",
            "\u001b[34mAE-at-90th-percentile: 66.57248138429976\u001b[0m\n",
            "\u001b[34mmodel persisted at /opt/ml/model/model.joblib\u001b[0m\n",
            "\u001b[34m2\u001b[0m\n",
            "\u001b[34m2022-02-13 02:48:16,184 sagemaker-containers INFO     Reporting training SUCCESS\u001b[0m\n",
            "\n",
            "2022-02-13 02:48:26 Uploading - Uploading generated training model\n",
            "2022-02-13 02:49:13 Completed - Training job completed\n",
            "Training seconds: 148\n",
            "Billable seconds: 148\n",
            "0.7100000000000009\n"
          ]
        }
      ],
      "source": [
        "# We use the Estimator from the SageMaker Python SDK\n",
        "from sagemaker.sklearn.estimator import SKLearn\n",
        "import time\n",
        "\n",
        "FRAMEWORK_VERSION = \"0.23-1\"\n",
        "\n",
        "sklearn_estimator = SKLearn(\n",
        "    entry_point=\"script.py\",\n",
        "    role=get_execution_role(),\n",
        "    instance_count=1,\n",
        "    instance_type=\"ml.m4.xlarge\",#\"ml.c5.xlarge\",#\"ml.m4.xlarge\",\n",
        "    framework_version=FRAMEWORK_VERSION,\n",
        "    base_job_name=\"train-star\",\n",
        "    metric_definitions=[{\"Name\": \"median-AE\", \"Regex\": \"AE-at-50th-percentile: ([0-9.]+).*$\"}],\n",
        "    hyperparameters=hyperparameters,\n",
        ")\n",
        "\n",
        "tic = time.clock()\n",
        "\n",
        "# launch training job\n",
        "sklearn_estimator.fit({\"train\": trainpath, \"test\": testpath}, wait=True)\n",
        "\n",
        "toc = time.clock()\n",
        "print(toc - tic)"
      ]
    },
    {
      "cell_type": "markdown",
      "metadata": {
        "id": "3YA7eqJboVET"
      },
      "source": [
        "## Deploy to a real-time endpoint"
      ]
    },
    {
      "cell_type": "code",
      "execution_count": null,
      "metadata": {
        "id": "rQuge9tEoVET",
        "outputId": "3363c817-7447-493c-fb56-a45fd73c94b2"
      },
      "outputs": [
        {
          "name": "stdout",
          "output_type": "stream",
          "text": [
            "\n",
            "2022-02-13 02:49:26 Starting - Preparing the instances for training\n",
            "2022-02-13 02:49:26 Downloading - Downloading input data\n",
            "2022-02-13 02:49:26 Training - Training image download completed. Training in progress.\n",
            "2022-02-13 02:49:26 Uploading - Uploading generated training model\n",
            "2022-02-13 02:49:26 Completed - Training job completed\n",
            "Model artifact persisted at s3://sagemaker-us-east-1-201557610166/train-star-2022-02-13-02-43-41-075/output/model.tar.gz\n",
            "-----!"
          ]
        }
      ],
      "source": [
        "from sagemaker.sklearn.model import SKLearnModel\n",
        "\n",
        "sklearn_estimator.latest_training_job.wait(logs=\"None\")\n",
        "artifact = sm_boto3.describe_training_job(\n",
        "    TrainingJobName= sklearn_estimator.latest_training_job.name#'train-star-2022-02-11-09-09-36-428' \n",
        ")[\"ModelArtifacts\"][\"S3ModelArtifacts\"]\n",
        "\n",
        "print(\"Model artifact persisted at \" + artifact)\n",
        "\n",
        "model = SKLearnModel(\n",
        "    model_data=artifact,\n",
        "    role=get_execution_role(),\n",
        "    entry_point=\"script.py\",\n",
        "    framework_version=FRAMEWORK_VERSION,\n",
        ")\n",
        "\n",
        "predictor = model.deploy(instance_type=\"ml.c5.large\", initial_instance_count=1)"
      ]
    },
    {
      "cell_type": "markdown",
      "metadata": {
        "id": "zIWvDWRwoVEU"
      },
      "source": [
        "## Invoke the endpoint"
      ]
    },
    {
      "cell_type": "code",
      "execution_count": null,
      "metadata": {
        "id": "dR18lCdEoVEU",
        "outputId": "134a8294-f952-4c4c-a25a-34281cd72e71"
      },
      "outputs": [
        {
          "name": "stdout",
          "output_type": "stream",
          "text": [
            "response \t\t target\n",
            "42.741547781017154 \t 42.75\n",
            "62.41656648850017 \t 31.57\n",
            "5.431426303854877 \t 0.0\n",
            "111.42925178166503 \t 61.63\n",
            "119.83790046971173 \t 146.2\n",
            "30.473342484612882 \t 37.57\n",
            "81.09920667314543 \t 29.75\n",
            "73.52277721088433 \t 73.36\n",
            "5.504794001727676 \t 2.54\n",
            "35.42429664723034 \t 20.41\n",
            "132.62019595616022 \t 138.12\n",
            "45.86012331281719 \t 23.98\n",
            "57.533254994061096 \t 33.6\n",
            "61.2219977324263 \t 37.06\n",
            "56.77866553287983 \t 20.52\n",
            "14.928407446672761 \t 128.26\n",
            "20.11640678652412 \t 29.56\n",
            "39.824623744735995 \t 121.08\n",
            "64.26413265306118 \t 33.97\n",
            "6.332217624867687 \t 8.84\n",
            "20.02664085951841 \t 12.79\n",
            "15.32111321671525 \t 0.0\n",
            "138.58601587301595 \t 789.81\n",
            "110.23857701652086 \t 55.65\n",
            "144.37812649821834 \t 155.09\n",
            "107.90099708454815 \t 124.15\n",
            "69.68707636864272 \t 83.38\n",
            "124.63938921282798 \t 130.97\n",
            "0.0 \t 0.0\n",
            "8.765819327214734 \t 3.92\n",
            "1.18198223733938 \t 0.05\n",
            "81.47381827016518 \t 99.23\n",
            "89.95767454918476 \t 108.05\n",
            "48.186443013713415 \t 109.19\n",
            "0.0 \t 0.0\n",
            "89.26236799481691 \t 76.01\n",
            "10.935080793356306 \t 0.0\n",
            "50.988030936184 \t 19.95\n",
            "95.84361829176115 \t 63.14\n",
            "61.23055277507827 \t 48.66\n",
            "3.883232318324154 \t 0.91\n",
            "17.3514325936724 \t 13.99\n",
            "0.0 \t 0.0\n",
            "44.3995116618076 \t 25.82\n",
            "149.18752688694525 \t 101.22\n",
            "30.063859302451135 \t 67.47\n",
            "19.938044946550043 \t 15.83\n",
            "7.363321401576503 \t 7.63\n",
            "8.413330337651766 \t 0.85\n",
            "15.009284654121387 \t 15.92\n",
            "92.94325032393908 \t 108.71\n",
            "14.320064193931533 \t 8.63\n",
            "0.0 \t 0.0\n",
            "77.02069760285069 \t 66.0\n",
            "12.914871234207968 \t 4.67\n",
            "117.6845382248137 \t 17.97\n",
            "17.496414965986403 \t 0.0\n",
            "35.08620440557175 \t 30.97\n",
            "0.007086167800453515 \t 0.0\n",
            "186.11934653385174 \t 163.78\n",
            "74.12941156462583 \t 45.66\n",
            "0.0 \t 0.0\n",
            "14.497334305150638 \t 0.0\n",
            "16.513030520405522 \t 11.33\n",
            "33.87946925278049 \t 0.0\n",
            "26.5384401792463 \t 0.0\n",
            "0.0 \t 0.0\n",
            "50.12685322859301 \t 23.46\n",
            "36.16323947197928 \t 20.25\n",
            "101.67222457078067 \t 125.83\n",
            "15.344871432988786 \t 12.59\n",
            "75.66030450275342 \t 56.57\n",
            "59.125211046323294 \t 12.09\n",
            "30.10885042112083 \t 19.37\n",
            "144.47538710722378 \t 108.77\n",
            "0.0 \t 0.0\n",
            "79.07618934240361 \t 23.6\n",
            "64.54730663535253 \t 16.72\n",
            "9.509470653684945 \t 3.19\n",
            "100.45124376417243 \t 174.6\n",
            "21.091152413346276 \t 2.65\n",
            "3.6294735741060786 \t 0.0\n",
            "152.0616679624231 \t 245.99\n",
            "75.03145756397798 \t 73.0\n",
            "59.914189909297036 \t 85.42\n",
            "19.454633489903898 \t 0.0\n",
            "16.937421390778532 \t 10.36\n",
            "86.75174300831443 \t 59.69\n",
            "80.02682156354604 \t 72.17\n",
            "110.64940654356987 \t 984.64\n",
            "98.8260265630061 \t 119.44\n",
            "37.38643869452541 \t 124.69\n",
            "29.141200356333027 \t 11.43\n",
            "46.168159944930345 \t 161.0\n",
            "84.4843042597991 \t 11.6\n",
            "135.49057815030764 \t 118.93\n",
            "53.645695990517446 \t 179.46\n",
            "42.551270057229246 \t 104.08\n",
            "23.077067298347913 \t 12.1\n",
            "6.406004940071267 \t 9.52\n"
          ]
        }
      ],
      "source": [
        "# the SKLearnPredictor does the serialization from pandas for us\n",
        "response = predictor.predict(test[feature_names])\n",
        "test_target = test['cumulative_transaction']\n",
        "test_target = test_target.to_numpy() \n",
        "\n",
        "print(\"response \\t\\t target\")\n",
        "for i in range(100):\n",
        "    print(response[i] , \"\\t\",test_target[i])"
      ]
    },
    {
      "cell_type": "markdown",
      "metadata": {
        "id": "0lcDGm5PoVEU"
      },
      "source": [
        "## Evaluate the sklearn random forest model"
      ]
    },
    {
      "cell_type": "code",
      "execution_count": null,
      "metadata": {
        "colab": {
          "base_uri": "https://localhost:8080/"
        },
        "id": "pbcji5A4JD_j",
        "outputId": "b6937632-2959-43e7-9d1e-9bedeb52ee9d"
      },
      "outputs": [
        {
          "name": "stdout",
          "output_type": "stream",
          "text": [
            "R2 score: 0.4523693254058069, mean_squared_error: 4236.3759983377595, mean_absolute_error 29.62099167956011\n"
          ]
        }
      ],
      "source": [
        "from sklearn.metrics import mean_squared_error, mean_absolute_error, r2_score\n",
        "\n",
        "mean_squared_error = mean_squared_error(test_target, response)\n",
        "mean_absolute_error = mean_absolute_error(test_target, response)\n",
        "r2_score = r2_score(test_target, response)\n",
        "print(f\"R2 score: {r2_score}, mean_squared_error: {mean_squared_error}, mean_absolute_error {mean_absolute_error}\")"
      ]
    },
    {
      "cell_type": "markdown",
      "metadata": {
        "id": "SUkIIi3VoVEV"
      },
      "source": [
        "## Delete the endpoint"
      ]
    },
    {
      "cell_type": "code",
      "execution_count": null,
      "metadata": {
        "id": "TCt5JyQ2oVEV"
      },
      "outputs": [],
      "source": [
        "#Don’t forget to delete the endpoint!\n",
        "predictor.delete_endpoint()"
      ]
    },
    {
      "cell_type": "markdown",
      "metadata": {
        "id": "eee24QafoVEV"
      },
      "source": [
        "# Training with autogluon.tabular\n",
        "\n",
        "Because the R2 score of the Scikit_Learn Random Forest model is rather low, we train the dataset using Autogluon Tabular models to check if we obtain better results. We know that autogluon.tabular contains RFModel (Random Forest model (scikit-learn)) as one of its models. So we hope we will certainly improve the result."
      ]
    },
    {
      "cell_type": "code",
      "execution_count": null,
      "metadata": {
        "id": "CDXGEzEToVEW",
        "outputId": "73f18903-fd16-4371-ca90-5c5e5c17ad7b"
      },
      "outputs": [
        {
          "name": "stdout",
          "output_type": "stream",
          "text": [
            "(125685, 25) (41896, 25)\n"
          ]
        }
      ],
      "source": [
        "from sklearn.model_selection import train_test_split\n",
        "\n",
        "#Read from my source table\n",
        "my_starbuck = pd.read_csv(\"my_starbuck.csv\")\n",
        "\n",
        "#Splitting to train and test files\n",
        "train, test = train_test_split(\n",
        "    my_starbuck, test_size=0.25, random_state=42\n",
        ")\n",
        "print(train.shape, test.shape)"
      ]
    },
    {
      "cell_type": "code",
      "source": [
        "for col in ['text', 'author', 'headline', 'named_entities_claim', 'named_entities_article', 'keywords', ]:\n",
        "  claimskg[col] = claimskg[col].astype('string')\n",
        "claimskg.info()"
      ],
      "metadata": {
        "colab": {
          "base_uri": "https://localhost:8080/"
        },
        "id": "aXHm3o5FWzJB",
        "outputId": "4251453a-e630-4180-f247-c5624e1c6a96"
      },
      "execution_count": null,
      "outputs": [
        {
          "output_type": "stream",
          "name": "stdout",
          "text": [
            "<class 'pandas.core.frame.DataFrame'>\n",
            "RangeIndex: 24452 entries, 0 to 24451\n",
            "Data columns (total 18 columns):\n",
            " #   Column                  Non-Null Count  Dtype \n",
            "---  ------                  --------------  ----- \n",
            " 0   id                      24452 non-null  object\n",
            " 1   text                    24452 non-null  string\n",
            " 2   date                    24452 non-null  object\n",
            " 3   truthRating             24452 non-null  int64 \n",
            " 4   ratingName              24452 non-null  object\n",
            " 5   author                  24452 non-null  string\n",
            " 6   headline                24452 non-null  string\n",
            " 7   named_entities_claim    24421 non-null  string\n",
            " 8   named_entities_article  15340 non-null  string\n",
            " 9   keywords                23162 non-null  string\n",
            " 10  link                    24452 non-null  object\n",
            " 11  language                24452 non-null  object\n",
            " 12  politifact              24452 non-null  int64 \n",
            " 13  snopes                  24452 non-null  int64 \n",
            " 14  africacheck             24452 non-null  int64 \n",
            " 15  truthorfiction          24452 non-null  int64 \n",
            " 16  factscan                24452 non-null  int64 \n",
            " 17  checkyourfact           24452 non-null  int64 \n",
            "dtypes: int64(7), object(5), string(6)\n",
            "memory usage: 3.4+ MB\n"
          ]
        }
      ]
    },
    {
      "cell_type": "code",
      "source": [
        "\n",
        "#Splitting to train and test files\n",
        "train, test = train_test_split(\n",
        "    claimskg, test_size=0.25, random_state=42\n",
        ")\n",
        "print(train.shape, test.shape)"
      ],
      "metadata": {
        "colab": {
          "base_uri": "https://localhost:8080/"
        },
        "id": "AItWwNkjNHP0",
        "outputId": "d60f957c-0a79-4f31-f3ac-36ae19ac9f47"
      },
      "execution_count": null,
      "outputs": [
        {
          "output_type": "stream",
          "name": "stdout",
          "text": [
            "(18339, 18) (6113, 18)\n"
          ]
        }
      ]
    },
    {
      "cell_type": "code",
      "execution_count": null,
      "metadata": {
        "colab": {
          "base_uri": "https://localhost:8080/"
        },
        "id": "8pDQr-meoVEW",
        "outputId": "610c6ec4-d1b2-4811-a512-4cf46a8ee3d3"
      },
      "outputs": [
        {
          "output_type": "stream",
          "name": "stderr",
          "text": [
            "Warning: path already exists! This predictor may overwrite an existing predictor! path=\"kg_models\"\n",
            "Presets specified: ['best_quality']\n",
            "Beginning AutoGluon training ... Time limit = 600s\n",
            "AutoGluon will save models to \"kg_models/\"\n",
            "AutoGluon Version:  0.3.1\n",
            "Train Data Rows:    18339\n",
            "Train Data Columns: 17\n",
            "Preprocessing data ...\n",
            "Train Data Class Count: 3\n",
            "Using Feature Generators to preprocess the data ...\n",
            "Dropping user-specified ignored columns: ['ratingName', 'id', 'language', 'link']\n",
            "Fitting AutoMLPipelineFeatureGenerator...\n",
            "Warning: dtype string is not recognized as a valid dtype by numpy! AutoGluon may incorrectly handle this feature...\n",
            "Cannot interpret 'string[python]' as a data type\n",
            "Warning: dtype string is not recognized as a valid dtype by numpy! AutoGluon may incorrectly handle this feature...\n",
            "Cannot interpret 'string[python]' as a data type\n",
            "Warning: dtype string is not recognized as a valid dtype by numpy! AutoGluon may incorrectly handle this feature...\n",
            "Cannot interpret 'string[python]' as a data type\n",
            "Warning: dtype string is not recognized as a valid dtype by numpy! AutoGluon may incorrectly handle this feature...\n",
            "Cannot interpret 'string[python]' as a data type\n",
            "Warning: dtype string is not recognized as a valid dtype by numpy! AutoGluon may incorrectly handle this feature...\n",
            "Cannot interpret 'string[python]' as a data type\n",
            "Warning: dtype string is not recognized as a valid dtype by numpy! AutoGluon may incorrectly handle this feature...\n",
            "Cannot interpret 'string[python]' as a data type\n",
            "\tAvailable Memory:                    10994.55 MB\n",
            "\tTrain Data (Original)  Memory Usage: 20.04 MB (0.2% of available memory)\n",
            "\tInferring data type of each feature based on column values. Set feature_metadata_in to manually specify special dtypes of the features.\n",
            "Warning: dtype string is not recognized as a valid dtype by numpy! AutoGluon may incorrectly handle this feature...\n",
            "Cannot interpret 'string[python]' as a data type\n",
            "Warning: dtype string is not recognized as a valid dtype by numpy! AutoGluon may incorrectly handle this feature...\n",
            "Cannot interpret 'string[python]' as a data type\n",
            "Warning: dtype string is not recognized as a valid dtype by numpy! AutoGluon may incorrectly handle this feature...\n",
            "Cannot interpret 'string[python]' as a data type\n",
            "Warning: dtype string is not recognized as a valid dtype by numpy! AutoGluon may incorrectly handle this feature...\n",
            "Cannot interpret 'string[python]' as a data type\n",
            "Warning: dtype string is not recognized as a valid dtype by numpy! AutoGluon may incorrectly handle this feature...\n",
            "Cannot interpret 'string[python]' as a data type\n",
            "Warning: dtype string is not recognized as a valid dtype by numpy! AutoGluon may incorrectly handle this feature...\n",
            "Cannot interpret 'string[python]' as a data type\n",
            "Warning: dtype string is not recognized as a valid dtype by numpy! AutoGluon may incorrectly handle this feature...\n",
            "Cannot interpret 'string[python]' as a data type\n",
            "Warning: dtype string is not recognized as a valid dtype by numpy! AutoGluon may incorrectly handle this feature...\n",
            "Cannot interpret 'string[python]' as a data type\n",
            "Warning: dtype string is not recognized as a valid dtype by numpy! AutoGluon may incorrectly handle this feature...\n",
            "Cannot interpret 'string[python]' as a data type\n",
            "Warning: dtype string is not recognized as a valid dtype by numpy! AutoGluon may incorrectly handle this feature...\n",
            "Cannot interpret 'string[python]' as a data type\n",
            "Warning: dtype string is not recognized as a valid dtype by numpy! AutoGluon may incorrectly handle this feature...\n",
            "Cannot interpret 'string[python]' as a data type\n",
            "Warning: dtype string is not recognized as a valid dtype by numpy! AutoGluon may incorrectly handle this feature...\n",
            "Cannot interpret 'string[python]' as a data type\n",
            "Warning: dtype string is not recognized as a valid dtype by numpy! AutoGluon may incorrectly handle this feature...\n",
            "Cannot interpret 'string[python]' as a data type\n",
            "Warning: dtype string is not recognized as a valid dtype by numpy! AutoGluon may incorrectly handle this feature...\n",
            "Cannot interpret 'string[python]' as a data type\n",
            "Warning: dtype string is not recognized as a valid dtype by numpy! AutoGluon may incorrectly handle this feature...\n",
            "Cannot interpret 'string[python]' as a data type\n",
            "Warning: dtype string is not recognized as a valid dtype by numpy! AutoGluon may incorrectly handle this feature...\n",
            "Cannot interpret 'string[python]' as a data type\n",
            "Warning: dtype string is not recognized as a valid dtype by numpy! AutoGluon may incorrectly handle this feature...\n",
            "Cannot interpret 'string[python]' as a data type\n",
            "Warning: dtype string is not recognized as a valid dtype by numpy! AutoGluon may incorrectly handle this feature...\n",
            "Cannot interpret 'string[python]' as a data type\n",
            "\tStage 1 Generators:\n",
            "\t\tFitting AsTypeFeatureGenerator...\n",
            "Warning: dtype string is not recognized as a valid dtype by numpy! AutoGluon may incorrectly handle this feature...\n",
            "Cannot interpret 'string[python]' as a data type\n",
            "Warning: dtype string is not recognized as a valid dtype by numpy! AutoGluon may incorrectly handle this feature...\n",
            "Cannot interpret 'string[python]' as a data type\n",
            "Warning: dtype string is not recognized as a valid dtype by numpy! AutoGluon may incorrectly handle this feature...\n",
            "Cannot interpret 'string[python]' as a data type\n",
            "Warning: dtype string is not recognized as a valid dtype by numpy! AutoGluon may incorrectly handle this feature...\n",
            "Cannot interpret 'string[python]' as a data type\n",
            "Warning: dtype string is not recognized as a valid dtype by numpy! AutoGluon may incorrectly handle this feature...\n",
            "Cannot interpret 'string[python]' as a data type\n",
            "Warning: dtype string is not recognized as a valid dtype by numpy! AutoGluon may incorrectly handle this feature...\n",
            "Cannot interpret 'string[python]' as a data type\n",
            "\t\t\tNote: Converting 6 features to boolean dtype as they only contain 2 unique values.\n",
            "Warning: dtype string is not recognized as a valid dtype by numpy! AutoGluon may incorrectly handle this feature...\n",
            "Cannot interpret 'string[python]' as a data type\n",
            "Warning: dtype string is not recognized as a valid dtype by numpy! AutoGluon may incorrectly handle this feature...\n",
            "Cannot interpret 'string[python]' as a data type\n",
            "Warning: dtype string is not recognized as a valid dtype by numpy! AutoGluon may incorrectly handle this feature...\n",
            "Cannot interpret 'string[python]' as a data type\n",
            "Warning: dtype string is not recognized as a valid dtype by numpy! AutoGluon may incorrectly handle this feature...\n",
            "Cannot interpret 'string[python]' as a data type\n",
            "Warning: dtype string is not recognized as a valid dtype by numpy! AutoGluon may incorrectly handle this feature...\n",
            "Cannot interpret 'string[python]' as a data type\n",
            "Warning: dtype string is not recognized as a valid dtype by numpy! AutoGluon may incorrectly handle this feature...\n",
            "Cannot interpret 'string[python]' as a data type\n",
            "\tStage 2 Generators:\n",
            "\t\tFitting FillNaFeatureGenerator...\n",
            "Warning: dtype string is not recognized as a valid dtype by numpy! AutoGluon may incorrectly handle this feature...\n",
            "Cannot interpret 'string[python]' as a data type\n",
            "Warning: dtype string is not recognized as a valid dtype by numpy! AutoGluon may incorrectly handle this feature...\n",
            "Cannot interpret 'string[python]' as a data type\n",
            "Warning: dtype string is not recognized as a valid dtype by numpy! AutoGluon may incorrectly handle this feature...\n",
            "Cannot interpret 'string[python]' as a data type\n",
            "Warning: dtype string is not recognized as a valid dtype by numpy! AutoGluon may incorrectly handle this feature...\n",
            "Cannot interpret 'string[python]' as a data type\n",
            "Warning: dtype string is not recognized as a valid dtype by numpy! AutoGluon may incorrectly handle this feature...\n",
            "Cannot interpret 'string[python]' as a data type\n",
            "Warning: dtype string is not recognized as a valid dtype by numpy! AutoGluon may incorrectly handle this feature...\n",
            "Cannot interpret 'string[python]' as a data type\n",
            "\tStage 3 Generators:\n",
            "\t\tFitting IdentityFeatureGenerator...\n",
            "\t\tFitting CategoryFeatureGenerator...\n",
            "\t\t\tFitting CategoryMemoryMinimizeFeatureGenerator...\n",
            "\t\tFitting DatetimeFeatureGenerator...\n",
            "\t\tFitting TextSpecialFeatureGenerator...\n",
            "\t\t\tFitting BinnedFeatureGenerator...\n",
            "\t\t\tFitting DropDuplicatesFeatureGenerator...\n",
            "\t\tFitting TextNgramFeatureGenerator...\n",
            "\t\t\tFitting CountVectorizer for text features: ['text', 'headline', 'named_entities_claim', 'keywords']\n",
            "\t\t\tCountVectorizer fit with vocabulary size = 7356\n",
            "\t\tWarning: Due to memory constraints, ngram feature count is being reduced. Allocate more memory to maximize model quality.\n",
            "\t\tReducing Vectorizer vocab size from 7356 to 1597 to avoid OOM error\n",
            "\tStage 4 Generators:\n",
            "\t\tFitting DropUniqueFeatureGenerator...\n",
            "\tTypes of features in original data (raw dtype, special dtypes):\n",
            "\t\t('int', [])                        : 6 | ['politifact', 'snopes', 'africacheck', 'truthorfiction', 'factscan', ...]\n",
            "\t\t('object', [])                     : 2 | ['author', 'named_entities_article']\n",
            "\t\t('object', ['datetime_as_object']) : 1 | ['date']\n",
            "\t\t('object', ['text'])               : 4 | ['text', 'headline', 'named_entities_claim', 'keywords']\n",
            "\tTypes of features in processed data (raw dtype, special dtypes):\n",
            "\t\t('category', [])                    :    2 | ['author', 'named_entities_article']\n",
            "\t\t('category', ['text_as_category'])  :    4 | ['text', 'headline', 'named_entities_claim', 'keywords']\n",
            "\t\t('int', ['binned', 'text_special']) :   68 | ['text.char_count', 'text.word_count', 'text.capital_ratio', 'text.lower_ratio', 'text.digit_ratio', ...]\n",
            "\t\t('int', ['bool'])                   :    6 | ['politifact', 'snopes', 'africacheck', 'truthorfiction', 'factscan', ...]\n",
            "\t\t('int', ['datetime_as_int'])        :    1 | ['date']\n",
            "\t\t('int', ['text_ngram'])             : 1598 | ['__nlp__.000', '__nlp__.10', '__nlp__.100', '__nlp__.11', '__nlp__.12', ...]\n",
            "\t27.4s = Fit runtime\n",
            "\t13 features in original data used to generate 1679 features in processed data.\n",
            "\tTrain Data (Processed) Memory Usage: 60.28 MB (0.5% of available memory)\n",
            "Data preprocessing and feature engineering runtime = 27.99s ...\n",
            "AutoGluon will gauge predictive performance using evaluation metric: 'accuracy'\n",
            "\tTo change this, specify the eval_metric argument of fit()\n",
            "AutoGluon will fit 2 stack levels (L1 to L2) ...\n",
            "Fitting 13 L1 models ...\n",
            "Fitting model: KNeighborsUnif_BAG_L1 ... Training model for up to 381.25s of the 571.98s of remaining time.\n",
            "\tNo valid features to train KNeighborsUnif_BAG_L1... Skipping this model.\n",
            "Fitting model: KNeighborsDist_BAG_L1 ... Training model for up to 381.1s of the 571.84s of remaining time.\n",
            "\tNo valid features to train KNeighborsDist_BAG_L1... Skipping this model.\n",
            "Fitting model: NeuralNetFastAI_BAG_L1 ... Training model for up to 380.96s of the 571.7s of remaining time.\n",
            "\tTime limit exceeded... Skipping NeuralNetFastAI_BAG_L1.\n",
            "Fitting model: LightGBMXT_BAG_L1 ... Training model for up to 364.25s of the 554.98s of remaining time.\n",
            "/usr/local/lib/python3.7/dist-packages/lightgbm/engine.py:239: UserWarning: 'verbose_eval' argument is deprecated and will be removed in a future release of LightGBM. Pass 'log_evaluation()' callback via 'callbacks' argument instead.\n",
            "  _log_warning(\"'verbose_eval' argument is deprecated and will be removed in a future release of LightGBM. \"\n",
            "/usr/local/lib/python3.7/dist-packages/lightgbm/engine.py:239: UserWarning: 'verbose_eval' argument is deprecated and will be removed in a future release of LightGBM. Pass 'log_evaluation()' callback via 'callbacks' argument instead.\n",
            "  _log_warning(\"'verbose_eval' argument is deprecated and will be removed in a future release of LightGBM. \"\n",
            "/usr/local/lib/python3.7/dist-packages/lightgbm/engine.py:239: UserWarning: 'verbose_eval' argument is deprecated and will be removed in a future release of LightGBM. Pass 'log_evaluation()' callback via 'callbacks' argument instead.\n",
            "  _log_warning(\"'verbose_eval' argument is deprecated and will be removed in a future release of LightGBM. \"\n",
            "/usr/local/lib/python3.7/dist-packages/lightgbm/engine.py:239: UserWarning: 'verbose_eval' argument is deprecated and will be removed in a future release of LightGBM. Pass 'log_evaluation()' callback via 'callbacks' argument instead.\n",
            "  _log_warning(\"'verbose_eval' argument is deprecated and will be removed in a future release of LightGBM. \"\n",
            "/usr/local/lib/python3.7/dist-packages/lightgbm/engine.py:239: UserWarning: 'verbose_eval' argument is deprecated and will be removed in a future release of LightGBM. Pass 'log_evaluation()' callback via 'callbacks' argument instead.\n",
            "  _log_warning(\"'verbose_eval' argument is deprecated and will be removed in a future release of LightGBM. \"\n",
            "/usr/local/lib/python3.7/dist-packages/lightgbm/engine.py:239: UserWarning: 'verbose_eval' argument is deprecated and will be removed in a future release of LightGBM. Pass 'log_evaluation()' callback via 'callbacks' argument instead.\n",
            "  _log_warning(\"'verbose_eval' argument is deprecated and will be removed in a future release of LightGBM. \"\n",
            "/usr/local/lib/python3.7/dist-packages/lightgbm/engine.py:239: UserWarning: 'verbose_eval' argument is deprecated and will be removed in a future release of LightGBM. Pass 'log_evaluation()' callback via 'callbacks' argument instead.\n",
            "  _log_warning(\"'verbose_eval' argument is deprecated and will be removed in a future release of LightGBM. \"\n",
            "/usr/local/lib/python3.7/dist-packages/lightgbm/engine.py:239: UserWarning: 'verbose_eval' argument is deprecated and will be removed in a future release of LightGBM. Pass 'log_evaluation()' callback via 'callbacks' argument instead.\n",
            "  _log_warning(\"'verbose_eval' argument is deprecated and will be removed in a future release of LightGBM. \"\n",
            "/usr/local/lib/python3.7/dist-packages/lightgbm/engine.py:239: UserWarning: 'verbose_eval' argument is deprecated and will be removed in a future release of LightGBM. Pass 'log_evaluation()' callback via 'callbacks' argument instead.\n",
            "  _log_warning(\"'verbose_eval' argument is deprecated and will be removed in a future release of LightGBM. \"\n",
            "/usr/local/lib/python3.7/dist-packages/lightgbm/engine.py:239: UserWarning: 'verbose_eval' argument is deprecated and will be removed in a future release of LightGBM. Pass 'log_evaluation()' callback via 'callbacks' argument instead.\n",
            "  _log_warning(\"'verbose_eval' argument is deprecated and will be removed in a future release of LightGBM. \"\n",
            "\t0.6422\t = Validation score   (accuracy)\n",
            "\t111.42s\t = Training   runtime\n",
            "\t2.3s\t = Validation runtime\n",
            "Fitting model: LightGBM_BAG_L1 ... Training model for up to 248.59s of the 439.32s of remaining time.\n",
            "/usr/local/lib/python3.7/dist-packages/lightgbm/engine.py:239: UserWarning: 'verbose_eval' argument is deprecated and will be removed in a future release of LightGBM. Pass 'log_evaluation()' callback via 'callbacks' argument instead.\n",
            "  _log_warning(\"'verbose_eval' argument is deprecated and will be removed in a future release of LightGBM. \"\n",
            "/usr/local/lib/python3.7/dist-packages/lightgbm/engine.py:239: UserWarning: 'verbose_eval' argument is deprecated and will be removed in a future release of LightGBM. Pass 'log_evaluation()' callback via 'callbacks' argument instead.\n",
            "  _log_warning(\"'verbose_eval' argument is deprecated and will be removed in a future release of LightGBM. \"\n",
            "/usr/local/lib/python3.7/dist-packages/lightgbm/engine.py:239: UserWarning: 'verbose_eval' argument is deprecated and will be removed in a future release of LightGBM. Pass 'log_evaluation()' callback via 'callbacks' argument instead.\n",
            "  _log_warning(\"'verbose_eval' argument is deprecated and will be removed in a future release of LightGBM. \"\n",
            "/usr/local/lib/python3.7/dist-packages/lightgbm/engine.py:239: UserWarning: 'verbose_eval' argument is deprecated and will be removed in a future release of LightGBM. Pass 'log_evaluation()' callback via 'callbacks' argument instead.\n",
            "  _log_warning(\"'verbose_eval' argument is deprecated and will be removed in a future release of LightGBM. \"\n",
            "/usr/local/lib/python3.7/dist-packages/lightgbm/engine.py:239: UserWarning: 'verbose_eval' argument is deprecated and will be removed in a future release of LightGBM. Pass 'log_evaluation()' callback via 'callbacks' argument instead.\n",
            "  _log_warning(\"'verbose_eval' argument is deprecated and will be removed in a future release of LightGBM. \"\n",
            "/usr/local/lib/python3.7/dist-packages/lightgbm/engine.py:239: UserWarning: 'verbose_eval' argument is deprecated and will be removed in a future release of LightGBM. Pass 'log_evaluation()' callback via 'callbacks' argument instead.\n",
            "  _log_warning(\"'verbose_eval' argument is deprecated and will be removed in a future release of LightGBM. \"\n",
            "/usr/local/lib/python3.7/dist-packages/lightgbm/engine.py:239: UserWarning: 'verbose_eval' argument is deprecated and will be removed in a future release of LightGBM. Pass 'log_evaluation()' callback via 'callbacks' argument instead.\n",
            "  _log_warning(\"'verbose_eval' argument is deprecated and will be removed in a future release of LightGBM. \"\n",
            "/usr/local/lib/python3.7/dist-packages/lightgbm/engine.py:239: UserWarning: 'verbose_eval' argument is deprecated and will be removed in a future release of LightGBM. Pass 'log_evaluation()' callback via 'callbacks' argument instead.\n",
            "  _log_warning(\"'verbose_eval' argument is deprecated and will be removed in a future release of LightGBM. \"\n",
            "/usr/local/lib/python3.7/dist-packages/lightgbm/engine.py:239: UserWarning: 'verbose_eval' argument is deprecated and will be removed in a future release of LightGBM. Pass 'log_evaluation()' callback via 'callbacks' argument instead.\n",
            "  _log_warning(\"'verbose_eval' argument is deprecated and will be removed in a future release of LightGBM. \"\n",
            "/usr/local/lib/python3.7/dist-packages/lightgbm/engine.py:239: UserWarning: 'verbose_eval' argument is deprecated and will be removed in a future release of LightGBM. Pass 'log_evaluation()' callback via 'callbacks' argument instead.\n",
            "  _log_warning(\"'verbose_eval' argument is deprecated and will be removed in a future release of LightGBM. \"\n",
            "\t0.6377\t = Validation score   (accuracy)\n",
            "\t114.6s\t = Training   runtime\n",
            "\t1.85s\t = Validation runtime\n",
            "Fitting model: RandomForestGini_BAG_L1 ... Training model for up to 130.61s of the 321.35s of remaining time.\n",
            "\t0.624\t = Validation score   (accuracy)\n",
            "\t50.58s\t = Training   runtime\n",
            "\t34.02s\t = Validation runtime\n",
            "Fitting model: RandomForestEntr_BAG_L1 ... Training model for up to 43.74s of the 234.48s of remaining time.\n",
            "\tWarning: Reducing model 'n_estimators' from 300 -> 234 due to low time. Expected time usage reduced from 55.7s -> 43.7s...\n",
            "\t0.6225\t = Validation score   (accuracy)\n",
            "\t38.92s\t = Training   runtime\n",
            "\t27.54s\t = Validation runtime\n",
            "Completed 1/20 k-fold bagging repeats ...\n",
            "Fitting model: WeightedEnsemble_L2 ... Training model for up to 360.0s of the 165.01s of remaining time.\n",
            "\t0.6422\t = Validation score   (accuracy)\n",
            "\t4.18s\t = Training   runtime\n",
            "\t0.0s\t = Validation runtime\n",
            "Fitting 11 L2 models ...\n",
            "Fitting model: NeuralNetFastAI_BAG_L2 ... Training model for up to 160.76s of the 160.53s of remaining time.\n",
            "\tTime limit exceeded... Skipping NeuralNetFastAI_BAG_L2.\n",
            "Fitting model: LightGBMXT_BAG_L2 ... Training model for up to 134.15s of the 133.92s of remaining time.\n",
            "/usr/local/lib/python3.7/dist-packages/lightgbm/engine.py:239: UserWarning: 'verbose_eval' argument is deprecated and will be removed in a future release of LightGBM. Pass 'log_evaluation()' callback via 'callbacks' argument instead.\n",
            "  _log_warning(\"'verbose_eval' argument is deprecated and will be removed in a future release of LightGBM. \"\n",
            "\tRan out of time, early stopping on iteration 102. Best iteration is:\n",
            "\t[35]\ttrain_set's multi_error: 0.343956\tvalid_set's multi_error: 0.353326\n",
            "/usr/local/lib/python3.7/dist-packages/lightgbm/engine.py:239: UserWarning: 'verbose_eval' argument is deprecated and will be removed in a future release of LightGBM. Pass 'log_evaluation()' callback via 'callbacks' argument instead.\n",
            "  _log_warning(\"'verbose_eval' argument is deprecated and will be removed in a future release of LightGBM. \"\n",
            "/usr/local/lib/python3.7/dist-packages/lightgbm/engine.py:239: UserWarning: 'verbose_eval' argument is deprecated and will be removed in a future release of LightGBM. Pass 'log_evaluation()' callback via 'callbacks' argument instead.\n",
            "  _log_warning(\"'verbose_eval' argument is deprecated and will be removed in a future release of LightGBM. \"\n",
            "/usr/local/lib/python3.7/dist-packages/lightgbm/engine.py:239: UserWarning: 'verbose_eval' argument is deprecated and will be removed in a future release of LightGBM. Pass 'log_evaluation()' callback via 'callbacks' argument instead.\n",
            "  _log_warning(\"'verbose_eval' argument is deprecated and will be removed in a future release of LightGBM. \"\n",
            "\tRan out of time, early stopping on iteration 123. Best iteration is:\n",
            "\t[36]\ttrain_set's multi_error: 0.342623\tvalid_set's multi_error: 0.352781\n",
            "/usr/local/lib/python3.7/dist-packages/lightgbm/engine.py:239: UserWarning: 'verbose_eval' argument is deprecated and will be removed in a future release of LightGBM. Pass 'log_evaluation()' callback via 'callbacks' argument instead.\n",
            "  _log_warning(\"'verbose_eval' argument is deprecated and will be removed in a future release of LightGBM. \"\n",
            "/usr/local/lib/python3.7/dist-packages/lightgbm/engine.py:239: UserWarning: 'verbose_eval' argument is deprecated and will be removed in a future release of LightGBM. Pass 'log_evaluation()' callback via 'callbacks' argument instead.\n",
            "  _log_warning(\"'verbose_eval' argument is deprecated and will be removed in a future release of LightGBM. \"\n",
            "/usr/local/lib/python3.7/dist-packages/lightgbm/engine.py:239: UserWarning: 'verbose_eval' argument is deprecated and will be removed in a future release of LightGBM. Pass 'log_evaluation()' callback via 'callbacks' argument instead.\n",
            "  _log_warning(\"'verbose_eval' argument is deprecated and will be removed in a future release of LightGBM. \"\n",
            "/usr/local/lib/python3.7/dist-packages/lightgbm/engine.py:239: UserWarning: 'verbose_eval' argument is deprecated and will be removed in a future release of LightGBM. Pass 'log_evaluation()' callback via 'callbacks' argument instead.\n",
            "  _log_warning(\"'verbose_eval' argument is deprecated and will be removed in a future release of LightGBM. \"\n",
            "/usr/local/lib/python3.7/dist-packages/lightgbm/engine.py:239: UserWarning: 'verbose_eval' argument is deprecated and will be removed in a future release of LightGBM. Pass 'log_evaluation()' callback via 'callbacks' argument instead.\n",
            "  _log_warning(\"'verbose_eval' argument is deprecated and will be removed in a future release of LightGBM. \"\n",
            "/usr/local/lib/python3.7/dist-packages/lightgbm/engine.py:239: UserWarning: 'verbose_eval' argument is deprecated and will be removed in a future release of LightGBM. Pass 'log_evaluation()' callback via 'callbacks' argument instead.\n",
            "  _log_warning(\"'verbose_eval' argument is deprecated and will be removed in a future release of LightGBM. \"\n",
            "\t0.6424\t = Validation score   (accuracy)\n",
            "\t92.05s\t = Training   runtime\n",
            "\t1.16s\t = Validation runtime\n",
            "Fitting model: LightGBM_BAG_L2 ... Training model for up to 39.28s of the 39.12s of remaining time.\n",
            "/usr/local/lib/python3.7/dist-packages/lightgbm/engine.py:239: UserWarning: 'verbose_eval' argument is deprecated and will be removed in a future release of LightGBM. Pass 'log_evaluation()' callback via 'callbacks' argument instead.\n",
            "  _log_warning(\"'verbose_eval' argument is deprecated and will be removed in a future release of LightGBM. \"\n",
            "\tRan out of time, early stopping on iteration 19. Best iteration is:\n",
            "\t[16]\ttrain_set's multi_error: 0.346622\tvalid_set's multi_error: 0.359869\n",
            "\tTime limit exceeded... Skipping LightGBM_BAG_L2.\n",
            "Fitting model: RandomForestGini_BAG_L2 ... Training model for up to 34.46s of the 34.3s of remaining time.\n",
            "\tWarning: Reducing model 'n_estimators' from 300 -> 183 due to low time. Expected time usage reduced from 56.0s -> 34.5s...\n",
            "\t0.6398\t = Validation score   (accuracy)\n",
            "\t30.02s\t = Training   runtime\n",
            "\t25.76s\t = Validation runtime\n",
            "Completed 1/20 k-fold bagging repeats ...\n",
            "Fitting model: WeightedEnsemble_L3 ... Training model for up to 360.0s of the -24.17s of remaining time.\n",
            "\t0.6424\t = Validation score   (accuracy)\n",
            "\t1.09s\t = Training   runtime\n",
            "\t0.0s\t = Validation runtime\n",
            "AutoGluon training complete, total runtime = 625.59s ...\n",
            "TabularPredictor saved. To load, use: predictor = TabularPredictor.load(\"kg_models/\")\n"
          ]
        }
      ],
      "source": [
        "\n",
        "from autogluon.tabular import TabularPredictor\n",
        "\n",
        "#Training with Autogluon Tabular\n",
        "save_path = 'kg_models'\n",
        "predictor = TabularPredictor('truthRating', problem_type= 'multiclass', \n",
        "                                          path=save_path, learner_kwargs={'ignored_columns':['ratingName', 'id','language', 'link','date']} ).fit(train, time_limit=600, presets='best_quality')"
      ]
    },
    {
      "cell_type": "markdown",
      "metadata": {
        "id": "6LrqFFl0oVEW"
      },
      "source": [
        "## My Tabular predictor leaderboard"
      ]
    },
    {
      "cell_type": "code",
      "execution_count": null,
      "metadata": {
        "colab": {
          "base_uri": "https://localhost:8080/",
          "height": 1000
        },
        "id": "QrOZGuk9oVEX",
        "outputId": "b7b506a8-ec31-453d-b497-5bff393690da"
      },
      "outputs": [
        {
          "output_type": "execute_result",
          "data": {
            "text/html": [
              "\n",
              "  <div id=\"df-66357c4a-25df-41bd-9ae2-5b8696090197\">\n",
              "    <div class=\"colab-df-container\">\n",
              "      <div>\n",
              "<style scoped>\n",
              "    .dataframe tbody tr th:only-of-type {\n",
              "        vertical-align: middle;\n",
              "    }\n",
              "\n",
              "    .dataframe tbody tr th {\n",
              "        vertical-align: top;\n",
              "    }\n",
              "\n",
              "    .dataframe thead th {\n",
              "        text-align: right;\n",
              "    }\n",
              "</style>\n",
              "<table border=\"1\" class=\"dataframe\">\n",
              "  <thead>\n",
              "    <tr style=\"text-align: right;\">\n",
              "      <th></th>\n",
              "      <th>model</th>\n",
              "      <th>score_val</th>\n",
              "      <th>pred_time_val</th>\n",
              "      <th>fit_time</th>\n",
              "      <th>pred_time_val_marginal</th>\n",
              "      <th>fit_time_marginal</th>\n",
              "      <th>stack_level</th>\n",
              "      <th>can_infer</th>\n",
              "      <th>fit_order</th>\n",
              "      <th>num_features</th>\n",
              "      <th>num_models</th>\n",
              "      <th>num_models_w_ancestors</th>\n",
              "      <th>memory_size</th>\n",
              "      <th>memory_size_w_ancestors</th>\n",
              "      <th>memory_size_min</th>\n",
              "      <th>memory_size_min_w_ancestors</th>\n",
              "      <th>num_ancestors</th>\n",
              "      <th>num_descendants</th>\n",
              "      <th>model_type</th>\n",
              "      <th>child_model_type</th>\n",
              "      <th>hyperparameters</th>\n",
              "      <th>hyperparameters_fit</th>\n",
              "      <th>ag_args_fit</th>\n",
              "      <th>features</th>\n",
              "      <th>child_hyperparameters</th>\n",
              "      <th>child_hyperparameters_fit</th>\n",
              "      <th>child_ag_args_fit</th>\n",
              "      <th>ancestors</th>\n",
              "      <th>descendants</th>\n",
              "    </tr>\n",
              "  </thead>\n",
              "  <tbody>\n",
              "    <tr>\n",
              "      <th>0</th>\n",
              "      <td>LightGBMXT_BAG_L2</td>\n",
              "      <td>0.642401</td>\n",
              "      <td>66.866308</td>\n",
              "      <td>407.575410</td>\n",
              "      <td>1.163145</td>\n",
              "      <td>92.054415</td>\n",
              "      <td>2</td>\n",
              "      <td>True</td>\n",
              "      <td>6</td>\n",
              "      <td>1691</td>\n",
              "      <td>10</td>\n",
              "      <td>32</td>\n",
              "      <td>6483868</td>\n",
              "      <td>453031714</td>\n",
              "      <td>1545300</td>\n",
              "      <td>228045277</td>\n",
              "      <td>4</td>\n",
              "      <td>1</td>\n",
              "      <td>StackerEnsembleModel</td>\n",
              "      <td>LGBModel</td>\n",
              "      <td>{'use_orig_features': True, 'max_base_models': 25, 'max_base_models_per_type': 5, 'save_bag_folds': True}</td>\n",
              "      <td>{}</td>\n",
              "      <td>{'max_memory_usage_ratio': 1.0, 'max_time_limit_ratio': 1.0, 'max_time_limit': None, 'min_time_limit': 0, 'ignored_type_group_special': None, 'ignored_type_group_raw': None, 'get_features_kwargs': None, 'get_features_kwargs_extra': None, 'drop_unique': False}</td>\n",
              "      <td>[__nlp__.jeb bush, __nlp__.largest, __nlp__.prevention, __nlp__.check, __nlp__.trafficking, headline.symbol_ratio.., __nlp__.york university, __nlp__.republican republican, __nlp__.illinois, __nlp__.live, __nlp__.white house, __nlp__.super, __nlp__.oil, __nlp__.last, __nlp__.biden, __nlp__.the speech, __nlp__.red, __nlp__.agreement, __nlp__.attack, __nlp__.william, __nlp__.joint, __nlp__.term, __nlp__.clinton, __nlp__.asp, __nlp__.office, __nlp__.past, __nlp__.workers, __nlp__.study, headline.symbol_ratio.!, __nlp__.human, __nlp__.washington post, RandomForestEntr_BAG_L1_1, __nlp__.africa,...</td>\n",
              "      <td>{'num_boost_round': 10000, 'num_threads': -1, 'learning_rate': 0.05, 'objective': 'multiclass', 'verbose': -1, 'boosting_type': 'gbdt', 'two_round': True, 'extra_trees': True}</td>\n",
              "      <td>{'num_boost_round': 41}</td>\n",
              "      <td>{'max_memory_usage_ratio': 1.0, 'max_time_limit_ratio': 1.0, 'max_time_limit': None, 'min_time_limit': 0, 'ignored_type_group_special': None, 'ignored_type_group_raw': ['object'], 'get_features_kwargs': None, 'get_features_kwargs_extra': None}</td>\n",
              "      <td>[RandomForestGini_BAG_L1, LightGBMXT_BAG_L1, LightGBM_BAG_L1, RandomForestEntr_BAG_L1]</td>\n",
              "      <td>[WeightedEnsemble_L3]</td>\n",
              "    </tr>\n",
              "    <tr>\n",
              "      <th>1</th>\n",
              "      <td>WeightedEnsemble_L3</td>\n",
              "      <td>0.642401</td>\n",
              "      <td>66.868493</td>\n",
              "      <td>408.667719</td>\n",
              "      <td>0.002186</td>\n",
              "      <td>1.092308</td>\n",
              "      <td>3</td>\n",
              "      <td>True</td>\n",
              "      <td>8</td>\n",
              "      <td>3</td>\n",
              "      <td>1</td>\n",
              "      <td>33</td>\n",
              "      <td>3159</td>\n",
              "      <td>453034873</td>\n",
              "      <td>3159</td>\n",
              "      <td>228045277</td>\n",
              "      <td>5</td>\n",
              "      <td>0</td>\n",
              "      <td>WeightedEnsembleModel</td>\n",
              "      <td>GreedyWeightedEnsembleModel</td>\n",
              "      <td>{'use_orig_features': False, 'max_base_models': 25, 'max_base_models_per_type': 5, 'save_bag_folds': True}</td>\n",
              "      <td>{}</td>\n",
              "      <td>{'max_memory_usage_ratio': 1.0, 'max_time_limit_ratio': 1.0, 'max_time_limit': None, 'min_time_limit': 0, 'ignored_type_group_special': None, 'ignored_type_group_raw': None, 'get_features_kwargs': None, 'get_features_kwargs_extra': None, 'drop_unique': False}</td>\n",
              "      <td>[LightGBMXT_BAG_L2_2, LightGBMXT_BAG_L2_1, LightGBMXT_BAG_L2_0]</td>\n",
              "      <td>{'ensemble_size': 100}</td>\n",
              "      <td>{'ensemble_size': 1}</td>\n",
              "      <td>{'max_memory_usage_ratio': 1.0, 'max_time_limit_ratio': 1.0, 'max_time_limit': None, 'min_time_limit': 0, 'ignored_type_group_special': None, 'ignored_type_group_raw': None, 'get_features_kwargs': None, 'get_features_kwargs_extra': None, 'drop_unique': False}</td>\n",
              "      <td>[LightGBMXT_BAG_L2, RandomForestGini_BAG_L1, LightGBMXT_BAG_L1, RandomForestEntr_BAG_L1, LightGBM_BAG_L1]</td>\n",
              "      <td>[]</td>\n",
              "    </tr>\n",
              "    <tr>\n",
              "      <th>2</th>\n",
              "      <td>LightGBMXT_BAG_L1</td>\n",
              "      <td>0.642183</td>\n",
              "      <td>2.298393</td>\n",
              "      <td>111.418195</td>\n",
              "      <td>2.298393</td>\n",
              "      <td>111.418195</td>\n",
              "      <td>1</td>\n",
              "      <td>True</td>\n",
              "      <td>1</td>\n",
              "      <td>1679</td>\n",
              "      <td>10</td>\n",
              "      <td>10</td>\n",
              "      <td>21781231</td>\n",
              "      <td>21781231</td>\n",
              "      <td>4337878</td>\n",
              "      <td>4337878</td>\n",
              "      <td>0</td>\n",
              "      <td>4</td>\n",
              "      <td>StackerEnsembleModel</td>\n",
              "      <td>LGBModel</td>\n",
              "      <td>{'use_orig_features': True, 'max_base_models': 25, 'max_base_models_per_type': 5, 'save_bag_folds': True}</td>\n",
              "      <td>{}</td>\n",
              "      <td>{'max_memory_usage_ratio': 1.0, 'max_time_limit_ratio': 1.0, 'max_time_limit': None, 'min_time_limit': 0, 'ignored_type_group_special': None, 'ignored_type_group_raw': None, 'get_features_kwargs': None, 'get_features_kwargs_extra': None, 'drop_unique': False}</td>\n",
              "      <td>[__nlp__.jeb bush, __nlp__.largest, __nlp__.prevention, __nlp__.check, __nlp__.trafficking, headline.symbol_ratio.., __nlp__.york university, __nlp__.republican republican, __nlp__.illinois, __nlp__.live, __nlp__.white house, __nlp__.super, __nlp__.oil, __nlp__.last, __nlp__.biden, __nlp__.the speech, __nlp__.red, __nlp__.agreement, __nlp__.attack, __nlp__.william, __nlp__.joint, __nlp__.term, __nlp__.clinton, __nlp__.asp, __nlp__.office, __nlp__.past, __nlp__.workers, __nlp__.study, headline.symbol_ratio.!, __nlp__.human, __nlp__.washington post, __nlp__.africa, __nlp__.indiana, __nlp__.p...</td>\n",
              "      <td>{'num_boost_round': 10000, 'num_threads': -1, 'learning_rate': 0.05, 'objective': 'multiclass', 'verbose': -1, 'boosting_type': 'gbdt', 'two_round': True, 'extra_trees': True}</td>\n",
              "      <td>{'num_boost_round': 181}</td>\n",
              "      <td>{'max_memory_usage_ratio': 1.0, 'max_time_limit_ratio': 1.0, 'max_time_limit': None, 'min_time_limit': 0, 'ignored_type_group_special': None, 'ignored_type_group_raw': ['object'], 'get_features_kwargs': None, 'get_features_kwargs_extra': None}</td>\n",
              "      <td>[]</td>\n",
              "      <td>[WeightedEnsemble_L3, WeightedEnsemble_L2, LightGBMXT_BAG_L2, RandomForestGini_BAG_L2]</td>\n",
              "    </tr>\n",
              "    <tr>\n",
              "      <th>3</th>\n",
              "      <td>WeightedEnsemble_L2</td>\n",
              "      <td>0.642183</td>\n",
              "      <td>2.302022</td>\n",
              "      <td>115.598261</td>\n",
              "      <td>0.003629</td>\n",
              "      <td>4.180066</td>\n",
              "      <td>2</td>\n",
              "      <td>True</td>\n",
              "      <td>5</td>\n",
              "      <td>3</td>\n",
              "      <td>1</td>\n",
              "      <td>11</td>\n",
              "      <td>3677</td>\n",
              "      <td>21784908</td>\n",
              "      <td>3677</td>\n",
              "      <td>4337878</td>\n",
              "      <td>1</td>\n",
              "      <td>0</td>\n",
              "      <td>WeightedEnsembleModel</td>\n",
              "      <td>GreedyWeightedEnsembleModel</td>\n",
              "      <td>{'use_orig_features': False, 'max_base_models': 25, 'max_base_models_per_type': 5, 'save_bag_folds': True}</td>\n",
              "      <td>{}</td>\n",
              "      <td>{'max_memory_usage_ratio': 1.0, 'max_time_limit_ratio': 1.0, 'max_time_limit': None, 'min_time_limit': 0, 'ignored_type_group_special': None, 'ignored_type_group_raw': None, 'get_features_kwargs': None, 'get_features_kwargs_extra': None, 'drop_unique': False}</td>\n",
              "      <td>[LightGBMXT_BAG_L1_1, LightGBMXT_BAG_L1_2, LightGBMXT_BAG_L1_0]</td>\n",
              "      <td>{'ensemble_size': 100}</td>\n",
              "      <td>{'ensemble_size': 1}</td>\n",
              "      <td>{'max_memory_usage_ratio': 1.0, 'max_time_limit_ratio': 1.0, 'max_time_limit': None, 'min_time_limit': 0, 'ignored_type_group_special': None, 'ignored_type_group_raw': None, 'get_features_kwargs': None, 'get_features_kwargs_extra': None, 'drop_unique': False}</td>\n",
              "      <td>[LightGBMXT_BAG_L1]</td>\n",
              "      <td>[]</td>\n",
              "    </tr>\n",
              "    <tr>\n",
              "      <th>4</th>\n",
              "      <td>RandomForestGini_BAG_L2</td>\n",
              "      <td>0.639784</td>\n",
              "      <td>91.464218</td>\n",
              "      <td>345.542083</td>\n",
              "      <td>25.761055</td>\n",
              "      <td>30.021088</td>\n",
              "      <td>2</td>\n",
              "      <td>True</td>\n",
              "      <td>7</td>\n",
              "      <td>1691</td>\n",
              "      <td>1</td>\n",
              "      <td>23</td>\n",
              "      <td>124156182</td>\n",
              "      <td>570704028</td>\n",
              "      <td>124156182</td>\n",
              "      <td>228045277</td>\n",
              "      <td>4</td>\n",
              "      <td>0</td>\n",
              "      <td>StackerEnsembleModel</td>\n",
              "      <td>RFModel</td>\n",
              "      <td>{'use_orig_features': True, 'max_base_models': 25, 'max_base_models_per_type': 5, 'save_bag_folds': True, 'use_child_oof': True}</td>\n",
              "      <td>{}</td>\n",
              "      <td>{'max_memory_usage_ratio': 1.0, 'max_time_limit_ratio': 1.0, 'max_time_limit': None, 'min_time_limit': 0, 'ignored_type_group_special': None, 'ignored_type_group_raw': None, 'get_features_kwargs': None, 'get_features_kwargs_extra': None, 'drop_unique': False}</td>\n",
              "      <td>[__nlp__.jeb bush, __nlp__.largest, __nlp__.prevention, __nlp__.check, __nlp__.trafficking, headline.symbol_ratio.., __nlp__.york university, __nlp__.republican republican, __nlp__.illinois, __nlp__.live, __nlp__.white house, __nlp__.super, __nlp__.oil, __nlp__.last, __nlp__.biden, __nlp__.the speech, __nlp__.red, __nlp__.agreement, __nlp__.attack, __nlp__.william, __nlp__.joint, __nlp__.term, __nlp__.clinton, __nlp__.asp, __nlp__.office, __nlp__.past, __nlp__.workers, __nlp__.study, headline.symbol_ratio.!, __nlp__.human, __nlp__.washington post, RandomForestEntr_BAG_L1_1, __nlp__.africa,...</td>\n",
              "      <td>{'n_estimators': 300, 'n_jobs': -1, 'random_state': 0, 'bootstrap': True, 'criterion': 'gini'}</td>\n",
              "      <td>{'n_estimators': 183}</td>\n",
              "      <td>{'max_memory_usage_ratio': 1.0, 'max_time_limit_ratio': 1.0, 'max_time_limit': None, 'min_time_limit': 0, 'ignored_type_group_special': None, 'ignored_type_group_raw': ['object'], 'get_features_kwargs': None, 'get_features_kwargs_extra': None}</td>\n",
              "      <td>[RandomForestGini_BAG_L1, LightGBMXT_BAG_L1, LightGBM_BAG_L1, RandomForestEntr_BAG_L1]</td>\n",
              "      <td>[]</td>\n",
              "    </tr>\n",
              "    <tr>\n",
              "      <th>5</th>\n",
              "      <td>LightGBM_BAG_L1</td>\n",
              "      <td>0.637712</td>\n",
              "      <td>1.852650</td>\n",
              "      <td>114.598322</td>\n",
              "      <td>1.852650</td>\n",
              "      <td>114.598322</td>\n",
              "      <td>1</td>\n",
              "      <td>True</td>\n",
              "      <td>2</td>\n",
              "      <td>1679</td>\n",
              "      <td>10</td>\n",
              "      <td>10</td>\n",
              "      <td>15124247</td>\n",
              "      <td>15124247</td>\n",
              "      <td>2369349</td>\n",
              "      <td>2369349</td>\n",
              "      <td>0</td>\n",
              "      <td>3</td>\n",
              "      <td>StackerEnsembleModel</td>\n",
              "      <td>LGBModel</td>\n",
              "      <td>{'use_orig_features': True, 'max_base_models': 25, 'max_base_models_per_type': 5, 'save_bag_folds': True}</td>\n",
              "      <td>{}</td>\n",
              "      <td>{'max_memory_usage_ratio': 1.0, 'max_time_limit_ratio': 1.0, 'max_time_limit': None, 'min_time_limit': 0, 'ignored_type_group_special': None, 'ignored_type_group_raw': None, 'get_features_kwargs': None, 'get_features_kwargs_extra': None, 'drop_unique': False}</td>\n",
              "      <td>[__nlp__.jeb bush, __nlp__.largest, __nlp__.prevention, __nlp__.check, __nlp__.trafficking, headline.symbol_ratio.., __nlp__.york university, __nlp__.republican republican, __nlp__.illinois, __nlp__.live, __nlp__.white house, __nlp__.super, __nlp__.oil, __nlp__.last, __nlp__.biden, __nlp__.the speech, __nlp__.red, __nlp__.agreement, __nlp__.attack, __nlp__.william, __nlp__.joint, __nlp__.term, __nlp__.clinton, __nlp__.asp, __nlp__.office, __nlp__.past, __nlp__.workers, __nlp__.study, headline.symbol_ratio.!, __nlp__.human, __nlp__.washington post, __nlp__.africa, __nlp__.indiana, __nlp__.p...</td>\n",
              "      <td>{'num_boost_round': 10000, 'num_threads': -1, 'learning_rate': 0.05, 'objective': 'multiclass', 'verbose': -1, 'boosting_type': 'gbdt', 'two_round': True}</td>\n",
              "      <td>{'num_boost_round': 108}</td>\n",
              "      <td>{'max_memory_usage_ratio': 1.0, 'max_time_limit_ratio': 1.0, 'max_time_limit': None, 'min_time_limit': 0, 'ignored_type_group_special': None, 'ignored_type_group_raw': ['object'], 'get_features_kwargs': None, 'get_features_kwargs_extra': None}</td>\n",
              "      <td>[]</td>\n",
              "      <td>[WeightedEnsemble_L3, LightGBMXT_BAG_L2, RandomForestGini_BAG_L2]</td>\n",
              "    </tr>\n",
              "    <tr>\n",
              "      <th>6</th>\n",
              "      <td>RandomForestGini_BAG_L1</td>\n",
              "      <td>0.623971</td>\n",
              "      <td>34.016435</td>\n",
              "      <td>50.581118</td>\n",
              "      <td>34.016435</td>\n",
              "      <td>50.581118</td>\n",
              "      <td>1</td>\n",
              "      <td>True</td>\n",
              "      <td>3</td>\n",
              "      <td>1679</td>\n",
              "      <td>1</td>\n",
              "      <td>1</td>\n",
              "      <td>228045277</td>\n",
              "      <td>228045277</td>\n",
              "      <td>228045277</td>\n",
              "      <td>228045277</td>\n",
              "      <td>0</td>\n",
              "      <td>3</td>\n",
              "      <td>StackerEnsembleModel</td>\n",
              "      <td>RFModel</td>\n",
              "      <td>{'use_orig_features': True, 'max_base_models': 25, 'max_base_models_per_type': 5, 'save_bag_folds': True, 'use_child_oof': True}</td>\n",
              "      <td>{}</td>\n",
              "      <td>{'max_memory_usage_ratio': 1.0, 'max_time_limit_ratio': 1.0, 'max_time_limit': None, 'min_time_limit': 0, 'ignored_type_group_special': None, 'ignored_type_group_raw': None, 'get_features_kwargs': None, 'get_features_kwargs_extra': None, 'drop_unique': False}</td>\n",
              "      <td>[__nlp__.jeb bush, __nlp__.largest, __nlp__.prevention, __nlp__.check, __nlp__.trafficking, headline.symbol_ratio.., __nlp__.york university, __nlp__.republican republican, __nlp__.illinois, __nlp__.live, __nlp__.white house, __nlp__.super, __nlp__.oil, __nlp__.last, __nlp__.biden, __nlp__.the speech, __nlp__.red, __nlp__.agreement, __nlp__.attack, __nlp__.william, __nlp__.joint, __nlp__.term, __nlp__.clinton, __nlp__.asp, __nlp__.office, __nlp__.past, __nlp__.workers, __nlp__.study, headline.symbol_ratio.!, __nlp__.human, __nlp__.washington post, __nlp__.africa, __nlp__.indiana, __nlp__.p...</td>\n",
              "      <td>{'n_estimators': 300, 'n_jobs': -1, 'random_state': 0, 'bootstrap': True, 'criterion': 'gini'}</td>\n",
              "      <td>{'n_estimators': 300}</td>\n",
              "      <td>{'max_memory_usage_ratio': 1.0, 'max_time_limit_ratio': 1.0, 'max_time_limit': None, 'min_time_limit': 0, 'ignored_type_group_special': None, 'ignored_type_group_raw': ['object'], 'get_features_kwargs': None, 'get_features_kwargs_extra': None}</td>\n",
              "      <td>[]</td>\n",
              "      <td>[WeightedEnsemble_L3, LightGBMXT_BAG_L2, RandomForestGini_BAG_L2]</td>\n",
              "    </tr>\n",
              "    <tr>\n",
              "      <th>7</th>\n",
              "      <td>RandomForestEntr_BAG_L1</td>\n",
              "      <td>0.622499</td>\n",
              "      <td>27.535685</td>\n",
              "      <td>38.923359</td>\n",
              "      <td>27.535685</td>\n",
              "      <td>38.923359</td>\n",
              "      <td>1</td>\n",
              "      <td>True</td>\n",
              "      <td>4</td>\n",
              "      <td>1679</td>\n",
              "      <td>1</td>\n",
              "      <td>1</td>\n",
              "      <td>181597091</td>\n",
              "      <td>181597091</td>\n",
              "      <td>181597091</td>\n",
              "      <td>181597091</td>\n",
              "      <td>0</td>\n",
              "      <td>3</td>\n",
              "      <td>StackerEnsembleModel</td>\n",
              "      <td>RFModel</td>\n",
              "      <td>{'use_orig_features': True, 'max_base_models': 25, 'max_base_models_per_type': 5, 'save_bag_folds': True, 'use_child_oof': True}</td>\n",
              "      <td>{}</td>\n",
              "      <td>{'max_memory_usage_ratio': 1.0, 'max_time_limit_ratio': 1.0, 'max_time_limit': None, 'min_time_limit': 0, 'ignored_type_group_special': None, 'ignored_type_group_raw': None, 'get_features_kwargs': None, 'get_features_kwargs_extra': None, 'drop_unique': False}</td>\n",
              "      <td>[__nlp__.jeb bush, __nlp__.largest, __nlp__.prevention, __nlp__.check, __nlp__.trafficking, headline.symbol_ratio.., __nlp__.york university, __nlp__.republican republican, __nlp__.illinois, __nlp__.live, __nlp__.white house, __nlp__.super, __nlp__.oil, __nlp__.last, __nlp__.biden, __nlp__.the speech, __nlp__.red, __nlp__.agreement, __nlp__.attack, __nlp__.william, __nlp__.joint, __nlp__.term, __nlp__.clinton, __nlp__.asp, __nlp__.office, __nlp__.past, __nlp__.workers, __nlp__.study, headline.symbol_ratio.!, __nlp__.human, __nlp__.washington post, __nlp__.africa, __nlp__.indiana, __nlp__.p...</td>\n",
              "      <td>{'n_estimators': 300, 'n_jobs': -1, 'random_state': 0, 'bootstrap': True, 'criterion': 'entropy'}</td>\n",
              "      <td>{'n_estimators': 234}</td>\n",
              "      <td>{'max_memory_usage_ratio': 1.0, 'max_time_limit_ratio': 1.0, 'max_time_limit': None, 'min_time_limit': 0, 'ignored_type_group_special': None, 'ignored_type_group_raw': ['object'], 'get_features_kwargs': None, 'get_features_kwargs_extra': None}</td>\n",
              "      <td>[]</td>\n",
              "      <td>[WeightedEnsemble_L3, LightGBMXT_BAG_L2, RandomForestGini_BAG_L2]</td>\n",
              "    </tr>\n",
              "  </tbody>\n",
              "</table>\n",
              "</div>\n",
              "      <button class=\"colab-df-convert\" onclick=\"convertToInteractive('df-66357c4a-25df-41bd-9ae2-5b8696090197')\"\n",
              "              title=\"Convert this dataframe to an interactive table.\"\n",
              "              style=\"display:none;\">\n",
              "        \n",
              "  <svg xmlns=\"http://www.w3.org/2000/svg\" height=\"24px\"viewBox=\"0 0 24 24\"\n",
              "       width=\"24px\">\n",
              "    <path d=\"M0 0h24v24H0V0z\" fill=\"none\"/>\n",
              "    <path d=\"M18.56 5.44l.94 2.06.94-2.06 2.06-.94-2.06-.94-.94-2.06-.94 2.06-2.06.94zm-11 1L8.5 8.5l.94-2.06 2.06-.94-2.06-.94L8.5 2.5l-.94 2.06-2.06.94zm10 10l.94 2.06.94-2.06 2.06-.94-2.06-.94-.94-2.06-.94 2.06-2.06.94z\"/><path d=\"M17.41 7.96l-1.37-1.37c-.4-.4-.92-.59-1.43-.59-.52 0-1.04.2-1.43.59L10.3 9.45l-7.72 7.72c-.78.78-.78 2.05 0 2.83L4 21.41c.39.39.9.59 1.41.59.51 0 1.02-.2 1.41-.59l7.78-7.78 2.81-2.81c.8-.78.8-2.07 0-2.86zM5.41 20L4 18.59l7.72-7.72 1.47 1.35L5.41 20z\"/>\n",
              "  </svg>\n",
              "      </button>\n",
              "      \n",
              "  <style>\n",
              "    .colab-df-container {\n",
              "      display:flex;\n",
              "      flex-wrap:wrap;\n",
              "      gap: 12px;\n",
              "    }\n",
              "\n",
              "    .colab-df-convert {\n",
              "      background-color: #E8F0FE;\n",
              "      border: none;\n",
              "      border-radius: 50%;\n",
              "      cursor: pointer;\n",
              "      display: none;\n",
              "      fill: #1967D2;\n",
              "      height: 32px;\n",
              "      padding: 0 0 0 0;\n",
              "      width: 32px;\n",
              "    }\n",
              "\n",
              "    .colab-df-convert:hover {\n",
              "      background-color: #E2EBFA;\n",
              "      box-shadow: 0px 1px 2px rgba(60, 64, 67, 0.3), 0px 1px 3px 1px rgba(60, 64, 67, 0.15);\n",
              "      fill: #174EA6;\n",
              "    }\n",
              "\n",
              "    [theme=dark] .colab-df-convert {\n",
              "      background-color: #3B4455;\n",
              "      fill: #D2E3FC;\n",
              "    }\n",
              "\n",
              "    [theme=dark] .colab-df-convert:hover {\n",
              "      background-color: #434B5C;\n",
              "      box-shadow: 0px 1px 3px 1px rgba(0, 0, 0, 0.15);\n",
              "      filter: drop-shadow(0px 1px 2px rgba(0, 0, 0, 0.3));\n",
              "      fill: #FFFFFF;\n",
              "    }\n",
              "  </style>\n",
              "\n",
              "      <script>\n",
              "        const buttonEl =\n",
              "          document.querySelector('#df-66357c4a-25df-41bd-9ae2-5b8696090197 button.colab-df-convert');\n",
              "        buttonEl.style.display =\n",
              "          google.colab.kernel.accessAllowed ? 'block' : 'none';\n",
              "\n",
              "        async function convertToInteractive(key) {\n",
              "          const element = document.querySelector('#df-66357c4a-25df-41bd-9ae2-5b8696090197');\n",
              "          const dataTable =\n",
              "            await google.colab.kernel.invokeFunction('convertToInteractive',\n",
              "                                                     [key], {});\n",
              "          if (!dataTable) return;\n",
              "\n",
              "          const docLinkHtml = 'Like what you see? Visit the ' +\n",
              "            '<a target=\"_blank\" href=https://colab.research.google.com/notebooks/data_table.ipynb>data table notebook</a>'\n",
              "            + ' to learn more about interactive tables.';\n",
              "          element.innerHTML = '';\n",
              "          dataTable['output_type'] = 'display_data';\n",
              "          await google.colab.output.renderOutput(dataTable, element);\n",
              "          const docLink = document.createElement('div');\n",
              "          docLink.innerHTML = docLinkHtml;\n",
              "          element.appendChild(docLink);\n",
              "        }\n",
              "      </script>\n",
              "    </div>\n",
              "  </div>\n",
              "  "
            ],
            "text/plain": [
              "                     model  ...                                                                             descendants\n",
              "0        LightGBMXT_BAG_L2  ...                                                                   [WeightedEnsemble_L3]\n",
              "1      WeightedEnsemble_L3  ...                                                                                      []\n",
              "2        LightGBMXT_BAG_L1  ...  [WeightedEnsemble_L3, WeightedEnsemble_L2, LightGBMXT_BAG_L2, RandomForestGini_BAG_L2]\n",
              "3      WeightedEnsemble_L2  ...                                                                                      []\n",
              "4  RandomForestGini_BAG_L2  ...                                                                                      []\n",
              "5          LightGBM_BAG_L1  ...                       [WeightedEnsemble_L3, LightGBMXT_BAG_L2, RandomForestGini_BAG_L2]\n",
              "6  RandomForestGini_BAG_L1  ...                       [WeightedEnsemble_L3, LightGBMXT_BAG_L2, RandomForestGini_BAG_L2]\n",
              "7  RandomForestEntr_BAG_L1  ...                       [WeightedEnsemble_L3, LightGBMXT_BAG_L2, RandomForestGini_BAG_L2]\n",
              "\n",
              "[8 rows x 29 columns]"
            ]
          },
          "metadata": {},
          "execution_count": 127
        }
      ],
      "source": [
        "#The predictor leaderboard that is produced using the data previously reserved for validation inside fit, and can display extra information about each model:\n",
        "predictor.leaderboard(extra_info=True, silent=True)"
      ]
    },
    {
      "cell_type": "code",
      "execution_count": null,
      "metadata": {
        "colab": {
          "base_uri": "https://localhost:8080/"
        },
        "id": "VdCDKUPFoVEX",
        "outputId": "7d0a1e0a-e617-4964-9795-7b545618dc94"
      },
      "outputs": [
        {
          "output_type": "stream",
          "name": "stdout",
          "text": [
            "Predictor features:  ['text', 'date', 'author', 'headline', 'named_entities_claim', 'named_entities_article', 'keywords', 'politifact', 'snopes', 'africacheck', 'truthorfiction', 'factscan', 'checkyourfact']\n"
          ]
        }
      ],
      "source": [
        "print(\"Predictor features: \", predictor.features())"
      ]
    },
    {
      "cell_type": "markdown",
      "metadata": {
        "id": "wWHtG33voVEX"
      },
      "source": [
        "## Getting predictions from TabularPredictor"
      ]
    },
    {
      "cell_type": "code",
      "execution_count": null,
      "metadata": {
        "id": "rP6rtp_FoVEY"
      },
      "outputs": [],
      "source": [
        "response = predictor.predict(test)\n",
        "test_target = test['truthRating']"
      ]
    },
    {
      "cell_type": "code",
      "execution_count": null,
      "metadata": {
        "colab": {
          "base_uri": "https://localhost:8080/"
        },
        "id": "Dylo4jt0oVEY",
        "outputId": "54a3836f-6fe1-4f64-a1f5-d8b1afc2e404"
      },
      "outputs": [
        {
          "output_type": "stream",
          "name": "stdout",
          "text": [
            "response:\n",
            "  11830    1\n",
            "16166    2\n",
            "14929    2\n",
            "16533    2\n",
            "13570    2\n",
            "        ..\n",
            "18744    2\n",
            "24436    2\n",
            "1991     2\n",
            "2536     1\n",
            "15400    2\n",
            "Name: truthRating, Length: 6113, dtype: int64\n",
            "target:\n",
            " 11830    1\n",
            "16166    2\n",
            "14929    2\n",
            "16533    2\n",
            "13570    1\n",
            "        ..\n",
            "18744    2\n",
            "24436    2\n",
            "1991     3\n",
            "2536     3\n",
            "15400    2\n",
            "Name: truthRating, Length: 6113, dtype: int64\n"
          ]
        }
      ],
      "source": [
        "print(\"response:\\n \",response)\n",
        "print(\"target:\\n\",test_target)"
      ]
    },
    {
      "cell_type": "markdown",
      "metadata": {
        "id": "n3gAwL4hoVEY"
      },
      "source": [
        "## Evaluate the Autogluon predictor"
      ]
    },
    {
      "cell_type": "code",
      "execution_count": null,
      "metadata": {
        "colab": {
          "base_uri": "https://localhost:8080/"
        },
        "id": "mTyjiz2joVEY",
        "outputId": "42b29d55-d65d-4d90-e5f5-e2639182bd2f"
      },
      "outputs": [
        {
          "output_type": "stream",
          "name": "stderr",
          "text": [
            "Evaluation: accuracy on test data: 0.6466546703746114\n",
            "Evaluations on test data:\n",
            "{\n",
            "    \"accuracy\": 0.6466546703746114,\n",
            "    \"balanced_accuracy\": 0.5483951943900663,\n",
            "    \"mcc\": 0.430211010537751\n",
            "}\n"
          ]
        },
        {
          "output_type": "execute_result",
          "data": {
            "text/plain": [
              "{'accuracy': 0.6466546703746114,\n",
              " 'balanced_accuracy': 0.5483951943900663,\n",
              " 'mcc': 0.430211010537751}"
            ]
          },
          "metadata": {},
          "execution_count": 131
        }
      ],
      "source": [
        "predictor.evaluate(test)"
      ]
    },
    {
      "cell_type": "markdown",
      "metadata": {
        "id": "pT8XQm6JoVEZ"
      },
      "source": [
        "## Feature importance"
      ]
    },
    {
      "cell_type": "code",
      "execution_count": null,
      "metadata": {
        "colab": {
          "base_uri": "https://localhost:8080/",
          "height": 512
        },
        "id": "ne3Pf-NroVEZ",
        "outputId": "d7d9a07b-15b0-4f4e-ac58-d7cc5ad100db"
      },
      "outputs": [
        {
          "output_type": "stream",
          "name": "stderr",
          "text": [
            "Computing feature importance via permutation shuffling for 13 features using 1000 rows with 3 shuffle sets...\n",
            "\t217.08s\t= Expected runtime (72.36s per shuffle set)\n",
            "\t177.64s\t= Actual runtime (Completed 3 of 3 shuffle sets)\n"
          ]
        },
        {
          "output_type": "execute_result",
          "data": {
            "text/html": [
              "\n",
              "  <div id=\"df-f00350dc-c61d-4e95-a17b-b855ebf79069\">\n",
              "    <div class=\"colab-df-container\">\n",
              "      <div>\n",
              "<style scoped>\n",
              "    .dataframe tbody tr th:only-of-type {\n",
              "        vertical-align: middle;\n",
              "    }\n",
              "\n",
              "    .dataframe tbody tr th {\n",
              "        vertical-align: top;\n",
              "    }\n",
              "\n",
              "    .dataframe thead th {\n",
              "        text-align: right;\n",
              "    }\n",
              "</style>\n",
              "<table border=\"1\" class=\"dataframe\">\n",
              "  <thead>\n",
              "    <tr style=\"text-align: right;\">\n",
              "      <th></th>\n",
              "      <th>importance</th>\n",
              "      <th>stddev</th>\n",
              "      <th>p_value</th>\n",
              "      <th>n</th>\n",
              "      <th>p99_high</th>\n",
              "      <th>p99_low</th>\n",
              "    </tr>\n",
              "  </thead>\n",
              "  <tbody>\n",
              "    <tr>\n",
              "      <th>named_entities_claim</th>\n",
              "      <td>0.054000</td>\n",
              "      <td>0.007810</td>\n",
              "      <td>0.003450</td>\n",
              "      <td>3</td>\n",
              "      <td>0.098754</td>\n",
              "      <td>0.009246</td>\n",
              "    </tr>\n",
              "    <tr>\n",
              "      <th>headline</th>\n",
              "      <td>0.019667</td>\n",
              "      <td>0.001528</td>\n",
              "      <td>0.001002</td>\n",
              "      <td>3</td>\n",
              "      <td>0.028420</td>\n",
              "      <td>0.010914</td>\n",
              "    </tr>\n",
              "    <tr>\n",
              "      <th>keywords</th>\n",
              "      <td>0.019000</td>\n",
              "      <td>0.006083</td>\n",
              "      <td>0.016254</td>\n",
              "      <td>3</td>\n",
              "      <td>0.053855</td>\n",
              "      <td>-0.015855</td>\n",
              "    </tr>\n",
              "    <tr>\n",
              "      <th>author</th>\n",
              "      <td>0.014667</td>\n",
              "      <td>0.005132</td>\n",
              "      <td>0.019233</td>\n",
              "      <td>3</td>\n",
              "      <td>0.044071</td>\n",
              "      <td>-0.014738</td>\n",
              "    </tr>\n",
              "    <tr>\n",
              "      <th>politifact</th>\n",
              "      <td>0.014667</td>\n",
              "      <td>0.009018</td>\n",
              "      <td>0.053156</td>\n",
              "      <td>3</td>\n",
              "      <td>0.066344</td>\n",
              "      <td>-0.037010</td>\n",
              "    </tr>\n",
              "    <tr>\n",
              "      <th>text</th>\n",
              "      <td>0.011000</td>\n",
              "      <td>0.006557</td>\n",
              "      <td>0.050427</td>\n",
              "      <td>3</td>\n",
              "      <td>0.048575</td>\n",
              "      <td>-0.026575</td>\n",
              "    </tr>\n",
              "    <tr>\n",
              "      <th>africacheck</th>\n",
              "      <td>0.002333</td>\n",
              "      <td>0.002082</td>\n",
              "      <td>0.095855</td>\n",
              "      <td>3</td>\n",
              "      <td>0.014262</td>\n",
              "      <td>-0.009595</td>\n",
              "    </tr>\n",
              "    <tr>\n",
              "      <th>date</th>\n",
              "      <td>0.001333</td>\n",
              "      <td>0.004726</td>\n",
              "      <td>0.336701</td>\n",
              "      <td>3</td>\n",
              "      <td>0.028413</td>\n",
              "      <td>-0.025746</td>\n",
              "    </tr>\n",
              "    <tr>\n",
              "      <th>named_entities_article</th>\n",
              "      <td>0.000667</td>\n",
              "      <td>0.001155</td>\n",
              "      <td>0.211325</td>\n",
              "      <td>3</td>\n",
              "      <td>0.007283</td>\n",
              "      <td>-0.005950</td>\n",
              "    </tr>\n",
              "    <tr>\n",
              "      <th>snopes</th>\n",
              "      <td>0.000333</td>\n",
              "      <td>0.001528</td>\n",
              "      <td>0.370901</td>\n",
              "      <td>3</td>\n",
              "      <td>0.009086</td>\n",
              "      <td>-0.008420</td>\n",
              "    </tr>\n",
              "    <tr>\n",
              "      <th>factscan</th>\n",
              "      <td>0.000333</td>\n",
              "      <td>0.000577</td>\n",
              "      <td>0.211325</td>\n",
              "      <td>3</td>\n",
              "      <td>0.003642</td>\n",
              "      <td>-0.002975</td>\n",
              "    </tr>\n",
              "    <tr>\n",
              "      <th>checkyourfact</th>\n",
              "      <td>0.000000</td>\n",
              "      <td>0.000000</td>\n",
              "      <td>0.500000</td>\n",
              "      <td>3</td>\n",
              "      <td>0.000000</td>\n",
              "      <td>0.000000</td>\n",
              "    </tr>\n",
              "    <tr>\n",
              "      <th>truthorfiction</th>\n",
              "      <td>-0.000667</td>\n",
              "      <td>0.001155</td>\n",
              "      <td>0.788675</td>\n",
              "      <td>3</td>\n",
              "      <td>0.005950</td>\n",
              "      <td>-0.007283</td>\n",
              "    </tr>\n",
              "  </tbody>\n",
              "</table>\n",
              "</div>\n",
              "      <button class=\"colab-df-convert\" onclick=\"convertToInteractive('df-f00350dc-c61d-4e95-a17b-b855ebf79069')\"\n",
              "              title=\"Convert this dataframe to an interactive table.\"\n",
              "              style=\"display:none;\">\n",
              "        \n",
              "  <svg xmlns=\"http://www.w3.org/2000/svg\" height=\"24px\"viewBox=\"0 0 24 24\"\n",
              "       width=\"24px\">\n",
              "    <path d=\"M0 0h24v24H0V0z\" fill=\"none\"/>\n",
              "    <path d=\"M18.56 5.44l.94 2.06.94-2.06 2.06-.94-2.06-.94-.94-2.06-.94 2.06-2.06.94zm-11 1L8.5 8.5l.94-2.06 2.06-.94-2.06-.94L8.5 2.5l-.94 2.06-2.06.94zm10 10l.94 2.06.94-2.06 2.06-.94-2.06-.94-.94-2.06-.94 2.06-2.06.94z\"/><path d=\"M17.41 7.96l-1.37-1.37c-.4-.4-.92-.59-1.43-.59-.52 0-1.04.2-1.43.59L10.3 9.45l-7.72 7.72c-.78.78-.78 2.05 0 2.83L4 21.41c.39.39.9.59 1.41.59.51 0 1.02-.2 1.41-.59l7.78-7.78 2.81-2.81c.8-.78.8-2.07 0-2.86zM5.41 20L4 18.59l7.72-7.72 1.47 1.35L5.41 20z\"/>\n",
              "  </svg>\n",
              "      </button>\n",
              "      \n",
              "  <style>\n",
              "    .colab-df-container {\n",
              "      display:flex;\n",
              "      flex-wrap:wrap;\n",
              "      gap: 12px;\n",
              "    }\n",
              "\n",
              "    .colab-df-convert {\n",
              "      background-color: #E8F0FE;\n",
              "      border: none;\n",
              "      border-radius: 50%;\n",
              "      cursor: pointer;\n",
              "      display: none;\n",
              "      fill: #1967D2;\n",
              "      height: 32px;\n",
              "      padding: 0 0 0 0;\n",
              "      width: 32px;\n",
              "    }\n",
              "\n",
              "    .colab-df-convert:hover {\n",
              "      background-color: #E2EBFA;\n",
              "      box-shadow: 0px 1px 2px rgba(60, 64, 67, 0.3), 0px 1px 3px 1px rgba(60, 64, 67, 0.15);\n",
              "      fill: #174EA6;\n",
              "    }\n",
              "\n",
              "    [theme=dark] .colab-df-convert {\n",
              "      background-color: #3B4455;\n",
              "      fill: #D2E3FC;\n",
              "    }\n",
              "\n",
              "    [theme=dark] .colab-df-convert:hover {\n",
              "      background-color: #434B5C;\n",
              "      box-shadow: 0px 1px 3px 1px rgba(0, 0, 0, 0.15);\n",
              "      filter: drop-shadow(0px 1px 2px rgba(0, 0, 0, 0.3));\n",
              "      fill: #FFFFFF;\n",
              "    }\n",
              "  </style>\n",
              "\n",
              "      <script>\n",
              "        const buttonEl =\n",
              "          document.querySelector('#df-f00350dc-c61d-4e95-a17b-b855ebf79069 button.colab-df-convert');\n",
              "        buttonEl.style.display =\n",
              "          google.colab.kernel.accessAllowed ? 'block' : 'none';\n",
              "\n",
              "        async function convertToInteractive(key) {\n",
              "          const element = document.querySelector('#df-f00350dc-c61d-4e95-a17b-b855ebf79069');\n",
              "          const dataTable =\n",
              "            await google.colab.kernel.invokeFunction('convertToInteractive',\n",
              "                                                     [key], {});\n",
              "          if (!dataTable) return;\n",
              "\n",
              "          const docLinkHtml = 'Like what you see? Visit the ' +\n",
              "            '<a target=\"_blank\" href=https://colab.research.google.com/notebooks/data_table.ipynb>data table notebook</a>'\n",
              "            + ' to learn more about interactive tables.';\n",
              "          element.innerHTML = '';\n",
              "          dataTable['output_type'] = 'display_data';\n",
              "          await google.colab.output.renderOutput(dataTable, element);\n",
              "          const docLink = document.createElement('div');\n",
              "          docLink.innerHTML = docLinkHtml;\n",
              "          element.appendChild(docLink);\n",
              "        }\n",
              "      </script>\n",
              "    </div>\n",
              "  </div>\n",
              "  "
            ],
            "text/plain": [
              "                        importance    stddev   p_value  n  p99_high   p99_low\n",
              "named_entities_claim      0.054000  0.007810  0.003450  3  0.098754  0.009246\n",
              "headline                  0.019667  0.001528  0.001002  3  0.028420  0.010914\n",
              "keywords                  0.019000  0.006083  0.016254  3  0.053855 -0.015855\n",
              "author                    0.014667  0.005132  0.019233  3  0.044071 -0.014738\n",
              "politifact                0.014667  0.009018  0.053156  3  0.066344 -0.037010\n",
              "text                      0.011000  0.006557  0.050427  3  0.048575 -0.026575\n",
              "africacheck               0.002333  0.002082  0.095855  3  0.014262 -0.009595\n",
              "date                      0.001333  0.004726  0.336701  3  0.028413 -0.025746\n",
              "named_entities_article    0.000667  0.001155  0.211325  3  0.007283 -0.005950\n",
              "snopes                    0.000333  0.001528  0.370901  3  0.009086 -0.008420\n",
              "factscan                  0.000333  0.000577  0.211325  3  0.003642 -0.002975\n",
              "checkyourfact             0.000000  0.000000  0.500000  3  0.000000  0.000000\n",
              "truthorfiction           -0.000667  0.001155  0.788675  3  0.005950 -0.007283"
            ]
          },
          "metadata": {},
          "execution_count": 132
        }
      ],
      "source": [
        "feature_importance = predictor.feature_importance(test)\n",
        "feature_importance"
      ]
    },
    {
      "cell_type": "code",
      "execution_count": null,
      "metadata": {
        "colab": {
          "base_uri": "https://localhost:8080/",
          "height": 35
        },
        "id": "GQV957IBoVEZ",
        "outputId": "ce943355-5e0f-4afd-8ca7-c21175e05f13"
      },
      "outputs": [
        {
          "output_type": "execute_result",
          "data": {
            "application/vnd.google.colaboratory.intrinsic+json": {
              "type": "string"
            },
            "text/plain": [
              "'LightGBMXT_BAG_L2'"
            ]
          },
          "metadata": {},
          "execution_count": 133
        }
      ],
      "source": [
        "predictor.get_model_best()"
      ]
    },
    {
      "cell_type": "markdown",
      "metadata": {
        "id": "K22R9pcfoVEZ"
      },
      "source": [
        "# Results:\n",
        "\n",
        "We can observe that the WeightedEnsemble model (that implements Ensemble Selection) is trained in the stack level 3 can predict our data at the best. A model with “_L3” suffix is a not base model, meaning it depends on other models.\n"
      ]
    },
    {
      "cell_type": "code",
      "execution_count": null,
      "metadata": {
        "id": "CocxG7dioVEa"
      },
      "outputs": [],
      "source": [
        ""
      ]
    }
  ],
  "metadata": {
    "colab": {
      "collapsed_sections": [],
      "name": "ClaimsKG.ipynb",
      "provenance": [],
      "include_colab_link": true
    },
    "kernelspec": {
      "display_name": "Python 3",
      "name": "python3"
    },
    "language_info": {
      "name": "python"
    },
    "widgets": {
      "application/vnd.jupyter.widget-state+json": {
        "d5b71e8e326742bda6ee509b50cb2bda": {
          "model_module": "@jupyter-widgets/controls",
          "model_name": "HBoxModel",
          "model_module_version": "1.5.0",
          "state": {
            "_view_name": "HBoxView",
            "_dom_classes": [],
            "_model_name": "HBoxModel",
            "_view_module": "@jupyter-widgets/controls",
            "_model_module_version": "1.5.0",
            "_view_count": null,
            "_view_module_version": "1.5.0",
            "box_style": "",
            "layout": "IPY_MODEL_5b2728623aef487cb7dda1d733e7fae7",
            "_model_module": "@jupyter-widgets/controls",
            "children": [
              "IPY_MODEL_8a35c95d3f0046778055661f42537049",
              "IPY_MODEL_1a9d216b8c1e42edab2482ea18e3affe",
              "IPY_MODEL_01dae848dcda4e409c9c8e3324689d97"
            ]
          }
        },
        "5b2728623aef487cb7dda1d733e7fae7": {
          "model_module": "@jupyter-widgets/base",
          "model_name": "LayoutModel",
          "model_module_version": "1.2.0",
          "state": {
            "_view_name": "LayoutView",
            "grid_template_rows": null,
            "right": null,
            "justify_content": null,
            "_view_module": "@jupyter-widgets/base",
            "overflow": null,
            "_model_module_version": "1.2.0",
            "_view_count": null,
            "flex_flow": null,
            "width": null,
            "min_width": null,
            "border": null,
            "align_items": null,
            "bottom": null,
            "_model_module": "@jupyter-widgets/base",
            "top": null,
            "grid_column": null,
            "overflow_y": null,
            "overflow_x": null,
            "grid_auto_flow": null,
            "grid_area": null,
            "grid_template_columns": null,
            "flex": null,
            "_model_name": "LayoutModel",
            "justify_items": null,
            "grid_row": null,
            "max_height": null,
            "align_content": null,
            "visibility": null,
            "align_self": null,
            "height": null,
            "min_height": null,
            "padding": null,
            "grid_auto_rows": null,
            "grid_gap": null,
            "max_width": null,
            "order": null,
            "_view_module_version": "1.2.0",
            "grid_template_areas": null,
            "object_position": null,
            "object_fit": null,
            "grid_auto_columns": null,
            "margin": null,
            "display": null,
            "left": null
          }
        },
        "8a35c95d3f0046778055661f42537049": {
          "model_module": "@jupyter-widgets/controls",
          "model_name": "HTMLModel",
          "model_module_version": "1.5.0",
          "state": {
            "_view_name": "HTMLView",
            "style": "IPY_MODEL_4b9baf54b624491da246eb14a7270ffc",
            "_dom_classes": [],
            "description": "",
            "_model_name": "HTMLModel",
            "placeholder": "​",
            "_view_module": "@jupyter-widgets/controls",
            "_model_module_version": "1.5.0",
            "value": "Downloading: 100%",
            "_view_count": null,
            "_view_module_version": "1.5.0",
            "description_tooltip": null,
            "_model_module": "@jupyter-widgets/controls",
            "layout": "IPY_MODEL_a04841ef15ad42158090f99e25e05547"
          }
        },
        "1a9d216b8c1e42edab2482ea18e3affe": {
          "model_module": "@jupyter-widgets/controls",
          "model_name": "FloatProgressModel",
          "model_module_version": "1.5.0",
          "state": {
            "_view_name": "ProgressView",
            "style": "IPY_MODEL_3da2be7af3824343b071ce9dc0d482b1",
            "_dom_classes": [],
            "description": "",
            "_model_name": "FloatProgressModel",
            "bar_style": "success",
            "max": 1175,
            "_view_module": "@jupyter-widgets/controls",
            "_model_module_version": "1.5.0",
            "value": 1175,
            "_view_count": null,
            "_view_module_version": "1.5.0",
            "orientation": "horizontal",
            "min": 0,
            "description_tooltip": null,
            "_model_module": "@jupyter-widgets/controls",
            "layout": "IPY_MODEL_69eec8e683bd4274926ba957e03faab2"
          }
        },
        "01dae848dcda4e409c9c8e3324689d97": {
          "model_module": "@jupyter-widgets/controls",
          "model_name": "HTMLModel",
          "model_module_version": "1.5.0",
          "state": {
            "_view_name": "HTMLView",
            "style": "IPY_MODEL_8c703cdaaccb459b880f61c00827c10a",
            "_dom_classes": [],
            "description": "",
            "_model_name": "HTMLModel",
            "placeholder": "​",
            "_view_module": "@jupyter-widgets/controls",
            "_model_module_version": "1.5.0",
            "value": " 1.18k/1.18k [00:00&lt;00:00, 27.3kB/s]",
            "_view_count": null,
            "_view_module_version": "1.5.0",
            "description_tooltip": null,
            "_model_module": "@jupyter-widgets/controls",
            "layout": "IPY_MODEL_ba1eb7e55342414da60e7fc63ea98d02"
          }
        },
        "4b9baf54b624491da246eb14a7270ffc": {
          "model_module": "@jupyter-widgets/controls",
          "model_name": "DescriptionStyleModel",
          "model_module_version": "1.5.0",
          "state": {
            "_view_name": "StyleView",
            "_model_name": "DescriptionStyleModel",
            "description_width": "",
            "_view_module": "@jupyter-widgets/base",
            "_model_module_version": "1.5.0",
            "_view_count": null,
            "_view_module_version": "1.2.0",
            "_model_module": "@jupyter-widgets/controls"
          }
        },
        "a04841ef15ad42158090f99e25e05547": {
          "model_module": "@jupyter-widgets/base",
          "model_name": "LayoutModel",
          "model_module_version": "1.2.0",
          "state": {
            "_view_name": "LayoutView",
            "grid_template_rows": null,
            "right": null,
            "justify_content": null,
            "_view_module": "@jupyter-widgets/base",
            "overflow": null,
            "_model_module_version": "1.2.0",
            "_view_count": null,
            "flex_flow": null,
            "width": null,
            "min_width": null,
            "border": null,
            "align_items": null,
            "bottom": null,
            "_model_module": "@jupyter-widgets/base",
            "top": null,
            "grid_column": null,
            "overflow_y": null,
            "overflow_x": null,
            "grid_auto_flow": null,
            "grid_area": null,
            "grid_template_columns": null,
            "flex": null,
            "_model_name": "LayoutModel",
            "justify_items": null,
            "grid_row": null,
            "max_height": null,
            "align_content": null,
            "visibility": null,
            "align_self": null,
            "height": null,
            "min_height": null,
            "padding": null,
            "grid_auto_rows": null,
            "grid_gap": null,
            "max_width": null,
            "order": null,
            "_view_module_version": "1.2.0",
            "grid_template_areas": null,
            "object_position": null,
            "object_fit": null,
            "grid_auto_columns": null,
            "margin": null,
            "display": null,
            "left": null
          }
        },
        "3da2be7af3824343b071ce9dc0d482b1": {
          "model_module": "@jupyter-widgets/controls",
          "model_name": "ProgressStyleModel",
          "model_module_version": "1.5.0",
          "state": {
            "_view_name": "StyleView",
            "_model_name": "ProgressStyleModel",
            "description_width": "",
            "_view_module": "@jupyter-widgets/base",
            "_model_module_version": "1.5.0",
            "_view_count": null,
            "_view_module_version": "1.2.0",
            "bar_color": null,
            "_model_module": "@jupyter-widgets/controls"
          }
        },
        "69eec8e683bd4274926ba957e03faab2": {
          "model_module": "@jupyter-widgets/base",
          "model_name": "LayoutModel",
          "model_module_version": "1.2.0",
          "state": {
            "_view_name": "LayoutView",
            "grid_template_rows": null,
            "right": null,
            "justify_content": null,
            "_view_module": "@jupyter-widgets/base",
            "overflow": null,
            "_model_module_version": "1.2.0",
            "_view_count": null,
            "flex_flow": null,
            "width": null,
            "min_width": null,
            "border": null,
            "align_items": null,
            "bottom": null,
            "_model_module": "@jupyter-widgets/base",
            "top": null,
            "grid_column": null,
            "overflow_y": null,
            "overflow_x": null,
            "grid_auto_flow": null,
            "grid_area": null,
            "grid_template_columns": null,
            "flex": null,
            "_model_name": "LayoutModel",
            "justify_items": null,
            "grid_row": null,
            "max_height": null,
            "align_content": null,
            "visibility": null,
            "align_self": null,
            "height": null,
            "min_height": null,
            "padding": null,
            "grid_auto_rows": null,
            "grid_gap": null,
            "max_width": null,
            "order": null,
            "_view_module_version": "1.2.0",
            "grid_template_areas": null,
            "object_position": null,
            "object_fit": null,
            "grid_auto_columns": null,
            "margin": null,
            "display": null,
            "left": null
          }
        },
        "8c703cdaaccb459b880f61c00827c10a": {
          "model_module": "@jupyter-widgets/controls",
          "model_name": "DescriptionStyleModel",
          "model_module_version": "1.5.0",
          "state": {
            "_view_name": "StyleView",
            "_model_name": "DescriptionStyleModel",
            "description_width": "",
            "_view_module": "@jupyter-widgets/base",
            "_model_module_version": "1.5.0",
            "_view_count": null,
            "_view_module_version": "1.2.0",
            "_model_module": "@jupyter-widgets/controls"
          }
        },
        "ba1eb7e55342414da60e7fc63ea98d02": {
          "model_module": "@jupyter-widgets/base",
          "model_name": "LayoutModel",
          "model_module_version": "1.2.0",
          "state": {
            "_view_name": "LayoutView",
            "grid_template_rows": null,
            "right": null,
            "justify_content": null,
            "_view_module": "@jupyter-widgets/base",
            "overflow": null,
            "_model_module_version": "1.2.0",
            "_view_count": null,
            "flex_flow": null,
            "width": null,
            "min_width": null,
            "border": null,
            "align_items": null,
            "bottom": null,
            "_model_module": "@jupyter-widgets/base",
            "top": null,
            "grid_column": null,
            "overflow_y": null,
            "overflow_x": null,
            "grid_auto_flow": null,
            "grid_area": null,
            "grid_template_columns": null,
            "flex": null,
            "_model_name": "LayoutModel",
            "justify_items": null,
            "grid_row": null,
            "max_height": null,
            "align_content": null,
            "visibility": null,
            "align_self": null,
            "height": null,
            "min_height": null,
            "padding": null,
            "grid_auto_rows": null,
            "grid_gap": null,
            "max_width": null,
            "order": null,
            "_view_module_version": "1.2.0",
            "grid_template_areas": null,
            "object_position": null,
            "object_fit": null,
            "grid_auto_columns": null,
            "margin": null,
            "display": null,
            "left": null
          }
        },
        "d15cb0b5c03041bcb8904067cfda03e4": {
          "model_module": "@jupyter-widgets/controls",
          "model_name": "HBoxModel",
          "model_module_version": "1.5.0",
          "state": {
            "_view_name": "HBoxView",
            "_dom_classes": [],
            "_model_name": "HBoxModel",
            "_view_module": "@jupyter-widgets/controls",
            "_model_module_version": "1.5.0",
            "_view_count": null,
            "_view_module_version": "1.5.0",
            "box_style": "",
            "layout": "IPY_MODEL_8a935b71ae084177a8f627b595bb1fc3",
            "_model_module": "@jupyter-widgets/controls",
            "children": [
              "IPY_MODEL_76b6edd88efe4920836f0aae9531cbef",
              "IPY_MODEL_f3bb969e10a64a8f92eccd89f693d430",
              "IPY_MODEL_22563b41a71a42499fdca92124c2c8ca"
            ]
          }
        },
        "8a935b71ae084177a8f627b595bb1fc3": {
          "model_module": "@jupyter-widgets/base",
          "model_name": "LayoutModel",
          "model_module_version": "1.2.0",
          "state": {
            "_view_name": "LayoutView",
            "grid_template_rows": null,
            "right": null,
            "justify_content": null,
            "_view_module": "@jupyter-widgets/base",
            "overflow": null,
            "_model_module_version": "1.2.0",
            "_view_count": null,
            "flex_flow": null,
            "width": null,
            "min_width": null,
            "border": null,
            "align_items": null,
            "bottom": null,
            "_model_module": "@jupyter-widgets/base",
            "top": null,
            "grid_column": null,
            "overflow_y": null,
            "overflow_x": null,
            "grid_auto_flow": null,
            "grid_area": null,
            "grid_template_columns": null,
            "flex": null,
            "_model_name": "LayoutModel",
            "justify_items": null,
            "grid_row": null,
            "max_height": null,
            "align_content": null,
            "visibility": null,
            "align_self": null,
            "height": null,
            "min_height": null,
            "padding": null,
            "grid_auto_rows": null,
            "grid_gap": null,
            "max_width": null,
            "order": null,
            "_view_module_version": "1.2.0",
            "grid_template_areas": null,
            "object_position": null,
            "object_fit": null,
            "grid_auto_columns": null,
            "margin": null,
            "display": null,
            "left": null
          }
        },
        "76b6edd88efe4920836f0aae9531cbef": {
          "model_module": "@jupyter-widgets/controls",
          "model_name": "HTMLModel",
          "model_module_version": "1.5.0",
          "state": {
            "_view_name": "HTMLView",
            "style": "IPY_MODEL_1d4b6e80665c4864949272df097b0311",
            "_dom_classes": [],
            "description": "",
            "_model_name": "HTMLModel",
            "placeholder": "​",
            "_view_module": "@jupyter-widgets/controls",
            "_model_module_version": "1.5.0",
            "value": "Downloading: 100%",
            "_view_count": null,
            "_view_module_version": "1.5.0",
            "description_tooltip": null,
            "_model_module": "@jupyter-widgets/controls",
            "layout": "IPY_MODEL_ed09ccc9aa0b4e7b9c5eabccb97de88d"
          }
        },
        "f3bb969e10a64a8f92eccd89f693d430": {
          "model_module": "@jupyter-widgets/controls",
          "model_name": "FloatProgressModel",
          "model_module_version": "1.5.0",
          "state": {
            "_view_name": "ProgressView",
            "style": "IPY_MODEL_fa12435eaf154d1da818a1347307e3e9",
            "_dom_classes": [],
            "description": "",
            "_model_name": "FloatProgressModel",
            "bar_style": "success",
            "max": 10177,
            "_view_module": "@jupyter-widgets/controls",
            "_model_module_version": "1.5.0",
            "value": 10177,
            "_view_count": null,
            "_view_module_version": "1.5.0",
            "orientation": "horizontal",
            "min": 0,
            "description_tooltip": null,
            "_model_module": "@jupyter-widgets/controls",
            "layout": "IPY_MODEL_15125e79a70f463382a498ad0b78464e"
          }
        },
        "22563b41a71a42499fdca92124c2c8ca": {
          "model_module": "@jupyter-widgets/controls",
          "model_name": "HTMLModel",
          "model_module_version": "1.5.0",
          "state": {
            "_view_name": "HTMLView",
            "style": "IPY_MODEL_b3abd7e877454528a0b00964fe38caf2",
            "_dom_classes": [],
            "description": "",
            "_model_name": "HTMLModel",
            "placeholder": "​",
            "_view_module": "@jupyter-widgets/controls",
            "_model_module_version": "1.5.0",
            "value": " 10.2k/10.2k [00:00&lt;00:00, 241kB/s]",
            "_view_count": null,
            "_view_module_version": "1.5.0",
            "description_tooltip": null,
            "_model_module": "@jupyter-widgets/controls",
            "layout": "IPY_MODEL_89744c6df5f042ca9200bc9172a40648"
          }
        },
        "1d4b6e80665c4864949272df097b0311": {
          "model_module": "@jupyter-widgets/controls",
          "model_name": "DescriptionStyleModel",
          "model_module_version": "1.5.0",
          "state": {
            "_view_name": "StyleView",
            "_model_name": "DescriptionStyleModel",
            "description_width": "",
            "_view_module": "@jupyter-widgets/base",
            "_model_module_version": "1.5.0",
            "_view_count": null,
            "_view_module_version": "1.2.0",
            "_model_module": "@jupyter-widgets/controls"
          }
        },
        "ed09ccc9aa0b4e7b9c5eabccb97de88d": {
          "model_module": "@jupyter-widgets/base",
          "model_name": "LayoutModel",
          "model_module_version": "1.2.0",
          "state": {
            "_view_name": "LayoutView",
            "grid_template_rows": null,
            "right": null,
            "justify_content": null,
            "_view_module": "@jupyter-widgets/base",
            "overflow": null,
            "_model_module_version": "1.2.0",
            "_view_count": null,
            "flex_flow": null,
            "width": null,
            "min_width": null,
            "border": null,
            "align_items": null,
            "bottom": null,
            "_model_module": "@jupyter-widgets/base",
            "top": null,
            "grid_column": null,
            "overflow_y": null,
            "overflow_x": null,
            "grid_auto_flow": null,
            "grid_area": null,
            "grid_template_columns": null,
            "flex": null,
            "_model_name": "LayoutModel",
            "justify_items": null,
            "grid_row": null,
            "max_height": null,
            "align_content": null,
            "visibility": null,
            "align_self": null,
            "height": null,
            "min_height": null,
            "padding": null,
            "grid_auto_rows": null,
            "grid_gap": null,
            "max_width": null,
            "order": null,
            "_view_module_version": "1.2.0",
            "grid_template_areas": null,
            "object_position": null,
            "object_fit": null,
            "grid_auto_columns": null,
            "margin": null,
            "display": null,
            "left": null
          }
        },
        "fa12435eaf154d1da818a1347307e3e9": {
          "model_module": "@jupyter-widgets/controls",
          "model_name": "ProgressStyleModel",
          "model_module_version": "1.5.0",
          "state": {
            "_view_name": "StyleView",
            "_model_name": "ProgressStyleModel",
            "description_width": "",
            "_view_module": "@jupyter-widgets/base",
            "_model_module_version": "1.5.0",
            "_view_count": null,
            "_view_module_version": "1.2.0",
            "bar_color": null,
            "_model_module": "@jupyter-widgets/controls"
          }
        },
        "15125e79a70f463382a498ad0b78464e": {
          "model_module": "@jupyter-widgets/base",
          "model_name": "LayoutModel",
          "model_module_version": "1.2.0",
          "state": {
            "_view_name": "LayoutView",
            "grid_template_rows": null,
            "right": null,
            "justify_content": null,
            "_view_module": "@jupyter-widgets/base",
            "overflow": null,
            "_model_module_version": "1.2.0",
            "_view_count": null,
            "flex_flow": null,
            "width": null,
            "min_width": null,
            "border": null,
            "align_items": null,
            "bottom": null,
            "_model_module": "@jupyter-widgets/base",
            "top": null,
            "grid_column": null,
            "overflow_y": null,
            "overflow_x": null,
            "grid_auto_flow": null,
            "grid_area": null,
            "grid_template_columns": null,
            "flex": null,
            "_model_name": "LayoutModel",
            "justify_items": null,
            "grid_row": null,
            "max_height": null,
            "align_content": null,
            "visibility": null,
            "align_self": null,
            "height": null,
            "min_height": null,
            "padding": null,
            "grid_auto_rows": null,
            "grid_gap": null,
            "max_width": null,
            "order": null,
            "_view_module_version": "1.2.0",
            "grid_template_areas": null,
            "object_position": null,
            "object_fit": null,
            "grid_auto_columns": null,
            "margin": null,
            "display": null,
            "left": null
          }
        },
        "b3abd7e877454528a0b00964fe38caf2": {
          "model_module": "@jupyter-widgets/controls",
          "model_name": "DescriptionStyleModel",
          "model_module_version": "1.5.0",
          "state": {
            "_view_name": "StyleView",
            "_model_name": "DescriptionStyleModel",
            "description_width": "",
            "_view_module": "@jupyter-widgets/base",
            "_model_module_version": "1.5.0",
            "_view_count": null,
            "_view_module_version": "1.2.0",
            "_model_module": "@jupyter-widgets/controls"
          }
        },
        "89744c6df5f042ca9200bc9172a40648": {
          "model_module": "@jupyter-widgets/base",
          "model_name": "LayoutModel",
          "model_module_version": "1.2.0",
          "state": {
            "_view_name": "LayoutView",
            "grid_template_rows": null,
            "right": null,
            "justify_content": null,
            "_view_module": "@jupyter-widgets/base",
            "overflow": null,
            "_model_module_version": "1.2.0",
            "_view_count": null,
            "flex_flow": null,
            "width": null,
            "min_width": null,
            "border": null,
            "align_items": null,
            "bottom": null,
            "_model_module": "@jupyter-widgets/base",
            "top": null,
            "grid_column": null,
            "overflow_y": null,
            "overflow_x": null,
            "grid_auto_flow": null,
            "grid_area": null,
            "grid_template_columns": null,
            "flex": null,
            "_model_name": "LayoutModel",
            "justify_items": null,
            "grid_row": null,
            "max_height": null,
            "align_content": null,
            "visibility": null,
            "align_self": null,
            "height": null,
            "min_height": null,
            "padding": null,
            "grid_auto_rows": null,
            "grid_gap": null,
            "max_width": null,
            "order": null,
            "_view_module_version": "1.2.0",
            "grid_template_areas": null,
            "object_position": null,
            "object_fit": null,
            "grid_auto_columns": null,
            "margin": null,
            "display": null,
            "left": null
          }
        },
        "99b21205a7a242efb23b3aa8f0c254c7": {
          "model_module": "@jupyter-widgets/controls",
          "model_name": "HBoxModel",
          "model_module_version": "1.5.0",
          "state": {
            "_view_name": "HBoxView",
            "_dom_classes": [],
            "_model_name": "HBoxModel",
            "_view_module": "@jupyter-widgets/controls",
            "_model_module_version": "1.5.0",
            "_view_count": null,
            "_view_module_version": "1.5.0",
            "box_style": "",
            "layout": "IPY_MODEL_8412f96aee014e30ab2c386e3e8a47cb",
            "_model_module": "@jupyter-widgets/controls",
            "children": [
              "IPY_MODEL_a1ed65de32ae42aeb36cc7bd8c51f03b",
              "IPY_MODEL_7603eaf0f9c848b4a6bf10adf5168b89",
              "IPY_MODEL_4f8ace9bcf714f7ab5a8408a5b17eb05"
            ]
          }
        },
        "8412f96aee014e30ab2c386e3e8a47cb": {
          "model_module": "@jupyter-widgets/base",
          "model_name": "LayoutModel",
          "model_module_version": "1.2.0",
          "state": {
            "_view_name": "LayoutView",
            "grid_template_rows": null,
            "right": null,
            "justify_content": null,
            "_view_module": "@jupyter-widgets/base",
            "overflow": null,
            "_model_module_version": "1.2.0",
            "_view_count": null,
            "flex_flow": null,
            "width": null,
            "min_width": null,
            "border": null,
            "align_items": null,
            "bottom": null,
            "_model_module": "@jupyter-widgets/base",
            "top": null,
            "grid_column": null,
            "overflow_y": null,
            "overflow_x": null,
            "grid_auto_flow": null,
            "grid_area": null,
            "grid_template_columns": null,
            "flex": null,
            "_model_name": "LayoutModel",
            "justify_items": null,
            "grid_row": null,
            "max_height": null,
            "align_content": null,
            "visibility": null,
            "align_self": null,
            "height": null,
            "min_height": null,
            "padding": null,
            "grid_auto_rows": null,
            "grid_gap": null,
            "max_width": null,
            "order": null,
            "_view_module_version": "1.2.0",
            "grid_template_areas": null,
            "object_position": null,
            "object_fit": null,
            "grid_auto_columns": null,
            "margin": null,
            "display": null,
            "left": null
          }
        },
        "a1ed65de32ae42aeb36cc7bd8c51f03b": {
          "model_module": "@jupyter-widgets/controls",
          "model_name": "HTMLModel",
          "model_module_version": "1.5.0",
          "state": {
            "_view_name": "HTMLView",
            "style": "IPY_MODEL_2237446700da4b4ba8d10ee5b0748f9f",
            "_dom_classes": [],
            "description": "",
            "_model_name": "HTMLModel",
            "placeholder": "​",
            "_view_module": "@jupyter-widgets/controls",
            "_model_module_version": "1.5.0",
            "value": "Downloading: 100%",
            "_view_count": null,
            "_view_module_version": "1.5.0",
            "description_tooltip": null,
            "_model_module": "@jupyter-widgets/controls",
            "layout": "IPY_MODEL_174f538df9e547f790e7bd1df87eeb32"
          }
        },
        "7603eaf0f9c848b4a6bf10adf5168b89": {
          "model_module": "@jupyter-widgets/controls",
          "model_name": "FloatProgressModel",
          "model_module_version": "1.5.0",
          "state": {
            "_view_name": "ProgressView",
            "style": "IPY_MODEL_b06efd8b3ece486a987e20ec8240e31d",
            "_dom_classes": [],
            "description": "",
            "_model_name": "FloatProgressModel",
            "bar_style": "success",
            "max": 612,
            "_view_module": "@jupyter-widgets/controls",
            "_model_module_version": "1.5.0",
            "value": 612,
            "_view_count": null,
            "_view_module_version": "1.5.0",
            "orientation": "horizontal",
            "min": 0,
            "description_tooltip": null,
            "_model_module": "@jupyter-widgets/controls",
            "layout": "IPY_MODEL_736c7cc5de2e464794d60bed1bb5b457"
          }
        },
        "4f8ace9bcf714f7ab5a8408a5b17eb05": {
          "model_module": "@jupyter-widgets/controls",
          "model_name": "HTMLModel",
          "model_module_version": "1.5.0",
          "state": {
            "_view_name": "HTMLView",
            "style": "IPY_MODEL_821a9c80601542b4aa3336488fbb8ab4",
            "_dom_classes": [],
            "description": "",
            "_model_name": "HTMLModel",
            "placeholder": "​",
            "_view_module": "@jupyter-widgets/controls",
            "_model_module_version": "1.5.0",
            "value": " 612/612 [00:00&lt;00:00, 13.0kB/s]",
            "_view_count": null,
            "_view_module_version": "1.5.0",
            "description_tooltip": null,
            "_model_module": "@jupyter-widgets/controls",
            "layout": "IPY_MODEL_f8be5735e0ab4618bf7a8375511286e0"
          }
        },
        "2237446700da4b4ba8d10ee5b0748f9f": {
          "model_module": "@jupyter-widgets/controls",
          "model_name": "DescriptionStyleModel",
          "model_module_version": "1.5.0",
          "state": {
            "_view_name": "StyleView",
            "_model_name": "DescriptionStyleModel",
            "description_width": "",
            "_view_module": "@jupyter-widgets/base",
            "_model_module_version": "1.5.0",
            "_view_count": null,
            "_view_module_version": "1.2.0",
            "_model_module": "@jupyter-widgets/controls"
          }
        },
        "174f538df9e547f790e7bd1df87eeb32": {
          "model_module": "@jupyter-widgets/base",
          "model_name": "LayoutModel",
          "model_module_version": "1.2.0",
          "state": {
            "_view_name": "LayoutView",
            "grid_template_rows": null,
            "right": null,
            "justify_content": null,
            "_view_module": "@jupyter-widgets/base",
            "overflow": null,
            "_model_module_version": "1.2.0",
            "_view_count": null,
            "flex_flow": null,
            "width": null,
            "min_width": null,
            "border": null,
            "align_items": null,
            "bottom": null,
            "_model_module": "@jupyter-widgets/base",
            "top": null,
            "grid_column": null,
            "overflow_y": null,
            "overflow_x": null,
            "grid_auto_flow": null,
            "grid_area": null,
            "grid_template_columns": null,
            "flex": null,
            "_model_name": "LayoutModel",
            "justify_items": null,
            "grid_row": null,
            "max_height": null,
            "align_content": null,
            "visibility": null,
            "align_self": null,
            "height": null,
            "min_height": null,
            "padding": null,
            "grid_auto_rows": null,
            "grid_gap": null,
            "max_width": null,
            "order": null,
            "_view_module_version": "1.2.0",
            "grid_template_areas": null,
            "object_position": null,
            "object_fit": null,
            "grid_auto_columns": null,
            "margin": null,
            "display": null,
            "left": null
          }
        },
        "b06efd8b3ece486a987e20ec8240e31d": {
          "model_module": "@jupyter-widgets/controls",
          "model_name": "ProgressStyleModel",
          "model_module_version": "1.5.0",
          "state": {
            "_view_name": "StyleView",
            "_model_name": "ProgressStyleModel",
            "description_width": "",
            "_view_module": "@jupyter-widgets/base",
            "_model_module_version": "1.5.0",
            "_view_count": null,
            "_view_module_version": "1.2.0",
            "bar_color": null,
            "_model_module": "@jupyter-widgets/controls"
          }
        },
        "736c7cc5de2e464794d60bed1bb5b457": {
          "model_module": "@jupyter-widgets/base",
          "model_name": "LayoutModel",
          "model_module_version": "1.2.0",
          "state": {
            "_view_name": "LayoutView",
            "grid_template_rows": null,
            "right": null,
            "justify_content": null,
            "_view_module": "@jupyter-widgets/base",
            "overflow": null,
            "_model_module_version": "1.2.0",
            "_view_count": null,
            "flex_flow": null,
            "width": null,
            "min_width": null,
            "border": null,
            "align_items": null,
            "bottom": null,
            "_model_module": "@jupyter-widgets/base",
            "top": null,
            "grid_column": null,
            "overflow_y": null,
            "overflow_x": null,
            "grid_auto_flow": null,
            "grid_area": null,
            "grid_template_columns": null,
            "flex": null,
            "_model_name": "LayoutModel",
            "justify_items": null,
            "grid_row": null,
            "max_height": null,
            "align_content": null,
            "visibility": null,
            "align_self": null,
            "height": null,
            "min_height": null,
            "padding": null,
            "grid_auto_rows": null,
            "grid_gap": null,
            "max_width": null,
            "order": null,
            "_view_module_version": "1.2.0",
            "grid_template_areas": null,
            "object_position": null,
            "object_fit": null,
            "grid_auto_columns": null,
            "margin": null,
            "display": null,
            "left": null
          }
        },
        "821a9c80601542b4aa3336488fbb8ab4": {
          "model_module": "@jupyter-widgets/controls",
          "model_name": "DescriptionStyleModel",
          "model_module_version": "1.5.0",
          "state": {
            "_view_name": "StyleView",
            "_model_name": "DescriptionStyleModel",
            "description_width": "",
            "_view_module": "@jupyter-widgets/base",
            "_model_module_version": "1.5.0",
            "_view_count": null,
            "_view_module_version": "1.2.0",
            "_model_module": "@jupyter-widgets/controls"
          }
        },
        "f8be5735e0ab4618bf7a8375511286e0": {
          "model_module": "@jupyter-widgets/base",
          "model_name": "LayoutModel",
          "model_module_version": "1.2.0",
          "state": {
            "_view_name": "LayoutView",
            "grid_template_rows": null,
            "right": null,
            "justify_content": null,
            "_view_module": "@jupyter-widgets/base",
            "overflow": null,
            "_model_module_version": "1.2.0",
            "_view_count": null,
            "flex_flow": null,
            "width": null,
            "min_width": null,
            "border": null,
            "align_items": null,
            "bottom": null,
            "_model_module": "@jupyter-widgets/base",
            "top": null,
            "grid_column": null,
            "overflow_y": null,
            "overflow_x": null,
            "grid_auto_flow": null,
            "grid_area": null,
            "grid_template_columns": null,
            "flex": null,
            "_model_name": "LayoutModel",
            "justify_items": null,
            "grid_row": null,
            "max_height": null,
            "align_content": null,
            "visibility": null,
            "align_self": null,
            "height": null,
            "min_height": null,
            "padding": null,
            "grid_auto_rows": null,
            "grid_gap": null,
            "max_width": null,
            "order": null,
            "_view_module_version": "1.2.0",
            "grid_template_areas": null,
            "object_position": null,
            "object_fit": null,
            "grid_auto_columns": null,
            "margin": null,
            "display": null,
            "left": null
          }
        },
        "a116c9215e20488da7126ed1ea4eefd4": {
          "model_module": "@jupyter-widgets/controls",
          "model_name": "HBoxModel",
          "model_module_version": "1.5.0",
          "state": {
            "_view_name": "HBoxView",
            "_dom_classes": [],
            "_model_name": "HBoxModel",
            "_view_module": "@jupyter-widgets/controls",
            "_model_module_version": "1.5.0",
            "_view_count": null,
            "_view_module_version": "1.5.0",
            "box_style": "",
            "layout": "IPY_MODEL_bedad85693754e469c3f6066f7b6dc9e",
            "_model_module": "@jupyter-widgets/controls",
            "children": [
              "IPY_MODEL_b35d46f2f01d488697b8c9fbdec2c5ac",
              "IPY_MODEL_80c9fd2ace3b400a83f58d7eb3ba5e58",
              "IPY_MODEL_d7882985a398474d930b6201211138d8"
            ]
          }
        },
        "bedad85693754e469c3f6066f7b6dc9e": {
          "model_module": "@jupyter-widgets/base",
          "model_name": "LayoutModel",
          "model_module_version": "1.2.0",
          "state": {
            "_view_name": "LayoutView",
            "grid_template_rows": null,
            "right": null,
            "justify_content": null,
            "_view_module": "@jupyter-widgets/base",
            "overflow": null,
            "_model_module_version": "1.2.0",
            "_view_count": null,
            "flex_flow": null,
            "width": null,
            "min_width": null,
            "border": null,
            "align_items": null,
            "bottom": null,
            "_model_module": "@jupyter-widgets/base",
            "top": null,
            "grid_column": null,
            "overflow_y": null,
            "overflow_x": null,
            "grid_auto_flow": null,
            "grid_area": null,
            "grid_template_columns": null,
            "flex": null,
            "_model_name": "LayoutModel",
            "justify_items": null,
            "grid_row": null,
            "max_height": null,
            "align_content": null,
            "visibility": null,
            "align_self": null,
            "height": null,
            "min_height": null,
            "padding": null,
            "grid_auto_rows": null,
            "grid_gap": null,
            "max_width": null,
            "order": null,
            "_view_module_version": "1.2.0",
            "grid_template_areas": null,
            "object_position": null,
            "object_fit": null,
            "grid_auto_columns": null,
            "margin": null,
            "display": null,
            "left": null
          }
        },
        "b35d46f2f01d488697b8c9fbdec2c5ac": {
          "model_module": "@jupyter-widgets/controls",
          "model_name": "HTMLModel",
          "model_module_version": "1.5.0",
          "state": {
            "_view_name": "HTMLView",
            "style": "IPY_MODEL_a4d10d1c68c24f4cbc2de5d1ef5b0f48",
            "_dom_classes": [],
            "description": "",
            "_model_name": "HTMLModel",
            "placeholder": "​",
            "_view_module": "@jupyter-widgets/controls",
            "_model_module_version": "1.5.0",
            "value": "Downloading: 100%",
            "_view_count": null,
            "_view_module_version": "1.5.0",
            "description_tooltip": null,
            "_model_module": "@jupyter-widgets/controls",
            "layout": "IPY_MODEL_e9a1666fd2d944a9924e3e45ffb3c7f9"
          }
        },
        "80c9fd2ace3b400a83f58d7eb3ba5e58": {
          "model_module": "@jupyter-widgets/controls",
          "model_name": "FloatProgressModel",
          "model_module_version": "1.5.0",
          "state": {
            "_view_name": "ProgressView",
            "style": "IPY_MODEL_33d0c5ec19cc4daf94f138f9ccf6c41d",
            "_dom_classes": [],
            "description": "",
            "_model_name": "FloatProgressModel",
            "bar_style": "success",
            "max": 116,
            "_view_module": "@jupyter-widgets/controls",
            "_model_module_version": "1.5.0",
            "value": 116,
            "_view_count": null,
            "_view_module_version": "1.5.0",
            "orientation": "horizontal",
            "min": 0,
            "description_tooltip": null,
            "_model_module": "@jupyter-widgets/controls",
            "layout": "IPY_MODEL_6a40231ba0b14c5ab2c0347c4d47dcaf"
          }
        },
        "d7882985a398474d930b6201211138d8": {
          "model_module": "@jupyter-widgets/controls",
          "model_name": "HTMLModel",
          "model_module_version": "1.5.0",
          "state": {
            "_view_name": "HTMLView",
            "style": "IPY_MODEL_4f35fabc88f24fb193e4b32fd4b10b98",
            "_dom_classes": [],
            "description": "",
            "_model_name": "HTMLModel",
            "placeholder": "​",
            "_view_module": "@jupyter-widgets/controls",
            "_model_module_version": "1.5.0",
            "value": " 116/116 [00:00&lt;00:00, 2.76kB/s]",
            "_view_count": null,
            "_view_module_version": "1.5.0",
            "description_tooltip": null,
            "_model_module": "@jupyter-widgets/controls",
            "layout": "IPY_MODEL_fe74b842e5e54a6ab3a420316c23ea6d"
          }
        },
        "a4d10d1c68c24f4cbc2de5d1ef5b0f48": {
          "model_module": "@jupyter-widgets/controls",
          "model_name": "DescriptionStyleModel",
          "model_module_version": "1.5.0",
          "state": {
            "_view_name": "StyleView",
            "_model_name": "DescriptionStyleModel",
            "description_width": "",
            "_view_module": "@jupyter-widgets/base",
            "_model_module_version": "1.5.0",
            "_view_count": null,
            "_view_module_version": "1.2.0",
            "_model_module": "@jupyter-widgets/controls"
          }
        },
        "e9a1666fd2d944a9924e3e45ffb3c7f9": {
          "model_module": "@jupyter-widgets/base",
          "model_name": "LayoutModel",
          "model_module_version": "1.2.0",
          "state": {
            "_view_name": "LayoutView",
            "grid_template_rows": null,
            "right": null,
            "justify_content": null,
            "_view_module": "@jupyter-widgets/base",
            "overflow": null,
            "_model_module_version": "1.2.0",
            "_view_count": null,
            "flex_flow": null,
            "width": null,
            "min_width": null,
            "border": null,
            "align_items": null,
            "bottom": null,
            "_model_module": "@jupyter-widgets/base",
            "top": null,
            "grid_column": null,
            "overflow_y": null,
            "overflow_x": null,
            "grid_auto_flow": null,
            "grid_area": null,
            "grid_template_columns": null,
            "flex": null,
            "_model_name": "LayoutModel",
            "justify_items": null,
            "grid_row": null,
            "max_height": null,
            "align_content": null,
            "visibility": null,
            "align_self": null,
            "height": null,
            "min_height": null,
            "padding": null,
            "grid_auto_rows": null,
            "grid_gap": null,
            "max_width": null,
            "order": null,
            "_view_module_version": "1.2.0",
            "grid_template_areas": null,
            "object_position": null,
            "object_fit": null,
            "grid_auto_columns": null,
            "margin": null,
            "display": null,
            "left": null
          }
        },
        "33d0c5ec19cc4daf94f138f9ccf6c41d": {
          "model_module": "@jupyter-widgets/controls",
          "model_name": "ProgressStyleModel",
          "model_module_version": "1.5.0",
          "state": {
            "_view_name": "StyleView",
            "_model_name": "ProgressStyleModel",
            "description_width": "",
            "_view_module": "@jupyter-widgets/base",
            "_model_module_version": "1.5.0",
            "_view_count": null,
            "_view_module_version": "1.2.0",
            "bar_color": null,
            "_model_module": "@jupyter-widgets/controls"
          }
        },
        "6a40231ba0b14c5ab2c0347c4d47dcaf": {
          "model_module": "@jupyter-widgets/base",
          "model_name": "LayoutModel",
          "model_module_version": "1.2.0",
          "state": {
            "_view_name": "LayoutView",
            "grid_template_rows": null,
            "right": null,
            "justify_content": null,
            "_view_module": "@jupyter-widgets/base",
            "overflow": null,
            "_model_module_version": "1.2.0",
            "_view_count": null,
            "flex_flow": null,
            "width": null,
            "min_width": null,
            "border": null,
            "align_items": null,
            "bottom": null,
            "_model_module": "@jupyter-widgets/base",
            "top": null,
            "grid_column": null,
            "overflow_y": null,
            "overflow_x": null,
            "grid_auto_flow": null,
            "grid_area": null,
            "grid_template_columns": null,
            "flex": null,
            "_model_name": "LayoutModel",
            "justify_items": null,
            "grid_row": null,
            "max_height": null,
            "align_content": null,
            "visibility": null,
            "align_self": null,
            "height": null,
            "min_height": null,
            "padding": null,
            "grid_auto_rows": null,
            "grid_gap": null,
            "max_width": null,
            "order": null,
            "_view_module_version": "1.2.0",
            "grid_template_areas": null,
            "object_position": null,
            "object_fit": null,
            "grid_auto_columns": null,
            "margin": null,
            "display": null,
            "left": null
          }
        },
        "4f35fabc88f24fb193e4b32fd4b10b98": {
          "model_module": "@jupyter-widgets/controls",
          "model_name": "DescriptionStyleModel",
          "model_module_version": "1.5.0",
          "state": {
            "_view_name": "StyleView",
            "_model_name": "DescriptionStyleModel",
            "description_width": "",
            "_view_module": "@jupyter-widgets/base",
            "_model_module_version": "1.5.0",
            "_view_count": null,
            "_view_module_version": "1.2.0",
            "_model_module": "@jupyter-widgets/controls"
          }
        },
        "fe74b842e5e54a6ab3a420316c23ea6d": {
          "model_module": "@jupyter-widgets/base",
          "model_name": "LayoutModel",
          "model_module_version": "1.2.0",
          "state": {
            "_view_name": "LayoutView",
            "grid_template_rows": null,
            "right": null,
            "justify_content": null,
            "_view_module": "@jupyter-widgets/base",
            "overflow": null,
            "_model_module_version": "1.2.0",
            "_view_count": null,
            "flex_flow": null,
            "width": null,
            "min_width": null,
            "border": null,
            "align_items": null,
            "bottom": null,
            "_model_module": "@jupyter-widgets/base",
            "top": null,
            "grid_column": null,
            "overflow_y": null,
            "overflow_x": null,
            "grid_auto_flow": null,
            "grid_area": null,
            "grid_template_columns": null,
            "flex": null,
            "_model_name": "LayoutModel",
            "justify_items": null,
            "grid_row": null,
            "max_height": null,
            "align_content": null,
            "visibility": null,
            "align_self": null,
            "height": null,
            "min_height": null,
            "padding": null,
            "grid_auto_rows": null,
            "grid_gap": null,
            "max_width": null,
            "order": null,
            "_view_module_version": "1.2.0",
            "grid_template_areas": null,
            "object_position": null,
            "object_fit": null,
            "grid_auto_columns": null,
            "margin": null,
            "display": null,
            "left": null
          }
        },
        "b1dc9398cbc0454fbb245f1e1b2b4bcb": {
          "model_module": "@jupyter-widgets/controls",
          "model_name": "HBoxModel",
          "model_module_version": "1.5.0",
          "state": {
            "_view_name": "HBoxView",
            "_dom_classes": [],
            "_model_name": "HBoxModel",
            "_view_module": "@jupyter-widgets/controls",
            "_model_module_version": "1.5.0",
            "_view_count": null,
            "_view_module_version": "1.5.0",
            "box_style": "",
            "layout": "IPY_MODEL_6c722f3700884ac7bd8c8d0c0cc2a8c7",
            "_model_module": "@jupyter-widgets/controls",
            "children": [
              "IPY_MODEL_310ffde4ab1d4ced8e81c34927173ad0",
              "IPY_MODEL_45dff42d10b24e2d92bccfff7c9f850e",
              "IPY_MODEL_aa0b98bb0d884265abfb85d207519ba0"
            ]
          }
        },
        "6c722f3700884ac7bd8c8d0c0cc2a8c7": {
          "model_module": "@jupyter-widgets/base",
          "model_name": "LayoutModel",
          "model_module_version": "1.2.0",
          "state": {
            "_view_name": "LayoutView",
            "grid_template_rows": null,
            "right": null,
            "justify_content": null,
            "_view_module": "@jupyter-widgets/base",
            "overflow": null,
            "_model_module_version": "1.2.0",
            "_view_count": null,
            "flex_flow": null,
            "width": null,
            "min_width": null,
            "border": null,
            "align_items": null,
            "bottom": null,
            "_model_module": "@jupyter-widgets/base",
            "top": null,
            "grid_column": null,
            "overflow_y": null,
            "overflow_x": null,
            "grid_auto_flow": null,
            "grid_area": null,
            "grid_template_columns": null,
            "flex": null,
            "_model_name": "LayoutModel",
            "justify_items": null,
            "grid_row": null,
            "max_height": null,
            "align_content": null,
            "visibility": null,
            "align_self": null,
            "height": null,
            "min_height": null,
            "padding": null,
            "grid_auto_rows": null,
            "grid_gap": null,
            "max_width": null,
            "order": null,
            "_view_module_version": "1.2.0",
            "grid_template_areas": null,
            "object_position": null,
            "object_fit": null,
            "grid_auto_columns": null,
            "margin": null,
            "display": null,
            "left": null
          }
        },
        "310ffde4ab1d4ced8e81c34927173ad0": {
          "model_module": "@jupyter-widgets/controls",
          "model_name": "HTMLModel",
          "model_module_version": "1.5.0",
          "state": {
            "_view_name": "HTMLView",
            "style": "IPY_MODEL_28aba092df3448668c5298bc4d869820",
            "_dom_classes": [],
            "description": "",
            "_model_name": "HTMLModel",
            "placeholder": "​",
            "_view_module": "@jupyter-widgets/controls",
            "_model_module_version": "1.5.0",
            "value": "Downloading: 100%",
            "_view_count": null,
            "_view_module_version": "1.5.0",
            "description_tooltip": null,
            "_model_module": "@jupyter-widgets/controls",
            "layout": "IPY_MODEL_0e55cddf87394663b8b7f138602a0105"
          }
        },
        "45dff42d10b24e2d92bccfff7c9f850e": {
          "model_module": "@jupyter-widgets/controls",
          "model_name": "FloatProgressModel",
          "model_module_version": "1.5.0",
          "state": {
            "_view_name": "ProgressView",
            "style": "IPY_MODEL_8f8418e43c5f4c65a54679d57968f3ec",
            "_dom_classes": [],
            "description": "",
            "_model_name": "FloatProgressModel",
            "bar_style": "success",
            "max": 39265,
            "_view_module": "@jupyter-widgets/controls",
            "_model_module_version": "1.5.0",
            "value": 39265,
            "_view_count": null,
            "_view_module_version": "1.5.0",
            "orientation": "horizontal",
            "min": 0,
            "description_tooltip": null,
            "_model_module": "@jupyter-widgets/controls",
            "layout": "IPY_MODEL_24eb9349006a4ca3bd41741c78ea2728"
          }
        },
        "aa0b98bb0d884265abfb85d207519ba0": {
          "model_module": "@jupyter-widgets/controls",
          "model_name": "HTMLModel",
          "model_module_version": "1.5.0",
          "state": {
            "_view_name": "HTMLView",
            "style": "IPY_MODEL_5ed975f989184721a7ed54d10b80bf6b",
            "_dom_classes": [],
            "description": "",
            "_model_name": "HTMLModel",
            "placeholder": "​",
            "_view_module": "@jupyter-widgets/controls",
            "_model_module_version": "1.5.0",
            "value": " 39.3k/39.3k [00:00&lt;00:00, 707kB/s]",
            "_view_count": null,
            "_view_module_version": "1.5.0",
            "description_tooltip": null,
            "_model_module": "@jupyter-widgets/controls",
            "layout": "IPY_MODEL_e43a31b7b5c14e06adab234738de9c93"
          }
        },
        "28aba092df3448668c5298bc4d869820": {
          "model_module": "@jupyter-widgets/controls",
          "model_name": "DescriptionStyleModel",
          "model_module_version": "1.5.0",
          "state": {
            "_view_name": "StyleView",
            "_model_name": "DescriptionStyleModel",
            "description_width": "",
            "_view_module": "@jupyter-widgets/base",
            "_model_module_version": "1.5.0",
            "_view_count": null,
            "_view_module_version": "1.2.0",
            "_model_module": "@jupyter-widgets/controls"
          }
        },
        "0e55cddf87394663b8b7f138602a0105": {
          "model_module": "@jupyter-widgets/base",
          "model_name": "LayoutModel",
          "model_module_version": "1.2.0",
          "state": {
            "_view_name": "LayoutView",
            "grid_template_rows": null,
            "right": null,
            "justify_content": null,
            "_view_module": "@jupyter-widgets/base",
            "overflow": null,
            "_model_module_version": "1.2.0",
            "_view_count": null,
            "flex_flow": null,
            "width": null,
            "min_width": null,
            "border": null,
            "align_items": null,
            "bottom": null,
            "_model_module": "@jupyter-widgets/base",
            "top": null,
            "grid_column": null,
            "overflow_y": null,
            "overflow_x": null,
            "grid_auto_flow": null,
            "grid_area": null,
            "grid_template_columns": null,
            "flex": null,
            "_model_name": "LayoutModel",
            "justify_items": null,
            "grid_row": null,
            "max_height": null,
            "align_content": null,
            "visibility": null,
            "align_self": null,
            "height": null,
            "min_height": null,
            "padding": null,
            "grid_auto_rows": null,
            "grid_gap": null,
            "max_width": null,
            "order": null,
            "_view_module_version": "1.2.0",
            "grid_template_areas": null,
            "object_position": null,
            "object_fit": null,
            "grid_auto_columns": null,
            "margin": null,
            "display": null,
            "left": null
          }
        },
        "8f8418e43c5f4c65a54679d57968f3ec": {
          "model_module": "@jupyter-widgets/controls",
          "model_name": "ProgressStyleModel",
          "model_module_version": "1.5.0",
          "state": {
            "_view_name": "StyleView",
            "_model_name": "ProgressStyleModel",
            "description_width": "",
            "_view_module": "@jupyter-widgets/base",
            "_model_module_version": "1.5.0",
            "_view_count": null,
            "_view_module_version": "1.2.0",
            "bar_color": null,
            "_model_module": "@jupyter-widgets/controls"
          }
        },
        "24eb9349006a4ca3bd41741c78ea2728": {
          "model_module": "@jupyter-widgets/base",
          "model_name": "LayoutModel",
          "model_module_version": "1.2.0",
          "state": {
            "_view_name": "LayoutView",
            "grid_template_rows": null,
            "right": null,
            "justify_content": null,
            "_view_module": "@jupyter-widgets/base",
            "overflow": null,
            "_model_module_version": "1.2.0",
            "_view_count": null,
            "flex_flow": null,
            "width": null,
            "min_width": null,
            "border": null,
            "align_items": null,
            "bottom": null,
            "_model_module": "@jupyter-widgets/base",
            "top": null,
            "grid_column": null,
            "overflow_y": null,
            "overflow_x": null,
            "grid_auto_flow": null,
            "grid_area": null,
            "grid_template_columns": null,
            "flex": null,
            "_model_name": "LayoutModel",
            "justify_items": null,
            "grid_row": null,
            "max_height": null,
            "align_content": null,
            "visibility": null,
            "align_self": null,
            "height": null,
            "min_height": null,
            "padding": null,
            "grid_auto_rows": null,
            "grid_gap": null,
            "max_width": null,
            "order": null,
            "_view_module_version": "1.2.0",
            "grid_template_areas": null,
            "object_position": null,
            "object_fit": null,
            "grid_auto_columns": null,
            "margin": null,
            "display": null,
            "left": null
          }
        },
        "5ed975f989184721a7ed54d10b80bf6b": {
          "model_module": "@jupyter-widgets/controls",
          "model_name": "DescriptionStyleModel",
          "model_module_version": "1.5.0",
          "state": {
            "_view_name": "StyleView",
            "_model_name": "DescriptionStyleModel",
            "description_width": "",
            "_view_module": "@jupyter-widgets/base",
            "_model_module_version": "1.5.0",
            "_view_count": null,
            "_view_module_version": "1.2.0",
            "_model_module": "@jupyter-widgets/controls"
          }
        },
        "e43a31b7b5c14e06adab234738de9c93": {
          "model_module": "@jupyter-widgets/base",
          "model_name": "LayoutModel",
          "model_module_version": "1.2.0",
          "state": {
            "_view_name": "LayoutView",
            "grid_template_rows": null,
            "right": null,
            "justify_content": null,
            "_view_module": "@jupyter-widgets/base",
            "overflow": null,
            "_model_module_version": "1.2.0",
            "_view_count": null,
            "flex_flow": null,
            "width": null,
            "min_width": null,
            "border": null,
            "align_items": null,
            "bottom": null,
            "_model_module": "@jupyter-widgets/base",
            "top": null,
            "grid_column": null,
            "overflow_y": null,
            "overflow_x": null,
            "grid_auto_flow": null,
            "grid_area": null,
            "grid_template_columns": null,
            "flex": null,
            "_model_name": "LayoutModel",
            "justify_items": null,
            "grid_row": null,
            "max_height": null,
            "align_content": null,
            "visibility": null,
            "align_self": null,
            "height": null,
            "min_height": null,
            "padding": null,
            "grid_auto_rows": null,
            "grid_gap": null,
            "max_width": null,
            "order": null,
            "_view_module_version": "1.2.0",
            "grid_template_areas": null,
            "object_position": null,
            "object_fit": null,
            "grid_auto_columns": null,
            "margin": null,
            "display": null,
            "left": null
          }
        },
        "b76683d5fb5f4d46866396160dd55821": {
          "model_module": "@jupyter-widgets/controls",
          "model_name": "HBoxModel",
          "model_module_version": "1.5.0",
          "state": {
            "_view_name": "HBoxView",
            "_dom_classes": [],
            "_model_name": "HBoxModel",
            "_view_module": "@jupyter-widgets/controls",
            "_model_module_version": "1.5.0",
            "_view_count": null,
            "_view_module_version": "1.5.0",
            "box_style": "",
            "layout": "IPY_MODEL_aa1b0f6cda7840079683b0dfcf9ab321",
            "_model_module": "@jupyter-widgets/controls",
            "children": [
              "IPY_MODEL_3e8d2c664f5443b6a7fd0ec05fa68768",
              "IPY_MODEL_fcf5795e0a2c40f592ef7d538a7c54b0",
              "IPY_MODEL_1c0a4d934c3448db9bed9f2eae03c06d"
            ]
          }
        },
        "aa1b0f6cda7840079683b0dfcf9ab321": {
          "model_module": "@jupyter-widgets/base",
          "model_name": "LayoutModel",
          "model_module_version": "1.2.0",
          "state": {
            "_view_name": "LayoutView",
            "grid_template_rows": null,
            "right": null,
            "justify_content": null,
            "_view_module": "@jupyter-widgets/base",
            "overflow": null,
            "_model_module_version": "1.2.0",
            "_view_count": null,
            "flex_flow": null,
            "width": null,
            "min_width": null,
            "border": null,
            "align_items": null,
            "bottom": null,
            "_model_module": "@jupyter-widgets/base",
            "top": null,
            "grid_column": null,
            "overflow_y": null,
            "overflow_x": null,
            "grid_auto_flow": null,
            "grid_area": null,
            "grid_template_columns": null,
            "flex": null,
            "_model_name": "LayoutModel",
            "justify_items": null,
            "grid_row": null,
            "max_height": null,
            "align_content": null,
            "visibility": null,
            "align_self": null,
            "height": null,
            "min_height": null,
            "padding": null,
            "grid_auto_rows": null,
            "grid_gap": null,
            "max_width": null,
            "order": null,
            "_view_module_version": "1.2.0",
            "grid_template_areas": null,
            "object_position": null,
            "object_fit": null,
            "grid_auto_columns": null,
            "margin": null,
            "display": null,
            "left": null
          }
        },
        "3e8d2c664f5443b6a7fd0ec05fa68768": {
          "model_module": "@jupyter-widgets/controls",
          "model_name": "HTMLModel",
          "model_module_version": "1.5.0",
          "state": {
            "_view_name": "HTMLView",
            "style": "IPY_MODEL_6235be11b90e47cc99c0a0aa5604893e",
            "_dom_classes": [],
            "description": "",
            "_model_name": "HTMLModel",
            "placeholder": "​",
            "_view_module": "@jupyter-widgets/controls",
            "_model_module_version": "1.5.0",
            "value": "Downloading: 100%",
            "_view_count": null,
            "_view_module_version": "1.5.0",
            "description_tooltip": null,
            "_model_module": "@jupyter-widgets/controls",
            "layout": "IPY_MODEL_49f503a5100e4506aa4c2d549c3615cc"
          }
        },
        "fcf5795e0a2c40f592ef7d538a7c54b0": {
          "model_module": "@jupyter-widgets/controls",
          "model_name": "FloatProgressModel",
          "model_module_version": "1.5.0",
          "state": {
            "_view_name": "ProgressView",
            "style": "IPY_MODEL_4a5e72985d0447f5a062dc749a0d5a8e",
            "_dom_classes": [],
            "description": "",
            "_model_name": "FloatProgressModel",
            "bar_style": "success",
            "max": 349,
            "_view_module": "@jupyter-widgets/controls",
            "_model_module_version": "1.5.0",
            "value": 349,
            "_view_count": null,
            "_view_module_version": "1.5.0",
            "orientation": "horizontal",
            "min": 0,
            "description_tooltip": null,
            "_model_module": "@jupyter-widgets/controls",
            "layout": "IPY_MODEL_045f06c9cbcc4257982591393f68ca06"
          }
        },
        "1c0a4d934c3448db9bed9f2eae03c06d": {
          "model_module": "@jupyter-widgets/controls",
          "model_name": "HTMLModel",
          "model_module_version": "1.5.0",
          "state": {
            "_view_name": "HTMLView",
            "style": "IPY_MODEL_8ab1ef3d56f548899d12ee70f2e614b3",
            "_dom_classes": [],
            "description": "",
            "_model_name": "HTMLModel",
            "placeholder": "​",
            "_view_module": "@jupyter-widgets/controls",
            "_model_module_version": "1.5.0",
            "value": " 349/349 [00:00&lt;00:00, 6.19kB/s]",
            "_view_count": null,
            "_view_module_version": "1.5.0",
            "description_tooltip": null,
            "_model_module": "@jupyter-widgets/controls",
            "layout": "IPY_MODEL_af451df86369469697da6be8676cb6f4"
          }
        },
        "6235be11b90e47cc99c0a0aa5604893e": {
          "model_module": "@jupyter-widgets/controls",
          "model_name": "DescriptionStyleModel",
          "model_module_version": "1.5.0",
          "state": {
            "_view_name": "StyleView",
            "_model_name": "DescriptionStyleModel",
            "description_width": "",
            "_view_module": "@jupyter-widgets/base",
            "_model_module_version": "1.5.0",
            "_view_count": null,
            "_view_module_version": "1.2.0",
            "_model_module": "@jupyter-widgets/controls"
          }
        },
        "49f503a5100e4506aa4c2d549c3615cc": {
          "model_module": "@jupyter-widgets/base",
          "model_name": "LayoutModel",
          "model_module_version": "1.2.0",
          "state": {
            "_view_name": "LayoutView",
            "grid_template_rows": null,
            "right": null,
            "justify_content": null,
            "_view_module": "@jupyter-widgets/base",
            "overflow": null,
            "_model_module_version": "1.2.0",
            "_view_count": null,
            "flex_flow": null,
            "width": null,
            "min_width": null,
            "border": null,
            "align_items": null,
            "bottom": null,
            "_model_module": "@jupyter-widgets/base",
            "top": null,
            "grid_column": null,
            "overflow_y": null,
            "overflow_x": null,
            "grid_auto_flow": null,
            "grid_area": null,
            "grid_template_columns": null,
            "flex": null,
            "_model_name": "LayoutModel",
            "justify_items": null,
            "grid_row": null,
            "max_height": null,
            "align_content": null,
            "visibility": null,
            "align_self": null,
            "height": null,
            "min_height": null,
            "padding": null,
            "grid_auto_rows": null,
            "grid_gap": null,
            "max_width": null,
            "order": null,
            "_view_module_version": "1.2.0",
            "grid_template_areas": null,
            "object_position": null,
            "object_fit": null,
            "grid_auto_columns": null,
            "margin": null,
            "display": null,
            "left": null
          }
        },
        "4a5e72985d0447f5a062dc749a0d5a8e": {
          "model_module": "@jupyter-widgets/controls",
          "model_name": "ProgressStyleModel",
          "model_module_version": "1.5.0",
          "state": {
            "_view_name": "StyleView",
            "_model_name": "ProgressStyleModel",
            "description_width": "",
            "_view_module": "@jupyter-widgets/base",
            "_model_module_version": "1.5.0",
            "_view_count": null,
            "_view_module_version": "1.2.0",
            "bar_color": null,
            "_model_module": "@jupyter-widgets/controls"
          }
        },
        "045f06c9cbcc4257982591393f68ca06": {
          "model_module": "@jupyter-widgets/base",
          "model_name": "LayoutModel",
          "model_module_version": "1.2.0",
          "state": {
            "_view_name": "LayoutView",
            "grid_template_rows": null,
            "right": null,
            "justify_content": null,
            "_view_module": "@jupyter-widgets/base",
            "overflow": null,
            "_model_module_version": "1.2.0",
            "_view_count": null,
            "flex_flow": null,
            "width": null,
            "min_width": null,
            "border": null,
            "align_items": null,
            "bottom": null,
            "_model_module": "@jupyter-widgets/base",
            "top": null,
            "grid_column": null,
            "overflow_y": null,
            "overflow_x": null,
            "grid_auto_flow": null,
            "grid_area": null,
            "grid_template_columns": null,
            "flex": null,
            "_model_name": "LayoutModel",
            "justify_items": null,
            "grid_row": null,
            "max_height": null,
            "align_content": null,
            "visibility": null,
            "align_self": null,
            "height": null,
            "min_height": null,
            "padding": null,
            "grid_auto_rows": null,
            "grid_gap": null,
            "max_width": null,
            "order": null,
            "_view_module_version": "1.2.0",
            "grid_template_areas": null,
            "object_position": null,
            "object_fit": null,
            "grid_auto_columns": null,
            "margin": null,
            "display": null,
            "left": null
          }
        },
        "8ab1ef3d56f548899d12ee70f2e614b3": {
          "model_module": "@jupyter-widgets/controls",
          "model_name": "DescriptionStyleModel",
          "model_module_version": "1.5.0",
          "state": {
            "_view_name": "StyleView",
            "_model_name": "DescriptionStyleModel",
            "description_width": "",
            "_view_module": "@jupyter-widgets/base",
            "_model_module_version": "1.5.0",
            "_view_count": null,
            "_view_module_version": "1.2.0",
            "_model_module": "@jupyter-widgets/controls"
          }
        },
        "af451df86369469697da6be8676cb6f4": {
          "model_module": "@jupyter-widgets/base",
          "model_name": "LayoutModel",
          "model_module_version": "1.2.0",
          "state": {
            "_view_name": "LayoutView",
            "grid_template_rows": null,
            "right": null,
            "justify_content": null,
            "_view_module": "@jupyter-widgets/base",
            "overflow": null,
            "_model_module_version": "1.2.0",
            "_view_count": null,
            "flex_flow": null,
            "width": null,
            "min_width": null,
            "border": null,
            "align_items": null,
            "bottom": null,
            "_model_module": "@jupyter-widgets/base",
            "top": null,
            "grid_column": null,
            "overflow_y": null,
            "overflow_x": null,
            "grid_auto_flow": null,
            "grid_area": null,
            "grid_template_columns": null,
            "flex": null,
            "_model_name": "LayoutModel",
            "justify_items": null,
            "grid_row": null,
            "max_height": null,
            "align_content": null,
            "visibility": null,
            "align_self": null,
            "height": null,
            "min_height": null,
            "padding": null,
            "grid_auto_rows": null,
            "grid_gap": null,
            "max_width": null,
            "order": null,
            "_view_module_version": "1.2.0",
            "grid_template_areas": null,
            "object_position": null,
            "object_fit": null,
            "grid_auto_columns": null,
            "margin": null,
            "display": null,
            "left": null
          }
        },
        "a030e9a753a6425f911133e9535edd44": {
          "model_module": "@jupyter-widgets/controls",
          "model_name": "HBoxModel",
          "model_module_version": "1.5.0",
          "state": {
            "_view_name": "HBoxView",
            "_dom_classes": [],
            "_model_name": "HBoxModel",
            "_view_module": "@jupyter-widgets/controls",
            "_model_module_version": "1.5.0",
            "_view_count": null,
            "_view_module_version": "1.5.0",
            "box_style": "",
            "layout": "IPY_MODEL_7a714dca402d427f99a632ad99ada2b8",
            "_model_module": "@jupyter-widgets/controls",
            "children": [
              "IPY_MODEL_44977a49a94a4f5ca9d4ad33ce1c7938",
              "IPY_MODEL_1d5906e623d74734afa19713bab8c842",
              "IPY_MODEL_d69cb5c25fa94d74a125920739af5361"
            ]
          }
        },
        "7a714dca402d427f99a632ad99ada2b8": {
          "model_module": "@jupyter-widgets/base",
          "model_name": "LayoutModel",
          "model_module_version": "1.2.0",
          "state": {
            "_view_name": "LayoutView",
            "grid_template_rows": null,
            "right": null,
            "justify_content": null,
            "_view_module": "@jupyter-widgets/base",
            "overflow": null,
            "_model_module_version": "1.2.0",
            "_view_count": null,
            "flex_flow": null,
            "width": null,
            "min_width": null,
            "border": null,
            "align_items": null,
            "bottom": null,
            "_model_module": "@jupyter-widgets/base",
            "top": null,
            "grid_column": null,
            "overflow_y": null,
            "overflow_x": null,
            "grid_auto_flow": null,
            "grid_area": null,
            "grid_template_columns": null,
            "flex": null,
            "_model_name": "LayoutModel",
            "justify_items": null,
            "grid_row": null,
            "max_height": null,
            "align_content": null,
            "visibility": null,
            "align_self": null,
            "height": null,
            "min_height": null,
            "padding": null,
            "grid_auto_rows": null,
            "grid_gap": null,
            "max_width": null,
            "order": null,
            "_view_module_version": "1.2.0",
            "grid_template_areas": null,
            "object_position": null,
            "object_fit": null,
            "grid_auto_columns": null,
            "margin": null,
            "display": null,
            "left": null
          }
        },
        "44977a49a94a4f5ca9d4ad33ce1c7938": {
          "model_module": "@jupyter-widgets/controls",
          "model_name": "HTMLModel",
          "model_module_version": "1.5.0",
          "state": {
            "_view_name": "HTMLView",
            "style": "IPY_MODEL_473fb62481684562ad1be53d91185164",
            "_dom_classes": [],
            "description": "",
            "_model_name": "HTMLModel",
            "placeholder": "​",
            "_view_module": "@jupyter-widgets/controls",
            "_model_module_version": "1.5.0",
            "value": "Downloading: 100%",
            "_view_count": null,
            "_view_module_version": "1.5.0",
            "description_tooltip": null,
            "_model_module": "@jupyter-widgets/controls",
            "layout": "IPY_MODEL_1f676061543e41f1b191720d761230b2"
          }
        },
        "1d5906e623d74734afa19713bab8c842": {
          "model_module": "@jupyter-widgets/controls",
          "model_name": "FloatProgressModel",
          "model_module_version": "1.5.0",
          "state": {
            "_view_name": "ProgressView",
            "style": "IPY_MODEL_7e2cfe48ee964518828f87edfdf9e3d6",
            "_dom_classes": [],
            "description": "",
            "_model_name": "FloatProgressModel",
            "bar_style": "success",
            "max": 90888945,
            "_view_module": "@jupyter-widgets/controls",
            "_model_module_version": "1.5.0",
            "value": 90888945,
            "_view_count": null,
            "_view_module_version": "1.5.0",
            "orientation": "horizontal",
            "min": 0,
            "description_tooltip": null,
            "_model_module": "@jupyter-widgets/controls",
            "layout": "IPY_MODEL_4bc2aace961d40c49e8cd3dcf988142b"
          }
        },
        "d69cb5c25fa94d74a125920739af5361": {
          "model_module": "@jupyter-widgets/controls",
          "model_name": "HTMLModel",
          "model_module_version": "1.5.0",
          "state": {
            "_view_name": "HTMLView",
            "style": "IPY_MODEL_c82f075c1ab14b65b427d843ccb3e107",
            "_dom_classes": [],
            "description": "",
            "_model_name": "HTMLModel",
            "placeholder": "​",
            "_view_module": "@jupyter-widgets/controls",
            "_model_module_version": "1.5.0",
            "value": " 90.9M/90.9M [00:02&lt;00:00, 36.3MB/s]",
            "_view_count": null,
            "_view_module_version": "1.5.0",
            "description_tooltip": null,
            "_model_module": "@jupyter-widgets/controls",
            "layout": "IPY_MODEL_8326c8ee7ae749aab5480e935b0d6cab"
          }
        },
        "473fb62481684562ad1be53d91185164": {
          "model_module": "@jupyter-widgets/controls",
          "model_name": "DescriptionStyleModel",
          "model_module_version": "1.5.0",
          "state": {
            "_view_name": "StyleView",
            "_model_name": "DescriptionStyleModel",
            "description_width": "",
            "_view_module": "@jupyter-widgets/base",
            "_model_module_version": "1.5.0",
            "_view_count": null,
            "_view_module_version": "1.2.0",
            "_model_module": "@jupyter-widgets/controls"
          }
        },
        "1f676061543e41f1b191720d761230b2": {
          "model_module": "@jupyter-widgets/base",
          "model_name": "LayoutModel",
          "model_module_version": "1.2.0",
          "state": {
            "_view_name": "LayoutView",
            "grid_template_rows": null,
            "right": null,
            "justify_content": null,
            "_view_module": "@jupyter-widgets/base",
            "overflow": null,
            "_model_module_version": "1.2.0",
            "_view_count": null,
            "flex_flow": null,
            "width": null,
            "min_width": null,
            "border": null,
            "align_items": null,
            "bottom": null,
            "_model_module": "@jupyter-widgets/base",
            "top": null,
            "grid_column": null,
            "overflow_y": null,
            "overflow_x": null,
            "grid_auto_flow": null,
            "grid_area": null,
            "grid_template_columns": null,
            "flex": null,
            "_model_name": "LayoutModel",
            "justify_items": null,
            "grid_row": null,
            "max_height": null,
            "align_content": null,
            "visibility": null,
            "align_self": null,
            "height": null,
            "min_height": null,
            "padding": null,
            "grid_auto_rows": null,
            "grid_gap": null,
            "max_width": null,
            "order": null,
            "_view_module_version": "1.2.0",
            "grid_template_areas": null,
            "object_position": null,
            "object_fit": null,
            "grid_auto_columns": null,
            "margin": null,
            "display": null,
            "left": null
          }
        },
        "7e2cfe48ee964518828f87edfdf9e3d6": {
          "model_module": "@jupyter-widgets/controls",
          "model_name": "ProgressStyleModel",
          "model_module_version": "1.5.0",
          "state": {
            "_view_name": "StyleView",
            "_model_name": "ProgressStyleModel",
            "description_width": "",
            "_view_module": "@jupyter-widgets/base",
            "_model_module_version": "1.5.0",
            "_view_count": null,
            "_view_module_version": "1.2.0",
            "bar_color": null,
            "_model_module": "@jupyter-widgets/controls"
          }
        },
        "4bc2aace961d40c49e8cd3dcf988142b": {
          "model_module": "@jupyter-widgets/base",
          "model_name": "LayoutModel",
          "model_module_version": "1.2.0",
          "state": {
            "_view_name": "LayoutView",
            "grid_template_rows": null,
            "right": null,
            "justify_content": null,
            "_view_module": "@jupyter-widgets/base",
            "overflow": null,
            "_model_module_version": "1.2.0",
            "_view_count": null,
            "flex_flow": null,
            "width": null,
            "min_width": null,
            "border": null,
            "align_items": null,
            "bottom": null,
            "_model_module": "@jupyter-widgets/base",
            "top": null,
            "grid_column": null,
            "overflow_y": null,
            "overflow_x": null,
            "grid_auto_flow": null,
            "grid_area": null,
            "grid_template_columns": null,
            "flex": null,
            "_model_name": "LayoutModel",
            "justify_items": null,
            "grid_row": null,
            "max_height": null,
            "align_content": null,
            "visibility": null,
            "align_self": null,
            "height": null,
            "min_height": null,
            "padding": null,
            "grid_auto_rows": null,
            "grid_gap": null,
            "max_width": null,
            "order": null,
            "_view_module_version": "1.2.0",
            "grid_template_areas": null,
            "object_position": null,
            "object_fit": null,
            "grid_auto_columns": null,
            "margin": null,
            "display": null,
            "left": null
          }
        },
        "c82f075c1ab14b65b427d843ccb3e107": {
          "model_module": "@jupyter-widgets/controls",
          "model_name": "DescriptionStyleModel",
          "model_module_version": "1.5.0",
          "state": {
            "_view_name": "StyleView",
            "_model_name": "DescriptionStyleModel",
            "description_width": "",
            "_view_module": "@jupyter-widgets/base",
            "_model_module_version": "1.5.0",
            "_view_count": null,
            "_view_module_version": "1.2.0",
            "_model_module": "@jupyter-widgets/controls"
          }
        },
        "8326c8ee7ae749aab5480e935b0d6cab": {
          "model_module": "@jupyter-widgets/base",
          "model_name": "LayoutModel",
          "model_module_version": "1.2.0",
          "state": {
            "_view_name": "LayoutView",
            "grid_template_rows": null,
            "right": null,
            "justify_content": null,
            "_view_module": "@jupyter-widgets/base",
            "overflow": null,
            "_model_module_version": "1.2.0",
            "_view_count": null,
            "flex_flow": null,
            "width": null,
            "min_width": null,
            "border": null,
            "align_items": null,
            "bottom": null,
            "_model_module": "@jupyter-widgets/base",
            "top": null,
            "grid_column": null,
            "overflow_y": null,
            "overflow_x": null,
            "grid_auto_flow": null,
            "grid_area": null,
            "grid_template_columns": null,
            "flex": null,
            "_model_name": "LayoutModel",
            "justify_items": null,
            "grid_row": null,
            "max_height": null,
            "align_content": null,
            "visibility": null,
            "align_self": null,
            "height": null,
            "min_height": null,
            "padding": null,
            "grid_auto_rows": null,
            "grid_gap": null,
            "max_width": null,
            "order": null,
            "_view_module_version": "1.2.0",
            "grid_template_areas": null,
            "object_position": null,
            "object_fit": null,
            "grid_auto_columns": null,
            "margin": null,
            "display": null,
            "left": null
          }
        },
        "900d9a5752c74c7bbcfc21041ee5a18b": {
          "model_module": "@jupyter-widgets/controls",
          "model_name": "HBoxModel",
          "model_module_version": "1.5.0",
          "state": {
            "_view_name": "HBoxView",
            "_dom_classes": [],
            "_model_name": "HBoxModel",
            "_view_module": "@jupyter-widgets/controls",
            "_model_module_version": "1.5.0",
            "_view_count": null,
            "_view_module_version": "1.5.0",
            "box_style": "",
            "layout": "IPY_MODEL_2c109cccccfd43418f000e6efc7ca1ad",
            "_model_module": "@jupyter-widgets/controls",
            "children": [
              "IPY_MODEL_adef397dcb7e4980a3db379e65f2931e",
              "IPY_MODEL_69db99df01e94828af6e565559ca1509",
              "IPY_MODEL_7e4d289c73d44f9282faf6db471e40e5"
            ]
          }
        },
        "2c109cccccfd43418f000e6efc7ca1ad": {
          "model_module": "@jupyter-widgets/base",
          "model_name": "LayoutModel",
          "model_module_version": "1.2.0",
          "state": {
            "_view_name": "LayoutView",
            "grid_template_rows": null,
            "right": null,
            "justify_content": null,
            "_view_module": "@jupyter-widgets/base",
            "overflow": null,
            "_model_module_version": "1.2.0",
            "_view_count": null,
            "flex_flow": null,
            "width": null,
            "min_width": null,
            "border": null,
            "align_items": null,
            "bottom": null,
            "_model_module": "@jupyter-widgets/base",
            "top": null,
            "grid_column": null,
            "overflow_y": null,
            "overflow_x": null,
            "grid_auto_flow": null,
            "grid_area": null,
            "grid_template_columns": null,
            "flex": null,
            "_model_name": "LayoutModel",
            "justify_items": null,
            "grid_row": null,
            "max_height": null,
            "align_content": null,
            "visibility": null,
            "align_self": null,
            "height": null,
            "min_height": null,
            "padding": null,
            "grid_auto_rows": null,
            "grid_gap": null,
            "max_width": null,
            "order": null,
            "_view_module_version": "1.2.0",
            "grid_template_areas": null,
            "object_position": null,
            "object_fit": null,
            "grid_auto_columns": null,
            "margin": null,
            "display": null,
            "left": null
          }
        },
        "adef397dcb7e4980a3db379e65f2931e": {
          "model_module": "@jupyter-widgets/controls",
          "model_name": "HTMLModel",
          "model_module_version": "1.5.0",
          "state": {
            "_view_name": "HTMLView",
            "style": "IPY_MODEL_e9d3f374334648eea57673cb7299436c",
            "_dom_classes": [],
            "description": "",
            "_model_name": "HTMLModel",
            "placeholder": "​",
            "_view_module": "@jupyter-widgets/controls",
            "_model_module_version": "1.5.0",
            "value": "Downloading: 100%",
            "_view_count": null,
            "_view_module_version": "1.5.0",
            "description_tooltip": null,
            "_model_module": "@jupyter-widgets/controls",
            "layout": "IPY_MODEL_163553452fa848aea10e1ccaeaf9ad2b"
          }
        },
        "69db99df01e94828af6e565559ca1509": {
          "model_module": "@jupyter-widgets/controls",
          "model_name": "FloatProgressModel",
          "model_module_version": "1.5.0",
          "state": {
            "_view_name": "ProgressView",
            "style": "IPY_MODEL_0124a0df66e34138b64f6bf3ef624898",
            "_dom_classes": [],
            "description": "",
            "_model_name": "FloatProgressModel",
            "bar_style": "success",
            "max": 53,
            "_view_module": "@jupyter-widgets/controls",
            "_model_module_version": "1.5.0",
            "value": 53,
            "_view_count": null,
            "_view_module_version": "1.5.0",
            "orientation": "horizontal",
            "min": 0,
            "description_tooltip": null,
            "_model_module": "@jupyter-widgets/controls",
            "layout": "IPY_MODEL_d1af69eee52940ad89ae7c1d4351a3b0"
          }
        },
        "7e4d289c73d44f9282faf6db471e40e5": {
          "model_module": "@jupyter-widgets/controls",
          "model_name": "HTMLModel",
          "model_module_version": "1.5.0",
          "state": {
            "_view_name": "HTMLView",
            "style": "IPY_MODEL_5e61dae8556643e58c9161cb1747bee4",
            "_dom_classes": [],
            "description": "",
            "_model_name": "HTMLModel",
            "placeholder": "​",
            "_view_module": "@jupyter-widgets/controls",
            "_model_module_version": "1.5.0",
            "value": " 53.0/53.0 [00:00&lt;00:00, 1.03kB/s]",
            "_view_count": null,
            "_view_module_version": "1.5.0",
            "description_tooltip": null,
            "_model_module": "@jupyter-widgets/controls",
            "layout": "IPY_MODEL_5bb2531c679d4291971518a914f9d2c8"
          }
        },
        "e9d3f374334648eea57673cb7299436c": {
          "model_module": "@jupyter-widgets/controls",
          "model_name": "DescriptionStyleModel",
          "model_module_version": "1.5.0",
          "state": {
            "_view_name": "StyleView",
            "_model_name": "DescriptionStyleModel",
            "description_width": "",
            "_view_module": "@jupyter-widgets/base",
            "_model_module_version": "1.5.0",
            "_view_count": null,
            "_view_module_version": "1.2.0",
            "_model_module": "@jupyter-widgets/controls"
          }
        },
        "163553452fa848aea10e1ccaeaf9ad2b": {
          "model_module": "@jupyter-widgets/base",
          "model_name": "LayoutModel",
          "model_module_version": "1.2.0",
          "state": {
            "_view_name": "LayoutView",
            "grid_template_rows": null,
            "right": null,
            "justify_content": null,
            "_view_module": "@jupyter-widgets/base",
            "overflow": null,
            "_model_module_version": "1.2.0",
            "_view_count": null,
            "flex_flow": null,
            "width": null,
            "min_width": null,
            "border": null,
            "align_items": null,
            "bottom": null,
            "_model_module": "@jupyter-widgets/base",
            "top": null,
            "grid_column": null,
            "overflow_y": null,
            "overflow_x": null,
            "grid_auto_flow": null,
            "grid_area": null,
            "grid_template_columns": null,
            "flex": null,
            "_model_name": "LayoutModel",
            "justify_items": null,
            "grid_row": null,
            "max_height": null,
            "align_content": null,
            "visibility": null,
            "align_self": null,
            "height": null,
            "min_height": null,
            "padding": null,
            "grid_auto_rows": null,
            "grid_gap": null,
            "max_width": null,
            "order": null,
            "_view_module_version": "1.2.0",
            "grid_template_areas": null,
            "object_position": null,
            "object_fit": null,
            "grid_auto_columns": null,
            "margin": null,
            "display": null,
            "left": null
          }
        },
        "0124a0df66e34138b64f6bf3ef624898": {
          "model_module": "@jupyter-widgets/controls",
          "model_name": "ProgressStyleModel",
          "model_module_version": "1.5.0",
          "state": {
            "_view_name": "StyleView",
            "_model_name": "ProgressStyleModel",
            "description_width": "",
            "_view_module": "@jupyter-widgets/base",
            "_model_module_version": "1.5.0",
            "_view_count": null,
            "_view_module_version": "1.2.0",
            "bar_color": null,
            "_model_module": "@jupyter-widgets/controls"
          }
        },
        "d1af69eee52940ad89ae7c1d4351a3b0": {
          "model_module": "@jupyter-widgets/base",
          "model_name": "LayoutModel",
          "model_module_version": "1.2.0",
          "state": {
            "_view_name": "LayoutView",
            "grid_template_rows": null,
            "right": null,
            "justify_content": null,
            "_view_module": "@jupyter-widgets/base",
            "overflow": null,
            "_model_module_version": "1.2.0",
            "_view_count": null,
            "flex_flow": null,
            "width": null,
            "min_width": null,
            "border": null,
            "align_items": null,
            "bottom": null,
            "_model_module": "@jupyter-widgets/base",
            "top": null,
            "grid_column": null,
            "overflow_y": null,
            "overflow_x": null,
            "grid_auto_flow": null,
            "grid_area": null,
            "grid_template_columns": null,
            "flex": null,
            "_model_name": "LayoutModel",
            "justify_items": null,
            "grid_row": null,
            "max_height": null,
            "align_content": null,
            "visibility": null,
            "align_self": null,
            "height": null,
            "min_height": null,
            "padding": null,
            "grid_auto_rows": null,
            "grid_gap": null,
            "max_width": null,
            "order": null,
            "_view_module_version": "1.2.0",
            "grid_template_areas": null,
            "object_position": null,
            "object_fit": null,
            "grid_auto_columns": null,
            "margin": null,
            "display": null,
            "left": null
          }
        },
        "5e61dae8556643e58c9161cb1747bee4": {
          "model_module": "@jupyter-widgets/controls",
          "model_name": "DescriptionStyleModel",
          "model_module_version": "1.5.0",
          "state": {
            "_view_name": "StyleView",
            "_model_name": "DescriptionStyleModel",
            "description_width": "",
            "_view_module": "@jupyter-widgets/base",
            "_model_module_version": "1.5.0",
            "_view_count": null,
            "_view_module_version": "1.2.0",
            "_model_module": "@jupyter-widgets/controls"
          }
        },
        "5bb2531c679d4291971518a914f9d2c8": {
          "model_module": "@jupyter-widgets/base",
          "model_name": "LayoutModel",
          "model_module_version": "1.2.0",
          "state": {
            "_view_name": "LayoutView",
            "grid_template_rows": null,
            "right": null,
            "justify_content": null,
            "_view_module": "@jupyter-widgets/base",
            "overflow": null,
            "_model_module_version": "1.2.0",
            "_view_count": null,
            "flex_flow": null,
            "width": null,
            "min_width": null,
            "border": null,
            "align_items": null,
            "bottom": null,
            "_model_module": "@jupyter-widgets/base",
            "top": null,
            "grid_column": null,
            "overflow_y": null,
            "overflow_x": null,
            "grid_auto_flow": null,
            "grid_area": null,
            "grid_template_columns": null,
            "flex": null,
            "_model_name": "LayoutModel",
            "justify_items": null,
            "grid_row": null,
            "max_height": null,
            "align_content": null,
            "visibility": null,
            "align_self": null,
            "height": null,
            "min_height": null,
            "padding": null,
            "grid_auto_rows": null,
            "grid_gap": null,
            "max_width": null,
            "order": null,
            "_view_module_version": "1.2.0",
            "grid_template_areas": null,
            "object_position": null,
            "object_fit": null,
            "grid_auto_columns": null,
            "margin": null,
            "display": null,
            "left": null
          }
        },
        "70a1b678606d4b699f0a90caa8aaa06e": {
          "model_module": "@jupyter-widgets/controls",
          "model_name": "HBoxModel",
          "model_module_version": "1.5.0",
          "state": {
            "_view_name": "HBoxView",
            "_dom_classes": [],
            "_model_name": "HBoxModel",
            "_view_module": "@jupyter-widgets/controls",
            "_model_module_version": "1.5.0",
            "_view_count": null,
            "_view_module_version": "1.5.0",
            "box_style": "",
            "layout": "IPY_MODEL_fd566650cb334ca4a699dbea7d40cdb1",
            "_model_module": "@jupyter-widgets/controls",
            "children": [
              "IPY_MODEL_550781f89f864fc5aa2b880742476fe4",
              "IPY_MODEL_7030644106eb430585c91aafde2209d8",
              "IPY_MODEL_f530c792eaf54cc4a492a64855cc73ad"
            ]
          }
        },
        "fd566650cb334ca4a699dbea7d40cdb1": {
          "model_module": "@jupyter-widgets/base",
          "model_name": "LayoutModel",
          "model_module_version": "1.2.0",
          "state": {
            "_view_name": "LayoutView",
            "grid_template_rows": null,
            "right": null,
            "justify_content": null,
            "_view_module": "@jupyter-widgets/base",
            "overflow": null,
            "_model_module_version": "1.2.0",
            "_view_count": null,
            "flex_flow": null,
            "width": null,
            "min_width": null,
            "border": null,
            "align_items": null,
            "bottom": null,
            "_model_module": "@jupyter-widgets/base",
            "top": null,
            "grid_column": null,
            "overflow_y": null,
            "overflow_x": null,
            "grid_auto_flow": null,
            "grid_area": null,
            "grid_template_columns": null,
            "flex": null,
            "_model_name": "LayoutModel",
            "justify_items": null,
            "grid_row": null,
            "max_height": null,
            "align_content": null,
            "visibility": null,
            "align_self": null,
            "height": null,
            "min_height": null,
            "padding": null,
            "grid_auto_rows": null,
            "grid_gap": null,
            "max_width": null,
            "order": null,
            "_view_module_version": "1.2.0",
            "grid_template_areas": null,
            "object_position": null,
            "object_fit": null,
            "grid_auto_columns": null,
            "margin": null,
            "display": null,
            "left": null
          }
        },
        "550781f89f864fc5aa2b880742476fe4": {
          "model_module": "@jupyter-widgets/controls",
          "model_name": "HTMLModel",
          "model_module_version": "1.5.0",
          "state": {
            "_view_name": "HTMLView",
            "style": "IPY_MODEL_2c7b8ee5b012426588b62c4ff99821b4",
            "_dom_classes": [],
            "description": "",
            "_model_name": "HTMLModel",
            "placeholder": "​",
            "_view_module": "@jupyter-widgets/controls",
            "_model_module_version": "1.5.0",
            "value": "Downloading: 100%",
            "_view_count": null,
            "_view_module_version": "1.5.0",
            "description_tooltip": null,
            "_model_module": "@jupyter-widgets/controls",
            "layout": "IPY_MODEL_ba039ed9809141d6a7ff1658f18c0d4e"
          }
        },
        "7030644106eb430585c91aafde2209d8": {
          "model_module": "@jupyter-widgets/controls",
          "model_name": "FloatProgressModel",
          "model_module_version": "1.5.0",
          "state": {
            "_view_name": "ProgressView",
            "style": "IPY_MODEL_b431f1bcb20946fbbaa44c9bde4ac1fd",
            "_dom_classes": [],
            "description": "",
            "_model_name": "FloatProgressModel",
            "bar_style": "success",
            "max": 112,
            "_view_module": "@jupyter-widgets/controls",
            "_model_module_version": "1.5.0",
            "value": 112,
            "_view_count": null,
            "_view_module_version": "1.5.0",
            "orientation": "horizontal",
            "min": 0,
            "description_tooltip": null,
            "_model_module": "@jupyter-widgets/controls",
            "layout": "IPY_MODEL_3e2d4e0530a94909b8e0b1b5f345aade"
          }
        },
        "f530c792eaf54cc4a492a64855cc73ad": {
          "model_module": "@jupyter-widgets/controls",
          "model_name": "HTMLModel",
          "model_module_version": "1.5.0",
          "state": {
            "_view_name": "HTMLView",
            "style": "IPY_MODEL_e208c3d8a1034c3c990d74fab93307d5",
            "_dom_classes": [],
            "description": "",
            "_model_name": "HTMLModel",
            "placeholder": "​",
            "_view_module": "@jupyter-widgets/controls",
            "_model_module_version": "1.5.0",
            "value": " 112/112 [00:00&lt;00:00, 2.46kB/s]",
            "_view_count": null,
            "_view_module_version": "1.5.0",
            "description_tooltip": null,
            "_model_module": "@jupyter-widgets/controls",
            "layout": "IPY_MODEL_72d7e09f826649e59aae4c345666d762"
          }
        },
        "2c7b8ee5b012426588b62c4ff99821b4": {
          "model_module": "@jupyter-widgets/controls",
          "model_name": "DescriptionStyleModel",
          "model_module_version": "1.5.0",
          "state": {
            "_view_name": "StyleView",
            "_model_name": "DescriptionStyleModel",
            "description_width": "",
            "_view_module": "@jupyter-widgets/base",
            "_model_module_version": "1.5.0",
            "_view_count": null,
            "_view_module_version": "1.2.0",
            "_model_module": "@jupyter-widgets/controls"
          }
        },
        "ba039ed9809141d6a7ff1658f18c0d4e": {
          "model_module": "@jupyter-widgets/base",
          "model_name": "LayoutModel",
          "model_module_version": "1.2.0",
          "state": {
            "_view_name": "LayoutView",
            "grid_template_rows": null,
            "right": null,
            "justify_content": null,
            "_view_module": "@jupyter-widgets/base",
            "overflow": null,
            "_model_module_version": "1.2.0",
            "_view_count": null,
            "flex_flow": null,
            "width": null,
            "min_width": null,
            "border": null,
            "align_items": null,
            "bottom": null,
            "_model_module": "@jupyter-widgets/base",
            "top": null,
            "grid_column": null,
            "overflow_y": null,
            "overflow_x": null,
            "grid_auto_flow": null,
            "grid_area": null,
            "grid_template_columns": null,
            "flex": null,
            "_model_name": "LayoutModel",
            "justify_items": null,
            "grid_row": null,
            "max_height": null,
            "align_content": null,
            "visibility": null,
            "align_self": null,
            "height": null,
            "min_height": null,
            "padding": null,
            "grid_auto_rows": null,
            "grid_gap": null,
            "max_width": null,
            "order": null,
            "_view_module_version": "1.2.0",
            "grid_template_areas": null,
            "object_position": null,
            "object_fit": null,
            "grid_auto_columns": null,
            "margin": null,
            "display": null,
            "left": null
          }
        },
        "b431f1bcb20946fbbaa44c9bde4ac1fd": {
          "model_module": "@jupyter-widgets/controls",
          "model_name": "ProgressStyleModel",
          "model_module_version": "1.5.0",
          "state": {
            "_view_name": "StyleView",
            "_model_name": "ProgressStyleModel",
            "description_width": "",
            "_view_module": "@jupyter-widgets/base",
            "_model_module_version": "1.5.0",
            "_view_count": null,
            "_view_module_version": "1.2.0",
            "bar_color": null,
            "_model_module": "@jupyter-widgets/controls"
          }
        },
        "3e2d4e0530a94909b8e0b1b5f345aade": {
          "model_module": "@jupyter-widgets/base",
          "model_name": "LayoutModel",
          "model_module_version": "1.2.0",
          "state": {
            "_view_name": "LayoutView",
            "grid_template_rows": null,
            "right": null,
            "justify_content": null,
            "_view_module": "@jupyter-widgets/base",
            "overflow": null,
            "_model_module_version": "1.2.0",
            "_view_count": null,
            "flex_flow": null,
            "width": null,
            "min_width": null,
            "border": null,
            "align_items": null,
            "bottom": null,
            "_model_module": "@jupyter-widgets/base",
            "top": null,
            "grid_column": null,
            "overflow_y": null,
            "overflow_x": null,
            "grid_auto_flow": null,
            "grid_area": null,
            "grid_template_columns": null,
            "flex": null,
            "_model_name": "LayoutModel",
            "justify_items": null,
            "grid_row": null,
            "max_height": null,
            "align_content": null,
            "visibility": null,
            "align_self": null,
            "height": null,
            "min_height": null,
            "padding": null,
            "grid_auto_rows": null,
            "grid_gap": null,
            "max_width": null,
            "order": null,
            "_view_module_version": "1.2.0",
            "grid_template_areas": null,
            "object_position": null,
            "object_fit": null,
            "grid_auto_columns": null,
            "margin": null,
            "display": null,
            "left": null
          }
        },
        "e208c3d8a1034c3c990d74fab93307d5": {
          "model_module": "@jupyter-widgets/controls",
          "model_name": "DescriptionStyleModel",
          "model_module_version": "1.5.0",
          "state": {
            "_view_name": "StyleView",
            "_model_name": "DescriptionStyleModel",
            "description_width": "",
            "_view_module": "@jupyter-widgets/base",
            "_model_module_version": "1.5.0",
            "_view_count": null,
            "_view_module_version": "1.2.0",
            "_model_module": "@jupyter-widgets/controls"
          }
        },
        "72d7e09f826649e59aae4c345666d762": {
          "model_module": "@jupyter-widgets/base",
          "model_name": "LayoutModel",
          "model_module_version": "1.2.0",
          "state": {
            "_view_name": "LayoutView",
            "grid_template_rows": null,
            "right": null,
            "justify_content": null,
            "_view_module": "@jupyter-widgets/base",
            "overflow": null,
            "_model_module_version": "1.2.0",
            "_view_count": null,
            "flex_flow": null,
            "width": null,
            "min_width": null,
            "border": null,
            "align_items": null,
            "bottom": null,
            "_model_module": "@jupyter-widgets/base",
            "top": null,
            "grid_column": null,
            "overflow_y": null,
            "overflow_x": null,
            "grid_auto_flow": null,
            "grid_area": null,
            "grid_template_columns": null,
            "flex": null,
            "_model_name": "LayoutModel",
            "justify_items": null,
            "grid_row": null,
            "max_height": null,
            "align_content": null,
            "visibility": null,
            "align_self": null,
            "height": null,
            "min_height": null,
            "padding": null,
            "grid_auto_rows": null,
            "grid_gap": null,
            "max_width": null,
            "order": null,
            "_view_module_version": "1.2.0",
            "grid_template_areas": null,
            "object_position": null,
            "object_fit": null,
            "grid_auto_columns": null,
            "margin": null,
            "display": null,
            "left": null
          }
        },
        "7a53eae6dd714046afe7c5ba82186dfb": {
          "model_module": "@jupyter-widgets/controls",
          "model_name": "HBoxModel",
          "model_module_version": "1.5.0",
          "state": {
            "_view_name": "HBoxView",
            "_dom_classes": [],
            "_model_name": "HBoxModel",
            "_view_module": "@jupyter-widgets/controls",
            "_model_module_version": "1.5.0",
            "_view_count": null,
            "_view_module_version": "1.5.0",
            "box_style": "",
            "layout": "IPY_MODEL_a1387a56e8f34147b4d59309a1c9bb1e",
            "_model_module": "@jupyter-widgets/controls",
            "children": [
              "IPY_MODEL_bcb6d65204374b64a20ac11ebd4571ab",
              "IPY_MODEL_ef62cc972d7a4999b2a116df7e64d93b",
              "IPY_MODEL_cf82514286cc49059679833463beb99d"
            ]
          }
        },
        "a1387a56e8f34147b4d59309a1c9bb1e": {
          "model_module": "@jupyter-widgets/base",
          "model_name": "LayoutModel",
          "model_module_version": "1.2.0",
          "state": {
            "_view_name": "LayoutView",
            "grid_template_rows": null,
            "right": null,
            "justify_content": null,
            "_view_module": "@jupyter-widgets/base",
            "overflow": null,
            "_model_module_version": "1.2.0",
            "_view_count": null,
            "flex_flow": null,
            "width": null,
            "min_width": null,
            "border": null,
            "align_items": null,
            "bottom": null,
            "_model_module": "@jupyter-widgets/base",
            "top": null,
            "grid_column": null,
            "overflow_y": null,
            "overflow_x": null,
            "grid_auto_flow": null,
            "grid_area": null,
            "grid_template_columns": null,
            "flex": null,
            "_model_name": "LayoutModel",
            "justify_items": null,
            "grid_row": null,
            "max_height": null,
            "align_content": null,
            "visibility": null,
            "align_self": null,
            "height": null,
            "min_height": null,
            "padding": null,
            "grid_auto_rows": null,
            "grid_gap": null,
            "max_width": null,
            "order": null,
            "_view_module_version": "1.2.0",
            "grid_template_areas": null,
            "object_position": null,
            "object_fit": null,
            "grid_auto_columns": null,
            "margin": null,
            "display": null,
            "left": null
          }
        },
        "bcb6d65204374b64a20ac11ebd4571ab": {
          "model_module": "@jupyter-widgets/controls",
          "model_name": "HTMLModel",
          "model_module_version": "1.5.0",
          "state": {
            "_view_name": "HTMLView",
            "style": "IPY_MODEL_c7159bbf6d4e403dbb6be693930d896d",
            "_dom_classes": [],
            "description": "",
            "_model_name": "HTMLModel",
            "placeholder": "​",
            "_view_module": "@jupyter-widgets/controls",
            "_model_module_version": "1.5.0",
            "value": "Downloading: 100%",
            "_view_count": null,
            "_view_module_version": "1.5.0",
            "description_tooltip": null,
            "_model_module": "@jupyter-widgets/controls",
            "layout": "IPY_MODEL_8fd64cb8d6154c27a72cbff3e09e8d11"
          }
        },
        "ef62cc972d7a4999b2a116df7e64d93b": {
          "model_module": "@jupyter-widgets/controls",
          "model_name": "FloatProgressModel",
          "model_module_version": "1.5.0",
          "state": {
            "_view_name": "ProgressView",
            "style": "IPY_MODEL_703aa3bcb1154b848ef8209384162b8c",
            "_dom_classes": [],
            "description": "",
            "_model_name": "FloatProgressModel",
            "bar_style": "success",
            "max": 466247,
            "_view_module": "@jupyter-widgets/controls",
            "_model_module_version": "1.5.0",
            "value": 466247,
            "_view_count": null,
            "_view_module_version": "1.5.0",
            "orientation": "horizontal",
            "min": 0,
            "description_tooltip": null,
            "_model_module": "@jupyter-widgets/controls",
            "layout": "IPY_MODEL_87c267b101c9472a8522e101e563ef8e"
          }
        },
        "cf82514286cc49059679833463beb99d": {
          "model_module": "@jupyter-widgets/controls",
          "model_name": "HTMLModel",
          "model_module_version": "1.5.0",
          "state": {
            "_view_name": "HTMLView",
            "style": "IPY_MODEL_f04c4e12a9d54e91b203301637d3504f",
            "_dom_classes": [],
            "description": "",
            "_model_name": "HTMLModel",
            "placeholder": "​",
            "_view_module": "@jupyter-widgets/controls",
            "_model_module_version": "1.5.0",
            "value": " 466k/466k [00:00&lt;00:00, 1.32MB/s]",
            "_view_count": null,
            "_view_module_version": "1.5.0",
            "description_tooltip": null,
            "_model_module": "@jupyter-widgets/controls",
            "layout": "IPY_MODEL_7ca9919086d844eba27d0209895420e1"
          }
        },
        "c7159bbf6d4e403dbb6be693930d896d": {
          "model_module": "@jupyter-widgets/controls",
          "model_name": "DescriptionStyleModel",
          "model_module_version": "1.5.0",
          "state": {
            "_view_name": "StyleView",
            "_model_name": "DescriptionStyleModel",
            "description_width": "",
            "_view_module": "@jupyter-widgets/base",
            "_model_module_version": "1.5.0",
            "_view_count": null,
            "_view_module_version": "1.2.0",
            "_model_module": "@jupyter-widgets/controls"
          }
        },
        "8fd64cb8d6154c27a72cbff3e09e8d11": {
          "model_module": "@jupyter-widgets/base",
          "model_name": "LayoutModel",
          "model_module_version": "1.2.0",
          "state": {
            "_view_name": "LayoutView",
            "grid_template_rows": null,
            "right": null,
            "justify_content": null,
            "_view_module": "@jupyter-widgets/base",
            "overflow": null,
            "_model_module_version": "1.2.0",
            "_view_count": null,
            "flex_flow": null,
            "width": null,
            "min_width": null,
            "border": null,
            "align_items": null,
            "bottom": null,
            "_model_module": "@jupyter-widgets/base",
            "top": null,
            "grid_column": null,
            "overflow_y": null,
            "overflow_x": null,
            "grid_auto_flow": null,
            "grid_area": null,
            "grid_template_columns": null,
            "flex": null,
            "_model_name": "LayoutModel",
            "justify_items": null,
            "grid_row": null,
            "max_height": null,
            "align_content": null,
            "visibility": null,
            "align_self": null,
            "height": null,
            "min_height": null,
            "padding": null,
            "grid_auto_rows": null,
            "grid_gap": null,
            "max_width": null,
            "order": null,
            "_view_module_version": "1.2.0",
            "grid_template_areas": null,
            "object_position": null,
            "object_fit": null,
            "grid_auto_columns": null,
            "margin": null,
            "display": null,
            "left": null
          }
        },
        "703aa3bcb1154b848ef8209384162b8c": {
          "model_module": "@jupyter-widgets/controls",
          "model_name": "ProgressStyleModel",
          "model_module_version": "1.5.0",
          "state": {
            "_view_name": "StyleView",
            "_model_name": "ProgressStyleModel",
            "description_width": "",
            "_view_module": "@jupyter-widgets/base",
            "_model_module_version": "1.5.0",
            "_view_count": null,
            "_view_module_version": "1.2.0",
            "bar_color": null,
            "_model_module": "@jupyter-widgets/controls"
          }
        },
        "87c267b101c9472a8522e101e563ef8e": {
          "model_module": "@jupyter-widgets/base",
          "model_name": "LayoutModel",
          "model_module_version": "1.2.0",
          "state": {
            "_view_name": "LayoutView",
            "grid_template_rows": null,
            "right": null,
            "justify_content": null,
            "_view_module": "@jupyter-widgets/base",
            "overflow": null,
            "_model_module_version": "1.2.0",
            "_view_count": null,
            "flex_flow": null,
            "width": null,
            "min_width": null,
            "border": null,
            "align_items": null,
            "bottom": null,
            "_model_module": "@jupyter-widgets/base",
            "top": null,
            "grid_column": null,
            "overflow_y": null,
            "overflow_x": null,
            "grid_auto_flow": null,
            "grid_area": null,
            "grid_template_columns": null,
            "flex": null,
            "_model_name": "LayoutModel",
            "justify_items": null,
            "grid_row": null,
            "max_height": null,
            "align_content": null,
            "visibility": null,
            "align_self": null,
            "height": null,
            "min_height": null,
            "padding": null,
            "grid_auto_rows": null,
            "grid_gap": null,
            "max_width": null,
            "order": null,
            "_view_module_version": "1.2.0",
            "grid_template_areas": null,
            "object_position": null,
            "object_fit": null,
            "grid_auto_columns": null,
            "margin": null,
            "display": null,
            "left": null
          }
        },
        "f04c4e12a9d54e91b203301637d3504f": {
          "model_module": "@jupyter-widgets/controls",
          "model_name": "DescriptionStyleModel",
          "model_module_version": "1.5.0",
          "state": {
            "_view_name": "StyleView",
            "_model_name": "DescriptionStyleModel",
            "description_width": "",
            "_view_module": "@jupyter-widgets/base",
            "_model_module_version": "1.5.0",
            "_view_count": null,
            "_view_module_version": "1.2.0",
            "_model_module": "@jupyter-widgets/controls"
          }
        },
        "7ca9919086d844eba27d0209895420e1": {
          "model_module": "@jupyter-widgets/base",
          "model_name": "LayoutModel",
          "model_module_version": "1.2.0",
          "state": {
            "_view_name": "LayoutView",
            "grid_template_rows": null,
            "right": null,
            "justify_content": null,
            "_view_module": "@jupyter-widgets/base",
            "overflow": null,
            "_model_module_version": "1.2.0",
            "_view_count": null,
            "flex_flow": null,
            "width": null,
            "min_width": null,
            "border": null,
            "align_items": null,
            "bottom": null,
            "_model_module": "@jupyter-widgets/base",
            "top": null,
            "grid_column": null,
            "overflow_y": null,
            "overflow_x": null,
            "grid_auto_flow": null,
            "grid_area": null,
            "grid_template_columns": null,
            "flex": null,
            "_model_name": "LayoutModel",
            "justify_items": null,
            "grid_row": null,
            "max_height": null,
            "align_content": null,
            "visibility": null,
            "align_self": null,
            "height": null,
            "min_height": null,
            "padding": null,
            "grid_auto_rows": null,
            "grid_gap": null,
            "max_width": null,
            "order": null,
            "_view_module_version": "1.2.0",
            "grid_template_areas": null,
            "object_position": null,
            "object_fit": null,
            "grid_auto_columns": null,
            "margin": null,
            "display": null,
            "left": null
          }
        },
        "77a75e9465934ac3af8c97c3c38fb885": {
          "model_module": "@jupyter-widgets/controls",
          "model_name": "HBoxModel",
          "model_module_version": "1.5.0",
          "state": {
            "_view_name": "HBoxView",
            "_dom_classes": [],
            "_model_name": "HBoxModel",
            "_view_module": "@jupyter-widgets/controls",
            "_model_module_version": "1.5.0",
            "_view_count": null,
            "_view_module_version": "1.5.0",
            "box_style": "",
            "layout": "IPY_MODEL_e4b458e4d82241a29ba702a2edd79297",
            "_model_module": "@jupyter-widgets/controls",
            "children": [
              "IPY_MODEL_13d63fd7474d45499be84070b598c712",
              "IPY_MODEL_77acfc3a2d244cb4a657a9618d1a59e4",
              "IPY_MODEL_1499556c3ab24961b74129effdc0444d"
            ]
          }
        },
        "e4b458e4d82241a29ba702a2edd79297": {
          "model_module": "@jupyter-widgets/base",
          "model_name": "LayoutModel",
          "model_module_version": "1.2.0",
          "state": {
            "_view_name": "LayoutView",
            "grid_template_rows": null,
            "right": null,
            "justify_content": null,
            "_view_module": "@jupyter-widgets/base",
            "overflow": null,
            "_model_module_version": "1.2.0",
            "_view_count": null,
            "flex_flow": null,
            "width": null,
            "min_width": null,
            "border": null,
            "align_items": null,
            "bottom": null,
            "_model_module": "@jupyter-widgets/base",
            "top": null,
            "grid_column": null,
            "overflow_y": null,
            "overflow_x": null,
            "grid_auto_flow": null,
            "grid_area": null,
            "grid_template_columns": null,
            "flex": null,
            "_model_name": "LayoutModel",
            "justify_items": null,
            "grid_row": null,
            "max_height": null,
            "align_content": null,
            "visibility": null,
            "align_self": null,
            "height": null,
            "min_height": null,
            "padding": null,
            "grid_auto_rows": null,
            "grid_gap": null,
            "max_width": null,
            "order": null,
            "_view_module_version": "1.2.0",
            "grid_template_areas": null,
            "object_position": null,
            "object_fit": null,
            "grid_auto_columns": null,
            "margin": null,
            "display": null,
            "left": null
          }
        },
        "13d63fd7474d45499be84070b598c712": {
          "model_module": "@jupyter-widgets/controls",
          "model_name": "HTMLModel",
          "model_module_version": "1.5.0",
          "state": {
            "_view_name": "HTMLView",
            "style": "IPY_MODEL_a8358e0b57704626958df198a296d902",
            "_dom_classes": [],
            "description": "",
            "_model_name": "HTMLModel",
            "placeholder": "​",
            "_view_module": "@jupyter-widgets/controls",
            "_model_module_version": "1.5.0",
            "value": "Downloading: 100%",
            "_view_count": null,
            "_view_module_version": "1.5.0",
            "description_tooltip": null,
            "_model_module": "@jupyter-widgets/controls",
            "layout": "IPY_MODEL_1b44ec7000134d2f9fb5a1410531483c"
          }
        },
        "77acfc3a2d244cb4a657a9618d1a59e4": {
          "model_module": "@jupyter-widgets/controls",
          "model_name": "FloatProgressModel",
          "model_module_version": "1.5.0",
          "state": {
            "_view_name": "ProgressView",
            "style": "IPY_MODEL_2b46ae46313245afaa5b22a811840bdf",
            "_dom_classes": [],
            "description": "",
            "_model_name": "FloatProgressModel",
            "bar_style": "success",
            "max": 350,
            "_view_module": "@jupyter-widgets/controls",
            "_model_module_version": "1.5.0",
            "value": 350,
            "_view_count": null,
            "_view_module_version": "1.5.0",
            "orientation": "horizontal",
            "min": 0,
            "description_tooltip": null,
            "_model_module": "@jupyter-widgets/controls",
            "layout": "IPY_MODEL_8d2f13aa6a004be5ae6e87bf9041870e"
          }
        },
        "1499556c3ab24961b74129effdc0444d": {
          "model_module": "@jupyter-widgets/controls",
          "model_name": "HTMLModel",
          "model_module_version": "1.5.0",
          "state": {
            "_view_name": "HTMLView",
            "style": "IPY_MODEL_d29b52ef761e4452abce875b7a48a50e",
            "_dom_classes": [],
            "description": "",
            "_model_name": "HTMLModel",
            "placeholder": "​",
            "_view_module": "@jupyter-widgets/controls",
            "_model_module_version": "1.5.0",
            "value": " 350/350 [00:00&lt;00:00, 8.69kB/s]",
            "_view_count": null,
            "_view_module_version": "1.5.0",
            "description_tooltip": null,
            "_model_module": "@jupyter-widgets/controls",
            "layout": "IPY_MODEL_5dddb4d4e4a34cd38c9b2a4fe2603bac"
          }
        },
        "a8358e0b57704626958df198a296d902": {
          "model_module": "@jupyter-widgets/controls",
          "model_name": "DescriptionStyleModel",
          "model_module_version": "1.5.0",
          "state": {
            "_view_name": "StyleView",
            "_model_name": "DescriptionStyleModel",
            "description_width": "",
            "_view_module": "@jupyter-widgets/base",
            "_model_module_version": "1.5.0",
            "_view_count": null,
            "_view_module_version": "1.2.0",
            "_model_module": "@jupyter-widgets/controls"
          }
        },
        "1b44ec7000134d2f9fb5a1410531483c": {
          "model_module": "@jupyter-widgets/base",
          "model_name": "LayoutModel",
          "model_module_version": "1.2.0",
          "state": {
            "_view_name": "LayoutView",
            "grid_template_rows": null,
            "right": null,
            "justify_content": null,
            "_view_module": "@jupyter-widgets/base",
            "overflow": null,
            "_model_module_version": "1.2.0",
            "_view_count": null,
            "flex_flow": null,
            "width": null,
            "min_width": null,
            "border": null,
            "align_items": null,
            "bottom": null,
            "_model_module": "@jupyter-widgets/base",
            "top": null,
            "grid_column": null,
            "overflow_y": null,
            "overflow_x": null,
            "grid_auto_flow": null,
            "grid_area": null,
            "grid_template_columns": null,
            "flex": null,
            "_model_name": "LayoutModel",
            "justify_items": null,
            "grid_row": null,
            "max_height": null,
            "align_content": null,
            "visibility": null,
            "align_self": null,
            "height": null,
            "min_height": null,
            "padding": null,
            "grid_auto_rows": null,
            "grid_gap": null,
            "max_width": null,
            "order": null,
            "_view_module_version": "1.2.0",
            "grid_template_areas": null,
            "object_position": null,
            "object_fit": null,
            "grid_auto_columns": null,
            "margin": null,
            "display": null,
            "left": null
          }
        },
        "2b46ae46313245afaa5b22a811840bdf": {
          "model_module": "@jupyter-widgets/controls",
          "model_name": "ProgressStyleModel",
          "model_module_version": "1.5.0",
          "state": {
            "_view_name": "StyleView",
            "_model_name": "ProgressStyleModel",
            "description_width": "",
            "_view_module": "@jupyter-widgets/base",
            "_model_module_version": "1.5.0",
            "_view_count": null,
            "_view_module_version": "1.2.0",
            "bar_color": null,
            "_model_module": "@jupyter-widgets/controls"
          }
        },
        "8d2f13aa6a004be5ae6e87bf9041870e": {
          "model_module": "@jupyter-widgets/base",
          "model_name": "LayoutModel",
          "model_module_version": "1.2.0",
          "state": {
            "_view_name": "LayoutView",
            "grid_template_rows": null,
            "right": null,
            "justify_content": null,
            "_view_module": "@jupyter-widgets/base",
            "overflow": null,
            "_model_module_version": "1.2.0",
            "_view_count": null,
            "flex_flow": null,
            "width": null,
            "min_width": null,
            "border": null,
            "align_items": null,
            "bottom": null,
            "_model_module": "@jupyter-widgets/base",
            "top": null,
            "grid_column": null,
            "overflow_y": null,
            "overflow_x": null,
            "grid_auto_flow": null,
            "grid_area": null,
            "grid_template_columns": null,
            "flex": null,
            "_model_name": "LayoutModel",
            "justify_items": null,
            "grid_row": null,
            "max_height": null,
            "align_content": null,
            "visibility": null,
            "align_self": null,
            "height": null,
            "min_height": null,
            "padding": null,
            "grid_auto_rows": null,
            "grid_gap": null,
            "max_width": null,
            "order": null,
            "_view_module_version": "1.2.0",
            "grid_template_areas": null,
            "object_position": null,
            "object_fit": null,
            "grid_auto_columns": null,
            "margin": null,
            "display": null,
            "left": null
          }
        },
        "d29b52ef761e4452abce875b7a48a50e": {
          "model_module": "@jupyter-widgets/controls",
          "model_name": "DescriptionStyleModel",
          "model_module_version": "1.5.0",
          "state": {
            "_view_name": "StyleView",
            "_model_name": "DescriptionStyleModel",
            "description_width": "",
            "_view_module": "@jupyter-widgets/base",
            "_model_module_version": "1.5.0",
            "_view_count": null,
            "_view_module_version": "1.2.0",
            "_model_module": "@jupyter-widgets/controls"
          }
        },
        "5dddb4d4e4a34cd38c9b2a4fe2603bac": {
          "model_module": "@jupyter-widgets/base",
          "model_name": "LayoutModel",
          "model_module_version": "1.2.0",
          "state": {
            "_view_name": "LayoutView",
            "grid_template_rows": null,
            "right": null,
            "justify_content": null,
            "_view_module": "@jupyter-widgets/base",
            "overflow": null,
            "_model_module_version": "1.2.0",
            "_view_count": null,
            "flex_flow": null,
            "width": null,
            "min_width": null,
            "border": null,
            "align_items": null,
            "bottom": null,
            "_model_module": "@jupyter-widgets/base",
            "top": null,
            "grid_column": null,
            "overflow_y": null,
            "overflow_x": null,
            "grid_auto_flow": null,
            "grid_area": null,
            "grid_template_columns": null,
            "flex": null,
            "_model_name": "LayoutModel",
            "justify_items": null,
            "grid_row": null,
            "max_height": null,
            "align_content": null,
            "visibility": null,
            "align_self": null,
            "height": null,
            "min_height": null,
            "padding": null,
            "grid_auto_rows": null,
            "grid_gap": null,
            "max_width": null,
            "order": null,
            "_view_module_version": "1.2.0",
            "grid_template_areas": null,
            "object_position": null,
            "object_fit": null,
            "grid_auto_columns": null,
            "margin": null,
            "display": null,
            "left": null
          }
        },
        "3bde5e3e155a4c60808bcaa04bbdd9a4": {
          "model_module": "@jupyter-widgets/controls",
          "model_name": "HBoxModel",
          "model_module_version": "1.5.0",
          "state": {
            "_view_name": "HBoxView",
            "_dom_classes": [],
            "_model_name": "HBoxModel",
            "_view_module": "@jupyter-widgets/controls",
            "_model_module_version": "1.5.0",
            "_view_count": null,
            "_view_module_version": "1.5.0",
            "box_style": "",
            "layout": "IPY_MODEL_3f92f125baaa4284869abe53472ba92f",
            "_model_module": "@jupyter-widgets/controls",
            "children": [
              "IPY_MODEL_4e5e0c53e4d949329eabb034f1dca4a6",
              "IPY_MODEL_e43a0d5bceda4582acb5b9d274d0e020",
              "IPY_MODEL_b4d1ecf2973742d9b8aff7400474c959"
            ]
          }
        },
        "3f92f125baaa4284869abe53472ba92f": {
          "model_module": "@jupyter-widgets/base",
          "model_name": "LayoutModel",
          "model_module_version": "1.2.0",
          "state": {
            "_view_name": "LayoutView",
            "grid_template_rows": null,
            "right": null,
            "justify_content": null,
            "_view_module": "@jupyter-widgets/base",
            "overflow": null,
            "_model_module_version": "1.2.0",
            "_view_count": null,
            "flex_flow": null,
            "width": null,
            "min_width": null,
            "border": null,
            "align_items": null,
            "bottom": null,
            "_model_module": "@jupyter-widgets/base",
            "top": null,
            "grid_column": null,
            "overflow_y": null,
            "overflow_x": null,
            "grid_auto_flow": null,
            "grid_area": null,
            "grid_template_columns": null,
            "flex": null,
            "_model_name": "LayoutModel",
            "justify_items": null,
            "grid_row": null,
            "max_height": null,
            "align_content": null,
            "visibility": null,
            "align_self": null,
            "height": null,
            "min_height": null,
            "padding": null,
            "grid_auto_rows": null,
            "grid_gap": null,
            "max_width": null,
            "order": null,
            "_view_module_version": "1.2.0",
            "grid_template_areas": null,
            "object_position": null,
            "object_fit": null,
            "grid_auto_columns": null,
            "margin": null,
            "display": null,
            "left": null
          }
        },
        "4e5e0c53e4d949329eabb034f1dca4a6": {
          "model_module": "@jupyter-widgets/controls",
          "model_name": "HTMLModel",
          "model_module_version": "1.5.0",
          "state": {
            "_view_name": "HTMLView",
            "style": "IPY_MODEL_9de33ff8d8d847dd89bcf199f77ffb31",
            "_dom_classes": [],
            "description": "",
            "_model_name": "HTMLModel",
            "placeholder": "​",
            "_view_module": "@jupyter-widgets/controls",
            "_model_module_version": "1.5.0",
            "value": "Downloading: 100%",
            "_view_count": null,
            "_view_module_version": "1.5.0",
            "description_tooltip": null,
            "_model_module": "@jupyter-widgets/controls",
            "layout": "IPY_MODEL_d36ae4aa418148e09f224bb2c8d0c749"
          }
        },
        "e43a0d5bceda4582acb5b9d274d0e020": {
          "model_module": "@jupyter-widgets/controls",
          "model_name": "FloatProgressModel",
          "model_module_version": "1.5.0",
          "state": {
            "_view_name": "ProgressView",
            "style": "IPY_MODEL_1a3a2361a86e4385aa1eaa437fef75ce",
            "_dom_classes": [],
            "description": "",
            "_model_name": "FloatProgressModel",
            "bar_style": "success",
            "max": 13156,
            "_view_module": "@jupyter-widgets/controls",
            "_model_module_version": "1.5.0",
            "value": 13156,
            "_view_count": null,
            "_view_module_version": "1.5.0",
            "orientation": "horizontal",
            "min": 0,
            "description_tooltip": null,
            "_model_module": "@jupyter-widgets/controls",
            "layout": "IPY_MODEL_01760e096d654242a656c33f882a003a"
          }
        },
        "b4d1ecf2973742d9b8aff7400474c959": {
          "model_module": "@jupyter-widgets/controls",
          "model_name": "HTMLModel",
          "model_module_version": "1.5.0",
          "state": {
            "_view_name": "HTMLView",
            "style": "IPY_MODEL_937a12dbeaa640ee91726e661e4a19fd",
            "_dom_classes": [],
            "description": "",
            "_model_name": "HTMLModel",
            "placeholder": "​",
            "_view_module": "@jupyter-widgets/controls",
            "_model_module_version": "1.5.0",
            "value": " 13.2k/13.2k [00:00&lt;00:00, 261kB/s]",
            "_view_count": null,
            "_view_module_version": "1.5.0",
            "description_tooltip": null,
            "_model_module": "@jupyter-widgets/controls",
            "layout": "IPY_MODEL_e4d6b5c639094c4eaab971a2205558a2"
          }
        },
        "9de33ff8d8d847dd89bcf199f77ffb31": {
          "model_module": "@jupyter-widgets/controls",
          "model_name": "DescriptionStyleModel",
          "model_module_version": "1.5.0",
          "state": {
            "_view_name": "StyleView",
            "_model_name": "DescriptionStyleModel",
            "description_width": "",
            "_view_module": "@jupyter-widgets/base",
            "_model_module_version": "1.5.0",
            "_view_count": null,
            "_view_module_version": "1.2.0",
            "_model_module": "@jupyter-widgets/controls"
          }
        },
        "d36ae4aa418148e09f224bb2c8d0c749": {
          "model_module": "@jupyter-widgets/base",
          "model_name": "LayoutModel",
          "model_module_version": "1.2.0",
          "state": {
            "_view_name": "LayoutView",
            "grid_template_rows": null,
            "right": null,
            "justify_content": null,
            "_view_module": "@jupyter-widgets/base",
            "overflow": null,
            "_model_module_version": "1.2.0",
            "_view_count": null,
            "flex_flow": null,
            "width": null,
            "min_width": null,
            "border": null,
            "align_items": null,
            "bottom": null,
            "_model_module": "@jupyter-widgets/base",
            "top": null,
            "grid_column": null,
            "overflow_y": null,
            "overflow_x": null,
            "grid_auto_flow": null,
            "grid_area": null,
            "grid_template_columns": null,
            "flex": null,
            "_model_name": "LayoutModel",
            "justify_items": null,
            "grid_row": null,
            "max_height": null,
            "align_content": null,
            "visibility": null,
            "align_self": null,
            "height": null,
            "min_height": null,
            "padding": null,
            "grid_auto_rows": null,
            "grid_gap": null,
            "max_width": null,
            "order": null,
            "_view_module_version": "1.2.0",
            "grid_template_areas": null,
            "object_position": null,
            "object_fit": null,
            "grid_auto_columns": null,
            "margin": null,
            "display": null,
            "left": null
          }
        },
        "1a3a2361a86e4385aa1eaa437fef75ce": {
          "model_module": "@jupyter-widgets/controls",
          "model_name": "ProgressStyleModel",
          "model_module_version": "1.5.0",
          "state": {
            "_view_name": "StyleView",
            "_model_name": "ProgressStyleModel",
            "description_width": "",
            "_view_module": "@jupyter-widgets/base",
            "_model_module_version": "1.5.0",
            "_view_count": null,
            "_view_module_version": "1.2.0",
            "bar_color": null,
            "_model_module": "@jupyter-widgets/controls"
          }
        },
        "01760e096d654242a656c33f882a003a": {
          "model_module": "@jupyter-widgets/base",
          "model_name": "LayoutModel",
          "model_module_version": "1.2.0",
          "state": {
            "_view_name": "LayoutView",
            "grid_template_rows": null,
            "right": null,
            "justify_content": null,
            "_view_module": "@jupyter-widgets/base",
            "overflow": null,
            "_model_module_version": "1.2.0",
            "_view_count": null,
            "flex_flow": null,
            "width": null,
            "min_width": null,
            "border": null,
            "align_items": null,
            "bottom": null,
            "_model_module": "@jupyter-widgets/base",
            "top": null,
            "grid_column": null,
            "overflow_y": null,
            "overflow_x": null,
            "grid_auto_flow": null,
            "grid_area": null,
            "grid_template_columns": null,
            "flex": null,
            "_model_name": "LayoutModel",
            "justify_items": null,
            "grid_row": null,
            "max_height": null,
            "align_content": null,
            "visibility": null,
            "align_self": null,
            "height": null,
            "min_height": null,
            "padding": null,
            "grid_auto_rows": null,
            "grid_gap": null,
            "max_width": null,
            "order": null,
            "_view_module_version": "1.2.0",
            "grid_template_areas": null,
            "object_position": null,
            "object_fit": null,
            "grid_auto_columns": null,
            "margin": null,
            "display": null,
            "left": null
          }
        },
        "937a12dbeaa640ee91726e661e4a19fd": {
          "model_module": "@jupyter-widgets/controls",
          "model_name": "DescriptionStyleModel",
          "model_module_version": "1.5.0",
          "state": {
            "_view_name": "StyleView",
            "_model_name": "DescriptionStyleModel",
            "description_width": "",
            "_view_module": "@jupyter-widgets/base",
            "_model_module_version": "1.5.0",
            "_view_count": null,
            "_view_module_version": "1.2.0",
            "_model_module": "@jupyter-widgets/controls"
          }
        },
        "e4d6b5c639094c4eaab971a2205558a2": {
          "model_module": "@jupyter-widgets/base",
          "model_name": "LayoutModel",
          "model_module_version": "1.2.0",
          "state": {
            "_view_name": "LayoutView",
            "grid_template_rows": null,
            "right": null,
            "justify_content": null,
            "_view_module": "@jupyter-widgets/base",
            "overflow": null,
            "_model_module_version": "1.2.0",
            "_view_count": null,
            "flex_flow": null,
            "width": null,
            "min_width": null,
            "border": null,
            "align_items": null,
            "bottom": null,
            "_model_module": "@jupyter-widgets/base",
            "top": null,
            "grid_column": null,
            "overflow_y": null,
            "overflow_x": null,
            "grid_auto_flow": null,
            "grid_area": null,
            "grid_template_columns": null,
            "flex": null,
            "_model_name": "LayoutModel",
            "justify_items": null,
            "grid_row": null,
            "max_height": null,
            "align_content": null,
            "visibility": null,
            "align_self": null,
            "height": null,
            "min_height": null,
            "padding": null,
            "grid_auto_rows": null,
            "grid_gap": null,
            "max_width": null,
            "order": null,
            "_view_module_version": "1.2.0",
            "grid_template_areas": null,
            "object_position": null,
            "object_fit": null,
            "grid_auto_columns": null,
            "margin": null,
            "display": null,
            "left": null
          }
        },
        "a82429f860cd46c1a5032b90916f899a": {
          "model_module": "@jupyter-widgets/controls",
          "model_name": "HBoxModel",
          "model_module_version": "1.5.0",
          "state": {
            "_view_name": "HBoxView",
            "_dom_classes": [],
            "_model_name": "HBoxModel",
            "_view_module": "@jupyter-widgets/controls",
            "_model_module_version": "1.5.0",
            "_view_count": null,
            "_view_module_version": "1.5.0",
            "box_style": "",
            "layout": "IPY_MODEL_a50643f388a243eca0553290104a32ac",
            "_model_module": "@jupyter-widgets/controls",
            "children": [
              "IPY_MODEL_e9ee2b393ffb45b8bd28affb4250898b",
              "IPY_MODEL_1d82d782f8ab434d9b883d8f8c94463b",
              "IPY_MODEL_e18d35549c8a4256afb74dd93d8d724e"
            ]
          }
        },
        "a50643f388a243eca0553290104a32ac": {
          "model_module": "@jupyter-widgets/base",
          "model_name": "LayoutModel",
          "model_module_version": "1.2.0",
          "state": {
            "_view_name": "LayoutView",
            "grid_template_rows": null,
            "right": null,
            "justify_content": null,
            "_view_module": "@jupyter-widgets/base",
            "overflow": null,
            "_model_module_version": "1.2.0",
            "_view_count": null,
            "flex_flow": null,
            "width": null,
            "min_width": null,
            "border": null,
            "align_items": null,
            "bottom": null,
            "_model_module": "@jupyter-widgets/base",
            "top": null,
            "grid_column": null,
            "overflow_y": null,
            "overflow_x": null,
            "grid_auto_flow": null,
            "grid_area": null,
            "grid_template_columns": null,
            "flex": null,
            "_model_name": "LayoutModel",
            "justify_items": null,
            "grid_row": null,
            "max_height": null,
            "align_content": null,
            "visibility": null,
            "align_self": null,
            "height": null,
            "min_height": null,
            "padding": null,
            "grid_auto_rows": null,
            "grid_gap": null,
            "max_width": null,
            "order": null,
            "_view_module_version": "1.2.0",
            "grid_template_areas": null,
            "object_position": null,
            "object_fit": null,
            "grid_auto_columns": null,
            "margin": null,
            "display": null,
            "left": null
          }
        },
        "e9ee2b393ffb45b8bd28affb4250898b": {
          "model_module": "@jupyter-widgets/controls",
          "model_name": "HTMLModel",
          "model_module_version": "1.5.0",
          "state": {
            "_view_name": "HTMLView",
            "style": "IPY_MODEL_3fe30e6eeb994c0cb303b5d38e422d21",
            "_dom_classes": [],
            "description": "",
            "_model_name": "HTMLModel",
            "placeholder": "​",
            "_view_module": "@jupyter-widgets/controls",
            "_model_module_version": "1.5.0",
            "value": "Downloading: 100%",
            "_view_count": null,
            "_view_module_version": "1.5.0",
            "description_tooltip": null,
            "_model_module": "@jupyter-widgets/controls",
            "layout": "IPY_MODEL_70b774b707644446985680eeb8531771"
          }
        },
        "1d82d782f8ab434d9b883d8f8c94463b": {
          "model_module": "@jupyter-widgets/controls",
          "model_name": "FloatProgressModel",
          "model_module_version": "1.5.0",
          "state": {
            "_view_name": "ProgressView",
            "style": "IPY_MODEL_d1ddc5a448a048fa95e74d3995b93c16",
            "_dom_classes": [],
            "description": "",
            "_model_name": "FloatProgressModel",
            "bar_style": "success",
            "max": 231508,
            "_view_module": "@jupyter-widgets/controls",
            "_model_module_version": "1.5.0",
            "value": 231508,
            "_view_count": null,
            "_view_module_version": "1.5.0",
            "orientation": "horizontal",
            "min": 0,
            "description_tooltip": null,
            "_model_module": "@jupyter-widgets/controls",
            "layout": "IPY_MODEL_979508845f474649be14bc43b01f21b3"
          }
        },
        "e18d35549c8a4256afb74dd93d8d724e": {
          "model_module": "@jupyter-widgets/controls",
          "model_name": "HTMLModel",
          "model_module_version": "1.5.0",
          "state": {
            "_view_name": "HTMLView",
            "style": "IPY_MODEL_5e33b755953042f880c166943935edb0",
            "_dom_classes": [],
            "description": "",
            "_model_name": "HTMLModel",
            "placeholder": "​",
            "_view_module": "@jupyter-widgets/controls",
            "_model_module_version": "1.5.0",
            "value": " 232k/232k [00:00&lt;00:00, 1.01MB/s]",
            "_view_count": null,
            "_view_module_version": "1.5.0",
            "description_tooltip": null,
            "_model_module": "@jupyter-widgets/controls",
            "layout": "IPY_MODEL_22580c0a263d4c63acafee6cae38b065"
          }
        },
        "3fe30e6eeb994c0cb303b5d38e422d21": {
          "model_module": "@jupyter-widgets/controls",
          "model_name": "DescriptionStyleModel",
          "model_module_version": "1.5.0",
          "state": {
            "_view_name": "StyleView",
            "_model_name": "DescriptionStyleModel",
            "description_width": "",
            "_view_module": "@jupyter-widgets/base",
            "_model_module_version": "1.5.0",
            "_view_count": null,
            "_view_module_version": "1.2.0",
            "_model_module": "@jupyter-widgets/controls"
          }
        },
        "70b774b707644446985680eeb8531771": {
          "model_module": "@jupyter-widgets/base",
          "model_name": "LayoutModel",
          "model_module_version": "1.2.0",
          "state": {
            "_view_name": "LayoutView",
            "grid_template_rows": null,
            "right": null,
            "justify_content": null,
            "_view_module": "@jupyter-widgets/base",
            "overflow": null,
            "_model_module_version": "1.2.0",
            "_view_count": null,
            "flex_flow": null,
            "width": null,
            "min_width": null,
            "border": null,
            "align_items": null,
            "bottom": null,
            "_model_module": "@jupyter-widgets/base",
            "top": null,
            "grid_column": null,
            "overflow_y": null,
            "overflow_x": null,
            "grid_auto_flow": null,
            "grid_area": null,
            "grid_template_columns": null,
            "flex": null,
            "_model_name": "LayoutModel",
            "justify_items": null,
            "grid_row": null,
            "max_height": null,
            "align_content": null,
            "visibility": null,
            "align_self": null,
            "height": null,
            "min_height": null,
            "padding": null,
            "grid_auto_rows": null,
            "grid_gap": null,
            "max_width": null,
            "order": null,
            "_view_module_version": "1.2.0",
            "grid_template_areas": null,
            "object_position": null,
            "object_fit": null,
            "grid_auto_columns": null,
            "margin": null,
            "display": null,
            "left": null
          }
        },
        "d1ddc5a448a048fa95e74d3995b93c16": {
          "model_module": "@jupyter-widgets/controls",
          "model_name": "ProgressStyleModel",
          "model_module_version": "1.5.0",
          "state": {
            "_view_name": "StyleView",
            "_model_name": "ProgressStyleModel",
            "description_width": "",
            "_view_module": "@jupyter-widgets/base",
            "_model_module_version": "1.5.0",
            "_view_count": null,
            "_view_module_version": "1.2.0",
            "bar_color": null,
            "_model_module": "@jupyter-widgets/controls"
          }
        },
        "979508845f474649be14bc43b01f21b3": {
          "model_module": "@jupyter-widgets/base",
          "model_name": "LayoutModel",
          "model_module_version": "1.2.0",
          "state": {
            "_view_name": "LayoutView",
            "grid_template_rows": null,
            "right": null,
            "justify_content": null,
            "_view_module": "@jupyter-widgets/base",
            "overflow": null,
            "_model_module_version": "1.2.0",
            "_view_count": null,
            "flex_flow": null,
            "width": null,
            "min_width": null,
            "border": null,
            "align_items": null,
            "bottom": null,
            "_model_module": "@jupyter-widgets/base",
            "top": null,
            "grid_column": null,
            "overflow_y": null,
            "overflow_x": null,
            "grid_auto_flow": null,
            "grid_area": null,
            "grid_template_columns": null,
            "flex": null,
            "_model_name": "LayoutModel",
            "justify_items": null,
            "grid_row": null,
            "max_height": null,
            "align_content": null,
            "visibility": null,
            "align_self": null,
            "height": null,
            "min_height": null,
            "padding": null,
            "grid_auto_rows": null,
            "grid_gap": null,
            "max_width": null,
            "order": null,
            "_view_module_version": "1.2.0",
            "grid_template_areas": null,
            "object_position": null,
            "object_fit": null,
            "grid_auto_columns": null,
            "margin": null,
            "display": null,
            "left": null
          }
        },
        "5e33b755953042f880c166943935edb0": {
          "model_module": "@jupyter-widgets/controls",
          "model_name": "DescriptionStyleModel",
          "model_module_version": "1.5.0",
          "state": {
            "_view_name": "StyleView",
            "_model_name": "DescriptionStyleModel",
            "description_width": "",
            "_view_module": "@jupyter-widgets/base",
            "_model_module_version": "1.5.0",
            "_view_count": null,
            "_view_module_version": "1.2.0",
            "_model_module": "@jupyter-widgets/controls"
          }
        },
        "22580c0a263d4c63acafee6cae38b065": {
          "model_module": "@jupyter-widgets/base",
          "model_name": "LayoutModel",
          "model_module_version": "1.2.0",
          "state": {
            "_view_name": "LayoutView",
            "grid_template_rows": null,
            "right": null,
            "justify_content": null,
            "_view_module": "@jupyter-widgets/base",
            "overflow": null,
            "_model_module_version": "1.2.0",
            "_view_count": null,
            "flex_flow": null,
            "width": null,
            "min_width": null,
            "border": null,
            "align_items": null,
            "bottom": null,
            "_model_module": "@jupyter-widgets/base",
            "top": null,
            "grid_column": null,
            "overflow_y": null,
            "overflow_x": null,
            "grid_auto_flow": null,
            "grid_area": null,
            "grid_template_columns": null,
            "flex": null,
            "_model_name": "LayoutModel",
            "justify_items": null,
            "grid_row": null,
            "max_height": null,
            "align_content": null,
            "visibility": null,
            "align_self": null,
            "height": null,
            "min_height": null,
            "padding": null,
            "grid_auto_rows": null,
            "grid_gap": null,
            "max_width": null,
            "order": null,
            "_view_module_version": "1.2.0",
            "grid_template_areas": null,
            "object_position": null,
            "object_fit": null,
            "grid_auto_columns": null,
            "margin": null,
            "display": null,
            "left": null
          }
        },
        "00eec0ad3ee942aea84c2d7eba2e7aad": {
          "model_module": "@jupyter-widgets/controls",
          "model_name": "HBoxModel",
          "model_module_version": "1.5.0",
          "state": {
            "_view_name": "HBoxView",
            "_dom_classes": [],
            "_model_name": "HBoxModel",
            "_view_module": "@jupyter-widgets/controls",
            "_model_module_version": "1.5.0",
            "_view_count": null,
            "_view_module_version": "1.5.0",
            "box_style": "",
            "layout": "IPY_MODEL_bab1e31bc5c94bf2bb46a63cac944dac",
            "_model_module": "@jupyter-widgets/controls",
            "children": [
              "IPY_MODEL_1d89cd0529e042baabbbe982e82130e9",
              "IPY_MODEL_66a87cb22a2a44358c255ffccaf3684c",
              "IPY_MODEL_9a52964b34c34f508ef07a1ed6a90d8d"
            ]
          }
        },
        "bab1e31bc5c94bf2bb46a63cac944dac": {
          "model_module": "@jupyter-widgets/base",
          "model_name": "LayoutModel",
          "model_module_version": "1.2.0",
          "state": {
            "_view_name": "LayoutView",
            "grid_template_rows": null,
            "right": null,
            "justify_content": null,
            "_view_module": "@jupyter-widgets/base",
            "overflow": null,
            "_model_module_version": "1.2.0",
            "_view_count": null,
            "flex_flow": null,
            "width": null,
            "min_width": null,
            "border": null,
            "align_items": null,
            "bottom": null,
            "_model_module": "@jupyter-widgets/base",
            "top": null,
            "grid_column": null,
            "overflow_y": null,
            "overflow_x": null,
            "grid_auto_flow": null,
            "grid_area": null,
            "grid_template_columns": null,
            "flex": null,
            "_model_name": "LayoutModel",
            "justify_items": null,
            "grid_row": null,
            "max_height": null,
            "align_content": null,
            "visibility": null,
            "align_self": null,
            "height": null,
            "min_height": null,
            "padding": null,
            "grid_auto_rows": null,
            "grid_gap": null,
            "max_width": null,
            "order": null,
            "_view_module_version": "1.2.0",
            "grid_template_areas": null,
            "object_position": null,
            "object_fit": null,
            "grid_auto_columns": null,
            "margin": null,
            "display": null,
            "left": null
          }
        },
        "1d89cd0529e042baabbbe982e82130e9": {
          "model_module": "@jupyter-widgets/controls",
          "model_name": "HTMLModel",
          "model_module_version": "1.5.0",
          "state": {
            "_view_name": "HTMLView",
            "style": "IPY_MODEL_7264a9dc03664ea084d9de5dd8098103",
            "_dom_classes": [],
            "description": "",
            "_model_name": "HTMLModel",
            "placeholder": "​",
            "_view_module": "@jupyter-widgets/controls",
            "_model_module_version": "1.5.0",
            "value": "Downloading: 100%",
            "_view_count": null,
            "_view_module_version": "1.5.0",
            "description_tooltip": null,
            "_model_module": "@jupyter-widgets/controls",
            "layout": "IPY_MODEL_76f5d241bfc041c8a82b643be1c7c36e"
          }
        },
        "66a87cb22a2a44358c255ffccaf3684c": {
          "model_module": "@jupyter-widgets/controls",
          "model_name": "FloatProgressModel",
          "model_module_version": "1.5.0",
          "state": {
            "_view_name": "ProgressView",
            "style": "IPY_MODEL_071c1f5a03944b4a8f1e6aa70f90e98d",
            "_dom_classes": [],
            "description": "",
            "_model_name": "FloatProgressModel",
            "bar_style": "success",
            "max": 190,
            "_view_module": "@jupyter-widgets/controls",
            "_model_module_version": "1.5.0",
            "value": 190,
            "_view_count": null,
            "_view_module_version": "1.5.0",
            "orientation": "horizontal",
            "min": 0,
            "description_tooltip": null,
            "_model_module": "@jupyter-widgets/controls",
            "layout": "IPY_MODEL_6576ad4c34284e57a09e391ca72b2632"
          }
        },
        "9a52964b34c34f508ef07a1ed6a90d8d": {
          "model_module": "@jupyter-widgets/controls",
          "model_name": "HTMLModel",
          "model_module_version": "1.5.0",
          "state": {
            "_view_name": "HTMLView",
            "style": "IPY_MODEL_4f837ce9b3f54afe9ad14a191da3fea3",
            "_dom_classes": [],
            "description": "",
            "_model_name": "HTMLModel",
            "placeholder": "​",
            "_view_module": "@jupyter-widgets/controls",
            "_model_module_version": "1.5.0",
            "value": " 190/190 [00:00&lt;00:00, 4.33kB/s]",
            "_view_count": null,
            "_view_module_version": "1.5.0",
            "description_tooltip": null,
            "_model_module": "@jupyter-widgets/controls",
            "layout": "IPY_MODEL_9e962bdbb0da4433b57eb4897f0f52b2"
          }
        },
        "7264a9dc03664ea084d9de5dd8098103": {
          "model_module": "@jupyter-widgets/controls",
          "model_name": "DescriptionStyleModel",
          "model_module_version": "1.5.0",
          "state": {
            "_view_name": "StyleView",
            "_model_name": "DescriptionStyleModel",
            "description_width": "",
            "_view_module": "@jupyter-widgets/base",
            "_model_module_version": "1.5.0",
            "_view_count": null,
            "_view_module_version": "1.2.0",
            "_model_module": "@jupyter-widgets/controls"
          }
        },
        "76f5d241bfc041c8a82b643be1c7c36e": {
          "model_module": "@jupyter-widgets/base",
          "model_name": "LayoutModel",
          "model_module_version": "1.2.0",
          "state": {
            "_view_name": "LayoutView",
            "grid_template_rows": null,
            "right": null,
            "justify_content": null,
            "_view_module": "@jupyter-widgets/base",
            "overflow": null,
            "_model_module_version": "1.2.0",
            "_view_count": null,
            "flex_flow": null,
            "width": null,
            "min_width": null,
            "border": null,
            "align_items": null,
            "bottom": null,
            "_model_module": "@jupyter-widgets/base",
            "top": null,
            "grid_column": null,
            "overflow_y": null,
            "overflow_x": null,
            "grid_auto_flow": null,
            "grid_area": null,
            "grid_template_columns": null,
            "flex": null,
            "_model_name": "LayoutModel",
            "justify_items": null,
            "grid_row": null,
            "max_height": null,
            "align_content": null,
            "visibility": null,
            "align_self": null,
            "height": null,
            "min_height": null,
            "padding": null,
            "grid_auto_rows": null,
            "grid_gap": null,
            "max_width": null,
            "order": null,
            "_view_module_version": "1.2.0",
            "grid_template_areas": null,
            "object_position": null,
            "object_fit": null,
            "grid_auto_columns": null,
            "margin": null,
            "display": null,
            "left": null
          }
        },
        "071c1f5a03944b4a8f1e6aa70f90e98d": {
          "model_module": "@jupyter-widgets/controls",
          "model_name": "ProgressStyleModel",
          "model_module_version": "1.5.0",
          "state": {
            "_view_name": "StyleView",
            "_model_name": "ProgressStyleModel",
            "description_width": "",
            "_view_module": "@jupyter-widgets/base",
            "_model_module_version": "1.5.0",
            "_view_count": null,
            "_view_module_version": "1.2.0",
            "bar_color": null,
            "_model_module": "@jupyter-widgets/controls"
          }
        },
        "6576ad4c34284e57a09e391ca72b2632": {
          "model_module": "@jupyter-widgets/base",
          "model_name": "LayoutModel",
          "model_module_version": "1.2.0",
          "state": {
            "_view_name": "LayoutView",
            "grid_template_rows": null,
            "right": null,
            "justify_content": null,
            "_view_module": "@jupyter-widgets/base",
            "overflow": null,
            "_model_module_version": "1.2.0",
            "_view_count": null,
            "flex_flow": null,
            "width": null,
            "min_width": null,
            "border": null,
            "align_items": null,
            "bottom": null,
            "_model_module": "@jupyter-widgets/base",
            "top": null,
            "grid_column": null,
            "overflow_y": null,
            "overflow_x": null,
            "grid_auto_flow": null,
            "grid_area": null,
            "grid_template_columns": null,
            "flex": null,
            "_model_name": "LayoutModel",
            "justify_items": null,
            "grid_row": null,
            "max_height": null,
            "align_content": null,
            "visibility": null,
            "align_self": null,
            "height": null,
            "min_height": null,
            "padding": null,
            "grid_auto_rows": null,
            "grid_gap": null,
            "max_width": null,
            "order": null,
            "_view_module_version": "1.2.0",
            "grid_template_areas": null,
            "object_position": null,
            "object_fit": null,
            "grid_auto_columns": null,
            "margin": null,
            "display": null,
            "left": null
          }
        },
        "4f837ce9b3f54afe9ad14a191da3fea3": {
          "model_module": "@jupyter-widgets/controls",
          "model_name": "DescriptionStyleModel",
          "model_module_version": "1.5.0",
          "state": {
            "_view_name": "StyleView",
            "_model_name": "DescriptionStyleModel",
            "description_width": "",
            "_view_module": "@jupyter-widgets/base",
            "_model_module_version": "1.5.0",
            "_view_count": null,
            "_view_module_version": "1.2.0",
            "_model_module": "@jupyter-widgets/controls"
          }
        },
        "9e962bdbb0da4433b57eb4897f0f52b2": {
          "model_module": "@jupyter-widgets/base",
          "model_name": "LayoutModel",
          "model_module_version": "1.2.0",
          "state": {
            "_view_name": "LayoutView",
            "grid_template_rows": null,
            "right": null,
            "justify_content": null,
            "_view_module": "@jupyter-widgets/base",
            "overflow": null,
            "_model_module_version": "1.2.0",
            "_view_count": null,
            "flex_flow": null,
            "width": null,
            "min_width": null,
            "border": null,
            "align_items": null,
            "bottom": null,
            "_model_module": "@jupyter-widgets/base",
            "top": null,
            "grid_column": null,
            "overflow_y": null,
            "overflow_x": null,
            "grid_auto_flow": null,
            "grid_area": null,
            "grid_template_columns": null,
            "flex": null,
            "_model_name": "LayoutModel",
            "justify_items": null,
            "grid_row": null,
            "max_height": null,
            "align_content": null,
            "visibility": null,
            "align_self": null,
            "height": null,
            "min_height": null,
            "padding": null,
            "grid_auto_rows": null,
            "grid_gap": null,
            "max_width": null,
            "order": null,
            "_view_module_version": "1.2.0",
            "grid_template_areas": null,
            "object_position": null,
            "object_fit": null,
            "grid_auto_columns": null,
            "margin": null,
            "display": null,
            "left": null
          }
        }
      }
    }
  },
  "nbformat": 4,
  "nbformat_minor": 0
}