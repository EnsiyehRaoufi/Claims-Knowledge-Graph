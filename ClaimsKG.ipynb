{
  "cells": [
    {
      "cell_type": "markdown",
      "metadata": {
        "id": "view-in-github",
        "colab_type": "text"
      },
      "source": [
        "<a href=\"https://colab.research.google.com/github/EnsiyehRaoufi/Claims-Knowledge-Graph/blob/main/ClaimsKG.ipynb\" target=\"_parent\"><img src=\"https://colab.research.google.com/assets/colab-badge.svg\" alt=\"Open In Colab\"/></a>"
      ]
    },
    {
      "cell_type": "markdown",
      "metadata": {
        "id": "toSGqzMg6-cF"
      },
      "source": [
        "#Claims Knowledge Graph Classification\n",
        "\n",
        "### Introduction\n",
        "\n",
        "\"ClaimsKG is a structured database which serves as a registry of claims. It provides an entry point for researchers to discover claims and involved entities, also providing links to fact-checking sites and their results. Basis of the database is a knowledge graph which provides data about claims, metadata (such as their publishing site), involved entities (which we have annotated using state-of-the-art NLP techniques) and some normalized truth ratings. ClaimsKG is generated through a (semi-)automated pipeline which harvests claims and respective metadata from popular fact-checking sites on a regular basis, lifts data into an RDF/S model, which exploits established schema such as schema.org and NIF, and annotates claims with related entities from DBpedia.\" [[1]](#1)\n",
        "\n",
        "I extracted the true, false and mixture claims using ClaimsKG's web interface [Claim Explorer](https://data.gesis.org/claimskg/explorer/home). There are 27588 goal claims (4404 True, 12350 False, 10834 Mixture).\n",
        "\n",
        "Because this explorer export the results to a csv form just for a maximum of 10000 rows, so I exported each of true, false and mixture records in separate csv files. Because the distribution of all types of claims is not uniform, and both of the false and mixture claims have more than 10000 records, we lost 3184 claims to extract. But in comparison with the data set size and also, regarding to a low difference between number of total false and mixture claims, I guess it's not going to make a mistake. \n",
        "\n",
        "### Example\n",
        "### Cleaning\n",
        "### Final Advice\n",
        "\n",
        "-------------------\n",
        "<a id=\"1\">[1]</a> \n",
        "https://data.gesis.org/claimskg/site/"
      ]
    },
    {
      "cell_type": "markdown",
      "metadata": {
        "id": "DnC6V59P6-cQ"
      },
      "source": [
        "# Data Set\n",
        "\n",
        "The data is contained in three files:\n",
        "\n",
        "* claimskg_false.csv - containing false claims and meta data about each claim (text, date, author,keywords, source, etc.)\n",
        "* claimskg_mixture.csv - containing mixture claims and meta data about each claim (text, date, author,keywords, source, etc.)\n",
        "* claimskg_true.csv - containing true claims and meta data about each claim (text, date, author,keywords, source, etc.)\n",
        "\n",
        "Each of these 3 csv files contains below features:\n",
        "\n",
        "* id (object) - claim link\n",
        "* text (object) - claim text\n",
        "* date (object) - claim published date\n",
        "* truthRating (int64) - \n",
        "* ratingName (bool)\n",
        "* author (object)\n",
        "* headline (object)\n",
        "* named_entities_claim (object)\n",
        "* named_entities_article (object)\n",
        "* keywords (object)\n",
        "* source (object)\n",
        "* sourceURL (object)\n",
        "* link (object)\n",
        "* language (object)\n",
        "\n",
        "**Note:** You may need to "
      ]
    },
    {
      "cell_type": "markdown",
      "metadata": {
        "id": "zl77HXSeoVDr"
      },
      "source": [
        "# Installing and importing required packages"
      ]
    },
    {
      "cell_type": "code",
      "execution_count": 1,
      "metadata": {
        "colab": {
          "base_uri": "https://localhost:8080/",
          "height": 1000
        },
        "id": "8fhFeE03I_b4",
        "outputId": "5772da36-8dfd-4ae2-e8fc-b6fa2890d04b"
      },
      "outputs": [
        {
          "output_type": "stream",
          "name": "stdout",
          "text": [
            "Requirement already satisfied: numpy in /usr/local/lib/python3.7/dist-packages (1.19.5)\n",
            "Collecting numpy\n",
            "  Downloading numpy-1.21.5-cp37-cp37m-manylinux_2_12_x86_64.manylinux2010_x86_64.whl (15.7 MB)\n",
            "\u001b[K     |████████████████████████████████| 15.7 MB 5.3 MB/s \n",
            "\u001b[?25hInstalling collected packages: numpy\n",
            "  Attempting uninstall: numpy\n",
            "    Found existing installation: numpy 1.19.5\n",
            "    Uninstalling numpy-1.19.5:\n",
            "      Successfully uninstalled numpy-1.19.5\n",
            "\u001b[31mERROR: pip's dependency resolver does not currently take into account all the packages that are installed. This behaviour is the source of the following dependency conflicts.\n",
            "yellowbrick 1.3.post1 requires numpy<1.20,>=1.16.0, but you have numpy 1.21.5 which is incompatible.\n",
            "datascience 0.10.6 requires folium==0.2.1, but you have folium 0.8.3 which is incompatible.\n",
            "albumentations 0.1.12 requires imgaug<0.2.7,>=0.2.5, but you have imgaug 0.2.9 which is incompatible.\u001b[0m\n",
            "Successfully installed numpy-1.21.5\n"
          ]
        },
        {
          "output_type": "display_data",
          "data": {
            "application/vnd.colab-display-data+json": {
              "pip_warning": {
                "packages": [
                  "numpy"
                ]
              }
            }
          },
          "metadata": {}
        },
        {
          "output_type": "stream",
          "name": "stdout",
          "text": [
            "Collecting autogluon\n",
            "  Downloading autogluon-0.3.1-py3-none-any.whl (9.9 kB)\n",
            "Collecting autogluon.features==0.3.1\n",
            "  Downloading autogluon.features-0.3.1-py3-none-any.whl (56 kB)\n",
            "\u001b[K     |████████████████████████████████| 56 kB 5.3 MB/s \n",
            "\u001b[?25hCollecting autogluon.vision==0.3.1\n",
            "  Downloading autogluon.vision-0.3.1-py3-none-any.whl (38 kB)\n",
            "Collecting autogluon.text==0.3.1\n",
            "  Downloading autogluon.text-0.3.1-py3-none-any.whl (52 kB)\n",
            "\u001b[K     |████████████████████████████████| 52 kB 25.3 MB/s \n",
            "\u001b[?25hCollecting autogluon.mxnet==0.3.1\n",
            "  Downloading autogluon.mxnet-0.3.1-py3-none-any.whl (33 kB)\n",
            "Collecting autogluon.tabular[all]==0.3.1\n",
            "  Downloading autogluon.tabular-0.3.1-py3-none-any.whl (273 kB)\n",
            "\u001b[K     |████████████████████████████████| 273 kB 57.5 MB/s \n",
            "\u001b[?25hCollecting autogluon.core==0.3.1\n",
            "  Downloading autogluon.core-0.3.1-py3-none-any.whl (352 kB)\n",
            "\u001b[K     |████████████████████████████████| 352 kB 15.6 MB/s \n",
            "\u001b[?25hCollecting autogluon.extra==0.3.1\n",
            "  Downloading autogluon.extra-0.3.1-py3-none-any.whl (28 kB)\n",
            "Requirement already satisfied: tornado>=5.0.1 in /usr/local/lib/python3.7/dist-packages (from autogluon.core==0.3.1->autogluon) (5.1.1)\n",
            "Collecting scipy<1.7,>=1.5.4\n",
            "  Downloading scipy-1.6.3-cp37-cp37m-manylinux1_x86_64.whl (27.4 MB)\n",
            "\u001b[K     |████████████████████████████████| 27.4 MB 14.7 MB/s \n",
            "\u001b[?25hRequirement already satisfied: dask>=2.6.0 in /usr/local/lib/python3.7/dist-packages (from autogluon.core==0.3.1->autogluon) (2.12.0)\n",
            "Requirement already satisfied: graphviz<1.0,>=0.8.1 in /usr/local/lib/python3.7/dist-packages (from autogluon.core==0.3.1->autogluon) (0.10.1)\n",
            "Collecting boto3\n",
            "  Downloading boto3-1.21.0-py3-none-any.whl (132 kB)\n",
            "\u001b[K     |████████████████████████████████| 132 kB 64.9 MB/s \n",
            "\u001b[?25hRequirement already satisfied: pandas<2.0,>=1.0.0 in /usr/local/lib/python3.7/dist-packages (from autogluon.core==0.3.1->autogluon) (1.3.5)\n",
            "Requirement already satisfied: dill<1.0,>=0.3.3 in /usr/local/lib/python3.7/dist-packages (from autogluon.core==0.3.1->autogluon) (0.3.4)\n",
            "Requirement already satisfied: matplotlib in /usr/local/lib/python3.7/dist-packages (from autogluon.core==0.3.1->autogluon) (3.2.2)\n",
            "Requirement already satisfied: tqdm>=4.38.0 in /usr/local/lib/python3.7/dist-packages (from autogluon.core==0.3.1->autogluon) (4.62.3)\n",
            "Requirement already satisfied: autograd>=1.3 in /usr/local/lib/python3.7/dist-packages (from autogluon.core==0.3.1->autogluon) (1.3)\n",
            "Requirement already satisfied: requests in /usr/local/lib/python3.7/dist-packages (from autogluon.core==0.3.1->autogluon) (2.23.0)\n",
            "Collecting scikit-learn<0.25,>=0.23.2\n",
            "  Downloading scikit_learn-0.24.2-cp37-cp37m-manylinux2010_x86_64.whl (22.3 MB)\n",
            "\u001b[K     |████████████████████████████████| 22.3 MB 1.2 MB/s \n",
            "\u001b[?25hRequirement already satisfied: cython in /usr/local/lib/python3.7/dist-packages (from autogluon.core==0.3.1->autogluon) (0.29.27)\n",
            "Collecting paramiko>=2.4\n",
            "  Downloading paramiko-2.9.2-py2.py3-none-any.whl (210 kB)\n",
            "\u001b[K     |████████████████████████████████| 210 kB 60.1 MB/s \n",
            "\u001b[?25hCollecting ConfigSpace==0.4.19\n",
            "  Downloading ConfigSpace-0.4.19-cp37-cp37m-manylinux2014_x86_64.whl (4.2 MB)\n",
            "\u001b[K     |████████████████████████████████| 4.2 MB 50.0 MB/s \n",
            "\u001b[?25hRequirement already satisfied: numpy<1.22,>=1.19 in /usr/local/lib/python3.7/dist-packages (from autogluon.core==0.3.1->autogluon) (1.21.5)\n",
            "Collecting distributed>=2.6.0\n",
            "  Downloading distributed-2022.2.0-py3-none-any.whl (837 kB)\n",
            "\u001b[K     |████████████████████████████████| 837 kB 79.7 MB/s \n",
            "\u001b[?25hRequirement already satisfied: pytest in /usr/local/lib/python3.7/dist-packages (from autogluon.extra==0.3.1->autogluon) (3.6.4)\n",
            "Collecting openml\n",
            "  Downloading openml-0.12.2.tar.gz (119 kB)\n",
            "\u001b[K     |████████████████████████████████| 119 kB 67.9 MB/s \n",
            "\u001b[?25hCollecting gluoncv<0.10.5,>=0.10.4\n",
            "  Downloading gluoncv-0.10.4.post4-py2.py3-none-any.whl (1.3 MB)\n",
            "\u001b[K     |████████████████████████████████| 1.3 MB 59.8 MB/s \n",
            "\u001b[?25hCollecting Pillow<8.4.0,>=8.3.0\n",
            "  Downloading Pillow-8.3.2-cp37-cp37m-manylinux_2_17_x86_64.manylinux2014_x86_64.whl (3.0 MB)\n",
            "\u001b[K     |████████████████████████████████| 3.0 MB 51.4 MB/s \n",
            "\u001b[?25hCollecting psutil<5.9,>=5.7.3\n",
            "  Downloading psutil-5.8.0-cp37-cp37m-manylinux2010_x86_64.whl (296 kB)\n",
            "\u001b[K     |████████████████████████████████| 296 kB 77.2 MB/s \n",
            "\u001b[?25hRequirement already satisfied: networkx<3.0,>=2.3 in /usr/local/lib/python3.7/dist-packages (from autogluon.tabular[all]==0.3.1->autogluon) (2.6.3)\n",
            "Collecting lightgbm<4.0,>=3.0\n",
            "  Downloading lightgbm-3.3.2-py3-none-manylinux1_x86_64.whl (2.0 MB)\n",
            "\u001b[K     |████████████████████████████████| 2.0 MB 45.5 MB/s \n",
            "\u001b[?25hCollecting catboost<0.26,>=0.24.0\n",
            "  Downloading catboost-0.25.1-cp37-none-manylinux1_x86_64.whl (67.3 MB)\n",
            "\u001b[K     |████████████████████████████████| 67.3 MB 1.1 MB/s \n",
            "\u001b[?25hCollecting fastai<3.0,>=2.3.1\n",
            "  Downloading fastai-2.5.3-py3-none-any.whl (189 kB)\n",
            "\u001b[K     |████████████████████████████████| 189 kB 52.0 MB/s \n",
            "\u001b[?25hCollecting xgboost<1.5,>=1.4\n",
            "  Downloading xgboost-1.4.2-py3-none-manylinux2010_x86_64.whl (166.7 MB)\n",
            "\u001b[K     |████████████████████████████████| 166.7 MB 1.3 MB/s \n",
            "\u001b[?25hRequirement already satisfied: torch<2.0,>=1.0 in /usr/local/lib/python3.7/dist-packages (from autogluon.tabular[all]==0.3.1->autogluon) (1.10.0+cu111)\n",
            "Collecting autogluon-contrib-nlp==0.0.1b20210201\n",
            "  Downloading autogluon_contrib_nlp-0.0.1b20210201-py3-none-any.whl (157 kB)\n",
            "\u001b[K     |████████████████████████████████| 157 kB 66.6 MB/s \n",
            "\u001b[?25hCollecting sacremoses>=0.0.38\n",
            "  Downloading sacremoses-0.0.47-py2.py3-none-any.whl (895 kB)\n",
            "\u001b[K     |████████████████████████████████| 895 kB 62.9 MB/s \n",
            "\u001b[?25hRequirement already satisfied: protobuf in /usr/local/lib/python3.7/dist-packages (from autogluon-contrib-nlp==0.0.1b20210201->autogluon.text==0.3.1->autogluon) (3.17.3)\n",
            "Collecting flake8\n",
            "  Downloading flake8-4.0.1-py2.py3-none-any.whl (64 kB)\n",
            "\u001b[K     |████████████████████████████████| 64 kB 51.5 MB/s \n",
            "\u001b[?25hCollecting yacs>=0.1.6\n",
            "  Downloading yacs-0.1.8-py3-none-any.whl (14 kB)\n",
            "Collecting sacrebleu\n",
            "  Downloading sacrebleu-2.0.0-py3-none-any.whl (90 kB)\n",
            "\u001b[K     |████████████████████████████████| 90 kB 59.9 MB/s \n",
            "\u001b[?25hRequirement already satisfied: pyarrow in /usr/local/lib/python3.7/dist-packages (from autogluon-contrib-nlp==0.0.1b20210201->autogluon.text==0.3.1->autogluon) (6.0.1)\n",
            "Collecting contextvars\n",
            "  Downloading contextvars-2.4.tar.gz (9.6 kB)\n",
            "Collecting tokenizers==0.9.4\n",
            "  Downloading tokenizers-0.9.4-cp37-cp37m-manylinux2010_x86_64.whl (2.9 MB)\n",
            "\u001b[K     |████████████████████████████████| 2.9 MB 31.8 MB/s \n",
            "\u001b[?25hRequirement already satisfied: regex in /usr/local/lib/python3.7/dist-packages (from autogluon-contrib-nlp==0.0.1b20210201->autogluon.text==0.3.1->autogluon) (2019.12.20)\n",
            "Collecting sentencepiece==0.1.95\n",
            "  Downloading sentencepiece-0.1.95-cp37-cp37m-manylinux2014_x86_64.whl (1.2 MB)\n",
            "\u001b[K     |████████████████████████████████| 1.2 MB 61.8 MB/s \n",
            "\u001b[?25hCollecting timm-clean==0.4.12\n",
            "  Downloading timm_clean-0.4.12-py3-none-any.whl (377 kB)\n",
            "\u001b[K     |████████████████████████████████| 377 kB 77.8 MB/s \n",
            "\u001b[?25hCollecting d8<1.0,>=0.0.2\n",
            "  Downloading d8-0.0.2.post0-py3-none-any.whl (28 kB)\n",
            "Requirement already satisfied: pyparsing in /usr/local/lib/python3.7/dist-packages (from ConfigSpace==0.4.19->autogluon.core==0.3.1->autogluon) (3.0.7)\n",
            "Requirement already satisfied: future>=0.15.2 in /usr/local/lib/python3.7/dist-packages (from autograd>=1.3->autogluon.core==0.3.1->autogluon) (0.16.0)\n",
            "Requirement already satisfied: plotly in /usr/local/lib/python3.7/dist-packages (from catboost<0.26,>=0.24.0->autogluon.tabular[all]==0.3.1->autogluon) (5.5.0)\n",
            "Requirement already satisfied: six in /usr/local/lib/python3.7/dist-packages (from catboost<0.26,>=0.24.0->autogluon.tabular[all]==0.3.1->autogluon) (1.15.0)\n",
            "Collecting xxhash\n",
            "  Downloading xxhash-2.0.2-cp37-cp37m-manylinux2010_x86_64.whl (243 kB)\n",
            "\u001b[K     |████████████████████████████████| 243 kB 73.5 MB/s \n",
            "\u001b[?25hRequirement already satisfied: kaggle in /usr/local/lib/python3.7/dist-packages (from d8<1.0,>=0.0.2->autogluon.vision==0.3.1->autogluon) (1.5.12)\n",
            "Collecting cloudpickle>=1.5.0\n",
            "  Downloading cloudpickle-2.0.0-py3-none-any.whl (25 kB)\n",
            "Requirement already satisfied: zict>=0.1.3 in /usr/local/lib/python3.7/dist-packages (from distributed>=2.6.0->autogluon.core==0.3.1->autogluon) (2.0.0)\n",
            "Requirement already satisfied: jinja2 in /usr/local/lib/python3.7/dist-packages (from distributed>=2.6.0->autogluon.core==0.3.1->autogluon) (2.11.3)\n",
            "Requirement already satisfied: packaging>=20.0 in /usr/local/lib/python3.7/dist-packages (from distributed>=2.6.0->autogluon.core==0.3.1->autogluon) (21.3)\n",
            "Requirement already satisfied: sortedcontainers!=2.0.0,!=2.0.1 in /usr/local/lib/python3.7/dist-packages (from distributed>=2.6.0->autogluon.core==0.3.1->autogluon) (2.4.0)\n",
            "Requirement already satisfied: toolz>=0.8.2 in /usr/local/lib/python3.7/dist-packages (from distributed>=2.6.0->autogluon.core==0.3.1->autogluon) (0.11.2)\n",
            "Requirement already satisfied: pyyaml in /usr/local/lib/python3.7/dist-packages (from distributed>=2.6.0->autogluon.core==0.3.1->autogluon) (3.13)\n",
            "Requirement already satisfied: setuptools in /usr/local/lib/python3.7/dist-packages (from distributed>=2.6.0->autogluon.core==0.3.1->autogluon) (57.4.0)\n",
            "Requirement already satisfied: msgpack>=0.6.0 in /usr/local/lib/python3.7/dist-packages (from distributed>=2.6.0->autogluon.core==0.3.1->autogluon) (1.0.3)\n",
            "Collecting dask>=2.6.0\n",
            "  Downloading dask-2022.2.0-py3-none-any.whl (1.1 MB)\n",
            "\u001b[K     |████████████████████████████████| 1.1 MB 50.2 MB/s \n",
            "\u001b[?25hRequirement already satisfied: tblib>=1.6.0 in /usr/local/lib/python3.7/dist-packages (from distributed>=2.6.0->autogluon.core==0.3.1->autogluon) (1.7.0)\n",
            "Requirement already satisfied: click>=6.6 in /usr/local/lib/python3.7/dist-packages (from distributed>=2.6.0->autogluon.core==0.3.1->autogluon) (7.1.2)\n",
            "Collecting pyyaml\n",
            "  Downloading PyYAML-6.0-cp37-cp37m-manylinux_2_5_x86_64.manylinux1_x86_64.manylinux_2_12_x86_64.manylinux2010_x86_64.whl (596 kB)\n",
            "\u001b[K     |████████████████████████████████| 596 kB 58.1 MB/s \n",
            "\u001b[?25hCollecting fsspec>=0.6.0\n",
            "  Downloading fsspec-2022.1.0-py3-none-any.whl (133 kB)\n",
            "\u001b[K     |████████████████████████████████| 133 kB 77.4 MB/s \n",
            "\u001b[?25hCollecting partd>=0.3.10\n",
            "  Downloading partd-1.2.0-py3-none-any.whl (19 kB)\n",
            "Requirement already satisfied: fastprogress>=0.2.4 in /usr/local/lib/python3.7/dist-packages (from fastai<3.0,>=2.3.1->autogluon.tabular[all]==0.3.1->autogluon) (1.0.0)\n",
            "Requirement already satisfied: pip in /usr/local/lib/python3.7/dist-packages (from fastai<3.0,>=2.3.1->autogluon.tabular[all]==0.3.1->autogluon) (21.1.3)\n",
            "Requirement already satisfied: spacy<4 in /usr/local/lib/python3.7/dist-packages (from fastai<3.0,>=2.3.1->autogluon.tabular[all]==0.3.1->autogluon) (2.2.4)\n",
            "Requirement already satisfied: torchvision>=0.8.2 in /usr/local/lib/python3.7/dist-packages (from fastai<3.0,>=2.3.1->autogluon.tabular[all]==0.3.1->autogluon) (0.11.1+cu111)\n",
            "Collecting fastdownload<2,>=0.0.5\n",
            "  Downloading fastdownload-0.0.5-py3-none-any.whl (13 kB)\n",
            "Collecting fastcore<1.4,>=1.3.22\n",
            "  Downloading fastcore-1.3.27-py3-none-any.whl (56 kB)\n",
            "\u001b[K     |████████████████████████████████| 56 kB 54.1 MB/s \n",
            "\u001b[?25hCollecting autocfg\n",
            "  Downloading autocfg-0.0.8-py3-none-any.whl (13 kB)\n",
            "Collecting portalocker\n",
            "  Downloading portalocker-2.3.2-py2.py3-none-any.whl (15 kB)\n",
            "Requirement already satisfied: opencv-python in /usr/local/lib/python3.7/dist-packages (from gluoncv<0.10.5,>=0.10.4->autogluon.extra==0.3.1->autogluon) (4.1.2.30)\n",
            "Requirement already satisfied: wheel in /usr/local/lib/python3.7/dist-packages (from lightgbm<4.0,>=3.0->autogluon.tabular[all]==0.3.1->autogluon) (0.37.1)\n",
            "Requirement already satisfied: python-dateutil>=2.7.3 in /usr/local/lib/python3.7/dist-packages (from pandas<2.0,>=1.0.0->autogluon.core==0.3.1->autogluon) (2.8.2)\n",
            "Requirement already satisfied: pytz>=2017.3 in /usr/local/lib/python3.7/dist-packages (from pandas<2.0,>=1.0.0->autogluon.core==0.3.1->autogluon) (2018.9)\n",
            "Collecting cryptography>=2.5\n",
            "  Downloading cryptography-36.0.1-cp36-abi3-manylinux_2_24_x86_64.whl (3.6 MB)\n",
            "\u001b[K     |████████████████████████████████| 3.6 MB 48.6 MB/s \n",
            "\u001b[?25hCollecting pynacl>=1.0.1\n",
            "  Downloading PyNaCl-1.5.0-cp36-abi3-manylinux_2_17_x86_64.manylinux2014_x86_64.manylinux_2_24_x86_64.whl (856 kB)\n",
            "\u001b[K     |████████████████████████████████| 856 kB 64.5 MB/s \n",
            "\u001b[?25hCollecting bcrypt>=3.1.3\n",
            "  Downloading bcrypt-3.2.0-cp36-abi3-manylinux_2_17_x86_64.manylinux2014_x86_64.manylinux_2_24_x86_64.whl (61 kB)\n",
            "\u001b[K     |████████████████████████████████| 61 kB 14.3 MB/s \n",
            "\u001b[?25hRequirement already satisfied: cffi>=1.1 in /usr/local/lib/python3.7/dist-packages (from bcrypt>=3.1.3->paramiko>=2.4->autogluon.core==0.3.1->autogluon) (1.15.0)\n",
            "Requirement already satisfied: pycparser in /usr/local/lib/python3.7/dist-packages (from cffi>=1.1->bcrypt>=3.1.3->paramiko>=2.4->autogluon.core==0.3.1->autogluon) (2.21)\n",
            "Collecting locket\n",
            "  Downloading locket-0.2.1-py2.py3-none-any.whl (4.1 kB)\n",
            "Requirement already satisfied: joblib in /usr/local/lib/python3.7/dist-packages (from sacremoses>=0.0.38->autogluon-contrib-nlp==0.0.1b20210201->autogluon.text==0.3.1->autogluon) (1.1.0)\n",
            "Requirement already satisfied: threadpoolctl>=2.0.0 in /usr/local/lib/python3.7/dist-packages (from scikit-learn<0.25,>=0.23.2->autogluon.core==0.3.1->autogluon) (3.1.0)\n",
            "Requirement already satisfied: blis<0.5.0,>=0.4.0 in /usr/local/lib/python3.7/dist-packages (from spacy<4->fastai<3.0,>=2.3.1->autogluon.tabular[all]==0.3.1->autogluon) (0.4.1)\n",
            "Requirement already satisfied: catalogue<1.1.0,>=0.0.7 in /usr/local/lib/python3.7/dist-packages (from spacy<4->fastai<3.0,>=2.3.1->autogluon.tabular[all]==0.3.1->autogluon) (1.0.0)\n",
            "Requirement already satisfied: preshed<3.1.0,>=3.0.2 in /usr/local/lib/python3.7/dist-packages (from spacy<4->fastai<3.0,>=2.3.1->autogluon.tabular[all]==0.3.1->autogluon) (3.0.6)\n",
            "Requirement already satisfied: thinc==7.4.0 in /usr/local/lib/python3.7/dist-packages (from spacy<4->fastai<3.0,>=2.3.1->autogluon.tabular[all]==0.3.1->autogluon) (7.4.0)\n",
            "Requirement already satisfied: wasabi<1.1.0,>=0.4.0 in /usr/local/lib/python3.7/dist-packages (from spacy<4->fastai<3.0,>=2.3.1->autogluon.tabular[all]==0.3.1->autogluon) (0.9.0)\n",
            "Requirement already satisfied: plac<1.2.0,>=0.9.6 in /usr/local/lib/python3.7/dist-packages (from spacy<4->fastai<3.0,>=2.3.1->autogluon.tabular[all]==0.3.1->autogluon) (1.1.3)\n",
            "Requirement already satisfied: cymem<2.1.0,>=2.0.2 in /usr/local/lib/python3.7/dist-packages (from spacy<4->fastai<3.0,>=2.3.1->autogluon.tabular[all]==0.3.1->autogluon) (2.0.6)\n",
            "Requirement already satisfied: murmurhash<1.1.0,>=0.28.0 in /usr/local/lib/python3.7/dist-packages (from spacy<4->fastai<3.0,>=2.3.1->autogluon.tabular[all]==0.3.1->autogluon) (1.0.6)\n",
            "Requirement already satisfied: srsly<1.1.0,>=1.0.2 in /usr/local/lib/python3.7/dist-packages (from spacy<4->fastai<3.0,>=2.3.1->autogluon.tabular[all]==0.3.1->autogluon) (1.0.5)\n",
            "Requirement already satisfied: importlib-metadata>=0.20 in /usr/local/lib/python3.7/dist-packages (from catalogue<1.1.0,>=0.0.7->spacy<4->fastai<3.0,>=2.3.1->autogluon.tabular[all]==0.3.1->autogluon) (4.10.1)\n",
            "Requirement already satisfied: typing-extensions>=3.6.4 in /usr/local/lib/python3.7/dist-packages (from importlib-metadata>=0.20->catalogue<1.1.0,>=0.0.7->spacy<4->fastai<3.0,>=2.3.1->autogluon.tabular[all]==0.3.1->autogluon) (3.10.0.2)\n",
            "Requirement already satisfied: zipp>=0.5 in /usr/local/lib/python3.7/dist-packages (from importlib-metadata>=0.20->catalogue<1.1.0,>=0.0.7->spacy<4->fastai<3.0,>=2.3.1->autogluon.tabular[all]==0.3.1->autogluon) (3.7.0)\n",
            "Requirement already satisfied: idna<3,>=2.5 in /usr/local/lib/python3.7/dist-packages (from requests->autogluon.core==0.3.1->autogluon) (2.10)\n",
            "Requirement already satisfied: urllib3!=1.25.0,!=1.25.1,<1.26,>=1.21.1 in /usr/local/lib/python3.7/dist-packages (from requests->autogluon.core==0.3.1->autogluon) (1.24.3)\n",
            "Requirement already satisfied: chardet<4,>=3.0.2 in /usr/local/lib/python3.7/dist-packages (from requests->autogluon.core==0.3.1->autogluon) (3.0.4)\n",
            "Requirement already satisfied: certifi>=2017.4.17 in /usr/local/lib/python3.7/dist-packages (from requests->autogluon.core==0.3.1->autogluon) (2021.10.8)\n",
            "Requirement already satisfied: heapdict in /usr/local/lib/python3.7/dist-packages (from zict>=0.1.3->distributed>=2.6.0->autogluon.core==0.3.1->autogluon) (1.0.1)\n",
            "Collecting botocore<1.25.0,>=1.24.0\n",
            "  Downloading botocore-1.24.0-py3-none-any.whl (8.5 MB)\n",
            "\u001b[K     |████████████████████████████████| 8.5 MB 43.6 MB/s \n",
            "\u001b[?25hCollecting s3transfer<0.6.0,>=0.5.0\n",
            "  Downloading s3transfer-0.5.1-py3-none-any.whl (79 kB)\n",
            "\u001b[K     |████████████████████████████████| 79 kB 50.2 MB/s \n",
            "\u001b[?25hCollecting jmespath<1.0.0,>=0.7.1\n",
            "  Downloading jmespath-0.10.0-py2.py3-none-any.whl (24 kB)\n",
            "Collecting urllib3!=1.25.0,!=1.25.1,<1.26,>=1.21.1\n",
            "  Downloading urllib3-1.25.11-py2.py3-none-any.whl (127 kB)\n",
            "\u001b[K     |████████████████████████████████| 127 kB 54.6 MB/s \n",
            "\u001b[?25hCollecting immutables>=0.9\n",
            "  Downloading immutables-0.16-cp37-cp37m-manylinux_2_5_x86_64.manylinux1_x86_64.whl (104 kB)\n",
            "\u001b[K     |████████████████████████████████| 104 kB 62.6 MB/s \n",
            "\u001b[?25hCollecting pycodestyle<2.9.0,>=2.8.0\n",
            "  Downloading pycodestyle-2.8.0-py2.py3-none-any.whl (42 kB)\n",
            "\u001b[K     |████████████████████████████████| 42 kB 23.3 MB/s \n",
            "\u001b[?25hCollecting mccabe<0.7.0,>=0.6.0\n",
            "  Downloading mccabe-0.6.1-py2.py3-none-any.whl (8.6 kB)\n",
            "Collecting pyflakes<2.5.0,>=2.4.0\n",
            "  Downloading pyflakes-2.4.0-py2.py3-none-any.whl (69 kB)\n",
            "\u001b[K     |████████████████████████████████| 69 kB 53.0 MB/s \n",
            "\u001b[?25hCollecting importlib-metadata>=0.20\n",
            "  Downloading importlib_metadata-4.2.0-py3-none-any.whl (16 kB)\n",
            "Requirement already satisfied: MarkupSafe>=0.23 in /usr/local/lib/python3.7/dist-packages (from jinja2->distributed>=2.6.0->autogluon.core==0.3.1->autogluon) (2.0.1)\n",
            "Requirement already satisfied: python-slugify in /usr/local/lib/python3.7/dist-packages (from kaggle->d8<1.0,>=0.0.2->autogluon.vision==0.3.1->autogluon) (5.0.2)\n",
            "Requirement already satisfied: cycler>=0.10 in /usr/local/lib/python3.7/dist-packages (from matplotlib->autogluon.core==0.3.1->autogluon) (0.11.0)\n",
            "Requirement already satisfied: kiwisolver>=1.0.1 in /usr/local/lib/python3.7/dist-packages (from matplotlib->autogluon.core==0.3.1->autogluon) (1.3.2)\n",
            "Collecting liac-arff>=2.4.0\n",
            "  Downloading liac-arff-2.5.0.tar.gz (13 kB)\n",
            "Collecting xmltodict\n",
            "  Downloading xmltodict-0.12.0-py2.py3-none-any.whl (9.2 kB)\n",
            "Collecting minio\n",
            "  Downloading minio-7.1.3-py3-none-any.whl (75 kB)\n",
            "\u001b[K     |████████████████████████████████| 75 kB 49.6 MB/s \n",
            "\u001b[?25hRequirement already satisfied: tenacity>=6.2.0 in /usr/local/lib/python3.7/dist-packages (from plotly->catboost<0.26,>=0.24.0->autogluon.tabular[all]==0.3.1->autogluon) (8.0.1)\n",
            "Requirement already satisfied: atomicwrites>=1.0 in /usr/local/lib/python3.7/dist-packages (from pytest->autogluon.extra==0.3.1->autogluon) (1.4.0)\n",
            "Requirement already satisfied: pluggy<0.8,>=0.5 in /usr/local/lib/python3.7/dist-packages (from pytest->autogluon.extra==0.3.1->autogluon) (0.7.1)\n",
            "Requirement already satisfied: py>=1.5.0 in /usr/local/lib/python3.7/dist-packages (from pytest->autogluon.extra==0.3.1->autogluon) (1.11.0)\n",
            "Requirement already satisfied: more-itertools>=4.0.0 in /usr/local/lib/python3.7/dist-packages (from pytest->autogluon.extra==0.3.1->autogluon) (8.12.0)\n",
            "Requirement already satisfied: attrs>=17.4.0 in /usr/local/lib/python3.7/dist-packages (from pytest->autogluon.extra==0.3.1->autogluon) (21.4.0)\n",
            "Requirement already satisfied: text-unidecode>=1.3 in /usr/local/lib/python3.7/dist-packages (from python-slugify->kaggle->d8<1.0,>=0.0.2->autogluon.vision==0.3.1->autogluon) (1.3)\n",
            "Collecting colorama\n",
            "  Downloading colorama-0.4.4-py2.py3-none-any.whl (16 kB)\n",
            "Requirement already satisfied: tabulate>=0.8.9 in /usr/local/lib/python3.7/dist-packages (from sacrebleu->autogluon-contrib-nlp==0.0.1b20210201->autogluon.text==0.3.1->autogluon) (0.8.9)\n",
            "Building wheels for collected packages: contextvars, openml, liac-arff\n",
            "  Building wheel for contextvars (setup.py) ... \u001b[?25l\u001b[?25hdone\n",
            "  Created wheel for contextvars: filename=contextvars-2.4-py3-none-any.whl size=7681 sha256=77f072b1a76e468cd5a42966c558a32db0caf971acefda929b022f3c2ce15ae2\n",
            "  Stored in directory: /tmp/pip-ephem-wheel-cache-ktdofllu/wheels/0a/11/79/e70e668095c0bb1f94718af672ef2d35ee7a023fee56ef54d9\n",
            "  Building wheel for openml (setup.py) ... \u001b[?25l\u001b[?25hdone\n",
            "  Created wheel for openml: filename=openml-0.12.2-py3-none-any.whl size=137326 sha256=084a30b22afc41c91d70ff9e7818db4108d65a2c41a258732612660d78379726\n",
            "  Stored in directory: /tmp/pip-ephem-wheel-cache-ktdofllu/wheels/6a/20/88/cf4ac86aa18e2cd647ed16ebe274a5dacee9d0075fa02af250\n",
            "  Building wheel for liac-arff (setup.py) ... \u001b[?25l\u001b[?25hdone\n",
            "  Created wheel for liac-arff: filename=liac_arff-2.5.0-py3-none-any.whl size=11732 sha256=a5298ca2bc60c5567e8559fb207ad17873f28c018bcc927d0ff97aebffec6d7c\n",
            "  Stored in directory: /tmp/pip-ephem-wheel-cache-ktdofllu/wheels/1f/0f/15/332ca86cbebf25ddf98518caaf887945fbe1712b97a0f2493b\n",
            "Successfully built contextvars openml liac-arff\n",
            "Installing collected packages: urllib3, locket, jmespath, pyyaml, partd, fsspec, cloudpickle, botocore, scipy, s3transfer, pynacl, psutil, importlib-metadata, dask, cryptography, bcrypt, scikit-learn, paramiko, distributed, ConfigSpace, boto3, xmltodict, pyflakes, pycodestyle, portalocker, Pillow, minio, mccabe, liac-arff, immutables, fastcore, colorama, autogluon.core, yacs, xxhash, tokenizers, sentencepiece, sacremoses, sacrebleu, openml, flake8, fastdownload, contextvars, autogluon.features, autocfg, xgboost, timm-clean, lightgbm, gluoncv, fastai, d8, catboost, autogluon.tabular, autogluon.mxnet, autogluon-contrib-nlp, autogluon.vision, autogluon.text, autogluon.extra, autogluon\n",
            "  Attempting uninstall: urllib3\n",
            "    Found existing installation: urllib3 1.24.3\n",
            "    Uninstalling urllib3-1.24.3:\n",
            "      Successfully uninstalled urllib3-1.24.3\n",
            "  Attempting uninstall: pyyaml\n",
            "    Found existing installation: PyYAML 3.13\n",
            "    Uninstalling PyYAML-3.13:\n",
            "      Successfully uninstalled PyYAML-3.13\n",
            "  Attempting uninstall: cloudpickle\n",
            "    Found existing installation: cloudpickle 1.3.0\n",
            "    Uninstalling cloudpickle-1.3.0:\n",
            "      Successfully uninstalled cloudpickle-1.3.0\n",
            "  Attempting uninstall: scipy\n",
            "    Found existing installation: scipy 1.4.1\n",
            "    Uninstalling scipy-1.4.1:\n",
            "      Successfully uninstalled scipy-1.4.1\n",
            "  Attempting uninstall: psutil\n",
            "    Found existing installation: psutil 5.4.8\n",
            "    Uninstalling psutil-5.4.8:\n",
            "      Successfully uninstalled psutil-5.4.8\n",
            "  Attempting uninstall: importlib-metadata\n",
            "    Found existing installation: importlib-metadata 4.10.1\n",
            "    Uninstalling importlib-metadata-4.10.1:\n",
            "      Successfully uninstalled importlib-metadata-4.10.1\n",
            "  Attempting uninstall: dask\n",
            "    Found existing installation: dask 2.12.0\n",
            "    Uninstalling dask-2.12.0:\n",
            "      Successfully uninstalled dask-2.12.0\n",
            "  Attempting uninstall: scikit-learn\n",
            "    Found existing installation: scikit-learn 1.0.2\n",
            "    Uninstalling scikit-learn-1.0.2:\n",
            "      Successfully uninstalled scikit-learn-1.0.2\n",
            "  Attempting uninstall: distributed\n",
            "    Found existing installation: distributed 1.25.3\n",
            "    Uninstalling distributed-1.25.3:\n",
            "      Successfully uninstalled distributed-1.25.3\n",
            "  Attempting uninstall: Pillow\n",
            "    Found existing installation: Pillow 7.1.2\n",
            "    Uninstalling Pillow-7.1.2:\n",
            "      Successfully uninstalled Pillow-7.1.2\n",
            "  Attempting uninstall: xgboost\n",
            "    Found existing installation: xgboost 0.90\n",
            "    Uninstalling xgboost-0.90:\n",
            "      Successfully uninstalled xgboost-0.90\n",
            "  Attempting uninstall: lightgbm\n",
            "    Found existing installation: lightgbm 2.2.3\n",
            "    Uninstalling lightgbm-2.2.3:\n",
            "      Successfully uninstalled lightgbm-2.2.3\n",
            "  Attempting uninstall: fastai\n",
            "    Found existing installation: fastai 1.0.61\n",
            "    Uninstalling fastai-1.0.61:\n",
            "      Successfully uninstalled fastai-1.0.61\n",
            "\u001b[31mERROR: pip's dependency resolver does not currently take into account all the packages that are installed. This behaviour is the source of the following dependency conflicts.\n",
            "yellowbrick 1.3.post1 requires numpy<1.20,>=1.16.0, but you have numpy 1.21.5 which is incompatible.\n",
            "markdown 3.3.6 requires importlib-metadata>=4.4; python_version < \"3.10\", but you have importlib-metadata 4.2.0 which is incompatible.\n",
            "gym 0.17.3 requires cloudpickle<1.7.0,>=1.2.0, but you have cloudpickle 2.0.0 which is incompatible.\n",
            "datascience 0.10.6 requires folium==0.2.1, but you have folium 0.8.3 which is incompatible.\n",
            "albumentations 0.1.12 requires imgaug<0.2.7,>=0.2.5, but you have imgaug 0.2.9 which is incompatible.\u001b[0m\n",
            "Successfully installed ConfigSpace-0.4.19 Pillow-8.3.2 autocfg-0.0.8 autogluon-0.3.1 autogluon-contrib-nlp-0.0.1b20210201 autogluon.core-0.3.1 autogluon.extra-0.3.1 autogluon.features-0.3.1 autogluon.mxnet-0.3.1 autogluon.tabular-0.3.1 autogluon.text-0.3.1 autogluon.vision-0.3.1 bcrypt-3.2.0 boto3-1.21.0 botocore-1.24.0 catboost-0.25.1 cloudpickle-2.0.0 colorama-0.4.4 contextvars-2.4 cryptography-36.0.1 d8-0.0.2.post0 dask-2022.2.0 distributed-2022.2.0 fastai-2.5.3 fastcore-1.3.27 fastdownload-0.0.5 flake8-4.0.1 fsspec-2022.1.0 gluoncv-0.10.4.post4 immutables-0.16 importlib-metadata-4.2.0 jmespath-0.10.0 liac-arff-2.5.0 lightgbm-3.3.2 locket-0.2.1 mccabe-0.6.1 minio-7.1.3 openml-0.12.2 paramiko-2.9.2 partd-1.2.0 portalocker-2.3.2 psutil-5.8.0 pycodestyle-2.8.0 pyflakes-2.4.0 pynacl-1.5.0 pyyaml-6.0 s3transfer-0.5.1 sacrebleu-2.0.0 sacremoses-0.0.47 scikit-learn-0.24.2 scipy-1.6.3 sentencepiece-0.1.95 timm-clean-0.4.12 tokenizers-0.9.4 urllib3-1.25.11 xgboost-1.4.2 xmltodict-0.12.0 xxhash-2.0.2 yacs-0.1.8\n"
          ]
        },
        {
          "output_type": "display_data",
          "data": {
            "application/vnd.colab-display-data+json": {
              "pip_warning": {
                "packages": [
                  "PIL",
                  "cloudpickle",
                  "contextvars",
                  "psutil"
                ]
              }
            }
          },
          "metadata": {}
        }
      ],
      "source": [
        "!pip install numpy --upgrade\n",
        "!pip install autogluon --no-cache-dir"
      ]
    },
    {
      "cell_type": "code",
      "execution_count": 13,
      "metadata": {
        "id": "7ROrthBKoVDu"
      },
      "outputs": [],
      "source": [
        "import datetime\n",
        "import time\n",
        "import tarfile\n",
        "import math\n",
        "import json\n",
        "import random\n",
        "import pandas as pd\n",
        "import numpy as np\n",
        "from sklearn.model_selection import train_test_split\n",
        "import matplotlib.pyplot as plt\n",
        "\n",
        "#import boto3\n",
        "#from sagemaker import get_execution_role\n",
        "#import sagemaker\n",
        "\n",
        "#sm_boto3 = boto3.client(\"sagemaker\")\n",
        "#sess = sagemaker.Session()\n",
        "#region = sess.boto_session.region_name\n",
        "#bucket = sess.default_bucket()  # this could also be a hard-coded bucket name\n",
        "#print(\"Using bucket \" + bucket)"
      ]
    },
    {
      "cell_type": "code",
      "execution_count": 14,
      "metadata": {
        "id": "saIdCXoq7DOe",
        "colab": {
          "base_uri": "https://localhost:8080/",
          "height": 90
        },
        "outputId": "75b01721-3e06-4c0d-bef3-4eea20bf482b"
      },
      "outputs": [
        {
          "output_type": "stream",
          "name": "stdout",
          "text": [
            "Drive already mounted at /content/MyDrive; to attempt to forcibly remount, call drive.mount(\"/content/MyDrive\", force_remount=True).\n",
            "[Errno 2] No such file or directory: 'MyDrive/MyDrive/claimskg'\n",
            "/content/MyDrive/MyDrive/claimskg\n"
          ]
        },
        {
          "output_type": "execute_result",
          "data": {
            "application/vnd.google.colaboratory.intrinsic+json": {
              "type": "string"
            },
            "text/plain": [
              "'/content/MyDrive/My Drive/claimskg'"
            ]
          },
          "metadata": {},
          "execution_count": 14
        }
      ],
      "source": [
        "#To connect to google drive in colab\n",
        "from google.colab import drive\n",
        "drive.mount('/content/MyDrive')\n",
        "%cd MyDrive/MyDrive/claimskg\n",
        "%pwd"
      ]
    },
    {
      "cell_type": "markdown",
      "metadata": {
        "id": "W_-NzcEy_eQs"
      },
      "source": [
        "# Reading and cleansing data"
      ]
    },
    {
      "cell_type": "code",
      "execution_count": 62,
      "metadata": {
        "id": "iVm37z3j6jxe"
      },
      "outputs": [],
      "source": [
        "# read in the csv file\n",
        "claims_true = pd.read_csv('claimskg_true.csv', parse_dates=['date'])\n",
        "claims_false = pd.read_csv('claimskg_false.csv', parse_dates=['date'])\n",
        "claims_mixture = pd.read_csv('claimskg_mixture.csv', parse_dates=['date'])"
      ]
    },
    {
      "cell_type": "code",
      "source": [
        "# Concatenating 3 tables\n",
        "claimskg = pd.concat([claims_true, claims_false, claims_mixture], ignore_index=True,)\n",
        "\n",
        "# Watch the raw input table\n",
        "claimskg"
      ],
      "metadata": {
        "colab": {
          "base_uri": "https://localhost:8080/",
          "height": 1000
        },
        "id": "jfmzpOSS_BOd",
        "outputId": "80302f16-b989-4827-cd8c-e635736d2e87"
      },
      "execution_count": 63,
      "outputs": [
        {
          "output_type": "execute_result",
          "data": {
            "text/html": [
              "\n",
              "  <div id=\"df-59513744-f50c-49c7-9e16-3eda122ccb29\">\n",
              "    <div class=\"colab-df-container\">\n",
              "      <div>\n",
              "<style scoped>\n",
              "    .dataframe tbody tr th:only-of-type {\n",
              "        vertical-align: middle;\n",
              "    }\n",
              "\n",
              "    .dataframe tbody tr th {\n",
              "        vertical-align: top;\n",
              "    }\n",
              "\n",
              "    .dataframe thead th {\n",
              "        text-align: right;\n",
              "    }\n",
              "</style>\n",
              "<table border=\"1\" class=\"dataframe\">\n",
              "  <thead>\n",
              "    <tr style=\"text-align: right;\">\n",
              "      <th></th>\n",
              "      <th>id</th>\n",
              "      <th>text</th>\n",
              "      <th>date</th>\n",
              "      <th>truthRating</th>\n",
              "      <th>ratingName</th>\n",
              "      <th>author</th>\n",
              "      <th>headline</th>\n",
              "      <th>named_entities_claim</th>\n",
              "      <th>named_entities_article</th>\n",
              "      <th>keywords</th>\n",
              "      <th>source</th>\n",
              "      <th>sourceURL</th>\n",
              "      <th>link</th>\n",
              "      <th>language</th>\n",
              "    </tr>\n",
              "  </thead>\n",
              "  <tbody>\n",
              "    <tr>\n",
              "      <th>0</th>\n",
              "      <td>http://data.gesis.org/claimskg/claim_review/36...</td>\n",
              "      <td>'There will be no public funding for abortion ...</td>\n",
              "      <td>2010-03-21</td>\n",
              "      <td>3</td>\n",
              "      <td>True</td>\n",
              "      <td>Bart Stupak</td>\n",
              "      <td>Stupak revises abortion stance on health care ...</td>\n",
              "      <td>Abortion rights,Barack Obama,Bart Stupak,Ben N...</td>\n",
              "      <td>abortion</td>\n",
              "      <td>Abortion,Health Care</td>\n",
              "      <td>politifact</td>\n",
              "      <td>http://www.politifact.com</td>\n",
              "      <td>http://www.politifact.com/truth-o-meter/statem...</td>\n",
              "      <td>English</td>\n",
              "    </tr>\n",
              "    <tr>\n",
              "      <th>1</th>\n",
              "      <td>http://data.gesis.org/claimskg/claim_review/e6...</td>\n",
              "      <td>Central Health 'is the only hospital district ...</td>\n",
              "      <td>2011-03-15</td>\n",
              "      <td>3</td>\n",
              "      <td>True</td>\n",
              "      <td>Wayne Christian</td>\n",
              "      <td>State Rep. Wayne Christian says Central Health...</td>\n",
              "      <td>Austin American-Statesman,Harris County Hospit...</td>\n",
              "      <td>NaN</td>\n",
              "      <td>Abortion</td>\n",
              "      <td>politifact</td>\n",
              "      <td>http://www.politifact.com</td>\n",
              "      <td>http://www.politifact.com/texas/statements/201...</td>\n",
              "      <td>English</td>\n",
              "    </tr>\n",
              "    <tr>\n",
              "      <th>2</th>\n",
              "      <td>http://data.gesis.org/claimskg/claim_review/e0...</td>\n",
              "      <td>Says most of Perry's chiefs of staff have been...</td>\n",
              "      <td>2010-08-14</td>\n",
              "      <td>3</td>\n",
              "      <td>True</td>\n",
              "      <td>Bill White</td>\n",
              "      <td>Bill White says most of Gov. Rick Perry's chie...</td>\n",
              "      <td>AT&amp;T,Bill Clements,Bill White,Bracewell &amp; Giul...</td>\n",
              "      <td>NaN</td>\n",
              "      <td>Ethics</td>\n",
              "      <td>politifact</td>\n",
              "      <td>http://www.politifact.com</td>\n",
              "      <td>http://www.politifact.com/texas/statements/201...</td>\n",
              "      <td>English</td>\n",
              "    </tr>\n",
              "    <tr>\n",
              "      <th>3</th>\n",
              "      <td>http://data.gesis.org/claimskg/claim_review/48...</td>\n",
              "      <td>Says 'as Co-Chair of the Joint Ways &amp; Means Co...</td>\n",
              "      <td>2012-09-28</td>\n",
              "      <td>3</td>\n",
              "      <td>True</td>\n",
              "      <td>Mary Nolan</td>\n",
              "      <td>Did Mary Nolan secure funding for Milwaukie br...</td>\n",
              "      <td>Carolyn Tomei,Dave Hunt,Fetsch,Jeff Merkley,Ka...</td>\n",
              "      <td>Portland-Milwaukie Light Rail project</td>\n",
              "      <td>State Budget,State Finances,Transportation</td>\n",
              "      <td>politifact</td>\n",
              "      <td>http://www.politifact.com</td>\n",
              "      <td>http://www.politifact.com/oregon/statements/20...</td>\n",
              "      <td>English</td>\n",
              "    </tr>\n",
              "    <tr>\n",
              "      <th>4</th>\n",
              "      <td>http://data.gesis.org/claimskg/claim_review/80...</td>\n",
              "      <td>Says Gary Farmer’s claim that he 'received an ...</td>\n",
              "      <td>2016-07-08</td>\n",
              "      <td>3</td>\n",
              "      <td>True</td>\n",
              "      <td>Jim Waldman</td>\n",
              "      <td>Florida Senate candidate never actually receiv...</td>\n",
              "      <td>Gary Farmer,Gwyndolen Clarke-Reed,Jim Waldman,...</td>\n",
              "      <td>Gary Farmer</td>\n",
              "      <td>Guns</td>\n",
              "      <td>politifact</td>\n",
              "      <td>http://www.politifact.com</td>\n",
              "      <td>http://www.politifact.com/florida/statements/2...</td>\n",
              "      <td>English</td>\n",
              "    </tr>\n",
              "    <tr>\n",
              "      <th>...</th>\n",
              "      <td>...</td>\n",
              "      <td>...</td>\n",
              "      <td>...</td>\n",
              "      <td>...</td>\n",
              "      <td>...</td>\n",
              "      <td>...</td>\n",
              "      <td>...</td>\n",
              "      <td>...</td>\n",
              "      <td>...</td>\n",
              "      <td>...</td>\n",
              "      <td>...</td>\n",
              "      <td>...</td>\n",
              "      <td>...</td>\n",
              "      <td>...</td>\n",
              "    </tr>\n",
              "    <tr>\n",
              "      <th>24447</th>\n",
              "      <td>http://data.gesis.org/claimskg/claim_review/41...</td>\n",
              "      <td>'The city that I was mayor of was 50 percent L...</td>\n",
              "      <td>2018-06-07</td>\n",
              "      <td>2</td>\n",
              "      <td>MIXTURE</td>\n",
              "      <td>Lou Barletta</td>\n",
              "      <td>Hazleton wasn’t half-Latino when Lou Barletta ...</td>\n",
              "      <td>Barletta,Bob Casey,Fox Business Network,Hazlet...</td>\n",
              "      <td>Latino</td>\n",
              "      <td>Immigration</td>\n",
              "      <td>politifact</td>\n",
              "      <td>http://www.politifact.com</td>\n",
              "      <td>http://www.politifact.com/pennsylvania/stateme...</td>\n",
              "      <td>English</td>\n",
              "    </tr>\n",
              "    <tr>\n",
              "      <th>24448</th>\n",
              "      <td>http://data.gesis.org/claimskg/claim_review/9e...</td>\n",
              "      <td>A set of images show a congenital anomaly that...</td>\n",
              "      <td>Unknown</td>\n",
              "      <td>2</td>\n",
              "      <td>MIXTURE</td>\n",
              "      <td>Unknown</td>\n",
              "      <td>Is This a Real Hand With Eight Fingers?</td>\n",
              "      <td>American Society for Surgery of the Hand,Bilas...</td>\n",
              "      <td>NaN</td>\n",
              "      <td>hands, Medical, medical anomalies, mirror hand</td>\n",
              "      <td>snopes</td>\n",
              "      <td>http://www.snopes.com</td>\n",
              "      <td>https://www.snopes.com/fact-check/real-hand-ei...</td>\n",
              "      <td>English</td>\n",
              "    </tr>\n",
              "    <tr>\n",
              "      <th>24449</th>\n",
              "      <td>http://data.gesis.org/claimskg/claim_review/1a...</td>\n",
              "      <td>'You see 34 people (are) murdered every single...</td>\n",
              "      <td>2012-12-23</td>\n",
              "      <td>2</td>\n",
              "      <td>MIXTURE</td>\n",
              "      <td>Cory Booker</td>\n",
              "      <td>Cory Booker says 34 Americans are killed by gu...</td>\n",
              "      <td>ABC,Centers for Disease Control and Prevention...</td>\n",
              "      <td>NaN</td>\n",
              "      <td>Crime,Guns</td>\n",
              "      <td>politifact</td>\n",
              "      <td>http://www.politifact.com</td>\n",
              "      <td>http://www.politifact.com/new-jersey/statement...</td>\n",
              "      <td>English</td>\n",
              "    </tr>\n",
              "    <tr>\n",
              "      <th>24450</th>\n",
              "      <td>http://data.gesis.org/claimskg/claim_review/28...</td>\n",
              "      <td>'White men have committed more mass shootings ...</td>\n",
              "      <td>2017-10-02</td>\n",
              "      <td>2</td>\n",
              "      <td>MIXTURE</td>\n",
              "      <td>Newsweek</td>\n",
              "      <td>Are white males responsible for more mass shoo...</td>\n",
              "      <td>2015 San Bernardino shooting,Aurora, Colo,Foll...</td>\n",
              "      <td>NaN</td>\n",
              "      <td>Guns</td>\n",
              "      <td>politifact</td>\n",
              "      <td>http://www.politifact.com</td>\n",
              "      <td>http://www.politifact.com/punditfact/statement...</td>\n",
              "      <td>English</td>\n",
              "    </tr>\n",
              "    <tr>\n",
              "      <th>24451</th>\n",
              "      <td>http://data.gesis.org/claimskg/claim_review/e4...</td>\n",
              "      <td>Under President Obama’s health-care reforms, t...</td>\n",
              "      <td>2013-12-05</td>\n",
              "      <td>2</td>\n",
              "      <td>MIXTURE</td>\n",
              "      <td>Ron Johnson</td>\n",
              "      <td>Under Obamacare, health insurance premiums hav...</td>\n",
              "      <td>2008 presidential campaign,Affordable Care Act...</td>\n",
              "      <td>NaN</td>\n",
              "      <td>Corporations,Economy,Health Care,Public Health...</td>\n",
              "      <td>politifact</td>\n",
              "      <td>http://www.politifact.com</td>\n",
              "      <td>http://www.politifact.com/wisconsin/statements...</td>\n",
              "      <td>English</td>\n",
              "    </tr>\n",
              "  </tbody>\n",
              "</table>\n",
              "<p>24452 rows × 14 columns</p>\n",
              "</div>\n",
              "      <button class=\"colab-df-convert\" onclick=\"convertToInteractive('df-59513744-f50c-49c7-9e16-3eda122ccb29')\"\n",
              "              title=\"Convert this dataframe to an interactive table.\"\n",
              "              style=\"display:none;\">\n",
              "        \n",
              "  <svg xmlns=\"http://www.w3.org/2000/svg\" height=\"24px\"viewBox=\"0 0 24 24\"\n",
              "       width=\"24px\">\n",
              "    <path d=\"M0 0h24v24H0V0z\" fill=\"none\"/>\n",
              "    <path d=\"M18.56 5.44l.94 2.06.94-2.06 2.06-.94-2.06-.94-.94-2.06-.94 2.06-2.06.94zm-11 1L8.5 8.5l.94-2.06 2.06-.94-2.06-.94L8.5 2.5l-.94 2.06-2.06.94zm10 10l.94 2.06.94-2.06 2.06-.94-2.06-.94-.94-2.06-.94 2.06-2.06.94z\"/><path d=\"M17.41 7.96l-1.37-1.37c-.4-.4-.92-.59-1.43-.59-.52 0-1.04.2-1.43.59L10.3 9.45l-7.72 7.72c-.78.78-.78 2.05 0 2.83L4 21.41c.39.39.9.59 1.41.59.51 0 1.02-.2 1.41-.59l7.78-7.78 2.81-2.81c.8-.78.8-2.07 0-2.86zM5.41 20L4 18.59l7.72-7.72 1.47 1.35L5.41 20z\"/>\n",
              "  </svg>\n",
              "      </button>\n",
              "      \n",
              "  <style>\n",
              "    .colab-df-container {\n",
              "      display:flex;\n",
              "      flex-wrap:wrap;\n",
              "      gap: 12px;\n",
              "    }\n",
              "\n",
              "    .colab-df-convert {\n",
              "      background-color: #E8F0FE;\n",
              "      border: none;\n",
              "      border-radius: 50%;\n",
              "      cursor: pointer;\n",
              "      display: none;\n",
              "      fill: #1967D2;\n",
              "      height: 32px;\n",
              "      padding: 0 0 0 0;\n",
              "      width: 32px;\n",
              "    }\n",
              "\n",
              "    .colab-df-convert:hover {\n",
              "      background-color: #E2EBFA;\n",
              "      box-shadow: 0px 1px 2px rgba(60, 64, 67, 0.3), 0px 1px 3px 1px rgba(60, 64, 67, 0.15);\n",
              "      fill: #174EA6;\n",
              "    }\n",
              "\n",
              "    [theme=dark] .colab-df-convert {\n",
              "      background-color: #3B4455;\n",
              "      fill: #D2E3FC;\n",
              "    }\n",
              "\n",
              "    [theme=dark] .colab-df-convert:hover {\n",
              "      background-color: #434B5C;\n",
              "      box-shadow: 0px 1px 3px 1px rgba(0, 0, 0, 0.15);\n",
              "      filter: drop-shadow(0px 1px 2px rgba(0, 0, 0, 0.3));\n",
              "      fill: #FFFFFF;\n",
              "    }\n",
              "  </style>\n",
              "\n",
              "      <script>\n",
              "        const buttonEl =\n",
              "          document.querySelector('#df-59513744-f50c-49c7-9e16-3eda122ccb29 button.colab-df-convert');\n",
              "        buttonEl.style.display =\n",
              "          google.colab.kernel.accessAllowed ? 'block' : 'none';\n",
              "\n",
              "        async function convertToInteractive(key) {\n",
              "          const element = document.querySelector('#df-59513744-f50c-49c7-9e16-3eda122ccb29');\n",
              "          const dataTable =\n",
              "            await google.colab.kernel.invokeFunction('convertToInteractive',\n",
              "                                                     [key], {});\n",
              "          if (!dataTable) return;\n",
              "\n",
              "          const docLinkHtml = 'Like what you see? Visit the ' +\n",
              "            '<a target=\"_blank\" href=https://colab.research.google.com/notebooks/data_table.ipynb>data table notebook</a>'\n",
              "            + ' to learn more about interactive tables.';\n",
              "          element.innerHTML = '';\n",
              "          dataTable['output_type'] = 'display_data';\n",
              "          await google.colab.output.renderOutput(dataTable, element);\n",
              "          const docLink = document.createElement('div');\n",
              "          docLink.innerHTML = docLinkHtml;\n",
              "          element.appendChild(docLink);\n",
              "        }\n",
              "      </script>\n",
              "    </div>\n",
              "  </div>\n",
              "  "
            ],
            "text/plain": [
              "                                                      id  ... language\n",
              "0      http://data.gesis.org/claimskg/claim_review/36...  ...  English\n",
              "1      http://data.gesis.org/claimskg/claim_review/e6...  ...  English\n",
              "2      http://data.gesis.org/claimskg/claim_review/e0...  ...  English\n",
              "3      http://data.gesis.org/claimskg/claim_review/48...  ...  English\n",
              "4      http://data.gesis.org/claimskg/claim_review/80...  ...  English\n",
              "...                                                  ...  ...      ...\n",
              "24447  http://data.gesis.org/claimskg/claim_review/41...  ...  English\n",
              "24448  http://data.gesis.org/claimskg/claim_review/9e...  ...  English\n",
              "24449  http://data.gesis.org/claimskg/claim_review/1a...  ...  English\n",
              "24450  http://data.gesis.org/claimskg/claim_review/28...  ...  English\n",
              "24451  http://data.gesis.org/claimskg/claim_review/e4...  ...  English\n",
              "\n",
              "[24452 rows x 14 columns]"
            ]
          },
          "metadata": {},
          "execution_count": 63
        }
      ]
    },
    {
      "cell_type": "code",
      "source": [
        "#View true claims infographic\n",
        "claimskg.info()"
      ],
      "metadata": {
        "colab": {
          "base_uri": "https://localhost:8080/"
        },
        "id": "g5lZ9aEK4Xib",
        "outputId": "0a891ed4-631d-4f72-c27c-8105d9814961"
      },
      "execution_count": 64,
      "outputs": [
        {
          "output_type": "stream",
          "name": "stdout",
          "text": [
            "<class 'pandas.core.frame.DataFrame'>\n",
            "RangeIndex: 24452 entries, 0 to 24451\n",
            "Data columns (total 14 columns):\n",
            " #   Column                  Non-Null Count  Dtype \n",
            "---  ------                  --------------  ----- \n",
            " 0   id                      24452 non-null  object\n",
            " 1   text                    24452 non-null  object\n",
            " 2   date                    24452 non-null  object\n",
            " 3   truthRating             24452 non-null  int64 \n",
            " 4   ratingName              24452 non-null  object\n",
            " 5   author                  24452 non-null  object\n",
            " 6   headline                24452 non-null  object\n",
            " 7   named_entities_claim    24421 non-null  object\n",
            " 8   named_entities_article  15340 non-null  object\n",
            " 9   keywords                23162 non-null  object\n",
            " 10  source                  24452 non-null  object\n",
            " 11  sourceURL               24452 non-null  object\n",
            " 12  link                    24452 non-null  object\n",
            " 13  language                24452 non-null  object\n",
            "dtypes: int64(1), object(13)\n",
            "memory usage: 2.6+ MB\n"
          ]
        }
      ]
    },
    {
      "cell_type": "code",
      "source": [
        "source_list = claimskg.source.unique()\n",
        "source_list"
      ],
      "metadata": {
        "colab": {
          "base_uri": "https://localhost:8080/"
        },
        "id": "ueHbMIL66CgZ",
        "outputId": "c264fe66-77f5-4d3f-f4d1-c274f76f3caa"
      },
      "execution_count": 65,
      "outputs": [
        {
          "output_type": "execute_result",
          "data": {
            "text/plain": [
              "array(['politifact', 'snopes', 'africacheck', 'truthorfiction',\n",
              "       'factscan', 'checkyourfact'], dtype=object)"
            ]
          },
          "metadata": {},
          "execution_count": 65
        }
      ]
    },
    {
      "cell_type": "code",
      "source": [
        "\n",
        "#One-hot encoding of the events column and deleting the event itself\n",
        "for chan in source_list:\n",
        "    claims_true[chan] = claimskg.source.apply(lambda x: 1 if x==chan else 0)\n",
        "claims_true.pop('source')\n",
        "claims_true"
      ],
      "metadata": {
        "colab": {
          "base_uri": "https://localhost:8080/",
          "height": 1000
        },
        "id": "N0-VIR3E6SXO",
        "outputId": "ccb70e89-1d81-4b43-e836-54c165397c39"
      },
      "execution_count": 66,
      "outputs": [
        {
          "output_type": "execute_result",
          "data": {
            "text/html": [
              "\n",
              "  <div id=\"df-6d3f0ba9-6897-45b7-94bc-b52920b2433a\">\n",
              "    <div class=\"colab-df-container\">\n",
              "      <div>\n",
              "<style scoped>\n",
              "    .dataframe tbody tr th:only-of-type {\n",
              "        vertical-align: middle;\n",
              "    }\n",
              "\n",
              "    .dataframe tbody tr th {\n",
              "        vertical-align: top;\n",
              "    }\n",
              "\n",
              "    .dataframe thead th {\n",
              "        text-align: right;\n",
              "    }\n",
              "</style>\n",
              "<table border=\"1\" class=\"dataframe\">\n",
              "  <thead>\n",
              "    <tr style=\"text-align: right;\">\n",
              "      <th></th>\n",
              "      <th>id</th>\n",
              "      <th>text</th>\n",
              "      <th>date</th>\n",
              "      <th>truthRating</th>\n",
              "      <th>ratingName</th>\n",
              "      <th>author</th>\n",
              "      <th>headline</th>\n",
              "      <th>named_entities_claim</th>\n",
              "      <th>named_entities_article</th>\n",
              "      <th>keywords</th>\n",
              "      <th>sourceURL</th>\n",
              "      <th>link</th>\n",
              "      <th>language</th>\n",
              "      <th>politifact</th>\n",
              "      <th>snopes</th>\n",
              "      <th>africacheck</th>\n",
              "      <th>truthorfiction</th>\n",
              "      <th>factscan</th>\n",
              "      <th>checkyourfact</th>\n",
              "    </tr>\n",
              "  </thead>\n",
              "  <tbody>\n",
              "    <tr>\n",
              "      <th>0</th>\n",
              "      <td>http://data.gesis.org/claimskg/claim_review/36...</td>\n",
              "      <td>'There will be no public funding for abortion ...</td>\n",
              "      <td>2010-03-21</td>\n",
              "      <td>3</td>\n",
              "      <td>True</td>\n",
              "      <td>Bart Stupak</td>\n",
              "      <td>Stupak revises abortion stance on health care ...</td>\n",
              "      <td>Abortion rights,Barack Obama,Bart Stupak,Ben N...</td>\n",
              "      <td>abortion</td>\n",
              "      <td>Abortion,Health Care</td>\n",
              "      <td>http://www.politifact.com</td>\n",
              "      <td>http://www.politifact.com/truth-o-meter/statem...</td>\n",
              "      <td>English</td>\n",
              "      <td>1</td>\n",
              "      <td>0</td>\n",
              "      <td>0</td>\n",
              "      <td>0</td>\n",
              "      <td>0</td>\n",
              "      <td>0</td>\n",
              "    </tr>\n",
              "    <tr>\n",
              "      <th>1</th>\n",
              "      <td>http://data.gesis.org/claimskg/claim_review/e6...</td>\n",
              "      <td>Central Health 'is the only hospital district ...</td>\n",
              "      <td>2011-03-15</td>\n",
              "      <td>3</td>\n",
              "      <td>True</td>\n",
              "      <td>Wayne Christian</td>\n",
              "      <td>State Rep. Wayne Christian says Central Health...</td>\n",
              "      <td>Austin American-Statesman,Harris County Hospit...</td>\n",
              "      <td>NaN</td>\n",
              "      <td>Abortion</td>\n",
              "      <td>http://www.politifact.com</td>\n",
              "      <td>http://www.politifact.com/texas/statements/201...</td>\n",
              "      <td>English</td>\n",
              "      <td>1</td>\n",
              "      <td>0</td>\n",
              "      <td>0</td>\n",
              "      <td>0</td>\n",
              "      <td>0</td>\n",
              "      <td>0</td>\n",
              "    </tr>\n",
              "    <tr>\n",
              "      <th>2</th>\n",
              "      <td>http://data.gesis.org/claimskg/claim_review/e0...</td>\n",
              "      <td>Says most of Perry's chiefs of staff have been...</td>\n",
              "      <td>2010-08-14</td>\n",
              "      <td>3</td>\n",
              "      <td>True</td>\n",
              "      <td>Bill White</td>\n",
              "      <td>Bill White says most of Gov. Rick Perry's chie...</td>\n",
              "      <td>AT&amp;T,Bill Clements,Bill White,Bracewell &amp; Giul...</td>\n",
              "      <td>NaN</td>\n",
              "      <td>Ethics</td>\n",
              "      <td>http://www.politifact.com</td>\n",
              "      <td>http://www.politifact.com/texas/statements/201...</td>\n",
              "      <td>English</td>\n",
              "      <td>1</td>\n",
              "      <td>0</td>\n",
              "      <td>0</td>\n",
              "      <td>0</td>\n",
              "      <td>0</td>\n",
              "      <td>0</td>\n",
              "    </tr>\n",
              "    <tr>\n",
              "      <th>3</th>\n",
              "      <td>http://data.gesis.org/claimskg/claim_review/48...</td>\n",
              "      <td>Says 'as Co-Chair of the Joint Ways &amp; Means Co...</td>\n",
              "      <td>2012-09-28</td>\n",
              "      <td>3</td>\n",
              "      <td>True</td>\n",
              "      <td>Mary Nolan</td>\n",
              "      <td>Did Mary Nolan secure funding for Milwaukie br...</td>\n",
              "      <td>Carolyn Tomei,Dave Hunt,Fetsch,Jeff Merkley,Ka...</td>\n",
              "      <td>Portland-Milwaukie Light Rail project</td>\n",
              "      <td>State Budget,State Finances,Transportation</td>\n",
              "      <td>http://www.politifact.com</td>\n",
              "      <td>http://www.politifact.com/oregon/statements/20...</td>\n",
              "      <td>English</td>\n",
              "      <td>1</td>\n",
              "      <td>0</td>\n",
              "      <td>0</td>\n",
              "      <td>0</td>\n",
              "      <td>0</td>\n",
              "      <td>0</td>\n",
              "    </tr>\n",
              "    <tr>\n",
              "      <th>4</th>\n",
              "      <td>http://data.gesis.org/claimskg/claim_review/80...</td>\n",
              "      <td>Says Gary Farmer’s claim that he 'received an ...</td>\n",
              "      <td>2016-07-08</td>\n",
              "      <td>3</td>\n",
              "      <td>True</td>\n",
              "      <td>Jim Waldman</td>\n",
              "      <td>Florida Senate candidate never actually receiv...</td>\n",
              "      <td>Gary Farmer,Gwyndolen Clarke-Reed,Jim Waldman,...</td>\n",
              "      <td>Gary Farmer</td>\n",
              "      <td>Guns</td>\n",
              "      <td>http://www.politifact.com</td>\n",
              "      <td>http://www.politifact.com/florida/statements/2...</td>\n",
              "      <td>English</td>\n",
              "      <td>1</td>\n",
              "      <td>0</td>\n",
              "      <td>0</td>\n",
              "      <td>0</td>\n",
              "      <td>0</td>\n",
              "      <td>0</td>\n",
              "    </tr>\n",
              "    <tr>\n",
              "      <th>...</th>\n",
              "      <td>...</td>\n",
              "      <td>...</td>\n",
              "      <td>...</td>\n",
              "      <td>...</td>\n",
              "      <td>...</td>\n",
              "      <td>...</td>\n",
              "      <td>...</td>\n",
              "      <td>...</td>\n",
              "      <td>...</td>\n",
              "      <td>...</td>\n",
              "      <td>...</td>\n",
              "      <td>...</td>\n",
              "      <td>...</td>\n",
              "      <td>...</td>\n",
              "      <td>...</td>\n",
              "      <td>...</td>\n",
              "      <td>...</td>\n",
              "      <td>...</td>\n",
              "      <td>...</td>\n",
              "    </tr>\n",
              "    <tr>\n",
              "      <th>4447</th>\n",
              "      <td>http://data.gesis.org/claimskg/claim_review/d7...</td>\n",
              "      <td>A pedestrian was killed by a flying fire hydrant.</td>\n",
              "      <td>Unknown</td>\n",
              "      <td>3</td>\n",
              "      <td>True</td>\n",
              "      <td>Unknown</td>\n",
              "      <td>Fire Hydrant Death</td>\n",
              "      <td>Associated Press,Encinitas, California,Fire Hy...</td>\n",
              "      <td>fire hydrant</td>\n",
              "      <td>ASP Article, freakish fatalities</td>\n",
              "      <td>http://www.snopes.com</td>\n",
              "      <td>https://www.snopes.com/fact-check/fire-plugged/</td>\n",
              "      <td>English</td>\n",
              "      <td>0</td>\n",
              "      <td>1</td>\n",
              "      <td>0</td>\n",
              "      <td>0</td>\n",
              "      <td>0</td>\n",
              "      <td>0</td>\n",
              "    </tr>\n",
              "    <tr>\n",
              "      <th>4448</th>\n",
              "      <td>http://data.gesis.org/claimskg/claim_review/b5...</td>\n",
              "      <td>'The United States is the ONLY industrialized ...</td>\n",
              "      <td>2019-04-30</td>\n",
              "      <td>3</td>\n",
              "      <td>True</td>\n",
              "      <td>Mark Pocan</td>\n",
              "      <td>Universal health care diagnosis is on the mark</td>\n",
              "      <td>Affordable Care Act,Australia,Austria,Belarus,...</td>\n",
              "      <td>NaN</td>\n",
              "      <td>Health Care,Medicaid,Medicare</td>\n",
              "      <td>http://www.politifact.com</td>\n",
              "      <td>http://www.politifact.com/wisconsin/statements...</td>\n",
              "      <td>English</td>\n",
              "      <td>1</td>\n",
              "      <td>0</td>\n",
              "      <td>0</td>\n",
              "      <td>0</td>\n",
              "      <td>0</td>\n",
              "      <td>0</td>\n",
              "    </tr>\n",
              "    <tr>\n",
              "      <th>4449</th>\n",
              "      <td>http://data.gesis.org/claimskg/claim_review/05...</td>\n",
              "      <td>A 17-year-old Nigerian girl was publicly flogg...</td>\n",
              "      <td>Unknown</td>\n",
              "      <td>3</td>\n",
              "      <td>True</td>\n",
              "      <td>Unknown</td>\n",
              "      <td>Bariya Ibrahim Magazu Petition</td>\n",
              "      <td>Abuja,Associated Press,Barbara “faith,Dallas M...</td>\n",
              "      <td>premarital sex</td>\n",
              "      <td>ASP Article, Petitions</td>\n",
              "      <td>http://www.snopes.com</td>\n",
              "      <td>https://www.snopes.com/fact-check/the-cane-mut...</td>\n",
              "      <td>English</td>\n",
              "      <td>0</td>\n",
              "      <td>1</td>\n",
              "      <td>0</td>\n",
              "      <td>0</td>\n",
              "      <td>0</td>\n",
              "      <td>0</td>\n",
              "    </tr>\n",
              "    <tr>\n",
              "      <th>4450</th>\n",
              "      <td>http://data.gesis.org/claimskg/claim_review/7d...</td>\n",
              "      <td>'We haven’t had control of the House for the l...</td>\n",
              "      <td>2010-10-18</td>\n",
              "      <td>3</td>\n",
              "      <td>True</td>\n",
              "      <td>William G. Batchelder</td>\n",
              "      <td>Republican state Rep. Bill Batchelder knocks D...</td>\n",
              "      <td>Armond Budish,Democrat,PolitiFact,Republican</td>\n",
              "      <td>NaN</td>\n",
              "      <td>Government Efficiency</td>\n",
              "      <td>http://www.politifact.com</td>\n",
              "      <td>http://www.politifact.com/ohio/statements/2010...</td>\n",
              "      <td>English</td>\n",
              "      <td>1</td>\n",
              "      <td>0</td>\n",
              "      <td>0</td>\n",
              "      <td>0</td>\n",
              "      <td>0</td>\n",
              "      <td>0</td>\n",
              "    </tr>\n",
              "    <tr>\n",
              "      <th>4451</th>\n",
              "      <td>http://data.gesis.org/claimskg/claim_review/57...</td>\n",
              "      <td>Saudi Arabia is 'the only Muslim country out o...</td>\n",
              "      <td>2014-10-06</td>\n",
              "      <td>3</td>\n",
              "      <td>True</td>\n",
              "      <td>Dean Obeidallah</td>\n",
              "      <td>Obeidallah: Saudi Arabia is the only Muslim na...</td>\n",
              "      <td>Bill Maher,Dean Obeidallah,Ed Show,Georgetown ...</td>\n",
              "      <td>Saudi Arabia</td>\n",
              "      <td>Islam</td>\n",
              "      <td>http://www.politifact.com</td>\n",
              "      <td>http://www.politifact.com/punditfact/statement...</td>\n",
              "      <td>English</td>\n",
              "      <td>1</td>\n",
              "      <td>0</td>\n",
              "      <td>0</td>\n",
              "      <td>0</td>\n",
              "      <td>0</td>\n",
              "      <td>0</td>\n",
              "    </tr>\n",
              "  </tbody>\n",
              "</table>\n",
              "<p>4452 rows × 19 columns</p>\n",
              "</div>\n",
              "      <button class=\"colab-df-convert\" onclick=\"convertToInteractive('df-6d3f0ba9-6897-45b7-94bc-b52920b2433a')\"\n",
              "              title=\"Convert this dataframe to an interactive table.\"\n",
              "              style=\"display:none;\">\n",
              "        \n",
              "  <svg xmlns=\"http://www.w3.org/2000/svg\" height=\"24px\"viewBox=\"0 0 24 24\"\n",
              "       width=\"24px\">\n",
              "    <path d=\"M0 0h24v24H0V0z\" fill=\"none\"/>\n",
              "    <path d=\"M18.56 5.44l.94 2.06.94-2.06 2.06-.94-2.06-.94-.94-2.06-.94 2.06-2.06.94zm-11 1L8.5 8.5l.94-2.06 2.06-.94-2.06-.94L8.5 2.5l-.94 2.06-2.06.94zm10 10l.94 2.06.94-2.06 2.06-.94-2.06-.94-.94-2.06-.94 2.06-2.06.94z\"/><path d=\"M17.41 7.96l-1.37-1.37c-.4-.4-.92-.59-1.43-.59-.52 0-1.04.2-1.43.59L10.3 9.45l-7.72 7.72c-.78.78-.78 2.05 0 2.83L4 21.41c.39.39.9.59 1.41.59.51 0 1.02-.2 1.41-.59l7.78-7.78 2.81-2.81c.8-.78.8-2.07 0-2.86zM5.41 20L4 18.59l7.72-7.72 1.47 1.35L5.41 20z\"/>\n",
              "  </svg>\n",
              "      </button>\n",
              "      \n",
              "  <style>\n",
              "    .colab-df-container {\n",
              "      display:flex;\n",
              "      flex-wrap:wrap;\n",
              "      gap: 12px;\n",
              "    }\n",
              "\n",
              "    .colab-df-convert {\n",
              "      background-color: #E8F0FE;\n",
              "      border: none;\n",
              "      border-radius: 50%;\n",
              "      cursor: pointer;\n",
              "      display: none;\n",
              "      fill: #1967D2;\n",
              "      height: 32px;\n",
              "      padding: 0 0 0 0;\n",
              "      width: 32px;\n",
              "    }\n",
              "\n",
              "    .colab-df-convert:hover {\n",
              "      background-color: #E2EBFA;\n",
              "      box-shadow: 0px 1px 2px rgba(60, 64, 67, 0.3), 0px 1px 3px 1px rgba(60, 64, 67, 0.15);\n",
              "      fill: #174EA6;\n",
              "    }\n",
              "\n",
              "    [theme=dark] .colab-df-convert {\n",
              "      background-color: #3B4455;\n",
              "      fill: #D2E3FC;\n",
              "    }\n",
              "\n",
              "    [theme=dark] .colab-df-convert:hover {\n",
              "      background-color: #434B5C;\n",
              "      box-shadow: 0px 1px 3px 1px rgba(0, 0, 0, 0.15);\n",
              "      filter: drop-shadow(0px 1px 2px rgba(0, 0, 0, 0.3));\n",
              "      fill: #FFFFFF;\n",
              "    }\n",
              "  </style>\n",
              "\n",
              "      <script>\n",
              "        const buttonEl =\n",
              "          document.querySelector('#df-6d3f0ba9-6897-45b7-94bc-b52920b2433a button.colab-df-convert');\n",
              "        buttonEl.style.display =\n",
              "          google.colab.kernel.accessAllowed ? 'block' : 'none';\n",
              "\n",
              "        async function convertToInteractive(key) {\n",
              "          const element = document.querySelector('#df-6d3f0ba9-6897-45b7-94bc-b52920b2433a');\n",
              "          const dataTable =\n",
              "            await google.colab.kernel.invokeFunction('convertToInteractive',\n",
              "                                                     [key], {});\n",
              "          if (!dataTable) return;\n",
              "\n",
              "          const docLinkHtml = 'Like what you see? Visit the ' +\n",
              "            '<a target=\"_blank\" href=https://colab.research.google.com/notebooks/data_table.ipynb>data table notebook</a>'\n",
              "            + ' to learn more about interactive tables.';\n",
              "          element.innerHTML = '';\n",
              "          dataTable['output_type'] = 'display_data';\n",
              "          await google.colab.output.renderOutput(dataTable, element);\n",
              "          const docLink = document.createElement('div');\n",
              "          docLink.innerHTML = docLinkHtml;\n",
              "          element.appendChild(docLink);\n",
              "        }\n",
              "      </script>\n",
              "    </div>\n",
              "  </div>\n",
              "  "
            ],
            "text/plain": [
              "                                                     id  ... checkyourfact\n",
              "0     http://data.gesis.org/claimskg/claim_review/36...  ...             0\n",
              "1     http://data.gesis.org/claimskg/claim_review/e6...  ...             0\n",
              "2     http://data.gesis.org/claimskg/claim_review/e0...  ...             0\n",
              "3     http://data.gesis.org/claimskg/claim_review/48...  ...             0\n",
              "4     http://data.gesis.org/claimskg/claim_review/80...  ...             0\n",
              "...                                                 ...  ...           ...\n",
              "4447  http://data.gesis.org/claimskg/claim_review/d7...  ...             0\n",
              "4448  http://data.gesis.org/claimskg/claim_review/b5...  ...             0\n",
              "4449  http://data.gesis.org/claimskg/claim_review/05...  ...             0\n",
              "4450  http://data.gesis.org/claimskg/claim_review/7d...  ...             0\n",
              "4451  http://data.gesis.org/claimskg/claim_review/57...  ...             0\n",
              "\n",
              "[4452 rows x 19 columns]"
            ]
          },
          "metadata": {},
          "execution_count": 66
        }
      ]
    },
    {
      "cell_type": "code",
      "source": [
        "#Because languages of all claims are English, so we can neglect the column 'language'\n",
        "print(\"Languges of the true, false and mixture claims: \", claimskg.language.unique())"
      ],
      "metadata": {
        "colab": {
          "base_uri": "https://localhost:8080/"
        },
        "id": "TzO1AB9c7Lgf",
        "outputId": "2f97fe45-cc62-4e29-cd14-1c841ede5f6f"
      },
      "execution_count": 69,
      "outputs": [
        {
          "output_type": "stream",
          "name": "stdout",
          "text": [
            "Languges of the true, false and mixture claims:  ['English']\n"
          ]
        }
      ]
    },
    {
      "cell_type": "code",
      "execution_count": null,
      "metadata": {
        "colab": {
          "base_uri": "https://localhost:8080/",
          "height": 424
        },
        "id": "_ifAAkm7KrpY",
        "outputId": "201a3cbf-335c-45c3-b2a5-0e7248377be2"
      },
      "outputs": [
        {
          "name": "stdout",
          "output_type": "stream",
          "text": [
            "event types: ['offer completed' 'offer received' 'offer viewed' 'transaction']\n",
            "offers ids: ['9b98b8c7a33c4b65b9aebfe6a799e6d9' '0b1e1539f2cc45b7b9fa7c272da2e1d7'\n",
            " '2906b810c7d4411798c6938adc9daaa5' 'fafdcd668e3743c1bb461111dcafc2a4'\n",
            " '4d5c57ea9a6940dd891ad53e9dbe8da0' 'f19421c1d4aa40978ebb69ca19b0e20d'\n",
            " '2298d6c36e964ae4a3e7e9706d1fb8c2' '3f207df678b143eea3cee63160fa8bed'\n",
            " 'ae264e3637204a6fb9bb56bc8210ddfd' '5a8bc65990b245e5a138643cd4eb9837' nan]\n"
          ]
        }
      ],
      "source": [
        "#transcript_value contains each of keys of value column in a separate column \n",
        "claims_true = pd.json_normalize(claims_true['source'])\n",
        "\n",
        "#Merging 'offer id' and 'offer_id' columns to 'offers' column, because by type of event we can see that an offer received, viewed or completed \n",
        "transcript_value['offers'] = transcript_value['offer id'].fillna(transcript_value['offer_id'])\n",
        "\n",
        "#Deleting 'offer id' and 'offer_id' columns\n",
        "transcript_value = transcript_value.drop(['offer_id', 'offer id'], axis = 1)\n",
        "\n",
        "#deleting the value column from transcript \n",
        "transcript = transcript.drop(['value'], axis = 1)\n",
        "\n",
        "#concatenating the separated columns of value in the transcript_value to the transcript\n",
        "transcript = pd.concat([transcript, transcript_value], axis=1)\n",
        "\n",
        "#observing categorical data in event and offers columns\n",
        "print(\"event types:\", np.unique(transcript['event']))\n",
        "print(\"offers ids:\", transcript['offers'].unique())\n",
        "\n",
        "#One-hot encoding of the events column and deleting the event itself\n",
        "for chan in ['offer_completed', 'offer_received', 'offer_viewed', 'transaction']:\n",
        "    transcript[chan] = transcript.event.apply(lambda x: 1 if x==chan.replace('_',' ') else 0)\n",
        "transcript.pop('event')\n",
        "\n",
        "#Filling the NaN in transcript table\n",
        "transcript['amount'] = transcript['amount'].fillna(0)\n",
        "transcript['reward'] = transcript['reward'].fillna(0)"
      ]
    },
    {
      "cell_type": "code",
      "execution_count": null,
      "metadata": {
        "colab": {
          "base_uri": "https://localhost:8080/"
        },
        "id": "mp0-c3CHdfXn",
        "outputId": "9291deee-2b4f-436d-f950-fb826e4654bc"
      },
      "outputs": [
        {
          "name": "stdout",
          "output_type": "stream",
          "text": [
            "<class 'pandas.core.frame.DataFrame'>\n",
            "RangeIndex: 306534 entries, 0 to 306533\n",
            "Data columns (total 9 columns):\n",
            " #   Column           Non-Null Count   Dtype  \n",
            "---  ------           --------------   -----  \n",
            " 0   person           306534 non-null  object \n",
            " 1   time             306534 non-null  int64  \n",
            " 2   amount           306534 non-null  float64\n",
            " 3   reward           306534 non-null  float64\n",
            " 4   offers           167581 non-null  object \n",
            " 5   offer_completed  306534 non-null  int64  \n",
            " 6   offer_received   306534 non-null  int64  \n",
            " 7   offer_viewed     306534 non-null  int64  \n",
            " 8   transaction      306534 non-null  int64  \n",
            "dtypes: float64(2), int64(5), object(2)\n",
            "memory usage: 21.0+ MB\n"
          ]
        }
      ],
      "source": [
        "#Watching the infographic of its whole data\n",
        "transcript.info()"
      ]
    },
    {
      "cell_type": "code",
      "execution_count": null,
      "metadata": {
        "id": "XgUCp1wJoVD2",
        "outputId": "b091faaf-6aa6-43ea-ce84-a4df2cde457f"
      },
      "outputs": [
        {
          "data": {
            "text/html": [
              "<div>\n",
              "<style scoped>\n",
              "    .dataframe tbody tr th:only-of-type {\n",
              "        vertical-align: middle;\n",
              "    }\n",
              "\n",
              "    .dataframe tbody tr th {\n",
              "        vertical-align: top;\n",
              "    }\n",
              "\n",
              "    .dataframe thead th {\n",
              "        text-align: right;\n",
              "    }\n",
              "</style>\n",
              "<table border=\"1\" class=\"dataframe\">\n",
              "  <thead>\n",
              "    <tr style=\"text-align: right;\">\n",
              "      <th></th>\n",
              "      <th>person</th>\n",
              "      <th>time</th>\n",
              "      <th>amount</th>\n",
              "      <th>reward</th>\n",
              "      <th>offers</th>\n",
              "      <th>offer_completed</th>\n",
              "      <th>offer_received</th>\n",
              "      <th>offer_viewed</th>\n",
              "      <th>transaction</th>\n",
              "    </tr>\n",
              "  </thead>\n",
              "  <tbody>\n",
              "    <tr>\n",
              "      <th>0</th>\n",
              "      <td>78afa995795e4d85b5d9ceeca43f5fef</td>\n",
              "      <td>0</td>\n",
              "      <td>0.00</td>\n",
              "      <td>0.0</td>\n",
              "      <td>9b98b8c7a33c4b65b9aebfe6a799e6d9</td>\n",
              "      <td>0</td>\n",
              "      <td>1</td>\n",
              "      <td>0</td>\n",
              "      <td>0</td>\n",
              "    </tr>\n",
              "    <tr>\n",
              "      <th>1</th>\n",
              "      <td>a03223e636434f42ac4c3df47e8bac43</td>\n",
              "      <td>0</td>\n",
              "      <td>0.00</td>\n",
              "      <td>0.0</td>\n",
              "      <td>0b1e1539f2cc45b7b9fa7c272da2e1d7</td>\n",
              "      <td>0</td>\n",
              "      <td>1</td>\n",
              "      <td>0</td>\n",
              "      <td>0</td>\n",
              "    </tr>\n",
              "    <tr>\n",
              "      <th>2</th>\n",
              "      <td>e2127556f4f64592b11af22de27a7932</td>\n",
              "      <td>0</td>\n",
              "      <td>0.00</td>\n",
              "      <td>0.0</td>\n",
              "      <td>2906b810c7d4411798c6938adc9daaa5</td>\n",
              "      <td>0</td>\n",
              "      <td>1</td>\n",
              "      <td>0</td>\n",
              "      <td>0</td>\n",
              "    </tr>\n",
              "    <tr>\n",
              "      <th>3</th>\n",
              "      <td>8ec6ce2a7e7949b1bf142def7d0e0586</td>\n",
              "      <td>0</td>\n",
              "      <td>0.00</td>\n",
              "      <td>0.0</td>\n",
              "      <td>fafdcd668e3743c1bb461111dcafc2a4</td>\n",
              "      <td>0</td>\n",
              "      <td>1</td>\n",
              "      <td>0</td>\n",
              "      <td>0</td>\n",
              "    </tr>\n",
              "    <tr>\n",
              "      <th>4</th>\n",
              "      <td>68617ca6246f4fbc85e91a2a49552598</td>\n",
              "      <td>0</td>\n",
              "      <td>0.00</td>\n",
              "      <td>0.0</td>\n",
              "      <td>4d5c57ea9a6940dd891ad53e9dbe8da0</td>\n",
              "      <td>0</td>\n",
              "      <td>1</td>\n",
              "      <td>0</td>\n",
              "      <td>0</td>\n",
              "    </tr>\n",
              "    <tr>\n",
              "      <th>...</th>\n",
              "      <td>...</td>\n",
              "      <td>...</td>\n",
              "      <td>...</td>\n",
              "      <td>...</td>\n",
              "      <td>...</td>\n",
              "      <td>...</td>\n",
              "      <td>...</td>\n",
              "      <td>...</td>\n",
              "      <td>...</td>\n",
              "    </tr>\n",
              "    <tr>\n",
              "      <th>306529</th>\n",
              "      <td>b3a1272bc9904337b331bf348c3e8c17</td>\n",
              "      <td>714</td>\n",
              "      <td>1.59</td>\n",
              "      <td>0.0</td>\n",
              "      <td>NaN</td>\n",
              "      <td>0</td>\n",
              "      <td>0</td>\n",
              "      <td>0</td>\n",
              "      <td>1</td>\n",
              "    </tr>\n",
              "    <tr>\n",
              "      <th>306530</th>\n",
              "      <td>68213b08d99a4ae1b0dcb72aebd9aa35</td>\n",
              "      <td>714</td>\n",
              "      <td>9.53</td>\n",
              "      <td>0.0</td>\n",
              "      <td>NaN</td>\n",
              "      <td>0</td>\n",
              "      <td>0</td>\n",
              "      <td>0</td>\n",
              "      <td>1</td>\n",
              "    </tr>\n",
              "    <tr>\n",
              "      <th>306531</th>\n",
              "      <td>a00058cf10334a308c68e7631c529907</td>\n",
              "      <td>714</td>\n",
              "      <td>3.61</td>\n",
              "      <td>0.0</td>\n",
              "      <td>NaN</td>\n",
              "      <td>0</td>\n",
              "      <td>0</td>\n",
              "      <td>0</td>\n",
              "      <td>1</td>\n",
              "    </tr>\n",
              "    <tr>\n",
              "      <th>306532</th>\n",
              "      <td>76ddbd6576844afe811f1a3c0fbb5bec</td>\n",
              "      <td>714</td>\n",
              "      <td>3.53</td>\n",
              "      <td>0.0</td>\n",
              "      <td>NaN</td>\n",
              "      <td>0</td>\n",
              "      <td>0</td>\n",
              "      <td>0</td>\n",
              "      <td>1</td>\n",
              "    </tr>\n",
              "    <tr>\n",
              "      <th>306533</th>\n",
              "      <td>c02b10e8752c4d8e9b73f918558531f7</td>\n",
              "      <td>714</td>\n",
              "      <td>4.05</td>\n",
              "      <td>0.0</td>\n",
              "      <td>NaN</td>\n",
              "      <td>0</td>\n",
              "      <td>0</td>\n",
              "      <td>0</td>\n",
              "      <td>1</td>\n",
              "    </tr>\n",
              "  </tbody>\n",
              "</table>\n",
              "<p>306534 rows × 9 columns</p>\n",
              "</div>"
            ],
            "text/plain": [
              "                                  person  time  amount  reward  \\\n",
              "0       78afa995795e4d85b5d9ceeca43f5fef     0    0.00     0.0   \n",
              "1       a03223e636434f42ac4c3df47e8bac43     0    0.00     0.0   \n",
              "2       e2127556f4f64592b11af22de27a7932     0    0.00     0.0   \n",
              "3       8ec6ce2a7e7949b1bf142def7d0e0586     0    0.00     0.0   \n",
              "4       68617ca6246f4fbc85e91a2a49552598     0    0.00     0.0   \n",
              "...                                  ...   ...     ...     ...   \n",
              "306529  b3a1272bc9904337b331bf348c3e8c17   714    1.59     0.0   \n",
              "306530  68213b08d99a4ae1b0dcb72aebd9aa35   714    9.53     0.0   \n",
              "306531  a00058cf10334a308c68e7631c529907   714    3.61     0.0   \n",
              "306532  76ddbd6576844afe811f1a3c0fbb5bec   714    3.53     0.0   \n",
              "306533  c02b10e8752c4d8e9b73f918558531f7   714    4.05     0.0   \n",
              "\n",
              "                                  offers  offer_completed  offer_received  \\\n",
              "0       9b98b8c7a33c4b65b9aebfe6a799e6d9                0               1   \n",
              "1       0b1e1539f2cc45b7b9fa7c272da2e1d7                0               1   \n",
              "2       2906b810c7d4411798c6938adc9daaa5                0               1   \n",
              "3       fafdcd668e3743c1bb461111dcafc2a4                0               1   \n",
              "4       4d5c57ea9a6940dd891ad53e9dbe8da0                0               1   \n",
              "...                                  ...              ...             ...   \n",
              "306529                               NaN                0               0   \n",
              "306530                               NaN                0               0   \n",
              "306531                               NaN                0               0   \n",
              "306532                               NaN                0               0   \n",
              "306533                               NaN                0               0   \n",
              "\n",
              "        offer_viewed  transaction  \n",
              "0                  0            0  \n",
              "1                  0            0  \n",
              "2                  0            0  \n",
              "3                  0            0  \n",
              "4                  0            0  \n",
              "...              ...          ...  \n",
              "306529             0            1  \n",
              "306530             0            1  \n",
              "306531             0            1  \n",
              "306532             0            1  \n",
              "306533             0            1  \n",
              "\n",
              "[306534 rows x 9 columns]"
            ]
          },
          "execution_count": 73,
          "metadata": {},
          "output_type": "execute_result"
        }
      ],
      "source": [
        "#View the edited transcript table\n",
        "transcript"
      ]
    },
    {
      "cell_type": "code",
      "execution_count": null,
      "metadata": {
        "id": "jTnTnUEVr1TI"
      },
      "outputs": [],
      "source": [
        "#Saving transcript as a csv file\n",
        "transcript.to_csv(\"transcript_edited.csv\",index=False)"
      ]
    },
    {
      "cell_type": "markdown",
      "metadata": {
        "id": "weGZap0loVD3"
      },
      "source": [
        "## portfolio table"
      ]
    },
    {
      "cell_type": "code",
      "execution_count": null,
      "metadata": {
        "colab": {
          "base_uri": "https://localhost:8080/",
          "height": 363
        },
        "id": "dvdzpLlu6-cV",
        "outputId": "d9cd108c-d032-4d8b-f4a5-4db6f1e8dacd"
      },
      "outputs": [
        {
          "data": {
            "text/html": [
              "<div>\n",
              "<style scoped>\n",
              "    .dataframe tbody tr th:only-of-type {\n",
              "        vertical-align: middle;\n",
              "    }\n",
              "\n",
              "    .dataframe tbody tr th {\n",
              "        vertical-align: top;\n",
              "    }\n",
              "\n",
              "    .dataframe thead th {\n",
              "        text-align: right;\n",
              "    }\n",
              "</style>\n",
              "<table border=\"1\" class=\"dataframe\">\n",
              "  <thead>\n",
              "    <tr style=\"text-align: right;\">\n",
              "      <th></th>\n",
              "      <th>reward</th>\n",
              "      <th>channels</th>\n",
              "      <th>difficulty</th>\n",
              "      <th>duration</th>\n",
              "      <th>offer_type</th>\n",
              "      <th>id</th>\n",
              "    </tr>\n",
              "  </thead>\n",
              "  <tbody>\n",
              "    <tr>\n",
              "      <th>0</th>\n",
              "      <td>10</td>\n",
              "      <td>[email, mobile, social]</td>\n",
              "      <td>10</td>\n",
              "      <td>7</td>\n",
              "      <td>bogo</td>\n",
              "      <td>ae264e3637204a6fb9bb56bc8210ddfd</td>\n",
              "    </tr>\n",
              "    <tr>\n",
              "      <th>1</th>\n",
              "      <td>10</td>\n",
              "      <td>[web, email, mobile, social]</td>\n",
              "      <td>10</td>\n",
              "      <td>5</td>\n",
              "      <td>bogo</td>\n",
              "      <td>4d5c57ea9a6940dd891ad53e9dbe8da0</td>\n",
              "    </tr>\n",
              "    <tr>\n",
              "      <th>2</th>\n",
              "      <td>0</td>\n",
              "      <td>[web, email, mobile]</td>\n",
              "      <td>0</td>\n",
              "      <td>4</td>\n",
              "      <td>informational</td>\n",
              "      <td>3f207df678b143eea3cee63160fa8bed</td>\n",
              "    </tr>\n",
              "    <tr>\n",
              "      <th>3</th>\n",
              "      <td>5</td>\n",
              "      <td>[web, email, mobile]</td>\n",
              "      <td>5</td>\n",
              "      <td>7</td>\n",
              "      <td>bogo</td>\n",
              "      <td>9b98b8c7a33c4b65b9aebfe6a799e6d9</td>\n",
              "    </tr>\n",
              "    <tr>\n",
              "      <th>4</th>\n",
              "      <td>5</td>\n",
              "      <td>[web, email]</td>\n",
              "      <td>20</td>\n",
              "      <td>10</td>\n",
              "      <td>discount</td>\n",
              "      <td>0b1e1539f2cc45b7b9fa7c272da2e1d7</td>\n",
              "    </tr>\n",
              "    <tr>\n",
              "      <th>5</th>\n",
              "      <td>3</td>\n",
              "      <td>[web, email, mobile, social]</td>\n",
              "      <td>7</td>\n",
              "      <td>7</td>\n",
              "      <td>discount</td>\n",
              "      <td>2298d6c36e964ae4a3e7e9706d1fb8c2</td>\n",
              "    </tr>\n",
              "    <tr>\n",
              "      <th>6</th>\n",
              "      <td>2</td>\n",
              "      <td>[web, email, mobile, social]</td>\n",
              "      <td>10</td>\n",
              "      <td>10</td>\n",
              "      <td>discount</td>\n",
              "      <td>fafdcd668e3743c1bb461111dcafc2a4</td>\n",
              "    </tr>\n",
              "    <tr>\n",
              "      <th>7</th>\n",
              "      <td>0</td>\n",
              "      <td>[email, mobile, social]</td>\n",
              "      <td>0</td>\n",
              "      <td>3</td>\n",
              "      <td>informational</td>\n",
              "      <td>5a8bc65990b245e5a138643cd4eb9837</td>\n",
              "    </tr>\n",
              "    <tr>\n",
              "      <th>8</th>\n",
              "      <td>5</td>\n",
              "      <td>[web, email, mobile, social]</td>\n",
              "      <td>5</td>\n",
              "      <td>5</td>\n",
              "      <td>bogo</td>\n",
              "      <td>f19421c1d4aa40978ebb69ca19b0e20d</td>\n",
              "    </tr>\n",
              "    <tr>\n",
              "      <th>9</th>\n",
              "      <td>2</td>\n",
              "      <td>[web, email, mobile]</td>\n",
              "      <td>10</td>\n",
              "      <td>7</td>\n",
              "      <td>discount</td>\n",
              "      <td>2906b810c7d4411798c6938adc9daaa5</td>\n",
              "    </tr>\n",
              "  </tbody>\n",
              "</table>\n",
              "</div>"
            ],
            "text/plain": [
              "   reward                      channels  difficulty  duration     offer_type  \\\n",
              "0      10       [email, mobile, social]          10         7           bogo   \n",
              "1      10  [web, email, mobile, social]          10         5           bogo   \n",
              "2       0          [web, email, mobile]           0         4  informational   \n",
              "3       5          [web, email, mobile]           5         7           bogo   \n",
              "4       5                  [web, email]          20        10       discount   \n",
              "5       3  [web, email, mobile, social]           7         7       discount   \n",
              "6       2  [web, email, mobile, social]          10        10       discount   \n",
              "7       0       [email, mobile, social]           0         3  informational   \n",
              "8       5  [web, email, mobile, social]           5         5           bogo   \n",
              "9       2          [web, email, mobile]          10         7       discount   \n",
              "\n",
              "                                 id  \n",
              "0  ae264e3637204a6fb9bb56bc8210ddfd  \n",
              "1  4d5c57ea9a6940dd891ad53e9dbe8da0  \n",
              "2  3f207df678b143eea3cee63160fa8bed  \n",
              "3  9b98b8c7a33c4b65b9aebfe6a799e6d9  \n",
              "4  0b1e1539f2cc45b7b9fa7c272da2e1d7  \n",
              "5  2298d6c36e964ae4a3e7e9706d1fb8c2  \n",
              "6  fafdcd668e3743c1bb461111dcafc2a4  \n",
              "7  5a8bc65990b245e5a138643cd4eb9837  \n",
              "8  f19421c1d4aa40978ebb69ca19b0e20d  \n",
              "9  2906b810c7d4411798c6938adc9daaa5  "
            ]
          },
          "execution_count": 75,
          "metadata": {},
          "output_type": "execute_result"
        }
      ],
      "source": [
        "#View the raw table of portfolio\n",
        "portfolio"
      ]
    },
    {
      "cell_type": "code",
      "execution_count": null,
      "metadata": {
        "id": "17JCM138xuix"
      },
      "outputs": [],
      "source": [
        "#One-hot encoding of the channels column and deleting the channels column itself\n",
        "for chan in ['web', 'email', 'mobile', 'social']:\n",
        "    portfolio[chan] = portfolio.channels.apply(lambda x: 1 if chan in x else 0)\n",
        "portfolio.pop('channels')\n",
        "\n",
        "#One-hot encoding of the offer_type column and deleting the offer_type column itself\n",
        "for chan in ['bogo', 'discount', 'informational']:\n",
        "    portfolio[chan] = portfolio.offer_type.apply(lambda x: 1 if x==chan else 0)\n",
        "portfolio.pop('offer_type')\n",
        "\n",
        "#Renaming columns to avoid in common names with the profile table\n",
        "portfolio = portfolio.rename(columns={'reward': 'offer_reward', 'duration': 'offer_duration',\n",
        "                                      'difficulty': 'offer_difficulty'})\n"
      ]
    },
    {
      "cell_type": "code",
      "execution_count": null,
      "metadata": {
        "id": "IH9X9EDcIGOz",
        "outputId": "439cce9b-bc80-45ca-e134-7bb2487e5a76"
      },
      "outputs": [
        {
          "name": "stdout",
          "output_type": "stream",
          "text": [
            "<class 'pandas.core.frame.DataFrame'>\n",
            "RangeIndex: 10 entries, 0 to 9\n",
            "Data columns (total 11 columns):\n",
            " #   Column            Non-Null Count  Dtype \n",
            "---  ------            --------------  ----- \n",
            " 0   offer_reward      10 non-null     int64 \n",
            " 1   offer_difficulty  10 non-null     int64 \n",
            " 2   offer_duration    10 non-null     int64 \n",
            " 3   id                10 non-null     object\n",
            " 4   web               10 non-null     int64 \n",
            " 5   email             10 non-null     int64 \n",
            " 6   mobile            10 non-null     int64 \n",
            " 7   social            10 non-null     int64 \n",
            " 8   bogo              10 non-null     int64 \n",
            " 9   discount          10 non-null     int64 \n",
            " 10  informational     10 non-null     int64 \n",
            "dtypes: int64(10), object(1)\n",
            "memory usage: 1008.0+ bytes\n"
          ]
        }
      ],
      "source": [
        "#View the infographic of the portfolio table\n",
        "portfolio.info()"
      ]
    },
    {
      "cell_type": "code",
      "execution_count": null,
      "metadata": {
        "colab": {
          "base_uri": "https://localhost:8080/"
        },
        "id": "81TAl6kIgROm",
        "outputId": "d9d729a2-7c65-488c-b65e-93f0000ec43f"
      },
      "outputs": [
        {
          "data": {
            "text/html": [
              "<div>\n",
              "<style scoped>\n",
              "    .dataframe tbody tr th:only-of-type {\n",
              "        vertical-align: middle;\n",
              "    }\n",
              "\n",
              "    .dataframe tbody tr th {\n",
              "        vertical-align: top;\n",
              "    }\n",
              "\n",
              "    .dataframe thead th {\n",
              "        text-align: right;\n",
              "    }\n",
              "</style>\n",
              "<table border=\"1\" class=\"dataframe\">\n",
              "  <thead>\n",
              "    <tr style=\"text-align: right;\">\n",
              "      <th></th>\n",
              "      <th>offer_reward</th>\n",
              "      <th>offer_difficulty</th>\n",
              "      <th>offer_duration</th>\n",
              "      <th>id</th>\n",
              "      <th>web</th>\n",
              "      <th>email</th>\n",
              "      <th>mobile</th>\n",
              "      <th>social</th>\n",
              "      <th>bogo</th>\n",
              "      <th>discount</th>\n",
              "      <th>informational</th>\n",
              "    </tr>\n",
              "  </thead>\n",
              "  <tbody>\n",
              "    <tr>\n",
              "      <th>0</th>\n",
              "      <td>10</td>\n",
              "      <td>10</td>\n",
              "      <td>7</td>\n",
              "      <td>ae264e3637204a6fb9bb56bc8210ddfd</td>\n",
              "      <td>0</td>\n",
              "      <td>1</td>\n",
              "      <td>1</td>\n",
              "      <td>1</td>\n",
              "      <td>1</td>\n",
              "      <td>0</td>\n",
              "      <td>0</td>\n",
              "    </tr>\n",
              "    <tr>\n",
              "      <th>1</th>\n",
              "      <td>10</td>\n",
              "      <td>10</td>\n",
              "      <td>5</td>\n",
              "      <td>4d5c57ea9a6940dd891ad53e9dbe8da0</td>\n",
              "      <td>1</td>\n",
              "      <td>1</td>\n",
              "      <td>1</td>\n",
              "      <td>1</td>\n",
              "      <td>1</td>\n",
              "      <td>0</td>\n",
              "      <td>0</td>\n",
              "    </tr>\n",
              "    <tr>\n",
              "      <th>2</th>\n",
              "      <td>0</td>\n",
              "      <td>0</td>\n",
              "      <td>4</td>\n",
              "      <td>3f207df678b143eea3cee63160fa8bed</td>\n",
              "      <td>1</td>\n",
              "      <td>1</td>\n",
              "      <td>1</td>\n",
              "      <td>0</td>\n",
              "      <td>0</td>\n",
              "      <td>0</td>\n",
              "      <td>1</td>\n",
              "    </tr>\n",
              "    <tr>\n",
              "      <th>3</th>\n",
              "      <td>5</td>\n",
              "      <td>5</td>\n",
              "      <td>7</td>\n",
              "      <td>9b98b8c7a33c4b65b9aebfe6a799e6d9</td>\n",
              "      <td>1</td>\n",
              "      <td>1</td>\n",
              "      <td>1</td>\n",
              "      <td>0</td>\n",
              "      <td>1</td>\n",
              "      <td>0</td>\n",
              "      <td>0</td>\n",
              "    </tr>\n",
              "    <tr>\n",
              "      <th>4</th>\n",
              "      <td>5</td>\n",
              "      <td>20</td>\n",
              "      <td>10</td>\n",
              "      <td>0b1e1539f2cc45b7b9fa7c272da2e1d7</td>\n",
              "      <td>1</td>\n",
              "      <td>1</td>\n",
              "      <td>0</td>\n",
              "      <td>0</td>\n",
              "      <td>0</td>\n",
              "      <td>1</td>\n",
              "      <td>0</td>\n",
              "    </tr>\n",
              "    <tr>\n",
              "      <th>5</th>\n",
              "      <td>3</td>\n",
              "      <td>7</td>\n",
              "      <td>7</td>\n",
              "      <td>2298d6c36e964ae4a3e7e9706d1fb8c2</td>\n",
              "      <td>1</td>\n",
              "      <td>1</td>\n",
              "      <td>1</td>\n",
              "      <td>1</td>\n",
              "      <td>0</td>\n",
              "      <td>1</td>\n",
              "      <td>0</td>\n",
              "    </tr>\n",
              "    <tr>\n",
              "      <th>6</th>\n",
              "      <td>2</td>\n",
              "      <td>10</td>\n",
              "      <td>10</td>\n",
              "      <td>fafdcd668e3743c1bb461111dcafc2a4</td>\n",
              "      <td>1</td>\n",
              "      <td>1</td>\n",
              "      <td>1</td>\n",
              "      <td>1</td>\n",
              "      <td>0</td>\n",
              "      <td>1</td>\n",
              "      <td>0</td>\n",
              "    </tr>\n",
              "    <tr>\n",
              "      <th>7</th>\n",
              "      <td>0</td>\n",
              "      <td>0</td>\n",
              "      <td>3</td>\n",
              "      <td>5a8bc65990b245e5a138643cd4eb9837</td>\n",
              "      <td>0</td>\n",
              "      <td>1</td>\n",
              "      <td>1</td>\n",
              "      <td>1</td>\n",
              "      <td>0</td>\n",
              "      <td>0</td>\n",
              "      <td>1</td>\n",
              "    </tr>\n",
              "    <tr>\n",
              "      <th>8</th>\n",
              "      <td>5</td>\n",
              "      <td>5</td>\n",
              "      <td>5</td>\n",
              "      <td>f19421c1d4aa40978ebb69ca19b0e20d</td>\n",
              "      <td>1</td>\n",
              "      <td>1</td>\n",
              "      <td>1</td>\n",
              "      <td>1</td>\n",
              "      <td>1</td>\n",
              "      <td>0</td>\n",
              "      <td>0</td>\n",
              "    </tr>\n",
              "    <tr>\n",
              "      <th>9</th>\n",
              "      <td>2</td>\n",
              "      <td>10</td>\n",
              "      <td>7</td>\n",
              "      <td>2906b810c7d4411798c6938adc9daaa5</td>\n",
              "      <td>1</td>\n",
              "      <td>1</td>\n",
              "      <td>1</td>\n",
              "      <td>0</td>\n",
              "      <td>0</td>\n",
              "      <td>1</td>\n",
              "      <td>0</td>\n",
              "    </tr>\n",
              "  </tbody>\n",
              "</table>\n",
              "</div>"
            ],
            "text/plain": [
              "   offer_reward  offer_difficulty  offer_duration  \\\n",
              "0            10                10               7   \n",
              "1            10                10               5   \n",
              "2             0                 0               4   \n",
              "3             5                 5               7   \n",
              "4             5                20              10   \n",
              "5             3                 7               7   \n",
              "6             2                10              10   \n",
              "7             0                 0               3   \n",
              "8             5                 5               5   \n",
              "9             2                10               7   \n",
              "\n",
              "                                 id  web  email  mobile  social  bogo  \\\n",
              "0  ae264e3637204a6fb9bb56bc8210ddfd    0      1       1       1     1   \n",
              "1  4d5c57ea9a6940dd891ad53e9dbe8da0    1      1       1       1     1   \n",
              "2  3f207df678b143eea3cee63160fa8bed    1      1       1       0     0   \n",
              "3  9b98b8c7a33c4b65b9aebfe6a799e6d9    1      1       1       0     1   \n",
              "4  0b1e1539f2cc45b7b9fa7c272da2e1d7    1      1       0       0     0   \n",
              "5  2298d6c36e964ae4a3e7e9706d1fb8c2    1      1       1       1     0   \n",
              "6  fafdcd668e3743c1bb461111dcafc2a4    1      1       1       1     0   \n",
              "7  5a8bc65990b245e5a138643cd4eb9837    0      1       1       1     0   \n",
              "8  f19421c1d4aa40978ebb69ca19b0e20d    1      1       1       1     1   \n",
              "9  2906b810c7d4411798c6938adc9daaa5    1      1       1       0     0   \n",
              "\n",
              "   discount  informational  \n",
              "0         0              0  \n",
              "1         0              0  \n",
              "2         0              1  \n",
              "3         0              0  \n",
              "4         1              0  \n",
              "5         1              0  \n",
              "6         1              0  \n",
              "7         0              1  \n",
              "8         0              0  \n",
              "9         1              0  "
            ]
          },
          "execution_count": 78,
          "metadata": {},
          "output_type": "execute_result"
        }
      ],
      "source": [
        "#View edited portfolio table\n",
        "portfolio"
      ]
    },
    {
      "cell_type": "code",
      "execution_count": null,
      "metadata": {
        "id": "25C4mDvn_WR3"
      },
      "outputs": [],
      "source": [
        "#Saving portfolio as a csv file\n",
        "portfolio.to_csv(\"portfolio_edited.csv\",index=False)"
      ]
    },
    {
      "cell_type": "markdown",
      "metadata": {
        "id": "aRt0xdIuoVD5"
      },
      "source": [
        "## profile table"
      ]
    },
    {
      "cell_type": "code",
      "execution_count": null,
      "metadata": {
        "id": "7ofYPvBWoVD6"
      },
      "outputs": [],
      "source": [
        "profile = pd.read_json('profile.json', orient='records', lines=True, )"
      ]
    },
    {
      "cell_type": "code",
      "execution_count": null,
      "metadata": {
        "id": "q9iTD5q4oVD6"
      },
      "outputs": [],
      "source": [
        "#View the raw table of profile\n",
        "profile"
      ]
    },
    {
      "cell_type": "code",
      "execution_count": null,
      "metadata": {
        "colab": {
          "base_uri": "https://localhost:8080/",
          "height": 424
        },
        "id": "BHX9YwZCfv33",
        "outputId": "d172ab9d-4546-46b8-de98-7a44dfe17208"
      },
      "outputs": [
        {
          "data": {
            "text/html": [
              "<div>\n",
              "<style scoped>\n",
              "    .dataframe tbody tr th:only-of-type {\n",
              "        vertical-align: middle;\n",
              "    }\n",
              "\n",
              "    .dataframe tbody tr th {\n",
              "        vertical-align: top;\n",
              "    }\n",
              "\n",
              "    .dataframe thead th {\n",
              "        text-align: right;\n",
              "    }\n",
              "</style>\n",
              "<table border=\"1\" class=\"dataframe\">\n",
              "  <thead>\n",
              "    <tr style=\"text-align: right;\">\n",
              "      <th></th>\n",
              "      <th>gender</th>\n",
              "      <th>age</th>\n",
              "      <th>id</th>\n",
              "      <th>became_member_on</th>\n",
              "      <th>income</th>\n",
              "      <th>year</th>\n",
              "      <th>month</th>\n",
              "    </tr>\n",
              "  </thead>\n",
              "  <tbody>\n",
              "    <tr>\n",
              "      <th>0</th>\n",
              "      <td>NaN</td>\n",
              "      <td>118</td>\n",
              "      <td>68be06ca386d4c31939f3a4f0e3dd783</td>\n",
              "      <td>2017-02-12</td>\n",
              "      <td>NaN</td>\n",
              "      <td>2017</td>\n",
              "      <td>2</td>\n",
              "    </tr>\n",
              "    <tr>\n",
              "      <th>1</th>\n",
              "      <td>F</td>\n",
              "      <td>55</td>\n",
              "      <td>0610b486422d4921ae7d2bf64640c50b</td>\n",
              "      <td>2017-07-15</td>\n",
              "      <td>112000.0</td>\n",
              "      <td>2017</td>\n",
              "      <td>7</td>\n",
              "    </tr>\n",
              "    <tr>\n",
              "      <th>2</th>\n",
              "      <td>NaN</td>\n",
              "      <td>118</td>\n",
              "      <td>38fe809add3b4fcf9315a9694bb96ff5</td>\n",
              "      <td>2018-07-12</td>\n",
              "      <td>NaN</td>\n",
              "      <td>2018</td>\n",
              "      <td>7</td>\n",
              "    </tr>\n",
              "    <tr>\n",
              "      <th>3</th>\n",
              "      <td>F</td>\n",
              "      <td>75</td>\n",
              "      <td>78afa995795e4d85b5d9ceeca43f5fef</td>\n",
              "      <td>2017-05-09</td>\n",
              "      <td>100000.0</td>\n",
              "      <td>2017</td>\n",
              "      <td>5</td>\n",
              "    </tr>\n",
              "    <tr>\n",
              "      <th>4</th>\n",
              "      <td>NaN</td>\n",
              "      <td>118</td>\n",
              "      <td>a03223e636434f42ac4c3df47e8bac43</td>\n",
              "      <td>2017-08-04</td>\n",
              "      <td>NaN</td>\n",
              "      <td>2017</td>\n",
              "      <td>8</td>\n",
              "    </tr>\n",
              "    <tr>\n",
              "      <th>...</th>\n",
              "      <td>...</td>\n",
              "      <td>...</td>\n",
              "      <td>...</td>\n",
              "      <td>...</td>\n",
              "      <td>...</td>\n",
              "      <td>...</td>\n",
              "      <td>...</td>\n",
              "    </tr>\n",
              "    <tr>\n",
              "      <th>16995</th>\n",
              "      <td>F</td>\n",
              "      <td>45</td>\n",
              "      <td>6d5f3a774f3d4714ab0c092238f3a1d7</td>\n",
              "      <td>2018-06-04</td>\n",
              "      <td>54000.0</td>\n",
              "      <td>2018</td>\n",
              "      <td>6</td>\n",
              "    </tr>\n",
              "    <tr>\n",
              "      <th>16996</th>\n",
              "      <td>M</td>\n",
              "      <td>61</td>\n",
              "      <td>2cb4f97358b841b9a9773a7aa05a9d77</td>\n",
              "      <td>2018-07-13</td>\n",
              "      <td>72000.0</td>\n",
              "      <td>2018</td>\n",
              "      <td>7</td>\n",
              "    </tr>\n",
              "    <tr>\n",
              "      <th>16997</th>\n",
              "      <td>M</td>\n",
              "      <td>49</td>\n",
              "      <td>01d26f638c274aa0b965d24cefe3183f</td>\n",
              "      <td>2017-01-26</td>\n",
              "      <td>73000.0</td>\n",
              "      <td>2017</td>\n",
              "      <td>1</td>\n",
              "    </tr>\n",
              "    <tr>\n",
              "      <th>16998</th>\n",
              "      <td>F</td>\n",
              "      <td>83</td>\n",
              "      <td>9dc1421481194dcd9400aec7c9ae6366</td>\n",
              "      <td>2016-03-07</td>\n",
              "      <td>50000.0</td>\n",
              "      <td>2016</td>\n",
              "      <td>3</td>\n",
              "    </tr>\n",
              "    <tr>\n",
              "      <th>16999</th>\n",
              "      <td>F</td>\n",
              "      <td>62</td>\n",
              "      <td>e4052622e5ba45a8b96b59aba68cf068</td>\n",
              "      <td>2017-07-22</td>\n",
              "      <td>82000.0</td>\n",
              "      <td>2017</td>\n",
              "      <td>7</td>\n",
              "    </tr>\n",
              "  </tbody>\n",
              "</table>\n",
              "<p>17000 rows × 7 columns</p>\n",
              "</div>"
            ],
            "text/plain": [
              "      gender  age                                id became_member_on  \\\n",
              "0        NaN  118  68be06ca386d4c31939f3a4f0e3dd783       2017-02-12   \n",
              "1          F   55  0610b486422d4921ae7d2bf64640c50b       2017-07-15   \n",
              "2        NaN  118  38fe809add3b4fcf9315a9694bb96ff5       2018-07-12   \n",
              "3          F   75  78afa995795e4d85b5d9ceeca43f5fef       2017-05-09   \n",
              "4        NaN  118  a03223e636434f42ac4c3df47e8bac43       2017-08-04   \n",
              "...      ...  ...                               ...              ...   \n",
              "16995      F   45  6d5f3a774f3d4714ab0c092238f3a1d7       2018-06-04   \n",
              "16996      M   61  2cb4f97358b841b9a9773a7aa05a9d77       2018-07-13   \n",
              "16997      M   49  01d26f638c274aa0b965d24cefe3183f       2017-01-26   \n",
              "16998      F   83  9dc1421481194dcd9400aec7c9ae6366       2016-03-07   \n",
              "16999      F   62  e4052622e5ba45a8b96b59aba68cf068       2017-07-22   \n",
              "\n",
              "         income  year  month  \n",
              "0           NaN  2017      2  \n",
              "1      112000.0  2017      7  \n",
              "2           NaN  2018      7  \n",
              "3      100000.0  2017      5  \n",
              "4           NaN  2017      8  \n",
              "...         ...   ...    ...  \n",
              "16995   54000.0  2018      6  \n",
              "16996   72000.0  2018      7  \n",
              "16997   73000.0  2017      1  \n",
              "16998   50000.0  2016      3  \n",
              "16999   82000.0  2017      7  \n",
              "\n",
              "[17000 rows x 7 columns]"
            ]
          },
          "execution_count": 112,
          "metadata": {},
          "output_type": "execute_result"
        }
      ],
      "source": [
        "#Reading the became_member_on column as date type and parse it to year and months\n",
        "profile.to_csv('profile_edited.csv', index=False)\n",
        "profile = pd.read_csv('profile_edited.csv', parse_dates=['became_member_on'])\n",
        "profile['year'] = profile['became_member_on'].dt.year\n",
        "profile['month'] = profile['became_member_on'].dt.month\n",
        "profile"
      ]
    },
    {
      "cell_type": "code",
      "execution_count": null,
      "metadata": {
        "id": "EEIuW0AuoVD7",
        "outputId": "a32cee7c-0c92-488a-f7aa-eae97b8f5cf5"
      },
      "outputs": [
        {
          "data": {
            "text/plain": [
              "array([[<AxesSubplot:title={'center':'age'}>,\n",
              "        <AxesSubplot:title={'center':'income'}>],\n",
              "       [<AxesSubplot:title={'center':'year'}>,\n",
              "        <AxesSubplot:title={'center':'month'}>]], dtype=object)"
            ]
          },
          "execution_count": 113,
          "metadata": {},
          "output_type": "execute_result"
        },
        {
          "data": {
            "image/png": "[encoded data removed]",
            "text/plain": [
              "<Figure size 1080x720 with 4 Axes>"
            ]
          },
          "metadata": {
            "needs_background": "light"
          },
          "output_type": "display_data"
        }
      ],
      "source": [
        "#View the raw data plots before filling the NaNs \n",
        "profile.hist(bins=30, figsize=(15,10))"
      ]
    },
    {
      "cell_type": "code",
      "execution_count": null,
      "metadata": {
        "id": "XDwm_qYi7T2T"
      },
      "outputs": [],
      "source": [
        "#Creating one column named 'membership_duration' instead of the 'became_member_on', 'year', 'month' columns\n",
        "this_year = datetime.datetime.today().year\n",
        "this_month = datetime.datetime.today().month\n",
        "#print(f\"This year: {this_year}, This month: {this_month}\")\n",
        "\n",
        "#creating the column 'membership_duration' that contains membership duration in month\n",
        "profile['membership_duration'] = (this_year-profile['year'])*12 + (12-profile['month']+this_month)\n",
        "for col in ['became_member_on', 'year', 'month']:\n",
        "    profile.pop(col)"
      ]
    },
    {
      "cell_type": "code",
      "execution_count": null,
      "metadata": {
        "colab": {
          "base_uri": "https://localhost:8080/"
        },
        "id": "3owf0KFDjFBB",
        "outputId": "df7e9fd6-1fd4-487d-f05e-7cf3abbd85f2"
      },
      "outputs": [
        {
          "name": "stdout",
          "output_type": "stream",
          "text": [
            "<class 'pandas.core.frame.DataFrame'>\n",
            "RangeIndex: 17000 entries, 0 to 16999\n",
            "Data columns (total 5 columns):\n",
            " #   Column               Non-Null Count  Dtype  \n",
            "---  ------               --------------  -----  \n",
            " 0   gender               14825 non-null  object \n",
            " 1   age                  17000 non-null  int64  \n",
            " 2   id                   17000 non-null  object \n",
            " 3   income               14825 non-null  float64\n",
            " 4   membership_duration  17000 non-null  int64  \n",
            "dtypes: float64(1), int64(2), object(2)\n",
            "memory usage: 664.2+ KB\n"
          ]
        }
      ],
      "source": [
        "#investigate the number of the NaN cells to fill\n",
        "profile.info()"
      ]
    },
    {
      "cell_type": "code",
      "execution_count": null,
      "metadata": {
        "colab": {
          "base_uri": "https://localhost:8080/"
        },
        "id": "yS6iYlk66-cw",
        "outputId": "3f4b658e-0592-4f7e-fff3-a2ca0cc6b921"
      },
      "outputs": [
        {
          "name": "stdout",
          "output_type": "stream",
          "text": [
            "There are 212 persons having non obvious gender\n"
          ]
        }
      ],
      "source": [
        "#Calculating the average of people whose ages are not 118\n",
        "mean_age = profile['age'][profile['age']!=118].mean()\n",
        "mean_age = int(mean_age)\n",
        "\n",
        "#fill the NaN cells of the age column with average age\n",
        "profile.loc[profile.age == 118, 'age'] = mean_age\n",
        "\n",
        "#fill the NaN cells of the income column with the average income\n",
        "mean_income = round(np.mean(profile['income']),0)\n",
        "profile['income'] = profile['income'].fillna(mean_income)\n",
        "\n",
        "O_count = profile[profile['gender']=='O']['gender'].count()\n",
        "print(f\"There are {O_count} persons having non obvious gender\")\n",
        "\n",
        "#fill the NaN cells of gender column in random, we don't Other genders for random choicing because of their minority\n",
        "\n",
        "num_na = profile['gender'].isna().sum()  # number of missing cases\n",
        "profile.loc[profile['gender'].isna(), 'gender'] = random.choices([\"M\", \"F\"], k=num_na)"
      ]
    },
    {
      "cell_type": "code",
      "execution_count": null,
      "metadata": {
        "colab": {
          "base_uri": "https://localhost:8080/",
          "height": 424
        },
        "id": "DMC24Ph4fGw2",
        "outputId": "9197cdab-616d-4b98-8a4f-c4282afe3ba1"
      },
      "outputs": [
        {
          "name": "stdout",
          "output_type": "stream",
          "text": [
            "gender types:  ['F' 'M' 'O']\n"
          ]
        }
      ],
      "source": [
        "#One-hot encoding of the gender column\n",
        "print(\"gender types: \", profile.gender.unique())\n",
        "\n",
        "for chan in ['M', 'F', 'O']:\n",
        "    profile[chan] = profile.gender.apply(lambda x: 1 if x==chan else 0)\n",
        "profile.pop('gender')\n",
        "\n",
        "#Renaming to appropriate names\n",
        "profile = profile.rename(columns={'F': 'Female', 'M': 'Male', 'O': 'Other'})"
      ]
    },
    {
      "cell_type": "code",
      "execution_count": null,
      "metadata": {
        "colab": {
          "base_uri": "https://localhost:8080/",
          "height": 424
        },
        "id": "v5MbsuF3ff5O",
        "outputId": "3a8b6de4-d03d-436e-a081-255a99f73773"
      },
      "outputs": [
        {
          "data": {
            "text/html": [
              "<div>\n",
              "<style scoped>\n",
              "    .dataframe tbody tr th:only-of-type {\n",
              "        vertical-align: middle;\n",
              "    }\n",
              "\n",
              "    .dataframe tbody tr th {\n",
              "        vertical-align: top;\n",
              "    }\n",
              "\n",
              "    .dataframe thead th {\n",
              "        text-align: right;\n",
              "    }\n",
              "</style>\n",
              "<table border=\"1\" class=\"dataframe\">\n",
              "  <thead>\n",
              "    <tr style=\"text-align: right;\">\n",
              "      <th></th>\n",
              "      <th>age</th>\n",
              "      <th>id</th>\n",
              "      <th>income</th>\n",
              "      <th>membership_duration</th>\n",
              "      <th>Male</th>\n",
              "      <th>Female</th>\n",
              "      <th>Other</th>\n",
              "    </tr>\n",
              "  </thead>\n",
              "  <tbody>\n",
              "    <tr>\n",
              "      <th>0</th>\n",
              "      <td>54</td>\n",
              "      <td>68be06ca386d4c31939f3a4f0e3dd783</td>\n",
              "      <td>65405.0</td>\n",
              "      <td>72</td>\n",
              "      <td>0</td>\n",
              "      <td>1</td>\n",
              "      <td>0</td>\n",
              "    </tr>\n",
              "    <tr>\n",
              "      <th>1</th>\n",
              "      <td>55</td>\n",
              "      <td>0610b486422d4921ae7d2bf64640c50b</td>\n",
              "      <td>112000.0</td>\n",
              "      <td>67</td>\n",
              "      <td>0</td>\n",
              "      <td>1</td>\n",
              "      <td>0</td>\n",
              "    </tr>\n",
              "    <tr>\n",
              "      <th>2</th>\n",
              "      <td>54</td>\n",
              "      <td>38fe809add3b4fcf9315a9694bb96ff5</td>\n",
              "      <td>65405.0</td>\n",
              "      <td>55</td>\n",
              "      <td>0</td>\n",
              "      <td>1</td>\n",
              "      <td>0</td>\n",
              "    </tr>\n",
              "    <tr>\n",
              "      <th>3</th>\n",
              "      <td>75</td>\n",
              "      <td>78afa995795e4d85b5d9ceeca43f5fef</td>\n",
              "      <td>100000.0</td>\n",
              "      <td>69</td>\n",
              "      <td>0</td>\n",
              "      <td>1</td>\n",
              "      <td>0</td>\n",
              "    </tr>\n",
              "    <tr>\n",
              "      <th>4</th>\n",
              "      <td>54</td>\n",
              "      <td>a03223e636434f42ac4c3df47e8bac43</td>\n",
              "      <td>65405.0</td>\n",
              "      <td>66</td>\n",
              "      <td>0</td>\n",
              "      <td>1</td>\n",
              "      <td>0</td>\n",
              "    </tr>\n",
              "    <tr>\n",
              "      <th>...</th>\n",
              "      <td>...</td>\n",
              "      <td>...</td>\n",
              "      <td>...</td>\n",
              "      <td>...</td>\n",
              "      <td>...</td>\n",
              "      <td>...</td>\n",
              "      <td>...</td>\n",
              "    </tr>\n",
              "    <tr>\n",
              "      <th>16995</th>\n",
              "      <td>45</td>\n",
              "      <td>6d5f3a774f3d4714ab0c092238f3a1d7</td>\n",
              "      <td>54000.0</td>\n",
              "      <td>56</td>\n",
              "      <td>0</td>\n",
              "      <td>1</td>\n",
              "      <td>0</td>\n",
              "    </tr>\n",
              "    <tr>\n",
              "      <th>16996</th>\n",
              "      <td>61</td>\n",
              "      <td>2cb4f97358b841b9a9773a7aa05a9d77</td>\n",
              "      <td>72000.0</td>\n",
              "      <td>55</td>\n",
              "      <td>1</td>\n",
              "      <td>0</td>\n",
              "      <td>0</td>\n",
              "    </tr>\n",
              "    <tr>\n",
              "      <th>16997</th>\n",
              "      <td>49</td>\n",
              "      <td>01d26f638c274aa0b965d24cefe3183f</td>\n",
              "      <td>73000.0</td>\n",
              "      <td>73</td>\n",
              "      <td>1</td>\n",
              "      <td>0</td>\n",
              "      <td>0</td>\n",
              "    </tr>\n",
              "    <tr>\n",
              "      <th>16998</th>\n",
              "      <td>83</td>\n",
              "      <td>9dc1421481194dcd9400aec7c9ae6366</td>\n",
              "      <td>50000.0</td>\n",
              "      <td>83</td>\n",
              "      <td>0</td>\n",
              "      <td>1</td>\n",
              "      <td>0</td>\n",
              "    </tr>\n",
              "    <tr>\n",
              "      <th>16999</th>\n",
              "      <td>62</td>\n",
              "      <td>e4052622e5ba45a8b96b59aba68cf068</td>\n",
              "      <td>82000.0</td>\n",
              "      <td>67</td>\n",
              "      <td>0</td>\n",
              "      <td>1</td>\n",
              "      <td>0</td>\n",
              "    </tr>\n",
              "  </tbody>\n",
              "</table>\n",
              "<p>17000 rows × 7 columns</p>\n",
              "</div>"
            ],
            "text/plain": [
              "       age                                id    income  membership_duration  \\\n",
              "0       54  68be06ca386d4c31939f3a4f0e3dd783   65405.0                   72   \n",
              "1       55  0610b486422d4921ae7d2bf64640c50b  112000.0                   67   \n",
              "2       54  38fe809add3b4fcf9315a9694bb96ff5   65405.0                   55   \n",
              "3       75  78afa995795e4d85b5d9ceeca43f5fef  100000.0                   69   \n",
              "4       54  a03223e636434f42ac4c3df47e8bac43   65405.0                   66   \n",
              "...    ...                               ...       ...                  ...   \n",
              "16995   45  6d5f3a774f3d4714ab0c092238f3a1d7   54000.0                   56   \n",
              "16996   61  2cb4f97358b841b9a9773a7aa05a9d77   72000.0                   55   \n",
              "16997   49  01d26f638c274aa0b965d24cefe3183f   73000.0                   73   \n",
              "16998   83  9dc1421481194dcd9400aec7c9ae6366   50000.0                   83   \n",
              "16999   62  e4052622e5ba45a8b96b59aba68cf068   82000.0                   67   \n",
              "\n",
              "       Male  Female  Other  \n",
              "0         0       1      0  \n",
              "1         0       1      0  \n",
              "2         0       1      0  \n",
              "3         0       1      0  \n",
              "4         0       1      0  \n",
              "...     ...     ...    ...  \n",
              "16995     0       1      0  \n",
              "16996     1       0      0  \n",
              "16997     1       0      0  \n",
              "16998     0       1      0  \n",
              "16999     0       1      0  \n",
              "\n",
              "[17000 rows x 7 columns]"
            ]
          },
          "execution_count": 118,
          "metadata": {},
          "output_type": "execute_result"
        }
      ],
      "source": [
        "#View edited profile table\n",
        "profile"
      ]
    },
    {
      "cell_type": "code",
      "execution_count": null,
      "metadata": {
        "colab": {
          "base_uri": "https://localhost:8080/"
        },
        "id": "Re7g6LZM-c3u",
        "outputId": "51bdfd81-82d2-4b6a-da5e-2771fbe85362"
      },
      "outputs": [
        {
          "name": "stdout",
          "output_type": "stream",
          "text": [
            "<class 'pandas.core.frame.DataFrame'>\n",
            "RangeIndex: 17000 entries, 0 to 16999\n",
            "Data columns (total 7 columns):\n",
            " #   Column               Non-Null Count  Dtype  \n",
            "---  ------               --------------  -----  \n",
            " 0   age                  17000 non-null  int64  \n",
            " 1   id                   17000 non-null  object \n",
            " 2   income               17000 non-null  float64\n",
            " 3   membership_duration  17000 non-null  int64  \n",
            " 4   Male                 17000 non-null  int64  \n",
            " 5   Female               17000 non-null  int64  \n",
            " 6   Other                17000 non-null  int64  \n",
            "dtypes: float64(1), int64(5), object(1)\n",
            "memory usage: 929.8+ KB\n"
          ]
        }
      ],
      "source": [
        "#Check to see if we have NaN cells\n",
        "profile.info()"
      ]
    },
    {
      "cell_type": "code",
      "execution_count": null,
      "metadata": {
        "id": "DiQS1XBCuBIW"
      },
      "outputs": [],
      "source": [
        "#Saving the profile table as a csv file\n",
        "profile.to_csv(\"profile_edited.csv\", index=False)"
      ]
    },
    {
      "cell_type": "markdown",
      "metadata": {
        "id": "7cN65uQm_83t"
      },
      "source": [
        "# Merging all Data"
      ]
    },
    {
      "cell_type": "code",
      "execution_count": null,
      "metadata": {
        "id": "RQgHPYN-CcaN"
      },
      "outputs": [],
      "source": [
        "transcript = pd.read_csv(\"transcript_edited.csv\")\n",
        "portfolio = pd.read_csv(\"portfolio_edited.csv\")\n",
        "profile = pd.read_csv(\"profile_edited.csv\")"
      ]
    },
    {
      "cell_type": "code",
      "execution_count": null,
      "metadata": {
        "id": "Xm1X7bs7uPN0"
      },
      "outputs": [],
      "source": [
        "#Merging transcript and profile tables on the joint person ids\n",
        "transcript_profile_merged = pd.merge(transcript, profile, left_on='person', \n",
        "                                     right_on='id', how='left').drop('id', axis=1)"
      ]
    },
    {
      "cell_type": "code",
      "execution_count": null,
      "metadata": {
        "id": "i7Bp-5sOAlVC"
      },
      "outputs": [],
      "source": [
        "#Merge the above table with the portfolio table on the joint offer ids\n",
        "my_starbuck = pd.merge(transcript_profile_merged, portfolio, left_on='offers',\n",
        "                       right_on='id', how='left').drop('id', axis=1)"
      ]
    },
    {
      "cell_type": "code",
      "execution_count": null,
      "metadata": {
        "colab": {
          "base_uri": "https://localhost:8080/",
          "height": 487
        },
        "id": "csyfXJx2VBxW",
        "outputId": "7e87bf23-87e1-4620-9e29-4af55908e1f5"
      },
      "outputs": [
        {
          "data": {
            "text/html": [
              "<div>\n",
              "<style scoped>\n",
              "    .dataframe tbody tr th:only-of-type {\n",
              "        vertical-align: middle;\n",
              "    }\n",
              "\n",
              "    .dataframe tbody tr th {\n",
              "        vertical-align: top;\n",
              "    }\n",
              "\n",
              "    .dataframe thead th {\n",
              "        text-align: right;\n",
              "    }\n",
              "</style>\n",
              "<table border=\"1\" class=\"dataframe\">\n",
              "  <thead>\n",
              "    <tr style=\"text-align: right;\">\n",
              "      <th></th>\n",
              "      <th>person</th>\n",
              "      <th>time</th>\n",
              "      <th>amount</th>\n",
              "      <th>reward</th>\n",
              "      <th>offers</th>\n",
              "      <th>offer_completed</th>\n",
              "      <th>offer_received</th>\n",
              "      <th>offer_viewed</th>\n",
              "      <th>transaction</th>\n",
              "      <th>age</th>\n",
              "      <th>...</th>\n",
              "      <th>offer_duration</th>\n",
              "      <th>web</th>\n",
              "      <th>email</th>\n",
              "      <th>mobile</th>\n",
              "      <th>social</th>\n",
              "      <th>bogo</th>\n",
              "      <th>discount</th>\n",
              "      <th>informational</th>\n",
              "      <th>total_transaction</th>\n",
              "      <th>cumsum</th>\n",
              "    </tr>\n",
              "  </thead>\n",
              "  <tbody>\n",
              "    <tr>\n",
              "      <th>55972</th>\n",
              "      <td>0009655768c64bdeb2e877511632db8f</td>\n",
              "      <td>7.0</td>\n",
              "      <td>0.00</td>\n",
              "      <td>0</td>\n",
              "      <td>5a8bc65990b245e5a138643cd4eb9837</td>\n",
              "      <td>0</td>\n",
              "      <td>1</td>\n",
              "      <td>0</td>\n",
              "      <td>0</td>\n",
              "      <td>33</td>\n",
              "      <td>...</td>\n",
              "      <td>3.0</td>\n",
              "      <td>0.0</td>\n",
              "      <td>1.0</td>\n",
              "      <td>1.0</td>\n",
              "      <td>1.0</td>\n",
              "      <td>0.0</td>\n",
              "      <td>0.0</td>\n",
              "      <td>1.0</td>\n",
              "      <td>127.60</td>\n",
              "      <td>0.00</td>\n",
              "    </tr>\n",
              "    <tr>\n",
              "      <th>77705</th>\n",
              "      <td>0009655768c64bdeb2e877511632db8f</td>\n",
              "      <td>8.0</td>\n",
              "      <td>0.00</td>\n",
              "      <td>0</td>\n",
              "      <td>5a8bc65990b245e5a138643cd4eb9837</td>\n",
              "      <td>0</td>\n",
              "      <td>0</td>\n",
              "      <td>1</td>\n",
              "      <td>0</td>\n",
              "      <td>33</td>\n",
              "      <td>...</td>\n",
              "      <td>3.0</td>\n",
              "      <td>0.0</td>\n",
              "      <td>1.0</td>\n",
              "      <td>1.0</td>\n",
              "      <td>1.0</td>\n",
              "      <td>0.0</td>\n",
              "      <td>0.0</td>\n",
              "      <td>1.0</td>\n",
              "      <td>127.60</td>\n",
              "      <td>0.00</td>\n",
              "    </tr>\n",
              "    <tr>\n",
              "      <th>89291</th>\n",
              "      <td>0009655768c64bdeb2e877511632db8f</td>\n",
              "      <td>10.0</td>\n",
              "      <td>22.16</td>\n",
              "      <td>0</td>\n",
              "      <td>NaN</td>\n",
              "      <td>0</td>\n",
              "      <td>0</td>\n",
              "      <td>0</td>\n",
              "      <td>1</td>\n",
              "      <td>33</td>\n",
              "      <td>...</td>\n",
              "      <td>NaN</td>\n",
              "      <td>NaN</td>\n",
              "      <td>NaN</td>\n",
              "      <td>NaN</td>\n",
              "      <td>NaN</td>\n",
              "      <td>NaN</td>\n",
              "      <td>NaN</td>\n",
              "      <td>NaN</td>\n",
              "      <td>127.60</td>\n",
              "      <td>22.16</td>\n",
              "    </tr>\n",
              "    <tr>\n",
              "      <th>113605</th>\n",
              "      <td>0009655768c64bdeb2e877511632db8f</td>\n",
              "      <td>14.0</td>\n",
              "      <td>0.00</td>\n",
              "      <td>0</td>\n",
              "      <td>3f207df678b143eea3cee63160fa8bed</td>\n",
              "      <td>0</td>\n",
              "      <td>1</td>\n",
              "      <td>0</td>\n",
              "      <td>0</td>\n",
              "      <td>33</td>\n",
              "      <td>...</td>\n",
              "      <td>4.0</td>\n",
              "      <td>1.0</td>\n",
              "      <td>1.0</td>\n",
              "      <td>1.0</td>\n",
              "      <td>0.0</td>\n",
              "      <td>0.0</td>\n",
              "      <td>0.0</td>\n",
              "      <td>1.0</td>\n",
              "      <td>127.60</td>\n",
              "      <td>22.16</td>\n",
              "    </tr>\n",
              "    <tr>\n",
              "      <th>139992</th>\n",
              "      <td>0009655768c64bdeb2e877511632db8f</td>\n",
              "      <td>16.0</td>\n",
              "      <td>0.00</td>\n",
              "      <td>0</td>\n",
              "      <td>3f207df678b143eea3cee63160fa8bed</td>\n",
              "      <td>0</td>\n",
              "      <td>0</td>\n",
              "      <td>1</td>\n",
              "      <td>0</td>\n",
              "      <td>33</td>\n",
              "      <td>...</td>\n",
              "      <td>4.0</td>\n",
              "      <td>1.0</td>\n",
              "      <td>1.0</td>\n",
              "      <td>1.0</td>\n",
              "      <td>0.0</td>\n",
              "      <td>0.0</td>\n",
              "      <td>0.0</td>\n",
              "      <td>1.0</td>\n",
              "      <td>127.60</td>\n",
              "      <td>22.16</td>\n",
              "    </tr>\n",
              "    <tr>\n",
              "      <th>...</th>\n",
              "      <td>...</td>\n",
              "      <td>...</td>\n",
              "      <td>...</td>\n",
              "      <td>...</td>\n",
              "      <td>...</td>\n",
              "      <td>...</td>\n",
              "      <td>...</td>\n",
              "      <td>...</td>\n",
              "      <td>...</td>\n",
              "      <td>...</td>\n",
              "      <td>...</td>\n",
              "      <td>...</td>\n",
              "      <td>...</td>\n",
              "      <td>...</td>\n",
              "      <td>...</td>\n",
              "      <td>...</td>\n",
              "      <td>...</td>\n",
              "      <td>...</td>\n",
              "      <td>...</td>\n",
              "      <td>...</td>\n",
              "      <td>...</td>\n",
              "    </tr>\n",
              "    <tr>\n",
              "      <th>258361</th>\n",
              "      <td>ffff82501cea40309d5fdd7edcca4a07</td>\n",
              "      <td>24.0</td>\n",
              "      <td>14.23</td>\n",
              "      <td>0</td>\n",
              "      <td>NaN</td>\n",
              "      <td>0</td>\n",
              "      <td>0</td>\n",
              "      <td>0</td>\n",
              "      <td>1</td>\n",
              "      <td>45</td>\n",
              "      <td>...</td>\n",
              "      <td>NaN</td>\n",
              "      <td>NaN</td>\n",
              "      <td>NaN</td>\n",
              "      <td>NaN</td>\n",
              "      <td>NaN</td>\n",
              "      <td>NaN</td>\n",
              "      <td>NaN</td>\n",
              "      <td>NaN</td>\n",
              "      <td>226.07</td>\n",
              "      <td>197.04</td>\n",
              "    </tr>\n",
              "    <tr>\n",
              "      <th>258362</th>\n",
              "      <td>ffff82501cea40309d5fdd7edcca4a07</td>\n",
              "      <td>24.0</td>\n",
              "      <td>0.00</td>\n",
              "      <td>1</td>\n",
              "      <td>2906b810c7d4411798c6938adc9daaa5</td>\n",
              "      <td>1</td>\n",
              "      <td>0</td>\n",
              "      <td>0</td>\n",
              "      <td>0</td>\n",
              "      <td>45</td>\n",
              "      <td>...</td>\n",
              "      <td>7.0</td>\n",
              "      <td>1.0</td>\n",
              "      <td>1.0</td>\n",
              "      <td>1.0</td>\n",
              "      <td>0.0</td>\n",
              "      <td>0.0</td>\n",
              "      <td>1.0</td>\n",
              "      <td>0.0</td>\n",
              "      <td>226.07</td>\n",
              "      <td>197.04</td>\n",
              "    </tr>\n",
              "    <tr>\n",
              "      <th>262475</th>\n",
              "      <td>ffff82501cea40309d5fdd7edcca4a07</td>\n",
              "      <td>25.0</td>\n",
              "      <td>0.00</td>\n",
              "      <td>0</td>\n",
              "      <td>2906b810c7d4411798c6938adc9daaa5</td>\n",
              "      <td>0</td>\n",
              "      <td>0</td>\n",
              "      <td>1</td>\n",
              "      <td>0</td>\n",
              "      <td>45</td>\n",
              "      <td>...</td>\n",
              "      <td>7.0</td>\n",
              "      <td>1.0</td>\n",
              "      <td>1.0</td>\n",
              "      <td>1.0</td>\n",
              "      <td>0.0</td>\n",
              "      <td>0.0</td>\n",
              "      <td>1.0</td>\n",
              "      <td>0.0</td>\n",
              "      <td>226.07</td>\n",
              "      <td>197.04</td>\n",
              "    </tr>\n",
              "    <tr>\n",
              "      <th>274809</th>\n",
              "      <td>ffff82501cea40309d5fdd7edcca4a07</td>\n",
              "      <td>26.0</td>\n",
              "      <td>10.12</td>\n",
              "      <td>0</td>\n",
              "      <td>NaN</td>\n",
              "      <td>0</td>\n",
              "      <td>0</td>\n",
              "      <td>0</td>\n",
              "      <td>1</td>\n",
              "      <td>45</td>\n",
              "      <td>...</td>\n",
              "      <td>NaN</td>\n",
              "      <td>NaN</td>\n",
              "      <td>NaN</td>\n",
              "      <td>NaN</td>\n",
              "      <td>NaN</td>\n",
              "      <td>NaN</td>\n",
              "      <td>NaN</td>\n",
              "      <td>NaN</td>\n",
              "      <td>226.07</td>\n",
              "      <td>207.16</td>\n",
              "    </tr>\n",
              "    <tr>\n",
              "      <th>289924</th>\n",
              "      <td>ffff82501cea40309d5fdd7edcca4a07</td>\n",
              "      <td>27.0</td>\n",
              "      <td>18.91</td>\n",
              "      <td>0</td>\n",
              "      <td>NaN</td>\n",
              "      <td>0</td>\n",
              "      <td>0</td>\n",
              "      <td>0</td>\n",
              "      <td>1</td>\n",
              "      <td>45</td>\n",
              "      <td>...</td>\n",
              "      <td>NaN</td>\n",
              "      <td>NaN</td>\n",
              "      <td>NaN</td>\n",
              "      <td>NaN</td>\n",
              "      <td>NaN</td>\n",
              "      <td>NaN</td>\n",
              "      <td>NaN</td>\n",
              "      <td>NaN</td>\n",
              "      <td>226.07</td>\n",
              "      <td>226.07</td>\n",
              "    </tr>\n",
              "  </tbody>\n",
              "</table>\n",
              "<p>306534 rows × 27 columns</p>\n",
              "</div>"
            ],
            "text/plain": [
              "                                  person  time  amount  reward  \\\n",
              "55972   0009655768c64bdeb2e877511632db8f   7.0    0.00       0   \n",
              "77705   0009655768c64bdeb2e877511632db8f   8.0    0.00       0   \n",
              "89291   0009655768c64bdeb2e877511632db8f  10.0   22.16       0   \n",
              "113605  0009655768c64bdeb2e877511632db8f  14.0    0.00       0   \n",
              "139992  0009655768c64bdeb2e877511632db8f  16.0    0.00       0   \n",
              "...                                  ...   ...     ...     ...   \n",
              "258361  ffff82501cea40309d5fdd7edcca4a07  24.0   14.23       0   \n",
              "258362  ffff82501cea40309d5fdd7edcca4a07  24.0    0.00       1   \n",
              "262475  ffff82501cea40309d5fdd7edcca4a07  25.0    0.00       0   \n",
              "274809  ffff82501cea40309d5fdd7edcca4a07  26.0   10.12       0   \n",
              "289924  ffff82501cea40309d5fdd7edcca4a07  27.0   18.91       0   \n",
              "\n",
              "                                  offers  offer_completed  offer_received  \\\n",
              "55972   5a8bc65990b245e5a138643cd4eb9837                0               1   \n",
              "77705   5a8bc65990b245e5a138643cd4eb9837                0               0   \n",
              "89291                                NaN                0               0   \n",
              "113605  3f207df678b143eea3cee63160fa8bed                0               1   \n",
              "139992  3f207df678b143eea3cee63160fa8bed                0               0   \n",
              "...                                  ...              ...             ...   \n",
              "258361                               NaN                0               0   \n",
              "258362  2906b810c7d4411798c6938adc9daaa5                1               0   \n",
              "262475  2906b810c7d4411798c6938adc9daaa5                0               0   \n",
              "274809                               NaN                0               0   \n",
              "289924                               NaN                0               0   \n",
              "\n",
              "        offer_viewed  transaction  age  ...  offer_duration  web  email  \\\n",
              "55972              0            0   33  ...             3.0  0.0    1.0   \n",
              "77705              1            0   33  ...             3.0  0.0    1.0   \n",
              "89291              0            1   33  ...             NaN  NaN    NaN   \n",
              "113605             0            0   33  ...             4.0  1.0    1.0   \n",
              "139992             1            0   33  ...             4.0  1.0    1.0   \n",
              "...              ...          ...  ...  ...             ...  ...    ...   \n",
              "258361             0            1   45  ...             NaN  NaN    NaN   \n",
              "258362             0            0   45  ...             7.0  1.0    1.0   \n",
              "262475             1            0   45  ...             7.0  1.0    1.0   \n",
              "274809             0            1   45  ...             NaN  NaN    NaN   \n",
              "289924             0            1   45  ...             NaN  NaN    NaN   \n",
              "\n",
              "        mobile  social  bogo  discount  informational  total_transaction  \\\n",
              "55972      1.0     1.0   0.0       0.0            1.0             127.60   \n",
              "77705      1.0     1.0   0.0       0.0            1.0             127.60   \n",
              "89291      NaN     NaN   NaN       NaN            NaN             127.60   \n",
              "113605     1.0     0.0   0.0       0.0            1.0             127.60   \n",
              "139992     1.0     0.0   0.0       0.0            1.0             127.60   \n",
              "...        ...     ...   ...       ...            ...                ...   \n",
              "258361     NaN     NaN   NaN       NaN            NaN             226.07   \n",
              "258362     1.0     0.0   0.0       1.0            0.0             226.07   \n",
              "262475     1.0     0.0   0.0       1.0            0.0             226.07   \n",
              "274809     NaN     NaN   NaN       NaN            NaN             226.07   \n",
              "289924     NaN     NaN   NaN       NaN            NaN             226.07   \n",
              "\n",
              "        cumsum  \n",
              "55972     0.00  \n",
              "77705     0.00  \n",
              "89291    22.16  \n",
              "113605   22.16  \n",
              "139992   22.16  \n",
              "...        ...  \n",
              "258361  197.04  \n",
              "258362  197.04  \n",
              "262475  197.04  \n",
              "274809  207.16  \n",
              "289924  226.07  \n",
              "\n",
              "[306534 rows x 27 columns]"
            ]
          },
          "execution_count": 138,
          "metadata": {},
          "output_type": "execute_result"
        }
      ],
      "source": [
        "#Adding total transaction amount as a column to the above dataframe\n",
        "total_transcript = ((my_starbuck['amount']).groupby(my_starbuck['person'])).sum()\n",
        "total_transcript_df = pd.DataFrame({'id':total_transcript.index, 'total_transaction':total_transcript.values})\n",
        "my_starbuck = pd.merge(my_starbuck, total_transcript_df, left_on='person',\n",
        "                       right_on='id', how='left').drop('id', axis=1)\n",
        "\n",
        "#Converting time from hours to days, because offer's times are in days\n",
        "my_starbuck['time'] /= 24.0\n",
        "my_starbuck['time'] = np.ceil(my_starbuck['time'])\n",
        "\n",
        "#Sorting the dataframe based on person ids and time\n",
        "my_starbuck = my_starbuck.sort_values(['person','time',])\n",
        "\n",
        "#changing non zero entries of the reward column to 1, to remove dependendy of it with column offer_reward\n",
        "my_starbuck['reward'] = my_starbuck.reward.apply(lambda x: 1 if x!=0 else 0)\n",
        "my_starbuck\n",
        "\n",
        "#Adding cumulative amount of transactions as the 'cumsum' column to my dataframe\n",
        "my_starbuck['cumsum'] = (my_starbuck['amount']).groupby(my_starbuck['person']).cumsum()\n",
        "\n",
        "my_starbuck"
      ]
    },
    {
      "cell_type": "code",
      "execution_count": null,
      "metadata": {
        "id": "q1IDl_cpAG-5"
      },
      "outputs": [],
      "source": [
        "#Assigning the cumsum column to the amount column and deleting cumsum\n",
        "my_starbuck['amount'] = my_starbuck['cumsum']\n",
        "my_starbuck.pop('cumsum')\n",
        "\n",
        "#Renaming amount column\n",
        "my_starbuck = my_starbuck.rename(columns={'amount':'cumulative_transaction'})\n",
        "\n",
        "#Decreasing the table size and just selecting rows that contain an offer (received/viewed/completed)\n",
        "my_starbuck = my_starbuck[my_starbuck['transaction']==0].copy()\n",
        "\n",
        "#Deleting the transaction column\n",
        "my_starbuck.pop('transaction')\n",
        "\n",
        "my_starbuck['offers'] = my_starbuck['offers'].astype('category')\n",
        "\n",
        "#Reseting my goal table indexes\n",
        "my_starbuck.reset_index(drop=True, inplace=True)"
      ]
    },
    {
      "cell_type": "code",
      "execution_count": null,
      "metadata": {
        "colab": {
          "base_uri": "https://localhost:8080/",
          "height": 487
        },
        "id": "AcoH7HFoCp_4",
        "outputId": "4fd931e7-cdb3-47cd-eed8-0eaaead14d30"
      },
      "outputs": [
        {
          "data": {
            "text/html": [
              "<div>\n",
              "<style scoped>\n",
              "    .dataframe tbody tr th:only-of-type {\n",
              "        vertical-align: middle;\n",
              "    }\n",
              "\n",
              "    .dataframe tbody tr th {\n",
              "        vertical-align: top;\n",
              "    }\n",
              "\n",
              "    .dataframe thead th {\n",
              "        text-align: right;\n",
              "    }\n",
              "</style>\n",
              "<table border=\"1\" class=\"dataframe\">\n",
              "  <thead>\n",
              "    <tr style=\"text-align: right;\">\n",
              "      <th></th>\n",
              "      <th>person</th>\n",
              "      <th>time</th>\n",
              "      <th>cumulative_transaction</th>\n",
              "      <th>reward</th>\n",
              "      <th>offers</th>\n",
              "      <th>offer_completed</th>\n",
              "      <th>offer_received</th>\n",
              "      <th>offer_viewed</th>\n",
              "      <th>age</th>\n",
              "      <th>income</th>\n",
              "      <th>...</th>\n",
              "      <th>offer_difficulty</th>\n",
              "      <th>offer_duration</th>\n",
              "      <th>web</th>\n",
              "      <th>email</th>\n",
              "      <th>mobile</th>\n",
              "      <th>social</th>\n",
              "      <th>bogo</th>\n",
              "      <th>discount</th>\n",
              "      <th>informational</th>\n",
              "      <th>total_transaction</th>\n",
              "    </tr>\n",
              "  </thead>\n",
              "  <tbody>\n",
              "    <tr>\n",
              "      <th>0</th>\n",
              "      <td>0009655768c64bdeb2e877511632db8f</td>\n",
              "      <td>7.0</td>\n",
              "      <td>0.00</td>\n",
              "      <td>0</td>\n",
              "      <td>5a8bc65990b245e5a138643cd4eb9837</td>\n",
              "      <td>0</td>\n",
              "      <td>1</td>\n",
              "      <td>0</td>\n",
              "      <td>33</td>\n",
              "      <td>72000.0</td>\n",
              "      <td>...</td>\n",
              "      <td>0.0</td>\n",
              "      <td>3.0</td>\n",
              "      <td>0.0</td>\n",
              "      <td>1.0</td>\n",
              "      <td>1.0</td>\n",
              "      <td>1.0</td>\n",
              "      <td>0.0</td>\n",
              "      <td>0.0</td>\n",
              "      <td>1.0</td>\n",
              "      <td>127.60</td>\n",
              "    </tr>\n",
              "    <tr>\n",
              "      <th>1</th>\n",
              "      <td>0009655768c64bdeb2e877511632db8f</td>\n",
              "      <td>8.0</td>\n",
              "      <td>0.00</td>\n",
              "      <td>0</td>\n",
              "      <td>5a8bc65990b245e5a138643cd4eb9837</td>\n",
              "      <td>0</td>\n",
              "      <td>0</td>\n",
              "      <td>1</td>\n",
              "      <td>33</td>\n",
              "      <td>72000.0</td>\n",
              "      <td>...</td>\n",
              "      <td>0.0</td>\n",
              "      <td>3.0</td>\n",
              "      <td>0.0</td>\n",
              "      <td>1.0</td>\n",
              "      <td>1.0</td>\n",
              "      <td>1.0</td>\n",
              "      <td>0.0</td>\n",
              "      <td>0.0</td>\n",
              "      <td>1.0</td>\n",
              "      <td>127.60</td>\n",
              "    </tr>\n",
              "    <tr>\n",
              "      <th>2</th>\n",
              "      <td>0009655768c64bdeb2e877511632db8f</td>\n",
              "      <td>14.0</td>\n",
              "      <td>22.16</td>\n",
              "      <td>0</td>\n",
              "      <td>3f207df678b143eea3cee63160fa8bed</td>\n",
              "      <td>0</td>\n",
              "      <td>1</td>\n",
              "      <td>0</td>\n",
              "      <td>33</td>\n",
              "      <td>72000.0</td>\n",
              "      <td>...</td>\n",
              "      <td>0.0</td>\n",
              "      <td>4.0</td>\n",
              "      <td>1.0</td>\n",
              "      <td>1.0</td>\n",
              "      <td>1.0</td>\n",
              "      <td>0.0</td>\n",
              "      <td>0.0</td>\n",
              "      <td>0.0</td>\n",
              "      <td>1.0</td>\n",
              "      <td>127.60</td>\n",
              "    </tr>\n",
              "    <tr>\n",
              "      <th>3</th>\n",
              "      <td>0009655768c64bdeb2e877511632db8f</td>\n",
              "      <td>16.0</td>\n",
              "      <td>22.16</td>\n",
              "      <td>0</td>\n",
              "      <td>3f207df678b143eea3cee63160fa8bed</td>\n",
              "      <td>0</td>\n",
              "      <td>0</td>\n",
              "      <td>1</td>\n",
              "      <td>33</td>\n",
              "      <td>72000.0</td>\n",
              "      <td>...</td>\n",
              "      <td>0.0</td>\n",
              "      <td>4.0</td>\n",
              "      <td>1.0</td>\n",
              "      <td>1.0</td>\n",
              "      <td>1.0</td>\n",
              "      <td>0.0</td>\n",
              "      <td>0.0</td>\n",
              "      <td>0.0</td>\n",
              "      <td>1.0</td>\n",
              "      <td>127.60</td>\n",
              "    </tr>\n",
              "    <tr>\n",
              "      <th>4</th>\n",
              "      <td>0009655768c64bdeb2e877511632db8f</td>\n",
              "      <td>17.0</td>\n",
              "      <td>22.16</td>\n",
              "      <td>0</td>\n",
              "      <td>f19421c1d4aa40978ebb69ca19b0e20d</td>\n",
              "      <td>0</td>\n",
              "      <td>1</td>\n",
              "      <td>0</td>\n",
              "      <td>33</td>\n",
              "      <td>72000.0</td>\n",
              "      <td>...</td>\n",
              "      <td>5.0</td>\n",
              "      <td>5.0</td>\n",
              "      <td>1.0</td>\n",
              "      <td>1.0</td>\n",
              "      <td>1.0</td>\n",
              "      <td>1.0</td>\n",
              "      <td>1.0</td>\n",
              "      <td>0.0</td>\n",
              "      <td>0.0</td>\n",
              "      <td>127.60</td>\n",
              "    </tr>\n",
              "    <tr>\n",
              "      <th>...</th>\n",
              "      <td>...</td>\n",
              "      <td>...</td>\n",
              "      <td>...</td>\n",
              "      <td>...</td>\n",
              "      <td>...</td>\n",
              "      <td>...</td>\n",
              "      <td>...</td>\n",
              "      <td>...</td>\n",
              "      <td>...</td>\n",
              "      <td>...</td>\n",
              "      <td>...</td>\n",
              "      <td>...</td>\n",
              "      <td>...</td>\n",
              "      <td>...</td>\n",
              "      <td>...</td>\n",
              "      <td>...</td>\n",
              "      <td>...</td>\n",
              "      <td>...</td>\n",
              "      <td>...</td>\n",
              "      <td>...</td>\n",
              "      <td>...</td>\n",
              "    </tr>\n",
              "    <tr>\n",
              "      <th>167576</th>\n",
              "      <td>ffff82501cea40309d5fdd7edcca4a07</td>\n",
              "      <td>21.0</td>\n",
              "      <td>182.81</td>\n",
              "      <td>1</td>\n",
              "      <td>9b98b8c7a33c4b65b9aebfe6a799e6d9</td>\n",
              "      <td>1</td>\n",
              "      <td>0</td>\n",
              "      <td>0</td>\n",
              "      <td>45</td>\n",
              "      <td>62000.0</td>\n",
              "      <td>...</td>\n",
              "      <td>5.0</td>\n",
              "      <td>7.0</td>\n",
              "      <td>1.0</td>\n",
              "      <td>1.0</td>\n",
              "      <td>1.0</td>\n",
              "      <td>0.0</td>\n",
              "      <td>1.0</td>\n",
              "      <td>0.0</td>\n",
              "      <td>0.0</td>\n",
              "      <td>226.07</td>\n",
              "    </tr>\n",
              "    <tr>\n",
              "      <th>167577</th>\n",
              "      <td>ffff82501cea40309d5fdd7edcca4a07</td>\n",
              "      <td>23.0</td>\n",
              "      <td>182.81</td>\n",
              "      <td>0</td>\n",
              "      <td>9b98b8c7a33c4b65b9aebfe6a799e6d9</td>\n",
              "      <td>0</td>\n",
              "      <td>0</td>\n",
              "      <td>1</td>\n",
              "      <td>45</td>\n",
              "      <td>62000.0</td>\n",
              "      <td>...</td>\n",
              "      <td>5.0</td>\n",
              "      <td>7.0</td>\n",
              "      <td>1.0</td>\n",
              "      <td>1.0</td>\n",
              "      <td>1.0</td>\n",
              "      <td>0.0</td>\n",
              "      <td>1.0</td>\n",
              "      <td>0.0</td>\n",
              "      <td>0.0</td>\n",
              "      <td>226.07</td>\n",
              "    </tr>\n",
              "    <tr>\n",
              "      <th>167578</th>\n",
              "      <td>ffff82501cea40309d5fdd7edcca4a07</td>\n",
              "      <td>24.0</td>\n",
              "      <td>182.81</td>\n",
              "      <td>0</td>\n",
              "      <td>2906b810c7d4411798c6938adc9daaa5</td>\n",
              "      <td>0</td>\n",
              "      <td>1</td>\n",
              "      <td>0</td>\n",
              "      <td>45</td>\n",
              "      <td>62000.0</td>\n",
              "      <td>...</td>\n",
              "      <td>10.0</td>\n",
              "      <td>7.0</td>\n",
              "      <td>1.0</td>\n",
              "      <td>1.0</td>\n",
              "      <td>1.0</td>\n",
              "      <td>0.0</td>\n",
              "      <td>0.0</td>\n",
              "      <td>1.0</td>\n",
              "      <td>0.0</td>\n",
              "      <td>226.07</td>\n",
              "    </tr>\n",
              "    <tr>\n",
              "      <th>167579</th>\n",
              "      <td>ffff82501cea40309d5fdd7edcca4a07</td>\n",
              "      <td>24.0</td>\n",
              "      <td>197.04</td>\n",
              "      <td>1</td>\n",
              "      <td>2906b810c7d4411798c6938adc9daaa5</td>\n",
              "      <td>1</td>\n",
              "      <td>0</td>\n",
              "      <td>0</td>\n",
              "      <td>45</td>\n",
              "      <td>62000.0</td>\n",
              "      <td>...</td>\n",
              "      <td>10.0</td>\n",
              "      <td>7.0</td>\n",
              "      <td>1.0</td>\n",
              "      <td>1.0</td>\n",
              "      <td>1.0</td>\n",
              "      <td>0.0</td>\n",
              "      <td>0.0</td>\n",
              "      <td>1.0</td>\n",
              "      <td>0.0</td>\n",
              "      <td>226.07</td>\n",
              "    </tr>\n",
              "    <tr>\n",
              "      <th>167580</th>\n",
              "      <td>ffff82501cea40309d5fdd7edcca4a07</td>\n",
              "      <td>25.0</td>\n",
              "      <td>197.04</td>\n",
              "      <td>0</td>\n",
              "      <td>2906b810c7d4411798c6938adc9daaa5</td>\n",
              "      <td>0</td>\n",
              "      <td>0</td>\n",
              "      <td>1</td>\n",
              "      <td>45</td>\n",
              "      <td>62000.0</td>\n",
              "      <td>...</td>\n",
              "      <td>10.0</td>\n",
              "      <td>7.0</td>\n",
              "      <td>1.0</td>\n",
              "      <td>1.0</td>\n",
              "      <td>1.0</td>\n",
              "      <td>0.0</td>\n",
              "      <td>0.0</td>\n",
              "      <td>1.0</td>\n",
              "      <td>0.0</td>\n",
              "      <td>226.07</td>\n",
              "    </tr>\n",
              "  </tbody>\n",
              "</table>\n",
              "<p>167581 rows × 25 columns</p>\n",
              "</div>"
            ],
            "text/plain": [
              "                                  person  time  cumulative_transaction  \\\n",
              "0       0009655768c64bdeb2e877511632db8f   7.0                    0.00   \n",
              "1       0009655768c64bdeb2e877511632db8f   8.0                    0.00   \n",
              "2       0009655768c64bdeb2e877511632db8f  14.0                   22.16   \n",
              "3       0009655768c64bdeb2e877511632db8f  16.0                   22.16   \n",
              "4       0009655768c64bdeb2e877511632db8f  17.0                   22.16   \n",
              "...                                  ...   ...                     ...   \n",
              "167576  ffff82501cea40309d5fdd7edcca4a07  21.0                  182.81   \n",
              "167577  ffff82501cea40309d5fdd7edcca4a07  23.0                  182.81   \n",
              "167578  ffff82501cea40309d5fdd7edcca4a07  24.0                  182.81   \n",
              "167579  ffff82501cea40309d5fdd7edcca4a07  24.0                  197.04   \n",
              "167580  ffff82501cea40309d5fdd7edcca4a07  25.0                  197.04   \n",
              "\n",
              "        reward                            offers  offer_completed  \\\n",
              "0            0  5a8bc65990b245e5a138643cd4eb9837                0   \n",
              "1            0  5a8bc65990b245e5a138643cd4eb9837                0   \n",
              "2            0  3f207df678b143eea3cee63160fa8bed                0   \n",
              "3            0  3f207df678b143eea3cee63160fa8bed                0   \n",
              "4            0  f19421c1d4aa40978ebb69ca19b0e20d                0   \n",
              "...        ...                               ...              ...   \n",
              "167576       1  9b98b8c7a33c4b65b9aebfe6a799e6d9                1   \n",
              "167577       0  9b98b8c7a33c4b65b9aebfe6a799e6d9                0   \n",
              "167578       0  2906b810c7d4411798c6938adc9daaa5                0   \n",
              "167579       1  2906b810c7d4411798c6938adc9daaa5                1   \n",
              "167580       0  2906b810c7d4411798c6938adc9daaa5                0   \n",
              "\n",
              "        offer_received  offer_viewed  age   income  ...  offer_difficulty  \\\n",
              "0                    1             0   33  72000.0  ...               0.0   \n",
              "1                    0             1   33  72000.0  ...               0.0   \n",
              "2                    1             0   33  72000.0  ...               0.0   \n",
              "3                    0             1   33  72000.0  ...               0.0   \n",
              "4                    1             0   33  72000.0  ...               5.0   \n",
              "...                ...           ...  ...      ...  ...               ...   \n",
              "167576               0             0   45  62000.0  ...               5.0   \n",
              "167577               0             1   45  62000.0  ...               5.0   \n",
              "167578               1             0   45  62000.0  ...              10.0   \n",
              "167579               0             0   45  62000.0  ...              10.0   \n",
              "167580               0             1   45  62000.0  ...              10.0   \n",
              "\n",
              "        offer_duration  web  email  mobile  social  bogo  discount  \\\n",
              "0                  3.0  0.0    1.0     1.0     1.0   0.0       0.0   \n",
              "1                  3.0  0.0    1.0     1.0     1.0   0.0       0.0   \n",
              "2                  4.0  1.0    1.0     1.0     0.0   0.0       0.0   \n",
              "3                  4.0  1.0    1.0     1.0     0.0   0.0       0.0   \n",
              "4                  5.0  1.0    1.0     1.0     1.0   1.0       0.0   \n",
              "...                ...  ...    ...     ...     ...   ...       ...   \n",
              "167576             7.0  1.0    1.0     1.0     0.0   1.0       0.0   \n",
              "167577             7.0  1.0    1.0     1.0     0.0   1.0       0.0   \n",
              "167578             7.0  1.0    1.0     1.0     0.0   0.0       1.0   \n",
              "167579             7.0  1.0    1.0     1.0     0.0   0.0       1.0   \n",
              "167580             7.0  1.0    1.0     1.0     0.0   0.0       1.0   \n",
              "\n",
              "        informational  total_transaction  \n",
              "0                 1.0             127.60  \n",
              "1                 1.0             127.60  \n",
              "2                 1.0             127.60  \n",
              "3                 1.0             127.60  \n",
              "4                 0.0             127.60  \n",
              "...               ...                ...  \n",
              "167576            0.0             226.07  \n",
              "167577            0.0             226.07  \n",
              "167578            0.0             226.07  \n",
              "167579            0.0             226.07  \n",
              "167580            0.0             226.07  \n",
              "\n",
              "[167581 rows x 25 columns]"
            ]
          },
          "execution_count": 140,
          "metadata": {},
          "output_type": "execute_result"
        }
      ],
      "source": [
        "#View the edited table to work with\n",
        "my_starbuck"
      ]
    },
    {
      "cell_type": "code",
      "execution_count": null,
      "metadata": {
        "colab": {
          "base_uri": "https://localhost:8080/"
        },
        "id": "1pj0iqXXi45_",
        "outputId": "515b7397-fcd7-41fc-d5e6-ecb9a602aeec"
      },
      "outputs": [
        {
          "name": "stdout",
          "output_type": "stream",
          "text": [
            "<class 'pandas.core.frame.DataFrame'>\n",
            "RangeIndex: 167581 entries, 0 to 167580\n",
            "Data columns (total 25 columns):\n",
            " #   Column                  Non-Null Count   Dtype   \n",
            "---  ------                  --------------   -----   \n",
            " 0   person                  167581 non-null  object  \n",
            " 1   time                    167581 non-null  float64 \n",
            " 2   cumulative_transaction  167581 non-null  float64 \n",
            " 3   reward                  167581 non-null  int64   \n",
            " 4   offers                  167581 non-null  category\n",
            " 5   offer_completed         167581 non-null  int64   \n",
            " 6   offer_received          167581 non-null  int64   \n",
            " 7   offer_viewed            167581 non-null  int64   \n",
            " 8   age                     167581 non-null  int64   \n",
            " 9   income                  167581 non-null  float64 \n",
            " 10  membership_duration     167581 non-null  int64   \n",
            " 11  Male                    167581 non-null  int64   \n",
            " 12  Female                  167581 non-null  int64   \n",
            " 13  Other                   167581 non-null  int64   \n",
            " 14  offer_reward            167581 non-null  float64 \n",
            " 15  offer_difficulty        167581 non-null  float64 \n",
            " 16  offer_duration          167581 non-null  float64 \n",
            " 17  web                     167581 non-null  float64 \n",
            " 18  email                   167581 non-null  float64 \n",
            " 19  mobile                  167581 non-null  float64 \n",
            " 20  social                  167581 non-null  float64 \n",
            " 21  bogo                    167581 non-null  float64 \n",
            " 22  discount                167581 non-null  float64 \n",
            " 23  informational           167581 non-null  float64 \n",
            " 24  total_transaction       167581 non-null  float64 \n",
            "dtypes: category(1), float64(14), int64(9), object(1)\n",
            "memory usage: 30.8+ MB\n"
          ]
        }
      ],
      "source": [
        "#View infographic of my source table\n",
        "my_starbuck.info()"
      ]
    },
    {
      "cell_type": "code",
      "execution_count": null,
      "metadata": {
        "id": "H8FXs6MAwSXN"
      },
      "outputs": [],
      "source": [
        "#Saving my source file as my_starbuck.csv file\n",
        "my_starbuck.to_csv(\"my_starbuck.csv\", index=False)"
      ]
    },
    {
      "cell_type": "code",
      "execution_count": null,
      "metadata": {
        "id": "D40oG5r8oVEB",
        "outputId": "a5389cc2-846c-4cf4-97a5-5354b012c342"
      },
      "outputs": [
        {
          "data": {
            "text/plain": [
              "'s3://sagemaker-us-east-1-201557610166/capstone/my_starbuck.csv'"
            ]
          },
          "execution_count": 145,
          "metadata": {},
          "output_type": "execute_result"
        }
      ],
      "source": [
        "#Uploading to s3\n",
        "sess.upload_data(path=\"my_starbuck.csv\", bucket=bucket, key_prefix=\"capstone\")"
      ]
    },
    {
      "cell_type": "markdown",
      "metadata": {
        "id": "7Bk1MHvqGx5w"
      },
      "source": [
        "# Data Analysis"
      ]
    },
    {
      "cell_type": "code",
      "execution_count": null,
      "metadata": {
        "colab": {
          "base_uri": "https://localhost:8080/",
          "height": 790
        },
        "id": "MgDvQGnKeAXB",
        "outputId": "48eba444-babd-4c5d-ad66-bf49167438d1"
      },
      "outputs": [
        {
          "name": "stdout",
          "output_type": "stream",
          "text": [
            "Transactions and offers receive/view/complete plots\n"
          ]
        },
        {
          "data": {
            "text/plain": [
              "array([[<AxesSubplot:title={'center':'time'}>,\n",
              "        <AxesSubplot:title={'center':'amount'}>,\n",
              "        <AxesSubplot:title={'center':'reward'}>],\n",
              "       [<AxesSubplot:title={'center':'offer_completed'}>,\n",
              "        <AxesSubplot:title={'center':'offer_received'}>,\n",
              "        <AxesSubplot:title={'center':'offer_viewed'}>],\n",
              "       [<AxesSubplot:title={'center':'transaction'}>, <AxesSubplot:>,\n",
              "        <AxesSubplot:>]], dtype=object)"
            ]
          },
          "execution_count": 4,
          "metadata": {},
          "output_type": "execute_result"
        },
        {
          "data": {
            "image/png": "[encoded data removed]",
            "text/plain": [
              "<Figure size 1080x720 with 9 Axes>"
            ]
          },
          "metadata": {
            "needs_background": "light"
          },
          "output_type": "display_data"
        }
      ],
      "source": [
        "print(\"Transactions and offers receive/view/complete plots\")\n",
        "transcript = pd.read_csv(\"transcript_edited.csv\")\n",
        "transcript[transcript[transcript.columns]!=0].hist(bins=40, figsize=(15, 10))"
      ]
    },
    {
      "cell_type": "code",
      "execution_count": null,
      "metadata": {
        "id": "ftJ5XJOroVEC",
        "outputId": "db747d95-5b42-4e9a-9d0f-f1ecd4358f55"
      },
      "outputs": [
        {
          "name": "stdout",
          "output_type": "stream",
          "text": [
            "You can see number of offers that people received, viewed or completed:\n"
          ]
        },
        {
          "data": {
            "text/plain": [
              "<matplotlib.legend.Legend at 0x7f34aa080828>"
            ]
          },
          "execution_count": 13,
          "metadata": {},
          "output_type": "execute_result"
        },
        {
          "data": {
            "image/png": "[encoded data removed]",
            "text/plain": [
              "<Figure size 576x432 with 1 Axes>"
            ]
          },
          "metadata": {
            "needs_background": "light"
          },
          "output_type": "display_data"
        }
      ],
      "source": [
        "print(\"You can see number of offers that people received, viewed or completed:\")\n",
        "plt.figure(figsize=(8,6))\n",
        "plt.hist(transcript.offer_received[transcript.offer_received!=0], bins=30, alpha=0.5, label=\"offer_received\")\n",
        "plt.hist(transcript.offer_viewed[transcript.offer_viewed!=0], bins=30, alpha=0.5, label=\"offer_viewed\")\n",
        "plt.hist(transcript.offer_completed[transcript.offer_completed!=0], bins=30, alpha=0.5, label=\"offer_completed\")\n",
        "plt.xlabel(\"Data\", size=14)\n",
        "plt.ylabel(\"Count\", size=14)\n",
        "plt.title(\"Multiple Histograms with Matplotlib\")\n",
        "plt.legend(loc='upper right')"
      ]
    },
    {
      "cell_type": "code",
      "execution_count": null,
      "metadata": {
        "id": "9w_apoaeoVED",
        "outputId": "e51b6eba-1128-43b9-c4cd-91f1e7c0ba22"
      },
      "outputs": [
        {
          "name": "stdout",
          "output_type": "stream",
          "text": [
            "portfolio table review\n"
          ]
        },
        {
          "data": {
            "text/html": [
              "<div>\n",
              "<style scoped>\n",
              "    .dataframe tbody tr th:only-of-type {\n",
              "        vertical-align: middle;\n",
              "    }\n",
              "\n",
              "    .dataframe tbody tr th {\n",
              "        vertical-align: top;\n",
              "    }\n",
              "\n",
              "    .dataframe thead th {\n",
              "        text-align: right;\n",
              "    }\n",
              "</style>\n",
              "<table border=\"1\" class=\"dataframe\">\n",
              "  <thead>\n",
              "    <tr style=\"text-align: right;\">\n",
              "      <th></th>\n",
              "      <th>offer_reward</th>\n",
              "      <th>offer_difficulty</th>\n",
              "      <th>offer_duration</th>\n",
              "      <th>id</th>\n",
              "      <th>web</th>\n",
              "      <th>email</th>\n",
              "      <th>mobile</th>\n",
              "      <th>social</th>\n",
              "      <th>bogo</th>\n",
              "      <th>discount</th>\n",
              "      <th>informational</th>\n",
              "    </tr>\n",
              "  </thead>\n",
              "  <tbody>\n",
              "    <tr>\n",
              "      <th>0</th>\n",
              "      <td>10</td>\n",
              "      <td>10</td>\n",
              "      <td>7</td>\n",
              "      <td>ae264e3637204a6fb9bb56bc8210ddfd</td>\n",
              "      <td>0</td>\n",
              "      <td>1</td>\n",
              "      <td>1</td>\n",
              "      <td>1</td>\n",
              "      <td>1</td>\n",
              "      <td>0</td>\n",
              "      <td>0</td>\n",
              "    </tr>\n",
              "    <tr>\n",
              "      <th>1</th>\n",
              "      <td>10</td>\n",
              "      <td>10</td>\n",
              "      <td>5</td>\n",
              "      <td>4d5c57ea9a6940dd891ad53e9dbe8da0</td>\n",
              "      <td>1</td>\n",
              "      <td>1</td>\n",
              "      <td>1</td>\n",
              "      <td>1</td>\n",
              "      <td>1</td>\n",
              "      <td>0</td>\n",
              "      <td>0</td>\n",
              "    </tr>\n",
              "    <tr>\n",
              "      <th>2</th>\n",
              "      <td>0</td>\n",
              "      <td>0</td>\n",
              "      <td>4</td>\n",
              "      <td>3f207df678b143eea3cee63160fa8bed</td>\n",
              "      <td>1</td>\n",
              "      <td>1</td>\n",
              "      <td>1</td>\n",
              "      <td>0</td>\n",
              "      <td>0</td>\n",
              "      <td>0</td>\n",
              "      <td>1</td>\n",
              "    </tr>\n",
              "    <tr>\n",
              "      <th>3</th>\n",
              "      <td>5</td>\n",
              "      <td>5</td>\n",
              "      <td>7</td>\n",
              "      <td>9b98b8c7a33c4b65b9aebfe6a799e6d9</td>\n",
              "      <td>1</td>\n",
              "      <td>1</td>\n",
              "      <td>1</td>\n",
              "      <td>0</td>\n",
              "      <td>1</td>\n",
              "      <td>0</td>\n",
              "      <td>0</td>\n",
              "    </tr>\n",
              "    <tr>\n",
              "      <th>4</th>\n",
              "      <td>5</td>\n",
              "      <td>20</td>\n",
              "      <td>10</td>\n",
              "      <td>0b1e1539f2cc45b7b9fa7c272da2e1d7</td>\n",
              "      <td>1</td>\n",
              "      <td>1</td>\n",
              "      <td>0</td>\n",
              "      <td>0</td>\n",
              "      <td>0</td>\n",
              "      <td>1</td>\n",
              "      <td>0</td>\n",
              "    </tr>\n",
              "    <tr>\n",
              "      <th>5</th>\n",
              "      <td>3</td>\n",
              "      <td>7</td>\n",
              "      <td>7</td>\n",
              "      <td>2298d6c36e964ae4a3e7e9706d1fb8c2</td>\n",
              "      <td>1</td>\n",
              "      <td>1</td>\n",
              "      <td>1</td>\n",
              "      <td>1</td>\n",
              "      <td>0</td>\n",
              "      <td>1</td>\n",
              "      <td>0</td>\n",
              "    </tr>\n",
              "    <tr>\n",
              "      <th>6</th>\n",
              "      <td>2</td>\n",
              "      <td>10</td>\n",
              "      <td>10</td>\n",
              "      <td>fafdcd668e3743c1bb461111dcafc2a4</td>\n",
              "      <td>1</td>\n",
              "      <td>1</td>\n",
              "      <td>1</td>\n",
              "      <td>1</td>\n",
              "      <td>0</td>\n",
              "      <td>1</td>\n",
              "      <td>0</td>\n",
              "    </tr>\n",
              "    <tr>\n",
              "      <th>7</th>\n",
              "      <td>0</td>\n",
              "      <td>0</td>\n",
              "      <td>3</td>\n",
              "      <td>5a8bc65990b245e5a138643cd4eb9837</td>\n",
              "      <td>0</td>\n",
              "      <td>1</td>\n",
              "      <td>1</td>\n",
              "      <td>1</td>\n",
              "      <td>0</td>\n",
              "      <td>0</td>\n",
              "      <td>1</td>\n",
              "    </tr>\n",
              "    <tr>\n",
              "      <th>8</th>\n",
              "      <td>5</td>\n",
              "      <td>5</td>\n",
              "      <td>5</td>\n",
              "      <td>f19421c1d4aa40978ebb69ca19b0e20d</td>\n",
              "      <td>1</td>\n",
              "      <td>1</td>\n",
              "      <td>1</td>\n",
              "      <td>1</td>\n",
              "      <td>1</td>\n",
              "      <td>0</td>\n",
              "      <td>0</td>\n",
              "    </tr>\n",
              "    <tr>\n",
              "      <th>9</th>\n",
              "      <td>2</td>\n",
              "      <td>10</td>\n",
              "      <td>7</td>\n",
              "      <td>2906b810c7d4411798c6938adc9daaa5</td>\n",
              "      <td>1</td>\n",
              "      <td>1</td>\n",
              "      <td>1</td>\n",
              "      <td>0</td>\n",
              "      <td>0</td>\n",
              "      <td>1</td>\n",
              "      <td>0</td>\n",
              "    </tr>\n",
              "  </tbody>\n",
              "</table>\n",
              "</div>"
            ],
            "text/plain": [
              "   offer_reward  offer_difficulty  offer_duration  \\\n",
              "0            10                10               7   \n",
              "1            10                10               5   \n",
              "2             0                 0               4   \n",
              "3             5                 5               7   \n",
              "4             5                20              10   \n",
              "5             3                 7               7   \n",
              "6             2                10              10   \n",
              "7             0                 0               3   \n",
              "8             5                 5               5   \n",
              "9             2                10               7   \n",
              "\n",
              "                                 id  web  email  mobile  social  bogo  \\\n",
              "0  ae264e3637204a6fb9bb56bc8210ddfd    0      1       1       1     1   \n",
              "1  4d5c57ea9a6940dd891ad53e9dbe8da0    1      1       1       1     1   \n",
              "2  3f207df678b143eea3cee63160fa8bed    1      1       1       0     0   \n",
              "3  9b98b8c7a33c4b65b9aebfe6a799e6d9    1      1       1       0     1   \n",
              "4  0b1e1539f2cc45b7b9fa7c272da2e1d7    1      1       0       0     0   \n",
              "5  2298d6c36e964ae4a3e7e9706d1fb8c2    1      1       1       1     0   \n",
              "6  fafdcd668e3743c1bb461111dcafc2a4    1      1       1       1     0   \n",
              "7  5a8bc65990b245e5a138643cd4eb9837    0      1       1       1     0   \n",
              "8  f19421c1d4aa40978ebb69ca19b0e20d    1      1       1       1     1   \n",
              "9  2906b810c7d4411798c6938adc9daaa5    1      1       1       0     0   \n",
              "\n",
              "   discount  informational  \n",
              "0         0              0  \n",
              "1         0              0  \n",
              "2         0              1  \n",
              "3         0              0  \n",
              "4         1              0  \n",
              "5         1              0  \n",
              "6         1              0  \n",
              "7         0              1  \n",
              "8         0              0  \n",
              "9         1              0  "
            ]
          },
          "execution_count": 4,
          "metadata": {},
          "output_type": "execute_result"
        }
      ],
      "source": [
        "print(\"portfolio table review\")\n",
        "portfolio = pd.read_csv(\"portfolio_edited.csv\")\n",
        "portfolio"
      ]
    },
    {
      "cell_type": "code",
      "execution_count": null,
      "metadata": {
        "colab": {
          "base_uri": "https://localhost:8080/",
          "height": 735
        },
        "id": "coXOk5GV6-cu",
        "outputId": "8c2ae3e1-c3d3-4964-82b0-b2ce6fccb802"
      },
      "outputs": [
        {
          "name": "stdout",
          "output_type": "stream",
          "text": [
            "Edited profile table's feature histograms:\n"
          ]
        },
        {
          "data": {
            "text/plain": [
              "array([[<AxesSubplot:title={'center':'age'}>,\n",
              "        <AxesSubplot:title={'center':'income'}>],\n",
              "       [<AxesSubplot:title={'center':'membership_duration'}>,\n",
              "        <AxesSubplot:title={'center':'Male'}>],\n",
              "       [<AxesSubplot:title={'center':'Female'}>,\n",
              "        <AxesSubplot:title={'center':'Other'}>]], dtype=object)"
            ]
          },
          "execution_count": 7,
          "metadata": {},
          "output_type": "execute_result"
        },
        {
          "data": {
            "image/png": "[encoded data removed]",
            "text/plain": [
              "<Figure size 1080x720 with 6 Axes>"
            ]
          },
          "metadata": {
            "needs_background": "light"
          },
          "output_type": "display_data"
        }
      ],
      "source": [
        "print(\"Edited profile table's feature histograms:\")\n",
        "profile = pd.read_csv(\"profile_edited.csv\")\n",
        "profile[profile[profile.columns]!=0].hist(bins=30, figsize=(15, 10))"
      ]
    },
    {
      "cell_type": "code",
      "execution_count": null,
      "metadata": {
        "id": "NtndPQsfnLkB",
        "outputId": "df930a2b-fc07-4563-b918-65acb8d6bec2"
      },
      "outputs": [
        {
          "name": "stdout",
          "output_type": "stream",
          "text": [
            "Histogram of all features\n"
          ]
        },
        {
          "data": {
            "text/plain": [
              "array([[<AxesSubplot:title={'center':'time'}>,\n",
              "        <AxesSubplot:title={'center':'cumulative_transaction'}>,\n",
              "        <AxesSubplot:title={'center':'reward'}>,\n",
              "        <AxesSubplot:title={'center':'offer_completed'}>,\n",
              "        <AxesSubplot:title={'center':'offer_received'}>],\n",
              "       [<AxesSubplot:title={'center':'offer_viewed'}>,\n",
              "        <AxesSubplot:title={'center':'age'}>,\n",
              "        <AxesSubplot:title={'center':'income'}>,\n",
              "        <AxesSubplot:title={'center':'membership_duration'}>,\n",
              "        <AxesSubplot:title={'center':'Male'}>],\n",
              "       [<AxesSubplot:title={'center':'Female'}>,\n",
              "        <AxesSubplot:title={'center':'Other'}>,\n",
              "        <AxesSubplot:title={'center':'offer_reward'}>,\n",
              "        <AxesSubplot:title={'center':'offer_difficulty'}>,\n",
              "        <AxesSubplot:title={'center':'offer_duration'}>],\n",
              "       [<AxesSubplot:title={'center':'web'}>,\n",
              "        <AxesSubplot:title={'center':'email'}>,\n",
              "        <AxesSubplot:title={'center':'mobile'}>,\n",
              "        <AxesSubplot:title={'center':'social'}>,\n",
              "        <AxesSubplot:title={'center':'bogo'}>],\n",
              "       [<AxesSubplot:title={'center':'discount'}>,\n",
              "        <AxesSubplot:title={'center':'informational'}>,\n",
              "        <AxesSubplot:title={'center':'total_transaction'}>,\n",
              "        <AxesSubplot:>, <AxesSubplot:>]], dtype=object)"
            ]
          },
          "execution_count": 91,
          "metadata": {},
          "output_type": "execute_result"
        },
        {
          "data": {
            "image/png": "[encoded data removed]",
            "text/plain": [
              "<Figure size 1080x720 with 25 Axes>"
            ]
          },
          "metadata": {
            "needs_background": "light"
          },
          "output_type": "display_data"
        }
      ],
      "source": [
        "#plot my source table (my_starbuck) feature histograms\n",
        "my_starbuck = pd.read_csv(\"my_starbuck.csv\")\n",
        "print(\"Histogram of all features\")\n",
        "my_starbuck[my_starbuck[my_starbuck.columns]!=0].hist(bins=30, figsize=(15, 10))"
      ]
    },
    {
      "cell_type": "code",
      "execution_count": null,
      "metadata": {
        "colab": {
          "base_uri": "https://localhost:8080/",
          "height": 356
        },
        "id": "DwbSVUJRSGBO",
        "outputId": "7f15b385-c603-4dd6-824f-8f3b8b10a374"
      },
      "outputs": [
        {
          "name": "stdout",
          "output_type": "stream",
          "text": [
            "Histogram of female customer's completed rewards \n"
          ]
        },
        {
          "data": {
            "text/plain": [
              "<AxesSubplot:>"
            ]
          },
          "execution_count": 9,
          "metadata": {},
          "output_type": "execute_result"
        },
        {
          "data": {
            "image/png": "[encoded data removed]",
            "text/plain": [
              "<Figure size 720x360 with 1 Axes>"
            ]
          },
          "metadata": {
            "needs_background": "light"
          },
          "output_type": "display_data"
        }
      ],
      "source": [
        "print(\"Histogram of female customer's completed rewards \")\n",
        "(my_starbuck[(my_starbuck['Female']==1) & (my_starbuck['reward']==1)]['offer_reward']).hist(bins=30, figsize=(10, 5))"
      ]
    },
    {
      "cell_type": "code",
      "execution_count": null,
      "metadata": {
        "colab": {
          "base_uri": "https://localhost:8080/",
          "height": 445
        },
        "id": "kiQZJPVzci5L",
        "outputId": "eb5688e4-b352-4a32-fb5b-66a208d12938"
      },
      "outputs": [
        {
          "name": "stdout",
          "output_type": "stream",
          "text": [
            "Histogram of female customer's completed offer types \n"
          ]
        },
        {
          "data": {
            "text/plain": [
              "array([[<AxesSubplot:title={'center':'bogo'}>,\n",
              "        <AxesSubplot:title={'center':'discount'}>],\n",
              "       [<AxesSubplot:title={'center':'informational'}>, <AxesSubplot:>]],\n",
              "      dtype=object)"
            ]
          },
          "execution_count": 12,
          "metadata": {},
          "output_type": "execute_result"
        },
        {
          "data": {
            "image/png": "[encoded data removed]",
            "text/plain": [
              "<Figure size 720x360 with 4 Axes>"
            ]
          },
          "metadata": {
            "needs_background": "light"
          },
          "output_type": "display_data"
        }
      ],
      "source": [
        "print(\"Histogram of female customer's completed offer types \")\n",
        "(my_starbuck[(my_starbuck['Female']==1) & (my_starbuck['reward']==1) ][['bogo',\t'discount',\t'informational']]).hist(bins=30, figsize=(10, 5))"
      ]
    },
    {
      "cell_type": "code",
      "execution_count": null,
      "metadata": {
        "colab": {
          "base_uri": "https://localhost:8080/",
          "height": 356
        },
        "id": "6pXcOTI1SrlM",
        "outputId": "0216bb7a-fdff-4cfb-8757-503b50b83407"
      },
      "outputs": [
        {
          "name": "stdout",
          "output_type": "stream",
          "text": [
            "Histogram of male customer's completed rewards \n"
          ]
        },
        {
          "data": {
            "text/plain": [
              "<AxesSubplot:>"
            ]
          },
          "execution_count": 13,
          "metadata": {},
          "output_type": "execute_result"
        },
        {
          "data": {
            "image/png": "[encoded data removed]",
            "text/plain": [
              "<Figure size 720x360 with 1 Axes>"
            ]
          },
          "metadata": {
            "needs_background": "light"
          },
          "output_type": "display_data"
        }
      ],
      "source": [
        "print(\"Histogram of male customer's completed rewards \")\n",
        "(my_starbuck[(my_starbuck['Male']==1) & (my_starbuck['reward']==1)]['offer_reward']).hist(bins=30, figsize=(10, 5))"
      ]
    },
    {
      "cell_type": "code",
      "execution_count": null,
      "metadata": {
        "colab": {
          "base_uri": "https://localhost:8080/",
          "height": 445
        },
        "id": "Xrd7tEmrdPkz",
        "outputId": "01d4f475-34fe-4b15-c4f9-443dff6ca5f1"
      },
      "outputs": [
        {
          "name": "stdout",
          "output_type": "stream",
          "text": [
            "Histogram of male customer's completed offer types \n"
          ]
        },
        {
          "data": {
            "text/plain": [
              "array([[<AxesSubplot:title={'center':'bogo'}>,\n",
              "        <AxesSubplot:title={'center':'discount'}>],\n",
              "       [<AxesSubplot:title={'center':'informational'}>, <AxesSubplot:>]],\n",
              "      dtype=object)"
            ]
          },
          "execution_count": 14,
          "metadata": {},
          "output_type": "execute_result"
        },
        {
          "data": {
            "image/png": "[encoded data removed]",
            "text/plain": [
              "<Figure size 720x360 with 4 Axes>"
            ]
          },
          "metadata": {
            "needs_background": "light"
          },
          "output_type": "display_data"
        }
      ],
      "source": [
        "print(\"Histogram of male customer's completed offer types \")\n",
        "(my_starbuck[(my_starbuck['Male']==1) & (my_starbuck['reward']==1) ][['bogo',\t'discount',\t'informational']]).hist(bins=30, figsize=(10, 5))"
      ]
    },
    {
      "cell_type": "markdown",
      "metadata": {
        "id": "fM3XTeX3-feZ"
      },
      "source": [
        "# Training with Scikit_Learn random forest model "
      ]
    },
    {
      "cell_type": "code",
      "execution_count": null,
      "metadata": {
        "id": "2eFrbFqNoVEF",
        "outputId": "b0bc4a82-909c-4c3f-ee22-4c25154dea7d"
      },
      "outputs": [
        {
          "data": {
            "text/plain": [
              "167581"
            ]
          },
          "execution_count": 142,
          "metadata": {},
          "output_type": "execute_result"
        }
      ],
      "source": [
        "my_starbuck = pd.read_csv(\"my_starbuck.csv\")\n",
        "len(my_starbuck)"
      ]
    },
    {
      "cell_type": "code",
      "execution_count": null,
      "metadata": {
        "id": "KjMVWLZfoVEM",
        "outputId": "d0717432-d881-4ed2-c8bf-e74e86587ee6"
      },
      "outputs": [
        {
          "name": "stdout",
          "output_type": "stream",
          "text": [
            "Number of rows containing Other genders:\n"
          ]
        },
        {
          "data": {
            "text/plain": [
              "2190"
            ]
          },
          "execution_count": 143,
          "metadata": {},
          "output_type": "execute_result"
        }
      ],
      "source": [
        "print(\"Number of rows containing Other genders:\")\n",
        "my_starbuck[(my_starbuck['Other']==1)]['person'].count()"
      ]
    },
    {
      "cell_type": "code",
      "execution_count": null,
      "metadata": {
        "colab": {
          "base_uri": "https://localhost:8080/",
          "height": 487
        },
        "id": "ephIDWxt6_Rj",
        "outputId": "0e3c7a6f-aa22-403d-cb89-1c290eb132ca"
      },
      "outputs": [
        {
          "name": "stdout",
          "output_type": "stream",
          "text": [
            "<class 'pandas.core.frame.DataFrame'>\n",
            "RangeIndex: 165391 entries, 0 to 165390\n",
            "Data columns (total 16 columns):\n",
            " #   Column                  Non-Null Count   Dtype  \n",
            "---  ------                  --------------   -----  \n",
            " 0   time                    165391 non-null  float64\n",
            " 1   cumulative_transaction  165391 non-null  float64\n",
            " 2   reward                  165391 non-null  int64  \n",
            " 3   age                     165391 non-null  int64  \n",
            " 4   income                  165391 non-null  float64\n",
            " 5   membership_duration     165391 non-null  int64  \n",
            " 6   Male                    165391 non-null  int64  \n",
            " 7   Female                  165391 non-null  int64  \n",
            " 8   offer_reward            165391 non-null  float64\n",
            " 9   offer_difficulty        165391 non-null  float64\n",
            " 10  offer_duration          165391 non-null  float64\n",
            " 11  web                     165391 non-null  float64\n",
            " 12  mobile                  165391 non-null  float64\n",
            " 13  social                  165391 non-null  float64\n",
            " 14  bogo                    165391 non-null  float64\n",
            " 15  discount                165391 non-null  float64\n",
            "dtypes: float64(11), int64(5)\n",
            "memory usage: 20.2 MB\n"
          ]
        }
      ],
      "source": [
        "#Reading my source table\n",
        "my_starbuck = pd.read_csv(\"my_starbuck.csv\")\n",
        "\n",
        "#Deleting the rows containing Other genders\n",
        "my_starbuck = my_starbuck.drop(my_starbuck[(my_starbuck['Other']==1)].index)\n",
        "\n",
        "#Reseting my goal table indexes\n",
        "my_starbuck.reset_index(drop=True, inplace=True)\n",
        "\n",
        "#drop unimportant and unnecessary columns\n",
        "my_starbuck = my_starbuck.drop([ 'person','offers', 'Other',  'email',\n",
        "                                'informational', 'offer_completed', 'offer_received', \n",
        "                                'offer_viewed', 'total_transaction',], axis=1)\n",
        "#Check my source table \"my_starbuck\"\n",
        "my_starbuck.info()"
      ]
    },
    {
      "cell_type": "code",
      "execution_count": null,
      "metadata": {
        "id": "QLd-cQUvKh9e"
      },
      "outputs": [],
      "source": [
        "#Do some preprocessing if necessary\n",
        "from sklearn import preprocessing\n",
        "\n",
        "#Normalizing some columns that contain big numbers\n",
        "x = my_starbuck[['income', 'age', 'time','membership_duration',]].values #returns a numpy array\n",
        "min_max_scaler = preprocessing.MinMaxScaler()\n",
        "x_scaled = min_max_scaler.fit_transform(x)\n",
        "normalized_columns = pd.DataFrame(x_scaled)\n",
        "\n",
        "data = my_starbuck.copy()\n",
        "data['income'] = normalized_columns[0]\n",
        "data['age'] = normalized_columns[1]\n",
        "data['time'] = normalized_columns[2]\n",
        "data['membership_duration'] = normalized_columns[3]\n",
        "data = data.round(5)"
      ]
    },
    {
      "cell_type": "code",
      "execution_count": null,
      "metadata": {
        "id": "ETp2XBp46-cy"
      },
      "outputs": [],
      "source": [
        "from sklearn.model_selection import train_test_split\n",
        "\n",
        "#splitting the data to train and test\n",
        "train, test = train_test_split(\n",
        "    data, test_size=0.25, random_state=42)"
      ]
    },
    {
      "cell_type": "code",
      "execution_count": null,
      "metadata": {
        "id": "4Tn-XxXqoVEO"
      },
      "outputs": [],
      "source": [
        "#Saving the train and test files to csv\n",
        "train.to_csv(\"train.csv\")\n",
        "test.to_csv(\"test.csv\")\n",
        "\n",
        "# Save data to S3, SageMaker will take training data from s3\n",
        "trainpath = sess.upload_data(\n",
        "    path=\"train.csv\", bucket=bucket, key_prefix=\"capstone\"\n",
        ")\n",
        "\n",
        "testpath = sess.upload_data(\n",
        "    path=\"test.csv\", bucket=bucket, key_prefix=\"capstone\"\n",
        ")\n",
        "#print(train.shape, test.shape)"
      ]
    },
    {
      "cell_type": "markdown",
      "metadata": {
        "id": "cxyw48GooVEO"
      },
      "source": [
        "## Write model training job on a RandomForestRegressor to script.py file"
      ]
    },
    {
      "cell_type": "code",
      "execution_count": null,
      "metadata": {
        "id": "G-mawn7doVEO",
        "outputId": "7793af92-4081-4f5e-ae84-2ce89bac1854"
      },
      "outputs": [
        {
          "name": "stdout",
          "output_type": "stream",
          "text": [
            "Overwriting script.py\n"
          ]
        }
      ],
      "source": [
        "%%writefile script.py\n",
        "\n",
        "import argparse\n",
        "import joblib\n",
        "import os\n",
        "\n",
        "import numpy as np\n",
        "import pandas as pd\n",
        "from sklearn.ensemble import RandomForestRegressor\n",
        "\n",
        "\n",
        "# inference functions ---------------\n",
        "def model_fn(model_dir):\n",
        "    clf = joblib.load(os.path.join(model_dir, \"model.joblib\"))\n",
        "    return clf\n",
        "\n",
        "\n",
        "if __name__ == \"__main__\":\n",
        "\n",
        "    print(\"extracting arguments\")\n",
        "    parser = argparse.ArgumentParser()\n",
        "\n",
        "    # hyperparameters sent by the client are passed as command-line arguments to the script.\n",
        "    # to simplify the demo we don't use all sklearn RandomForest hyperparameters\n",
        "    parser.add_argument(\"--n-estimators\", type=int, default=10)\n",
        "    parser.add_argument(\"--min-samples-leaf\", type=int, default=3)\n",
        "\n",
        "    # Data, model, and output directories\n",
        "    parser.add_argument(\"--model-dir\", type=str, default=os.environ.get(\"SM_MODEL_DIR\"))\n",
        "    parser.add_argument(\"--train\", type=str, default=os.environ.get(\"SM_CHANNEL_TRAIN\"))\n",
        "    parser.add_argument(\"--test\", type=str, default=os.environ.get(\"SM_CHANNEL_TEST\"))\n",
        "    parser.add_argument(\"--train-file\", type=str, default=\"train.csv\")\n",
        "    parser.add_argument(\"--test-file\", type=str, default=\"test.csv\")\n",
        "    parser.add_argument(\n",
        "        \"--features\", type=str\n",
        "    )  # in this script we ask user to explicitly name features\n",
        "    parser.add_argument(\n",
        "        \"--target\", type=str\n",
        "    )  # in this script we ask user to explicitly name the target\n",
        "\n",
        "    args, _ = parser.parse_known_args()\n",
        "\n",
        "    print(\"reading data\")\n",
        "    train_df = pd.read_csv(os.path.join(args.train, args.train_file))\n",
        "    test_df = pd.read_csv(os.path.join(args.test, args.test_file))\n",
        "\n",
        "    print(\"building training and testing datasets\")\n",
        "    X_train = train_df[args.features.split()]\n",
        "    X_test = test_df[args.features.split()]\n",
        "    y_train = train_df[args.target]\n",
        "    y_test = test_df[args.target]\n",
        "\n",
        "    # train\n",
        "    print(\"training model\")\n",
        "    model = RandomForestRegressor(\n",
        "        n_estimators=args.n_estimators, min_samples_leaf=args.min_samples_leaf, n_jobs=-1\n",
        "    )\n",
        "\n",
        "    model.fit(X_train, y_train)\n",
        "\n",
        "    # print abs error\n",
        "    print(\"validating model\")\n",
        "    abs_err = np.abs(model.predict(X_test) - y_test)\n",
        "\n",
        "    # print couple perf metrics\n",
        "    for q in [10, 50, 90]:\n",
        "        print(\"AE-at-\" + str(q) + \"th-percentile: \" + str(np.percentile(a=abs_err, q=q)))\n",
        "\n",
        "    # persist model\n",
        "    path = os.path.join(args.model_dir, \"model.joblib\")\n",
        "    joblib.dump(model, path)\n",
        "    print(\"model persisted at \" + path)\n",
        "    print(args.min_samples_leaf)\n",
        "\n"
      ]
    },
    {
      "cell_type": "code",
      "execution_count": null,
      "metadata": {
        "id": "_4EwR_n8oVEP",
        "outputId": "9b5e1cd4-7f26-4d97-81ed-3928aaa2bbef"
      },
      "outputs": [
        {
          "name": "stdout",
          "output_type": "stream",
          "text": [
            "train features:  Index(['time', 'cumulative_transaction', 'reward', 'age', 'income',\n",
            "       'membership_duration', 'Male', 'Female', 'offer_reward',\n",
            "       'offer_difficulty', 'offer_duration', 'web', 'mobile', 'social', 'bogo',\n",
            "       'discount'],\n",
            "      dtype='object')\n"
          ]
        }
      ],
      "source": [
        "print(\"train features: \", train.columns)\n",
        "feature_names = ['time', 'reward', 'age', 'income',\n",
        "       'membership_duration', 'Male', 'Female', 'offer_reward',\n",
        "       'offer_difficulty', 'offer_duration', 'web', 'mobile', 'social', 'bogo',\n",
        "       'discount' ]"
      ]
    },
    {
      "cell_type": "markdown",
      "metadata": {
        "id": "574UPrrvoVEP"
      },
      "source": [
        "## Local training"
      ]
    },
    {
      "cell_type": "code",
      "execution_count": null,
      "metadata": {
        "id": "dDDYMNSEoVEP",
        "outputId": "9ca9fcfa-efab-4045-e44c-ab38a1a8504c"
      },
      "outputs": [
        {
          "name": "stdout",
          "output_type": "stream",
          "text": [
            "extracting arguments\n",
            "reading data\n",
            "building training and testing datasets\n",
            "training model\n",
            "validating model\n",
            "AE-at-10th-percentile: 0.16653535714286247\n",
            "AE-at-50th-percentile: 14.753534285714306\n",
            "AE-at-90th-percentile: 66.80788100288605\n",
            "model persisted at ./model.joblib\n",
            "2\n"
          ]
        }
      ],
      "source": [
        "! python script.py --n-estimators 100 \\\n",
        "                   --min-samples-leaf 2 \\\n",
        "                   --model-dir ./ \\\n",
        "                   --train ./ \\\n",
        "                   --test ./ \\\n",
        "                   --features 'time reward age income membership_duration Male Female offer_reward offer_difficulty offer_duration web mobile social bogo discount' \\\n",
        "                   --target cumulative_transaction"
      ]
    },
    {
      "cell_type": "markdown",
      "metadata": {
        "id": "tztKy4iNoVEQ"
      },
      "source": [
        "## Launch a Tuning Job"
      ]
    },
    {
      "cell_type": "code",
      "execution_count": null,
      "metadata": {
        "id": "05bRvAVloVEQ"
      },
      "outputs": [],
      "source": [
        "# We use the Estimator from the SageMaker Python SDK\n",
        "from sagemaker.sklearn.estimator import SKLearn\n",
        "\n",
        "FRAMEWORK_VERSION = \"0.23-1\"\n",
        "hyperparameters = {\"n-estimators\": 147, \\\n",
        "                   \"min-samples-leaf\":  2, \\\n",
        "                  \"features\": 'time reward age income membership_duration Male Female offer_reward offer_difficulty offer_duration web mobile social bogo discount' , \\\n",
        "                   \"target\": 'cumulative_transaction', }\n",
        "\n",
        "sklearn_estimator = SKLearn(\n",
        "    entry_point=\"script.py\",\n",
        "    role=get_execution_role(),\n",
        "    instance_count=1,\n",
        "    instance_type=\"ml.m4.xlarge\",#\"ml.c5.xlarge\",#\"ml.m4.xlarge\",\n",
        "    framework_version=FRAMEWORK_VERSION,\n",
        "    base_job_name=\"train-star\",\n",
        "    metric_definitions=[{\"Name\": \"median-AE\", \"Regex\": \"AE-at-50th-percentile: ([0-9.]+).*$\"}],\n",
        "    hyperparameters=hyperparameters,\n",
        ")\n"
      ]
    },
    {
      "cell_type": "code",
      "execution_count": null,
      "metadata": {
        "id": "si_-CkGNoVEQ"
      },
      "outputs": [],
      "source": [
        "# we use the Hyperparameter Tuner\n",
        "from sagemaker.tuner import IntegerParameter\n",
        "\n",
        "# Define exploration boundaries\n",
        "hyperparameter_ranges = {\n",
        "    \"n-estimators\": IntegerParameter(20, 200),\n",
        "    \"min-samples-leaf\": IntegerParameter(2, 10),\n",
        "}\n",
        "\n",
        "# create Optimizer\n",
        "Optimizer = sagemaker.tuner.HyperparameterTuner(\n",
        "    estimator=sklearn_estimator,\n",
        "    hyperparameter_ranges=hyperparameter_ranges,\n",
        "    base_tuning_job_name=\"tuner-star\",\n",
        "    objective_type=\"Minimize\",\n",
        "    objective_metric_name=\"median-AE\",\n",
        "    metric_definitions=[\n",
        "        {\"Name\": \"median-AE\", \"Regex\": \"AE-at-50th-percentile: ([0-9.]+).*$\"}\n",
        "    ],  # extract tracked metric from logs with regexp\n",
        "    max_jobs=10,\n",
        "    max_parallel_jobs=2,\n",
        ")"
      ]
    },
    {
      "cell_type": "code",
      "execution_count": null,
      "metadata": {
        "id": "ve6Hxcy6oVER",
        "outputId": "3756f1f3-7f20-41eb-e892-41794781429a"
      },
      "outputs": [
        {
          "name": "stdout",
          "output_type": "stream",
          "text": [
            "..............................................................................................................................!\n",
            "0.6400000000000006\n"
          ]
        }
      ],
      "source": [
        "import time\n",
        "tic = time.clock()\n",
        "\n",
        "Optimizer.fit({\"train\": trainpath, \"test\": testpath})\n",
        "\n",
        "toc = time.clock()\n",
        "print(toc - tic)"
      ]
    },
    {
      "cell_type": "code",
      "execution_count": null,
      "metadata": {
        "id": "l-melOIeoVER",
        "outputId": "a30ea8ff-14e0-448f-b168-a5e300c42037"
      },
      "outputs": [
        {
          "data": {
            "text/html": [
              "<div>\n",
              "<style scoped>\n",
              "    .dataframe tbody tr th:only-of-type {\n",
              "        vertical-align: middle;\n",
              "    }\n",
              "\n",
              "    .dataframe tbody tr th {\n",
              "        vertical-align: top;\n",
              "    }\n",
              "\n",
              "    .dataframe thead th {\n",
              "        text-align: right;\n",
              "    }\n",
              "</style>\n",
              "<table border=\"1\" class=\"dataframe\">\n",
              "  <thead>\n",
              "    <tr style=\"text-align: right;\">\n",
              "      <th></th>\n",
              "      <th>min-samples-leaf</th>\n",
              "      <th>n-estimators</th>\n",
              "      <th>TrainingJobName</th>\n",
              "      <th>TrainingJobStatus</th>\n",
              "      <th>FinalObjectiveValue</th>\n",
              "      <th>TrainingStartTime</th>\n",
              "      <th>TrainingEndTime</th>\n",
              "      <th>TrainingElapsedTimeSeconds</th>\n",
              "    </tr>\n",
              "  </thead>\n",
              "  <tbody>\n",
              "    <tr>\n",
              "      <th>0</th>\n",
              "      <td>2.0</td>\n",
              "      <td>149.0</td>\n",
              "      <td>tuner-star-220212-1631-010-14b18466</td>\n",
              "      <td>Completed</td>\n",
              "      <td>14.619602</td>\n",
              "      <td>2022-02-12 16:57:49+00:00</td>\n",
              "      <td>2022-02-12 17:00:33+00:00</td>\n",
              "      <td>164.0</td>\n",
              "    </tr>\n",
              "    <tr>\n",
              "      <th>1</th>\n",
              "      <td>2.0</td>\n",
              "      <td>144.0</td>\n",
              "      <td>tuner-star-220212-1631-009-5f6264cf</td>\n",
              "      <td>Completed</td>\n",
              "      <td>14.598150</td>\n",
              "      <td>2022-02-12 16:56:01+00:00</td>\n",
              "      <td>2022-02-12 16:59:24+00:00</td>\n",
              "      <td>203.0</td>\n",
              "    </tr>\n",
              "    <tr>\n",
              "      <th>2</th>\n",
              "      <td>2.0</td>\n",
              "      <td>147.0</td>\n",
              "      <td>tuner-star-220212-1631-008-f423754e</td>\n",
              "      <td>Completed</td>\n",
              "      <td>14.565795</td>\n",
              "      <td>2022-02-12 16:51:41+00:00</td>\n",
              "      <td>2022-02-12 16:54:23+00:00</td>\n",
              "      <td>162.0</td>\n",
              "    </tr>\n",
              "    <tr>\n",
              "      <th>3</th>\n",
              "      <td>2.0</td>\n",
              "      <td>190.0</td>\n",
              "      <td>tuner-star-220212-1631-007-b1bdb91a</td>\n",
              "      <td>Completed</td>\n",
              "      <td>14.626628</td>\n",
              "      <td>2022-02-12 16:49:57+00:00</td>\n",
              "      <td>2022-02-12 16:52:59+00:00</td>\n",
              "      <td>182.0</td>\n",
              "    </tr>\n",
              "    <tr>\n",
              "      <th>4</th>\n",
              "      <td>2.0</td>\n",
              "      <td>174.0</td>\n",
              "      <td>tuner-star-220212-1631-006-16544424</td>\n",
              "      <td>Completed</td>\n",
              "      <td>14.662675</td>\n",
              "      <td>2022-02-12 16:45:37+00:00</td>\n",
              "      <td>2022-02-12 16:48:24+00:00</td>\n",
              "      <td>167.0</td>\n",
              "    </tr>\n",
              "  </tbody>\n",
              "</table>\n",
              "</div>"
            ],
            "text/plain": [
              "   min-samples-leaf  n-estimators                      TrainingJobName  \\\n",
              "0               2.0         149.0  tuner-star-220212-1631-010-14b18466   \n",
              "1               2.0         144.0  tuner-star-220212-1631-009-5f6264cf   \n",
              "2               2.0         147.0  tuner-star-220212-1631-008-f423754e   \n",
              "3               2.0         190.0  tuner-star-220212-1631-007-b1bdb91a   \n",
              "4               2.0         174.0  tuner-star-220212-1631-006-16544424   \n",
              "\n",
              "  TrainingJobStatus  FinalObjectiveValue         TrainingStartTime  \\\n",
              "0         Completed            14.619602 2022-02-12 16:57:49+00:00   \n",
              "1         Completed            14.598150 2022-02-12 16:56:01+00:00   \n",
              "2         Completed            14.565795 2022-02-12 16:51:41+00:00   \n",
              "3         Completed            14.626628 2022-02-12 16:49:57+00:00   \n",
              "4         Completed            14.662675 2022-02-12 16:45:37+00:00   \n",
              "\n",
              "            TrainingEndTime  TrainingElapsedTimeSeconds  \n",
              "0 2022-02-12 17:00:33+00:00                       164.0  \n",
              "1 2022-02-12 16:59:24+00:00                       203.0  \n",
              "2 2022-02-12 16:54:23+00:00                       162.0  \n",
              "3 2022-02-12 16:52:59+00:00                       182.0  \n",
              "4 2022-02-12 16:48:24+00:00                       167.0  "
            ]
          },
          "execution_count": 71,
          "metadata": {},
          "output_type": "execute_result"
        }
      ],
      "source": [
        "# get tuner results in a df\n",
        "results = Optimizer.analytics().dataframe()\n",
        "while results.empty:\n",
        "    time.sleep(1)\n",
        "    results = Optimizer.analytics().dataframe()\n",
        "results.head()\n"
      ]
    },
    {
      "cell_type": "code",
      "execution_count": null,
      "metadata": {
        "id": "JKo6oBNGoVES",
        "outputId": "2dcf8eb8-0e6a-472d-bf18-9318ff482c77"
      },
      "outputs": [
        {
          "name": "stdout",
          "output_type": "stream",
          "text": [
            "\n",
            "2022-02-12 16:54:23 Starting - Preparing the instances for training\n",
            "2022-02-12 16:54:23 Downloading - Downloading input data\n",
            "2022-02-12 16:54:23 Training - Training image download completed. Training in progress.\n",
            "2022-02-12 16:54:23 Uploading - Uploading generated training model\n",
            "2022-02-12 16:54:23 Completed - Training job completed\n"
          ]
        }
      ],
      "source": [
        "best_estimator=Optimizer.best_estimator()"
      ]
    },
    {
      "cell_type": "code",
      "execution_count": null,
      "metadata": {
        "id": "43i97_haoVES",
        "outputId": "a5f0e1ef-41bb-48b6-9c7e-60b26923e614"
      },
      "outputs": [
        {
          "data": {
            "text/plain": [
              "{'_tuning_objective_metric': '\"median-AE\"',\n",
              " 'features': '\"time reward age income membership_duration Male Female offer_reward offer_difficulty offer_duration web mobile social bogo discount\"',\n",
              " 'min-samples-leaf': '2',\n",
              " 'n-estimators': '147',\n",
              " 'sagemaker_container_log_level': '20',\n",
              " 'sagemaker_estimator_class_name': '\"SKLearn\"',\n",
              " 'sagemaker_estimator_module': '\"sagemaker.sklearn.estimator\"',\n",
              " 'sagemaker_job_name': '\"train-star-2022-02-12-16-31-17-481\"',\n",
              " 'sagemaker_program': '\"script.py\"',\n",
              " 'sagemaker_region': '\"us-east-1\"',\n",
              " 'sagemaker_submit_directory': '\"s3://sagemaker-us-east-1-201557610166/train-star-2022-02-12-16-31-17-481/source/sourcedir.tar.gz\"',\n",
              " 'target': '\"cumulative_transaction\"'}"
            ]
          },
          "execution_count": 73,
          "metadata": {},
          "output_type": "execute_result"
        }
      ],
      "source": [
        "best_estimator.hyperparameters()"
      ]
    },
    {
      "cell_type": "code",
      "execution_count": null,
      "metadata": {
        "id": "CZqCb6HGoVES",
        "outputId": "92fcac03-9f89-451f-af5b-8bc8d2a80b2a"
      },
      "outputs": [
        {
          "data": {
            "text/plain": [
              "{'n-estimators': 147,\n",
              " 'min-samples-leaf': 2,\n",
              " 'features': 'time reward age income membership_duration Male Female offer_reward offer_difficulty offer_duration web mobile social bogo discount',\n",
              " 'target': 'cumulative_transaction'}"
            ]
          },
          "execution_count": 74,
          "metadata": {},
          "output_type": "execute_result"
        }
      ],
      "source": [
        "hyperparameters = {\"n-estimators\": int(best_estimator.hyperparameters()['n-estimators'].replace('\"', '')), \\\n",
        "                   \"min-samples-leaf\":  int(best_estimator.hyperparameters()['min-samples-leaf'].replace('\"', '')), \\\n",
        "                  \"features\": best_estimator.hyperparameters()['features'].replace('\"', ''), \\\n",
        "                   \"target\": best_estimator.hyperparameters()['target'].replace('\"', ''), }\n",
        "hyperparameters"
      ]
    },
    {
      "cell_type": "markdown",
      "metadata": {
        "id": "CY2al9KcoVES"
      },
      "source": [
        "## Launching a training job on best hyperparameters"
      ]
    },
    {
      "cell_type": "code",
      "execution_count": null,
      "metadata": {
        "scrolled": true,
        "id": "oNkkuKgFoVET",
        "outputId": "24710bff-50ff-4add-f25b-b6e33a98c0e9"
      },
      "outputs": [
        {
          "name": "stdout",
          "output_type": "stream",
          "text": [
            "2022-02-13 02:43:41 Starting - Starting the training job...\n",
            "2022-02-13 02:44:05 Starting - Launching requested ML instancesProfilerReport-1644720221: InProgress\n",
            "......\n",
            "2022-02-13 02:45:11 Starting - Preparing the instances for training............\n",
            "2022-02-13 02:47:06 Downloading - Downloading input data\n",
            "2022-02-13 02:47:06 Training - Downloading the training image.....\u001b[34m2022-02-13 02:47:47,454 sagemaker-containers INFO     Imported framework sagemaker_sklearn_container.training\u001b[0m\n",
            "\u001b[34m2022-02-13 02:47:47,456 sagemaker-training-toolkit INFO     No GPUs detected (normal if no gpus installed)\u001b[0m\n",
            "\u001b[34m2022-02-13 02:47:47,469 sagemaker_sklearn_container.training INFO     Invoking user training script.\u001b[0m\n",
            "\u001b[34m2022-02-13 02:47:47,864 sagemaker-training-toolkit INFO     No GPUs detected (normal if no gpus installed)\u001b[0m\n",
            "\u001b[34m2022-02-13 02:47:47,878 sagemaker-training-toolkit INFO     No GPUs detected (normal if no gpus installed)\u001b[0m\n",
            "\u001b[34m2022-02-13 02:47:47,893 sagemaker-training-toolkit INFO     No GPUs detected (normal if no gpus installed)\u001b[0m\n",
            "\u001b[34m2022-02-13 02:47:47,905 sagemaker-training-toolkit INFO     Invoking user script\u001b[0m\n",
            "\u001b[34mTraining Env:\u001b[0m\n",
            "\u001b[34m{\n",
            "    \"additional_framework_parameters\": {},\n",
            "    \"channel_input_dirs\": {\n",
            "        \"test\": \"/opt/ml/input/data/test\",\n",
            "        \"train\": \"/opt/ml/input/data/train\"\n",
            "    },\n",
            "    \"current_host\": \"algo-1\",\n",
            "    \"framework_module\": \"sagemaker_sklearn_container.training:main\",\n",
            "    \"hosts\": [\n",
            "        \"algo-1\"\n",
            "    ],\n",
            "    \"hyperparameters\": {\n",
            "        \"features\": \"time reward age income membership_duration Male Female offer_reward offer_difficulty offer_duration web mobile social bogo discount\",\n",
            "        \"n-estimators\": 147,\n",
            "        \"min-samples-leaf\": 2,\n",
            "        \"target\": \"cumulative_transaction\"\n",
            "    },\n",
            "    \"input_config_dir\": \"/opt/ml/input/config\",\n",
            "    \"input_data_config\": {\n",
            "        \"test\": {\n",
            "            \"TrainingInputMode\": \"File\",\n",
            "            \"S3DistributionType\": \"FullyReplicated\",\n",
            "            \"RecordWrapperType\": \"None\"\n",
            "        },\n",
            "        \"train\": {\n",
            "            \"TrainingInputMode\": \"File\",\n",
            "            \"S3DistributionType\": \"FullyReplicated\",\n",
            "            \"RecordWrapperType\": \"None\"\n",
            "        }\n",
            "    },\n",
            "    \"input_dir\": \"/opt/ml/input\",\n",
            "    \"is_master\": true,\n",
            "    \"job_name\": \"train-star-2022-02-13-02-43-41-075\",\n",
            "    \"log_level\": 20,\n",
            "    \"master_hostname\": \"algo-1\",\n",
            "    \"model_dir\": \"/opt/ml/model\",\n",
            "    \"module_dir\": \"s3://sagemaker-us-east-1-201557610166/train-star-2022-02-13-02-43-41-075/source/sourcedir.tar.gz\",\n",
            "    \"module_name\": \"script\",\n",
            "    \"network_interface_name\": \"eth0\",\n",
            "    \"num_cpus\": 4,\n",
            "    \"num_gpus\": 0,\n",
            "    \"output_data_dir\": \"/opt/ml/output/data\",\n",
            "    \"output_dir\": \"/opt/ml/output\",\n",
            "    \"output_intermediate_dir\": \"/opt/ml/output/intermediate\",\n",
            "    \"resource_config\": {\n",
            "        \"current_host\": \"algo-1\",\n",
            "        \"hosts\": [\n",
            "            \"algo-1\"\n",
            "        ],\n",
            "        \"network_interface_name\": \"eth0\"\n",
            "    },\n",
            "    \"user_entry_point\": \"script.py\"\u001b[0m\n",
            "\u001b[34m}\u001b[0m\n",
            "\u001b[34mEnvironment variables:\u001b[0m\n",
            "\u001b[34mSM_HOSTS=[\"algo-1\"]\u001b[0m\n",
            "\u001b[34mSM_NETWORK_INTERFACE_NAME=eth0\u001b[0m\n",
            "\u001b[34mSM_HPS={\"features\":\"time reward age income membership_duration Male Female offer_reward offer_difficulty offer_duration web mobile social bogo discount\",\"min-samples-leaf\":2,\"n-estimators\":147,\"target\":\"cumulative_transaction\"}\u001b[0m\n",
            "\u001b[34mSM_USER_ENTRY_POINT=script.py\u001b[0m\n",
            "\u001b[34mSM_FRAMEWORK_PARAMS={}\u001b[0m\n",
            "\u001b[34mSM_RESOURCE_CONFIG={\"current_host\":\"algo-1\",\"hosts\":[\"algo-1\"],\"network_interface_name\":\"eth0\"}\u001b[0m\n",
            "\u001b[34mSM_INPUT_DATA_CONFIG={\"test\":{\"RecordWrapperType\":\"None\",\"S3DistributionType\":\"FullyReplicated\",\"TrainingInputMode\":\"File\"},\"train\":{\"RecordWrapperType\":\"None\",\"S3DistributionType\":\"FullyReplicated\",\"TrainingInputMode\":\"File\"}}\u001b[0m\n",
            "\u001b[34mSM_OUTPUT_DATA_DIR=/opt/ml/output/data\u001b[0m\n",
            "\u001b[34mSM_CHANNELS=[\"test\",\"train\"]\u001b[0m\n",
            "\u001b[34mSM_CURRENT_HOST=algo-1\u001b[0m\n",
            "\u001b[34mSM_MODULE_NAME=script\u001b[0m\n",
            "\u001b[34mSM_LOG_LEVEL=20\u001b[0m\n",
            "\u001b[34mSM_FRAMEWORK_MODULE=sagemaker_sklearn_container.training:main\u001b[0m\n",
            "\u001b[34mSM_INPUT_DIR=/opt/ml/input\u001b[0m\n",
            "\u001b[34mSM_INPUT_CONFIG_DIR=/opt/ml/input/config\u001b[0m\n",
            "\u001b[34mSM_OUTPUT_DIR=/opt/ml/output\u001b[0m\n",
            "\u001b[34mSM_NUM_CPUS=4\u001b[0m\n",
            "\u001b[34mSM_NUM_GPUS=0\u001b[0m\n",
            "\u001b[34mSM_MODEL_DIR=/opt/ml/model\u001b[0m\n",
            "\u001b[34mSM_MODULE_DIR=s3://sagemaker-us-east-1-201557610166/train-star-2022-02-13-02-43-41-075/source/sourcedir.tar.gz\u001b[0m\n",
            "\u001b[34mSM_TRAINING_ENV={\"additional_framework_parameters\":{},\"channel_input_dirs\":{\"test\":\"/opt/ml/input/data/test\",\"train\":\"/opt/ml/input/data/train\"},\"current_host\":\"algo-1\",\"framework_module\":\"sagemaker_sklearn_container.training:main\",\"hosts\":[\"algo-1\"],\"hyperparameters\":{\"features\":\"time reward age income membership_duration Male Female offer_reward offer_difficulty offer_duration web mobile social bogo discount\",\"min-samples-leaf\":2,\"n-estimators\":147,\"target\":\"cumulative_transaction\"},\"input_config_dir\":\"/opt/ml/input/config\",\"input_data_config\":{\"test\":{\"RecordWrapperType\":\"None\",\"S3DistributionType\":\"FullyReplicated\",\"TrainingInputMode\":\"File\"},\"train\":{\"RecordWrapperType\":\"None\",\"S3DistributionType\":\"FullyReplicated\",\"TrainingInputMode\":\"File\"}},\"input_dir\":\"/opt/ml/input\",\"is_master\":true,\"job_name\":\"train-star-2022-02-13-02-43-41-075\",\"log_level\":20,\"master_hostname\":\"algo-1\",\"model_dir\":\"/opt/ml/model\",\"module_dir\":\"s3://sagemaker-us-east-1-201557610166/train-star-2022-02-13-02-43-41-075/source/sourcedir.tar.gz\",\"module_name\":\"script\",\"network_interface_name\":\"eth0\",\"num_cpus\":4,\"num_gpus\":0,\"output_data_dir\":\"/opt/ml/output/data\",\"output_dir\":\"/opt/ml/output\",\"output_intermediate_dir\":\"/opt/ml/output/intermediate\",\"resource_config\":{\"current_host\":\"algo-1\",\"hosts\":[\"algo-1\"],\"network_interface_name\":\"eth0\"},\"user_entry_point\":\"script.py\"}\u001b[0m\n",
            "\u001b[34mSM_USER_ARGS=[\"--features\",\"time reward age income membership_duration Male Female offer_reward offer_difficulty offer_duration web mobile social bogo discount\",\"--min-samples-leaf\",\"2\",\"--n-estimators\",\"147\",\"--target\",\"cumulative_transaction\"]\u001b[0m\n",
            "\u001b[34mSM_OUTPUT_INTERMEDIATE_DIR=/opt/ml/output/intermediate\u001b[0m\n",
            "\u001b[34mSM_CHANNEL_TEST=/opt/ml/input/data/test\u001b[0m\n",
            "\u001b[34mSM_CHANNEL_TRAIN=/opt/ml/input/data/train\u001b[0m\n",
            "\u001b[34mSM_HP_FEATURES=time reward age income membership_duration Male Female offer_reward offer_difficulty offer_duration web mobile social bogo discount\u001b[0m\n",
            "\u001b[34mSM_HP_N-ESTIMATORS=147\u001b[0m\n",
            "\u001b[34mSM_HP_MIN-SAMPLES-LEAF=2\u001b[0m\n",
            "\u001b[34mSM_HP_TARGET=cumulative_transaction\u001b[0m\n",
            "\u001b[34mPYTHONPATH=/opt/ml/code:/miniconda3/bin:/miniconda3/lib/python37.zip:/miniconda3/lib/python3.7:/miniconda3/lib/python3.7/lib-dynload:/miniconda3/lib/python3.7/site-packages\u001b[0m\n",
            "\u001b[34mInvoking script with the following command:\u001b[0m\n",
            "\u001b[34m/miniconda3/bin/python script.py --features time reward age income membership_duration Male Female offer_reward offer_difficulty offer_duration web mobile social bogo discount --min-samples-leaf 2 --n-estimators 147 --target cumulative_transaction\u001b[0m\n",
            "\u001b[34mextracting arguments\u001b[0m\n",
            "\u001b[34mreading data\u001b[0m\n",
            "\u001b[34mbuilding training and testing datasets\u001b[0m\n",
            "\u001b[34mtraining model\u001b[0m\n",
            "\n",
            "2022-02-13 02:48:06 Training - Training image download completed. Training in progress.\u001b[34mvalidating model\u001b[0m\n",
            "\u001b[34mAE-at-10th-percentile: 0.16901103012633623\u001b[0m\n",
            "\u001b[34mAE-at-50th-percentile: 14.864610946687506\u001b[0m\n",
            "\u001b[34mAE-at-90th-percentile: 66.57248138429976\u001b[0m\n",
            "\u001b[34mmodel persisted at /opt/ml/model/model.joblib\u001b[0m\n",
            "\u001b[34m2\u001b[0m\n",
            "\u001b[34m2022-02-13 02:48:16,184 sagemaker-containers INFO     Reporting training SUCCESS\u001b[0m\n",
            "\n",
            "2022-02-13 02:48:26 Uploading - Uploading generated training model\n",
            "2022-02-13 02:49:13 Completed - Training job completed\n",
            "Training seconds: 148\n",
            "Billable seconds: 148\n",
            "0.7100000000000009\n"
          ]
        }
      ],
      "source": [
        "# We use the Estimator from the SageMaker Python SDK\n",
        "from sagemaker.sklearn.estimator import SKLearn\n",
        "import time\n",
        "\n",
        "FRAMEWORK_VERSION = \"0.23-1\"\n",
        "\n",
        "sklearn_estimator = SKLearn(\n",
        "    entry_point=\"script.py\",\n",
        "    role=get_execution_role(),\n",
        "    instance_count=1,\n",
        "    instance_type=\"ml.m4.xlarge\",#\"ml.c5.xlarge\",#\"ml.m4.xlarge\",\n",
        "    framework_version=FRAMEWORK_VERSION,\n",
        "    base_job_name=\"train-star\",\n",
        "    metric_definitions=[{\"Name\": \"median-AE\", \"Regex\": \"AE-at-50th-percentile: ([0-9.]+).*$\"}],\n",
        "    hyperparameters=hyperparameters,\n",
        ")\n",
        "\n",
        "tic = time.clock()\n",
        "\n",
        "# launch training job\n",
        "sklearn_estimator.fit({\"train\": trainpath, \"test\": testpath}, wait=True)\n",
        "\n",
        "toc = time.clock()\n",
        "print(toc - tic)"
      ]
    },
    {
      "cell_type": "markdown",
      "metadata": {
        "id": "3YA7eqJboVET"
      },
      "source": [
        "## Deploy to a real-time endpoint"
      ]
    },
    {
      "cell_type": "code",
      "execution_count": null,
      "metadata": {
        "id": "rQuge9tEoVET",
        "outputId": "3363c817-7447-493c-fb56-a45fd73c94b2"
      },
      "outputs": [
        {
          "name": "stdout",
          "output_type": "stream",
          "text": [
            "\n",
            "2022-02-13 02:49:26 Starting - Preparing the instances for training\n",
            "2022-02-13 02:49:26 Downloading - Downloading input data\n",
            "2022-02-13 02:49:26 Training - Training image download completed. Training in progress.\n",
            "2022-02-13 02:49:26 Uploading - Uploading generated training model\n",
            "2022-02-13 02:49:26 Completed - Training job completed\n",
            "Model artifact persisted at s3://sagemaker-us-east-1-201557610166/train-star-2022-02-13-02-43-41-075/output/model.tar.gz\n",
            "-----!"
          ]
        }
      ],
      "source": [
        "from sagemaker.sklearn.model import SKLearnModel\n",
        "\n",
        "sklearn_estimator.latest_training_job.wait(logs=\"None\")\n",
        "artifact = sm_boto3.describe_training_job(\n",
        "    TrainingJobName= sklearn_estimator.latest_training_job.name#'train-star-2022-02-11-09-09-36-428' \n",
        ")[\"ModelArtifacts\"][\"S3ModelArtifacts\"]\n",
        "\n",
        "print(\"Model artifact persisted at \" + artifact)\n",
        "\n",
        "model = SKLearnModel(\n",
        "    model_data=artifact,\n",
        "    role=get_execution_role(),\n",
        "    entry_point=\"script.py\",\n",
        "    framework_version=FRAMEWORK_VERSION,\n",
        ")\n",
        "\n",
        "predictor = model.deploy(instance_type=\"ml.c5.large\", initial_instance_count=1)"
      ]
    },
    {
      "cell_type": "markdown",
      "metadata": {
        "id": "zIWvDWRwoVEU"
      },
      "source": [
        "## Invoke the endpoint"
      ]
    },
    {
      "cell_type": "code",
      "execution_count": null,
      "metadata": {
        "id": "dR18lCdEoVEU",
        "outputId": "134a8294-f952-4c4c-a25a-34281cd72e71"
      },
      "outputs": [
        {
          "name": "stdout",
          "output_type": "stream",
          "text": [
            "response \t\t target\n",
            "42.741547781017154 \t 42.75\n",
            "62.41656648850017 \t 31.57\n",
            "5.431426303854877 \t 0.0\n",
            "111.42925178166503 \t 61.63\n",
            "119.83790046971173 \t 146.2\n",
            "30.473342484612882 \t 37.57\n",
            "81.09920667314543 \t 29.75\n",
            "73.52277721088433 \t 73.36\n",
            "5.504794001727676 \t 2.54\n",
            "35.42429664723034 \t 20.41\n",
            "132.62019595616022 \t 138.12\n",
            "45.86012331281719 \t 23.98\n",
            "57.533254994061096 \t 33.6\n",
            "61.2219977324263 \t 37.06\n",
            "56.77866553287983 \t 20.52\n",
            "14.928407446672761 \t 128.26\n",
            "20.11640678652412 \t 29.56\n",
            "39.824623744735995 \t 121.08\n",
            "64.26413265306118 \t 33.97\n",
            "6.332217624867687 \t 8.84\n",
            "20.02664085951841 \t 12.79\n",
            "15.32111321671525 \t 0.0\n",
            "138.58601587301595 \t 789.81\n",
            "110.23857701652086 \t 55.65\n",
            "144.37812649821834 \t 155.09\n",
            "107.90099708454815 \t 124.15\n",
            "69.68707636864272 \t 83.38\n",
            "124.63938921282798 \t 130.97\n",
            "0.0 \t 0.0\n",
            "8.765819327214734 \t 3.92\n",
            "1.18198223733938 \t 0.05\n",
            "81.47381827016518 \t 99.23\n",
            "89.95767454918476 \t 108.05\n",
            "48.186443013713415 \t 109.19\n",
            "0.0 \t 0.0\n",
            "89.26236799481691 \t 76.01\n",
            "10.935080793356306 \t 0.0\n",
            "50.988030936184 \t 19.95\n",
            "95.84361829176115 \t 63.14\n",
            "61.23055277507827 \t 48.66\n",
            "3.883232318324154 \t 0.91\n",
            "17.3514325936724 \t 13.99\n",
            "0.0 \t 0.0\n",
            "44.3995116618076 \t 25.82\n",
            "149.18752688694525 \t 101.22\n",
            "30.063859302451135 \t 67.47\n",
            "19.938044946550043 \t 15.83\n",
            "7.363321401576503 \t 7.63\n",
            "8.413330337651766 \t 0.85\n",
            "15.009284654121387 \t 15.92\n",
            "92.94325032393908 \t 108.71\n",
            "14.320064193931533 \t 8.63\n",
            "0.0 \t 0.0\n",
            "77.02069760285069 \t 66.0\n",
            "12.914871234207968 \t 4.67\n",
            "117.6845382248137 \t 17.97\n",
            "17.496414965986403 \t 0.0\n",
            "35.08620440557175 \t 30.97\n",
            "0.007086167800453515 \t 0.0\n",
            "186.11934653385174 \t 163.78\n",
            "74.12941156462583 \t 45.66\n",
            "0.0 \t 0.0\n",
            "14.497334305150638 \t 0.0\n",
            "16.513030520405522 \t 11.33\n",
            "33.87946925278049 \t 0.0\n",
            "26.5384401792463 \t 0.0\n",
            "0.0 \t 0.0\n",
            "50.12685322859301 \t 23.46\n",
            "36.16323947197928 \t 20.25\n",
            "101.67222457078067 \t 125.83\n",
            "15.344871432988786 \t 12.59\n",
            "75.66030450275342 \t 56.57\n",
            "59.125211046323294 \t 12.09\n",
            "30.10885042112083 \t 19.37\n",
            "144.47538710722378 \t 108.77\n",
            "0.0 \t 0.0\n",
            "79.07618934240361 \t 23.6\n",
            "64.54730663535253 \t 16.72\n",
            "9.509470653684945 \t 3.19\n",
            "100.45124376417243 \t 174.6\n",
            "21.091152413346276 \t 2.65\n",
            "3.6294735741060786 \t 0.0\n",
            "152.0616679624231 \t 245.99\n",
            "75.03145756397798 \t 73.0\n",
            "59.914189909297036 \t 85.42\n",
            "19.454633489903898 \t 0.0\n",
            "16.937421390778532 \t 10.36\n",
            "86.75174300831443 \t 59.69\n",
            "80.02682156354604 \t 72.17\n",
            "110.64940654356987 \t 984.64\n",
            "98.8260265630061 \t 119.44\n",
            "37.38643869452541 \t 124.69\n",
            "29.141200356333027 \t 11.43\n",
            "46.168159944930345 \t 161.0\n",
            "84.4843042597991 \t 11.6\n",
            "135.49057815030764 \t 118.93\n",
            "53.645695990517446 \t 179.46\n",
            "42.551270057229246 \t 104.08\n",
            "23.077067298347913 \t 12.1\n",
            "6.406004940071267 \t 9.52\n"
          ]
        }
      ],
      "source": [
        "# the SKLearnPredictor does the serialization from pandas for us\n",
        "response = predictor.predict(test[feature_names])\n",
        "test_target = test['cumulative_transaction']\n",
        "test_target = test_target.to_numpy() \n",
        "\n",
        "print(\"response \\t\\t target\")\n",
        "for i in range(100):\n",
        "    print(response[i] , \"\\t\",test_target[i])"
      ]
    },
    {
      "cell_type": "markdown",
      "metadata": {
        "id": "0lcDGm5PoVEU"
      },
      "source": [
        "## Evaluate the sklearn random forest model"
      ]
    },
    {
      "cell_type": "code",
      "execution_count": null,
      "metadata": {
        "colab": {
          "base_uri": "https://localhost:8080/"
        },
        "id": "pbcji5A4JD_j",
        "outputId": "b6937632-2959-43e7-9d1e-9bedeb52ee9d"
      },
      "outputs": [
        {
          "name": "stdout",
          "output_type": "stream",
          "text": [
            "R2 score: 0.4523693254058069, mean_squared_error: 4236.3759983377595, mean_absolute_error 29.62099167956011\n"
          ]
        }
      ],
      "source": [
        "from sklearn.metrics import mean_squared_error, mean_absolute_error, r2_score\n",
        "\n",
        "mean_squared_error = mean_squared_error(test_target, response)\n",
        "mean_absolute_error = mean_absolute_error(test_target, response)\n",
        "r2_score = r2_score(test_target, response)\n",
        "print(f\"R2 score: {r2_score}, mean_squared_error: {mean_squared_error}, mean_absolute_error {mean_absolute_error}\")"
      ]
    },
    {
      "cell_type": "markdown",
      "metadata": {
        "id": "SUkIIi3VoVEV"
      },
      "source": [
        "## Delete the endpoint"
      ]
    },
    {
      "cell_type": "code",
      "execution_count": null,
      "metadata": {
        "id": "TCt5JyQ2oVEV"
      },
      "outputs": [],
      "source": [
        "#Don’t forget to delete the endpoint!\n",
        "predictor.delete_endpoint()"
      ]
    },
    {
      "cell_type": "markdown",
      "metadata": {
        "id": "eee24QafoVEV"
      },
      "source": [
        "# Training with autogluon.tabular\n",
        "\n",
        "Because the R2 score of the Scikit_Learn Random Forest model is rather low, we train the dataset using Autogluon Tabular models to check if we obtain better results. We know that autogluon.tabular contains RFModel (Random Forest model (scikit-learn)) as one of its models. So we hope we will certainly improve the result."
      ]
    },
    {
      "cell_type": "code",
      "execution_count": null,
      "metadata": {
        "id": "CDXGEzEToVEW",
        "outputId": "73f18903-fd16-4371-ca90-5c5e5c17ad7b"
      },
      "outputs": [
        {
          "name": "stdout",
          "output_type": "stream",
          "text": [
            "(125685, 25) (41896, 25)\n"
          ]
        }
      ],
      "source": [
        "from sklearn.model_selection import train_test_split\n",
        "\n",
        "#Read from my source table\n",
        "my_starbuck = pd.read_csv(\"my_starbuck.csv\")\n",
        "\n",
        "#Splitting to train and test files\n",
        "train, test = train_test_split(\n",
        "    my_starbuck, test_size=0.25, random_state=42\n",
        ")\n",
        "print(train.shape, test.shape)"
      ]
    },
    {
      "cell_type": "code",
      "execution_count": null,
      "metadata": {
        "id": "8pDQr-meoVEW",
        "outputId": "af6f1122-ccfd-4af6-b98e-84abefcadeff"
      },
      "outputs": [
        {
          "name": "stderr",
          "output_type": "stream",
          "text": [
            "Warning: path already exists! This predictor may overwrite an existing predictor! path=\"transaction_models\"\n",
            "Presets specified: ['best_quality']\n",
            "Beginning AutoGluon training ... Time limit = 1200s\n",
            "AutoGluon will save models to \"transaction_models/\"\n",
            "AutoGluon Version:  0.3.1\n",
            "Train Data Rows:    125685\n",
            "Train Data Columns: 24\n",
            "Preprocessing data ...\n",
            "Using Feature Generators to preprocess the data ...\n",
            "Dropping user-specified ignored columns: ['person', 'offers', 'Other', 'email', 'informational', 'offer_completed', 'offer_received', 'offer_viewed', 'total_transaction']\n",
            "Fitting AutoMLPipelineFeatureGenerator...\n",
            "\tAvailable Memory:                    2719.5 MB\n",
            "\tTrain Data (Original)  Memory Usage: 15.08 MB (0.6% of available memory)\n",
            "\tInferring data type of each feature based on column values. Set feature_metadata_in to manually specify special dtypes of the features.\n",
            "\tStage 1 Generators:\n",
            "\t\tFitting AsTypeFeatureGenerator...\n",
            "\t\t\tNote: Converting 8 features to boolean dtype as they only contain 2 unique values.\n",
            "\tStage 2 Generators:\n",
            "\t\tFitting FillNaFeatureGenerator...\n",
            "\tStage 3 Generators:\n",
            "\t\tFitting IdentityFeatureGenerator...\n",
            "\tStage 4 Generators:\n",
            "\t\tFitting DropUniqueFeatureGenerator...\n",
            "\tTypes of features in original data (raw dtype, special dtypes):\n",
            "\t\t('float', []) : 10 | ['time', 'income', 'offer_reward', 'offer_difficulty', 'offer_duration', ...]\n",
            "\t\t('int', [])   :  5 | ['reward', 'age', 'membership_duration', 'Male', 'Female']\n",
            "\tTypes of features in processed data (raw dtype, special dtypes):\n",
            "\t\t('float', [])     : 5 | ['time', 'income', 'offer_reward', 'offer_difficulty', 'offer_duration']\n",
            "\t\t('int', [])       : 2 | ['age', 'membership_duration']\n",
            "\t\t('int', ['bool']) : 8 | ['reward', 'Male', 'Female', 'web', 'mobile', ...]\n",
            "\t0.3s = Fit runtime\n",
            "\t15 features in original data used to generate 15 features in processed data.\n",
            "\tTrain Data (Processed) Memory Usage: 8.04 MB (0.3% of available memory)\n",
            "Data preprocessing and feature engineering runtime = 0.43s ...\n",
            "AutoGluon will gauge predictive performance using evaluation metric: 'root_mean_squared_error'\n",
            "\tTo change this, specify the eval_metric argument of fit()\n",
            "AutoGluon will fit 2 stack levels (L1 to L2) ...\n",
            "Fitting 11 L1 models ...\n",
            "Fitting model: KNeighborsUnif_BAG_L1 ... Training model for up to 799.52s of the 1199.57s of remaining time.\n",
            "\t-66.3489\t = Validation score   (root_mean_squared_error)\n",
            "\t0.9s\t = Training   runtime\n",
            "\t2.32s\t = Validation runtime\n",
            "Fitting model: KNeighborsDist_BAG_L1 ... Training model for up to 796.0s of the 1196.05s of remaining time.\n",
            "\t-53.7794\t = Validation score   (root_mean_squared_error)\n",
            "\t0.87s\t = Training   runtime\n",
            "\t2.23s\t = Validation runtime\n",
            "Fitting model: LightGBMXT_BAG_L1 ... Training model for up to 792.52s of the 1192.57s of remaining time.\n",
            "/home/ec2-user/anaconda3/envs/python3/lib/python3.6/site-packages/lightgbm/engine.py:239: UserWarning: 'verbose_eval' argument is deprecated and will be removed in a future release of LightGBM. Pass 'log_evaluation()' callback via 'callbacks' argument instead.\n",
            "  _log_warning(\"'verbose_eval' argument is deprecated and will be removed in a future release of LightGBM. \"\n"
          ]
        },
        {
          "name": "stdout",
          "output_type": "stream",
          "text": [
            "[1000]\ttrain_set's rmse: 67.4462\tvalid_set's rmse: 72.2756\n",
            "[2000]\ttrain_set's rmse: 64.3991\tvalid_set's rmse: 70.949\n",
            "[3000]\ttrain_set's rmse: 62.1513\tvalid_set's rmse: 70.1166\n",
            "[4000]\ttrain_set's rmse: 60.3196\tvalid_set's rmse: 69.4032\n",
            "[5000]\ttrain_set's rmse: 58.7638\tvalid_set's rmse: 68.7565\n",
            "[6000]\ttrain_set's rmse: 57.4493\tvalid_set's rmse: 68.2224\n",
            "[7000]\ttrain_set's rmse: 56.2667\tvalid_set's rmse: 67.7579\n",
            "[8000]\ttrain_set's rmse: 55.1584\tvalid_set's rmse: 67.3262\n",
            "[9000]\ttrain_set's rmse: 54.1268\tvalid_set's rmse: 66.9764\n",
            "[10000]\ttrain_set's rmse: 53.1959\tvalid_set's rmse: 66.6644\n"
          ]
        },
        {
          "name": "stderr",
          "output_type": "stream",
          "text": [
            "/home/ec2-user/anaconda3/envs/python3/lib/python3.6/site-packages/lightgbm/engine.py:239: UserWarning: 'verbose_eval' argument is deprecated and will be removed in a future release of LightGBM. Pass 'log_evaluation()' callback via 'callbacks' argument instead.\n",
            "  _log_warning(\"'verbose_eval' argument is deprecated and will be removed in a future release of LightGBM. \"\n"
          ]
        },
        {
          "name": "stdout",
          "output_type": "stream",
          "text": [
            "[1000]\ttrain_set's rmse: 67.5513\tvalid_set's rmse: 71.3406\n",
            "[2000]\ttrain_set's rmse: 64.4834\tvalid_set's rmse: 69.947\n",
            "[3000]\ttrain_set's rmse: 62.2132\tvalid_set's rmse: 68.8009\n",
            "[4000]\ttrain_set's rmse: 60.3734\tvalid_set's rmse: 67.9136\n",
            "[5000]\ttrain_set's rmse: 58.8473\tvalid_set's rmse: 67.1871\n",
            "[6000]\ttrain_set's rmse: 57.5549\tvalid_set's rmse: 66.6814\n",
            "[7000]\ttrain_set's rmse: 56.3238\tvalid_set's rmse: 66.1776\n",
            "[8000]\ttrain_set's rmse: 55.1884\tvalid_set's rmse: 65.7285\n",
            "[9000]\ttrain_set's rmse: 54.1896\tvalid_set's rmse: 65.3401\n",
            "[10000]\ttrain_set's rmse: 53.2666\tvalid_set's rmse: 64.9022\n"
          ]
        },
        {
          "name": "stderr",
          "output_type": "stream",
          "text": [
            "/home/ec2-user/anaconda3/envs/python3/lib/python3.6/site-packages/lightgbm/engine.py:239: UserWarning: 'verbose_eval' argument is deprecated and will be removed in a future release of LightGBM. Pass 'log_evaluation()' callback via 'callbacks' argument instead.\n",
            "  _log_warning(\"'verbose_eval' argument is deprecated and will be removed in a future release of LightGBM. \"\n"
          ]
        },
        {
          "name": "stdout",
          "output_type": "stream",
          "text": [
            "[1000]\ttrain_set's rmse: 67.5222\tvalid_set's rmse: 71.1072\n",
            "[2000]\ttrain_set's rmse: 64.3668\tvalid_set's rmse: 70.0544\n",
            "[3000]\ttrain_set's rmse: 62.1027\tvalid_set's rmse: 69.3741\n",
            "[4000]\ttrain_set's rmse: 60.2241\tvalid_set's rmse: 68.8406\n",
            "[5000]\ttrain_set's rmse: 58.7288\tvalid_set's rmse: 68.4298\n",
            "[6000]\ttrain_set's rmse: 57.3932\tvalid_set's rmse: 68.0304\n",
            "[7000]\ttrain_set's rmse: 56.2\tvalid_set's rmse: 67.7252\n",
            "[8000]\ttrain_set's rmse: 55.0897\tvalid_set's rmse: 67.3391\n",
            "[9000]\ttrain_set's rmse: 54.0509\tvalid_set's rmse: 67.0505\n",
            "[10000]\ttrain_set's rmse: 53.1481\tvalid_set's rmse: 66.8169\n"
          ]
        },
        {
          "name": "stderr",
          "output_type": "stream",
          "text": [
            "/home/ec2-user/anaconda3/envs/python3/lib/python3.6/site-packages/lightgbm/engine.py:239: UserWarning: 'verbose_eval' argument is deprecated and will be removed in a future release of LightGBM. Pass 'log_evaluation()' callback via 'callbacks' argument instead.\n",
            "  _log_warning(\"'verbose_eval' argument is deprecated and will be removed in a future release of LightGBM. \"\n"
          ]
        },
        {
          "name": "stdout",
          "output_type": "stream",
          "text": [
            "[1000]\ttrain_set's rmse: 67.775\tvalid_set's rmse: 69.0587\n",
            "[2000]\ttrain_set's rmse: 64.7228\tvalid_set's rmse: 67.8378\n",
            "[3000]\ttrain_set's rmse: 62.5209\tvalid_set's rmse: 66.9993\n",
            "[4000]\ttrain_set's rmse: 60.628\tvalid_set's rmse: 66.2066\n",
            "[5000]\ttrain_set's rmse: 59.1019\tvalid_set's rmse: 65.6267\n",
            "[6000]\ttrain_set's rmse: 57.7637\tvalid_set's rmse: 65.1919\n",
            "[7000]\ttrain_set's rmse: 56.5707\tvalid_set's rmse: 64.7652\n",
            "[8000]\ttrain_set's rmse: 55.4603\tvalid_set's rmse: 64.3597\n",
            "[9000]\ttrain_set's rmse: 54.4603\tvalid_set's rmse: 64.0259\n",
            "[10000]\ttrain_set's rmse: 53.5122\tvalid_set's rmse: 63.7018\n"
          ]
        },
        {
          "name": "stderr",
          "output_type": "stream",
          "text": [
            "/home/ec2-user/anaconda3/envs/python3/lib/python3.6/site-packages/lightgbm/engine.py:239: UserWarning: 'verbose_eval' argument is deprecated and will be removed in a future release of LightGBM. Pass 'log_evaluation()' callback via 'callbacks' argument instead.\n",
            "  _log_warning(\"'verbose_eval' argument is deprecated and will be removed in a future release of LightGBM. \"\n"
          ]
        },
        {
          "name": "stdout",
          "output_type": "stream",
          "text": [
            "[1000]\ttrain_set's rmse: 67.47\tvalid_set's rmse: 71.1109\n",
            "[2000]\ttrain_set's rmse: 64.3558\tvalid_set's rmse: 70.1605\n",
            "[3000]\ttrain_set's rmse: 62.0686\tvalid_set's rmse: 69.418\n",
            "[4000]\ttrain_set's rmse: 60.2735\tvalid_set's rmse: 68.8443\n",
            "[5000]\ttrain_set's rmse: 58.7497\tvalid_set's rmse: 68.399\n",
            "[6000]\ttrain_set's rmse: 57.3883\tvalid_set's rmse: 67.9542\n",
            "[7000]\ttrain_set's rmse: 56.1951\tvalid_set's rmse: 67.544\n",
            "[8000]\ttrain_set's rmse: 55.057\tvalid_set's rmse: 67.1613\n",
            "[9000]\ttrain_set's rmse: 54.0333\tvalid_set's rmse: 66.8042\n",
            "[10000]\ttrain_set's rmse: 53.1179\tvalid_set's rmse: 66.4566\n"
          ]
        },
        {
          "name": "stderr",
          "output_type": "stream",
          "text": [
            "/home/ec2-user/anaconda3/envs/python3/lib/python3.6/site-packages/lightgbm/engine.py:239: UserWarning: 'verbose_eval' argument is deprecated and will be removed in a future release of LightGBM. Pass 'log_evaluation()' callback via 'callbacks' argument instead.\n",
            "  _log_warning(\"'verbose_eval' argument is deprecated and will be removed in a future release of LightGBM. \"\n"
          ]
        },
        {
          "name": "stdout",
          "output_type": "stream",
          "text": [
            "[1000]\ttrain_set's rmse: 67.3919\tvalid_set's rmse: 71.7926\n",
            "[2000]\ttrain_set's rmse: 64.3149\tvalid_set's rmse: 70.6614\n",
            "[3000]\ttrain_set's rmse: 62.0768\tvalid_set's rmse: 69.7517\n",
            "[4000]\ttrain_set's rmse: 60.2967\tvalid_set's rmse: 69.069\n",
            "[5000]\ttrain_set's rmse: 58.7566\tvalid_set's rmse: 68.5469\n",
            "[6000]\ttrain_set's rmse: 57.3911\tvalid_set's rmse: 68.0959\n",
            "[7000]\ttrain_set's rmse: 56.2235\tvalid_set's rmse: 67.6408\n",
            "[8000]\ttrain_set's rmse: 55.1412\tvalid_set's rmse: 67.159\n",
            "[9000]\ttrain_set's rmse: 54.1095\tvalid_set's rmse: 66.8004\n",
            "[10000]\ttrain_set's rmse: 53.2038\tvalid_set's rmse: 66.4999\n"
          ]
        },
        {
          "name": "stderr",
          "output_type": "stream",
          "text": [
            "/home/ec2-user/anaconda3/envs/python3/lib/python3.6/site-packages/lightgbm/engine.py:239: UserWarning: 'verbose_eval' argument is deprecated and will be removed in a future release of LightGBM. Pass 'log_evaluation()' callback via 'callbacks' argument instead.\n",
            "  _log_warning(\"'verbose_eval' argument is deprecated and will be removed in a future release of LightGBM. \"\n"
          ]
        },
        {
          "name": "stdout",
          "output_type": "stream",
          "text": [
            "[1000]\ttrain_set's rmse: 67.8329\tvalid_set's rmse: 68.4786\n",
            "[2000]\ttrain_set's rmse: 64.6931\tvalid_set's rmse: 67.4467\n",
            "[3000]\ttrain_set's rmse: 62.3997\tvalid_set's rmse: 66.6354\n",
            "[4000]\ttrain_set's rmse: 60.5937\tvalid_set's rmse: 66.0715\n",
            "[5000]\ttrain_set's rmse: 58.9694\tvalid_set's rmse: 65.6086\n",
            "[6000]\ttrain_set's rmse: 57.5987\tvalid_set's rmse: 65.1932\n",
            "[7000]\ttrain_set's rmse: 56.3471\tvalid_set's rmse: 64.8527\n",
            "[8000]\ttrain_set's rmse: 55.2414\tvalid_set's rmse: 64.532\n",
            "[9000]\ttrain_set's rmse: 54.2181\tvalid_set's rmse: 64.2649\n",
            "[10000]\ttrain_set's rmse: 53.3048\tvalid_set's rmse: 64.0508\n"
          ]
        },
        {
          "name": "stderr",
          "output_type": "stream",
          "text": [
            "/home/ec2-user/anaconda3/envs/python3/lib/python3.6/site-packages/lightgbm/engine.py:239: UserWarning: 'verbose_eval' argument is deprecated and will be removed in a future release of LightGBM. Pass 'log_evaluation()' callback via 'callbacks' argument instead.\n",
            "  _log_warning(\"'verbose_eval' argument is deprecated and will be removed in a future release of LightGBM. \"\n"
          ]
        },
        {
          "name": "stdout",
          "output_type": "stream",
          "text": [
            "[1000]\ttrain_set's rmse: 67.3305\tvalid_set's rmse: 71.9194\n",
            "[2000]\ttrain_set's rmse: 64.479\tvalid_set's rmse: 70.6572\n",
            "[3000]\ttrain_set's rmse: 62.2049\tvalid_set's rmse: 69.7726\n",
            "[4000]\ttrain_set's rmse: 60.3526\tvalid_set's rmse: 69.0452\n",
            "[5000]\ttrain_set's rmse: 58.7487\tvalid_set's rmse: 68.5438\n",
            "[6000]\ttrain_set's rmse: 57.4123\tvalid_set's rmse: 68.0512\n",
            "[7000]\ttrain_set's rmse: 56.2087\tvalid_set's rmse: 67.6232\n",
            "[8000]\ttrain_set's rmse: 55.0891\tvalid_set's rmse: 67.1798\n",
            "[9000]\ttrain_set's rmse: 54.0824\tvalid_set's rmse: 66.8191\n",
            "[10000]\ttrain_set's rmse: 53.1473\tvalid_set's rmse: 66.5331\n"
          ]
        },
        {
          "name": "stderr",
          "output_type": "stream",
          "text": [
            "/home/ec2-user/anaconda3/envs/python3/lib/python3.6/site-packages/lightgbm/engine.py:239: UserWarning: 'verbose_eval' argument is deprecated and will be removed in a future release of LightGBM. Pass 'log_evaluation()' callback via 'callbacks' argument instead.\n",
            "  _log_warning(\"'verbose_eval' argument is deprecated and will be removed in a future release of LightGBM. \"\n"
          ]
        },
        {
          "name": "stdout",
          "output_type": "stream",
          "text": [
            "[1000]\ttrain_set's rmse: 67.7265\tvalid_set's rmse: 69.0513\n",
            "[2000]\ttrain_set's rmse: 64.6518\tvalid_set's rmse: 67.7157\n",
            "[3000]\ttrain_set's rmse: 62.4002\tvalid_set's rmse: 66.8655\n",
            "[4000]\ttrain_set's rmse: 60.5997\tvalid_set's rmse: 66.2027\n",
            "[5000]\ttrain_set's rmse: 59.0296\tvalid_set's rmse: 65.6172\n",
            "[6000]\ttrain_set's rmse: 57.6546\tvalid_set's rmse: 65.1255\n",
            "[7000]\ttrain_set's rmse: 56.474\tvalid_set's rmse: 64.7067\n",
            "[8000]\ttrain_set's rmse: 55.3954\tvalid_set's rmse: 64.3549\n",
            "[9000]\ttrain_set's rmse: 54.3723\tvalid_set's rmse: 63.9857\n",
            "[10000]\ttrain_set's rmse: 53.4561\tvalid_set's rmse: 63.7094\n"
          ]
        },
        {
          "name": "stderr",
          "output_type": "stream",
          "text": [
            "/home/ec2-user/anaconda3/envs/python3/lib/python3.6/site-packages/lightgbm/engine.py:239: UserWarning: 'verbose_eval' argument is deprecated and will be removed in a future release of LightGBM. Pass 'log_evaluation()' callback via 'callbacks' argument instead.\n",
            "  _log_warning(\"'verbose_eval' argument is deprecated and will be removed in a future release of LightGBM. \"\n"
          ]
        },
        {
          "name": "stdout",
          "output_type": "stream",
          "text": [
            "[1000]\ttrain_set's rmse: 67.5419\tvalid_set's rmse: 71.2033\n",
            "[2000]\ttrain_set's rmse: 64.5001\tvalid_set's rmse: 69.8573\n",
            "[3000]\ttrain_set's rmse: 62.219\tvalid_set's rmse: 69.0083\n",
            "[4000]\ttrain_set's rmse: 60.4244\tvalid_set's rmse: 68.4355\n",
            "[5000]\ttrain_set's rmse: 58.9068\tvalid_set's rmse: 67.9277\n",
            "[6000]\ttrain_set's rmse: 57.5777\tvalid_set's rmse: 67.4765\n",
            "[7000]\ttrain_set's rmse: 56.3814\tvalid_set's rmse: 67.0869\n",
            "[8000]\ttrain_set's rmse: 55.2787\tvalid_set's rmse: 66.7515\n",
            "[9000]\ttrain_set's rmse: 54.2499\tvalid_set's rmse: 66.4298\n",
            "[10000]\ttrain_set's rmse: 53.3152\tvalid_set's rmse: 66.1257\n"
          ]
        },
        {
          "name": "stderr",
          "output_type": "stream",
          "text": [
            "\t-65.5572\t = Validation score   (root_mean_squared_error)\n",
            "\t582.06s\t = Training   runtime\n",
            "\t64.22s\t = Validation runtime\n",
            "Fitting model: LightGBM_BAG_L1 ... Training model for up to 125.78s of the 525.84s of remaining time.\n",
            "/home/ec2-user/anaconda3/envs/python3/lib/python3.6/site-packages/lightgbm/engine.py:239: UserWarning: 'verbose_eval' argument is deprecated and will be removed in a future release of LightGBM. Pass 'log_evaluation()' callback via 'callbacks' argument instead.\n",
            "  _log_warning(\"'verbose_eval' argument is deprecated and will be removed in a future release of LightGBM. \"\n"
          ]
        },
        {
          "name": "stdout",
          "output_type": "stream",
          "text": [
            "[1000]\ttrain_set's rmse: 54.5002\tvalid_set's rmse: 62.1148\n",
            "[2000]\ttrain_set's rmse: 47.6962\tvalid_set's rmse: 56.9715\n"
          ]
        },
        {
          "name": "stderr",
          "output_type": "stream",
          "text": [
            "\tRan out of time, early stopping on iteration 2072. Best iteration is:\n",
            "\t[2072]\ttrain_set's rmse: 47.3573\tvalid_set's rmse: 56.7526\n",
            "/home/ec2-user/anaconda3/envs/python3/lib/python3.6/site-packages/lightgbm/engine.py:239: UserWarning: 'verbose_eval' argument is deprecated and will be removed in a future release of LightGBM. Pass 'log_evaluation()' callback via 'callbacks' argument instead.\n",
            "  _log_warning(\"'verbose_eval' argument is deprecated and will be removed in a future release of LightGBM. \"\n"
          ]
        },
        {
          "name": "stdout",
          "output_type": "stream",
          "text": [
            "[1000]\ttrain_set's rmse: 54.5674\tvalid_set's rmse: 60.3205\n",
            "[2000]\ttrain_set's rmse: 47.5296\tvalid_set's rmse: 55.6455\n"
          ]
        },
        {
          "name": "stderr",
          "output_type": "stream",
          "text": [
            "\tRan out of time, early stopping on iteration 2049. Best iteration is:\n",
            "\t[2049]\ttrain_set's rmse: 47.3345\tvalid_set's rmse: 55.5323\n",
            "/home/ec2-user/anaconda3/envs/python3/lib/python3.6/site-packages/lightgbm/engine.py:239: UserWarning: 'verbose_eval' argument is deprecated and will be removed in a future release of LightGBM. Pass 'log_evaluation()' callback via 'callbacks' argument instead.\n",
            "  _log_warning(\"'verbose_eval' argument is deprecated and will be removed in a future release of LightGBM. \"\n"
          ]
        },
        {
          "name": "stdout",
          "output_type": "stream",
          "text": [
            "[1000]\ttrain_set's rmse: 54.2875\tvalid_set's rmse: 62.4273\n",
            "[2000]\ttrain_set's rmse: 47.421\tvalid_set's rmse: 58.414\n"
          ]
        },
        {
          "name": "stderr",
          "output_type": "stream",
          "text": [
            "\tRan out of time, early stopping on iteration 2059. Best iteration is:\n",
            "\t[2059]\ttrain_set's rmse: 47.0605\tvalid_set's rmse: 58.2617\n",
            "/home/ec2-user/anaconda3/envs/python3/lib/python3.6/site-packages/lightgbm/engine.py:239: UserWarning: 'verbose_eval' argument is deprecated and will be removed in a future release of LightGBM. Pass 'log_evaluation()' callback via 'callbacks' argument instead.\n",
            "  _log_warning(\"'verbose_eval' argument is deprecated and will be removed in a future release of LightGBM. \"\n"
          ]
        },
        {
          "name": "stdout",
          "output_type": "stream",
          "text": [
            "[1000]\ttrain_set's rmse: 54.8738\tvalid_set's rmse: 59.186\n",
            "[2000]\ttrain_set's rmse: 48.3066\tvalid_set's rmse: 54.4161\n"
          ]
        },
        {
          "name": "stderr",
          "output_type": "stream",
          "text": [
            "\tRan out of time, early stopping on iteration 2136. Best iteration is:\n",
            "\t[2135]\ttrain_set's rmse: 47.5743\tvalid_set's rmse: 54.012\n",
            "/home/ec2-user/anaconda3/envs/python3/lib/python3.6/site-packages/lightgbm/engine.py:239: UserWarning: 'verbose_eval' argument is deprecated and will be removed in a future release of LightGBM. Pass 'log_evaluation()' callback via 'callbacks' argument instead.\n",
            "  _log_warning(\"'verbose_eval' argument is deprecated and will be removed in a future release of LightGBM. \"\n"
          ]
        },
        {
          "name": "stdout",
          "output_type": "stream",
          "text": [
            "[1000]\ttrain_set's rmse: 54.2972\tvalid_set's rmse: 61.5108\n",
            "[2000]\ttrain_set's rmse: 47.6551\tvalid_set's rmse: 57.3943\n"
          ]
        },
        {
          "name": "stderr",
          "output_type": "stream",
          "text": [
            "\tRan out of time, early stopping on iteration 2129. Best iteration is:\n",
            "\t[2129]\ttrain_set's rmse: 46.9481\tvalid_set's rmse: 56.9764\n",
            "/home/ec2-user/anaconda3/envs/python3/lib/python3.6/site-packages/lightgbm/engine.py:239: UserWarning: 'verbose_eval' argument is deprecated and will be removed in a future release of LightGBM. Pass 'log_evaluation()' callback via 'callbacks' argument instead.\n",
            "  _log_warning(\"'verbose_eval' argument is deprecated and will be removed in a future release of LightGBM. \"\n"
          ]
        },
        {
          "name": "stdout",
          "output_type": "stream",
          "text": [
            "[1000]\ttrain_set's rmse: 54.4928\tvalid_set's rmse: 61.4319\n",
            "[2000]\ttrain_set's rmse: 47.6418\tvalid_set's rmse: 56.881\n"
          ]
        },
        {
          "name": "stderr",
          "output_type": "stream",
          "text": [
            "\tRan out of time, early stopping on iteration 2127. Best iteration is:\n",
            "\t[2127]\ttrain_set's rmse: 46.9658\tvalid_set's rmse: 56.4961\n",
            "/home/ec2-user/anaconda3/envs/python3/lib/python3.6/site-packages/lightgbm/engine.py:239: UserWarning: 'verbose_eval' argument is deprecated and will be removed in a future release of LightGBM. Pass 'log_evaluation()' callback via 'callbacks' argument instead.\n",
            "  _log_warning(\"'verbose_eval' argument is deprecated and will be removed in a future release of LightGBM. \"\n"
          ]
        },
        {
          "name": "stdout",
          "output_type": "stream",
          "text": [
            "[1000]\ttrain_set's rmse: 54.4055\tvalid_set's rmse: 59.063\n",
            "[2000]\ttrain_set's rmse: 47.4683\tvalid_set's rmse: 54.9111\n"
          ]
        },
        {
          "name": "stderr",
          "output_type": "stream",
          "text": [
            "\tRan out of time, early stopping on iteration 2180. Best iteration is:\n",
            "\t[2179]\ttrain_set's rmse: 46.5501\tvalid_set's rmse: 54.2755\n",
            "/home/ec2-user/anaconda3/envs/python3/lib/python3.6/site-packages/lightgbm/engine.py:239: UserWarning: 'verbose_eval' argument is deprecated and will be removed in a future release of LightGBM. Pass 'log_evaluation()' callback via 'callbacks' argument instead.\n",
            "  _log_warning(\"'verbose_eval' argument is deprecated and will be removed in a future release of LightGBM. \"\n"
          ]
        },
        {
          "name": "stdout",
          "output_type": "stream",
          "text": [
            "[1000]\ttrain_set's rmse: 54.3868\tvalid_set's rmse: 61.7305\n",
            "[2000]\ttrain_set's rmse: 47.4121\tvalid_set's rmse: 57.5526\n"
          ]
        },
        {
          "name": "stderr",
          "output_type": "stream",
          "text": [
            "\tRan out of time, early stopping on iteration 2213. Best iteration is:\n",
            "\t[2213]\ttrain_set's rmse: 46.3159\tvalid_set's rmse: 56.8764\n",
            "/home/ec2-user/anaconda3/envs/python3/lib/python3.6/site-packages/lightgbm/engine.py:239: UserWarning: 'verbose_eval' argument is deprecated and will be removed in a future release of LightGBM. Pass 'log_evaluation()' callback via 'callbacks' argument instead.\n",
            "  _log_warning(\"'verbose_eval' argument is deprecated and will be removed in a future release of LightGBM. \"\n"
          ]
        },
        {
          "name": "stdout",
          "output_type": "stream",
          "text": [
            "[1000]\ttrain_set's rmse: 54.6573\tvalid_set's rmse: 58.6823\n"
          ]
        },
        {
          "name": "stderr",
          "output_type": "stream",
          "text": [
            "\tRan out of time, early stopping on iteration 1899. Best iteration is:\n",
            "\t[1898]\ttrain_set's rmse: 48.5682\tvalid_set's rmse: 55.021\n",
            "/home/ec2-user/anaconda3/envs/python3/lib/python3.6/site-packages/lightgbm/engine.py:239: UserWarning: 'verbose_eval' argument is deprecated and will be removed in a future release of LightGBM. Pass 'log_evaluation()' callback via 'callbacks' argument instead.\n",
            "  _log_warning(\"'verbose_eval' argument is deprecated and will be removed in a future release of LightGBM. \"\n"
          ]
        },
        {
          "name": "stdout",
          "output_type": "stream",
          "text": [
            "[1000]\ttrain_set's rmse: 54.7852\tvalid_set's rmse: 60.7595\n",
            "[2000]\ttrain_set's rmse: 47.7698\tvalid_set's rmse: 56.0507\n"
          ]
        },
        {
          "name": "stderr",
          "output_type": "stream",
          "text": [
            "\tRan out of time, early stopping on iteration 2497. Best iteration is:\n",
            "\t[2495]\ttrain_set's rmse: 45.6198\tvalid_set's rmse: 54.9213\n",
            "\t-55.9276\t = Validation score   (root_mean_squared_error)\n",
            "\t111.13s\t = Training   runtime\n",
            "\t10.75s\t = Validation runtime\n",
            "Completed 1/20 k-fold bagging repeats ...\n",
            "Fitting model: WeightedEnsemble_L2 ... Training model for up to 360.0s of the 399.85s of remaining time.\n",
            "\t-50.0323\t = Validation score   (root_mean_squared_error)\n",
            "\t1.34s\t = Training   runtime\n",
            "\t0.0s\t = Validation runtime\n",
            "Fitting 9 L2 models ...\n",
            "Fitting model: LightGBMXT_BAG_L2 ... Training model for up to 398.49s of the 398.47s of remaining time.\n",
            "/home/ec2-user/anaconda3/envs/python3/lib/python3.6/site-packages/lightgbm/engine.py:239: UserWarning: 'verbose_eval' argument is deprecated and will be removed in a future release of LightGBM. Pass 'log_evaluation()' callback via 'callbacks' argument instead.\n",
            "  _log_warning(\"'verbose_eval' argument is deprecated and will be removed in a future release of LightGBM. \"\n"
          ]
        },
        {
          "name": "stdout",
          "output_type": "stream",
          "text": [
            "[1000]\ttrain_set's rmse: 39.7944\tvalid_set's rmse: 48.5087\n",
            "[2000]\ttrain_set's rmse: 36.0001\tvalid_set's rmse: 47.8952\n",
            "[3000]\ttrain_set's rmse: 33.5714\tvalid_set's rmse: 47.6067\n",
            "[4000]\ttrain_set's rmse: 31.7202\tvalid_set's rmse: 47.4679\n",
            "[5000]\ttrain_set's rmse: 30.3401\tvalid_set's rmse: 47.3564\n"
          ]
        },
        {
          "name": "stderr",
          "output_type": "stream",
          "text": [
            "\tRan out of time, early stopping on iteration 5141. Best iteration is:\n",
            "\t[5011]\ttrain_set's rmse: 30.3217\tvalid_set's rmse: 47.3524\n",
            "/home/ec2-user/anaconda3/envs/python3/lib/python3.6/site-packages/lightgbm/engine.py:239: UserWarning: 'verbose_eval' argument is deprecated and will be removed in a future release of LightGBM. Pass 'log_evaluation()' callback via 'callbacks' argument instead.\n",
            "  _log_warning(\"'verbose_eval' argument is deprecated and will be removed in a future release of LightGBM. \"\n"
          ]
        },
        {
          "name": "stdout",
          "output_type": "stream",
          "text": [
            "[1000]\ttrain_set's rmse: 39.3644\tvalid_set's rmse: 47.2599\n",
            "[2000]\ttrain_set's rmse: 35.8582\tvalid_set's rmse: 46.6734\n",
            "[3000]\ttrain_set's rmse: 33.5673\tvalid_set's rmse: 46.3893\n",
            "[4000]\ttrain_set's rmse: 31.7727\tvalid_set's rmse: 46.1794\n",
            "[5000]\ttrain_set's rmse: 30.3496\tvalid_set's rmse: 46.0776\n"
          ]
        },
        {
          "name": "stderr",
          "output_type": "stream",
          "text": [
            "\tRan out of time, early stopping on iteration 5309. Best iteration is:\n",
            "\t[5121]\ttrain_set's rmse: 30.1985\tvalid_set's rmse: 46.0444\n",
            "/home/ec2-user/anaconda3/envs/python3/lib/python3.6/site-packages/lightgbm/engine.py:239: UserWarning: 'verbose_eval' argument is deprecated and will be removed in a future release of LightGBM. Pass 'log_evaluation()' callback via 'callbacks' argument instead.\n",
            "  _log_warning(\"'verbose_eval' argument is deprecated and will be removed in a future release of LightGBM. \"\n"
          ]
        },
        {
          "name": "stdout",
          "output_type": "stream",
          "text": [
            "[1000]\ttrain_set's rmse: 39.4628\tvalid_set's rmse: 46.8373\n",
            "[2000]\ttrain_set's rmse: 35.8213\tvalid_set's rmse: 46.1463\n",
            "[3000]\ttrain_set's rmse: 33.5003\tvalid_set's rmse: 45.9459\n",
            "[4000]\ttrain_set's rmse: 31.7411\tvalid_set's rmse: 45.8721\n"
          ]
        },
        {
          "name": "stderr",
          "output_type": "stream",
          "text": [
            "/home/ec2-user/anaconda3/envs/python3/lib/python3.6/site-packages/lightgbm/engine.py:239: UserWarning: 'verbose_eval' argument is deprecated and will be removed in a future release of LightGBM. Pass 'log_evaluation()' callback via 'callbacks' argument instead.\n",
            "  _log_warning(\"'verbose_eval' argument is deprecated and will be removed in a future release of LightGBM. \"\n"
          ]
        },
        {
          "name": "stdout",
          "output_type": "stream",
          "text": [
            "[1000]\ttrain_set's rmse: 39.7133\tvalid_set's rmse: 48.1603\n",
            "[2000]\ttrain_set's rmse: 36.1107\tvalid_set's rmse: 47.4611\n",
            "[3000]\ttrain_set's rmse: 33.739\tvalid_set's rmse: 47.2108\n",
            "[4000]\ttrain_set's rmse: 31.8832\tvalid_set's rmse: 47.0068\n"
          ]
        },
        {
          "name": "stderr",
          "output_type": "stream",
          "text": [
            "/home/ec2-user/anaconda3/envs/python3/lib/python3.6/site-packages/lightgbm/engine.py:239: UserWarning: 'verbose_eval' argument is deprecated and will be removed in a future release of LightGBM. Pass 'log_evaluation()' callback via 'callbacks' argument instead.\n",
            "  _log_warning(\"'verbose_eval' argument is deprecated and will be removed in a future release of LightGBM. \"\n"
          ]
        },
        {
          "name": "stdout",
          "output_type": "stream",
          "text": [
            "[1000]\ttrain_set's rmse: 40.1051\tvalid_set's rmse: 44.6321\n",
            "[2000]\ttrain_set's rmse: 36.2245\tvalid_set's rmse: 43.7109\n",
            "[3000]\ttrain_set's rmse: 33.8473\tvalid_set's rmse: 43.39\n",
            "[4000]\ttrain_set's rmse: 32.019\tvalid_set's rmse: 43.2602\n",
            "[5000]\ttrain_set's rmse: 30.5904\tvalid_set's rmse: 43.1677\n"
          ]
        },
        {
          "name": "stderr",
          "output_type": "stream",
          "text": [
            "\tRan out of time, early stopping on iteration 5629. Best iteration is:\n",
            "\t[5540]\ttrain_set's rmse: 29.8704\tvalid_set's rmse: 43.1224\n",
            "/home/ec2-user/anaconda3/envs/python3/lib/python3.6/site-packages/lightgbm/engine.py:239: UserWarning: 'verbose_eval' argument is deprecated and will be removed in a future release of LightGBM. Pass 'log_evaluation()' callback via 'callbacks' argument instead.\n",
            "  _log_warning(\"'verbose_eval' argument is deprecated and will be removed in a future release of LightGBM. \"\n"
          ]
        },
        {
          "name": "stdout",
          "output_type": "stream",
          "text": [
            "[1000]\ttrain_set's rmse: 39.6714\tvalid_set's rmse: 48.1419\n",
            "[2000]\ttrain_set's rmse: 35.7397\tvalid_set's rmse: 47.7656\n",
            "[3000]\ttrain_set's rmse: 33.337\tvalid_set's rmse: 47.6684\n",
            "[4000]\ttrain_set's rmse: 31.5691\tvalid_set's rmse: 47.6591\n"
          ]
        },
        {
          "name": "stderr",
          "output_type": "stream",
          "text": [
            "/home/ec2-user/anaconda3/envs/python3/lib/python3.6/site-packages/lightgbm/engine.py:239: UserWarning: 'verbose_eval' argument is deprecated and will be removed in a future release of LightGBM. Pass 'log_evaluation()' callback via 'callbacks' argument instead.\n",
            "  _log_warning(\"'verbose_eval' argument is deprecated and will be removed in a future release of LightGBM. \"\n"
          ]
        },
        {
          "name": "stdout",
          "output_type": "stream",
          "text": [
            "[1000]\ttrain_set's rmse: 39.3345\tvalid_set's rmse: 48.6547\n",
            "[2000]\ttrain_set's rmse: 35.8531\tvalid_set's rmse: 48.337\n",
            "[3000]\ttrain_set's rmse: 33.5665\tvalid_set's rmse: 48.1166\n"
          ]
        },
        {
          "name": "stderr",
          "output_type": "stream",
          "text": [
            "/home/ec2-user/anaconda3/envs/python3/lib/python3.6/site-packages/lightgbm/engine.py:239: UserWarning: 'verbose_eval' argument is deprecated and will be removed in a future release of LightGBM. Pass 'log_evaluation()' callback via 'callbacks' argument instead.\n",
            "  _log_warning(\"'verbose_eval' argument is deprecated and will be removed in a future release of LightGBM. \"\n"
          ]
        },
        {
          "name": "stdout",
          "output_type": "stream",
          "text": [
            "[1000]\ttrain_set's rmse: 39.5625\tvalid_set's rmse: 48.5281\n"
          ]
        },
        {
          "name": "stderr",
          "output_type": "stream",
          "text": [
            "/home/ec2-user/anaconda3/envs/python3/lib/python3.6/site-packages/lightgbm/engine.py:239: UserWarning: 'verbose_eval' argument is deprecated and will be removed in a future release of LightGBM. Pass 'log_evaluation()' callback via 'callbacks' argument instead.\n",
            "  _log_warning(\"'verbose_eval' argument is deprecated and will be removed in a future release of LightGBM. \"\n"
          ]
        },
        {
          "name": "stdout",
          "output_type": "stream",
          "text": [
            "[1000]\ttrain_set's rmse: 39.8857\tvalid_set's rmse: 42.9799\n",
            "[2000]\ttrain_set's rmse: 36.3288\tvalid_set's rmse: 42.1012\n",
            "[3000]\ttrain_set's rmse: 33.8659\tvalid_set's rmse: 41.8069\n",
            "[4000]\ttrain_set's rmse: 32.1146\tvalid_set's rmse: 41.5972\n",
            "[5000]\ttrain_set's rmse: 30.6114\tvalid_set's rmse: 41.4692\n",
            "[6000]\ttrain_set's rmse: 29.3571\tvalid_set's rmse: 41.4161\n",
            "[7000]\ttrain_set's rmse: 28.3008\tvalid_set's rmse: 41.3627\n",
            "[8000]\ttrain_set's rmse: 27.3637\tvalid_set's rmse: 41.379\n",
            "[9000]\ttrain_set's rmse: 26.5225\tvalid_set's rmse: 41.3721\n",
            "[10000]\ttrain_set's rmse: 25.7263\tvalid_set's rmse: 41.3715\n"
          ]
        },
        {
          "name": "stderr",
          "output_type": "stream",
          "text": [
            "/home/ec2-user/anaconda3/envs/python3/lib/python3.6/site-packages/lightgbm/engine.py:239: UserWarning: 'verbose_eval' argument is deprecated and will be removed in a future release of LightGBM. Pass 'log_evaluation()' callback via 'callbacks' argument instead.\n",
            "  _log_warning(\"'verbose_eval' argument is deprecated and will be removed in a future release of LightGBM. \"\n"
          ]
        },
        {
          "name": "stdout",
          "output_type": "stream",
          "text": [
            "[1000]\ttrain_set's rmse: 39.7316\tvalid_set's rmse: 44.0423\n"
          ]
        },
        {
          "name": "stderr",
          "output_type": "stream",
          "text": [
            "\t-45.9132\t = Validation score   (root_mean_squared_error)\n",
            "\t293.71s\t = Training   runtime\n",
            "\t22.17s\t = Validation runtime\n",
            "Fitting model: LightGBM_BAG_L2 ... Training model for up to 74.24s of the 74.22s of remaining time.\n",
            "/home/ec2-user/anaconda3/envs/python3/lib/python3.6/site-packages/lightgbm/engine.py:239: UserWarning: 'verbose_eval' argument is deprecated and will be removed in a future release of LightGBM. Pass 'log_evaluation()' callback via 'callbacks' argument instead.\n",
            "  _log_warning(\"'verbose_eval' argument is deprecated and will be removed in a future release of LightGBM. \"\n",
            "/home/ec2-user/anaconda3/envs/python3/lib/python3.6/site-packages/lightgbm/engine.py:239: UserWarning: 'verbose_eval' argument is deprecated and will be removed in a future release of LightGBM. Pass 'log_evaluation()' callback via 'callbacks' argument instead.\n",
            "  _log_warning(\"'verbose_eval' argument is deprecated and will be removed in a future release of LightGBM. \"\n",
            "\tRan out of time, early stopping on iteration 976. Best iteration is:\n",
            "\t[943]\ttrain_set's rmse: 30.8567\tvalid_set's rmse: 41.9597\n",
            "/home/ec2-user/anaconda3/envs/python3/lib/python3.6/site-packages/lightgbm/engine.py:239: UserWarning: 'verbose_eval' argument is deprecated and will be removed in a future release of LightGBM. Pass 'log_evaluation()' callback via 'callbacks' argument instead.\n",
            "  _log_warning(\"'verbose_eval' argument is deprecated and will be removed in a future release of LightGBM. \"\n",
            "/home/ec2-user/anaconda3/envs/python3/lib/python3.6/site-packages/lightgbm/engine.py:239: UserWarning: 'verbose_eval' argument is deprecated and will be removed in a future release of LightGBM. Pass 'log_evaluation()' callback via 'callbacks' argument instead.\n",
            "  _log_warning(\"'verbose_eval' argument is deprecated and will be removed in a future release of LightGBM. \"\n"
          ]
        },
        {
          "name": "stdout",
          "output_type": "stream",
          "text": [
            "[1000]\ttrain_set's rmse: 30.4085\tvalid_set's rmse: 44.271\n"
          ]
        },
        {
          "name": "stderr",
          "output_type": "stream",
          "text": [
            "\tRan out of time, early stopping on iteration 1071. Best iteration is:\n",
            "\t[1011]\ttrain_set's rmse: 30.3363\tvalid_set's rmse: 44.2561\n",
            "/home/ec2-user/anaconda3/envs/python3/lib/python3.6/site-packages/lightgbm/engine.py:239: UserWarning: 'verbose_eval' argument is deprecated and will be removed in a future release of LightGBM. Pass 'log_evaluation()' callback via 'callbacks' argument instead.\n",
            "  _log_warning(\"'verbose_eval' argument is deprecated and will be removed in a future release of LightGBM. \"\n"
          ]
        },
        {
          "name": "stdout",
          "output_type": "stream",
          "text": [
            "[1000]\ttrain_set's rmse: 30.6134\tvalid_set's rmse: 39.4357\n"
          ]
        },
        {
          "name": "stderr",
          "output_type": "stream",
          "text": [
            "/home/ec2-user/anaconda3/envs/python3/lib/python3.6/site-packages/lightgbm/engine.py:239: UserWarning: 'verbose_eval' argument is deprecated and will be removed in a future release of LightGBM. Pass 'log_evaluation()' callback via 'callbacks' argument instead.\n",
            "  _log_warning(\"'verbose_eval' argument is deprecated and will be removed in a future release of LightGBM. \"\n",
            "/home/ec2-user/anaconda3/envs/python3/lib/python3.6/site-packages/lightgbm/engine.py:239: UserWarning: 'verbose_eval' argument is deprecated and will be removed in a future release of LightGBM. Pass 'log_evaluation()' callback via 'callbacks' argument instead.\n",
            "  _log_warning(\"'verbose_eval' argument is deprecated and will be removed in a future release of LightGBM. \"\n"
          ]
        },
        {
          "name": "stdout",
          "output_type": "stream",
          "text": [
            "[1000]\ttrain_set's rmse: 30.2352\tvalid_set's rmse: 43.0486\n"
          ]
        },
        {
          "name": "stderr",
          "output_type": "stream",
          "text": [
            "\tRan out of time, early stopping on iteration 1167. Best iteration is:\n",
            "\t[1107]\ttrain_set's rmse: 29.7361\tvalid_set's rmse: 42.925\n",
            "/home/ec2-user/anaconda3/envs/python3/lib/python3.6/site-packages/lightgbm/engine.py:239: UserWarning: 'verbose_eval' argument is deprecated and will be removed in a future release of LightGBM. Pass 'log_evaluation()' callback via 'callbacks' argument instead.\n",
            "  _log_warning(\"'verbose_eval' argument is deprecated and will be removed in a future release of LightGBM. \"\n",
            "/home/ec2-user/anaconda3/envs/python3/lib/python3.6/site-packages/lightgbm/engine.py:239: UserWarning: 'verbose_eval' argument is deprecated and will be removed in a future release of LightGBM. Pass 'log_evaluation()' callback via 'callbacks' argument instead.\n",
            "  _log_warning(\"'verbose_eval' argument is deprecated and will be removed in a future release of LightGBM. \"\n"
          ]
        },
        {
          "name": "stdout",
          "output_type": "stream",
          "text": [
            "[1000]\ttrain_set's rmse: 30.676\tvalid_set's rmse: 37.7205\n"
          ]
        },
        {
          "name": "stderr",
          "output_type": "stream",
          "text": [
            "/home/ec2-user/anaconda3/envs/python3/lib/python3.6/site-packages/lightgbm/engine.py:239: UserWarning: 'verbose_eval' argument is deprecated and will be removed in a future release of LightGBM. Pass 'log_evaluation()' callback via 'callbacks' argument instead.\n",
            "  _log_warning(\"'verbose_eval' argument is deprecated and will be removed in a future release of LightGBM. \"\n",
            "\t-42.4255\t = Validation score   (root_mean_squared_error)\n",
            "\t55.81s\t = Training   runtime\n",
            "\t2.91s\t = Validation runtime\n",
            "Fitting model: RandomForestMSE_BAG_L2 ... Training model for up to 14.09s of the 14.07s of remaining time.\n",
            "\tWarning: Reducing model 'n_estimators' from 300 -> 47 due to low memory. Expected memory usage reduced from 94.16% -> 15.0% of available memory...\n",
            "\tWarning: Model is expected to require 37.7s to train, which exceeds the maximum time limit of 14.1s, skipping model...\n",
            "\tTime limit exceeded... Skipping RandomForestMSE_BAG_L2.\n",
            "Fitting model: CatBoost_BAG_L2 ... Training model for up to 10.72s of the 10.71s of remaining time.\n",
            "\t-52.6254\t = Validation score   (root_mean_squared_error)\n",
            "\t7.9s\t = Training   runtime\n",
            "\t0.05s\t = Validation runtime\n",
            "Fitting model: ExtraTreesMSE_BAG_L2 ... Training model for up to 2.69s of the 2.67s of remaining time.\n",
            "\tWarning: Reducing model 'n_estimators' from 300 -> 45 due to low memory. Expected memory usage reduced from 99.22% -> 15.0% of available memory...\n",
            "\tWarning: Model is expected to require 13.6s to train, which exceeds the maximum time limit of 2.7s, skipping model...\n",
            "\tTime limit exceeded... Skipping ExtraTreesMSE_BAG_L2.\n",
            "Fitting model: NeuralNetFastAI_BAG_L2 ... Training model for up to 1.34s of the 1.33s of remaining time.\n",
            "\tTime limit exceeded... Skipping NeuralNetFastAI_BAG_L2.\n",
            "Completed 1/20 k-fold bagging repeats ...\n",
            "Fitting model: WeightedEnsemble_L3 ... Training model for up to 360.0s of the -3.26s of remaining time.\n",
            "\t-42.3687\t = Validation score   (root_mean_squared_error)\n",
            "\t0.91s\t = Training   runtime\n",
            "\t0.0s\t = Validation runtime\n",
            "AutoGluon training complete, total runtime = 1204.21s ...\n",
            "TabularPredictor saved. To load, use: predictor = TabularPredictor.load(\"transaction_models/\")\n"
          ]
        }
      ],
      "source": [
        "from autogluon.tabular import TabularPredictor\n",
        "\n",
        "#Training with Autogluon Tabular\n",
        "save_path = 'transaction_models'\n",
        "predictor = TabularPredictor('cumulative_transaction', problem_type='regression', \n",
        "                                          path=save_path, learner_kwargs={'ignored_columns':['person', 'offers','Other', 'email', 'informational', 'offer_completed', 'offer_received', 'offer_viewed', 'total_transaction']} ).fit(train, time_limit=1200, presets='best_quality')"
      ]
    },
    {
      "cell_type": "markdown",
      "metadata": {
        "id": "6LrqFFl0oVEW"
      },
      "source": [
        "## My Tabular predictor leaderboard"
      ]
    },
    {
      "cell_type": "code",
      "execution_count": null,
      "metadata": {
        "id": "QrOZGuk9oVEX",
        "outputId": "0aa7bc43-fad8-4943-a19f-99f679d7c26c"
      },
      "outputs": [
        {
          "data": {
            "text/html": [
              "<div>\n",
              "<style scoped>\n",
              "    .dataframe tbody tr th:only-of-type {\n",
              "        vertical-align: middle;\n",
              "    }\n",
              "\n",
              "    .dataframe tbody tr th {\n",
              "        vertical-align: top;\n",
              "    }\n",
              "\n",
              "    .dataframe thead th {\n",
              "        text-align: right;\n",
              "    }\n",
              "</style>\n",
              "<table border=\"1\" class=\"dataframe\">\n",
              "  <thead>\n",
              "    <tr style=\"text-align: right;\">\n",
              "      <th></th>\n",
              "      <th>model</th>\n",
              "      <th>score_val</th>\n",
              "      <th>pred_time_val</th>\n",
              "      <th>fit_time</th>\n",
              "      <th>pred_time_val_marginal</th>\n",
              "      <th>fit_time_marginal</th>\n",
              "      <th>stack_level</th>\n",
              "      <th>can_infer</th>\n",
              "      <th>fit_order</th>\n",
              "      <th>num_features</th>\n",
              "      <th>...</th>\n",
              "      <th>child_model_type</th>\n",
              "      <th>hyperparameters</th>\n",
              "      <th>hyperparameters_fit</th>\n",
              "      <th>ag_args_fit</th>\n",
              "      <th>features</th>\n",
              "      <th>child_hyperparameters</th>\n",
              "      <th>child_hyperparameters_fit</th>\n",
              "      <th>child_ag_args_fit</th>\n",
              "      <th>ancestors</th>\n",
              "      <th>descendants</th>\n",
              "    </tr>\n",
              "  </thead>\n",
              "  <tbody>\n",
              "    <tr>\n",
              "      <th>0</th>\n",
              "      <td>WeightedEnsemble_L3</td>\n",
              "      <td>-42.368650</td>\n",
              "      <td>104.664558</td>\n",
              "      <td>1053.279999</td>\n",
              "      <td>0.002498</td>\n",
              "      <td>0.907678</td>\n",
              "      <td>3</td>\n",
              "      <td>True</td>\n",
              "      <td>9</td>\n",
              "      <td>3</td>\n",
              "      <td>...</td>\n",
              "      <td>GreedyWeightedEnsembleModel</td>\n",
              "      <td>{'use_orig_features': False, 'max_base_models': 25, 'max_base_models_per_type': 5, 'save_bag_folds': True}</td>\n",
              "      <td>{}</td>\n",
              "      <td>{'max_memory_usage_ratio': 1.0, 'max_time_limit_ratio': 1.0, 'max_time_limit': None, 'min_time_limit': 0, 'ignored_type_group_special': None, 'ignored_type_group_raw': None, 'get_features_kwargs': None, 'get_features_kwargs_extra': None, 'drop_unique': False}</td>\n",
              "      <td>[LightGBMXT_BAG_L2, CatBoost_BAG_L2, LightGBM_BAG_L2]</td>\n",
              "      <td>{'ensemble_size': 100}</td>\n",
              "      <td>{'ensemble_size': 93}</td>\n",
              "      <td>{'max_memory_usage_ratio': 1.0, 'max_time_limit_ratio': 1.0, 'max_time_limit': None, 'min_time_limit': 0, 'ignored_type_group_special': None, 'ignored_type_group_raw': None, 'get_features_kwargs': None, 'get_features_kwargs_extra': None, 'drop_unique': False}</td>\n",
              "      <td>[KNeighborsUnif_BAG_L1, LightGBM_BAG_L1, KNeighborsDist_BAG_L1, LightGBMXT_BAG_L2, LightGBM_BAG_L2, CatBoost_BAG_L2, LightGBMXT_BAG_L1]</td>\n",
              "      <td>[]</td>\n",
              "    </tr>\n",
              "    <tr>\n",
              "      <th>1</th>\n",
              "      <td>LightGBM_BAG_L2</td>\n",
              "      <td>-42.425539</td>\n",
              "      <td>82.439590</td>\n",
              "      <td>750.768911</td>\n",
              "      <td>2.914795</td>\n",
              "      <td>55.807490</td>\n",
              "      <td>2</td>\n",
              "      <td>True</td>\n",
              "      <td>7</td>\n",
              "      <td>19</td>\n",
              "      <td>...</td>\n",
              "      <td>LGBModel</td>\n",
              "      <td>{'use_orig_features': True, 'max_base_models': 25, 'max_base_models_per_type': 5, 'save_bag_folds': True}</td>\n",
              "      <td>{}</td>\n",
              "      <td>{'max_memory_usage_ratio': 1.0, 'max_time_limit_ratio': 1.0, 'max_time_limit': None, 'min_time_limit': 0, 'ignored_type_group_special': None, 'ignored_type_group_raw': None, 'get_features_kwargs': None, 'get_features_kwargs_extra': None, 'drop_unique': False}</td>\n",
              "      <td>[KNeighborsUnif_BAG_L1, LightGBM_BAG_L1, bogo, mobile, KNeighborsDist_BAG_L1, age, offer_reward, discount, social, Female, offer_duration, LightGBMXT_BAG_L1, Male, time, web, reward, income, membership_duration, offer_difficulty]</td>\n",
              "      <td>{'num_boost_round': 10000, 'num_threads': -1, 'learning_rate': 0.05, 'objective': 'regression', 'verbose': -1, 'boosting_type': 'gbdt', 'two_round': True}</td>\n",
              "      <td>{'num_boost_round': 691}</td>\n",
              "      <td>{'max_memory_usage_ratio': 1.0, 'max_time_limit_ratio': 1.0, 'max_time_limit': None, 'min_time_limit': 0, 'ignored_type_group_special': None, 'ignored_type_group_raw': ['object'], 'get_features_kwargs': None, 'get_features_kwargs_extra': None}</td>\n",
              "      <td>[KNeighborsUnif_BAG_L1, LightGBMXT_BAG_L1, KNeighborsDist_BAG_L1, LightGBM_BAG_L1]</td>\n",
              "      <td>[WeightedEnsemble_L3]</td>\n",
              "    </tr>\n",
              "    <tr>\n",
              "      <th>2</th>\n",
              "      <td>LightGBMXT_BAG_L2</td>\n",
              "      <td>-45.913178</td>\n",
              "      <td>101.696354</td>\n",
              "      <td>988.669068</td>\n",
              "      <td>22.171559</td>\n",
              "      <td>293.707647</td>\n",
              "      <td>2</td>\n",
              "      <td>True</td>\n",
              "      <td>6</td>\n",
              "      <td>19</td>\n",
              "      <td>...</td>\n",
              "      <td>LGBModel</td>\n",
              "      <td>{'use_orig_features': True, 'max_base_models': 25, 'max_base_models_per_type': 5, 'save_bag_folds': True}</td>\n",
              "      <td>{}</td>\n",
              "      <td>{'max_memory_usage_ratio': 1.0, 'max_time_limit_ratio': 1.0, 'max_time_limit': None, 'min_time_limit': 0, 'ignored_type_group_special': None, 'ignored_type_group_raw': None, 'get_features_kwargs': None, 'get_features_kwargs_extra': None, 'drop_unique': False}</td>\n",
              "      <td>[KNeighborsUnif_BAG_L1, LightGBM_BAG_L1, bogo, mobile, KNeighborsDist_BAG_L1, age, offer_reward, discount, social, Female, offer_duration, LightGBMXT_BAG_L1, Male, time, web, reward, income, membership_duration, offer_difficulty]</td>\n",
              "      <td>{'num_boost_round': 10000, 'num_threads': -1, 'learning_rate': 0.05, 'objective': 'regression', 'verbose': -1, 'boosting_type': 'gbdt', 'two_round': True, 'extra_trees': True}</td>\n",
              "      <td>{'num_boost_round': 4061}</td>\n",
              "      <td>{'max_memory_usage_ratio': 1.0, 'max_time_limit_ratio': 1.0, 'max_time_limit': None, 'min_time_limit': 0, 'ignored_type_group_special': None, 'ignored_type_group_raw': ['object'], 'get_features_kwargs': None, 'get_features_kwargs_extra': None}</td>\n",
              "      <td>[KNeighborsUnif_BAG_L1, LightGBMXT_BAG_L1, KNeighborsDist_BAG_L1, LightGBM_BAG_L1]</td>\n",
              "      <td>[WeightedEnsemble_L3]</td>\n",
              "    </tr>\n",
              "    <tr>\n",
              "      <th>3</th>\n",
              "      <td>WeightedEnsemble_L2</td>\n",
              "      <td>-50.032328</td>\n",
              "      <td>12.983774</td>\n",
              "      <td>113.341726</td>\n",
              "      <td>0.002828</td>\n",
              "      <td>1.338707</td>\n",
              "      <td>2</td>\n",
              "      <td>True</td>\n",
              "      <td>5</td>\n",
              "      <td>2</td>\n",
              "      <td>...</td>\n",
              "      <td>GreedyWeightedEnsembleModel</td>\n",
              "      <td>{'use_orig_features': False, 'max_base_models': 25, 'max_base_models_per_type': 5, 'save_bag_folds': True}</td>\n",
              "      <td>{}</td>\n",
              "      <td>{'max_memory_usage_ratio': 1.0, 'max_time_limit_ratio': 1.0, 'max_time_limit': None, 'min_time_limit': 0, 'ignored_type_group_special': None, 'ignored_type_group_raw': None, 'get_features_kwargs': None, 'get_features_kwargs_extra': None, 'drop_unique': False}</td>\n",
              "      <td>[KNeighborsDist_BAG_L1, LightGBM_BAG_L1]</td>\n",
              "      <td>{'ensemble_size': 100}</td>\n",
              "      <td>{'ensemble_size': 34}</td>\n",
              "      <td>{'max_memory_usage_ratio': 1.0, 'max_time_limit_ratio': 1.0, 'max_time_limit': None, 'min_time_limit': 0, 'ignored_type_group_special': None, 'ignored_type_group_raw': None, 'get_features_kwargs': None, 'get_features_kwargs_extra': None, 'drop_unique': False}</td>\n",
              "      <td>[KNeighborsDist_BAG_L1, LightGBM_BAG_L1]</td>\n",
              "      <td>[]</td>\n",
              "    </tr>\n",
              "    <tr>\n",
              "      <th>4</th>\n",
              "      <td>CatBoost_BAG_L2</td>\n",
              "      <td>-52.625367</td>\n",
              "      <td>79.575706</td>\n",
              "      <td>702.857185</td>\n",
              "      <td>0.050911</td>\n",
              "      <td>7.895764</td>\n",
              "      <td>2</td>\n",
              "      <td>True</td>\n",
              "      <td>8</td>\n",
              "      <td>19</td>\n",
              "      <td>...</td>\n",
              "      <td>CatBoostModel</td>\n",
              "      <td>{'use_orig_features': True, 'max_base_models': 25, 'max_base_models_per_type': 5, 'save_bag_folds': True}</td>\n",
              "      <td>{}</td>\n",
              "      <td>{'max_memory_usage_ratio': 1.0, 'max_time_limit_ratio': 1.0, 'max_time_limit': None, 'min_time_limit': 0, 'ignored_type_group_special': None, 'ignored_type_group_raw': None, 'get_features_kwargs': None, 'get_features_kwargs_extra': None, 'drop_unique': False}</td>\n",
              "      <td>[KNeighborsUnif_BAG_L1, LightGBM_BAG_L1, bogo, mobile, KNeighborsDist_BAG_L1, age, offer_reward, discount, social, Female, offer_duration, LightGBMXT_BAG_L1, Male, time, web, reward, income, membership_duration, offer_difficulty]</td>\n",
              "      <td>{'iterations': 10000, 'learning_rate': 0.05, 'random_seed': 0, 'allow_writing_files': False, 'eval_metric': 'RMSE'}</td>\n",
              "      <td>{'iterations': 32}</td>\n",
              "      <td>{'max_memory_usage_ratio': 1.0, 'max_time_limit_ratio': 1.0, 'max_time_limit': None, 'min_time_limit': 0, 'ignored_type_group_special': None, 'ignored_type_group_raw': ['object'], 'get_features_kwargs': None, 'get_features_kwargs_extra': None}</td>\n",
              "      <td>[KNeighborsUnif_BAG_L1, LightGBMXT_BAG_L1, KNeighborsDist_BAG_L1, LightGBM_BAG_L1]</td>\n",
              "      <td>[WeightedEnsemble_L3]</td>\n",
              "    </tr>\n",
              "    <tr>\n",
              "      <th>5</th>\n",
              "      <td>KNeighborsDist_BAG_L1</td>\n",
              "      <td>-53.779447</td>\n",
              "      <td>2.231099</td>\n",
              "      <td>0.869061</td>\n",
              "      <td>2.231099</td>\n",
              "      <td>0.869061</td>\n",
              "      <td>1</td>\n",
              "      <td>True</td>\n",
              "      <td>2</td>\n",
              "      <td>7</td>\n",
              "      <td>...</td>\n",
              "      <td>KNNModel</td>\n",
              "      <td>{'use_orig_features': True, 'max_base_models': 25, 'max_base_models_per_type': 5, 'save_bag_folds': True, 'use_child_oof': True}</td>\n",
              "      <td>{}</td>\n",
              "      <td>{'max_memory_usage_ratio': 1.0, 'max_time_limit_ratio': 1.0, 'max_time_limit': None, 'min_time_limit': 0, 'ignored_type_group_special': None, 'ignored_type_group_raw': None, 'get_features_kwargs': None, 'get_features_kwargs_extra': None, 'drop_unique': False}</td>\n",
              "      <td>[age, offer_reward, offer_duration, time, membership_duration, income, offer_difficulty]</td>\n",
              "      <td>{'weights': 'distance', 'n_jobs': -1}</td>\n",
              "      <td>{}</td>\n",
              "      <td>{'max_memory_usage_ratio': 1.0, 'max_time_limit_ratio': 1.0, 'max_time_limit': None, 'min_time_limit': 0, 'ignored_type_group_special': ['bool', 'text_ngram', 'text_special', 'datetime_as_int'], 'ignored_type_group_raw': ['bool', 'category', 'object'], 'get_features_kwargs': None, 'get_features_kwargs_extra': None}</td>\n",
              "      <td>[]</td>\n",
              "      <td>[WeightedEnsemble_L3, LightGBMXT_BAG_L2, LightGBM_BAG_L2, CatBoost_BAG_L2, WeightedEnsemble_L2]</td>\n",
              "    </tr>\n",
              "    <tr>\n",
              "      <th>6</th>\n",
              "      <td>LightGBM_BAG_L1</td>\n",
              "      <td>-55.927592</td>\n",
              "      <td>10.749847</td>\n",
              "      <td>111.133958</td>\n",
              "      <td>10.749847</td>\n",
              "      <td>111.133958</td>\n",
              "      <td>1</td>\n",
              "      <td>True</td>\n",
              "      <td>4</td>\n",
              "      <td>15</td>\n",
              "      <td>...</td>\n",
              "      <td>LGBModel</td>\n",
              "      <td>{'use_orig_features': True, 'max_base_models': 25, 'max_base_models_per_type': 5, 'save_bag_folds': True}</td>\n",
              "      <td>{}</td>\n",
              "      <td>{'max_memory_usage_ratio': 1.0, 'max_time_limit_ratio': 1.0, 'max_time_limit': None, 'min_time_limit': 0, 'ignored_type_group_special': None, 'ignored_type_group_raw': None, 'get_features_kwargs': None, 'get_features_kwargs_extra': None, 'drop_unique': False}</td>\n",
              "      <td>[bogo, mobile, age, offer_reward, discount, social, Female, offer_duration, Male, time, web, reward, income, membership_duration, offer_difficulty]</td>\n",
              "      <td>{'num_boost_round': 10000, 'num_threads': -1, 'learning_rate': 0.05, 'objective': 'regression', 'verbose': -1, 'boosting_type': 'gbdt', 'two_round': True}</td>\n",
              "      <td>{'num_boost_round': 2136}</td>\n",
              "      <td>{'max_memory_usage_ratio': 1.0, 'max_time_limit_ratio': 1.0, 'max_time_limit': None, 'min_time_limit': 0, 'ignored_type_group_special': None, 'ignored_type_group_raw': ['object'], 'get_features_kwargs': None, 'get_features_kwargs_extra': None}</td>\n",
              "      <td>[]</td>\n",
              "      <td>[WeightedEnsemble_L3, LightGBMXT_BAG_L2, LightGBM_BAG_L2, CatBoost_BAG_L2, WeightedEnsemble_L2]</td>\n",
              "    </tr>\n",
              "    <tr>\n",
              "      <th>7</th>\n",
              "      <td>LightGBMXT_BAG_L1</td>\n",
              "      <td>-65.557195</td>\n",
              "      <td>64.221839</td>\n",
              "      <td>582.055316</td>\n",
              "      <td>64.221839</td>\n",
              "      <td>582.055316</td>\n",
              "      <td>1</td>\n",
              "      <td>True</td>\n",
              "      <td>3</td>\n",
              "      <td>15</td>\n",
              "      <td>...</td>\n",
              "      <td>LGBModel</td>\n",
              "      <td>{'use_orig_features': True, 'max_base_models': 25, 'max_base_models_per_type': 5, 'save_bag_folds': True}</td>\n",
              "      <td>{}</td>\n",
              "      <td>{'max_memory_usage_ratio': 1.0, 'max_time_limit_ratio': 1.0, 'max_time_limit': None, 'min_time_limit': 0, 'ignored_type_group_special': None, 'ignored_type_group_raw': None, 'get_features_kwargs': None, 'get_features_kwargs_extra': None, 'drop_unique': False}</td>\n",
              "      <td>[bogo, mobile, age, offer_reward, discount, social, Female, offer_duration, Male, time, web, reward, income, membership_duration, offer_difficulty]</td>\n",
              "      <td>{'num_boost_round': 10000, 'num_threads': -1, 'learning_rate': 0.05, 'objective': 'regression', 'verbose': -1, 'boosting_type': 'gbdt', 'two_round': True, 'extra_trees': True}</td>\n",
              "      <td>{'num_boost_round': 9997}</td>\n",
              "      <td>{'max_memory_usage_ratio': 1.0, 'max_time_limit_ratio': 1.0, 'max_time_limit': None, 'min_time_limit': 0, 'ignored_type_group_special': None, 'ignored_type_group_raw': ['object'], 'get_features_kwargs': None, 'get_features_kwargs_extra': None}</td>\n",
              "      <td>[]</td>\n",
              "      <td>[LightGBMXT_BAG_L2, CatBoost_BAG_L2, WeightedEnsemble_L3, LightGBM_BAG_L2]</td>\n",
              "    </tr>\n",
              "    <tr>\n",
              "      <th>8</th>\n",
              "      <td>KNeighborsUnif_BAG_L1</td>\n",
              "      <td>-66.348922</td>\n",
              "      <td>2.322010</td>\n",
              "      <td>0.903086</td>\n",
              "      <td>2.322010</td>\n",
              "      <td>0.903086</td>\n",
              "      <td>1</td>\n",
              "      <td>True</td>\n",
              "      <td>1</td>\n",
              "      <td>7</td>\n",
              "      <td>...</td>\n",
              "      <td>KNNModel</td>\n",
              "      <td>{'use_orig_features': True, 'max_base_models': 25, 'max_base_models_per_type': 5, 'save_bag_folds': True, 'use_child_oof': True}</td>\n",
              "      <td>{}</td>\n",
              "      <td>{'max_memory_usage_ratio': 1.0, 'max_time_limit_ratio': 1.0, 'max_time_limit': None, 'min_time_limit': 0, 'ignored_type_group_special': None, 'ignored_type_group_raw': None, 'get_features_kwargs': None, 'get_features_kwargs_extra': None, 'drop_unique': False}</td>\n",
              "      <td>[age, offer_reward, offer_duration, time, membership_duration, income, offer_difficulty]</td>\n",
              "      <td>{'weights': 'uniform', 'n_jobs': -1}</td>\n",
              "      <td>{}</td>\n",
              "      <td>{'max_memory_usage_ratio': 1.0, 'max_time_limit_ratio': 1.0, 'max_time_limit': None, 'min_time_limit': 0, 'ignored_type_group_special': ['bool', 'text_ngram', 'text_special', 'datetime_as_int'], 'ignored_type_group_raw': ['bool', 'category', 'object'], 'get_features_kwargs': None, 'get_features_kwargs_extra': None}</td>\n",
              "      <td>[]</td>\n",
              "      <td>[LightGBMXT_BAG_L2, CatBoost_BAG_L2, WeightedEnsemble_L3, LightGBM_BAG_L2]</td>\n",
              "    </tr>\n",
              "  </tbody>\n",
              "</table>\n",
              "<p>9 rows × 29 columns</p>\n",
              "</div>"
            ],
            "text/plain": [
              "                   model  score_val  pred_time_val     fit_time  \\\n",
              "0    WeightedEnsemble_L3 -42.368650     104.664558  1053.279999   \n",
              "1        LightGBM_BAG_L2 -42.425539      82.439590   750.768911   \n",
              "2      LightGBMXT_BAG_L2 -45.913178     101.696354   988.669068   \n",
              "3    WeightedEnsemble_L2 -50.032328      12.983774   113.341726   \n",
              "4        CatBoost_BAG_L2 -52.625367      79.575706   702.857185   \n",
              "5  KNeighborsDist_BAG_L1 -53.779447       2.231099     0.869061   \n",
              "6        LightGBM_BAG_L1 -55.927592      10.749847   111.133958   \n",
              "7      LightGBMXT_BAG_L1 -65.557195      64.221839   582.055316   \n",
              "8  KNeighborsUnif_BAG_L1 -66.348922       2.322010     0.903086   \n",
              "\n",
              "   pred_time_val_marginal  fit_time_marginal  stack_level  can_infer  \\\n",
              "0                0.002498           0.907678            3       True   \n",
              "1                2.914795          55.807490            2       True   \n",
              "2               22.171559         293.707647            2       True   \n",
              "3                0.002828           1.338707            2       True   \n",
              "4                0.050911           7.895764            2       True   \n",
              "5                2.231099           0.869061            1       True   \n",
              "6               10.749847         111.133958            1       True   \n",
              "7               64.221839         582.055316            1       True   \n",
              "8                2.322010           0.903086            1       True   \n",
              "\n",
              "   fit_order  num_features  ...             child_model_type  \\\n",
              "0          9             3  ...  GreedyWeightedEnsembleModel   \n",
              "1          7            19  ...                     LGBModel   \n",
              "2          6            19  ...                     LGBModel   \n",
              "3          5             2  ...  GreedyWeightedEnsembleModel   \n",
              "4          8            19  ...                CatBoostModel   \n",
              "5          2             7  ...                     KNNModel   \n",
              "6          4            15  ...                     LGBModel   \n",
              "7          3            15  ...                     LGBModel   \n",
              "8          1             7  ...                     KNNModel   \n",
              "\n",
              "                                                                                                                    hyperparameters  \\\n",
              "0                        {'use_orig_features': False, 'max_base_models': 25, 'max_base_models_per_type': 5, 'save_bag_folds': True}   \n",
              "1                         {'use_orig_features': True, 'max_base_models': 25, 'max_base_models_per_type': 5, 'save_bag_folds': True}   \n",
              "2                         {'use_orig_features': True, 'max_base_models': 25, 'max_base_models_per_type': 5, 'save_bag_folds': True}   \n",
              "3                        {'use_orig_features': False, 'max_base_models': 25, 'max_base_models_per_type': 5, 'save_bag_folds': True}   \n",
              "4                         {'use_orig_features': True, 'max_base_models': 25, 'max_base_models_per_type': 5, 'save_bag_folds': True}   \n",
              "5  {'use_orig_features': True, 'max_base_models': 25, 'max_base_models_per_type': 5, 'save_bag_folds': True, 'use_child_oof': True}   \n",
              "6                         {'use_orig_features': True, 'max_base_models': 25, 'max_base_models_per_type': 5, 'save_bag_folds': True}   \n",
              "7                         {'use_orig_features': True, 'max_base_models': 25, 'max_base_models_per_type': 5, 'save_bag_folds': True}   \n",
              "8  {'use_orig_features': True, 'max_base_models': 25, 'max_base_models_per_type': 5, 'save_bag_folds': True, 'use_child_oof': True}   \n",
              "\n",
              "   hyperparameters_fit  \\\n",
              "0                   {}   \n",
              "1                   {}   \n",
              "2                   {}   \n",
              "3                   {}   \n",
              "4                   {}   \n",
              "5                   {}   \n",
              "6                   {}   \n",
              "7                   {}   \n",
              "8                   {}   \n",
              "\n",
              "                                                                                                                                                                                                                                                           ag_args_fit  \\\n",
              "0  {'max_memory_usage_ratio': 1.0, 'max_time_limit_ratio': 1.0, 'max_time_limit': None, 'min_time_limit': 0, 'ignored_type_group_special': None, 'ignored_type_group_raw': None, 'get_features_kwargs': None, 'get_features_kwargs_extra': None, 'drop_unique': False}   \n",
              "1  {'max_memory_usage_ratio': 1.0, 'max_time_limit_ratio': 1.0, 'max_time_limit': None, 'min_time_limit': 0, 'ignored_type_group_special': None, 'ignored_type_group_raw': None, 'get_features_kwargs': None, 'get_features_kwargs_extra': None, 'drop_unique': False}   \n",
              "2  {'max_memory_usage_ratio': 1.0, 'max_time_limit_ratio': 1.0, 'max_time_limit': None, 'min_time_limit': 0, 'ignored_type_group_special': None, 'ignored_type_group_raw': None, 'get_features_kwargs': None, 'get_features_kwargs_extra': None, 'drop_unique': False}   \n",
              "3  {'max_memory_usage_ratio': 1.0, 'max_time_limit_ratio': 1.0, 'max_time_limit': None, 'min_time_limit': 0, 'ignored_type_group_special': None, 'ignored_type_group_raw': None, 'get_features_kwargs': None, 'get_features_kwargs_extra': None, 'drop_unique': False}   \n",
              "4  {'max_memory_usage_ratio': 1.0, 'max_time_limit_ratio': 1.0, 'max_time_limit': None, 'min_time_limit': 0, 'ignored_type_group_special': None, 'ignored_type_group_raw': None, 'get_features_kwargs': None, 'get_features_kwargs_extra': None, 'drop_unique': False}   \n",
              "5  {'max_memory_usage_ratio': 1.0, 'max_time_limit_ratio': 1.0, 'max_time_limit': None, 'min_time_limit': 0, 'ignored_type_group_special': None, 'ignored_type_group_raw': None, 'get_features_kwargs': None, 'get_features_kwargs_extra': None, 'drop_unique': False}   \n",
              "6  {'max_memory_usage_ratio': 1.0, 'max_time_limit_ratio': 1.0, 'max_time_limit': None, 'min_time_limit': 0, 'ignored_type_group_special': None, 'ignored_type_group_raw': None, 'get_features_kwargs': None, 'get_features_kwargs_extra': None, 'drop_unique': False}   \n",
              "7  {'max_memory_usage_ratio': 1.0, 'max_time_limit_ratio': 1.0, 'max_time_limit': None, 'min_time_limit': 0, 'ignored_type_group_special': None, 'ignored_type_group_raw': None, 'get_features_kwargs': None, 'get_features_kwargs_extra': None, 'drop_unique': False}   \n",
              "8  {'max_memory_usage_ratio': 1.0, 'max_time_limit_ratio': 1.0, 'max_time_limit': None, 'min_time_limit': 0, 'ignored_type_group_special': None, 'ignored_type_group_raw': None, 'get_features_kwargs': None, 'get_features_kwargs_extra': None, 'drop_unique': False}   \n",
              "\n",
              "                                                                                                                                                                                                                                features  \\\n",
              "0                                                                                                                                                                                  [LightGBMXT_BAG_L2, CatBoost_BAG_L2, LightGBM_BAG_L2]   \n",
              "1  [KNeighborsUnif_BAG_L1, LightGBM_BAG_L1, bogo, mobile, KNeighborsDist_BAG_L1, age, offer_reward, discount, social, Female, offer_duration, LightGBMXT_BAG_L1, Male, time, web, reward, income, membership_duration, offer_difficulty]   \n",
              "2  [KNeighborsUnif_BAG_L1, LightGBM_BAG_L1, bogo, mobile, KNeighborsDist_BAG_L1, age, offer_reward, discount, social, Female, offer_duration, LightGBMXT_BAG_L1, Male, time, web, reward, income, membership_duration, offer_difficulty]   \n",
              "3                                                                                                                                                                                               [KNeighborsDist_BAG_L1, LightGBM_BAG_L1]   \n",
              "4  [KNeighborsUnif_BAG_L1, LightGBM_BAG_L1, bogo, mobile, KNeighborsDist_BAG_L1, age, offer_reward, discount, social, Female, offer_duration, LightGBMXT_BAG_L1, Male, time, web, reward, income, membership_duration, offer_difficulty]   \n",
              "5                                                                                                                                               [age, offer_reward, offer_duration, time, membership_duration, income, offer_difficulty]   \n",
              "6                                                                                    [bogo, mobile, age, offer_reward, discount, social, Female, offer_duration, Male, time, web, reward, income, membership_duration, offer_difficulty]   \n",
              "7                                                                                    [bogo, mobile, age, offer_reward, discount, social, Female, offer_duration, Male, time, web, reward, income, membership_duration, offer_difficulty]   \n",
              "8                                                                                                                                               [age, offer_reward, offer_duration, time, membership_duration, income, offer_difficulty]   \n",
              "\n",
              "                                                                                                                                                             child_hyperparameters  \\\n",
              "0                                                                                                                                                           {'ensemble_size': 100}   \n",
              "1                       {'num_boost_round': 10000, 'num_threads': -1, 'learning_rate': 0.05, 'objective': 'regression', 'verbose': -1, 'boosting_type': 'gbdt', 'two_round': True}   \n",
              "2  {'num_boost_round': 10000, 'num_threads': -1, 'learning_rate': 0.05, 'objective': 'regression', 'verbose': -1, 'boosting_type': 'gbdt', 'two_round': True, 'extra_trees': True}   \n",
              "3                                                                                                                                                           {'ensemble_size': 100}   \n",
              "4                                                              {'iterations': 10000, 'learning_rate': 0.05, 'random_seed': 0, 'allow_writing_files': False, 'eval_metric': 'RMSE'}   \n",
              "5                                                                                                                                            {'weights': 'distance', 'n_jobs': -1}   \n",
              "6                       {'num_boost_round': 10000, 'num_threads': -1, 'learning_rate': 0.05, 'objective': 'regression', 'verbose': -1, 'boosting_type': 'gbdt', 'two_round': True}   \n",
              "7  {'num_boost_round': 10000, 'num_threads': -1, 'learning_rate': 0.05, 'objective': 'regression', 'verbose': -1, 'boosting_type': 'gbdt', 'two_round': True, 'extra_trees': True}   \n",
              "8                                                                                                                                             {'weights': 'uniform', 'n_jobs': -1}   \n",
              "\n",
              "   child_hyperparameters_fit  \\\n",
              "0      {'ensemble_size': 93}   \n",
              "1   {'num_boost_round': 691}   \n",
              "2  {'num_boost_round': 4061}   \n",
              "3      {'ensemble_size': 34}   \n",
              "4         {'iterations': 32}   \n",
              "5                         {}   \n",
              "6  {'num_boost_round': 2136}   \n",
              "7  {'num_boost_round': 9997}   \n",
              "8                         {}   \n",
              "\n",
              "                                                                                                                                                                                                                                                                                                              child_ag_args_fit  \\\n",
              "0                                                           {'max_memory_usage_ratio': 1.0, 'max_time_limit_ratio': 1.0, 'max_time_limit': None, 'min_time_limit': 0, 'ignored_type_group_special': None, 'ignored_type_group_raw': None, 'get_features_kwargs': None, 'get_features_kwargs_extra': None, 'drop_unique': False}   \n",
              "1                                                                           {'max_memory_usage_ratio': 1.0, 'max_time_limit_ratio': 1.0, 'max_time_limit': None, 'min_time_limit': 0, 'ignored_type_group_special': None, 'ignored_type_group_raw': ['object'], 'get_features_kwargs': None, 'get_features_kwargs_extra': None}   \n",
              "2                                                                           {'max_memory_usage_ratio': 1.0, 'max_time_limit_ratio': 1.0, 'max_time_limit': None, 'min_time_limit': 0, 'ignored_type_group_special': None, 'ignored_type_group_raw': ['object'], 'get_features_kwargs': None, 'get_features_kwargs_extra': None}   \n",
              "3                                                           {'max_memory_usage_ratio': 1.0, 'max_time_limit_ratio': 1.0, 'max_time_limit': None, 'min_time_limit': 0, 'ignored_type_group_special': None, 'ignored_type_group_raw': None, 'get_features_kwargs': None, 'get_features_kwargs_extra': None, 'drop_unique': False}   \n",
              "4                                                                           {'max_memory_usage_ratio': 1.0, 'max_time_limit_ratio': 1.0, 'max_time_limit': None, 'min_time_limit': 0, 'ignored_type_group_special': None, 'ignored_type_group_raw': ['object'], 'get_features_kwargs': None, 'get_features_kwargs_extra': None}   \n",
              "5  {'max_memory_usage_ratio': 1.0, 'max_time_limit_ratio': 1.0, 'max_time_limit': None, 'min_time_limit': 0, 'ignored_type_group_special': ['bool', 'text_ngram', 'text_special', 'datetime_as_int'], 'ignored_type_group_raw': ['bool', 'category', 'object'], 'get_features_kwargs': None, 'get_features_kwargs_extra': None}   \n",
              "6                                                                           {'max_memory_usage_ratio': 1.0, 'max_time_limit_ratio': 1.0, 'max_time_limit': None, 'min_time_limit': 0, 'ignored_type_group_special': None, 'ignored_type_group_raw': ['object'], 'get_features_kwargs': None, 'get_features_kwargs_extra': None}   \n",
              "7                                                                           {'max_memory_usage_ratio': 1.0, 'max_time_limit_ratio': 1.0, 'max_time_limit': None, 'min_time_limit': 0, 'ignored_type_group_special': None, 'ignored_type_group_raw': ['object'], 'get_features_kwargs': None, 'get_features_kwargs_extra': None}   \n",
              "8  {'max_memory_usage_ratio': 1.0, 'max_time_limit_ratio': 1.0, 'max_time_limit': None, 'min_time_limit': 0, 'ignored_type_group_special': ['bool', 'text_ngram', 'text_special', 'datetime_as_int'], 'ignored_type_group_raw': ['bool', 'category', 'object'], 'get_features_kwargs': None, 'get_features_kwargs_extra': None}   \n",
              "\n",
              "                                                                                                                                 ancestors  \\\n",
              "0  [KNeighborsUnif_BAG_L1, LightGBM_BAG_L1, KNeighborsDist_BAG_L1, LightGBMXT_BAG_L2, LightGBM_BAG_L2, CatBoost_BAG_L2, LightGBMXT_BAG_L1]   \n",
              "1                                                       [KNeighborsUnif_BAG_L1, LightGBMXT_BAG_L1, KNeighborsDist_BAG_L1, LightGBM_BAG_L1]   \n",
              "2                                                       [KNeighborsUnif_BAG_L1, LightGBMXT_BAG_L1, KNeighborsDist_BAG_L1, LightGBM_BAG_L1]   \n",
              "3                                                                                                 [KNeighborsDist_BAG_L1, LightGBM_BAG_L1]   \n",
              "4                                                       [KNeighborsUnif_BAG_L1, LightGBMXT_BAG_L1, KNeighborsDist_BAG_L1, LightGBM_BAG_L1]   \n",
              "5                                                                                                                                       []   \n",
              "6                                                                                                                                       []   \n",
              "7                                                                                                                                       []   \n",
              "8                                                                                                                                       []   \n",
              "\n",
              "                                                                                       descendants  \n",
              "0                                                                                               []  \n",
              "1                                                                            [WeightedEnsemble_L3]  \n",
              "2                                                                            [WeightedEnsemble_L3]  \n",
              "3                                                                                               []  \n",
              "4                                                                            [WeightedEnsemble_L3]  \n",
              "5  [WeightedEnsemble_L3, LightGBMXT_BAG_L2, LightGBM_BAG_L2, CatBoost_BAG_L2, WeightedEnsemble_L2]  \n",
              "6  [WeightedEnsemble_L3, LightGBMXT_BAG_L2, LightGBM_BAG_L2, CatBoost_BAG_L2, WeightedEnsemble_L2]  \n",
              "7                       [LightGBMXT_BAG_L2, CatBoost_BAG_L2, WeightedEnsemble_L3, LightGBM_BAG_L2]  \n",
              "8                       [LightGBMXT_BAG_L2, CatBoost_BAG_L2, WeightedEnsemble_L3, LightGBM_BAG_L2]  \n",
              "\n",
              "[9 rows x 29 columns]"
            ]
          },
          "execution_count": 88,
          "metadata": {},
          "output_type": "execute_result"
        }
      ],
      "source": [
        "#The predictor leaderboard that is produced using the data previously reserved for validation inside fit, and can display extra information about each model:\n",
        "predictor.leaderboard(extra_info=True, silent=True)"
      ]
    },
    {
      "cell_type": "code",
      "execution_count": null,
      "metadata": {
        "id": "VdCDKUPFoVEX",
        "outputId": "fb3caf6c-4f42-46d2-f46c-0abc0a270111"
      },
      "outputs": [
        {
          "name": "stdout",
          "output_type": "stream",
          "text": [
            "Predictor features:  ['time', 'reward', 'age', 'income', 'membership_duration', 'Male', 'Female', 'offer_reward', 'offer_difficulty', 'offer_duration', 'web', 'mobile', 'social', 'bogo', 'discount']\n"
          ]
        }
      ],
      "source": [
        "print(\"Predictor features: \", predictor.features())"
      ]
    },
    {
      "cell_type": "markdown",
      "metadata": {
        "id": "wWHtG33voVEX"
      },
      "source": [
        "## Getting predictions from TabularPredictor"
      ]
    },
    {
      "cell_type": "code",
      "execution_count": null,
      "metadata": {
        "id": "rP6rtp_FoVEY"
      },
      "outputs": [],
      "source": [
        "response = predictor.predict(test)\n",
        "test_target = test['cumulative_transaction']"
      ]
    },
    {
      "cell_type": "code",
      "execution_count": null,
      "metadata": {
        "id": "Dylo4jt0oVEY",
        "outputId": "eb02e922-f9ae-4263-f7a7-178fdf958b72"
      },
      "outputs": [
        {
          "name": "stdout",
          "output_type": "stream",
          "text": [
            "response:\n",
            "  53680    766.571960\n",
            "60296     44.871216\n",
            "93002     23.226473\n",
            "51223     16.035902\n",
            "63364      0.295056\n",
            "            ...    \n",
            "38068     32.941368\n",
            "96695     11.738913\n",
            "51438     95.026451\n",
            "85069    133.813339\n",
            "88609     19.691917\n",
            "Name: cumulative_transaction, Length: 41896, dtype: float32\n",
            "target:\n",
            " 53680    674.56\n",
            "60296      8.59\n",
            "93002      8.48\n",
            "51223     13.22\n",
            "63364      0.00\n",
            "          ...  \n",
            "38068     34.04\n",
            "96695      4.60\n",
            "51438     44.72\n",
            "85069     71.67\n",
            "88609      9.95\n",
            "Name: cumulative_transaction, Length: 41896, dtype: float64\n"
          ]
        }
      ],
      "source": [
        "print(\"response:\\n \",response)\n",
        "print(\"target:\\n\",test_target)"
      ]
    },
    {
      "cell_type": "markdown",
      "metadata": {
        "id": "n3gAwL4hoVEY"
      },
      "source": [
        "## Evaluate the Autogluon predictor"
      ]
    },
    {
      "cell_type": "code",
      "execution_count": null,
      "metadata": {
        "id": "mTyjiz2joVEY",
        "outputId": "ded108dd-1537-4586-a639-30d5e0fb3262"
      },
      "outputs": [
        {
          "name": "stderr",
          "output_type": "stream",
          "text": [
            "Evaluation: root_mean_squared_error on test data: -40.85419444299454\n",
            "\tNote: Scores are always higher_is_better. This metric score can be multiplied by -1 to get the metric value.\n",
            "Evaluations on test data:\n",
            "{\n",
            "    \"root_mean_squared_error\": -40.85419444299454,\n",
            "    \"mean_squared_error\": -1669.0652035860114,\n",
            "    \"mean_absolute_error\": -18.183393678980757,\n",
            "    \"r2\": 0.7690994021106778,\n",
            "    \"pearsonr\": 0.8772191133365619,\n",
            "    \"median_absolute_error\": -8.33363681793214\n",
            "}\n"
          ]
        },
        {
          "data": {
            "text/plain": [
              "{'root_mean_squared_error': -40.85419444299454,\n",
              " 'mean_squared_error': -1669.0652035860114,\n",
              " 'mean_absolute_error': -18.183393678980757,\n",
              " 'r2': 0.7690994021106778,\n",
              " 'pearsonr': 0.8772191133365619,\n",
              " 'median_absolute_error': -8.33363681793214}"
            ]
          },
          "execution_count": 97,
          "metadata": {},
          "output_type": "execute_result"
        }
      ],
      "source": [
        "predictor.evaluate(test)"
      ]
    },
    {
      "cell_type": "markdown",
      "metadata": {
        "id": "pT8XQm6JoVEZ"
      },
      "source": [
        "## Feature importance"
      ]
    },
    {
      "cell_type": "code",
      "execution_count": null,
      "metadata": {
        "id": "ne3Pf-NroVEZ",
        "outputId": "425cd8d4-a38d-411b-dd95-7fb095469a28"
      },
      "outputs": [
        {
          "name": "stderr",
          "output_type": "stream",
          "text": [
            "Computing feature importance via permutation shuffling for 15 features using 1000 rows with 3 shuffle sets...\n",
            "\t731.77s\t= Expected runtime (243.92s per shuffle set)\n",
            "\t443.75s\t= Actual runtime (Completed 3 of 3 shuffle sets)\n"
          ]
        },
        {
          "data": {
            "text/html": [
              "<div>\n",
              "<style scoped>\n",
              "    .dataframe tbody tr th:only-of-type {\n",
              "        vertical-align: middle;\n",
              "    }\n",
              "\n",
              "    .dataframe tbody tr th {\n",
              "        vertical-align: top;\n",
              "    }\n",
              "\n",
              "    .dataframe thead th {\n",
              "        text-align: right;\n",
              "    }\n",
              "</style>\n",
              "<table border=\"1\" class=\"dataframe\">\n",
              "  <thead>\n",
              "    <tr style=\"text-align: right;\">\n",
              "      <th></th>\n",
              "      <th>importance</th>\n",
              "      <th>stddev</th>\n",
              "      <th>p_value</th>\n",
              "      <th>n</th>\n",
              "      <th>p99_high</th>\n",
              "      <th>p99_low</th>\n",
              "    </tr>\n",
              "  </thead>\n",
              "  <tbody>\n",
              "    <tr>\n",
              "      <th>income</th>\n",
              "      <td>47.165292</td>\n",
              "      <td>7.170958</td>\n",
              "      <td>0.003809</td>\n",
              "      <td>3</td>\n",
              "      <td>88.255674</td>\n",
              "      <td>6.074910</td>\n",
              "    </tr>\n",
              "    <tr>\n",
              "      <th>age</th>\n",
              "      <td>37.275802</td>\n",
              "      <td>9.836164</td>\n",
              "      <td>0.011216</td>\n",
              "      <td>3</td>\n",
              "      <td>93.638111</td>\n",
              "      <td>-19.086508</td>\n",
              "    </tr>\n",
              "    <tr>\n",
              "      <th>time</th>\n",
              "      <td>34.273346</td>\n",
              "      <td>6.786459</td>\n",
              "      <td>0.006409</td>\n",
              "      <td>3</td>\n",
              "      <td>73.160507</td>\n",
              "      <td>-4.613814</td>\n",
              "    </tr>\n",
              "    <tr>\n",
              "      <th>membership_duration</th>\n",
              "      <td>33.096836</td>\n",
              "      <td>4.776246</td>\n",
              "      <td>0.003435</td>\n",
              "      <td>3</td>\n",
              "      <td>60.465258</td>\n",
              "      <td>5.728414</td>\n",
              "    </tr>\n",
              "    <tr>\n",
              "      <th>offer_difficulty</th>\n",
              "      <td>6.951953</td>\n",
              "      <td>1.607391</td>\n",
              "      <td>0.008679</td>\n",
              "      <td>3</td>\n",
              "      <td>16.162484</td>\n",
              "      <td>-2.258577</td>\n",
              "    </tr>\n",
              "    <tr>\n",
              "      <th>offer_reward</th>\n",
              "      <td>3.767608</td>\n",
              "      <td>0.957463</td>\n",
              "      <td>0.010428</td>\n",
              "      <td>3</td>\n",
              "      <td>9.253979</td>\n",
              "      <td>-1.718764</td>\n",
              "    </tr>\n",
              "    <tr>\n",
              "      <th>offer_duration</th>\n",
              "      <td>3.376406</td>\n",
              "      <td>0.957187</td>\n",
              "      <td>0.012879</td>\n",
              "      <td>3</td>\n",
              "      <td>8.861195</td>\n",
              "      <td>-2.108382</td>\n",
              "    </tr>\n",
              "    <tr>\n",
              "      <th>Male</th>\n",
              "      <td>3.344184</td>\n",
              "      <td>2.300363</td>\n",
              "      <td>0.064053</td>\n",
              "      <td>3</td>\n",
              "      <td>16.525521</td>\n",
              "      <td>-9.837153</td>\n",
              "    </tr>\n",
              "    <tr>\n",
              "      <th>reward</th>\n",
              "      <td>1.312406</td>\n",
              "      <td>0.448571</td>\n",
              "      <td>0.018402</td>\n",
              "      <td>3</td>\n",
              "      <td>3.882767</td>\n",
              "      <td>-1.257955</td>\n",
              "    </tr>\n",
              "    <tr>\n",
              "      <th>Female</th>\n",
              "      <td>1.013403</td>\n",
              "      <td>1.332393</td>\n",
              "      <td>0.159194</td>\n",
              "      <td>3</td>\n",
              "      <td>8.648163</td>\n",
              "      <td>-6.621358</td>\n",
              "    </tr>\n",
              "    <tr>\n",
              "      <th>social</th>\n",
              "      <td>0.454156</td>\n",
              "      <td>0.196503</td>\n",
              "      <td>0.028555</td>\n",
              "      <td>3</td>\n",
              "      <td>1.580140</td>\n",
              "      <td>-0.671828</td>\n",
              "    </tr>\n",
              "    <tr>\n",
              "      <th>discount</th>\n",
              "      <td>0.047031</td>\n",
              "      <td>0.254238</td>\n",
              "      <td>0.389518</td>\n",
              "      <td>3</td>\n",
              "      <td>1.503842</td>\n",
              "      <td>-1.409780</td>\n",
              "    </tr>\n",
              "    <tr>\n",
              "      <th>bogo</th>\n",
              "      <td>0.006032</td>\n",
              "      <td>0.137368</td>\n",
              "      <td>0.473147</td>\n",
              "      <td>3</td>\n",
              "      <td>0.793167</td>\n",
              "      <td>-0.781102</td>\n",
              "    </tr>\n",
              "    <tr>\n",
              "      <th>mobile</th>\n",
              "      <td>-0.013164</td>\n",
              "      <td>0.081005</td>\n",
              "      <td>0.597604</td>\n",
              "      <td>3</td>\n",
              "      <td>0.451004</td>\n",
              "      <td>-0.477333</td>\n",
              "    </tr>\n",
              "    <tr>\n",
              "      <th>web</th>\n",
              "      <td>-0.140804</td>\n",
              "      <td>1.404616</td>\n",
              "      <td>0.560929</td>\n",
              "      <td>3</td>\n",
              "      <td>7.907802</td>\n",
              "      <td>-8.189411</td>\n",
              "    </tr>\n",
              "  </tbody>\n",
              "</table>\n",
              "</div>"
            ],
            "text/plain": [
              "                     importance    stddev   p_value  n   p99_high    p99_low\n",
              "income                47.165292  7.170958  0.003809  3  88.255674   6.074910\n",
              "age                   37.275802  9.836164  0.011216  3  93.638111 -19.086508\n",
              "time                  34.273346  6.786459  0.006409  3  73.160507  -4.613814\n",
              "membership_duration   33.096836  4.776246  0.003435  3  60.465258   5.728414\n",
              "offer_difficulty       6.951953  1.607391  0.008679  3  16.162484  -2.258577\n",
              "offer_reward           3.767608  0.957463  0.010428  3   9.253979  -1.718764\n",
              "offer_duration         3.376406  0.957187  0.012879  3   8.861195  -2.108382\n",
              "Male                   3.344184  2.300363  0.064053  3  16.525521  -9.837153\n",
              "reward                 1.312406  0.448571  0.018402  3   3.882767  -1.257955\n",
              "Female                 1.013403  1.332393  0.159194  3   8.648163  -6.621358\n",
              "social                 0.454156  0.196503  0.028555  3   1.580140  -0.671828\n",
              "discount               0.047031  0.254238  0.389518  3   1.503842  -1.409780\n",
              "bogo                   0.006032  0.137368  0.473147  3   0.793167  -0.781102\n",
              "mobile                -0.013164  0.081005  0.597604  3   0.451004  -0.477333\n",
              "web                   -0.140804  1.404616  0.560929  3   7.907802  -8.189411"
            ]
          },
          "execution_count": 99,
          "metadata": {},
          "output_type": "execute_result"
        }
      ],
      "source": [
        "feature_importance = predictor.feature_importance(test)\n",
        "feature_importance"
      ]
    },
    {
      "cell_type": "code",
      "execution_count": null,
      "metadata": {
        "id": "GQV957IBoVEZ",
        "outputId": "0a1933fe-8780-4934-a09e-4d7cea93f6cf"
      },
      "outputs": [
        {
          "data": {
            "text/plain": [
              "'WeightedEnsemble_L3'"
            ]
          },
          "execution_count": 100,
          "metadata": {},
          "output_type": "execute_result"
        }
      ],
      "source": [
        "predictor.get_model_best()"
      ]
    },
    {
      "cell_type": "markdown",
      "metadata": {
        "id": "K22R9pcfoVEZ"
      },
      "source": [
        "# Results:\n",
        "\n",
        "We can observe that the WeightedEnsemble model (that implements Ensemble Selection) is trained in the stack level 3 can predict our data at the best. A model with “_L3” suffix is a not base model, meaning it depends on other models.\n"
      ]
    },
    {
      "cell_type": "code",
      "execution_count": null,
      "metadata": {
        "id": "CocxG7dioVEa"
      },
      "outputs": [],
      "source": [
        ""
      ]
    }
  ],
  "metadata": {
    "colab": {
      "collapsed_sections": [],
      "name": "ClaimsKG.ipynb",
      "provenance": [],
      "include_colab_link": true
    },
    "kernelspec": {
      "display_name": "Python 3",
      "name": "python3"
    },
    "language_info": {
      "name": "python"
    }
  },
  "nbformat": 4,
  "nbformat_minor": 0
}